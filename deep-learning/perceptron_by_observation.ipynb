{
 "cells": [
  {
   "cell_type": "code",
   "execution_count": 1,
   "id": "438925c6",
   "metadata": {},
   "outputs": [],
   "source": [
    "import numpy as np\n",
    "class perceptron():\n",
    "    def __init__(self, X, y, threshold=0.5, learning_rate=0.1, max_epochs=10):\n",
    "        self.threshold = threshold\n",
    "        self.learning_rate = learning_rate\n",
    "        self.X = X\n",
    "        self.y = y\n",
    "        self.max_epochs = max_epochs"
   ]
  },
  {
   "cell_type": "markdown",
   "id": "2ff1d86f",
   "metadata": {},
   "source": [
    "Each observation ends up with a weight. The initialize function sets these weights for each new observation. One option sets the weights to 0 and another sets random weights between 0 and 0.05."
   ]
  },
  {
   "cell_type": "code",
   "execution_count": 2,
   "id": "7902d9ab",
   "metadata": {},
   "outputs": [],
   "source": [
    "def initialize(self, init_type = 'zeros'):\n",
    "    if init_type == 'random':\n",
    "        self.weights = np.random.rand(len(self.X[0])) * 0.05\n",
    "    if init_type == 'zeros':\n",
    "        self.weights = np.zeros(len(self.X[0]))"
   ]
  },
  {
   "cell_type": "code",
   "execution_count": 6,
   "id": "48709932",
   "metadata": {},
   "outputs": [],
   "source": [
    "def train(self):\n",
    "    epoch = 0\n",
    "    while True:\n",
    "        error_count = 0\n",
    "        epoch += 1\n",
    "        for (X,y) in zip(self.X, self.y):\n",
    "            error_count += self.train_observation(X,y,error_count)\n",
    "            if error_count == 0:\n",
    "                print(\"training successful\")\n",
    "                break\n",
    "            if epoch >= self.max_epochs:\n",
    "                print(\"reached maximum epochs, no perfect prediction\")\n",
    "                break"
   ]
  },
  {
   "cell_type": "code",
   "execution_count": null,
   "id": "bac58e08",
   "metadata": {},
   "outputs": [],
   "source": []
  }
 ],
 "metadata": {
  "kernelspec": {
   "display_name": "Python 3 (ipykernel)",
   "language": "python",
   "name": "python3"
  },
  "language_info": {
   "codemirror_mode": {
    "name": "ipython",
    "version": 3
   },
   "file_extension": ".py",
   "mimetype": "text/x-python",
   "name": "python",
   "nbconvert_exporter": "python",
   "pygments_lexer": "ipython3",
   "version": "3.10.11"
  }
 },
 "nbformat": 4,
 "nbformat_minor": 5
}
