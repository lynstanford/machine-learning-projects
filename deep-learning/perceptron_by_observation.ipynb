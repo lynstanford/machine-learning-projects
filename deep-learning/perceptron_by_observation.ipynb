{
 "cells": [
  {
   "cell_type": "code",
   "execution_count": null,
   "id": "1fa3a933",
   "metadata": {},
   "outputs": [],
   "source": [
    "import numpy as np\n",
    "class perceptron():\n",
    "    def __init__(self, X, y, threshold=0.5, learning_rate=0.1, max_epochs=10):\n",
    "        self.threshold = threshold\n",
    "        self.learning_rate = learning_rate\n",
    "        self.X = X\n",
    "        self.y = y\n",
    "        self.max_epochs = max_epochs"
   ]
  }
 ],
 "metadata": {
  "kernelspec": {
   "display_name": "Python 3 (ipykernel)",
   "language": "python",
   "name": "python3"
  },
  "language_info": {
   "codemirror_mode": {
    "name": "ipython",
    "version": 3
   },
   "file_extension": ".py",
   "mimetype": "text/x-python",
   "name": "python",
   "nbconvert_exporter": "python",
   "pygments_lexer": "ipython3",
   "version": "3.10.11"
  }
 },
 "nbformat": 4,
 "nbformat_minor": 5
}
