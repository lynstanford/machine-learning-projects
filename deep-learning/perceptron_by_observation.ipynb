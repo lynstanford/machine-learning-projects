{
 "cells": [
  {
   "cell_type": "code",
   "execution_count": 12,
   "id": "47c5a3d3",
   "metadata": {},
   "outputs": [],
   "source": [
    "import numpy as np\n",
    "class perceptron():\n",
    "    def __init__(self, X, y, threshold=0.5, learning_rate=0.1, max_epochs=10):\n",
    "        self.threshold = threshold\n",
    "        self.learning_rate = learning_rate\n",
    "        self.X = X\n",
    "        self.y = y\n",
    "        self.max_epochs = max_epochs"
   ]
  },
  {
   "cell_type": "markdown",
   "id": "c22a399d",
   "metadata": {},
   "source": [
    "Each observation ends up with a weight. The initialize function sets these weights for each new observation. One option sets the weights to 0 and another sets random weights between 0 and 0.05."
   ]
  },
  {
   "cell_type": "code",
   "execution_count": 13,
   "id": "b28a1e26",
   "metadata": {},
   "outputs": [],
   "source": [
    "def initialize(self, init_type = 'zeros'):\n",
    "    if init_type == 'random':\n",
    "        self.weights = np.random.rand(len(self.X[0])) * 0.05\n",
    "    if init_type == 'zeros':\n",
    "        self.weights = np.zeros(len(self.X[0]))"
   ]
  },
  {
   "cell_type": "code",
   "execution_count": 14,
   "id": "1523602f",
   "metadata": {},
   "outputs": [],
   "source": [
    "def train(self):\n",
    "    epoch = 0\n",
    "    while True:\n",
    "        error_count = 0\n",
    "        epoch += 1\n",
    "        for (X,y) in zip(self.X, self.y):\n",
    "            error_count += self.train_observation(X,y,error_count)\n",
    "        if error_count == 0:\n",
    "            print(\"training successfull\")\n",
    "            break\n",
    "        if epoch >= self.max_epochs:\n",
    "            print(\"reached maximum epochs, no perfect prediction\")\n",
    "            break"
   ]
  },
  {
   "cell_type": "code",
   "execution_count": 15,
   "id": "06f8749b",
   "metadata": {},
   "outputs": [],
   "source": [
    "def train_observation(self, X, y, error_count):\n",
    "    result = np.dot(X, self.weights) > self.threshold\n",
    "    error = y - result\n",
    "    if error != 0:\n",
    "        error += 1\n",
    "        for index, value in enumerate(X):\n",
    "            self.weights[index] += self.learning_rate * error * value\n",
    "    return error_count"
   ]
  },
  {
   "cell_type": "code",
   "execution_count": 16,
   "id": "4cea6850",
   "metadata": {},
   "outputs": [],
   "source": [
    "def predict(self, X):\n",
    "    return int(np.dot(X, self.weights) > self.threshold)"
   ]
  },
  {
   "cell_type": "code",
   "execution_count": 17,
   "id": "c9dd4f97",
   "metadata": {},
   "outputs": [],
   "source": [
    "X = [(1,0,0),(1,1,0),(1,1,1),(1,1,1),(1,0,1),(1,0,1)]\n",
    "y = [1,1,0,0,1,1]"
   ]
  },
  {
   "cell_type": "code",
   "execution_count": 18,
   "id": "11a960ea",
   "metadata": {},
   "outputs": [
    {
     "ename": "AttributeError",
     "evalue": "'perceptron' object has no attribute 'initialize'",
     "output_type": "error",
     "traceback": [
      "\u001b[1;31m---------------------------------------------------------------------------\u001b[0m",
      "\u001b[1;31mAttributeError\u001b[0m                            Traceback (most recent call last)",
      "Cell \u001b[1;32mIn[18], line 2\u001b[0m\n\u001b[0;32m      1\u001b[0m p \u001b[38;5;241m=\u001b[39m perceptron(X,y)\n\u001b[1;32m----> 2\u001b[0m \u001b[43mp\u001b[49m\u001b[38;5;241;43m.\u001b[39;49m\u001b[43minitialize\u001b[49m()\n\u001b[0;32m      3\u001b[0m p\u001b[38;5;241m.\u001b[39mtrain()\n\u001b[0;32m      5\u001b[0m \u001b[38;5;28mprint\u001b[39m(p\u001b[38;5;241m.\u001b[39mpredict((\u001b[38;5;241m1\u001b[39m,\u001b[38;5;241m1\u001b[39m,\u001b[38;5;241m1\u001b[39m)))\n",
      "\u001b[1;31mAttributeError\u001b[0m: 'perceptron' object has no attribute 'initialize'"
     ]
    }
   ],
   "source": [
    "p = perceptron(X,y)\n",
    "p.initialize()\n",
    "p.train()\n",
    "\n",
    "print(p.predict((1,1,1)))\n",
    "print(p.predict((1,0,1)))"
   ]
  },
  {
   "cell_type": "code",
   "execution_count": null,
   "id": "bb505cff",
   "metadata": {},
   "outputs": [],
   "source": [
    "def train_observation(self, X, y, error_count):\n",
    "    result = np.dot(X, self.weights) > self.threshold\n",
    "    error = y - result\n",
    "    if error != 0:\n",
    "        error_count += 1\n",
    "        for index, value in enumerate(X):\n",
    "            self.weights[index]+=self.learning_rate * error * value\n",
    "    return error_count"
   ]
  },
  {
   "cell_type": "code",
   "execution_count": null,
   "id": "1de88ac2",
   "metadata": {},
   "outputs": [],
   "source": [
    "result = np.dot(X, self.weights) > self.threshold\n",
    "error = y - result"
   ]
  },
  {
   "cell_type": "code",
   "execution_count": null,
   "id": "a9951cc4",
   "metadata": {},
   "outputs": [],
   "source": [
    "if error != 0:\n",
    "    error_count += 1\n",
    "    for index, value in enumerate(X):\n",
    "        self.weights[index] += self.learning_rate * error * value"
   ]
  },
  {
   "cell_type": "code",
   "execution_count": null,
   "id": "911224e6",
   "metadata": {},
   "outputs": [],
   "source": [
    "def train(self):\n",
    "    epoch = 0\n",
    "    while True:\n",
    "        error_count = 0\n",
    "        epoch += 1\n",
    "        for (X,y) in zip(self.X, self.y):\n",
    "            error_count += self.train_observation(X,y,error_count)\n",
    "        if error_count == 0:\n",
    "            print(\"training successfull\")\n",
    "            break\n",
    "        if epoch >= self.max_epochs:\n",
    "            print(\"reached maximum epochs, no perfect prediction\")\n",
    "            break"
   ]
  }
 ],
 "metadata": {
  "kernelspec": {
   "display_name": "Python 3 (ipykernel)",
   "language": "python",
   "name": "python3"
  },
  "language_info": {
   "codemirror_mode": {
    "name": "ipython",
    "version": 3
   },
   "file_extension": ".py",
   "mimetype": "text/x-python",
   "name": "python",
   "nbconvert_exporter": "python",
   "pygments_lexer": "ipython3",
   "version": "3.10.11"
  }
 },
 "nbformat": 4,
 "nbformat_minor": 5
}
