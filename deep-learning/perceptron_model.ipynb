{
 "cells": [
  {
   "cell_type": "markdown",
   "id": "5be909b1",
   "metadata": {},
   "source": [
    "# A Classifier Model Using the Perceptron Learning Rule"
   ]
  },
  {
   "cell_type": "code",
   "execution_count": null,
   "id": "c70e6dfb",
   "metadata": {},
   "outputs": [],
   "source": [
    "import numpy as np\n",
    "import pandas as pd\n",
    "from sklearn.datasets import load_iris\n",
    "from sklearn.linear_model import Perceptron"
   ]
  },
  {
   "cell_type": "code",
   "execution_count": null,
   "id": "a002991b",
   "metadata": {},
   "outputs": [],
   "source": [
    "# load the data from sklearn iris dataset\n",
    "iris = load_iris()\n",
    "# define matrix of independent values X\n",
    "X = iris.data[:, (2,3)]\n",
    "# define vector of dependent target values y\n",
    "y = (iris.target == 0).astype(int)"
   ]
  },
  {
   "cell_type": "code",
   "execution_count": null,
   "id": "6435ebde",
   "metadata": {},
   "outputs": [],
   "source": [
    "per_clf = Perceptron()\n",
    "per_clf.fit(X, y)"
   ]
  },
  {
   "cell_type": "code",
   "execution_count": null,
   "id": "c1336f47",
   "metadata": {},
   "outputs": [],
   "source": [
    "# predict an output based on any X and y values\n",
    "y_pred = per_clf.predict([[2, 0.5]])\n",
    "print(y_pred)"
   ]
  },
  {
   "cell_type": "code",
   "execution_count": null,
   "id": "bda2db77",
   "metadata": {},
   "outputs": [],
   "source": []
  }
 ],
 "metadata": {
  "kernelspec": {
   "display_name": "Python 3 (ipykernel)",
   "language": "python",
   "name": "python3"
  },
  "language_info": {
   "codemirror_mode": {
    "name": "ipython",
    "version": 3
   },
   "file_extension": ".py",
   "mimetype": "text/x-python",
   "name": "python",
   "nbconvert_exporter": "python",
   "pygments_lexer": "ipython3",
   "version": "3.10.9"
  }
 },
 "nbformat": 4,
 "nbformat_minor": 5
}
