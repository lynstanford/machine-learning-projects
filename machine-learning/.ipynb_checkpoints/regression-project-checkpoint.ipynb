{
 "cells": [
  {
   "cell_type": "code",
   "execution_count": 1,
   "metadata": {},
   "outputs": [
    {
     "name": "stdout",
     "output_type": "stream",
     "text": [
      "yfinance.Ticker object <BTC-CAD>\n"
     ]
    }
   ],
   "source": [
    "import yfinance as yf\n",
    "\n",
    "btc_cad = yf.Ticker(\"BTC-CAD\")\n",
    "print(btc_cad)"
   ]
  },
  {
   "cell_type": "markdown",
   "metadata": {},
   "source": [
    "Each column represents a different feature, for example 'High', 'Low' and 'Close' prices are all features. These features are also known as attributes, input, or predictor variables which can be used to ascertain a stock price prediction (called labels, output, or target variables)."
   ]
  },
  {
   "cell_type": "code",
   "execution_count": 2,
   "metadata": {},
   "outputs": [
    {
     "data": {
      "text/plain": [
       "{'companyOfficers': [],\n",
       " 'name': 'Bitcoin',\n",
       " 'startDate': 1367107200,\n",
       " 'description': 'Bitcoin (BTC) is a cryptocurrency . Users are able to generate BTC through the process of mining. Bitcoin has a current supply of 18,684,900. The last known price of Bitcoin is 61,127.78652456 USD and is up 0.56 over the last 24 hours. It is currently trading on 9604 active market(s) with $73,314,704,534.10 traded over the last 24 hours. More information can be found at https://bitcoin.org/.',\n",
       " 'maxAge': 1,\n",
       " 'previousClose': 75507.93,\n",
       " 'regularMarketOpen': 75507.93,\n",
       " 'twoHundredDayAverage': 42404.85,\n",
       " 'trailingAnnualDividendYield': None,\n",
       " 'payoutRatio': None,\n",
       " 'volume24Hr': 83728179200,\n",
       " 'regularMarketDayHigh': 76276.93,\n",
       " 'navPrice': None,\n",
       " 'averageDailyVolume10Day': 78321687144,\n",
       " 'totalAssets': None,\n",
       " 'regularMarketPreviousClose': 75507.93,\n",
       " 'fiftyDayAverage': 70355.07,\n",
       " 'trailingAnnualDividendRate': None,\n",
       " 'open': 75507.93,\n",
       " 'toCurrency': 'CAD=X',\n",
       " 'averageVolume10days': 78321687144,\n",
       " 'expireDate': None,\n",
       " 'yield': None,\n",
       " 'algorithm': None,\n",
       " 'dividendRate': None,\n",
       " 'exDividendDate': None,\n",
       " 'beta': None,\n",
       " 'circulatingSupply': 18685106,\n",
       " 'regularMarketDayLow': 74932.3,\n",
       " 'priceHint': 2,\n",
       " 'currency': 'CAD',\n",
       " 'regularMarketVolume': 83728179200,\n",
       " 'lastMarket': 'CoinMarketCap',\n",
       " 'maxSupply': None,\n",
       " 'openInterest': None,\n",
       " 'marketCap': 1404931276800,\n",
       " 'volumeAllCurrencies': 83728179200,\n",
       " 'strikePrice': None,\n",
       " 'averageVolume': 82944269884,\n",
       " 'priceToSalesTrailing12Months': None,\n",
       " 'dayLow': 74932.3,\n",
       " 'ask': None,\n",
       " 'ytdReturn': None,\n",
       " 'askSize': None,\n",
       " 'volume': 83728179200,\n",
       " 'fiftyTwoWeekHigh': 81445.67,\n",
       " 'forwardPE': None,\n",
       " 'fromCurrency': 'BTC',\n",
       " 'fiveYearAvgDividendYield': None,\n",
       " 'fiftyTwoWeekLow': 9658.074,\n",
       " 'bid': None,\n",
       " 'tradeable': False,\n",
       " 'dividendYield': None,\n",
       " 'bidSize': None,\n",
       " 'dayHigh': 76276.93,\n",
       " 'exchange': 'CCC',\n",
       " 'shortName': 'Bitcoin CAD',\n",
       " 'exchangeTimezoneName': 'Europe/London',\n",
       " 'exchangeTimezoneShortName': 'BST',\n",
       " 'isEsgPopulated': False,\n",
       " 'gmtOffSetMilliseconds': '3600000',\n",
       " 'quoteType': 'CRYPTOCURRENCY',\n",
       " 'symbol': 'BTC-CAD',\n",
       " 'messageBoardId': 'finmb_BTC_CCC',\n",
       " 'market': 'ccc_market',\n",
       " 'regularMarketPrice': 75189.91,\n",
       " 'logo_url': ''}"
      ]
     },
     "execution_count": 2,
     "metadata": {},
     "output_type": "execute_result"
    }
   ],
   "source": [
    "# get stock info\n",
    "btc_cad.info"
   ]
  },
  {
   "cell_type": "markdown",
   "metadata": {},
   "source": [
    "Retrieve historical market data"
   ]
  },
  {
   "cell_type": "code",
   "execution_count": 3,
   "metadata": {},
   "outputs": [
    {
     "data": {
      "text/html": [
       "<div>\n",
       "<style scoped>\n",
       "    .dataframe tbody tr th:only-of-type {\n",
       "        vertical-align: middle;\n",
       "    }\n",
       "\n",
       "    .dataframe tbody tr th {\n",
       "        vertical-align: top;\n",
       "    }\n",
       "\n",
       "    .dataframe thead th {\n",
       "        text-align: right;\n",
       "    }\n",
       "</style>\n",
       "<table border=\"1\" class=\"dataframe\">\n",
       "  <thead>\n",
       "    <tr style=\"text-align: right;\">\n",
       "      <th></th>\n",
       "      <th>Open</th>\n",
       "      <th>High</th>\n",
       "      <th>Low</th>\n",
       "      <th>Close</th>\n",
       "      <th>Volume</th>\n",
       "      <th>Dividends</th>\n",
       "      <th>Stock Splits</th>\n",
       "    </tr>\n",
       "    <tr>\n",
       "      <th>Date</th>\n",
       "      <th></th>\n",
       "      <th></th>\n",
       "      <th></th>\n",
       "      <th></th>\n",
       "      <th></th>\n",
       "      <th></th>\n",
       "      <th></th>\n",
       "    </tr>\n",
       "  </thead>\n",
       "  <tbody>\n",
       "    <tr>\n",
       "      <th>2019-09-18</th>\n",
       "      <td>13570.838867</td>\n",
       "      <td>13664.313477</td>\n",
       "      <td>13552.004883</td>\n",
       "      <td>13561.018555</td>\n",
       "      <td>21500923601</td>\n",
       "      <td>0</td>\n",
       "      <td>0</td>\n",
       "    </tr>\n",
       "    <tr>\n",
       "      <th>2019-09-19</th>\n",
       "      <td>13564.007812</td>\n",
       "      <td>13649.998047</td>\n",
       "      <td>13061.373047</td>\n",
       "      <td>13611.212891</td>\n",
       "      <td>26433391055</td>\n",
       "      <td>0</td>\n",
       "      <td>0</td>\n",
       "    </tr>\n",
       "    <tr>\n",
       "      <th>2019-09-20</th>\n",
       "      <td>13611.084961</td>\n",
       "      <td>13642.738281</td>\n",
       "      <td>13438.896484</td>\n",
       "      <td>13504.491211</td>\n",
       "      <td>19542795567</td>\n",
       "      <td>0</td>\n",
       "      <td>0</td>\n",
       "    </tr>\n",
       "    <tr>\n",
       "      <th>2019-09-21</th>\n",
       "      <td>13507.153320</td>\n",
       "      <td>13513.054688</td>\n",
       "      <td>13264.508789</td>\n",
       "      <td>13289.721680</td>\n",
       "      <td>17806696605</td>\n",
       "      <td>0</td>\n",
       "      <td>0</td>\n",
       "    </tr>\n",
       "    <tr>\n",
       "      <th>2019-09-22</th>\n",
       "      <td>13295.555664</td>\n",
       "      <td>13368.072266</td>\n",
       "      <td>13166.497070</td>\n",
       "      <td>13362.695312</td>\n",
       "      <td>17515000629</td>\n",
       "      <td>0</td>\n",
       "      <td>0</td>\n",
       "    </tr>\n",
       "    <tr>\n",
       "      <th>...</th>\n",
       "      <td>...</td>\n",
       "      <td>...</td>\n",
       "      <td>...</td>\n",
       "      <td>...</td>\n",
       "      <td>...</td>\n",
       "      <td>...</td>\n",
       "      <td>...</td>\n",
       "    </tr>\n",
       "    <tr>\n",
       "      <th>2021-04-13</th>\n",
       "      <td>75239.109375</td>\n",
       "      <td>79895.726562</td>\n",
       "      <td>75245.156250</td>\n",
       "      <td>79598.406250</td>\n",
       "      <td>87720760870</td>\n",
       "      <td>0</td>\n",
       "      <td>0</td>\n",
       "    </tr>\n",
       "    <tr>\n",
       "      <th>2021-04-14</th>\n",
       "      <td>79623.851562</td>\n",
       "      <td>81445.671875</td>\n",
       "      <td>77085.687500</td>\n",
       "      <td>78995.984375</td>\n",
       "      <td>96948328929</td>\n",
       "      <td>0</td>\n",
       "      <td>0</td>\n",
       "    </tr>\n",
       "    <tr>\n",
       "      <th>2021-04-15</th>\n",
       "      <td>78952.796875</td>\n",
       "      <td>80052.289062</td>\n",
       "      <td>77726.054688</td>\n",
       "      <td>79437.875000</td>\n",
       "      <td>76477329164</td>\n",
       "      <td>0</td>\n",
       "      <td>0</td>\n",
       "    </tr>\n",
       "    <tr>\n",
       "      <th>2021-04-16</th>\n",
       "      <td>79368.234375</td>\n",
       "      <td>79831.468750</td>\n",
       "      <td>75262.203125</td>\n",
       "      <td>77018.320312</td>\n",
       "      <td>105437908391</td>\n",
       "      <td>0</td>\n",
       "      <td>0</td>\n",
       "    </tr>\n",
       "    <tr>\n",
       "      <th>2021-04-18</th>\n",
       "      <td>75507.929688</td>\n",
       "      <td>76276.929688</td>\n",
       "      <td>74932.296875</td>\n",
       "      <td>75160.179688</td>\n",
       "      <td>83550224384</td>\n",
       "      <td>0</td>\n",
       "      <td>0</td>\n",
       "    </tr>\n",
       "  </tbody>\n",
       "</table>\n",
       "<p>574 rows × 7 columns</p>\n",
       "</div>"
      ],
      "text/plain": [
       "                    Open          High           Low         Close  \\\n",
       "Date                                                                 \n",
       "2019-09-18  13570.838867  13664.313477  13552.004883  13561.018555   \n",
       "2019-09-19  13564.007812  13649.998047  13061.373047  13611.212891   \n",
       "2019-09-20  13611.084961  13642.738281  13438.896484  13504.491211   \n",
       "2019-09-21  13507.153320  13513.054688  13264.508789  13289.721680   \n",
       "2019-09-22  13295.555664  13368.072266  13166.497070  13362.695312   \n",
       "...                  ...           ...           ...           ...   \n",
       "2021-04-13  75239.109375  79895.726562  75245.156250  79598.406250   \n",
       "2021-04-14  79623.851562  81445.671875  77085.687500  78995.984375   \n",
       "2021-04-15  78952.796875  80052.289062  77726.054688  79437.875000   \n",
       "2021-04-16  79368.234375  79831.468750  75262.203125  77018.320312   \n",
       "2021-04-18  75507.929688  76276.929688  74932.296875  75160.179688   \n",
       "\n",
       "                  Volume  Dividends  Stock Splits  \n",
       "Date                                               \n",
       "2019-09-18   21500923601          0             0  \n",
       "2019-09-19   26433391055          0             0  \n",
       "2019-09-20   19542795567          0             0  \n",
       "2019-09-21   17806696605          0             0  \n",
       "2019-09-22   17515000629          0             0  \n",
       "...                  ...        ...           ...  \n",
       "2021-04-13   87720760870          0             0  \n",
       "2021-04-14   96948328929          0             0  \n",
       "2021-04-15   76477329164          0             0  \n",
       "2021-04-16  105437908391          0             0  \n",
       "2021-04-18   83550224384          0             0  \n",
       "\n",
       "[574 rows x 7 columns]"
      ]
     },
     "execution_count": 3,
     "metadata": {},
     "output_type": "execute_result"
    }
   ],
   "source": [
    "# get historical market data, here max is set to 1 year and 7 months.\n",
    "btc_cad.history(period=\"max\")"
   ]
  },
  {
   "cell_type": "markdown",
   "metadata": {},
   "source": [
    "There isn't much data to work from, but I would like to create a dataframe object from the price data and try and use it to forecast future price information.\n",
    "# Import Libraries\n",
    "The bulk of the libraries I will use are as follows. This may change as I progress."
   ]
  },
  {
   "cell_type": "code",
   "execution_count": 4,
   "metadata": {},
   "outputs": [],
   "source": [
    "import numpy as np\n",
    "import pandas as pd\n",
    "from sklearn import linear_model\n",
    "from sklearn import preprocessing, svm\n",
    "from sklearn.linear_model import LinearRegression\n",
    "from sklearn.model_selection import cross_val_score\n",
    "from sklearn.model_selection import cross_validate"
   ]
  },
  {
   "cell_type": "markdown",
   "metadata": {},
   "source": [
    "Creating a dataframe to work from:"
   ]
  },
  {
   "cell_type": "code",
   "execution_count": 5,
   "metadata": {},
   "outputs": [
    {
     "name": "stdout",
     "output_type": "stream",
     "text": [
      "                    Open          High           Low         Close  \\\n",
      "Date                                                                 \n",
      "2019-09-18  13570.838867  13664.313477  13552.004883  13561.018555   \n",
      "2019-09-19  13564.007812  13649.998047  13061.373047  13611.212891   \n",
      "2019-09-20  13611.084961  13642.738281  13438.896484  13504.491211   \n",
      "2019-09-21  13507.153320  13513.054688  13264.508789  13289.721680   \n",
      "2019-09-22  13295.555664  13368.072266  13166.497070  13362.695312   \n",
      "\n",
      "                 Volume  Dividends  Stock Splits  \n",
      "Date                                              \n",
      "2019-09-18  21500923601          0             0  \n",
      "2019-09-19  26433391055          0             0  \n",
      "2019-09-20  19542795567          0             0  \n",
      "2019-09-21  17806696605          0             0  \n",
      "2019-09-22  17515000629          0             0  \n"
     ]
    }
   ],
   "source": [
    "df = btc_cad.history(period=\"max\")\n",
    "print(df.head())"
   ]
  },
  {
   "cell_type": "markdown",
   "metadata": {},
   "source": [
    "And now the tail of the dataframe."
   ]
  },
  {
   "cell_type": "code",
   "execution_count": 6,
   "metadata": {},
   "outputs": [
    {
     "name": "stdout",
     "output_type": "stream",
     "text": [
      "                    Open          High           Low         Close  \\\n",
      "Date                                                                 \n",
      "2021-04-13  75239.109375  79895.726562  75245.156250  79598.406250   \n",
      "2021-04-14  79623.851562  81445.671875  77085.687500  78995.984375   \n",
      "2021-04-15  78952.796875  80052.289062  77726.054688  79437.875000   \n",
      "2021-04-16  79368.234375  79831.468750  75262.203125  77018.320312   \n",
      "2021-04-18  75507.929688  76276.929688  74593.062500  74750.195312   \n",
      "\n",
      "                  Volume  Dividends  Stock Splits  \n",
      "Date                                               \n",
      "2021-04-13   87720760870          0             0  \n",
      "2021-04-14   96948328929          0             0  \n",
      "2021-04-15   76477329164          0             0  \n",
      "2021-04-16  105437908391          0             0  \n",
      "2021-04-18   83554074624          0             0  \n"
     ]
    }
   ],
   "source": [
    "print(df.tail())"
   ]
  },
  {
   "cell_type": "markdown",
   "metadata": {},
   "source": [
    "Next..."
   ]
  }
 ],
 "metadata": {
  "kernelspec": {
   "display_name": "Python 3",
   "language": "python",
   "name": "python3"
  },
  "language_info": {
   "codemirror_mode": {
    "name": "ipython",
    "version": 3
   },
   "file_extension": ".py",
   "mimetype": "text/x-python",
   "name": "python",
   "nbconvert_exporter": "python",
   "pygments_lexer": "ipython3",
   "version": "3.8.5"
  }
 },
 "nbformat": 4,
 "nbformat_minor": 4
}
