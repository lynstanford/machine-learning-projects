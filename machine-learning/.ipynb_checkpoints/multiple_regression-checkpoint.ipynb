{
 "cells": [
  {
   "cell_type": "markdown",
   "id": "979b9bb6",
   "metadata": {},
   "source": [
    "# Multiple Linear Regression of Cryptocurrency\n",
    "The following model I have developed to demonstrate how to extract, transform and load data into a pipeline to solve a Multiple Regression problem. I aim to forecast Bitcoin (C$) prices by extrapolating historical data, training, testing and validating the model before evaluating its accuracy using a benchmark score.\n",
    "\n",
    "I am looking to predict the closing price (dependent variable) based on its relationship with other intraday price and volume information (independent variables).\n",
    "\n",
    "## Performance Measure Selection\n",
    "For the purpose of a multiple regression model I am selecting the Root Mean Square Error (RMSE) to measure the overall degree of error when making my predictions. This will act as a measure of the 'Loss', or 'Cost' function and will help assess the degree of variability associated between my target and predictor variables.\n",
    "\n",
    "\n",
    "$$ RMSE(X,h)=\\sqrt {\\frac{1}{m} \\sum_{i=1}^{m}(h(x^ {i})-y^ {i})^2} $$\n",
    "\n",
    "\n"
   ]
  },
  {
   "cell_type": "code",
   "execution_count": 1,
   "id": "9685740b",
   "metadata": {},
   "outputs": [],
   "source": [
    "import pandas as pd\n",
    "import numpy as np\n",
    "import os\n",
    "import tarfile\n",
    "import urllib3\n",
    "\n",
    "DOWNLOAD_URL = \"https://ca.finance.yahoo.com/quote/BTC-CAD/history?p=BTC-CAD\"\n",
    "BITCOIN_PATH = os.path.join(\"C:/Users/lynst/Documents/GitHub/machine-learning-projects/machine-learning/BTC_CAD.csv\")\n",
    "BITCOIN_URL = DOWNLOAD_URL + \"C:/Users/lynst/Documents/GitHub/machine-learning-projects/machine-learning/BTC_CAD.csv\""
   ]
  },
  {
   "cell_type": "markdown",
   "id": "b80f2d70",
   "metadata": {},
   "source": [
    "The uniform resource locater for the downloaded dataset can be changed according to any Ticker symbol listed in Yahoo Finance. The path to extract the data to can be stored in a separate variable which can then be joined to the download URL and stored in yet another container. This just makes it a little easier to reference an object for compression-decompression 'tarfiles' which may save processing time and reduce latency."
   ]
  },
  {
   "cell_type": "code",
   "execution_count": 2,
   "id": "5db83f2e",
   "metadata": {},
   "outputs": [],
   "source": [
    "def fetch_bitcoin_data(bitcoin_url=BITCOIN_URL, bitcoin_path=BITCOIN_PATH):\n",
    "    os.makedirs(bitcoin_path, exist_ok=True)\n",
    "    tgz_path = os.path.join(bitcoin_path)\n",
    "    urllib3.request.urlretrieve(bitcoin_url, tgz_path)\n",
    "    bitcoin_tgz = tarfile.open(tgz_path)\n",
    "    bitcoin_tgz.extract_all(path=bitcoin_path)\n",
    "    bitcoin_tgz.close()\n",
    "\n",
    "def load_bitcoin_data(bitcoin_path=BITCOIN_PATH):\n",
    "    csv_path = os.path.join(bitcoin_path)\n",
    "    return pd.read_csv(csv_path)"
   ]
  },
  {
   "cell_type": "markdown",
   "id": "c4af0da0",
   "metadata": {},
   "source": [
    "This works for large files which need compressing but an easier alternative for smaller file sizes (maybe less than 10,000 entries) would be to extract the dataset's URL, parse the data in CSV format and then store it as a dataframe variable using Pandas:"
   ]
  },
  {
   "cell_type": "code",
   "execution_count": 3,
   "id": "96f148c9",
   "metadata": {},
   "outputs": [
    {
     "data": {
      "text/plain": [
       "'\\n# import data\\nbitcoin_path = \"https://ca.finance.yahoo.com/quote/BTC-CAD/history?p=BTC-CAD\"\\n\\n# read data into csv chosen format\\nbitcoin = pd.read_csv(\"C:/Users/lynst/Documents/GitHub/machine-learning-projects/machine-learning/BTC_CAD.csv\")\\n\\n#load data into dataframe\\ndf = pd.DataFrame(bitcoin).dropna(axis=0)\\n'"
      ]
     },
     "execution_count": 3,
     "metadata": {},
     "output_type": "execute_result"
    }
   ],
   "source": [
    "'''\n",
    "# import data\n",
    "bitcoin_path = \"https://ca.finance.yahoo.com/quote/BTC-CAD/history?p=BTC-CAD\"\n",
    "\n",
    "# read data into csv chosen format\n",
    "bitcoin = pd.read_csv(\"C:/Users/lynst/Documents/GitHub/machine-learning-projects/machine-learning/BTC_CAD.csv\")\n",
    "\n",
    "#load data into dataframe\n",
    "df = pd.DataFrame(bitcoin).dropna(axis=0)\n",
    "'''"
   ]
  },
  {
   "cell_type": "markdown",
   "id": "0c7cd7e1",
   "metadata": {},
   "source": [
    "Start by loading the Canadian denominated Bitcoin data below."
   ]
  },
  {
   "cell_type": "code",
   "execution_count": 4,
   "id": "a37c2f91",
   "metadata": {},
   "outputs": [],
   "source": [
    "btc_cad = load_bitcoin_data()"
   ]
  },
  {
   "cell_type": "markdown",
   "id": "fd736edf",
   "metadata": {},
   "source": [
    "Each column represents a different feature all of which are listed below. These features are also known as 'attributes', 'input', or 'predictor' variables which can be used to ascertain a stock price prediction (called 'label', 'output', or 'target' variables). Just to be clear, once a 'target' variable is chosen for output, we now have a whole columnal vector containing elements or values for that particular feature which can be used in the linear regression model. These values are used as 'labeled' data.\n",
    "\n",
    "### Statistical Summary\n",
    "A brief look at the overall statistics."
   ]
  },
  {
   "cell_type": "code",
   "execution_count": 5,
   "id": "e7fa5a99",
   "metadata": {},
   "outputs": [
    {
     "name": "stdout",
     "output_type": "stream",
     "text": [
      "<class 'pandas.core.frame.DataFrame'>\n",
      "RangeIndex: 366 entries, 0 to 365\n",
      "Data columns (total 7 columns):\n",
      " #   Column     Non-Null Count  Dtype  \n",
      "---  ------     --------------  -----  \n",
      " 0   Date       366 non-null    object \n",
      " 1   Open       362 non-null    float64\n",
      " 2   High       362 non-null    float64\n",
      " 3   Low        362 non-null    float64\n",
      " 4   Close      362 non-null    float64\n",
      " 5   Adj Close  362 non-null    float64\n",
      " 6   Volume     362 non-null    float64\n",
      "dtypes: float64(6), object(1)\n",
      "memory usage: 20.1+ KB\n",
      "None\n"
     ]
    }
   ],
   "source": [
    "# get stock info\n",
    "print(btc_cad.info())"
   ]
  },
  {
   "cell_type": "markdown",
   "id": "9535532d",
   "metadata": {},
   "source": [
    "Just to clarify, all the columns in this table contain float variables except for the 'Date' column which contains string objects.\n",
    "\n",
    "## Data Preprocessing\n",
    "### Data Distribution\n",
    "Using the describe() method to view summary statistics helps define the average values or range of data involved in this dataset, as well as a measure of dispersion about its mean."
   ]
  },
  {
   "cell_type": "code",
   "execution_count": 6,
   "id": "c96e1aa1",
   "metadata": {},
   "outputs": [
    {
     "data": {
      "text/html": [
       "<div>\n",
       "<style scoped>\n",
       "    .dataframe tbody tr th:only-of-type {\n",
       "        vertical-align: middle;\n",
       "    }\n",
       "\n",
       "    .dataframe tbody tr th {\n",
       "        vertical-align: top;\n",
       "    }\n",
       "\n",
       "    .dataframe thead th {\n",
       "        text-align: right;\n",
       "    }\n",
       "</style>\n",
       "<table border=\"1\" class=\"dataframe\">\n",
       "  <thead>\n",
       "    <tr style=\"text-align: right;\">\n",
       "      <th></th>\n",
       "      <th>Open</th>\n",
       "      <th>High</th>\n",
       "      <th>Low</th>\n",
       "      <th>Close</th>\n",
       "      <th>Adj Close</th>\n",
       "      <th>Volume</th>\n",
       "    </tr>\n",
       "  </thead>\n",
       "  <tbody>\n",
       "    <tr>\n",
       "      <th>count</th>\n",
       "      <td>362.000000</td>\n",
       "      <td>362.000000</td>\n",
       "      <td>362.000000</td>\n",
       "      <td>362.000000</td>\n",
       "      <td>362.000000</td>\n",
       "      <td>3.620000e+02</td>\n",
       "    </tr>\n",
       "    <tr>\n",
       "      <th>mean</th>\n",
       "      <td>29707.219227</td>\n",
       "      <td>30555.675387</td>\n",
       "      <td>28874.214006</td>\n",
       "      <td>29864.750829</td>\n",
       "      <td>29864.750829</td>\n",
       "      <td>5.364938e+10</td>\n",
       "    </tr>\n",
       "    <tr>\n",
       "      <th>std</th>\n",
       "      <td>21773.553828</td>\n",
       "      <td>22482.286402</td>\n",
       "      <td>20992.768212</td>\n",
       "      <td>21845.825531</td>\n",
       "      <td>21845.825531</td>\n",
       "      <td>3.297456e+10</td>\n",
       "    </tr>\n",
       "    <tr>\n",
       "      <th>min</th>\n",
       "      <td>9718.070000</td>\n",
       "      <td>9838.330000</td>\n",
       "      <td>9728.250000</td>\n",
       "      <td>9763.940000</td>\n",
       "      <td>9763.940000</td>\n",
       "      <td>1.663903e+10</td>\n",
       "    </tr>\n",
       "    <tr>\n",
       "      <th>25%</th>\n",
       "      <td>13373.917500</td>\n",
       "      <td>13684.485000</td>\n",
       "      <td>13056.075000</td>\n",
       "      <td>13421.037500</td>\n",
       "      <td>13421.037500</td>\n",
       "      <td>3.142625e+10</td>\n",
       "    </tr>\n",
       "    <tr>\n",
       "      <th>50%</th>\n",
       "      <td>16520.155000</td>\n",
       "      <td>17169.830000</td>\n",
       "      <td>16253.260000</td>\n",
       "      <td>16921.560000</td>\n",
       "      <td>16921.560000</td>\n",
       "      <td>4.716901e+10</td>\n",
       "    </tr>\n",
       "    <tr>\n",
       "      <th>75%</th>\n",
       "      <td>44679.117500</td>\n",
       "      <td>46686.912500</td>\n",
       "      <td>41998.325000</td>\n",
       "      <td>45279.530000</td>\n",
       "      <td>45279.530000</td>\n",
       "      <td>6.929678e+10</td>\n",
       "    </tr>\n",
       "    <tr>\n",
       "      <th>max</th>\n",
       "      <td>79623.850000</td>\n",
       "      <td>81445.670000</td>\n",
       "      <td>77726.050000</td>\n",
       "      <td>79598.410000</td>\n",
       "      <td>79598.410000</td>\n",
       "      <td>4.470000e+11</td>\n",
       "    </tr>\n",
       "  </tbody>\n",
       "</table>\n",
       "</div>"
      ],
      "text/plain": [
       "               Open          High           Low         Close     Adj Close  \\\n",
       "count    362.000000    362.000000    362.000000    362.000000    362.000000   \n",
       "mean   29707.219227  30555.675387  28874.214006  29864.750829  29864.750829   \n",
       "std    21773.553828  22482.286402  20992.768212  21845.825531  21845.825531   \n",
       "min     9718.070000   9838.330000   9728.250000   9763.940000   9763.940000   \n",
       "25%    13373.917500  13684.485000  13056.075000  13421.037500  13421.037500   \n",
       "50%    16520.155000  17169.830000  16253.260000  16921.560000  16921.560000   \n",
       "75%    44679.117500  46686.912500  41998.325000  45279.530000  45279.530000   \n",
       "max    79623.850000  81445.670000  77726.050000  79598.410000  79598.410000   \n",
       "\n",
       "             Volume  \n",
       "count  3.620000e+02  \n",
       "mean   5.364938e+10  \n",
       "std    3.297456e+10  \n",
       "min    1.663903e+10  \n",
       "25%    3.142625e+10  \n",
       "50%    4.716901e+10  \n",
       "75%    6.929678e+10  \n",
       "max    4.470000e+11  "
      ]
     },
     "execution_count": 6,
     "metadata": {},
     "output_type": "execute_result"
    }
   ],
   "source": [
    "btc_cad.describe()"
   ]
  },
  {
   "cell_type": "markdown",
   "id": "60c1d507",
   "metadata": {},
   "source": [
    "So I can tell the average closing price is C$29,865 to the nearest integer.\n",
    "\n",
    "There isn't much data to work from (one years worth exactly), but I would like to create a dataframe object from the price data and try and use it to forecast future price information. Taking a look at which columns are present in the dataset gives me:"
   ]
  },
  {
   "cell_type": "code",
   "execution_count": 7,
   "id": "b2934c35",
   "metadata": {},
   "outputs": [
    {
     "data": {
      "text/plain": [
       "Index(['Date', 'Open', 'High', 'Low', 'Close', 'Adj Close', 'Volume'], dtype='object')"
      ]
     },
     "execution_count": 7,
     "metadata": {},
     "output_type": "execute_result"
    }
   ],
   "source": [
    "btc_cad.columns"
   ]
  },
  {
   "cell_type": "markdown",
   "id": "c88a82cb",
   "metadata": {},
   "source": [
    "And now lets see the first and last 5 entries in the table:"
   ]
  },
  {
   "cell_type": "code",
   "execution_count": 8,
   "id": "07886940",
   "metadata": {},
   "outputs": [
    {
     "data": {
      "text/html": [
       "<div>\n",
       "<style scoped>\n",
       "    .dataframe tbody tr th:only-of-type {\n",
       "        vertical-align: middle;\n",
       "    }\n",
       "\n",
       "    .dataframe tbody tr th {\n",
       "        vertical-align: top;\n",
       "    }\n",
       "\n",
       "    .dataframe thead th {\n",
       "        text-align: right;\n",
       "    }\n",
       "</style>\n",
       "<table border=\"1\" class=\"dataframe\">\n",
       "  <thead>\n",
       "    <tr style=\"text-align: right;\">\n",
       "      <th></th>\n",
       "      <th>Date</th>\n",
       "      <th>Open</th>\n",
       "      <th>High</th>\n",
       "      <th>Low</th>\n",
       "      <th>Close</th>\n",
       "      <th>Adj Close</th>\n",
       "      <th>Volume</th>\n",
       "    </tr>\n",
       "  </thead>\n",
       "  <tbody>\n",
       "    <tr>\n",
       "      <th>0</th>\n",
       "      <td>2020-04-21</td>\n",
       "      <td>9718.07</td>\n",
       "      <td>9838.33</td>\n",
       "      <td>9728.25</td>\n",
       "      <td>9763.94</td>\n",
       "      <td>9763.94</td>\n",
       "      <td>4.624843e+10</td>\n",
       "    </tr>\n",
       "    <tr>\n",
       "      <th>1</th>\n",
       "      <td>2020-04-22</td>\n",
       "      <td>9762.68</td>\n",
       "      <td>10125.87</td>\n",
       "      <td>9747.39</td>\n",
       "      <td>10096.28</td>\n",
       "      <td>10096.28</td>\n",
       "      <td>4.716635e+10</td>\n",
       "    </tr>\n",
       "    <tr>\n",
       "      <th>2</th>\n",
       "      <td>2020-04-23</td>\n",
       "      <td>10102.09</td>\n",
       "      <td>10533.73</td>\n",
       "      <td>10009.76</td>\n",
       "      <td>10451.16</td>\n",
       "      <td>10451.16</td>\n",
       "      <td>6.119120e+10</td>\n",
       "    </tr>\n",
       "    <tr>\n",
       "      <th>3</th>\n",
       "      <td>2020-04-24</td>\n",
       "      <td>10457.43</td>\n",
       "      <td>10678.71</td>\n",
       "      <td>10457.43</td>\n",
       "      <td>10642.81</td>\n",
       "      <td>10642.81</td>\n",
       "      <td>4.881932e+10</td>\n",
       "    </tr>\n",
       "    <tr>\n",
       "      <th>4</th>\n",
       "      <td>2020-04-25</td>\n",
       "      <td>10642.22</td>\n",
       "      <td>10773.18</td>\n",
       "      <td>10601.61</td>\n",
       "      <td>10669.64</td>\n",
       "      <td>10669.64</td>\n",
       "      <td>4.643028e+10</td>\n",
       "    </tr>\n",
       "  </tbody>\n",
       "</table>\n",
       "</div>"
      ],
      "text/plain": [
       "         Date      Open      High       Low     Close  Adj Close        Volume\n",
       "0  2020-04-21   9718.07   9838.33   9728.25   9763.94    9763.94  4.624843e+10\n",
       "1  2020-04-22   9762.68  10125.87   9747.39  10096.28   10096.28  4.716635e+10\n",
       "2  2020-04-23  10102.09  10533.73  10009.76  10451.16   10451.16  6.119120e+10\n",
       "3  2020-04-24  10457.43  10678.71  10457.43  10642.81   10642.81  4.881932e+10\n",
       "4  2020-04-25  10642.22  10773.18  10601.61  10669.64   10669.64  4.643028e+10"
      ]
     },
     "execution_count": 8,
     "metadata": {},
     "output_type": "execute_result"
    }
   ],
   "source": [
    "btc_cad.head()"
   ]
  },
  {
   "cell_type": "markdown",
   "id": "36ad7afd",
   "metadata": {},
   "source": [
    "And now the tail of the dataframe."
   ]
  },
  {
   "cell_type": "code",
   "execution_count": 9,
   "id": "b3042e67",
   "metadata": {},
   "outputs": [
    {
     "data": {
      "text/html": [
       "<div>\n",
       "<style scoped>\n",
       "    .dataframe tbody tr th:only-of-type {\n",
       "        vertical-align: middle;\n",
       "    }\n",
       "\n",
       "    .dataframe tbody tr th {\n",
       "        vertical-align: top;\n",
       "    }\n",
       "\n",
       "    .dataframe thead th {\n",
       "        text-align: right;\n",
       "    }\n",
       "</style>\n",
       "<table border=\"1\" class=\"dataframe\">\n",
       "  <thead>\n",
       "    <tr style=\"text-align: right;\">\n",
       "      <th></th>\n",
       "      <th>Date</th>\n",
       "      <th>Open</th>\n",
       "      <th>High</th>\n",
       "      <th>Low</th>\n",
       "      <th>Close</th>\n",
       "      <th>Adj Close</th>\n",
       "      <th>Volume</th>\n",
       "    </tr>\n",
       "  </thead>\n",
       "  <tbody>\n",
       "    <tr>\n",
       "      <th>361</th>\n",
       "      <td>2021-04-17</td>\n",
       "      <td>76964.70</td>\n",
       "      <td>78268.41</td>\n",
       "      <td>75503.00</td>\n",
       "      <td>75906.36</td>\n",
       "      <td>75906.36</td>\n",
       "      <td>8.272967e+10</td>\n",
       "    </tr>\n",
       "    <tr>\n",
       "      <th>362</th>\n",
       "      <td>2021-04-18</td>\n",
       "      <td>75928.95</td>\n",
       "      <td>76373.72</td>\n",
       "      <td>66081.83</td>\n",
       "      <td>70374.91</td>\n",
       "      <td>70374.91</td>\n",
       "      <td>1.220000e+11</td>\n",
       "    </tr>\n",
       "    <tr>\n",
       "      <th>363</th>\n",
       "      <td>2021-04-19</td>\n",
       "      <td>70344.11</td>\n",
       "      <td>71803.61</td>\n",
       "      <td>68107.27</td>\n",
       "      <td>69788.23</td>\n",
       "      <td>69788.23</td>\n",
       "      <td>8.183693e+10</td>\n",
       "    </tr>\n",
       "    <tr>\n",
       "      <th>364</th>\n",
       "      <td>2021-04-20</td>\n",
       "      <td>NaN</td>\n",
       "      <td>NaN</td>\n",
       "      <td>NaN</td>\n",
       "      <td>NaN</td>\n",
       "      <td>NaN</td>\n",
       "      <td>NaN</td>\n",
       "    </tr>\n",
       "    <tr>\n",
       "      <th>365</th>\n",
       "      <td>2021-04-21</td>\n",
       "      <td>71509.30</td>\n",
       "      <td>71556.76</td>\n",
       "      <td>71132.08</td>\n",
       "      <td>71477.76</td>\n",
       "      <td>71477.76</td>\n",
       "      <td>8.495634e+10</td>\n",
       "    </tr>\n",
       "  </tbody>\n",
       "</table>\n",
       "</div>"
      ],
      "text/plain": [
       "           Date      Open      High       Low     Close  Adj Close  \\\n",
       "361  2021-04-17  76964.70  78268.41  75503.00  75906.36   75906.36   \n",
       "362  2021-04-18  75928.95  76373.72  66081.83  70374.91   70374.91   \n",
       "363  2021-04-19  70344.11  71803.61  68107.27  69788.23   69788.23   \n",
       "364  2021-04-20       NaN       NaN       NaN       NaN        NaN   \n",
       "365  2021-04-21  71509.30  71556.76  71132.08  71477.76   71477.76   \n",
       "\n",
       "           Volume  \n",
       "361  8.272967e+10  \n",
       "362  1.220000e+11  \n",
       "363  8.183693e+10  \n",
       "364           NaN  \n",
       "365  8.495634e+10  "
      ]
     },
     "execution_count": 9,
     "metadata": {},
     "output_type": "execute_result"
    }
   ],
   "source": [
    "btc_cad.tail()"
   ]
  },
  {
   "cell_type": "markdown",
   "id": "7100b168",
   "metadata": {},
   "source": [
    "## Cleaning the Data\n",
    "A brief look at the summary info for the dataset tells me there are a different number of date values compared to the rest of the column entries. This will need to be addressed, followed by any missing values, NaN, 'isnull' or entries with 'zero'. I can also see the different number 'count' for entries using the count() method:"
   ]
  },
  {
   "cell_type": "code",
   "execution_count": 10,
   "id": "bd38a19c",
   "metadata": {},
   "outputs": [
    {
     "data": {
      "text/plain": [
       "Date         366\n",
       "Open         362\n",
       "High         362\n",
       "Low          362\n",
       "Close        362\n",
       "Adj Close    362\n",
       "Volume       362\n",
       "dtype: int64"
      ]
     },
     "execution_count": 10,
     "metadata": {},
     "output_type": "execute_result"
    }
   ],
   "source": [
    "btc_cad.count()"
   ]
  },
  {
   "cell_type": "markdown",
   "id": "3751939a",
   "metadata": {},
   "source": [
    "First I just want to see what shape the dataframe is."
   ]
  },
  {
   "cell_type": "code",
   "execution_count": 11,
   "id": "bf588738",
   "metadata": {},
   "outputs": [
    {
     "data": {
      "text/plain": [
       "(366, 7)"
      ]
     },
     "execution_count": 11,
     "metadata": {},
     "output_type": "execute_result"
    }
   ],
   "source": [
    "btc_cad.shape"
   ]
  },
  {
   "cell_type": "markdown",
   "id": "afa777df",
   "metadata": {},
   "source": [
    "So it's 366 rows by 7 columns or a (366x7) matrix. Next, to find the total number of missing entries."
   ]
  },
  {
   "cell_type": "code",
   "execution_count": 12,
   "id": "00a9294d",
   "metadata": {},
   "outputs": [
    {
     "data": {
      "text/plain": [
       "Date         0\n",
       "Open         4\n",
       "High         4\n",
       "Low          4\n",
       "Close        4\n",
       "Adj Close    4\n",
       "Volume       4\n",
       "dtype: int64"
      ]
     },
     "execution_count": 12,
     "metadata": {},
     "output_type": "execute_result"
    }
   ],
   "source": [
    "bitcoin_missing_values_count = btc_cad.isnull().sum()\n",
    "bitcoin_missing_values_count[0:7]"
   ]
  },
  {
   "cell_type": "markdown",
   "id": "36a073fa",
   "metadata": {},
   "source": [
    "Further examination allows me to calculate the total number of rows containing missing data points as a percentage of the total number of rows in the dataframe."
   ]
  },
  {
   "cell_type": "code",
   "execution_count": 13,
   "id": "d14f180d",
   "metadata": {},
   "outputs": [
    {
     "name": "stdout",
     "output_type": "stream",
     "text": [
      "0.936768149882904\n"
     ]
    }
   ],
   "source": [
    "total_bitcoin = np.product(btc_cad.shape)\n",
    "total_missing_bitcoin = bitcoin_missing_values_count.sum()\n",
    "\n",
    "percent_missing_values = (total_missing_bitcoin/total_bitcoin) * 100\n",
    "print(percent_missing_values)"
   ]
  },
  {
   "cell_type": "markdown",
   "id": "df9defb6",
   "metadata": {},
   "source": [
    "From this I can see that just under 1% of the total values are missing. I can either choose to leave them out completely (as they may not really affect my model for the purpose of this exercise) or use imputed values such as the mean or median.\n",
    "\n",
    "### Removing Rows\n",
    "Having checked the csv file I can determine that there is no real reason for the missing values (null entries) for these dates. At first I thought these missing values might be due to public holidays but because Bitcoin is a currency, it appears to be traded OTC (Over The Counter) beyong normal trading hours throughout the day, seven days a week. As a result I have chosen to leave these missing values out using the dropna() method to eliminate them. This should provide a total of 162 rows."
   ]
  },
  {
   "cell_type": "code",
   "execution_count": 14,
   "id": "0a278096",
   "metadata": {},
   "outputs": [],
   "source": [
    "# dropping the rows with missing or 'na' entries using 'axis=0' for the row dimension\n",
    "btc_cad = btc_cad.dropna(axis=0)"
   ]
  },
  {
   "cell_type": "code",
   "execution_count": 15,
   "id": "6cd1e373",
   "metadata": {},
   "outputs": [
    {
     "data": {
      "text/plain": [
       "(362, 7)"
      ]
     },
     "execution_count": 15,
     "metadata": {},
     "output_type": "execute_result"
    }
   ],
   "source": [
    "# finding the new shape of the data frame\n",
    "btc_cad.shape"
   ]
  },
  {
   "cell_type": "markdown",
   "id": "18cdc2e1",
   "metadata": {},
   "source": [
    "This time there are exactly 362 rows for each column. It's important to set the argument (axis=0) otherwise dropping the values doesn't work.\n",
    "\n",
    "### Removing Columns (Feature Selection)\n",
    "Having analyzed the CSV file I can see the values in the 'Adj Close' column are exactly the same as in the 'Close' column, so I will remove 'Adj Close' completely from the dataset in an attempt to regularize the model. This is unecessary data which can be removed as it could contribute to bias and bleed into the test data. It's better to reduce the overall number of variables particularly removing those which are not relevant (the process of regularization to simplify the model and avoid overfitting).\n",
    "\n",
    "Taking a look at all the columns in the dataframe:"
   ]
  },
  {
   "cell_type": "code",
   "execution_count": 16,
   "id": "8473ec4c",
   "metadata": {},
   "outputs": [
    {
     "data": {
      "text/plain": [
       "Index(['Date', 'Open', 'High', 'Low', 'Close', 'Adj Close', 'Volume'], dtype='object')"
      ]
     },
     "execution_count": 16,
     "metadata": {},
     "output_type": "execute_result"
    }
   ],
   "source": [
    "btc_cad.columns"
   ]
  },
  {
   "cell_type": "code",
   "execution_count": 17,
   "id": "153be480",
   "metadata": {},
   "outputs": [],
   "source": [
    "# delete the unwanted columns\n",
    "del btc_cad['Adj Close']"
   ]
  },
  {
   "cell_type": "markdown",
   "id": "d2f829f4",
   "metadata": {},
   "source": [
    "Another way to achieve this would be to use the drop method()."
   ]
  },
  {
   "cell_type": "code",
   "execution_count": 18,
   "id": "96da7074",
   "metadata": {},
   "outputs": [
    {
     "data": {
      "text/plain": [
       "Index(['Date', 'Open', 'High', 'Low', 'Close', 'Volume'], dtype='object')"
      ]
     },
     "execution_count": 18,
     "metadata": {},
     "output_type": "execute_result"
    }
   ],
   "source": [
    "# check the new dataframe features\n",
    "btc_cad.columns"
   ]
  },
  {
   "cell_type": "code",
   "execution_count": 19,
   "id": "7ec7a7a7",
   "metadata": {},
   "outputs": [
    {
     "name": "stdout",
     "output_type": "stream",
     "text": [
      "<class 'pandas.core.frame.DataFrame'>\n"
     ]
    }
   ],
   "source": [
    "print(type(btc_cad))"
   ]
  },
  {
   "cell_type": "markdown",
   "id": "0b26519c",
   "metadata": {},
   "source": [
    "## Exploratory Data Analysis\n",
    "The mean value for the Bitcoin (CAD) close price is C$ 29,864.75 and from the summary statistics using 'describe()' I can also see the maximum values in the upper-quartile range have been tested regularly.\n",
    "\n",
    "As there are no dividends or stock splits because Bitcoin is a currency (medium of exchange / store of value), only 6 columns are of any use to me in this particular dataset: Date, Open, High, Low, Close and Volume. Printing the first 5 lines of the dataframe gives:"
   ]
  },
  {
   "cell_type": "code",
   "execution_count": 20,
   "id": "1d759677",
   "metadata": {},
   "outputs": [
    {
     "name": "stdout",
     "output_type": "stream",
     "text": [
      "         Date      Open      High       Low     Close        Volume\n",
      "0  2020-04-21   9718.07   9838.33   9728.25   9763.94  4.624843e+10\n",
      "1  2020-04-22   9762.68  10125.87   9747.39  10096.28  4.716635e+10\n",
      "2  2020-04-23  10102.09  10533.73  10009.76  10451.16  6.119120e+10\n",
      "3  2020-04-24  10457.43  10678.71  10457.43  10642.81  4.881932e+10\n",
      "4  2020-04-25  10642.22  10773.18  10601.61  10669.64  4.643028e+10\n"
     ]
    }
   ],
   "source": [
    "# show the first 5 rows of data\n",
    "print(btc_cad[:5])"
   ]
  },
  {
   "cell_type": "markdown",
   "id": "6e4f0669",
   "metadata": {},
   "source": [
    "Next, I will store the independent column variables (features) in a newly named Pandas dataframe called 'bitcoin' which can be used for further analysis and is something which is just easier to remember."
   ]
  },
  {
   "cell_type": "code",
   "execution_count": 21,
   "id": "e7570bd4",
   "metadata": {},
   "outputs": [],
   "source": [
    "# re-naming the btc_cad dataframe as a new variable 'bitcoin'\n",
    "bitcoin = btc_cad"
   ]
  },
  {
   "cell_type": "code",
   "execution_count": 22,
   "id": "eac4a480",
   "metadata": {},
   "outputs": [
    {
     "name": "stdout",
     "output_type": "stream",
     "text": [
      "         Date      Open      High       Low     Close        Volume\n",
      "0  2020-04-21   9718.07   9838.33   9728.25   9763.94  4.624843e+10\n",
      "1  2020-04-22   9762.68  10125.87   9747.39  10096.28  4.716635e+10\n",
      "2  2020-04-23  10102.09  10533.73  10009.76  10451.16  6.119120e+10\n",
      "3  2020-04-24  10457.43  10678.71  10457.43  10642.81  4.881932e+10\n",
      "4  2020-04-25  10642.22  10773.18  10601.61  10669.64  4.643028e+10\n"
     ]
    }
   ],
   "source": [
    "print(bitcoin[:5])"
   ]
  },
  {
   "cell_type": "markdown",
   "id": "47c86fa4",
   "metadata": {},
   "source": [
    "### Correlation (Multivariate Stats)\n",
    "The first stage of any feature selection process for a linear regression model should involve checking multivariate statistics and the degree of correlation between the features and also with the target variable. This multivariate statistic is essential to avoid poor performance as high correlations between variables can prevent the model's loss function from converging to the global minimum."
   ]
  },
  {
   "cell_type": "code",
   "execution_count": 23,
   "id": "1a1c3bda",
   "metadata": {},
   "outputs": [
    {
     "name": "stdout",
     "output_type": "stream",
     "text": [
      "            Open      High       Low     Close    Volume\n",
      "Open    1.000000  0.999003  0.998283  0.997880  0.584975\n",
      "High    0.999003  1.000000  0.998194  0.999188  0.592747\n",
      "Low     0.998283  0.998194  1.000000  0.998735  0.569046\n",
      "Close   0.997880  0.999188  0.998735  1.000000  0.582709\n",
      "Volume  0.584975  0.592747  0.569046  0.582709  1.000000\n"
     ]
    }
   ],
   "source": [
    "correlation = bitcoin.corr()\n",
    "print(correlation)"
   ]
  },
  {
   "cell_type": "markdown",
   "id": "74874321",
   "metadata": {},
   "source": [
    "I would expect the opening and closing prices to be defined by the range of the high and low daily prices so all of these values tend to move within a fairly narrow band. There is a strong degree of positive correlation between these time-series values. I can also determine there is a less powerful degree of association between the volume of currency traded and its closing price (0.582709), but a positive relationship nonetheless.\n",
    "\n",
    "Assuming I wanted to find the top three highest correlated features I could use the .abs() and .nlargest() methods:"
   ]
  },
  {
   "cell_type": "code",
   "execution_count": 24,
   "id": "9f646c39",
   "metadata": {},
   "outputs": [
    {
     "name": "stdout",
     "output_type": "stream",
     "text": [
      "Index(['Close', 'High', 'Low'], dtype='object')\n"
     ]
    }
   ],
   "source": [
    "print(bitcoin.corr().abs().nlargest(3, 'Close').index)          # to find the top 3 features with highest correlation values"
   ]
  },
  {
   "cell_type": "code",
   "execution_count": 25,
   "id": "553e27b6",
   "metadata": {},
   "outputs": [
    {
     "name": "stdout",
     "output_type": "stream",
     "text": [
      "[1.         0.99918803 0.99873489]\n"
     ]
    }
   ],
   "source": [
    "print(bitcoin.corr().abs().nlargest(3, 'Close').values[:,3])         # top 3 correlation values"
   ]
  },
  {
   "cell_type": "markdown",
   "id": "47f4ab4f",
   "metadata": {},
   "source": [
    "Firstly, the perfectly correclated value of 1.0 represents the 'Close' price correlation with itself, but the nest two correlation values of 0.99918803 and 0.99873489 represent those of the daily 'High' and 'Low' resepectively.\n",
    "\n",
    "Remember, this would only be necessary if I wanted to include only those features with the top 3 correlation scores. For the purpose of this model that would be the open, high and low prices but I want to include the volume also and have decided to keep all 4 features. Next I intend to look at a scatter plot to show the relationship between some of these variables starting with the daily high and close prices."
   ]
  },
  {
   "cell_type": "code",
   "execution_count": 26,
   "id": "b945589b",
   "metadata": {},
   "outputs": [],
   "source": [
    "import matplotlib.pyplot as plt\n",
    "%matplotlib inline"
   ]
  },
  {
   "cell_type": "code",
   "execution_count": 27,
   "id": "d26317a5",
   "metadata": {},
   "outputs": [
    {
     "data": {
      "image/png": "[encoded data removed]",
      "text/plain": [
       "<Figure size 432x288 with 1 Axes>"
      ]
     },
     "metadata": {
      "needs_background": "light"
     },
     "output_type": "display_data"
    },
    {
     "data": {
      "image/png": "[encoded data removed]",
      "text/plain": [
       "<Figure size 432x288 with 1 Axes>"
      ]
     },
     "metadata": {
      "needs_background": "light"
     },
     "output_type": "display_data"
    },
    {
     "data": {
      "image/png": "[encoded data removed]",
      "text/plain": [
       "<Figure size 432x288 with 1 Axes>"
      ]
     },
     "metadata": {
      "needs_background": "light"
     },
     "output_type": "display_data"
    }
   ],
   "source": [
    "plt.scatter(bitcoin['High'], bitcoin['Close'], marker='o')\n",
    "plt.xlabel('High')\n",
    "plt.ylabel('Close')\n",
    "plt.show()\n",
    "\n",
    "plt.scatter(bitcoin['Low'], bitcoin['Close'], marker='o', color='green')\n",
    "plt.xlabel('Low')\n",
    "plt.ylabel('Close')\n",
    "plt.show()\n",
    "\n",
    "plt.scatter(bitcoin['Open'], bitcoin['Close'], marker='o', color='orange')\n",
    "plt.xlabel('Open')\n",
    "plt.ylabel('Close')\n",
    "plt.show()"
   ]
  },
  {
   "cell_type": "markdown",
   "id": "a5b27fbe",
   "metadata": {},
   "source": [
    "A strong positive linear relationship exists between the High, Low and Open prices with the Close but the degree of correlation decreases with High, Low and Open prices respectively. Also this can be checked against the 4th row of the correlation matrix under the row with 'Close' in the entry.\n",
    "\n",
    "And finally the relationship plot of daily volume against the closing prices. I can see there is one outlier on the right hand side."
   ]
  },
  {
   "cell_type": "code",
   "execution_count": 28,
   "id": "7f55daf5",
   "metadata": {},
   "outputs": [
    {
     "data": {
      "image/png": "[encoded data removed]",
      "text/plain": [
       "<Figure size 432x288 with 1 Axes>"
      ]
     },
     "metadata": {
      "needs_background": "light"
     },
     "output_type": "display_data"
    }
   ],
   "source": [
    "plt.scatter(bitcoin['Volume'], bitcoin['Close'], marker='o', color='coral')\n",
    "plt.xlabel('Volume')\n",
    "plt.ylabel('Close')\n",
    "plt.show()"
   ]
  },
  {
   "cell_type": "markdown",
   "id": "28218aa1",
   "metadata": {},
   "source": [
    "So there definitely is a relationship between 'Volume' and 'Close' but it doesn't appear to be very linear. It's all confined to a group with an outlier around the C$60,000 mark which represents a spike in contracts traded. Another problem I can see on the plot is the scale of the axis containing the 'Volume' values which indicates the need for feature normalization to address any adverse effects these values might have on the model training process.\n",
    "\n",
    "### Feature Normalization\n",
    "I first need to define the values of the numeric columns in the dataset to a common scale using MinMaxScaler(). This will make data exploration visualizations easier to interpret."
   ]
  },
  {
   "cell_type": "code",
   "execution_count": 29,
   "id": "85b6c7cc",
   "metadata": {},
   "outputs": [],
   "source": [
    "import pandas as pd\n",
    "from sklearn import preprocessing"
   ]
  },
  {
   "cell_type": "markdown",
   "id": "d07beb03",
   "metadata": {},
   "source": [
    "This transformation will shift the values to a range between 0 and 1 for each column."
   ]
  },
  {
   "cell_type": "code",
   "execution_count": 30,
   "id": "e7258f75",
   "metadata": {},
   "outputs": [
    {
     "data": {
      "text/plain": [
       "Index(['Date', 'Open', 'High', 'Low', 'Close', 'Volume'], dtype='object')"
      ]
     },
     "execution_count": 30,
     "metadata": {},
     "output_type": "execute_result"
    }
   ],
   "source": [
    "bitcoin.columns"
   ]
  },
  {
   "cell_type": "markdown",
   "id": "4bc0c722",
   "metadata": {},
   "source": [
    "#### Dropping the Date Column\n",
    "One important point to note here is this DataFrame object contains float variables except for 'Date' which is a string variable, so I must first drop this column from the dataframe:"
   ]
  },
  {
   "cell_type": "code",
   "execution_count": 31,
   "id": "5134c365",
   "metadata": {},
   "outputs": [],
   "source": [
    "bitcoin = bitcoin.drop(columns=['Date'])"
   ]
  },
  {
   "cell_type": "code",
   "execution_count": 32,
   "id": "6f2b3252",
   "metadata": {},
   "outputs": [
    {
     "name": "stdout",
     "output_type": "stream",
     "text": [
      "         Open      High       Low     Close    Volume\n",
      "0    0.000000  0.000000  0.000000  0.000000  0.068801\n",
      "1    0.000638  0.004016  0.000281  0.004759  0.070934\n",
      "2    0.005493  0.009711  0.004140  0.009841  0.103523\n",
      "3    0.010577  0.011736  0.010724  0.012585  0.074775\n",
      "4    0.013220  0.013055  0.012844  0.012969  0.069224\n",
      "..        ...       ...       ...       ...       ...\n",
      "357  0.996343  0.977458  0.963766  0.963054  0.205318\n",
      "358  0.961961  0.955629  0.967307  0.947131  0.153570\n",
      "359  0.947145  0.929170  0.828756  0.867923  0.244820\n",
      "360  0.867254  0.865348  0.858543  0.859522  0.151496\n",
      "361  0.883922  0.861901  0.903027  0.883716  0.158744\n",
      "\n",
      "[362 rows x 5 columns]\n"
     ]
    }
   ],
   "source": [
    "# convert entries to float type\n",
    "X = bitcoin.values.astype(float)\n",
    "\n",
    "# define min max scaler\n",
    "min_max_scaler = preprocessing.MinMaxScaler()\n",
    "\n",
    "# transform data\n",
    "X_scaled = min_max_scaler.fit_transform(X)\n",
    "\n",
    "bitcoin = pd.DataFrame(X_scaled, columns=bitcoin.columns)\n",
    "print(bitcoin)"
   ]
  },
  {
   "cell_type": "markdown",
   "id": "a4362211",
   "metadata": {},
   "source": [
    "## Visualizing the Data\n",
    "Let's take a look at plotting the different price data over time. This first plot will have the different OHLC prices for the last year. For the purpose of displaying this particular line plot I will remove the 'Adj Close' because it's not needed and the 'Volume' feature as the scale is completely different to that of the OHLC prices."
   ]
  },
  {
   "cell_type": "code",
   "execution_count": 33,
   "id": "12f6a648",
   "metadata": {},
   "outputs": [],
   "source": [
    "import matplotlib.pyplot as plt\n",
    "from matplotlib import style\n",
    "%matplotlib inline"
   ]
  },
  {
   "cell_type": "code",
   "execution_count": 34,
   "id": "e1e4bebd",
   "metadata": {},
   "outputs": [
    {
     "name": "stdout",
     "output_type": "stream",
     "text": [
      "['Solarize_Light2', '_classic_test_patch', '_mpl-gallery', '_mpl-gallery-nogrid', 'bmh', 'classic', 'dark_background', 'fast', 'fivethirtyeight', 'ggplot', 'grayscale', 'seaborn', 'seaborn-bright', 'seaborn-colorblind', 'seaborn-dark', 'seaborn-dark-palette', 'seaborn-darkgrid', 'seaborn-deep', 'seaborn-muted', 'seaborn-notebook', 'seaborn-paper', 'seaborn-pastel', 'seaborn-poster', 'seaborn-talk', 'seaborn-ticks', 'seaborn-white', 'seaborn-whitegrid', 'tableau-colorblind10']\n"
     ]
    }
   ],
   "source": [
    "# Select a style from matplotlib\n",
    "print(style.available)"
   ]
  },
  {
   "cell_type": "markdown",
   "id": "32131d2a",
   "metadata": {},
   "source": [
    "### Adding the Date Column\n",
    "For the purpose of the following visualizations I must add the 'Date' column back to the dataframe."
   ]
  },
  {
   "cell_type": "code",
   "execution_count": 35,
   "id": "01c5336c",
   "metadata": {},
   "outputs": [
    {
     "data": {
      "text/plain": [
       "Index(['Open', 'High', 'Low', 'Close', 'Volume'], dtype='object')"
      ]
     },
     "execution_count": 35,
     "metadata": {},
     "output_type": "execute_result"
    }
   ],
   "source": [
    "bitcoin.columns"
   ]
  },
  {
   "cell_type": "code",
   "execution_count": 36,
   "id": "1f0c6205",
   "metadata": {},
   "outputs": [
    {
     "data": {
      "text/plain": [
       "Index(['Open', 'High', 'Low', 'Close', 'Volume', 'Date'], dtype='object')"
      ]
     },
     "execution_count": 36,
     "metadata": {},
     "output_type": "execute_result"
    }
   ],
   "source": [
    "dates = pd.Series(btc_cad['Date'])\n",
    "dates\n",
    "\n",
    "bitcoin['Date'] = dates\n",
    "bitcoin.columns"
   ]
  },
  {
   "cell_type": "code",
   "execution_count": 37,
   "id": "de6150a4",
   "metadata": {},
   "outputs": [
    {
     "name": "stdout",
     "output_type": "stream",
     "text": [
      "           Date      Open      High       Low     Close\n",
      "0    2020-04-21  0.000000  0.000000  0.000000  0.000000\n",
      "1    2020-04-22  0.000638  0.004016  0.000281  0.004759\n",
      "2    2020-04-23  0.005493  0.009711  0.004140  0.009841\n",
      "3    2020-04-24  0.010577  0.011736  0.010724  0.012585\n",
      "4    2020-04-25  0.013220  0.013055  0.012844  0.012969\n",
      "..          ...       ...       ...       ...       ...\n",
      "357  2021-04-13  0.996343  0.977458  0.963766  0.963054\n",
      "358  2021-04-14  0.961961  0.955629  0.967307  0.947131\n",
      "359  2021-04-15  0.947145  0.929170  0.828756  0.867923\n",
      "360  2021-04-16  0.867254  0.865348  0.858543  0.859522\n",
      "361  2021-04-17  0.883922  0.861901  0.903027  0.883716\n",
      "\n",
      "[362 rows x 5 columns]\n"
     ]
    }
   ],
   "source": [
    "# first, store the dataframe as a dictionary type:\n",
    "df = pd.DataFrame({'Date': bitcoin['Date'],\n",
    "                   'Open': bitcoin['Open'],\n",
    "                   'High': bitcoin['High'],\n",
    "                   'Low': bitcoin['Low'],\n",
    "                   'Close': bitcoin['Close']})\n",
    "# check the values\n",
    "print(df)"
   ]
  },
  {
   "cell_type": "code",
   "execution_count": 38,
   "id": "36e54120",
   "metadata": {},
   "outputs": [],
   "source": [
    "# convert data type from string to date format\n",
    "df['Date'] = pd.to_datetime(df['Date'])\n",
    "df.set_index(df['Date'], inplace=True)"
   ]
  },
  {
   "cell_type": "markdown",
   "id": "22debfcb",
   "metadata": {},
   "source": [
    "Now the 'Date' series from the dataframe can be used to plot the x-axis.\n",
    "\n",
    "Because I want to visualize a multiple line plot over time I have made sure to create an n-dimensional array of 4 x 362 using each desired feature and referencing them as a separate series. Each vector I choose to include in the y-axis will be plotted against the 'Date'."
   ]
  },
  {
   "cell_type": "code",
   "execution_count": 39,
   "id": "fed11f03",
   "metadata": {},
   "outputs": [
    {
     "data": {
      "image/png": "[encoded data removed]",
      "text/plain": [
       "<Figure size 1008x720 with 1 Axes>"
      ]
     },
     "metadata": {},
     "output_type": "display_data"
    }
   ],
   "source": [
    "# choose a background plot style\n",
    "style.use('seaborn-whitegrid')\n",
    "\n",
    "# create x as a list or vector\n",
    "x = df['Date']\n",
    "# for multiple lines create y as a list of lists, or matrix\n",
    "y = [df['Open'],df['High'],df['Low'],df['Close']]\n",
    "\n",
    "# determine the plot dimensions\n",
    "plt.figure(figsize=(14,10))\n",
    "# which columns or y-variables to plot\n",
    "plt.plot(df['Open'])\n",
    "plt.plot(df['High'])\n",
    "plt.plot(df['Low'])\n",
    "plt.plot(df['Close'])\n",
    "# Select a title\n",
    "plt.title(\"Daily Bitcoin OHLC Prices in $CAD\")\n",
    "# X label\n",
    "plt.xlabel(\"Date\")\n",
    "# Y label\n",
    "plt.ylabel(\"Bitcoin Prices\")\n",
    "# display the graph\n",
    "plt.show()"
   ]
  },
  {
   "cell_type": "markdown",
   "id": "6a69eabc",
   "metadata": {},
   "source": [
    "At first glance I can detect an underlying trend for the price of Bitcoin, but there is also a noticable spike in Feb 2021 before reverting back to the trend. This makes the price data easier to read once the width and height of the axes have been adjusted.\n",
    "\n",
    "### Choose a Target Variable\n",
    "The 'OHLC' prices appear to be extremely highly correlated so I will just use the daily 'Close' price as the target variable."
   ]
  },
  {
   "cell_type": "code",
   "execution_count": 40,
   "id": "236cdf9e",
   "metadata": {},
   "outputs": [],
   "source": [
    "import seaborn as sns"
   ]
  },
  {
   "cell_type": "code",
   "execution_count": 41,
   "id": "51533413",
   "metadata": {},
   "outputs": [
    {
     "data": {
      "text/plain": [
       "Text(0, 0.5, 'Close')"
      ]
     },
     "execution_count": 41,
     "metadata": {},
     "output_type": "execute_result"
    },
    {
     "data": {
      "image/png": "[encoded data removed]",
      "text/plain": [
       "<Figure size 1008x432 with 1 Axes>"
      ]
     },
     "metadata": {},
     "output_type": "display_data"
    }
   ],
   "source": [
    "# choose a background plot style\n",
    "style.use('seaborn-deep')\n",
    "\n",
    "# create x as a list or vector\n",
    "x = df['Date']\n",
    "# for multiple lines create y as a list of lists, or matrix\n",
    "y = df['Close']\n",
    "\n",
    "# once again setting the width and height of the figure\n",
    "plt.figure(figsize=(14,6))\n",
    "plt.plot(df['Close'])\n",
    "# Add title\n",
    "plt.title(\"Daily Bitcoin Close Price in $CAD\")\n",
    "\n",
    "# add label for horizontal axis\n",
    "plt.xlabel('Date')\n",
    "# add a label for vertical axis\n",
    "plt.ylabel('Close')"
   ]
  },
  {
   "cell_type": "markdown",
   "id": "c553d9d7",
   "metadata": {},
   "source": [
    "So as we can see there is a definite gradual upward trend. In this particular instance the plot exhibits a price pattern called an 'ascending triangle' which is a term used by technical analysts. It's bands start roughly after 250 days (2021-01) and can be used to make buying and selling decisions based on the shape of the pattern.\n",
    "\n",
    "### Price Frequency Distributions and Data Dispersion\n",
    "Taking a look at the frequency distributions of the different prices can tell me about their distributions about the average.\n",
    "\n",
    "I know that earlier in the timeframe captured there were a large number of cumulative values within the ten to twenty thousand dollar range. The extra weighting given to these observations have obviously caused a fairly low mean value of approximately thirty thousand dollars, but the cryptocurrency finished up at 71.5 thousand dollars by April 2021. The overall range of price values has been divided into 20 separate bins for some clarity, so I can view the frequency or number of daily prices that fall within each interval category price range or bin."
   ]
  },
  {
   "cell_type": "code",
   "execution_count": 42,
   "id": "5fc6abc9",
   "metadata": {},
   "outputs": [
    {
     "data": {
      "text/plain": [
       "Text(0, 0.5, 'Count')"
      ]
     },
     "execution_count": 42,
     "metadata": {},
     "output_type": "execute_result"
    },
    {
     "data": {
      "image/png": "[encoded data removed]",
      "text/plain": [
       "<Figure size 720x432 with 1 Axes>"
      ]
     },
     "metadata": {},
     "output_type": "display_data"
    }
   ],
   "source": [
    "import matplotlib.pyplot as plt\n",
    "%matplotlib inline\n",
    "from matplotlib import style\n",
    "import seaborn as sns\n",
    "\n",
    "# create style\n",
    "style.use(\"seaborn-darkgrid\")\n",
    "\n",
    "# set width and height\n",
    "plt.figure(figsize=(10,6))\n",
    "\n",
    "# Add a title\n",
    "plt.title(\"Histogram of 'Close' Prices\")\n",
    "\n",
    "# Show the average daily closing price\n",
    "sns.histplot(data=bitcoin, x=bitcoin['Close'], bins=20, color='darkturquoise')\n",
    "\n",
    "# Add labels for both axes\n",
    "plt.xlabel('Close Price')\n",
    "plt.ylabel('Count')"
   ]
  },
  {
   "cell_type": "markdown",
   "id": "56a84247",
   "metadata": {},
   "source": [
    "Storing these values in a dataframe series and applying the mean method requires a few steps."
   ]
  },
  {
   "cell_type": "code",
   "execution_count": 43,
   "id": "fdd5b311",
   "metadata": {},
   "outputs": [
    {
     "name": "stdout",
     "output_type": "stream",
     "text": [
      "        Close\n",
      "0    0.000000\n",
      "1    0.004759\n",
      "2    0.009841\n",
      "3    0.012585\n",
      "4    0.012969\n",
      "..        ...\n",
      "357  0.963054\n",
      "358  0.947131\n",
      "359  0.867923\n",
      "360  0.859522\n",
      "361  0.883716\n",
      "\n",
      "[362 rows x 1 columns]\n",
      "<class 'pandas.core.frame.DataFrame'>\n"
     ]
    }
   ],
   "source": [
    "# create filepath for dataset\n",
    "btc_cad_path = os.path.join(\"C:/Users/lynst/Documents/GitHub/machine-learning-projects/machine-learning/BTC_CAD.csv\")\n",
    "\n",
    "# create a dict and then store a single column as a dataframe\n",
    "data = {'Open': bitcoin['Open'],\n",
    "        'High': bitcoin['High'],\n",
    "        'Low': bitcoin['Low'],\n",
    "        'Close': bitcoin['Close']}\n",
    "\n",
    "df = pd.DataFrame(data, columns = ['Close'])\n",
    "\n",
    "print(df)\n",
    "print(type(df))"
   ]
  },
  {
   "cell_type": "markdown",
   "id": "9652ef50",
   "metadata": {},
   "source": [
    "Next, converting the DataFrame column to a Series using the squeeze() method:"
   ]
  },
  {
   "cell_type": "code",
   "execution_count": 44,
   "id": "7640e42f",
   "metadata": {},
   "outputs": [
    {
     "name": "stdout",
     "output_type": "stream",
     "text": [
      "0      0.000000\n",
      "1      0.004759\n",
      "2      0.009841\n",
      "3      0.012585\n",
      "4      0.012969\n",
      "         ...   \n",
      "357    0.963054\n",
      "358    0.947131\n",
      "359    0.867923\n",
      "360    0.859522\n",
      "361    0.883716\n",
      "Name: Close, Length: 362, dtype: float64\n",
      "<class 'pandas.core.series.Series'>\n"
     ]
    }
   ],
   "source": [
    "close_series = df['Close'].squeeze()\n",
    "\n",
    "print(close_series)\n",
    "print(type(close_series))"
   ]
  },
  {
   "cell_type": "markdown",
   "id": "62bd0d3a",
   "metadata": {},
   "source": [
    "So, now the 'dataframe' column has been converted to a 'series' data type, I aim to find the mean of the values for 'Close' prices over the period in question and display their frequency distribution."
   ]
  },
  {
   "cell_type": "code",
   "execution_count": 45,
   "id": "f5dbf923",
   "metadata": {},
   "outputs": [
    {
     "name": "stdout",
     "output_type": "stream",
     "text": [
      "0.28783508815530895\n"
     ]
    },
    {
     "name": "stderr",
     "output_type": "stream",
     "text": [
      "C:\\Users\\lynst\\anaconda3\\lib\\site-packages\\seaborn\\distributions.py:2619: FutureWarning: `distplot` is a deprecated function and will be removed in a future version. Please adapt your code to use either `displot` (a figure-level function with similar flexibility) or `histplot` (an axes-level function for histograms).\n",
      "  warnings.warn(msg, FutureWarning)\n"
     ]
    },
    {
     "data": {
      "image/png": "[encoded data removed]",
      "text/plain": [
       "<Figure size 720x432 with 1 Axes>"
      ]
     },
     "metadata": {},
     "output_type": "display_data"
    }
   ],
   "source": [
    "# create style\n",
    "style.use(\"seaborn-whitegrid\")\n",
    "\n",
    "# print the mean value\n",
    "print(close_series.mean())\n",
    "\n",
    "# configure the plot size\n",
    "plt.figure(figsize=(10,6))\n",
    "\n",
    "# create a title\n",
    "plt.title(\"Frequency Distribution of Mean 'Close' Prices\")\n",
    "\n",
    "# plot the series\n",
    "close_plot = sns.distplot(close_series, bins=20, color='red')"
   ]
  },
  {
   "cell_type": "markdown",
   "id": "a9f8615a",
   "metadata": {},
   "source": [
    "The mean value is to the right of the peak on the frequency curve with a long tail containing values toward C$90,000 which exhibits positive skewness.\n",
    "\n",
    "The frequency distribution plots for the open, high, low and daily volume not only explain the range of values and the dispersion about the mean, but they also be some indication of how prices might revert back to some long term average. It would be foolish to assume that Bitcoin prices will continue the current upward trend beyond C$80,000 because the average is so low."
   ]
  },
  {
   "cell_type": "code",
   "execution_count": 46,
   "id": "95ed342b",
   "metadata": {},
   "outputs": [
    {
     "data": {
      "text/plain": [
       "Text(0, 0.5, 'Count')"
      ]
     },
     "execution_count": 46,
     "metadata": {},
     "output_type": "execute_result"
    },
    {
     "data": {
      "image/png": "[encoded data removed]",
      "text/plain": [
       "<Figure size 720x432 with 1 Axes>"
      ]
     },
     "metadata": {},
     "output_type": "display_data"
    }
   ],
   "source": [
    "# create style\n",
    "style.use(\"seaborn-whitegrid\")\n",
    "\n",
    "# set width and height\n",
    "plt.figure(figsize=(10,6))\n",
    "\n",
    "# Add a title\n",
    "plt.title(\"Frequency Distribution of 'Open' Prices\")\n",
    "\n",
    "# Show the average daily high price\n",
    "sns.histplot(data=bitcoin, x=bitcoin['Open'], bins=20, color='turquoise')\n",
    "\n",
    "# Add labels for both axes\n",
    "plt.xlabel('Open Price')\n",
    "plt.ylabel('Count')"
   ]
  },
  {
   "cell_type": "code",
   "execution_count": 47,
   "id": "46f41b75",
   "metadata": {},
   "outputs": [
    {
     "data": {
      "text/plain": [
       "Text(0, 0.5, 'Count')"
      ]
     },
     "execution_count": 47,
     "metadata": {},
     "output_type": "execute_result"
    },
    {
     "data": {
      "image/png": "[encoded data removed]",
      "text/plain": [
       "<Figure size 720x432 with 1 Axes>"
      ]
     },
     "metadata": {},
     "output_type": "display_data"
    }
   ],
   "source": [
    "# create style\n",
    "style.use(\"seaborn-dark\")\n",
    "\n",
    "# set width and height\n",
    "plt.figure(figsize=(10,6))\n",
    "\n",
    "# Add a title\n",
    "plt.title(\"Frequency Distribution of 'High' Prices\")\n",
    "\n",
    "# Show the average daily high price\n",
    "sns.histplot(data=bitcoin, x=bitcoin['High'], bins=20, color='turquoise')\n",
    "\n",
    "# Add labels for both axes\n",
    "plt.xlabel('Daily High')\n",
    "plt.ylabel('Count')"
   ]
  },
  {
   "cell_type": "code",
   "execution_count": 48,
   "id": "7c2aa4d3",
   "metadata": {},
   "outputs": [
    {
     "data": {
      "text/plain": [
       "Text(0, 0.5, 'Count')"
      ]
     },
     "execution_count": 48,
     "metadata": {},
     "output_type": "execute_result"
    },
    {
     "data": {
      "image/png": "[encoded data removed]",
      "text/plain": [
       "<Figure size 720x432 with 1 Axes>"
      ]
     },
     "metadata": {},
     "output_type": "display_data"
    }
   ],
   "source": [
    "# create style\n",
    "style.use(\"ggplot\")\n",
    "\n",
    "# set width and height\n",
    "plt.figure(figsize=(10,6))\n",
    "\n",
    "# Add a title\n",
    "plt.title(\"Frequency Distribution of 'Low' Prices\")\n",
    "\n",
    "# Show the average daily low price\n",
    "sns.histplot(data=bitcoin, x=bitcoin['Low'], bins=20, color='turquoise')\n",
    "\n",
    "# Add labels for both axes\n",
    "plt.xlabel('Daily Low')\n",
    "plt.ylabel('Count')"
   ]
  },
  {
   "cell_type": "code",
   "execution_count": 49,
   "id": "d46f1fb8",
   "metadata": {},
   "outputs": [
    {
     "data": {
      "text/plain": [
       "Text(0, 0.5, 'Count')"
      ]
     },
     "execution_count": 49,
     "metadata": {},
     "output_type": "execute_result"
    },
    {
     "data": {
      "image/png": "[encoded data removed]",
      "text/plain": [
       "<Figure size 720x432 with 1 Axes>"
      ]
     },
     "metadata": {},
     "output_type": "display_data"
    }
   ],
   "source": [
    "# create style\n",
    "style.use(\"seaborn-dark-palette\")\n",
    "\n",
    "# set width and height\n",
    "plt.figure(figsize=(10,6))\n",
    "\n",
    "# Add a title\n",
    "plt.title(\"Frequency Distribution of Daily Volume\")\n",
    "\n",
    "# Show the average daily volume\n",
    "#sns.histplot(data=bitcoin, x=bitcoin['Volume'], bins=20, color='limegreen')\n",
    "sns.kdeplot(data=bitcoin, x=bitcoin['Volume'], color='limegreen', shade=True)\n",
    "\n",
    "# Add labels for both axes\n",
    "plt.xlabel('Volume')\n",
    "plt.ylabel('Count')"
   ]
  },
  {
   "cell_type": "markdown",
   "id": "28dd62f4",
   "metadata": {},
   "source": [
    "The bulk of the daily volume of transactions rarely exceeds 100 billion but there are a few exceptions.\n",
    "\n",
    "Given the mean values for OHLC prices, another way to find out how many values are above or below the average would be:"
   ]
  },
  {
   "cell_type": "code",
   "execution_count": 50,
   "id": "414db0a7",
   "metadata": {},
   "outputs": [
    {
     "data": {
      "text/plain": [
       "Series([], Name: Open, dtype: float64)"
      ]
     },
     "execution_count": 50,
     "metadata": {},
     "output_type": "execute_result"
    }
   ],
   "source": [
    "bitcoin['Open'].loc[bitcoin['Open'] > 29707.22]"
   ]
  },
  {
   "cell_type": "code",
   "execution_count": 51,
   "id": "a75cf222",
   "metadata": {},
   "outputs": [
    {
     "name": "stdout",
     "output_type": "stream",
     "text": [
      "74.69135802469135\n"
     ]
    }
   ],
   "source": [
    "tot_o = (121 / 162) * 100\n",
    "print(tot_o)"
   ]
  },
  {
   "cell_type": "code",
   "execution_count": 52,
   "id": "60b35c49",
   "metadata": {},
   "outputs": [
    {
     "data": {
      "text/plain": [
       "Series([], Name: High, dtype: float64)"
      ]
     },
     "execution_count": 52,
     "metadata": {},
     "output_type": "execute_result"
    }
   ],
   "source": [
    "bitcoin['High'].loc[bitcoin['High'] > 30555.68]"
   ]
  },
  {
   "cell_type": "markdown",
   "id": "96c3654f",
   "metadata": {},
   "source": [
    "So there are 121 values greater than the mean daily opening price. Calculating this as a percentage of the total number of observations gives:"
   ]
  },
  {
   "cell_type": "code",
   "execution_count": 53,
   "id": "facf67f6",
   "metadata": {},
   "outputs": [
    {
     "name": "stdout",
     "output_type": "stream",
     "text": [
      "75.92592592592592\n"
     ]
    }
   ],
   "source": [
    "tot_h = (123 / 162) * 100\n",
    "print(tot_h)"
   ]
  },
  {
   "cell_type": "markdown",
   "id": "d0139554",
   "metadata": {},
   "source": [
    "Repeating this step for the other price attributes gives:"
   ]
  },
  {
   "cell_type": "code",
   "execution_count": 54,
   "id": "ea19d21c",
   "metadata": {},
   "outputs": [
    {
     "data": {
      "text/plain": [
       "Series([], Name: Low, dtype: float64)"
      ]
     },
     "execution_count": 54,
     "metadata": {},
     "output_type": "execute_result"
    }
   ],
   "source": [
    "bitcoin['Low'].loc[bitcoin['Low'] > 28874.21]"
   ]
  },
  {
   "cell_type": "code",
   "execution_count": 55,
   "id": "d082d9ba",
   "metadata": {},
   "outputs": [
    {
     "name": "stdout",
     "output_type": "stream",
     "text": [
      "75.30864197530865\n"
     ]
    }
   ],
   "source": [
    "tot_l = (122 / 162) * 100\n",
    "print(tot_l)"
   ]
  },
  {
   "cell_type": "code",
   "execution_count": 56,
   "id": "c6c19971",
   "metadata": {},
   "outputs": [
    {
     "data": {
      "text/plain": [
       "Series([], Name: Close, dtype: float64)"
      ]
     },
     "execution_count": 56,
     "metadata": {},
     "output_type": "execute_result"
    }
   ],
   "source": [
    "bitcoin['Close'].loc[bitcoin['Close'] > 29864.75]"
   ]
  },
  {
   "cell_type": "code",
   "execution_count": 57,
   "id": "c82f217f",
   "metadata": {},
   "outputs": [
    {
     "name": "stdout",
     "output_type": "stream",
     "text": [
      "74.69135802469135\n"
     ]
    }
   ],
   "source": [
    "tot_c = (121 / 162) * 100\n",
    "print(tot_c)"
   ]
  },
  {
   "cell_type": "markdown",
   "id": "e12f7db1",
   "metadata": {},
   "source": [
    "I can tell for all of these price categories that roughly 75% of the values lie above the mean which is another way to show their frequency distributions are positively skewed.\n",
    "\n",
    "## Feature Selection\n",
    "Choosing the right data columns (features) for the Input set:"
   ]
  },
  {
   "cell_type": "code",
   "execution_count": 58,
   "id": "bd01d4eb",
   "metadata": {},
   "outputs": [],
   "source": [
    "# import libraries\n",
    "%matplotlib inline\n",
    "import matplotlib.pyplot as plt\n",
    "import pandas as pd\n",
    "import numpy as np\n",
    "from sklearn.linear_model import LinearRegression\n",
    "from sklearn.metrics import r2_score\n",
    "\n",
    "# import data\n",
    "bitcoin = pd.read_csv(\"C:/Users/lynst/Documents/GitHub/machine-learning-projects/machine-learning/BTC_CAD.csv\")\n",
    "df = pd.DataFrame(bitcoin).dropna(axis=0)"
   ]
  },
  {
   "cell_type": "markdown",
   "id": "acd25a9e",
   "metadata": {},
   "source": [
    "Checking the data in the first couple of rows:"
   ]
  },
  {
   "cell_type": "code",
   "execution_count": 59,
   "id": "1b25c2cf",
   "metadata": {},
   "outputs": [
    {
     "data": {
      "text/html": [
       "<div>\n",
       "<style scoped>\n",
       "    .dataframe tbody tr th:only-of-type {\n",
       "        vertical-align: middle;\n",
       "    }\n",
       "\n",
       "    .dataframe tbody tr th {\n",
       "        vertical-align: top;\n",
       "    }\n",
       "\n",
       "    .dataframe thead th {\n",
       "        text-align: right;\n",
       "    }\n",
       "</style>\n",
       "<table border=\"1\" class=\"dataframe\">\n",
       "  <thead>\n",
       "    <tr style=\"text-align: right;\">\n",
       "      <th></th>\n",
       "      <th>Date</th>\n",
       "      <th>Open</th>\n",
       "      <th>High</th>\n",
       "      <th>Low</th>\n",
       "      <th>Close</th>\n",
       "      <th>Adj Close</th>\n",
       "      <th>Volume</th>\n",
       "    </tr>\n",
       "  </thead>\n",
       "  <tbody>\n",
       "    <tr>\n",
       "      <th>0</th>\n",
       "      <td>2020-04-21</td>\n",
       "      <td>9718.07</td>\n",
       "      <td>9838.33</td>\n",
       "      <td>9728.25</td>\n",
       "      <td>9763.94</td>\n",
       "      <td>9763.94</td>\n",
       "      <td>4.624843e+10</td>\n",
       "    </tr>\n",
       "    <tr>\n",
       "      <th>1</th>\n",
       "      <td>2020-04-22</td>\n",
       "      <td>9762.68</td>\n",
       "      <td>10125.87</td>\n",
       "      <td>9747.39</td>\n",
       "      <td>10096.28</td>\n",
       "      <td>10096.28</td>\n",
       "      <td>4.716635e+10</td>\n",
       "    </tr>\n",
       "  </tbody>\n",
       "</table>\n",
       "</div>"
      ],
      "text/plain": [
       "         Date     Open      High      Low     Close  Adj Close        Volume\n",
       "0  2020-04-21  9718.07   9838.33  9728.25   9763.94    9763.94  4.624843e+10\n",
       "1  2020-04-22  9762.68  10125.87  9747.39  10096.28   10096.28  4.716635e+10"
      ]
     },
     "execution_count": 59,
     "metadata": {},
     "output_type": "execute_result"
    }
   ],
   "source": [
    "df.head(2)"
   ]
  },
  {
   "cell_type": "code",
   "execution_count": 60,
   "id": "33fca741",
   "metadata": {},
   "outputs": [
    {
     "data": {
      "text/plain": [
       "Index(['Date', 'Open', 'High', 'Low', 'Close', 'Adj Close', 'Volume'], dtype='object')"
      ]
     },
     "execution_count": 60,
     "metadata": {},
     "output_type": "execute_result"
    }
   ],
   "source": [
    "# all column names\n",
    "df.columns"
   ]
  },
  {
   "cell_type": "code",
   "execution_count": 61,
   "id": "e6280b04",
   "metadata": {},
   "outputs": [
    {
     "data": {
      "text/plain": [
       "Date          object\n",
       "Open         float64\n",
       "High         float64\n",
       "Low          float64\n",
       "Close        float64\n",
       "Adj Close    float64\n",
       "Volume       float64\n",
       "dtype: object"
      ]
     },
     "execution_count": 61,
     "metadata": {},
     "output_type": "execute_result"
    }
   ],
   "source": [
    "# all column data types\n",
    "df.dtypes"
   ]
  },
  {
   "cell_type": "markdown",
   "id": "b495de2c",
   "metadata": {},
   "source": [
    "Next I want to split the data into predictors and a target variable, containing all my feature columns in one matrix or Input variable (X) and the Target or Output variable in a column vector (y). Assigning the dependant, or y variable for the modelling process to the daily close price information (which will represent the labelled data), I have:"
   ]
  },
  {
   "cell_type": "code",
   "execution_count": 62,
   "id": "17d9f387",
   "metadata": {},
   "outputs": [
    {
     "name": "stdout",
     "output_type": "stream",
     "text": [
      "0       9763.94\n",
      "1      10096.28\n",
      "2      10451.16\n",
      "3      10642.81\n",
      "4      10669.64\n",
      "         ...   \n",
      "360    77018.32\n",
      "361    75906.36\n",
      "362    70374.91\n",
      "363    69788.23\n",
      "365    71477.76\n",
      "Name: Close, Length: 362, dtype: float64\n"
     ]
    }
   ],
   "source": [
    "y = df['Close']\n",
    "print(y)"
   ]
  },
  {
   "cell_type": "markdown",
   "id": "e24e2c56",
   "metadata": {},
   "source": [
    "The features are a selection of columns used to predict 'y', also known as the independent variables. I am choosing to leave the 'Date' and 'Adj Close' columns out of the X variable dataframe.\n",
    "\n",
    "Note, I can either store the individual features in a variable which can be referenced or called when performing some function, or I can store the exact feature names as a list in the dataframe. For example:"
   ]
  },
  {
   "cell_type": "code",
   "execution_count": 63,
   "id": "a18f379e",
   "metadata": {},
   "outputs": [
    {
     "name": "stdout",
     "output_type": "stream",
     "text": [
      "['Open', 'High', 'Low', 'Volume']\n"
     ]
    }
   ],
   "source": [
    "# set the feature columns list\n",
    "bitcoin_features = ['Open','High','Low','Volume']\n",
    "print(bitcoin_features)"
   ]
  },
  {
   "cell_type": "code",
   "execution_count": 64,
   "id": "e8fef2bb",
   "metadata": {},
   "outputs": [
    {
     "name": "stdout",
     "output_type": "stream",
     "text": [
      "         Open      High       Low        Volume\n",
      "0     9718.07   9838.33   9728.25  4.624843e+10\n",
      "1     9762.68  10125.87   9747.39  4.716635e+10\n",
      "2    10102.09  10533.73  10009.76  6.119120e+10\n",
      "3    10457.43  10678.71  10457.43  4.881932e+10\n",
      "4    10642.22  10773.18  10601.61  4.643028e+10\n",
      "..        ...       ...       ...           ...\n",
      "360  79368.23  79831.47  75262.20  1.050000e+11\n",
      "361  76964.70  78268.41  75503.00  8.272967e+10\n",
      "362  75928.95  76373.72  66081.83  1.220000e+11\n",
      "363  70344.11  71803.61  68107.27  8.183693e+10\n",
      "365  71509.30  71556.76  71132.08  8.495634e+10\n",
      "\n",
      "[362 rows x 4 columns]\n"
     ]
    }
   ],
   "source": [
    "# select features as dataframe\n",
    "X = df[bitcoin_features]\n",
    "print(X)"
   ]
  },
  {
   "cell_type": "code",
   "execution_count": 65,
   "id": "0bbd85e4",
   "metadata": {},
   "outputs": [
    {
     "name": "stdout",
     "output_type": "stream",
     "text": [
      "         Open      High       Low        Volume\n",
      "0     9718.07   9838.33   9728.25  4.624843e+10\n",
      "1     9762.68  10125.87   9747.39  4.716635e+10\n",
      "2    10102.09  10533.73  10009.76  6.119120e+10\n",
      "3    10457.43  10678.71  10457.43  4.881932e+10\n",
      "4    10642.22  10773.18  10601.61  4.643028e+10\n",
      "..        ...       ...       ...           ...\n",
      "360  79368.23  79831.47  75262.20  1.050000e+11\n",
      "361  76964.70  78268.41  75503.00  8.272967e+10\n",
      "362  75928.95  76373.72  66081.83  1.220000e+11\n",
      "363  70344.11  71803.61  68107.27  8.183693e+10\n",
      "365  71509.30  71556.76  71132.08  8.495634e+10\n",
      "\n",
      "[362 rows x 4 columns]\n"
     ]
    }
   ],
   "source": [
    "# an alternative way\n",
    "X = df[[\"Open\", \"High\", \"Low\", \"Volume\"]]\n",
    "print(X)"
   ]
  },
  {
   "cell_type": "markdown",
   "id": "a015b734",
   "metadata": {},
   "source": [
    "A couple of important things to note here. Firstly because I already dropped not-available row entries (3), there are 362 correct entries spanning 365 rows which is correct. I don't need to perform this dropna() method on X and y individually because I have already applied this operation to the dataframe (df).\n",
    "\n",
    "Secondly, I can see that referencing the features and storing them in a separate variable named 'bitcoin_features' really only comes in handy when there are a large number of features, perhaps too many to type into a list; but for the purpose of this exercise I prefer entering each feature name individually.\n",
    "\n",
    "### Splitting the Data\n",
    "Split the data into training and test sets with a 70-30 split but not without making a copy of the dataframe first."
   ]
  },
  {
   "cell_type": "code",
   "execution_count": 66,
   "id": "b0abe47c",
   "metadata": {},
   "outputs": [],
   "source": [
    "df = df.copy()"
   ]
  },
  {
   "cell_type": "code",
   "execution_count": 67,
   "id": "ba8e7b20",
   "metadata": {},
   "outputs": [],
   "source": [
    "from sklearn.model_selection import train_test_split\n",
    "\n",
    "X_train, X_test, y_train, y_test = train_test_split(X, y, test_size=0.3, random_state=42)"
   ]
  },
  {
   "cell_type": "markdown",
   "id": "53f955b6",
   "metadata": {},
   "source": [
    "Printing out the shape of the training sets for both the X matrix and y vector gives:"
   ]
  },
  {
   "cell_type": "code",
   "execution_count": 68,
   "id": "7e53318a",
   "metadata": {},
   "outputs": [
    {
     "name": "stdout",
     "output_type": "stream",
     "text": [
      "(253, 4)\n",
      "(253,)\n"
     ]
    }
   ],
   "source": [
    "print(X_train.shape)\n",
    "print(y_train.shape)"
   ]
  },
  {
   "cell_type": "markdown",
   "id": "94b55b11",
   "metadata": {},
   "source": [
    "And the shape of the test data:"
   ]
  },
  {
   "cell_type": "code",
   "execution_count": 69,
   "id": "83904858",
   "metadata": {},
   "outputs": [
    {
     "name": "stdout",
     "output_type": "stream",
     "text": [
      "(109, 4)\n",
      "(109,)\n"
     ]
    }
   ],
   "source": [
    "print(X_test.shape)\n",
    "print(y_test.shape)"
   ]
  },
  {
   "cell_type": "markdown",
   "id": "ccef4cc0",
   "metadata": {},
   "source": [
    "So I can see that 253/362 100 = 70% and 109/362 100 = 30% for both the train and test sets respectively. Next I will save a copy of the dataframe to use.\n",
    "\n",
    "## Model Selection (Linear Regression)\n",
    "This enables me to explore the linear nature of the relationship between the input and output data and fit a regression line using a scatter plot.\n",
    "\n",
    "### Training the Data and Fitting"
   ]
  },
  {
   "cell_type": "code",
   "execution_count": 70,
   "id": "54306d94",
   "metadata": {},
   "outputs": [
    {
     "data": {
      "text/plain": [
       "LinearRegression()"
      ]
     },
     "execution_count": 70,
     "metadata": {},
     "output_type": "execute_result"
    }
   ],
   "source": [
    "# instantiate model\n",
    "linear_regression = LinearRegression()\n",
    "\n",
    "# fit model\n",
    "linear_regression.fit(X_train, y_train)"
   ]
  },
  {
   "cell_type": "markdown",
   "id": "1d01c76b",
   "metadata": {},
   "source": [
    "### Prediction\n",
    "Now the 'training' data has been fit, try making a prediction on the first 4 values in the test set first. This includes all the values in row one of X."
   ]
  },
  {
   "cell_type": "code",
   "execution_count": 71,
   "id": "4b95fb9d",
   "metadata": {},
   "outputs": [
    {
     "name": "stdout",
     "output_type": "stream",
     "text": [
      "Predictions:  [14235.06724979 12655.4615403  13223.19509641 70402.98731812]\n"
     ]
    }
   ],
   "source": [
    "price_predictions = linear_regression.predict(X_test)\n",
    "print(\"Predictions: \", linear_regression.predict(X_test.iloc[:4]))"
   ]
  },
  {
   "cell_type": "markdown",
   "id": "47d28179",
   "metadata": {},
   "source": [
    "Comparing these values to the actual test set values:"
   ]
  },
  {
   "cell_type": "code",
   "execution_count": 72,
   "id": "ae1f8ee4",
   "metadata": {},
   "outputs": [
    {
     "data": {
      "text/html": [
       "<div>\n",
       "<style scoped>\n",
       "    .dataframe tbody tr th:only-of-type {\n",
       "        vertical-align: middle;\n",
       "    }\n",
       "\n",
       "    .dataframe tbody tr th {\n",
       "        vertical-align: top;\n",
       "    }\n",
       "\n",
       "    .dataframe thead th {\n",
       "        text-align: right;\n",
       "    }\n",
       "</style>\n",
       "<table border=\"1\" class=\"dataframe\">\n",
       "  <thead>\n",
       "    <tr style=\"text-align: right;\">\n",
       "      <th></th>\n",
       "      <th>Open</th>\n",
       "      <th>High</th>\n",
       "      <th>Low</th>\n",
       "      <th>Volume</th>\n",
       "    </tr>\n",
       "  </thead>\n",
       "  <tbody>\n",
       "    <tr>\n",
       "      <th>163</th>\n",
       "      <td>14354.31</td>\n",
       "      <td>14506.5</td>\n",
       "      <td>13948.08</td>\n",
       "      <td>3.611139e+10</td>\n",
       "    </tr>\n",
       "  </tbody>\n",
       "</table>\n",
       "</div>"
      ],
      "text/plain": [
       "         Open     High       Low        Volume\n",
       "163  14354.31  14506.5  13948.08  3.611139e+10"
      ]
     },
     "execution_count": 72,
     "metadata": {},
     "output_type": "execute_result"
    }
   ],
   "source": [
    "X_test.head(1)"
   ]
  },
  {
   "cell_type": "code",
   "execution_count": 73,
   "id": "07ffc833",
   "metadata": {},
   "outputs": [
    {
     "name": "stderr",
     "output_type": "stream",
     "text": [
      "C:\\Users\\lynst\\anaconda3\\lib\\site-packages\\sklearn\\base.py:450: UserWarning: X does not have valid feature names, but LinearRegression was fitted with feature names\n",
      "  warnings.warn(\n"
     ]
    },
    {
     "data": {
      "text/plain": [
       "array([14235.06724861])"
      ]
     },
     "execution_count": 73,
     "metadata": {},
     "output_type": "execute_result"
    }
   ],
   "source": [
    "# I want to predict the close price based on the values from line 163 in the table above\n",
    "linear_regression.predict([[14354.31, 14506.5, 13948.08, 3.611139e+10]])"
   ]
  },
  {
   "cell_type": "markdown",
   "id": "d22993d4",
   "metadata": {},
   "source": [
    "Comparing this forecast value for y to the actual value for y:"
   ]
  },
  {
   "cell_type": "code",
   "execution_count": 74,
   "id": "9daf34ec",
   "metadata": {},
   "outputs": [
    {
     "name": "stdout",
     "output_type": "stream",
     "text": [
      "14235.067240119533\n"
     ]
    }
   ],
   "source": [
    "y_actual = 14115.09\n",
    "\n",
    "# Assuming y = a + b1x1 + b2x2 + b3x3 + b4x4\n",
    "# where:\n",
    "# a = intercept (bias term)\n",
    "# b = coefficient value\n",
    "# x = feature value\n",
    "\n",
    "y = 107.8575212006981 + (-4.38810208e-01*14354.31) + (9.50132416e-01*14506.5) + (4.76889709e-01*13948.08) + (-2.42699860e-10*3.611139e+10)\n",
    "\n",
    "print(y)"
   ]
  },
  {
   "cell_type": "markdown",
   "id": "72188f4f",
   "metadata": {},
   "source": [
    "So I can see that C$ 14,115.09 is reasonably close to the predicted value for y, but not that great! The Linear Regression prediction value is almost identical to my prediction model for y so I know the formula works.\n",
    "\n",
    "## Metrics\n",
    "So checking the values against the BTC_CAD.csv dataset I can see they are not exactly accurate. One way to check is introduce an accuracy score called MSE (mean squared error), but first I will check the R-squared measure to establish the overall degree of fit to the line."
   ]
  },
  {
   "cell_type": "code",
   "execution_count": 75,
   "id": "b03bf7b5",
   "metadata": {},
   "outputs": [
    {
     "name": "stdout",
     "output_type": "stream",
     "text": [
      "R-squared:  0.999139201443658\n"
     ]
    }
   ],
   "source": [
    "print(\"R-squared: \", linear_regression.score(X_test, y_test))"
   ]
  },
  {
   "cell_type": "markdown",
   "id": "693bcf0f",
   "metadata": {},
   "source": [
    "This is a fairly high score and I can see this relationship in a scatter plot showing actual prices against predicted prices."
   ]
  },
  {
   "cell_type": "code",
   "execution_count": 76,
   "id": "b93851d6",
   "metadata": {},
   "outputs": [
    {
     "name": "stdout",
     "output_type": "stream",
     "text": [
      "474986.3846213789\n",
      "689.1925598999012\n"
     ]
    },
    {
     "data": {
      "text/plain": [
       "<AxesSubplot:title={'center':'Actual Prices vs Predicted Prices'}, xlabel='Close', ylabel='Predicted Prices'>"
      ]
     },
     "execution_count": 76,
     "metadata": {},
     "output_type": "execute_result"
    },
    {
     "data": {
      "image/png": "[encoded data removed]",
      "text/plain": [
       "<Figure size 504x504 with 1 Axes>"
      ]
     },
     "metadata": {
      "needs_background": "light"
     },
     "output_type": "display_data"
    }
   ],
   "source": [
    "from sklearn.metrics import mean_squared_error\n",
    "import numpy as np\n",
    "\n",
    "mse = mean_squared_error(y_test, price_predictions)\n",
    "print(mse)\n",
    "\n",
    "rmse = np.sqrt(mse)\n",
    "print(rmse)\n",
    "\n",
    "# set the width and height of the plot\n",
    "plt.figure(figsize=(7,7))\n",
    "\n",
    "# visualizing the relationship between actual and predicted values for y\n",
    "plt.scatter(y_test, price_predictions)\n",
    "plt.xlabel(\"Actual Prices\")\n",
    "plt.ylabel(\"Predicted Prices\")\n",
    "plt.title(\"Actual Prices vs Predicted Prices\")\n",
    "\n",
    "# fit a regression line between high and low values to show linear nature\n",
    "sns.regplot(x=y_test, y=price_predictions)"
   ]
  },
  {
   "cell_type": "markdown",
   "id": "dd268ad1",
   "metadata": {},
   "source": [
    "To find the intercept and coefficients:"
   ]
  },
  {
   "cell_type": "code",
   "execution_count": 77,
   "id": "9511c492",
   "metadata": {},
   "outputs": [
    {
     "name": "stdout",
     "output_type": "stream",
     "text": [
      "107.85752110169051\n",
      "[-4.38810208e-01  9.50132417e-01  4.76889708e-01 -2.42699879e-10]\n"
     ]
    }
   ],
   "source": [
    "print(linear_regression.intercept_)\n",
    "print(linear_regression.coef_)"
   ]
  },
  {
   "cell_type": "markdown",
   "id": "1af45418",
   "metadata": {},
   "source": [
    "This output provides me with the intercept value which intersects the y-axis at 107.85 and the respective coefficient values for each independent variable from x1 to x4 (open, high, low and volume values).\n",
    "\n",
    "## Evaluation\n",
    "My first look at the results of the scores and their accuracy measures prompted me to re-visit the code and try and introduce more efficiency (reducing the number of lines), but also more consistency such as replicating similar steps for the use of different types of model. So even though I started storing the same dataset in different variables it can quickly become confusing and simultaneously very important to ensure some similarity exists with regard to training, testing and evaluation/performance measurement among the different models.\n",
    "\n",
    "These procedures will require more modification when I start to apply Polynomial Regression and tackle any problems attributed to over or under-fitting of data with the application of regularization.\n",
    "\n",
    "Initial linear regression rmse score = 689.1925598643533 R-squared accuracy = 0.9991392014437468\n",
    "\n",
    "In conclusion, the model requires a much larger dataset and would benefit from a larger time period of price information, perhaps dating back to it's initial inception (2010 - not that long ago). Because the dataset is too small it falls prey to 'Sampling Noise' which is the degree of error from sampling only one subsection of the population. The model could be improved if other sample sizes were used or if the entire population of data for Bitcoin prices was used.\n",
    "\n",
    "Regularization implies reducing the number of features or creating a more efficient use of feature engineering to counteract overfitting the data and should be applied to improve this problem. As well as more price data another way to achieve better generalization on unseen data may involve using features from substitute investments or alternative crypto-currencies. It might pay to include market indices relevant to the sector, or even some form of sentiment analysis from market news which could be interpreted numerically using a form of one-hot encoding.\n",
    "\n",
    "This model could potentially incorporate the risk from substitute investments (Dogecoin for example) which are direct competitors or alternative investments (such as Gold) which are a vital component of several investment portfolios, the risk associated with the industry or market sector, political risk associated with foreign and domestic policy, or even corporate risk associated with management level decisions such as whether or not Blockchain technology could be under threat of being potentially unravelled by Quantum computing.\n",
    "\n",
    "All of these components combined would no doubt provide a better overall picture and contribute to more accurate price discovery in the Crypto markets. Next, I will try to fit a forecast line using a Polynomial Regression model but for now let's print out dependencies which allow this notebook to be reproducable across different platforms so others who are interested can view these findings.\n",
    "\n",
    "## Print dependencies\n",
    "Dependencies are fundamental to record the computational environment.\n",
    "\n",
    "Use watermark to print version of python, ipython, and packages, and characteristics of the computer"
   ]
  },
  {
   "cell_type": "code",
   "execution_count": 1,
   "id": "7a830cfd",
   "metadata": {},
   "outputs": [
    {
     "name": "stdout",
     "output_type": "stream",
     "text": [
      "Python implementation: CPython\n",
      "Python version       : 3.9.12\n",
      "IPython version      : 8.2.0\n",
      "\n",
      "wget      : 3.2\n",
      "pandas    : 1.4.2\n",
      "numpy     : 1.21.5\n",
      "watermark : 2.3.1\n",
      "tarfile   : 0.9.0\n",
      "urllib3   : 1.26.9\n",
      "matplotlib: 3.5.1\n",
      "seaborn   : 0.11.2\n",
      "sklearn   : 1.0.2\n",
      "pickle5   : not installed\n",
      "\n",
      "Compiler    : MSC v.1916 64 bit (AMD64)\n",
      "OS          : Windows\n",
      "Release     : 10\n",
      "Machine     : AMD64\n",
      "Processor   : Intel64 Family 6 Model 158 Stepping 10, GenuineIntel\n",
      "CPU cores   : 8\n",
      "Architecture: 64bit\n",
      "\n",
      " \n",
      "Last updated: Tue Oct 18 2022 07:22:16Eastern Daylight Time\n",
      "\n"
     ]
    }
   ],
   "source": [
    "%load_ext watermark\n",
    "\n",
    "# python, ipython, packages, and machine characteristics\n",
    "%watermark -v -m -p wget,pandas,numpy,watermark,tarfile,urllib3,matplotlib,seaborn,sklearn,pickle5 \n",
    "\n",
    "# date\n",
    "print (\" \")\n",
    "%watermark -u -n -t -z"
   ]
  },
  {
   "cell_type": "code",
   "execution_count": null,
   "id": "d7bc4cf7",
   "metadata": {},
   "outputs": [],
   "source": []
  }
 ],
 "metadata": {
  "kernelspec": {
   "display_name": "Python 3 (ipykernel)",
   "language": "python",
   "name": "python3"
  },
  "language_info": {
   "codemirror_mode": {
    "name": "ipython",
    "version": 3
   },
   "file_extension": ".py",
   "mimetype": "text/x-python",
   "name": "python",
   "nbconvert_exporter": "python",
   "pygments_lexer": "ipython3",
   "version": "3.9.12"
  }
 },
 "nbformat": 4,
 "nbformat_minor": 5
}
