{
 "cells": [
  {
   "cell_type": "markdown",
   "id": "7b42b329",
   "metadata": {},
   "source": [
    "# K-Nearest-Neighbors\n",
    "I have decided to use a KNN model which is a useful algorithm for clustering data points and grouping similar observations together. Each group, or cluster of elements may have a decision boundary to separate them. \n",
    "\n",
    "The following procedures will be used to guide the modeling process.\n",
    "\n",
    "1. First I will select a dataset\n",
    "2. Model Preprocessing\n",
    "3. Metrics & different scoring methods\n",
    "4. Meta Estimators\n",
    "5. Human-Learn"
   ]
  },
  {
   "cell_type": "markdown",
   "id": "f5ba03f5",
   "metadata": {},
   "source": [
    "## 1. Import the Necessary Libraries\n",
    "Extracting the load_boston dataset from scikit-learn I will use the information about the housing data and assign the values to the X (predictor) variable. The target, or y variable will be assigned to house price values."
   ]
  },
  {
   "cell_type": "code",
   "execution_count": null,
   "id": "4f51aa57",
   "metadata": {},
   "outputs": [],
   "source": [
    "import sklearn\n",
    "from sklearn.datasets import load_boston\n",
    "\n",
    "load_boston(return_X_y=True)"
   ]
  },
  {
   "cell_type": "raw",
   "id": "1aa4c412",
   "metadata": {},
   "source": [
    "Returns an array for X which has properties and feature inputs of houses and also an array for y values based on house prices."
   ]
  },
  {
   "cell_type": "code",
   "execution_count": null,
   "id": "b8c9445d",
   "metadata": {},
   "outputs": [],
   "source": [
    "# to use X and y in scikit-learn\n",
    "X, y = load_boston(return_X_y=True)"
   ]
  },
  {
   "cell_type": "raw",
   "id": "67df91c8",
   "metadata": {},
   "source": [
    "### Model Selection\n",
    "So first an object needs to be created such as a Series, DataFrame or Dictionary. Next a model needs to be selected and trained on the existing labeled data. The model will be fit to the data so it can start to learn from it, not just memorize it."
   ]
  },
  {
   "cell_type": "code",
   "execution_count": null,
   "id": "e6adac14",
   "metadata": {},
   "outputs": [],
   "source": [
    "# Model Creation:\n",
    "my_model = kNeighbors()"
   ]
  },
  {
   "cell_type": "raw",
   "id": "c1c39723",
   "metadata": {},
   "source": []
  }
 ],
 "metadata": {
  "kernelspec": {
   "display_name": "Python 3 (ipykernel)",
   "language": "python",
   "name": "python3"
  },
  "language_info": {
   "codemirror_mode": {
    "name": "ipython",
    "version": 3
   },
   "file_extension": ".py",
   "mimetype": "text/x-python",
   "name": "python",
   "nbconvert_exporter": "python",
   "pygments_lexer": "ipython3",
   "version": "3.9.12"
  }
 },
 "nbformat": 4,
 "nbformat_minor": 5
}
