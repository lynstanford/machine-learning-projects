{
 "cells": [
  {
   "cell_type": "markdown",
   "id": "24c95f6c",
   "metadata": {},
   "source": [
    "# K-Nearest-Neighbors\n",
    "I have decided to use a KNN model which is a useful algorithm for clustering data points and grouping similar observations together. Each group, or cluster of elements may have a decision boundary to separate them. \n",
    "\n",
    "The following procedures will be used to guide the modeling process.\n",
    "\n",
    "1. First I will select a dataset\n",
    "2. Model Preprocessing\n",
    "3. Metrics & different scoring methods\n",
    "4. Meta Estimators\n",
    "5. Human-Learn"
   ]
  },
  {
   "cell_type": "markdown",
   "id": "6f518cd0",
   "metadata": {},
   "source": [
    "1. ## Import the Necessary Libraries\n",
    "Extracting the load_boston dataset from scikit-learn I will use the information about the housing data and assign the values to the X (predictor) variable. The target, or y variable will be assigned to house price values."
   ]
  },
  {
   "cell_type": "code",
   "execution_count": null,
   "id": "b737c9a7",
   "metadata": {},
   "outputs": [],
   "source": [
    "import sklearn\n",
    "from sklearn.datasets import load_boston\n",
    "\n",
    "load_boston(return_X_y=True)"
   ]
  },
  {
   "cell_type": "raw",
   "id": "333940bb",
   "metadata": {},
   "source": [
    "Returns an array for X which has properties and feature inputs of houses and also an array for y values based on house prices."
   ]
  },
  {
   "cell_type": "code",
   "execution_count": null,
   "id": "a510087a",
   "metadata": {},
   "outputs": [],
   "source": []
  },
  {
   "cell_type": "code",
   "execution_count": null,
   "id": "ec75006d",
   "metadata": {
    "collapsed": true
   },
   "outputs": [],
   "source": []
  },
  {
   "cell_type": "code",
   "execution_count": null,
   "id": "f7c22d80",
   "metadata": {
    "collapsed": true
   },
   "outputs": [],
   "source": []
  },
  {
   "cell_type": "code",
   "execution_count": null,
   "id": "8cc73dfc",
   "metadata": {},
   "outputs": [],
   "source": []
  },
  {
   "cell_type": "raw",
   "id": "0fecad5a",
   "metadata": {},
   "source": []
  }
 ],
 "metadata": {
  "kernelspec": {
   "display_name": "Python 3 (ipykernel)",
   "language": "python",
   "name": "python3"
  },
  "language_info": {
   "codemirror_mode": {
    "name": "ipython",
    "version": 3
   },
   "file_extension": ".py",
   "mimetype": "text/x-python",
   "name": "python",
   "nbconvert_exporter": "python",
   "pygments_lexer": "ipython3",
   "version": "3.9.7"
  }
 },
 "nbformat": 4,
 "nbformat_minor": 5
}
