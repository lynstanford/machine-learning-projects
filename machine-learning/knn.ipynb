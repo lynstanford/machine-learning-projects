{
 "cells": [
  {
   "cell_type": "markdown",
   "id": "59012799",
   "metadata": {},
   "source": [
    "# K-Nearest-Neighbors\n",
    "I have decided to use a KNN model which is a useful algorithm for clustering data points and grouping similar observations together. Each group, or cluster of elements may have a decision boundary to separate them. \n",
    "\n",
    "The following procedures will be used to guide the modeling process.\n",
    "\n",
    "1. First I will select a dataset\n",
    "2. Model Preprocessing\n",
    "3. Metrics & different scoring methods\n",
    "4. Meta Estimators\n",
    "5. Human-Learn"
   ]
  },
  {
   "cell_type": "markdown",
   "id": "fb3391b8",
   "metadata": {},
   "source": [
    "1. ## Import the Necessary Libraries\n",
    "Extracting the load_boston dataset from scikit-learn I will use the information about the housing data and assign the values to the X (predictor) variable. The target, or y variable will be assigned to house price values."
   ]
  },
  {
   "cell_type": "code",
   "execution_count": null,
   "id": "3f98d295",
   "metadata": {},
   "outputs": [],
   "source": []
  }
 ],
 "metadata": {
  "kernelspec": {
   "display_name": "Python 3 (ipykernel)",
   "language": "python",
   "name": "python3"
  },
  "language_info": {
   "codemirror_mode": {
    "name": "ipython",
    "version": 3
   },
   "file_extension": ".py",
   "mimetype": "text/x-python",
   "name": "python",
   "nbconvert_exporter": "python",
   "pygments_lexer": "ipython3",
   "version": "3.9.7"
  }
 },
 "nbformat": 4,
 "nbformat_minor": 5
}
