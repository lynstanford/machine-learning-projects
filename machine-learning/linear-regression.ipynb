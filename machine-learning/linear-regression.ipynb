{
 "cells": [
  {
   "cell_type": "code",
   "execution_count": 1,
   "metadata": {},
   "outputs": [
    {
     "name": "stdout",
     "output_type": "stream",
     "text": [
      "yfinance.Ticker object <BTC-CAD>\n"
     ]
    }
   ],
   "source": [
    "import yfinance as yf\n",
    "\n",
    "btc_cad = yf.Ticker(\"BTC-CAD\")\n",
    "print(btc_cad)"
   ]
  },
  {
   "cell_type": "markdown",
   "metadata": {},
   "source": [
    "Each column represents a different feature, for example 'High', 'Low' and 'Close' prices are all features. These features are also known as attributes, input, or predictor variables which can be used to ascertain a stock price prediction (called labels, output, or target variables)."
   ]
  },
  {
   "cell_type": "code",
   "execution_count": 2,
   "metadata": {},
   "outputs": [
    {
     "data": {
      "text/plain": [
       "{'companyOfficers': [],\n",
       " 'name': 'Bitcoin',\n",
       " 'startDate': 1367107200,\n",
       " 'description': 'Bitcoin (BTC) is a cryptocurrency . Users are able to generate BTC through the process of mining. Bitcoin has a current supply of 18,686,900. The last known price of Bitcoin is 55,886.08752366 USD and is down -2.64 over the last 24 hours. It is currently trading on 9597 active market(s) with $68,782,161,116.51 traded over the last 24 hours. More information can be found at https://bitcoin.org/.',\n",
       " 'maxAge': 1,\n",
       " 'previousClose': 69859.91,\n",
       " 'regularMarketOpen': 69859.91,\n",
       " 'twoHundredDayAverage': 43283.41,\n",
       " 'trailingAnnualDividendYield': None,\n",
       " 'payoutRatio': None,\n",
       " 'volume24Hr': 82251292672,\n",
       " 'regularMarketDayHigh': 70640.37,\n",
       " 'navPrice': None,\n",
       " 'averageDailyVolume10Day': 84926071730,\n",
       " 'totalAssets': None,\n",
       " 'regularMarketPreviousClose': 69859.91,\n",
       " 'fiftyDayAverage': 71173.03,\n",
       " 'trailingAnnualDividendRate': None,\n",
       " 'open': 69859.91,\n",
       " 'toCurrency': 'CAD=X',\n",
       " 'averageVolume10days': 84926071730,\n",
       " 'expireDate': None,\n",
       " 'yield': None,\n",
       " 'algorithm': None,\n",
       " 'dividendRate': None,\n",
       " 'exDividendDate': None,\n",
       " 'beta': None,\n",
       " 'circulatingSupply': 18686944,\n",
       " 'regularMarketDayLow': 66774.48,\n",
       " 'priceHint': 2,\n",
       " 'currency': 'CAD',\n",
       " 'regularMarketVolume': 82251292672,\n",
       " 'lastMarket': 'CoinMarketCap',\n",
       " 'maxSupply': None,\n",
       " 'openInterest': None,\n",
       " 'marketCap': 1298665701376,\n",
       " 'volumeAllCurrencies': 82251292672,\n",
       " 'strikePrice': None,\n",
       " 'averageVolume': 83874939582,\n",
       " 'priceToSalesTrailing12Months': None,\n",
       " 'dayLow': 66774.48,\n",
       " 'ask': None,\n",
       " 'ytdReturn': None,\n",
       " 'askSize': None,\n",
       " 'volume': 82251292672,\n",
       " 'fiftyTwoWeekHigh': 81445.67,\n",
       " 'forwardPE': None,\n",
       " 'fromCurrency': 'BTC',\n",
       " 'fiveYearAvgDividendYield': None,\n",
       " 'fiftyTwoWeekLow': 9728.248,\n",
       " 'bid': None,\n",
       " 'tradeable': False,\n",
       " 'dividendYield': None,\n",
       " 'bidSize': None,\n",
       " 'dayHigh': 70640.37,\n",
       " 'exchange': 'CCC',\n",
       " 'shortName': 'Bitcoin CAD',\n",
       " 'exchangeTimezoneName': 'Europe/London',\n",
       " 'exchangeTimezoneShortName': 'BST',\n",
       " 'isEsgPopulated': False,\n",
       " 'gmtOffSetMilliseconds': '3600000',\n",
       " 'quoteType': 'CRYPTOCURRENCY',\n",
       " 'symbol': 'BTC-CAD',\n",
       " 'messageBoardId': 'finmb_BTC_CCC',\n",
       " 'market': 'ccc_market',\n",
       " 'regularMarketPrice': 69495.89,\n",
       " 'logo_url': ''}"
      ]
     },
     "execution_count": 2,
     "metadata": {},
     "output_type": "execute_result"
    }
   ],
   "source": [
    "# get stock info\n",
    "btc_cad.info"
   ]
  },
  {
   "cell_type": "markdown",
   "metadata": {},
   "source": [
    "Retrieve historical market data"
   ]
  },
  {
   "cell_type": "code",
   "execution_count": 3,
   "metadata": {},
   "outputs": [
    {
     "data": {
      "text/html": [
       "<div>\n",
       "<style scoped>\n",
       "    .dataframe tbody tr th:only-of-type {\n",
       "        vertical-align: middle;\n",
       "    }\n",
       "\n",
       "    .dataframe tbody tr th {\n",
       "        vertical-align: top;\n",
       "    }\n",
       "\n",
       "    .dataframe thead th {\n",
       "        text-align: right;\n",
       "    }\n",
       "</style>\n",
       "<table border=\"1\" class=\"dataframe\">\n",
       "  <thead>\n",
       "    <tr style=\"text-align: right;\">\n",
       "      <th></th>\n",
       "      <th>Open</th>\n",
       "      <th>High</th>\n",
       "      <th>Low</th>\n",
       "      <th>Close</th>\n",
       "      <th>Volume</th>\n",
       "      <th>Dividends</th>\n",
       "      <th>Stock Splits</th>\n",
       "    </tr>\n",
       "    <tr>\n",
       "      <th>Date</th>\n",
       "      <th></th>\n",
       "      <th></th>\n",
       "      <th></th>\n",
       "      <th></th>\n",
       "      <th></th>\n",
       "      <th></th>\n",
       "      <th></th>\n",
       "    </tr>\n",
       "  </thead>\n",
       "  <tbody>\n",
       "    <tr>\n",
       "      <th>2019-09-18</th>\n",
       "      <td>13570.838867</td>\n",
       "      <td>13664.313477</td>\n",
       "      <td>13552.004883</td>\n",
       "      <td>13561.018555</td>\n",
       "      <td>21500923601</td>\n",
       "      <td>0</td>\n",
       "      <td>0</td>\n",
       "    </tr>\n",
       "    <tr>\n",
       "      <th>2019-09-19</th>\n",
       "      <td>13564.007812</td>\n",
       "      <td>13649.998047</td>\n",
       "      <td>13061.373047</td>\n",
       "      <td>13611.212891</td>\n",
       "      <td>26433391055</td>\n",
       "      <td>0</td>\n",
       "      <td>0</td>\n",
       "    </tr>\n",
       "    <tr>\n",
       "      <th>2019-09-20</th>\n",
       "      <td>13611.084961</td>\n",
       "      <td>13642.738281</td>\n",
       "      <td>13438.896484</td>\n",
       "      <td>13504.491211</td>\n",
       "      <td>19542795567</td>\n",
       "      <td>0</td>\n",
       "      <td>0</td>\n",
       "    </tr>\n",
       "    <tr>\n",
       "      <th>2019-09-21</th>\n",
       "      <td>13507.153320</td>\n",
       "      <td>13513.054688</td>\n",
       "      <td>13264.508789</td>\n",
       "      <td>13289.721680</td>\n",
       "      <td>17806696605</td>\n",
       "      <td>0</td>\n",
       "      <td>0</td>\n",
       "    </tr>\n",
       "    <tr>\n",
       "      <th>2019-09-22</th>\n",
       "      <td>13295.555664</td>\n",
       "      <td>13368.072266</td>\n",
       "      <td>13166.497070</td>\n",
       "      <td>13362.695312</td>\n",
       "      <td>17515000629</td>\n",
       "      <td>0</td>\n",
       "      <td>0</td>\n",
       "    </tr>\n",
       "    <tr>\n",
       "      <th>...</th>\n",
       "      <td>...</td>\n",
       "      <td>...</td>\n",
       "      <td>...</td>\n",
       "      <td>...</td>\n",
       "      <td>...</td>\n",
       "      <td>...</td>\n",
       "      <td>...</td>\n",
       "    </tr>\n",
       "    <tr>\n",
       "      <th>2021-04-16</th>\n",
       "      <td>79368.234375</td>\n",
       "      <td>79831.468750</td>\n",
       "      <td>75262.203125</td>\n",
       "      <td>77018.320312</td>\n",
       "      <td>105437908391</td>\n",
       "      <td>0</td>\n",
       "      <td>0</td>\n",
       "    </tr>\n",
       "    <tr>\n",
       "      <th>2021-04-17</th>\n",
       "      <td>76964.703125</td>\n",
       "      <td>78268.406250</td>\n",
       "      <td>75503.000000</td>\n",
       "      <td>75906.359375</td>\n",
       "      <td>82729666943</td>\n",
       "      <td>0</td>\n",
       "      <td>0</td>\n",
       "    </tr>\n",
       "    <tr>\n",
       "      <th>2021-04-18</th>\n",
       "      <td>75928.953125</td>\n",
       "      <td>76373.718750</td>\n",
       "      <td>66081.828125</td>\n",
       "      <td>70374.906250</td>\n",
       "      <td>122017577989</td>\n",
       "      <td>0</td>\n",
       "      <td>0</td>\n",
       "    </tr>\n",
       "    <tr>\n",
       "      <th>2021-04-19</th>\n",
       "      <td>70344.109375</td>\n",
       "      <td>71803.609375</td>\n",
       "      <td>68107.265625</td>\n",
       "      <td>69788.234375</td>\n",
       "      <td>81836928952</td>\n",
       "      <td>0</td>\n",
       "      <td>0</td>\n",
       "    </tr>\n",
       "    <tr>\n",
       "      <th>2021-04-20</th>\n",
       "      <td>69859.906250</td>\n",
       "      <td>70640.367188</td>\n",
       "      <td>66774.476562</td>\n",
       "      <td>69550.390625</td>\n",
       "      <td>82203254784</td>\n",
       "      <td>0</td>\n",
       "      <td>0</td>\n",
       "    </tr>\n",
       "  </tbody>\n",
       "</table>\n",
       "<p>577 rows × 7 columns</p>\n",
       "</div>"
      ],
      "text/plain": [
       "                    Open          High           Low         Close  \\\n",
       "Date                                                                 \n",
       "2019-09-18  13570.838867  13664.313477  13552.004883  13561.018555   \n",
       "2019-09-19  13564.007812  13649.998047  13061.373047  13611.212891   \n",
       "2019-09-20  13611.084961  13642.738281  13438.896484  13504.491211   \n",
       "2019-09-21  13507.153320  13513.054688  13264.508789  13289.721680   \n",
       "2019-09-22  13295.555664  13368.072266  13166.497070  13362.695312   \n",
       "...                  ...           ...           ...           ...   \n",
       "2021-04-16  79368.234375  79831.468750  75262.203125  77018.320312   \n",
       "2021-04-17  76964.703125  78268.406250  75503.000000  75906.359375   \n",
       "2021-04-18  75928.953125  76373.718750  66081.828125  70374.906250   \n",
       "2021-04-19  70344.109375  71803.609375  68107.265625  69788.234375   \n",
       "2021-04-20  69859.906250  70640.367188  66774.476562  69550.390625   \n",
       "\n",
       "                  Volume  Dividends  Stock Splits  \n",
       "Date                                               \n",
       "2019-09-18   21500923601          0             0  \n",
       "2019-09-19   26433391055          0             0  \n",
       "2019-09-20   19542795567          0             0  \n",
       "2019-09-21   17806696605          0             0  \n",
       "2019-09-22   17515000629          0             0  \n",
       "...                  ...        ...           ...  \n",
       "2021-04-16  105437908391          0             0  \n",
       "2021-04-17   82729666943          0             0  \n",
       "2021-04-18  122017577989          0             0  \n",
       "2021-04-19   81836928952          0             0  \n",
       "2021-04-20   82203254784          0             0  \n",
       "\n",
       "[577 rows x 7 columns]"
      ]
     },
     "execution_count": 3,
     "metadata": {},
     "output_type": "execute_result"
    }
   ],
   "source": [
    "# get historical market data, here max is set to 1 year and 7 months.\n",
    "btc_cad.history(period=\"max\")"
   ]
  },
  {
   "cell_type": "markdown",
   "metadata": {},
   "source": [
    "There isn't much data to work from, but I would like to create a dataframe object from the price data and try and use it to forecast future price information.\n",
    "# Import Libraries\n",
    "The bulk of the libraries I will use are as follows. This may change as I progress."
   ]
  },
  {
   "cell_type": "code",
   "execution_count": 4,
   "metadata": {},
   "outputs": [],
   "source": [
    "import numpy as np\n",
    "import pandas as pd\n",
    "from sklearn import linear_model\n",
    "from sklearn import preprocessing, svm\n",
    "from sklearn.linear_model import LinearRegression\n",
    "from sklearn.model_selection import cross_val_score\n",
    "from sklearn.model_selection import cross_validate"
   ]
  },
  {
   "cell_type": "markdown",
   "metadata": {},
   "source": [
    "Creating a dataframe to work from:"
   ]
  },
  {
   "cell_type": "code",
   "execution_count": 5,
   "metadata": {},
   "outputs": [
    {
     "name": "stdout",
     "output_type": "stream",
     "text": [
      "                    Open          High           Low         Close  \\\n",
      "Date                                                                 \n",
      "2019-09-18  13570.838867  13664.313477  13552.004883  13561.018555   \n",
      "2019-09-19  13564.007812  13649.998047  13061.373047  13611.212891   \n",
      "2019-09-20  13611.084961  13642.738281  13438.896484  13504.491211   \n",
      "2019-09-21  13507.153320  13513.054688  13264.508789  13289.721680   \n",
      "2019-09-22  13295.555664  13368.072266  13166.497070  13362.695312   \n",
      "\n",
      "                 Volume  Dividends  Stock Splits  \n",
      "Date                                              \n",
      "2019-09-18  21500923601          0             0  \n",
      "2019-09-19  26433391055          0             0  \n",
      "2019-09-20  19542795567          0             0  \n",
      "2019-09-21  17806696605          0             0  \n",
      "2019-09-22  17515000629          0             0  \n"
     ]
    }
   ],
   "source": [
    "bitcoin = btc_cad.history(period=\"max\")\n",
    "print(bitcoin.head())"
   ]
  },
  {
   "cell_type": "markdown",
   "metadata": {},
   "source": [
    "And now the tail of the dataframe."
   ]
  },
  {
   "cell_type": "code",
   "execution_count": 6,
   "metadata": {},
   "outputs": [
    {
     "name": "stdout",
     "output_type": "stream",
     "text": [
      "                    Open          High           Low         Close  \\\n",
      "Date                                                                 \n",
      "2021-04-16  79368.234375  79831.468750  75262.203125  77018.320312   \n",
      "2021-04-17  76964.703125  78268.406250  75503.000000  75906.359375   \n",
      "2021-04-18  75928.953125  76373.718750  66081.828125  70374.906250   \n",
      "2021-04-19  70344.109375  71803.609375  68107.265625  69788.234375   \n",
      "2021-04-20  69859.906250  70640.367188  66774.476562  69610.000000   \n",
      "\n",
      "                  Volume  Dividends  Stock Splits  \n",
      "Date                                               \n",
      "2021-04-16  105437908391          0             0  \n",
      "2021-04-17   82729666943          0             0  \n",
      "2021-04-18  122017577989          0             0  \n",
      "2021-04-19   81836928952          0             0  \n",
      "2021-04-20   82912714752          0             0  \n"
     ]
    }
   ],
   "source": [
    "print(bitcoin.tail())"
   ]
  },
  {
   "cell_type": "markdown",
   "metadata": {},
   "source": [
    "Next...Looking into a statistical summary using the describe() method:"
   ]
  },
  {
   "cell_type": "code",
   "execution_count": 7,
   "metadata": {},
   "outputs": [
    {
     "data": {
      "text/html": [
       "<div>\n",
       "<style scoped>\n",
       "    .dataframe tbody tr th:only-of-type {\n",
       "        vertical-align: middle;\n",
       "    }\n",
       "\n",
       "    .dataframe tbody tr th {\n",
       "        vertical-align: top;\n",
       "    }\n",
       "\n",
       "    .dataframe thead th {\n",
       "        text-align: right;\n",
       "    }\n",
       "</style>\n",
       "<table border=\"1\" class=\"dataframe\">\n",
       "  <thead>\n",
       "    <tr style=\"text-align: right;\">\n",
       "      <th></th>\n",
       "      <th>Open</th>\n",
       "      <th>High</th>\n",
       "      <th>Low</th>\n",
       "      <th>Close</th>\n",
       "      <th>Volume</th>\n",
       "      <th>Dividends</th>\n",
       "      <th>Stock Splits</th>\n",
       "    </tr>\n",
       "  </thead>\n",
       "  <tbody>\n",
       "    <tr>\n",
       "      <th>count</th>\n",
       "      <td>577.000000</td>\n",
       "      <td>577.000000</td>\n",
       "      <td>577.000000</td>\n",
       "      <td>577.000000</td>\n",
       "      <td>5.770000e+02</td>\n",
       "      <td>577.0</td>\n",
       "      <td>577.0</td>\n",
       "    </tr>\n",
       "    <tr>\n",
       "      <th>mean</th>\n",
       "      <td>22668.768844</td>\n",
       "      <td>23280.556739</td>\n",
       "      <td>22052.326714</td>\n",
       "      <td>22760.611188</td>\n",
       "      <td>4.799133e+10</td>\n",
       "      <td>0.0</td>\n",
       "      <td>0.0</td>\n",
       "    </tr>\n",
       "    <tr>\n",
       "      <th>std</th>\n",
       "      <td>19522.291806</td>\n",
       "      <td>20164.169190</td>\n",
       "      <td>18831.559749</td>\n",
       "      <td>19611.430088</td>\n",
       "      <td>2.874595e+10</td>\n",
       "      <td>0.0</td>\n",
       "      <td>0.0</td>\n",
       "    </tr>\n",
       "    <tr>\n",
       "      <th>min</th>\n",
       "      <td>6996.441895</td>\n",
       "      <td>7438.541992</td>\n",
       "      <td>5720.531250</td>\n",
       "      <td>6930.849121</td>\n",
       "      <td>1.624637e+10</td>\n",
       "      <td>0.0</td>\n",
       "      <td>0.0</td>\n",
       "    </tr>\n",
       "    <tr>\n",
       "      <th>25%</th>\n",
       "      <td>11337.793945</td>\n",
       "      <td>11537.156250</td>\n",
       "      <td>11083.945312</td>\n",
       "      <td>11343.078125</td>\n",
       "      <td>2.858304e+10</td>\n",
       "      <td>0.0</td>\n",
       "      <td>0.0</td>\n",
       "    </tr>\n",
       "    <tr>\n",
       "      <th>50%</th>\n",
       "      <td>13232.760742</td>\n",
       "      <td>13478.236328</td>\n",
       "      <td>12960.170898</td>\n",
       "      <td>13233.329102</td>\n",
       "      <td>4.225350e+10</td>\n",
       "      <td>0.0</td>\n",
       "      <td>0.0</td>\n",
       "    </tr>\n",
       "    <tr>\n",
       "      <th>75%</th>\n",
       "      <td>23601.916016</td>\n",
       "      <td>24416.914062</td>\n",
       "      <td>23047.320312</td>\n",
       "      <td>23800.703125</td>\n",
       "      <td>6.119120e+10</td>\n",
       "      <td>0.0</td>\n",
       "      <td>0.0</td>\n",
       "    </tr>\n",
       "    <tr>\n",
       "      <th>max</th>\n",
       "      <td>79623.851562</td>\n",
       "      <td>81445.671875</td>\n",
       "      <td>77726.054688</td>\n",
       "      <td>79598.406250</td>\n",
       "      <td>4.470696e+11</td>\n",
       "      <td>0.0</td>\n",
       "      <td>0.0</td>\n",
       "    </tr>\n",
       "  </tbody>\n",
       "</table>\n",
       "</div>"
      ],
      "text/plain": [
       "               Open          High           Low         Close        Volume  \\\n",
       "count    577.000000    577.000000    577.000000    577.000000  5.770000e+02   \n",
       "mean   22668.768844  23280.556739  22052.326714  22760.611188  4.799133e+10   \n",
       "std    19522.291806  20164.169190  18831.559749  19611.430088  2.874595e+10   \n",
       "min     6996.441895   7438.541992   5720.531250   6930.849121  1.624637e+10   \n",
       "25%    11337.793945  11537.156250  11083.945312  11343.078125  2.858304e+10   \n",
       "50%    13232.760742  13478.236328  12960.170898  13233.329102  4.225350e+10   \n",
       "75%    23601.916016  24416.914062  23047.320312  23800.703125  6.119120e+10   \n",
       "max    79623.851562  81445.671875  77726.054688  79598.406250  4.470696e+11   \n",
       "\n",
       "       Dividends  Stock Splits  \n",
       "count      577.0         577.0  \n",
       "mean         0.0           0.0  \n",
       "std          0.0           0.0  \n",
       "min          0.0           0.0  \n",
       "25%          0.0           0.0  \n",
       "50%          0.0           0.0  \n",
       "75%          0.0           0.0  \n",
       "max          0.0           0.0  "
      ]
     },
     "execution_count": 7,
     "metadata": {},
     "output_type": "execute_result"
    }
   ],
   "source": [
    "bitcoin.describe()"
   ]
  },
  {
   "cell_type": "markdown",
   "metadata": {},
   "source": [
    "So I can see there are 577 observations or records in this dataframe, but in order to confirm this I can call the count method():"
   ]
  },
  {
   "cell_type": "code",
   "execution_count": 9,
   "metadata": {},
   "outputs": [
    {
     "data": {
      "text/plain": [
       "Open            577\n",
       "High            577\n",
       "Low             577\n",
       "Close           577\n",
       "Volume          577\n",
       "Dividends       577\n",
       "Stock Splits    577\n",
       "dtype: int64"
      ]
     },
     "execution_count": 9,
     "metadata": {},
     "output_type": "execute_result"
    }
   ],
   "source": [
    "bitcoin.count()"
   ]
  },
  {
   "cell_type": "markdown",
   "metadata": {},
   "source": []
  }
 ],
 "metadata": {
  "kernelspec": {
   "display_name": "Python 3",
   "language": "python",
   "name": "python3"
  },
  "language_info": {
   "codemirror_mode": {
    "name": "ipython",
    "version": 3
   },
   "file_extension": ".py",
   "mimetype": "text/x-python",
   "name": "python",
   "nbconvert_exporter": "python",
   "pygments_lexer": "ipython3",
   "version": "3.8.5"
  }
 },
 "nbformat": 4,
 "nbformat_minor": 4
}
