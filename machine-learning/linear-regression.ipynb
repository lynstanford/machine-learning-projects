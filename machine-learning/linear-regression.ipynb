{
 "cells": [
  {
   "cell_type": "markdown",
   "metadata": {},
   "source": [
    "# Linear Regression of Cryptocurrency\n",
    "\n",
    "The following model I have developed to demonstrate how to extract, transform and load data and build a pipeline based on a Linear Regression problem. I aim to forecast Bitcoin (C$) prices by extrapolating historical data, training, validating and testing the model before evaluating its accuracy using a benchmark score.\n",
    "\n",
    "## Performance Measure Selection\n",
    "For the purpose of a linear regression I am selecting the Root Mean Square Error (RMSE) to measure the overall degree of error when making model my predictions. "
   ]
  },
  {
   "cell_type": "markdown",
   "metadata": {},
   "source": [
    "$$ RMSE(X,h) = \\sqrt {\\frac{1}{m} \\sum_{i=1}^{m}(h(x^ {i})-y^ {i})^2} $$"
   ]
  },
  {
   "cell_type": "code",
   "execution_count": 1,
   "metadata": {},
   "outputs": [],
   "source": [
    "import pandas as pd\n",
    "import os\n",
    "import tarfile\n",
    "import urllib\n",
    "\n",
    "DOWNLOAD_URL = \"https://ca.finance.yahoo.com/quote/BTC-CAD/history?p=BTC-CAD\"\n",
    "BITCOIN_PATH = os.path.join(\"C:/Users/lynst/Documents/GitHub/machine-learning/machine-learning/BTC_CAD.csv\")\n",
    "BITCOIN_URL = DOWNLOAD_URL + \"C:/Users/lynst/Documents/GitHub/machine-learning/machine-learning/BTC_CAD.csv\"\n",
    "\n",
    "def fetch_bitcoin_data(bitcoin_url=BITCOIN_URL, bitcoin_path=BITCOIN_PATH):\n",
    "    os.makedirs(bitcoin_path, exist_ok=True)\n",
    "    tgz_path = os.path.join(bitcoin_path)\n",
    "    urllib.request.urlretrieve(bitcoin_url, tgz_path)\n",
    "    bitcoin_tgz = tarfile.open(tgz_path)\n",
    "    bitcoin_tgz.extract_all(path=bitcoin_path)\n",
    "    bitcoin_tgz.close()\n",
    "    \n",
    "def load_bitcoin_data(bitcoin_path=BITCOIN_PATH):\n",
    "    csv_path = os.path.join(bitcoin_path)\n",
    "    return pd.read_csv(csv_path)"
   ]
  },
  {
   "cell_type": "markdown",
   "metadata": {},
   "source": [
    "Start by loading the Canadian denominated Bitcoin data below."
   ]
  },
  {
   "cell_type": "code",
   "execution_count": 2,
   "metadata": {},
   "outputs": [
    {
     "output_type": "execute_result",
     "data": {
      "text/plain": [
       "         Date          Open          High           Low         Close  \\\n",
       "0  2020-04-21   9718.074219   9838.333008   9728.248047   9763.935547   \n",
       "1  2020-04-22   9762.682617  10125.870120   9747.394531  10096.278320   \n",
       "2  2020-04-23  10102.092770  10533.734380  10009.763670  10451.163090   \n",
       "3  2020-04-24  10457.432620  10678.707030  10457.432620  10642.806640   \n",
       "4  2020-04-25  10642.216800  10773.176760  10601.609380  10669.635740   \n",
       "\n",
       "      Adj Close        Volume  \n",
       "0   9763.935547  4.624843e+10  \n",
       "1  10096.278320  4.716635e+10  \n",
       "2  10451.163090  6.119120e+10  \n",
       "3  10642.806640  4.881932e+10  \n",
       "4  10669.635740  4.643028e+10  "
      ],
      "text/html": "<div>\n<style scoped>\n    .dataframe tbody tr th:only-of-type {\n        vertical-align: middle;\n    }\n\n    .dataframe tbody tr th {\n        vertical-align: top;\n    }\n\n    .dataframe thead th {\n        text-align: right;\n    }\n</style>\n<table border=\"1\" class=\"dataframe\">\n  <thead>\n    <tr style=\"text-align: right;\">\n      <th></th>\n      <th>Date</th>\n      <th>Open</th>\n      <th>High</th>\n      <th>Low</th>\n      <th>Close</th>\n      <th>Adj Close</th>\n      <th>Volume</th>\n    </tr>\n  </thead>\n  <tbody>\n    <tr>\n      <th>0</th>\n      <td>2020-04-21</td>\n      <td>9718.074219</td>\n      <td>9838.333008</td>\n      <td>9728.248047</td>\n      <td>9763.935547</td>\n      <td>9763.935547</td>\n      <td>4.624843e+10</td>\n    </tr>\n    <tr>\n      <th>1</th>\n      <td>2020-04-22</td>\n      <td>9762.682617</td>\n      <td>10125.870120</td>\n      <td>9747.394531</td>\n      <td>10096.278320</td>\n      <td>10096.278320</td>\n      <td>4.716635e+10</td>\n    </tr>\n    <tr>\n      <th>2</th>\n      <td>2020-04-23</td>\n      <td>10102.092770</td>\n      <td>10533.734380</td>\n      <td>10009.763670</td>\n      <td>10451.163090</td>\n      <td>10451.163090</td>\n      <td>6.119120e+10</td>\n    </tr>\n    <tr>\n      <th>3</th>\n      <td>2020-04-24</td>\n      <td>10457.432620</td>\n      <td>10678.707030</td>\n      <td>10457.432620</td>\n      <td>10642.806640</td>\n      <td>10642.806640</td>\n      <td>4.881932e+10</td>\n    </tr>\n    <tr>\n      <th>4</th>\n      <td>2020-04-25</td>\n      <td>10642.216800</td>\n      <td>10773.176760</td>\n      <td>10601.609380</td>\n      <td>10669.635740</td>\n      <td>10669.635740</td>\n      <td>4.643028e+10</td>\n    </tr>\n  </tbody>\n</table>\n</div>"
     },
     "metadata": {},
     "execution_count": 2
    }
   ],
   "source": [
    "btc_cad = load_bitcoin_data()\n",
    "btc_cad.head()"
   ]
  },
  {
   "cell_type": "markdown",
   "metadata": {},
   "source": [
    "Each column represents a different feature, for example 'High', 'Low' and 'Close' prices are all features. These features are also known as attributes, input, or predictor variables which can be used to ascertain a stock price prediction (called labels, output, or target variables)."
   ]
  },
  {
   "cell_type": "code",
   "execution_count": 3,
   "metadata": {},
   "outputs": [
    {
     "output_type": "stream",
     "name": "stdout",
     "text": [
      "<class 'pandas.core.frame.DataFrame'>\nRangeIndex: 366 entries, 0 to 365\nData columns (total 7 columns):\n #   Column     Non-Null Count  Dtype  \n---  ------     --------------  -----  \n 0   Date       366 non-null    object \n 1   Open       362 non-null    float64\n 2   High       362 non-null    float64\n 3   Low        362 non-null    float64\n 4   Close      362 non-null    float64\n 5   Adj Close  362 non-null    float64\n 6   Volume     362 non-null    float64\ndtypes: float64(6), object(1)\nmemory usage: 20.1+ KB\nNone\n"
     ]
    }
   ],
   "source": [
    "# get stock info\n",
    "print(btc_cad.info())"
   ]
  },
  {
   "cell_type": "markdown",
   "metadata": {},
   "source": [
    "The following method gives a breakdown of the first and last entries in the dataset."
   ]
  },
  {
   "cell_type": "code",
   "execution_count": 4,
   "metadata": {},
   "outputs": [
    {
     "output_type": "execute_result",
     "data": {
      "text/plain": [
       "<bound method DataFrame.info of            Date          Open          High           Low         Close  \\\n",
       "0    2020-04-21   9718.074219   9838.333008   9728.248047   9763.935547   \n",
       "1    2020-04-22   9762.682617  10125.870120   9747.394531  10096.278320   \n",
       "2    2020-04-23  10102.092770  10533.734380  10009.763670  10451.163090   \n",
       "3    2020-04-24  10457.432620  10678.707030  10457.432620  10642.806640   \n",
       "4    2020-04-25  10642.216800  10773.176760  10601.609380  10669.635740   \n",
       "..          ...           ...           ...           ...           ...   \n",
       "361  2021-04-17  76964.703130  78268.406250  75503.000000  75906.359380   \n",
       "362  2021-04-18  75928.953130  76373.718750  66081.828130  70374.906250   \n",
       "363  2021-04-19  70344.109380  71803.609380  68107.265630  69788.234380   \n",
       "364  2021-04-20           NaN           NaN           NaN           NaN   \n",
       "365  2021-04-21  71509.304690  71556.757810  71132.078130  71477.757810   \n",
       "\n",
       "        Adj Close        Volume  \n",
       "0     9763.935547  4.624843e+10  \n",
       "1    10096.278320  4.716635e+10  \n",
       "2    10451.163090  6.119120e+10  \n",
       "3    10642.806640  4.881932e+10  \n",
       "4    10669.635740  4.643028e+10  \n",
       "..            ...           ...  \n",
       "361  75906.359380  8.272967e+10  \n",
       "362  70374.906250  1.220000e+11  \n",
       "363  69788.234380  8.183693e+10  \n",
       "364           NaN           NaN  \n",
       "365  71477.757810  8.495634e+10  \n",
       "\n",
       "[366 rows x 7 columns]>"
      ]
     },
     "metadata": {},
     "execution_count": 4
    }
   ],
   "source": [
    "btc_cad.info"
   ]
  },
  {
   "cell_type": "markdown",
   "metadata": {},
   "source": [
    "To view some of the summary statistics I will use the describe() method."
   ]
  },
  {
   "cell_type": "code",
   "execution_count": 5,
   "metadata": {},
   "outputs": [
    {
     "output_type": "execute_result",
     "data": {
      "text/plain": [
       "               Open          High           Low         Close     Adj Close  \\\n",
       "count    362.000000    362.000000    362.000000    362.000000    362.000000   \n",
       "mean   29707.219509  30555.675634  28874.214073  29864.750594  29864.750594   \n",
       "std    21773.554061  22482.286397  20992.767955  21845.825379  21845.825379   \n",
       "min     9718.074219   9838.333008   9728.248047   9763.935547   9763.935547   \n",
       "25%    13373.918455  13684.485110  13056.077148  13421.041262  13421.041262   \n",
       "50%    16520.156250  17169.826175  16253.259275  16921.556640  16921.556640   \n",
       "75%    44679.113283  46686.911130  41998.325195  45279.527345  45279.527345   \n",
       "max    79623.851560  81445.671880  77726.054690  79598.406250  79598.406250   \n",
       "\n",
       "             Volume  \n",
       "count  3.620000e+02  \n",
       "mean   5.364938e+10  \n",
       "std    3.297456e+10  \n",
       "min    1.663903e+10  \n",
       "25%    3.142625e+10  \n",
       "50%    4.716901e+10  \n",
       "75%    6.929678e+10  \n",
       "max    4.470000e+11  "
      ],
      "text/html": "<div>\n<style scoped>\n    .dataframe tbody tr th:only-of-type {\n        vertical-align: middle;\n    }\n\n    .dataframe tbody tr th {\n        vertical-align: top;\n    }\n\n    .dataframe thead th {\n        text-align: right;\n    }\n</style>\n<table border=\"1\" class=\"dataframe\">\n  <thead>\n    <tr style=\"text-align: right;\">\n      <th></th>\n      <th>Open</th>\n      <th>High</th>\n      <th>Low</th>\n      <th>Close</th>\n      <th>Adj Close</th>\n      <th>Volume</th>\n    </tr>\n  </thead>\n  <tbody>\n    <tr>\n      <th>count</th>\n      <td>362.000000</td>\n      <td>362.000000</td>\n      <td>362.000000</td>\n      <td>362.000000</td>\n      <td>362.000000</td>\n      <td>3.620000e+02</td>\n    </tr>\n    <tr>\n      <th>mean</th>\n      <td>29707.219509</td>\n      <td>30555.675634</td>\n      <td>28874.214073</td>\n      <td>29864.750594</td>\n      <td>29864.750594</td>\n      <td>5.364938e+10</td>\n    </tr>\n    <tr>\n      <th>std</th>\n      <td>21773.554061</td>\n      <td>22482.286397</td>\n      <td>20992.767955</td>\n      <td>21845.825379</td>\n      <td>21845.825379</td>\n      <td>3.297456e+10</td>\n    </tr>\n    <tr>\n      <th>min</th>\n      <td>9718.074219</td>\n      <td>9838.333008</td>\n      <td>9728.248047</td>\n      <td>9763.935547</td>\n      <td>9763.935547</td>\n      <td>1.663903e+10</td>\n    </tr>\n    <tr>\n      <th>25%</th>\n      <td>13373.918455</td>\n      <td>13684.485110</td>\n      <td>13056.077148</td>\n      <td>13421.041262</td>\n      <td>13421.041262</td>\n      <td>3.142625e+10</td>\n    </tr>\n    <tr>\n      <th>50%</th>\n      <td>16520.156250</td>\n      <td>17169.826175</td>\n      <td>16253.259275</td>\n      <td>16921.556640</td>\n      <td>16921.556640</td>\n      <td>4.716901e+10</td>\n    </tr>\n    <tr>\n      <th>75%</th>\n      <td>44679.113283</td>\n      <td>46686.911130</td>\n      <td>41998.325195</td>\n      <td>45279.527345</td>\n      <td>45279.527345</td>\n      <td>6.929678e+10</td>\n    </tr>\n    <tr>\n      <th>max</th>\n      <td>79623.851560</td>\n      <td>81445.671880</td>\n      <td>77726.054690</td>\n      <td>79598.406250</td>\n      <td>79598.406250</td>\n      <td>4.470000e+11</td>\n    </tr>\n  </tbody>\n</table>\n</div>"
     },
     "metadata": {},
     "execution_count": 5
    }
   ],
   "source": [
    "btc_cad.describe()"
   ]
  },
  {
   "cell_type": "markdown",
   "metadata": {},
   "source": [
    "So I can tell the average closing price is C$29,865 to the nearest integer. \n",
    "\n",
    "There isn't much data to work from (one years worth exactly), but I would like to create a dataframe object from the price data and try and use it to forecast future price information.\n",
    "\n",
    "# Import Libraries\n",
    "The bulk of the libraries I will use are as follows. This may change as I progress."
   ]
  },
  {
   "cell_type": "code",
   "execution_count": 6,
   "metadata": {},
   "outputs": [],
   "source": [
    "import numpy as np\n",
    "from sklearn import linear_model\n",
    "from sklearn import preprocessing, svm\n",
    "from sklearn.linear_model import LinearRegression\n",
    "from sklearn.model_selection import cross_val_score\n",
    "from sklearn.model_selection import cross_validate"
   ]
  },
  {
   "cell_type": "markdown",
   "metadata": {},
   "source": [
    "Taking a look at which columns are present in the dataset gives me:"
   ]
  },
  {
   "cell_type": "code",
   "execution_count": 7,
   "metadata": {},
   "outputs": [
    {
     "output_type": "execute_result",
     "data": {
      "text/plain": [
       "Index(['Date', 'Open', 'High', 'Low', 'Close', 'Adj Close', 'Volume'], dtype='object')"
      ]
     },
     "metadata": {},
     "execution_count": 7
    }
   ],
   "source": [
    "btc_cad.columns"
   ]
  },
  {
   "cell_type": "markdown",
   "metadata": {},
   "source": [
    "And now lets see the first and last 5 entries in the table:"
   ]
  },
  {
   "cell_type": "code",
   "execution_count": 8,
   "metadata": {},
   "outputs": [
    {
     "output_type": "execute_result",
     "data": {
      "text/plain": [
       "         Date          Open          High           Low         Close  \\\n",
       "0  2020-04-21   9718.074219   9838.333008   9728.248047   9763.935547   \n",
       "1  2020-04-22   9762.682617  10125.870120   9747.394531  10096.278320   \n",
       "2  2020-04-23  10102.092770  10533.734380  10009.763670  10451.163090   \n",
       "3  2020-04-24  10457.432620  10678.707030  10457.432620  10642.806640   \n",
       "4  2020-04-25  10642.216800  10773.176760  10601.609380  10669.635740   \n",
       "\n",
       "      Adj Close        Volume  \n",
       "0   9763.935547  4.624843e+10  \n",
       "1  10096.278320  4.716635e+10  \n",
       "2  10451.163090  6.119120e+10  \n",
       "3  10642.806640  4.881932e+10  \n",
       "4  10669.635740  4.643028e+10  "
      ],
      "text/html": "<div>\n<style scoped>\n    .dataframe tbody tr th:only-of-type {\n        vertical-align: middle;\n    }\n\n    .dataframe tbody tr th {\n        vertical-align: top;\n    }\n\n    .dataframe thead th {\n        text-align: right;\n    }\n</style>\n<table border=\"1\" class=\"dataframe\">\n  <thead>\n    <tr style=\"text-align: right;\">\n      <th></th>\n      <th>Date</th>\n      <th>Open</th>\n      <th>High</th>\n      <th>Low</th>\n      <th>Close</th>\n      <th>Adj Close</th>\n      <th>Volume</th>\n    </tr>\n  </thead>\n  <tbody>\n    <tr>\n      <th>0</th>\n      <td>2020-04-21</td>\n      <td>9718.074219</td>\n      <td>9838.333008</td>\n      <td>9728.248047</td>\n      <td>9763.935547</td>\n      <td>9763.935547</td>\n      <td>4.624843e+10</td>\n    </tr>\n    <tr>\n      <th>1</th>\n      <td>2020-04-22</td>\n      <td>9762.682617</td>\n      <td>10125.870120</td>\n      <td>9747.394531</td>\n      <td>10096.278320</td>\n      <td>10096.278320</td>\n      <td>4.716635e+10</td>\n    </tr>\n    <tr>\n      <th>2</th>\n      <td>2020-04-23</td>\n      <td>10102.092770</td>\n      <td>10533.734380</td>\n      <td>10009.763670</td>\n      <td>10451.163090</td>\n      <td>10451.163090</td>\n      <td>6.119120e+10</td>\n    </tr>\n    <tr>\n      <th>3</th>\n      <td>2020-04-24</td>\n      <td>10457.432620</td>\n      <td>10678.707030</td>\n      <td>10457.432620</td>\n      <td>10642.806640</td>\n      <td>10642.806640</td>\n      <td>4.881932e+10</td>\n    </tr>\n    <tr>\n      <th>4</th>\n      <td>2020-04-25</td>\n      <td>10642.216800</td>\n      <td>10773.176760</td>\n      <td>10601.609380</td>\n      <td>10669.635740</td>\n      <td>10669.635740</td>\n      <td>4.643028e+10</td>\n    </tr>\n  </tbody>\n</table>\n</div>"
     },
     "metadata": {},
     "execution_count": 8
    }
   ],
   "source": [
    "btc_cad.head()"
   ]
  },
  {
   "cell_type": "markdown",
   "metadata": {},
   "source": [
    "And now the tail of the dataframe."
   ]
  },
  {
   "cell_type": "code",
   "execution_count": 9,
   "metadata": {},
   "outputs": [
    {
     "output_type": "execute_result",
     "data": {
      "text/plain": [
       "           Date         Open         High          Low        Close  \\\n",
       "361  2021-04-17  76964.70313  78268.40625  75503.00000  75906.35938   \n",
       "362  2021-04-18  75928.95313  76373.71875  66081.82813  70374.90625   \n",
       "363  2021-04-19  70344.10938  71803.60938  68107.26563  69788.23438   \n",
       "364  2021-04-20          NaN          NaN          NaN          NaN   \n",
       "365  2021-04-21  71509.30469  71556.75781  71132.07813  71477.75781   \n",
       "\n",
       "       Adj Close        Volume  \n",
       "361  75906.35938  8.272967e+10  \n",
       "362  70374.90625  1.220000e+11  \n",
       "363  69788.23438  8.183693e+10  \n",
       "364          NaN           NaN  \n",
       "365  71477.75781  8.495634e+10  "
      ],
      "text/html": "<div>\n<style scoped>\n    .dataframe tbody tr th:only-of-type {\n        vertical-align: middle;\n    }\n\n    .dataframe tbody tr th {\n        vertical-align: top;\n    }\n\n    .dataframe thead th {\n        text-align: right;\n    }\n</style>\n<table border=\"1\" class=\"dataframe\">\n  <thead>\n    <tr style=\"text-align: right;\">\n      <th></th>\n      <th>Date</th>\n      <th>Open</th>\n      <th>High</th>\n      <th>Low</th>\n      <th>Close</th>\n      <th>Adj Close</th>\n      <th>Volume</th>\n    </tr>\n  </thead>\n  <tbody>\n    <tr>\n      <th>361</th>\n      <td>2021-04-17</td>\n      <td>76964.70313</td>\n      <td>78268.40625</td>\n      <td>75503.00000</td>\n      <td>75906.35938</td>\n      <td>75906.35938</td>\n      <td>8.272967e+10</td>\n    </tr>\n    <tr>\n      <th>362</th>\n      <td>2021-04-18</td>\n      <td>75928.95313</td>\n      <td>76373.71875</td>\n      <td>66081.82813</td>\n      <td>70374.90625</td>\n      <td>70374.90625</td>\n      <td>1.220000e+11</td>\n    </tr>\n    <tr>\n      <th>363</th>\n      <td>2021-04-19</td>\n      <td>70344.10938</td>\n      <td>71803.60938</td>\n      <td>68107.26563</td>\n      <td>69788.23438</td>\n      <td>69788.23438</td>\n      <td>8.183693e+10</td>\n    </tr>\n    <tr>\n      <th>364</th>\n      <td>2021-04-20</td>\n      <td>NaN</td>\n      <td>NaN</td>\n      <td>NaN</td>\n      <td>NaN</td>\n      <td>NaN</td>\n      <td>NaN</td>\n    </tr>\n    <tr>\n      <th>365</th>\n      <td>2021-04-21</td>\n      <td>71509.30469</td>\n      <td>71556.75781</td>\n      <td>71132.07813</td>\n      <td>71477.75781</td>\n      <td>71477.75781</td>\n      <td>8.495634e+10</td>\n    </tr>\n  </tbody>\n</table>\n</div>"
     },
     "metadata": {},
     "execution_count": 9
    }
   ],
   "source": [
    "btc_cad.tail()"
   ]
  },
  {
   "cell_type": "markdown",
   "metadata": {},
   "source": [
    "# Cleaning the Data\n",
    "A brief look at the summary info for the dataset tells me there are a different number of date values compared to the rest of the column entries. This will need to be addressed, followed by any missing values, NaN, 'isnull' or entries with 'zero'. I can also see the different number 'count' for entries using the count() method:"
   ]
  },
  {
   "cell_type": "code",
   "execution_count": 10,
   "metadata": {},
   "outputs": [
    {
     "output_type": "execute_result",
     "data": {
      "text/plain": [
       "Date         366\n",
       "Open         362\n",
       "High         362\n",
       "Low          362\n",
       "Close        362\n",
       "Adj Close    362\n",
       "Volume       362\n",
       "dtype: int64"
      ]
     },
     "metadata": {},
     "execution_count": 10
    }
   ],
   "source": [
    "btc_cad.count()"
   ]
  },
  {
   "cell_type": "markdown",
   "metadata": {},
   "source": [
    "First I just want to see what shape the dataframe is."
   ]
  },
  {
   "cell_type": "code",
   "execution_count": 11,
   "metadata": {},
   "outputs": [
    {
     "output_type": "execute_result",
     "data": {
      "text/plain": [
       "(366, 7)"
      ]
     },
     "metadata": {},
     "execution_count": 11
    }
   ],
   "source": [
    "btc_cad.shape"
   ]
  },
  {
   "cell_type": "markdown",
   "metadata": {},
   "source": [
    "So it's 366 rows by 7 columns or a (366x7) matrix.\n",
    "\n",
    "Next, to find the total number of missing entries."
   ]
  },
  {
   "cell_type": "code",
   "execution_count": 12,
   "metadata": {},
   "outputs": [
    {
     "output_type": "execute_result",
     "data": {
      "text/plain": [
       "Date         0\n",
       "Open         4\n",
       "High         4\n",
       "Low          4\n",
       "Close        4\n",
       "Adj Close    4\n",
       "Volume       4\n",
       "dtype: int64"
      ]
     },
     "metadata": {},
     "execution_count": 12
    }
   ],
   "source": [
    "bitcoin_missing_values_count = btc_cad.isnull().sum()\n",
    "bitcoin_missing_values_count[0:7]"
   ]
  },
  {
   "cell_type": "markdown",
   "metadata": {},
   "source": [
    "Further examination allows me to calculate the total number of rows containing missing data points as a percentage of the total number of rows in the dataframe."
   ]
  },
  {
   "cell_type": "code",
   "execution_count": 13,
   "metadata": {},
   "outputs": [
    {
     "output_type": "stream",
     "name": "stdout",
     "text": [
      "0.936768149882904\n"
     ]
    }
   ],
   "source": [
    "total_bitcoin = np.product(btc_cad.shape)\n",
    "total_missing_bitcoin = bitcoin_missing_values_count.sum()\n",
    "\n",
    "percent_missing_values = (total_missing_bitcoin/total_bitcoin) * 100\n",
    "print(percent_missing_values)"
   ]
  },
  {
   "cell_type": "markdown",
   "metadata": {},
   "source": [
    "From this I can see that just under 1% of the total values are missing. I can either choose to leave them out completely (as they may not really affect my model for the purpose of this exercise) or use imputed values such as the mean or median.\n",
    "\n",
    "## Removing Rows\n",
    "Having checked the csv file I can determine that there is no real reason for the missing values (null entries) for these dates. At first I thought these missing values might be due to public holidays but because Bitcoin is a currency, it appears to be traded OTC (Over The Counter) beyong normal trading hours throughout the day, seven days a week. As a result I have chosen to leave these missing values out using the dropna() method to eliminate them."
   ]
  },
  {
   "cell_type": "code",
   "execution_count": 14,
   "metadata": {},
   "outputs": [],
   "source": [
    "btc_cad = btc_cad.dropna(axis=0)"
   ]
  },
  {
   "cell_type": "code",
   "execution_count": 15,
   "metadata": {},
   "outputs": [
    {
     "output_type": "execute_result",
     "data": {
      "text/plain": [
       "Date         362\n",
       "Open         362\n",
       "High         362\n",
       "Low          362\n",
       "Close        362\n",
       "Adj Close    362\n",
       "Volume       362\n",
       "dtype: int64"
      ]
     },
     "metadata": {},
     "execution_count": 15
    }
   ],
   "source": [
    "btc_cad.count()"
   ]
  },
  {
   "cell_type": "markdown",
   "metadata": {},
   "source": [
    "This time there are exactly 362 rows for each column. It's important to set the argument (axis=0) otherwise dropping the values doesn't work. \n",
    "\n",
    "## Removing Columns\n",
    "\n",
    "The values in the 'Adj Close' column are exactly the same as in the 'Close' column so I will remove 'Adj Close' completely from the dataset in an attempt to regularize the model. This is unecessary data which can be removed as it could contribute to bias and bleed into the test data. It's better to reduce the overall number of variables particularly removing those which are not relevant."
   ]
  },
  {
   "cell_type": "code",
   "execution_count": 16,
   "metadata": {},
   "outputs": [
    {
     "output_type": "execute_result",
     "data": {
      "text/plain": [
       "Index(['Date', 'Open', 'High', 'Low', 'Close', 'Adj Close', 'Volume'], dtype='object')"
      ]
     },
     "metadata": {},
     "execution_count": 16
    }
   ],
   "source": [
    "btc_cad.columns"
   ]
  },
  {
   "cell_type": "code",
   "execution_count": 24,
   "metadata": {},
   "outputs": [],
   "source": [
    "del btc_cad['Adj Close']"
   ]
  },
  {
   "cell_type": "code",
   "execution_count": 25,
   "metadata": {},
   "outputs": [
    {
     "output_type": "execute_result",
     "data": {
      "text/plain": [
       "Index(['Date', 'Open', 'High', 'Low', 'Close', 'Volume'], dtype='object')"
      ]
     },
     "metadata": {},
     "execution_count": 25
    }
   ],
   "source": [
    "btc_cad.columns"
   ]
  },
  {
   "source": [
    "Next, I will create a variable to hold the data columns using indexation."
   ],
   "cell_type": "markdown",
   "metadata": {}
  },
  {
   "cell_type": "code",
   "execution_count": 27,
   "metadata": {},
   "outputs": [],
   "source": [
    "bitcoin = btc_cad"
   ]
  },
  {
   "source": [
    "# Exploratory Data Analysis\n",
    "\n",
    "The mean value for the Bitcoin (CAD) close price is C$ 29,864.75 and from the summary statistics using 'describe()' I can also see the maximum values in the upper-quartile range have been tested regularly.\n",
    "\n",
    "As there are no dividends or stock splits because Bitcoin is a currency (medium of exchange / store of value), only 6 columns are of any use to me in this particular dataset: Date, Open, High, Low, Close and Volume. Printing the first 5 lines of the dataframe gives:"
   ],
   "cell_type": "markdown",
   "metadata": {}
  },
  {
   "cell_type": "code",
   "execution_count": 33,
   "metadata": {},
   "outputs": [
    {
     "output_type": "stream",
     "name": "stdout",
     "text": [
      "         Date          Open          High           Low         Close  \\\n0  2020-04-21   9718.074219   9838.333008   9728.248047   9763.935547   \n1  2020-04-22   9762.682617  10125.870120   9747.394531  10096.278320   \n2  2020-04-23  10102.092770  10533.734380  10009.763670  10451.163090   \n3  2020-04-24  10457.432620  10678.707030  10457.432620  10642.806640   \n4  2020-04-25  10642.216800  10773.176760  10601.609380  10669.635740   \n\n         Volume  \n0  4.624843e+10  \n1  4.716635e+10  \n2  6.119120e+10  \n3  4.881932e+10  \n4  4.643028e+10  \n"
     ]
    }
   ],
   "source": [
    "print(bitcoin[:5])"
   ]
  },
  {
   "cell_type": "markdown",
   "metadata": {},
   "source": [
    "Next I want to split the data into predictors and a target variable, containing all my feature columns in one table variable and the target variable in a column vector. The prediction target can be assigned as follows:"
   ]
  },
  {
   "cell_type": "code",
   "execution_count": 34,
   "metadata": {},
   "outputs": [],
   "source": [
    "y = bitcoin.Close"
   ]
  },
  {
   "cell_type": "markdown",
   "metadata": {},
   "source": [
    "The features are a selection of columns used to predict 'y', including"
   ]
  },
  {
   "cell_type": "code",
   "execution_count": 35,
   "metadata": {},
   "outputs": [],
   "source": [
    "bitcoin_features = ['Date','Open','High','Low','Volume']"
   ]
  },
  {
   "cell_type": "code",
   "execution_count": 36,
   "metadata": {},
   "outputs": [],
   "source": [
    "X = bitcoin[bitcoin_features]"
   ]
  },
  {
   "cell_type": "markdown",
   "metadata": {},
   "source": [
    "So currently I can determine that Bitcoin was trading well below the mean (12 months ago) and more recently it's trading at roughly 130% above the mean for the last 12 month period. \n",
    "\n",
    "Time for some interval analysis where I will attempt to place OHLC values in different interval buckets based on the number of counts, but first I ned to create a plot."
   ]
  },
  {
   "cell_type": "code",
   "execution_count": 49,
   "metadata": {},
   "outputs": [
    {
     "output_type": "execute_result",
     "data": {
      "text/plain": [
       "[<matplotlib.lines.Line2D at 0x1dbe7164130>]"
      ]
     },
     "metadata": {},
     "execution_count": 49
    },
    {
     "output_type": "display_data",
     "data": {
      "text/plain": "<Figure size 432x288 with 1 Axes>",
      "image/svg+xml": "<?xml version=\"1.0\" encoding=\"utf-8\" standalone=\"no\"?>\r\n<!DOCTYPE svg PUBLIC \"-//W3C//DTD SVG 1.1//EN\"\r\n  \"http://www.w3.org/Graphics/SVG/1.1/DTD/svg11.dtd\">\r\n<!-- Created with matplotlib (https://matplotlib.org/) -->\r\n<svg height=\"140.512926pt\" version=\"1.1\" viewBox=\"0 0 189.484943 140.512926\" width=\"189.484943pt\" xmlns=\"http://www.w3.org/2000/svg\" xmlns:xlink=\"http://www.w3.org/1999/xlink\">\r\n <metadata>\r\n  <rdf:RDF xmlns:cc=\"http://creativecommons.org/ns#\" xmlns:dc=\"http://purl.org/dc/elements/1.1/\" xmlns:rdf=\"http://www.w3.org/1999/02/22-rdf-syntax-ns#\">\r\n   <cc:Work>\r\n    <dc:type rdf:resource=\"http://purl.org/dc/dcmitype/StillImage\"/>\r\n    <dc:date>2021-04-24T18:40:49.359892</dc:date>\r\n    <dc:format>image/svg+xml</dc:format>\r\n    <dc:creator>\r\n     <cc:Agent>\r\n      <dc:title>Matplotlib v3.3.4, https://matplotlib.org/</dc:title>\r\n     </cc:Agent>\r\n    </dc:creator>\r\n   </cc:Work>\r\n  </rdf:RDF>\r\n </metadata>\r\n <defs>\r\n  <style type=\"text/css\">*{stroke-linecap:butt;stroke-linejoin:round;}</style>\r\n </defs>\r\n <g id=\"figure_1\">\r\n  <g id=\"patch_1\">\r\n   <path d=\"M 0 140.512926 \r\nL 189.484943 140.512926 \r\nL 189.484943 0 \r\nL 0 0 \r\nz\r\n\" style=\"fill:none;\"/>\r\n  </g>\r\n  <g id=\"axes_1\">\r\n   <g id=\"patch_2\">\r\n    <path d=\"M 30.103125 116.634801 \r\nL 182.284943 116.634801 \r\nL 182.284943 17.798437 \r\nL 30.103125 17.798437 \r\nz\r\n\" style=\"fill:#ffffff;\"/>\r\n   </g>\r\n   <g id=\"matplotlib.axis_1\">\r\n    <g id=\"xtick_1\">\r\n     <g id=\"line2d_1\">\r\n      <defs>\r\n       <path d=\"M 0 0 \r\nL 0 3.5 \r\n\" id=\"m416b52ed5f\" style=\"stroke:#000000;stroke-width:0.8;\"/>\r\n      </defs>\r\n      <g>\r\n       <use style=\"stroke:#000000;stroke-width:0.8;\" x=\"37.02048\" xlink:href=\"#m416b52ed5f\" y=\"116.634801\"/>\r\n      </g>\r\n     </g>\r\n     <g id=\"text_1\">\r\n      <!-- 0 -->\r\n      <g transform=\"translate(33.83923 131.233239)scale(0.1 -0.1)\">\r\n       <defs>\r\n        <path d=\"M 31.78125 66.40625 \r\nQ 24.171875 66.40625 20.328125 58.90625 \r\nQ 16.5 51.421875 16.5 36.375 \r\nQ 16.5 21.390625 20.328125 13.890625 \r\nQ 24.171875 6.390625 31.78125 6.390625 \r\nQ 39.453125 6.390625 43.28125 13.890625 \r\nQ 47.125 21.390625 47.125 36.375 \r\nQ 47.125 51.421875 43.28125 58.90625 \r\nQ 39.453125 66.40625 31.78125 66.40625 \r\nz\r\nM 31.78125 74.21875 \r\nQ 44.046875 74.21875 50.515625 64.515625 \r\nQ 56.984375 54.828125 56.984375 36.375 \r\nQ 56.984375 17.96875 50.515625 8.265625 \r\nQ 44.046875 -1.421875 31.78125 -1.421875 \r\nQ 19.53125 -1.421875 13.0625 8.265625 \r\nQ 6.59375 17.96875 6.59375 36.375 \r\nQ 6.59375 54.828125 13.0625 64.515625 \r\nQ 19.53125 74.21875 31.78125 74.21875 \r\nz\r\n\" id=\"DejaVuSans-48\"/>\r\n       </defs>\r\n       <use xlink:href=\"#DejaVuSans-48\"/>\r\n      </g>\r\n     </g>\r\n    </g>\r\n    <g id=\"xtick_2\">\r\n     <g id=\"line2d_2\">\r\n      <g>\r\n       <use style=\"stroke:#000000;stroke-width:0.8;\" x=\"74.923797\" xlink:href=\"#m416b52ed5f\" y=\"116.634801\"/>\r\n      </g>\r\n     </g>\r\n     <g id=\"text_2\">\r\n      <!-- 100 -->\r\n      <g transform=\"translate(65.380047 131.233239)scale(0.1 -0.1)\">\r\n       <defs>\r\n        <path d=\"M 12.40625 8.296875 \r\nL 28.515625 8.296875 \r\nL 28.515625 63.921875 \r\nL 10.984375 60.40625 \r\nL 10.984375 69.390625 \r\nL 28.421875 72.90625 \r\nL 38.28125 72.90625 \r\nL 38.28125 8.296875 \r\nL 54.390625 8.296875 \r\nL 54.390625 0 \r\nL 12.40625 0 \r\nz\r\n\" id=\"DejaVuSans-49\"/>\r\n       </defs>\r\n       <use xlink:href=\"#DejaVuSans-49\"/>\r\n       <use x=\"63.623047\" xlink:href=\"#DejaVuSans-48\"/>\r\n       <use x=\"127.246094\" xlink:href=\"#DejaVuSans-48\"/>\r\n      </g>\r\n     </g>\r\n    </g>\r\n    <g id=\"xtick_3\">\r\n     <g id=\"line2d_3\">\r\n      <g>\r\n       <use style=\"stroke:#000000;stroke-width:0.8;\" x=\"112.827115\" xlink:href=\"#m416b52ed5f\" y=\"116.634801\"/>\r\n      </g>\r\n     </g>\r\n     <g id=\"text_3\">\r\n      <!-- 200 -->\r\n      <g transform=\"translate(103.283365 131.233239)scale(0.1 -0.1)\">\r\n       <defs>\r\n        <path d=\"M 19.1875 8.296875 \r\nL 53.609375 8.296875 \r\nL 53.609375 0 \r\nL 7.328125 0 \r\nL 7.328125 8.296875 \r\nQ 12.9375 14.109375 22.625 23.890625 \r\nQ 32.328125 33.6875 34.8125 36.53125 \r\nQ 39.546875 41.84375 41.421875 45.53125 \r\nQ 43.3125 49.21875 43.3125 52.78125 \r\nQ 43.3125 58.59375 39.234375 62.25 \r\nQ 35.15625 65.921875 28.609375 65.921875 \r\nQ 23.96875 65.921875 18.8125 64.3125 \r\nQ 13.671875 62.703125 7.8125 59.421875 \r\nL 7.8125 69.390625 \r\nQ 13.765625 71.78125 18.9375 73 \r\nQ 24.125 74.21875 28.421875 74.21875 \r\nQ 39.75 74.21875 46.484375 68.546875 \r\nQ 53.21875 62.890625 53.21875 53.421875 \r\nQ 53.21875 48.921875 51.53125 44.890625 \r\nQ 49.859375 40.875 45.40625 35.40625 \r\nQ 44.1875 33.984375 37.640625 27.21875 \r\nQ 31.109375 20.453125 19.1875 8.296875 \r\nz\r\n\" id=\"DejaVuSans-50\"/>\r\n       </defs>\r\n       <use xlink:href=\"#DejaVuSans-50\"/>\r\n       <use x=\"63.623047\" xlink:href=\"#DejaVuSans-48\"/>\r\n       <use x=\"127.246094\" xlink:href=\"#DejaVuSans-48\"/>\r\n      </g>\r\n     </g>\r\n    </g>\r\n    <g id=\"xtick_4\">\r\n     <g id=\"line2d_4\">\r\n      <g>\r\n       <use style=\"stroke:#000000;stroke-width:0.8;\" x=\"150.730432\" xlink:href=\"#m416b52ed5f\" y=\"116.634801\"/>\r\n      </g>\r\n     </g>\r\n     <g id=\"text_4\">\r\n      <!-- 300 -->\r\n      <g transform=\"translate(141.186682 131.233239)scale(0.1 -0.1)\">\r\n       <defs>\r\n        <path d=\"M 40.578125 39.3125 \r\nQ 47.65625 37.796875 51.625 33 \r\nQ 55.609375 28.21875 55.609375 21.1875 \r\nQ 55.609375 10.40625 48.1875 4.484375 \r\nQ 40.765625 -1.421875 27.09375 -1.421875 \r\nQ 22.515625 -1.421875 17.65625 -0.515625 \r\nQ 12.796875 0.390625 7.625 2.203125 \r\nL 7.625 11.71875 \r\nQ 11.71875 9.328125 16.59375 8.109375 \r\nQ 21.484375 6.890625 26.8125 6.890625 \r\nQ 36.078125 6.890625 40.9375 10.546875 \r\nQ 45.796875 14.203125 45.796875 21.1875 \r\nQ 45.796875 27.640625 41.28125 31.265625 \r\nQ 36.765625 34.90625 28.71875 34.90625 \r\nL 20.21875 34.90625 \r\nL 20.21875 43.015625 \r\nL 29.109375 43.015625 \r\nQ 36.375 43.015625 40.234375 45.921875 \r\nQ 44.09375 48.828125 44.09375 54.296875 \r\nQ 44.09375 59.90625 40.109375 62.90625 \r\nQ 36.140625 65.921875 28.71875 65.921875 \r\nQ 24.65625 65.921875 20.015625 65.03125 \r\nQ 15.375 64.15625 9.8125 62.3125 \r\nL 9.8125 71.09375 \r\nQ 15.4375 72.65625 20.34375 73.4375 \r\nQ 25.25 74.21875 29.59375 74.21875 \r\nQ 40.828125 74.21875 47.359375 69.109375 \r\nQ 53.90625 64.015625 53.90625 55.328125 \r\nQ 53.90625 49.265625 50.4375 45.09375 \r\nQ 46.96875 40.921875 40.578125 39.3125 \r\nz\r\n\" id=\"DejaVuSans-51\"/>\r\n       </defs>\r\n       <use xlink:href=\"#DejaVuSans-51\"/>\r\n       <use x=\"63.623047\" xlink:href=\"#DejaVuSans-48\"/>\r\n       <use x=\"127.246094\" xlink:href=\"#DejaVuSans-48\"/>\r\n      </g>\r\n     </g>\r\n    </g>\r\n   </g>\r\n   <g id=\"matplotlib.axis_2\">\r\n    <g id=\"ytick_1\">\r\n     <g id=\"line2d_5\">\r\n      <defs>\r\n       <path d=\"M 0 0 \r\nL -3.5 0 \r\n\" id=\"m9bcbff87aa\" style=\"stroke:#000000;stroke-width:0.8;\"/>\r\n      </defs>\r\n      <g>\r\n       <use style=\"stroke:#000000;stroke-width:0.8;\" x=\"30.103125\" xlink:href=\"#m9bcbff87aa\" y=\"112.22125\"/>\r\n      </g>\r\n     </g>\r\n     <g id=\"text_5\">\r\n      <!-- 0.0 -->\r\n      <g transform=\"translate(7.2 116.020469)scale(0.1 -0.1)\">\r\n       <defs>\r\n        <path d=\"M 10.6875 12.40625 \r\nL 21 12.40625 \r\nL 21 0 \r\nL 10.6875 0 \r\nz\r\n\" id=\"DejaVuSans-46\"/>\r\n       </defs>\r\n       <use xlink:href=\"#DejaVuSans-48\"/>\r\n       <use x=\"63.623047\" xlink:href=\"#DejaVuSans-46\"/>\r\n       <use x=\"95.410156\" xlink:href=\"#DejaVuSans-48\"/>\r\n      </g>\r\n     </g>\r\n    </g>\r\n    <g id=\"ytick_2\">\r\n     <g id=\"line2d_6\">\r\n      <g>\r\n       <use style=\"stroke:#000000;stroke-width:0.8;\" x=\"30.103125\" xlink:href=\"#m9bcbff87aa\" y=\"71.569865\"/>\r\n      </g>\r\n     </g>\r\n     <g id=\"text_6\">\r\n      <!-- 0.5 -->\r\n      <g transform=\"translate(7.2 75.369084)scale(0.1 -0.1)\">\r\n       <defs>\r\n        <path d=\"M 10.796875 72.90625 \r\nL 49.515625 72.90625 \r\nL 49.515625 64.59375 \r\nL 19.828125 64.59375 \r\nL 19.828125 46.734375 \r\nQ 21.96875 47.46875 24.109375 47.828125 \r\nQ 26.265625 48.1875 28.421875 48.1875 \r\nQ 40.625 48.1875 47.75 41.5 \r\nQ 54.890625 34.8125 54.890625 23.390625 \r\nQ 54.890625 11.625 47.5625 5.09375 \r\nQ 40.234375 -1.421875 26.90625 -1.421875 \r\nQ 22.3125 -1.421875 17.546875 -0.640625 \r\nQ 12.796875 0.140625 7.71875 1.703125 \r\nL 7.71875 11.625 \r\nQ 12.109375 9.234375 16.796875 8.0625 \r\nQ 21.484375 6.890625 26.703125 6.890625 \r\nQ 35.15625 6.890625 40.078125 11.328125 \r\nQ 45.015625 15.765625 45.015625 23.390625 \r\nQ 45.015625 31 40.078125 35.4375 \r\nQ 35.15625 39.890625 26.703125 39.890625 \r\nQ 22.75 39.890625 18.8125 39.015625 \r\nQ 14.890625 38.140625 10.796875 36.28125 \r\nz\r\n\" id=\"DejaVuSans-53\"/>\r\n       </defs>\r\n       <use xlink:href=\"#DejaVuSans-48\"/>\r\n       <use x=\"63.623047\" xlink:href=\"#DejaVuSans-46\"/>\r\n       <use x=\"95.410156\" xlink:href=\"#DejaVuSans-53\"/>\r\n      </g>\r\n     </g>\r\n    </g>\r\n    <g id=\"ytick_3\">\r\n     <g id=\"line2d_7\">\r\n      <g>\r\n       <use style=\"stroke:#000000;stroke-width:0.8;\" x=\"30.103125\" xlink:href=\"#m9bcbff87aa\" y=\"30.91848\"/>\r\n      </g>\r\n     </g>\r\n     <g id=\"text_7\">\r\n      <!-- 1.0 -->\r\n      <g transform=\"translate(7.2 34.717699)scale(0.1 -0.1)\">\r\n       <use xlink:href=\"#DejaVuSans-49\"/>\r\n       <use x=\"63.623047\" xlink:href=\"#DejaVuSans-46\"/>\r\n       <use x=\"95.410156\" xlink:href=\"#DejaVuSans-48\"/>\r\n      </g>\r\n     </g>\r\n    </g>\r\n    <g id=\"text_8\">\r\n     <!-- 1e7 -->\r\n     <g transform=\"translate(30.103125 14.798437)scale(0.1 -0.1)\">\r\n      <defs>\r\n       <path d=\"M 56.203125 29.59375 \r\nL 56.203125 25.203125 \r\nL 14.890625 25.203125 \r\nQ 15.484375 15.921875 20.484375 11.0625 \r\nQ 25.484375 6.203125 34.421875 6.203125 \r\nQ 39.59375 6.203125 44.453125 7.46875 \r\nQ 49.3125 8.734375 54.109375 11.28125 \r\nL 54.109375 2.78125 \r\nQ 49.265625 0.734375 44.1875 -0.34375 \r\nQ 39.109375 -1.421875 33.890625 -1.421875 \r\nQ 20.796875 -1.421875 13.15625 6.1875 \r\nQ 5.515625 13.8125 5.515625 26.8125 \r\nQ 5.515625 40.234375 12.765625 48.109375 \r\nQ 20.015625 56 32.328125 56 \r\nQ 43.359375 56 49.78125 48.890625 \r\nQ 56.203125 41.796875 56.203125 29.59375 \r\nz\r\nM 47.21875 32.234375 \r\nQ 47.125 39.59375 43.09375 43.984375 \r\nQ 39.0625 48.390625 32.421875 48.390625 \r\nQ 24.90625 48.390625 20.390625 44.140625 \r\nQ 15.875 39.890625 15.1875 32.171875 \r\nz\r\n\" id=\"DejaVuSans-101\"/>\r\n       <path d=\"M 8.203125 72.90625 \r\nL 55.078125 72.90625 \r\nL 55.078125 68.703125 \r\nL 28.609375 0 \r\nL 18.3125 0 \r\nL 43.21875 64.59375 \r\nL 8.203125 64.59375 \r\nz\r\n\" id=\"DejaVuSans-55\"/>\r\n      </defs>\r\n      <use xlink:href=\"#DejaVuSans-49\"/>\r\n      <use x=\"63.623047\" xlink:href=\"#DejaVuSans-101\"/>\r\n      <use x=\"125.146484\" xlink:href=\"#DejaVuSans-55\"/>\r\n     </g>\r\n    </g>\r\n   </g>\r\n   <g id=\"line2d_8\">\r\n    <path clip-path=\"url(#p5206679d85)\" d=\"M 37.02048 112.142239 \r\nL 41.189845 111.156111 \r\nL 76.060897 101.463257 \r\nL 83.262527 99.063663 \r\nL 90.843191 96.688626 \r\nL 102.593219 93.223484 \r\nL 104.109352 92.97919 \r\nL 109.036783 91.25652 \r\nL 113.585181 89.424553 \r\nL 117.375513 87.689017 \r\nL 124.956176 83.775396 \r\nL 128.367475 81.95441 \r\nL 132.157806 79.433511 \r\nL 134.432005 77.629809 \r\nL 136.327171 75.822048 \r\nL 138.222337 73.8699 \r\nL 141.633636 70.519806 \r\nL 146.9401 65.614712 \r\nL 148.456233 63.929891 \r\nL 151.867531 59.473663 \r\nL 157.173996 52.205042 \r\nL 159.448195 49.071163 \r\nL 168.924024 34.515599 \r\nL 174.609521 25.369532 \r\nL 175.367588 24.788142 \r\nL 175.367588 24.788142 \r\n\" style=\"fill:none;stroke:#000000;stroke-dasharray:5.55,2.4;stroke-dashoffset:0;stroke-width:1.5;\"/>\r\n   </g>\r\n   <g id=\"line2d_9\">\r\n    <defs>\r\n     <path d=\"M 0 -3 \r\nL -0.673542 -0.927051 \r\nL -2.85317 -0.927051 \r\nL -1.089814 0.354102 \r\nL -1.763356 2.427051 \r\nL -0 1.145898 \r\nL 1.763356 2.427051 \r\nL 1.089814 0.354102 \r\nL 2.85317 -0.927051 \r\nL 0.673542 -0.927051 \r\nz\r\n\" id=\"ma98ce0aeb8\" style=\"stroke:#ff0000;stroke-linejoin:bevel;\"/>\r\n    </defs>\r\n    <g clip-path=\"url(#p5206679d85)\">\r\n     <use style=\"fill:#ff0000;stroke:#ff0000;stroke-linejoin:bevel;\" x=\"37.02048\" xlink:href=\"#ma98ce0aeb8\" y=\"112.141261\"/>\r\n     <use style=\"fill:#ff0000;stroke:#ff0000;stroke-linejoin:bevel;\" x=\"37.399514\" xlink:href=\"#ma98ce0aeb8\" y=\"112.058935\"/>\r\n     <use style=\"fill:#ff0000;stroke:#ff0000;stroke-linejoin:bevel;\" x=\"37.778547\" xlink:href=\"#ma98ce0aeb8\" y=\"111.973293\"/>\r\n     <use style=\"fill:#ff0000;stroke:#ff0000;stroke-linejoin:bevel;\" x=\"38.15758\" xlink:href=\"#ma98ce0aeb8\" y=\"111.886472\"/>\r\n     <use style=\"fill:#ff0000;stroke:#ff0000;stroke-linejoin:bevel;\" x=\"38.536613\" xlink:href=\"#ma98ce0aeb8\" y=\"111.798883\"/>\r\n     <use style=\"fill:#ff0000;stroke:#ff0000;stroke-linejoin:bevel;\" x=\"38.915646\" xlink:href=\"#ma98ce0aeb8\" y=\"111.710616\"/>\r\n     <use style=\"fill:#ff0000;stroke:#ff0000;stroke-linejoin:bevel;\" x=\"39.294679\" xlink:href=\"#ma98ce0aeb8\" y=\"111.621657\"/>\r\n     <use style=\"fill:#ff0000;stroke:#ff0000;stroke-linejoin:bevel;\" x=\"39.673713\" xlink:href=\"#ma98ce0aeb8\" y=\"111.532817\"/>\r\n     <use style=\"fill:#ff0000;stroke:#ff0000;stroke-linejoin:bevel;\" x=\"40.052746\" xlink:href=\"#ma98ce0aeb8\" y=\"111.432695\"/>\r\n     <use style=\"fill:#ff0000;stroke:#ff0000;stroke-linejoin:bevel;\" x=\"40.431779\" xlink:href=\"#ma98ce0aeb8\" y=\"111.326146\"/>\r\n     <use style=\"fill:#ff0000;stroke:#ff0000;stroke-linejoin:bevel;\" x=\"40.810812\" xlink:href=\"#ma98ce0aeb8\" y=\"111.222965\"/>\r\n     <use style=\"fill:#ff0000;stroke:#ff0000;stroke-linejoin:bevel;\" x=\"41.189845\" xlink:href=\"#ma98ce0aeb8\" y=\"111.118512\"/>\r\n     <use style=\"fill:#ff0000;stroke:#ff0000;stroke-linejoin:bevel;\" x=\"41.568878\" xlink:href=\"#ma98ce0aeb8\" y=\"111.012196\"/>\r\n     <use style=\"fill:#ff0000;stroke:#ff0000;stroke-linejoin:bevel;\" x=\"41.947912\" xlink:href=\"#ma98ce0aeb8\" y=\"110.909608\"/>\r\n     <use style=\"fill:#ff0000;stroke:#ff0000;stroke-linejoin:bevel;\" x=\"42.326945\" xlink:href=\"#ma98ce0aeb8\" y=\"110.806028\"/>\r\n     <use style=\"fill:#ff0000;stroke:#ff0000;stroke-linejoin:bevel;\" x=\"42.705978\" xlink:href=\"#ma98ce0aeb8\" y=\"110.697588\"/>\r\n     <use style=\"fill:#ff0000;stroke:#ff0000;stroke-linejoin:bevel;\" x=\"43.085011\" xlink:href=\"#ma98ce0aeb8\" y=\"110.58401\"/>\r\n     <use style=\"fill:#ff0000;stroke:#ff0000;stroke-linejoin:bevel;\" x=\"43.464044\" xlink:href=\"#ma98ce0aeb8\" y=\"110.470745\"/>\r\n     <use style=\"fill:#ff0000;stroke:#ff0000;stroke-linejoin:bevel;\" x=\"43.843077\" xlink:href=\"#ma98ce0aeb8\" y=\"110.357761\"/>\r\n     <use style=\"fill:#ff0000;stroke:#ff0000;stroke-linejoin:bevel;\" x=\"44.222111\" xlink:href=\"#ma98ce0aeb8\" y=\"110.248404\"/>\r\n     <use style=\"fill:#ff0000;stroke:#ff0000;stroke-linejoin:bevel;\" x=\"44.601144\" xlink:href=\"#ma98ce0aeb8\" y=\"110.14564\"/>\r\n     <use style=\"fill:#ff0000;stroke:#ff0000;stroke-linejoin:bevel;\" x=\"44.980177\" xlink:href=\"#ma98ce0aeb8\" y=\"110.043575\"/>\r\n     <use style=\"fill:#ff0000;stroke:#ff0000;stroke-linejoin:bevel;\" x=\"45.35921\" xlink:href=\"#ma98ce0aeb8\" y=\"109.936753\"/>\r\n     <use style=\"fill:#ff0000;stroke:#ff0000;stroke-linejoin:bevel;\" x=\"45.738243\" xlink:href=\"#ma98ce0aeb8\" y=\"109.824674\"/>\r\n     <use style=\"fill:#ff0000;stroke:#ff0000;stroke-linejoin:bevel;\" x=\"46.117276\" xlink:href=\"#ma98ce0aeb8\" y=\"109.713357\"/>\r\n     <use style=\"fill:#ff0000;stroke:#ff0000;stroke-linejoin:bevel;\" x=\"46.49631\" xlink:href=\"#ma98ce0aeb8\" y=\"109.603655\"/>\r\n     <use style=\"fill:#ff0000;stroke:#ff0000;stroke-linejoin:bevel;\" x=\"46.875343\" xlink:href=\"#ma98ce0aeb8\" y=\"109.490984\"/>\r\n     <use style=\"fill:#ff0000;stroke:#ff0000;stroke-linejoin:bevel;\" x=\"47.254376\" xlink:href=\"#ma98ce0aeb8\" y=\"109.377602\"/>\r\n     <use style=\"fill:#ff0000;stroke:#ff0000;stroke-linejoin:bevel;\" x=\"47.633409\" xlink:href=\"#ma98ce0aeb8\" y=\"109.266363\"/>\r\n     <use style=\"fill:#ff0000;stroke:#ff0000;stroke-linejoin:bevel;\" x=\"48.012442\" xlink:href=\"#ma98ce0aeb8\" y=\"109.155265\"/>\r\n     <use style=\"fill:#ff0000;stroke:#ff0000;stroke-linejoin:bevel;\" x=\"48.391476\" xlink:href=\"#ma98ce0aeb8\" y=\"109.047131\"/>\r\n     <use style=\"fill:#ff0000;stroke:#ff0000;stroke-linejoin:bevel;\" x=\"48.770509\" xlink:href=\"#ma98ce0aeb8\" y=\"108.941968\"/>\r\n     <use style=\"fill:#ff0000;stroke:#ff0000;stroke-linejoin:bevel;\" x=\"49.149542\" xlink:href=\"#ma98ce0aeb8\" y=\"108.836064\"/>\r\n     <use style=\"fill:#ff0000;stroke:#ff0000;stroke-linejoin:bevel;\" x=\"49.528575\" xlink:href=\"#ma98ce0aeb8\" y=\"108.730321\"/>\r\n     <use style=\"fill:#ff0000;stroke:#ff0000;stroke-linejoin:bevel;\" x=\"49.907608\" xlink:href=\"#ma98ce0aeb8\" y=\"108.628535\"/>\r\n     <use style=\"fill:#ff0000;stroke:#ff0000;stroke-linejoin:bevel;\" x=\"50.286641\" xlink:href=\"#ma98ce0aeb8\" y=\"108.526853\"/>\r\n     <use style=\"fill:#ff0000;stroke:#ff0000;stroke-linejoin:bevel;\" x=\"50.665675\" xlink:href=\"#ma98ce0aeb8\" y=\"108.423713\"/>\r\n     <use style=\"fill:#ff0000;stroke:#ff0000;stroke-linejoin:bevel;\" x=\"51.044708\" xlink:href=\"#ma98ce0aeb8\" y=\"108.316807\"/>\r\n     <use style=\"fill:#ff0000;stroke:#ff0000;stroke-linejoin:bevel;\" x=\"51.423741\" xlink:href=\"#ma98ce0aeb8\" y=\"108.209515\"/>\r\n     <use style=\"fill:#ff0000;stroke:#ff0000;stroke-linejoin:bevel;\" x=\"51.802774\" xlink:href=\"#ma98ce0aeb8\" y=\"108.100854\"/>\r\n     <use style=\"fill:#ff0000;stroke:#ff0000;stroke-linejoin:bevel;\" x=\"52.181807\" xlink:href=\"#ma98ce0aeb8\" y=\"107.992236\"/>\r\n     <use style=\"fill:#ff0000;stroke:#ff0000;stroke-linejoin:bevel;\" x=\"52.56084\" xlink:href=\"#ma98ce0aeb8\" y=\"107.879636\"/>\r\n     <use style=\"fill:#ff0000;stroke:#ff0000;stroke-linejoin:bevel;\" x=\"52.939874\" xlink:href=\"#ma98ce0aeb8\" y=\"107.767913\"/>\r\n     <use style=\"fill:#ff0000;stroke:#ff0000;stroke-linejoin:bevel;\" x=\"53.318907\" xlink:href=\"#ma98ce0aeb8\" y=\"107.66168\"/>\r\n     <use style=\"fill:#ff0000;stroke:#ff0000;stroke-linejoin:bevel;\" x=\"53.69794\" xlink:href=\"#ma98ce0aeb8\" y=\"107.553279\"/>\r\n     <use style=\"fill:#ff0000;stroke:#ff0000;stroke-linejoin:bevel;\" x=\"54.076973\" xlink:href=\"#ma98ce0aeb8\" y=\"107.445136\"/>\r\n     <use style=\"fill:#ff0000;stroke:#ff0000;stroke-linejoin:bevel;\" x=\"54.456006\" xlink:href=\"#ma98ce0aeb8\" y=\"107.338486\"/>\r\n     <use style=\"fill:#ff0000;stroke:#ff0000;stroke-linejoin:bevel;\" x=\"54.835039\" xlink:href=\"#ma98ce0aeb8\" y=\"107.232023\"/>\r\n     <use style=\"fill:#ff0000;stroke:#ff0000;stroke-linejoin:bevel;\" x=\"55.214073\" xlink:href=\"#ma98ce0aeb8\" y=\"107.125442\"/>\r\n     <use style=\"fill:#ff0000;stroke:#ff0000;stroke-linejoin:bevel;\" x=\"55.593106\" xlink:href=\"#ma98ce0aeb8\" y=\"107.018547\"/>\r\n     <use style=\"fill:#ff0000;stroke:#ff0000;stroke-linejoin:bevel;\" x=\"55.972139\" xlink:href=\"#ma98ce0aeb8\" y=\"106.910606\"/>\r\n     <use style=\"fill:#ff0000;stroke:#ff0000;stroke-linejoin:bevel;\" x=\"56.351172\" xlink:href=\"#ma98ce0aeb8\" y=\"106.802201\"/>\r\n     <use style=\"fill:#ff0000;stroke:#ff0000;stroke-linejoin:bevel;\" x=\"56.730205\" xlink:href=\"#ma98ce0aeb8\" y=\"106.697053\"/>\r\n     <use style=\"fill:#ff0000;stroke:#ff0000;stroke-linejoin:bevel;\" x=\"57.109238\" xlink:href=\"#ma98ce0aeb8\" y=\"106.592169\"/>\r\n     <use style=\"fill:#ff0000;stroke:#ff0000;stroke-linejoin:bevel;\" x=\"57.488272\" xlink:href=\"#ma98ce0aeb8\" y=\"106.487407\"/>\r\n     <use style=\"fill:#ff0000;stroke:#ff0000;stroke-linejoin:bevel;\" x=\"57.867305\" xlink:href=\"#ma98ce0aeb8\" y=\"106.382553\"/>\r\n     <use style=\"fill:#ff0000;stroke:#ff0000;stroke-linejoin:bevel;\" x=\"58.246338\" xlink:href=\"#ma98ce0aeb8\" y=\"106.277137\"/>\r\n     <use style=\"fill:#ff0000;stroke:#ff0000;stroke-linejoin:bevel;\" x=\"58.625371\" xlink:href=\"#ma98ce0aeb8\" y=\"106.172101\"/>\r\n     <use style=\"fill:#ff0000;stroke:#ff0000;stroke-linejoin:bevel;\" x=\"59.004404\" xlink:href=\"#ma98ce0aeb8\" y=\"106.067424\"/>\r\n     <use style=\"fill:#ff0000;stroke:#ff0000;stroke-linejoin:bevel;\" x=\"59.383437\" xlink:href=\"#ma98ce0aeb8\" y=\"105.963399\"/>\r\n     <use style=\"fill:#ff0000;stroke:#ff0000;stroke-linejoin:bevel;\" x=\"59.762471\" xlink:href=\"#ma98ce0aeb8\" y=\"105.859447\"/>\r\n     <use style=\"fill:#ff0000;stroke:#ff0000;stroke-linejoin:bevel;\" x=\"60.141504\" xlink:href=\"#ma98ce0aeb8\" y=\"105.755427\"/>\r\n     <use style=\"fill:#ff0000;stroke:#ff0000;stroke-linejoin:bevel;\" x=\"60.520537\" xlink:href=\"#ma98ce0aeb8\" y=\"105.649278\"/>\r\n     <use style=\"fill:#ff0000;stroke:#ff0000;stroke-linejoin:bevel;\" x=\"60.89957\" xlink:href=\"#ma98ce0aeb8\" y=\"105.543042\"/>\r\n     <use style=\"fill:#ff0000;stroke:#ff0000;stroke-linejoin:bevel;\" x=\"61.278603\" xlink:href=\"#ma98ce0aeb8\" y=\"105.436397\"/>\r\n     <use style=\"fill:#ff0000;stroke:#ff0000;stroke-linejoin:bevel;\" x=\"61.657636\" xlink:href=\"#ma98ce0aeb8\" y=\"105.332802\"/>\r\n     <use style=\"fill:#ff0000;stroke:#ff0000;stroke-linejoin:bevel;\" x=\"62.03667\" xlink:href=\"#ma98ce0aeb8\" y=\"105.229547\"/>\r\n     <use style=\"fill:#ff0000;stroke:#ff0000;stroke-linejoin:bevel;\" x=\"62.415703\" xlink:href=\"#ma98ce0aeb8\" y=\"105.127083\"/>\r\n     <use style=\"fill:#ff0000;stroke:#ff0000;stroke-linejoin:bevel;\" x=\"62.794736\" xlink:href=\"#ma98ce0aeb8\" y=\"105.024734\"/>\r\n     <use style=\"fill:#ff0000;stroke:#ff0000;stroke-linejoin:bevel;\" x=\"63.173769\" xlink:href=\"#ma98ce0aeb8\" y=\"104.922127\"/>\r\n     <use style=\"fill:#ff0000;stroke:#ff0000;stroke-linejoin:bevel;\" x=\"63.552802\" xlink:href=\"#ma98ce0aeb8\" y=\"104.819766\"/>\r\n     <use style=\"fill:#ff0000;stroke:#ff0000;stroke-linejoin:bevel;\" x=\"63.931836\" xlink:href=\"#ma98ce0aeb8\" y=\"104.716863\"/>\r\n     <use style=\"fill:#ff0000;stroke:#ff0000;stroke-linejoin:bevel;\" x=\"64.310869\" xlink:href=\"#ma98ce0aeb8\" y=\"104.614472\"/>\r\n     <use style=\"fill:#ff0000;stroke:#ff0000;stroke-linejoin:bevel;\" x=\"64.689902\" xlink:href=\"#ma98ce0aeb8\" y=\"104.512959\"/>\r\n     <use style=\"fill:#ff0000;stroke:#ff0000;stroke-linejoin:bevel;\" x=\"65.068935\" xlink:href=\"#ma98ce0aeb8\" y=\"104.411787\"/>\r\n     <use style=\"fill:#ff0000;stroke:#ff0000;stroke-linejoin:bevel;\" x=\"65.447968\" xlink:href=\"#ma98ce0aeb8\" y=\"104.310848\"/>\r\n     <use style=\"fill:#ff0000;stroke:#ff0000;stroke-linejoin:bevel;\" x=\"65.827001\" xlink:href=\"#ma98ce0aeb8\" y=\"104.207644\"/>\r\n     <use style=\"fill:#ff0000;stroke:#ff0000;stroke-linejoin:bevel;\" x=\"66.206035\" xlink:href=\"#ma98ce0aeb8\" y=\"104.104668\"/>\r\n     <use style=\"fill:#ff0000;stroke:#ff0000;stroke-linejoin:bevel;\" x=\"66.585068\" xlink:href=\"#ma98ce0aeb8\" y=\"104.0008\"/>\r\n     <use style=\"fill:#ff0000;stroke:#ff0000;stroke-linejoin:bevel;\" x=\"66.964101\" xlink:href=\"#ma98ce0aeb8\" y=\"103.897158\"/>\r\n     <use style=\"fill:#ff0000;stroke:#ff0000;stroke-linejoin:bevel;\" x=\"67.343134\" xlink:href=\"#ma98ce0aeb8\" y=\"103.7945\"/>\r\n     <use style=\"fill:#ff0000;stroke:#ff0000;stroke-linejoin:bevel;\" x=\"67.722167\" xlink:href=\"#ma98ce0aeb8\" y=\"103.691775\"/>\r\n     <use style=\"fill:#ff0000;stroke:#ff0000;stroke-linejoin:bevel;\" x=\"68.1012\" xlink:href=\"#ma98ce0aeb8\" y=\"103.588816\"/>\r\n     <use style=\"fill:#ff0000;stroke:#ff0000;stroke-linejoin:bevel;\" x=\"68.480234\" xlink:href=\"#ma98ce0aeb8\" y=\"103.486136\"/>\r\n     <use style=\"fill:#ff0000;stroke:#ff0000;stroke-linejoin:bevel;\" x=\"68.859267\" xlink:href=\"#ma98ce0aeb8\" y=\"103.383382\"/>\r\n     <use style=\"fill:#ff0000;stroke:#ff0000;stroke-linejoin:bevel;\" x=\"69.2383\" xlink:href=\"#ma98ce0aeb8\" y=\"103.280806\"/>\r\n     <use style=\"fill:#ff0000;stroke:#ff0000;stroke-linejoin:bevel;\" x=\"69.617333\" xlink:href=\"#ma98ce0aeb8\" y=\"103.179573\"/>\r\n     <use style=\"fill:#ff0000;stroke:#ff0000;stroke-linejoin:bevel;\" x=\"69.996366\" xlink:href=\"#ma98ce0aeb8\" y=\"103.07825\"/>\r\n     <use style=\"fill:#ff0000;stroke:#ff0000;stroke-linejoin:bevel;\" x=\"70.375399\" xlink:href=\"#ma98ce0aeb8\" y=\"102.976332\"/>\r\n     <use style=\"fill:#ff0000;stroke:#ff0000;stroke-linejoin:bevel;\" x=\"70.754433\" xlink:href=\"#ma98ce0aeb8\" y=\"102.874766\"/>\r\n     <use style=\"fill:#ff0000;stroke:#ff0000;stroke-linejoin:bevel;\" x=\"71.133466\" xlink:href=\"#ma98ce0aeb8\" y=\"102.772902\"/>\r\n     <use style=\"fill:#ff0000;stroke:#ff0000;stroke-linejoin:bevel;\" x=\"71.512499\" xlink:href=\"#ma98ce0aeb8\" y=\"102.669956\"/>\r\n     <use style=\"fill:#ff0000;stroke:#ff0000;stroke-linejoin:bevel;\" x=\"71.891532\" xlink:href=\"#ma98ce0aeb8\" y=\"102.565984\"/>\r\n     <use style=\"fill:#ff0000;stroke:#ff0000;stroke-linejoin:bevel;\" x=\"72.270565\" xlink:href=\"#ma98ce0aeb8\" y=\"102.461646\"/>\r\n     <use style=\"fill:#ff0000;stroke:#ff0000;stroke-linejoin:bevel;\" x=\"72.649598\" xlink:href=\"#ma98ce0aeb8\" y=\"102.356683\"/>\r\n     <use style=\"fill:#ff0000;stroke:#ff0000;stroke-linejoin:bevel;\" x=\"73.028632\" xlink:href=\"#ma98ce0aeb8\" y=\"102.250834\"/>\r\n     <use style=\"fill:#ff0000;stroke:#ff0000;stroke-linejoin:bevel;\" x=\"73.407665\" xlink:href=\"#ma98ce0aeb8\" y=\"102.141503\"/>\r\n     <use style=\"fill:#ff0000;stroke:#ff0000;stroke-linejoin:bevel;\" x=\"73.786698\" xlink:href=\"#ma98ce0aeb8\" y=\"102.018473\"/>\r\n     <use style=\"fill:#ff0000;stroke:#ff0000;stroke-linejoin:bevel;\" x=\"74.165731\" xlink:href=\"#ma98ce0aeb8\" y=\"101.896892\"/>\r\n     <use style=\"fill:#ff0000;stroke:#ff0000;stroke-linejoin:bevel;\" x=\"74.544764\" xlink:href=\"#ma98ce0aeb8\" y=\"101.774334\"/>\r\n     <use style=\"fill:#ff0000;stroke:#ff0000;stroke-linejoin:bevel;\" x=\"74.923797\" xlink:href=\"#ma98ce0aeb8\" y=\"101.65245\"/>\r\n     <use style=\"fill:#ff0000;stroke:#ff0000;stroke-linejoin:bevel;\" x=\"75.302831\" xlink:href=\"#ma98ce0aeb8\" y=\"101.528032\"/>\r\n     <use style=\"fill:#ff0000;stroke:#ff0000;stroke-linejoin:bevel;\" x=\"75.681864\" xlink:href=\"#ma98ce0aeb8\" y=\"101.399423\"/>\r\n     <use style=\"fill:#ff0000;stroke:#ff0000;stroke-linejoin:bevel;\" x=\"76.060897\" xlink:href=\"#ma98ce0aeb8\" y=\"101.268204\"/>\r\n     <use style=\"fill:#ff0000;stroke:#ff0000;stroke-linejoin:bevel;\" x=\"76.43993\" xlink:href=\"#ma98ce0aeb8\" y=\"101.143457\"/>\r\n     <use style=\"fill:#ff0000;stroke:#ff0000;stroke-linejoin:bevel;\" x=\"76.818963\" xlink:href=\"#ma98ce0aeb8\" y=\"101.019439\"/>\r\n     <use style=\"fill:#ff0000;stroke:#ff0000;stroke-linejoin:bevel;\" x=\"77.197997\" xlink:href=\"#ma98ce0aeb8\" y=\"100.892281\"/>\r\n     <use style=\"fill:#ff0000;stroke:#ff0000;stroke-linejoin:bevel;\" x=\"77.57703\" xlink:href=\"#ma98ce0aeb8\" y=\"100.763538\"/>\r\n     <use style=\"fill:#ff0000;stroke:#ff0000;stroke-linejoin:bevel;\" x=\"77.956063\" xlink:href=\"#ma98ce0aeb8\" y=\"100.634455\"/>\r\n     <use style=\"fill:#ff0000;stroke:#ff0000;stroke-linejoin:bevel;\" x=\"78.335096\" xlink:href=\"#ma98ce0aeb8\" y=\"100.506041\"/>\r\n     <use style=\"fill:#ff0000;stroke:#ff0000;stroke-linejoin:bevel;\" x=\"78.714129\" xlink:href=\"#ma98ce0aeb8\" y=\"100.377561\"/>\r\n     <use style=\"fill:#ff0000;stroke:#ff0000;stroke-linejoin:bevel;\" x=\"79.093162\" xlink:href=\"#ma98ce0aeb8\" y=\"100.246575\"/>\r\n     <use style=\"fill:#ff0000;stroke:#ff0000;stroke-linejoin:bevel;\" x=\"79.472196\" xlink:href=\"#ma98ce0aeb8\" y=\"100.117186\"/>\r\n     <use style=\"fill:#ff0000;stroke:#ff0000;stroke-linejoin:bevel;\" x=\"79.851229\" xlink:href=\"#ma98ce0aeb8\" y=\"99.990815\"/>\r\n     <use style=\"fill:#ff0000;stroke:#ff0000;stroke-linejoin:bevel;\" x=\"80.230262\" xlink:href=\"#ma98ce0aeb8\" y=\"99.864001\"/>\r\n     <use style=\"fill:#ff0000;stroke:#ff0000;stroke-linejoin:bevel;\" x=\"80.609295\" xlink:href=\"#ma98ce0aeb8\" y=\"99.733085\"/>\r\n     <use style=\"fill:#ff0000;stroke:#ff0000;stroke-linejoin:bevel;\" x=\"80.988328\" xlink:href=\"#ma98ce0aeb8\" y=\"99.604039\"/>\r\n     <use style=\"fill:#ff0000;stroke:#ff0000;stroke-linejoin:bevel;\" x=\"81.367361\" xlink:href=\"#ma98ce0aeb8\" y=\"99.475299\"/>\r\n     <use style=\"fill:#ff0000;stroke:#ff0000;stroke-linejoin:bevel;\" x=\"81.746395\" xlink:href=\"#ma98ce0aeb8\" y=\"99.342631\"/>\r\n     <use style=\"fill:#ff0000;stroke:#ff0000;stroke-linejoin:bevel;\" x=\"82.125428\" xlink:href=\"#ma98ce0aeb8\" y=\"99.210289\"/>\r\n     <use style=\"fill:#ff0000;stroke:#ff0000;stroke-linejoin:bevel;\" x=\"82.504461\" xlink:href=\"#ma98ce0aeb8\" y=\"99.081608\"/>\r\n     <use style=\"fill:#ff0000;stroke:#ff0000;stroke-linejoin:bevel;\" x=\"82.883494\" xlink:href=\"#ma98ce0aeb8\" y=\"98.954042\"/>\r\n     <use style=\"fill:#ff0000;stroke:#ff0000;stroke-linejoin:bevel;\" x=\"83.262527\" xlink:href=\"#ma98ce0aeb8\" y=\"98.826654\"/>\r\n     <use style=\"fill:#ff0000;stroke:#ff0000;stroke-linejoin:bevel;\" x=\"83.64156\" xlink:href=\"#ma98ce0aeb8\" y=\"98.701435\"/>\r\n     <use style=\"fill:#ff0000;stroke:#ff0000;stroke-linejoin:bevel;\" x=\"84.020594\" xlink:href=\"#ma98ce0aeb8\" y=\"98.575925\"/>\r\n     <use style=\"fill:#ff0000;stroke:#ff0000;stroke-linejoin:bevel;\" x=\"84.399627\" xlink:href=\"#ma98ce0aeb8\" y=\"98.449657\"/>\r\n     <use style=\"fill:#ff0000;stroke:#ff0000;stroke-linejoin:bevel;\" x=\"84.77866\" xlink:href=\"#ma98ce0aeb8\" y=\"98.323048\"/>\r\n     <use style=\"fill:#ff0000;stroke:#ff0000;stroke-linejoin:bevel;\" x=\"85.157693\" xlink:href=\"#ma98ce0aeb8\" y=\"98.199901\"/>\r\n     <use style=\"fill:#ff0000;stroke:#ff0000;stroke-linejoin:bevel;\" x=\"85.536726\" xlink:href=\"#ma98ce0aeb8\" y=\"98.076456\"/>\r\n     <use style=\"fill:#ff0000;stroke:#ff0000;stroke-linejoin:bevel;\" x=\"85.915759\" xlink:href=\"#ma98ce0aeb8\" y=\"97.953499\"/>\r\n     <use style=\"fill:#ff0000;stroke:#ff0000;stroke-linejoin:bevel;\" x=\"86.294793\" xlink:href=\"#ma98ce0aeb8\" y=\"97.830116\"/>\r\n     <use style=\"fill:#ff0000;stroke:#ff0000;stroke-linejoin:bevel;\" x=\"86.673826\" xlink:href=\"#ma98ce0aeb8\" y=\"97.705445\"/>\r\n     <use style=\"fill:#ff0000;stroke:#ff0000;stroke-linejoin:bevel;\" x=\"87.052859\" xlink:href=\"#ma98ce0aeb8\" y=\"97.580475\"/>\r\n     <use style=\"fill:#ff0000;stroke:#ff0000;stroke-linejoin:bevel;\" x=\"87.431892\" xlink:href=\"#ma98ce0aeb8\" y=\"97.452319\"/>\r\n     <use style=\"fill:#ff0000;stroke:#ff0000;stroke-linejoin:bevel;\" x=\"87.810925\" xlink:href=\"#ma98ce0aeb8\" y=\"97.325331\"/>\r\n     <use style=\"fill:#ff0000;stroke:#ff0000;stroke-linejoin:bevel;\" x=\"88.189958\" xlink:href=\"#ma98ce0aeb8\" y=\"97.203905\"/>\r\n     <use style=\"fill:#ff0000;stroke:#ff0000;stroke-linejoin:bevel;\" x=\"88.568992\" xlink:href=\"#ma98ce0aeb8\" y=\"97.09037\"/>\r\n     <use style=\"fill:#ff0000;stroke:#ff0000;stroke-linejoin:bevel;\" x=\"88.948025\" xlink:href=\"#ma98ce0aeb8\" y=\"96.977987\"/>\r\n     <use style=\"fill:#ff0000;stroke:#ff0000;stroke-linejoin:bevel;\" x=\"89.327058\" xlink:href=\"#ma98ce0aeb8\" y=\"96.867998\"/>\r\n     <use style=\"fill:#ff0000;stroke:#ff0000;stroke-linejoin:bevel;\" x=\"89.706091\" xlink:href=\"#ma98ce0aeb8\" y=\"96.757294\"/>\r\n     <use style=\"fill:#ff0000;stroke:#ff0000;stroke-linejoin:bevel;\" x=\"90.085124\" xlink:href=\"#ma98ce0aeb8\" y=\"96.645056\"/>\r\n     <use style=\"fill:#ff0000;stroke:#ff0000;stroke-linejoin:bevel;\" x=\"90.464157\" xlink:href=\"#ma98ce0aeb8\" y=\"96.534354\"/>\r\n     <use style=\"fill:#ff0000;stroke:#ff0000;stroke-linejoin:bevel;\" x=\"90.843191\" xlink:href=\"#ma98ce0aeb8\" y=\"96.422138\"/>\r\n     <use style=\"fill:#ff0000;stroke:#ff0000;stroke-linejoin:bevel;\" x=\"91.222224\" xlink:href=\"#ma98ce0aeb8\" y=\"96.310343\"/>\r\n     <use style=\"fill:#ff0000;stroke:#ff0000;stroke-linejoin:bevel;\" x=\"91.601257\" xlink:href=\"#ma98ce0aeb8\" y=\"96.197005\"/>\r\n     <use style=\"fill:#ff0000;stroke:#ff0000;stroke-linejoin:bevel;\" x=\"91.98029\" xlink:href=\"#ma98ce0aeb8\" y=\"96.083684\"/>\r\n     <use style=\"fill:#ff0000;stroke:#ff0000;stroke-linejoin:bevel;\" x=\"92.359323\" xlink:href=\"#ma98ce0aeb8\" y=\"95.968023\"/>\r\n     <use style=\"fill:#ff0000;stroke:#ff0000;stroke-linejoin:bevel;\" x=\"92.738357\" xlink:href=\"#ma98ce0aeb8\" y=\"95.851055\"/>\r\n     <use style=\"fill:#ff0000;stroke:#ff0000;stroke-linejoin:bevel;\" x=\"93.11739\" xlink:href=\"#ma98ce0aeb8\" y=\"95.732386\"/>\r\n     <use style=\"fill:#ff0000;stroke:#ff0000;stroke-linejoin:bevel;\" x=\"93.496423\" xlink:href=\"#ma98ce0aeb8\" y=\"95.613897\"/>\r\n     <use style=\"fill:#ff0000;stroke:#ff0000;stroke-linejoin:bevel;\" x=\"93.875456\" xlink:href=\"#ma98ce0aeb8\" y=\"95.495814\"/>\r\n     <use style=\"fill:#ff0000;stroke:#ff0000;stroke-linejoin:bevel;\" x=\"94.254489\" xlink:href=\"#ma98ce0aeb8\" y=\"95.376275\"/>\r\n     <use style=\"fill:#ff0000;stroke:#ff0000;stroke-linejoin:bevel;\" x=\"94.633522\" xlink:href=\"#ma98ce0aeb8\" y=\"95.257147\"/>\r\n     <use style=\"fill:#ff0000;stroke:#ff0000;stroke-linejoin:bevel;\" x=\"95.012556\" xlink:href=\"#ma98ce0aeb8\" y=\"95.139451\"/>\r\n     <use style=\"fill:#ff0000;stroke:#ff0000;stroke-linejoin:bevel;\" x=\"95.391589\" xlink:href=\"#ma98ce0aeb8\" y=\"95.025128\"/>\r\n     <use style=\"fill:#ff0000;stroke:#ff0000;stroke-linejoin:bevel;\" x=\"95.770622\" xlink:href=\"#ma98ce0aeb8\" y=\"94.90991\"/>\r\n     <use style=\"fill:#ff0000;stroke:#ff0000;stroke-linejoin:bevel;\" x=\"96.149655\" xlink:href=\"#ma98ce0aeb8\" y=\"94.793022\"/>\r\n     <use style=\"fill:#ff0000;stroke:#ff0000;stroke-linejoin:bevel;\" x=\"96.528688\" xlink:href=\"#ma98ce0aeb8\" y=\"94.675906\"/>\r\n     <use style=\"fill:#ff0000;stroke:#ff0000;stroke-linejoin:bevel;\" x=\"96.907721\" xlink:href=\"#ma98ce0aeb8\" y=\"94.558587\"/>\r\n     <use style=\"fill:#ff0000;stroke:#ff0000;stroke-linejoin:bevel;\" x=\"97.286755\" xlink:href=\"#ma98ce0aeb8\" y=\"94.440982\"/>\r\n     <use style=\"fill:#ff0000;stroke:#ff0000;stroke-linejoin:bevel;\" x=\"97.665788\" xlink:href=\"#ma98ce0aeb8\" y=\"94.321956\"/>\r\n     <use style=\"fill:#ff0000;stroke:#ff0000;stroke-linejoin:bevel;\" x=\"98.044821\" xlink:href=\"#ma98ce0aeb8\" y=\"94.203783\"/>\r\n     <use style=\"fill:#ff0000;stroke:#ff0000;stroke-linejoin:bevel;\" x=\"98.423854\" xlink:href=\"#ma98ce0aeb8\" y=\"94.085668\"/>\r\n     <use style=\"fill:#ff0000;stroke:#ff0000;stroke-linejoin:bevel;\" x=\"98.802887\" xlink:href=\"#ma98ce0aeb8\" y=\"93.967727\"/>\r\n     <use style=\"fill:#ff0000;stroke:#ff0000;stroke-linejoin:bevel;\" x=\"99.18192\" xlink:href=\"#ma98ce0aeb8\" y=\"93.852446\"/>\r\n     <use style=\"fill:#ff0000;stroke:#ff0000;stroke-linejoin:bevel;\" x=\"99.560954\" xlink:href=\"#ma98ce0aeb8\" y=\"93.737582\"/>\r\n     <use style=\"fill:#ff0000;stroke:#ff0000;stroke-linejoin:bevel;\" x=\"99.939987\" xlink:href=\"#ma98ce0aeb8\" y=\"93.621894\"/>\r\n     <use style=\"fill:#ff0000;stroke:#ff0000;stroke-linejoin:bevel;\" x=\"100.31902\" xlink:href=\"#ma98ce0aeb8\" y=\"93.505426\"/>\r\n     <use style=\"fill:#ff0000;stroke:#ff0000;stroke-linejoin:bevel;\" x=\"100.698053\" xlink:href=\"#ma98ce0aeb8\" y=\"93.388969\"/>\r\n     <use style=\"fill:#ff0000;stroke:#ff0000;stroke-linejoin:bevel;\" x=\"101.077086\" xlink:href=\"#ma98ce0aeb8\" y=\"93.273716\"/>\r\n     <use style=\"fill:#ff0000;stroke:#ff0000;stroke-linejoin:bevel;\" x=\"101.456119\" xlink:href=\"#ma98ce0aeb8\" y=\"93.156253\"/>\r\n     <use style=\"fill:#ff0000;stroke:#ff0000;stroke-linejoin:bevel;\" x=\"102.214186\" xlink:href=\"#ma98ce0aeb8\" y=\"93.034221\"/>\r\n     <use style=\"fill:#ff0000;stroke:#ff0000;stroke-linejoin:bevel;\" x=\"102.593219\" xlink:href=\"#ma98ce0aeb8\" y=\"92.912328\"/>\r\n     <use style=\"fill:#ff0000;stroke:#ff0000;stroke-linejoin:bevel;\" x=\"103.730318\" xlink:href=\"#ma98ce0aeb8\" y=\"92.789143\"/>\r\n     <use style=\"fill:#ff0000;stroke:#ff0000;stroke-linejoin:bevel;\" x=\"104.109352\" xlink:href=\"#ma98ce0aeb8\" y=\"92.664801\"/>\r\n     <use style=\"fill:#ff0000;stroke:#ff0000;stroke-linejoin:bevel;\" x=\"104.488385\" xlink:href=\"#ma98ce0aeb8\" y=\"92.540705\"/>\r\n     <use style=\"fill:#ff0000;stroke:#ff0000;stroke-linejoin:bevel;\" x=\"104.867418\" xlink:href=\"#ma98ce0aeb8\" y=\"92.418577\"/>\r\n     <use style=\"fill:#ff0000;stroke:#ff0000;stroke-linejoin:bevel;\" x=\"105.246451\" xlink:href=\"#ma98ce0aeb8\" y=\"92.295507\"/>\r\n     <use style=\"fill:#ff0000;stroke:#ff0000;stroke-linejoin:bevel;\" x=\"105.625484\" xlink:href=\"#ma98ce0aeb8\" y=\"92.169337\"/>\r\n     <use style=\"fill:#ff0000;stroke:#ff0000;stroke-linejoin:bevel;\" x=\"106.004518\" xlink:href=\"#ma98ce0aeb8\" y=\"92.041379\"/>\r\n     <use style=\"fill:#ff0000;stroke:#ff0000;stroke-linejoin:bevel;\" x=\"106.383551\" xlink:href=\"#ma98ce0aeb8\" y=\"91.900434\"/>\r\n     <use style=\"fill:#ff0000;stroke:#ff0000;stroke-linejoin:bevel;\" x=\"106.762584\" xlink:href=\"#ma98ce0aeb8\" y=\"91.75989\"/>\r\n     <use style=\"fill:#ff0000;stroke:#ff0000;stroke-linejoin:bevel;\" x=\"107.141617\" xlink:href=\"#ma98ce0aeb8\" y=\"91.620978\"/>\r\n     <use style=\"fill:#ff0000;stroke:#ff0000;stroke-linejoin:bevel;\" x=\"107.52065\" xlink:href=\"#ma98ce0aeb8\" y=\"91.480699\"/>\r\n     <use style=\"fill:#ff0000;stroke:#ff0000;stroke-linejoin:bevel;\" x=\"107.899683\" xlink:href=\"#ma98ce0aeb8\" y=\"91.338455\"/>\r\n     <use style=\"fill:#ff0000;stroke:#ff0000;stroke-linejoin:bevel;\" x=\"108.278717\" xlink:href=\"#ma98ce0aeb8\" y=\"91.19648\"/>\r\n     <use style=\"fill:#ff0000;stroke:#ff0000;stroke-linejoin:bevel;\" x=\"108.65775\" xlink:href=\"#ma98ce0aeb8\" y=\"91.048829\"/>\r\n     <use style=\"fill:#ff0000;stroke:#ff0000;stroke-linejoin:bevel;\" x=\"109.036783\" xlink:href=\"#ma98ce0aeb8\" y=\"90.900443\"/>\r\n     <use style=\"fill:#ff0000;stroke:#ff0000;stroke-linejoin:bevel;\" x=\"109.415816\" xlink:href=\"#ma98ce0aeb8\" y=\"90.752638\"/>\r\n     <use style=\"fill:#ff0000;stroke:#ff0000;stroke-linejoin:bevel;\" x=\"109.794849\" xlink:href=\"#ma98ce0aeb8\" y=\"90.604733\"/>\r\n     <use style=\"fill:#ff0000;stroke:#ff0000;stroke-linejoin:bevel;\" x=\"110.173882\" xlink:href=\"#ma98ce0aeb8\" y=\"90.452803\"/>\r\n     <use style=\"fill:#ff0000;stroke:#ff0000;stroke-linejoin:bevel;\" x=\"110.552916\" xlink:href=\"#ma98ce0aeb8\" y=\"90.302672\"/>\r\n     <use style=\"fill:#ff0000;stroke:#ff0000;stroke-linejoin:bevel;\" x=\"110.931949\" xlink:href=\"#ma98ce0aeb8\" y=\"90.152747\"/>\r\n     <use style=\"fill:#ff0000;stroke:#ff0000;stroke-linejoin:bevel;\" x=\"111.310982\" xlink:href=\"#ma98ce0aeb8\" y=\"90.003758\"/>\r\n     <use style=\"fill:#ff0000;stroke:#ff0000;stroke-linejoin:bevel;\" x=\"111.690015\" xlink:href=\"#ma98ce0aeb8\" y=\"89.852123\"/>\r\n     <use style=\"fill:#ff0000;stroke:#ff0000;stroke-linejoin:bevel;\" x=\"112.069048\" xlink:href=\"#ma98ce0aeb8\" y=\"89.685274\"/>\r\n     <use style=\"fill:#ff0000;stroke:#ff0000;stroke-linejoin:bevel;\" x=\"112.448081\" xlink:href=\"#ma98ce0aeb8\" y=\"89.516122\"/>\r\n     <use style=\"fill:#ff0000;stroke:#ff0000;stroke-linejoin:bevel;\" x=\"112.827115\" xlink:href=\"#ma98ce0aeb8\" y=\"89.348998\"/>\r\n     <use style=\"fill:#ff0000;stroke:#ff0000;stroke-linejoin:bevel;\" x=\"113.206148\" xlink:href=\"#ma98ce0aeb8\" y=\"89.183397\"/>\r\n     <use style=\"fill:#ff0000;stroke:#ff0000;stroke-linejoin:bevel;\" x=\"113.585181\" xlink:href=\"#ma98ce0aeb8\" y=\"89.016466\"/>\r\n     <use style=\"fill:#ff0000;stroke:#ff0000;stroke-linejoin:bevel;\" x=\"113.964214\" xlink:href=\"#ma98ce0aeb8\" y=\"88.852982\"/>\r\n     <use style=\"fill:#ff0000;stroke:#ff0000;stroke-linejoin:bevel;\" x=\"114.343247\" xlink:href=\"#ma98ce0aeb8\" y=\"88.683984\"/>\r\n     <use style=\"fill:#ff0000;stroke:#ff0000;stroke-linejoin:bevel;\" x=\"114.72228\" xlink:href=\"#ma98ce0aeb8\" y=\"88.5098\"/>\r\n     <use style=\"fill:#ff0000;stroke:#ff0000;stroke-linejoin:bevel;\" x=\"115.101314\" xlink:href=\"#ma98ce0aeb8\" y=\"88.33367\"/>\r\n     <use style=\"fill:#ff0000;stroke:#ff0000;stroke-linejoin:bevel;\" x=\"115.480347\" xlink:href=\"#ma98ce0aeb8\" y=\"88.159493\"/>\r\n     <use style=\"fill:#ff0000;stroke:#ff0000;stroke-linejoin:bevel;\" x=\"115.85938\" xlink:href=\"#ma98ce0aeb8\" y=\"87.987395\"/>\r\n     <use style=\"fill:#ff0000;stroke:#ff0000;stroke-linejoin:bevel;\" x=\"116.238413\" xlink:href=\"#ma98ce0aeb8\" y=\"87.808384\"/>\r\n     <use style=\"fill:#ff0000;stroke:#ff0000;stroke-linejoin:bevel;\" x=\"116.617446\" xlink:href=\"#ma98ce0aeb8\" y=\"87.619026\"/>\r\n     <use style=\"fill:#ff0000;stroke:#ff0000;stroke-linejoin:bevel;\" x=\"116.996479\" xlink:href=\"#ma98ce0aeb8\" y=\"87.42321\"/>\r\n     <use style=\"fill:#ff0000;stroke:#ff0000;stroke-linejoin:bevel;\" x=\"117.375513\" xlink:href=\"#ma98ce0aeb8\" y=\"87.230322\"/>\r\n     <use style=\"fill:#ff0000;stroke:#ff0000;stroke-linejoin:bevel;\" x=\"117.754546\" xlink:href=\"#ma98ce0aeb8\" y=\"87.030983\"/>\r\n     <use style=\"fill:#ff0000;stroke:#ff0000;stroke-linejoin:bevel;\" x=\"118.133579\" xlink:href=\"#ma98ce0aeb8\" y=\"86.829409\"/>\r\n     <use style=\"fill:#ff0000;stroke:#ff0000;stroke-linejoin:bevel;\" x=\"118.512612\" xlink:href=\"#ma98ce0aeb8\" y=\"86.630471\"/>\r\n     <use style=\"fill:#ff0000;stroke:#ff0000;stroke-linejoin:bevel;\" x=\"118.891645\" xlink:href=\"#ma98ce0aeb8\" y=\"86.431954\"/>\r\n     <use style=\"fill:#ff0000;stroke:#ff0000;stroke-linejoin:bevel;\" x=\"119.270678\" xlink:href=\"#ma98ce0aeb8\" y=\"86.226957\"/>\r\n     <use style=\"fill:#ff0000;stroke:#ff0000;stroke-linejoin:bevel;\" x=\"119.649712\" xlink:href=\"#ma98ce0aeb8\" y=\"86.02171\"/>\r\n     <use style=\"fill:#ff0000;stroke:#ff0000;stroke-linejoin:bevel;\" x=\"120.028745\" xlink:href=\"#ma98ce0aeb8\" y=\"85.822209\"/>\r\n     <use style=\"fill:#ff0000;stroke:#ff0000;stroke-linejoin:bevel;\" x=\"120.407778\" xlink:href=\"#ma98ce0aeb8\" y=\"85.637491\"/>\r\n     <use style=\"fill:#ff0000;stroke:#ff0000;stroke-linejoin:bevel;\" x=\"120.786811\" xlink:href=\"#ma98ce0aeb8\" y=\"85.448909\"/>\r\n     <use style=\"fill:#ff0000;stroke:#ff0000;stroke-linejoin:bevel;\" x=\"121.165844\" xlink:href=\"#ma98ce0aeb8\" y=\"85.255641\"/>\r\n     <use style=\"fill:#ff0000;stroke:#ff0000;stroke-linejoin:bevel;\" x=\"121.544878\" xlink:href=\"#ma98ce0aeb8\" y=\"85.047996\"/>\r\n     <use style=\"fill:#ff0000;stroke:#ff0000;stroke-linejoin:bevel;\" x=\"121.923911\" xlink:href=\"#ma98ce0aeb8\" y=\"84.838664\"/>\r\n     <use style=\"fill:#ff0000;stroke:#ff0000;stroke-linejoin:bevel;\" x=\"122.302944\" xlink:href=\"#ma98ce0aeb8\" y=\"84.635488\"/>\r\n     <use style=\"fill:#ff0000;stroke:#ff0000;stroke-linejoin:bevel;\" x=\"122.681977\" xlink:href=\"#ma98ce0aeb8\" y=\"84.430619\"/>\r\n     <use style=\"fill:#ff0000;stroke:#ff0000;stroke-linejoin:bevel;\" x=\"123.06101\" xlink:href=\"#ma98ce0aeb8\" y=\"84.22656\"/>\r\n     <use style=\"fill:#ff0000;stroke:#ff0000;stroke-linejoin:bevel;\" x=\"123.440043\" xlink:href=\"#ma98ce0aeb8\" y=\"84.02741\"/>\r\n     <use style=\"fill:#ff0000;stroke:#ff0000;stroke-linejoin:bevel;\" x=\"123.819077\" xlink:href=\"#ma98ce0aeb8\" y=\"83.825904\"/>\r\n     <use style=\"fill:#ff0000;stroke:#ff0000;stroke-linejoin:bevel;\" x=\"124.19811\" xlink:href=\"#ma98ce0aeb8\" y=\"83.624182\"/>\r\n     <use style=\"fill:#ff0000;stroke:#ff0000;stroke-linejoin:bevel;\" x=\"124.577143\" xlink:href=\"#ma98ce0aeb8\" y=\"83.423703\"/>\r\n     <use style=\"fill:#ff0000;stroke:#ff0000;stroke-linejoin:bevel;\" x=\"124.956176\" xlink:href=\"#ma98ce0aeb8\" y=\"83.229433\"/>\r\n     <use style=\"fill:#ff0000;stroke:#ff0000;stroke-linejoin:bevel;\" x=\"125.335209\" xlink:href=\"#ma98ce0aeb8\" y=\"83.035933\"/>\r\n     <use style=\"fill:#ff0000;stroke:#ff0000;stroke-linejoin:bevel;\" x=\"125.714242\" xlink:href=\"#ma98ce0aeb8\" y=\"82.846698\"/>\r\n     <use style=\"fill:#ff0000;stroke:#ff0000;stroke-linejoin:bevel;\" x=\"126.093276\" xlink:href=\"#ma98ce0aeb8\" y=\"82.650247\"/>\r\n     <use style=\"fill:#ff0000;stroke:#ff0000;stroke-linejoin:bevel;\" x=\"126.472309\" xlink:href=\"#ma98ce0aeb8\" y=\"82.448998\"/>\r\n     <use style=\"fill:#ff0000;stroke:#ff0000;stroke-linejoin:bevel;\" x=\"126.851342\" xlink:href=\"#ma98ce0aeb8\" y=\"82.248755\"/>\r\n     <use style=\"fill:#ff0000;stroke:#ff0000;stroke-linejoin:bevel;\" x=\"127.230375\" xlink:href=\"#ma98ce0aeb8\" y=\"82.047285\"/>\r\n     <use style=\"fill:#ff0000;stroke:#ff0000;stroke-linejoin:bevel;\" x=\"127.609408\" xlink:href=\"#ma98ce0aeb8\" y=\"81.824977\"/>\r\n     <use style=\"fill:#ff0000;stroke:#ff0000;stroke-linejoin:bevel;\" x=\"127.988441\" xlink:href=\"#ma98ce0aeb8\" y=\"81.58049\"/>\r\n     <use style=\"fill:#ff0000;stroke:#ff0000;stroke-linejoin:bevel;\" x=\"128.367475\" xlink:href=\"#ma98ce0aeb8\" y=\"81.339796\"/>\r\n     <use style=\"fill:#ff0000;stroke:#ff0000;stroke-linejoin:bevel;\" x=\"128.746508\" xlink:href=\"#ma98ce0aeb8\" y=\"81.089367\"/>\r\n     <use style=\"fill:#ff0000;stroke:#ff0000;stroke-linejoin:bevel;\" x=\"129.125541\" xlink:href=\"#ma98ce0aeb8\" y=\"80.837553\"/>\r\n     <use style=\"fill:#ff0000;stroke:#ff0000;stroke-linejoin:bevel;\" x=\"129.504574\" xlink:href=\"#ma98ce0aeb8\" y=\"80.586259\"/>\r\n     <use style=\"fill:#ff0000;stroke:#ff0000;stroke-linejoin:bevel;\" x=\"129.883607\" xlink:href=\"#ma98ce0aeb8\" y=\"80.336889\"/>\r\n     <use style=\"fill:#ff0000;stroke:#ff0000;stroke-linejoin:bevel;\" x=\"130.26264\" xlink:href=\"#ma98ce0aeb8\" y=\"80.085288\"/>\r\n     <use style=\"fill:#ff0000;stroke:#ff0000;stroke-linejoin:bevel;\" x=\"130.641674\" xlink:href=\"#ma98ce0aeb8\" y=\"79.836535\"/>\r\n     <use style=\"fill:#ff0000;stroke:#ff0000;stroke-linejoin:bevel;\" x=\"131.020707\" xlink:href=\"#ma98ce0aeb8\" y=\"79.577887\"/>\r\n     <use style=\"fill:#ff0000;stroke:#ff0000;stroke-linejoin:bevel;\" x=\"131.39974\" xlink:href=\"#ma98ce0aeb8\" y=\"79.29822\"/>\r\n     <use style=\"fill:#ff0000;stroke:#ff0000;stroke-linejoin:bevel;\" x=\"131.778773\" xlink:href=\"#ma98ce0aeb8\" y=\"79.002111\"/>\r\n     <use style=\"fill:#ff0000;stroke:#ff0000;stroke-linejoin:bevel;\" x=\"132.157806\" xlink:href=\"#ma98ce0aeb8\" y=\"78.71636\"/>\r\n     <use style=\"fill:#ff0000;stroke:#ff0000;stroke-linejoin:bevel;\" x=\"132.536839\" xlink:href=\"#ma98ce0aeb8\" y=\"78.431064\"/>\r\n     <use style=\"fill:#ff0000;stroke:#ff0000;stroke-linejoin:bevel;\" x=\"132.915873\" xlink:href=\"#ma98ce0aeb8\" y=\"78.13103\"/>\r\n     <use style=\"fill:#ff0000;stroke:#ff0000;stroke-linejoin:bevel;\" x=\"133.294906\" xlink:href=\"#ma98ce0aeb8\" y=\"77.827773\"/>\r\n     <use style=\"fill:#ff0000;stroke:#ff0000;stroke-linejoin:bevel;\" x=\"133.673939\" xlink:href=\"#ma98ce0aeb8\" y=\"77.52141\"/>\r\n     <use style=\"fill:#ff0000;stroke:#ff0000;stroke-linejoin:bevel;\" x=\"134.052972\" xlink:href=\"#ma98ce0aeb8\" y=\"77.178258\"/>\r\n     <use style=\"fill:#ff0000;stroke:#ff0000;stroke-linejoin:bevel;\" x=\"134.432005\" xlink:href=\"#ma98ce0aeb8\" y=\"76.820064\"/>\r\n     <use style=\"fill:#ff0000;stroke:#ff0000;stroke-linejoin:bevel;\" x=\"134.811039\" xlink:href=\"#ma98ce0aeb8\" y=\"76.474788\"/>\r\n     <use style=\"fill:#ff0000;stroke:#ff0000;stroke-linejoin:bevel;\" x=\"135.190072\" xlink:href=\"#ma98ce0aeb8\" y=\"76.119963\"/>\r\n     <use style=\"fill:#ff0000;stroke:#ff0000;stroke-linejoin:bevel;\" x=\"135.569105\" xlink:href=\"#ma98ce0aeb8\" y=\"75.740187\"/>\r\n     <use style=\"fill:#ff0000;stroke:#ff0000;stroke-linejoin:bevel;\" x=\"135.948138\" xlink:href=\"#ma98ce0aeb8\" y=\"75.325097\"/>\r\n     <use style=\"fill:#ff0000;stroke:#ff0000;stroke-linejoin:bevel;\" x=\"136.327171\" xlink:href=\"#ma98ce0aeb8\" y=\"74.891983\"/>\r\n     <use style=\"fill:#ff0000;stroke:#ff0000;stroke-linejoin:bevel;\" x=\"136.706204\" xlink:href=\"#ma98ce0aeb8\" y=\"74.464501\"/>\r\n     <use style=\"fill:#ff0000;stroke:#ff0000;stroke-linejoin:bevel;\" x=\"137.085238\" xlink:href=\"#ma98ce0aeb8\" y=\"74.037186\"/>\r\n     <use style=\"fill:#ff0000;stroke:#ff0000;stroke-linejoin:bevel;\" x=\"137.464271\" xlink:href=\"#ma98ce0aeb8\" y=\"73.640387\"/>\r\n     <use style=\"fill:#ff0000;stroke:#ff0000;stroke-linejoin:bevel;\" x=\"137.843304\" xlink:href=\"#ma98ce0aeb8\" y=\"73.261405\"/>\r\n     <use style=\"fill:#ff0000;stroke:#ff0000;stroke-linejoin:bevel;\" x=\"138.222337\" xlink:href=\"#ma98ce0aeb8\" y=\"72.873028\"/>\r\n     <use style=\"fill:#ff0000;stroke:#ff0000;stroke-linejoin:bevel;\" x=\"138.60137\" xlink:href=\"#ma98ce0aeb8\" y=\"72.461866\"/>\r\n     <use style=\"fill:#ff0000;stroke:#ff0000;stroke-linejoin:bevel;\" x=\"138.980403\" xlink:href=\"#ma98ce0aeb8\" y=\"72.05498\"/>\r\n     <use style=\"fill:#ff0000;stroke:#ff0000;stroke-linejoin:bevel;\" x=\"139.359437\" xlink:href=\"#ma98ce0aeb8\" y=\"71.662865\"/>\r\n     <use style=\"fill:#ff0000;stroke:#ff0000;stroke-linejoin:bevel;\" x=\"139.73847\" xlink:href=\"#ma98ce0aeb8\" y=\"71.282636\"/>\r\n     <use style=\"fill:#ff0000;stroke:#ff0000;stroke-linejoin:bevel;\" x=\"140.117503\" xlink:href=\"#ma98ce0aeb8\" y=\"70.894989\"/>\r\n     <use style=\"fill:#ff0000;stroke:#ff0000;stroke-linejoin:bevel;\" x=\"140.496536\" xlink:href=\"#ma98ce0aeb8\" y=\"70.504136\"/>\r\n     <use style=\"fill:#ff0000;stroke:#ff0000;stroke-linejoin:bevel;\" x=\"140.875569\" xlink:href=\"#ma98ce0aeb8\" y=\"70.12791\"/>\r\n     <use style=\"fill:#ff0000;stroke:#ff0000;stroke-linejoin:bevel;\" x=\"141.254602\" xlink:href=\"#ma98ce0aeb8\" y=\"69.763047\"/>\r\n     <use style=\"fill:#ff0000;stroke:#ff0000;stroke-linejoin:bevel;\" x=\"141.633636\" xlink:href=\"#ma98ce0aeb8\" y=\"69.413313\"/>\r\n     <use style=\"fill:#ff0000;stroke:#ff0000;stroke-linejoin:bevel;\" x=\"142.012669\" xlink:href=\"#ma98ce0aeb8\" y=\"69.06793\"/>\r\n     <use style=\"fill:#ff0000;stroke:#ff0000;stroke-linejoin:bevel;\" x=\"142.391702\" xlink:href=\"#ma98ce0aeb8\" y=\"68.726864\"/>\r\n     <use style=\"fill:#ff0000;stroke:#ff0000;stroke-linejoin:bevel;\" x=\"142.770735\" xlink:href=\"#ma98ce0aeb8\" y=\"68.366913\"/>\r\n     <use style=\"fill:#ff0000;stroke:#ff0000;stroke-linejoin:bevel;\" x=\"143.149768\" xlink:href=\"#ma98ce0aeb8\" y=\"68.028505\"/>\r\n     <use style=\"fill:#ff0000;stroke:#ff0000;stroke-linejoin:bevel;\" x=\"143.528801\" xlink:href=\"#ma98ce0aeb8\" y=\"67.692449\"/>\r\n     <use style=\"fill:#ff0000;stroke:#ff0000;stroke-linejoin:bevel;\" x=\"143.907835\" xlink:href=\"#ma98ce0aeb8\" y=\"67.359684\"/>\r\n     <use style=\"fill:#ff0000;stroke:#ff0000;stroke-linejoin:bevel;\" x=\"144.286868\" xlink:href=\"#ma98ce0aeb8\" y=\"66.961021\"/>\r\n     <use style=\"fill:#ff0000;stroke:#ff0000;stroke-linejoin:bevel;\" x=\"144.665901\" xlink:href=\"#ma98ce0aeb8\" y=\"66.59917\"/>\r\n     <use style=\"fill:#ff0000;stroke:#ff0000;stroke-linejoin:bevel;\" x=\"145.044934\" xlink:href=\"#ma98ce0aeb8\" y=\"66.242912\"/>\r\n     <use style=\"fill:#ff0000;stroke:#ff0000;stroke-linejoin:bevel;\" x=\"145.423967\" xlink:href=\"#ma98ce0aeb8\" y=\"65.882497\"/>\r\n     <use style=\"fill:#ff0000;stroke:#ff0000;stroke-linejoin:bevel;\" x=\"145.803\" xlink:href=\"#ma98ce0aeb8\" y=\"65.508646\"/>\r\n     <use style=\"fill:#ff0000;stroke:#ff0000;stroke-linejoin:bevel;\" x=\"146.182034\" xlink:href=\"#ma98ce0aeb8\" y=\"65.119197\"/>\r\n     <use style=\"fill:#ff0000;stroke:#ff0000;stroke-linejoin:bevel;\" x=\"146.561067\" xlink:href=\"#ma98ce0aeb8\" y=\"64.718096\"/>\r\n     <use style=\"fill:#ff0000;stroke:#ff0000;stroke-linejoin:bevel;\" x=\"146.9401\" xlink:href=\"#ma98ce0aeb8\" y=\"64.320324\"/>\r\n     <use style=\"fill:#ff0000;stroke:#ff0000;stroke-linejoin:bevel;\" x=\"147.319133\" xlink:href=\"#ma98ce0aeb8\" y=\"63.896471\"/>\r\n     <use style=\"fill:#ff0000;stroke:#ff0000;stroke-linejoin:bevel;\" x=\"147.698166\" xlink:href=\"#ma98ce0aeb8\" y=\"63.485597\"/>\r\n     <use style=\"fill:#ff0000;stroke:#ff0000;stroke-linejoin:bevel;\" x=\"148.077199\" xlink:href=\"#ma98ce0aeb8\" y=\"63.007052\"/>\r\n     <use style=\"fill:#ff0000;stroke:#ff0000;stroke-linejoin:bevel;\" x=\"148.456233\" xlink:href=\"#ma98ce0aeb8\" y=\"62.510097\"/>\r\n     <use style=\"fill:#ff0000;stroke:#ff0000;stroke-linejoin:bevel;\" x=\"148.835266\" xlink:href=\"#ma98ce0aeb8\" y=\"62.023202\"/>\r\n     <use style=\"fill:#ff0000;stroke:#ff0000;stroke-linejoin:bevel;\" x=\"149.214299\" xlink:href=\"#ma98ce0aeb8\" y=\"61.522879\"/>\r\n     <use style=\"fill:#ff0000;stroke:#ff0000;stroke-linejoin:bevel;\" x=\"149.593332\" xlink:href=\"#ma98ce0aeb8\" y=\"61.019397\"/>\r\n     <use style=\"fill:#ff0000;stroke:#ff0000;stroke-linejoin:bevel;\" x=\"149.972365\" xlink:href=\"#ma98ce0aeb8\" y=\"60.523341\"/>\r\n     <use style=\"fill:#ff0000;stroke:#ff0000;stroke-linejoin:bevel;\" x=\"150.351399\" xlink:href=\"#ma98ce0aeb8\" y=\"60.012419\"/>\r\n     <use style=\"fill:#ff0000;stroke:#ff0000;stroke-linejoin:bevel;\" x=\"150.730432\" xlink:href=\"#ma98ce0aeb8\" y=\"59.508215\"/>\r\n     <use style=\"fill:#ff0000;stroke:#ff0000;stroke-linejoin:bevel;\" x=\"151.109465\" xlink:href=\"#ma98ce0aeb8\" y=\"58.99098\"/>\r\n     <use style=\"fill:#ff0000;stroke:#ff0000;stroke-linejoin:bevel;\" x=\"151.488498\" xlink:href=\"#ma98ce0aeb8\" y=\"58.448539\"/>\r\n     <use style=\"fill:#ff0000;stroke:#ff0000;stroke-linejoin:bevel;\" x=\"151.867531\" xlink:href=\"#ma98ce0aeb8\" y=\"57.906932\"/>\r\n     <use style=\"fill:#ff0000;stroke:#ff0000;stroke-linejoin:bevel;\" x=\"152.246564\" xlink:href=\"#ma98ce0aeb8\" y=\"57.331124\"/>\r\n     <use style=\"fill:#ff0000;stroke:#ff0000;stroke-linejoin:bevel;\" x=\"152.625598\" xlink:href=\"#ma98ce0aeb8\" y=\"56.741298\"/>\r\n     <use style=\"fill:#ff0000;stroke:#ff0000;stroke-linejoin:bevel;\" x=\"153.004631\" xlink:href=\"#ma98ce0aeb8\" y=\"56.143006\"/>\r\n     <use style=\"fill:#ff0000;stroke:#ff0000;stroke-linejoin:bevel;\" x=\"153.383664\" xlink:href=\"#ma98ce0aeb8\" y=\"55.553427\"/>\r\n     <use style=\"fill:#ff0000;stroke:#ff0000;stroke-linejoin:bevel;\" x=\"153.762697\" xlink:href=\"#ma98ce0aeb8\" y=\"54.997639\"/>\r\n     <use style=\"fill:#ff0000;stroke:#ff0000;stroke-linejoin:bevel;\" x=\"154.14173\" xlink:href=\"#ma98ce0aeb8\" y=\"54.473069\"/>\r\n     <use style=\"fill:#ff0000;stroke:#ff0000;stroke-linejoin:bevel;\" x=\"154.520763\" xlink:href=\"#ma98ce0aeb8\" y=\"53.945963\"/>\r\n     <use style=\"fill:#ff0000;stroke:#ff0000;stroke-linejoin:bevel;\" x=\"154.899797\" xlink:href=\"#ma98ce0aeb8\" y=\"53.446489\"/>\r\n     <use style=\"fill:#ff0000;stroke:#ff0000;stroke-linejoin:bevel;\" x=\"155.27883\" xlink:href=\"#ma98ce0aeb8\" y=\"52.946796\"/>\r\n     <use style=\"fill:#ff0000;stroke:#ff0000;stroke-linejoin:bevel;\" x=\"155.657863\" xlink:href=\"#ma98ce0aeb8\" y=\"52.463019\"/>\r\n     <use style=\"fill:#ff0000;stroke:#ff0000;stroke-linejoin:bevel;\" x=\"156.036896\" xlink:href=\"#ma98ce0aeb8\" y=\"51.951285\"/>\r\n     <use style=\"fill:#ff0000;stroke:#ff0000;stroke-linejoin:bevel;\" x=\"156.415929\" xlink:href=\"#ma98ce0aeb8\" y=\"51.435992\"/>\r\n     <use style=\"fill:#ff0000;stroke:#ff0000;stroke-linejoin:bevel;\" x=\"156.794962\" xlink:href=\"#ma98ce0aeb8\" y=\"50.896503\"/>\r\n     <use style=\"fill:#ff0000;stroke:#ff0000;stroke-linejoin:bevel;\" x=\"157.173996\" xlink:href=\"#ma98ce0aeb8\" y=\"50.364193\"/>\r\n     <use style=\"fill:#ff0000;stroke:#ff0000;stroke-linejoin:bevel;\" x=\"157.553029\" xlink:href=\"#ma98ce0aeb8\" y=\"49.855605\"/>\r\n     <use style=\"fill:#ff0000;stroke:#ff0000;stroke-linejoin:bevel;\" x=\"157.932062\" xlink:href=\"#ma98ce0aeb8\" y=\"49.349971\"/>\r\n     <use style=\"fill:#ff0000;stroke:#ff0000;stroke-linejoin:bevel;\" x=\"158.311095\" xlink:href=\"#ma98ce0aeb8\" y=\"48.822246\"/>\r\n     <use style=\"fill:#ff0000;stroke:#ff0000;stroke-linejoin:bevel;\" x=\"158.690128\" xlink:href=\"#ma98ce0aeb8\" y=\"48.283844\"/>\r\n     <use style=\"fill:#ff0000;stroke:#ff0000;stroke-linejoin:bevel;\" x=\"159.069161\" xlink:href=\"#ma98ce0aeb8\" y=\"47.720147\"/>\r\n     <use style=\"fill:#ff0000;stroke:#ff0000;stroke-linejoin:bevel;\" x=\"159.448195\" xlink:href=\"#ma98ce0aeb8\" y=\"47.131994\"/>\r\n     <use style=\"fill:#ff0000;stroke:#ff0000;stroke-linejoin:bevel;\" x=\"159.827228\" xlink:href=\"#ma98ce0aeb8\" y=\"46.54019\"/>\r\n     <use style=\"fill:#ff0000;stroke:#ff0000;stroke-linejoin:bevel;\" x=\"160.206261\" xlink:href=\"#ma98ce0aeb8\" y=\"45.949452\"/>\r\n     <use style=\"fill:#ff0000;stroke:#ff0000;stroke-linejoin:bevel;\" x=\"160.585294\" xlink:href=\"#ma98ce0aeb8\" y=\"45.323772\"/>\r\n     <use style=\"fill:#ff0000;stroke:#ff0000;stroke-linejoin:bevel;\" x=\"160.964327\" xlink:href=\"#ma98ce0aeb8\" y=\"44.698964\"/>\r\n     <use style=\"fill:#ff0000;stroke:#ff0000;stroke-linejoin:bevel;\" x=\"161.34336\" xlink:href=\"#ma98ce0aeb8\" y=\"44.084864\"/>\r\n     <use style=\"fill:#ff0000;stroke:#ff0000;stroke-linejoin:bevel;\" x=\"161.722394\" xlink:href=\"#ma98ce0aeb8\" y=\"43.509982\"/>\r\n     <use style=\"fill:#ff0000;stroke:#ff0000;stroke-linejoin:bevel;\" x=\"162.101427\" xlink:href=\"#ma98ce0aeb8\" y=\"42.915335\"/>\r\n     <use style=\"fill:#ff0000;stroke:#ff0000;stroke-linejoin:bevel;\" x=\"162.48046\" xlink:href=\"#ma98ce0aeb8\" y=\"42.307194\"/>\r\n     <use style=\"fill:#ff0000;stroke:#ff0000;stroke-linejoin:bevel;\" x=\"162.859493\" xlink:href=\"#ma98ce0aeb8\" y=\"41.702313\"/>\r\n     <use style=\"fill:#ff0000;stroke:#ff0000;stroke-linejoin:bevel;\" x=\"163.238526\" xlink:href=\"#ma98ce0aeb8\" y=\"41.091\"/>\r\n     <use style=\"fill:#ff0000;stroke:#ff0000;stroke-linejoin:bevel;\" x=\"163.61756\" xlink:href=\"#ma98ce0aeb8\" y=\"40.492554\"/>\r\n     <use style=\"fill:#ff0000;stroke:#ff0000;stroke-linejoin:bevel;\" x=\"163.996593\" xlink:href=\"#ma98ce0aeb8\" y=\"39.898961\"/>\r\n     <use style=\"fill:#ff0000;stroke:#ff0000;stroke-linejoin:bevel;\" x=\"164.375626\" xlink:href=\"#ma98ce0aeb8\" y=\"39.327254\"/>\r\n     <use style=\"fill:#ff0000;stroke:#ff0000;stroke-linejoin:bevel;\" x=\"164.754659\" xlink:href=\"#ma98ce0aeb8\" y=\"38.741648\"/>\r\n     <use style=\"fill:#ff0000;stroke:#ff0000;stroke-linejoin:bevel;\" x=\"165.133692\" xlink:href=\"#ma98ce0aeb8\" y=\"38.195882\"/>\r\n     <use style=\"fill:#ff0000;stroke:#ff0000;stroke-linejoin:bevel;\" x=\"165.512725\" xlink:href=\"#ma98ce0aeb8\" y=\"37.630487\"/>\r\n     <use style=\"fill:#ff0000;stroke:#ff0000;stroke-linejoin:bevel;\" x=\"165.891759\" xlink:href=\"#ma98ce0aeb8\" y=\"37.050419\"/>\r\n     <use style=\"fill:#ff0000;stroke:#ff0000;stroke-linejoin:bevel;\" x=\"166.270792\" xlink:href=\"#ma98ce0aeb8\" y=\"36.470032\"/>\r\n     <use style=\"fill:#ff0000;stroke:#ff0000;stroke-linejoin:bevel;\" x=\"166.649825\" xlink:href=\"#ma98ce0aeb8\" y=\"35.872939\"/>\r\n     <use style=\"fill:#ff0000;stroke:#ff0000;stroke-linejoin:bevel;\" x=\"167.028858\" xlink:href=\"#ma98ce0aeb8\" y=\"35.263054\"/>\r\n     <use style=\"fill:#ff0000;stroke:#ff0000;stroke-linejoin:bevel;\" x=\"167.407891\" xlink:href=\"#ma98ce0aeb8\" y=\"34.648714\"/>\r\n     <use style=\"fill:#ff0000;stroke:#ff0000;stroke-linejoin:bevel;\" x=\"167.786924\" xlink:href=\"#ma98ce0aeb8\" y=\"34.039312\"/>\r\n     <use style=\"fill:#ff0000;stroke:#ff0000;stroke-linejoin:bevel;\" x=\"168.165958\" xlink:href=\"#ma98ce0aeb8\" y=\"33.425177\"/>\r\n     <use style=\"fill:#ff0000;stroke:#ff0000;stroke-linejoin:bevel;\" x=\"168.544991\" xlink:href=\"#ma98ce0aeb8\" y=\"32.81062\"/>\r\n     <use style=\"fill:#ff0000;stroke:#ff0000;stroke-linejoin:bevel;\" x=\"168.924024\" xlink:href=\"#ma98ce0aeb8\" y=\"32.208296\"/>\r\n     <use style=\"fill:#ff0000;stroke:#ff0000;stroke-linejoin:bevel;\" x=\"169.303057\" xlink:href=\"#ma98ce0aeb8\" y=\"31.598852\"/>\r\n     <use style=\"fill:#ff0000;stroke:#ff0000;stroke-linejoin:bevel;\" x=\"169.68209\" xlink:href=\"#ma98ce0aeb8\" y=\"30.993323\"/>\r\n     <use style=\"fill:#ff0000;stroke:#ff0000;stroke-linejoin:bevel;\" x=\"170.061123\" xlink:href=\"#ma98ce0aeb8\" y=\"30.392488\"/>\r\n     <use style=\"fill:#ff0000;stroke:#ff0000;stroke-linejoin:bevel;\" x=\"170.440157\" xlink:href=\"#ma98ce0aeb8\" y=\"29.7966\"/>\r\n     <use style=\"fill:#ff0000;stroke:#ff0000;stroke-linejoin:bevel;\" x=\"170.81919\" xlink:href=\"#ma98ce0aeb8\" y=\"29.194488\"/>\r\n     <use style=\"fill:#ff0000;stroke:#ff0000;stroke-linejoin:bevel;\" x=\"171.198223\" xlink:href=\"#ma98ce0aeb8\" y=\"28.570268\"/>\r\n     <use style=\"fill:#ff0000;stroke:#ff0000;stroke-linejoin:bevel;\" x=\"171.577256\" xlink:href=\"#ma98ce0aeb8\" y=\"27.951\"/>\r\n     <use style=\"fill:#ff0000;stroke:#ff0000;stroke-linejoin:bevel;\" x=\"171.956289\" xlink:href=\"#ma98ce0aeb8\" y=\"27.325492\"/>\r\n     <use style=\"fill:#ff0000;stroke:#ff0000;stroke-linejoin:bevel;\" x=\"172.335322\" xlink:href=\"#ma98ce0aeb8\" y=\"26.675917\"/>\r\n     <use style=\"fill:#ff0000;stroke:#ff0000;stroke-linejoin:bevel;\" x=\"172.714356\" xlink:href=\"#ma98ce0aeb8\" y=\"26.013742\"/>\r\n     <use style=\"fill:#ff0000;stroke:#ff0000;stroke-linejoin:bevel;\" x=\"173.093389\" xlink:href=\"#ma98ce0aeb8\" y=\"25.362894\"/>\r\n     <use style=\"fill:#ff0000;stroke:#ff0000;stroke-linejoin:bevel;\" x=\"173.472422\" xlink:href=\"#ma98ce0aeb8\" y=\"24.713842\"/>\r\n     <use style=\"fill:#ff0000;stroke:#ff0000;stroke-linejoin:bevel;\" x=\"173.851455\" xlink:href=\"#ma98ce0aeb8\" y=\"24.077498\"/>\r\n     <use style=\"fill:#ff0000;stroke:#ff0000;stroke-linejoin:bevel;\" x=\"174.230488\" xlink:href=\"#ma98ce0aeb8\" y=\"23.456559\"/>\r\n     <use style=\"fill:#ff0000;stroke:#ff0000;stroke-linejoin:bevel;\" x=\"174.609521\" xlink:href=\"#ma98ce0aeb8\" y=\"22.872776\"/>\r\n     <use style=\"fill:#ff0000;stroke:#ff0000;stroke-linejoin:bevel;\" x=\"175.367588\" xlink:href=\"#ma98ce0aeb8\" y=\"22.290999\"/>\r\n    </g>\r\n   </g>\r\n   <g id=\"line2d_10\">\r\n    <path clip-path=\"url(#p5206679d85)\" d=\"M 37.02048 112.142156 \r\nL 41.189845 111.161995 \r\nL 75.681864 101.741632 \r\nL 97.286755 95.009715 \r\nL 101.456119 93.748538 \r\nL 104.109352 93.267984 \r\nL 108.65775 91.704222 \r\nL 113.585181 89.775996 \r\nL 117.375513 88.065695 \r\nL 128.367475 82.467918 \r\nL 132.536839 79.729522 \r\nL 135.190072 77.612387 \r\nL 138.60137 74.363646 \r\nL 142.012669 71.268298 \r\nL 146.182034 67.605947 \r\nL 148.456233 65.198277 \r\nL 151.109465 61.880268 \r\nL 157.173996 53.944848 \r\nL 159.069161 51.429765 \r\nL 163.238526 45.212186 \r\nL 172.714356 30.766826 \r\nL 174.609521 27.818134 \r\nL 175.367588 27.23981 \r\nL 175.367588 27.23981 \r\n\" style=\"fill:none;stroke:#1f77b4;stroke-dasharray:5.55,2.4;stroke-dashoffset:0;stroke-width:1.5;\"/>\r\n    <defs>\r\n     <path d=\"M 0 3 \r\nC 0.795609 3 1.55874 2.683901 2.12132 2.12132 \r\nC 2.683901 1.55874 3 0.795609 3 0 \r\nC 3 -0.795609 2.683901 -1.55874 2.12132 -2.12132 \r\nC 1.55874 -2.683901 0.795609 -3 0 -3 \r\nC -0.795609 -3 -1.55874 -2.683901 -2.12132 -2.12132 \r\nC -2.683901 -1.55874 -3 -0.795609 -3 0 \r\nC -3 0.795609 -2.683901 1.55874 -2.12132 2.12132 \r\nC -1.55874 2.683901 -0.795609 3 0 3 \r\nz\r\n\" id=\"m768193f343\" style=\"stroke:#1f77b4;\"/>\r\n    </defs>\r\n    <g clip-path=\"url(#p5206679d85)\">\r\n     <use style=\"fill:#1f77b4;stroke:#1f77b4;\" x=\"37.02048\" xlink:href=\"#m768193f343\" y=\"112.142156\"/>\r\n     <use style=\"fill:#1f77b4;stroke:#1f77b4;\" x=\"37.399514\" xlink:href=\"#m768193f343\" y=\"112.062907\"/>\r\n     <use style=\"fill:#1f77b4;stroke:#1f77b4;\" x=\"37.778547\" xlink:href=\"#m768193f343\" y=\"111.981525\"/>\r\n     <use style=\"fill:#1f77b4;stroke:#1f77b4;\" x=\"38.15758\" xlink:href=\"#m768193f343\" y=\"111.896503\"/>\r\n     <use style=\"fill:#1f77b4;stroke:#1f77b4;\" x=\"38.536613\" xlink:href=\"#m768193f343\" y=\"111.810309\"/>\r\n     <use style=\"fill:#1f77b4;stroke:#1f77b4;\" x=\"38.915646\" xlink:href=\"#m768193f343\" y=\"111.72366\"/>\r\n     <use style=\"fill:#1f77b4;stroke:#1f77b4;\" x=\"39.294679\" xlink:href=\"#m768193f343\" y=\"111.63556\"/>\r\n     <use style=\"fill:#1f77b4;stroke:#1f77b4;\" x=\"39.673713\" xlink:href=\"#m768193f343\" y=\"111.547568\"/>\r\n     <use style=\"fill:#1f77b4;stroke:#1f77b4;\" x=\"40.052746\" xlink:href=\"#m768193f343\" y=\"111.459279\"/>\r\n     <use style=\"fill:#1f77b4;stroke:#1f77b4;\" x=\"40.431779\" xlink:href=\"#m768193f343\" y=\"111.362521\"/>\r\n     <use style=\"fill:#1f77b4;stroke:#1f77b4;\" x=\"40.810812\" xlink:href=\"#m768193f343\" y=\"111.264177\"/>\r\n     <use style=\"fill:#1f77b4;stroke:#1f77b4;\" x=\"41.189845\" xlink:href=\"#m768193f343\" y=\"111.161995\"/>\r\n     <use style=\"fill:#1f77b4;stroke:#1f77b4;\" x=\"41.568878\" xlink:href=\"#m768193f343\" y=\"111.059585\"/>\r\n     <use style=\"fill:#1f77b4;stroke:#1f77b4;\" x=\"41.947912\" xlink:href=\"#m768193f343\" y=\"110.960294\"/>\r\n     <use style=\"fill:#1f77b4;stroke:#1f77b4;\" x=\"42.326945\" xlink:href=\"#m768193f343\" y=\"110.859051\"/>\r\n     <use style=\"fill:#1f77b4;stroke:#1f77b4;\" x=\"42.705978\" xlink:href=\"#m768193f343\" y=\"110.756589\"/>\r\n     <use style=\"fill:#1f77b4;stroke:#1f77b4;\" x=\"43.085011\" xlink:href=\"#m768193f343\" y=\"110.65157\"/>\r\n     <use style=\"fill:#1f77b4;stroke:#1f77b4;\" x=\"43.464044\" xlink:href=\"#m768193f343\" y=\"110.540903\"/>\r\n     <use style=\"fill:#1f77b4;stroke:#1f77b4;\" x=\"43.843077\" xlink:href=\"#m768193f343\" y=\"110.431716\"/>\r\n     <use style=\"fill:#1f77b4;stroke:#1f77b4;\" x=\"44.222111\" xlink:href=\"#m768193f343\" y=\"110.33604\"/>\r\n     <use style=\"fill:#1f77b4;stroke:#1f77b4;\" x=\"44.601144\" xlink:href=\"#m768193f343\" y=\"110.240549\"/>\r\n     <use style=\"fill:#1f77b4;stroke:#1f77b4;\" x=\"44.980177\" xlink:href=\"#m768193f343\" y=\"110.142852\"/>\r\n     <use style=\"fill:#1f77b4;stroke:#1f77b4;\" x=\"45.35921\" xlink:href=\"#m768193f343\" y=\"110.042043\"/>\r\n     <use style=\"fill:#1f77b4;stroke:#1f77b4;\" x=\"45.738243\" xlink:href=\"#m768193f343\" y=\"109.935917\"/>\r\n     <use style=\"fill:#1f77b4;stroke:#1f77b4;\" x=\"46.117276\" xlink:href=\"#m768193f343\" y=\"109.829679\"/>\r\n     <use style=\"fill:#1f77b4;stroke:#1f77b4;\" x=\"46.49631\" xlink:href=\"#m768193f343\" y=\"109.723459\"/>\r\n     <use style=\"fill:#1f77b4;stroke:#1f77b4;\" x=\"46.875343\" xlink:href=\"#m768193f343\" y=\"109.616219\"/>\r\n     <use style=\"fill:#1f77b4;stroke:#1f77b4;\" x=\"47.254376\" xlink:href=\"#m768193f343\" y=\"109.506734\"/>\r\n     <use style=\"fill:#1f77b4;stroke:#1f77b4;\" x=\"47.633409\" xlink:href=\"#m768193f343\" y=\"109.39853\"/>\r\n     <use style=\"fill:#1f77b4;stroke:#1f77b4;\" x=\"48.012442\" xlink:href=\"#m768193f343\" y=\"109.29169\"/>\r\n     <use style=\"fill:#1f77b4;stroke:#1f77b4;\" x=\"48.391476\" xlink:href=\"#m768193f343\" y=\"109.191121\"/>\r\n     <use style=\"fill:#1f77b4;stroke:#1f77b4;\" x=\"48.770509\" xlink:href=\"#m768193f343\" y=\"109.088598\"/>\r\n     <use style=\"fill:#1f77b4;stroke:#1f77b4;\" x=\"49.149542\" xlink:href=\"#m768193f343\" y=\"108.984794\"/>\r\n     <use style=\"fill:#1f77b4;stroke:#1f77b4;\" x=\"49.528575\" xlink:href=\"#m768193f343\" y=\"108.884863\"/>\r\n     <use style=\"fill:#1f77b4;stroke:#1f77b4;\" x=\"49.907608\" xlink:href=\"#m768193f343\" y=\"108.785762\"/>\r\n     <use style=\"fill:#1f77b4;stroke:#1f77b4;\" x=\"50.286641\" xlink:href=\"#m768193f343\" y=\"108.687367\"/>\r\n     <use style=\"fill:#1f77b4;stroke:#1f77b4;\" x=\"50.665675\" xlink:href=\"#m768193f343\" y=\"108.588364\"/>\r\n     <use style=\"fill:#1f77b4;stroke:#1f77b4;\" x=\"51.044708\" xlink:href=\"#m768193f343\" y=\"108.485963\"/>\r\n     <use style=\"fill:#1f77b4;stroke:#1f77b4;\" x=\"51.423741\" xlink:href=\"#m768193f343\" y=\"108.3812\"/>\r\n     <use style=\"fill:#1f77b4;stroke:#1f77b4;\" x=\"51.802774\" xlink:href=\"#m768193f343\" y=\"108.276317\"/>\r\n     <use style=\"fill:#1f77b4;stroke:#1f77b4;\" x=\"52.181807\" xlink:href=\"#m768193f343\" y=\"108.170629\"/>\r\n     <use style=\"fill:#1f77b4;stroke:#1f77b4;\" x=\"52.56084\" xlink:href=\"#m768193f343\" y=\"108.066311\"/>\r\n     <use style=\"fill:#1f77b4;stroke:#1f77b4;\" x=\"52.939874\" xlink:href=\"#m768193f343\" y=\"107.962507\"/>\r\n     <use style=\"fill:#1f77b4;stroke:#1f77b4;\" x=\"53.318907\" xlink:href=\"#m768193f343\" y=\"107.858526\"/>\r\n     <use style=\"fill:#1f77b4;stroke:#1f77b4;\" x=\"53.69794\" xlink:href=\"#m768193f343\" y=\"107.753926\"/>\r\n     <use style=\"fill:#1f77b4;stroke:#1f77b4;\" x=\"54.076973\" xlink:href=\"#m768193f343\" y=\"107.648556\"/>\r\n     <use style=\"fill:#1f77b4;stroke:#1f77b4;\" x=\"54.456006\" xlink:href=\"#m768193f343\" y=\"107.543897\"/>\r\n     <use style=\"fill:#1f77b4;stroke:#1f77b4;\" x=\"54.835039\" xlink:href=\"#m768193f343\" y=\"107.440637\"/>\r\n     <use style=\"fill:#1f77b4;stroke:#1f77b4;\" x=\"55.214073\" xlink:href=\"#m768193f343\" y=\"107.335304\"/>\r\n     <use style=\"fill:#1f77b4;stroke:#1f77b4;\" x=\"55.593106\" xlink:href=\"#m768193f343\" y=\"107.229421\"/>\r\n     <use style=\"fill:#1f77b4;stroke:#1f77b4;\" x=\"55.972139\" xlink:href=\"#m768193f343\" y=\"107.123429\"/>\r\n     <use style=\"fill:#1f77b4;stroke:#1f77b4;\" x=\"56.351172\" xlink:href=\"#m768193f343\" y=\"107.020869\"/>\r\n     <use style=\"fill:#1f77b4;stroke:#1f77b4;\" x=\"56.730205\" xlink:href=\"#m768193f343\" y=\"106.917843\"/>\r\n     <use style=\"fill:#1f77b4;stroke:#1f77b4;\" x=\"57.109238\" xlink:href=\"#m768193f343\" y=\"106.814034\"/>\r\n     <use style=\"fill:#1f77b4;stroke:#1f77b4;\" x=\"57.488272\" xlink:href=\"#m768193f343\" y=\"106.710461\"/>\r\n     <use style=\"fill:#1f77b4;stroke:#1f77b4;\" x=\"57.867305\" xlink:href=\"#m768193f343\" y=\"106.610536\"/>\r\n     <use style=\"fill:#1f77b4;stroke:#1f77b4;\" x=\"58.246338\" xlink:href=\"#m768193f343\" y=\"106.507065\"/>\r\n     <use style=\"fill:#1f77b4;stroke:#1f77b4;\" x=\"58.625371\" xlink:href=\"#m768193f343\" y=\"106.404211\"/>\r\n     <use style=\"fill:#1f77b4;stroke:#1f77b4;\" x=\"59.004404\" xlink:href=\"#m768193f343\" y=\"106.301069\"/>\r\n     <use style=\"fill:#1f77b4;stroke:#1f77b4;\" x=\"59.383437\" xlink:href=\"#m768193f343\" y=\"106.198452\"/>\r\n     <use style=\"fill:#1f77b4;stroke:#1f77b4;\" x=\"59.762471\" xlink:href=\"#m768193f343\" y=\"106.096133\"/>\r\n     <use style=\"fill:#1f77b4;stroke:#1f77b4;\" x=\"60.141504\" xlink:href=\"#m768193f343\" y=\"105.993169\"/>\r\n     <use style=\"fill:#1f77b4;stroke:#1f77b4;\" x=\"60.520537\" xlink:href=\"#m768193f343\" y=\"105.890172\"/>\r\n     <use style=\"fill:#1f77b4;stroke:#1f77b4;\" x=\"60.89957\" xlink:href=\"#m768193f343\" y=\"105.785052\"/>\r\n     <use style=\"fill:#1f77b4;stroke:#1f77b4;\" x=\"61.278603\" xlink:href=\"#m768193f343\" y=\"105.682446\"/>\r\n     <use style=\"fill:#1f77b4;stroke:#1f77b4;\" x=\"61.657636\" xlink:href=\"#m768193f343\" y=\"105.581545\"/>\r\n     <use style=\"fill:#1f77b4;stroke:#1f77b4;\" x=\"62.03667\" xlink:href=\"#m768193f343\" y=\"105.480092\"/>\r\n     <use style=\"fill:#1f77b4;stroke:#1f77b4;\" x=\"62.415703\" xlink:href=\"#m768193f343\" y=\"105.379961\"/>\r\n     <use style=\"fill:#1f77b4;stroke:#1f77b4;\" x=\"62.794736\" xlink:href=\"#m768193f343\" y=\"105.280082\"/>\r\n     <use style=\"fill:#1f77b4;stroke:#1f77b4;\" x=\"63.173769\" xlink:href=\"#m768193f343\" y=\"105.179498\"/>\r\n     <use style=\"fill:#1f77b4;stroke:#1f77b4;\" x=\"63.552802\" xlink:href=\"#m768193f343\" y=\"105.078437\"/>\r\n     <use style=\"fill:#1f77b4;stroke:#1f77b4;\" x=\"63.931836\" xlink:href=\"#m768193f343\" y=\"104.977975\"/>\r\n     <use style=\"fill:#1f77b4;stroke:#1f77b4;\" x=\"64.310869\" xlink:href=\"#m768193f343\" y=\"104.878156\"/>\r\n     <use style=\"fill:#1f77b4;stroke:#1f77b4;\" x=\"64.689902\" xlink:href=\"#m768193f343\" y=\"104.778356\"/>\r\n     <use style=\"fill:#1f77b4;stroke:#1f77b4;\" x=\"65.068935\" xlink:href=\"#m768193f343\" y=\"104.678613\"/>\r\n     <use style=\"fill:#1f77b4;stroke:#1f77b4;\" x=\"65.447968\" xlink:href=\"#m768193f343\" y=\"104.579649\"/>\r\n     <use style=\"fill:#1f77b4;stroke:#1f77b4;\" x=\"65.827001\" xlink:href=\"#m768193f343\" y=\"104.479858\"/>\r\n     <use style=\"fill:#1f77b4;stroke:#1f77b4;\" x=\"66.206035\" xlink:href=\"#m768193f343\" y=\"104.378328\"/>\r\n     <use style=\"fill:#1f77b4;stroke:#1f77b4;\" x=\"66.585068\" xlink:href=\"#m768193f343\" y=\"104.276055\"/>\r\n     <use style=\"fill:#1f77b4;stroke:#1f77b4;\" x=\"66.964101\" xlink:href=\"#m768193f343\" y=\"104.174022\"/>\r\n     <use style=\"fill:#1f77b4;stroke:#1f77b4;\" x=\"67.343134\" xlink:href=\"#m768193f343\" y=\"104.073046\"/>\r\n     <use style=\"fill:#1f77b4;stroke:#1f77b4;\" x=\"67.722167\" xlink:href=\"#m768193f343\" y=\"103.97136\"/>\r\n     <use style=\"fill:#1f77b4;stroke:#1f77b4;\" x=\"68.1012\" xlink:href=\"#m768193f343\" y=\"103.869757\"/>\r\n     <use style=\"fill:#1f77b4;stroke:#1f77b4;\" x=\"68.480234\" xlink:href=\"#m768193f343\" y=\"103.767714\"/>\r\n     <use style=\"fill:#1f77b4;stroke:#1f77b4;\" x=\"68.859267\" xlink:href=\"#m768193f343\" y=\"103.666128\"/>\r\n     <use style=\"fill:#1f77b4;stroke:#1f77b4;\" x=\"69.2383\" xlink:href=\"#m768193f343\" y=\"103.565361\"/>\r\n     <use style=\"fill:#1f77b4;stroke:#1f77b4;\" x=\"69.617333\" xlink:href=\"#m768193f343\" y=\"103.465357\"/>\r\n     <use style=\"fill:#1f77b4;stroke:#1f77b4;\" x=\"69.996366\" xlink:href=\"#m768193f343\" y=\"103.364955\"/>\r\n     <use style=\"fill:#1f77b4;stroke:#1f77b4;\" x=\"70.375399\" xlink:href=\"#m768193f343\" y=\"103.264473\"/>\r\n     <use style=\"fill:#1f77b4;stroke:#1f77b4;\" x=\"70.754433\" xlink:href=\"#m768193f343\" y=\"103.164027\"/>\r\n     <use style=\"fill:#1f77b4;stroke:#1f77b4;\" x=\"71.133466\" xlink:href=\"#m768193f343\" y=\"103.063318\"/>\r\n     <use style=\"fill:#1f77b4;stroke:#1f77b4;\" x=\"71.512499\" xlink:href=\"#m768193f343\" y=\"102.962737\"/>\r\n     <use style=\"fill:#1f77b4;stroke:#1f77b4;\" x=\"71.891532\" xlink:href=\"#m768193f343\" y=\"102.860686\"/>\r\n     <use style=\"fill:#1f77b4;stroke:#1f77b4;\" x=\"72.270565\" xlink:href=\"#m768193f343\" y=\"102.757305\"/>\r\n     <use style=\"fill:#1f77b4;stroke:#1f77b4;\" x=\"72.649598\" xlink:href=\"#m768193f343\" y=\"102.653905\"/>\r\n     <use style=\"fill:#1f77b4;stroke:#1f77b4;\" x=\"73.028632\" xlink:href=\"#m768193f343\" y=\"102.549957\"/>\r\n     <use style=\"fill:#1f77b4;stroke:#1f77b4;\" x=\"73.407665\" xlink:href=\"#m768193f343\" y=\"102.444673\"/>\r\n     <use style=\"fill:#1f77b4;stroke:#1f77b4;\" x=\"73.786698\" xlink:href=\"#m768193f343\" y=\"102.336777\"/>\r\n     <use style=\"fill:#1f77b4;stroke:#1f77b4;\" x=\"74.165731\" xlink:href=\"#m768193f343\" y=\"102.221009\"/>\r\n     <use style=\"fill:#1f77b4;stroke:#1f77b4;\" x=\"74.544764\" xlink:href=\"#m768193f343\" y=\"102.102932\"/>\r\n     <use style=\"fill:#1f77b4;stroke:#1f77b4;\" x=\"74.923797\" xlink:href=\"#m768193f343\" y=\"101.984105\"/>\r\n     <use style=\"fill:#1f77b4;stroke:#1f77b4;\" x=\"75.302831\" xlink:href=\"#m768193f343\" y=\"101.864188\"/>\r\n     <use style=\"fill:#1f77b4;stroke:#1f77b4;\" x=\"75.681864\" xlink:href=\"#m768193f343\" y=\"101.741632\"/>\r\n     <use style=\"fill:#1f77b4;stroke:#1f77b4;\" x=\"76.060897\" xlink:href=\"#m768193f343\" y=\"101.621491\"/>\r\n     <use style=\"fill:#1f77b4;stroke:#1f77b4;\" x=\"76.43993\" xlink:href=\"#m768193f343\" y=\"101.501461\"/>\r\n     <use style=\"fill:#1f77b4;stroke:#1f77b4;\" x=\"76.818963\" xlink:href=\"#m768193f343\" y=\"101.380442\"/>\r\n     <use style=\"fill:#1f77b4;stroke:#1f77b4;\" x=\"77.197997\" xlink:href=\"#m768193f343\" y=\"101.259801\"/>\r\n     <use style=\"fill:#1f77b4;stroke:#1f77b4;\" x=\"77.57703\" xlink:href=\"#m768193f343\" y=\"101.134722\"/>\r\n     <use style=\"fill:#1f77b4;stroke:#1f77b4;\" x=\"77.956063\" xlink:href=\"#m768193f343\" y=\"101.010491\"/>\r\n     <use style=\"fill:#1f77b4;stroke:#1f77b4;\" x=\"78.335096\" xlink:href=\"#m768193f343\" y=\"100.884706\"/>\r\n     <use style=\"fill:#1f77b4;stroke:#1f77b4;\" x=\"78.714129\" xlink:href=\"#m768193f343\" y=\"100.759025\"/>\r\n     <use style=\"fill:#1f77b4;stroke:#1f77b4;\" x=\"79.093162\" xlink:href=\"#m768193f343\" y=\"100.63207\"/>\r\n     <use style=\"fill:#1f77b4;stroke:#1f77b4;\" x=\"79.472196\" xlink:href=\"#m768193f343\" y=\"100.510962\"/>\r\n     <use style=\"fill:#1f77b4;stroke:#1f77b4;\" x=\"79.851229\" xlink:href=\"#m768193f343\" y=\"100.389057\"/>\r\n     <use style=\"fill:#1f77b4;stroke:#1f77b4;\" x=\"80.230262\" xlink:href=\"#m768193f343\" y=\"100.268372\"/>\r\n     <use style=\"fill:#1f77b4;stroke:#1f77b4;\" x=\"80.609295\" xlink:href=\"#m768193f343\" y=\"100.14239\"/>\r\n     <use style=\"fill:#1f77b4;stroke:#1f77b4;\" x=\"80.988328\" xlink:href=\"#m768193f343\" y=\"100.015442\"/>\r\n     <use style=\"fill:#1f77b4;stroke:#1f77b4;\" x=\"81.367361\" xlink:href=\"#m768193f343\" y=\"99.889078\"/>\r\n     <use style=\"fill:#1f77b4;stroke:#1f77b4;\" x=\"81.746395\" xlink:href=\"#m768193f343\" y=\"99.761901\"/>\r\n     <use style=\"fill:#1f77b4;stroke:#1f77b4;\" x=\"82.125428\" xlink:href=\"#m768193f343\" y=\"99.633774\"/>\r\n     <use style=\"fill:#1f77b4;stroke:#1f77b4;\" x=\"82.504461\" xlink:href=\"#m768193f343\" y=\"99.508151\"/>\r\n     <use style=\"fill:#1f77b4;stroke:#1f77b4;\" x=\"82.883494\" xlink:href=\"#m768193f343\" y=\"99.382248\"/>\r\n     <use style=\"fill:#1f77b4;stroke:#1f77b4;\" x=\"83.262527\" xlink:href=\"#m768193f343\" y=\"99.258362\"/>\r\n     <use style=\"fill:#1f77b4;stroke:#1f77b4;\" x=\"83.64156\" xlink:href=\"#m768193f343\" y=\"99.13572\"/>\r\n     <use style=\"fill:#1f77b4;stroke:#1f77b4;\" x=\"84.020594\" xlink:href=\"#m768193f343\" y=\"99.012317\"/>\r\n     <use style=\"fill:#1f77b4;stroke:#1f77b4;\" x=\"84.399627\" xlink:href=\"#m768193f343\" y=\"98.887754\"/>\r\n     <use style=\"fill:#1f77b4;stroke:#1f77b4;\" x=\"84.77866\" xlink:href=\"#m768193f343\" y=\"98.767738\"/>\r\n     <use style=\"fill:#1f77b4;stroke:#1f77b4;\" x=\"85.157693\" xlink:href=\"#m768193f343\" y=\"98.646779\"/>\r\n     <use style=\"fill:#1f77b4;stroke:#1f77b4;\" x=\"85.536726\" xlink:href=\"#m768193f343\" y=\"98.527436\"/>\r\n     <use style=\"fill:#1f77b4;stroke:#1f77b4;\" x=\"85.915759\" xlink:href=\"#m768193f343\" y=\"98.406664\"/>\r\n     <use style=\"fill:#1f77b4;stroke:#1f77b4;\" x=\"86.294793\" xlink:href=\"#m768193f343\" y=\"98.284552\"/>\r\n     <use style=\"fill:#1f77b4;stroke:#1f77b4;\" x=\"86.673826\" xlink:href=\"#m768193f343\" y=\"98.162162\"/>\r\n     <use style=\"fill:#1f77b4;stroke:#1f77b4;\" x=\"87.052859\" xlink:href=\"#m768193f343\" y=\"98.038908\"/>\r\n     <use style=\"fill:#1f77b4;stroke:#1f77b4;\" x=\"87.431892\" xlink:href=\"#m768193f343\" y=\"97.915947\"/>\r\n     <use style=\"fill:#1f77b4;stroke:#1f77b4;\" x=\"87.810925\" xlink:href=\"#m768193f343\" y=\"97.796006\"/>\r\n     <use style=\"fill:#1f77b4;stroke:#1f77b4;\" x=\"88.189958\" xlink:href=\"#m768193f343\" y=\"97.68724\"/>\r\n     <use style=\"fill:#1f77b4;stroke:#1f77b4;\" x=\"88.568992\" xlink:href=\"#m768193f343\" y=\"97.578353\"/>\r\n     <use style=\"fill:#1f77b4;stroke:#1f77b4;\" x=\"88.948025\" xlink:href=\"#m768193f343\" y=\"97.472713\"/>\r\n     <use style=\"fill:#1f77b4;stroke:#1f77b4;\" x=\"89.327058\" xlink:href=\"#m768193f343\" y=\"97.365902\"/>\r\n     <use style=\"fill:#1f77b4;stroke:#1f77b4;\" x=\"89.706091\" xlink:href=\"#m768193f343\" y=\"97.260323\"/>\r\n     <use style=\"fill:#1f77b4;stroke:#1f77b4;\" x=\"90.085124\" xlink:href=\"#m768193f343\" y=\"97.153772\"/>\r\n     <use style=\"fill:#1f77b4;stroke:#1f77b4;\" x=\"90.464157\" xlink:href=\"#m768193f343\" y=\"97.045987\"/>\r\n     <use style=\"fill:#1f77b4;stroke:#1f77b4;\" x=\"90.843191\" xlink:href=\"#m768193f343\" y=\"96.936506\"/>\r\n     <use style=\"fill:#1f77b4;stroke:#1f77b4;\" x=\"91.222224\" xlink:href=\"#m768193f343\" y=\"96.827858\"/>\r\n     <use style=\"fill:#1f77b4;stroke:#1f77b4;\" x=\"91.601257\" xlink:href=\"#m768193f343\" y=\"96.717589\"/>\r\n     <use style=\"fill:#1f77b4;stroke:#1f77b4;\" x=\"91.98029\" xlink:href=\"#m768193f343\" y=\"96.608051\"/>\r\n     <use style=\"fill:#1f77b4;stroke:#1f77b4;\" x=\"92.359323\" xlink:href=\"#m768193f343\" y=\"96.497982\"/>\r\n     <use style=\"fill:#1f77b4;stroke:#1f77b4;\" x=\"92.738357\" xlink:href=\"#m768193f343\" y=\"96.383957\"/>\r\n     <use style=\"fill:#1f77b4;stroke:#1f77b4;\" x=\"93.11739\" xlink:href=\"#m768193f343\" y=\"96.269111\"/>\r\n     <use style=\"fill:#1f77b4;stroke:#1f77b4;\" x=\"93.496423\" xlink:href=\"#m768193f343\" y=\"96.153263\"/>\r\n     <use style=\"fill:#1f77b4;stroke:#1f77b4;\" x=\"93.875456\" xlink:href=\"#m768193f343\" y=\"96.037109\"/>\r\n     <use style=\"fill:#1f77b4;stroke:#1f77b4;\" x=\"94.254489\" xlink:href=\"#m768193f343\" y=\"95.91998\"/>\r\n     <use style=\"fill:#1f77b4;stroke:#1f77b4;\" x=\"94.633522\" xlink:href=\"#m768193f343\" y=\"95.803873\"/>\r\n     <use style=\"fill:#1f77b4;stroke:#1f77b4;\" x=\"95.012556\" xlink:href=\"#m768193f343\" y=\"95.691574\"/>\r\n     <use style=\"fill:#1f77b4;stroke:#1f77b4;\" x=\"95.391589\" xlink:href=\"#m768193f343\" y=\"95.579094\"/>\r\n     <use style=\"fill:#1f77b4;stroke:#1f77b4;\" x=\"95.770622\" xlink:href=\"#m768193f343\" y=\"95.468241\"/>\r\n     <use style=\"fill:#1f77b4;stroke:#1f77b4;\" x=\"96.149655\" xlink:href=\"#m768193f343\" y=\"95.357103\"/>\r\n     <use style=\"fill:#1f77b4;stroke:#1f77b4;\" x=\"96.528688\" xlink:href=\"#m768193f343\" y=\"95.241834\"/>\r\n     <use style=\"fill:#1f77b4;stroke:#1f77b4;\" x=\"96.907721\" xlink:href=\"#m768193f343\" y=\"95.125565\"/>\r\n     <use style=\"fill:#1f77b4;stroke:#1f77b4;\" x=\"97.286755\" xlink:href=\"#m768193f343\" y=\"95.009715\"/>\r\n     <use style=\"fill:#1f77b4;stroke:#1f77b4;\" x=\"97.665788\" xlink:href=\"#m768193f343\" y=\"94.893334\"/>\r\n     <use style=\"fill:#1f77b4;stroke:#1f77b4;\" x=\"98.044821\" xlink:href=\"#m768193f343\" y=\"94.777137\"/>\r\n     <use style=\"fill:#1f77b4;stroke:#1f77b4;\" x=\"98.423854\" xlink:href=\"#m768193f343\" y=\"94.660656\"/>\r\n     <use style=\"fill:#1f77b4;stroke:#1f77b4;\" x=\"98.802887\" xlink:href=\"#m768193f343\" y=\"94.547254\"/>\r\n     <use style=\"fill:#1f77b4;stroke:#1f77b4;\" x=\"99.18192\" xlink:href=\"#m768193f343\" y=\"94.434198\"/>\r\n     <use style=\"fill:#1f77b4;stroke:#1f77b4;\" x=\"99.560954\" xlink:href=\"#m768193f343\" y=\"94.320266\"/>\r\n     <use style=\"fill:#1f77b4;stroke:#1f77b4;\" x=\"99.939987\" xlink:href=\"#m768193f343\" y=\"94.206298\"/>\r\n     <use style=\"fill:#1f77b4;stroke:#1f77b4;\" x=\"100.31902\" xlink:href=\"#m768193f343\" y=\"94.091316\"/>\r\n     <use style=\"fill:#1f77b4;stroke:#1f77b4;\" x=\"100.698053\" xlink:href=\"#m768193f343\" y=\"93.976994\"/>\r\n     <use style=\"fill:#1f77b4;stroke:#1f77b4;\" x=\"101.077086\" xlink:href=\"#m768193f343\" y=\"93.862285\"/>\r\n     <use style=\"fill:#1f77b4;stroke:#1f77b4;\" x=\"101.456119\" xlink:href=\"#m768193f343\" y=\"93.748538\"/>\r\n     <use style=\"fill:#1f77b4;stroke:#1f77b4;\" x=\"102.214186\" xlink:href=\"#m768193f343\" y=\"93.630611\"/>\r\n     <use style=\"fill:#1f77b4;stroke:#1f77b4;\" x=\"102.593219\" xlink:href=\"#m768193f343\" y=\"93.510213\"/>\r\n     <use style=\"fill:#1f77b4;stroke:#1f77b4;\" x=\"103.730318\" xlink:href=\"#m768193f343\" y=\"93.38929\"/>\r\n     <use style=\"fill:#1f77b4;stroke:#1f77b4;\" x=\"104.109352\" xlink:href=\"#m768193f343\" y=\"93.267984\"/>\r\n     <use style=\"fill:#1f77b4;stroke:#1f77b4;\" x=\"104.488385\" xlink:href=\"#m768193f343\" y=\"93.147375\"/>\r\n     <use style=\"fill:#1f77b4;stroke:#1f77b4;\" x=\"104.867418\" xlink:href=\"#m768193f343\" y=\"93.02633\"/>\r\n     <use style=\"fill:#1f77b4;stroke:#1f77b4;\" x=\"105.246451\" xlink:href=\"#m768193f343\" y=\"92.904618\"/>\r\n     <use style=\"fill:#1f77b4;stroke:#1f77b4;\" x=\"105.625484\" xlink:href=\"#m768193f343\" y=\"92.782296\"/>\r\n     <use style=\"fill:#1f77b4;stroke:#1f77b4;\" x=\"106.004518\" xlink:href=\"#m768193f343\" y=\"92.657007\"/>\r\n     <use style=\"fill:#1f77b4;stroke:#1f77b4;\" x=\"106.383551\" xlink:href=\"#m768193f343\" y=\"92.530086\"/>\r\n     <use style=\"fill:#1f77b4;stroke:#1f77b4;\" x=\"106.762584\" xlink:href=\"#m768193f343\" y=\"92.393925\"/>\r\n     <use style=\"fill:#1f77b4;stroke:#1f77b4;\" x=\"107.141617\" xlink:href=\"#m768193f343\" y=\"92.257592\"/>\r\n     <use style=\"fill:#1f77b4;stroke:#1f77b4;\" x=\"107.52065\" xlink:href=\"#m768193f343\" y=\"92.12008\"/>\r\n     <use style=\"fill:#1f77b4;stroke:#1f77b4;\" x=\"107.899683\" xlink:href=\"#m768193f343\" y=\"91.982241\"/>\r\n     <use style=\"fill:#1f77b4;stroke:#1f77b4;\" x=\"108.278717\" xlink:href=\"#m768193f343\" y=\"91.84445\"/>\r\n     <use style=\"fill:#1f77b4;stroke:#1f77b4;\" x=\"108.65775\" xlink:href=\"#m768193f343\" y=\"91.704222\"/>\r\n     <use style=\"fill:#1f77b4;stroke:#1f77b4;\" x=\"109.036783\" xlink:href=\"#m768193f343\" y=\"91.564251\"/>\r\n     <use style=\"fill:#1f77b4;stroke:#1f77b4;\" x=\"109.415816\" xlink:href=\"#m768193f343\" y=\"91.423246\"/>\r\n     <use style=\"fill:#1f77b4;stroke:#1f77b4;\" x=\"109.794849\" xlink:href=\"#m768193f343\" y=\"91.280757\"/>\r\n     <use style=\"fill:#1f77b4;stroke:#1f77b4;\" x=\"110.173882\" xlink:href=\"#m768193f343\" y=\"91.135008\"/>\r\n     <use style=\"fill:#1f77b4;stroke:#1f77b4;\" x=\"110.552916\" xlink:href=\"#m768193f343\" y=\"90.987408\"/>\r\n     <use style=\"fill:#1f77b4;stroke:#1f77b4;\" x=\"110.931949\" xlink:href=\"#m768193f343\" y=\"90.844245\"/>\r\n     <use style=\"fill:#1f77b4;stroke:#1f77b4;\" x=\"111.310982\" xlink:href=\"#m768193f343\" y=\"90.701015\"/>\r\n     <use style=\"fill:#1f77b4;stroke:#1f77b4;\" x=\"111.690015\" xlink:href=\"#m768193f343\" y=\"90.554401\"/>\r\n     <use style=\"fill:#1f77b4;stroke:#1f77b4;\" x=\"112.069048\" xlink:href=\"#m768193f343\" y=\"90.403942\"/>\r\n     <use style=\"fill:#1f77b4;stroke:#1f77b4;\" x=\"112.448081\" xlink:href=\"#m768193f343\" y=\"90.242578\"/>\r\n     <use style=\"fill:#1f77b4;stroke:#1f77b4;\" x=\"112.827115\" xlink:href=\"#m768193f343\" y=\"90.089407\"/>\r\n     <use style=\"fill:#1f77b4;stroke:#1f77b4;\" x=\"113.206148\" xlink:href=\"#m768193f343\" y=\"89.932828\"/>\r\n     <use style=\"fill:#1f77b4;stroke:#1f77b4;\" x=\"113.585181\" xlink:href=\"#m768193f343\" y=\"89.775996\"/>\r\n     <use style=\"fill:#1f77b4;stroke:#1f77b4;\" x=\"113.964214\" xlink:href=\"#m768193f343\" y=\"89.615954\"/>\r\n     <use style=\"fill:#1f77b4;stroke:#1f77b4;\" x=\"114.343247\" xlink:href=\"#m768193f343\" y=\"89.45398\"/>\r\n     <use style=\"fill:#1f77b4;stroke:#1f77b4;\" x=\"114.72228\" xlink:href=\"#m768193f343\" y=\"89.288968\"/>\r\n     <use style=\"fill:#1f77b4;stroke:#1f77b4;\" x=\"115.101314\" xlink:href=\"#m768193f343\" y=\"89.11775\"/>\r\n     <use style=\"fill:#1f77b4;stroke:#1f77b4;\" x=\"115.480347\" xlink:href=\"#m768193f343\" y=\"88.949643\"/>\r\n     <use style=\"fill:#1f77b4;stroke:#1f77b4;\" x=\"115.85938\" xlink:href=\"#m768193f343\" y=\"88.780937\"/>\r\n     <use style=\"fill:#1f77b4;stroke:#1f77b4;\" x=\"116.238413\" xlink:href=\"#m768193f343\" y=\"88.611503\"/>\r\n     <use style=\"fill:#1f77b4;stroke:#1f77b4;\" x=\"116.617446\" xlink:href=\"#m768193f343\" y=\"88.435471\"/>\r\n     <use style=\"fill:#1f77b4;stroke:#1f77b4;\" x=\"116.996479\" xlink:href=\"#m768193f343\" y=\"88.251017\"/>\r\n     <use style=\"fill:#1f77b4;stroke:#1f77b4;\" x=\"117.375513\" xlink:href=\"#m768193f343\" y=\"88.065695\"/>\r\n     <use style=\"fill:#1f77b4;stroke:#1f77b4;\" x=\"117.754546\" xlink:href=\"#m768193f343\" y=\"87.876779\"/>\r\n     <use style=\"fill:#1f77b4;stroke:#1f77b4;\" x=\"118.133579\" xlink:href=\"#m768193f343\" y=\"87.680445\"/>\r\n     <use style=\"fill:#1f77b4;stroke:#1f77b4;\" x=\"118.512612\" xlink:href=\"#m768193f343\" y=\"87.492338\"/>\r\n     <use style=\"fill:#1f77b4;stroke:#1f77b4;\" x=\"118.891645\" xlink:href=\"#m768193f343\" y=\"87.301004\"/>\r\n     <use style=\"fill:#1f77b4;stroke:#1f77b4;\" x=\"119.270678\" xlink:href=\"#m768193f343\" y=\"87.108727\"/>\r\n     <use style=\"fill:#1f77b4;stroke:#1f77b4;\" x=\"119.649712\" xlink:href=\"#m768193f343\" y=\"86.912268\"/>\r\n     <use style=\"fill:#1f77b4;stroke:#1f77b4;\" x=\"120.028745\" xlink:href=\"#m768193f343\" y=\"86.739319\"/>\r\n     <use style=\"fill:#1f77b4;stroke:#1f77b4;\" x=\"120.407778\" xlink:href=\"#m768193f343\" y=\"86.564882\"/>\r\n     <use style=\"fill:#1f77b4;stroke:#1f77b4;\" x=\"120.786811\" xlink:href=\"#m768193f343\" y=\"86.386264\"/>\r\n     <use style=\"fill:#1f77b4;stroke:#1f77b4;\" x=\"121.165844\" xlink:href=\"#m768193f343\" y=\"86.200796\"/>\r\n     <use style=\"fill:#1f77b4;stroke:#1f77b4;\" x=\"121.544878\" xlink:href=\"#m768193f343\" y=\"86.008906\"/>\r\n     <use style=\"fill:#1f77b4;stroke:#1f77b4;\" x=\"121.923911\" xlink:href=\"#m768193f343\" y=\"85.815608\"/>\r\n     <use style=\"fill:#1f77b4;stroke:#1f77b4;\" x=\"122.302944\" xlink:href=\"#m768193f343\" y=\"85.622548\"/>\r\n     <use style=\"fill:#1f77b4;stroke:#1f77b4;\" x=\"122.681977\" xlink:href=\"#m768193f343\" y=\"85.423661\"/>\r\n     <use style=\"fill:#1f77b4;stroke:#1f77b4;\" x=\"123.06101\" xlink:href=\"#m768193f343\" y=\"85.229289\"/>\r\n     <use style=\"fill:#1f77b4;stroke:#1f77b4;\" x=\"123.440043\" xlink:href=\"#m768193f343\" y=\"85.036066\"/>\r\n     <use style=\"fill:#1f77b4;stroke:#1f77b4;\" x=\"123.819077\" xlink:href=\"#m768193f343\" y=\"84.839644\"/>\r\n     <use style=\"fill:#1f77b4;stroke:#1f77b4;\" x=\"124.19811\" xlink:href=\"#m768193f343\" y=\"84.642518\"/>\r\n     <use style=\"fill:#1f77b4;stroke:#1f77b4;\" x=\"124.577143\" xlink:href=\"#m768193f343\" y=\"84.45216\"/>\r\n     <use style=\"fill:#1f77b4;stroke:#1f77b4;\" x=\"124.956176\" xlink:href=\"#m768193f343\" y=\"84.265591\"/>\r\n     <use style=\"fill:#1f77b4;stroke:#1f77b4;\" x=\"125.335209\" xlink:href=\"#m768193f343\" y=\"84.079912\"/>\r\n     <use style=\"fill:#1f77b4;stroke:#1f77b4;\" x=\"125.714242\" xlink:href=\"#m768193f343\" y=\"83.896928\"/>\r\n     <use style=\"fill:#1f77b4;stroke:#1f77b4;\" x=\"126.093276\" xlink:href=\"#m768193f343\" y=\"83.709546\"/>\r\n     <use style=\"fill:#1f77b4;stroke:#1f77b4;\" x=\"126.472309\" xlink:href=\"#m768193f343\" y=\"83.515019\"/>\r\n     <use style=\"fill:#1f77b4;stroke:#1f77b4;\" x=\"126.851342\" xlink:href=\"#m768193f343\" y=\"83.317739\"/>\r\n     <use style=\"fill:#1f77b4;stroke:#1f77b4;\" x=\"127.230375\" xlink:href=\"#m768193f343\" y=\"83.119704\"/>\r\n     <use style=\"fill:#1f77b4;stroke:#1f77b4;\" x=\"127.609408\" xlink:href=\"#m768193f343\" y=\"82.920382\"/>\r\n     <use style=\"fill:#1f77b4;stroke:#1f77b4;\" x=\"127.988441\" xlink:href=\"#m768193f343\" y=\"82.700355\"/>\r\n     <use style=\"fill:#1f77b4;stroke:#1f77b4;\" x=\"128.367475\" xlink:href=\"#m768193f343\" y=\"82.467918\"/>\r\n     <use style=\"fill:#1f77b4;stroke:#1f77b4;\" x=\"128.746508\" xlink:href=\"#m768193f343\" y=\"82.230583\"/>\r\n     <use style=\"fill:#1f77b4;stroke:#1f77b4;\" x=\"129.125541\" xlink:href=\"#m768193f343\" y=\"81.989908\"/>\r\n     <use style=\"fill:#1f77b4;stroke:#1f77b4;\" x=\"129.504574\" xlink:href=\"#m768193f343\" y=\"81.757859\"/>\r\n     <use style=\"fill:#1f77b4;stroke:#1f77b4;\" x=\"129.883607\" xlink:href=\"#m768193f343\" y=\"81.523029\"/>\r\n     <use style=\"fill:#1f77b4;stroke:#1f77b4;\" x=\"130.26264\" xlink:href=\"#m768193f343\" y=\"81.284791\"/>\r\n     <use style=\"fill:#1f77b4;stroke:#1f77b4;\" x=\"130.641674\" xlink:href=\"#m768193f343\" y=\"81.04698\"/>\r\n     <use style=\"fill:#1f77b4;stroke:#1f77b4;\" x=\"131.020707\" xlink:href=\"#m768193f343\" y=\"80.801688\"/>\r\n     <use style=\"fill:#1f77b4;stroke:#1f77b4;\" x=\"131.39974\" xlink:href=\"#m768193f343\" y=\"80.545001\"/>\r\n     <use style=\"fill:#1f77b4;stroke:#1f77b4;\" x=\"131.778773\" xlink:href=\"#m768193f343\" y=\"80.274182\"/>\r\n     <use style=\"fill:#1f77b4;stroke:#1f77b4;\" x=\"132.157806\" xlink:href=\"#m768193f343\" y=\"80.000524\"/>\r\n     <use style=\"fill:#1f77b4;stroke:#1f77b4;\" x=\"132.536839\" xlink:href=\"#m768193f343\" y=\"79.729522\"/>\r\n     <use style=\"fill:#1f77b4;stroke:#1f77b4;\" x=\"132.915873\" xlink:href=\"#m768193f343\" y=\"79.444288\"/>\r\n     <use style=\"fill:#1f77b4;stroke:#1f77b4;\" x=\"133.294906\" xlink:href=\"#m768193f343\" y=\"79.152603\"/>\r\n     <use style=\"fill:#1f77b4;stroke:#1f77b4;\" x=\"133.673939\" xlink:href=\"#m768193f343\" y=\"78.85449\"/>\r\n     <use style=\"fill:#1f77b4;stroke:#1f77b4;\" x=\"134.052972\" xlink:href=\"#m768193f343\" y=\"78.5534\"/>\r\n     <use style=\"fill:#1f77b4;stroke:#1f77b4;\" x=\"134.432005\" xlink:href=\"#m768193f343\" y=\"78.221662\"/>\r\n     <use style=\"fill:#1f77b4;stroke:#1f77b4;\" x=\"134.811039\" xlink:href=\"#m768193f343\" y=\"77.925723\"/>\r\n     <use style=\"fill:#1f77b4;stroke:#1f77b4;\" x=\"135.190072\" xlink:href=\"#m768193f343\" y=\"77.612387\"/>\r\n     <use style=\"fill:#1f77b4;stroke:#1f77b4;\" x=\"135.569105\" xlink:href=\"#m768193f343\" y=\"77.267135\"/>\r\n     <use style=\"fill:#1f77b4;stroke:#1f77b4;\" x=\"135.948138\" xlink:href=\"#m768193f343\" y=\"76.890898\"/>\r\n     <use style=\"fill:#1f77b4;stroke:#1f77b4;\" x=\"136.327171\" xlink:href=\"#m768193f343\" y=\"76.51111\"/>\r\n     <use style=\"fill:#1f77b4;stroke:#1f77b4;\" x=\"136.706204\" xlink:href=\"#m768193f343\" y=\"76.10896\"/>\r\n     <use style=\"fill:#1f77b4;stroke:#1f77b4;\" x=\"137.085238\" xlink:href=\"#m768193f343\" y=\"75.737565\"/>\r\n     <use style=\"fill:#1f77b4;stroke:#1f77b4;\" x=\"137.464271\" xlink:href=\"#m768193f343\" y=\"75.420281\"/>\r\n     <use style=\"fill:#1f77b4;stroke:#1f77b4;\" x=\"137.843304\" xlink:href=\"#m768193f343\" y=\"75.080962\"/>\r\n     <use style=\"fill:#1f77b4;stroke:#1f77b4;\" x=\"138.222337\" xlink:href=\"#m768193f343\" y=\"74.744048\"/>\r\n     <use style=\"fill:#1f77b4;stroke:#1f77b4;\" x=\"138.60137\" xlink:href=\"#m768193f343\" y=\"74.363646\"/>\r\n     <use style=\"fill:#1f77b4;stroke:#1f77b4;\" x=\"138.980403\" xlink:href=\"#m768193f343\" y=\"74.004518\"/>\r\n     <use style=\"fill:#1f77b4;stroke:#1f77b4;\" x=\"139.359437\" xlink:href=\"#m768193f343\" y=\"73.635505\"/>\r\n     <use style=\"fill:#1f77b4;stroke:#1f77b4;\" x=\"139.73847\" xlink:href=\"#m768193f343\" y=\"73.283604\"/>\r\n     <use style=\"fill:#1f77b4;stroke:#1f77b4;\" x=\"140.117503\" xlink:href=\"#m768193f343\" y=\"72.921103\"/>\r\n     <use style=\"fill:#1f77b4;stroke:#1f77b4;\" x=\"140.496536\" xlink:href=\"#m768193f343\" y=\"72.548013\"/>\r\n     <use style=\"fill:#1f77b4;stroke:#1f77b4;\" x=\"140.875569\" xlink:href=\"#m768193f343\" y=\"72.203149\"/>\r\n     <use style=\"fill:#1f77b4;stroke:#1f77b4;\" x=\"141.254602\" xlink:href=\"#m768193f343\" y=\"71.892281\"/>\r\n     <use style=\"fill:#1f77b4;stroke:#1f77b4;\" x=\"141.633636\" xlink:href=\"#m768193f343\" y=\"71.594343\"/>\r\n     <use style=\"fill:#1f77b4;stroke:#1f77b4;\" x=\"142.012669\" xlink:href=\"#m768193f343\" y=\"71.268298\"/>\r\n     <use style=\"fill:#1f77b4;stroke:#1f77b4;\" x=\"142.391702\" xlink:href=\"#m768193f343\" y=\"70.946089\"/>\r\n     <use style=\"fill:#1f77b4;stroke:#1f77b4;\" x=\"142.770735\" xlink:href=\"#m768193f343\" y=\"70.613604\"/>\r\n     <use style=\"fill:#1f77b4;stroke:#1f77b4;\" x=\"143.149768\" xlink:href=\"#m768193f343\" y=\"70.293019\"/>\r\n     <use style=\"fill:#1f77b4;stroke:#1f77b4;\" x=\"143.528801\" xlink:href=\"#m768193f343\" y=\"69.987091\"/>\r\n     <use style=\"fill:#1f77b4;stroke:#1f77b4;\" x=\"143.907835\" xlink:href=\"#m768193f343\" y=\"69.67406\"/>\r\n     <use style=\"fill:#1f77b4;stroke:#1f77b4;\" x=\"144.286868\" xlink:href=\"#m768193f343\" y=\"69.338528\"/>\r\n     <use style=\"fill:#1f77b4;stroke:#1f77b4;\" x=\"144.665901\" xlink:href=\"#m768193f343\" y=\"68.996357\"/>\r\n     <use style=\"fill:#1f77b4;stroke:#1f77b4;\" x=\"145.044934\" xlink:href=\"#m768193f343\" y=\"68.661041\"/>\r\n     <use style=\"fill:#1f77b4;stroke:#1f77b4;\" x=\"145.423967\" xlink:href=\"#m768193f343\" y=\"68.324276\"/>\r\n     <use style=\"fill:#1f77b4;stroke:#1f77b4;\" x=\"145.803\" xlink:href=\"#m768193f343\" y=\"67.974366\"/>\r\n     <use style=\"fill:#1f77b4;stroke:#1f77b4;\" x=\"146.182034\" xlink:href=\"#m768193f343\" y=\"67.605947\"/>\r\n     <use style=\"fill:#1f77b4;stroke:#1f77b4;\" x=\"146.561067\" xlink:href=\"#m768193f343\" y=\"67.226917\"/>\r\n     <use style=\"fill:#1f77b4;stroke:#1f77b4;\" x=\"146.9401\" xlink:href=\"#m768193f343\" y=\"66.844948\"/>\r\n     <use style=\"fill:#1f77b4;stroke:#1f77b4;\" x=\"147.319133\" xlink:href=\"#m768193f343\" y=\"66.449197\"/>\r\n     <use style=\"fill:#1f77b4;stroke:#1f77b4;\" x=\"147.698166\" xlink:href=\"#m768193f343\" y=\"66.060885\"/>\r\n     <use style=\"fill:#1f77b4;stroke:#1f77b4;\" x=\"148.077199\" xlink:href=\"#m768193f343\" y=\"65.665745\"/>\r\n     <use style=\"fill:#1f77b4;stroke:#1f77b4;\" x=\"148.456233\" xlink:href=\"#m768193f343\" y=\"65.198277\"/>\r\n     <use style=\"fill:#1f77b4;stroke:#1f77b4;\" x=\"148.835266\" xlink:href=\"#m768193f343\" y=\"64.745065\"/>\r\n     <use style=\"fill:#1f77b4;stroke:#1f77b4;\" x=\"149.214299\" xlink:href=\"#m768193f343\" y=\"64.288428\"/>\r\n     <use style=\"fill:#1f77b4;stroke:#1f77b4;\" x=\"149.593332\" xlink:href=\"#m768193f343\" y=\"63.807799\"/>\r\n     <use style=\"fill:#1f77b4;stroke:#1f77b4;\" x=\"149.972365\" xlink:href=\"#m768193f343\" y=\"63.328834\"/>\r\n     <use style=\"fill:#1f77b4;stroke:#1f77b4;\" x=\"150.351399\" xlink:href=\"#m768193f343\" y=\"62.842413\"/>\r\n     <use style=\"fill:#1f77b4;stroke:#1f77b4;\" x=\"150.730432\" xlink:href=\"#m768193f343\" y=\"62.364764\"/>\r\n     <use style=\"fill:#1f77b4;stroke:#1f77b4;\" x=\"151.109465\" xlink:href=\"#m768193f343\" y=\"61.880268\"/>\r\n     <use style=\"fill:#1f77b4;stroke:#1f77b4;\" x=\"151.488498\" xlink:href=\"#m768193f343\" y=\"61.372904\"/>\r\n     <use style=\"fill:#1f77b4;stroke:#1f77b4;\" x=\"151.867531\" xlink:href=\"#m768193f343\" y=\"60.846513\"/>\r\n     <use style=\"fill:#1f77b4;stroke:#1f77b4;\" x=\"152.246564\" xlink:href=\"#m768193f343\" y=\"60.320197\"/>\r\n     <use style=\"fill:#1f77b4;stroke:#1f77b4;\" x=\"152.625598\" xlink:href=\"#m768193f343\" y=\"59.759898\"/>\r\n     <use style=\"fill:#1f77b4;stroke:#1f77b4;\" x=\"153.004631\" xlink:href=\"#m768193f343\" y=\"59.188877\"/>\r\n     <use style=\"fill:#1f77b4;stroke:#1f77b4;\" x=\"153.383664\" xlink:href=\"#m768193f343\" y=\"58.68548\"/>\r\n     <use style=\"fill:#1f77b4;stroke:#1f77b4;\" x=\"153.762697\" xlink:href=\"#m768193f343\" y=\"58.220883\"/>\r\n     <use style=\"fill:#1f77b4;stroke:#1f77b4;\" x=\"154.14173\" xlink:href=\"#m768193f343\" y=\"57.737699\"/>\r\n     <use style=\"fill:#1f77b4;stroke:#1f77b4;\" x=\"154.520763\" xlink:href=\"#m768193f343\" y=\"57.254724\"/>\r\n     <use style=\"fill:#1f77b4;stroke:#1f77b4;\" x=\"154.899797\" xlink:href=\"#m768193f343\" y=\"56.79846\"/>\r\n     <use style=\"fill:#1f77b4;stroke:#1f77b4;\" x=\"155.27883\" xlink:href=\"#m768193f343\" y=\"56.329672\"/>\r\n     <use style=\"fill:#1f77b4;stroke:#1f77b4;\" x=\"155.657863\" xlink:href=\"#m768193f343\" y=\"55.881878\"/>\r\n     <use style=\"fill:#1f77b4;stroke:#1f77b4;\" x=\"156.036896\" xlink:href=\"#m768193f343\" y=\"55.416184\"/>\r\n     <use style=\"fill:#1f77b4;stroke:#1f77b4;\" x=\"156.415929\" xlink:href=\"#m768193f343\" y=\"54.931625\"/>\r\n     <use style=\"fill:#1f77b4;stroke:#1f77b4;\" x=\"156.794962\" xlink:href=\"#m768193f343\" y=\"54.435707\"/>\r\n     <use style=\"fill:#1f77b4;stroke:#1f77b4;\" x=\"157.173996\" xlink:href=\"#m768193f343\" y=\"53.944848\"/>\r\n     <use style=\"fill:#1f77b4;stroke:#1f77b4;\" x=\"157.553029\" xlink:href=\"#m768193f343\" y=\"53.464679\"/>\r\n     <use style=\"fill:#1f77b4;stroke:#1f77b4;\" x=\"157.932062\" xlink:href=\"#m768193f343\" y=\"52.978487\"/>\r\n     <use style=\"fill:#1f77b4;stroke:#1f77b4;\" x=\"158.311095\" xlink:href=\"#m768193f343\" y=\"52.475205\"/>\r\n     <use style=\"fill:#1f77b4;stroke:#1f77b4;\" x=\"158.690128\" xlink:href=\"#m768193f343\" y=\"51.965083\"/>\r\n     <use style=\"fill:#1f77b4;stroke:#1f77b4;\" x=\"159.069161\" xlink:href=\"#m768193f343\" y=\"51.429765\"/>\r\n     <use style=\"fill:#1f77b4;stroke:#1f77b4;\" x=\"159.448195\" xlink:href=\"#m768193f343\" y=\"50.880572\"/>\r\n     <use style=\"fill:#1f77b4;stroke:#1f77b4;\" x=\"159.827228\" xlink:href=\"#m768193f343\" y=\"50.322578\"/>\r\n     <use style=\"fill:#1f77b4;stroke:#1f77b4;\" x=\"160.206261\" xlink:href=\"#m768193f343\" y=\"49.75856\"/>\r\n     <use style=\"fill:#1f77b4;stroke:#1f77b4;\" x=\"160.585294\" xlink:href=\"#m768193f343\" y=\"49.188323\"/>\r\n     <use style=\"fill:#1f77b4;stroke:#1f77b4;\" x=\"160.964327\" xlink:href=\"#m768193f343\" y=\"48.587108\"/>\r\n     <use style=\"fill:#1f77b4;stroke:#1f77b4;\" x=\"161.34336\" xlink:href=\"#m768193f343\" y=\"48.02552\"/>\r\n     <use style=\"fill:#1f77b4;stroke:#1f77b4;\" x=\"161.722394\" xlink:href=\"#m768193f343\" y=\"47.482195\"/>\r\n     <use style=\"fill:#1f77b4;stroke:#1f77b4;\" x=\"162.101427\" xlink:href=\"#m768193f343\" y=\"46.929405\"/>\r\n     <use style=\"fill:#1f77b4;stroke:#1f77b4;\" x=\"162.48046\" xlink:href=\"#m768193f343\" y=\"46.380529\"/>\r\n     <use style=\"fill:#1f77b4;stroke:#1f77b4;\" x=\"162.859493\" xlink:href=\"#m768193f343\" y=\"45.804985\"/>\r\n     <use style=\"fill:#1f77b4;stroke:#1f77b4;\" x=\"163.238526\" xlink:href=\"#m768193f343\" y=\"45.212186\"/>\r\n     <use style=\"fill:#1f77b4;stroke:#1f77b4;\" x=\"163.61756\" xlink:href=\"#m768193f343\" y=\"44.641618\"/>\r\n     <use style=\"fill:#1f77b4;stroke:#1f77b4;\" x=\"163.996593\" xlink:href=\"#m768193f343\" y=\"44.088879\"/>\r\n     <use style=\"fill:#1f77b4;stroke:#1f77b4;\" x=\"164.375626\" xlink:href=\"#m768193f343\" y=\"43.543191\"/>\r\n     <use style=\"fill:#1f77b4;stroke:#1f77b4;\" x=\"164.754659\" xlink:href=\"#m768193f343\" y=\"43.005957\"/>\r\n     <use style=\"fill:#1f77b4;stroke:#1f77b4;\" x=\"165.133692\" xlink:href=\"#m768193f343\" y=\"42.485528\"/>\r\n     <use style=\"fill:#1f77b4;stroke:#1f77b4;\" x=\"165.512725\" xlink:href=\"#m768193f343\" y=\"41.95703\"/>\r\n     <use style=\"fill:#1f77b4;stroke:#1f77b4;\" x=\"165.891759\" xlink:href=\"#m768193f343\" y=\"41.400806\"/>\r\n     <use style=\"fill:#1f77b4;stroke:#1f77b4;\" x=\"166.270792\" xlink:href=\"#m768193f343\" y=\"40.837948\"/>\r\n     <use style=\"fill:#1f77b4;stroke:#1f77b4;\" x=\"166.649825\" xlink:href=\"#m768193f343\" y=\"40.272104\"/>\r\n     <use style=\"fill:#1f77b4;stroke:#1f77b4;\" x=\"167.028858\" xlink:href=\"#m768193f343\" y=\"39.686225\"/>\r\n     <use style=\"fill:#1f77b4;stroke:#1f77b4;\" x=\"167.407891\" xlink:href=\"#m768193f343\" y=\"39.094792\"/>\r\n     <use style=\"fill:#1f77b4;stroke:#1f77b4;\" x=\"167.786924\" xlink:href=\"#m768193f343\" y=\"38.495687\"/>\r\n     <use style=\"fill:#1f77b4;stroke:#1f77b4;\" x=\"168.165958\" xlink:href=\"#m768193f343\" y=\"37.895708\"/>\r\n     <use style=\"fill:#1f77b4;stroke:#1f77b4;\" x=\"168.544991\" xlink:href=\"#m768193f343\" y=\"37.306776\"/>\r\n     <use style=\"fill:#1f77b4;stroke:#1f77b4;\" x=\"168.924024\" xlink:href=\"#m768193f343\" y=\"36.722294\"/>\r\n     <use style=\"fill:#1f77b4;stroke:#1f77b4;\" x=\"169.303057\" xlink:href=\"#m768193f343\" y=\"36.132033\"/>\r\n     <use style=\"fill:#1f77b4;stroke:#1f77b4;\" x=\"169.68209\" xlink:href=\"#m768193f343\" y=\"35.543907\"/>\r\n     <use style=\"fill:#1f77b4;stroke:#1f77b4;\" x=\"170.061123\" xlink:href=\"#m768193f343\" y=\"34.972912\"/>\r\n     <use style=\"fill:#1f77b4;stroke:#1f77b4;\" x=\"170.440157\" xlink:href=\"#m768193f343\" y=\"34.399833\"/>\r\n     <use style=\"fill:#1f77b4;stroke:#1f77b4;\" x=\"170.81919\" xlink:href=\"#m768193f343\" y=\"33.807904\"/>\r\n     <use style=\"fill:#1f77b4;stroke:#1f77b4;\" x=\"171.198223\" xlink:href=\"#m768193f343\" y=\"33.216668\"/>\r\n     <use style=\"fill:#1f77b4;stroke:#1f77b4;\" x=\"171.577256\" xlink:href=\"#m768193f343\" y=\"32.612689\"/>\r\n     <use style=\"fill:#1f77b4;stroke:#1f77b4;\" x=\"171.956289\" xlink:href=\"#m768193f343\" y=\"32.005317\"/>\r\n     <use style=\"fill:#1f77b4;stroke:#1f77b4;\" x=\"172.335322\" xlink:href=\"#m768193f343\" y=\"31.393554\"/>\r\n     <use style=\"fill:#1f77b4;stroke:#1f77b4;\" x=\"172.714356\" xlink:href=\"#m768193f343\" y=\"30.766826\"/>\r\n     <use style=\"fill:#1f77b4;stroke:#1f77b4;\" x=\"173.093389\" xlink:href=\"#m768193f343\" y=\"30.134891\"/>\r\n     <use style=\"fill:#1f77b4;stroke:#1f77b4;\" x=\"173.472422\" xlink:href=\"#m768193f343\" y=\"29.522989\"/>\r\n     <use style=\"fill:#1f77b4;stroke:#1f77b4;\" x=\"173.851455\" xlink:href=\"#m768193f343\" y=\"28.909128\"/>\r\n     <use style=\"fill:#1f77b4;stroke:#1f77b4;\" x=\"174.230488\" xlink:href=\"#m768193f343\" y=\"28.371865\"/>\r\n     <use style=\"fill:#1f77b4;stroke:#1f77b4;\" x=\"174.609521\" xlink:href=\"#m768193f343\" y=\"27.818134\"/>\r\n     <use style=\"fill:#1f77b4;stroke:#1f77b4;\" x=\"175.367588\" xlink:href=\"#m768193f343\" y=\"27.23981\"/>\r\n    </g>\r\n   </g>\r\n   <g id=\"patch_3\">\r\n    <path d=\"M 30.103125 116.634801 \r\nL 30.103125 17.798437 \r\n\" style=\"fill:none;stroke:#000000;stroke-linecap:square;stroke-linejoin:miter;stroke-width:0.8;\"/>\r\n   </g>\r\n   <g id=\"patch_4\">\r\n    <path d=\"M 182.284943 116.634801 \r\nL 182.284943 17.798437 \r\n\" style=\"fill:none;stroke:#000000;stroke-linecap:square;stroke-linejoin:miter;stroke-width:0.8;\"/>\r\n   </g>\r\n   <g id=\"patch_5\">\r\n    <path d=\"M 30.103125 116.634801 \r\nL 182.284943 116.634801 \r\n\" style=\"fill:none;stroke:#000000;stroke-linecap:square;stroke-linejoin:miter;stroke-width:0.8;\"/>\r\n   </g>\r\n   <g id=\"patch_6\">\r\n    <path d=\"M 30.103125 17.798437 \r\nL 182.284943 17.798437 \r\n\" style=\"fill:none;stroke:#000000;stroke-linecap:square;stroke-linejoin:miter;stroke-width:0.8;\"/>\r\n   </g>\r\n  </g>\r\n </g>\r\n <defs>\r\n  <clipPath id=\"p5206679d85\">\r\n   <rect height=\"98.836364\" width=\"152.181818\" x=\"30.103125\" y=\"17.798437\"/>\r\n  </clipPath>\r\n </defs>\r\n</svg>\r\n",
      "image/png": "[encoded data removed]"
     },
     "metadata": {
      "needs_background": "light"
     }
    }
   ],
   "source": [
    "import matplotlib.pyplot as plt\n",
    "\n",
    "fig = plt.figure()\n",
    "ax1 = fig.add_subplot(2, 2, 1)\n",
    "\n",
    "plt.plot(X['Open'].cumsum(), 'k--')\n",
    "plt.plot(X['High'].cumsum(), 'r*')\n",
    "plt.plot(X['Low'].cumsum(), 'o--')"
   ]
  },
  {
   "cell_type": "markdown",
   "metadata": {},
   "source": []
  },
  {
   "cell_type": "code",
   "execution_count": 50,
   "metadata": {},
   "outputs": [
    {
     "output_type": "execute_result",
     "data": {
      "text/plain": [
       "count      362.000000\n",
       "mean     29864.750594\n",
       "std      21845.825379\n",
       "min       9763.935547\n",
       "25%      13421.041262\n",
       "50%      16921.556640\n",
       "75%      45279.527345\n",
       "max      79598.406250\n",
       "Name: Close, dtype: float64"
      ]
     },
     "metadata": {},
     "execution_count": 50
    }
   ],
   "source": [
    "y.describe()"
   ]
  },
  {
   "cell_type": "code",
   "execution_count": 51,
   "metadata": {},
   "outputs": [
    {
     "output_type": "execute_result",
     "data": {
      "text/plain": [
       "29864.750594163"
      ]
     },
     "metadata": {},
     "execution_count": 51
    }
   ],
   "source": [
    "y.mean()"
   ]
  },
  {
   "cell_type": "code",
   "execution_count": 52,
   "metadata": {},
   "outputs": [
    {
     "output_type": "execute_result",
     "data": {
      "text/plain": [
       "21845.825378577985"
      ]
     },
     "metadata": {},
     "execution_count": 52
    }
   ],
   "source": [
    "y.std()"
   ]
  },
  {
   "cell_type": "code",
   "execution_count": 55,
   "metadata": {},
   "outputs": [
    {
     "output_type": "execute_result",
     "data": {
      "text/plain": [
       "               Open          High           Low        Volume\n",
       "count    362.000000    362.000000    362.000000  3.620000e+02\n",
       "mean   29707.219509  30555.675634  28874.214073  5.364938e+10\n",
       "std    21773.554061  22482.286397  20992.767955  3.297456e+10\n",
       "min     9718.074219   9838.333008   9728.248047  1.663903e+10\n",
       "25%    13373.918455  13684.485110  13056.077148  3.142625e+10\n",
       "50%    16520.156250  17169.826175  16253.259275  4.716901e+10\n",
       "75%    44679.113283  46686.911130  41998.325195  6.929678e+10\n",
       "max    79623.851560  81445.671880  77726.054690  4.470000e+11"
      ],
      "text/html": "<div>\n<style scoped>\n    .dataframe tbody tr th:only-of-type {\n        vertical-align: middle;\n    }\n\n    .dataframe tbody tr th {\n        vertical-align: top;\n    }\n\n    .dataframe thead th {\n        text-align: right;\n    }\n</style>\n<table border=\"1\" class=\"dataframe\">\n  <thead>\n    <tr style=\"text-align: right;\">\n      <th></th>\n      <th>Open</th>\n      <th>High</th>\n      <th>Low</th>\n      <th>Volume</th>\n    </tr>\n  </thead>\n  <tbody>\n    <tr>\n      <th>count</th>\n      <td>362.000000</td>\n      <td>362.000000</td>\n      <td>362.000000</td>\n      <td>3.620000e+02</td>\n    </tr>\n    <tr>\n      <th>mean</th>\n      <td>29707.219509</td>\n      <td>30555.675634</td>\n      <td>28874.214073</td>\n      <td>5.364938e+10</td>\n    </tr>\n    <tr>\n      <th>std</th>\n      <td>21773.554061</td>\n      <td>22482.286397</td>\n      <td>20992.767955</td>\n      <td>3.297456e+10</td>\n    </tr>\n    <tr>\n      <th>min</th>\n      <td>9718.074219</td>\n      <td>9838.333008</td>\n      <td>9728.248047</td>\n      <td>1.663903e+10</td>\n    </tr>\n    <tr>\n      <th>25%</th>\n      <td>13373.918455</td>\n      <td>13684.485110</td>\n      <td>13056.077148</td>\n      <td>3.142625e+10</td>\n    </tr>\n    <tr>\n      <th>50%</th>\n      <td>16520.156250</td>\n      <td>17169.826175</td>\n      <td>16253.259275</td>\n      <td>4.716901e+10</td>\n    </tr>\n    <tr>\n      <th>75%</th>\n      <td>44679.113283</td>\n      <td>46686.911130</td>\n      <td>41998.325195</td>\n      <td>6.929678e+10</td>\n    </tr>\n    <tr>\n      <th>max</th>\n      <td>79623.851560</td>\n      <td>81445.671880</td>\n      <td>77726.054690</td>\n      <td>4.470000e+11</td>\n    </tr>\n  </tbody>\n</table>\n</div>"
     },
     "metadata": {},
     "execution_count": 55
    }
   ],
   "source": [
    "X.describe()"
   ]
  },
  {
   "cell_type": "code",
   "execution_count": 56,
   "metadata": {},
   "outputs": [
    {
     "output_type": "execute_result",
     "data": {
      "text/plain": [
       "Open      2.970722e+04\n",
       "High      3.055568e+04\n",
       "Low       2.887421e+04\n",
       "Volume    5.364938e+10\n",
       "dtype: float64"
      ]
     },
     "metadata": {},
     "execution_count": 56
    }
   ],
   "source": [
    "X.mean()"
   ]
  },
  {
   "cell_type": "code",
   "execution_count": 57,
   "metadata": {},
   "outputs": [
    {
     "output_type": "execute_result",
     "data": {
      "text/plain": [
       "Open      2.177355e+04\n",
       "High      2.248229e+04\n",
       "Low       2.099277e+04\n",
       "Volume    3.297456e+10\n",
       "dtype: float64"
      ]
     },
     "metadata": {},
     "execution_count": 57
    }
   ],
   "source": [
    "X.std()"
   ]
  },
  {
   "cell_type": "code",
   "execution_count": null,
   "metadata": {},
   "outputs": [],
   "source": []
  }
 ],
 "metadata": {
  "kernelspec": {
   "name": "python385jvsc74a57bd0cf3a5b77dae7e32763305ceba97eb9a08daa359116e7d058a1d8bdcc3308236b",
   "display_name": "Python 3.8.5 64-bit ('base': conda)"
  },
  "language_info": {
   "codemirror_mode": {
    "name": "ipython",
    "version": 3
   },
   "file_extension": ".py",
   "mimetype": "text/x-python",
   "name": "python",
   "nbconvert_exporter": "python",
   "pygments_lexer": "ipython3",
   "version": "3.8.5"
  }
 },
 "nbformat": 4,
 "nbformat_minor": 4
}