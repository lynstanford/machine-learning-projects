{
 "cells": [
  {
   "cell_type": "markdown",
   "metadata": {},
   "source": [
    "# Multiple Linear Regression of Cryptocurrency\n",
    "\n",
    "The following model I have developed to demonstrate how to extract, transform and load data and build a pipeline based on a Multiple Regression problem. I aim to forecast Bitcoin (C$) prices by extrapolating historical data, training, validating and testing the model before evaluating its accuracy using a benchmark score.\n",
    "\n",
    "I am looking to predict the closing price (dependent variable) based on its relationship with other intraday price and volume information (independent variables).\n",
    "\n",
    "## Performance Measure Selection\n",
    "For the purpose of a multiple regression I am selecting the Root Mean Square Error (RMSE) to measure the overall degree of error when making model my predictions. "
   ]
  },
  {
   "cell_type": "markdown",
   "metadata": {},
   "source": [
    "$$ RMSE(X,h) = \\sqrt {\\frac{1}{m} \\sum_{i=1}^{m}(h(x^ {i})-y^ {i})^2} $$"
   ]
  },
  {
   "cell_type": "code",
   "execution_count": 1,
   "metadata": {},
   "outputs": [],
   "source": [
    "import pandas as pd\n",
    "import os\n",
    "import tarfile\n",
    "import urllib\n",
    "\n",
    "DOWNLOAD_URL = \"https://ca.finance.yahoo.com/quote/BTC-CAD/history?p=BTC-CAD\"\n",
    "BITCOIN_PATH = os.path.join(\"C:/Users/lynst/Documents/GitHub/machine-learning-projects/machine-learning/BTC_CAD.csv\")\n",
    "BITCOIN_URL = DOWNLOAD_URL + \"C:/Users/lynst/Documents/GitHub/machine-learning-projects/machine-learning/BTC_CAD.csv\"\n",
    "\n",
    "def fetch_bitcoin_data(bitcoin_url=BITCOIN_URL, bitcoin_path=BITCOIN_PATH):\n",
    "    os.makedirs(bitcoin_path, exist_ok=True)\n",
    "    tgz_path = os.path.join(bitcoin_path)\n",
    "    urllib.request.urlretrieve(bitcoin_url, tgz_path)\n",
    "    bitcoin_tgz = tarfile.open(tgz_path)\n",
    "    bitcoin_tgz.extract_all(path=bitcoin_path)\n",
    "    bitcoin_tgz.close()\n",
    "    \n",
    "def load_bitcoin_data(bitcoin_path=BITCOIN_PATH):\n",
    "    csv_path = os.path.join(bitcoin_path)\n",
    "    return pd.read_csv(csv_path)"
   ]
  },
  {
   "cell_type": "markdown",
   "metadata": {},
   "source": [
    "Start by loading the Canadian denominated Bitcoin data below."
   ]
  },
  {
   "cell_type": "code",
   "execution_count": 2,
   "metadata": {},
   "outputs": [],
   "source": [
    "btc_cad = load_bitcoin_data()"
   ]
  },
  {
   "cell_type": "markdown",
   "metadata": {},
   "source": [
    "Each column represents a different feature, for example 'High', 'Low' and 'Close' prices are all features. These features are also known as attributes, input, or predictor variables which can be used to ascertain a stock price prediction (called labels, output, or target variables)."
   ]
  },
  {
   "cell_type": "code",
   "execution_count": 3,
   "metadata": {},
   "outputs": [
    {
     "name": "stdout",
     "output_type": "stream",
     "text": [
      "<class 'pandas.core.frame.DataFrame'>\n",
      "RangeIndex: 366 entries, 0 to 365\n",
      "Data columns (total 7 columns):\n",
      " #   Column     Non-Null Count  Dtype  \n",
      "---  ------     --------------  -----  \n",
      " 0   Date       366 non-null    object \n",
      " 1   Open       362 non-null    float64\n",
      " 2   High       362 non-null    float64\n",
      " 3   Low        362 non-null    float64\n",
      " 4   Close      362 non-null    float64\n",
      " 5   Adj Close  362 non-null    float64\n",
      " 6   Volume     362 non-null    float64\n",
      "dtypes: float64(6), object(1)\n",
      "memory usage: 20.1+ KB\n",
      "None\n"
     ]
    }
   ],
   "source": [
    "# get stock info\n",
    "print(btc_cad.info())"
   ]
  },
  {
   "cell_type": "markdown",
   "metadata": {},
   "source": [
    "The following method gives a breakdown of the first and last entries in the dataset."
   ]
  },
  {
   "cell_type": "code",
   "execution_count": 4,
   "metadata": {},
   "outputs": [
    {
     "data": {
      "text/plain": [
       "<bound method DataFrame.info of            Date          Open          High           Low         Close  \\\n",
       "0    2020-04-21   9718.074219   9838.333008   9728.248047   9763.935547   \n",
       "1    2020-04-22   9762.682617  10125.870120   9747.394531  10096.278320   \n",
       "2    2020-04-23  10102.092770  10533.734380  10009.763670  10451.163090   \n",
       "3    2020-04-24  10457.432620  10678.707030  10457.432620  10642.806640   \n",
       "4    2020-04-25  10642.216800  10773.176760  10601.609380  10669.635740   \n",
       "..          ...           ...           ...           ...           ...   \n",
       "361  2021-04-17  76964.703130  78268.406250  75503.000000  75906.359380   \n",
       "362  2021-04-18  75928.953130  76373.718750  66081.828130  70374.906250   \n",
       "363  2021-04-19  70344.109380  71803.609380  68107.265630  69788.234380   \n",
       "364  2021-04-20           NaN           NaN           NaN           NaN   \n",
       "365  2021-04-21  71509.304690  71556.757810  71132.078130  71477.757810   \n",
       "\n",
       "        Adj Close        Volume  \n",
       "0     9763.935547  4.624843e+10  \n",
       "1    10096.278320  4.716635e+10  \n",
       "2    10451.163090  6.119120e+10  \n",
       "3    10642.806640  4.881932e+10  \n",
       "4    10669.635740  4.643028e+10  \n",
       "..            ...           ...  \n",
       "361  75906.359380  8.272967e+10  \n",
       "362  70374.906250  1.220000e+11  \n",
       "363  69788.234380  8.183693e+10  \n",
       "364           NaN           NaN  \n",
       "365  71477.757810  8.495634e+10  \n",
       "\n",
       "[366 rows x 7 columns]>"
      ]
     },
     "execution_count": 4,
     "metadata": {},
     "output_type": "execute_result"
    }
   ],
   "source": [
    "btc_cad.info"
   ]
  },
  {
   "cell_type": "markdown",
   "metadata": {},
   "source": [
    "Using the describe() method to view summary statistics helps define the average values or range of data involved in this dataset, as well as a measure of dispersion about its mean."
   ]
  },
  {
   "cell_type": "code",
   "execution_count": 5,
   "metadata": {},
   "outputs": [
    {
     "data": {
      "text/html": [
       "<div>\n",
       "<style scoped>\n",
       "    .dataframe tbody tr th:only-of-type {\n",
       "        vertical-align: middle;\n",
       "    }\n",
       "\n",
       "    .dataframe tbody tr th {\n",
       "        vertical-align: top;\n",
       "    }\n",
       "\n",
       "    .dataframe thead th {\n",
       "        text-align: right;\n",
       "    }\n",
       "</style>\n",
       "<table border=\"1\" class=\"dataframe\">\n",
       "  <thead>\n",
       "    <tr style=\"text-align: right;\">\n",
       "      <th></th>\n",
       "      <th>Open</th>\n",
       "      <th>High</th>\n",
       "      <th>Low</th>\n",
       "      <th>Close</th>\n",
       "      <th>Adj Close</th>\n",
       "      <th>Volume</th>\n",
       "    </tr>\n",
       "  </thead>\n",
       "  <tbody>\n",
       "    <tr>\n",
       "      <th>count</th>\n",
       "      <td>362.000000</td>\n",
       "      <td>362.000000</td>\n",
       "      <td>362.000000</td>\n",
       "      <td>362.000000</td>\n",
       "      <td>362.000000</td>\n",
       "      <td>3.620000e+02</td>\n",
       "    </tr>\n",
       "    <tr>\n",
       "      <th>mean</th>\n",
       "      <td>29707.219509</td>\n",
       "      <td>30555.675634</td>\n",
       "      <td>28874.214073</td>\n",
       "      <td>29864.750594</td>\n",
       "      <td>29864.750594</td>\n",
       "      <td>5.364938e+10</td>\n",
       "    </tr>\n",
       "    <tr>\n",
       "      <th>std</th>\n",
       "      <td>21773.554061</td>\n",
       "      <td>22482.286397</td>\n",
       "      <td>20992.767955</td>\n",
       "      <td>21845.825379</td>\n",
       "      <td>21845.825379</td>\n",
       "      <td>3.297456e+10</td>\n",
       "    </tr>\n",
       "    <tr>\n",
       "      <th>min</th>\n",
       "      <td>9718.074219</td>\n",
       "      <td>9838.333008</td>\n",
       "      <td>9728.248047</td>\n",
       "      <td>9763.935547</td>\n",
       "      <td>9763.935547</td>\n",
       "      <td>1.663903e+10</td>\n",
       "    </tr>\n",
       "    <tr>\n",
       "      <th>25%</th>\n",
       "      <td>13373.918455</td>\n",
       "      <td>13684.485110</td>\n",
       "      <td>13056.077148</td>\n",
       "      <td>13421.041262</td>\n",
       "      <td>13421.041262</td>\n",
       "      <td>3.142625e+10</td>\n",
       "    </tr>\n",
       "    <tr>\n",
       "      <th>50%</th>\n",
       "      <td>16520.156250</td>\n",
       "      <td>17169.826175</td>\n",
       "      <td>16253.259275</td>\n",
       "      <td>16921.556640</td>\n",
       "      <td>16921.556640</td>\n",
       "      <td>4.716901e+10</td>\n",
       "    </tr>\n",
       "    <tr>\n",
       "      <th>75%</th>\n",
       "      <td>44679.113283</td>\n",
       "      <td>46686.911130</td>\n",
       "      <td>41998.325195</td>\n",
       "      <td>45279.527345</td>\n",
       "      <td>45279.527345</td>\n",
       "      <td>6.929678e+10</td>\n",
       "    </tr>\n",
       "    <tr>\n",
       "      <th>max</th>\n",
       "      <td>79623.851560</td>\n",
       "      <td>81445.671880</td>\n",
       "      <td>77726.054690</td>\n",
       "      <td>79598.406250</td>\n",
       "      <td>79598.406250</td>\n",
       "      <td>4.470000e+11</td>\n",
       "    </tr>\n",
       "  </tbody>\n",
       "</table>\n",
       "</div>"
      ],
      "text/plain": [
       "               Open          High           Low         Close     Adj Close  \\\n",
       "count    362.000000    362.000000    362.000000    362.000000    362.000000   \n",
       "mean   29707.219509  30555.675634  28874.214073  29864.750594  29864.750594   \n",
       "std    21773.554061  22482.286397  20992.767955  21845.825379  21845.825379   \n",
       "min     9718.074219   9838.333008   9728.248047   9763.935547   9763.935547   \n",
       "25%    13373.918455  13684.485110  13056.077148  13421.041262  13421.041262   \n",
       "50%    16520.156250  17169.826175  16253.259275  16921.556640  16921.556640   \n",
       "75%    44679.113283  46686.911130  41998.325195  45279.527345  45279.527345   \n",
       "max    79623.851560  81445.671880  77726.054690  79598.406250  79598.406250   \n",
       "\n",
       "             Volume  \n",
       "count  3.620000e+02  \n",
       "mean   5.364938e+10  \n",
       "std    3.297456e+10  \n",
       "min    1.663903e+10  \n",
       "25%    3.142625e+10  \n",
       "50%    4.716901e+10  \n",
       "75%    6.929678e+10  \n",
       "max    4.470000e+11  "
      ]
     },
     "execution_count": 5,
     "metadata": {},
     "output_type": "execute_result"
    }
   ],
   "source": [
    "btc_cad.describe()"
   ]
  },
  {
   "cell_type": "markdown",
   "metadata": {},
   "source": [
    "So I can tell the average closing price is C$29,865 to the nearest integer. \n",
    "\n",
    "There isn't much data to work from (one years worth exactly), but I would like to create a dataframe object from the price data and try and use it to forecast future price information.\n",
    "\n",
    "# Import Libraries\n",
    "The bulk of the libraries I will use are as follows. This may change as I progress."
   ]
  },
  {
   "cell_type": "code",
   "execution_count": 6,
   "metadata": {},
   "outputs": [],
   "source": [
    "import numpy as np\n",
    "from sklearn import linear_model\n",
    "from sklearn import preprocessing, svm\n",
    "from sklearn.linear_model import LinearRegression\n",
    "from sklearn.model_selection import cross_val_score\n",
    "from sklearn.model_selection import cross_validate"
   ]
  },
  {
   "cell_type": "markdown",
   "metadata": {},
   "source": [
    "Taking a look at which columns are present in the dataset gives me:"
   ]
  },
  {
   "cell_type": "code",
   "execution_count": 7,
   "metadata": {},
   "outputs": [
    {
     "data": {
      "text/plain": [
       "Index(['Date', 'Open', 'High', 'Low', 'Close', 'Adj Close', 'Volume'], dtype='object')"
      ]
     },
     "execution_count": 7,
     "metadata": {},
     "output_type": "execute_result"
    }
   ],
   "source": [
    "btc_cad.columns"
   ]
  },
  {
   "cell_type": "markdown",
   "metadata": {},
   "source": [
    "And now lets see the first and last 5 entries in the table:"
   ]
  },
  {
   "cell_type": "code",
   "execution_count": 8,
   "metadata": {},
   "outputs": [
    {
     "data": {
      "text/html": [
       "<div>\n",
       "<style scoped>\n",
       "    .dataframe tbody tr th:only-of-type {\n",
       "        vertical-align: middle;\n",
       "    }\n",
       "\n",
       "    .dataframe tbody tr th {\n",
       "        vertical-align: top;\n",
       "    }\n",
       "\n",
       "    .dataframe thead th {\n",
       "        text-align: right;\n",
       "    }\n",
       "</style>\n",
       "<table border=\"1\" class=\"dataframe\">\n",
       "  <thead>\n",
       "    <tr style=\"text-align: right;\">\n",
       "      <th></th>\n",
       "      <th>Date</th>\n",
       "      <th>Open</th>\n",
       "      <th>High</th>\n",
       "      <th>Low</th>\n",
       "      <th>Close</th>\n",
       "      <th>Adj Close</th>\n",
       "      <th>Volume</th>\n",
       "    </tr>\n",
       "  </thead>\n",
       "  <tbody>\n",
       "    <tr>\n",
       "      <th>0</th>\n",
       "      <td>2020-04-21</td>\n",
       "      <td>9718.074219</td>\n",
       "      <td>9838.333008</td>\n",
       "      <td>9728.248047</td>\n",
       "      <td>9763.935547</td>\n",
       "      <td>9763.935547</td>\n",
       "      <td>4.624843e+10</td>\n",
       "    </tr>\n",
       "    <tr>\n",
       "      <th>1</th>\n",
       "      <td>2020-04-22</td>\n",
       "      <td>9762.682617</td>\n",
       "      <td>10125.870120</td>\n",
       "      <td>9747.394531</td>\n",
       "      <td>10096.278320</td>\n",
       "      <td>10096.278320</td>\n",
       "      <td>4.716635e+10</td>\n",
       "    </tr>\n",
       "    <tr>\n",
       "      <th>2</th>\n",
       "      <td>2020-04-23</td>\n",
       "      <td>10102.092770</td>\n",
       "      <td>10533.734380</td>\n",
       "      <td>10009.763670</td>\n",
       "      <td>10451.163090</td>\n",
       "      <td>10451.163090</td>\n",
       "      <td>6.119120e+10</td>\n",
       "    </tr>\n",
       "    <tr>\n",
       "      <th>3</th>\n",
       "      <td>2020-04-24</td>\n",
       "      <td>10457.432620</td>\n",
       "      <td>10678.707030</td>\n",
       "      <td>10457.432620</td>\n",
       "      <td>10642.806640</td>\n",
       "      <td>10642.806640</td>\n",
       "      <td>4.881932e+10</td>\n",
       "    </tr>\n",
       "    <tr>\n",
       "      <th>4</th>\n",
       "      <td>2020-04-25</td>\n",
       "      <td>10642.216800</td>\n",
       "      <td>10773.176760</td>\n",
       "      <td>10601.609380</td>\n",
       "      <td>10669.635740</td>\n",
       "      <td>10669.635740</td>\n",
       "      <td>4.643028e+10</td>\n",
       "    </tr>\n",
       "  </tbody>\n",
       "</table>\n",
       "</div>"
      ],
      "text/plain": [
       "         Date          Open          High           Low         Close  \\\n",
       "0  2020-04-21   9718.074219   9838.333008   9728.248047   9763.935547   \n",
       "1  2020-04-22   9762.682617  10125.870120   9747.394531  10096.278320   \n",
       "2  2020-04-23  10102.092770  10533.734380  10009.763670  10451.163090   \n",
       "3  2020-04-24  10457.432620  10678.707030  10457.432620  10642.806640   \n",
       "4  2020-04-25  10642.216800  10773.176760  10601.609380  10669.635740   \n",
       "\n",
       "      Adj Close        Volume  \n",
       "0   9763.935547  4.624843e+10  \n",
       "1  10096.278320  4.716635e+10  \n",
       "2  10451.163090  6.119120e+10  \n",
       "3  10642.806640  4.881932e+10  \n",
       "4  10669.635740  4.643028e+10  "
      ]
     },
     "execution_count": 8,
     "metadata": {},
     "output_type": "execute_result"
    }
   ],
   "source": [
    "btc_cad.head()"
   ]
  },
  {
   "cell_type": "markdown",
   "metadata": {},
   "source": [
    "And now the tail of the dataframe."
   ]
  },
  {
   "cell_type": "code",
   "execution_count": 9,
   "metadata": {},
   "outputs": [
    {
     "data": {
      "text/html": [
       "<div>\n",
       "<style scoped>\n",
       "    .dataframe tbody tr th:only-of-type {\n",
       "        vertical-align: middle;\n",
       "    }\n",
       "\n",
       "    .dataframe tbody tr th {\n",
       "        vertical-align: top;\n",
       "    }\n",
       "\n",
       "    .dataframe thead th {\n",
       "        text-align: right;\n",
       "    }\n",
       "</style>\n",
       "<table border=\"1\" class=\"dataframe\">\n",
       "  <thead>\n",
       "    <tr style=\"text-align: right;\">\n",
       "      <th></th>\n",
       "      <th>Date</th>\n",
       "      <th>Open</th>\n",
       "      <th>High</th>\n",
       "      <th>Low</th>\n",
       "      <th>Close</th>\n",
       "      <th>Adj Close</th>\n",
       "      <th>Volume</th>\n",
       "    </tr>\n",
       "  </thead>\n",
       "  <tbody>\n",
       "    <tr>\n",
       "      <th>361</th>\n",
       "      <td>2021-04-17</td>\n",
       "      <td>76964.70313</td>\n",
       "      <td>78268.40625</td>\n",
       "      <td>75503.00000</td>\n",
       "      <td>75906.35938</td>\n",
       "      <td>75906.35938</td>\n",
       "      <td>8.272967e+10</td>\n",
       "    </tr>\n",
       "    <tr>\n",
       "      <th>362</th>\n",
       "      <td>2021-04-18</td>\n",
       "      <td>75928.95313</td>\n",
       "      <td>76373.71875</td>\n",
       "      <td>66081.82813</td>\n",
       "      <td>70374.90625</td>\n",
       "      <td>70374.90625</td>\n",
       "      <td>1.220000e+11</td>\n",
       "    </tr>\n",
       "    <tr>\n",
       "      <th>363</th>\n",
       "      <td>2021-04-19</td>\n",
       "      <td>70344.10938</td>\n",
       "      <td>71803.60938</td>\n",
       "      <td>68107.26563</td>\n",
       "      <td>69788.23438</td>\n",
       "      <td>69788.23438</td>\n",
       "      <td>8.183693e+10</td>\n",
       "    </tr>\n",
       "    <tr>\n",
       "      <th>364</th>\n",
       "      <td>2021-04-20</td>\n",
       "      <td>NaN</td>\n",
       "      <td>NaN</td>\n",
       "      <td>NaN</td>\n",
       "      <td>NaN</td>\n",
       "      <td>NaN</td>\n",
       "      <td>NaN</td>\n",
       "    </tr>\n",
       "    <tr>\n",
       "      <th>365</th>\n",
       "      <td>2021-04-21</td>\n",
       "      <td>71509.30469</td>\n",
       "      <td>71556.75781</td>\n",
       "      <td>71132.07813</td>\n",
       "      <td>71477.75781</td>\n",
       "      <td>71477.75781</td>\n",
       "      <td>8.495634e+10</td>\n",
       "    </tr>\n",
       "  </tbody>\n",
       "</table>\n",
       "</div>"
      ],
      "text/plain": [
       "           Date         Open         High          Low        Close  \\\n",
       "361  2021-04-17  76964.70313  78268.40625  75503.00000  75906.35938   \n",
       "362  2021-04-18  75928.95313  76373.71875  66081.82813  70374.90625   \n",
       "363  2021-04-19  70344.10938  71803.60938  68107.26563  69788.23438   \n",
       "364  2021-04-20          NaN          NaN          NaN          NaN   \n",
       "365  2021-04-21  71509.30469  71556.75781  71132.07813  71477.75781   \n",
       "\n",
       "       Adj Close        Volume  \n",
       "361  75906.35938  8.272967e+10  \n",
       "362  70374.90625  1.220000e+11  \n",
       "363  69788.23438  8.183693e+10  \n",
       "364          NaN           NaN  \n",
       "365  71477.75781  8.495634e+10  "
      ]
     },
     "execution_count": 9,
     "metadata": {},
     "output_type": "execute_result"
    }
   ],
   "source": [
    "btc_cad.tail()"
   ]
  },
  {
   "cell_type": "markdown",
   "metadata": {},
   "source": [
    "# Cleaning the Data\n",
    "A brief look at the summary info for the dataset tells me there are a different number of date values compared to the rest of the column entries. This will need to be addressed, followed by any missing values, NaN, 'isnull' or entries with 'zero'. I can also see the different number 'count' for entries using the count() method:"
   ]
  },
  {
   "cell_type": "code",
   "execution_count": 10,
   "metadata": {},
   "outputs": [
    {
     "data": {
      "text/plain": [
       "Date         366\n",
       "Open         362\n",
       "High         362\n",
       "Low          362\n",
       "Close        362\n",
       "Adj Close    362\n",
       "Volume       362\n",
       "dtype: int64"
      ]
     },
     "execution_count": 10,
     "metadata": {},
     "output_type": "execute_result"
    }
   ],
   "source": [
    "btc_cad.count()"
   ]
  },
  {
   "cell_type": "markdown",
   "metadata": {},
   "source": [
    "First I just want to see what shape the dataframe is."
   ]
  },
  {
   "cell_type": "code",
   "execution_count": 11,
   "metadata": {},
   "outputs": [
    {
     "data": {
      "text/plain": [
       "(366, 7)"
      ]
     },
     "execution_count": 11,
     "metadata": {},
     "output_type": "execute_result"
    }
   ],
   "source": [
    "btc_cad.shape"
   ]
  },
  {
   "cell_type": "markdown",
   "metadata": {},
   "source": [
    "So it's 366 rows by 7 columns or a (366x7) matrix.\n",
    "\n",
    "Next, to find the total number of missing entries."
   ]
  },
  {
   "cell_type": "code",
   "execution_count": 12,
   "metadata": {},
   "outputs": [
    {
     "data": {
      "text/plain": [
       "Date         0\n",
       "Open         4\n",
       "High         4\n",
       "Low          4\n",
       "Close        4\n",
       "Adj Close    4\n",
       "Volume       4\n",
       "dtype: int64"
      ]
     },
     "execution_count": 12,
     "metadata": {},
     "output_type": "execute_result"
    }
   ],
   "source": [
    "bitcoin_missing_values_count = btc_cad.isnull().sum()\n",
    "bitcoin_missing_values_count[0:7]"
   ]
  },
  {
   "cell_type": "markdown",
   "metadata": {},
   "source": [
    "Further examination allows me to calculate the total number of rows containing missing data points as a percentage of the total number of rows in the dataframe."
   ]
  },
  {
   "cell_type": "code",
   "execution_count": 13,
   "metadata": {},
   "outputs": [
    {
     "name": "stdout",
     "output_type": "stream",
     "text": [
      "0.936768149882904\n"
     ]
    }
   ],
   "source": [
    "total_bitcoin = np.product(btc_cad.shape)\n",
    "total_missing_bitcoin = bitcoin_missing_values_count.sum()\n",
    "\n",
    "percent_missing_values = (total_missing_bitcoin/total_bitcoin) * 100\n",
    "print(percent_missing_values)"
   ]
  },
  {
   "cell_type": "markdown",
   "metadata": {},
   "source": [
    "From this I can see that just under 1% of the total values are missing. I can either choose to leave them out completely (as they may not really affect my model for the purpose of this exercise) or use imputed values such as the mean or median.\n",
    "\n",
    "## Removing Rows\n",
    "Having checked the csv file I can determine that there is no real reason for the missing values (null entries) for these dates. At first I thought these missing values might be due to public holidays but because Bitcoin is a currency, it appears to be traded OTC (Over The Counter) beyong normal trading hours throughout the day, seven days a week. As a result I have chosen to leave these missing values out using the dropna() method to eliminate them."
   ]
  },
  {
   "cell_type": "code",
   "execution_count": 14,
   "metadata": {},
   "outputs": [],
   "source": [
    "btc_cad = btc_cad.dropna(axis=0)"
   ]
  },
  {
   "cell_type": "code",
   "execution_count": 15,
   "metadata": {},
   "outputs": [
    {
     "data": {
      "text/plain": [
       "Date         362\n",
       "Open         362\n",
       "High         362\n",
       "Low          362\n",
       "Close        362\n",
       "Adj Close    362\n",
       "Volume       362\n",
       "dtype: int64"
      ]
     },
     "execution_count": 15,
     "metadata": {},
     "output_type": "execute_result"
    }
   ],
   "source": [
    "btc_cad.count()"
   ]
  },
  {
   "cell_type": "markdown",
   "metadata": {},
   "source": [
    "This time there are exactly 362 rows for each column. It's important to set the argument (axis=0) otherwise dropping the values doesn't work. \n",
    "\n",
    "## Removing Columns (Feature Selection)\n",
    "\n",
    "The values in the 'Adj Close' column are exactly the same as in the 'Close' column so I will remove 'Adj Close' completely from the dataset in an attempt to regularize the model. This is unecessary data which can be removed as it could contribute to bias and bleed into the test data. It's better to reduce the overall number of variables particularly removing those which are not relevant."
   ]
  },
  {
   "cell_type": "code",
   "execution_count": 16,
   "metadata": {},
   "outputs": [
    {
     "data": {
      "text/plain": [
       "Index(['Date', 'Open', 'High', 'Low', 'Close', 'Adj Close', 'Volume'], dtype='object')"
      ]
     },
     "execution_count": 16,
     "metadata": {},
     "output_type": "execute_result"
    }
   ],
   "source": [
    "btc_cad.columns"
   ]
  },
  {
   "cell_type": "code",
   "execution_count": 17,
   "metadata": {},
   "outputs": [],
   "source": [
    "del btc_cad['Adj Close']"
   ]
  },
  {
   "cell_type": "code",
   "execution_count": 18,
   "metadata": {},
   "outputs": [
    {
     "data": {
      "text/plain": [
       "Index(['Date', 'Open', 'High', 'Low', 'Close', 'Volume'], dtype='object')"
      ]
     },
     "execution_count": 18,
     "metadata": {},
     "output_type": "execute_result"
    }
   ],
   "source": [
    "btc_cad.columns"
   ]
  },
  {
   "cell_type": "markdown",
   "metadata": {},
   "source": [
    "Next, I will store the independent variables (features) in a dataframe called bitcoin which can be used for further analysis."
   ]
  },
  {
   "cell_type": "code",
   "execution_count": 19,
   "metadata": {},
   "outputs": [],
   "source": [
    "bitcoin = btc_cad"
   ]
  },
  {
   "cell_type": "markdown",
   "metadata": {},
   "source": [
    "# Exploratory Data Analysis\n",
    "\n",
    "The mean value for the Bitcoin (CAD) close price is C$ 29,864.75 and from the summary statistics using 'describe()' I can also see the maximum values in the upper-quartile range have been tested regularly.\n",
    "\n",
    "As there are no dividends or stock splits because Bitcoin is a currency (medium of exchange / store of value), only 6 columns are of any use to me in this particular dataset: Date, Open, High, Low, Close and Volume. Printing the first 5 lines of the dataframe gives:"
   ]
  },
  {
   "cell_type": "code",
   "execution_count": 20,
   "metadata": {},
   "outputs": [
    {
     "name": "stdout",
     "output_type": "stream",
     "text": [
      "         Date          Open          High           Low         Close  \\\n",
      "0  2020-04-21   9718.074219   9838.333008   9728.248047   9763.935547   \n",
      "1  2020-04-22   9762.682617  10125.870120   9747.394531  10096.278320   \n",
      "2  2020-04-23  10102.092770  10533.734380  10009.763670  10451.163090   \n",
      "3  2020-04-24  10457.432620  10678.707030  10457.432620  10642.806640   \n",
      "4  2020-04-25  10642.216800  10773.176760  10601.609380  10669.635740   \n",
      "\n",
      "         Volume  \n",
      "0  4.624843e+10  \n",
      "1  4.716635e+10  \n",
      "2  6.119120e+10  \n",
      "3  4.881932e+10  \n",
      "4  4.643028e+10  \n"
     ]
    }
   ],
   "source": [
    "print(bitcoin[:5])"
   ]
  },
  {
   "cell_type": "markdown",
   "metadata": {},
   "source": [
    "## Visualizing the Data\n",
    "Let's take a look at plotting the different price data over time. This first plot will have the different OHLC prices for the last year."
   ]
  },
  {
   "cell_type": "code",
   "execution_count": 21,
   "metadata": {},
   "outputs": [
    {
     "data": {
      "image/png": "[encoded data removed]",
      "text/plain": [
       "<Figure size 432x288 with 1 Axes>"
      ]
     },
     "metadata": {
      "needs_background": "light"
     },
     "output_type": "display_data"
    }
   ],
   "source": [
    "%matplotlib inline\n",
    "import matplotlib.pyplot as plt\n",
    "import matplotlib.dates as mdates\n",
    "import matplotlib.cbook as cbook\n",
    "\n",
    "data = {'Date': bitcoin.Date[0:363], 'Open': bitcoin.Open[0:363], 'High': bitcoin.High[0:363], 'Low': bitcoin.Low[0:363], \n",
    "        'Close': bitcoin.Close[0:363]}\n",
    "df = pd.DataFrame(data,columns=['Date','Open','High','Low','Close'])\n",
    "df.plot(x ='Date', y=['Open','High','Low','Close'], kind = 'line')\n",
    "plt.title('Bitcoin Prices')          # the chart title\n",
    "plt.xlabel('Date')                   # the x-axis label (time series)\n",
    "plt.ylabel('OHLC Prices')            # the y-axis label (OHLC prices over time)\n",
    "plt.legend()\n",
    "plt.show()\n"
   ]
  },
  {
   "cell_type": "markdown",
   "metadata": {},
   "source": [
    "### Correlation\n",
    "The first stage of any feature selection process for a linear regression model should involve checking the degree of correlation between the features and the target variable. (Be careful and perform the correlation function on 'bitcoin' dataframe, not the 'data' dictionary."
   ]
  },
  {
   "cell_type": "code",
   "execution_count": 22,
   "metadata": {},
   "outputs": [
    {
     "name": "stdout",
     "output_type": "stream",
     "text": [
      "            Open      High       Low     Close    Volume\n",
      "Open    1.000000  0.999003  0.998283  0.997880  0.584975\n",
      "High    0.999003  1.000000  0.998194  0.999188  0.592747\n",
      "Low     0.998283  0.998194  1.000000  0.998735  0.569046\n",
      "Close   0.997880  0.999188  0.998735  1.000000  0.582709\n",
      "Volume  0.584975  0.592747  0.569046  0.582709  1.000000\n"
     ]
    }
   ],
   "source": [
    "correlation = bitcoin.corr()\n",
    "print(correlation)"
   ]
  },
  {
   "cell_type": "markdown",
   "metadata": {},
   "source": [
    "I would expect the opening and closing prices to be defined by the range of the high and low daily prices so all of these values tend to move within a fairly narrow band. There is a strong degree of positive correlation between these time-series values. I can also determine there is a less powerful degree of association between the volume of currency traded and its closing price, but a positive relationship nonetheless. \n",
    "\n",
    " Assuming I wanted to find the top three highest correlated features I could use the .abs() and .nlargest() methods:"
   ]
  },
  {
   "cell_type": "code",
   "execution_count": 23,
   "metadata": {},
   "outputs": [
    {
     "name": "stdout",
     "output_type": "stream",
     "text": [
      "Index(['Close', 'High', 'Low'], dtype='object')\n"
     ]
    }
   ],
   "source": [
    "print(bitcoin.corr().abs().nlargest(3, 'Close').index)          # to find the top 3 features with highest correlation values"
   ]
  },
  {
   "cell_type": "code",
   "execution_count": 24,
   "metadata": {},
   "outputs": [
    {
     "name": "stdout",
     "output_type": "stream",
     "text": [
      "[[0.99787995 0.99918803 0.99873489 1.         0.58270928]\n",
      " [0.99900306 1.         0.99819379 0.99918803 0.59274705]\n",
      " [0.99828312 0.99819379 1.         0.99873489 0.56904572]]\n"
     ]
    }
   ],
   "source": [
    "print(bitcoin.corr().abs().nlargest(3, 'Close').values[0:5,0:5])         # top 3 correlation values"
   ]
  },
  {
   "cell_type": "markdown",
   "metadata": {},
   "source": [
    "Remember, this would only be necessary if I wanted to include only those features with the top 3 correlation scores. For the purpose of this model that would be the open, high and low prices but I want to include the volume also and have decided to keep all 4 features."
   ]
  },
  {
   "cell_type": "code",
   "execution_count": 25,
   "metadata": {},
   "outputs": [
    {
     "name": "stdout",
     "output_type": "stream",
     "text": [
      "         Date         Open          High          Low         Close  \\\n",
      "0  2020-04-21  9718.074219   9838.333008  9728.248047   9763.935547   \n",
      "1  2020-04-22  9762.682617  10125.870120  9747.394531  10096.278320   \n",
      "\n",
      "         Volume  \n",
      "0  4.624843e+10  \n",
      "1  4.716635e+10  \n",
      "           Date         Open         High          Low        Close  \\\n",
      "2    2020-04-23  10102.09277  10533.73438  10009.76367  10451.16309   \n",
      "3    2020-04-24  10457.43262  10678.70703  10457.43262  10642.80664   \n",
      "4    2020-04-25  10642.21680  10773.17676  10601.60938  10669.63574   \n",
      "5    2020-04-26  10669.92188  10856.68262  10657.61523  10836.67676   \n",
      "6    2020-04-27  10836.04395  10941.60156  10836.04395  10941.60156   \n",
      "..          ...          ...          ...          ...          ...   \n",
      "197  2020-11-04  18279.83984  18650.61328  18033.03320  18553.14844   \n",
      "198  2020-11-05  18553.18359  20521.98828  18506.03125  20383.97266   \n",
      "201  2020-11-08  19375.86523  20368.47070  19258.77148  20159.36523   \n",
      "203  2020-11-10  19945.77734  20108.07813  19684.66602  19926.41602   \n",
      "204  2020-11-11  19926.42383  20786.22266  19922.34375  20504.45898   \n",
      "\n",
      "           Volume  \n",
      "2    6.119120e+10  \n",
      "3    4.881932e+10  \n",
      "4    4.643028e+10  \n",
      "5    4.666364e+10  \n",
      "6    5.075578e+10  \n",
      "..            ...  \n",
      "197  4.609683e+10  \n",
      "198  5.345457e+10  \n",
      "201  3.468351e+10  \n",
      "203  3.332811e+10  \n",
      "204  3.887989e+10  \n",
      "\n",
      "[197 rows x 6 columns]\n",
      "           Date         Open         High          Low        Close  \\\n",
      "199  2020-11-06  20383.81641  20805.14844  19847.30273  20332.16797   \n",
      "200  2020-11-07  20332.16797  20555.81055  18839.60156  19375.86523   \n",
      "202  2020-11-09  20159.40234  20531.96484  19289.88281  19945.73242   \n",
      "205  2020-11-12  20504.40430  21424.14063  20296.02344  21384.42969   \n",
      "206  2020-11-13  21384.55664  21663.50000  21059.31445  21423.16016   \n",
      "207  2020-11-14  21423.16016  21423.16016  20676.64258  21095.37695   \n",
      "208  2020-11-15  21095.37891  21167.54883  20750.25586  20937.95898   \n",
      "209  2020-11-16  20937.94531  22017.81250  20839.93164  21858.82227   \n",
      "210  2020-11-17  21819.04297  23290.48633  21651.43359  23126.06836   \n",
      "211  2020-11-18  23125.78711  24084.79883  22687.29492  23303.57422   \n",
      "212  2020-11-19  23303.38477  23724.64844  22793.98633  23320.16602   \n",
      "213  2020-11-20  23320.15625  24518.11719  23236.15039  24380.23438   \n",
      "214  2020-11-21  24380.23633  24793.05469  24148.55273  24407.62305   \n",
      "215  2020-11-22  24407.62305  24468.81250  23136.52539  24036.96484   \n",
      "216  2020-11-23  24036.98438  24416.91406  23533.57422  24010.26172   \n",
      "217  2020-11-24  24011.42969  25214.10547  23649.46680  24836.83789   \n",
      "218  2020-11-25  24832.86719  25244.71094  24163.85156  24356.40234   \n",
      "219  2020-11-26  24353.43750  24538.07617  21272.28711  22332.25586   \n",
      "220  2020-11-27  22336.53906  22719.75391  21455.16406  22226.46484   \n",
      "221  2020-11-28  22232.35352  23195.03516  21969.55859  23017.66797   \n",
      "222  2020-11-29  23020.55273  23771.36719  22812.01563  23600.82617   \n",
      "223  2020-11-30  23601.91602  25539.68945  23601.91602  25498.35547   \n",
      "224  2020-12-01  25508.66602  25747.27539  23775.00000  24319.79883   \n",
      "225  2020-12-02  24318.17578  24989.98047  23745.83594  24803.39258   \n",
      "226  2020-12-03  24809.63867  25198.32031  24462.52344  25023.03906   \n",
      "227  2020-12-04  25025.05664  25098.61328  23907.16602  23905.96680   \n",
      "228  2020-12-05  23904.20313  24494.91016  23765.88867  24486.96094   \n",
      "229  2020-12-06  24486.89648  24784.58789  24159.25586  24726.68164   \n",
      "230  2020-12-07  24724.13672  24811.22852  24245.91016  24572.38867   \n",
      "231  2020-12-08  24572.25781  24658.36133  23413.57422  23481.02148   \n",
      "232  2020-12-09  23480.68750  23894.64648  22947.40430  23800.70313   \n",
      "233  2020-12-10  23799.91406  23799.91406  22837.88477  23272.46680   \n",
      "234  2020-12-11  23271.11328  23275.36133  22506.59180  23059.64844   \n",
      "235  2020-12-12  23049.96484  24162.91602  23047.32031  24014.90234   \n",
      "236  2020-12-13  24018.87305  24752.93555  23926.36523  24409.37109   \n",
      "237  2020-12-14  24412.06055  24629.35156  24264.83789  24561.12305   \n",
      "238  2020-12-15  24561.47656  24780.16406  24357.65039  24658.50195   \n",
      "239  2020-12-16  24660.71484  27343.26172  24516.09961  27166.02539   \n",
      "240  2020-12-17  27163.16211  30071.21680  27062.55469  29036.46680   \n",
      "241  2020-12-18  29038.54883  29604.58203  28589.08203  29589.86523   \n",
      "242  2020-12-19  29583.34961  30802.07617  29191.51953  30525.81445   \n",
      "245  2020-12-22  29296.38086  30671.72656  28883.39648  30662.86328   \n",
      "247  2020-12-24  29849.92578  30595.91211  29249.96484  30529.53516   \n",
      "\n",
      "           Volume  \n",
      "199  5.203623e+10  \n",
      "200  4.574963e+10  \n",
      "202  4.442441e+10  \n",
      "205  4.490131e+10  \n",
      "206  4.148603e+10  \n",
      "207  3.607991e+10  \n",
      "208  3.104014e+10  \n",
      "209  4.122598e+10  \n",
      "210  5.112238e+10  \n",
      "211  6.422067e+10  \n",
      "212  4.840844e+10  \n",
      "213  4.843348e+10  \n",
      "214  5.191263e+10  \n",
      "215  5.401504e+10  \n",
      "216  5.588208e+10  \n",
      "217  6.690271e+10  \n",
      "218  5.683430e+10  \n",
      "219  7.994635e+10  \n",
      "220  5.051958e+10  \n",
      "221  4.235381e+10  \n",
      "222  4.042293e+10  \n",
      "223  6.200999e+10  \n",
      "224  6.419617e+10  \n",
      "225  4.829631e+10  \n",
      "226  4.108908e+10  \n",
      "227  4.330280e+10  \n",
      "228  3.482703e+10  \n",
      "229  3.233018e+10  \n",
      "230  3.443729e+10  \n",
      "231  4.061795e+10  \n",
      "232  4.415397e+10  \n",
      "233  3.255106e+10  \n",
      "234  3.565095e+10  \n",
      "235  2.778109e+10  \n",
      "236  3.245311e+10  \n",
      "237  2.867963e+10  \n",
      "238  3.396069e+10  \n",
      "239  5.661110e+10  \n",
      "240  9.088217e+10  \n",
      "241  5.164986e+10  \n",
      "242  4.921961e+10  \n",
      "245  5.694938e+10  \n",
      "247  5.283869e+10  \n",
      "           Date         Open         High          Low        Close  \\\n",
      "243  2020-12-20  30515.50000  30972.38672  29602.33398  30075.87109   \n",
      "244  2020-12-21  30072.23242  30908.41602  28541.39844  29308.00195   \n",
      "246  2020-12-23  30661.50586  30946.13672  29302.53906  29851.39258   \n",
      "248  2020-12-25  30526.47266  31813.01953  30170.29688  31754.68359   \n",
      "249  2020-12-26  31770.42383  34398.17969  31571.73633  34036.36328   \n",
      "250  2020-12-27  34039.37109  36420.46875  33309.85156  33737.04297   \n",
      "251  2020-12-28  33747.99219  35146.53125  33659.10156  34786.04688   \n",
      "252  2020-12-29  34782.19922  35090.63281  33332.53125  35085.89453   \n",
      "253  2020-12-30  35082.88672  36903.19922  35082.88672  36777.83984   \n",
      "254  2020-12-31  36778.62891  37299.79297  35876.46094  36919.18750   \n",
      "255  2021-01-01  36909.37500  37681.74609  36666.96484  37393.08984   \n",
      "256  2021-01-02  37396.02344  42206.63281  37033.21875  40898.17188   \n",
      "276  2021-01-22  38981.85938  43016.28125  36645.44531  42028.71484   \n",
      "282  2021-01-28  39020.69531  40929.13672  38501.85156  40608.72266   \n",
      "\n",
      "           Volume  \n",
      "243  4.848080e+10  \n",
      "244  5.893289e+10  \n",
      "246  6.569259e+10  \n",
      "248  5.416096e+10  \n",
      "249  6.222587e+10  \n",
      "250  8.536883e+10  \n",
      "251  6.300544e+10  \n",
      "252  5.804294e+10  \n",
      "253  6.540149e+10  \n",
      "254  5.951907e+10  \n",
      "255  5.184939e+10  \n",
      "256  8.639302e+10  \n",
      "276  9.831381e+10  \n",
      "282  1.010000e+11  \n",
      "           Date         Open         High          Low        Close  \\\n",
      "257  2021-01-03  40900.89453  44056.86719  40802.76172  41711.19141   \n",
      "258  2021-01-04  41747.99219  42467.90625  36399.62891  40865.06250   \n",
      "259  2021-01-05  40871.61328  43642.41406  38539.41797  43089.99219   \n",
      "260  2021-01-06  43116.84766  46711.30859  42464.96094  46641.22266   \n",
      "261  2021-01-07  46653.26953  51054.82422  46275.97266  49945.90625   \n",
      "262  2021-01-08  49959.51172  53271.73047  46712.90234  51769.02734   \n",
      "265  2021-01-11  48805.12500  48805.12500  39024.97266  45432.59766   \n",
      "266  2021-01-12  45368.35156  46613.71875  41735.20703  43108.24609   \n",
      "267  2021-01-13  43098.28125  47769.20703  41439.48438  47383.30469   \n",
      "268  2021-01-14  47394.41406  50571.69141  46788.23438  49563.34766   \n",
      "269  2021-01-15  49524.62109  50045.81641  44171.77734  46905.53516   \n",
      "270  2021-01-16  46900.80078  48228.94531  45387.49219  46081.14453   \n",
      "271  2021-01-17  46062.68750  46767.01563  43282.68750  45711.00781   \n",
      "272  2021-01-18  45712.23438  47679.49219  44586.64453  46701.33203   \n",
      "273  2021-01-19  46716.83203  48073.70703  45888.94531  45888.94531   \n",
      "274  2021-01-20  45863.89063  46274.68750  42417.20703  44892.29297   \n",
      "275  2021-01-21  44894.37500  44877.08203  38235.89063  38992.07422   \n",
      "277  2021-01-23  42003.23828  42481.03516  40102.60156  40834.13281   \n",
      "278  2021-01-24  40829.97656  41950.07813  39630.69531  41094.10938   \n",
      "279  2021-01-25  41089.55469  44272.91797  40894.73047  41229.37891   \n",
      "280  2021-01-26  41219.46875  41623.23438  39430.96484  41341.23438   \n",
      "281  2021-01-27  41333.84766  41333.84766  37628.26172  39009.80859   \n",
      "283  2021-01-29  44033.32813  49034.34766  41269.43750  43844.33203   \n",
      "284  2021-01-30  43818.20313  44506.56641  42086.03125  43794.73438   \n",
      "285  2021-01-31  43796.46875  43818.77344  41242.89844  42390.84766   \n",
      "286  2021-02-01  42391.12891  44329.98438  41421.04688  43093.59375   \n",
      "287  2021-02-02  43088.48438  45982.50781  43037.96484  45408.60547   \n",
      "288  2021-02-03  45409.28516  47901.06641  45314.42188  47908.06641   \n",
      "289  2021-02-04  47911.92188  49334.30859  46619.60938  47359.33984   \n",
      "290  2021-02-05  47366.37109  48924.76172  46981.02734  48683.76953   \n",
      "291  2021-02-06  48676.21484  52132.65234  48676.21484  50115.40625   \n",
      "293  2021-02-08  49621.07031  58859.64844  48601.00000  58850.13672   \n",
      "\n",
      "           Volume  \n",
      "257  1.000000e+11  \n",
      "258  1.040000e+11  \n",
      "259  8.562535e+10  \n",
      "260  9.536054e+10  \n",
      "261  1.080000e+11  \n",
      "262  1.120000e+11  \n",
      "265  1.580000e+11  \n",
      "266  9.501956e+10  \n",
      "267  8.807694e+10  \n",
      "268  8.046023e+10  \n",
      "269  8.630884e+10  \n",
      "270  7.350204e+10  \n",
      "271  6.687165e+10  \n",
      "272  6.312470e+10  \n",
      "273  7.282755e+10  \n",
      "274  8.440358e+10  \n",
      "275  9.568250e+10  \n",
      "277  6.157371e+10  \n",
      "278  6.190813e+10  \n",
      "279  7.629885e+10  \n",
      "280  7.648281e+10  \n",
      "281  8.021371e+10  \n",
      "283  1.510000e+11  \n",
      "284  8.324800e+10  \n",
      "285  6.753294e+10  \n",
      "286  7.889644e+10  \n",
      "287  8.067421e+10  \n",
      "288  7.820178e+10  \n",
      "289  8.828793e+10  \n",
      "290  7.478901e+10  \n",
      "291  9.103377e+10  \n",
      "293  1.290000e+11  \n",
      "           Date         Open         High          Low        Close  \\\n",
      "263  2021-01-09  51757.64453  52579.00000  49463.22266  51079.39844   \n",
      "264  2021-01-10  51078.98047  52558.49609  45680.50391  48817.73828   \n",
      "292  2021-02-07  50095.21484  50536.26563  47761.25781  49642.26953   \n",
      "294  2021-02-09  58835.52344  61124.00391  57497.17969  59023.47266   \n",
      "295  2021-02-10  59009.07031  59886.60938  55743.76563  57035.00000   \n",
      "296  2021-02-11  57010.27344  61538.18359  56164.94531  60845.80859   \n",
      "299  2021-02-14  59828.35938  62841.87891  59828.35938  61818.58594   \n",
      "311  2021-02-26  59513.76953  61433.89453  56119.03516  59028.46875   \n",
      "312  2021-02-27  59034.85156  61460.67188  57659.60938  58830.69141   \n",
      "313  2021-02-28  58837.78125  59503.18359  55077.28125  57312.19531   \n",
      "314  2021-03-01  57339.78906  62941.78125  57279.02344  62739.59766   \n",
      "\n",
      "           Volume  \n",
      "263  7.865232e+10  \n",
      "264  1.020000e+11  \n",
      "292  8.358131e+10  \n",
      "294  1.170000e+11  \n",
      "295  1.110000e+11  \n",
      "296  1.030000e+11  \n",
      "299  9.040923e+10  \n",
      "311  4.470000e+11  \n",
      "312  5.847723e+10  \n",
      "313  6.785861e+10  \n",
      "314  6.812480e+10  \n",
      "           Date         Open         High          Low        Close  \\\n",
      "297  2021-02-12  60804.79297  61926.87109  59115.98828  60319.28516   \n",
      "298  2021-02-13  60301.95313  61013.42969  58911.23828  59816.94141   \n",
      "300  2021-02-15  61792.25391  62015.52344  58749.41406  60583.37500   \n",
      "301  2021-02-16  60582.61719  63618.46875  59591.55078  62545.23828   \n",
      "302  2021-02-17  62554.65234  66718.64844  62404.31250  66229.13281   \n",
      "303  2021-02-18  66218.92969  66615.98438  64744.51563  65537.26563   \n",
      "304  2021-02-19  65532.42969  70822.71875  64735.26563  70533.61719   \n",
      "308  2021-02-23  68360.27344  68360.27344  57144.00000  61493.78125   \n",
      "309  2021-02-24  61507.20703  64520.53125  59430.22656  62195.53906   \n",
      "310  2021-02-25  62200.23047  64832.51953  59404.51563  59404.51563   \n",
      "315  2021-03-02  62715.41016  63379.46875  59599.26172  61132.89844   \n",
      "316  2021-03-03  61179.43359  66355.60938  60996.53516  64055.45313   \n",
      "317  2021-03-04  64035.25391  65472.57031  60374.17969  61573.37500   \n",
      "318  2021-03-05  61530.09375  62554.80078  59059.33203  61913.10156   \n",
      "319  2021-03-06  61877.57422  62191.38281  59800.14844  61894.21875   \n",
      "320  2021-03-07  61902.18750  64908.73047  61902.18750  64684.29297   \n",
      "321  2021-03-08  64643.14453  66221.76563  62743.52734  66138.40625   \n",
      "322  2021-03-09  66171.88281  69333.04688  65842.57813  69333.04688   \n",
      "323  2021-03-10  69332.91406  72341.10938  67549.13281  70691.18750   \n",
      "329  2021-03-16  69677.57813  70708.82813  66827.30469  70684.32813   \n",
      "336  2021-03-23  68255.96094  70318.27344  67118.07031  68917.97656   \n",
      "337  2021-03-24  68882.14844  72027.77344  66078.15625  66392.34375   \n",
      "338  2021-03-25  66332.56250  67127.57813  64011.23047  65160.42969   \n",
      "339  2021-03-26  65133.77344  69541.93750  65003.76953  69541.93750   \n",
      "340  2021-03-27  69542.25781  71346.66406  68413.86719  70596.59375   \n",
      "\n",
      "           Volume  \n",
      "297  9.720576e+10  \n",
      "298  8.920754e+10  \n",
      "300  9.738553e+10  \n",
      "301  9.794913e+10  \n",
      "302  1.030000e+11  \n",
      "303  6.601273e+10  \n",
      "304  8.013449e+10  \n",
      "308  1.340000e+11  \n",
      "309  7.970125e+10  \n",
      "310  6.875496e+10  \n",
      "315  6.006123e+10  \n",
      "316  6.745552e+10  \n",
      "317  6.636960e+10  \n",
      "318  6.153174e+10  \n",
      "319  4.348400e+10  \n",
      "320  5.449124e+10  \n",
      "321  6.151905e+10  \n",
      "322  6.438589e+10  \n",
      "323  7.231561e+10  \n",
      "329  7.434877e+10  \n",
      "336  7.105339e+10  \n",
      "337  8.877667e+10  \n",
      "338  8.569710e+10  \n",
      "339  7.145258e+10  \n",
      "340  5.961493e+10  \n",
      "           Date         Open         High          Low        Close  \\\n",
      "305  2021-02-20  70532.60938  72546.86719  68915.22656  70772.35156   \n",
      "306  2021-02-21  70733.30469  73588.10156  70233.78125  72505.56250   \n",
      "307  2021-02-22  72496.48438  72516.46094  61916.44922  68363.28906   \n",
      "324  2021-03-11  70633.92969  72790.13281  68631.51563  72463.92188   \n",
      "325  2021-03-12  72484.10156  72659.03125  69372.54688  71526.07813   \n",
      "326  2021-03-13  71540.15625  76956.78906  70137.53906  76406.87500   \n",
      "327  2021-03-14  76379.48438  76849.56250  73947.61719  73947.61719   \n",
      "328  2021-03-15  73904.11719  75532.45313  69073.72656  69760.44531   \n",
      "330  2021-03-17  70710.36719  73139.73438  67991.52344  72931.79688   \n",
      "331  2021-03-18  72959.28125  74799.64063  67510.17188  72297.90625   \n",
      "332  2021-03-19  72287.30469  74398.55469  70790.17969  73079.59375   \n",
      "333  2021-03-20  73061.57031  75189.60938  72912.56250  73038.24219   \n",
      "334  2021-03-21  73033.57813  73607.20313  70178.11719  72043.42188   \n",
      "335  2021-03-22  72036.50000  73010.11719  67985.22656  68277.85156   \n",
      "341  2021-03-28  70598.39844  71385.88281  69229.89844  70416.69531   \n",
      "342  2021-03-29  70413.11719  73440.74219  69597.10156  72713.56250   \n",
      "343  2021-03-30  72713.48438  75013.95313  72061.38281  74365.91406   \n",
      "344  2021-03-31  74381.79688  75561.99219  72744.52344  74029.62500   \n",
      "345  2021-04-01  74039.34375  74954.75000  73688.15625  74156.37500   \n",
      "346  2021-04-02  74160.22656  75536.78125  73795.58594  74675.77344   \n",
      "347  2021-04-03  74692.24219  75588.66406  72436.89063  72436.89063   \n",
      "348  2021-04-04  72438.08594  74084.03906  71889.60938  73827.42188   \n",
      "349  2021-04-05  73830.33594  74959.82813  72600.28125  73942.94531   \n",
      "350  2021-04-06  74085.74219  74478.25000  72337.81250  73156.52344   \n",
      "351  2021-04-07  73149.17188  73900.92969  70230.66406  70708.53906   \n",
      "352  2021-04-08  70772.84375  73292.41406  70487.04688  73273.84375   \n",
      "353  2021-04-09  73277.11719  74058.05469  72805.53906  72978.65625   \n",
      "354  2021-04-10  72989.64844  76777.21094  72720.17969  74918.53125   \n",
      "355  2021-04-11  74984.92969  76168.13281  74287.74219  75463.91406   \n",
      "356  2021-04-12  75427.53906  76935.64844  74704.84375  75243.42188   \n",
      "357  2021-04-13  75239.10938  79895.72656  75245.15625  79598.40625   \n",
      "358  2021-04-14  79623.85156  81445.67188  77085.68750  78995.98438   \n",
      "359  2021-04-15  78952.79688  80052.28906  77726.05469  79437.87500   \n",
      "360  2021-04-16  79368.23438  79831.46875  75262.20313  77018.32031   \n",
      "361  2021-04-17  76964.70313  78268.40625  75503.00000  75906.35938   \n",
      "362  2021-04-18  75928.95313  76373.71875  66081.82813  70374.90625   \n",
      "363  2021-04-19  70344.10938  71803.60938  68107.26563  69788.23438   \n",
      "365  2021-04-21  71509.30469  71556.75781  71132.07813  71477.75781   \n",
      "\n",
      "           Volume  \n",
      "305  8.596891e+10  \n",
      "306  6.539568e+10  \n",
      "307  1.160000e+11  \n",
      "324  7.116924e+10  \n",
      "325  6.947738e+10  \n",
      "326  7.569168e+10  \n",
      "327  5.474307e+10  \n",
      "328  8.287743e+10  \n",
      "330  7.465059e+10  \n",
      "331  6.965774e+10  \n",
      "332  6.145285e+10  \n",
      "333  6.307842e+10  \n",
      "334  6.505492e+10  \n",
      "335  7.077249e+10  \n",
      "341  6.001585e+10  \n",
      "342  7.255666e+10  \n",
      "343  6.868150e+10  \n",
      "344  8.232482e+10  \n",
      "345  7.738555e+10  \n",
      "346  7.385028e+10  \n",
      "347  7.499899e+10  \n",
      "348  6.376462e+10  \n",
      "349  7.600680e+10  \n",
      "350  8.304485e+10  \n",
      "351  9.543033e+10  \n",
      "352  6.665289e+10  \n",
      "353  5.845711e+10  \n",
      "354  7.297047e+10  \n",
      "355  5.800998e+10  \n",
      "356  6.511176e+10  \n",
      "357  8.772076e+10  \n",
      "358  9.694833e+10  \n",
      "359  7.647733e+10  \n",
      "360  1.050000e+11  \n",
      "361  8.272967e+10  \n",
      "362  1.220000e+11  \n",
      "363  8.183693e+10  \n",
      "365  8.495634e+10  \n"
     ]
    }
   ],
   "source": [
    "open_bkt_1 = bitcoin.loc[(bitcoin['Open'] > 0) & (bitcoin['Open'] <= 10000)]\n",
    "open_bkt_2 = bitcoin.loc[(bitcoin['Open'] > 10000) & (bitcoin['Open'] <= 20000)]\n",
    "open_bkt_3 = bitcoin.loc[(bitcoin['Open'] > 20000) & (bitcoin['Open'] <= 30000)]\n",
    "open_bkt_4 = bitcoin.loc[(bitcoin['Open'] > 30000) & (bitcoin['Open'] <= 40000)]\n",
    "open_bkt_5 = bitcoin.loc[(bitcoin['Open'] > 40000) & (bitcoin['Open'] <= 50000)]\n",
    "open_bkt_6 = bitcoin.loc[(bitcoin['Open'] > 50000) & (bitcoin['Open'] <= 60000)]\n",
    "open_bkt_7 = bitcoin.loc[(bitcoin['Open'] > 60000) & (bitcoin['Open'] <= 70000)]\n",
    "open_bkt_8 = bitcoin.loc[(bitcoin['Open'] > 70000) & (bitcoin['Open'] <= 80000)]\n",
    "\n",
    "print(open_bkt_1)\n",
    "print(open_bkt_2)\n",
    "print(open_bkt_3)\n",
    "print(open_bkt_4)\n",
    "print(open_bkt_5)\n",
    "print(open_bkt_6)\n",
    "print(open_bkt_7)\n",
    "print(open_bkt_8)"
   ]
  },
  {
   "cell_type": "markdown",
   "metadata": {},
   "source": [
    "If the mean of the daily 'Open' price = C$29,707.22, then I can find out how many values are above or below the average."
   ]
  },
  {
   "cell_type": "code",
   "execution_count": null,
   "metadata": {},
   "outputs": [],
   "source": [
    "bitcoin['Open'].loc[bitcoin['Open'] > 29707.22]"
   ]
  },
  {
   "cell_type": "markdown",
   "metadata": {},
   "source": [
    "So there are 121 values greater than the mean daily opening price. Calculating this as a percentage of the total number of observations gives:"
   ]
  },
  {
   "cell_type": "code",
   "execution_count": null,
   "metadata": {},
   "outputs": [],
   "source": [
    "(121 / 162) * 100"
   ]
  },
  {
   "cell_type": "markdown",
   "metadata": {},
   "source": [
    "The mean of the daily 'High' price is C$30,555.68."
   ]
  },
  {
   "cell_type": "code",
   "execution_count": null,
   "metadata": {},
   "outputs": [],
   "source": [
    "bitcoin['High'].loc[bitcoin['High'] > 30555.68]"
   ]
  },
  {
   "cell_type": "markdown",
   "metadata": {},
   "source": [
    "Or, in percentage terms gives 76%"
   ]
  },
  {
   "cell_type": "code",
   "execution_count": null,
   "metadata": {},
   "outputs": [],
   "source": [
    "(123 / 162) * 100"
   ]
  },
  {
   "cell_type": "markdown",
   "metadata": {},
   "source": [
    "Now for the mean of the daily 'Low' price which is C$28,874.21."
   ]
  },
  {
   "cell_type": "code",
   "execution_count": null,
   "metadata": {},
   "outputs": [],
   "source": [
    "bitcoin['Low'].loc[bitcoin['Low'] > 28874.21]"
   ]
  },
  {
   "cell_type": "code",
   "execution_count": null,
   "metadata": {},
   "outputs": [],
   "source": [
    "(122 / 162) * 100"
   ]
  },
  {
   "cell_type": "markdown",
   "metadata": {},
   "source": [
    "And finally the mean for the daily 'Close' price is C$29,864.75."
   ]
  },
  {
   "cell_type": "code",
   "execution_count": null,
   "metadata": {},
   "outputs": [],
   "source": [
    "bitcoin['Close'].loc[bitcoin['Close'] > 29864.75]"
   ]
  },
  {
   "cell_type": "code",
   "execution_count": null,
   "metadata": {},
   "outputs": [],
   "source": [
    "(121 / 162) * 100"
   ]
  },
  {
   "cell_type": "markdown",
   "metadata": {},
   "source": [
    "I can tell for all of these price categories that roughly 75% of the values lie above the mean which should indicate their frequency distributions are positively skewed."
   ]
  },
  {
   "cell_type": "code",
   "execution_count": null,
   "metadata": {},
   "outputs": [],
   "source": [
    "def create_bins(lower_bound, width, quantity):\n",
    "    \"\"\" create_bins returns an equal-width (distance) partitioning. \n",
    "        It returns an ascending list of tuples, representing the intervals.\n",
    "        A tuple bins[i], i.e. (bins[i][0], bins[i][1])  with i > 0 \n",
    "        and i < quantity, satisfies the following conditions:\n",
    "            (1) bins[i][0] + width == bins[i][1]\n",
    "            (2) bins[i-1][0] + width == bins[i][0] and\n",
    "                bins[i-1][1] + width == bins[i][1]\n",
    "    \"\"\"\n",
    "    \n",
    "\n",
    "    bins = []\n",
    "    for low in range(lower_bound, \n",
    "                     lower_bound + quantity*width + 1, width):\n",
    "        bins.append((low, low+width))\n",
    "    return bins"
   ]
  },
  {
   "cell_type": "code",
   "execution_count": null,
   "metadata": {},
   "outputs": [],
   "source": [
    "bins = create_bins(lower_bound=0,\n",
    "                   width=10000,\n",
    "                   quantity=7)\n",
    "\n",
    "bins"
   ]
  },
  {
   "cell_type": "code",
   "execution_count": null,
   "metadata": {},
   "outputs": [],
   "source": [
    "def find_bin(value, bins):\n",
    "    \"\"\" bins is a list of tuples, like [(0,10000), (10000, 20000), (20000, 30000)],\n",
    "        binning returns the smallest index i of bins so that\n",
    "        bin[i][0] <= value < bin[i][1]\n",
    "    \"\"\"\n",
    "    \n",
    "    for i in range(0, len(bins)):\n",
    "        if bins[i][0] <= value < bins[i][1]:\n",
    "            return i\n",
    "    return -1"
   ]
  },
  {
   "cell_type": "code",
   "execution_count": null,
   "metadata": {},
   "outputs": [],
   "source": [
    "from collections import Counter\n",
    "\n",
    "bins = create_bins(lower_bound=0,\n",
    "                   width=10000,\n",
    "                   quantity=7)\n",
    "\n",
    "print(bins)\n",
    "\n",
    "open_price = bitcoin['Open']\n",
    "\n",
    "binned_open_price = []\n",
    "\n",
    "for value in open_price:\n",
    "    bin_index = find_bin(value, bins)\n",
    "    print(value, bin_index, bins[bin_index])\n",
    "    binned_open_price.append(bin_index)\n",
    "    \n",
    "frequencies = Counter(binned_open_price)\n",
    "print(frequencies)"
   ]
  },
  {
   "cell_type": "code",
   "execution_count": null,
   "metadata": {},
   "outputs": [],
   "source": [
    "open_price = bitcoin['Open']\n",
    "bins2 = pd.IntervalIndex.from_tuples(bins)\n",
    "categorical_object = pd.cut(open_price, bins2)\n",
    "print(categorical_object)"
   ]
  },
  {
   "cell_type": "code",
   "execution_count": null,
   "metadata": {},
   "outputs": [],
   "source": [
    "bins2 = pd.IntervalIndex.from_tuples(bins, closed=\"left\")\n",
    "categorical_object = pd.cut(open_price, bins2)\n",
    "print(categorical_object)"
   ]
  },
  {
   "cell_type": "markdown",
   "metadata": {},
   "source": [
    "Next I want to split the data into predictors and a target variable, containing all my feature columns in one table variable and the target variable in a column vector. The prediction target can be assigned as follows:"
   ]
  },
  {
   "cell_type": "code",
   "execution_count": null,
   "metadata": {},
   "outputs": [],
   "source": []
  },
  {
   "cell_type": "code",
   "execution_count": null,
   "metadata": {},
   "outputs": [],
   "source": [
    "y = bitcoin.Close"
   ]
  },
  {
   "cell_type": "markdown",
   "metadata": {},
   "source": [
    "The features are a selection of columns used to predict 'y', including"
   ]
  },
  {
   "cell_type": "code",
   "execution_count": null,
   "metadata": {},
   "outputs": [],
   "source": [
    "bitcoin_features = ['Date','Open','High','Low','Volume']"
   ]
  },
  {
   "cell_type": "code",
   "execution_count": null,
   "metadata": {},
   "outputs": [],
   "source": [
    "X = bitcoin[bitcoin_features]"
   ]
  },
  {
   "cell_type": "markdown",
   "metadata": {},
   "source": [
    "So currently I can determine that Bitcoin was trading well below the mean (12 months ago) and more recently it's trading at roughly 130% above the mean for the last 12 month period. \n",
    "\n",
    "Time for some interval analysis where I will attempt to place OHLC values in different interval buckets based on the number of counts, but first I need to create a plot."
   ]
  },
  {
   "cell_type": "markdown",
   "metadata": {},
   "source": []
  },
  {
   "cell_type": "code",
   "execution_count": null,
   "metadata": {},
   "outputs": [],
   "source": [
    "y.describe()"
   ]
  },
  {
   "cell_type": "code",
   "execution_count": null,
   "metadata": {},
   "outputs": [],
   "source": [
    "y.mean()"
   ]
  },
  {
   "cell_type": "code",
   "execution_count": null,
   "metadata": {},
   "outputs": [],
   "source": [
    "y.std()"
   ]
  },
  {
   "cell_type": "code",
   "execution_count": null,
   "metadata": {},
   "outputs": [],
   "source": [
    "X.describe()"
   ]
  },
  {
   "cell_type": "code",
   "execution_count": null,
   "metadata": {},
   "outputs": [],
   "source": [
    "X.mean()"
   ]
  },
  {
   "cell_type": "code",
   "execution_count": null,
   "metadata": {},
   "outputs": [],
   "source": [
    "X.std()"
   ]
  },
  {
   "cell_type": "code",
   "execution_count": null,
   "metadata": {},
   "outputs": [],
   "source": []
  }
 ],
 "metadata": {
  "kernelspec": {
   "display_name": "Python 3",
   "language": "python",
   "name": "python3"
  },
  "language_info": {
   "codemirror_mode": {
    "name": "ipython",
    "version": 3
   },
   "file_extension": ".py",
   "mimetype": "text/x-python",
   "name": "python",
   "nbconvert_exporter": "python",
   "pygments_lexer": "ipython3",
   "version": "3.8.5"
  }
 },
 "nbformat": 4,
 "nbformat_minor": 4
}
