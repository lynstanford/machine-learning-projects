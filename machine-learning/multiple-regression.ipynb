{
 "cells": [
  {
   "cell_type": "markdown",
   "metadata": {},
   "source": [
    "# Multiple Linear Regression of Cryptocurrency\n",
    "\n",
    "The following model I have developed to demonstrate how to extract, transform and load data and build a pipeline based on a Multiple Regression problem. I aim to forecast Bitcoin (C$) prices by extrapolating historical data, training, validating and testing the model before evaluating its accuracy using a benchmark score.\n",
    "\n",
    "I am looking to predict the closing price (dependent variable) based on its relationship with other intraday price and volume information (independent variables).\n",
    "\n",
    "## Performance Measure Selection\n",
    "For the purpose of a multiple regression I am selecting the Root Mean Square Error (RMSE) to measure the overall degree of error when making model my predictions. "
   ]
  },
  {
   "cell_type": "markdown",
   "metadata": {},
   "source": [
    "$$ RMSE(X,h) = \\sqrt {\\frac{1}{m} \\sum_{i=1}^{m}(h(x^ {i})-y^ {i})^2} $$"
   ]
  },
  {
   "cell_type": "code",
   "execution_count": 2,
   "metadata": {},
   "outputs": [],
   "source": [
    "import pandas as pd\n",
    "import os\n",
    "import tarfile\n",
    "import urllib\n",
    "\n",
    "DOWNLOAD_URL = \"https://ca.finance.yahoo.com/quote/BTC-CAD/history?p=BTC-CAD\"\n",
    "BITCOIN_PATH = os.path.join(\"C:/Users/lynst/Documents/GitHub/machine-learning-projects/machine-learning/BTC_CAD.csv\")\n",
    "BITCOIN_URL = DOWNLOAD_URL + \"C:/Users/lynst/Documents/GitHub/machine-learning-projects/machine-learning/BTC_CAD.csv\"\n",
    "\n",
    "def fetch_bitcoin_data(bitcoin_url=BITCOIN_URL, bitcoin_path=BITCOIN_PATH):\n",
    "    os.makedirs(bitcoin_path, exist_ok=True)\n",
    "    tgz_path = os.path.join(bitcoin_path)\n",
    "    urllib.request.urlretrieve(bitcoin_url, tgz_path)\n",
    "    bitcoin_tgz = tarfile.open(tgz_path)\n",
    "    bitcoin_tgz.extract_all(path=bitcoin_path)\n",
    "    bitcoin_tgz.close()\n",
    "    \n",
    "def load_bitcoin_data(bitcoin_path=BITCOIN_PATH):\n",
    "    csv_path = os.path.join(bitcoin_path)\n",
    "    return pd.read_csv(csv_path)"
   ]
  },
  {
   "cell_type": "markdown",
   "metadata": {},
   "source": [
    "Start by loading the Canadian denominated Bitcoin data below."
   ]
  },
  {
   "cell_type": "code",
   "execution_count": 3,
   "metadata": {},
   "outputs": [],
   "source": [
    "btc_cad = load_bitcoin_data()"
   ]
  },
  {
   "cell_type": "markdown",
   "metadata": {},
   "source": [
    "Each column represents a different feature, for example 'High', 'Low' and 'Close' prices are all features. These features are also known as attributes, input, or predictor variables which can be used to ascertain a stock price prediction (called labels, output, or target variables)."
   ]
  },
  {
   "cell_type": "code",
   "execution_count": 4,
   "metadata": {},
   "outputs": [
    {
     "name": "stdout",
     "output_type": "stream",
     "text": [
      "<class 'pandas.core.frame.DataFrame'>\n",
      "RangeIndex: 366 entries, 0 to 365\n",
      "Data columns (total 7 columns):\n",
      " #   Column     Non-Null Count  Dtype  \n",
      "---  ------     --------------  -----  \n",
      " 0   Date       366 non-null    object \n",
      " 1   Open       362 non-null    float64\n",
      " 2   High       362 non-null    float64\n",
      " 3   Low        362 non-null    float64\n",
      " 4   Close      362 non-null    float64\n",
      " 5   Adj Close  362 non-null    float64\n",
      " 6   Volume     362 non-null    float64\n",
      "dtypes: float64(6), object(1)\n",
      "memory usage: 20.1+ KB\n",
      "None\n"
     ]
    }
   ],
   "source": [
    "# get stock info\n",
    "print(btc_cad.info())"
   ]
  },
  {
   "cell_type": "markdown",
   "metadata": {},
   "source": [
    "The following method gives a breakdown of the first and last entries in the dataset."
   ]
  },
  {
   "cell_type": "code",
   "execution_count": 5,
   "metadata": {},
   "outputs": [
    {
     "data": {
      "text/plain": [
       "<bound method DataFrame.info of            Date      Open      High       Low     Close  Adj Close  \\\n",
       "0    2020-04-21   9718.07   9838.33   9728.25   9763.94    9763.94   \n",
       "1    2020-04-22   9762.68  10125.87   9747.39  10096.28   10096.28   \n",
       "2    2020-04-23  10102.09  10533.73  10009.76  10451.16   10451.16   \n",
       "3    2020-04-24  10457.43  10678.71  10457.43  10642.81   10642.81   \n",
       "4    2020-04-25  10642.22  10773.18  10601.61  10669.64   10669.64   \n",
       "..          ...       ...       ...       ...       ...        ...   \n",
       "361  2021-04-17  76964.70  78268.41  75503.00  75906.36   75906.36   \n",
       "362  2021-04-18  75928.95  76373.72  66081.83  70374.91   70374.91   \n",
       "363  2021-04-19  70344.11  71803.61  68107.27  69788.23   69788.23   \n",
       "364  2021-04-20       NaN       NaN       NaN       NaN        NaN   \n",
       "365  2021-04-21  71509.30  71556.76  71132.08  71477.76   71477.76   \n",
       "\n",
       "           Volume  \n",
       "0    4.624843e+10  \n",
       "1    4.716635e+10  \n",
       "2    6.119120e+10  \n",
       "3    4.881932e+10  \n",
       "4    4.643028e+10  \n",
       "..            ...  \n",
       "361  8.272967e+10  \n",
       "362  1.220000e+11  \n",
       "363  8.183693e+10  \n",
       "364           NaN  \n",
       "365  8.495634e+10  \n",
       "\n",
       "[366 rows x 7 columns]>"
      ]
     },
     "execution_count": 5,
     "metadata": {},
     "output_type": "execute_result"
    }
   ],
   "source": [
    "btc_cad.info"
   ]
  },
  {
   "cell_type": "markdown",
   "metadata": {},
   "source": [
    "## Data Preprocessing\n",
    "### Overall Statistics\n",
    "Using the describe() method to view summary statistics helps define the average values or range of data involved in this dataset, as well as a measure of dispersion about its mean."
   ]
  },
  {
   "cell_type": "code",
   "execution_count": 6,
   "metadata": {},
   "outputs": [
    {
     "data": {
      "text/html": [
       "<div>\n",
       "<style scoped>\n",
       "    .dataframe tbody tr th:only-of-type {\n",
       "        vertical-align: middle;\n",
       "    }\n",
       "\n",
       "    .dataframe tbody tr th {\n",
       "        vertical-align: top;\n",
       "    }\n",
       "\n",
       "    .dataframe thead th {\n",
       "        text-align: right;\n",
       "    }\n",
       "</style>\n",
       "<table border=\"1\" class=\"dataframe\">\n",
       "  <thead>\n",
       "    <tr style=\"text-align: right;\">\n",
       "      <th></th>\n",
       "      <th>Open</th>\n",
       "      <th>High</th>\n",
       "      <th>Low</th>\n",
       "      <th>Close</th>\n",
       "      <th>Adj Close</th>\n",
       "      <th>Volume</th>\n",
       "    </tr>\n",
       "  </thead>\n",
       "  <tbody>\n",
       "    <tr>\n",
       "      <th>count</th>\n",
       "      <td>362.000000</td>\n",
       "      <td>362.000000</td>\n",
       "      <td>362.000000</td>\n",
       "      <td>362.000000</td>\n",
       "      <td>362.000000</td>\n",
       "      <td>3.620000e+02</td>\n",
       "    </tr>\n",
       "    <tr>\n",
       "      <th>mean</th>\n",
       "      <td>29707.219227</td>\n",
       "      <td>30555.675387</td>\n",
       "      <td>28874.214006</td>\n",
       "      <td>29864.750829</td>\n",
       "      <td>29864.750829</td>\n",
       "      <td>5.364938e+10</td>\n",
       "    </tr>\n",
       "    <tr>\n",
       "      <th>std</th>\n",
       "      <td>21773.553828</td>\n",
       "      <td>22482.286402</td>\n",
       "      <td>20992.768212</td>\n",
       "      <td>21845.825531</td>\n",
       "      <td>21845.825531</td>\n",
       "      <td>3.297456e+10</td>\n",
       "    </tr>\n",
       "    <tr>\n",
       "      <th>min</th>\n",
       "      <td>9718.070000</td>\n",
       "      <td>9838.330000</td>\n",
       "      <td>9728.250000</td>\n",
       "      <td>9763.940000</td>\n",
       "      <td>9763.940000</td>\n",
       "      <td>1.663903e+10</td>\n",
       "    </tr>\n",
       "    <tr>\n",
       "      <th>25%</th>\n",
       "      <td>13373.917500</td>\n",
       "      <td>13684.485000</td>\n",
       "      <td>13056.075000</td>\n",
       "      <td>13421.037500</td>\n",
       "      <td>13421.037500</td>\n",
       "      <td>3.142625e+10</td>\n",
       "    </tr>\n",
       "    <tr>\n",
       "      <th>50%</th>\n",
       "      <td>16520.155000</td>\n",
       "      <td>17169.830000</td>\n",
       "      <td>16253.260000</td>\n",
       "      <td>16921.560000</td>\n",
       "      <td>16921.560000</td>\n",
       "      <td>4.716901e+10</td>\n",
       "    </tr>\n",
       "    <tr>\n",
       "      <th>75%</th>\n",
       "      <td>44679.117500</td>\n",
       "      <td>46686.912500</td>\n",
       "      <td>41998.325000</td>\n",
       "      <td>45279.530000</td>\n",
       "      <td>45279.530000</td>\n",
       "      <td>6.929678e+10</td>\n",
       "    </tr>\n",
       "    <tr>\n",
       "      <th>max</th>\n",
       "      <td>79623.850000</td>\n",
       "      <td>81445.670000</td>\n",
       "      <td>77726.050000</td>\n",
       "      <td>79598.410000</td>\n",
       "      <td>79598.410000</td>\n",
       "      <td>4.470000e+11</td>\n",
       "    </tr>\n",
       "  </tbody>\n",
       "</table>\n",
       "</div>"
      ],
      "text/plain": [
       "               Open          High           Low         Close     Adj Close  \\\n",
       "count    362.000000    362.000000    362.000000    362.000000    362.000000   \n",
       "mean   29707.219227  30555.675387  28874.214006  29864.750829  29864.750829   \n",
       "std    21773.553828  22482.286402  20992.768212  21845.825531  21845.825531   \n",
       "min     9718.070000   9838.330000   9728.250000   9763.940000   9763.940000   \n",
       "25%    13373.917500  13684.485000  13056.075000  13421.037500  13421.037500   \n",
       "50%    16520.155000  17169.830000  16253.260000  16921.560000  16921.560000   \n",
       "75%    44679.117500  46686.912500  41998.325000  45279.530000  45279.530000   \n",
       "max    79623.850000  81445.670000  77726.050000  79598.410000  79598.410000   \n",
       "\n",
       "             Volume  \n",
       "count  3.620000e+02  \n",
       "mean   5.364938e+10  \n",
       "std    3.297456e+10  \n",
       "min    1.663903e+10  \n",
       "25%    3.142625e+10  \n",
       "50%    4.716901e+10  \n",
       "75%    6.929678e+10  \n",
       "max    4.470000e+11  "
      ]
     },
     "execution_count": 6,
     "metadata": {},
     "output_type": "execute_result"
    }
   ],
   "source": [
    "btc_cad.describe()"
   ]
  },
  {
   "cell_type": "markdown",
   "metadata": {},
   "source": [
    "So I can tell the average closing price is C$29,865 to the nearest integer. \n",
    "\n",
    "There isn't much data to work from (one years worth exactly), but I would like to create a dataframe object from the price data and try and use it to forecast future price information.\n",
    "\n",
    "Import the NumPy library for numerical calculations."
   ]
  },
  {
   "cell_type": "code",
   "execution_count": 7,
   "metadata": {},
   "outputs": [],
   "source": [
    "import numpy as np"
   ]
  },
  {
   "cell_type": "markdown",
   "metadata": {},
   "source": [
    "Taking a look at which columns are present in the dataset gives me:"
   ]
  },
  {
   "cell_type": "code",
   "execution_count": 8,
   "metadata": {},
   "outputs": [
    {
     "data": {
      "text/plain": [
       "Index(['Date', 'Open', 'High', 'Low', 'Close', 'Adj Close', 'Volume'], dtype='object')"
      ]
     },
     "execution_count": 8,
     "metadata": {},
     "output_type": "execute_result"
    }
   ],
   "source": [
    "btc_cad.columns"
   ]
  },
  {
   "cell_type": "markdown",
   "metadata": {},
   "source": [
    "And now lets see the first and last 5 entries in the table:"
   ]
  },
  {
   "cell_type": "code",
   "execution_count": 9,
   "metadata": {},
   "outputs": [
    {
     "data": {
      "text/html": [
       "<div>\n",
       "<style scoped>\n",
       "    .dataframe tbody tr th:only-of-type {\n",
       "        vertical-align: middle;\n",
       "    }\n",
       "\n",
       "    .dataframe tbody tr th {\n",
       "        vertical-align: top;\n",
       "    }\n",
       "\n",
       "    .dataframe thead th {\n",
       "        text-align: right;\n",
       "    }\n",
       "</style>\n",
       "<table border=\"1\" class=\"dataframe\">\n",
       "  <thead>\n",
       "    <tr style=\"text-align: right;\">\n",
       "      <th></th>\n",
       "      <th>Date</th>\n",
       "      <th>Open</th>\n",
       "      <th>High</th>\n",
       "      <th>Low</th>\n",
       "      <th>Close</th>\n",
       "      <th>Adj Close</th>\n",
       "      <th>Volume</th>\n",
       "    </tr>\n",
       "  </thead>\n",
       "  <tbody>\n",
       "    <tr>\n",
       "      <th>0</th>\n",
       "      <td>2020-04-21</td>\n",
       "      <td>9718.07</td>\n",
       "      <td>9838.33</td>\n",
       "      <td>9728.25</td>\n",
       "      <td>9763.94</td>\n",
       "      <td>9763.94</td>\n",
       "      <td>4.624843e+10</td>\n",
       "    </tr>\n",
       "    <tr>\n",
       "      <th>1</th>\n",
       "      <td>2020-04-22</td>\n",
       "      <td>9762.68</td>\n",
       "      <td>10125.87</td>\n",
       "      <td>9747.39</td>\n",
       "      <td>10096.28</td>\n",
       "      <td>10096.28</td>\n",
       "      <td>4.716635e+10</td>\n",
       "    </tr>\n",
       "    <tr>\n",
       "      <th>2</th>\n",
       "      <td>2020-04-23</td>\n",
       "      <td>10102.09</td>\n",
       "      <td>10533.73</td>\n",
       "      <td>10009.76</td>\n",
       "      <td>10451.16</td>\n",
       "      <td>10451.16</td>\n",
       "      <td>6.119120e+10</td>\n",
       "    </tr>\n",
       "    <tr>\n",
       "      <th>3</th>\n",
       "      <td>2020-04-24</td>\n",
       "      <td>10457.43</td>\n",
       "      <td>10678.71</td>\n",
       "      <td>10457.43</td>\n",
       "      <td>10642.81</td>\n",
       "      <td>10642.81</td>\n",
       "      <td>4.881932e+10</td>\n",
       "    </tr>\n",
       "    <tr>\n",
       "      <th>4</th>\n",
       "      <td>2020-04-25</td>\n",
       "      <td>10642.22</td>\n",
       "      <td>10773.18</td>\n",
       "      <td>10601.61</td>\n",
       "      <td>10669.64</td>\n",
       "      <td>10669.64</td>\n",
       "      <td>4.643028e+10</td>\n",
       "    </tr>\n",
       "  </tbody>\n",
       "</table>\n",
       "</div>"
      ],
      "text/plain": [
       "         Date      Open      High       Low     Close  Adj Close        Volume\n",
       "0  2020-04-21   9718.07   9838.33   9728.25   9763.94    9763.94  4.624843e+10\n",
       "1  2020-04-22   9762.68  10125.87   9747.39  10096.28   10096.28  4.716635e+10\n",
       "2  2020-04-23  10102.09  10533.73  10009.76  10451.16   10451.16  6.119120e+10\n",
       "3  2020-04-24  10457.43  10678.71  10457.43  10642.81   10642.81  4.881932e+10\n",
       "4  2020-04-25  10642.22  10773.18  10601.61  10669.64   10669.64  4.643028e+10"
      ]
     },
     "execution_count": 9,
     "metadata": {},
     "output_type": "execute_result"
    }
   ],
   "source": [
    "btc_cad.head()"
   ]
  },
  {
   "cell_type": "markdown",
   "metadata": {},
   "source": [
    "And now the tail of the dataframe."
   ]
  },
  {
   "cell_type": "code",
   "execution_count": 10,
   "metadata": {},
   "outputs": [
    {
     "data": {
      "text/html": [
       "<div>\n",
       "<style scoped>\n",
       "    .dataframe tbody tr th:only-of-type {\n",
       "        vertical-align: middle;\n",
       "    }\n",
       "\n",
       "    .dataframe tbody tr th {\n",
       "        vertical-align: top;\n",
       "    }\n",
       "\n",
       "    .dataframe thead th {\n",
       "        text-align: right;\n",
       "    }\n",
       "</style>\n",
       "<table border=\"1\" class=\"dataframe\">\n",
       "  <thead>\n",
       "    <tr style=\"text-align: right;\">\n",
       "      <th></th>\n",
       "      <th>Date</th>\n",
       "      <th>Open</th>\n",
       "      <th>High</th>\n",
       "      <th>Low</th>\n",
       "      <th>Close</th>\n",
       "      <th>Adj Close</th>\n",
       "      <th>Volume</th>\n",
       "    </tr>\n",
       "  </thead>\n",
       "  <tbody>\n",
       "    <tr>\n",
       "      <th>361</th>\n",
       "      <td>2021-04-17</td>\n",
       "      <td>76964.70</td>\n",
       "      <td>78268.41</td>\n",
       "      <td>75503.00</td>\n",
       "      <td>75906.36</td>\n",
       "      <td>75906.36</td>\n",
       "      <td>8.272967e+10</td>\n",
       "    </tr>\n",
       "    <tr>\n",
       "      <th>362</th>\n",
       "      <td>2021-04-18</td>\n",
       "      <td>75928.95</td>\n",
       "      <td>76373.72</td>\n",
       "      <td>66081.83</td>\n",
       "      <td>70374.91</td>\n",
       "      <td>70374.91</td>\n",
       "      <td>1.220000e+11</td>\n",
       "    </tr>\n",
       "    <tr>\n",
       "      <th>363</th>\n",
       "      <td>2021-04-19</td>\n",
       "      <td>70344.11</td>\n",
       "      <td>71803.61</td>\n",
       "      <td>68107.27</td>\n",
       "      <td>69788.23</td>\n",
       "      <td>69788.23</td>\n",
       "      <td>8.183693e+10</td>\n",
       "    </tr>\n",
       "    <tr>\n",
       "      <th>364</th>\n",
       "      <td>2021-04-20</td>\n",
       "      <td>NaN</td>\n",
       "      <td>NaN</td>\n",
       "      <td>NaN</td>\n",
       "      <td>NaN</td>\n",
       "      <td>NaN</td>\n",
       "      <td>NaN</td>\n",
       "    </tr>\n",
       "    <tr>\n",
       "      <th>365</th>\n",
       "      <td>2021-04-21</td>\n",
       "      <td>71509.30</td>\n",
       "      <td>71556.76</td>\n",
       "      <td>71132.08</td>\n",
       "      <td>71477.76</td>\n",
       "      <td>71477.76</td>\n",
       "      <td>8.495634e+10</td>\n",
       "    </tr>\n",
       "  </tbody>\n",
       "</table>\n",
       "</div>"
      ],
      "text/plain": [
       "           Date      Open      High       Low     Close  Adj Close  \\\n",
       "361  2021-04-17  76964.70  78268.41  75503.00  75906.36   75906.36   \n",
       "362  2021-04-18  75928.95  76373.72  66081.83  70374.91   70374.91   \n",
       "363  2021-04-19  70344.11  71803.61  68107.27  69788.23   69788.23   \n",
       "364  2021-04-20       NaN       NaN       NaN       NaN        NaN   \n",
       "365  2021-04-21  71509.30  71556.76  71132.08  71477.76   71477.76   \n",
       "\n",
       "           Volume  \n",
       "361  8.272967e+10  \n",
       "362  1.220000e+11  \n",
       "363  8.183693e+10  \n",
       "364           NaN  \n",
       "365  8.495634e+10  "
      ]
     },
     "execution_count": 10,
     "metadata": {},
     "output_type": "execute_result"
    }
   ],
   "source": [
    "btc_cad.tail()"
   ]
  },
  {
   "cell_type": "markdown",
   "metadata": {},
   "source": [
    "## Cleaning the Data\n",
    "A brief look at the summary info for the dataset tells me there are a different number of date values compared to the rest of the column entries. This will need to be addressed, followed by any missing values, NaN, 'isnull' or entries with 'zero'. I can also see the different number 'count' for entries using the count() method:"
   ]
  },
  {
   "cell_type": "code",
   "execution_count": 11,
   "metadata": {},
   "outputs": [
    {
     "data": {
      "text/plain": [
       "Date         366\n",
       "Open         362\n",
       "High         362\n",
       "Low          362\n",
       "Close        362\n",
       "Adj Close    362\n",
       "Volume       362\n",
       "dtype: int64"
      ]
     },
     "execution_count": 11,
     "metadata": {},
     "output_type": "execute_result"
    }
   ],
   "source": [
    "btc_cad.count()"
   ]
  },
  {
   "cell_type": "markdown",
   "metadata": {},
   "source": [
    "First I just want to see what shape the dataframe is."
   ]
  },
  {
   "cell_type": "code",
   "execution_count": 12,
   "metadata": {},
   "outputs": [
    {
     "data": {
      "text/plain": [
       "(366, 7)"
      ]
     },
     "execution_count": 12,
     "metadata": {},
     "output_type": "execute_result"
    }
   ],
   "source": [
    "btc_cad.shape"
   ]
  },
  {
   "cell_type": "markdown",
   "metadata": {},
   "source": [
    "So it's 366 rows by 7 columns or a (366x7) matrix.\n",
    "\n",
    "Next, to find the total number of missing entries."
   ]
  },
  {
   "cell_type": "code",
   "execution_count": 13,
   "metadata": {},
   "outputs": [
    {
     "data": {
      "text/plain": [
       "Date         0\n",
       "Open         4\n",
       "High         4\n",
       "Low          4\n",
       "Close        4\n",
       "Adj Close    4\n",
       "Volume       4\n",
       "dtype: int64"
      ]
     },
     "execution_count": 13,
     "metadata": {},
     "output_type": "execute_result"
    }
   ],
   "source": [
    "bitcoin_missing_values_count = btc_cad.isnull().sum()\n",
    "bitcoin_missing_values_count[0:7]"
   ]
  },
  {
   "cell_type": "markdown",
   "metadata": {},
   "source": [
    "Further examination allows me to calculate the total number of rows containing missing data points as a percentage of the total number of rows in the dataframe."
   ]
  },
  {
   "cell_type": "code",
   "execution_count": 14,
   "metadata": {},
   "outputs": [
    {
     "name": "stdout",
     "output_type": "stream",
     "text": [
      "0.936768149882904\n"
     ]
    }
   ],
   "source": [
    "total_bitcoin = np.product(btc_cad.shape)\n",
    "total_missing_bitcoin = bitcoin_missing_values_count.sum()\n",
    "\n",
    "percent_missing_values = (total_missing_bitcoin/total_bitcoin) * 100\n",
    "print(percent_missing_values)"
   ]
  },
  {
   "cell_type": "markdown",
   "metadata": {},
   "source": [
    "From this I can see that just under 1% of the total values are missing. I can either choose to leave them out completely (as they may not really affect my model for the purpose of this exercise) or use imputed values such as the mean or median.\n",
    "\n",
    "## Removing Rows\n",
    "Having checked the csv file I can determine that there is no real reason for the missing values (null entries) for these dates. At first I thought these missing values might be due to public holidays but because Bitcoin is a currency, it appears to be traded OTC (Over The Counter) beyong normal trading hours throughout the day, seven days a week. As a result I have chosen to leave these missing values out using the dropna() method to eliminate them. This should provide a total of 162 rows."
   ]
  },
  {
   "cell_type": "code",
   "execution_count": 15,
   "metadata": {},
   "outputs": [
    {
     "data": {
      "text/plain": [
       "Date         362\n",
       "Open         362\n",
       "High         362\n",
       "Low          362\n",
       "Close        362\n",
       "Adj Close    362\n",
       "Volume       362\n",
       "dtype: int64"
      ]
     },
     "execution_count": 15,
     "metadata": {},
     "output_type": "execute_result"
    }
   ],
   "source": [
    "# dropping the rows with missing or 'na' entries using 'axis=0' for the row dimension\n",
    "btc_cad = btc_cad.dropna(axis=0)\n",
    "\n",
    "# finding the new row count\n",
    "btc_cad.count()"
   ]
  },
  {
   "cell_type": "markdown",
   "metadata": {},
   "source": [
    "This time there are exactly 362 rows for each column. It's important to set the argument (axis=0) otherwise dropping the values doesn't work. \n",
    "\n",
    "## Removing Columns (Feature Selection)\n",
    "\n",
    "The values in the 'Adj Close' column are exactly the same as in the 'Close' column so I will remove 'Adj Close' completely from the dataset in an attempt to regularize the model. This is unecessary data which can be removed as it could contribute to bias and bleed into the test data. It's better to reduce the overall number of variables particularly removing those which are not relevant (the process of regularization to simplify the model and avoid overfitting)."
   ]
  },
  {
   "cell_type": "code",
   "execution_count": 16,
   "metadata": {},
   "outputs": [
    {
     "data": {
      "text/plain": [
       "Index(['Date', 'Open', 'High', 'Low', 'Close', 'Adj Close', 'Volume'], dtype='object')"
      ]
     },
     "execution_count": 16,
     "metadata": {},
     "output_type": "execute_result"
    }
   ],
   "source": [
    "btc_cad.columns"
   ]
  },
  {
   "cell_type": "code",
   "execution_count": 17,
   "metadata": {},
   "outputs": [],
   "source": [
    "del btc_cad['Adj Close']"
   ]
  },
  {
   "cell_type": "code",
   "execution_count": 18,
   "metadata": {},
   "outputs": [
    {
     "data": {
      "text/plain": [
       "Index(['Date', 'Open', 'High', 'Low', 'Close', 'Volume'], dtype='object')"
      ]
     },
     "execution_count": 18,
     "metadata": {},
     "output_type": "execute_result"
    }
   ],
   "source": [
    "btc_cad.columns"
   ]
  },
  {
   "cell_type": "markdown",
   "metadata": {},
   "source": [
    "Next, I will store the independent variables (features) in a Pandas dataframe called bitcoin which can be used for further analysis."
   ]
  },
  {
   "cell_type": "code",
   "execution_count": 19,
   "metadata": {},
   "outputs": [
    {
     "name": "stdout",
     "output_type": "stream",
     "text": [
      "<class 'pandas.core.frame.DataFrame'>\n"
     ]
    }
   ],
   "source": [
    "print(type(btc_cad))"
   ]
  },
  {
   "cell_type": "markdown",
   "metadata": {},
   "source": [
    "# Exploratory Data Analysis\n",
    "\n",
    "The mean value for the Bitcoin (CAD) close price is C$ 29,864.75 and from the summary statistics using 'describe()' I can also see the maximum values in the upper-quartile range have been tested regularly.\n",
    "\n",
    "As there are no dividends or stock splits because Bitcoin is a currency (medium of exchange / store of value), only 6 columns are of any use to me in this particular dataset: Date, Open, High, Low, Close and Volume. Printing the first 5 lines of the dataframe gives:"
   ]
  },
  {
   "cell_type": "code",
   "execution_count": 20,
   "metadata": {},
   "outputs": [
    {
     "name": "stdout",
     "output_type": "stream",
     "text": [
      "         Date      Open      High       Low     Close        Volume\n",
      "0  2020-04-21   9718.07   9838.33   9728.25   9763.94  4.624843e+10\n",
      "1  2020-04-22   9762.68  10125.87   9747.39  10096.28  4.716635e+10\n",
      "2  2020-04-23  10102.09  10533.73  10009.76  10451.16  6.119120e+10\n",
      "3  2020-04-24  10457.43  10678.71  10457.43  10642.81  4.881932e+10\n",
      "4  2020-04-25  10642.22  10773.18  10601.61  10669.64  4.643028e+10\n"
     ]
    }
   ],
   "source": [
    "print(btc_cad[:5])"
   ]
  },
  {
   "cell_type": "markdown",
   "metadata": {},
   "source": [
    "## Visualizing the Data\n",
    "Let's take a look at plotting the different price data over time. This first plot will have the different OHLC prices for the last year."
   ]
  },
  {
   "cell_type": "code",
   "execution_count": 21,
   "metadata": {},
   "outputs": [
    {
     "data": {
      "text/plain": [
       "<AxesSubplot:title={'center':'Daily Bitcoin OHLC Prices in $CAD'}, xlabel='Date'>"
      ]
     },
     "execution_count": 21,
     "metadata": {},
     "output_type": "execute_result"
    },
    {
     "data": {
      "image/png": "[encoded data removed]",
      "text/plain": [
       "<Figure size 1008x432 with 1 Axes>"
      ]
     },
     "metadata": {
      "needs_background": "light"
     },
     "output_type": "display_data"
    }
   ],
   "source": [
    "# Import the necessary libraries\n",
    "import matplotlib.pyplot as plt\n",
    "%matplotlib inline\n",
    "import seaborn as sns\n",
    "\n",
    "# Location of the file path\n",
    "bitcoin_path = os.path.join(\"C:/Users/lynst/Documents/GitHub/machine-learning-projects/machine-learning/BTC_CAD.csv\")\n",
    "\n",
    "# Open the file into a variable bitcoin\n",
    "bitcoin = pd.read_csv(bitcoin_path, index_col=\"Date\", parse_dates=True)\n",
    "\n",
    "# Plot the width and height of the figure\n",
    "plt.figure(figsize=(14,6))\n",
    "\n",
    "# Add a decsriptive title\n",
    "plt.title(\"Daily Bitcoin OHLC Prices in $CAD\")\n",
    "\n",
    "# Line chart showing daily global streams of each song \n",
    "sns.lineplot(data=bitcoin)"
   ]
  },
  {
   "cell_type": "markdown",
   "metadata": {},
   "source": [
    "At first glance I can detect an underlying trend for the price of Bitcoin, but there is also a noticable spike in Feb 2021 before reverting back to the trend. This makes the price data easier to read once the width and height of the axes have been adjusted. If I want to create a subplot of the 'Close' price (as the target variable I will eventually use), then I may decide to list the columns first:"
   ]
  },
  {
   "cell_type": "code",
   "execution_count": 22,
   "metadata": {},
   "outputs": [
    {
     "data": {
      "text/plain": [
       "['Open', 'High', 'Low', 'Close', 'Adj Close', 'Volume']"
      ]
     },
     "execution_count": 22,
     "metadata": {},
     "output_type": "execute_result"
    }
   ],
   "source": [
    "list(bitcoin.columns)"
   ]
  },
  {
   "cell_type": "code",
   "execution_count": 23,
   "metadata": {},
   "outputs": [
    {
     "data": {
      "text/plain": [
       "Text(0.5, 0, 'Date')"
      ]
     },
     "execution_count": 23,
     "metadata": {},
     "output_type": "execute_result"
    },
    {
     "data": {
      "image/png": "[encoded data removed]",
      "text/plain": [
       "<Figure size 1008x432 with 1 Axes>"
      ]
     },
     "metadata": {
      "needs_background": "light"
     },
     "output_type": "display_data"
    }
   ],
   "source": [
    "# Once again setting the width and height of the figure\n",
    "plt.figure(figsize=(14,6))\n",
    "\n",
    "# Add title\n",
    "plt.title(\"Daily Bitcoin Close Price in $CAD\")\n",
    "\n",
    "# Line chart showing daily 'Close'\n",
    "sns.lineplot(data=bitcoin['Close'], label=\"Close\")\n",
    "\n",
    "# Add label for horizontal axis\n",
    "plt.xlabel(\"Date\")"
   ]
  },
  {
   "cell_type": "markdown",
   "metadata": {},
   "source": [
    "So as we can see there is a definite gradual upward trend. In this particular instance the plot exhibits a price pattern called an 'ascending triangle' which is a term used by technical analysts. This term can be used to make buying and selling decisions based on the shape of the pattern.\n",
    "\n",
    "## Correlation (Multivariate Stats)\n",
    "The first stage of any feature selection process for a linear regression model should involve checking multivariate statistics and the degree of correlation between the features and also with the target variable. (Be careful and perform the correlation function on 'bitcoin' dataframe, not the 'data' dictionary. This multivariate statistic is essential to avoid poor performance as high correlations between variables can prevent the model's loss function from converging to the global minimum."
   ]
  },
  {
   "cell_type": "code",
   "execution_count": 24,
   "metadata": {},
   "outputs": [
    {
     "name": "stdout",
     "output_type": "stream",
     "text": [
      "               Open      High       Low     Close  Adj Close    Volume\n",
      "Open       1.000000  0.999003  0.998283  0.997880   0.997880  0.584975\n",
      "High       0.999003  1.000000  0.998194  0.999188   0.999188  0.592747\n",
      "Low        0.998283  0.998194  1.000000  0.998735   0.998735  0.569046\n",
      "Close      0.997880  0.999188  0.998735  1.000000   1.000000  0.582709\n",
      "Adj Close  0.997880  0.999188  0.998735  1.000000   1.000000  0.582709\n",
      "Volume     0.584975  0.592747  0.569046  0.582709   0.582709  1.000000\n"
     ]
    }
   ],
   "source": [
    "correlation = bitcoin.corr()\n",
    "print(correlation)"
   ]
  },
  {
   "cell_type": "markdown",
   "metadata": {},
   "source": [
    "I would expect the opening and closing prices to be defined by the range of the high and low daily prices so all of these values tend to move within a fairly narrow band. There is a strong degree of positive correlation between these time-series values. I can also determine there is a less powerful degree of association between the volume of currency traded and its closing price (0.582709), but a positive relationship nonetheless. \n",
    "\n",
    " Assuming I wanted to find the top three highest correlated features I could use the .abs() and .nlargest() methods:"
   ]
  },
  {
   "cell_type": "code",
   "execution_count": 25,
   "metadata": {},
   "outputs": [
    {
     "name": "stdout",
     "output_type": "stream",
     "text": [
      "Index(['Close', 'Adj Close', 'High'], dtype='object')\n"
     ]
    }
   ],
   "source": [
    "print(bitcoin.corr().abs().nlargest(3, 'Close').index)          # to find the top 3 features with highest correlation values"
   ]
  },
  {
   "cell_type": "code",
   "execution_count": 26,
   "metadata": {},
   "outputs": [
    {
     "name": "stdout",
     "output_type": "stream",
     "text": [
      "[1.         1.         0.99918803]\n"
     ]
    }
   ],
   "source": [
    "print(bitcoin.corr().abs().nlargest(3, 'Close').values[:,3])         # top 3 correlation values"
   ]
  },
  {
   "cell_type": "markdown",
   "metadata": {},
   "source": [
    "Firstly, the perfectly correclated value of 1.0 represents the 'Close' price correlation with itself, but the nest two correlation values of 0.99918803 and 0.99873489 represent those of the daily 'High' and 'Low' resepectively.\n",
    "\n",
    "Remember, this would only be necessary if I wanted to include only those features with the top 3 correlation scores. For the purpose of this model that would be the open, high and low prices but I want to include the volume also and have decided to keep all 4 features. Next I intend to look at a scatter plot to show the relationship between some of these variables starting with the daily high and close prices."
   ]
  },
  {
   "cell_type": "code",
   "execution_count": 27,
   "metadata": {},
   "outputs": [
    {
     "data": {
      "image/png": "[encoded data removed]",
      "text/plain": [
       "<Figure size 432x288 with 1 Axes>"
      ]
     },
     "metadata": {
      "needs_background": "light"
     },
     "output_type": "display_data"
    },
    {
     "data": {
      "image/png": "[encoded data removed]",
      "text/plain": [
       "<Figure size 432x288 with 1 Axes>"
      ]
     },
     "metadata": {
      "needs_background": "light"
     },
     "output_type": "display_data"
    },
    {
     "data": {
      "image/png": "[encoded data removed]",
      "text/plain": [
       "<Figure size 432x288 with 1 Axes>"
      ]
     },
     "metadata": {
      "needs_background": "light"
     },
     "output_type": "display_data"
    }
   ],
   "source": [
    "plt.scatter(bitcoin['High'], bitcoin['Close'], marker='o')\n",
    "plt.xlabel('High')\n",
    "plt.ylabel('Close')\n",
    "plt.show()\n",
    "\n",
    "plt.scatter(bitcoin['Low'], bitcoin['Close'], marker='o', color='green')\n",
    "plt.xlabel('Low')\n",
    "plt.ylabel('Close')\n",
    "plt.show()\n",
    "\n",
    "plt.scatter(bitcoin['Open'], bitcoin['Close'], marker='o', color='orange')\n",
    "plt.xlabel('Open')\n",
    "plt.ylabel('Close')\n",
    "plt.show()"
   ]
  },
  {
   "cell_type": "markdown",
   "metadata": {},
   "source": [
    "A strong positive linear relationship exists between the High, Low and Open prices with the Close but the degree of correlation decreases with High, Low and Open prices respectively. Also this can be checked against the 4th row of the correlation matrix under the row with 'Close' in the entry.\n",
    "\n",
    "And finally the relationship plot of daily volume against the closing prices. I can see there is one outlier on the right hand side."
   ]
  },
  {
   "cell_type": "code",
   "execution_count": 28,
   "metadata": {},
   "outputs": [
    {
     "data": {
      "image/png": "[encoded data removed]",
      "text/plain": [
       "<Figure size 432x288 with 1 Axes>"
      ]
     },
     "metadata": {
      "needs_background": "light"
     },
     "output_type": "display_data"
    }
   ],
   "source": [
    "plt.scatter(bitcoin['Volume'], bitcoin['Close'], marker='o', color='coral')\n",
    "plt.xlabel('Volume')\n",
    "plt.ylabel('Close')\n",
    "plt.show()"
   ]
  },
  {
   "cell_type": "markdown",
   "metadata": {},
   "source": [
    "So there definitely is a relationship between 'Volume' and 'Close' but it doesn't appear to be very linear. It's all confined to a group with an outlier around the C$60,000 mark which likely represents the period that prices spiked due to a huge increase in the volume of contracts traded. Another problem I can see on the plot is the scale of the axis containing the 'Volume' values which indicates the need for feature normalization to address any adverse effects these values might have on the model training process.\n",
    "\n",
    "## Feature Normalization\n",
    "I first need to define the values of the numeric columns in the dataset to a common scale using MinMaxScaler(). "
   ]
  },
  {
   "cell_type": "code",
   "execution_count": 57,
   "metadata": {},
   "outputs": [
    {
     "name": "stdout",
     "output_type": "stream",
     "text": [
      "         Open      High       Low     Close  Adj Close        Volume\n",
      "0     9718.07   9838.33   9728.25   9763.94    9763.94  4.624843e+10\n",
      "1     9762.68  10125.87   9747.39  10096.28   10096.28  4.716635e+10\n",
      "2    10102.09  10533.73  10009.76  10451.16   10451.16  6.119120e+10\n",
      "3    10457.43  10678.71  10457.43  10642.81   10642.81  4.881932e+10\n",
      "4    10642.22  10773.18  10601.61  10669.64   10669.64  4.643028e+10\n",
      "..        ...       ...       ...       ...        ...           ...\n",
      "361  76964.70  78268.41  75503.00  75906.36   75906.36  8.272967e+10\n",
      "362  75928.95  76373.72  66081.83  70374.91   70374.91  1.220000e+11\n",
      "363  70344.11  71803.61  68107.27  69788.23   69788.23  8.183693e+10\n",
      "364       NaN       NaN       NaN       NaN        NaN           NaN\n",
      "365  71509.30  71556.76  71132.08  71477.76   71477.76  8.495634e+10\n",
      "\n",
      "[366 rows x 6 columns]\n"
     ]
    }
   ],
   "source": [
    "import pandas as pd\n",
    "from sklearn import preprocessing\n",
    "\n",
    "# Location of the file path\n",
    "bitcoin_path = os.path.join(\"C:/Users/lynst/Documents/GitHub/machine-learning-projects/machine-learning/BTC_CAD.csv\")\n",
    "\n",
    "# Open the file into a variable bitcoin\n",
    "bitcoin = pd.read_csv(bitcoin_path)\n",
    "\n",
    "# remove feature with string values - Date\n",
    "del bitcoin['Date']\n",
    "\n",
    "# check dataset now\n",
    "print(bitcoin)"
   ]
  },
  {
   "cell_type": "markdown",
   "metadata": {},
   "source": [
    "This transformation will shift the values to a range between 0 and 1 for each column. "
   ]
  },
  {
   "cell_type": "code",
   "execution_count": 52,
   "metadata": {},
   "outputs": [
    {
     "name": "stdout",
     "output_type": "stream",
     "text": [
      "         Open      High       Low     Close  Adj Close    Volume\n",
      "0    0.000000  0.000000  0.000000  0.000000   0.000000  0.068801\n",
      "1    0.000638  0.004016  0.000281  0.004759   0.004759  0.070934\n",
      "2    0.005493  0.009711  0.004140  0.009841   0.009841  0.103523\n",
      "3    0.010577  0.011736  0.010724  0.012585   0.012585  0.074775\n",
      "4    0.013220  0.013055  0.012844  0.012969   0.012969  0.069224\n",
      "..        ...       ...       ...       ...        ...       ...\n",
      "361  0.961961  0.955629  0.967307  0.947131   0.947131  0.153570\n",
      "362  0.947145  0.929170  0.828756  0.867923   0.867923  0.244820\n",
      "363  0.867254  0.865348  0.858543  0.859522   0.859522  0.151496\n",
      "364       NaN       NaN       NaN       NaN        NaN       NaN\n",
      "365  0.883922  0.861901  0.903027  0.883716   0.883716  0.158744\n",
      "\n",
      "[366 rows x 6 columns]\n"
     ]
    }
   ],
   "source": [
    "# assign bitcoin dataset to df\n",
    "df = bitcoin\n",
    "\n",
    "# convert entries to float type\n",
    "x = df.values.astype(float)\n",
    "\n",
    "# define min max scaler\n",
    "min_max_scaler = preprocessing.MinMaxScaler()\n",
    "\n",
    "# transform data\n",
    "x_scaled = min_max_scaler.fit_transform(x)\n",
    "\n",
    "# \n",
    "df = pd.DataFrame(x_scaled, columns=df.columns)\n",
    "print(df)"
   ]
  },
  {
   "cell_type": "markdown",
   "metadata": {},
   "source": [
    "## Price Frequency Distributions and Data Dispersion\n",
    "\n",
    "Taking a look at the frequency distributions of the different prices can tell me about their distributions about the average.\n",
    "\n",
    "First I have decided to look at the price distributions over time or by Date, before looking at overall statistics and visualizing them.\n",
    "\n",
    "I know that earlier in the year there were a large number of cumulative values within the ten to twenty thousand dollar range. The extra weighting given to these observations have obviously caused a fairly low mean value of approximately thirty thousand dollars, but the cryptocurrency finished up at 71.5 thousand dollars by April 2021. The overall range of price values has been divided into 20 separate bins for some clarity, so I can view the frequency or number of daily prices that fall within each interval category price range or bin."
   ]
  },
  {
   "cell_type": "code",
   "execution_count": 94,
   "metadata": {},
   "outputs": [
    {
     "data": {
      "text/plain": [
       "Text(0, 0.5, 'Count')"
      ]
     },
     "execution_count": 94,
     "metadata": {},
     "output_type": "execute_result"
    },
    {
     "data": {
      "image/png": "[encoded data removed]",
      "text/plain": [
       "<Figure size 720x432 with 1 Axes>"
      ]
     },
     "metadata": {},
     "output_type": "display_data"
    }
   ],
   "source": [
    "import matplotlib.pyplot as plt\n",
    "%matplotlib inline\n",
    "from matplotlib import style\n",
    "import seaborn as sns\n",
    "\n",
    "# create style\n",
    "style.use(\"seaborn-darkgrid\")\n",
    "\n",
    "# set width and height\n",
    "plt.figure(figsize=(10,6))\n",
    "\n",
    "# Add a title\n",
    "plt.title(\"Histogram of 'Close' Prices\")\n",
    "\n",
    "# Show the average daily closing price\n",
    "sns.histplot(data=btc_cad, x=btc_cad['Close'], bins=20, color='darkturquoise')\n",
    "\n",
    "# Add labels for both axes\n",
    "plt.xlabel('Close Price')\n",
    "plt.ylabel('Count')"
   ]
  },
  {
   "cell_type": "markdown",
   "metadata": {},
   "source": [
    "Storing these values in a dataframe series and applying the mean method requires a few steps."
   ]
  },
  {
   "cell_type": "code",
   "execution_count": 89,
   "metadata": {},
   "outputs": [
    {
     "name": "stdout",
     "output_type": "stream",
     "text": [
      "        Close\n",
      "0     9763.94\n",
      "1    10096.28\n",
      "2    10451.16\n",
      "3    10642.81\n",
      "4    10669.64\n",
      "..        ...\n",
      "360  77018.32\n",
      "361  75906.36\n",
      "362  70374.91\n",
      "363  69788.23\n",
      "365  71477.76\n",
      "\n",
      "[362 rows x 1 columns]\n",
      "<class 'pandas.core.frame.DataFrame'>\n"
     ]
    }
   ],
   "source": [
    "# create filepath for dataset\n",
    "btc_cad_path = os.path.join(\"C:/Users/lynst/Documents/GitHub/machine-learning-projects/machine-learning/BTC_CAD.csv\")\n",
    "\n",
    "# create a dataframe with a single column and store it in a dictionary\n",
    "data = {'Open': btc_cad['Open'],\n",
    "        'High': btc_cad['High'],\n",
    "        'Low': btc_cad['Low'],\n",
    "        'Close': btc_cad['Close']}\n",
    "df = pd.DataFrame(data, columns = ['Close'])\n",
    "\n",
    "print(df)\n",
    "print (type(df))"
   ]
  },
  {
   "cell_type": "markdown",
   "metadata": {},
   "source": [
    "Next, converting the DataFrame column to a Series using the squeeze() method:"
   ]
  },
  {
   "cell_type": "code",
   "execution_count": 90,
   "metadata": {},
   "outputs": [
    {
     "name": "stdout",
     "output_type": "stream",
     "text": [
      "0       9763.94\n",
      "1      10096.28\n",
      "2      10451.16\n",
      "3      10642.81\n",
      "4      10669.64\n",
      "         ...   \n",
      "360    77018.32\n",
      "361    75906.36\n",
      "362    70374.91\n",
      "363    69788.23\n",
      "365    71477.76\n",
      "Name: Close, Length: 362, dtype: float64\n",
      "<class 'pandas.core.series.Series'>\n"
     ]
    }
   ],
   "source": [
    "close_series = df['Close'].squeeze()\n",
    "\n",
    "print(close_series)\n",
    "print (type(close_series))"
   ]
  },
  {
   "cell_type": "markdown",
   "metadata": {},
   "source": [
    "So, now the 'dataframe' column has been converted to a 'series' data type, I aim to find the mean of the values for 'Close' prices over the period in question and display them as a frequency distribution."
   ]
  },
  {
   "cell_type": "code",
   "execution_count": 99,
   "metadata": {},
   "outputs": [
    {
     "name": "stdout",
     "output_type": "stream",
     "text": [
      "29864.750828729273\n"
     ]
    },
    {
     "name": "stderr",
     "output_type": "stream",
     "text": [
      "C:\\Users\\lynst\\anaconda3\\lib\\site-packages\\seaborn\\distributions.py:2557: FutureWarning: `distplot` is a deprecated function and will be removed in a future version. Please adapt your code to use either `displot` (a figure-level function with similar flexibility) or `histplot` (an axes-level function for histograms).\n",
      "  warnings.warn(msg, FutureWarning)\n"
     ]
    },
    {
     "data": {
      "image/png": "[encoded data removed]",
      "text/plain": [
       "<Figure size 720x432 with 1 Axes>"
      ]
     },
     "metadata": {},
     "output_type": "display_data"
    }
   ],
   "source": [
    "# create style\n",
    "style.use(\"ggplot\")\n",
    "\n",
    "# print the mean value\n",
    "print(close_series.mean())\n",
    "\n",
    "# configure the plot size\n",
    "plt.figure(figsize=(10,6))\n",
    "\n",
    "# create a title\n",
    "plt.title(\"Frequency Distribution of Mean 'Close' Prices\")\n",
    "\n",
    "# plot the series\n",
    "close_plot = sns.distplot(close_series, bins=20, color='coral')"
   ]
  },
  {
   "cell_type": "markdown",
   "metadata": {},
   "source": [
    "The mean value is to the right of the peak on the frequency curve with a long tail containing values toward C$90,000 which exhibits positive skewness. "
   ]
  },
  {
   "cell_type": "code",
   "execution_count": 52,
   "metadata": {},
   "outputs": [
    {
     "name": "stdout",
     "output_type": "stream",
     "text": [
      "29707.21922651934\n",
      "30555.67538674034\n",
      "28874.21400552486\n",
      "53649375969.85083\n"
     ]
    }
   ],
   "source": [
    "# repeating the step to convert from each dataframe column to series\n",
    "data = {'Open': btc_cad['Open'],\n",
    "        'High': btc_cad['High'],\n",
    "        'Low': btc_cad['Low'],\n",
    "        'Close': btc_cad['Close'],\n",
    "        'Volume': btc_cad['Volume']}\n",
    "\n",
    "df = pd.DataFrame(data, columns = ['Open'])\n",
    "open_series = df['Open'].squeeze()\n",
    "\n",
    "df = pd.DataFrame(data, columns = ['High'])\n",
    "high_series = df['High'].squeeze()\n",
    "\n",
    "df = pd.DataFrame(data, columns = ['Low'])\n",
    "low_series = df['Low'].squeeze()\n",
    "\n",
    "df = pd.DataFrame(data, columns = ['Volume'])\n",
    "vol_series = df['Volume'].squeeze()\n",
    "\n",
    "# printing the mean value for each feature\n",
    "print(open_series.mean())\n",
    "print(high_series.mean())\n",
    "print(low_series.mean())\n",
    "print(vol_series.mean())"
   ]
  },
  {
   "cell_type": "code",
   "execution_count": null,
   "metadata": {},
   "outputs": [],
   "source": []
  },
  {
   "cell_type": "code",
   "execution_count": null,
   "metadata": {},
   "outputs": [],
   "source": []
  },
  {
   "cell_type": "code",
   "execution_count": null,
   "metadata": {},
   "outputs": [],
   "source": []
  },
  {
   "cell_type": "code",
   "execution_count": 63,
   "metadata": {},
   "outputs": [
    {
     "data": {
      "text/plain": [
       "Text(0, 0.5, 'Count')"
      ]
     },
     "execution_count": 63,
     "metadata": {},
     "output_type": "execute_result"
    },
    {
     "data": {
      "image/png": "[encoded data removed]",
      "text/plain": [
       "<Figure size 720x432 with 1 Axes>"
      ]
     },
     "metadata": {
      "needs_background": "light"
     },
     "output_type": "display_data"
    }
   ],
   "source": [
    "# set width and height\n",
    "plt.figure(figsize=(10,6))\n",
    "\n",
    "# Add a title\n",
    "plt.title(\"Frequency Distribution of 'High' Prices\")\n",
    "\n",
    "# Show the average daily high price\n",
    "sns.histplot(data=btc_cad, x=btc_cad['High'], bins=20, color='red')\n",
    "\n",
    "# Add labels for both axes\n",
    "plt.xlabel('High Price')\n",
    "plt.ylabel('Count')"
   ]
  },
  {
   "cell_type": "code",
   "execution_count": 65,
   "metadata": {},
   "outputs": [
    {
     "data": {
      "text/plain": [
       "Text(0, 0.5, 'Count')"
      ]
     },
     "execution_count": 65,
     "metadata": {},
     "output_type": "execute_result"
    },
    {
     "data": {
      "image/png": "[encoded data removed]",
      "text/plain": [
       "<Figure size 720x432 with 1 Axes>"
      ]
     },
     "metadata": {
      "needs_background": "light"
     },
     "output_type": "display_data"
    }
   ],
   "source": [
    "# set width and height\n",
    "plt.figure(figsize=(10,6))\n",
    "\n",
    "# Add a title\n",
    "plt.title(\"Frequency Distribution of 'Low' Prices\")\n",
    "\n",
    "# Show the average daily low price\n",
    "sns.histplot(data=btc_cad, x=btc_cad['Low'], bins=20, color='limegreen')\n",
    "\n",
    "# Add labels for both axes\n",
    "plt.xlabel('Low Price')\n",
    "plt.ylabel('Count')"
   ]
  },
  {
   "cell_type": "code",
   "execution_count": 68,
   "metadata": {},
   "outputs": [
    {
     "data": {
      "text/plain": [
       "Text(0, 0.5, 'Count')"
      ]
     },
     "execution_count": 68,
     "metadata": {},
     "output_type": "execute_result"
    },
    {
     "data": {
      "image/png": "[encoded data removed]",
      "text/plain": [
       "<Figure size 720x432 with 1 Axes>"
      ]
     },
     "metadata": {
      "needs_background": "light"
     },
     "output_type": "display_data"
    }
   ],
   "source": [
    "# set width and height\n",
    "plt.figure(figsize=(10,6))\n",
    "\n",
    "# Add a title\n",
    "plt.title(\"Frequency Distribution of Daily Volume\")\n",
    "\n",
    "# Show the average daily volume\n",
    "sns.histplot(data=btc_cad, x=btc_cad['Volume'], bins=20, color='turquoise')\n",
    "\n",
    "# Add labels for both axes\n",
    "plt.xlabel('Vol')\n",
    "plt.ylabel('Count')"
   ]
  },
  {
   "cell_type": "code",
   "execution_count": 100,
   "metadata": {},
   "outputs": [
    {
     "ename": "KeyError",
     "evalue": "'Date'",
     "output_type": "error",
     "traceback": [
      "\u001b[1;31m---------------------------------------------------------------------------\u001b[0m",
      "\u001b[1;31mKeyError\u001b[0m                                  Traceback (most recent call last)",
      "\u001b[1;32m~\\anaconda3\\lib\\site-packages\\pandas\\core\\indexes\\base.py\u001b[0m in \u001b[0;36mget_loc\u001b[1;34m(self, key, method, tolerance)\u001b[0m\n\u001b[0;32m   3079\u001b[0m             \u001b[1;32mtry\u001b[0m\u001b[1;33m:\u001b[0m\u001b[1;33m\u001b[0m\u001b[1;33m\u001b[0m\u001b[0m\n\u001b[1;32m-> 3080\u001b[1;33m                 \u001b[1;32mreturn\u001b[0m \u001b[0mself\u001b[0m\u001b[1;33m.\u001b[0m\u001b[0m_engine\u001b[0m\u001b[1;33m.\u001b[0m\u001b[0mget_loc\u001b[0m\u001b[1;33m(\u001b[0m\u001b[0mcasted_key\u001b[0m\u001b[1;33m)\u001b[0m\u001b[1;33m\u001b[0m\u001b[1;33m\u001b[0m\u001b[0m\n\u001b[0m\u001b[0;32m   3081\u001b[0m             \u001b[1;32mexcept\u001b[0m \u001b[0mKeyError\u001b[0m \u001b[1;32mas\u001b[0m \u001b[0merr\u001b[0m\u001b[1;33m:\u001b[0m\u001b[1;33m\u001b[0m\u001b[1;33m\u001b[0m\u001b[0m\n",
      "\u001b[1;32mpandas\\_libs\\index.pyx\u001b[0m in \u001b[0;36mpandas._libs.index.IndexEngine.get_loc\u001b[1;34m()\u001b[0m\n",
      "\u001b[1;32mpandas\\_libs\\index.pyx\u001b[0m in \u001b[0;36mpandas._libs.index.IndexEngine.get_loc\u001b[1;34m()\u001b[0m\n",
      "\u001b[1;32mpandas\\_libs\\hashtable_class_helper.pxi\u001b[0m in \u001b[0;36mpandas._libs.hashtable.PyObjectHashTable.get_item\u001b[1;34m()\u001b[0m\n",
      "\u001b[1;32mpandas\\_libs\\hashtable_class_helper.pxi\u001b[0m in \u001b[0;36mpandas._libs.hashtable.PyObjectHashTable.get_item\u001b[1;34m()\u001b[0m\n",
      "\u001b[1;31mKeyError\u001b[0m: 'Date'",
      "\nThe above exception was the direct cause of the following exception:\n",
      "\u001b[1;31mKeyError\u001b[0m                                  Traceback (most recent call last)",
      "\u001b[1;32m<ipython-input-100-4173ff1946b2>\u001b[0m in \u001b[0;36m<module>\u001b[1;34m\u001b[0m\n\u001b[0;32m      4\u001b[0m \u001b[0max\u001b[0m \u001b[1;33m=\u001b[0m \u001b[0mfig\u001b[0m\u001b[1;33m.\u001b[0m\u001b[0madd_subplot\u001b[0m\u001b[1;33m(\u001b[0m\u001b[1;36m111\u001b[0m\u001b[1;33m,\u001b[0m \u001b[0mprojection\u001b[0m\u001b[1;33m=\u001b[0m\u001b[1;34m'3d'\u001b[0m\u001b[1;33m)\u001b[0m\u001b[1;33m\u001b[0m\u001b[1;33m\u001b[0m\u001b[0m\n\u001b[0;32m      5\u001b[0m \u001b[1;33m\u001b[0m\u001b[0m\n\u001b[1;32m----> 6\u001b[1;33m ax.scatter(df['Date'],\n\u001b[0m\u001b[0;32m      7\u001b[0m     \u001b[0mdf\u001b[0m\u001b[1;33m[\u001b[0m\u001b[1;34m'Low'\u001b[0m\u001b[1;33m]\u001b[0m\u001b[1;33m,\u001b[0m\u001b[1;33m\u001b[0m\u001b[1;33m\u001b[0m\u001b[0m\n\u001b[0;32m      8\u001b[0m     \u001b[0mdf\u001b[0m\u001b[1;33m[\u001b[0m\u001b[1;34m'Close'\u001b[0m\u001b[1;33m]\u001b[0m\u001b[1;33m,\u001b[0m\u001b[1;33m\u001b[0m\u001b[1;33m\u001b[0m\u001b[0m\n",
      "\u001b[1;32m~\\anaconda3\\lib\\site-packages\\pandas\\core\\frame.py\u001b[0m in \u001b[0;36m__getitem__\u001b[1;34m(self, key)\u001b[0m\n\u001b[0;32m   3022\u001b[0m             \u001b[1;32mif\u001b[0m \u001b[0mself\u001b[0m\u001b[1;33m.\u001b[0m\u001b[0mcolumns\u001b[0m\u001b[1;33m.\u001b[0m\u001b[0mnlevels\u001b[0m \u001b[1;33m>\u001b[0m \u001b[1;36m1\u001b[0m\u001b[1;33m:\u001b[0m\u001b[1;33m\u001b[0m\u001b[1;33m\u001b[0m\u001b[0m\n\u001b[0;32m   3023\u001b[0m                 \u001b[1;32mreturn\u001b[0m \u001b[0mself\u001b[0m\u001b[1;33m.\u001b[0m\u001b[0m_getitem_multilevel\u001b[0m\u001b[1;33m(\u001b[0m\u001b[0mkey\u001b[0m\u001b[1;33m)\u001b[0m\u001b[1;33m\u001b[0m\u001b[1;33m\u001b[0m\u001b[0m\n\u001b[1;32m-> 3024\u001b[1;33m             \u001b[0mindexer\u001b[0m \u001b[1;33m=\u001b[0m \u001b[0mself\u001b[0m\u001b[1;33m.\u001b[0m\u001b[0mcolumns\u001b[0m\u001b[1;33m.\u001b[0m\u001b[0mget_loc\u001b[0m\u001b[1;33m(\u001b[0m\u001b[0mkey\u001b[0m\u001b[1;33m)\u001b[0m\u001b[1;33m\u001b[0m\u001b[1;33m\u001b[0m\u001b[0m\n\u001b[0m\u001b[0;32m   3025\u001b[0m             \u001b[1;32mif\u001b[0m \u001b[0mis_integer\u001b[0m\u001b[1;33m(\u001b[0m\u001b[0mindexer\u001b[0m\u001b[1;33m)\u001b[0m\u001b[1;33m:\u001b[0m\u001b[1;33m\u001b[0m\u001b[1;33m\u001b[0m\u001b[0m\n\u001b[0;32m   3026\u001b[0m                 \u001b[0mindexer\u001b[0m \u001b[1;33m=\u001b[0m \u001b[1;33m[\u001b[0m\u001b[0mindexer\u001b[0m\u001b[1;33m]\u001b[0m\u001b[1;33m\u001b[0m\u001b[1;33m\u001b[0m\u001b[0m\n",
      "\u001b[1;32m~\\anaconda3\\lib\\site-packages\\pandas\\core\\indexes\\base.py\u001b[0m in \u001b[0;36mget_loc\u001b[1;34m(self, key, method, tolerance)\u001b[0m\n\u001b[0;32m   3080\u001b[0m                 \u001b[1;32mreturn\u001b[0m \u001b[0mself\u001b[0m\u001b[1;33m.\u001b[0m\u001b[0m_engine\u001b[0m\u001b[1;33m.\u001b[0m\u001b[0mget_loc\u001b[0m\u001b[1;33m(\u001b[0m\u001b[0mcasted_key\u001b[0m\u001b[1;33m)\u001b[0m\u001b[1;33m\u001b[0m\u001b[1;33m\u001b[0m\u001b[0m\n\u001b[0;32m   3081\u001b[0m             \u001b[1;32mexcept\u001b[0m \u001b[0mKeyError\u001b[0m \u001b[1;32mas\u001b[0m \u001b[0merr\u001b[0m\u001b[1;33m:\u001b[0m\u001b[1;33m\u001b[0m\u001b[1;33m\u001b[0m\u001b[0m\n\u001b[1;32m-> 3082\u001b[1;33m                 \u001b[1;32mraise\u001b[0m \u001b[0mKeyError\u001b[0m\u001b[1;33m(\u001b[0m\u001b[0mkey\u001b[0m\u001b[1;33m)\u001b[0m \u001b[1;32mfrom\u001b[0m \u001b[0merr\u001b[0m\u001b[1;33m\u001b[0m\u001b[1;33m\u001b[0m\u001b[0m\n\u001b[0m\u001b[0;32m   3083\u001b[0m \u001b[1;33m\u001b[0m\u001b[0m\n\u001b[0;32m   3084\u001b[0m         \u001b[1;32mif\u001b[0m \u001b[0mtolerance\u001b[0m \u001b[1;32mis\u001b[0m \u001b[1;32mnot\u001b[0m \u001b[1;32mNone\u001b[0m\u001b[1;33m:\u001b[0m\u001b[1;33m\u001b[0m\u001b[1;33m\u001b[0m\u001b[0m\n",
      "\u001b[1;31mKeyError\u001b[0m: 'Date'"
     ]
    },
    {
     "data": {
      "image/png": "[encoded data removed]",
      "text/plain": [
       "<Figure size 1296x1080 with 1 Axes>"
      ]
     },
     "metadata": {
      "needs_background": "light"
     },
     "output_type": "display_data"
    }
   ],
   "source": [
    "%matplotlib inline\n",
    "from mpl_toolkits.mplot3d import Axes3D\n",
    "fig = plt.figure(figsize=(18,15))\n",
    "ax = fig.add_subplot(111, projection='3d')\n",
    "\n",
    "ax.scatter(df['Date'],\n",
    "    df['Low'],\n",
    "    df['Close'],\n",
    "    c='r')\n",
    "\n",
    "ax.set_xlabel(\"Date\")\n",
    "ax.set_ylabel(\"Low\")\n",
    "ax.set_zlabel(\"Close\")\n",
    "plt.show()"
   ]
  },
  {
   "cell_type": "markdown",
   "metadata": {},
   "source": [
    "### Mean Prices\n",
    "Taking a look at some other characteristics of the data, starting with frequency distributions of the mean closing price."
   ]
  },
  {
   "cell_type": "code",
   "execution_count": null,
   "metadata": {},
   "outputs": [],
   "source": []
  },
  {
   "cell_type": "markdown",
   "metadata": {},
   "source": [
    "### Creating Buckets\n",
    "Dividing the values for each type of price into different interval ranges for every C$10,000 mark will help when creating histograms and frequency distributions."
   ]
  },
  {
   "cell_type": "markdown",
   "metadata": {},
   "source": [
    "If the mean of the daily 'Open' price = C$29,707.22, then I can find out how many values are above or below the average."
   ]
  },
  {
   "cell_type": "code",
   "execution_count": null,
   "metadata": {},
   "outputs": [],
   "source": [
    "bitcoin['Open'].loc[bitcoin['Open'] > 29707.22]"
   ]
  },
  {
   "cell_type": "markdown",
   "metadata": {},
   "source": [
    "So there are 121 values greater than the mean daily opening price. Calculating this as a percentage of the total number of observations gives:"
   ]
  },
  {
   "cell_type": "code",
   "execution_count": null,
   "metadata": {},
   "outputs": [],
   "source": [
    "(121 / 162) * 100"
   ]
  },
  {
   "cell_type": "markdown",
   "metadata": {},
   "source": [
    "The mean of the daily 'High' price is C$30,555.68."
   ]
  },
  {
   "cell_type": "code",
   "execution_count": null,
   "metadata": {},
   "outputs": [],
   "source": [
    "bitcoin['High'].loc[bitcoin['High'] > 30555.68]"
   ]
  },
  {
   "cell_type": "markdown",
   "metadata": {},
   "source": [
    "Or, in percentage terms gives 76%"
   ]
  },
  {
   "cell_type": "code",
   "execution_count": null,
   "metadata": {},
   "outputs": [],
   "source": [
    "(123 / 162) * 100"
   ]
  },
  {
   "cell_type": "markdown",
   "metadata": {},
   "source": [
    "Now for the mean of the daily 'Low' price which is C$28,874.21."
   ]
  },
  {
   "cell_type": "code",
   "execution_count": null,
   "metadata": {},
   "outputs": [],
   "source": [
    "bitcoin['Low'].loc[bitcoin['Low'] > 28874.21]"
   ]
  },
  {
   "cell_type": "code",
   "execution_count": null,
   "metadata": {},
   "outputs": [],
   "source": [
    "(122 / 162) * 100"
   ]
  },
  {
   "cell_type": "markdown",
   "metadata": {},
   "source": [
    "And finally the mean for the daily 'Close' price is C$29,864.75."
   ]
  },
  {
   "cell_type": "code",
   "execution_count": null,
   "metadata": {},
   "outputs": [],
   "source": [
    "bitcoin['Close'].loc[bitcoin['Close'] > 29864.75]"
   ]
  },
  {
   "cell_type": "code",
   "execution_count": null,
   "metadata": {},
   "outputs": [],
   "source": [
    "(121 / 162) * 100"
   ]
  },
  {
   "cell_type": "markdown",
   "metadata": {},
   "source": [
    "I can tell for all of these price categories that roughly 75% of the values lie above the mean which should indicate their frequency distributions are positively skewed."
   ]
  },
  {
   "cell_type": "code",
   "execution_count": null,
   "metadata": {},
   "outputs": [],
   "source": [
    "from collections import Counter\n",
    "\n",
    "bins = create_bins(lower_bound=0,\n",
    "                   width=10000,\n",
    "                   quantity=7)\n",
    "\n",
    "print(bins)\n",
    "\n",
    "open_price = bitcoin['Open']\n",
    "\n",
    "binned_open_price = []\n",
    "\n",
    "for value in open_price:\n",
    "    bin_index = find_bin(value, bins)\n",
    "    print(value, bin_index, bins[bin_index])\n",
    "    binned_open_price.append(bin_index)\n",
    "    \n",
    "frequencies = Counter(binned_open_price)\n",
    "print(frequencies)"
   ]
  },
  {
   "cell_type": "code",
   "execution_count": null,
   "metadata": {},
   "outputs": [],
   "source": [
    "open_price = bitcoin['Open']\n",
    "bins2 = pd.IntervalIndex.from_tuples(bins)\n",
    "categorical_object = pd.cut(open_price, bins2)\n",
    "print(categorical_object)"
   ]
  },
  {
   "cell_type": "code",
   "execution_count": null,
   "metadata": {},
   "outputs": [],
   "source": [
    "bins2 = pd.IntervalIndex.from_tuples(bins, closed=\"left\")\n",
    "categorical_object = pd.cut(open_price, bins2)\n",
    "print(categorical_object)"
   ]
  },
  {
   "cell_type": "markdown",
   "metadata": {},
   "source": [
    "Next I want to split the data into predictors and a target variable, containing all my feature columns in one table variable and the target variable in a column vector. The prediction target can be assigned as follows:"
   ]
  },
  {
   "cell_type": "code",
   "execution_count": null,
   "metadata": {},
   "outputs": [],
   "source": [
    "y = bitcoin.Close"
   ]
  },
  {
   "cell_type": "markdown",
   "metadata": {},
   "source": [
    "The features are a selection of columns used to predict 'y', including"
   ]
  },
  {
   "cell_type": "code",
   "execution_count": null,
   "metadata": {},
   "outputs": [],
   "source": [
    "bitcoin_features = ['Date','Open','High','Low','Volume']"
   ]
  },
  {
   "cell_type": "code",
   "execution_count": null,
   "metadata": {},
   "outputs": [],
   "source": [
    "X = bitcoin[bitcoin_features]"
   ]
  },
  {
   "cell_type": "markdown",
   "metadata": {},
   "source": [
    "So currently I can determine that Bitcoin was trading well below the mean (12 months ago) and more recently it's trading at roughly 130% above the mean for the last 12 month period. \n",
    "\n",
    "Time for some interval analysis where I will attempt to place OHLC values in different interval buckets based on the number of counts, but first I need to create a plot."
   ]
  },
  {
   "cell_type": "markdown",
   "metadata": {},
   "source": []
  },
  {
   "cell_type": "code",
   "execution_count": null,
   "metadata": {},
   "outputs": [],
   "source": [
    "y.describe()"
   ]
  },
  {
   "cell_type": "code",
   "execution_count": null,
   "metadata": {},
   "outputs": [],
   "source": [
    "y.mean()"
   ]
  },
  {
   "cell_type": "code",
   "execution_count": null,
   "metadata": {},
   "outputs": [],
   "source": [
    "y.std()"
   ]
  },
  {
   "cell_type": "code",
   "execution_count": null,
   "metadata": {},
   "outputs": [],
   "source": [
    "X.describe()"
   ]
  },
  {
   "cell_type": "code",
   "execution_count": null,
   "metadata": {},
   "outputs": [],
   "source": [
    "X.mean()"
   ]
  },
  {
   "cell_type": "code",
   "execution_count": null,
   "metadata": {},
   "outputs": [],
   "source": [
    "X.std()"
   ]
  },
  {
   "cell_type": "code",
   "execution_count": null,
   "metadata": {},
   "outputs": [],
   "source": []
  }
 ],
 "metadata": {
  "kernelspec": {
   "display_name": "Python 3",
   "language": "python",
   "name": "python3"
  },
  "language_info": {
   "codemirror_mode": {
    "name": "ipython",
    "version": 3
   },
   "file_extension": ".py",
   "mimetype": "text/x-python",
   "name": "python",
   "nbconvert_exporter": "python",
   "pygments_lexer": "ipython3",
   "version": "3.8.8"
  }
 },
 "nbformat": 4,
 "nbformat_minor": 4
}
