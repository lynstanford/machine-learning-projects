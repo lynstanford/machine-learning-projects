{
 "cells": [
  {
   "cell_type": "markdown",
   "metadata": {},
   "source": [
    "# Multiple Linear Regression of Cryptocurrency\n",
    "\n",
    "The following model I have developed to demonstrate how to extract, transform and load data and build a pipeline based on a Multiple Regression problem. I aim to forecast Bitcoin (C$) prices by extrapolating historical data, training, validating and testing the model before evaluating its accuracy using a benchmark score.\n",
    "\n",
    "I am looking to predict the closing price (dependent variable) based on its relationship with other intraday price and volume information (independent variables).\n",
    "\n",
    "## Performance Measure Selection\n",
    "For the purpose of a multiple regression I am selecting the Root Mean Square Error (RMSE) to measure the overall degree of error when making model my predictions. "
   ]
  },
  {
   "cell_type": "markdown",
   "metadata": {},
   "source": [
    "$$ RMSE(X,h) = \\sqrt {\\frac{1}{m} \\sum_{i=1}^{m}(h(x^ {i})-y^ {i})^2} $$"
   ]
  },
  {
   "cell_type": "code",
   "execution_count": 1,
   "metadata": {},
   "outputs": [],
   "source": [
    "import pandas as pd\n",
    "import os\n",
    "import tarfile\n",
    "import urllib\n",
    "\n",
    "DOWNLOAD_URL = \"https://ca.finance.yahoo.com/quote/BTC-CAD/history?p=BTC-CAD\"\n",
    "BITCOIN_PATH = os.path.join(\"C:/Users/lynst/Documents/GitHub/machine-learning-projects/machine-learning/BTC_CAD.csv\")\n",
    "BITCOIN_URL = DOWNLOAD_URL + \"C:/Users/lynst/Documents/GitHub/machine-learning-projects/machine-learning/BTC_CAD.csv\"\n",
    "\n",
    "def fetch_bitcoin_data(bitcoin_url=BITCOIN_URL, bitcoin_path=BITCOIN_PATH):\n",
    "    os.makedirs(bitcoin_path, exist_ok=True)\n",
    "    tgz_path = os.path.join(bitcoin_path)\n",
    "    urllib.request.urlretrieve(bitcoin_url, tgz_path)\n",
    "    bitcoin_tgz = tarfile.open(tgz_path)\n",
    "    bitcoin_tgz.extract_all(path=bitcoin_path)\n",
    "    bitcoin_tgz.close()\n",
    "    \n",
    "def load_bitcoin_data(bitcoin_path=BITCOIN_PATH):\n",
    "    csv_path = os.path.join(bitcoin_path)\n",
    "    return pd.read_csv(csv_path)"
   ]
  },
  {
   "cell_type": "markdown",
   "metadata": {},
   "source": [
    "Start by loading the Canadian denominated Bitcoin data below."
   ]
  },
  {
   "cell_type": "code",
   "execution_count": 2,
   "metadata": {},
   "outputs": [],
   "source": [
    "btc_cad = load_bitcoin_data()"
   ]
  },
  {
   "cell_type": "markdown",
   "metadata": {},
   "source": [
    "Each column represents a different feature, for example 'High', 'Low' and 'Close' prices are all features. These features are also known as attributes, input, or predictor variables which can be used to ascertain a stock price prediction (called labels, output, or target variables)."
   ]
  },
  {
   "cell_type": "code",
   "execution_count": 3,
   "metadata": {},
   "outputs": [
    {
     "name": "stdout",
     "output_type": "stream",
     "text": [
      "<class 'pandas.core.frame.DataFrame'>\n",
      "RangeIndex: 366 entries, 0 to 365\n",
      "Data columns (total 7 columns):\n",
      " #   Column     Non-Null Count  Dtype  \n",
      "---  ------     --------------  -----  \n",
      " 0   Date       366 non-null    object \n",
      " 1   Open       362 non-null    float64\n",
      " 2   High       362 non-null    float64\n",
      " 3   Low        362 non-null    float64\n",
      " 4   Close      362 non-null    float64\n",
      " 5   Adj Close  362 non-null    float64\n",
      " 6   Volume     362 non-null    float64\n",
      "dtypes: float64(6), object(1)\n",
      "memory usage: 20.1+ KB\n",
      "None\n"
     ]
    }
   ],
   "source": [
    "# get stock info\n",
    "print(btc_cad.info())"
   ]
  },
  {
   "cell_type": "markdown",
   "metadata": {},
   "source": [
    "The following method gives a breakdown of the first and last entries in the dataset."
   ]
  },
  {
   "cell_type": "code",
   "execution_count": 4,
   "metadata": {},
   "outputs": [
    {
     "data": {
      "text/plain": [
       "<bound method DataFrame.info of            Date          Open          High           Low         Close  \\\n",
       "0    2020-04-21   9718.074219   9838.333008   9728.248047   9763.935547   \n",
       "1    2020-04-22   9762.682617  10125.870120   9747.394531  10096.278320   \n",
       "2    2020-04-23  10102.092770  10533.734380  10009.763670  10451.163090   \n",
       "3    2020-04-24  10457.432620  10678.707030  10457.432620  10642.806640   \n",
       "4    2020-04-25  10642.216800  10773.176760  10601.609380  10669.635740   \n",
       "..          ...           ...           ...           ...           ...   \n",
       "361  2021-04-17  76964.703130  78268.406250  75503.000000  75906.359380   \n",
       "362  2021-04-18  75928.953130  76373.718750  66081.828130  70374.906250   \n",
       "363  2021-04-19  70344.109380  71803.609380  68107.265630  69788.234380   \n",
       "364  2021-04-20           NaN           NaN           NaN           NaN   \n",
       "365  2021-04-21  71509.304690  71556.757810  71132.078130  71477.757810   \n",
       "\n",
       "        Adj Close        Volume  \n",
       "0     9763.935547  4.624843e+10  \n",
       "1    10096.278320  4.716635e+10  \n",
       "2    10451.163090  6.119120e+10  \n",
       "3    10642.806640  4.881932e+10  \n",
       "4    10669.635740  4.643028e+10  \n",
       "..            ...           ...  \n",
       "361  75906.359380  8.272967e+10  \n",
       "362  70374.906250  1.220000e+11  \n",
       "363  69788.234380  8.183693e+10  \n",
       "364           NaN           NaN  \n",
       "365  71477.757810  8.495634e+10  \n",
       "\n",
       "[366 rows x 7 columns]>"
      ]
     },
     "execution_count": 4,
     "metadata": {},
     "output_type": "execute_result"
    }
   ],
   "source": [
    "btc_cad.info"
   ]
  },
  {
   "cell_type": "markdown",
   "metadata": {},
   "source": [
    "Using the describe() method to view summary statistics helps define the average values or range of data involved in this dataset, as well as a measure of dispersion about its mean."
   ]
  },
  {
   "cell_type": "code",
   "execution_count": 5,
   "metadata": {},
   "outputs": [
    {
     "data": {
      "text/html": [
       "<div>\n",
       "<style scoped>\n",
       "    .dataframe tbody tr th:only-of-type {\n",
       "        vertical-align: middle;\n",
       "    }\n",
       "\n",
       "    .dataframe tbody tr th {\n",
       "        vertical-align: top;\n",
       "    }\n",
       "\n",
       "    .dataframe thead th {\n",
       "        text-align: right;\n",
       "    }\n",
       "</style>\n",
       "<table border=\"1\" class=\"dataframe\">\n",
       "  <thead>\n",
       "    <tr style=\"text-align: right;\">\n",
       "      <th></th>\n",
       "      <th>Open</th>\n",
       "      <th>High</th>\n",
       "      <th>Low</th>\n",
       "      <th>Close</th>\n",
       "      <th>Adj Close</th>\n",
       "      <th>Volume</th>\n",
       "    </tr>\n",
       "  </thead>\n",
       "  <tbody>\n",
       "    <tr>\n",
       "      <th>count</th>\n",
       "      <td>362.000000</td>\n",
       "      <td>362.000000</td>\n",
       "      <td>362.000000</td>\n",
       "      <td>362.000000</td>\n",
       "      <td>362.000000</td>\n",
       "      <td>3.620000e+02</td>\n",
       "    </tr>\n",
       "    <tr>\n",
       "      <th>mean</th>\n",
       "      <td>29707.219509</td>\n",
       "      <td>30555.675634</td>\n",
       "      <td>28874.214073</td>\n",
       "      <td>29864.750594</td>\n",
       "      <td>29864.750594</td>\n",
       "      <td>5.364938e+10</td>\n",
       "    </tr>\n",
       "    <tr>\n",
       "      <th>std</th>\n",
       "      <td>21773.554061</td>\n",
       "      <td>22482.286397</td>\n",
       "      <td>20992.767955</td>\n",
       "      <td>21845.825379</td>\n",
       "      <td>21845.825379</td>\n",
       "      <td>3.297456e+10</td>\n",
       "    </tr>\n",
       "    <tr>\n",
       "      <th>min</th>\n",
       "      <td>9718.074219</td>\n",
       "      <td>9838.333008</td>\n",
       "      <td>9728.248047</td>\n",
       "      <td>9763.935547</td>\n",
       "      <td>9763.935547</td>\n",
       "      <td>1.663903e+10</td>\n",
       "    </tr>\n",
       "    <tr>\n",
       "      <th>25%</th>\n",
       "      <td>13373.918455</td>\n",
       "      <td>13684.485110</td>\n",
       "      <td>13056.077148</td>\n",
       "      <td>13421.041262</td>\n",
       "      <td>13421.041262</td>\n",
       "      <td>3.142625e+10</td>\n",
       "    </tr>\n",
       "    <tr>\n",
       "      <th>50%</th>\n",
       "      <td>16520.156250</td>\n",
       "      <td>17169.826175</td>\n",
       "      <td>16253.259275</td>\n",
       "      <td>16921.556640</td>\n",
       "      <td>16921.556640</td>\n",
       "      <td>4.716901e+10</td>\n",
       "    </tr>\n",
       "    <tr>\n",
       "      <th>75%</th>\n",
       "      <td>44679.113283</td>\n",
       "      <td>46686.911130</td>\n",
       "      <td>41998.325195</td>\n",
       "      <td>45279.527345</td>\n",
       "      <td>45279.527345</td>\n",
       "      <td>6.929678e+10</td>\n",
       "    </tr>\n",
       "    <tr>\n",
       "      <th>max</th>\n",
       "      <td>79623.851560</td>\n",
       "      <td>81445.671880</td>\n",
       "      <td>77726.054690</td>\n",
       "      <td>79598.406250</td>\n",
       "      <td>79598.406250</td>\n",
       "      <td>4.470000e+11</td>\n",
       "    </tr>\n",
       "  </tbody>\n",
       "</table>\n",
       "</div>"
      ],
      "text/plain": [
       "               Open          High           Low         Close     Adj Close  \\\n",
       "count    362.000000    362.000000    362.000000    362.000000    362.000000   \n",
       "mean   29707.219509  30555.675634  28874.214073  29864.750594  29864.750594   \n",
       "std    21773.554061  22482.286397  20992.767955  21845.825379  21845.825379   \n",
       "min     9718.074219   9838.333008   9728.248047   9763.935547   9763.935547   \n",
       "25%    13373.918455  13684.485110  13056.077148  13421.041262  13421.041262   \n",
       "50%    16520.156250  17169.826175  16253.259275  16921.556640  16921.556640   \n",
       "75%    44679.113283  46686.911130  41998.325195  45279.527345  45279.527345   \n",
       "max    79623.851560  81445.671880  77726.054690  79598.406250  79598.406250   \n",
       "\n",
       "             Volume  \n",
       "count  3.620000e+02  \n",
       "mean   5.364938e+10  \n",
       "std    3.297456e+10  \n",
       "min    1.663903e+10  \n",
       "25%    3.142625e+10  \n",
       "50%    4.716901e+10  \n",
       "75%    6.929678e+10  \n",
       "max    4.470000e+11  "
      ]
     },
     "execution_count": 5,
     "metadata": {},
     "output_type": "execute_result"
    }
   ],
   "source": [
    "btc_cad.describe()"
   ]
  },
  {
   "cell_type": "markdown",
   "metadata": {},
   "source": [
    "So I can tell the average closing price is C$29,865 to the nearest integer. \n",
    "\n",
    "There isn't much data to work from (one years worth exactly), but I would like to create a dataframe object from the price data and try and use it to forecast future price information.\n",
    "\n",
    "# Import Libraries\n",
    "The bulk of the libraries I will use are as follows. This may change as I progress."
   ]
  },
  {
   "cell_type": "code",
   "execution_count": 6,
   "metadata": {},
   "outputs": [],
   "source": [
    "import numpy as np\n",
    "from sklearn import linear_model\n",
    "from sklearn import preprocessing, svm\n",
    "from sklearn.linear_model import LinearRegression\n",
    "from sklearn.model_selection import cross_val_score\n",
    "from sklearn.model_selection import cross_validate"
   ]
  },
  {
   "cell_type": "markdown",
   "metadata": {},
   "source": [
    "Taking a look at which columns are present in the dataset gives me:"
   ]
  },
  {
   "cell_type": "code",
   "execution_count": 7,
   "metadata": {},
   "outputs": [
    {
     "data": {
      "text/plain": [
       "Index(['Date', 'Open', 'High', 'Low', 'Close', 'Adj Close', 'Volume'], dtype='object')"
      ]
     },
     "execution_count": 7,
     "metadata": {},
     "output_type": "execute_result"
    }
   ],
   "source": [
    "btc_cad.columns"
   ]
  },
  {
   "cell_type": "markdown",
   "metadata": {},
   "source": [
    "And now lets see the first and last 5 entries in the table:"
   ]
  },
  {
   "cell_type": "code",
   "execution_count": 8,
   "metadata": {},
   "outputs": [
    {
     "data": {
      "text/html": [
       "<div>\n",
       "<style scoped>\n",
       "    .dataframe tbody tr th:only-of-type {\n",
       "        vertical-align: middle;\n",
       "    }\n",
       "\n",
       "    .dataframe tbody tr th {\n",
       "        vertical-align: top;\n",
       "    }\n",
       "\n",
       "    .dataframe thead th {\n",
       "        text-align: right;\n",
       "    }\n",
       "</style>\n",
       "<table border=\"1\" class=\"dataframe\">\n",
       "  <thead>\n",
       "    <tr style=\"text-align: right;\">\n",
       "      <th></th>\n",
       "      <th>Date</th>\n",
       "      <th>Open</th>\n",
       "      <th>High</th>\n",
       "      <th>Low</th>\n",
       "      <th>Close</th>\n",
       "      <th>Adj Close</th>\n",
       "      <th>Volume</th>\n",
       "    </tr>\n",
       "  </thead>\n",
       "  <tbody>\n",
       "    <tr>\n",
       "      <th>0</th>\n",
       "      <td>2020-04-21</td>\n",
       "      <td>9718.074219</td>\n",
       "      <td>9838.333008</td>\n",
       "      <td>9728.248047</td>\n",
       "      <td>9763.935547</td>\n",
       "      <td>9763.935547</td>\n",
       "      <td>4.624843e+10</td>\n",
       "    </tr>\n",
       "    <tr>\n",
       "      <th>1</th>\n",
       "      <td>2020-04-22</td>\n",
       "      <td>9762.682617</td>\n",
       "      <td>10125.870120</td>\n",
       "      <td>9747.394531</td>\n",
       "      <td>10096.278320</td>\n",
       "      <td>10096.278320</td>\n",
       "      <td>4.716635e+10</td>\n",
       "    </tr>\n",
       "    <tr>\n",
       "      <th>2</th>\n",
       "      <td>2020-04-23</td>\n",
       "      <td>10102.092770</td>\n",
       "      <td>10533.734380</td>\n",
       "      <td>10009.763670</td>\n",
       "      <td>10451.163090</td>\n",
       "      <td>10451.163090</td>\n",
       "      <td>6.119120e+10</td>\n",
       "    </tr>\n",
       "    <tr>\n",
       "      <th>3</th>\n",
       "      <td>2020-04-24</td>\n",
       "      <td>10457.432620</td>\n",
       "      <td>10678.707030</td>\n",
       "      <td>10457.432620</td>\n",
       "      <td>10642.806640</td>\n",
       "      <td>10642.806640</td>\n",
       "      <td>4.881932e+10</td>\n",
       "    </tr>\n",
       "    <tr>\n",
       "      <th>4</th>\n",
       "      <td>2020-04-25</td>\n",
       "      <td>10642.216800</td>\n",
       "      <td>10773.176760</td>\n",
       "      <td>10601.609380</td>\n",
       "      <td>10669.635740</td>\n",
       "      <td>10669.635740</td>\n",
       "      <td>4.643028e+10</td>\n",
       "    </tr>\n",
       "  </tbody>\n",
       "</table>\n",
       "</div>"
      ],
      "text/plain": [
       "         Date          Open          High           Low         Close  \\\n",
       "0  2020-04-21   9718.074219   9838.333008   9728.248047   9763.935547   \n",
       "1  2020-04-22   9762.682617  10125.870120   9747.394531  10096.278320   \n",
       "2  2020-04-23  10102.092770  10533.734380  10009.763670  10451.163090   \n",
       "3  2020-04-24  10457.432620  10678.707030  10457.432620  10642.806640   \n",
       "4  2020-04-25  10642.216800  10773.176760  10601.609380  10669.635740   \n",
       "\n",
       "      Adj Close        Volume  \n",
       "0   9763.935547  4.624843e+10  \n",
       "1  10096.278320  4.716635e+10  \n",
       "2  10451.163090  6.119120e+10  \n",
       "3  10642.806640  4.881932e+10  \n",
       "4  10669.635740  4.643028e+10  "
      ]
     },
     "execution_count": 8,
     "metadata": {},
     "output_type": "execute_result"
    }
   ],
   "source": [
    "btc_cad.head()"
   ]
  },
  {
   "cell_type": "markdown",
   "metadata": {},
   "source": [
    "And now the tail of the dataframe."
   ]
  },
  {
   "cell_type": "code",
   "execution_count": 9,
   "metadata": {},
   "outputs": [
    {
     "data": {
      "text/html": [
       "<div>\n",
       "<style scoped>\n",
       "    .dataframe tbody tr th:only-of-type {\n",
       "        vertical-align: middle;\n",
       "    }\n",
       "\n",
       "    .dataframe tbody tr th {\n",
       "        vertical-align: top;\n",
       "    }\n",
       "\n",
       "    .dataframe thead th {\n",
       "        text-align: right;\n",
       "    }\n",
       "</style>\n",
       "<table border=\"1\" class=\"dataframe\">\n",
       "  <thead>\n",
       "    <tr style=\"text-align: right;\">\n",
       "      <th></th>\n",
       "      <th>Date</th>\n",
       "      <th>Open</th>\n",
       "      <th>High</th>\n",
       "      <th>Low</th>\n",
       "      <th>Close</th>\n",
       "      <th>Adj Close</th>\n",
       "      <th>Volume</th>\n",
       "    </tr>\n",
       "  </thead>\n",
       "  <tbody>\n",
       "    <tr>\n",
       "      <th>361</th>\n",
       "      <td>2021-04-17</td>\n",
       "      <td>76964.70313</td>\n",
       "      <td>78268.40625</td>\n",
       "      <td>75503.00000</td>\n",
       "      <td>75906.35938</td>\n",
       "      <td>75906.35938</td>\n",
       "      <td>8.272967e+10</td>\n",
       "    </tr>\n",
       "    <tr>\n",
       "      <th>362</th>\n",
       "      <td>2021-04-18</td>\n",
       "      <td>75928.95313</td>\n",
       "      <td>76373.71875</td>\n",
       "      <td>66081.82813</td>\n",
       "      <td>70374.90625</td>\n",
       "      <td>70374.90625</td>\n",
       "      <td>1.220000e+11</td>\n",
       "    </tr>\n",
       "    <tr>\n",
       "      <th>363</th>\n",
       "      <td>2021-04-19</td>\n",
       "      <td>70344.10938</td>\n",
       "      <td>71803.60938</td>\n",
       "      <td>68107.26563</td>\n",
       "      <td>69788.23438</td>\n",
       "      <td>69788.23438</td>\n",
       "      <td>8.183693e+10</td>\n",
       "    </tr>\n",
       "    <tr>\n",
       "      <th>364</th>\n",
       "      <td>2021-04-20</td>\n",
       "      <td>NaN</td>\n",
       "      <td>NaN</td>\n",
       "      <td>NaN</td>\n",
       "      <td>NaN</td>\n",
       "      <td>NaN</td>\n",
       "      <td>NaN</td>\n",
       "    </tr>\n",
       "    <tr>\n",
       "      <th>365</th>\n",
       "      <td>2021-04-21</td>\n",
       "      <td>71509.30469</td>\n",
       "      <td>71556.75781</td>\n",
       "      <td>71132.07813</td>\n",
       "      <td>71477.75781</td>\n",
       "      <td>71477.75781</td>\n",
       "      <td>8.495634e+10</td>\n",
       "    </tr>\n",
       "  </tbody>\n",
       "</table>\n",
       "</div>"
      ],
      "text/plain": [
       "           Date         Open         High          Low        Close  \\\n",
       "361  2021-04-17  76964.70313  78268.40625  75503.00000  75906.35938   \n",
       "362  2021-04-18  75928.95313  76373.71875  66081.82813  70374.90625   \n",
       "363  2021-04-19  70344.10938  71803.60938  68107.26563  69788.23438   \n",
       "364  2021-04-20          NaN          NaN          NaN          NaN   \n",
       "365  2021-04-21  71509.30469  71556.75781  71132.07813  71477.75781   \n",
       "\n",
       "       Adj Close        Volume  \n",
       "361  75906.35938  8.272967e+10  \n",
       "362  70374.90625  1.220000e+11  \n",
       "363  69788.23438  8.183693e+10  \n",
       "364          NaN           NaN  \n",
       "365  71477.75781  8.495634e+10  "
      ]
     },
     "execution_count": 9,
     "metadata": {},
     "output_type": "execute_result"
    }
   ],
   "source": [
    "btc_cad.tail()"
   ]
  },
  {
   "cell_type": "markdown",
   "metadata": {},
   "source": [
    "# Cleaning the Data\n",
    "A brief look at the summary info for the dataset tells me there are a different number of date values compared to the rest of the column entries. This will need to be addressed, followed by any missing values, NaN, 'isnull' or entries with 'zero'. I can also see the different number 'count' for entries using the count() method:"
   ]
  },
  {
   "cell_type": "code",
   "execution_count": 10,
   "metadata": {},
   "outputs": [
    {
     "data": {
      "text/plain": [
       "Date         366\n",
       "Open         362\n",
       "High         362\n",
       "Low          362\n",
       "Close        362\n",
       "Adj Close    362\n",
       "Volume       362\n",
       "dtype: int64"
      ]
     },
     "execution_count": 10,
     "metadata": {},
     "output_type": "execute_result"
    }
   ],
   "source": [
    "btc_cad.count()"
   ]
  },
  {
   "cell_type": "markdown",
   "metadata": {},
   "source": [
    "First I just want to see what shape the dataframe is."
   ]
  },
  {
   "cell_type": "code",
   "execution_count": 11,
   "metadata": {},
   "outputs": [
    {
     "data": {
      "text/plain": [
       "(366, 7)"
      ]
     },
     "execution_count": 11,
     "metadata": {},
     "output_type": "execute_result"
    }
   ],
   "source": [
    "btc_cad.shape"
   ]
  },
  {
   "cell_type": "markdown",
   "metadata": {},
   "source": [
    "So it's 366 rows by 7 columns or a (366x7) matrix.\n",
    "\n",
    "Next, to find the total number of missing entries."
   ]
  },
  {
   "cell_type": "code",
   "execution_count": 12,
   "metadata": {},
   "outputs": [
    {
     "data": {
      "text/plain": [
       "Date         0\n",
       "Open         4\n",
       "High         4\n",
       "Low          4\n",
       "Close        4\n",
       "Adj Close    4\n",
       "Volume       4\n",
       "dtype: int64"
      ]
     },
     "execution_count": 12,
     "metadata": {},
     "output_type": "execute_result"
    }
   ],
   "source": [
    "bitcoin_missing_values_count = btc_cad.isnull().sum()\n",
    "bitcoin_missing_values_count[0:7]"
   ]
  },
  {
   "cell_type": "markdown",
   "metadata": {},
   "source": [
    "Further examination allows me to calculate the total number of rows containing missing data points as a percentage of the total number of rows in the dataframe."
   ]
  },
  {
   "cell_type": "code",
   "execution_count": 13,
   "metadata": {},
   "outputs": [
    {
     "name": "stdout",
     "output_type": "stream",
     "text": [
      "0.936768149882904\n"
     ]
    }
   ],
   "source": [
    "total_bitcoin = np.product(btc_cad.shape)\n",
    "total_missing_bitcoin = bitcoin_missing_values_count.sum()\n",
    "\n",
    "percent_missing_values = (total_missing_bitcoin/total_bitcoin) * 100\n",
    "print(percent_missing_values)"
   ]
  },
  {
   "cell_type": "markdown",
   "metadata": {},
   "source": [
    "From this I can see that just under 1% of the total values are missing. I can either choose to leave them out completely (as they may not really affect my model for the purpose of this exercise) or use imputed values such as the mean or median.\n",
    "\n",
    "## Removing Rows\n",
    "Having checked the csv file I can determine that there is no real reason for the missing values (null entries) for these dates. At first I thought these missing values might be due to public holidays but because Bitcoin is a currency, it appears to be traded OTC (Over The Counter) beyong normal trading hours throughout the day, seven days a week. As a result I have chosen to leave these missing values out using the dropna() method to eliminate them."
   ]
  },
  {
   "cell_type": "code",
   "execution_count": 14,
   "metadata": {},
   "outputs": [],
   "source": [
    "btc_cad = btc_cad.dropna(axis=0)"
   ]
  },
  {
   "cell_type": "code",
   "execution_count": 15,
   "metadata": {},
   "outputs": [
    {
     "data": {
      "text/plain": [
       "Date         362\n",
       "Open         362\n",
       "High         362\n",
       "Low          362\n",
       "Close        362\n",
       "Adj Close    362\n",
       "Volume       362\n",
       "dtype: int64"
      ]
     },
     "execution_count": 15,
     "metadata": {},
     "output_type": "execute_result"
    }
   ],
   "source": [
    "btc_cad.count()"
   ]
  },
  {
   "cell_type": "markdown",
   "metadata": {},
   "source": [
    "This time there are exactly 362 rows for each column. It's important to set the argument (axis=0) otherwise dropping the values doesn't work. \n",
    "\n",
    "## Removing Columns (Feature Selection)\n",
    "\n",
    "The values in the 'Adj Close' column are exactly the same as in the 'Close' column so I will remove 'Adj Close' completely from the dataset in an attempt to regularize the model. This is unecessary data which can be removed as it could contribute to bias and bleed into the test data. It's better to reduce the overall number of variables particularly removing those which are not relevant."
   ]
  },
  {
   "cell_type": "code",
   "execution_count": 16,
   "metadata": {},
   "outputs": [
    {
     "data": {
      "text/plain": [
       "Index(['Date', 'Open', 'High', 'Low', 'Close', 'Adj Close', 'Volume'], dtype='object')"
      ]
     },
     "execution_count": 16,
     "metadata": {},
     "output_type": "execute_result"
    }
   ],
   "source": [
    "btc_cad.columns"
   ]
  },
  {
   "cell_type": "code",
   "execution_count": 17,
   "metadata": {},
   "outputs": [],
   "source": [
    "del btc_cad['Adj Close']"
   ]
  },
  {
   "cell_type": "code",
   "execution_count": 18,
   "metadata": {},
   "outputs": [
    {
     "data": {
      "text/plain": [
       "Index(['Date', 'Open', 'High', 'Low', 'Close', 'Volume'], dtype='object')"
      ]
     },
     "execution_count": 18,
     "metadata": {},
     "output_type": "execute_result"
    }
   ],
   "source": [
    "btc_cad.columns"
   ]
  },
  {
   "cell_type": "markdown",
   "metadata": {},
   "source": [
    "Next, I will store the independent variables (features) in a dataframe called bitcoin which can be used for further analysis."
   ]
  },
  {
   "cell_type": "code",
   "execution_count": 19,
   "metadata": {},
   "outputs": [],
   "source": [
    "bitcoin = btc_cad"
   ]
  },
  {
   "cell_type": "markdown",
   "metadata": {},
   "source": [
    "# Exploratory Data Analysis\n",
    "\n",
    "The mean value for the Bitcoin (CAD) close price is C$ 29,864.75 and from the summary statistics using 'describe()' I can also see the maximum values in the upper-quartile range have been tested regularly.\n",
    "\n",
    "As there are no dividends or stock splits because Bitcoin is a currency (medium of exchange / store of value), only 6 columns are of any use to me in this particular dataset: Date, Open, High, Low, Close and Volume. Printing the first 5 lines of the dataframe gives:"
   ]
  },
  {
   "cell_type": "code",
   "execution_count": 20,
   "metadata": {},
   "outputs": [
    {
     "name": "stdout",
     "output_type": "stream",
     "text": [
      "         Date          Open          High           Low         Close  \\\n",
      "0  2020-04-21   9718.074219   9838.333008   9728.248047   9763.935547   \n",
      "1  2020-04-22   9762.682617  10125.870120   9747.394531  10096.278320   \n",
      "2  2020-04-23  10102.092770  10533.734380  10009.763670  10451.163090   \n",
      "3  2020-04-24  10457.432620  10678.707030  10457.432620  10642.806640   \n",
      "4  2020-04-25  10642.216800  10773.176760  10601.609380  10669.635740   \n",
      "\n",
      "         Volume  \n",
      "0  4.624843e+10  \n",
      "1  4.716635e+10  \n",
      "2  6.119120e+10  \n",
      "3  4.881932e+10  \n",
      "4  4.643028e+10  \n"
     ]
    }
   ],
   "source": [
    "print(bitcoin[:5])"
   ]
  },
  {
   "cell_type": "markdown",
   "metadata": {},
   "source": [
    "## Visualizing the Data\n",
    "Let's take a look at plotting the different price data over time. This first plot will have the different OHLC prices for the last year."
   ]
  },
  {
   "cell_type": "code",
   "execution_count": 21,
   "metadata": {},
   "outputs": [
    {
     "data": {
      "image/png": "[encoded data removed]",
      "text/plain": [
       "<Figure size 432x288 with 1 Axes>"
      ]
     },
     "metadata": {
      "needs_background": "light"
     },
     "output_type": "display_data"
    }
   ],
   "source": [
    "%matplotlib inline\n",
    "import matplotlib.pyplot as plt\n",
    "import matplotlib.dates as mdates\n",
    "import matplotlib.cbook as cbook\n",
    "\n",
    "data = {'Date': bitcoin.Date[0:-1], 'Open': bitcoin.Open[0:-1], 'High': bitcoin.High[0:-1], 'Low': bitcoin.Low[0:-1], \n",
    "        'Close': bitcoin.Close[0:-1]}\n",
    "df = pd.DataFrame(data,columns=['Date','Open','High','Low','Close'])\n",
    "df.plot(x ='Date', y=['Open','High','Low','Close'], kind = 'line')\n",
    "plt.title('Bitcoin Prices')          # the chart title\n",
    "plt.xlabel('Date')                   # the x-axis label (time series)\n",
    "plt.ylabel('OHLC Prices')            # the y-axis label (OHLC prices over time)\n",
    "plt.legend()\n",
    "plt.show()\n"
   ]
  },
  {
   "cell_type": "markdown",
   "metadata": {},
   "source": [
    "### Correlation\n",
    "The first stage of any feature selection process for a linear regression model should involve checking the degree of correlation between the features and the target variable. (Be careful and perform the correlation function on 'bitcoin' dataframe, not the 'data' dictionary."
   ]
  },
  {
   "cell_type": "code",
   "execution_count": 22,
   "metadata": {},
   "outputs": [
    {
     "name": "stdout",
     "output_type": "stream",
     "text": [
      "            Open      High       Low     Close    Volume\n",
      "Open    1.000000  0.999003  0.998283  0.997880  0.584975\n",
      "High    0.999003  1.000000  0.998194  0.999188  0.592747\n",
      "Low     0.998283  0.998194  1.000000  0.998735  0.569046\n",
      "Close   0.997880  0.999188  0.998735  1.000000  0.582709\n",
      "Volume  0.584975  0.592747  0.569046  0.582709  1.000000\n"
     ]
    }
   ],
   "source": [
    "correlation = bitcoin.corr()\n",
    "print(correlation)"
   ]
  },
  {
   "cell_type": "markdown",
   "metadata": {},
   "source": [
    "I would expect the opening and closing prices to be defined by the range of the high and low daily prices so all of these values tend to move within a fairly narrow band. There is a strong degree of positive correlation between these time-series values. I can also determine there is a less powerful degree of association between the volume of currency traded and its closing price (0.582709), but a positive relationship nonetheless. \n",
    "\n",
    " Assuming I wanted to find the top three highest correlated features I could use the .abs() and .nlargest() methods:"
   ]
  },
  {
   "cell_type": "code",
   "execution_count": 23,
   "metadata": {},
   "outputs": [
    {
     "name": "stdout",
     "output_type": "stream",
     "text": [
      "Index(['Close', 'High', 'Low'], dtype='object')\n"
     ]
    }
   ],
   "source": [
    "print(bitcoin.corr().abs().nlargest(3, 'Close').index)          # to find the top 3 features with highest correlation values"
   ]
  },
  {
   "cell_type": "code",
   "execution_count": 25,
   "metadata": {},
   "outputs": [
    {
     "name": "stdout",
     "output_type": "stream",
     "text": [
      "[1.         0.99918803 0.99873489]\n"
     ]
    }
   ],
   "source": [
    "print(bitcoin.corr().abs().nlargest(3, 'Close').values[:,3])         # top 3 correlation values"
   ]
  },
  {
   "cell_type": "markdown",
   "metadata": {},
   "source": [
    "Firstly, the perfectly correclated value of 1.0 represents the 'Close' price correlation with itself, but the nest two correlation values of 0.99918803 and 0.99873489 represent those of the daily 'High' and 'Low' resepectively.\n",
    "\n",
    "Remember, this would only be necessary if I wanted to include only those features with the top 3 correlation scores. For the purpose of this model that would be the open, high and low prices but I want to include the volume also and have decided to keep all 4 features. Next I intend to look at a scatter plot to show the relationship between some of these variables starting with the daily high and close prices."
   ]
  },
  {
   "cell_type": "code",
   "execution_count": 45,
   "metadata": {},
   "outputs": [
    {
     "data": {
      "image/png": "[encoded data removed]",
      "text/plain": [
       "<Figure size 432x288 with 1 Axes>"
      ]
     },
     "metadata": {
      "needs_background": "light"
     },
     "output_type": "display_data"
    }
   ],
   "source": [
    "plt.scatter(data['High'], data['Close'], marker='o')\n",
    "plt.xlabel('High')\n",
    "plt.ylabel('Close')\n",
    "plt.show()"
   ]
  },
  {
   "cell_type": "markdown",
   "metadata": {},
   "source": [
    "A strong positive linear relationship can be seen. Now I will check the scatter plot for the next highest correlation between the daily low and close prices."
   ]
  },
  {
   "cell_type": "code",
   "execution_count": 46,
   "metadata": {},
   "outputs": [
    {
     "data": {
      "image/png": "[encoded data removed]",
      "text/plain": [
       "<Figure size 432x288 with 1 Axes>"
      ]
     },
     "metadata": {
      "needs_background": "light"
     },
     "output_type": "display_data"
    }
   ],
   "source": [
    "plt.scatter(data['Low'], data['Close'], marker='o')\n",
    "plt.xlabel('Low')\n",
    "plt.ylabel('Close')\n",
    "plt.show()"
   ]
  },
  {
   "cell_type": "markdown",
   "metadata": {},
   "source": [
    "Also a strong positive linear relationship as expected from the high correlation score. Next I want to check against the open v close prices."
   ]
  },
  {
   "cell_type": "code",
   "execution_count": 47,
   "metadata": {},
   "outputs": [
    {
     "data": {
      "image/png": "[encoded data removed]",
      "text/plain": [
       "<Figure size 432x288 with 1 Axes>"
      ]
     },
     "metadata": {
      "needs_background": "light"
     },
     "output_type": "display_data"
    }
   ],
   "source": [
    "plt.scatter(data['Open'], data['Close'], marker='o')\n",
    "plt.xlabel('Open')\n",
    "plt.ylabel('Close')\n",
    "plt.show()"
   ]
  },
  {
   "cell_type": "markdown",
   "metadata": {},
   "source": [
    "And finally the relationship plot of daily volume against the closing prices."
   ]
  },
  {
   "cell_type": "code",
   "execution_count": 48,
   "metadata": {},
   "outputs": [
    {
     "data": {
      "image/png": "[encoded data removed]",
      "text/plain": [
       "<Figure size 432x288 with 1 Axes>"
      ]
     },
     "metadata": {
      "needs_background": "light"
     },
     "output_type": "display_data"
    }
   ],
   "source": [
    "plt.scatter(bitcoin['Volume'], bitcoin['Close'], marker='o')\n",
    "plt.xlabel('Volume')\n",
    "plt.ylabel('Close')\n",
    "plt.show()"
   ]
  },
  {
   "cell_type": "markdown",
   "metadata": {},
   "source": [
    "The Volume variable will need re-scaling in order for me to amend the range of the data because for some reason the x-axis is using strange markers. There is a positive relationship between the them but currency volume seems to trade within a fairly distinct range."
   ]
  },
  {
   "cell_type": "code",
   "execution_count": null,
   "metadata": {},
   "outputs": [],
   "source": []
  },
  {
   "cell_type": "markdown",
   "metadata": {},
   "source": [
    "### Creating Buckets\n",
    "Dividing the values for each type of price into different interval ranges for every C$10,000 mark will help when creating histograms and frequency distributions."
   ]
  },
  {
   "cell_type": "code",
   "execution_count": null,
   "metadata": {},
   "outputs": [],
   "source": [
    "open_bkt_1 = bitcoin['Open'] > 0 & bitcoin['Open'] <= 10000\n",
    "open_bkt_2 = bitcoin['Open'] > 10000 & bitcoin['Open'] <= 20000\n",
    "open_bkt_3 = bitcoin['Open'] > 20000 & bitcoin['Open'] <= 30000\n",
    "open_bkt_4 = bitcoin['Open'] > 30000 & bitcoin['Open'] <= 40000\n",
    "open_bkt_5 = bitcoin['Open'] > 40000 & bitcoin['Open'] <= 50000\n",
    "open_bkt_6 = bitcoin['Open'] > 50000 & bitcoin['Open'] <= 60000\n",
    "open_bkt_7 = bitcoin['Open'] > 60000 & bitcoin['Open'] <= 70000\n",
    "open_bkt_8 = bitcoin['Open'] > 70000 & bitcoin['Open'] <= 80000\n",
    "\n",
    "print(open_bkt_1)\n",
    "print(open_bkt_2)\n",
    "print(open_bkt_3)\n",
    "print(open_bkt_4)\n",
    "print(open_bkt_5)\n",
    "print(open_bkt_6)\n",
    "print(open_bkt_7)\n",
    "print(open_bkt_8)"
   ]
  },
  {
   "cell_type": "markdown",
   "metadata": {},
   "source": [
    "If the mean of the daily 'Open' price = C$29,707.22, then I can find out how many values are above or below the average."
   ]
  },
  {
   "cell_type": "code",
   "execution_count": null,
   "metadata": {},
   "outputs": [],
   "source": [
    "bitcoin['Open'].loc[bitcoin['Open'] > 29707.22]"
   ]
  },
  {
   "cell_type": "markdown",
   "metadata": {},
   "source": [
    "So there are 121 values greater than the mean daily opening price. Calculating this as a percentage of the total number of observations gives:"
   ]
  },
  {
   "cell_type": "code",
   "execution_count": null,
   "metadata": {},
   "outputs": [],
   "source": [
    "(121 / 162) * 100"
   ]
  },
  {
   "cell_type": "markdown",
   "metadata": {},
   "source": [
    "The mean of the daily 'High' price is C$30,555.68."
   ]
  },
  {
   "cell_type": "code",
   "execution_count": null,
   "metadata": {},
   "outputs": [],
   "source": [
    "bitcoin['High'].loc[bitcoin['High'] > 30555.68]"
   ]
  },
  {
   "cell_type": "markdown",
   "metadata": {},
   "source": [
    "Or, in percentage terms gives 76%"
   ]
  },
  {
   "cell_type": "code",
   "execution_count": null,
   "metadata": {},
   "outputs": [],
   "source": [
    "(123 / 162) * 100"
   ]
  },
  {
   "cell_type": "markdown",
   "metadata": {},
   "source": [
    "Now for the mean of the daily 'Low' price which is C$28,874.21."
   ]
  },
  {
   "cell_type": "code",
   "execution_count": null,
   "metadata": {},
   "outputs": [],
   "source": [
    "bitcoin['Low'].loc[bitcoin['Low'] > 28874.21]"
   ]
  },
  {
   "cell_type": "code",
   "execution_count": null,
   "metadata": {},
   "outputs": [],
   "source": [
    "(122 / 162) * 100"
   ]
  },
  {
   "cell_type": "markdown",
   "metadata": {},
   "source": [
    "And finally the mean for the daily 'Close' price is C$29,864.75."
   ]
  },
  {
   "cell_type": "code",
   "execution_count": null,
   "metadata": {},
   "outputs": [],
   "source": [
    "bitcoin['Close'].loc[bitcoin['Close'] > 29864.75]"
   ]
  },
  {
   "cell_type": "code",
   "execution_count": null,
   "metadata": {},
   "outputs": [],
   "source": [
    "(121 / 162) * 100"
   ]
  },
  {
   "cell_type": "markdown",
   "metadata": {},
   "source": [
    "I can tell for all of these price categories that roughly 75% of the values lie above the mean which should indicate their frequency distributions are positively skewed."
   ]
  },
  {
   "cell_type": "code",
   "execution_count": null,
   "metadata": {},
   "outputs": [],
   "source": [
    "def create_bins(lower_bound, width, quantity):\n",
    "    \"\"\" create_bins returns an equal-width (distance) partitioning. \n",
    "        It returns an ascending list of tuples, representing the intervals.\n",
    "        A tuple bins[i], i.e. (bins[i][0], bins[i][1])  with i > 0 \n",
    "        and i < quantity, satisfies the following conditions:\n",
    "            (1) bins[i][0] + width == bins[i][1]\n",
    "            (2) bins[i-1][0] + width == bins[i][0] and\n",
    "                bins[i-1][1] + width == bins[i][1]\n",
    "    \"\"\"\n",
    "    \n",
    "\n",
    "    bins = []\n",
    "    for low in range(lower_bound, \n",
    "                     lower_bound + quantity*width + 1, width):\n",
    "        bins.append((low, low+width))\n",
    "    return bins"
   ]
  },
  {
   "cell_type": "code",
   "execution_count": null,
   "metadata": {},
   "outputs": [],
   "source": [
    "bins = create_bins(lower_bound=0,\n",
    "                   width=10000,\n",
    "                   quantity=7)\n",
    "\n",
    "bins"
   ]
  },
  {
   "cell_type": "code",
   "execution_count": null,
   "metadata": {},
   "outputs": [],
   "source": [
    "def find_bin(value, bins):\n",
    "    \"\"\" bins is a list of tuples, like [(0,10000), (10000, 20000), (20000, 30000)],\n",
    "        binning returns the smallest index i of bins so that\n",
    "        bin[i][0] <= value < bin[i][1]\n",
    "    \"\"\"\n",
    "    \n",
    "    for i in range(0, len(bins)):\n",
    "        if bins[i][0] <= value < bins[i][1]:\n",
    "            return i\n",
    "    return -1"
   ]
  },
  {
   "cell_type": "code",
   "execution_count": null,
   "metadata": {},
   "outputs": [],
   "source": [
    "from collections import Counter\n",
    "\n",
    "bins = create_bins(lower_bound=0,\n",
    "                   width=10000,\n",
    "                   quantity=7)\n",
    "\n",
    "print(bins)\n",
    "\n",
    "open_price = bitcoin['Open']\n",
    "\n",
    "binned_open_price = []\n",
    "\n",
    "for value in open_price:\n",
    "    bin_index = find_bin(value, bins)\n",
    "    print(value, bin_index, bins[bin_index])\n",
    "    binned_open_price.append(bin_index)\n",
    "    \n",
    "frequencies = Counter(binned_open_price)\n",
    "print(frequencies)"
   ]
  },
  {
   "cell_type": "code",
   "execution_count": null,
   "metadata": {},
   "outputs": [],
   "source": [
    "open_price = bitcoin['Open']\n",
    "bins2 = pd.IntervalIndex.from_tuples(bins)\n",
    "categorical_object = pd.cut(open_price, bins2)\n",
    "print(categorical_object)"
   ]
  },
  {
   "cell_type": "code",
   "execution_count": null,
   "metadata": {},
   "outputs": [],
   "source": [
    "bins2 = pd.IntervalIndex.from_tuples(bins, closed=\"left\")\n",
    "categorical_object = pd.cut(open_price, bins2)\n",
    "print(categorical_object)"
   ]
  },
  {
   "cell_type": "markdown",
   "metadata": {},
   "source": [
    "Next I want to split the data into predictors and a target variable, containing all my feature columns in one table variable and the target variable in a column vector. The prediction target can be assigned as follows:"
   ]
  },
  {
   "cell_type": "code",
   "execution_count": null,
   "metadata": {},
   "outputs": [],
   "source": []
  },
  {
   "cell_type": "code",
   "execution_count": null,
   "metadata": {},
   "outputs": [],
   "source": [
    "y = bitcoin.Close"
   ]
  },
  {
   "cell_type": "markdown",
   "metadata": {},
   "source": [
    "The features are a selection of columns used to predict 'y', including"
   ]
  },
  {
   "cell_type": "code",
   "execution_count": null,
   "metadata": {},
   "outputs": [],
   "source": [
    "bitcoin_features = ['Date','Open','High','Low','Volume']"
   ]
  },
  {
   "cell_type": "code",
   "execution_count": null,
   "metadata": {},
   "outputs": [],
   "source": [
    "X = bitcoin[bitcoin_features]"
   ]
  },
  {
   "cell_type": "markdown",
   "metadata": {},
   "source": [
    "So currently I can determine that Bitcoin was trading well below the mean (12 months ago) and more recently it's trading at roughly 130% above the mean for the last 12 month period. \n",
    "\n",
    "Time for some interval analysis where I will attempt to place OHLC values in different interval buckets based on the number of counts, but first I need to create a plot."
   ]
  },
  {
   "cell_type": "markdown",
   "metadata": {},
   "source": []
  },
  {
   "cell_type": "code",
   "execution_count": null,
   "metadata": {},
   "outputs": [],
   "source": [
    "y.describe()"
   ]
  },
  {
   "cell_type": "code",
   "execution_count": null,
   "metadata": {},
   "outputs": [],
   "source": [
    "y.mean()"
   ]
  },
  {
   "cell_type": "code",
   "execution_count": null,
   "metadata": {},
   "outputs": [],
   "source": [
    "y.std()"
   ]
  },
  {
   "cell_type": "code",
   "execution_count": null,
   "metadata": {},
   "outputs": [],
   "source": [
    "X.describe()"
   ]
  },
  {
   "cell_type": "code",
   "execution_count": null,
   "metadata": {},
   "outputs": [],
   "source": [
    "X.mean()"
   ]
  },
  {
   "cell_type": "code",
   "execution_count": null,
   "metadata": {},
   "outputs": [],
   "source": [
    "X.std()"
   ]
  },
  {
   "cell_type": "code",
   "execution_count": null,
   "metadata": {},
   "outputs": [],
   "source": []
  }
 ],
 "metadata": {
  "kernelspec": {
   "display_name": "Python 3",
   "language": "python",
   "name": "python3"
  },
  "language_info": {
   "codemirror_mode": {
    "name": "ipython",
    "version": 3
   },
   "file_extension": ".py",
   "mimetype": "text/x-python",
   "name": "python",
   "nbconvert_exporter": "python",
   "pygments_lexer": "ipython3",
   "version": "3.8.5"
  }
 },
 "nbformat": 4,
 "nbformat_minor": 4
}
