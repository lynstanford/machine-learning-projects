{
 "cells": [
  {
   "cell_type": "markdown",
   "metadata": {},
   "source": [
    "# Polynomial Regression\n",
    "The first question I needed to ask myself is why decide to use Polynomial Regression and what does it do exactly? So according to the visualizations from the <a href=\"https://github.com/lynstanford/machine-learning-projects/machine-learning/multiple_regression.ipynb\">Linear Regression</a> notebook, the connection between the dependent and independent variables appear to be strongly linear in relationship although the connection between the 'Volume' of daily bitcoin bought and sold has less association with the daily 'Close' price. \n",
    "\n",
    "Fitting a Linear Regression line to the data may be accurate in this case, with an R-squared value of 0.9991392014437468 and RMSE of 689.1925598643533. However, out of curiosity I decided to see if a Polynomial function could fit the line slightly better by employing a regularization technique to try and improve the bias term by decreasing the Mean Squared Error.\n",
    "\n",
    "The r-squared value is used to represent the overall accuracy score and directly measures the degree of variability associated between the predictors and target variable. The root mean squared value is represented as a loss function and my aim is to reduce its overall value as much as possible using regularization.\n",
    "\n",
    "I know that Polynomial Regression is useful in determining non-linear relationships between multiple independent variables and the dependent variable, so it can be classified as a type of multiple linear regression. I can try to improve the fit of a prediction line to the data and improve estimates by changing the 'degree of fit' parameter, or by utilizing regularization.\n",
    "\n",
    "## Import Data\n",
    "Keeping the data loading simple this time will reduce the overall time it takes to retrieve."
   ]
  },
  {
   "cell_type": "code",
   "execution_count": 1,
   "metadata": {},
   "outputs": [],
   "source": [
    "# import libraries\n",
    "%matplotlib inline\n",
    "import matplotlib.pyplot as plt\n",
    "import pandas as pd\n",
    "import numpy as np\n",
    "import os\n",
    "\n",
    "# import data from filepath\n",
    "btc_cad = pd.read_csv(\"C:/Users/lynst/Documents/GitHub/machine-learning-projects/machine-learning/BTC_CAD.csv\")\n",
    "\n",
    "# storing dataset from filepath into new dataframe\n",
    "bitcoin = pd.DataFrame(btc_cad).dropna(axis=0)"
   ]
  },
  {
   "cell_type": "markdown",
   "metadata": {},
   "source": [
    "This reads the entire dataset and then stores all the values in a single dataframe object.\n",
    "\n",
    "## Feature Selection and Scaling\n",
    "Checking to see what features are present within the current dataframe."
   ]
  },
  {
   "cell_type": "code",
   "execution_count": 2,
   "metadata": {},
   "outputs": [
    {
     "data": {
      "text/plain": [
       "Index(['Date', 'Open', 'High', 'Low', 'Close', 'Adj Close', 'Volume'], dtype='object')"
      ]
     },
     "execution_count": 2,
     "metadata": {},
     "output_type": "execute_result"
    }
   ],
   "source": [
    "# all column names\n",
    "bitcoin.columns"
   ]
  },
  {
   "cell_type": "markdown",
   "metadata": {},
   "source": [
    "Now to remove the columns I don't need including 'Date' and 'Adj Close', selecting only the remaining ones to include in the X variable such as 'Open', 'High', 'Low' and 'Volume'. The remaining column of 'Close' in the same dataframe will be used as the target variable output, y."
   ]
  },
  {
   "cell_type": "code",
   "execution_count": 3,
   "metadata": {},
   "outputs": [
    {
     "data": {
      "text/plain": [
       "Index(['Open', 'High', 'Low', 'Close', 'Volume'], dtype='object')"
      ]
     },
     "execution_count": 3,
     "metadata": {},
     "output_type": "execute_result"
    }
   ],
   "source": [
    "# remove feature with string values - Date\n",
    "del bitcoin['Date']\n",
    "\n",
    "# remove adj close as I will not be using this\n",
    "del bitcoin['Adj Close']\n",
    "\n",
    "# see the remaining features\n",
    "bitcoin.columns"
   ]
  },
  {
   "cell_type": "markdown",
   "metadata": {},
   "source": [
    "Assigning features to X gives:"
   ]
  },
  {
   "cell_type": "code",
   "execution_count": 4,
   "metadata": {},
   "outputs": [
    {
     "name": "stdout",
     "output_type": "stream",
     "text": [
      "         Open      High       Low        Volume\n",
      "0     9718.07   9838.33   9728.25  4.624843e+10\n",
      "1     9762.68  10125.87   9747.39  4.716635e+10\n",
      "2    10102.09  10533.73  10009.76  6.119120e+10\n",
      "3    10457.43  10678.71  10457.43  4.881932e+10\n",
      "4    10642.22  10773.18  10601.61  4.643028e+10\n",
      "..        ...       ...       ...           ...\n",
      "360  79368.23  79831.47  75262.20  1.050000e+11\n",
      "361  76964.70  78268.41  75503.00  8.272967e+10\n",
      "362  75928.95  76373.72  66081.83  1.220000e+11\n",
      "363  70344.11  71803.61  68107.27  8.183693e+10\n",
      "365  71509.30  71556.76  71132.08  8.495634e+10\n",
      "\n",
      "[362 rows x 4 columns]\n"
     ]
    }
   ],
   "source": [
    "# select features as X dataframe\n",
    "X = bitcoin[['Open','High','Low','Volume']]\n",
    "print(X)"
   ]
  },
  {
   "cell_type": "markdown",
   "metadata": {},
   "source": [
    "Comparing the shape of the overall dataset before polynomial regression and before splitting gives:"
   ]
  },
  {
   "cell_type": "code",
   "execution_count": 5,
   "metadata": {},
   "outputs": [
    {
     "data": {
      "text/plain": [
       "(362, 4)"
      ]
     },
     "execution_count": 5,
     "metadata": {},
     "output_type": "execute_result"
    }
   ],
   "source": [
    "X.shape"
   ]
  },
  {
   "cell_type": "code",
   "execution_count": 6,
   "metadata": {},
   "outputs": [
    {
     "name": "stdout",
     "output_type": "stream",
     "text": [
      "0       9763.94\n",
      "1      10096.28\n",
      "2      10451.16\n",
      "3      10642.81\n",
      "4      10669.64\n",
      "         ...   \n",
      "360    77018.32\n",
      "361    75906.36\n",
      "362    70374.91\n",
      "363    69788.23\n",
      "365    71477.76\n",
      "Name: Close, Length: 362, dtype: float64\n"
     ]
    }
   ],
   "source": [
    "# select target as y series\n",
    "y = bitcoin['Close']\n",
    "print(y)"
   ]
  },
  {
   "cell_type": "code",
   "execution_count": 7,
   "metadata": {},
   "outputs": [
    {
     "data": {
      "text/plain": [
       "(362,)"
      ]
     },
     "execution_count": 7,
     "metadata": {},
     "output_type": "execute_result"
    }
   ],
   "source": [
    "y.shape"
   ]
  },
  {
   "cell_type": "markdown",
   "metadata": {},
   "source": [
    "Another way to select the right column vectors is using indexation."
   ]
  },
  {
   "cell_type": "code",
   "execution_count": 8,
   "metadata": {},
   "outputs": [
    {
     "name": "stdout",
     "output_type": "stream",
     "text": [
      "[[9.71807000e+03 9.83833000e+03 9.72825000e+03 4.62484281e+10]\n",
      " [9.76268000e+03 1.01258700e+04 9.74739000e+03 4.71663519e+10]\n",
      " [1.01020900e+04 1.05337300e+04 1.00097600e+04 6.11912020e+10]\n",
      " [1.04574300e+04 1.06787100e+04 1.04574300e+04 4.88193179e+10]\n",
      " [1.06422200e+04 1.07731800e+04 1.06016100e+04 4.64302791e+10]\n",
      " [1.06699200e+04 1.08566800e+04 1.06576200e+04 4.66636415e+10]\n",
      " [1.08360400e+04 1.09416000e+04 1.08360400e+04 5.07557760e+10]\n",
      " [1.09435200e+04 1.09270500e+04 1.08227000e+04 4.64088816e+10]\n",
      " [1.09166300e+04 1.23147700e+04 1.08593000e+04 8.35291405e+10]\n",
      " [1.22067900e+04 1.31051300e+04 1.19009200e+04 9.34508816e+10]]\n"
     ]
    }
   ],
   "source": [
    "X = X.iloc[:,0:5].values\n",
    "print(X[0:10])"
   ]
  },
  {
   "cell_type": "code",
   "execution_count": 9,
   "metadata": {},
   "outputs": [
    {
     "name": "stdout",
     "output_type": "stream",
     "text": [
      "[ 9763.94 10096.28 10451.16 10642.81 10669.64 10836.68 10941.6  10917.12\n",
      " 12211.47 12083.24]\n"
     ]
    }
   ],
   "source": [
    "y = y.iloc[:, ].values\n",
    "print(y[0:10])"
   ]
  },
  {
   "cell_type": "markdown",
   "metadata": {},
   "source": [
    "Does the dataset need re-scaling? In this particular case the (X) predictors include 3 price variables and 1 volume variable which is scaled differently. The (y) target variable is another price variable, so the data would benefit from re-scaling. The transformation I have chosen will shift the values to a range between 0 and 1 for each column. "
   ]
  },
  {
   "cell_type": "markdown",
   "metadata": {},
   "source": [
    "Make a copy of the dataframe first."
   ]
  },
  {
   "cell_type": "code",
   "execution_count": 10,
   "metadata": {},
   "outputs": [],
   "source": [
    "bitcoin = bitcoin.copy()"
   ]
  },
  {
   "cell_type": "code",
   "execution_count": 11,
   "metadata": {},
   "outputs": [
    {
     "name": "stdout",
     "output_type": "stream",
     "text": [
      "            0         1         2         3\n",
      "0    0.000000  0.000000  0.000000  0.068801\n",
      "1    0.000638  0.004016  0.000281  0.070934\n",
      "2    0.005493  0.009711  0.004140  0.103523\n",
      "3    0.010577  0.011736  0.010724  0.074775\n",
      "4    0.013220  0.013055  0.012844  0.069224\n",
      "..        ...       ...       ...       ...\n",
      "357  0.996343  0.977458  0.963766  0.205318\n",
      "358  0.961961  0.955629  0.967307  0.153570\n",
      "359  0.947145  0.929170  0.828756  0.244820\n",
      "360  0.867254  0.865348  0.858543  0.151496\n",
      "361  0.883922  0.861901  0.903027  0.158744\n",
      "\n",
      "[362 rows x 4 columns]\n"
     ]
    }
   ],
   "source": [
    "# import preprocessing from sci-kit learn\n",
    "from sklearn import preprocessing\n",
    "\n",
    "# define min max scaler\n",
    "min_max_scaler = preprocessing.MinMaxScaler()\n",
    "\n",
    "# transform data\n",
    "X_scaled = min_max_scaler.fit_transform(X)\n",
    "\n",
    "bitcoin_features = pd.DataFrame(X_scaled)\n",
    "\n",
    "bitcoin_features.to_csv(r'C:\\Users\\lynst\\Documents\\GitHub\\machine-learning-projects\\machine-learning\\bitcoin_features.csv', index = False, header = True)\n",
    "\n",
    "print(bitcoin_features)"
   ]
  },
  {
   "cell_type": "markdown",
   "metadata": {},
   "source": [
    "Repeating this process for the y values:"
   ]
  },
  {
   "cell_type": "code",
   "execution_count": 12,
   "metadata": {},
   "outputs": [
    {
     "data": {
      "image/png": "[encoded data removed]",
      "text/plain": [
       "<Figure size 1152x720 with 1 Axes>"
      ]
     },
     "metadata": {
      "needs_background": "light"
     },
     "output_type": "display_data"
    }
   ],
   "source": [
    "import matplotlib.pyplot as plt\n",
    "from matplotlib import cm\n",
    "from sklearn.preprocessing import PolynomialFeatures\n",
    "from sklearn import linear_model\n",
    "\n",
    "x = bitcoin_features.iloc[0:362,:1]\n",
    "y = bitcoin_features.iloc[0:362,-1:]\n",
    "z = bitcoin_features.iloc[0:362,3:4]\n",
    "\n",
    "fig = plt.figure(figsize=(16,10))\n",
    "ax = fig.add_subplot(projection='3d')\n",
    "ax.scatter(x, y, z, c='r', marker='o')\n",
    "ax.set_xlabel(\"Open\")\n",
    "ax.set_ylabel(\"Close\")\n",
    "ax.set_zlabel(\"Volume\")\n",
    "plt.show()   "
   ]
  },
  {
   "cell_type": "markdown",
   "metadata": {},
   "source": [
    "So for this particular comparison between the open and close prices and volume of Bitcoin transactions I can see a positive linear relationship between 'Open' and 'Close' prices. As one increases in value, so does the other. The relationship they have with 'Volume' appears somewhat linear also except for and outlier when volume spiked on Feb 26th, 2021. This was apparently due to bets by Tesla and Mastercard and stood out significantly compared to anything seen previously this year."
   ]
  },
  {
   "cell_type": "markdown",
   "metadata": {},
   "source": [
    "To display the outliers in the 'Volume' feature I've decided to use a boxplot."
   ]
  },
  {
   "cell_type": "code",
   "execution_count": 13,
   "metadata": {},
   "outputs": [
    {
     "data": {
      "text/html": [
       "<div>\n",
       "<style scoped>\n",
       "    .dataframe tbody tr th:only-of-type {\n",
       "        vertical-align: middle;\n",
       "    }\n",
       "\n",
       "    .dataframe tbody tr th {\n",
       "        vertical-align: top;\n",
       "    }\n",
       "\n",
       "    .dataframe thead th {\n",
       "        text-align: right;\n",
       "    }\n",
       "</style>\n",
       "<table border=\"1\" class=\"dataframe\">\n",
       "  <thead>\n",
       "    <tr style=\"text-align: right;\">\n",
       "      <th></th>\n",
       "      <th>3</th>\n",
       "    </tr>\n",
       "  </thead>\n",
       "  <tbody>\n",
       "    <tr>\n",
       "      <th>0</th>\n",
       "      <td>0.068801</td>\n",
       "    </tr>\n",
       "    <tr>\n",
       "      <th>1</th>\n",
       "      <td>0.070934</td>\n",
       "    </tr>\n",
       "    <tr>\n",
       "      <th>2</th>\n",
       "      <td>0.103523</td>\n",
       "    </tr>\n",
       "    <tr>\n",
       "      <th>3</th>\n",
       "      <td>0.074775</td>\n",
       "    </tr>\n",
       "    <tr>\n",
       "      <th>4</th>\n",
       "      <td>0.069224</td>\n",
       "    </tr>\n",
       "  </tbody>\n",
       "</table>\n",
       "</div>"
      ],
      "text/plain": [
       "          3\n",
       "0  0.068801\n",
       "1  0.070934\n",
       "2  0.103523\n",
       "3  0.074775\n",
       "4  0.069224"
      ]
     },
     "execution_count": 13,
     "metadata": {},
     "output_type": "execute_result"
    }
   ],
   "source": [
    "z = bitcoin_features.iloc[0:362,3:4]\n",
    "z.head()"
   ]
  },
  {
   "cell_type": "code",
   "execution_count": 14,
   "metadata": {},
   "outputs": [
    {
     "data": {
      "text/plain": [
       "<AxesSubplot:>"
      ]
     },
     "execution_count": 14,
     "metadata": {},
     "output_type": "execute_result"
    },
    {
     "data": {
      "image/png": "[encoded data removed]",
      "text/plain": [
       "<Figure size 720x576 with 1 Axes>"
      ]
     },
     "metadata": {
      "needs_background": "light"
     },
     "output_type": "display_data"
    }
   ],
   "source": [
    "fig = plt.figure(figsize=(10,8))\n",
    "vol = z\n",
    "vol.boxplot()"
   ]
  },
  {
   "cell_type": "markdown",
   "metadata": {},
   "source": [
    "### Interquartile Range Method\n",
    "To determine the outliers using an Interquartile range and remove them:"
   ]
  },
  {
   "cell_type": "code",
   "execution_count": 15,
   "metadata": {},
   "outputs": [
    {
     "name": "stdout",
     "output_type": "stream",
     "text": [
      "Percentiles: 25th=0.034, 75th=0.122, IQR=0.088\n",
      "Identified outliers: 5\n",
      "Non-outlier observations: 357\n"
     ]
    }
   ],
   "source": [
    "# import the percentile package from numpy\n",
    "from numpy import percentile\n",
    "\n",
    "# convert the Series to a one-dimensional array\n",
    "vol = np.array(z)\n",
    "\n",
    "# calculate interquartile range\n",
    "q25, q75 = percentile(vol, 25), percentile(vol, 75)\n",
    "iqr = q75 - q25\n",
    "print('Percentiles: 25th=%.3f, 75th=%.3f, IQR=%.3f' % (q25, q75, iqr))\n",
    "\n",
    "# calculate the outlier cutoff\n",
    "cut_off = iqr * 1.5\n",
    "lower, upper = q25 - cut_off, q75 + cut_off\n",
    "\n",
    "# identify outliers\n",
    "outliers = [v for v in vol if v < lower or v > upper]\n",
    "print('Identified outliers: %d' % len(outliers))\n",
    "\n",
    "# remove outliers\n",
    "non_outliers = [v for v in vol if v >= lower and v <= upper]\n",
    "print('Non-outlier observations: %d' % len(non_outliers))"
   ]
  },
  {
   "cell_type": "markdown",
   "metadata": {},
   "source": [
    "### Standard Deviation Method\n",
    "To determine outliers using the mean and standard deviation and removing any values which are outside 3 standard deviations from the mean:"
   ]
  },
  {
   "cell_type": "code",
   "execution_count": 16,
   "metadata": {},
   "outputs": [
    {
     "name": "stdout",
     "output_type": "stream",
     "text": [
      "Identified outliers: 2\n",
      "Non-outlier observations: 360\n"
     ]
    }
   ],
   "source": [
    "# identify outliers with standard deviation\n",
    "from numpy import mean\n",
    "from numpy import std\n",
    "\n",
    "# convert the Series to a one-dimensional array\n",
    "vol = np.array(z)\n",
    "\n",
    "# calculate summary statistics\n",
    "vol_mean, vol_std = mean(vol), std(vol)\n",
    "\n",
    "# identify outliers\n",
    "cut_off = vol_std * 3\n",
    "lower, upper = vol_mean - cut_off, vol_mean + cut_off\n",
    "\n",
    "# identify outliers\n",
    "outliers = [v for v in vol if v < lower or v > upper]\n",
    "print('Identified outliers: %d' % len(outliers))\n",
    "\n",
    "# remove outliers\n",
    "non_outliers = [v for v in vol if v >= lower and v <= upper]\n",
    "print('Non-outlier observations: %d' % len(non_outliers))"
   ]
  },
  {
   "cell_type": "markdown",
   "metadata": {},
   "source": [
    "### Automatic Outlier Detection Example\n"
   ]
  },
  {
   "cell_type": "code",
   "execution_count": 17,
   "metadata": {},
   "outputs": [
    {
     "name": "stdout",
     "output_type": "stream",
     "text": [
      "(362, 4) (362, 0)\n",
      "(253, 4) (109, 4) (253, 0) (109, 0)\n"
     ]
    }
   ],
   "source": [
    "from sklearn.model_selection import train_test_split\n",
    "\n",
    "# retrieve the arrays\n",
    "X = bitcoin[['Open','High','Low','Volume']].values\n",
    "y = bitcoin['Close'].values\n",
    "\n",
    "# split into input and output elements\n",
    "X, y = bitcoin_features.iloc[0:362, 0:4], bitcoin_features.iloc[0:362, 4:5]\n",
    "\n",
    "# summarize the shape of the dataset\n",
    "print(X.shape, y.shape)\n",
    "\n",
    "# split into train and test sets\n",
    "X_train, X_test, y_train, y_test = train_test_split(X, y, test_size=0.3, random_state=1)\n",
    "\n",
    "# summarize the shape of the train and test sets\n",
    "print(X_train.shape, X_test.shape, y_train.shape, y_test.shape)"
   ]
  },
  {
   "cell_type": "code",
   "execution_count": 18,
   "metadata": {},
   "outputs": [
    {
     "name": "stdout",
     "output_type": "stream",
     "text": [
      "(253, 4) (253,)\n",
      "(241, 4) (241,)\n",
      "MAE: 289.882\n"
     ]
    }
   ],
   "source": [
    "# evaluate model on training dataset with outliers removed\n",
    "from sklearn.model_selection import train_test_split\n",
    "from sklearn.linear_model import LinearRegression\n",
    "from sklearn.neighbors import LocalOutlierFactor\n",
    "from sklearn.metrics import mean_absolute_error\n",
    "\n",
    "# retrieve the arrays\n",
    "X = bitcoin[['Open','High','Low','Volume']].values\n",
    "y = bitcoin['Close'].values\n",
    "\n",
    "# split into train and test sets\n",
    "X_train, X_test, y_train, y_test = train_test_split(X, y, test_size=0.3, random_state=1)\n",
    "\n",
    "# summarize the shape of the training dataset\n",
    "print(X_train.shape, y_train.shape)\n",
    "\n",
    "# identify outliers in the training dataset\n",
    "lof = LocalOutlierFactor()\n",
    "y_pred = lof.fit_predict(X_train)\n",
    "\n",
    "# select all rows that are not outliers\n",
    "mask = y_pred != -1\n",
    "X_train, y_train = X_train[mask, :], y_train[mask]\n",
    "\n",
    "# summarize the shape of the updated training dataset\n",
    "print(X_train.shape, y_train.shape)\n",
    "\n",
    "# fit the model\n",
    "lin_reg = LinearRegression()\n",
    "lin_reg.fit(X_train, y_train)\n",
    "\n",
    "# evaluate the model\n",
    "y_pred = lin_reg.predict(X_test)\n",
    "\n",
    "# evaluate predictions\n",
    "mae = mean_absolute_error(y_test, y_pred)\n",
    "print('MAE: %.3f' % mae)"
   ]
  },
  {
   "cell_type": "markdown",
   "metadata": {},
   "source": [
    "Having removed the outliers which fall outside the boundaries set by the LocalOutlierFactor( ) function, there appear to be 12 entries removed from the updated training set giving a total of 241 rows. It should be important to remember to use the LocalOutlierFactor( ) function and fit the data to the training set. \n",
    "\n",
    "The Root Mean Squared Error metric is:"
   ]
  },
  {
   "cell_type": "code",
   "execution_count": 19,
   "metadata": {},
   "outputs": [
    {
     "data": {
      "text/plain": [
       "17.02592282017887"
      ]
     },
     "execution_count": 19,
     "metadata": {},
     "output_type": "execute_result"
    }
   ],
   "source": [
    "rmse = np.sqrt(mae)\n",
    "rmse"
   ]
  },
  {
   "cell_type": "markdown",
   "metadata": {},
   "source": [
    "Next I will perform both linear regression and polynomial regression to display prediction lines of best fit. I will only display the 'Close' price vs 'Date', so just two variables. I have chosen to manipulate data for price and time and store them in a new array called 'btc_new'."
   ]
  },
  {
   "cell_type": "code",
   "execution_count": 20,
   "metadata": {},
   "outputs": [],
   "source": [
    "# import data from filepath\n",
    "btc_cad = pd.read_csv(\"C:/Users/lynst/Documents/GitHub/machine-learning-projects/machine-learning/BTC_CAD.csv\")\n",
    "# storing dataset from filepath into new dataframe\n",
    "bitcoin = pd.DataFrame(btc_cad).dropna(axis=0)"
   ]
  },
  {
   "cell_type": "markdown",
   "metadata": {},
   "source": [
    "I have decided to create a new data array containing the variables for date and the daily close price, having converted the dates to straight forward number of days (ranging from 1 to 362), the same as the total number of 'non-null' entries."
   ]
  },
  {
   "cell_type": "code",
   "execution_count": 21,
   "metadata": {},
   "outputs": [
    {
     "data": {
      "image/png": "[encoded data removed]",
      "text/plain": [
       "<Figure size 1008x576 with 1 Axes>"
      ]
     },
     "metadata": {
      "needs_background": "light"
     },
     "output_type": "display_data"
    }
   ],
   "source": [
    "# Visualising the Linear Regression results\n",
    "figure = plt.figure(figsize=(14,8))\n",
    "\n",
    "x = np.array([1,2,3,4,5,6,7,8,9,10,11,12,13,14,15,16,17,18,19,20,21,22,23,24,25,26,27,28,29,30,31,32,33,34,35,36,37,38,39,40,41,\n",
    "              42,43,44,45,46,47,48,49,50,51,52,53,54,55,56,57,58,59,60,61,62,63,64,65,66,67,68,69,70,71,72,73,74,75,76,77,78,79,\n",
    "              80,81,82,83,84,85,86,87,88,89,90,91,92,93,94,95,96,97,98,99,100,101,102,103,104,105,106,107,108,109,110,111,112,\n",
    "              113,114,115,116,117,118,119,120,121,122,123,124,125,126,127,128,129,130,131,132,133,134,135,136,137,138,139,140,\n",
    "              141,142,143,144,145,146,147,148,149,150,151,152,153,154,155,156,157,158,159,160,161,162,163,164,165,166,167,168,\n",
    "              169,170,171,172,173,174,175,176,177,178,179,180,181,182,183,184,185,186,187,188,189,190,191,192,193,194,195,196,\n",
    "              197,198,199,200,201,202,203,204,205,206,207,208,209,210,211,212,213,214,215,216,217,218,219,220,221,222,223,224,\n",
    "              225,226,227,228,229,230,231,232,233,234,235,236,237,238,239,240,241,242,243,244,245,246,247,248,249,250,251,252,\n",
    "              253,254,255,256,257,258,259,260,261,262,263,264,265,266,267,268,269,270,271,272,273,274,275,276,277,278,279,280,\n",
    "              281,282,283,284,285,286,287,288,289,290,291,292,293,294,295,296,297,298,299,300,301,302,303,304,305,306,307,308,\n",
    "              309,310,311,312,313,314,315,316,317,318,319,320,321,322,323,324,325,326,327,328,329,330,331,332,333,334,335,336,\n",
    "              337,338,339,340,341,342,343,344,345,346,347,348,349,350,351,352,353,354,355,356,357,358,359,360,361,362])\n",
    "y = np.array([9763.94,10096.28,10451.16,10642.81,10669.64,10836.68,10941.6,10917.12,12211.47,12083.24,12644.26,12820.88,12576.13,\n",
    "              12551.25,12642.56,13128.23,13904.59,13795.97,13448.25,12194.49,12061.87,12397.94,13062.2,13659.96,13162.55,\n",
    "              13228.95,13627.94,13559.83,13560.94,13241.13,12666.33,12857.9,12895.3,12293.22,12445.06,12177.47,12630.37,13121.03,\n",
    "              13000.03,13359.9,13034.29,13812.49,12873.86,13031.1,13233.33,12972.79,12956.88,13071.93,13063.21,13147.35,13253.52,\n",
    "              12711.01,12883.57,12876.0,12803.02,12791.0,12907.76,12871.53,12793.94,12640.25,12700.57,12668.61,13028.33,13041.35,\n",
    "              12707.97,12634.47,12541.29,12380.43,12506.51,12552.25,12404.78,12543.14,12380.24,12313.75,12374.98,12296.15,\n",
    "              12693.78,12588.0,12745.56,12599.85,12614.86,12556.24,12613.8,12580.1,12571.09,12417.11,12394.21,12428.28,12437.98,\n",
    "              12469.29,12395.2,12604.21,12781.59,12843.04,12796.08,12982.28,13288.45,14662.38,14600.23,14809.4,14902.15,15186.41,\n",
    "              15771.32,14809.83,15064.88,14900.92,15582.92,15690.25,15529.15,15733.03,15633.23,15862.41,15187.81,15342.8,\n",
    "              15581.58,15614.35,15742.82,15761.58,16203.14,15775.92,15535.99,15648.99,15273.86,15391.56,15375.86,15563.07,\n",
    "              14964.79,15097.17,14859.35,15119.23,15072.56,15319.24,15230.27,15626.5,14891.18,13462.52,13731.63,13284.56,\n",
    "              13442.84,13579.41,13413.77,13471.4,13668.72,13705.81,13760.17,13609.86,14073.93,14244.94,14466.7,14398.2,14452.49,\n",
    "              14650.47,14436.9,13916.7,14013.41,13690.02,14346.23,14325.02,14397.66,14417.81,14322.13,14520.83,14357.78,14115.09,\n",
    "              14089.38,14063.2,14203.03,14325.21,14149.28,14160.03,14410.83,14818.74,14949.65,15031.95,15206.57,14936.71,\n",
    "              14984.18,15137.27,15487.81,15634.23,16869.5,17032.64,16973.62,17205.31,17133.71,17267.45,18012.41,17666.01,\n",
    "              17893.39,18045.32,18357.66,18364.88,17915.13,18279.6,18553.15,20383.97,20332.17,19375.87,20159.37,19945.73,\n",
    "              19926.42,20504.46,21384.43,21423.16,21095.38,20937.96,21858.82,23126.07,23303.57,23320.17,24380.23,24407.62,\n",
    "              24036.96,24010.26,24836.84,24356.4,22332.26,22226.46,23017.67,23600.83,25498.36,24319.8,24803.39,25023.04,23905.97,\n",
    "              24486.96,24726.68,24572.39,23481.02,23800.7,23272.47,23059.65,24014.9,24409.37,24561.12,24658.5,27166.03,29036.47,\n",
    "              29589.87,30525.81,30075.87,29308.0,30662.86,29851.39,30529.54,31754.68,34036.36,33737.04,34786.05,35085.89,\n",
    "              36777.84,36919.19,37393.09,40898.17,41711.19,40865.06,43089.99,46641.22,49945.91,51769.03,51079.4,48817.74,45432.6,\n",
    "              43108.25,47383.3,49563.35,46905.54,46081.14,45711.01,46701.33,45888.95,44892.29,38992.07,42028.71,40834.13,\n",
    "              41094.11,41229.38,41341.23,39009.81,40608.72,43844.33,43794.73,42390.85,43093.59,45408.61,47908.07,47359.34,\n",
    "              48683.77,50115.41,49642.27,58850.14,59023.47,57035.0,60845.81,60319.29,59816.94,61818.59,60583.38,62545.24,\n",
    "              66229.13,65537.27,70533.62,70772.35,72505.56,68363.29,61493.78,62195.54,59404.52,59028.47,58830.69,57312.2,62739.6,\n",
    "              61132.9,64055.45,61573.38,61913.1,61894.22,64684.29,66138.41,69333.05,70691.19,72463.92,71526.08,76406.88,73947.62,\n",
    "              69760.45,70684.33,72931.8,72297.91,73079.59,73038.24,72043.42,68277.85,68917.98,66392.34,65160.43,69541.94,\n",
    "              70596.59,70416.7,72713.56,74365.91,74029.63,74156.38,74675.77,72436.89,73827.42,73942.95,73156.52,70708.54,\n",
    "              73273.84,72978.66,74918.53,75463.91,75243.42,79598.41,78995.98,79437.88,77018.32,75906.36,70374.91,69788.23,\n",
    "              71477.76])\n",
    "\n",
    "# The array of x values\n",
    "reg_line = np.linspace(1, 362)\n",
    "\n",
    "# Applying a linear fit\n",
    "polymodel = np.poly1d(np.polyfit(x, y, deg=1))\n",
    "\n",
    "plt.scatter(x, y, color = 'turquoise')\n",
    "plt.plot(reg_line, polymodel(reg_line))\n",
    "plt.show()"
   ]
  },
  {
   "cell_type": "markdown",
   "metadata": {},
   "source": [
    "This would represent a highly positive linear relationship between price and time over the last year, specifically a high bias and low variance regression line, or an 'under-fitted' model. \n",
    "\n",
    "Making sure the values work printing out the first 10 values of each list."
   ]
  },
  {
   "cell_type": "code",
   "execution_count": 22,
   "metadata": {},
   "outputs": [
    {
     "name": "stdout",
     "output_type": "stream",
     "text": [
      "[ 1  2  3  4  5  6  7  8  9 10]\n"
     ]
    }
   ],
   "source": [
    "print(x[0:10])"
   ]
  },
  {
   "cell_type": "code",
   "execution_count": 23,
   "metadata": {},
   "outputs": [
    {
     "name": "stdout",
     "output_type": "stream",
     "text": [
      "[ 9763.94 10096.28 10451.16 10642.81 10669.64 10836.68 10941.6  10917.12\n",
      " 12211.47 12083.24]\n"
     ]
    }
   ],
   "source": [
    "print(y[0:10])"
   ]
  },
  {
   "cell_type": "markdown",
   "metadata": {},
   "source": [
    "Applying a polynomial degree of 2 this time provides an exponential curve. With a degree=2, the highest order value would be an exponent of 2, or x squared. The line used to capture these estimates are of low bias and low variance which is more suitable for prediction."
   ]
  },
  {
   "cell_type": "code",
   "execution_count": 24,
   "metadata": {},
   "outputs": [
    {
     "data": {
      "image/png": "[encoded data removed]",
      "text/plain": [
       "<Figure size 1008x576 with 1 Axes>"
      ]
     },
     "metadata": {
      "needs_background": "light"
     },
     "output_type": "display_data"
    }
   ],
   "source": [
    "figure = plt.figure(figsize=(14,8))\n",
    "\n",
    "polymodel = np.poly1d(np.polyfit(x, y, deg=2))\n",
    "\n",
    "reg_line = np.linspace(1, 362)\n",
    "\n",
    "plt.scatter(x, y, color = 'turquoise')\n",
    "plt.plot(reg_line, polymodel(reg_line))\n",
    "plt.show()"
   ]
  },
  {
   "cell_type": "markdown",
   "metadata": {},
   "source": [
    "Using a polyfit method with a degree of 50."
   ]
  },
  {
   "cell_type": "code",
   "execution_count": 25,
   "metadata": {},
   "outputs": [
    {
     "name": "stderr",
     "output_type": "stream",
     "text": [
      "C:\\Users\\lynst\\anaconda3\\lib\\site-packages\\IPython\\core\\interactiveshell.py:3441: RankWarning: Polyfit may be poorly conditioned\n",
      "  exec(code_obj, self.user_global_ns, self.user_ns)\n"
     ]
    },
    {
     "data": {
      "image/png": "[encoded data removed]",
      "text/plain": [
       "<Figure size 1008x576 with 1 Axes>"
      ]
     },
     "metadata": {
      "needs_background": "light"
     },
     "output_type": "display_data"
    }
   ],
   "source": [
    "figure = plt.figure(figsize=(14,8))\n",
    "\n",
    "polymodel = np.poly1d(np.polyfit(x, y, deg=50, rcond=None, full=False, w=None, cov=False))\n",
    "\n",
    "reg_line = np.linspace(1, 362, 362)\n",
    "\n",
    "plt.scatter(x, y, color = 'turquoise')\n",
    "plt.plot(reg_line, polymodel(reg_line))\n",
    "plt.show()\n",
    "\n",
    "# to eliminate the rank warning run this cell twice\n",
    "import warnings\n",
    "warnings.simplefilter('ignore', np.RankWarning)"
   ]
  },
  {
   "cell_type": "markdown",
   "metadata": {},
   "source": [
    "In essence this represents 'over-fitting' and a low bias / high variance model.\n",
    "\n",
    "## Select and Train a Model\n",
    "Having introduced a pipeline to clean the data and apply machine learning algorithms automatically I've chosen to apply a Linear Regression model first. Once again, selecting the data to model for each variable, but this time using four independent variables as input predictors so the polynomial algorithm can be applied to try and fit the model slightly better than before."
   ]
  },
  {
   "cell_type": "code",
   "execution_count": 26,
   "metadata": {},
   "outputs": [
    {
     "name": "stdout",
     "output_type": "stream",
     "text": [
      "         Open      High       Low        Volume\n",
      "0     9718.07   9838.33   9728.25  4.624843e+10\n",
      "1     9762.68  10125.87   9747.39  4.716635e+10\n",
      "2    10102.09  10533.73  10009.76  6.119120e+10\n",
      "3    10457.43  10678.71  10457.43  4.881932e+10\n",
      "4    10642.22  10773.18  10601.61  4.643028e+10\n",
      "..        ...       ...       ...           ...\n",
      "360  79368.23  79831.47  75262.20  1.050000e+11\n",
      "361  76964.70  78268.41  75503.00  8.272967e+10\n",
      "362  75928.95  76373.72  66081.83  1.220000e+11\n",
      "363  70344.11  71803.61  68107.27  8.183693e+10\n",
      "365  71509.30  71556.76  71132.08  8.495634e+10\n",
      "\n",
      "[362 rows x 4 columns]\n",
      "0       9763.94\n",
      "1      10096.28\n",
      "2      10451.16\n",
      "3      10642.81\n",
      "4      10669.64\n",
      "         ...   \n",
      "360    77018.32\n",
      "361    75906.36\n",
      "362    70374.91\n",
      "363    69788.23\n",
      "365    71477.76\n",
      "Name: Close, Length: 362, dtype: float64\n"
     ]
    }
   ],
   "source": [
    "# import data from filepath\n",
    "btc_cad = pd.read_csv(\"C:/Users/lynst/Documents/GitHub/machine-learning-projects/machine-learning/BTC_CAD.csv\")\n",
    "\n",
    "# storing dataset from filepath into new dataframe\n",
    "bitcoin = pd.DataFrame(btc_cad).dropna(axis=0)\n",
    "\n",
    "# remove feature with string values - Date\n",
    "del bitcoin['Date']\n",
    "\n",
    "# remove adj close as I will not be using this\n",
    "del bitcoin['Adj Close']\n",
    "\n",
    "# select features as X dataframe\n",
    "X = bitcoin[['Open','High','Low','Volume']]\n",
    "print(X)\n",
    "\n",
    "# select target as y series\n",
    "y = bitcoin['Close']\n",
    "print(y)"
   ]
  },
  {
   "cell_type": "code",
   "execution_count": 27,
   "metadata": {},
   "outputs": [
    {
     "name": "stdout",
     "output_type": "stream",
     "text": [
      "(362, 4)\n",
      "(362,)\n"
     ]
    }
   ],
   "source": [
    "print(X.shape)\n",
    "print(y.shape)"
   ]
  },
  {
   "cell_type": "markdown",
   "metadata": {},
   "source": [
    "## Scaling\n",
    "Remember to apply the scaling because 'Volume' has different units of measurement."
   ]
  },
  {
   "cell_type": "code",
   "execution_count": 28,
   "metadata": {},
   "outputs": [
    {
     "name": "stdout",
     "output_type": "stream",
     "text": [
      "            0         1         2         3\n",
      "0    0.000000  0.000000  0.000000  0.068801\n",
      "1    0.000638  0.004016  0.000281  0.070934\n",
      "2    0.005493  0.009711  0.004140  0.103523\n",
      "3    0.010577  0.011736  0.010724  0.074775\n",
      "4    0.013220  0.013055  0.012844  0.069224\n",
      "..        ...       ...       ...       ...\n",
      "357  0.996343  0.977458  0.963766  0.205318\n",
      "358  0.961961  0.955629  0.967307  0.153570\n",
      "359  0.947145  0.929170  0.828756  0.244820\n",
      "360  0.867254  0.865348  0.858543  0.151496\n",
      "361  0.883922  0.861901  0.903027  0.158744\n",
      "\n",
      "[362 rows x 4 columns]\n"
     ]
    }
   ],
   "source": [
    "# making a copy of the dataset\n",
    "bitcoin = bitcoin.copy()\n",
    "\n",
    "# import preprocessing from sci-kit learn\n",
    "from sklearn import preprocessing\n",
    "\n",
    "# define min max scaler\n",
    "min_max_scaler = preprocessing.MinMaxScaler()\n",
    "\n",
    "# transform data\n",
    "X_scaled = min_max_scaler.fit_transform(X)\n",
    "coin_features = pd.DataFrame(X_scaled)\n",
    "coin_features.to_csv(r'C:\\Users\\lynst\\Documents\\GitHub\\machine-learning-projects\\machine-learning\\bitcoin_features.csv', index = False, header = True)\n",
    "\n",
    "print(coin_features)"
   ]
  },
  {
   "cell_type": "markdown",
   "metadata": {},
   "source": [
    "Having established a more comparible set of values for the entire dataset, I can proceed with application of my Polynomial model.\n",
    "\n",
    "Before using the polynomial model I will train and fit a Linear Regression algorithm to learn from the entire dataset before the prediction or validation phase.\n",
    "\n",
    "## Fit the Linear Regression Model"
   ]
  },
  {
   "cell_type": "code",
   "execution_count": 29,
   "metadata": {},
   "outputs": [
    {
     "data": {
      "text/plain": [
       "LinearRegression()"
      ]
     },
     "execution_count": 29,
     "metadata": {},
     "output_type": "execute_result"
    }
   ],
   "source": [
    "# Fitting Linear Regression to the dataset\n",
    "from sklearn.linear_model import LinearRegression\n",
    "from sklearn.metrics import r2_score\n",
    "\n",
    "lin_reg = LinearRegression()\n",
    "lin_reg.fit(X, y)"
   ]
  },
  {
   "cell_type": "code",
   "execution_count": 30,
   "metadata": {},
   "outputs": [
    {
     "name": "stdout",
     "output_type": "stream",
     "text": [
      "0.9991952571049215\n"
     ]
    }
   ],
   "source": [
    "# printing the r2 score\n",
    "print(lin_reg.score(X, y))"
   ]
  },
  {
   "cell_type": "markdown",
   "metadata": {},
   "source": [
    "Technically the dataset should be split into training and test sets so I can fit the model to the training set and learn from it, before validating the accuracy metric against the test set. If I fit the linear regression model to all data points, then split them into two different sets for training or testing, I would be introducing bias into the model."
   ]
  },
  {
   "cell_type": "code",
   "execution_count": 31,
   "metadata": {},
   "outputs": [],
   "source": [
    "# Splitting the dataset into the Training set and Test set\n",
    "from sklearn.model_selection import train_test_split\n",
    "X_train, X_test, y_train, y_test = train_test_split(X, y, test_size=0.3, random_state=0)"
   ]
  },
  {
   "cell_type": "markdown",
   "metadata": {},
   "source": [
    "Re-running the r-squared score metric I get:"
   ]
  },
  {
   "cell_type": "code",
   "execution_count": 32,
   "metadata": {},
   "outputs": [
    {
     "name": "stdout",
     "output_type": "stream",
     "text": [
      "R2: 0.99949546\n"
     ]
    }
   ],
   "source": [
    "print('R2: %0.8f' %r2_score(y_test, lin_reg.predict(X_test)))"
   ]
  },
  {
   "cell_type": "markdown",
   "metadata": {},
   "source": [
    "This indicates that the model is generalizing well as the validation score is higher for the test set than the training set. This is a good sign! It could indicate a degree of data leakage because the score is so high, meaning it may not be the best representation of the correlation measure between the target and predictors because they're all extremely highly correlated.\n",
    "\n",
    "To obtain a descriptive statistical summary I use the describe( ) function which provides figures I can use to calculate the R-squared manually....not just relying on the sklearn.metrics module."
   ]
  },
  {
   "cell_type": "code",
   "execution_count": 33,
   "metadata": {},
   "outputs": [
    {
     "data": {
      "text/html": [
       "<div>\n",
       "<style scoped>\n",
       "    .dataframe tbody tr th:only-of-type {\n",
       "        vertical-align: middle;\n",
       "    }\n",
       "\n",
       "    .dataframe tbody tr th {\n",
       "        vertical-align: top;\n",
       "    }\n",
       "\n",
       "    .dataframe thead th {\n",
       "        text-align: right;\n",
       "    }\n",
       "</style>\n",
       "<table border=\"1\" class=\"dataframe\">\n",
       "  <thead>\n",
       "    <tr style=\"text-align: right;\">\n",
       "      <th></th>\n",
       "      <th>0</th>\n",
       "      <th>1</th>\n",
       "      <th>2</th>\n",
       "      <th>3</th>\n",
       "    </tr>\n",
       "  </thead>\n",
       "  <tbody>\n",
       "    <tr>\n",
       "      <th>count</th>\n",
       "      <td>362.000000</td>\n",
       "      <td>362.000000</td>\n",
       "      <td>362.000000</td>\n",
       "      <td>362.000000</td>\n",
       "    </tr>\n",
       "    <tr>\n",
       "      <th>mean</th>\n",
       "      <td>0.285944</td>\n",
       "      <td>0.289319</td>\n",
       "      <td>0.281567</td>\n",
       "      <td>0.085998</td>\n",
       "    </tr>\n",
       "    <tr>\n",
       "      <th>std</th>\n",
       "      <td>0.311470</td>\n",
       "      <td>0.313966</td>\n",
       "      <td>0.308727</td>\n",
       "      <td>0.076621</td>\n",
       "    </tr>\n",
       "    <tr>\n",
       "      <th>min</th>\n",
       "      <td>0.000000</td>\n",
       "      <td>0.000000</td>\n",
       "      <td>0.000000</td>\n",
       "      <td>0.000000</td>\n",
       "    </tr>\n",
       "    <tr>\n",
       "      <th>25%</th>\n",
       "      <td>0.052297</td>\n",
       "      <td>0.053712</td>\n",
       "      <td>0.048940</td>\n",
       "      <td>0.034360</td>\n",
       "    </tr>\n",
       "    <tr>\n",
       "      <th>50%</th>\n",
       "      <td>0.097304</td>\n",
       "      <td>0.102385</td>\n",
       "      <td>0.095959</td>\n",
       "      <td>0.070940</td>\n",
       "    </tr>\n",
       "    <tr>\n",
       "      <th>75%</th>\n",
       "      <td>0.500117</td>\n",
       "      <td>0.514592</td>\n",
       "      <td>0.474575</td>\n",
       "      <td>0.122357</td>\n",
       "    </tr>\n",
       "    <tr>\n",
       "      <th>max</th>\n",
       "      <td>1.000000</td>\n",
       "      <td>1.000000</td>\n",
       "      <td>1.000000</td>\n",
       "      <td>1.000000</td>\n",
       "    </tr>\n",
       "  </tbody>\n",
       "</table>\n",
       "</div>"
      ],
      "text/plain": [
       "                0           1           2           3\n",
       "count  362.000000  362.000000  362.000000  362.000000\n",
       "mean     0.285944    0.289319    0.281567    0.085998\n",
       "std      0.311470    0.313966    0.308727    0.076621\n",
       "min      0.000000    0.000000    0.000000    0.000000\n",
       "25%      0.052297    0.053712    0.048940    0.034360\n",
       "50%      0.097304    0.102385    0.095959    0.070940\n",
       "75%      0.500117    0.514592    0.474575    0.122357\n",
       "max      1.000000    1.000000    1.000000    1.000000"
      ]
     },
     "execution_count": 33,
     "metadata": {},
     "output_type": "execute_result"
    }
   ],
   "source": [
    "coin_features.describe()"
   ]
  },
  {
   "cell_type": "markdown",
   "metadata": {},
   "source": [
    "I can check the R-squared value and plug in the inputs manually to see if it works."
   ]
  },
  {
   "cell_type": "markdown",
   "metadata": {},
   "source": [
    "Defining the intercept and coefficient values for x1, x2 ... xn from the linear regression before plugging in their values to the linear regression equation."
   ]
  },
  {
   "cell_type": "code",
   "execution_count": 34,
   "metadata": {},
   "outputs": [
    {
     "data": {
      "text/plain": [
       "104.14703834189277"
      ]
     },
     "execution_count": 34,
     "metadata": {},
     "output_type": "execute_result"
    }
   ],
   "source": [
    "lin_reg.intercept_"
   ]
  },
  {
   "cell_type": "code",
   "execution_count": 35,
   "metadata": {},
   "outputs": [
    {
     "data": {
      "text/plain": [
       "array([-4.32747159e-01,  9.17019324e-01,  5.08535340e-01, -1.62880794e-09])"
      ]
     },
     "execution_count": 35,
     "metadata": {},
     "output_type": "execute_result"
    }
   ],
   "source": [
    "lin_reg.coef_"
   ]
  },
  {
   "cell_type": "markdown",
   "metadata": {},
   "source": [
    "Using the X values from the first row."
   ]
  },
  {
   "cell_type": "code",
   "execution_count": 36,
   "metadata": {},
   "outputs": [
    {
     "data": {
      "text/html": [
       "<div>\n",
       "<style scoped>\n",
       "    .dataframe tbody tr th:only-of-type {\n",
       "        vertical-align: middle;\n",
       "    }\n",
       "\n",
       "    .dataframe tbody tr th {\n",
       "        vertical-align: top;\n",
       "    }\n",
       "\n",
       "    .dataframe thead th {\n",
       "        text-align: right;\n",
       "    }\n",
       "</style>\n",
       "<table border=\"1\" class=\"dataframe\">\n",
       "  <thead>\n",
       "    <tr style=\"text-align: right;\">\n",
       "      <th></th>\n",
       "      <th>Open</th>\n",
       "      <th>High</th>\n",
       "      <th>Low</th>\n",
       "      <th>Volume</th>\n",
       "    </tr>\n",
       "  </thead>\n",
       "  <tbody>\n",
       "    <tr>\n",
       "      <th>0</th>\n",
       "      <td>9718.07</td>\n",
       "      <td>9838.33</td>\n",
       "      <td>9728.25</td>\n",
       "      <td>4.624843e+10</td>\n",
       "    </tr>\n",
       "  </tbody>\n",
       "</table>\n",
       "</div>"
      ],
      "text/plain": [
       "      Open     High      Low        Volume\n",
       "0  9718.07  9838.33  9728.25  4.624843e+10"
      ]
     },
     "execution_count": 36,
     "metadata": {},
     "output_type": "execute_result"
    }
   ],
   "source": [
    "X[:1]"
   ]
  },
  {
   "cell_type": "markdown",
   "metadata": {},
   "source": [
    "Given this is linear regression and there are no polynomial terms I can calculate a prediction based on the following:\n",
    "\n",
    "y = a + b1x1 + b2x2 + b3x3 + b4x4\n",
    "\n",
    "Then, this will form the basis for my predictive model so I assign the values to a new variable called 'y_pred'."
   ]
  },
  {
   "cell_type": "code",
   "execution_count": 37,
   "metadata": {},
   "outputs": [],
   "source": [
    "# linear regression terms for intercept and coefficients for row 1 values:\n",
    "a = lin_reg.intercept_ = 104.15\n",
    "b1 = lin_reg.coef_[0] = -0.43\n",
    "b2 = lin_reg.coef_[1] = 0.92\n",
    "b3 = lin_reg.coef_[2] = 0.51\n",
    "b4 = lin_reg.coef_[3] = -0.0000000016\n",
    "x1 = X['Open'] # = 9718.07\n",
    "x2 = X['High'] # = 9838.33\n",
    "x3 = X['Low'] # = 9728.25\n",
    "x4 = X['Volume'] # = 46248330000.0\n",
    "y = 9763.94\n",
    "y_mean = 29864.75"
   ]
  },
  {
   "cell_type": "markdown",
   "metadata": {},
   "source": [
    "Given the actual values, inetercept and coefficients (slopes), I can calculate predicted values."
   ]
  },
  {
   "cell_type": "code",
   "execution_count": 38,
   "metadata": {},
   "outputs": [
    {
     "name": "stdout",
     "output_type": "stream",
     "text": [
      "9864.053672\n"
     ]
    }
   ],
   "source": [
    "y_pred = a + (b1*x1) + (b2*x2) + (b3*x3) + (b4*x4)\n",
    "y_pred = 104.15 + (-0.43 * 9718.07) + (0.92 * 9838.33) + (0.51 * 9728.25) + (-0.0000000016 * 46248330000.0)\n",
    "print(y_pred)"
   ]
  },
  {
   "cell_type": "markdown",
   "metadata": {},
   "source": [
    "The actual y value for the first row in the table was 9763.94. To calculate the R-squared score using the definitive statistical formula gives the following result."
   ]
  },
  {
   "cell_type": "code",
   "execution_count": 39,
   "metadata": {},
   "outputs": [
    {
     "name": "stdout",
     "output_type": "stream",
     "text": [
      "The r-squared value is: 0.9999751938329084\n"
     ]
    }
   ],
   "source": [
    "r2 = 1 - ((np.sum(y_pred - y)**2) / (np.sum(y_mean - y)**2))\n",
    "print(\"The r-squared value is:\", r2)"
   ]
  },
  {
   "cell_type": "markdown",
   "metadata": {},
   "source": [
    "This is similar to the above score for the entire dataset but remember this is only for the first row in the table. Repeating this process for the entire dataset this time may require a little more thought as I need to iterate through all the values and integrate these inputs and define them as part of a new function:"
   ]
  },
  {
   "cell_type": "code",
   "execution_count": 40,
   "metadata": {},
   "outputs": [
    {
     "name": "stdout",
     "output_type": "stream",
     "text": [
      "0       9864.053515\n",
      "1      10117.700737\n",
      "2      10458.354577\n",
      "3      10687.046691\n",
      "4      10771.853653\n",
      "           ...     \n",
      "360    77636.485500\n",
      "361    77390.428733\n",
      "362    71225.057200\n",
      "363    70519.272514\n",
      "365    71328.800856\n",
      "Length: 362, dtype: float64\n"
     ]
    }
   ],
   "source": [
    "a = 104.15\n",
    "b1 = -0.43\n",
    "b2 = 0.92\n",
    "b3 = 0.51\n",
    "b4 = -0.0000000016\n",
    "x1 = X['Open']\n",
    "x2 = X['High']\n",
    "x3 = X['Low']\n",
    "x4 = X['Volume']\n",
    "\n",
    "# obtaining the predicted values for y\n",
    "def prediction():\n",
    "    for i in range(len(X)):\n",
    "        i = i + 1\n",
    "        y_pred = a + (b1*x1) + (b2*x2) + (b3*x3) + (b4*x4)\n",
    "    print(y_pred)\n",
    "prediction()\n",
    "\n"
   ]
  },
  {
   "cell_type": "code",
   "execution_count": 41,
   "metadata": {},
   "outputs": [],
   "source": [
    "from matplotlib import pyplot\n",
    "from sklearn.metrics import mean_squared_error\n",
    "from sklearn.metrics import r2_score\n",
    "\n",
    "# create actual and predicted values\n",
    "y = bitcoin['Close']\n",
    "actual = y\n",
    "\n",
    "y_pred = a + (b1*x1) + (b2*x2) + (b3*x3) + (b4*x4)\n",
    "predicted = y_pred"
   ]
  },
  {
   "cell_type": "code",
   "execution_count": 42,
   "metadata": {},
   "outputs": [
    {
     "data": {
      "text/plain": [
       "0     9763.94\n",
       "1    10096.28\n",
       "2    10451.16\n",
       "3    10642.81\n",
       "4    10669.64\n",
       "5    10836.68\n",
       "6    10941.60\n",
       "7    10917.12\n",
       "8    12211.47\n",
       "9    12083.24\n",
       "Name: Close, dtype: float64"
      ]
     },
     "execution_count": 42,
     "metadata": {},
     "output_type": "execute_result"
    }
   ],
   "source": [
    "actual[0:10]"
   ]
  },
  {
   "cell_type": "code",
   "execution_count": 43,
   "metadata": {},
   "outputs": [
    {
     "data": {
      "text/plain": [
       "0     9864.053515\n",
       "1    10117.700737\n",
       "2    10458.354577\n",
       "3    10687.046691\n",
       "4    10771.853653\n",
       "5    10864.954374\n",
       "6    10956.095958\n",
       "7    10896.645189\n",
       "8    12144.183875\n",
       "9    12831.897689\n",
       "dtype: float64"
      ]
     },
     "execution_count": 43,
     "metadata": {},
     "output_type": "execute_result"
    }
   ],
   "source": [
    "predicted[0:10]"
   ]
  },
  {
   "cell_type": "code",
   "execution_count": 44,
   "metadata": {},
   "outputs": [
    {
     "name": "stdout",
     "output_type": "stream",
     "text": [
      "Mean Squared Error is: 454793.55018377956\n",
      "Root Mean Squared Error is: 674.3838300135758\n",
      "\n",
      "\n"
     ]
    },
    {
     "data": {
      "image/png": "[encoded data removed]",
      "text/plain": [
       "<Figure size 720x720 with 1 Axes>"
      ]
     },
     "metadata": {
      "needs_background": "light"
     },
     "output_type": "display_data"
    }
   ],
   "source": [
    "# create error values\n",
    "error = actual - predicted\n",
    "error = y - y_pred\n",
    "errors = np.sum(error)\n",
    "errors = list()\n",
    "mse = mean_squared_error(y, y_pred)\n",
    "rmse = np.sqrt(mse)\n",
    "\n",
    "def summary_stats():\n",
    "    for i in range(len(actual)):\n",
    "        error = actual - predicted\n",
    "        error = y - y_pred\n",
    "        errors = np.sum(error)\n",
    "        errors = np.sum(y - y_pred)\n",
    "        errors = list()\n",
    "        mse = mean_squared_error(y, y_pred)\n",
    "        rmse = np.sqrt(mse)\n",
    "        \n",
    "summary_stats()\n",
    "\n",
    "print(\"Mean Squared Error is:\", mse)\n",
    "print(\"Root Mean Squared Error is:\", rmse)\n",
    "print(\"\\n\")\n",
    "\n",
    "# plot errors\n",
    "fig = pyplot.figure(figsize=(10,10))\n",
    "pyplot.plot(errors)\n",
    "pyplot.scatter(y, y_pred, color = 'coral')\n",
    "pyplot.xlabel('Predicted Value')\n",
    "pyplot.ylabel('Actual Value')\n",
    "pyplot.show()"
   ]
  },
  {
   "cell_type": "markdown",
   "metadata": {},
   "source": [
    "Having trained my model on predictor inputs, labeled targets and establishing a measure for the root mean squared error or the 'Loss Function', this can be used to compare the predictions to the targets. An important point to note is that it's better to better to perform scores on unseen test data that isn't used in the training phase. I can assess this measure as the level of risk or the degree of the dispersion of data observations about their mean. The r-squared score is the degree of accuracy of the linear relationship.\n",
    "\n",
    "## Fit the Polynomial Model\n",
    "Using the 'Open', 'High', 'Low' and 'Volume' input features and 'Close' as the output target can be modeled using the following Polynomial Regression formula for predicting y values:\n",
    "\n",
    "\n",
    "$$  y = a + b1x1 + b2x2 + b3x3 + b4x4 + {(b5x1)^2} + {(b6x2)^2} + {(b7x3)^2} + {(b8x4)^2} + b9x1x2 + b10x1x3 + b11x1x4 + b12x2x3 + b13x2x4 + b14x3x4  $$\n",
    "\n",
    "\n",
    "So I can see there are a total of 15 terms in this polynomial function which includes an intercept value (a) and several coefficients for each value of X, X-squared and the cross-multiplied combinations, cross-product, or vector-product of all features (x1, x2, x3, x4 etc)."
   ]
  },
  {
   "cell_type": "code",
   "execution_count": 45,
   "metadata": {},
   "outputs": [
    {
     "data": {
      "text/plain": [
       "PolynomialFeatures()"
      ]
     },
     "execution_count": 45,
     "metadata": {},
     "output_type": "execute_result"
    }
   ],
   "source": [
    "# Fitting Polynomial Regression followed by Linear Regression\n",
    "from sklearn.preprocessing import PolynomialFeatures\n",
    "from sklearn.metrics import r2_score\n",
    "\n",
    "poly = PolynomialFeatures(degree=2)\n",
    "X_poly = poly.fit_transform(X)\n",
    "poly.fit(X_poly, y)"
   ]
  },
  {
   "cell_type": "markdown",
   "metadata": {},
   "source": [
    "There is no r-squared score for the polynomial model because the resultant training set (which is non-linear) has a different number of features than original."
   ]
  },
  {
   "cell_type": "markdown",
   "metadata": {},
   "source": [
    "## Split the Dataset\n",
    "First I've decided to import the train_test_split function to split the dataset into respective training and test sets (for both X and y values in each set)."
   ]
  },
  {
   "cell_type": "code",
   "execution_count": 46,
   "metadata": {},
   "outputs": [],
   "source": [
    "# Splitting the dataset into the Training set and Test set\n",
    "from sklearn.model_selection import train_test_split\n",
    "X_train, X_test, y_train, y_test = train_test_split(X_poly, y, test_size=0.3, random_state=0)"
   ]
  },
  {
   "cell_type": "markdown",
   "metadata": {},
   "source": [
    "## Applying Regularization to the Model\n",
    "In this particular instance I have chosen L2 regularization which will penalize the Loss (or cost) function by summing the coefficients and equalizing features which exhibit strong colinearity, while simultaneously reducing the effect of redundant coefficients. (See the colinearity matrix in the previous <a href=\"https://github.com/lynstanford/machine-learning-projects/machine-learning/multiple_regression.ipynb\">Linear Regression</a> model). For the purpose of this exercise the Root Mean Squared Error is used as the loss function.\n",
    "\n",
    "Note, I have two hyperparameters I can adjust here including 'alpha' and 'normalize'. The 'alpha' value is the learning rate which controls the size of the incremental steps for the learning rate and the 'normalize' adjustment will re-scale the feature values between 0 and 1 for each observation in the dataset. An r-squared score will be used to determine its accuracy."
   ]
  },
  {
   "cell_type": "markdown",
   "metadata": {},
   "source": [
    "## Check the Accuracy Score for the Ridge Regression Fit\n",
    "Using (L2) Ridge Regression first to see how close the relationship between X_train and y_train is, then validating against the test set."
   ]
  },
  {
   "cell_type": "code",
   "execution_count": 47,
   "metadata": {},
   "outputs": [
    {
     "name": "stdout",
     "output_type": "stream",
     "text": [
      "R2: 0.99365203\n"
     ]
    }
   ],
   "source": [
    "from sklearn.linear_model import Ridge\n",
    "\n",
    "ridge_reg = Ridge(alpha=0.1, normalize=True)\n",
    "ridge_reg.fit(X_train, y_train)\n",
    "print('R2: %0.8f' %r2_score(y_test, ridge_reg.predict(X_test)))"
   ]
  },
  {
   "cell_type": "markdown",
   "metadata": {},
   "source": [
    "Adjusting the learning rate:"
   ]
  },
  {
   "cell_type": "code",
   "execution_count": 48,
   "metadata": {},
   "outputs": [
    {
     "name": "stdout",
     "output_type": "stream",
     "text": [
      "R2: 0.99903845\n"
     ]
    }
   ],
   "source": [
    "ridge_reg = Ridge(alpha=0.01, normalize=True)\n",
    "ridge_reg.fit(X_train, y_train)\n",
    "print('R2: %0.8f' %r2_score(y_test, ridge_reg.predict(X_test)))"
   ]
  },
  {
   "cell_type": "markdown",
   "metadata": {},
   "source": [
    "So changing the alpha learning rate from 0.1 to 0.01 implies I am increasing the number of steps it will take to reach the global minimum which means that convergence is slower, but also less likely to over-shoot the optimal solution. The accuracy score has dropped slightly as a result of lowering the alpha hyperparameter.\n",
    "\n",
    "Having expanded the dataset using degree=2, a Polynomial Regression model does not have a score method so the dataset first has to be standardized using a linear model of some description. In this instance I am going to apply RidgeRegression( ) rather than straight forward LinearRegression( ) because the next important step is to standardize data using a regularization technique and reducing the scale of the units of measurement somewhere between -1 and +1, or between 0 and 1 depending on the scale I've chosen. Then the accuracy score can be applied after standardization."
   ]
  },
  {
   "cell_type": "markdown",
   "metadata": {},
   "source": [
    "## Re-scaling the Polynomial Dataset\n",
    "Some of the values in this table would be far too large and exacerbate the effects of the model, so once again I have to scale the values and save the result as a csv file."
   ]
  },
  {
   "cell_type": "code",
   "execution_count": 49,
   "metadata": {},
   "outputs": [
    {
     "name": "stdout",
     "output_type": "stream",
     "text": [
      "      0         1         2         3         4         5         6   \\\n",
      "0    0.0  0.000000  0.000000  0.000000  0.068801  0.000000  0.000000   \n",
      "1    0.0  0.000638  0.004016  0.000281  0.070934  0.000139  0.000508   \n",
      "2    0.0  0.005493  0.009711  0.004140  0.103523  0.001219  0.001691   \n",
      "3    0.0  0.010577  0.011736  0.010724  0.074775  0.002388  0.002514   \n",
      "4    0.0  0.013220  0.013055  0.012844  0.069224  0.003013  0.002980   \n",
      "..   ...       ...       ...       ...       ...       ...       ...   \n",
      "357  0.0  0.996343  0.977458  0.963766  0.205318  0.993493  0.976690   \n",
      "358  0.0  0.961961  0.955629  0.967307  0.153570  0.933329  0.927832   \n",
      "359  0.0  0.947145  0.929170  0.828756  0.244820  0.907974  0.892628   \n",
      "360  0.0  0.867254  0.865348  0.858543  0.151496  0.777174  0.775557   \n",
      "361  0.0  0.883922  0.861901  0.903027  0.158744  0.803639  0.785889   \n",
      "\n",
      "           7         8         9         10        11        12        13  \\\n",
      "0    0.000000  0.009260  0.000000  0.000000  0.009091  0.000000  0.009871   \n",
      "1    0.000103  0.009677  0.000878  0.000484  0.009920  0.000063  0.010266   \n",
      "2    0.001089  0.015651  0.002167  0.001574  0.016047  0.000934  0.016406   \n",
      "3    0.002452  0.011574  0.002638  0.002582  0.011524  0.002475  0.012307   \n",
      "4    0.003026  0.010952  0.002948  0.002993  0.010749  0.002986  0.011572   \n",
      "..        ...       ...       ...       ...       ...       ...       ...   \n",
      "357  0.972791  0.307931  0.960173  0.956328  0.299961  0.936614  0.309403   \n",
      "358  0.945925  0.233440  0.922367  0.940349  0.229983  0.942719  0.242838   \n",
      "359  0.814616  0.343149  0.877543  0.800831  0.334279  0.718410  0.315811   \n",
      "360  0.777123  0.210312  0.773944  0.775507  0.208006  0.764115  0.215803   \n",
      "361  0.826047  0.222374  0.768530  0.807797  0.215455  0.834939  0.234670   \n",
      "\n",
      "           14  \n",
      "0    0.009332  \n",
      "1    0.009762  \n",
      "2    0.017378  \n",
      "3    0.010557  \n",
      "4    0.009417  \n",
      "..        ...  \n",
      "357  0.053867  \n",
      "358  0.032914  \n",
      "359  0.073207  \n",
      "360  0.032177  \n",
      "361  0.034785  \n",
      "\n",
      "[362 rows x 15 columns]\n"
     ]
    }
   ],
   "source": [
    "# create a new copy of the dataset\n",
    "X_poly = X_poly.copy()\n",
    "\n",
    "# import preprocessing from sci-kit learn\n",
    "from sklearn import preprocessing\n",
    "\n",
    "# define min max scaler\n",
    "min_max_scaler = preprocessing.MinMaxScaler()\n",
    "\n",
    "# transform data\n",
    "X_poly_scaled = min_max_scaler.fit_transform(X_poly)\n",
    "X_poly_features = pd.DataFrame(X_poly_scaled)\n",
    "X_poly_features.to_csv(r'C:\\Users\\lynst\\Documents\\GitHub\\machine-learning-projects\\machine-learning\\X_poly_features.csv', index = False, header = True)\n",
    "\n",
    "print(X_poly_features)"
   ]
  },
  {
   "cell_type": "markdown",
   "metadata": {},
   "source": [
    "The shape of the new dataset with all the extended features is much larger and I can see a distinctive change in dimensions. Printing out the shape of the training set from the polynomial data gives:"
   ]
  },
  {
   "cell_type": "code",
   "execution_count": 50,
   "metadata": {},
   "outputs": [
    {
     "name": "stdout",
     "output_type": "stream",
     "text": [
      "(362, 15)\n"
     ]
    }
   ],
   "source": [
    "print(X_poly.shape)"
   ]
  },
  {
   "cell_type": "markdown",
   "metadata": {},
   "source": [
    "Now for the training sets for X and y, 70% of the total values."
   ]
  },
  {
   "cell_type": "code",
   "execution_count": 51,
   "metadata": {},
   "outputs": [
    {
     "name": "stdout",
     "output_type": "stream",
     "text": [
      "(253, 15)\n",
      "(253,)\n"
     ]
    }
   ],
   "source": [
    "print(X_train.shape)\n",
    "print(y_train.shape)"
   ]
  },
  {
   "cell_type": "markdown",
   "metadata": {},
   "source": [
    "And the shape of the test data."
   ]
  },
  {
   "cell_type": "code",
   "execution_count": 52,
   "metadata": {},
   "outputs": [
    {
     "name": "stdout",
     "output_type": "stream",
     "text": [
      "(109, 15)\n",
      "(109,)\n"
     ]
    }
   ],
   "source": [
    "print(X_test.shape)\n",
    "print(y_test.shape)"
   ]
  },
  {
   "cell_type": "code",
   "execution_count": 53,
   "metadata": {},
   "outputs": [
    {
     "name": "stdout",
     "output_type": "stream",
     "text": [
      "R2: 0.99941257\n"
     ]
    },
    {
     "name": "stderr",
     "output_type": "stream",
     "text": [
      "C:\\Users\\lynst\\anaconda3\\lib\\site-packages\\sklearn\\linear_model\\_ridge.py:147: LinAlgWarning: Ill-conditioned matrix (rcond=2.34401e-48): result may not be accurate.\n",
      "  return linalg.solve(A, Xy, sym_pos=True,\n"
     ]
    }
   ],
   "source": [
    "ridge_reg = Ridge(alpha=0.1, solver=\"auto\")\n",
    "ridge_reg.fit(X_poly, y)\n",
    "print('R2: %0.8f' %r2_score(y_test, ridge_reg.predict(X_test)))"
   ]
  },
  {
   "cell_type": "code",
   "execution_count": 54,
   "metadata": {},
   "outputs": [
    {
     "name": "stdout",
     "output_type": "stream",
     "text": [
      "R2: 0.99941257\n"
     ]
    },
    {
     "name": "stderr",
     "output_type": "stream",
     "text": [
      "C:\\Users\\lynst\\anaconda3\\lib\\site-packages\\sklearn\\linear_model\\_ridge.py:147: LinAlgWarning: Ill-conditioned matrix (rcond=2.34401e-49): result may not be accurate.\n",
      "  return linalg.solve(A, Xy, sym_pos=True,\n"
     ]
    }
   ],
   "source": [
    "ridge_reg = Ridge(alpha=0.01, solver=\"auto\")\n",
    "ridge_reg.fit(X_poly, y)\n",
    "print('R2: %0.8f' %r2_score(y_test, ridge_reg.predict(X_test)))"
   ]
  },
  {
   "cell_type": "code",
   "execution_count": 55,
   "metadata": {},
   "outputs": [
    {
     "data": {
      "text/html": [
       "<div>\n",
       "<style scoped>\n",
       "    .dataframe tbody tr th:only-of-type {\n",
       "        vertical-align: middle;\n",
       "    }\n",
       "\n",
       "    .dataframe tbody tr th {\n",
       "        vertical-align: top;\n",
       "    }\n",
       "\n",
       "    .dataframe thead th {\n",
       "        text-align: right;\n",
       "    }\n",
       "</style>\n",
       "<table border=\"1\" class=\"dataframe\">\n",
       "  <thead>\n",
       "    <tr style=\"text-align: right;\">\n",
       "      <th></th>\n",
       "      <th>0</th>\n",
       "      <th>1</th>\n",
       "      <th>2</th>\n",
       "      <th>3</th>\n",
       "      <th>4</th>\n",
       "      <th>5</th>\n",
       "      <th>6</th>\n",
       "      <th>7</th>\n",
       "      <th>8</th>\n",
       "      <th>9</th>\n",
       "      <th>10</th>\n",
       "      <th>11</th>\n",
       "      <th>12</th>\n",
       "      <th>13</th>\n",
       "      <th>14</th>\n",
       "    </tr>\n",
       "  </thead>\n",
       "  <tbody>\n",
       "    <tr>\n",
       "      <th>count</th>\n",
       "      <td>362.0</td>\n",
       "      <td>362.000000</td>\n",
       "      <td>362.000000</td>\n",
       "      <td>362.000000</td>\n",
       "      <td>362.000000</td>\n",
       "      <td>362.000000</td>\n",
       "      <td>362.000000</td>\n",
       "      <td>362.000000</td>\n",
       "      <td>362.000000</td>\n",
       "      <td>362.000000</td>\n",
       "      <td>362.000000</td>\n",
       "      <td>362.000000</td>\n",
       "      <td>362.000000</td>\n",
       "      <td>362.000000</td>\n",
       "      <td>362.000000</td>\n",
       "    </tr>\n",
       "    <tr>\n",
       "      <th>mean</th>\n",
       "      <td>0.0</td>\n",
       "      <td>0.285944</td>\n",
       "      <td>0.289319</td>\n",
       "      <td>0.281567</td>\n",
       "      <td>0.085998</td>\n",
       "      <td>0.201882</td>\n",
       "      <td>0.203430</td>\n",
       "      <td>0.201590</td>\n",
       "      <td>0.068476</td>\n",
       "      <td>0.205139</td>\n",
       "      <td>0.203212</td>\n",
       "      <td>0.068624</td>\n",
       "      <td>0.198187</td>\n",
       "      <td>0.069836</td>\n",
       "      <td>0.018472</td>\n",
       "    </tr>\n",
       "    <tr>\n",
       "      <th>std</th>\n",
       "      <td>0.0</td>\n",
       "      <td>0.311470</td>\n",
       "      <td>0.313966</td>\n",
       "      <td>0.308727</td>\n",
       "      <td>0.076621</td>\n",
       "      <td>0.289511</td>\n",
       "      <td>0.290496</td>\n",
       "      <td>0.289811</td>\n",
       "      <td>0.093199</td>\n",
       "      <td>0.291888</td>\n",
       "      <td>0.291011</td>\n",
       "      <td>0.093289</td>\n",
       "      <td>0.286078</td>\n",
       "      <td>0.093804</td>\n",
       "      <td>0.054482</td>\n",
       "    </tr>\n",
       "    <tr>\n",
       "      <th>min</th>\n",
       "      <td>0.0</td>\n",
       "      <td>0.000000</td>\n",
       "      <td>0.000000</td>\n",
       "      <td>0.000000</td>\n",
       "      <td>0.000000</td>\n",
       "      <td>0.000000</td>\n",
       "      <td>0.000000</td>\n",
       "      <td>0.000000</td>\n",
       "      <td>0.000000</td>\n",
       "      <td>0.000000</td>\n",
       "      <td>0.000000</td>\n",
       "      <td>0.000000</td>\n",
       "      <td>0.000000</td>\n",
       "      <td>0.000000</td>\n",
       "      <td>0.000000</td>\n",
       "    </tr>\n",
       "    <tr>\n",
       "      <th>25%</th>\n",
       "      <td>0.0</td>\n",
       "      <td>0.052297</td>\n",
       "      <td>0.053712</td>\n",
       "      <td>0.048940</td>\n",
       "      <td>0.034360</td>\n",
       "      <td>0.013517</td>\n",
       "      <td>0.013694</td>\n",
       "      <td>0.013232</td>\n",
       "      <td>0.009673</td>\n",
       "      <td>0.013841</td>\n",
       "      <td>0.013484</td>\n",
       "      <td>0.009502</td>\n",
       "      <td>0.012750</td>\n",
       "      <td>0.009878</td>\n",
       "      <td>0.003562</td>\n",
       "    </tr>\n",
       "    <tr>\n",
       "      <th>50%</th>\n",
       "      <td>0.0</td>\n",
       "      <td>0.097304</td>\n",
       "      <td>0.102385</td>\n",
       "      <td>0.095959</td>\n",
       "      <td>0.070940</td>\n",
       "      <td>0.028593</td>\n",
       "      <td>0.029021</td>\n",
       "      <td>0.028813</td>\n",
       "      <td>0.021582</td>\n",
       "      <td>0.030294</td>\n",
       "      <td>0.029576</td>\n",
       "      <td>0.021834</td>\n",
       "      <td>0.028549</td>\n",
       "      <td>0.022574</td>\n",
       "      <td>0.009763</td>\n",
       "    </tr>\n",
       "    <tr>\n",
       "      <th>75%</th>\n",
       "      <td>0.0</td>\n",
       "      <td>0.500117</td>\n",
       "      <td>0.514592</td>\n",
       "      <td>0.474575</td>\n",
       "      <td>0.122357</td>\n",
       "      <td>0.304526</td>\n",
       "      <td>0.313828</td>\n",
       "      <td>0.290788</td>\n",
       "      <td>0.126675</td>\n",
       "      <td>0.318648</td>\n",
       "      <td>0.303958</td>\n",
       "      <td>0.129261</td>\n",
       "      <td>0.280701</td>\n",
       "      <td>0.132906</td>\n",
       "      <td>0.022679</td>\n",
       "    </tr>\n",
       "    <tr>\n",
       "      <th>max</th>\n",
       "      <td>0.0</td>\n",
       "      <td>1.000000</td>\n",
       "      <td>1.000000</td>\n",
       "      <td>1.000000</td>\n",
       "      <td>1.000000</td>\n",
       "      <td>1.000000</td>\n",
       "      <td>1.000000</td>\n",
       "      <td>1.000000</td>\n",
       "      <td>1.000000</td>\n",
       "      <td>1.000000</td>\n",
       "      <td>1.000000</td>\n",
       "      <td>1.000000</td>\n",
       "      <td>1.000000</td>\n",
       "      <td>1.000000</td>\n",
       "      <td>1.000000</td>\n",
       "    </tr>\n",
       "  </tbody>\n",
       "</table>\n",
       "</div>"
      ],
      "text/plain": [
       "          0           1           2           3           4           5   \\\n",
       "count  362.0  362.000000  362.000000  362.000000  362.000000  362.000000   \n",
       "mean     0.0    0.285944    0.289319    0.281567    0.085998    0.201882   \n",
       "std      0.0    0.311470    0.313966    0.308727    0.076621    0.289511   \n",
       "min      0.0    0.000000    0.000000    0.000000    0.000000    0.000000   \n",
       "25%      0.0    0.052297    0.053712    0.048940    0.034360    0.013517   \n",
       "50%      0.0    0.097304    0.102385    0.095959    0.070940    0.028593   \n",
       "75%      0.0    0.500117    0.514592    0.474575    0.122357    0.304526   \n",
       "max      0.0    1.000000    1.000000    1.000000    1.000000    1.000000   \n",
       "\n",
       "               6           7           8           9           10          11  \\\n",
       "count  362.000000  362.000000  362.000000  362.000000  362.000000  362.000000   \n",
       "mean     0.203430    0.201590    0.068476    0.205139    0.203212    0.068624   \n",
       "std      0.290496    0.289811    0.093199    0.291888    0.291011    0.093289   \n",
       "min      0.000000    0.000000    0.000000    0.000000    0.000000    0.000000   \n",
       "25%      0.013694    0.013232    0.009673    0.013841    0.013484    0.009502   \n",
       "50%      0.029021    0.028813    0.021582    0.030294    0.029576    0.021834   \n",
       "75%      0.313828    0.290788    0.126675    0.318648    0.303958    0.129261   \n",
       "max      1.000000    1.000000    1.000000    1.000000    1.000000    1.000000   \n",
       "\n",
       "               12          13          14  \n",
       "count  362.000000  362.000000  362.000000  \n",
       "mean     0.198187    0.069836    0.018472  \n",
       "std      0.286078    0.093804    0.054482  \n",
       "min      0.000000    0.000000    0.000000  \n",
       "25%      0.012750    0.009878    0.003562  \n",
       "50%      0.028549    0.022574    0.009763  \n",
       "75%      0.280701    0.132906    0.022679  \n",
       "max      1.000000    1.000000    1.000000  "
      ]
     },
     "execution_count": 55,
     "metadata": {},
     "output_type": "execute_result"
    }
   ],
   "source": [
    "X_poly_features.describe()"
   ]
  },
  {
   "cell_type": "code",
   "execution_count": 56,
   "metadata": {},
   "outputs": [
    {
     "data": {
      "text/html": [
       "<div>\n",
       "<style scoped>\n",
       "    .dataframe tbody tr th:only-of-type {\n",
       "        vertical-align: middle;\n",
       "    }\n",
       "\n",
       "    .dataframe tbody tr th {\n",
       "        vertical-align: top;\n",
       "    }\n",
       "\n",
       "    .dataframe thead th {\n",
       "        text-align: right;\n",
       "    }\n",
       "</style>\n",
       "<table border=\"1\" class=\"dataframe\">\n",
       "  <thead>\n",
       "    <tr style=\"text-align: right;\">\n",
       "      <th></th>\n",
       "      <th>0</th>\n",
       "      <th>1</th>\n",
       "      <th>2</th>\n",
       "      <th>3</th>\n",
       "      <th>4</th>\n",
       "      <th>5</th>\n",
       "      <th>6</th>\n",
       "      <th>7</th>\n",
       "      <th>8</th>\n",
       "      <th>9</th>\n",
       "      <th>10</th>\n",
       "      <th>11</th>\n",
       "      <th>12</th>\n",
       "      <th>13</th>\n",
       "      <th>14</th>\n",
       "    </tr>\n",
       "  </thead>\n",
       "  <tbody>\n",
       "    <tr>\n",
       "      <th>0</th>\n",
       "      <td>0.0</td>\n",
       "      <td>0.0</td>\n",
       "      <td>0.0</td>\n",
       "      <td>0.0</td>\n",
       "      <td>0.068801</td>\n",
       "      <td>0.0</td>\n",
       "      <td>0.0</td>\n",
       "      <td>0.0</td>\n",
       "      <td>0.00926</td>\n",
       "      <td>0.0</td>\n",
       "      <td>0.0</td>\n",
       "      <td>0.009091</td>\n",
       "      <td>0.0</td>\n",
       "      <td>0.009871</td>\n",
       "      <td>0.009332</td>\n",
       "    </tr>\n",
       "  </tbody>\n",
       "</table>\n",
       "</div>"
      ],
      "text/plain": [
       "    0    1    2    3         4    5    6    7        8    9    10        11  \\\n",
       "0  0.0  0.0  0.0  0.0  0.068801  0.0  0.0  0.0  0.00926  0.0  0.0  0.009091   \n",
       "\n",
       "    12        13        14  \n",
       "0  0.0  0.009871  0.009332  "
      ]
     },
     "execution_count": 56,
     "metadata": {},
     "output_type": "execute_result"
    }
   ],
   "source": [
    "X_poly_features[:1]"
   ]
  },
  {
   "cell_type": "markdown",
   "metadata": {},
   "source": [
    "So looking into the first entry of a DataFrame object after applying regularization (L2, Ridge Regression) I can see that where a high degree of multi-colinearity exists between the features, the coefficients of those particular features are given a 'zero' value negating their effect on the model. It's the same as removing them completely. Any remaining coefficients which are positive in value (albeit negligable) stand out and obviously contribute more toward the calculation of the cost function, error calculation accuracy and optimization through iterative single-step gradient Descent."
   ]
  },
  {
   "cell_type": "code",
   "execution_count": 57,
   "metadata": {},
   "outputs": [
    {
     "data": {
      "text/plain": [
       "-326.67554954517254"
      ]
     },
     "execution_count": 57,
     "metadata": {},
     "output_type": "execute_result"
    }
   ],
   "source": [
    "ridge_reg.intercept_"
   ]
  },
  {
   "cell_type": "code",
   "execution_count": 58,
   "metadata": {},
   "outputs": [
    {
     "data": {
      "text/plain": [
       "array([ 0.00000000e+00, -7.38591268e-01,  9.42522750e-01,  8.23684492e-01,\n",
       "        8.16843578e-10,  6.95282738e-05, -1.63368663e-04,  2.45143694e-05,\n",
       "        8.39001882e-12,  1.04865633e-04, -4.82393472e-05, -6.67769079e-12,\n",
       "        1.24799557e-05, -1.78721597e-12,  2.10454668e-20])"
      ]
     },
     "execution_count": 58,
     "metadata": {},
     "output_type": "execute_result"
    }
   ],
   "source": [
    "ridge_reg.coef_"
   ]
  },
  {
   "cell_type": "code",
   "execution_count": 59,
   "metadata": {},
   "outputs": [
    {
     "data": {
      "text/plain": [
       "array([[1.00000000e+00, 9.71807000e+03, 9.83833000e+03, 9.72825000e+03,\n",
       "        4.62484281e+10, 9.44408845e+07, 9.56095796e+07, 9.45398145e+07,\n",
       "        4.49445461e+14, 9.67927372e+07, 9.57097338e+07, 4.55007297e+14,\n",
       "        9.46388481e+07, 4.49916270e+14, 2.13891710e+21]])"
      ]
     },
     "execution_count": 59,
     "metadata": {},
     "output_type": "execute_result"
    }
   ],
   "source": [
    "X_poly[:1]"
   ]
  },
  {
   "cell_type": "code",
   "execution_count": 60,
   "metadata": {},
   "outputs": [],
   "source": [
    "# polynomial regression terms for intercept and coefficients for row 1 values:\n",
    "a = ridge_reg.intercept_ = 11252.62\n",
    "b1 = ridge_reg.coef_[0] = 0.00000000e+00\n",
    "b2 = ridge_reg.coef_[1] = 2.20274036e-08\n",
    "b3 = ridge_reg.coef_[2] = 1.01935648e-10\n",
    "b4 = ridge_reg.coef_[3] = 9.51892565e-11\n",
    "b5 = ridge_reg.coef_[4] = 3.60723223e-08\n",
    "b6 = ridge_reg.coef_[5] = -7.32977764e-06\n",
    "b7 = ridge_reg.coef_[6] = -7.82330374e-07\n",
    "b8 = ridge_reg.coef_[7] = -9.48440941e-07\n",
    "b9 = ridge_reg.coef_[8] = -2.11819215e-13\n",
    "b10 = ridge_reg.coef_[9] = 5.91877653e-06\n",
    "b11 = ridge_reg.coef_[10] = 5.75005955e-06\n",
    "b12 = ridge_reg.coef_[11] = 2.53097632e-12\n",
    "b13 = ridge_reg.coef_[12] = 5.46672010e-06\n",
    "b14 = ridge_reg.coef_[13] = 1.44524432e-12\n",
    "b15 = ridge_reg.coef_[14] = -4.88291757e-19\n",
    "x1 = 1.0\n",
    "x2 = X['Open']         # = 9718.07\n",
    "x3 = X['High']         # = 9838.33\n",
    "x4 = X['Low']          # = 9728.25\n",
    "x5 = X['Volume']       # = 46248330000.0\n",
    "x6 = (X['Open'])**2    # = (9.44408845e+07)**2\n",
    "x7 = (X['High'])**2    # = (9.56095796e+07)**2\n",
    "x8 = (X['Low'])**2     # = (9.45398145e+07)**2\n",
    "x9 = (X['Volume'])**2  # = (4.49445461e+14)**2\n",
    "x10 = x1 * x2          # = 9.67927372e+07\n",
    "x11 = x1 * x3          # = 9.57097338e+07\n",
    "x12 = x1 * x4          # = 4.55007297e+14\n",
    "x13 = x2 * x3          # = 9.46388481e+07\n",
    "x14 = x2 * x4          # = 4.49916270e+14\n",
    "x15 = x3 * x4          # = 2.13891710e+21\n",
    "\n",
    "y = 9763.94\n",
    "y_mean = 29864.75"
   ]
  },
  {
   "cell_type": "code",
   "execution_count": 61,
   "metadata": {},
   "outputs": [
    {
     "name": "stdout",
     "output_type": "stream",
     "text": [
      "14367.044225465808\n"
     ]
    }
   ],
   "source": [
    "y_pred = a + (b1*x1) + (b2*x2) + (b3*x3) + (b4*x4) + (b5*x5) + (b6*x6) + (b7*x7) + (b8*x8) + (b9*x9) + (b10*x10) + (b11*x11) + (b12*x12) + (b13*x13) + (b14*x14)\n",
    "y_pred = 11252.62 + (0.0 * 1.0) + (2.20274036e-08 * 9.71807000e+03) + (1.01935648e-10 * 9.83833000e+03) + (9.51892565e-11 * 9.72825000e+03) + (3.60723223e-08 * 4.62484281e+10) + (-7.32977764e-06 * 9.44408845e+07) + (-7.82330374e-07 * 9.56095796e+07) + (-9.48440941e-07 * 9.45398145e+07) + (-2.11819215e-13 * 4.49445461e+14) + (5.91877653e-06 * 9.67927372e+07) + (5.75005955e-06 * 9.57097338e+07) + (2.53097632e-12 * 4.55007297e+14) + (5.46672010e-06 * 9.46388481e+07) + (1.44524432e-12 * 4.49916270e+14) + (-4.88291757e-19 * 2.13891710e+21)\n",
    "\n",
    "print(y_pred)"
   ]
  },
  {
   "cell_type": "markdown",
   "metadata": {},
   "source": [
    "Once again, comparing this predicted value against the actual y value for the first row in the table of 9763.94, there is quite a difference. To calculate the R-squared score using the definitive statistical formula gives the following result."
   ]
  },
  {
   "cell_type": "code",
   "execution_count": 62,
   "metadata": {},
   "outputs": [
    {
     "name": "stdout",
     "output_type": "stream",
     "text": [
      "The r-squared value is: 0.9475585731087054\n"
     ]
    }
   ],
   "source": [
    "r2 = 1 - ((np.sum(y_pred - y)**2) / (np.sum(y_mean - y)**2))\n",
    "print(\"The r-squared value is:\", r2)"
   ]
  },
  {
   "cell_type": "code",
   "execution_count": 63,
   "metadata": {},
   "outputs": [],
   "source": [
    "# create actual and predicted values\n",
    "y = bitcoin['Close']\n",
    "actual = y\n",
    "\n",
    "y_pred = a + (b1*x1) + (b2*x2) + (b3*x3) + (b4*x4) + (b5*x5) + (b6*x6) + (b7*x7) + (b8*x8) + (b9*x9) + (b10*x10) + (b11*x11) + (b12*x12) + (b13*x13) + (b14*x14)\n",
    "predicted = y_pred"
   ]
  },
  {
   "cell_type": "code",
   "execution_count": 64,
   "metadata": {},
   "outputs": [
    {
     "data": {
      "text/plain": [
       "0     9763.94\n",
       "1    10096.28\n",
       "2    10451.16\n",
       "3    10642.81\n",
       "4    10669.64\n",
       "5    10836.68\n",
       "6    10941.60\n",
       "7    10917.12\n",
       "8    12211.47\n",
       "9    12083.24\n",
       "Name: Close, dtype: float64"
      ]
     },
     "execution_count": 64,
     "metadata": {},
     "output_type": "execute_result"
    }
   ],
   "source": [
    "actual[0:10]"
   ]
  },
  {
   "cell_type": "code",
   "execution_count": 65,
   "metadata": {},
   "outputs": [
    {
     "data": {
      "text/plain": [
       "0   -4.530512e+08\n",
       "1   -4.712141e+08\n",
       "2   -7.931150e+08\n",
       "3   -5.048216e+08\n",
       "4   -4.566212e+08\n",
       "5   -4.612228e+08\n",
       "6   -5.456652e+08\n",
       "7   -4.562004e+08\n",
       "8   -1.477874e+09\n",
       "9   -1.849817e+09\n",
       "dtype: float64"
      ]
     },
     "execution_count": 65,
     "metadata": {},
     "output_type": "execute_result"
    }
   ],
   "source": [
    "predicted[0:10]"
   ]
  },
  {
   "cell_type": "markdown",
   "metadata": {},
   "source": [
    "The negative effects of the coefficients and their small values have significantly reduced the squared-terms and the cross-product terms making them negligable."
   ]
  },
  {
   "cell_type": "code",
   "execution_count": 66,
   "metadata": {},
   "outputs": [
    {
     "name": "stdout",
     "output_type": "stream",
     "text": [
      "0      4.530609e+08\n",
      "1      4.712242e+08\n",
      "2      7.931254e+08\n",
      "3      5.048322e+08\n",
      "4      4.566318e+08\n",
      "           ...     \n",
      "360    2.335391e+09\n",
      "361    1.449815e+09\n",
      "362    3.152791e+09\n",
      "363    1.418686e+09\n",
      "365    1.528898e+09\n",
      "Length: 362, dtype: float64\n",
      "\n",
      "\n",
      "5.992224369643165e+18\n",
      "2447902034.3230987\n"
     ]
    }
   ],
   "source": [
    "# import metric\n",
    "from sklearn.metrics import mean_squared_error\n",
    "\n",
    "# create error values\n",
    "error = actual - predicted\n",
    "error = y - y_pred\n",
    "errors = np.sum(error)\n",
    "errors = list()\n",
    "mse = mean_squared_error(y, y_pred)\n",
    "rmse = np.sqrt(mse)\n",
    "\n",
    "def summary_stats():\n",
    "    for i in range(len(actual)):\n",
    "        error = actual - predicted\n",
    "        error = y - y_pred\n",
    "        errors = np.sum(error)\n",
    "        errors = list()\n",
    "        mse = mean_squared_error(y, y_pred, squared=True)\n",
    "        rmse = np.sqrt(mse)\n",
    "    print(error)\n",
    "    print('\\n')\n",
    "    print(mse)\n",
    "    print(rmse)\n",
    "    \n",
    "summary_stats()"
   ]
  },
  {
   "cell_type": "code",
   "execution_count": 67,
   "metadata": {},
   "outputs": [
    {
     "name": "stdout",
     "output_type": "stream",
     "text": [
      "Mean Squared Error is: 5.992224369643165e+18\n",
      "Root Mean Squared Error is: 2447902034.3230987\n",
      "\n",
      "\n"
     ]
    }
   ],
   "source": [
    "print(\"Mean Squared Error is:\", mse)\n",
    "print(\"Root Mean Squared Error is:\", rmse)\n",
    "print(\"\\n\")"
   ]
  },
  {
   "cell_type": "code",
   "execution_count": 68,
   "metadata": {},
   "outputs": [
    {
     "data": {
      "image/png": "[encoded data removed]",
      "text/plain": [
       "<Figure size 720x720 with 1 Axes>"
      ]
     },
     "metadata": {
      "needs_background": "light"
     },
     "output_type": "display_data"
    }
   ],
   "source": [
    "# plot errors\n",
    "fig = pyplot.figure(figsize=(10,10))\n",
    "pyplot.plot(errors)\n",
    "pyplot.scatter(y, y_pred, color = 'blue')\n",
    "pyplot.xlabel('Predicted Value')\n",
    "pyplot.ylabel('Actual Value')\n",
    "pyplot.show()"
   ]
  },
  {
   "cell_type": "markdown",
   "metadata": {},
   "source": [
    "The first note I can make about actual vs predicted daily closing prices leaves me to believe the errors have been reduced significantly about their mean, but I'm not entirely happy with the large value for the Cost function (RMSE) as this implies considerable over-fitting. One way to combat this challenge would be to introduce cross-validation which will take any outliers into account and remove some of the bias.\n",
    "\n",
    "## Cross Validation\n",
    "This function can now be used to evaluate the Ridge Regression model I have used by splitting the training set into several smaller training and validation sets for training and evaluation separately. This is achieved by using the K-fold cross validation technique and I have split the data into 10 separate folds, cv=10 (which can be changed)."
   ]
  },
  {
   "cell_type": "code",
   "execution_count": 69,
   "metadata": {},
   "outputs": [
    {
     "name": "stdout",
     "output_type": "stream",
     "text": [
      "[0.97503778 0.87973022 0.98669072 0.96474476 0.98429722 0.99525415\n",
      " 0.99115778 0.89504007 0.94847447 0.90033073]\n"
     ]
    }
   ],
   "source": [
    "from sklearn.model_selection import cross_val_score\n",
    "from sklearn.metrics import mean_squared_error\n",
    "from sklearn.linear_model import Ridge\n",
    "\n",
    "# import data from filepath\n",
    "btc_cad = pd.read_csv(\"C:/Users/lynst/Documents/GitHub/machine-learning-projects/machine-learning/BTC_CAD.csv\")\n",
    "\n",
    "# storing dataset from filepath into new dataframe\n",
    "df = pd.DataFrame(btc_cad).dropna(axis=0)\n",
    "\n",
    "# select data for modeling\n",
    "X = df[[\"Open\", \"High\", \"Low\", \"Volume\"]]\n",
    "y = df[\"Close\"]\n",
    "\n",
    "# split data into train and test\n",
    "X_train, X_test, y_train, y_test = train_test_split(X, y, test_size = 0.3, random_state = 0)\n",
    "\n",
    "ridge_reg = linear_model.Ridge(alpha=0.1, solver=\"auto\")\n",
    "ridge_reg.fit(X_train, y_train)\n",
    "print(cross_val_score(ridge_reg, X, y, cv=10))"
   ]
  },
  {
   "cell_type": "markdown",
   "metadata": {},
   "source": [
    "The range of R-squared scores ranges from 0.8797 to 0.9953. "
   ]
  },
  {
   "cell_type": "code",
   "execution_count": 70,
   "metadata": {},
   "outputs": [
    {
     "name": "stdout",
     "output_type": "stream",
     "text": [
      "(253, 4) (109, 4) (253,) (109,)\n"
     ]
    }
   ],
   "source": [
    "# summarize the shape of the train and test sets\n",
    "print(X_train.shape, X_test.shape, y_train.shape, y_test.shape)\n",
    "\n",
    "# predict\n",
    "y_pred = cross_val_score(ridge_reg, X, y, cv=10)\n",
    "y_pred = ridge_reg.predict(X_train)"
   ]
  },
  {
   "cell_type": "markdown",
   "metadata": {},
   "source": [
    "Now trying a prediction on the working linear model (first 5 values):"
   ]
  },
  {
   "cell_type": "code",
   "execution_count": 71,
   "metadata": {},
   "outputs": [
    {
     "name": "stdout",
     "output_type": "stream",
     "text": [
      "[14397.4898406  23621.11524479 43241.20111376 30343.12275117\n",
      " 14950.27576392]\n"
     ]
    }
   ],
   "source": [
    "print(y_pred[:5])"
   ]
  },
  {
   "cell_type": "markdown",
   "metadata": {},
   "source": [
    "Measuring the RMSE and r-squared score for the linear model (based on training set):"
   ]
  },
  {
   "cell_type": "code",
   "execution_count": 72,
   "metadata": {},
   "outputs": [
    {
     "name": "stdout",
     "output_type": "stream",
     "text": [
      "675.1045771626674\n",
      "0.9990874795728261\n"
     ]
    }
   ],
   "source": [
    "y_pred = ridge_reg.predict(X_train)\n",
    "ridge_mse = mean_squared_error(y_train, y_pred)\n",
    "ridge_rmse = np.sqrt(ridge_mse)\n",
    "print(ridge_rmse)\n",
    "    \n",
    "r2_train = r2_score(y_train, y_pred)\n",
    "print(r2_train)"
   ]
  },
  {
   "cell_type": "markdown",
   "metadata": {},
   "source": [
    "This definitely appears to have reduced the Root Mean Squared Error for this particular sample of observations. We can say the Standard Deviation is distilled from the 'Standard Error' (which is the sum of the squared errors) and is a standardized term derived from the square root of the Standard Error. The predictions (Target Values) are compared to the actual observations (from the Training Set Values). \n",
    "\n",
    "Next, I compare the RMSE and r-squared for the Test Set to determine how well the model generalizes to unseen data."
   ]
  },
  {
   "cell_type": "code",
   "execution_count": 73,
   "metadata": {},
   "outputs": [
    {
     "name": "stdout",
     "output_type": "stream",
     "text": [
      "472.2805639459104\n",
      "0.9994574792805007\n"
     ]
    }
   ],
   "source": [
    "y_pred = ridge_reg.predict(X_test)\n",
    "ridge_mse = mean_squared_error(y_test, y_pred)\n",
    "ridge_rmse = np.sqrt(ridge_mse)\n",
    "print(ridge_rmse)\n",
    "    \n",
    "r2_test = r2_score(y_test, y_pred)\n",
    "print(r2_test)"
   ]
  },
  {
   "cell_type": "markdown",
   "metadata": {},
   "source": [
    "The Loss function (RMSE) has been reduced and the r-squared (accuracy) has improved slightly which implies the ridge regression (Regularization algorithm) which has been applied to the model, seems to translate fairly well in real world data.\n",
    "\n",
    "Next, I want to apply a different scoring parameter, 'Negative Mean Squared Error' displaying the results from 10 separate cross folds."
   ]
  },
  {
   "cell_type": "code",
   "execution_count": 74,
   "metadata": {},
   "outputs": [
    {
     "name": "stdout",
     "output_type": "stream",
     "text": [
      "Scores: [873.89562535 978.49089662 708.25187293 389.29477471 908.56488956\n",
      " 505.32560841 741.94580742 766.55344132 671.31173621 507.85427691]\n",
      "\n",
      "\n",
      "Mean 705.1488929437664\n",
      "\n",
      "\n",
      "Standard Deviation 181.51221062161233\n",
      "\n",
      "\n",
      "R-Squared: 0.9994574792805007\n",
      "\n",
      "\n"
     ]
    }
   ],
   "source": [
    "from sklearn.model_selection import cross_val_score\n",
    "\n",
    "scores = cross_val_score(ridge_reg, X_train, y_train, scoring=\"neg_mean_squared_error\", cv=10)\n",
    "ridge_rmse_scores = np.sqrt(-scores)\n",
    "r2_test = r2_score(y_test, y_pred)\n",
    "                         \n",
    "def display_scores(scores):\n",
    "    print(\"Scores:\", scores)\n",
    "    print(\"\\n\")\n",
    "    print(\"Mean\", scores.mean())\n",
    "    print(\"\\n\")\n",
    "    print(\"Standard Deviation\", scores.std())\n",
    "    print(\"\\n\")\n",
    "    print(\"R-Squared:\", r2_test)\n",
    "    print(\"\\n\")\n",
    "          \n",
    "display_scores(ridge_rmse_scores)"
   ]
  },
  {
   "cell_type": "markdown",
   "metadata": {},
   "source": [
    "The lowest possible score achieved in 10 separate sub folds is 389.29477471. The average of these scores would be 705.1488929437664 which means the score I achieved to measure overall loss above is much better at 472.2805639459104. The Standard Deviation is just the squared root of the Negative Mean Squared Error values."
   ]
  },
  {
   "cell_type": "code",
   "execution_count": 75,
   "metadata": {},
   "outputs": [
    {
     "name": "stdout",
     "output_type": "stream",
     "text": [
      "[873.89562535 978.49089662 708.25187293 389.29477471 908.56488956\n",
      " 505.32560841 741.94580742 766.55344132 671.31173621 507.85427691]\n"
     ]
    }
   ],
   "source": [
    "ridge_rmse_scores / 10\n",
    "print(ridge_rmse_scores)"
   ]
  },
  {
   "cell_type": "code",
   "execution_count": 76,
   "metadata": {},
   "outputs": [
    {
     "name": "stdout",
     "output_type": "stream",
     "text": [
      "Scores: [873.89562556 978.49089698 708.25187252 389.29477539 908.56489005\n",
      " 505.32560623 741.94580962 766.5534399  671.31173392 507.85427701]\n",
      "\n",
      "\n",
      "Mean 705.1488927197572\n",
      "\n",
      "\n",
      "Standard Deviation 181.51221089972861\n",
      "\n",
      "\n",
      "R-Squared: 0.9994574792805007\n",
      "\n",
      "\n"
     ]
    }
   ],
   "source": [
    "scores = cross_val_score(lin_reg, X_train, y_train, scoring=\"neg_mean_squared_error\", cv=10)\n",
    "lin_rmse_scores = np.sqrt(-scores)\n",
    "display_scores(lin_rmse_scores)"
   ]
  },
  {
   "cell_type": "markdown",
   "metadata": {},
   "source": [
    "Using the 10 different r-squared values from the Ridge Regression above gives:"
   ]
  },
  {
   "cell_type": "code",
   "execution_count": 77,
   "metadata": {},
   "outputs": [
    {
     "name": "stdout",
     "output_type": "stream",
     "text": [
      "0.9520757900000001\n"
     ]
    }
   ],
   "source": [
    "X_score = (0.97503778 + 0.87973022 + 0.98669072 + 0.96474476 + 0.98429722 + 0.99525415 + 0.99115778 + 0.89504007 + 0.94847447 + 0.90033073) / 10\n",
    "print(X_score)"
   ]
  },
  {
   "cell_type": "code",
   "execution_count": 78,
   "metadata": {},
   "outputs": [
    {
     "name": "stdout",
     "output_type": "stream",
     "text": [
      "[0.97006818 0.85076678 0.99061033 0.97345638 0.98865061 0.99535352\n",
      " 0.99329041 0.79100498 0.7952419  0.87280349]\n"
     ]
    },
    {
     "name": "stderr",
     "output_type": "stream",
     "text": [
      "C:\\Users\\lynst\\anaconda3\\lib\\site-packages\\sklearn\\linear_model\\_ridge.py:147: LinAlgWarning: Ill-conditioned matrix (rcond=2.35106e-48): result may not be accurate.\n",
      "  return linalg.solve(A, Xy, sym_pos=True,\n",
      "C:\\Users\\lynst\\anaconda3\\lib\\site-packages\\sklearn\\linear_model\\_ridge.py:147: LinAlgWarning: Ill-conditioned matrix (rcond=2.36492e-48): result may not be accurate.\n",
      "  return linalg.solve(A, Xy, sym_pos=True,\n",
      "C:\\Users\\lynst\\anaconda3\\lib\\site-packages\\sklearn\\linear_model\\_ridge.py:147: LinAlgWarning: Ill-conditioned matrix (rcond=2.36795e-48): result may not be accurate.\n",
      "  return linalg.solve(A, Xy, sym_pos=True,\n",
      "C:\\Users\\lynst\\anaconda3\\lib\\site-packages\\sklearn\\linear_model\\_ridge.py:147: LinAlgWarning: Ill-conditioned matrix (rcond=2.36009e-48): result may not be accurate.\n",
      "  return linalg.solve(A, Xy, sym_pos=True,\n",
      "C:\\Users\\lynst\\anaconda3\\lib\\site-packages\\sklearn\\linear_model\\_ridge.py:147: LinAlgWarning: Ill-conditioned matrix (rcond=2.36261e-48): result may not be accurate.\n",
      "  return linalg.solve(A, Xy, sym_pos=True,\n",
      "C:\\Users\\lynst\\anaconda3\\lib\\site-packages\\sklearn\\linear_model\\_ridge.py:147: LinAlgWarning: Ill-conditioned matrix (rcond=2.35311e-48): result may not be accurate.\n",
      "  return linalg.solve(A, Xy, sym_pos=True,\n",
      "C:\\Users\\lynst\\anaconda3\\lib\\site-packages\\sklearn\\linear_model\\_ridge.py:147: LinAlgWarning: Ill-conditioned matrix (rcond=2.35322e-48): result may not be accurate.\n",
      "  return linalg.solve(A, Xy, sym_pos=True,\n",
      "C:\\Users\\lynst\\anaconda3\\lib\\site-packages\\sklearn\\linear_model\\_ridge.py:147: LinAlgWarning: Ill-conditioned matrix (rcond=2.42494e-48): result may not be accurate.\n",
      "  return linalg.solve(A, Xy, sym_pos=True,\n",
      "C:\\Users\\lynst\\anaconda3\\lib\\site-packages\\sklearn\\linear_model\\_ridge.py:147: LinAlgWarning: Ill-conditioned matrix (rcond=3.17346e-47): result may not be accurate.\n",
      "  return linalg.solve(A, Xy, sym_pos=True,\n",
      "C:\\Users\\lynst\\anaconda3\\lib\\site-packages\\sklearn\\linear_model\\_ridge.py:147: LinAlgWarning: Ill-conditioned matrix (rcond=2.36373e-48): result may not be accurate.\n",
      "  return linalg.solve(A, Xy, sym_pos=True,\n"
     ]
    }
   ],
   "source": [
    "print(cross_val_score(ridge_reg, X_poly, y, cv=10))"
   ]
  },
  {
   "cell_type": "code",
   "execution_count": 79,
   "metadata": {},
   "outputs": [
    {
     "name": "stdout",
     "output_type": "stream",
     "text": [
      "0.9221246730000001\n"
     ]
    }
   ],
   "source": [
    "X_poly_score = (0.97006818 + 0.85076677 + 0.99061033 + 0.97345638 + 0.98865061 + 0.99535352 + 0.99329041 + 0.79100498 + 0.79524206 + 0.87280349) / 10\n",
    "print(X_poly_score)"
   ]
  },
  {
   "cell_type": "code",
   "execution_count": 80,
   "metadata": {},
   "outputs": [
    {
     "name": "stdout",
     "output_type": "stream",
     "text": [
      "[0.99852936 0.99844336 0.99881381 0.99963248 0.9983165  0.99952738\n",
      " 0.99811382 0.99893717 0.99892588 0.99954472]\n"
     ]
    }
   ],
   "source": [
    "print(cross_val_score(ridge_reg, X_train, y_train, cv=10))"
   ]
  },
  {
   "cell_type": "code",
   "execution_count": 81,
   "metadata": {},
   "outputs": [
    {
     "name": "stdout",
     "output_type": "stream",
     "text": [
      "0.9963192089999999\n"
     ]
    }
   ],
   "source": [
    "X_train_score = (0.99859545 + 0.9982508 + 0.99873121 + 0.99971355 + 0.97387001 + 0.99905469 + 0.99721033 + 0.99879823 + 0.99922155 + 0.99974627) / 10\n",
    "print(X_train_score)"
   ]
  },
  {
   "cell_type": "markdown",
   "metadata": {},
   "source": [
    "The first important detail to note is that the average cross-validation score is higher for the training set than the entire dataset from ridge regression, or the polynomial dataset.\n",
    "\n",
    "Trying a different scoring parameter called 'Explained Variance' provides consistently accurate results."
   ]
  },
  {
   "cell_type": "code",
   "execution_count": 82,
   "metadata": {},
   "outputs": [
    {
     "data": {
      "text/plain": [
       "array([0.99853908, 0.9985139 , 0.99883667, 0.99963941, 0.99832187,\n",
       "       0.99956332, 0.99812431, 0.99901761, 0.99896325, 0.99955286])"
      ]
     },
     "execution_count": 82,
     "metadata": {},
     "output_type": "execute_result"
    }
   ],
   "source": [
    "from sklearn.metrics import explained_variance_score\n",
    "\n",
    "mse = mean_squared_error(y_test, ridge_reg.predict(X_test), squared=True)\n",
    "mse_scores = cross_val_score(ridge_reg, X_train, y_train, scoring=\"explained_variance\", cv=10)\n",
    "mse_scores"
   ]
  },
  {
   "cell_type": "code",
   "execution_count": 83,
   "metadata": {},
   "outputs": [
    {
     "name": "stdout",
     "output_type": "stream",
     "text": [
      "0.9964248230000001\n"
     ]
    }
   ],
   "source": [
    "average_mse = (0.99859549 + 0.99826071 + 0.99876091 + 0.9997251 + 0.97460254 + 0.99909548 + 0.99725663 + 0.99898202 + 0.99922302 + 0.99974633) / 10\n",
    "print(average_mse)"
   ]
  },
  {
   "cell_type": "markdown",
   "metadata": {},
   "source": [
    "And for the root mean squared error values, finding the average rmse:"
   ]
  },
  {
   "cell_type": "code",
   "execution_count": 84,
   "metadata": {},
   "outputs": [
    {
     "data": {
      "text/plain": [
       "array([0.99926927, 0.99925668, 0.99941816, 0.99981969, 0.99916058,\n",
       "       0.99978164, 0.99906171, 0.99950869, 0.99948149, 0.99977641])"
      ]
     },
     "execution_count": 84,
     "metadata": {},
     "output_type": "execute_result"
    }
   ],
   "source": [
    "rmse_scores = np.sqrt(mse_scores)\n",
    "rmse_scores"
   ]
  },
  {
   "cell_type": "code",
   "execution_count": 85,
   "metadata": {},
   "outputs": [
    {
     "name": "stdout",
     "output_type": "stream",
     "text": [
      "0.998204037\n"
     ]
    }
   ],
   "source": [
    "average_rmse = (0.9992975 + 0.99912998 + 0.99938027 + 0.99986254 + 0.9872196 + 0.99954764 + 0.99862737 + 0.99949088 + 0.99961143 + 0.99987316) / 10\n",
    "print(average_rmse)"
   ]
  },
  {
   "cell_type": "markdown",
   "metadata": {},
   "source": [
    "Now to evaluate the r-squared scoring parameter and cross-validating ten different sub-samples or folds once more:"
   ]
  },
  {
   "cell_type": "code",
   "execution_count": 86,
   "metadata": {},
   "outputs": [
    {
     "data": {
      "text/plain": [
       "array([0.99852936, 0.99844336, 0.99881381, 0.99963248, 0.9983165 ,\n",
       "       0.99952738, 0.99811382, 0.99893717, 0.99892588, 0.99954472])"
      ]
     },
     "execution_count": 86,
     "metadata": {},
     "output_type": "execute_result"
    }
   ],
   "source": [
    "from sklearn.metrics import r2_score\n",
    "\n",
    "r2_scores_train = cross_val_score(ridge_reg, X_train, y_train, scoring=\"r2\", cv=10)\n",
    "r2_scores_train"
   ]
  },
  {
   "cell_type": "markdown",
   "metadata": {},
   "source": [
    "Using the results from r-squared scores first I can determine the average r2 value from 10 different folds."
   ]
  },
  {
   "cell_type": "code",
   "execution_count": 87,
   "metadata": {},
   "outputs": [
    {
     "name": "stdout",
     "output_type": "stream",
     "text": [
      "0.9963192079999998\n"
     ]
    }
   ],
   "source": [
    "average_r2_train = (0.99859545 + 0.9982508 + 0.99873121 + 0.99971355 + 0.97387 + 0.99905469 + 0.99721033 + 0.99879823 + 0.99922155 + 0.99974627) / 10\n",
    "print(average_r2_train)"
   ]
  },
  {
   "cell_type": "markdown",
   "metadata": {},
   "source": [
    "To see how this model generalizes to the test data:"
   ]
  },
  {
   "cell_type": "code",
   "execution_count": 88,
   "metadata": {},
   "outputs": [
    {
     "data": {
      "text/plain": [
       "array([0.99961725, 0.99991125, 0.99920548, 0.99943079, 0.9998094 ,\n",
       "       0.999756  , 0.9997848 , 0.99863899, 0.96915017, 0.99784924])"
      ]
     },
     "execution_count": 88,
     "metadata": {},
     "output_type": "execute_result"
    }
   ],
   "source": [
    "r2_scores_test = cross_val_score(ridge_reg, X_test, y_test, scoring=\"r2\", cv=10)\n",
    "r2_scores_test"
   ]
  },
  {
   "cell_type": "code",
   "execution_count": 89,
   "metadata": {},
   "outputs": [
    {
     "name": "stdout",
     "output_type": "stream",
     "text": [
      "0.99569478\n"
     ]
    }
   ],
   "source": [
    "average_r2_test = (0.99984803 + 0.99985311 + 0.99813416 + 0.99927484 + 0.99985759 + 0.99957481 + 0.99982543 + 0.99799085 + 0.96522031 + 0.99736867) / 10\n",
    "print(average_r2_test)"
   ]
  },
  {
   "cell_type": "markdown",
   "metadata": {},
   "source": [
    "The scores seem to drop slightly for the test data but are approximately the same which is a good sign for the model because it means the fit, training and prediction phases will translate well to unseen data (generally) with at least 99.57% accuracy.\n",
    "\n",
    "Another thing to notice is how the 'explained_variance_score' score between the X training values and y training values are similar to the 'r-squared' scores.\n",
    "\n",
    "This particular 'cross_val_predict' metric is actually derived from the 'model_selection' model validation API and then, using indexing to return the first 5 values I get the following predictions:"
   ]
  },
  {
   "cell_type": "code",
   "execution_count": 90,
   "metadata": {},
   "outputs": [
    {
     "name": "stdout",
     "output_type": "stream",
     "text": [
      "[ 9802.02850218 10054.38973123 10394.96268596 10619.5287045\n",
      " 10702.97119714]\n"
     ]
    }
   ],
   "source": [
    "from sklearn.model_selection import cross_val_predict\n",
    "\n",
    "y_pred = cross_val_predict(ridge_reg, X, y, cv=10)\n",
    "print(y_pred[0:5])"
   ]
  },
  {
   "cell_type": "markdown",
   "metadata": {},
   "source": [
    "Cross validation is meant to determine the performance of different machine learning algorithms so they can be compared and contrasted. It's not meant for training a model, but for checking different models. I will apply the cross-validation on the dataset with all 4 different features (Open, High, Low and Volume) and a target column (Close). Starting from the beginning I will attempt to find the optimal value for K, or that which provides the highest accuracy, or the lowest MSE score.\n",
    "\n",
    "## Stochastic Gradient Descent\n",
    "The code below is used to formulate Stochastic Gradient Descent using the 'learning rate' and 'number of iterations' as hyper-parameters which can be fine-tuned."
   ]
  },
  {
   "cell_type": "code",
   "execution_count": null,
   "metadata": {},
   "outputs": [],
   "source": [
    "alpha = 0.1\n",
    "n_iterations = 1000\n",
    "n = 100\n",
    "n_epochs = 50\n",
    "t0, t1 = 5, 50          # learning schedule hyperparameters\n",
    "\n",
    "def learning_schedule(t):\n",
    "    return t0 / (t + t1)\n",
    "\n",
    "theta = np.random.randn(2,1)          # random initilaization\n",
    "\n",
    "for epoch in range(n_epochs):\n",
    "    for i in range(n):\n",
    "        random_index = np.random.randint(n)\n",
    "        xi = X_b[random_index:random_index+1]\n",
    "        yi = y[random_index:random_index+1]\n",
    "        gradients = 2 * xi.T.dot(xi.dot(theta) - yi)\n",
    "        alpha = learning_schedule(epoch * m + i)\n",
    "        theta = theta - alpha * gradients\n",
    "    \n",
    "\n",
    "# learning rate\n",
    "alpha = 0.1\n",
    "# parameter with default number of iterations in gradient descent\n",
    "n_iterations = 1000\n",
    "m = eta * n_iterations\n",
    "X_T = np.transpose(X)\n",
    "X_theta = X.dot(theta)\n",
    "\n",
    "gradients = (2 / m) * X_T.dot(X_theta - y)\n",
    "theta = theta - alpha * gradients\n"
   ]
  },
  {
   "cell_type": "code",
   "execution_count": null,
   "metadata": {},
   "outputs": [],
   "source": [
    "def gradient_descent(gradient, start, learn_rate, n_iter):\n",
    "    vector = start\n",
    "    for _ in range(n_iter):\n",
    "        diff = -learn_rate * gradient(vector)\n",
    "        vector += diff\n",
    "    return vector"
   ]
  },
  {
   "cell_type": "code",
   "execution_count": null,
   "metadata": {},
   "outputs": [],
   "source": [
    "import numpy as np\n",
    "\n",
    "def gradient_descent(\n",
    "    gradient, start, learn_rate, n_iter=50, tolerance=1e-06\n",
    "):\n",
    "    vector = start\n",
    "    for _ in range(n_iter):\n",
    "        diff = -learn_rate * gradient(vector)\n",
    "        if np.all(np.abs(diff) <= tolerance):\n",
    "            break\n",
    "        vector += diff\n",
    "    return vector"
   ]
  },
  {
   "cell_type": "code",
   "execution_count": null,
   "metadata": {},
   "outputs": [],
   "source": [
    "gradient_descent(gradient=lambda v: 2 * v, start=10.0, learn_rate=0.2)"
   ]
  },
  {
   "cell_type": "code",
   "execution_count": null,
   "metadata": {},
   "outputs": [],
   "source": [
    "gradient_descent(gradient=lambda v: 2 * v, start=10.0, learn_rate=0.8)"
   ]
  },
  {
   "cell_type": "code",
   "execution_count": null,
   "metadata": {},
   "outputs": [],
   "source": [
    "gradient_descent(gradient=lambda v: 2 * v, start=10.0, learn_rate=0.005)"
   ]
  },
  {
   "cell_type": "code",
   "execution_count": null,
   "metadata": {},
   "outputs": [],
   "source": [
    "def ssr_gradient(x, y, b):\n",
    "    res = b[0] + b[1] * x - y\n",
    "    return res.mean(), (res * x).mean()  # .mean() is a method of np.ndarray"
   ]
  },
  {
   "cell_type": "code",
   "execution_count": null,
   "metadata": {},
   "outputs": [],
   "source": [
    "import numpy as np\n",
    "\n",
    "def gradient_descent(\n",
    "    gradient, x, y, start, learn_rate=0.1, n_iter=50, tolerance=1e-06\n",
    "):\n",
    "    vector = start\n",
    "    for _ in range(n_iter):\n",
    "        diff = -learn_rate * np.array(gradient(x, y, vector))\n",
    "        if np.all(np.abs(diff) <= tolerance):\n",
    "            break\n",
    "        vector += diff\n",
    "    return vector"
   ]
  },
  {
   "cell_type": "code",
   "execution_count": null,
   "metadata": {},
   "outputs": [],
   "source": [
    "x = np.array([5, 15, 25, 35, 45, 55])\n",
    "y = np.array([5, 20, 14, 32, 22, 38])\n",
    "\n",
    "gradient_descent(ssr_gradient, x, y, start=[0.5, 0.5], learn_rate=0.0008, n_iter=100_000)"
   ]
  },
  {
   "cell_type": "code",
   "execution_count": null,
   "metadata": {},
   "outputs": [],
   "source": [
    "import numpy as np\n",
    "\n",
    "def gradient_descent(\n",
    "    gradient, x, y, start, learn_rate=0.1, n_iter=50, tolerance=1e-06,\n",
    "    dtype=\"float64\"\n",
    "):\n",
    "    # Checking if the gradient is callable\n",
    "    if not callable(gradient):\n",
    "        raise TypeError(\"'gradient' must be callable\")\n",
    "\n",
    "    # Setting up the data type for NumPy arrays\n",
    "    dtype_ = np.dtype(dtype)\n",
    "\n",
    "    # Converting x and y to NumPy arrays\n",
    "    x, y = np.array(x, dtype=dtype_), np.array(y, dtype=dtype_)\n",
    "    if x.shape[0] != y.shape[0]:\n",
    "        raise ValueError(\"'x' and 'y' lengths do not match\")\n",
    "\n",
    "    # Initializing the values of the variables\n",
    "    vector = np.array(start, dtype=dtype_)\n",
    "\n",
    "    # Setting up and checking the learning rate\n",
    "    learn_rate = np.array(learn_rate, dtype=dtype_)\n",
    "    if np.any(learn_rate <= 0):\n",
    "        raise ValueError(\"'learn_rate' must be greater than zero\")\n",
    "\n",
    "    # Setting up and checking the maximal number of iterations\n",
    "    n_iter = int(n_iter)\n",
    "    if n_iter <= 0:\n",
    "        raise ValueError(\"'n_iter' must be greater than zero\")\n",
    "\n",
    "    # Setting up and checking the tolerance\n",
    "    tolerance = np.array(tolerance, dtype=dtype_)\n",
    "    if np.any(tolerance <= 0):\n",
    "        raise ValueError(\"'tolerance' must be greater than zero\")\n",
    "\n",
    "    # Performing the gradient descent loop\n",
    "    for _ in range(n_iter):\n",
    "        # Recalculating the difference\n",
    "        diff = -learn_rate * np.array(gradient(x, y, vector), dtype_)\n",
    "\n",
    "        # Checking if the absolute difference is small enough\n",
    "        if np.all(np.abs(diff) <= tolerance):\n",
    "            break\n",
    "\n",
    "        # Updating the values of the variables\n",
    "        vector += diff\n",
    "\n",
    "    return vector if vector.shape else vector.item()"
   ]
  },
  {
   "cell_type": "markdown",
   "metadata": {},
   "source": [
    "In addition to considering data types, the code above introduces a few modifications related to type checking and ensuring the use of NumPy capabilities:\n",
    "\n",
    "Lines 8 and 9 check if gradient is a Python callable object and whether it can be used as a function. If not, then the function will raise a TypeError.\n",
    "\n",
    "Line 12 sets an instance of numpy.dtype, which will be used as the data type for all arrays throughout the function.\n",
    "\n",
    "Line 15 takes the arguments x and y and produces NumPy arrays with the desired data type. The arguments x and y can be lists, tuples, arrays, or other sequences.\n",
    "\n",
    "Lines 16 and 17 compare the sizes of x and y. This is useful because you want to be sure that both arrays have the same number of observations. If they don’t, then the function will raise a ValueError.\n",
    "\n",
    "Line 20 converts the argument start to a NumPy array. This is an interesting trick: if start is a Python scalar, then it’ll be transformed into a corresponding NumPy object (an array with one item and zero dimensions). If you pass a sequence, then it’ll become a regular NumPy array with the same number of elements.\n",
    "\n",
    "Line 23 does the same thing with the learning rate. This can be very useful because it enables you to specify different learning rates for each decision variable by passing a list, tuple, or NumPy array to gradient_descent().\n",
    "\n",
    "Lines 24 and 25 check if the learning rate value (or values for all variables) is greater than zero.\n",
    "\n",
    "Lines 28 to 35 similarly set n_iter and tolerance and check that they are greater than zero.\n",
    "\n",
    "Lines 38 to 47 are almost the same as before. The only difference is the type of the gradient array on line 40.\n",
    "\n",
    "Line 49 conveniently returns the resulting array if you have several decision variables or a Python scalar if you have a single variable.\n",
    "\n",
    "Your gradient_descent() is now finished. Feel free to add some additional capabilities or polishing. The next step of this tutorial is to use what you’ve learned so far to implement the stochastic version of gradient descent."
   ]
  },
  {
   "cell_type": "code",
   "execution_count": null,
   "metadata": {},
   "outputs": [],
   "source": [
    "import numpy as np\n",
    "\n",
    "def sgd(\n",
    "    gradient, x, y, start, learn_rate=0.1, batch_size=1, n_iter=50,\n",
    "    tolerance=1e-06, dtype=\"float64\", random_state=None\n",
    "):\n",
    "    # Checking if the gradient is callable\n",
    "    if not callable(gradient):\n",
    "        raise TypeError(\"'gradient' must be callable\")\n",
    "\n",
    "    # Setting up the data type for NumPy arrays\n",
    "    dtype_ = np.dtype(dtype)\n",
    "\n",
    "    # Converting x and y to NumPy arrays\n",
    "    x, y = np.array(x, dtype=dtype_), np.array(y, dtype=dtype_)\n",
    "    n_obs = x.shape[0]\n",
    "    if n_obs != y.shape[0]:\n",
    "        raise ValueError(\"'x' and 'y' lengths do not match\")\n",
    "    xy = np.c_[x.reshape(n_obs, -1), y.reshape(n_obs, 1)]\n",
    "\n",
    "    # Initializing the random number generator\n",
    "    seed = None if random_state is None else int(random_state)\n",
    "    rng = np.random.default_rng(seed=seed)\n",
    "\n",
    "    # Initializing the values of the variables\n",
    "    vector = np.array(start, dtype=dtype_)\n",
    "\n",
    "    # Setting up and checking the learning rate\n",
    "    learn_rate = np.array(learn_rate, dtype=dtype_)\n",
    "    if np.any(learn_rate <= 0):\n",
    "        raise ValueError(\"'learn_rate' must be greater than zero\")\n",
    "\n",
    "    # Setting up and checking the size of minibatches\n",
    "    batch_size = int(batch_size)\n",
    "    if not 0 < batch_size <= n_obs:\n",
    "        raise ValueError(\n",
    "            \"'batch_size' must be greater than zero and less than \"\n",
    "            \"or equal to the number of observations\"\n",
    "        )\n",
    "\n",
    "    # Setting up and checking the maximal number of iterations\n",
    "    n_iter = int(n_iter)\n",
    "    if n_iter <= 0:\n",
    "        raise ValueError(\"'n_iter' must be greater than zero\")\n",
    "\n",
    "    # Setting up and checking the tolerance\n",
    "    tolerance = np.array(tolerance, dtype=dtype_)\n",
    "    if np.any(tolerance <= 0):\n",
    "        raise ValueError(\"'tolerance' must be greater than zero\")\n",
    "\n",
    "    # Performing the gradient descent loop\n",
    "    for _ in range(n_iter):\n",
    "        # Shuffle x and y\n",
    "        rng.shuffle(xy)\n",
    "\n",
    "        # Performing minibatch moves\n",
    "        for start in range(0, n_obs, batch_size):\n",
    "            stop = start + batch_size\n",
    "            x_batch, y_batch = xy[start:stop, :-1], xy[start:stop, -1:]\n",
    "\n",
    "            # Recalculating the difference\n",
    "            grad = np.array(gradient(x_batch, y_batch, vector), dtype_)\n",
    "            diff = -learn_rate * grad\n",
    "\n",
    "            # Checking if the absolute difference is small enough\n",
    "            if np.all(np.abs(diff) <= tolerance):\n",
    "                break\n",
    "\n",
    "            # Updating the values of the variables\n",
    "            vector += diff\n",
    "\n",
    "    return vector if vector.shape else vector.item()"
   ]
  },
  {
   "cell_type": "code",
   "execution_count": null,
   "metadata": {},
   "outputs": [],
   "source": [
    "sgd(\n",
    "...     ssr_gradient, x, y, start=[0.5, 0.5], learn_rate=0.0008,\n",
    "...     batch_size=3, n_iter=100_000, random_state=0\n",
    "... )"
   ]
  },
  {
   "cell_type": "code",
   "execution_count": null,
   "metadata": {},
   "outputs": [],
   "source": [
    "import numpy as np\n",
    "\n",
    "def sgd(\n",
    "    gradient, x, y, start, learn_rate=0.1, decay_rate=0.0, batch_size=1,\n",
    "    n_iter=50, tolerance=1e-06, dtype=\"float64\", random_state=None\n",
    "):\n",
    "    # Checking if the gradient is callable\n",
    "    if not callable(gradient):\n",
    "        raise TypeError(\"'gradient' must be callable\")\n",
    "\n",
    "    # Setting up the data type for NumPy arrays\n",
    "    dtype_ = np.dtype(dtype)\n",
    "\n",
    "    # Converting x and y to NumPy arrays\n",
    "    x, y = np.array(x, dtype=dtype_), np.array(y, dtype=dtype_)\n",
    "    n_obs = x.shape[0]\n",
    "    if n_obs != y.shape[0]:\n",
    "        raise ValueError(\"'x' and 'y' lengths do not match\")\n",
    "    xy = np.c_[x.reshape(n_obs, -1), y.reshape(n_obs, 1)]\n",
    "\n",
    "    # Initializing the random number generator\n",
    "    seed = None if random_state is None else int(random_state)\n",
    "    rng = np.random.default_rng(seed=seed)\n",
    "\n",
    "    # Initializing the values of the variables\n",
    "    vector = np.array(start, dtype=dtype_)\n",
    "\n",
    "    # Setting up and checking the learning rate\n",
    "    learn_rate = np.array(learn_rate, dtype=dtype_)\n",
    "    if np.any(learn_rate <= 0):\n",
    "        raise ValueError(\"'learn_rate' must be greater than zero\")\n",
    "\n",
    "    # Setting up and checking the decay rate\n",
    "    decay_rate = np.array(decay_rate, dtype=dtype_)\n",
    "    if np.any(decay_rate < 0) or np.any(decay_rate > 1):\n",
    "        raise ValueError(\"'decay_rate' must be between zero and one\")\n",
    "\n",
    "    # Setting up and checking the size of minibatches\n",
    "    batch_size = int(batch_size)\n",
    "    if not 0 < batch_size <= n_obs:\n",
    "        raise ValueError(\n",
    "            \"'batch_size' must be greater than zero and less than \"\n",
    "            \"or equal to the number of observations\"\n",
    "        )\n",
    "\n",
    "    # Setting up and checking the maximal number of iterations\n",
    "    n_iter = int(n_iter)\n",
    "    if n_iter <= 0:\n",
    "        raise ValueError(\"'n_iter' must be greater than zero\")\n",
    "\n",
    "    # Setting up and checking the tolerance\n",
    "    tolerance = np.array(tolerance, dtype=dtype_)\n",
    "    if np.any(tolerance <= 0):\n",
    "        raise ValueError(\"'tolerance' must be greater than zero\")\n",
    "\n",
    "    # Setting the difference to zero for the first iteration\n",
    "    diff = 0\n",
    "\n",
    "    # Performing the gradient descent loop\n",
    "    for _ in range(n_iter):\n",
    "        # Shuffle x and y\n",
    "        rng.shuffle(xy)\n",
    "\n",
    "        # Performing minibatch moves\n",
    "        for start in range(0, n_obs, batch_size):\n",
    "            stop = start + batch_size\n",
    "            x_batch, y_batch = xy[start:stop, :-1], xy[start:stop, -1:]\n",
    "\n",
    "            # Recalculating the difference\n",
    "            grad = np.array(gradient(x_batch, y_batch, vector), dtype_)\n",
    "            diff = decay_rate * diff - learn_rate * grad\n",
    "\n",
    "            # Checking if the absolute difference is small enough\n",
    "            if np.all(np.abs(diff) <= tolerance):\n",
    "                break\n",
    "\n",
    "            # Updating the values of the variables\n",
    "            vector += diff\n",
    "\n",
    "    return vector if vector.shape else vector.item()"
   ]
  },
  {
   "cell_type": "code",
   "execution_count": null,
   "metadata": {},
   "outputs": [],
   "source": [
    "import numpy as np\n",
    "\n",
    "def sgd(\n",
    "    gradient, x, y, n_vars=None, start=None, learn_rate=0.1,\n",
    "    decay_rate=0.0, batch_size=1, n_iter=50, tolerance=1e-06,\n",
    "    dtype=\"float64\", random_state=None\n",
    "):\n",
    "    # Checking if the gradient is callable\n",
    "    if not callable(gradient):\n",
    "        raise TypeError(\"'gradient' must be callable\")\n",
    "\n",
    "    # Setting up the data type for NumPy arrays\n",
    "    dtype_ = np.dtype(dtype)\n",
    "\n",
    "    # Converting x and y to NumPy arrays\n",
    "    x, y = np.array(x, dtype=dtype_), np.array(y, dtype=dtype_)\n",
    "    n_obs = x.shape[0]\n",
    "    if n_obs != y.shape[0]:\n",
    "        raise ValueError(\"'x' and 'y' lengths do not match\")\n",
    "    xy = np.c_[x.reshape(n_obs, -1), y.reshape(n_obs, 1)]\n",
    "\n",
    "    # Initializing the random number generator\n",
    "    seed = None if random_state is None else int(random_state)\n",
    "    rng = np.random.default_rng(seed=seed)\n",
    "\n",
    "    # Initializing the values of the variables\n",
    "    vector = (\n",
    "        rng.normal(size=int(n_vars)).astype(dtype_)\n",
    "        if start is None else\n",
    "        np.array(start, dtype=dtype_)\n",
    "    )\n",
    "\n",
    "    # Setting up and checking the learning rate\n",
    "    learn_rate = np.array(learn_rate, dtype=dtype_)\n",
    "    if np.any(learn_rate <= 0):\n",
    "        raise ValueError(\"'learn_rate' must be greater than zero\")\n",
    "\n",
    "    # Setting up and checking the decay rate\n",
    "    decay_rate = np.array(decay_rate, dtype=dtype_)\n",
    "    if np.any(decay_rate < 0) or np.any(decay_rate > 1):\n",
    "        raise ValueError(\"'decay_rate' must be between zero and one\")\n",
    "\n",
    "    # Setting up and checking the size of minibatches\n",
    "    batch_size = int(batch_size)\n",
    "    if not 0 < batch_size <= n_obs:\n",
    "        raise ValueError(\n",
    "            \"'batch_size' must be greater than zero and less than \"\n",
    "            \"or equal to the number of observations\"\n",
    "        )\n",
    "\n",
    "    # Setting up and checking the maximal number of iterations\n",
    "    n_iter = int(n_iter)\n",
    "    if n_iter <= 0:\n",
    "        raise ValueError(\"'n_iter' must be greater than zero\")\n",
    "\n",
    "    # Setting up and checking the tolerance\n",
    "    tolerance = np.array(tolerance, dtype=dtype_)\n",
    "    if np.any(tolerance <= 0):\n",
    "        raise ValueError(\"'tolerance' must be greater than zero\")\n",
    "\n",
    "    # Setting the difference to zero for the first iteration\n",
    "    diff = 0\n",
    "\n",
    "    # Performing the gradient descent loop\n",
    "    for _ in range(n_iter):\n",
    "        # Shuffle x and y\n",
    "        rng.shuffle(xy)\n",
    "\n",
    "        # Performing minibatch moves\n",
    "        for start in range(0, n_obs, batch_size):\n",
    "            stop = start + batch_size\n",
    "            x_batch, y_batch = xy[start:stop, :-1], xy[start:stop, -1:]\n",
    "\n",
    "            # Recalculating the difference\n",
    "            grad = np.array(gradient(x_batch, y_batch, vector), dtype_)\n",
    "            diff = decay_rate * diff - learn_rate * grad\n",
    "\n",
    "            # Checking if the absolute difference is small enough\n",
    "            if np.all(np.abs(diff) <= tolerance):\n",
    "                break\n",
    "\n",
    "            # Updating the values of the variables\n",
    "            vector += diff\n",
    "\n",
    "    return vector if vector.shape else vector.item()"
   ]
  },
  {
   "cell_type": "code",
   "execution_count": null,
   "metadata": {},
   "outputs": [],
   "source": [
    "sgd(\n",
    "...     ssr_gradient, x, y, n_vars=2, learn_rate=0.0001,\n",
    "...     decay_rate=0.8, batch_size=3, n_iter=100_000, random_state=0\n",
    "... )"
   ]
  },
  {
   "cell_type": "code",
   "execution_count": null,
   "metadata": {},
   "outputs": [],
   "source": [
    "import tensorflow as tf\n",
    "\n",
    "# Create needed objects\n",
    "sgd = tf.keras.optimizers.SGD(learning_rate=0.1, momentum=0.9)\n",
    "var = tf.Variable(2.5)\n",
    "cost = lambda: 2 + var ** 2\n",
    "\n",
    "# Perform optimization\n",
    "for _ in range(100):\n",
    "    sgd.minimize(cost, var_list=[var])\n",
    "\n",
    "# Extract results\n",
    "var.numpy()\n",
    "cost().numpy()"
   ]
  },
  {
   "cell_type": "code",
   "execution_count": null,
   "metadata": {},
   "outputs": [],
   "source": []
  },
  {
   "cell_type": "code",
   "execution_count": null,
   "metadata": {},
   "outputs": [],
   "source": []
  },
  {
   "cell_type": "markdown",
   "metadata": {},
   "source": [
    "Because the loss function (RMSE) and the accuracy score (R-squared) can be improved upon, the next phase involves using an 'Optimization Function' to re-balance the coefficients of each data point reiterating through the data in an attempt to reduce the loss function. This will involve the adoption of optimization techniques such as 'Gradient Descent', particularly the SGDRegressor( ) algorithm.\n",
    "\n",
    "## Stochastic Gradient Descent\n",
    "Gradient descent provides an alternative way to measure 'Loss' which can be described as an iterative process of adjusting the parameters of a model, fine-tuning the gradient coefficients or using approximation to minimize the overall loss. SGD Regression is meant to be the same as Ridge Regression but perform slightly faster."
   ]
  },
  {
   "cell_type": "code",
   "execution_count": null,
   "metadata": {},
   "outputs": [],
   "source": [
    "# import the necessary models\n",
    "from sklearn.model_selection import train_test_split\n",
    "from sklearn.linear_model import SGDRegressor\n",
    "from sklearn.metrics import r2_score\n",
    "\n",
    "# import data from filepath\n",
    "btc_cad = pd.read_csv(\"C:/Users/lynst/Documents/GitHub/machine-learning-projects/machine-learning/BTC_CAD.csv\")\n",
    "\n",
    "# storing dataset from filepath into new dataframe\n",
    "bitcoin = pd.DataFrame(btc_cad).dropna(axis=0)\n",
    "\n",
    "# select features as X dataframe\n",
    "X = bitcoin[['Open','High','Low','Volume']]\n",
    "\n",
    "# select target as y series\n",
    "y = bitcoin['Close']\n",
    "\n",
    "# Split the dataset\n",
    "X_train, X_test, y_train, y_test = train_test_split(X, y, test_size=0.3, random_state=42)\n",
    "\n",
    "# Store model in a variable\n",
    "sgd_reg = SGDRegressor(max_iter=1000, tol=1e-3, penalty=None, eta0=0.01)\n",
    "sgd_reg.fit(X_train, y_train)"
   ]
  },
  {
   "cell_type": "code",
   "execution_count": null,
   "metadata": {},
   "outputs": [],
   "source": [
    "r2 = 1 - ((np.sum(y_pred - y)**2) / (np.sum(y_mean - y)**2))\n",
    "print(\"The r-squared value is:\", r2)"
   ]
  },
  {
   "cell_type": "code",
   "execution_count": null,
   "metadata": {},
   "outputs": [],
   "source": [
    "print(sgd_reg.score(X_test, y_test))"
   ]
  },
  {
   "cell_type": "code",
   "execution_count": null,
   "metadata": {},
   "outputs": [],
   "source": [
    "sgd_reg = SGDRegressor(max_iter=1000, tol=1e-3, penalty=None, eta0=0.1)\n",
    "sgd_reg.fit(X_train, y_train)\n",
    "print(sgd_reg.score(X_test, y_test))"
   ]
  },
  {
   "cell_type": "markdown",
   "metadata": {},
   "source": [
    "Increasing the learning rate in the SGDRegressor has increased the score minimally but they're incredibly low. It would be best to introduce cross-validation to find the best achievable score for a pre-determined number of folds in the dataset.\n",
    "\n",
    "First let's see the effect on Theta, the intercept and coefficient values:"
   ]
  },
  {
   "cell_type": "code",
   "execution_count": null,
   "metadata": {},
   "outputs": [],
   "source": [
    "sgd_reg.intercept_"
   ]
  },
  {
   "cell_type": "code",
   "execution_count": null,
   "metadata": {},
   "outputs": [],
   "source": [
    "sgd_reg.coef_"
   ]
  },
  {
   "cell_type": "markdown",
   "metadata": {},
   "source": [
    "### Making a Prediction\n",
    "Comparing predictions for training set and test set values. I am continuing to use the RMSE as the score measure to see if it can be optimized as far as possible for the purpose of this model."
   ]
  },
  {
   "cell_type": "code",
   "execution_count": null,
   "metadata": {},
   "outputs": [],
   "source": [
    "from sklearn.metrics import mean_squared_error\n",
    "from sklearn.metrics import r2_score\n",
    "import seaborn as sns\n",
    "\n",
    "# set the width and height of the plot\n",
    "plt.figure(figsize=(6,6))\n",
    "\n",
    "# visualizing the relationship between actual and predicted values for y\n",
    "plt.scatter(y_test, y_test_pred)\n",
    "plt.xlabel(\"Actual Prices\")\n",
    "plt.ylabel(\"Predicted Prices\")\n",
    "plt.title(\"Actual Prices vs Predicted Prices\")\n",
    "\n",
    "# fit a regression line between high and low values to show linear nature\n",
    "sns.regplot(x=y_test, y=y_test_pred)\n",
    "\n",
    "# evaluating the model on train dataset\n",
    "y_train = lin_reg.fit(y_train)\n",
    "y_train_pred = lin_reg.predict(y_train)\n",
    "y_test_pred = lin_reg.predict(y_test)\n",
    "\n",
    "# evaluating the model on test dataset\n",
    "mse_train = np.sum(y_train - y_train_pred)\n",
    "rmse_train = np.sqrt(mse_train)\n",
    "r2_train = r2_score(y_train, y_train_pred)\n",
    "\n",
    "mse_test = mean_squared_error(y_test, y_test_pred)\n",
    "rmse_test = np.sqrt(mse_test)\n",
    "r2_test = r2_score(y_test, y_test_pred)\n",
    "  \n",
    "print(\"\\n\")\n",
    "  \n",
    "print(\"The model performance for the test set\")\n",
    "print(\"-------------------------------------------\")\n",
    "\n",
    "print(\"MSE of the train set is {}\".format(mse_train))\n",
    "print(\"RMSE of train set is {}\".format(rmse_train))\n",
    "print(\"R2 score of train set is {}\".format(r2_train))\n",
    "\n",
    "print(\"MSE of the test set is {}\".format(mse_test))\n",
    "print(\"RMSE of test set is {}\".format(rmse_test))\n",
    "print(\"R2 score of test set is {}\".format(r2_test))\n",
    "\n",
    "print(\"\\n\")"
   ]
  },
  {
   "cell_type": "code",
   "execution_count": null,
   "metadata": {},
   "outputs": [],
   "source": []
  },
  {
   "cell_type": "code",
   "execution_count": null,
   "metadata": {},
   "outputs": [],
   "source": []
  },
  {
   "cell_type": "code",
   "execution_count": null,
   "metadata": {},
   "outputs": [],
   "source": []
  },
  {
   "cell_type": "code",
   "execution_count": null,
   "metadata": {},
   "outputs": [],
   "source": []
  },
  {
   "cell_type": "markdown",
   "metadata": {},
   "source": [
    "I can deduce that the accuracy for determining predictions appears to be highest for plain linear regression, before any polynomial modeling is applied. This is probably due to the strong nature of the association between the price variables, or their degree of co-linearity."
   ]
  },
  {
   "cell_type": "markdown",
   "metadata": {},
   "source": [
    "## Predicting Against Test Set\n",
    "Now to predict the test set results."
   ]
  },
  {
   "cell_type": "code",
   "execution_count": null,
   "metadata": {},
   "outputs": [],
   "source": [
    "y_test_pred = lin_reg.predict(X_test)\n",
    "\n",
    "# to see the first ten results\n",
    "y_test_pred[0:10]"
   ]
  },
  {
   "cell_type": "markdown",
   "metadata": {},
   "source": [
    "Comparing the first row of X values to predict the y value by copying from the dataset output from cell 1. Remember only to use the 'Open', 'High', 'Low' and 'Volume' values."
   ]
  },
  {
   "cell_type": "code",
   "execution_count": null,
   "metadata": {},
   "outputs": [],
   "source": [
    "lin_reg.predict([[9718.07, 9838.33, 9728.25, 4.624843e+10]])"
   ]
  },
  {
   "cell_type": "markdown",
   "metadata": {},
   "source": [
    "So the predicted y value is 9792.45 and the actual y value (from output of the first value for 'Close' price) is 9763.94, which is reasonably accurate.\n",
    "\n",
    "## Model Evaluation\n",
    "This is where I need to look into the root mean squared error and R-squared values to see how well the model is performing."
   ]
  },
  {
   "cell_type": "code",
   "execution_count": null,
   "metadata": {},
   "outputs": [],
   "source": [
    "# import the score measure\n",
    "from sklearn.metrics import r2_score\n",
    "r2_score(y_test, y_test_pred)"
   ]
  },
  {
   "cell_type": "markdown",
   "metadata": {},
   "source": [
    "### Actual vs Predicted Prices\n",
    "Plotting the actual and predicted results for the 'Close' price provides a nice visual display of the relationship."
   ]
  },
  {
   "cell_type": "code",
   "execution_count": null,
   "metadata": {},
   "outputs": [],
   "source": [
    "plt.figure(figsize=(15,10))\n",
    "plt.scatter(y_test, y_test_pred, color=\"orange\")\n",
    "plt.xlabel(\"Actual\")\n",
    "plt.ylabel(\"Predicted\")\n",
    "plt.title(\"Actual vs. Predicted Prices\")\n",
    "plt.show()"
   ]
  },
  {
   "cell_type": "markdown",
   "metadata": {},
   "source": [
    "## Predictions\n",
    "Storing the actual and predicted values and their difference in a dictionary object becomes useful. The larger the error, the greater the variance and subsequent standard deviation which translates to less accurate predictions and a less reliable model. \n",
    "\n",
    "Why does this become important? The main purpose of this exercise is to see how useful my model would be in predicting the daily closing price so the first information I can derive from the scatter plot above shows the relationship between independent and dependent variables is strong, but also incredibly linear. It may not pay off to apply Polynomial Regression in such circumstances but may improve the linear fit to the data points with increasing degrees of freedom."
   ]
  },
  {
   "cell_type": "code",
   "execution_count": null,
   "metadata": {},
   "outputs": [],
   "source": [
    "predictions = pd.DataFrame({\"Actual\": y_test, \"Predicted\": y_test_pred, \"Error\": y_test - y_test_pred})\n",
    "predictions[0:10]"
   ]
  },
  {
   "cell_type": "markdown",
   "metadata": {},
   "source": [
    "Exploring the entire dataset (all the X and y values) and the degree of accuracy by fitting a linear regression predictive line once more, but this time calling Seaborn's regression plot function (regplot)."
   ]
  },
  {
   "cell_type": "code",
   "execution_count": null,
   "metadata": {},
   "outputs": [],
   "source": [
    "import seaborn as sns\n",
    "\n",
    "# set the width and height of the plot\n",
    "plt.figure(figsize=(15,10))\n",
    "\n",
    "# visualizing the relationship between actual and predicted values for y\n",
    "plt.scatter(y_test, y_test_pred, color=\"orange\")\n",
    "plt.xlabel(\"Actual Prices\")\n",
    "plt.ylabel(\"Predicted Prices\")\n",
    "plt.title(\"Actual Prices vs Predicted Prices\")\n",
    "\n",
    "# fit a regression line between high and low values to show linear nature\n",
    "sns.regplot(x=y_test, y=y_test_pred, color=\"orange\")"
   ]
  },
  {
   "cell_type": "code",
   "execution_count": null,
   "metadata": {},
   "outputs": [],
   "source": []
  },
  {
   "cell_type": "markdown",
   "metadata": {},
   "source": []
  },
  {
   "cell_type": "code",
   "execution_count": null,
   "metadata": {},
   "outputs": [],
   "source": []
  },
  {
   "cell_type": "markdown",
   "metadata": {},
   "source": [
    "Interpreting the RMSE tells me the results seem too high."
   ]
  },
  {
   "cell_type": "code",
   "execution_count": null,
   "metadata": {},
   "outputs": [],
   "source": []
  },
  {
   "cell_type": "code",
   "execution_count": null,
   "metadata": {},
   "outputs": [],
   "source": [
    "import matplotlib.pyplot as plt\n",
    "from sklearn.metrics import mean_squared_error\n",
    "# actual values\n",
    "y_train = lin_reg.fit(y_train)\n",
    "\n",
    "# predicted values\n",
    "y_train_pred = lin_reg.predict(y_train)\n",
    "\n",
    "# calculate errors\n",
    "err = (y_train[i] - y_train_pred[i])**2\n",
    "errors = list()\n",
    "\n",
    "for i in range(len(y_train)):\n",
    "    # calculate error\n",
    "    err = (y_train[i] - y_train_pred[i])**2\n",
    "    # store error\n",
    "    errors.append(err)\n",
    "    # report error\n",
    "    print('>%.1f, %.1f = %.3f' % (y_train[i], y_train_pred[i], err))\n",
    "# plot errors\n",
    "plt.plot(errors)\n",
    "plt.xticks(ticks=[i for i in range(len(errors))], labels=predicted)\n",
    "plt.xlabel('Predicted Value')\n",
    "plt.ylabel('Mean Squared Error')\n",
    "plt.show()"
   ]
  },
  {
   "cell_type": "code",
   "execution_count": null,
   "metadata": {},
   "outputs": [],
   "source": [
    "y_test_pred = ridge_regression.predict(X_test)\n",
    "print(\"Predictions: \", ridge_regression.predict(X_test.iloc[:5]))"
   ]
  },
  {
   "cell_type": "markdown",
   "metadata": {},
   "source": [
    "The regularization term should only be added to the cost function during the training phase. Now the 'training' data has been fit, it becomes important to discover the performance measure on the unregularized test set. Making a prediction on the first 5 values in the test set first."
   ]
  },
  {
   "cell_type": "code",
   "execution_count": null,
   "metadata": {},
   "outputs": [],
   "source": []
  },
  {
   "cell_type": "code",
   "execution_count": null,
   "metadata": {},
   "outputs": [],
   "source": []
  },
  {
   "cell_type": "code",
   "execution_count": null,
   "metadata": {},
   "outputs": [],
   "source": []
  },
  {
   "cell_type": "code",
   "execution_count": null,
   "metadata": {},
   "outputs": [],
   "source": []
  },
  {
   "cell_type": "code",
   "execution_count": null,
   "metadata": {},
   "outputs": [],
   "source": []
  },
  {
   "cell_type": "code",
   "execution_count": null,
   "metadata": {},
   "outputs": [],
   "source": []
  },
  {
   "cell_type": "code",
   "execution_count": null,
   "metadata": {},
   "outputs": [],
   "source": [
    "#lin_reg.predict([[363]])"
   ]
  },
  {
   "cell_type": "code",
   "execution_count": null,
   "metadata": {},
   "outputs": [],
   "source": [
    "#lin_reg2.predict(poly.fit_transform([[363]]))"
   ]
  },
  {
   "cell_type": "markdown",
   "metadata": {},
   "source": [
    "## Pipelines\n",
    "To better capture the different features I have used in my multiple regression I will employ the use of a Pipeline to include the different types of regression models, re-scaling of the features with different units of measurement, regularization techniques to improve the degree of overall fit before validation."
   ]
  },
  {
   "cell_type": "code",
   "execution_count": null,
   "metadata": {},
   "outputs": [],
   "source": [
    "from sklearn.pipeline import Pipeline\n",
    "from sklearn.model_selection import train_test_split\n",
    "from sklearn.model_selection import cross_val_score\n",
    "from sklearn import linear_model\n",
    "from sklearn.preprocessing import PolynomialFeatures\n",
    "from sklearn.preprocessing import StandardScaler\n",
    "\n",
    "\n",
    "pipeline = Pipeline([\n",
    "    ('poly_reg', PolynomialFeatures(degree=2, include_bias=False)),\n",
    "    ('lin_reg', LinearRegression(normalize=True)),\n",
    "    ('scale', StandardScaler()),\n",
    "    ('scores', cross_val_score(pipeline, X, y, scoring=\"neg_mean_squared_error\", cv=5))\n",
    "    ])\n",
    "\n",
    "'''\n",
    "scores = cross_val_score\n",
    "\n",
    "pipeline.fit(X, y)\n",
    "y_pred = pipeline.predict(X)\n",
    "print(y_pred)\n",
    "'''"
   ]
  }
 ],
 "metadata": {
  "kernelspec": {
   "display_name": "Python 3 (ipykernel)",
   "language": "python",
   "name": "python3"
  },
  "language_info": {
   "codemirror_mode": {
    "name": "ipython",
    "version": 3
   },
   "file_extension": ".py",
   "mimetype": "text/x-python",
   "name": "python",
   "nbconvert_exporter": "python",
   "pygments_lexer": "ipython3",
   "version": "3.8.11"
  }
 },
 "nbformat": 4,
 "nbformat_minor": 4
}
