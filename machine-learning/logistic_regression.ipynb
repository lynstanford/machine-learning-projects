{
 "cells": [
  {
   "cell_type": "markdown",
   "id": "89502158",
   "metadata": {},
   "source": [
    "# Classification Problem\n",
    "Next I will develop a Logistic Regression model to predict different classes. More specifically Logistic Regression is used to estimate the probability that an instance/element/observation belongs to a certain class. The use of one the most popular collections of information for the purpose of classification is the Titanic dataset and the model I will develop is the one I have initially chosen to submit to Kaggle's 'Titanic' competition.\n",
    "\n",
    "The purpose of this model is to identify if these passengers 'Survived' or 'Not' which will involve creating a target output column populated with simple binary results of '1' or '0'.\n",
    "\n",
    "## Import the Python Libraries"
   ]
  },
  {
   "cell_type": "code",
   "execution_count": null,
   "id": "6ad4046e",
   "metadata": {},
   "outputs": [
    {
     "ename": "",
     "evalue": "",
     "output_type": "error",
     "traceback": [
      "\u001b[1;31mFailed to start the Kernel. \n",
      "\u001b[1;31mUnable to start Kernel 'base (Python 3.9.12)' due to connection timeout. \n",
      "View Jupyter <a href='command:jupyter.viewOutput'>log</a> for further details."
     ]
    }
   ],
   "source": [
    "import numpy as np\n",
    "import pandas as pd\n",
    "import matplotlib.pyplot as plt\n",
    "from sklearn.pipeline import Pipeline\n",
    "from sklearn.linear_model import LogisticRegression\n",
    "from sklearn.metrics import accuracy_score, precision_score, recall_score, roc_curve, precision_recall_curve\n",
    "%matplotlib inline"
   ]
  },
  {
   "cell_type": "markdown",
   "id": "b863215b",
   "metadata": {},
   "source": [
    "## Import the Data"
   ]
  },
  {
   "cell_type": "code",
   "execution_count": null,
   "id": "4c645fea",
   "metadata": {},
   "outputs": [
    {
     "ename": "",
     "evalue": "",
     "output_type": "error",
     "traceback": [
      "\u001b[1;31mFailed to start the Kernel. \n",
      "\u001b[1;31mUnable to start Kernel 'base (Python 3.9.12)' due to connection timeout. \n",
      "View Jupyter <a href='command:jupyter.viewOutput'>log</a> for further details."
     ]
    }
   ],
   "source": [
    "titanic = pd.read_csv('C:/Users/lynst/Documents/GitHub/machine-learning-projects/machine-learning/titanic_data.csv')\n",
    "titanic.head()"
   ]
  },
  {
   "cell_type": "code",
   "execution_count": null,
   "id": "f9ba7f3f",
   "metadata": {},
   "outputs": [
    {
     "ename": "",
     "evalue": "",
     "output_type": "error",
     "traceback": [
      "\u001b[1;31mFailed to start the Kernel. \n",
      "\u001b[1;31mUnable to start Kernel 'base (Python 3.9.12)' due to connection timeout. \n",
      "View Jupyter <a href='command:jupyter.viewOutput'>log</a> for further details."
     ]
    }
   ],
   "source": [
    "# check the column names and data types\n",
    "titanic.info()"
   ]
  },
  {
   "cell_type": "markdown",
   "id": "5e89cd1b",
   "metadata": {},
   "source": [
    "So I can determine there are a total of 183 entries in this dataset. Initial thoughts are that it might be worth using a more comprehensive dataset, one which might contain the full list of passengers (1309) rather than just a subset (183). This is the most comprehensive list available for the purpose of this exercise that I can find, although estimates for the total number of passengers and crew members are thought to be in the region of 2220."
   ]
  },
  {
   "cell_type": "code",
   "execution_count": null,
   "id": "5a793085",
   "metadata": {},
   "outputs": [
    {
     "ename": "",
     "evalue": "",
     "output_type": "error",
     "traceback": [
      "\u001b[1;31mFailed to start the Kernel. \n",
      "\u001b[1;31mUnable to start Kernel 'base (Python 3.9.12)' due to connection timeout. \n",
      "View Jupyter <a href='command:jupyter.viewOutput'>log</a> for further details."
     ]
    }
   ],
   "source": [
    "# importing once again\n",
    "titanic = pd.read_csv('C:/Users/lynst/Documents/GitHub/machine-learning-projects/machine-learning/titanic.csv')\n",
    "titanic.head()"
   ]
  },
  {
   "cell_type": "code",
   "execution_count": null,
   "id": "9e00b52d",
   "metadata": {},
   "outputs": [
    {
     "ename": "",
     "evalue": "",
     "output_type": "error",
     "traceback": [
      "\u001b[1;31mFailed to start the Kernel. \n",
      "\u001b[1;31mUnable to start Kernel 'base (Python 3.9.12)' due to connection timeout. \n",
      "View Jupyter <a href='command:jupyter.viewOutput'>log</a> for further details."
     ]
    }
   ],
   "source": [
    "# check the column names and data types\n",
    "titanic.info()"
   ]
  },
  {
   "cell_type": "code",
<<<<<<< Updated upstream
   "execution_count": 7,
   "id": "c429c6d2",
   "metadata": {},
   "outputs": [
    {
     "data": {
      "text/plain": [
       "(1309, 21)"
      ]
     },
     "execution_count": 7,
     "metadata": {},
     "output_type": "execute_result"
    }
   ],
=======
   "execution_count": null,
   "id": "c429c6d2",
   "metadata": {},
   "outputs": [
    {
     "ename": "",
     "evalue": "",
     "output_type": "error",
     "traceback": [
      "\u001b[1;31mFailed to start the Kernel. \n",
      "\u001b[1;31mUnable to start Kernel 'base (Python 3.9.12)' due to connection timeout. \n",
      "View Jupyter <a href='command:jupyter.viewOutput'>log</a> for further details."
     ]
    }
   ],
   "source": [
    "titanic.shape"
   ]
  },
  {
   "cell_type": "markdown",
   "id": "f7a4cab9",
   "metadata": {},
   "source": [
    "## Clean the Data\n",
    "Removing unwanted columns and rows and feature engineering is the next important step. Straight away I can see the second dataset I have imported from Kaggle which I have named 'titanic.csv' has a more comprehensive number of entries but also contains 21 columns as opposed to just 12 in the first set. Time to establish which of these columns will be kept or removed using some dimensionality reduction and combination, before establishing what is to be included in a Pandas DataFrame table and target Series.\n",
    "\n",
    "I can remove 'PassengerId', 'Name', 'Age', 'Ticket', 'Fare', 'Embarked', 'WikiId', 'Name_wiki', 'Hometown', 'Destination', 'Lifeboat', 'Body' and 'Class' which will significantly reduce clutter in my table as these features provide no causal relationship with passenger Survival, some of which also represent duplicated information such as passenger class 'Pclass' and 'Class'. This initial step of reductionality helps provide a much more useful dataset overall.\n",
    "\n",
    "Next, let's determine the index and column values."
   ]
  },
  {
   "cell_type": "code",
   "execution_count": null,
   "id": "aa0088fb",
   "metadata": {},
   "outputs": [
    {
     "ename": "",
     "evalue": "",
     "output_type": "error",
     "traceback": [
      "\u001b[1;31mFailed to start the Kernel. \n",
      "\u001b[1;31mUnable to start Kernel 'base (Python 3.9.12)' due to connection timeout. \n",
      "View Jupyter <a href='command:jupyter.viewOutput'>log</a> for further details."
     ]
    }
   ],
   "source": [
    "titanic.index"
   ]
  },
  {
   "cell_type": "markdown",
   "id": "d600adfc",
   "metadata": {},
   "source": [
    "So the index starts at 0 and ends at 1309, a total of 1310 passengers (not including crew members)."
   ]
  },
  {
   "cell_type": "code",
   "execution_count": null,
   "id": "335f6ae5",
   "metadata": {},
   "outputs": [
    {
     "ename": "",
     "evalue": "",
     "output_type": "error",
     "traceback": [
      "\u001b[1;31mFailed to start the Kernel. \n",
      "\u001b[1;31mUnable to start Kernel 'base (Python 3.9.12)' due to connection timeout. \n",
      "View Jupyter <a href='command:jupyter.viewOutput'>log</a> for further details."
     ]
    }
   ],
   "source": [
    "titanic.columns"
   ]
  },
  {
   "cell_type": "markdown",
   "id": "2c715dcb",
   "metadata": {},
   "source": [
    "Creating a variable to store the dropped columns:"
   ]
  },
  {
   "cell_type": "code",
   "execution_count": null,
   "id": "6c34bb21",
   "metadata": {},
   "outputs": [
    {
     "ename": "",
     "evalue": "",
     "output_type": "error",
     "traceback": [
      "\u001b[1;31mFailed to start the Kernel. \n",
      "\u001b[1;31mUnable to start Kernel 'base (Python 3.9.12)' due to connection timeout. \n",
      "View Jupyter <a href='command:jupyter.viewOutput'>log</a> for further details."
     ]
    }
   ],
   "source": [
    "drop_cols = ['PassengerId','Name','Age','Ticket','Fare','Embarked','WikiId','Name_wiki','Hometown','Destination','Lifeboat','Body',\n",
    "             'Class']"
   ]
  },
  {
   "cell_type": "markdown",
   "id": "5838ec81",
   "metadata": {},
   "source": [
    "I am using 'Age_wiki' which appears to be a much more comprehensive set of ages from the Wikipedia web site."
   ]
  },
  {
   "cell_type": "code",
   "execution_count": null,
   "id": "b96a2e79",
   "metadata": {},
   "outputs": [
    {
     "ename": "",
     "evalue": "",
     "output_type": "error",
     "traceback": [
      "\u001b[1;31mFailed to start the Kernel. \n",
      "\u001b[1;31mUnable to start Kernel 'base (Python 3.9.12)' due to connection timeout. \n",
      "View Jupyter <a href='command:jupyter.viewOutput'>log</a> for further details."
     ]
    }
   ],
   "source": [
    "# removing those columns (axis=1) from the titanic dataset inplace (without copying df)\n",
    "titanic.drop(drop_cols, axis=1, inplace=True)"
   ]
  },
  {
   "cell_type": "markdown",
   "id": "95088b36",
   "metadata": {},
   "source": [
    "Which columns or features are left now?"
   ]
  },
  {
   "cell_type": "code",
   "execution_count": null,
   "id": "9e2fd0dd",
   "metadata": {},
   "outputs": [
    {
     "ename": "",
     "evalue": "",
     "output_type": "error",
     "traceback": [
      "\u001b[1;31mFailed to start the Kernel. \n",
      "\u001b[1;31mUnable to start Kernel 'base (Python 3.9.12)' due to connection timeout. \n",
      "View Jupyter <a href='command:jupyter.viewOutput'>log</a> for further details."
     ]
    }
   ],
   "source": [
    "titanic.columns"
   ]
  },
  {
   "cell_type": "markdown",
   "id": "e5d01436",
   "metadata": {},
   "source": [
    "## Missing Values\n",
    "Next it's really important to remove or impute any Null or missing values. This depends on any row values which are missing and also on the data type for each column."
   ]
  },
  {
   "cell_type": "code",
   "execution_count": null,
   "id": "0d93e5da",
   "metadata": {},
   "outputs": [
    {
     "ename": "",
     "evalue": "",
     "output_type": "error",
     "traceback": [
      "\u001b[1;31mFailed to start the Kernel. \n",
      "\u001b[1;31mUnable to start Kernel 'base (Python 3.9.12)' due to connection timeout. \n",
      "View Jupyter <a href='command:jupyter.viewOutput'>log</a> for further details."
     ]
    }
   ],
   "source": [
    "# create a dict\n",
    "titanic = pd.DataFrame({\n",
    "    'Survived': pd.Series(titanic['Survived']),\n",
    "    'Pclass': pd.Series(titanic['Pclass']),\n",
    "    'Sex': pd.Series(titanic['Sex']),\n",
    "    'SibSp': pd.Series(titanic['SibSp']),\n",
    "    'Parch': pd.Series(titanic['Parch']),\n",
    "    'Cabin': pd.Series(titanic['Cabin']),\n",
    "    'Age_wiki': pd.Series(titanic['Age_wiki']),\n",
    "    'Boarded': pd.Series(titanic['Boarded'])\n",
    "})"
   ]
  },
  {
   "cell_type": "markdown",
   "id": "f6347df1",
   "metadata": {},
   "source": [
    "Calculating the total number of missing or Null values across the 'titanic' dataframe gives:"
   ]
  },
  {
   "cell_type": "code",
   "execution_count": null,
   "id": "8853e73b",
   "metadata": {},
   "outputs": [
    {
     "ename": "",
     "evalue": "",
     "output_type": "error",
     "traceback": [
      "\u001b[1;31mFailed to start the Kernel. \n",
      "\u001b[1;31mUnable to start Kernel 'base (Python 3.9.12)' due to connection timeout. \n",
      "View Jupyter <a href='command:jupyter.viewOutput'>log</a> for further details."
     ]
    }
   ],
   "source": [
    "titanic_missing = pd.isnull(titanic).sum()\n",
    "print(titanic_missing)"
   ]
  },
  {
   "cell_type": "markdown",
   "id": "f0a98e4e",
   "metadata": {},
   "source": [
    "Assessing this output I can determine that the null values in 'Cabin' simply represent those who did not have a cabin for sleeping quarters. These passengers would have traveled in other areas of the ship so it's important not to drop these values as they represent important data.\n",
    "\n",
    "Finding the complete set of Null values for the entire titanic dataset:"
   ]
  },
  {
   "cell_type": "code",
   "execution_count": null,
   "id": "95ab8733",
   "metadata": {},
   "outputs": [
    {
     "ename": "",
     "evalue": "",
     "output_type": "error",
     "traceback": [
      "\u001b[1;31mFailed to start the Kernel. \n",
      "\u001b[1;31mUnable to start Kernel 'base (Python 3.9.12)' due to connection timeout. \n",
      "View Jupyter <a href='command:jupyter.viewOutput'>log</a> for further details."
     ]
    }
   ],
   "source": [
    "titanic_null = titanic[titanic.isnull().any(axis=1)]\n",
    "print(titanic_null)"
   ]
  },
  {
   "cell_type": "markdown",
   "id": "63ae186e",
   "metadata": {},
   "source": [
    "Taking a look at the total number of Null or missing values for the 'Age_wiki' column only:"
   ]
  },
  {
   "cell_type": "code",
   "execution_count": null,
   "id": "59c0dd9f",
   "metadata": {},
   "outputs": [
    {
     "ename": "",
     "evalue": "",
     "output_type": "error",
     "traceback": [
      "\u001b[1;31mFailed to start the Kernel. \n",
      "\u001b[1;31mUnable to start Kernel 'base (Python 3.9.12)' due to connection timeout. \n",
      "View Jupyter <a href='command:jupyter.viewOutput'>log</a> for further details."
     ]
    }
   ],
   "source": [
    "num_age_null = titanic['Age_wiki'].isnull().sum()\n",
    "print(num_age_null)"
   ]
  },
  {
   "cell_type": "markdown",
   "id": "0daa7427",
   "metadata": {},
   "source": [
    "And identifying each row in the dataframe which contains a null value for 'Age_wiki':"
   ]
  },
  {
   "cell_type": "code",
   "execution_count": null,
   "id": "a84040cc",
   "metadata": {},
   "outputs": [
    {
     "ename": "",
     "evalue": "",
     "output_type": "error",
     "traceback": [
      "\u001b[1;31mFailed to start the Kernel. \n",
      "\u001b[1;31mUnable to start Kernel 'base (Python 3.9.12)' due to connection timeout. \n",
      "View Jupyter <a href='command:jupyter.viewOutput'>log</a> for further details."
     ]
    }
   ],
   "source": [
    "titanic[titanic['Age_wiki'].isnull()]"
   ]
  },
  {
   "cell_type": "markdown",
   "id": "f4422755",
   "metadata": {},
   "source": [
    "Storing these null values in a variable called age_null as I may need to use these later."
   ]
  },
  {
   "cell_type": "code",
   "execution_count": null,
   "id": "27e8b9fe",
   "metadata": {},
   "outputs": [
    {
     "ename": "",
     "evalue": "",
     "output_type": "error",
     "traceback": [
      "\u001b[1;31mFailed to start the Kernel. \n",
      "\u001b[1;31mUnable to start Kernel 'base (Python 3.9.12)' due to connection timeout. \n",
      "View Jupyter <a href='command:jupyter.viewOutput'>log</a> for further details."
     ]
    }
   ],
   "source": [
    "age_null = titanic[titanic['Age_wiki'].isnull()]\n",
    "print(age_null)"
   ]
  },
  {
   "cell_type": "markdown",
   "id": "8831c69a",
   "metadata": {},
   "source": [
    "I can make a decision whether to include these 7 passengers and merely impute some average age for their respective 'Sex', impute an average based on 'Age_wiki', or remove them completely. Seeing as the majority of information for each of these passengers (roughly 4/7ths to 5/7ths) is present I would prefer to keep these entries, so imputing mean values for age based on the individuals sex may be a reasonably accurate average."
   ]
  },
  {
   "cell_type": "code",
   "execution_count": null,
   "id": "73eadf4b",
   "metadata": {},
   "outputs": [
    {
     "ename": "",
     "evalue": "",
     "output_type": "error",
     "traceback": [
      "\u001b[1;31mFailed to start the Kernel. \n",
      "\u001b[1;31mUnable to start Kernel 'base (Python 3.9.12)' due to connection timeout. \n",
      "View Jupyter <a href='command:jupyter.viewOutput'>log</a> for further details."
     ]
    }
   ],
   "source": [
    "titanic.groupby(titanic['Age_wiki'].isnull()).mean()"
   ]
  },
  {
   "cell_type": "markdown",
   "id": "7ebb8773",
   "metadata": {},
   "source": [
    "### Calculate Average Age\n",
    "Calculating the average age for male and female passengers in the table can be done by summing each individual age (by sex) and dividing by the total number of male or female passengers respectively."
   ]
  },
  {
   "cell_type": "code",
   "execution_count": null,
   "id": "91befada",
   "metadata": {},
   "outputs": [
    {
     "ename": "",
     "evalue": "",
     "output_type": "error",
     "traceback": [
      "\u001b[1;31mFailed to start the Kernel. \n",
      "\u001b[1;31mUnable to start Kernel 'base (Python 3.9.12)' due to connection timeout. \n",
      "View Jupyter <a href='command:jupyter.viewOutput'>log</a> for further details."
     ]
    }
   ],
   "source": [
    "# find the unique values in the Sex column\n",
    "titanic['Sex'].unique()"
   ]
  },
  {
   "cell_type": "code",
   "execution_count": null,
   "id": "5b97832f",
   "metadata": {},
   "outputs": [
    {
     "ename": "",
     "evalue": "",
     "output_type": "error",
     "traceback": [
      "\u001b[1;31mFailed to start the Kernel. \n",
      "\u001b[1;31mUnable to start Kernel 'base (Python 3.9.12)' due to connection timeout. \n",
      "View Jupyter <a href='command:jupyter.viewOutput'>log</a> for further details."
     ]
    }
   ],
   "source": [
    "import seaborn as sns\n",
    "\n",
    "titanic.Survived[titanic.Sex == 'male'].value_counts().plot(kind='bar', alpha=0.5)\n",
    "plt.title(\"Male Survival\")\n",
    "# create style\n",
    "sns.set_style(\"ticks\")"
   ]
  },
  {
   "cell_type": "code",
   "execution_count": null,
   "id": "0dda95a9",
   "metadata": {},
   "outputs": [
    {
     "ename": "",
     "evalue": "",
     "output_type": "error",
     "traceback": [
      "\u001b[1;31mFailed to start the Kernel. \n",
      "\u001b[1;31mUnable to start Kernel 'base (Python 3.9.12)' due to connection timeout. \n",
      "View Jupyter <a href='command:jupyter.viewOutput'>log</a> for further details."
     ]
    }
   ],
   "source": [
    "titanic.Survived[titanic.Sex == 'female'].value_counts().plot(kind='bar', alpha=0.5)\n",
    "plt.title(\"Female Survival\")\n",
    "# create style\n",
    "sns.set_style(\"ticks\")"
   ]
  },
  {
   "cell_type": "markdown",
   "id": "cfe9dafa",
   "metadata": {},
   "source": [
    "So having determined the unique classes within the 'Sex' column I can further identify the number of Males and Females who survived or not. By taking the 'Survived' column and sub-dividing it according to gender it displays how women were far more likely to have survived the Titanic disaster based on the predictor variables included with this dataset.\n",
    "\n",
    "Next I want to group each category of male and female and store them in a variable called 'gender'."
   ]
  },
  {
   "cell_type": "code",
   "execution_count": null,
   "id": "12b9c646",
   "metadata": {},
   "outputs": [
    {
     "ename": "",
     "evalue": "",
     "output_type": "error",
     "traceback": [
      "\u001b[1;31mFailed to start the Kernel. \n",
      "\u001b[1;31mUnable to start Kernel 'base (Python 3.9.12)' due to connection timeout. \n",
      "View Jupyter <a href='command:jupyter.viewOutput'>log</a> for further details."
     ]
    }
   ],
   "source": [
    "gender = titanic.groupby(titanic['Sex'])"
   ]
  },
  {
   "cell_type": "markdown",
   "id": "25f0f27d",
   "metadata": {},
   "source": [
    "Checking the first few entries for both sexes:"
   ]
  },
  {
   "cell_type": "code",
<<<<<<< Updated upstream
   "execution_count": null,
=======
   "execution_count": 23,
>>>>>>> Stashed changes
   "id": "3f010879",
   "metadata": {
    "scrolled": true
   },
   "outputs": [
    {
<<<<<<< Updated upstream
     "ename": "",
     "evalue": "",
     "output_type": "error",
     "traceback": [
      "\u001b[1;31mFailed to start the Kernel. \n",
      "\u001b[1;31mUnable to start Kernel 'base (Python 3.9.12)' due to connection timeout. \n",
      "View Jupyter <a href='command:jupyter.viewOutput'>log</a> for further details."
     ]
=======
     "data": {
      "text/plain": [
       "<seaborn.axisgrid.FacetGrid at 0x1dd6616eeb0>"
      ]
     },
     "execution_count": 23,
     "metadata": {},
     "output_type": "execute_result"
    },
    {
     "data": {
      "image/png": "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\n",
      "text/plain": [
       "<Figure size 410x360 with 1 Axes>"
      ]
     },
     "metadata": {},
     "output_type": "display_data"
>>>>>>> Stashed changes
    }
   ],
   "source": [
    "# Import Library\n",
    "import seaborn as sns\n",
    "import matplotlib.pyplot as plt\n",
    "\n",
    "# Countplot\n",
    "sns.catplot(x =\"Sex\", hue =\"Survived\",\n",
    "kind =\"count\", data = titanic)"
   ]
  },
  {
   "cell_type": "markdown",
   "id": "0774499a",
   "metadata": {},
   "source": [
    "Now there are two variables, one with all the male and one with all the female passengers in the Titanic dataset. There are a total of 843 male and 466 female passengers.\n",
    "\n",
    "The next step is to add these totals together."
   ]
  },
  {
   "cell_type": "code",
<<<<<<< Updated upstream
   "execution_count": null,
=======
   "execution_count": 24,
>>>>>>> Stashed changes
   "id": "4c4a48d4",
   "metadata": {},
   "outputs": [
    {
<<<<<<< Updated upstream
     "ename": "",
     "evalue": "",
     "output_type": "error",
     "traceback": [
      "\u001b[1;31mFailed to start the Kernel. \n",
      "\u001b[1;31mUnable to start Kernel 'base (Python 3.9.12)' due to connection timeout. \n",
      "View Jupyter <a href='command:jupyter.viewOutput'>log</a> for further details."
     ]
=======
     "data": {
      "text/plain": [
       "1309"
      ]
     },
     "execution_count": 24,
     "metadata": {},
     "output_type": "execute_result"
>>>>>>> Stashed changes
    }
   ],
   "source": [
    "male_total = 843\n",
    "female_total = 466\n",
    "gender_total = male_total + female_total\n",
    "gender_total"
   ]
  },
  {
   "cell_type": "markdown",
   "id": "59e27187",
   "metadata": {},
   "source": [
    "Summing the total of all ages for all the passengers:"
   ]
  },
  {
   "cell_type": "code",
<<<<<<< Updated upstream
   "execution_count": null,
=======
   "execution_count": 25,
>>>>>>> Stashed changes
   "id": "65692b42",
   "metadata": {},
   "outputs": [
    {
     "ename": "",
     "evalue": "",
     "output_type": "error",
     "traceback": [
      "\u001b[1;31mFailed to start the Kernel. \n",
      "\u001b[1;31mUnable to start Kernel 'base (Python 3.9.12)' due to connection timeout. \n",
      "View Jupyter <a href='command:jupyter.viewOutput'>log</a> for further details."
     ]
    }
   ],
   "source": [
    "age = titanic['Age_wiki'].sum()\n",
    "print(age)"
   ]
  },
  {
   "cell_type": "markdown",
   "id": "ea1f4be7",
   "metadata": {},
   "source": [
    "And dividing by the total number of passengers:"
   ]
  },
  {
   "cell_type": "code",
<<<<<<< Updated upstream
   "execution_count": null,
=======
   "execution_count": 26,
>>>>>>> Stashed changes
   "id": "ea8c4657",
   "metadata": {},
   "outputs": [
    {
<<<<<<< Updated upstream
     "ename": "",
     "evalue": "",
     "output_type": "error",
     "traceback": [
      "\u001b[1;31mFailed to start the Kernel. \n",
      "\u001b[1;31mUnable to start Kernel 'base (Python 3.9.12)' due to connection timeout. \n",
      "View Jupyter <a href='command:jupyter.viewOutput'>log</a> for further details."
     ]
=======
     "data": {
      "text/plain": [
       "29.25852559205501"
      ]
     },
     "execution_count": 26,
     "metadata": {},
     "output_type": "execute_result"
>>>>>>> Stashed changes
    }
   ],
   "source": [
    "age_ave = age / gender_total\n",
    "age_ave"
   ]
  },
  {
   "cell_type": "markdown",
   "id": "0b254b64",
   "metadata": {},
   "source": [
    "So the overall average age for all passengers calculates to just over 29 years old. Using the describe method to check this gives:"
   ]
  },
  {
   "cell_type": "code",
<<<<<<< Updated upstream
   "execution_count": null,
=======
   "execution_count": 27,
>>>>>>> Stashed changes
   "id": "82928d01",
   "metadata": {},
   "outputs": [
    {
<<<<<<< Updated upstream
     "ename": "",
     "evalue": "",
     "output_type": "error",
     "traceback": [
      "\u001b[1;31mFailed to start the Kernel. \n",
      "\u001b[1;31mUnable to start Kernel 'base (Python 3.9.12)' due to connection timeout. \n",
      "View Jupyter <a href='command:jupyter.viewOutput'>log</a> for further details."
     ]
=======
     "data": {
      "text/html": [
       "<div>\n",
       "<style scoped>\n",
       "    .dataframe tbody tr th:only-of-type {\n",
       "        vertical-align: middle;\n",
       "    }\n",
       "\n",
       "    .dataframe tbody tr th {\n",
       "        vertical-align: top;\n",
       "    }\n",
       "\n",
       "    .dataframe thead th {\n",
       "        text-align: right;\n",
       "    }\n",
       "</style>\n",
       "<table border=\"1\" class=\"dataframe\">\n",
       "  <thead>\n",
       "    <tr style=\"text-align: right;\">\n",
       "      <th></th>\n",
       "      <th>Survived</th>\n",
       "      <th>Pclass</th>\n",
       "      <th>SibSp</th>\n",
       "      <th>Parch</th>\n",
       "      <th>Age_wiki</th>\n",
       "    </tr>\n",
       "  </thead>\n",
       "  <tbody>\n",
       "    <tr>\n",
       "      <th>count</th>\n",
       "      <td>891.000000</td>\n",
       "      <td>1309.000000</td>\n",
       "      <td>1309.000000</td>\n",
       "      <td>1309.000000</td>\n",
       "      <td>1302.000000</td>\n",
       "    </tr>\n",
       "    <tr>\n",
       "      <th>mean</th>\n",
       "      <td>0.383838</td>\n",
       "      <td>2.294882</td>\n",
       "      <td>0.498854</td>\n",
       "      <td>0.385027</td>\n",
       "      <td>29.415829</td>\n",
       "    </tr>\n",
       "    <tr>\n",
       "      <th>std</th>\n",
       "      <td>0.486592</td>\n",
       "      <td>0.837836</td>\n",
       "      <td>1.041658</td>\n",
       "      <td>0.865560</td>\n",
       "      <td>13.758954</td>\n",
       "    </tr>\n",
       "    <tr>\n",
       "      <th>min</th>\n",
       "      <td>0.000000</td>\n",
       "      <td>1.000000</td>\n",
       "      <td>0.000000</td>\n",
       "      <td>0.000000</td>\n",
       "      <td>0.170000</td>\n",
       "    </tr>\n",
       "    <tr>\n",
       "      <th>25%</th>\n",
       "      <td>0.000000</td>\n",
       "      <td>2.000000</td>\n",
       "      <td>0.000000</td>\n",
       "      <td>0.000000</td>\n",
       "      <td>21.000000</td>\n",
       "    </tr>\n",
       "    <tr>\n",
       "      <th>50%</th>\n",
       "      <td>0.000000</td>\n",
       "      <td>3.000000</td>\n",
       "      <td>0.000000</td>\n",
       "      <td>0.000000</td>\n",
       "      <td>28.000000</td>\n",
       "    </tr>\n",
       "    <tr>\n",
       "      <th>75%</th>\n",
       "      <td>1.000000</td>\n",
       "      <td>3.000000</td>\n",
       "      <td>1.000000</td>\n",
       "      <td>0.000000</td>\n",
       "      <td>37.750000</td>\n",
       "    </tr>\n",
       "    <tr>\n",
       "      <th>max</th>\n",
       "      <td>1.000000</td>\n",
       "      <td>3.000000</td>\n",
       "      <td>8.000000</td>\n",
       "      <td>9.000000</td>\n",
       "      <td>74.000000</td>\n",
       "    </tr>\n",
       "  </tbody>\n",
       "</table>\n",
       "</div>"
      ],
      "text/plain": [
       "         Survived       Pclass        SibSp        Parch     Age_wiki\n",
       "count  891.000000  1309.000000  1309.000000  1309.000000  1302.000000\n",
       "mean     0.383838     2.294882     0.498854     0.385027    29.415829\n",
       "std      0.486592     0.837836     1.041658     0.865560    13.758954\n",
       "min      0.000000     1.000000     0.000000     0.000000     0.170000\n",
       "25%      0.000000     2.000000     0.000000     0.000000    21.000000\n",
       "50%      0.000000     3.000000     0.000000     0.000000    28.000000\n",
       "75%      1.000000     3.000000     1.000000     0.000000    37.750000\n",
       "max      1.000000     3.000000     8.000000     9.000000    74.000000"
      ]
     },
     "execution_count": 27,
     "metadata": {},
     "output_type": "execute_result"
>>>>>>> Stashed changes
    }
   ],
   "source": [
    "titanic.describe()"
   ]
  },
  {
   "cell_type": "markdown",
   "id": "315be455",
   "metadata": {},
   "source": [
    "So the first item to notice is that only numeric data appears to have been captured which will need to be fixed soon, but the overall mean age for the 'Age-wiki' column is 29.415829 which is close to the value just calculated of 29.258525, but not identical.\n",
    "\n",
    "Next, to see the average ages for both male and female classes using the groupby() method:"
   ]
  },
  {
   "cell_type": "code",
<<<<<<< Updated upstream
   "execution_count": null,
   "id": "0b29b4d3",
   "metadata": {},
   "outputs": [],
=======
   "execution_count": 28,
   "id": "0b29b4d3",
   "metadata": {},
   "outputs": [
    {
     "data": {
      "text/plain": [
       "Sex\n",
       "female    28.418467\n",
       "male      29.966222\n",
       "Name: Age_wiki, dtype: float64"
      ]
     },
     "execution_count": 28,
     "metadata": {},
     "output_type": "execute_result"
    }
   ],
>>>>>>> Stashed changes
   "source": [
    "titanic.groupby(by='Sex')['Age_wiki'].mean()"
   ]
  },
  {
   "cell_type": "markdown",
   "id": "c5f630df",
   "metadata": {},
   "source": [
    "So this produces the mean Age by Sex. What if I wanted to find an average age just for the missing values? I could create a sub-group of null values in the age column and apply the mean method."
   ]
  },
  {
   "cell_type": "code",
   "execution_count": 29,
   "id": "b804b04d",
   "metadata": {},
   "outputs": [
    {
     "data": {
      "text/html": [
       "<div>\n",
       "<style scoped>\n",
       "    .dataframe tbody tr th:only-of-type {\n",
       "        vertical-align: middle;\n",
       "    }\n",
       "\n",
       "    .dataframe tbody tr th {\n",
       "        vertical-align: top;\n",
       "    }\n",
       "\n",
       "    .dataframe thead th {\n",
       "        text-align: right;\n",
       "    }\n",
       "</style>\n",
       "<table border=\"1\" class=\"dataframe\">\n",
       "  <thead>\n",
       "    <tr style=\"text-align: right;\">\n",
       "      <th></th>\n",
       "      <th>Survived</th>\n",
       "      <th>Pclass</th>\n",
       "      <th>SibSp</th>\n",
       "      <th>Parch</th>\n",
       "      <th>Age_wiki</th>\n",
       "    </tr>\n",
       "    <tr>\n",
       "      <th>Age_wiki</th>\n",
       "      <th></th>\n",
       "      <th></th>\n",
       "      <th></th>\n",
       "      <th></th>\n",
       "      <th></th>\n",
       "    </tr>\n",
       "  </thead>\n",
       "  <tbody>\n",
       "    <tr>\n",
       "      <th>False</th>\n",
       "      <td>0.384442</td>\n",
       "      <td>2.294163</td>\n",
       "      <td>0.500768</td>\n",
       "      <td>0.384793</td>\n",
       "      <td>29.415829</td>\n",
       "    </tr>\n",
       "    <tr>\n",
       "      <th>True</th>\n",
       "      <td>0.250000</td>\n",
       "      <td>2.428571</td>\n",
       "      <td>0.142857</td>\n",
       "      <td>0.428571</td>\n",
       "      <td>NaN</td>\n",
       "    </tr>\n",
       "  </tbody>\n",
       "</table>\n",
       "</div>"
      ],
      "text/plain": [
       "          Survived    Pclass     SibSp     Parch   Age_wiki\n",
       "Age_wiki                                                   \n",
       "False     0.384442  2.294163  0.500768  0.384793  29.415829\n",
       "True      0.250000  2.428571  0.142857  0.428571        NaN"
      ]
     },
     "execution_count": 29,
     "metadata": {},
     "output_type": "execute_result"
    }
   ],
   "source": [
    "titanic.groupby(titanic['Age_wiki'].isnull()).mean()"
   ]
  },
  {
   "cell_type": "code",
<<<<<<< Updated upstream
   "execution_count": null,
   "id": "e55b9b4f",
   "metadata": {},
   "outputs": [],
=======
   "execution_count": 30,
   "id": "e55b9b4f",
   "metadata": {},
   "outputs": [
    {
     "data": {
      "text/html": [
       "<div>\n",
       "<style scoped>\n",
       "    .dataframe tbody tr th:only-of-type {\n",
       "        vertical-align: middle;\n",
       "    }\n",
       "\n",
       "    .dataframe tbody tr th {\n",
       "        vertical-align: top;\n",
       "    }\n",
       "\n",
       "    .dataframe thead th {\n",
       "        text-align: right;\n",
       "    }\n",
       "</style>\n",
       "<table border=\"1\" class=\"dataframe\">\n",
       "  <thead>\n",
       "    <tr style=\"text-align: right;\">\n",
       "      <th></th>\n",
       "      <th>Survived</th>\n",
       "      <th>Pclass</th>\n",
       "      <th>Sex</th>\n",
       "      <th>SibSp</th>\n",
       "      <th>Parch</th>\n",
       "      <th>Cabin</th>\n",
       "      <th>Age_wiki</th>\n",
       "      <th>Boarded</th>\n",
       "    </tr>\n",
       "  </thead>\n",
       "  <tbody>\n",
       "    <tr>\n",
       "      <th>0</th>\n",
       "      <td>0.0</td>\n",
       "      <td>3</td>\n",
       "      <td>male</td>\n",
       "      <td>1</td>\n",
       "      <td>0</td>\n",
       "      <td>NaN</td>\n",
       "      <td>22.0</td>\n",
       "      <td>Southampton</td>\n",
       "    </tr>\n",
       "    <tr>\n",
       "      <th>4</th>\n",
       "      <td>0.0</td>\n",
       "      <td>3</td>\n",
       "      <td>male</td>\n",
       "      <td>0</td>\n",
       "      <td>0</td>\n",
       "      <td>NaN</td>\n",
       "      <td>35.0</td>\n",
       "      <td>Southampton</td>\n",
       "    </tr>\n",
       "    <tr>\n",
       "      <th>5</th>\n",
       "      <td>0.0</td>\n",
       "      <td>3</td>\n",
       "      <td>male</td>\n",
       "      <td>0</td>\n",
       "      <td>0</td>\n",
       "      <td>NaN</td>\n",
       "      <td>22.0</td>\n",
       "      <td>Queenstown</td>\n",
       "    </tr>\n",
       "    <tr>\n",
       "      <th>6</th>\n",
       "      <td>0.0</td>\n",
       "      <td>1</td>\n",
       "      <td>male</td>\n",
       "      <td>0</td>\n",
       "      <td>0</td>\n",
       "      <td>E46</td>\n",
       "      <td>54.0</td>\n",
       "      <td>Southampton</td>\n",
       "    </tr>\n",
       "    <tr>\n",
       "      <th>7</th>\n",
       "      <td>0.0</td>\n",
       "      <td>3</td>\n",
       "      <td>male</td>\n",
       "      <td>3</td>\n",
       "      <td>1</td>\n",
       "      <td>NaN</td>\n",
       "      <td>2.0</td>\n",
       "      <td>Southampton</td>\n",
       "    </tr>\n",
       "  </tbody>\n",
       "</table>\n",
       "</div>"
      ],
      "text/plain": [
       "   Survived  Pclass   Sex  SibSp  Parch Cabin  Age_wiki      Boarded\n",
       "0       0.0       3  male      1      0   NaN      22.0  Southampton\n",
       "4       0.0       3  male      0      0   NaN      35.0  Southampton\n",
       "5       0.0       3  male      0      0   NaN      22.0   Queenstown\n",
       "6       0.0       1  male      0      0   E46      54.0  Southampton\n",
       "7       0.0       3  male      3      1   NaN       2.0  Southampton"
      ]
     },
     "execution_count": 30,
     "metadata": {},
     "output_type": "execute_result"
    }
   ],
>>>>>>> Stashed changes
   "source": [
    "male = gender.get_group('male')\n",
    "male.head(5)"
   ]
  },
  {
   "cell_type": "code",
<<<<<<< Updated upstream
   "execution_count": null,
   "id": "5443cb93",
   "metadata": {},
   "outputs": [],
=======
   "execution_count": 31,
   "id": "5443cb93",
   "metadata": {},
   "outputs": [
    {
     "data": {
      "text/html": [
       "<div>\n",
       "<style scoped>\n",
       "    .dataframe tbody tr th:only-of-type {\n",
       "        vertical-align: middle;\n",
       "    }\n",
       "\n",
       "    .dataframe tbody tr th {\n",
       "        vertical-align: top;\n",
       "    }\n",
       "\n",
       "    .dataframe thead th {\n",
       "        text-align: right;\n",
       "    }\n",
       "</style>\n",
       "<table border=\"1\" class=\"dataframe\">\n",
       "  <thead>\n",
       "    <tr style=\"text-align: right;\">\n",
       "      <th></th>\n",
       "      <th>Survived</th>\n",
       "      <th>Pclass</th>\n",
       "      <th>Sex</th>\n",
       "      <th>SibSp</th>\n",
       "      <th>Parch</th>\n",
       "      <th>Cabin</th>\n",
       "      <th>Age_wiki</th>\n",
       "      <th>Boarded</th>\n",
       "    </tr>\n",
       "  </thead>\n",
       "  <tbody>\n",
       "    <tr>\n",
       "      <th>1</th>\n",
       "      <td>1.0</td>\n",
       "      <td>1</td>\n",
       "      <td>female</td>\n",
       "      <td>1</td>\n",
       "      <td>0</td>\n",
       "      <td>C85</td>\n",
       "      <td>35.0</td>\n",
       "      <td>Cherbourg</td>\n",
       "    </tr>\n",
       "    <tr>\n",
       "      <th>2</th>\n",
       "      <td>1.0</td>\n",
       "      <td>3</td>\n",
       "      <td>female</td>\n",
       "      <td>0</td>\n",
       "      <td>0</td>\n",
       "      <td>NaN</td>\n",
       "      <td>26.0</td>\n",
       "      <td>Southampton</td>\n",
       "    </tr>\n",
       "    <tr>\n",
       "      <th>3</th>\n",
       "      <td>1.0</td>\n",
       "      <td>1</td>\n",
       "      <td>female</td>\n",
       "      <td>1</td>\n",
       "      <td>0</td>\n",
       "      <td>C123</td>\n",
       "      <td>35.0</td>\n",
       "      <td>Southampton</td>\n",
       "    </tr>\n",
       "    <tr>\n",
       "      <th>8</th>\n",
       "      <td>1.0</td>\n",
       "      <td>3</td>\n",
       "      <td>female</td>\n",
       "      <td>0</td>\n",
       "      <td>2</td>\n",
       "      <td>NaN</td>\n",
       "      <td>26.0</td>\n",
       "      <td>Southampton</td>\n",
       "    </tr>\n",
       "    <tr>\n",
       "      <th>9</th>\n",
       "      <td>1.0</td>\n",
       "      <td>2</td>\n",
       "      <td>female</td>\n",
       "      <td>1</td>\n",
       "      <td>0</td>\n",
       "      <td>NaN</td>\n",
       "      <td>14.0</td>\n",
       "      <td>Cherbourg</td>\n",
       "    </tr>\n",
       "  </tbody>\n",
       "</table>\n",
       "</div>"
      ],
      "text/plain": [
       "   Survived  Pclass     Sex  SibSp  Parch Cabin  Age_wiki      Boarded\n",
       "1       1.0       1  female      1      0   C85      35.0    Cherbourg\n",
       "2       1.0       3  female      0      0   NaN      26.0  Southampton\n",
       "3       1.0       1  female      1      0  C123      35.0  Southampton\n",
       "8       1.0       3  female      0      2   NaN      26.0  Southampton\n",
       "9       1.0       2  female      1      0   NaN      14.0    Cherbourg"
      ]
     },
     "execution_count": 31,
     "metadata": {},
     "output_type": "execute_result"
    }
   ],
>>>>>>> Stashed changes
   "source": [
    "female = gender.get_group('female')\n",
    "female.head(5)"
   ]
  },
  {
   "cell_type": "markdown",
   "id": "b4bc7d1b",
   "metadata": {},
   "source": [
    "I can see that all the variables are numeric except for the 'Boarded' column which is populated with categorical values. I will change these categorical values into numeric values using 'one-hot encoding'.\n",
    "\n",
    "Viewing the total number of Male passengers who didn't survive (0.0), or did survive (1.0)."
   ]
  },
  {
   "cell_type": "code",
<<<<<<< Updated upstream
   "execution_count": null,
   "id": "11e855c3",
   "metadata": {},
   "outputs": [],
=======
   "execution_count": 32,
   "id": "11e855c3",
   "metadata": {},
   "outputs": [
    {
     "data": {
      "text/plain": [
       "<AxesSubplot:>"
      ]
     },
     "execution_count": 32,
     "metadata": {},
     "output_type": "execute_result"
    },
    {
     "data": {
      "image/png": "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\n",
      "text/plain": [
       "<Figure size 576x360 with 1 Axes>"
      ]
     },
     "metadata": {},
     "output_type": "display_data"
    }
   ],
>>>>>>> Stashed changes
   "source": [
    "titanic.loc[titanic.Sex == 'male']['Survived'].value_counts().plot(kind='bar', figsize=(8,5))"
   ]
  },
  {
   "cell_type": "markdown",
   "id": "d582412c",
   "metadata": {},
   "source": [
    "The total number of Female passengers who didn't survive (0.0), or did survive (1.0)."
   ]
  },
  {
   "cell_type": "code",
<<<<<<< Updated upstream
   "execution_count": null,
   "id": "d463afcc",
   "metadata": {},
   "outputs": [],
=======
   "execution_count": 33,
   "id": "d463afcc",
   "metadata": {},
   "outputs": [
    {
     "data": {
      "text/plain": [
       "<AxesSubplot:>"
      ]
     },
     "execution_count": 33,
     "metadata": {},
     "output_type": "execute_result"
    },
    {
     "data": {
      "image/png": "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\n",
      "text/plain": [
       "<Figure size 576x360 with 1 Axes>"
      ]
     },
     "metadata": {},
     "output_type": "display_data"
    }
   ],
>>>>>>> Stashed changes
   "source": [
    "titanic.loc[titanic.Sex == 'female']['Survived'].value_counts().plot(kind='bar', figsize=(8,5))"
   ]
  },
  {
   "cell_type": "code",
<<<<<<< Updated upstream
=======
   "execution_count": 34,
   "id": "f571300c",
   "metadata": {},
   "outputs": [
    {
     "data": {
      "text/html": [
       "<div>\n",
       "<style scoped>\n",
       "    .dataframe tbody tr th:only-of-type {\n",
       "        vertical-align: middle;\n",
       "    }\n",
       "\n",
       "    .dataframe tbody tr th {\n",
       "        vertical-align: top;\n",
       "    }\n",
       "\n",
       "    .dataframe thead th {\n",
       "        text-align: right;\n",
       "    }\n",
       "</style>\n",
       "<table border=\"1\" class=\"dataframe\">\n",
       "  <thead>\n",
       "    <tr style=\"text-align: right;\">\n",
       "      <th></th>\n",
       "      <th>Survived</th>\n",
       "      <th>Pclass</th>\n",
       "      <th>Sex</th>\n",
       "      <th>SibSp</th>\n",
       "      <th>Parch</th>\n",
       "      <th>Cabin</th>\n",
       "      <th>Age_wiki</th>\n",
       "      <th>Boarded</th>\n",
       "    </tr>\n",
       "  </thead>\n",
       "  <tbody>\n",
       "    <tr>\n",
       "      <th>0</th>\n",
       "      <td>0.0</td>\n",
       "      <td>3</td>\n",
       "      <td>0</td>\n",
       "      <td>1</td>\n",
       "      <td>0</td>\n",
       "      <td>NaN</td>\n",
       "      <td>22.0</td>\n",
       "      <td>Southampton</td>\n",
       "    </tr>\n",
       "    <tr>\n",
       "      <th>1</th>\n",
       "      <td>1.0</td>\n",
       "      <td>1</td>\n",
       "      <td>1</td>\n",
       "      <td>1</td>\n",
       "      <td>0</td>\n",
       "      <td>C85</td>\n",
       "      <td>35.0</td>\n",
       "      <td>Cherbourg</td>\n",
       "    </tr>\n",
       "    <tr>\n",
       "      <th>2</th>\n",
       "      <td>1.0</td>\n",
       "      <td>3</td>\n",
       "      <td>1</td>\n",
       "      <td>0</td>\n",
       "      <td>0</td>\n",
       "      <td>NaN</td>\n",
       "      <td>26.0</td>\n",
       "      <td>Southampton</td>\n",
       "    </tr>\n",
       "    <tr>\n",
       "      <th>3</th>\n",
       "      <td>1.0</td>\n",
       "      <td>1</td>\n",
       "      <td>1</td>\n",
       "      <td>1</td>\n",
       "      <td>0</td>\n",
       "      <td>C123</td>\n",
       "      <td>35.0</td>\n",
       "      <td>Southampton</td>\n",
       "    </tr>\n",
       "    <tr>\n",
       "      <th>4</th>\n",
       "      <td>0.0</td>\n",
       "      <td>3</td>\n",
       "      <td>0</td>\n",
       "      <td>0</td>\n",
       "      <td>0</td>\n",
       "      <td>NaN</td>\n",
       "      <td>35.0</td>\n",
       "      <td>Southampton</td>\n",
       "    </tr>\n",
       "  </tbody>\n",
       "</table>\n",
       "</div>"
      ],
      "text/plain": [
       "   Survived  Pclass  Sex  SibSp  Parch Cabin  Age_wiki      Boarded\n",
       "0       0.0       3    0      1      0   NaN      22.0  Southampton\n",
       "1       1.0       1    1      1      0   C85      35.0    Cherbourg\n",
       "2       1.0       3    1      0      0   NaN      26.0  Southampton\n",
       "3       1.0       1    1      1      0  C123      35.0  Southampton\n",
       "4       0.0       3    0      0      0   NaN      35.0  Southampton"
      ]
     },
     "execution_count": 34,
     "metadata": {},
     "output_type": "execute_result"
    }
   ],
   "source": [
    "gender_num = {'male': 0, 'female': 1}\n",
    "\n",
    "titanic['Sex'] = titanic['Sex'].map(gender_num)\n",
    "titanic.head()"
   ]
  },
  {
   "cell_type": "markdown",
   "id": "5f50c3d4",
   "metadata": {},
   "source": [
    "The next question is 'What do I do with these average ages?' I will use the fillna() method to replace any Null values with imputed values for the average age for both men and women."
   ]
  },
  {
   "cell_type": "code",
>>>>>>> Stashed changes
   "execution_count": null,
   "id": "f571300c",
   "metadata": {},
   "outputs": [],
>>>>>>> Stashed changes
   "source": [
    "titanic.shape"
   ]
  },
  {
   "cell_type": "markdown",
   "id": "f7a4cab9",
   "metadata": {},
   "source": [
    "## Clean the Data\n",
    "Removing unwanted columns and rows and feature engineering is the next important step. Straight away I can see the second dataset I have imported from Kaggle which I have named 'titanic.csv' has a more comprehensive number of entries but also contains 21 columns as opposed to just 12 in the first set. Time to establish which of these columns will be kept or removed using some dimensionality reduction and combination, before establishing what is to be included in a Pandas DataFrame table and target Series.\n",
    "\n",
    "I can remove 'PassengerId', 'Name', 'Ticket', 'Fare', 'Embarked', 'WikiId', 'Name_wiki', 'Hometown', 'Destination', 'Lifeboat', 'Body' and 'Class' which will significantly reduce clutter in my table as these features provide no causal relationship with passenger Survival, some of which are duplicated information."
   ]
  },
  {
   "cell_type": "code",
   "execution_count": null,
   "id": "aa0088fb",
   "metadata": {},
   "outputs": [],
   "source": []
  },
  {
   "cell_type": "code",
   "execution_count": null,
   "id": "335f6ae5",
   "metadata": {},
   "outputs": [],
   "source": []
  },
  {
   "cell_type": "code",
   "execution_count": null,
   "id": "e9616b32",
   "metadata": {},
   "outputs": [],
   "source": []
  },
  {
   "cell_type": "markdown",
   "id": "9968e265",
   "metadata": {},
   "source": [
    "## Visualizations"
   ]
  },
  {
   "cell_type": "code",
   "execution_count": null,
   "id": "b05b1c45",
   "metadata": {},
   "outputs": [],
   "source": [
    "fig = plt.figure(figsize=(18,6))\n",
    "titanic.Survived.value_counts(normalize=True).plot(kind=\"bar\", alpha=0.5)\n",
    "plt.show()"
   ]
  },
  {
   "cell_type": "markdown",
   "id": "95a3b6b7",
   "metadata": {},
   "source": [
    "Looking into relationships between the different columns can provide more insight, for example between 'Age', 'Pclass', 'Sex', 'SibSp', 'Parch', 'Cabin', 'Boarded' and their 'Survived' status."
   ]
  },
  {
   "cell_type": "code",
   "execution_count": null,
   "id": "80135351",
   "metadata": {},
   "outputs": [],
   "source": []
  }
 ],
 "metadata": {
  "kernelspec": {
   "display_name": "Python 3 (ipykernel)",
   "language": "python",
   "name": "python3"
  },
  "language_info": {
   "codemirror_mode": {
    "name": "ipython",
    "version": 3
   },
   "file_extension": ".py",
   "mimetype": "text/x-python",
   "name": "python",
   "nbconvert_exporter": "python",
   "pygments_lexer": "ipython3",
   "version": "3.9.12"
  }
 },
 "nbformat": 4,
 "nbformat_minor": 5
}
