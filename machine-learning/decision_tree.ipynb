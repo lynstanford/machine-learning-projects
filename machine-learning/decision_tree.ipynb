{
 "cells": [
  {
   "cell_type": "markdown",
   "metadata": {},
   "source": [
    "# Decision Tree Models\n",
    "The Decision Tree model can be used to discover complex linear relationships between variables for either prediction, binary classification or multi-output classification. In the first example of a decision tree algorithm I have opted to examine a commonly used dataset which is freely available in Sci-kit Learn called the 'wine' dataset.\n",
    "\n",
    "## Classification\n",
    "The first step involves importing the relevant packages from the Python and SciKit-Learn libraries as well as the Wine dataset."
   ]
  },
  {
   "cell_type": "code",
   "execution_count": 1,
   "metadata": {},
   "outputs": [],
   "source": [
    "%matplotlib inline"
   ]
  },
  {
   "cell_type": "code",
   "execution_count": 2,
   "metadata": {},
   "outputs": [
    {
     "data": {
      "text/html": [
       "<div>\n",
       "<style scoped>\n",
       "    .dataframe tbody tr th:only-of-type {\n",
       "        vertical-align: middle;\n",
       "    }\n",
       "\n",
       "    .dataframe tbody tr th {\n",
       "        vertical-align: top;\n",
       "    }\n",
       "\n",
       "    .dataframe thead th {\n",
       "        text-align: right;\n",
       "    }\n",
       "</style>\n",
       "<table border=\"1\" class=\"dataframe\">\n",
       "  <thead>\n",
       "    <tr style=\"text-align: right;\">\n",
       "      <th></th>\n",
       "      <th>alcohol</th>\n",
       "      <th>malic_acid</th>\n",
       "      <th>ash</th>\n",
       "      <th>alcalinity_of_ash</th>\n",
       "      <th>magnesium</th>\n",
       "      <th>total_phenols</th>\n",
       "      <th>flavanoids</th>\n",
       "      <th>nonflavanoid_phenols</th>\n",
       "      <th>proanthocyanins</th>\n",
       "      <th>color_intensity</th>\n",
       "      <th>hue</th>\n",
       "      <th>od280/od315_of_diluted_wines</th>\n",
       "      <th>proline</th>\n",
       "      <th>quality</th>\n",
       "    </tr>\n",
       "  </thead>\n",
       "  <tbody>\n",
       "    <tr>\n",
       "      <th>0</th>\n",
       "      <td>14.23</td>\n",
       "      <td>1.71</td>\n",
       "      <td>2.43</td>\n",
       "      <td>15.6</td>\n",
       "      <td>127.0</td>\n",
       "      <td>2.80</td>\n",
       "      <td>3.06</td>\n",
       "      <td>0.28</td>\n",
       "      <td>2.29</td>\n",
       "      <td>5.64</td>\n",
       "      <td>1.04</td>\n",
       "      <td>3.92</td>\n",
       "      <td>1065.0</td>\n",
       "      <td>0</td>\n",
       "    </tr>\n",
       "    <tr>\n",
       "      <th>1</th>\n",
       "      <td>13.20</td>\n",
       "      <td>1.78</td>\n",
       "      <td>2.14</td>\n",
       "      <td>11.2</td>\n",
       "      <td>100.0</td>\n",
       "      <td>2.65</td>\n",
       "      <td>2.76</td>\n",
       "      <td>0.26</td>\n",
       "      <td>1.28</td>\n",
       "      <td>4.38</td>\n",
       "      <td>1.05</td>\n",
       "      <td>3.40</td>\n",
       "      <td>1050.0</td>\n",
       "      <td>0</td>\n",
       "    </tr>\n",
       "    <tr>\n",
       "      <th>2</th>\n",
       "      <td>13.16</td>\n",
       "      <td>2.36</td>\n",
       "      <td>2.67</td>\n",
       "      <td>18.6</td>\n",
       "      <td>101.0</td>\n",
       "      <td>2.80</td>\n",
       "      <td>3.24</td>\n",
       "      <td>0.30</td>\n",
       "      <td>2.81</td>\n",
       "      <td>5.68</td>\n",
       "      <td>1.03</td>\n",
       "      <td>3.17</td>\n",
       "      <td>1185.0</td>\n",
       "      <td>0</td>\n",
       "    </tr>\n",
       "    <tr>\n",
       "      <th>3</th>\n",
       "      <td>14.37</td>\n",
       "      <td>1.95</td>\n",
       "      <td>2.50</td>\n",
       "      <td>16.8</td>\n",
       "      <td>113.0</td>\n",
       "      <td>3.85</td>\n",
       "      <td>3.49</td>\n",
       "      <td>0.24</td>\n",
       "      <td>2.18</td>\n",
       "      <td>7.80</td>\n",
       "      <td>0.86</td>\n",
       "      <td>3.45</td>\n",
       "      <td>1480.0</td>\n",
       "      <td>0</td>\n",
       "    </tr>\n",
       "    <tr>\n",
       "      <th>4</th>\n",
       "      <td>13.24</td>\n",
       "      <td>2.59</td>\n",
       "      <td>2.87</td>\n",
       "      <td>21.0</td>\n",
       "      <td>118.0</td>\n",
       "      <td>2.80</td>\n",
       "      <td>2.69</td>\n",
       "      <td>0.39</td>\n",
       "      <td>1.82</td>\n",
       "      <td>4.32</td>\n",
       "      <td>1.04</td>\n",
       "      <td>2.93</td>\n",
       "      <td>735.0</td>\n",
       "      <td>0</td>\n",
       "    </tr>\n",
       "  </tbody>\n",
       "</table>\n",
       "</div>"
      ],
      "text/plain": [
       "   alcohol  malic_acid   ash  alcalinity_of_ash  magnesium  total_phenols  \\\n",
       "0    14.23        1.71  2.43               15.6      127.0           2.80   \n",
       "1    13.20        1.78  2.14               11.2      100.0           2.65   \n",
       "2    13.16        2.36  2.67               18.6      101.0           2.80   \n",
       "3    14.37        1.95  2.50               16.8      113.0           3.85   \n",
       "4    13.24        2.59  2.87               21.0      118.0           2.80   \n",
       "\n",
       "   flavanoids  nonflavanoid_phenols  proanthocyanins  color_intensity   hue  \\\n",
       "0        3.06                  0.28             2.29             5.64  1.04   \n",
       "1        2.76                  0.26             1.28             4.38  1.05   \n",
       "2        3.24                  0.30             2.81             5.68  1.03   \n",
       "3        3.49                  0.24             2.18             7.80  0.86   \n",
       "4        2.69                  0.39             1.82             4.32  1.04   \n",
       "\n",
       "   od280/od315_of_diluted_wines  proline  quality  \n",
       "0                          3.92   1065.0        0  \n",
       "1                          3.40   1050.0        0  \n",
       "2                          3.17   1185.0        0  \n",
       "3                          3.45   1480.0        0  \n",
       "4                          2.93    735.0        0  "
      ]
     },
     "execution_count": 2,
     "metadata": {},
     "output_type": "execute_result"
    }
   ],
   "source": [
    "import matplotlib.pyplot as plt\n",
    "import pandas as pd\n",
    "import numpy as np\n",
    "from sklearn import tree\n",
    "from sklearn.datasets import load_wine\n",
    "from sklearn.tree import DecisionTreeClassifier\n",
    "from sklearn.model_selection import train_test_split\n",
    "\n",
    "wine = load_wine()\n",
    "df = pd.DataFrame(wine.data, columns=wine.feature_names)\n",
    "df['quality'] = wine.target\n",
    "\n",
    "# showing the first 5 entries\n",
    "df.head()"
   ]
  },
  {
   "cell_type": "markdown",
   "metadata": {},
   "source": [
    "Creating this table will help me decide which features to use for the Root Node position for the Decision Tree. Switching out different features in this position can have several deterministic consequences on the overall result. First I have decided to save it as a csv file which enables me to review the dataset in its entirety using spreadsheet analysis but also for preprocessing. It can be useful in case I decide to perform additional feature engineering by creating new data columns which may provide additional insight into the model."
   ]
  },
  {
   "cell_type": "code",
   "execution_count": 3,
   "metadata": {},
   "outputs": [],
   "source": [
    "df.to_csv(r'C:/Users/lynst/Documents/GitHub/machine-learning-projects/machine-learning/load_wine.csv')"
   ]
  },
  {
   "cell_type": "markdown",
   "metadata": {},
   "source": [
    "Looking at some of the common statistics for the dataset using the describe() function:"
   ]
  },
  {
   "cell_type": "code",
   "execution_count": 4,
   "metadata": {},
   "outputs": [
    {
     "data": {
      "text/html": [
       "<div>\n",
       "<style scoped>\n",
       "    .dataframe tbody tr th:only-of-type {\n",
       "        vertical-align: middle;\n",
       "    }\n",
       "\n",
       "    .dataframe tbody tr th {\n",
       "        vertical-align: top;\n",
       "    }\n",
       "\n",
       "    .dataframe thead th {\n",
       "        text-align: right;\n",
       "    }\n",
       "</style>\n",
       "<table border=\"1\" class=\"dataframe\">\n",
       "  <thead>\n",
       "    <tr style=\"text-align: right;\">\n",
       "      <th></th>\n",
       "      <th>alcohol</th>\n",
       "      <th>malic_acid</th>\n",
       "      <th>ash</th>\n",
       "      <th>alcalinity_of_ash</th>\n",
       "      <th>magnesium</th>\n",
       "      <th>total_phenols</th>\n",
       "      <th>flavanoids</th>\n",
       "      <th>nonflavanoid_phenols</th>\n",
       "      <th>proanthocyanins</th>\n",
       "      <th>color_intensity</th>\n",
       "      <th>hue</th>\n",
       "      <th>od280/od315_of_diluted_wines</th>\n",
       "      <th>proline</th>\n",
       "      <th>quality</th>\n",
       "    </tr>\n",
       "  </thead>\n",
       "  <tbody>\n",
       "    <tr>\n",
       "      <th>count</th>\n",
       "      <td>178.000000</td>\n",
       "      <td>178.000000</td>\n",
       "      <td>178.000000</td>\n",
       "      <td>178.000000</td>\n",
       "      <td>178.000000</td>\n",
       "      <td>178.000000</td>\n",
       "      <td>178.000000</td>\n",
       "      <td>178.000000</td>\n",
       "      <td>178.000000</td>\n",
       "      <td>178.000000</td>\n",
       "      <td>178.000000</td>\n",
       "      <td>178.000000</td>\n",
       "      <td>178.000000</td>\n",
       "      <td>178.000000</td>\n",
       "    </tr>\n",
       "    <tr>\n",
       "      <th>mean</th>\n",
       "      <td>13.000618</td>\n",
       "      <td>2.336348</td>\n",
       "      <td>2.366517</td>\n",
       "      <td>19.494944</td>\n",
       "      <td>99.741573</td>\n",
       "      <td>2.295112</td>\n",
       "      <td>2.029270</td>\n",
       "      <td>0.361854</td>\n",
       "      <td>1.590899</td>\n",
       "      <td>5.058090</td>\n",
       "      <td>0.957449</td>\n",
       "      <td>2.611685</td>\n",
       "      <td>746.893258</td>\n",
       "      <td>0.938202</td>\n",
       "    </tr>\n",
       "    <tr>\n",
       "      <th>std</th>\n",
       "      <td>0.811827</td>\n",
       "      <td>1.117146</td>\n",
       "      <td>0.274344</td>\n",
       "      <td>3.339564</td>\n",
       "      <td>14.282484</td>\n",
       "      <td>0.625851</td>\n",
       "      <td>0.998859</td>\n",
       "      <td>0.124453</td>\n",
       "      <td>0.572359</td>\n",
       "      <td>2.318286</td>\n",
       "      <td>0.228572</td>\n",
       "      <td>0.709990</td>\n",
       "      <td>314.907474</td>\n",
       "      <td>0.775035</td>\n",
       "    </tr>\n",
       "    <tr>\n",
       "      <th>min</th>\n",
       "      <td>11.030000</td>\n",
       "      <td>0.740000</td>\n",
       "      <td>1.360000</td>\n",
       "      <td>10.600000</td>\n",
       "      <td>70.000000</td>\n",
       "      <td>0.980000</td>\n",
       "      <td>0.340000</td>\n",
       "      <td>0.130000</td>\n",
       "      <td>0.410000</td>\n",
       "      <td>1.280000</td>\n",
       "      <td>0.480000</td>\n",
       "      <td>1.270000</td>\n",
       "      <td>278.000000</td>\n",
       "      <td>0.000000</td>\n",
       "    </tr>\n",
       "    <tr>\n",
       "      <th>25%</th>\n",
       "      <td>12.362500</td>\n",
       "      <td>1.602500</td>\n",
       "      <td>2.210000</td>\n",
       "      <td>17.200000</td>\n",
       "      <td>88.000000</td>\n",
       "      <td>1.742500</td>\n",
       "      <td>1.205000</td>\n",
       "      <td>0.270000</td>\n",
       "      <td>1.250000</td>\n",
       "      <td>3.220000</td>\n",
       "      <td>0.782500</td>\n",
       "      <td>1.937500</td>\n",
       "      <td>500.500000</td>\n",
       "      <td>0.000000</td>\n",
       "    </tr>\n",
       "    <tr>\n",
       "      <th>50%</th>\n",
       "      <td>13.050000</td>\n",
       "      <td>1.865000</td>\n",
       "      <td>2.360000</td>\n",
       "      <td>19.500000</td>\n",
       "      <td>98.000000</td>\n",
       "      <td>2.355000</td>\n",
       "      <td>2.135000</td>\n",
       "      <td>0.340000</td>\n",
       "      <td>1.555000</td>\n",
       "      <td>4.690000</td>\n",
       "      <td>0.965000</td>\n",
       "      <td>2.780000</td>\n",
       "      <td>673.500000</td>\n",
       "      <td>1.000000</td>\n",
       "    </tr>\n",
       "    <tr>\n",
       "      <th>75%</th>\n",
       "      <td>13.677500</td>\n",
       "      <td>3.082500</td>\n",
       "      <td>2.557500</td>\n",
       "      <td>21.500000</td>\n",
       "      <td>107.000000</td>\n",
       "      <td>2.800000</td>\n",
       "      <td>2.875000</td>\n",
       "      <td>0.437500</td>\n",
       "      <td>1.950000</td>\n",
       "      <td>6.200000</td>\n",
       "      <td>1.120000</td>\n",
       "      <td>3.170000</td>\n",
       "      <td>985.000000</td>\n",
       "      <td>2.000000</td>\n",
       "    </tr>\n",
       "    <tr>\n",
       "      <th>max</th>\n",
       "      <td>14.830000</td>\n",
       "      <td>5.800000</td>\n",
       "      <td>3.230000</td>\n",
       "      <td>30.000000</td>\n",
       "      <td>162.000000</td>\n",
       "      <td>3.880000</td>\n",
       "      <td>5.080000</td>\n",
       "      <td>0.660000</td>\n",
       "      <td>3.580000</td>\n",
       "      <td>13.000000</td>\n",
       "      <td>1.710000</td>\n",
       "      <td>4.000000</td>\n",
       "      <td>1680.000000</td>\n",
       "      <td>2.000000</td>\n",
       "    </tr>\n",
       "  </tbody>\n",
       "</table>\n",
       "</div>"
      ],
      "text/plain": [
       "          alcohol  malic_acid         ash  alcalinity_of_ash   magnesium  \\\n",
       "count  178.000000  178.000000  178.000000         178.000000  178.000000   \n",
       "mean    13.000618    2.336348    2.366517          19.494944   99.741573   \n",
       "std      0.811827    1.117146    0.274344           3.339564   14.282484   \n",
       "min     11.030000    0.740000    1.360000          10.600000   70.000000   \n",
       "25%     12.362500    1.602500    2.210000          17.200000   88.000000   \n",
       "50%     13.050000    1.865000    2.360000          19.500000   98.000000   \n",
       "75%     13.677500    3.082500    2.557500          21.500000  107.000000   \n",
       "max     14.830000    5.800000    3.230000          30.000000  162.000000   \n",
       "\n",
       "       total_phenols  flavanoids  nonflavanoid_phenols  proanthocyanins  \\\n",
       "count     178.000000  178.000000            178.000000       178.000000   \n",
       "mean        2.295112    2.029270              0.361854         1.590899   \n",
       "std         0.625851    0.998859              0.124453         0.572359   \n",
       "min         0.980000    0.340000              0.130000         0.410000   \n",
       "25%         1.742500    1.205000              0.270000         1.250000   \n",
       "50%         2.355000    2.135000              0.340000         1.555000   \n",
       "75%         2.800000    2.875000              0.437500         1.950000   \n",
       "max         3.880000    5.080000              0.660000         3.580000   \n",
       "\n",
       "       color_intensity         hue  od280/od315_of_diluted_wines      proline  \\\n",
       "count       178.000000  178.000000                    178.000000   178.000000   \n",
       "mean          5.058090    0.957449                      2.611685   746.893258   \n",
       "std           2.318286    0.228572                      0.709990   314.907474   \n",
       "min           1.280000    0.480000                      1.270000   278.000000   \n",
       "25%           3.220000    0.782500                      1.937500   500.500000   \n",
       "50%           4.690000    0.965000                      2.780000   673.500000   \n",
       "75%           6.200000    1.120000                      3.170000   985.000000   \n",
       "max          13.000000    1.710000                      4.000000  1680.000000   \n",
       "\n",
       "          quality  \n",
       "count  178.000000  \n",
       "mean     0.938202  \n",
       "std      0.775035  \n",
       "min      0.000000  \n",
       "25%      0.000000  \n",
       "50%      1.000000  \n",
       "75%      2.000000  \n",
       "max      2.000000  "
      ]
     },
     "execution_count": 4,
     "metadata": {},
     "output_type": "execute_result"
    }
   ],
   "source": [
    "df.describe()"
   ]
  },
  {
   "cell_type": "code",
   "execution_count": 5,
   "metadata": {},
   "outputs": [],
   "source": [
    "from sklearn import tree\n",
    "from sklearn.datasets import load_wine\n",
    "\n",
    "wine = load_wine()\n",
    "X = wine.data[:, 0:13]\n",
    "y = wine.target\n",
    "\n",
    "dtc = tree.DecisionTreeClassifier(max_depth=None)\n",
    "dtc = dtc.fit(X, y)"
   ]
  },
  {
   "cell_type": "markdown",
   "metadata": {},
   "source": [
    "Using the plot_tree() method within the DecisionTreeClassifier model and setting the 'filled' attribute to 'True' will color the tree nodes explaining the majority class at each decision point in the tree.\n",
    "\n",
    "One important idea to note is that the root node which appears at the very top of each decision tree can be changed in order to arrive at the lowest Gini Impurity calculation path. This is done to compare outcomes based on causation associated with different features and the goal is to reduce the Gini Impurity value to that with the lowest impurity, in this case separating the 'Good' and 'Bad' quality wines in the best possible way.\n",
    "\n",
    "The DecisionTreeClassifier is designed to choose the best split point overall (at the root node) and does a really good job at selecting the next best split points at each decision node."
   ]
  },
  {
   "cell_type": "code",
   "execution_count": 6,
   "metadata": {},
   "outputs": [
    {
     "data": {
      "text/plain": [
       "[Text(0.5657894736842105, 0.9166666666666666, 'X[12] <= 755.0\\ngini = 0.658\\nsamples = 178\\nvalue = [59, 71, 48]'),\n",
       " Text(0.34210526315789475, 0.75, 'X[11] <= 2.115\\ngini = 0.492\\nsamples = 111\\nvalue = [2, 67, 42]'),\n",
       " Text(0.21052631578947367, 0.5833333333333334, 'X[10] <= 0.935\\ngini = 0.227\\nsamples = 46\\nvalue = [0, 6, 40]'),\n",
       " Text(0.10526315789473684, 0.4166666666666667, 'X[6] <= 1.58\\ngini = 0.049\\nsamples = 40\\nvalue = [0, 1, 39]'),\n",
       " Text(0.05263157894736842, 0.25, 'gini = 0.0\\nsamples = 39\\nvalue = [0, 0, 39]'),\n",
       " Text(0.15789473684210525, 0.25, 'gini = 0.0\\nsamples = 1\\nvalue = [0, 1, 0]'),\n",
       " Text(0.3157894736842105, 0.4166666666666667, 'X[1] <= 2.395\\ngini = 0.278\\nsamples = 6\\nvalue = [0, 5, 1]'),\n",
       " Text(0.2631578947368421, 0.25, 'gini = 0.0\\nsamples = 5\\nvalue = [0, 5, 0]'),\n",
       " Text(0.3684210526315789, 0.25, 'gini = 0.0\\nsamples = 1\\nvalue = [0, 0, 1]'),\n",
       " Text(0.47368421052631576, 0.5833333333333334, 'X[6] <= 0.795\\ngini = 0.117\\nsamples = 65\\nvalue = [2, 61, 2]'),\n",
       " Text(0.42105263157894735, 0.4166666666666667, 'gini = 0.0\\nsamples = 2\\nvalue = [0, 0, 2]'),\n",
       " Text(0.5263157894736842, 0.4166666666666667, 'X[0] <= 13.175\\ngini = 0.061\\nsamples = 63\\nvalue = [2, 61, 0]'),\n",
       " Text(0.47368421052631576, 0.25, 'gini = 0.0\\nsamples = 58\\nvalue = [0, 58, 0]'),\n",
       " Text(0.5789473684210527, 0.25, 'X[9] <= 4.06\\ngini = 0.48\\nsamples = 5\\nvalue = [2, 3, 0]'),\n",
       " Text(0.5263157894736842, 0.08333333333333333, 'gini = 0.0\\nsamples = 3\\nvalue = [0, 3, 0]'),\n",
       " Text(0.631578947368421, 0.08333333333333333, 'gini = 0.0\\nsamples = 2\\nvalue = [2, 0, 0]'),\n",
       " Text(0.7894736842105263, 0.75, 'X[6] <= 2.165\\ngini = 0.265\\nsamples = 67\\nvalue = [57, 4, 6]'),\n",
       " Text(0.6842105263157895, 0.5833333333333334, 'X[10] <= 0.803\\ngini = 0.375\\nsamples = 8\\nvalue = [0, 2, 6]'),\n",
       " Text(0.631578947368421, 0.4166666666666667, 'gini = 0.0\\nsamples = 6\\nvalue = [0, 0, 6]'),\n",
       " Text(0.7368421052631579, 0.4166666666666667, 'gini = 0.0\\nsamples = 2\\nvalue = [0, 2, 0]'),\n",
       " Text(0.8947368421052632, 0.5833333333333334, 'X[9] <= 3.435\\ngini = 0.065\\nsamples = 59\\nvalue = [57, 2, 0]'),\n",
       " Text(0.8421052631578947, 0.4166666666666667, 'gini = 0.0\\nsamples = 2\\nvalue = [0, 2, 0]'),\n",
       " Text(0.9473684210526315, 0.4166666666666667, 'gini = 0.0\\nsamples = 57\\nvalue = [57, 0, 0]')]"
      ]
     },
     "execution_count": 6,
     "metadata": {},
     "output_type": "execute_result"
    },
    {
     "data": {
      "image/png": "[encoded data removed]",
      "text/plain": [
       "<Figure size 432x288 with 1 Axes>"
      ]
     },
     "metadata": {
      "needs_background": "light"
     },
     "output_type": "display_data"
    }
   ],
   "source": [
    "tree.plot_tree(dtc, filled=True)"
   ]
  },
  {
   "cell_type": "markdown",
   "metadata": {},
   "source": [
    "The visualization of this tree plot can be tidied up using matplotlib:"
   ]
  },
  {
   "cell_type": "code",
   "execution_count": 7,
   "metadata": {},
   "outputs": [
    {
     "data": {
      "image/png": "[encoded data removed]",
      "text/plain": [
       "<Figure size 1152x648 with 1 Axes>"
      ]
     },
     "metadata": {
      "needs_background": "light"
     },
     "output_type": "display_data"
    }
   ],
   "source": [
    "import matplotlib.pyplot as plt\n",
    "from sklearn.tree import plot_tree\n",
    "\n",
    "# important to adjust the size of the plot otherwise it ends up being too small\n",
    "plt.figure(figsize=(16,9))\n",
    "dtc = tree.DecisionTreeClassifier().fit(wine.data, wine.target)\n",
    "plot_tree(dtc, filled=True)\n",
    "plt.title(\"Decision Tree Trained on Red Wine Quality Features\\n\\n\")\n",
    "plt.show()"
   ]
  },
  {
   "cell_type": "markdown",
   "metadata": {},
   "source": [
    "Repeating the training process but only displaying the 'max_depth' in the classifier to a value of 2 (a depth of 2 levels from the root node), or Tree depth as it's known, is a measure of how many splits a tree can make before it must arrive at a prediction."
   ]
  },
  {
   "cell_type": "code",
   "execution_count": 8,
   "metadata": {},
   "outputs": [
    {
     "data": {
      "image/png": "[encoded data removed]",
      "text/plain": [
       "<Figure size 1152x504 with 1 Axes>"
      ]
     },
     "metadata": {
      "needs_background": "light"
     },
     "output_type": "display_data"
    }
   ],
   "source": [
    "from sklearn import tree\n",
    "from sklearn.datasets import load_wine\n",
    "\n",
    "wine = load_wine()\n",
    "X = wine.data[:, 0:13]\n",
    "y = wine.target\n",
    "\n",
    "# resizing plot\n",
    "plt.figure(figsize=(16,7))\n",
    "dtc = tree.DecisionTreeClassifier(max_depth=None)\n",
    "dtc = dtc.fit(X, y)\n",
    "tree.plot_tree(dtc, max_depth=2, filled=True)\n",
    "plt.show()"
   ]
  },
  {
   "cell_type": "markdown",
   "metadata": {},
   "source": [
    "## Using Graphviz\n",
    "This method can be used as an alternative way to display the decision tree and is derived from the SciKit Learn 'tree' model set. It's worth noting I encountered some issues when installing graphviz using Conda (which took considerable time)."
   ]
  },
  {
   "cell_type": "code",
   "execution_count": 9,
   "metadata": {},
   "outputs": [],
   "source": [
    "#!conda install python-graphviz"
   ]
  },
  {
   "cell_type": "markdown",
   "metadata": {},
   "source": [
    "Installing with pip may be a better option to get dot file conversion to png format to work."
   ]
  },
  {
   "cell_type": "code",
   "execution_count": 10,
   "metadata": {},
   "outputs": [],
   "source": [
    "#!pip install graphviz"
   ]
  },
  {
   "cell_type": "markdown",
   "metadata": {},
   "source": [
    "Next, in order to create a graphviz export tree diagram 'export_graphviz' must be imported first and then a filepath must be established for the 'dot' file. Then I can derive a graphviz object from this path with a few defining attributes."
   ]
  },
  {
   "cell_type": "code",
   "execution_count": 11,
   "metadata": {},
   "outputs": [
    {
     "data": {
      "image/svg+xml": [
       "<?xml version=\"1.0\" encoding=\"UTF-8\" standalone=\"no\"?>\n",
       "<!DOCTYPE svg PUBLIC \"-//W3C//DTD SVG 1.1//EN\"\n",
       " \"http://www.w3.org/Graphics/SVG/1.1/DTD/svg11.dtd\">\n",
       "<!-- Generated by graphviz version 2.50.0 (20211204.2007)\n",
       " -->\n",
       "<!-- Title: Tree Pages: 1 -->\n",
       "<svg width=\"1225pt\" height=\"671pt\"\n",
       " viewBox=\"0.00 0.00 1225.00 671.00\" xmlns=\"http://www.w3.org/2000/svg\" xmlns:xlink=\"http://www.w3.org/1999/xlink\">\n",
       "<g id=\"graph0\" class=\"graph\" transform=\"scale(1 1) rotate(0) translate(4 667)\">\n",
       "<title>Tree</title>\n",
       "<polygon fill=\"white\" stroke=\"transparent\" points=\"-4,4 -4,-667 1221,-667 1221,4 -4,4\"/>\n",
       "<!-- 0 -->\n",
       "<g id=\"node1\" class=\"node\">\n",
       "<title>0</title>\n",
       "<path fill=\"#ebfcf2\" stroke=\"black\" d=\"M701,-663C701,-663 588,-663 588,-663 582,-663 576,-657 576,-651 576,-651 576,-592 576,-592 576,-586 582,-580 588,-580 588,-580 701,-580 701,-580 707,-580 713,-586 713,-592 713,-592 713,-651 713,-651 713,-657 707,-663 701,-663\"/>\n",
       "<text text-anchor=\"start\" x=\"597\" y=\"-647.8\" font-family=\"Helvetica,sans-Serif\" font-size=\"14.00\">proline ≤ 755.0</text>\n",
       "<text text-anchor=\"start\" x=\"607\" y=\"-632.8\" font-family=\"Helvetica,sans-Serif\" font-size=\"14.00\">gini = 0.658</text>\n",
       "<text text-anchor=\"start\" x=\"597\" y=\"-617.8\" font-family=\"Helvetica,sans-Serif\" font-size=\"14.00\">samples = 178</text>\n",
       "<text text-anchor=\"start\" x=\"584\" y=\"-602.8\" font-family=\"Helvetica,sans-Serif\" font-size=\"14.00\">value = [59, 71, 48]</text>\n",
       "<text text-anchor=\"start\" x=\"595\" y=\"-587.8\" font-family=\"Helvetica,sans-Serif\" font-size=\"14.00\">class = class_1</text>\n",
       "</g>\n",
       "<!-- 1 -->\n",
       "<g id=\"node2\" class=\"node\">\n",
       "<title>1</title>\n",
       "<path fill=\"#b7f6d1\" stroke=\"black\" d=\"M632.5,-544C632.5,-544 386.5,-544 386.5,-544 380.5,-544 374.5,-538 374.5,-532 374.5,-532 374.5,-473 374.5,-473 374.5,-467 380.5,-461 386.5,-461 386.5,-461 632.5,-461 632.5,-461 638.5,-461 644.5,-467 644.5,-473 644.5,-473 644.5,-532 644.5,-532 644.5,-538 638.5,-544 632.5,-544\"/>\n",
       "<text text-anchor=\"start\" x=\"382.5\" y=\"-528.8\" font-family=\"Helvetica,sans-Serif\" font-size=\"14.00\">od280/od315_of_diluted_wines ≤ 2.115</text>\n",
       "<text text-anchor=\"start\" x=\"472\" y=\"-513.8\" font-family=\"Helvetica,sans-Serif\" font-size=\"14.00\">gini = 0.492</text>\n",
       "<text text-anchor=\"start\" x=\"462\" y=\"-498.8\" font-family=\"Helvetica,sans-Serif\" font-size=\"14.00\">samples = 111</text>\n",
       "<text text-anchor=\"start\" x=\"453\" y=\"-483.8\" font-family=\"Helvetica,sans-Serif\" font-size=\"14.00\">value = [2, 67, 42]</text>\n",
       "<text text-anchor=\"start\" x=\"460\" y=\"-468.8\" font-family=\"Helvetica,sans-Serif\" font-size=\"14.00\">class = class_1</text>\n",
       "</g>\n",
       "<!-- 0&#45;&gt;1 -->\n",
       "<g id=\"edge1\" class=\"edge\">\n",
       "<title>0&#45;&gt;1</title>\n",
       "<path fill=\"none\" stroke=\"black\" d=\"M597.66,-579.91C586.77,-570.47 575.09,-560.34 563.9,-550.65\"/>\n",
       "<polygon fill=\"black\" stroke=\"black\" points=\"566.1,-547.93 556.25,-544.02 561.52,-553.22 566.1,-547.93\"/>\n",
       "<text text-anchor=\"middle\" x=\"558.04\" y=\"-565.26\" font-family=\"Helvetica,sans-Serif\" font-size=\"14.00\">True</text>\n",
       "</g>\n",
       "<!-- 16 -->\n",
       "<g id=\"node17\" class=\"node\">\n",
       "<title>16</title>\n",
       "<path fill=\"#e99659\" stroke=\"black\" d=\"M863.5,-544C863.5,-544 755.5,-544 755.5,-544 749.5,-544 743.5,-538 743.5,-532 743.5,-532 743.5,-473 743.5,-473 743.5,-467 749.5,-461 755.5,-461 755.5,-461 863.5,-461 863.5,-461 869.5,-461 875.5,-467 875.5,-473 875.5,-473 875.5,-532 875.5,-532 875.5,-538 869.5,-544 863.5,-544\"/>\n",
       "<text text-anchor=\"start\" x=\"751.5\" y=\"-528.8\" font-family=\"Helvetica,sans-Serif\" font-size=\"14.00\">flavanoids ≤ 2.165</text>\n",
       "<text text-anchor=\"start\" x=\"772\" y=\"-513.8\" font-family=\"Helvetica,sans-Serif\" font-size=\"14.00\">gini = 0.265</text>\n",
       "<text text-anchor=\"start\" x=\"766\" y=\"-498.8\" font-family=\"Helvetica,sans-Serif\" font-size=\"14.00\">samples = 67</text>\n",
       "<text text-anchor=\"start\" x=\"757\" y=\"-483.8\" font-family=\"Helvetica,sans-Serif\" font-size=\"14.00\">value = [57, 4, 6]</text>\n",
       "<text text-anchor=\"start\" x=\"760\" y=\"-468.8\" font-family=\"Helvetica,sans-Serif\" font-size=\"14.00\">class = class_0</text>\n",
       "</g>\n",
       "<!-- 0&#45;&gt;16 -->\n",
       "<g id=\"edge16\" class=\"edge\">\n",
       "<title>0&#45;&gt;16</title>\n",
       "<path fill=\"none\" stroke=\"black\" d=\"M701.75,-579.91C715.44,-570.2 730.16,-559.76 744.19,-549.81\"/>\n",
       "<polygon fill=\"black\" stroke=\"black\" points=\"746.22,-552.66 752.36,-544.02 742.17,-546.95 746.22,-552.66\"/>\n",
       "<text text-anchor=\"middle\" x=\"748.16\" y=\"-564.97\" font-family=\"Helvetica,sans-Serif\" font-size=\"14.00\">False</text>\n",
       "</g>\n",
       "<!-- 2 -->\n",
       "<g id=\"node3\" class=\"node\">\n",
       "<title>2</title>\n",
       "<path fill=\"#9457e9\" stroke=\"black\" d=\"M387,-425C387,-425 290,-425 290,-425 284,-425 278,-419 278,-413 278,-413 278,-354 278,-354 278,-348 284,-342 290,-342 290,-342 387,-342 387,-342 393,-342 399,-348 399,-354 399,-354 399,-413 399,-413 399,-419 393,-425 387,-425\"/>\n",
       "<text text-anchor=\"start\" x=\"300.5\" y=\"-409.8\" font-family=\"Helvetica,sans-Serif\" font-size=\"14.00\">hue ≤ 0.935</text>\n",
       "<text text-anchor=\"start\" x=\"301\" y=\"-394.8\" font-family=\"Helvetica,sans-Serif\" font-size=\"14.00\">gini = 0.227</text>\n",
       "<text text-anchor=\"start\" x=\"295\" y=\"-379.8\" font-family=\"Helvetica,sans-Serif\" font-size=\"14.00\">samples = 46</text>\n",
       "<text text-anchor=\"start\" x=\"286\" y=\"-364.8\" font-family=\"Helvetica,sans-Serif\" font-size=\"14.00\">value = [0, 6, 40]</text>\n",
       "<text text-anchor=\"start\" x=\"289\" y=\"-349.8\" font-family=\"Helvetica,sans-Serif\" font-size=\"14.00\">class = class_2</text>\n",
       "</g>\n",
       "<!-- 1&#45;&gt;2 -->\n",
       "<g id=\"edge2\" class=\"edge\">\n",
       "<title>1&#45;&gt;2</title>\n",
       "<path fill=\"none\" stroke=\"black\" d=\"M450.17,-460.91C435.98,-451.2 420.72,-440.76 406.19,-430.81\"/>\n",
       "<polygon fill=\"black\" stroke=\"black\" points=\"407.95,-427.78 397.72,-425.02 404,-433.56 407.95,-427.78\"/>\n",
       "</g>\n",
       "<!-- 9 -->\n",
       "<g id=\"node10\" class=\"node\">\n",
       "<title>9</title>\n",
       "<path fill=\"#46e789\" stroke=\"black\" d=\"M563.5,-425C563.5,-425 455.5,-425 455.5,-425 449.5,-425 443.5,-419 443.5,-413 443.5,-413 443.5,-354 443.5,-354 443.5,-348 449.5,-342 455.5,-342 455.5,-342 563.5,-342 563.5,-342 569.5,-342 575.5,-348 575.5,-354 575.5,-354 575.5,-413 575.5,-413 575.5,-419 569.5,-425 563.5,-425\"/>\n",
       "<text text-anchor=\"start\" x=\"451.5\" y=\"-409.8\" font-family=\"Helvetica,sans-Serif\" font-size=\"14.00\">flavanoids ≤ 0.795</text>\n",
       "<text text-anchor=\"start\" x=\"472\" y=\"-394.8\" font-family=\"Helvetica,sans-Serif\" font-size=\"14.00\">gini = 0.117</text>\n",
       "<text text-anchor=\"start\" x=\"466\" y=\"-379.8\" font-family=\"Helvetica,sans-Serif\" font-size=\"14.00\">samples = 65</text>\n",
       "<text text-anchor=\"start\" x=\"457\" y=\"-364.8\" font-family=\"Helvetica,sans-Serif\" font-size=\"14.00\">value = [2, 61, 2]</text>\n",
       "<text text-anchor=\"start\" x=\"460\" y=\"-349.8\" font-family=\"Helvetica,sans-Serif\" font-size=\"14.00\">class = class_1</text>\n",
       "</g>\n",
       "<!-- 1&#45;&gt;9 -->\n",
       "<g id=\"edge9\" class=\"edge\">\n",
       "<title>1&#45;&gt;9</title>\n",
       "<path fill=\"none\" stroke=\"black\" d=\"M509.5,-460.91C509.5,-452.65 509.5,-443.86 509.5,-435.3\"/>\n",
       "<polygon fill=\"black\" stroke=\"black\" points=\"513,-435.02 509.5,-425.02 506,-435.02 513,-435.02\"/>\n",
       "</g>\n",
       "<!-- 3 -->\n",
       "<g id=\"node4\" class=\"node\">\n",
       "<title>3</title>\n",
       "<path fill=\"#843ee6\" stroke=\"black\" d=\"M242.5,-306C242.5,-306 142.5,-306 142.5,-306 136.5,-306 130.5,-300 130.5,-294 130.5,-294 130.5,-235 130.5,-235 130.5,-229 136.5,-223 142.5,-223 142.5,-223 242.5,-223 242.5,-223 248.5,-223 254.5,-229 254.5,-235 254.5,-235 254.5,-294 254.5,-294 254.5,-300 248.5,-306 242.5,-306\"/>\n",
       "<text text-anchor=\"start\" x=\"138.5\" y=\"-290.8\" font-family=\"Helvetica,sans-Serif\" font-size=\"14.00\">flavanoids ≤ 1.58</text>\n",
       "<text text-anchor=\"start\" x=\"155\" y=\"-275.8\" font-family=\"Helvetica,sans-Serif\" font-size=\"14.00\">gini = 0.049</text>\n",
       "<text text-anchor=\"start\" x=\"149\" y=\"-260.8\" font-family=\"Helvetica,sans-Serif\" font-size=\"14.00\">samples = 40</text>\n",
       "<text text-anchor=\"start\" x=\"140\" y=\"-245.8\" font-family=\"Helvetica,sans-Serif\" font-size=\"14.00\">value = [0, 1, 39]</text>\n",
       "<text text-anchor=\"start\" x=\"143\" y=\"-230.8\" font-family=\"Helvetica,sans-Serif\" font-size=\"14.00\">class = class_2</text>\n",
       "</g>\n",
       "<!-- 2&#45;&gt;3 -->\n",
       "<g id=\"edge3\" class=\"edge\">\n",
       "<title>2&#45;&gt;3</title>\n",
       "<path fill=\"none\" stroke=\"black\" d=\"M287.85,-341.91C275.96,-332.38 263.19,-322.15 250.99,-312.37\"/>\n",
       "<polygon fill=\"black\" stroke=\"black\" points=\"253.06,-309.54 243.06,-306.02 248.68,-315.01 253.06,-309.54\"/>\n",
       "</g>\n",
       "<!-- 6 -->\n",
       "<g id=\"node7\" class=\"node\">\n",
       "<title>6</title>\n",
       "<path fill=\"#61ea9a\" stroke=\"black\" d=\"M392.5,-306C392.5,-306 284.5,-306 284.5,-306 278.5,-306 272.5,-300 272.5,-294 272.5,-294 272.5,-235 272.5,-235 272.5,-229 278.5,-223 284.5,-223 284.5,-223 392.5,-223 392.5,-223 398.5,-223 404.5,-229 404.5,-235 404.5,-235 404.5,-294 404.5,-294 404.5,-300 398.5,-306 392.5,-306\"/>\n",
       "<text text-anchor=\"start\" x=\"280.5\" y=\"-290.8\" font-family=\"Helvetica,sans-Serif\" font-size=\"14.00\">flavanoids ≤ 0.565</text>\n",
       "<text text-anchor=\"start\" x=\"301\" y=\"-275.8\" font-family=\"Helvetica,sans-Serif\" font-size=\"14.00\">gini = 0.278</text>\n",
       "<text text-anchor=\"start\" x=\"299\" y=\"-260.8\" font-family=\"Helvetica,sans-Serif\" font-size=\"14.00\">samples = 6</text>\n",
       "<text text-anchor=\"start\" x=\"290\" y=\"-245.8\" font-family=\"Helvetica,sans-Serif\" font-size=\"14.00\">value = [0, 5, 1]</text>\n",
       "<text text-anchor=\"start\" x=\"289\" y=\"-230.8\" font-family=\"Helvetica,sans-Serif\" font-size=\"14.00\">class = class_1</text>\n",
       "</g>\n",
       "<!-- 2&#45;&gt;6 -->\n",
       "<g id=\"edge6\" class=\"edge\">\n",
       "<title>2&#45;&gt;6</title>\n",
       "<path fill=\"none\" stroke=\"black\" d=\"M338.5,-341.91C338.5,-333.65 338.5,-324.86 338.5,-316.3\"/>\n",
       "<polygon fill=\"black\" stroke=\"black\" points=\"342,-316.02 338.5,-306.02 335,-316.02 342,-316.02\"/>\n",
       "</g>\n",
       "<!-- 4 -->\n",
       "<g id=\"node5\" class=\"node\">\n",
       "<title>4</title>\n",
       "<path fill=\"#8139e5\" stroke=\"black\" d=\"M109,-179.5C109,-179.5 12,-179.5 12,-179.5 6,-179.5 0,-173.5 0,-167.5 0,-167.5 0,-123.5 0,-123.5 0,-117.5 6,-111.5 12,-111.5 12,-111.5 109,-111.5 109,-111.5 115,-111.5 121,-117.5 121,-123.5 121,-123.5 121,-167.5 121,-167.5 121,-173.5 115,-179.5 109,-179.5\"/>\n",
       "<text text-anchor=\"start\" x=\"31.5\" y=\"-164.3\" font-family=\"Helvetica,sans-Serif\" font-size=\"14.00\">gini = 0.0</text>\n",
       "<text text-anchor=\"start\" x=\"17\" y=\"-149.3\" font-family=\"Helvetica,sans-Serif\" font-size=\"14.00\">samples = 39</text>\n",
       "<text text-anchor=\"start\" x=\"8\" y=\"-134.3\" font-family=\"Helvetica,sans-Serif\" font-size=\"14.00\">value = [0, 0, 39]</text>\n",
       "<text text-anchor=\"start\" x=\"11\" y=\"-119.3\" font-family=\"Helvetica,sans-Serif\" font-size=\"14.00\">class = class_2</text>\n",
       "</g>\n",
       "<!-- 3&#45;&gt;4 -->\n",
       "<g id=\"edge4\" class=\"edge\">\n",
       "<title>3&#45;&gt;4</title>\n",
       "<path fill=\"none\" stroke=\"black\" d=\"M146.7,-222.91C133.38,-211.1 118.85,-198.22 105.57,-186.45\"/>\n",
       "<polygon fill=\"black\" stroke=\"black\" points=\"107.72,-183.68 97.92,-179.67 103.08,-188.92 107.72,-183.68\"/>\n",
       "</g>\n",
       "<!-- 5 -->\n",
       "<g id=\"node6\" class=\"node\">\n",
       "<title>5</title>\n",
       "<path fill=\"#39e581\" stroke=\"black\" d=\"M242,-179.5C242,-179.5 151,-179.5 151,-179.5 145,-179.5 139,-173.5 139,-167.5 139,-167.5 139,-123.5 139,-123.5 139,-117.5 145,-111.5 151,-111.5 151,-111.5 242,-111.5 242,-111.5 248,-111.5 254,-117.5 254,-123.5 254,-123.5 254,-167.5 254,-167.5 254,-173.5 248,-179.5 242,-179.5\"/>\n",
       "<text text-anchor=\"start\" x=\"167.5\" y=\"-164.3\" font-family=\"Helvetica,sans-Serif\" font-size=\"14.00\">gini = 0.0</text>\n",
       "<text text-anchor=\"start\" x=\"157\" y=\"-149.3\" font-family=\"Helvetica,sans-Serif\" font-size=\"14.00\">samples = 1</text>\n",
       "<text text-anchor=\"start\" x=\"148\" y=\"-134.3\" font-family=\"Helvetica,sans-Serif\" font-size=\"14.00\">value = [0, 1, 0]</text>\n",
       "<text text-anchor=\"start\" x=\"147\" y=\"-119.3\" font-family=\"Helvetica,sans-Serif\" font-size=\"14.00\">class = class_1</text>\n",
       "</g>\n",
       "<!-- 3&#45;&gt;5 -->\n",
       "<g id=\"edge5\" class=\"edge\">\n",
       "<title>3&#45;&gt;5</title>\n",
       "<path fill=\"none\" stroke=\"black\" d=\"M193.89,-222.91C194.25,-212.2 194.65,-200.62 195.02,-189.78\"/>\n",
       "<polygon fill=\"black\" stroke=\"black\" points=\"198.52,-189.78 195.37,-179.67 191.53,-189.54 198.52,-189.78\"/>\n",
       "</g>\n",
       "<!-- 7 -->\n",
       "<g id=\"node8\" class=\"node\">\n",
       "<title>7</title>\n",
       "<path fill=\"#8139e5\" stroke=\"black\" d=\"M381,-179.5C381,-179.5 290,-179.5 290,-179.5 284,-179.5 278,-173.5 278,-167.5 278,-167.5 278,-123.5 278,-123.5 278,-117.5 284,-111.5 290,-111.5 290,-111.5 381,-111.5 381,-111.5 387,-111.5 393,-117.5 393,-123.5 393,-123.5 393,-167.5 393,-167.5 393,-173.5 387,-179.5 381,-179.5\"/>\n",
       "<text text-anchor=\"start\" x=\"306.5\" y=\"-164.3\" font-family=\"Helvetica,sans-Serif\" font-size=\"14.00\">gini = 0.0</text>\n",
       "<text text-anchor=\"start\" x=\"296\" y=\"-149.3\" font-family=\"Helvetica,sans-Serif\" font-size=\"14.00\">samples = 1</text>\n",
       "<text text-anchor=\"start\" x=\"287\" y=\"-134.3\" font-family=\"Helvetica,sans-Serif\" font-size=\"14.00\">value = [0, 0, 1]</text>\n",
       "<text text-anchor=\"start\" x=\"286\" y=\"-119.3\" font-family=\"Helvetica,sans-Serif\" font-size=\"14.00\">class = class_2</text>\n",
       "</g>\n",
       "<!-- 6&#45;&gt;7 -->\n",
       "<g id=\"edge7\" class=\"edge\">\n",
       "<title>6&#45;&gt;7</title>\n",
       "<path fill=\"none\" stroke=\"black\" d=\"M337.46,-222.91C337.18,-212.2 336.89,-200.62 336.61,-189.78\"/>\n",
       "<polygon fill=\"black\" stroke=\"black\" points=\"340.11,-189.57 336.35,-179.67 333.11,-189.75 340.11,-189.57\"/>\n",
       "</g>\n",
       "<!-- 8 -->\n",
       "<g id=\"node9\" class=\"node\">\n",
       "<title>8</title>\n",
       "<path fill=\"#39e581\" stroke=\"black\" d=\"M514,-179.5C514,-179.5 423,-179.5 423,-179.5 417,-179.5 411,-173.5 411,-167.5 411,-167.5 411,-123.5 411,-123.5 411,-117.5 417,-111.5 423,-111.5 423,-111.5 514,-111.5 514,-111.5 520,-111.5 526,-117.5 526,-123.5 526,-123.5 526,-167.5 526,-167.5 526,-173.5 520,-179.5 514,-179.5\"/>\n",
       "<text text-anchor=\"start\" x=\"439.5\" y=\"-164.3\" font-family=\"Helvetica,sans-Serif\" font-size=\"14.00\">gini = 0.0</text>\n",
       "<text text-anchor=\"start\" x=\"429\" y=\"-149.3\" font-family=\"Helvetica,sans-Serif\" font-size=\"14.00\">samples = 5</text>\n",
       "<text text-anchor=\"start\" x=\"420\" y=\"-134.3\" font-family=\"Helvetica,sans-Serif\" font-size=\"14.00\">value = [0, 5, 0]</text>\n",
       "<text text-anchor=\"start\" x=\"419\" y=\"-119.3\" font-family=\"Helvetica,sans-Serif\" font-size=\"14.00\">class = class_1</text>\n",
       "</g>\n",
       "<!-- 6&#45;&gt;8 -->\n",
       "<g id=\"edge8\" class=\"edge\">\n",
       "<title>6&#45;&gt;8</title>\n",
       "<path fill=\"none\" stroke=\"black\" d=\"M383.6,-222.91C396.72,-211.1 411.04,-198.22 424.11,-186.45\"/>\n",
       "<polygon fill=\"black\" stroke=\"black\" points=\"426.56,-188.96 431.65,-179.67 421.87,-183.76 426.56,-188.96\"/>\n",
       "</g>\n",
       "<!-- 10 -->\n",
       "<g id=\"node11\" class=\"node\">\n",
       "<title>10</title>\n",
       "<path fill=\"#8139e5\" stroke=\"black\" d=\"M526,-298.5C526,-298.5 435,-298.5 435,-298.5 429,-298.5 423,-292.5 423,-286.5 423,-286.5 423,-242.5 423,-242.5 423,-236.5 429,-230.5 435,-230.5 435,-230.5 526,-230.5 526,-230.5 532,-230.5 538,-236.5 538,-242.5 538,-242.5 538,-286.5 538,-286.5 538,-292.5 532,-298.5 526,-298.5\"/>\n",
       "<text text-anchor=\"start\" x=\"451.5\" y=\"-283.3\" font-family=\"Helvetica,sans-Serif\" font-size=\"14.00\">gini = 0.0</text>\n",
       "<text text-anchor=\"start\" x=\"441\" y=\"-268.3\" font-family=\"Helvetica,sans-Serif\" font-size=\"14.00\">samples = 2</text>\n",
       "<text text-anchor=\"start\" x=\"432\" y=\"-253.3\" font-family=\"Helvetica,sans-Serif\" font-size=\"14.00\">value = [0, 0, 2]</text>\n",
       "<text text-anchor=\"start\" x=\"431\" y=\"-238.3\" font-family=\"Helvetica,sans-Serif\" font-size=\"14.00\">class = class_2</text>\n",
       "</g>\n",
       "<!-- 9&#45;&gt;10 -->\n",
       "<g id=\"edge10\" class=\"edge\">\n",
       "<title>9&#45;&gt;10</title>\n",
       "<path fill=\"none\" stroke=\"black\" d=\"M499.44,-341.91C496.76,-331.09 493.85,-319.38 491.14,-308.44\"/>\n",
       "<polygon fill=\"black\" stroke=\"black\" points=\"494.52,-307.53 488.72,-298.67 487.73,-309.22 494.52,-307.53\"/>\n",
       "</g>\n",
       "<!-- 11 -->\n",
       "<g id=\"node12\" class=\"node\">\n",
       "<title>11</title>\n",
       "<path fill=\"#3fe685\" stroke=\"black\" d=\"M666.5,-306C666.5,-306 568.5,-306 568.5,-306 562.5,-306 556.5,-300 556.5,-294 556.5,-294 556.5,-235 556.5,-235 556.5,-229 562.5,-223 568.5,-223 568.5,-223 666.5,-223 666.5,-223 672.5,-223 678.5,-229 678.5,-235 678.5,-235 678.5,-294 678.5,-294 678.5,-300 672.5,-306 666.5,-306\"/>\n",
       "<text text-anchor=\"start\" x=\"564.5\" y=\"-290.8\" font-family=\"Helvetica,sans-Serif\" font-size=\"14.00\">alcohol ≤ 13.175</text>\n",
       "<text text-anchor=\"start\" x=\"580\" y=\"-275.8\" font-family=\"Helvetica,sans-Serif\" font-size=\"14.00\">gini = 0.061</text>\n",
       "<text text-anchor=\"start\" x=\"574\" y=\"-260.8\" font-family=\"Helvetica,sans-Serif\" font-size=\"14.00\">samples = 63</text>\n",
       "<text text-anchor=\"start\" x=\"565\" y=\"-245.8\" font-family=\"Helvetica,sans-Serif\" font-size=\"14.00\">value = [2, 61, 0]</text>\n",
       "<text text-anchor=\"start\" x=\"568\" y=\"-230.8\" font-family=\"Helvetica,sans-Serif\" font-size=\"14.00\">class = class_1</text>\n",
       "</g>\n",
       "<!-- 9&#45;&gt;11 -->\n",
       "<g id=\"edge11\" class=\"edge\">\n",
       "<title>9&#45;&gt;11</title>\n",
       "<path fill=\"none\" stroke=\"black\" d=\"M546.97,-341.91C555.43,-332.74 564.49,-322.93 573.2,-313.49\"/>\n",
       "<polygon fill=\"black\" stroke=\"black\" points=\"575.89,-315.74 580.1,-306.02 570.74,-310.99 575.89,-315.74\"/>\n",
       "</g>\n",
       "<!-- 12 -->\n",
       "<g id=\"node13\" class=\"node\">\n",
       "<title>12</title>\n",
       "<path fill=\"#39e581\" stroke=\"black\" d=\"M660,-179.5C660,-179.5 563,-179.5 563,-179.5 557,-179.5 551,-173.5 551,-167.5 551,-167.5 551,-123.5 551,-123.5 551,-117.5 557,-111.5 563,-111.5 563,-111.5 660,-111.5 660,-111.5 666,-111.5 672,-117.5 672,-123.5 672,-123.5 672,-167.5 672,-167.5 672,-173.5 666,-179.5 660,-179.5\"/>\n",
       "<text text-anchor=\"start\" x=\"582.5\" y=\"-164.3\" font-family=\"Helvetica,sans-Serif\" font-size=\"14.00\">gini = 0.0</text>\n",
       "<text text-anchor=\"start\" x=\"568\" y=\"-149.3\" font-family=\"Helvetica,sans-Serif\" font-size=\"14.00\">samples = 58</text>\n",
       "<text text-anchor=\"start\" x=\"559\" y=\"-134.3\" font-family=\"Helvetica,sans-Serif\" font-size=\"14.00\">value = [0, 58, 0]</text>\n",
       "<text text-anchor=\"start\" x=\"562\" y=\"-119.3\" font-family=\"Helvetica,sans-Serif\" font-size=\"14.00\">class = class_1</text>\n",
       "</g>\n",
       "<!-- 11&#45;&gt;12 -->\n",
       "<g id=\"edge12\" class=\"edge\">\n",
       "<title>11&#45;&gt;12</title>\n",
       "<path fill=\"none\" stroke=\"black\" d=\"M615.42,-222.91C614.87,-212.2 614.28,-200.62 613.72,-189.78\"/>\n",
       "<polygon fill=\"black\" stroke=\"black\" points=\"617.21,-189.47 613.2,-179.67 610.22,-189.83 617.21,-189.47\"/>\n",
       "</g>\n",
       "<!-- 13 -->\n",
       "<g id=\"node14\" class=\"node\">\n",
       "<title>13</title>\n",
       "<path fill=\"#bdf6d5\" stroke=\"black\" d=\"M793,-187C793,-187 702,-187 702,-187 696,-187 690,-181 690,-175 690,-175 690,-116 690,-116 690,-110 696,-104 702,-104 702,-104 793,-104 793,-104 799,-104 805,-110 805,-116 805,-116 805,-175 805,-175 805,-181 799,-187 793,-187\"/>\n",
       "<text text-anchor=\"start\" x=\"700\" y=\"-171.8\" font-family=\"Helvetica,sans-Serif\" font-size=\"14.00\">proline ≤ 655.0</text>\n",
       "<text text-anchor=\"start\" x=\"714\" y=\"-156.8\" font-family=\"Helvetica,sans-Serif\" font-size=\"14.00\">gini = 0.48</text>\n",
       "<text text-anchor=\"start\" x=\"708\" y=\"-141.8\" font-family=\"Helvetica,sans-Serif\" font-size=\"14.00\">samples = 5</text>\n",
       "<text text-anchor=\"start\" x=\"699\" y=\"-126.8\" font-family=\"Helvetica,sans-Serif\" font-size=\"14.00\">value = [2, 3, 0]</text>\n",
       "<text text-anchor=\"start\" x=\"698\" y=\"-111.8\" font-family=\"Helvetica,sans-Serif\" font-size=\"14.00\">class = class_1</text>\n",
       "</g>\n",
       "<!-- 11&#45;&gt;13 -->\n",
       "<g id=\"edge13\" class=\"edge\">\n",
       "<title>11&#45;&gt;13</title>\n",
       "<path fill=\"none\" stroke=\"black\" d=\"M662.6,-222.91C672.99,-213.56 684.12,-203.54 694.8,-193.93\"/>\n",
       "<polygon fill=\"black\" stroke=\"black\" points=\"697.39,-196.31 702.48,-187.02 692.7,-191.11 697.39,-196.31\"/>\n",
       "</g>\n",
       "<!-- 14 -->\n",
       "<g id=\"node15\" class=\"node\">\n",
       "<title>14</title>\n",
       "<path fill=\"#39e581\" stroke=\"black\" d=\"M726,-68C726,-68 635,-68 635,-68 629,-68 623,-62 623,-56 623,-56 623,-12 623,-12 623,-6 629,0 635,0 635,0 726,0 726,0 732,0 738,-6 738,-12 738,-12 738,-56 738,-56 738,-62 732,-68 726,-68\"/>\n",
       "<text text-anchor=\"start\" x=\"651.5\" y=\"-52.8\" font-family=\"Helvetica,sans-Serif\" font-size=\"14.00\">gini = 0.0</text>\n",
       "<text text-anchor=\"start\" x=\"641\" y=\"-37.8\" font-family=\"Helvetica,sans-Serif\" font-size=\"14.00\">samples = 3</text>\n",
       "<text text-anchor=\"start\" x=\"632\" y=\"-22.8\" font-family=\"Helvetica,sans-Serif\" font-size=\"14.00\">value = [0, 3, 0]</text>\n",
       "<text text-anchor=\"start\" x=\"631\" y=\"-7.8\" font-family=\"Helvetica,sans-Serif\" font-size=\"14.00\">class = class_1</text>\n",
       "</g>\n",
       "<!-- 13&#45;&gt;14 -->\n",
       "<g id=\"edge14\" class=\"edge\">\n",
       "<title>13&#45;&gt;14</title>\n",
       "<path fill=\"none\" stroke=\"black\" d=\"M722.55,-103.73C717.19,-94.97 711.52,-85.7 706.14,-76.91\"/>\n",
       "<polygon fill=\"black\" stroke=\"black\" points=\"709.08,-75 700.88,-68.3 703.11,-78.66 709.08,-75\"/>\n",
       "</g>\n",
       "<!-- 15 -->\n",
       "<g id=\"node16\" class=\"node\">\n",
       "<title>15</title>\n",
       "<path fill=\"#e58139\" stroke=\"black\" d=\"M859,-68C859,-68 768,-68 768,-68 762,-68 756,-62 756,-56 756,-56 756,-12 756,-12 756,-6 762,0 768,0 768,0 859,0 859,0 865,0 871,-6 871,-12 871,-12 871,-56 871,-56 871,-62 865,-68 859,-68\"/>\n",
       "<text text-anchor=\"start\" x=\"784.5\" y=\"-52.8\" font-family=\"Helvetica,sans-Serif\" font-size=\"14.00\">gini = 0.0</text>\n",
       "<text text-anchor=\"start\" x=\"774\" y=\"-37.8\" font-family=\"Helvetica,sans-Serif\" font-size=\"14.00\">samples = 2</text>\n",
       "<text text-anchor=\"start\" x=\"765\" y=\"-22.8\" font-family=\"Helvetica,sans-Serif\" font-size=\"14.00\">value = [2, 0, 0]</text>\n",
       "<text text-anchor=\"start\" x=\"764\" y=\"-7.8\" font-family=\"Helvetica,sans-Serif\" font-size=\"14.00\">class = class_0</text>\n",
       "</g>\n",
       "<!-- 13&#45;&gt;15 -->\n",
       "<g id=\"edge15\" class=\"edge\">\n",
       "<title>13&#45;&gt;15</title>\n",
       "<path fill=\"none\" stroke=\"black\" d=\"M772.08,-103.73C777.35,-94.97 782.94,-85.7 788.24,-76.91\"/>\n",
       "<polygon fill=\"black\" stroke=\"black\" points=\"791.26,-78.67 793.43,-68.3 785.27,-75.06 791.26,-78.67\"/>\n",
       "</g>\n",
       "<!-- 17 -->\n",
       "<g id=\"node18\" class=\"node\">\n",
       "<title>17</title>\n",
       "<path fill=\"#ab7bee\" stroke=\"black\" d=\"M855.5,-425C855.5,-425 763.5,-425 763.5,-425 757.5,-425 751.5,-419 751.5,-413 751.5,-413 751.5,-354 751.5,-354 751.5,-348 757.5,-342 763.5,-342 763.5,-342 855.5,-342 855.5,-342 861.5,-342 867.5,-348 867.5,-354 867.5,-354 867.5,-413 867.5,-413 867.5,-419 861.5,-425 855.5,-425\"/>\n",
       "<text text-anchor=\"start\" x=\"759.5\" y=\"-409.8\" font-family=\"Helvetica,sans-Serif\" font-size=\"14.00\">flavanoids ≤ 0.9</text>\n",
       "<text text-anchor=\"start\" x=\"772\" y=\"-394.8\" font-family=\"Helvetica,sans-Serif\" font-size=\"14.00\">gini = 0.375</text>\n",
       "<text text-anchor=\"start\" x=\"770\" y=\"-379.8\" font-family=\"Helvetica,sans-Serif\" font-size=\"14.00\">samples = 8</text>\n",
       "<text text-anchor=\"start\" x=\"761\" y=\"-364.8\" font-family=\"Helvetica,sans-Serif\" font-size=\"14.00\">value = [0, 2, 6]</text>\n",
       "<text text-anchor=\"start\" x=\"760\" y=\"-349.8\" font-family=\"Helvetica,sans-Serif\" font-size=\"14.00\">class = class_2</text>\n",
       "</g>\n",
       "<!-- 16&#45;&gt;17 -->\n",
       "<g id=\"edge17\" class=\"edge\">\n",
       "<title>16&#45;&gt;17</title>\n",
       "<path fill=\"none\" stroke=\"black\" d=\"M809.5,-460.91C809.5,-452.65 809.5,-443.86 809.5,-435.3\"/>\n",
       "<polygon fill=\"black\" stroke=\"black\" points=\"813,-435.02 809.5,-425.02 806,-435.02 813,-435.02\"/>\n",
       "</g>\n",
       "<!-- 20 -->\n",
       "<g id=\"node21\" class=\"node\">\n",
       "<title>20</title>\n",
       "<path fill=\"#e68540\" stroke=\"black\" d=\"M1088,-425C1088,-425 953,-425 953,-425 947,-425 941,-419 941,-413 941,-413 941,-354 941,-354 941,-348 947,-342 953,-342 953,-342 1088,-342 1088,-342 1094,-342 1100,-348 1100,-354 1100,-354 1100,-413 1100,-413 1100,-419 1094,-425 1088,-425\"/>\n",
       "<text text-anchor=\"start\" x=\"949\" y=\"-409.8\" font-family=\"Helvetica,sans-Serif\" font-size=\"14.00\">color_intensity ≤ 3.435</text>\n",
       "<text text-anchor=\"start\" x=\"983\" y=\"-394.8\" font-family=\"Helvetica,sans-Serif\" font-size=\"14.00\">gini = 0.065</text>\n",
       "<text text-anchor=\"start\" x=\"977\" y=\"-379.8\" font-family=\"Helvetica,sans-Serif\" font-size=\"14.00\">samples = 59</text>\n",
       "<text text-anchor=\"start\" x=\"968\" y=\"-364.8\" font-family=\"Helvetica,sans-Serif\" font-size=\"14.00\">value = [57, 2, 0]</text>\n",
       "<text text-anchor=\"start\" x=\"971\" y=\"-349.8\" font-family=\"Helvetica,sans-Serif\" font-size=\"14.00\">class = class_0</text>\n",
       "</g>\n",
       "<!-- 16&#45;&gt;20 -->\n",
       "<g id=\"edge20\" class=\"edge\">\n",
       "<title>16&#45;&gt;20</title>\n",
       "<path fill=\"none\" stroke=\"black\" d=\"M875.68,-464.8C895.56,-453.78 917.62,-441.55 938.4,-430.03\"/>\n",
       "<polygon fill=\"black\" stroke=\"black\" points=\"940.17,-433.05 947.22,-425.14 936.77,-426.92 940.17,-433.05\"/>\n",
       "</g>\n",
       "<!-- 18 -->\n",
       "<g id=\"node19\" class=\"node\">\n",
       "<title>18</title>\n",
       "<path fill=\"#8139e5\" stroke=\"black\" d=\"M800,-298.5C800,-298.5 709,-298.5 709,-298.5 703,-298.5 697,-292.5 697,-286.5 697,-286.5 697,-242.5 697,-242.5 697,-236.5 703,-230.5 709,-230.5 709,-230.5 800,-230.5 800,-230.5 806,-230.5 812,-236.5 812,-242.5 812,-242.5 812,-286.5 812,-286.5 812,-292.5 806,-298.5 800,-298.5\"/>\n",
       "<text text-anchor=\"start\" x=\"725.5\" y=\"-283.3\" font-family=\"Helvetica,sans-Serif\" font-size=\"14.00\">gini = 0.0</text>\n",
       "<text text-anchor=\"start\" x=\"715\" y=\"-268.3\" font-family=\"Helvetica,sans-Serif\" font-size=\"14.00\">samples = 6</text>\n",
       "<text text-anchor=\"start\" x=\"706\" y=\"-253.3\" font-family=\"Helvetica,sans-Serif\" font-size=\"14.00\">value = [0, 0, 6]</text>\n",
       "<text text-anchor=\"start\" x=\"705\" y=\"-238.3\" font-family=\"Helvetica,sans-Serif\" font-size=\"14.00\">class = class_2</text>\n",
       "</g>\n",
       "<!-- 17&#45;&gt;18 -->\n",
       "<g id=\"edge18\" class=\"edge\">\n",
       "<title>17&#45;&gt;18</title>\n",
       "<path fill=\"none\" stroke=\"black\" d=\"M790.42,-341.91C785.23,-330.87 779.6,-318.9 774.37,-307.77\"/>\n",
       "<polygon fill=\"black\" stroke=\"black\" points=\"777.51,-306.23 770.09,-298.67 771.18,-309.21 777.51,-306.23\"/>\n",
       "</g>\n",
       "<!-- 19 -->\n",
       "<g id=\"node20\" class=\"node\">\n",
       "<title>19</title>\n",
       "<path fill=\"#39e581\" stroke=\"black\" d=\"M933,-298.5C933,-298.5 842,-298.5 842,-298.5 836,-298.5 830,-292.5 830,-286.5 830,-286.5 830,-242.5 830,-242.5 830,-236.5 836,-230.5 842,-230.5 842,-230.5 933,-230.5 933,-230.5 939,-230.5 945,-236.5 945,-242.5 945,-242.5 945,-286.5 945,-286.5 945,-292.5 939,-298.5 933,-298.5\"/>\n",
       "<text text-anchor=\"start\" x=\"858.5\" y=\"-283.3\" font-family=\"Helvetica,sans-Serif\" font-size=\"14.00\">gini = 0.0</text>\n",
       "<text text-anchor=\"start\" x=\"848\" y=\"-268.3\" font-family=\"Helvetica,sans-Serif\" font-size=\"14.00\">samples = 2</text>\n",
       "<text text-anchor=\"start\" x=\"839\" y=\"-253.3\" font-family=\"Helvetica,sans-Serif\" font-size=\"14.00\">value = [0, 2, 0]</text>\n",
       "<text text-anchor=\"start\" x=\"838\" y=\"-238.3\" font-family=\"Helvetica,sans-Serif\" font-size=\"14.00\">class = class_1</text>\n",
       "</g>\n",
       "<!-- 17&#45;&gt;19 -->\n",
       "<g id=\"edge19\" class=\"edge\">\n",
       "<title>17&#45;&gt;19</title>\n",
       "<path fill=\"none\" stroke=\"black\" d=\"M836.56,-341.91C844.07,-330.65 852.22,-318.42 859.76,-307.11\"/>\n",
       "<polygon fill=\"black\" stroke=\"black\" points=\"862.75,-308.93 865.39,-298.67 856.93,-305.05 862.75,-308.93\"/>\n",
       "</g>\n",
       "<!-- 21 -->\n",
       "<g id=\"node22\" class=\"node\">\n",
       "<title>21</title>\n",
       "<path fill=\"#39e581\" stroke=\"black\" d=\"M1066,-298.5C1066,-298.5 975,-298.5 975,-298.5 969,-298.5 963,-292.5 963,-286.5 963,-286.5 963,-242.5 963,-242.5 963,-236.5 969,-230.5 975,-230.5 975,-230.5 1066,-230.5 1066,-230.5 1072,-230.5 1078,-236.5 1078,-242.5 1078,-242.5 1078,-286.5 1078,-286.5 1078,-292.5 1072,-298.5 1066,-298.5\"/>\n",
       "<text text-anchor=\"start\" x=\"991.5\" y=\"-283.3\" font-family=\"Helvetica,sans-Serif\" font-size=\"14.00\">gini = 0.0</text>\n",
       "<text text-anchor=\"start\" x=\"981\" y=\"-268.3\" font-family=\"Helvetica,sans-Serif\" font-size=\"14.00\">samples = 2</text>\n",
       "<text text-anchor=\"start\" x=\"972\" y=\"-253.3\" font-family=\"Helvetica,sans-Serif\" font-size=\"14.00\">value = [0, 2, 0]</text>\n",
       "<text text-anchor=\"start\" x=\"971\" y=\"-238.3\" font-family=\"Helvetica,sans-Serif\" font-size=\"14.00\">class = class_1</text>\n",
       "</g>\n",
       "<!-- 20&#45;&gt;21 -->\n",
       "<g id=\"edge21\" class=\"edge\">\n",
       "<title>20&#45;&gt;21</title>\n",
       "<path fill=\"none\" stroke=\"black\" d=\"M1020.5,-341.91C1020.5,-331.2 1020.5,-319.62 1020.5,-308.78\"/>\n",
       "<polygon fill=\"black\" stroke=\"black\" points=\"1024,-308.67 1020.5,-298.67 1017,-308.67 1024,-308.67\"/>\n",
       "</g>\n",
       "<!-- 22 -->\n",
       "<g id=\"node23\" class=\"node\">\n",
       "<title>22</title>\n",
       "<path fill=\"#e58139\" stroke=\"black\" d=\"M1205,-298.5C1205,-298.5 1108,-298.5 1108,-298.5 1102,-298.5 1096,-292.5 1096,-286.5 1096,-286.5 1096,-242.5 1096,-242.5 1096,-236.5 1102,-230.5 1108,-230.5 1108,-230.5 1205,-230.5 1205,-230.5 1211,-230.5 1217,-236.5 1217,-242.5 1217,-242.5 1217,-286.5 1217,-286.5 1217,-292.5 1211,-298.5 1205,-298.5\"/>\n",
       "<text text-anchor=\"start\" x=\"1127.5\" y=\"-283.3\" font-family=\"Helvetica,sans-Serif\" font-size=\"14.00\">gini = 0.0</text>\n",
       "<text text-anchor=\"start\" x=\"1113\" y=\"-268.3\" font-family=\"Helvetica,sans-Serif\" font-size=\"14.00\">samples = 57</text>\n",
       "<text text-anchor=\"start\" x=\"1104\" y=\"-253.3\" font-family=\"Helvetica,sans-Serif\" font-size=\"14.00\">value = [57, 0, 0]</text>\n",
       "<text text-anchor=\"start\" x=\"1107\" y=\"-238.3\" font-family=\"Helvetica,sans-Serif\" font-size=\"14.00\">class = class_0</text>\n",
       "</g>\n",
       "<!-- 20&#45;&gt;22 -->\n",
       "<g id=\"edge22\" class=\"edge\">\n",
       "<title>20&#45;&gt;22</title>\n",
       "<path fill=\"none\" stroke=\"black\" d=\"M1067.68,-341.91C1081.41,-330.1 1096.39,-317.22 1110.06,-305.45\"/>\n",
       "<polygon fill=\"black\" stroke=\"black\" points=\"1112.65,-307.84 1117.95,-298.67 1108.08,-302.54 1112.65,-307.84\"/>\n",
       "</g>\n",
       "</g>\n",
       "</svg>\n"
      ],
      "text/plain": [
       "<graphviz.sources.Source at 0x211cd21b880>"
      ]
     },
     "execution_count": 11,
     "metadata": {},
     "output_type": "execute_result"
    }
   ],
   "source": [
    "import graphviz\n",
    "import pydotplus\n",
    "from sklearn.tree import export_graphviz\n",
    "\n",
    "#image_path='C:/Users/lynst/Documents/GitHub/machine-learning-projects/machine-learning/wine_tree.dot'\n",
    "\n",
    "dot_data = tree.export_graphviz(dtc, \n",
    "                        out_file=None,\n",
    "                        feature_names=wine.feature_names,\n",
    "                        class_names=wine.target_names,\n",
    "                        rounded=True,\n",
    "                        special_characters=True,\n",
    "                        filled=True\n",
    "                       )\n",
    "\n",
    "graph = pydotplus.graph_from_dot_data(dot_data)\n",
    "graph.write_png('original_tree.png')\n",
    "graph.set_size('\"2,2!\"')\n",
    "graph.write_png('resized_tree.png')\n",
    "\n",
    "\n",
    "graph = graphviz.Source(dot_data)\n",
    "graph"
   ]
  },
  {
   "cell_type": "markdown",
   "metadata": {},
   "source": [
    "Converting the dot file to a png file requires a stand-alone installation of graphviz, or a pip installation."
   ]
  },
  {
   "cell_type": "code",
   "execution_count": 12,
   "metadata": {},
   "outputs": [],
   "source": [
    "!dot -Tpng wine_tree.dot -o wine_tree.png"
   ]
  },
  {
   "cell_type": "markdown",
   "metadata": {},
   "source": [
    "Next in order to try and predict unseen target data based on the labels already used, I can categorize ranked estimates for the quality of wine using a four stage model. Splitting the data first into training and test sets, fitting the DecisionTreeClassifier to the training set and using it to predict the test set to make estimates.\n",
    "\n",
    "It's worth noting that once the predictions are made they will need to be validated using some measure of accuracy. This is determined by the Gini Impurity attribute and the degree to which all the training instances at a node belong to a particular class. A Gini value of 0.0 is completely pure meaning all the instances belong to one class only."
   ]
  },
  {
   "cell_type": "code",
   "execution_count": 13,
   "metadata": {},
   "outputs": [
    {
     "data": {
      "text/plain": [
       "array([0, 2, 0, 0, 1, 0, 0, 2, 1, 1, 2, 2, 0, 0, 2, 1, 0, 0, 2, 0, 0, 0,\n",
       "       0, 1, 1, 1, 0, 1, 1, 2, 0, 0, 1, 0, 0, 0, 2, 1, 1, 2, 1, 0, 1, 1,\n",
       "       1])"
      ]
     },
     "execution_count": 13,
     "metadata": {},
     "output_type": "execute_result"
    }
   ],
   "source": [
    "# Splitting the data into train and test sets\n",
    "X_train, X_test, y_train, y_test = train_test_split(df[wine.feature_names], df['quality'], random_state=0, test_size=0.25)\n",
    "\n",
    "# Initiate a 4 step modeling pattern\n",
    "# Step 1: import the model to use\n",
    "from sklearn.tree import DecisionTreeClassifier\n",
    "\n",
    "# Step 2: Make an instance of the Model and set criterion parameter to gini\n",
    "dtc = DecisionTreeClassifier(criterion='gini', max_depth = 2, random_state = 0)\n",
    "\n",
    "# Step 3: Train the model on the data\n",
    "dtc.fit(X_train, y_train)\n",
    "\n",
    "# Step 4: Predict labels of unseen (test) data\n",
    "dtc.predict(X_test)"
   ]
  },
  {
   "cell_type": "markdown",
   "metadata": {},
   "source": [
    "The total number of entries in the 'wine' dataset:"
   ]
  },
  {
   "cell_type": "code",
   "execution_count": 14,
   "metadata": {},
   "outputs": [
    {
     "data": {
      "text/plain": [
       "alcohol                         178\n",
       "malic_acid                      178\n",
       "ash                             178\n",
       "alcalinity_of_ash               178\n",
       "magnesium                       178\n",
       "total_phenols                   178\n",
       "flavanoids                      178\n",
       "nonflavanoid_phenols            178\n",
       "proanthocyanins                 178\n",
       "color_intensity                 178\n",
       "hue                             178\n",
       "od280/od315_of_diluted_wines    178\n",
       "proline                         178\n",
       "quality                         178\n",
       "dtype: int64"
      ]
     },
     "execution_count": 14,
     "metadata": {},
     "output_type": "execute_result"
    }
   ],
   "source": [
    "df.count()"
   ]
  },
  {
   "cell_type": "markdown",
   "metadata": {},
   "source": [
    "So I have 178 entries in total and 14 columns, including thirteen features and one target column. The training set is represented by 75% of the total values."
   ]
  },
  {
   "cell_type": "code",
   "execution_count": 15,
   "metadata": {},
   "outputs": [
    {
     "name": "stdout",
     "output_type": "stream",
     "text": [
      "(133, 13)\n",
      "(133,)\n"
     ]
    }
   ],
   "source": [
    "print(X_train.shape)\n",
    "print(y_train.shape)"
   ]
  },
  {
   "cell_type": "markdown",
   "metadata": {},
   "source": [
    "And the size of the test set is 25% of the values."
   ]
  },
  {
   "cell_type": "code",
   "execution_count": 16,
   "metadata": {},
   "outputs": [
    {
     "name": "stdout",
     "output_type": "stream",
     "text": [
      "(45, 13)\n",
      "(45,)\n"
     ]
    }
   ],
   "source": [
    "print(X_test.shape)\n",
    "print(y_test.shape)"
   ]
  },
  {
   "cell_type": "markdown",
   "metadata": {},
   "source": [
    "The action of using the predict function provides 45 estimates (25%) for the test set values based on the training data (75%). Let's see if there's any improvement if I were to change the train-test-split test size to 0.2, or 20%."
   ]
  },
  {
   "cell_type": "code",
   "execution_count": 17,
   "metadata": {},
   "outputs": [
    {
     "data": {
      "text/plain": [
       "array([0, 2, 0, 0, 1, 0, 0, 2, 1, 1, 2, 2, 0, 0, 2, 1, 0, 0, 2, 0, 0, 0,\n",
       "       0, 1, 1, 1, 0, 1, 2, 2, 0, 0, 1, 0, 0, 0])"
      ]
     },
     "execution_count": 17,
     "metadata": {},
     "output_type": "execute_result"
    }
   ],
   "source": [
    "X_train, X_test, y_train, y_test = train_test_split(df[wine.feature_names], df['quality'], random_state=0, test_size=0.2)\n",
    "dtc = DecisionTreeClassifier(criterion='gini', max_depth=2, random_state=0)\n",
    "dtc.fit(X_train, y_train)\n",
    "predictions = dtc.predict(X_test)\n",
    "predictions"
   ]
  },
  {
   "cell_type": "markdown",
   "metadata": {},
   "source": [
    "# Score\n",
    "The score used is from the metrics library and is specifically for multi-class classification measuring the success rate for subset accuracy. Essentially the accuracy score measures the number of times the y predictions are correct given the actual y target values, for example using a 1-d array to list the values in 'y_pred' and 'y_true', then applying the accuracy score as below.\n",
    "Assume there are only 4 values, the code would look a little like this:"
   ]
  },
  {
   "cell_type": "code",
   "execution_count": 18,
   "metadata": {},
   "outputs": [
    {
     "name": "stdout",
     "output_type": "stream",
     "text": [
      "54     0\n",
      "151    2\n",
      "63     1\n",
      "55     0\n",
      "123    1\n",
      "121    1\n",
      "7      0\n",
      "160    2\n",
      "106    1\n",
      "90     1\n",
      "141    2\n",
      "146    2\n",
      "5      0\n",
      "98     1\n",
      "168    2\n",
      "80     1\n",
      "33     0\n",
      "18     0\n",
      "61     1\n",
      "51     0\n",
      "66     1\n",
      "37     0\n",
      "4      0\n",
      "104    1\n",
      "60     1\n",
      "111    1\n",
      "126    1\n",
      "86     1\n",
      "112    1\n",
      "164    2\n",
      "26     0\n",
      "56     0\n",
      "129    1\n",
      "45     0\n",
      "8      0\n",
      "44     0\n",
      "Name: quality, dtype: int32\n"
     ]
    }
   ],
   "source": [
    "print(y_test)"
   ]
  },
  {
   "cell_type": "code",
   "execution_count": 19,
   "metadata": {},
   "outputs": [],
   "source": [
    "# y_test can be re-named to represent the actual y_true values:\n",
    "y_true = y_test\n",
    "\n",
    "y_true = [0,2,1,0,1,1,0,2,1,1,2,2,0,1,2,1,0,0,1,0,1,0,0,1,1,1,1,1,1,2,0,0,1,0,0,0]\n",
    "y_pred = [0,2,0,0,1,0,0,2,1,1,2,2,0,0,2,1,0,0,2,0,0,0,0,1,1,1,0,1,2,2,0,0,1,0,0,0]"
   ]
  },
  {
   "cell_type": "markdown",
   "metadata": {},
   "source": [
    "One way to calculate the total number of accurately predicted observations"
   ]
  },
  {
   "cell_type": "code",
   "execution_count": 20,
   "metadata": {},
   "outputs": [
    {
     "name": "stdout",
     "output_type": "stream",
     "text": [
      "83.33333333333334\n"
     ]
    }
   ],
   "source": [
    "y_total = 36\n",
    "y_pred_correct = 30\n",
    "\n",
    "accuracy = (y_pred_correct / y_total) * 100\n",
    "print(accuracy)"
   ]
  },
  {
   "cell_type": "markdown",
   "metadata": {},
   "source": [
    "The same measurement can be achieved by applying the 'accuracy_score' function after training the decision tree model and fitting the data."
   ]
  },
  {
   "cell_type": "code",
   "execution_count": 21,
   "metadata": {},
   "outputs": [
    {
     "name": "stdout",
     "output_type": "stream",
     "text": [
      "83.33333\n"
     ]
    }
   ],
   "source": [
    "from sklearn.metrics import accuracy_score\n",
    "\n",
    "dtc = DecisionTreeClassifier()\n",
    "dtc = dtc.fit(X_train, y_train)\n",
    "y_test = dtc.predict(X_test)\n",
    "# rounding to 5 decimal places\n",
    "acc_dtc = round(accuracy_score(predictions, y_test) * 100, 5)\n",
    "print(acc_dtc)"
   ]
  },
  {
   "cell_type": "markdown",
   "metadata": {},
   "source": [
    "So, in terms of evaluation, this model does not inspire a terrific amount of confidence in predicting unseen data correctly which is where parameter tuning will be required to improve upon this score.\n",
    "\n",
    "## Feature Engineering\n",
    "Taking a look at the correlation between various features may help to establish some ideas for engineering better optimization solutions. Then I can try fine-tuning the chosen model afterwards."
   ]
  },
  {
   "cell_type": "code",
   "execution_count": null,
   "metadata": {},
   "outputs": [],
   "source": [
    "correlation = df.corr()\n",
    "print(correlation)"
   ]
  },
  {
   "cell_type": "markdown",
   "metadata": {},
   "source": [
    "Looking at the target column entitled 'quality' the highest positive correlation is with 'alcalinity_of_ash' at 0.517859. The highest negative correlated feature is 'flavanoids' at -0.847498."
   ]
  },
  {
   "cell_type": "code",
   "execution_count": null,
   "metadata": {},
   "outputs": [],
   "source": [
    "# Plot the width and height of the figure\n",
    "plt.figure(figsize=(10, 8))\n",
    "# Plot the chosen variables, labels and color\n",
    "plt.scatter(df['quality'], df['alcalinity_of_ash'], marker='o', color='purple')\n",
    "plt.xlabel('Quality')\n",
    "plt.ylabel('Alcalinity of Ash')\n",
    "plt.show()"
   ]
  },
  {
   "cell_type": "markdown",
   "metadata": {},
   "source": [
    "So the concentration of values centres around the three classes, or categories of quality which are 0, 1 and 2 with successively higher alcalinity of ash from 0 through 2. It's important to note that the range of values generally start at slightly higher minimums for each quality type.\n",
    "\n",
    "I think this data would be more beneficial if I could tell the average 'Alcalinity of Ash' for each grade or 'Quality' of wine, so the average for 0, 1 and 2. Delving into this relationship a bit closer involves looking at the mean values for each distribution, which can be achieved by placing the different qualities in separate buckets and finding their average."
   ]
  },
  {
   "cell_type": "code",
   "execution_count": null,
   "metadata": {},
   "outputs": [],
   "source": [
    "mean_alcalinity = df['quality'].groupby(df['alcalinity_of_ash']).mean()\n",
    "mean_alcalinity"
   ]
  },
  {
   "cell_type": "code",
   "execution_count": null,
   "metadata": {},
   "outputs": [],
   "source": [
    "mean_q0 = (df['quality']==0).groupby(df['alcalinity_of_ash']).mean()\n",
    "print(mean_q0)"
   ]
  },
  {
   "cell_type": "code",
   "execution_count": null,
   "metadata": {},
   "outputs": [],
   "source": [
    "mean_q1 = (df['quality']==1).groupby(df['alcalinity_of_ash']).mean()\n",
    "print(mean_q1)"
   ]
  },
  {
   "cell_type": "code",
   "execution_count": null,
   "metadata": {},
   "outputs": [],
   "source": [
    "mean_q2 = (df['quality']==2).groupby(df['alcalinity_of_ash']).mean()\n",
    "print(mean_q2)"
   ]
  },
  {
   "cell_type": "code",
   "execution_count": null,
   "metadata": {},
   "outputs": [],
   "source": [
    "# wine quality counts for each value of 'alcalinity_of_ash'\n",
    "m_a = df.groupby(df['quality'])['alcalinity_of_ash'].value_counts().unstack(fill_value=0)\n",
    "df_counts = pd.DataFrame(m_a)\n",
    "\n",
    "# print count frequency for alcalinity of ash values v quality\n",
    "print(df_counts)"
   ]
  },
  {
   "cell_type": "code",
   "execution_count": null,
   "metadata": {},
   "outputs": [],
   "source": [
    "df_counts.info()"
   ]
  },
  {
   "cell_type": "markdown",
   "metadata": {},
   "source": [
    "This provides a total of only 63 different values, or variations in 'Alcalinity of Ash'. 10 values fell under quality=0, 13 values fell under quality=1 and a further 10 values under quality=3."
   ]
  },
  {
   "cell_type": "code",
   "execution_count": null,
   "metadata": {},
   "outputs": [],
   "source": [
    "df['quality'].describe()"
   ]
  },
  {
   "cell_type": "code",
   "execution_count": null,
   "metadata": {},
   "outputs": [],
   "source": [
    "df['alcalinity_of_ash'].describe()"
   ]
  },
  {
   "cell_type": "code",
   "execution_count": null,
   "metadata": {},
   "outputs": [],
   "source": [
    "# calculating the mean values for each grade or quality gives:\n",
    "mean_quality = df.groupby(['quality'])['alcalinity_of_ash'].mean()\n",
    "print(mean_quality)"
   ]
  },
  {
   "cell_type": "markdown",
   "metadata": {},
   "source": [
    "Therefore, now I have the 3 mean values for quality 0, 1 and 2 I will check to see if the average of all 3 corresponds to the mean value for alcalinity of ash above in the describe( ) method for the dataframe."
   ]
  },
  {
   "cell_type": "code",
   "execution_count": null,
   "metadata": {},
   "outputs": [],
   "source": [
    "mean = (17.037288 + 20.238028 + 21.416667) / 3\n",
    "print(mean)"
   ]
  },
  {
   "cell_type": "markdown",
   "metadata": {},
   "source": [
    "19.494944 is the original mean value so there is a slight discrepancy but reason I calculated the mean values for 'alacalinity of ash' for each grade or 'quality' of wine was to show how it increases slightly and the plot above displays this trend. "
   ]
  },
  {
   "cell_type": "code",
   "execution_count": null,
   "metadata": {},
   "outputs": [],
   "source": [
    "# Plot the width and height of the figure\n",
    "plt.figure(figsize=(8, 8))\n",
    "# Select the corr() function on the dataframe and assign it to a 'correlation' variable\n",
    "correlation = df.corr()\n",
    "plt.imshow(correlation, cmap = 'summer', interpolation='nearest')\n",
    "plt.show()"
   ]
  },
  {
   "cell_type": "markdown",
   "metadata": {},
   "source": [
    "The total number of columns or features is 14 (0 through 13). The lighter green color represents a stronger positive correlation; the darker green colors are strongly negatively correlated.\n",
    "\n",
    "A better way to show the correlation matrix is below:"
   ]
  },
  {
   "cell_type": "code",
   "execution_count": null,
   "metadata": {
    "scrolled": true
   },
   "outputs": [],
   "source": [
    "%matplotlib inline\n",
    "import matplotlib.pyplot as plt\n",
    "\n",
    "fig, ax = plt.subplots(figsize=(10, 10))\n",
    "cax = ax.matshow(correlation, cmap='coolwarm', vmin=-1, vmax=1)\n",
    "\n",
    "fig.colorbar(cax)\n",
    "ticks = np.arange(0,len(df.columns),1)\n",
    "ax.set_xticks(ticks)\n",
    "\n",
    "ax.set_xticklabels(df.columns)\n",
    "plt.xticks(rotation = 90)\n",
    "\n",
    "ax.set_yticklabels(df.columns)\n",
    "ax.set_yticks(ticks)\n",
    "\n",
    "# print the correlation factor\n",
    "for i in range(df.shape[1]):\n",
    "    for j in range(14):\n",
    "        text = ax.text(j, i, round(correlation.iloc[i][j],2), ha=\"center\", va=\"center\", color=\"w\")\n",
    "plt.show()      "
   ]
  },
  {
   "cell_type": "markdown",
   "metadata": {},
   "source": [
    "In this example the darker red color represents a higher, positive correlation. The cooler blue color represents a higher, negative correlation. The lighter shades of red and blue are less correlated features, so overall I can determine the best relationships among the different features and utilize them for a better machine learning model.\n",
    "\n",
    "Key associations occur between 'flavanoids' and 'total_phenols' (0.86) indicating a fairly high, positive, correlation between these two variables. This may contribute to a better grade or quality of wine."
   ]
  },
  {
   "cell_type": "code",
   "execution_count": null,
   "metadata": {},
   "outputs": [],
   "source": []
  },
  {
   "cell_type": "code",
   "execution_count": null,
   "metadata": {},
   "outputs": [],
   "source": []
  },
  {
   "cell_type": "markdown",
   "metadata": {},
   "source": [
    "Next, trying to estimate the probability of each class occurring based on chosen decision boundaries, I already know the first major decision boundary is that 'proline' is less than or equal to 755.0. This is the first major decision boundary which splits the data samples into 111 entries which are less than or equal to 755.0 and 67 which are not.\n",
    "\n",
    "Calculating the probabilities of each class occurring is as follows (given a max_depth of 2 layers):"
   ]
  },
  {
   "cell_type": "code",
   "execution_count": null,
   "metadata": {},
   "outputs": [],
   "source": []
  },
  {
   "cell_type": "code",
   "execution_count": null,
   "metadata": {},
   "outputs": [],
   "source": [
    "dtc.predict_proba([[2.115]])"
   ]
  },
  {
   "cell_type": "code",
   "execution_count": null,
   "metadata": {},
   "outputs": [],
   "source": []
  },
  {
   "cell_type": "markdown",
   "metadata": {},
   "source": [
    "## Decision Tree Model Selection\n",
    "The following example will continue with the price prediction theme for Bitcoin crypto-currency with relatively fewer features than the classification example. Next, it's time to apply a Decision Tree Regression model to the entire dataset before seeking further improvement in prediction accuracy and lowering variance."
   ]
  },
  {
   "cell_type": "code",
   "execution_count": null,
   "metadata": {},
   "outputs": [],
   "source": [
    "from sklearn.linear_model import LinearRegression\n",
    "from sklearn.tree import DecisionTreeRegressor\n",
    "from sklearn.metrics import mean_squared_error\n",
    "from sklearn.metrics import r2_score\n",
    "import numpy as np\n",
    "import pandas as pd\n",
    "\n",
    "# select data for modeling\n",
    "bitcoin = pd.read_csv(\"C:/Users/lynst/Documents/GitHub/machine-learning-projects/machine-learning/BTC_CAD.csv\")\n",
    "\n",
    "#load data into dataframe\n",
    "df = pd.DataFrame(bitcoin).dropna(axis=0)\n",
    "# select features and target data\n",
    "X = df[[\"Open\", \"High\", \"Low\", \"Volume\"]]\n",
    "y = df[\"Close\"]"
   ]
  },
  {
   "cell_type": "markdown",
   "metadata": {},
   "source": [
    "## Split the Dataset into Train and Test Subsets"
   ]
  },
  {
   "cell_type": "code",
   "execution_count": null,
   "metadata": {},
   "outputs": [],
   "source": [
    "# split data into train and test\n",
    "from sklearn.model_selection import train_test_split\n",
    "\n",
    "X_train, X_test, y_train, y_test = train_test_split(X, y, test_size = 0.3, random_state = 0)\n",
    "print(X_train.shape)\n",
    "print(y_train.shape)\n",
    "print(X_test.shape)\n",
    "print(y_test.shape)"
   ]
  },
  {
   "cell_type": "code",
   "execution_count": null,
   "metadata": {},
   "outputs": [],
   "source": [
    "# train and fit the decision tree model\n",
    "tree_reg = DecisionTreeRegressor()\n",
    "tree_reg.fit(X_train, y_train)"
   ]
  },
  {
   "cell_type": "code",
   "execution_count": null,
   "metadata": {},
   "outputs": [],
   "source": [
    "# predict\n",
    "y_pred = tree_reg.predict(X_train)"
   ]
  },
  {
   "cell_type": "markdown",
   "metadata": {},
   "source": [
    "Now trying a prediction on the working linear model (first 5 values):"
   ]
  },
  {
   "cell_type": "code",
   "execution_count": null,
   "metadata": {},
   "outputs": [],
   "source": [
    "print(y_pred[:5])"
   ]
  },
  {
   "cell_type": "markdown",
   "metadata": {},
   "source": [
    "Measuring the RMSE and r-squared score for the linear model (based on training set):"
   ]
  },
  {
   "cell_type": "code",
   "execution_count": null,
   "metadata": {},
   "outputs": [],
   "source": [
    "y_pred = tree_reg.predict(X_train)\n",
    "lin_mse = mean_squared_error(y_train, y_pred)\n",
    "lin_rmse = np.sqrt(lin_mse)\n",
    "print(lin_rmse)\n",
    "    \n",
    "r2_train = r2_score(y_train, y_pred)\n",
    "print(r2_train)"
   ]
  },
  {
   "cell_type": "markdown",
   "metadata": {},
   "source": [
    "This definitely appears to be overfitting with perfect scores for both RMSE and r-squared. Let's see if there is a different outcome for the test data."
   ]
  },
  {
   "cell_type": "code",
   "execution_count": null,
   "metadata": {},
   "outputs": [],
   "source": [
    "y_pred = tree_reg.predict(X_test)\n",
    "lin_mse = mean_squared_error(y_test, y_pred)\n",
    "lin_rmse = np.sqrt(lin_mse)\n",
    "print(lin_rmse)\n",
    "    \n",
    "r2_test = r2_score(y_test, y_pred)\n",
    "print(r2_test)"
   ]
  },
  {
   "cell_type": "markdown",
   "metadata": {},
   "source": [
    "This appears unlikely also. In order to establish a more likely outcome I will try dividing the dataframe into several smaller training and validation sets and perform the decision tree analysis on each. This is done using K-Fold Cross Validation.\n",
    "\n",
    "## Cross Validation\n",
    "This method will evaluate the Decsion Tree model by splitting the training set into several smaller training and validation sets for training and evaluation separately. This is achieved by using the K-fold cross validation technique and I have split the data into 10 separate folds, cv=10 (which can be changed)."
   ]
  },
  {
   "cell_type": "code",
   "execution_count": null,
   "metadata": {},
   "outputs": [],
   "source": [
    "from sklearn.model_selection import cross_val_score\n",
    "\n",
    "scores = cross_val_score(tree_reg, X_train, y_train, scoring=\"neg_mean_squared_error\", cv=10)\n",
    "tree_rmse_scores = np.sqrt(-scores)\n",
    "r2_test = r2_score(y_test, y_pred)\n",
    "                         \n",
    "def display_scores(scores):\n",
    "    print(\"Scores:\", scores)\n",
    "    print(\"Mean\", scores.mean())\n",
    "    print(\"Standard Deviation\", scores.std())\n",
    "    print(\"R-Squared:\", r2_test)\n",
    "          \n",
    "display_scores(tree_rmse_scores)"
   ]
  },
  {
   "cell_type": "markdown",
   "metadata": {},
   "source": [
    "Comparing the scores from cross validation to those from the linear regression model:"
   ]
  },
  {
   "cell_type": "code",
   "execution_count": null,
   "metadata": {},
   "outputs": [],
   "source": [
    "# instantiate model\n",
    "lin_reg = LinearRegression()\n",
    "\n",
    "# fit model\n",
    "lin_reg.fit(X_train, y_train)\n",
    "\n",
    "lin_scores = cross_val_score(lin_reg, X_train, y_train, scoring=\"neg_mean_squared_error\", cv=10)\n",
    "lin_rmse_scores = np.sqrt(-lin_scores)\n",
    "display_scores(lin_rmse_scores)"
   ]
  },
  {
   "cell_type": "markdown",
   "metadata": {},
   "source": [
    "# Evaluation\n",
    "The linear regression model appears to reduce the Standard Error but the accuracy for the estimates is the same."
   ]
  },
  {
   "cell_type": "code",
   "execution_count": null,
   "metadata": {},
   "outputs": [],
   "source": [
    "# pickle file to go here"
   ]
  },
  {
   "cell_type": "markdown",
   "metadata": {},
   "source": [
    "# Print Dependencies\n",
    "Dependences are fundamental to record the **computational environment**.   \n",
    "\n",
    "- Use [watermark](https://github.com/rasbt/watermark) to print version of python, ipython, and packages, and characteristics of the computer"
   ]
  },
  {
   "cell_type": "code",
   "execution_count": null,
   "metadata": {},
   "outputs": [],
   "source": [
    "%load_ext watermark\n",
    "\n",
    "# python, ipython, packages, and machine characteristics\n",
    "%watermark -v -m -p wget,pandas,numpy,watermark,tarfile,urllib3,matplotlib,seaborn,sklearn \n",
    "\n",
    "# date\n",
    "print (\" \")\n",
    "%watermark -u -n -t -z "
   ]
  },
  {
   "cell_type": "code",
   "execution_count": null,
   "metadata": {},
   "outputs": [],
   "source": []
  }
 ],
 "metadata": {
  "kernelspec": {
   "display_name": "Python [conda env:Anaconda3]",
   "language": "python",
   "name": "conda-env-Anaconda3-py"
  },
  "language_info": {
   "codemirror_mode": {
    "name": "ipython",
    "version": 3
   },
   "file_extension": ".py",
   "mimetype": "text/x-python",
   "name": "python",
   "nbconvert_exporter": "python",
   "pygments_lexer": "ipython3",
   "version": "3.9.12"
  }
 },
 "nbformat": 4,
 "nbformat_minor": 4
}
