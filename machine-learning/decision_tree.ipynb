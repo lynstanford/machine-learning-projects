{
 "cells": [
  {
   "cell_type": "markdown",
   "metadata": {},
   "source": [
    "# Decision Tree Models\n",
    "The Decision Tree model can be used to discover complex linear relationships between variables for either prediction, binary classification or multi-output classification. In the first example of a decision tree algorithm I have opted to examine a commonly used dataset which is freely available in Sci-kit Learn called the 'wine' dataset.\n",
    "\n",
    "## Classification\n",
    "The first step involves importing the relevant packages from the Python and SciKit-Learn libraries as well as the Wine dataset."
   ]
  },
  {
   "cell_type": "code",
   "execution_count": 1,
   "metadata": {},
   "outputs": [],
   "source": [
    "%matplotlib inline"
   ]
  },
  {
   "cell_type": "code",
   "execution_count": 2,
   "metadata": {},
   "outputs": [
    {
     "data": {
      "text/html": [
       "<div>\n",
       "<style scoped>\n",
       "    .dataframe tbody tr th:only-of-type {\n",
       "        vertical-align: middle;\n",
       "    }\n",
       "\n",
       "    .dataframe tbody tr th {\n",
       "        vertical-align: top;\n",
       "    }\n",
       "\n",
       "    .dataframe thead th {\n",
       "        text-align: right;\n",
       "    }\n",
       "</style>\n",
       "<table border=\"1\" class=\"dataframe\">\n",
       "  <thead>\n",
       "    <tr style=\"text-align: right;\">\n",
       "      <th></th>\n",
       "      <th>alcohol</th>\n",
       "      <th>malic_acid</th>\n",
       "      <th>ash</th>\n",
       "      <th>alcalinity_of_ash</th>\n",
       "      <th>magnesium</th>\n",
       "      <th>total_phenols</th>\n",
       "      <th>flavanoids</th>\n",
       "      <th>nonflavanoid_phenols</th>\n",
       "      <th>proanthocyanins</th>\n",
       "      <th>color_intensity</th>\n",
       "      <th>hue</th>\n",
       "      <th>od280/od315_of_diluted_wines</th>\n",
       "      <th>proline</th>\n",
       "      <th>quality</th>\n",
       "    </tr>\n",
       "  </thead>\n",
       "  <tbody>\n",
       "    <tr>\n",
       "      <th>0</th>\n",
       "      <td>14.23</td>\n",
       "      <td>1.71</td>\n",
       "      <td>2.43</td>\n",
       "      <td>15.6</td>\n",
       "      <td>127.0</td>\n",
       "      <td>2.80</td>\n",
       "      <td>3.06</td>\n",
       "      <td>0.28</td>\n",
       "      <td>2.29</td>\n",
       "      <td>5.64</td>\n",
       "      <td>1.04</td>\n",
       "      <td>3.92</td>\n",
       "      <td>1065.0</td>\n",
       "      <td>0</td>\n",
       "    </tr>\n",
       "    <tr>\n",
       "      <th>1</th>\n",
       "      <td>13.20</td>\n",
       "      <td>1.78</td>\n",
       "      <td>2.14</td>\n",
       "      <td>11.2</td>\n",
       "      <td>100.0</td>\n",
       "      <td>2.65</td>\n",
       "      <td>2.76</td>\n",
       "      <td>0.26</td>\n",
       "      <td>1.28</td>\n",
       "      <td>4.38</td>\n",
       "      <td>1.05</td>\n",
       "      <td>3.40</td>\n",
       "      <td>1050.0</td>\n",
       "      <td>0</td>\n",
       "    </tr>\n",
       "    <tr>\n",
       "      <th>2</th>\n",
       "      <td>13.16</td>\n",
       "      <td>2.36</td>\n",
       "      <td>2.67</td>\n",
       "      <td>18.6</td>\n",
       "      <td>101.0</td>\n",
       "      <td>2.80</td>\n",
       "      <td>3.24</td>\n",
       "      <td>0.30</td>\n",
       "      <td>2.81</td>\n",
       "      <td>5.68</td>\n",
       "      <td>1.03</td>\n",
       "      <td>3.17</td>\n",
       "      <td>1185.0</td>\n",
       "      <td>0</td>\n",
       "    </tr>\n",
       "    <tr>\n",
       "      <th>3</th>\n",
       "      <td>14.37</td>\n",
       "      <td>1.95</td>\n",
       "      <td>2.50</td>\n",
       "      <td>16.8</td>\n",
       "      <td>113.0</td>\n",
       "      <td>3.85</td>\n",
       "      <td>3.49</td>\n",
       "      <td>0.24</td>\n",
       "      <td>2.18</td>\n",
       "      <td>7.80</td>\n",
       "      <td>0.86</td>\n",
       "      <td>3.45</td>\n",
       "      <td>1480.0</td>\n",
       "      <td>0</td>\n",
       "    </tr>\n",
       "    <tr>\n",
       "      <th>4</th>\n",
       "      <td>13.24</td>\n",
       "      <td>2.59</td>\n",
       "      <td>2.87</td>\n",
       "      <td>21.0</td>\n",
       "      <td>118.0</td>\n",
       "      <td>2.80</td>\n",
       "      <td>2.69</td>\n",
       "      <td>0.39</td>\n",
       "      <td>1.82</td>\n",
       "      <td>4.32</td>\n",
       "      <td>1.04</td>\n",
       "      <td>2.93</td>\n",
       "      <td>735.0</td>\n",
       "      <td>0</td>\n",
       "    </tr>\n",
       "  </tbody>\n",
       "</table>\n",
       "</div>"
      ],
      "text/plain": [
       "   alcohol  malic_acid   ash  alcalinity_of_ash  magnesium  total_phenols  \\\n",
       "0    14.23        1.71  2.43               15.6      127.0           2.80   \n",
       "1    13.20        1.78  2.14               11.2      100.0           2.65   \n",
       "2    13.16        2.36  2.67               18.6      101.0           2.80   \n",
       "3    14.37        1.95  2.50               16.8      113.0           3.85   \n",
       "4    13.24        2.59  2.87               21.0      118.0           2.80   \n",
       "\n",
       "   flavanoids  nonflavanoid_phenols  proanthocyanins  color_intensity   hue  \\\n",
       "0        3.06                  0.28             2.29             5.64  1.04   \n",
       "1        2.76                  0.26             1.28             4.38  1.05   \n",
       "2        3.24                  0.30             2.81             5.68  1.03   \n",
       "3        3.49                  0.24             2.18             7.80  0.86   \n",
       "4        2.69                  0.39             1.82             4.32  1.04   \n",
       "\n",
       "   od280/od315_of_diluted_wines  proline  quality  \n",
       "0                          3.92   1065.0        0  \n",
       "1                          3.40   1050.0        0  \n",
       "2                          3.17   1185.0        0  \n",
       "3                          3.45   1480.0        0  \n",
       "4                          2.93    735.0        0  "
      ]
     },
     "execution_count": 2,
     "metadata": {},
     "output_type": "execute_result"
    }
   ],
   "source": [
    "import matplotlib.pyplot as plt\n",
    "import pandas as pd\n",
    "import numpy as np\n",
    "from sklearn import tree\n",
    "from sklearn.datasets import load_wine\n",
    "from sklearn.tree import DecisionTreeClassifier\n",
    "from sklearn.model_selection import train_test_split\n",
    "\n",
    "wine = load_wine()\n",
    "df = pd.DataFrame(wine.data, columns=wine.feature_names)\n",
    "df['quality'] = wine.target\n",
    "\n",
    "# showing the first 5 entries\n",
    "df.head()"
   ]
  },
  {
   "cell_type": "markdown",
   "metadata": {},
   "source": [
    "Creating this table will help me decide which features to use for the Root Node position for the Decision Tree. Switching out different features in this position can have several deterministic consequences in the overall result. First I have decided to copy it as a csv file."
   ]
  },
  {
   "cell_type": "code",
   "execution_count": 4,
   "metadata": {},
   "outputs": [],
   "source": [
    "df.to_csv(r'C:/Users/lynst/Documents/GitHub/machine-learning-projects/machine-learning/load_wine.csv')"
   ]
  },
  {
   "cell_type": "markdown",
   "metadata": {},
   "source": [
    "Looking at some of the common statistics for the dataset using the info() method:"
   ]
  },
  {
   "cell_type": "code",
   "execution_count": 5,
   "metadata": {},
   "outputs": [
    {
     "data": {
      "text/html": [
       "<div>\n",
       "<style scoped>\n",
       "    .dataframe tbody tr th:only-of-type {\n",
       "        vertical-align: middle;\n",
       "    }\n",
       "\n",
       "    .dataframe tbody tr th {\n",
       "        vertical-align: top;\n",
       "    }\n",
       "\n",
       "    .dataframe thead th {\n",
       "        text-align: right;\n",
       "    }\n",
       "</style>\n",
       "<table border=\"1\" class=\"dataframe\">\n",
       "  <thead>\n",
       "    <tr style=\"text-align: right;\">\n",
       "      <th></th>\n",
       "      <th>alcohol</th>\n",
       "      <th>malic_acid</th>\n",
       "      <th>ash</th>\n",
       "      <th>alcalinity_of_ash</th>\n",
       "      <th>magnesium</th>\n",
       "      <th>total_phenols</th>\n",
       "      <th>flavanoids</th>\n",
       "      <th>nonflavanoid_phenols</th>\n",
       "      <th>proanthocyanins</th>\n",
       "      <th>color_intensity</th>\n",
       "      <th>hue</th>\n",
       "      <th>od280/od315_of_diluted_wines</th>\n",
       "      <th>proline</th>\n",
       "      <th>quality</th>\n",
       "    </tr>\n",
       "  </thead>\n",
       "  <tbody>\n",
       "    <tr>\n",
       "      <th>count</th>\n",
       "      <td>178.000000</td>\n",
       "      <td>178.000000</td>\n",
       "      <td>178.000000</td>\n",
       "      <td>178.000000</td>\n",
       "      <td>178.000000</td>\n",
       "      <td>178.000000</td>\n",
       "      <td>178.000000</td>\n",
       "      <td>178.000000</td>\n",
       "      <td>178.000000</td>\n",
       "      <td>178.000000</td>\n",
       "      <td>178.000000</td>\n",
       "      <td>178.000000</td>\n",
       "      <td>178.000000</td>\n",
       "      <td>178.000000</td>\n",
       "    </tr>\n",
       "    <tr>\n",
       "      <th>mean</th>\n",
       "      <td>13.000618</td>\n",
       "      <td>2.336348</td>\n",
       "      <td>2.366517</td>\n",
       "      <td>19.494944</td>\n",
       "      <td>99.741573</td>\n",
       "      <td>2.295112</td>\n",
       "      <td>2.029270</td>\n",
       "      <td>0.361854</td>\n",
       "      <td>1.590899</td>\n",
       "      <td>5.058090</td>\n",
       "      <td>0.957449</td>\n",
       "      <td>2.611685</td>\n",
       "      <td>746.893258</td>\n",
       "      <td>0.938202</td>\n",
       "    </tr>\n",
       "    <tr>\n",
       "      <th>std</th>\n",
       "      <td>0.811827</td>\n",
       "      <td>1.117146</td>\n",
       "      <td>0.274344</td>\n",
       "      <td>3.339564</td>\n",
       "      <td>14.282484</td>\n",
       "      <td>0.625851</td>\n",
       "      <td>0.998859</td>\n",
       "      <td>0.124453</td>\n",
       "      <td>0.572359</td>\n",
       "      <td>2.318286</td>\n",
       "      <td>0.228572</td>\n",
       "      <td>0.709990</td>\n",
       "      <td>314.907474</td>\n",
       "      <td>0.775035</td>\n",
       "    </tr>\n",
       "    <tr>\n",
       "      <th>min</th>\n",
       "      <td>11.030000</td>\n",
       "      <td>0.740000</td>\n",
       "      <td>1.360000</td>\n",
       "      <td>10.600000</td>\n",
       "      <td>70.000000</td>\n",
       "      <td>0.980000</td>\n",
       "      <td>0.340000</td>\n",
       "      <td>0.130000</td>\n",
       "      <td>0.410000</td>\n",
       "      <td>1.280000</td>\n",
       "      <td>0.480000</td>\n",
       "      <td>1.270000</td>\n",
       "      <td>278.000000</td>\n",
       "      <td>0.000000</td>\n",
       "    </tr>\n",
       "    <tr>\n",
       "      <th>25%</th>\n",
       "      <td>12.362500</td>\n",
       "      <td>1.602500</td>\n",
       "      <td>2.210000</td>\n",
       "      <td>17.200000</td>\n",
       "      <td>88.000000</td>\n",
       "      <td>1.742500</td>\n",
       "      <td>1.205000</td>\n",
       "      <td>0.270000</td>\n",
       "      <td>1.250000</td>\n",
       "      <td>3.220000</td>\n",
       "      <td>0.782500</td>\n",
       "      <td>1.937500</td>\n",
       "      <td>500.500000</td>\n",
       "      <td>0.000000</td>\n",
       "    </tr>\n",
       "    <tr>\n",
       "      <th>50%</th>\n",
       "      <td>13.050000</td>\n",
       "      <td>1.865000</td>\n",
       "      <td>2.360000</td>\n",
       "      <td>19.500000</td>\n",
       "      <td>98.000000</td>\n",
       "      <td>2.355000</td>\n",
       "      <td>2.135000</td>\n",
       "      <td>0.340000</td>\n",
       "      <td>1.555000</td>\n",
       "      <td>4.690000</td>\n",
       "      <td>0.965000</td>\n",
       "      <td>2.780000</td>\n",
       "      <td>673.500000</td>\n",
       "      <td>1.000000</td>\n",
       "    </tr>\n",
       "    <tr>\n",
       "      <th>75%</th>\n",
       "      <td>13.677500</td>\n",
       "      <td>3.082500</td>\n",
       "      <td>2.557500</td>\n",
       "      <td>21.500000</td>\n",
       "      <td>107.000000</td>\n",
       "      <td>2.800000</td>\n",
       "      <td>2.875000</td>\n",
       "      <td>0.437500</td>\n",
       "      <td>1.950000</td>\n",
       "      <td>6.200000</td>\n",
       "      <td>1.120000</td>\n",
       "      <td>3.170000</td>\n",
       "      <td>985.000000</td>\n",
       "      <td>2.000000</td>\n",
       "    </tr>\n",
       "    <tr>\n",
       "      <th>max</th>\n",
       "      <td>14.830000</td>\n",
       "      <td>5.800000</td>\n",
       "      <td>3.230000</td>\n",
       "      <td>30.000000</td>\n",
       "      <td>162.000000</td>\n",
       "      <td>3.880000</td>\n",
       "      <td>5.080000</td>\n",
       "      <td>0.660000</td>\n",
       "      <td>3.580000</td>\n",
       "      <td>13.000000</td>\n",
       "      <td>1.710000</td>\n",
       "      <td>4.000000</td>\n",
       "      <td>1680.000000</td>\n",
       "      <td>2.000000</td>\n",
       "    </tr>\n",
       "  </tbody>\n",
       "</table>\n",
       "</div>"
      ],
      "text/plain": [
       "          alcohol  malic_acid         ash  alcalinity_of_ash   magnesium  \\\n",
       "count  178.000000  178.000000  178.000000         178.000000  178.000000   \n",
       "mean    13.000618    2.336348    2.366517          19.494944   99.741573   \n",
       "std      0.811827    1.117146    0.274344           3.339564   14.282484   \n",
       "min     11.030000    0.740000    1.360000          10.600000   70.000000   \n",
       "25%     12.362500    1.602500    2.210000          17.200000   88.000000   \n",
       "50%     13.050000    1.865000    2.360000          19.500000   98.000000   \n",
       "75%     13.677500    3.082500    2.557500          21.500000  107.000000   \n",
       "max     14.830000    5.800000    3.230000          30.000000  162.000000   \n",
       "\n",
       "       total_phenols  flavanoids  nonflavanoid_phenols  proanthocyanins  \\\n",
       "count     178.000000  178.000000            178.000000       178.000000   \n",
       "mean        2.295112    2.029270              0.361854         1.590899   \n",
       "std         0.625851    0.998859              0.124453         0.572359   \n",
       "min         0.980000    0.340000              0.130000         0.410000   \n",
       "25%         1.742500    1.205000              0.270000         1.250000   \n",
       "50%         2.355000    2.135000              0.340000         1.555000   \n",
       "75%         2.800000    2.875000              0.437500         1.950000   \n",
       "max         3.880000    5.080000              0.660000         3.580000   \n",
       "\n",
       "       color_intensity         hue  od280/od315_of_diluted_wines      proline  \\\n",
       "count       178.000000  178.000000                    178.000000   178.000000   \n",
       "mean          5.058090    0.957449                      2.611685   746.893258   \n",
       "std           2.318286    0.228572                      0.709990   314.907474   \n",
       "min           1.280000    0.480000                      1.270000   278.000000   \n",
       "25%           3.220000    0.782500                      1.937500   500.500000   \n",
       "50%           4.690000    0.965000                      2.780000   673.500000   \n",
       "75%           6.200000    1.120000                      3.170000   985.000000   \n",
       "max          13.000000    1.710000                      4.000000  1680.000000   \n",
       "\n",
       "          quality  \n",
       "count  178.000000  \n",
       "mean     0.938202  \n",
       "std      0.775035  \n",
       "min      0.000000  \n",
       "25%      0.000000  \n",
       "50%      1.000000  \n",
       "75%      2.000000  \n",
       "max      2.000000  "
      ]
     },
     "execution_count": 5,
     "metadata": {},
     "output_type": "execute_result"
    }
   ],
   "source": [
    "df.describe()"
   ]
  },
  {
   "cell_type": "code",
   "execution_count": 6,
   "metadata": {},
   "outputs": [],
   "source": [
    "from sklearn import tree\n",
    "from sklearn.datasets import load_wine\n",
    "\n",
    "wine = load_wine()\n",
    "X = wine.data[:, 0:13]\n",
    "y = wine.target\n",
    "\n",
    "dtc = tree.DecisionTreeClassifier(max_depth=None)\n",
    "dtc = dtc.fit(X, y)"
   ]
  },
  {
   "cell_type": "markdown",
   "metadata": {},
   "source": [
    "Using the plot_tree() method within the DecisionTreeClassifier model and setting the 'filled' attribute to 'True' will color the tree nodes explaining the majority class at each decision point in the tree.\n",
    "\n",
    "One important idea to note is that the root node which appears at the very top of each decision tree can be changed in order to arrive at the lowest Gini Impurity calculation path. This is done to compare outcomes based on causation associated with different features and the goal is to reduce the Gini Impurity value to that with the lowest impurity, in this case separating the 'Good' and 'Bad' quality wines in the best possible way.\n",
    "\n",
    "The DecisionTreeClassifier is designed to choose the best split point overall (at the root node) and does a really good job at selecting the next best split points at each decision node."
   ]
  },
  {
   "cell_type": "code",
   "execution_count": 7,
   "metadata": {},
   "outputs": [
    {
     "data": {
      "text/plain": [
       "[Text(189.42631578947368, 199.32, 'X[12] <= 755.0\\ngini = 0.658\\nsamples = 178\\nvalue = [59, 71, 48]'),\n",
       " Text(114.53684210526316, 163.07999999999998, 'X[11] <= 2.115\\ngini = 0.492\\nsamples = 111\\nvalue = [2, 67, 42]'),\n",
       " Text(70.48421052631579, 126.83999999999999, 'X[10] <= 0.935\\ngini = 0.227\\nsamples = 46\\nvalue = [0, 6, 40]'),\n",
       " Text(35.242105263157896, 90.6, 'X[6] <= 1.58\\ngini = 0.049\\nsamples = 40\\nvalue = [0, 1, 39]'),\n",
       " Text(17.621052631578948, 54.359999999999985, 'gini = 0.0\\nsamples = 39\\nvalue = [0, 0, 39]'),\n",
       " Text(52.863157894736844, 54.359999999999985, 'gini = 0.0\\nsamples = 1\\nvalue = [0, 1, 0]'),\n",
       " Text(105.72631578947369, 90.6, 'X[6] <= 0.565\\ngini = 0.278\\nsamples = 6\\nvalue = [0, 5, 1]'),\n",
       " Text(88.10526315789474, 54.359999999999985, 'gini = 0.0\\nsamples = 1\\nvalue = [0, 0, 1]'),\n",
       " Text(123.34736842105264, 54.359999999999985, 'gini = 0.0\\nsamples = 5\\nvalue = [0, 5, 0]'),\n",
       " Text(158.58947368421053, 126.83999999999999, 'X[6] <= 0.795\\ngini = 0.117\\nsamples = 65\\nvalue = [2, 61, 2]'),\n",
       " Text(140.96842105263158, 90.6, 'gini = 0.0\\nsamples = 2\\nvalue = [0, 0, 2]'),\n",
       " Text(176.21052631578948, 90.6, 'X[0] <= 13.175\\ngini = 0.061\\nsamples = 63\\nvalue = [2, 61, 0]'),\n",
       " Text(158.58947368421053, 54.359999999999985, 'gini = 0.0\\nsamples = 58\\nvalue = [0, 58, 0]'),\n",
       " Text(193.83157894736843, 54.359999999999985, 'X[1] <= 2.125\\ngini = 0.48\\nsamples = 5\\nvalue = [2, 3, 0]'),\n",
       " Text(176.21052631578948, 18.119999999999976, 'gini = 0.0\\nsamples = 3\\nvalue = [0, 3, 0]'),\n",
       " Text(211.45263157894738, 18.119999999999976, 'gini = 0.0\\nsamples = 2\\nvalue = [2, 0, 0]'),\n",
       " Text(264.3157894736842, 163.07999999999998, 'X[6] <= 2.165\\ngini = 0.265\\nsamples = 67\\nvalue = [57, 4, 6]'),\n",
       " Text(229.07368421052632, 126.83999999999999, 'X[1] <= 2.085\\ngini = 0.375\\nsamples = 8\\nvalue = [0, 2, 6]'),\n",
       " Text(211.45263157894738, 90.6, 'gini = 0.0\\nsamples = 2\\nvalue = [0, 2, 0]'),\n",
       " Text(246.69473684210527, 90.6, 'gini = 0.0\\nsamples = 6\\nvalue = [0, 0, 6]'),\n",
       " Text(299.5578947368421, 126.83999999999999, 'X[4] <= 135.5\\ngini = 0.065\\nsamples = 59\\nvalue = [57, 2, 0]'),\n",
       " Text(281.93684210526317, 90.6, 'gini = 0.0\\nsamples = 57\\nvalue = [57, 0, 0]'),\n",
       " Text(317.17894736842106, 90.6, 'gini = 0.0\\nsamples = 2\\nvalue = [0, 2, 0]')]"
      ]
     },
     "execution_count": 7,
     "metadata": {},
     "output_type": "execute_result"
    },
    {
     "data": {
      "image/png": "[encoded data removed]",
      "text/plain": [
       "<Figure size 432x288 with 1 Axes>"
      ]
     },
     "metadata": {
      "needs_background": "light"
     },
     "output_type": "display_data"
    }
   ],
   "source": [
    "tree.plot_tree(dtc, filled=True)"
   ]
  },
  {
   "cell_type": "markdown",
   "metadata": {},
   "source": [
    "The visualization of this tree plot can be tidied up using matplotlib:"
   ]
  },
  {
   "cell_type": "code",
   "execution_count": 8,
   "metadata": {},
   "outputs": [
    {
     "data": {
      "image/png": "[encoded data removed]",
      "text/plain": [
       "<Figure size 1152x648 with 1 Axes>"
      ]
     },
     "metadata": {
      "needs_background": "light"
     },
     "output_type": "display_data"
    }
   ],
   "source": [
    "import matplotlib.pyplot as plt\n",
    "from sklearn.tree import plot_tree\n",
    "\n",
    "# important to adjust the size of the plot otherwise it ends up being too small\n",
    "plt.figure(figsize=(16,9))\n",
    "dtc = tree.DecisionTreeClassifier().fit(wine.data, wine.target)\n",
    "plot_tree(dtc, filled=True)\n",
    "plt.title(\"Decision Tree Trained on Red Wine Quality Features\\n\\n\")\n",
    "plt.show()"
   ]
  },
  {
   "cell_type": "markdown",
   "metadata": {},
   "source": [
    "Repeating the training process but only displaying the 'max_depth' in the classifier to a value of 2 (a depth of 2 levels from the root node), or Tree depth as it's known, is a measure of how many splits a tree can make before it must arrive at a prediction."
   ]
  },
  {
   "cell_type": "code",
   "execution_count": 9,
   "metadata": {},
   "outputs": [
    {
     "data": {
      "image/png": "[encoded data removed]",
      "text/plain": [
       "<Figure size 1152x504 with 1 Axes>"
      ]
     },
     "metadata": {
      "needs_background": "light"
     },
     "output_type": "display_data"
    }
   ],
   "source": [
    "from sklearn import tree\n",
    "from sklearn.datasets import load_wine\n",
    "\n",
    "wine = load_wine()\n",
    "X = wine.data[:, 0:13]\n",
    "y = wine.target\n",
    "\n",
    "# resizing plot\n",
    "plt.figure(figsize=(16,7))\n",
    "dtc = tree.DecisionTreeClassifier(max_depth=None)\n",
    "dtc = dtc.fit(X, y)\n",
    "tree.plot_tree(dtc, max_depth=2, filled=True)\n",
    "plt.show()"
   ]
  },
  {
   "cell_type": "markdown",
   "metadata": {},
   "source": [
    "## Using Graphviz\n",
    "This method can be used as an alternative way to display the decision tree and is derived from the SciKit Learn 'tree' model set. It's worth noting I encountered some issues when installing graphviz using Conda (which took considerable time)."
   ]
  },
  {
   "cell_type": "code",
   "execution_count": null,
   "metadata": {},
   "outputs": [],
   "source": [
    "!conda install python-graphviz"
   ]
  },
  {
   "cell_type": "markdown",
   "metadata": {},
   "source": [
    "Installing with pip may be a better option to get dot file conversion to png format to work."
   ]
  },
  {
   "cell_type": "code",
   "execution_count": null,
   "metadata": {},
   "outputs": [],
   "source": [
    "!pip install graphviz"
   ]
  },
  {
   "cell_type": "markdown",
   "metadata": {},
   "source": [
    "Next, in order to create a graphviz export tree diagram 'export_graphviz' must be imported first and then a filepath must be established for the 'dot' file. Then I can derive a graphviz object from this path with a few defining attributes."
   ]
  },
  {
   "cell_type": "code",
   "execution_count": 10,
   "metadata": {},
   "outputs": [
    {
     "data": {
      "image/svg+xml": [
       "<?xml version=\"1.0\" encoding=\"UTF-8\" standalone=\"no\"?>\n",
       "<!DOCTYPE svg PUBLIC \"-//W3C//DTD SVG 1.1//EN\"\n",
       " \"http://www.w3.org/Graphics/SVG/1.1/DTD/svg11.dtd\">\n",
       "<!-- Generated by graphviz version 2.50.0 (20211204.2007)\n",
       " -->\n",
       "<!-- Title: Tree Pages: 1 -->\n",
       "<svg width=\"1229pt\" height=\"671pt\"\n",
       " viewBox=\"0.00 0.00 1229.00 671.00\" xmlns=\"http://www.w3.org/2000/svg\" xmlns:xlink=\"http://www.w3.org/1999/xlink\">\n",
       "<g id=\"graph0\" class=\"graph\" transform=\"scale(1 1) rotate(0) translate(4 667)\">\n",
       "<title>Tree</title>\n",
       "<polygon fill=\"white\" stroke=\"transparent\" points=\"-4,4 -4,-667 1225,-667 1225,4 -4,4\"/>\n",
       "<!-- 0 -->\n",
       "<g id=\"node1\" class=\"node\">\n",
       "<title>0</title>\n",
       "<path fill=\"#ebfcf2\" stroke=\"black\" d=\"M705,-663C705,-663 592,-663 592,-663 586,-663 580,-657 580,-651 580,-651 580,-592 580,-592 580,-586 586,-580 592,-580 592,-580 705,-580 705,-580 711,-580 717,-586 717,-592 717,-592 717,-651 717,-651 717,-657 711,-663 705,-663\"/>\n",
       "<text text-anchor=\"start\" x=\"601\" y=\"-647.8\" font-family=\"Helvetica,sans-Serif\" font-size=\"14.00\">proline ≤ 755.0</text>\n",
       "<text text-anchor=\"start\" x=\"611\" y=\"-632.8\" font-family=\"Helvetica,sans-Serif\" font-size=\"14.00\">gini = 0.658</text>\n",
       "<text text-anchor=\"start\" x=\"601\" y=\"-617.8\" font-family=\"Helvetica,sans-Serif\" font-size=\"14.00\">samples = 178</text>\n",
       "<text text-anchor=\"start\" x=\"588\" y=\"-602.8\" font-family=\"Helvetica,sans-Serif\" font-size=\"14.00\">value = [59, 71, 48]</text>\n",
       "<text text-anchor=\"start\" x=\"599\" y=\"-587.8\" font-family=\"Helvetica,sans-Serif\" font-size=\"14.00\">class = class_1</text>\n",
       "</g>\n",
       "<!-- 1 -->\n",
       "<g id=\"node2\" class=\"node\">\n",
       "<title>1</title>\n",
       "<path fill=\"#b7f6d1\" stroke=\"black\" d=\"M635.5,-544C635.5,-544 389.5,-544 389.5,-544 383.5,-544 377.5,-538 377.5,-532 377.5,-532 377.5,-473 377.5,-473 377.5,-467 383.5,-461 389.5,-461 389.5,-461 635.5,-461 635.5,-461 641.5,-461 647.5,-467 647.5,-473 647.5,-473 647.5,-532 647.5,-532 647.5,-538 641.5,-544 635.5,-544\"/>\n",
       "<text text-anchor=\"start\" x=\"385.5\" y=\"-528.8\" font-family=\"Helvetica,sans-Serif\" font-size=\"14.00\">od280/od315_of_diluted_wines ≤ 2.115</text>\n",
       "<text text-anchor=\"start\" x=\"475\" y=\"-513.8\" font-family=\"Helvetica,sans-Serif\" font-size=\"14.00\">gini = 0.492</text>\n",
       "<text text-anchor=\"start\" x=\"465\" y=\"-498.8\" font-family=\"Helvetica,sans-Serif\" font-size=\"14.00\">samples = 111</text>\n",
       "<text text-anchor=\"start\" x=\"456\" y=\"-483.8\" font-family=\"Helvetica,sans-Serif\" font-size=\"14.00\">value = [2, 67, 42]</text>\n",
       "<text text-anchor=\"start\" x=\"463\" y=\"-468.8\" font-family=\"Helvetica,sans-Serif\" font-size=\"14.00\">class = class_1</text>\n",
       "</g>\n",
       "<!-- 0&#45;&gt;1 -->\n",
       "<g id=\"edge1\" class=\"edge\">\n",
       "<title>0&#45;&gt;1</title>\n",
       "<path fill=\"none\" stroke=\"black\" d=\"M601.32,-579.91C590.34,-570.47 578.57,-560.34 567.31,-550.65\"/>\n",
       "<polygon fill=\"black\" stroke=\"black\" points=\"569.46,-547.89 559.6,-544.02 564.9,-553.2 569.46,-547.89\"/>\n",
       "<text text-anchor=\"middle\" x=\"561.47\" y=\"-565.25\" font-family=\"Helvetica,sans-Serif\" font-size=\"14.00\">True</text>\n",
       "</g>\n",
       "<!-- 16 -->\n",
       "<g id=\"node17\" class=\"node\">\n",
       "<title>16</title>\n",
       "<path fill=\"#e99659\" stroke=\"black\" d=\"M868.5,-544C868.5,-544 760.5,-544 760.5,-544 754.5,-544 748.5,-538 748.5,-532 748.5,-532 748.5,-473 748.5,-473 748.5,-467 754.5,-461 760.5,-461 760.5,-461 868.5,-461 868.5,-461 874.5,-461 880.5,-467 880.5,-473 880.5,-473 880.5,-532 880.5,-532 880.5,-538 874.5,-544 868.5,-544\"/>\n",
       "<text text-anchor=\"start\" x=\"756.5\" y=\"-528.8\" font-family=\"Helvetica,sans-Serif\" font-size=\"14.00\">flavanoids ≤ 2.165</text>\n",
       "<text text-anchor=\"start\" x=\"777\" y=\"-513.8\" font-family=\"Helvetica,sans-Serif\" font-size=\"14.00\">gini = 0.265</text>\n",
       "<text text-anchor=\"start\" x=\"771\" y=\"-498.8\" font-family=\"Helvetica,sans-Serif\" font-size=\"14.00\">samples = 67</text>\n",
       "<text text-anchor=\"start\" x=\"762\" y=\"-483.8\" font-family=\"Helvetica,sans-Serif\" font-size=\"14.00\">value = [57, 4, 6]</text>\n",
       "<text text-anchor=\"start\" x=\"765\" y=\"-468.8\" font-family=\"Helvetica,sans-Serif\" font-size=\"14.00\">class = class_0</text>\n",
       "</g>\n",
       "<!-- 0&#45;&gt;16 -->\n",
       "<g id=\"edge16\" class=\"edge\">\n",
       "<title>0&#45;&gt;16</title>\n",
       "<path fill=\"none\" stroke=\"black\" d=\"M706.09,-579.91C719.87,-570.2 734.68,-559.76 748.79,-549.81\"/>\n",
       "<polygon fill=\"black\" stroke=\"black\" points=\"750.85,-552.64 757.01,-544.02 746.82,-546.92 750.85,-552.64\"/>\n",
       "<text text-anchor=\"middle\" x=\"752.74\" y=\"-564.95\" font-family=\"Helvetica,sans-Serif\" font-size=\"14.00\">False</text>\n",
       "</g>\n",
       "<!-- 2 -->\n",
       "<g id=\"node3\" class=\"node\">\n",
       "<title>2</title>\n",
       "<path fill=\"#9457e9\" stroke=\"black\" d=\"M389,-425C389,-425 292,-425 292,-425 286,-425 280,-419 280,-413 280,-413 280,-354 280,-354 280,-348 286,-342 292,-342 292,-342 389,-342 389,-342 395,-342 401,-348 401,-354 401,-354 401,-413 401,-413 401,-419 395,-425 389,-425\"/>\n",
       "<text text-anchor=\"start\" x=\"302.5\" y=\"-409.8\" font-family=\"Helvetica,sans-Serif\" font-size=\"14.00\">hue ≤ 0.935</text>\n",
       "<text text-anchor=\"start\" x=\"303\" y=\"-394.8\" font-family=\"Helvetica,sans-Serif\" font-size=\"14.00\">gini = 0.227</text>\n",
       "<text text-anchor=\"start\" x=\"297\" y=\"-379.8\" font-family=\"Helvetica,sans-Serif\" font-size=\"14.00\">samples = 46</text>\n",
       "<text text-anchor=\"start\" x=\"288\" y=\"-364.8\" font-family=\"Helvetica,sans-Serif\" font-size=\"14.00\">value = [0, 6, 40]</text>\n",
       "<text text-anchor=\"start\" x=\"291\" y=\"-349.8\" font-family=\"Helvetica,sans-Serif\" font-size=\"14.00\">class = class_2</text>\n",
       "</g>\n",
       "<!-- 1&#45;&gt;2 -->\n",
       "<g id=\"edge2\" class=\"edge\">\n",
       "<title>1&#45;&gt;2</title>\n",
       "<path fill=\"none\" stroke=\"black\" d=\"M452.83,-460.91C438.55,-451.2 423.2,-440.76 408.58,-430.81\"/>\n",
       "<polygon fill=\"black\" stroke=\"black\" points=\"410.31,-427.75 400.07,-425.02 406.37,-433.54 410.31,-427.75\"/>\n",
       "</g>\n",
       "<!-- 9 -->\n",
       "<g id=\"node10\" class=\"node\">\n",
       "<title>9</title>\n",
       "<path fill=\"#46e789\" stroke=\"black\" d=\"M566.5,-425C566.5,-425 458.5,-425 458.5,-425 452.5,-425 446.5,-419 446.5,-413 446.5,-413 446.5,-354 446.5,-354 446.5,-348 452.5,-342 458.5,-342 458.5,-342 566.5,-342 566.5,-342 572.5,-342 578.5,-348 578.5,-354 578.5,-354 578.5,-413 578.5,-413 578.5,-419 572.5,-425 566.5,-425\"/>\n",
       "<text text-anchor=\"start\" x=\"454.5\" y=\"-409.8\" font-family=\"Helvetica,sans-Serif\" font-size=\"14.00\">flavanoids ≤ 0.795</text>\n",
       "<text text-anchor=\"start\" x=\"475\" y=\"-394.8\" font-family=\"Helvetica,sans-Serif\" font-size=\"14.00\">gini = 0.117</text>\n",
       "<text text-anchor=\"start\" x=\"469\" y=\"-379.8\" font-family=\"Helvetica,sans-Serif\" font-size=\"14.00\">samples = 65</text>\n",
       "<text text-anchor=\"start\" x=\"460\" y=\"-364.8\" font-family=\"Helvetica,sans-Serif\" font-size=\"14.00\">value = [2, 61, 2]</text>\n",
       "<text text-anchor=\"start\" x=\"463\" y=\"-349.8\" font-family=\"Helvetica,sans-Serif\" font-size=\"14.00\">class = class_1</text>\n",
       "</g>\n",
       "<!-- 1&#45;&gt;9 -->\n",
       "<g id=\"edge9\" class=\"edge\">\n",
       "<title>1&#45;&gt;9</title>\n",
       "<path fill=\"none\" stroke=\"black\" d=\"M512.5,-460.91C512.5,-452.65 512.5,-443.86 512.5,-435.3\"/>\n",
       "<polygon fill=\"black\" stroke=\"black\" points=\"516,-435.02 512.5,-425.02 509,-435.02 516,-435.02\"/>\n",
       "</g>\n",
       "<!-- 3 -->\n",
       "<g id=\"node4\" class=\"node\">\n",
       "<title>3</title>\n",
       "<path fill=\"#843ee6\" stroke=\"black\" d=\"M242.5,-306C242.5,-306 142.5,-306 142.5,-306 136.5,-306 130.5,-300 130.5,-294 130.5,-294 130.5,-235 130.5,-235 130.5,-229 136.5,-223 142.5,-223 142.5,-223 242.5,-223 242.5,-223 248.5,-223 254.5,-229 254.5,-235 254.5,-235 254.5,-294 254.5,-294 254.5,-300 248.5,-306 242.5,-306\"/>\n",
       "<text text-anchor=\"start\" x=\"138.5\" y=\"-290.8\" font-family=\"Helvetica,sans-Serif\" font-size=\"14.00\">flavanoids ≤ 1.58</text>\n",
       "<text text-anchor=\"start\" x=\"155\" y=\"-275.8\" font-family=\"Helvetica,sans-Serif\" font-size=\"14.00\">gini = 0.049</text>\n",
       "<text text-anchor=\"start\" x=\"149\" y=\"-260.8\" font-family=\"Helvetica,sans-Serif\" font-size=\"14.00\">samples = 40</text>\n",
       "<text text-anchor=\"start\" x=\"140\" y=\"-245.8\" font-family=\"Helvetica,sans-Serif\" font-size=\"14.00\">value = [0, 1, 39]</text>\n",
       "<text text-anchor=\"start\" x=\"143\" y=\"-230.8\" font-family=\"Helvetica,sans-Serif\" font-size=\"14.00\">class = class_2</text>\n",
       "</g>\n",
       "<!-- 2&#45;&gt;3 -->\n",
       "<g id=\"edge3\" class=\"edge\">\n",
       "<title>2&#45;&gt;3</title>\n",
       "<path fill=\"none\" stroke=\"black\" d=\"M289.15,-341.91C277.1,-332.38 264.16,-322.15 251.79,-312.37\"/>\n",
       "<polygon fill=\"black\" stroke=\"black\" points=\"253.77,-309.48 243.76,-306.02 249.43,-314.97 253.77,-309.48\"/>\n",
       "</g>\n",
       "<!-- 6 -->\n",
       "<g id=\"node7\" class=\"node\">\n",
       "<title>6</title>\n",
       "<path fill=\"#61ea9a\" stroke=\"black\" d=\"M396.5,-306C396.5,-306 284.5,-306 284.5,-306 278.5,-306 272.5,-300 272.5,-294 272.5,-294 272.5,-235 272.5,-235 272.5,-229 278.5,-223 284.5,-223 284.5,-223 396.5,-223 396.5,-223 402.5,-223 408.5,-229 408.5,-235 408.5,-235 408.5,-294 408.5,-294 408.5,-300 402.5,-306 396.5,-306\"/>\n",
       "<text text-anchor=\"start\" x=\"280.5\" y=\"-290.8\" font-family=\"Helvetica,sans-Serif\" font-size=\"14.00\">malic_acid ≤ 2.395</text>\n",
       "<text text-anchor=\"start\" x=\"303\" y=\"-275.8\" font-family=\"Helvetica,sans-Serif\" font-size=\"14.00\">gini = 0.278</text>\n",
       "<text text-anchor=\"start\" x=\"301\" y=\"-260.8\" font-family=\"Helvetica,sans-Serif\" font-size=\"14.00\">samples = 6</text>\n",
       "<text text-anchor=\"start\" x=\"292\" y=\"-245.8\" font-family=\"Helvetica,sans-Serif\" font-size=\"14.00\">value = [0, 5, 1]</text>\n",
       "<text text-anchor=\"start\" x=\"291\" y=\"-230.8\" font-family=\"Helvetica,sans-Serif\" font-size=\"14.00\">class = class_1</text>\n",
       "</g>\n",
       "<!-- 2&#45;&gt;6 -->\n",
       "<g id=\"edge6\" class=\"edge\">\n",
       "<title>2&#45;&gt;6</title>\n",
       "<path fill=\"none\" stroke=\"black\" d=\"M340.5,-341.91C340.5,-333.65 340.5,-324.86 340.5,-316.3\"/>\n",
       "<polygon fill=\"black\" stroke=\"black\" points=\"344,-316.02 340.5,-306.02 337,-316.02 344,-316.02\"/>\n",
       "</g>\n",
       "<!-- 4 -->\n",
       "<g id=\"node5\" class=\"node\">\n",
       "<title>4</title>\n",
       "<path fill=\"#8139e5\" stroke=\"black\" d=\"M109,-179.5C109,-179.5 12,-179.5 12,-179.5 6,-179.5 0,-173.5 0,-167.5 0,-167.5 0,-123.5 0,-123.5 0,-117.5 6,-111.5 12,-111.5 12,-111.5 109,-111.5 109,-111.5 115,-111.5 121,-117.5 121,-123.5 121,-123.5 121,-167.5 121,-167.5 121,-173.5 115,-179.5 109,-179.5\"/>\n",
       "<text text-anchor=\"start\" x=\"31.5\" y=\"-164.3\" font-family=\"Helvetica,sans-Serif\" font-size=\"14.00\">gini = 0.0</text>\n",
       "<text text-anchor=\"start\" x=\"17\" y=\"-149.3\" font-family=\"Helvetica,sans-Serif\" font-size=\"14.00\">samples = 39</text>\n",
       "<text text-anchor=\"start\" x=\"8\" y=\"-134.3\" font-family=\"Helvetica,sans-Serif\" font-size=\"14.00\">value = [0, 0, 39]</text>\n",
       "<text text-anchor=\"start\" x=\"11\" y=\"-119.3\" font-family=\"Helvetica,sans-Serif\" font-size=\"14.00\">class = class_2</text>\n",
       "</g>\n",
       "<!-- 3&#45;&gt;4 -->\n",
       "<g id=\"edge4\" class=\"edge\">\n",
       "<title>3&#45;&gt;4</title>\n",
       "<path fill=\"none\" stroke=\"black\" d=\"M146.7,-222.91C133.38,-211.1 118.85,-198.22 105.57,-186.45\"/>\n",
       "<polygon fill=\"black\" stroke=\"black\" points=\"107.72,-183.68 97.92,-179.67 103.08,-188.92 107.72,-183.68\"/>\n",
       "</g>\n",
       "<!-- 5 -->\n",
       "<g id=\"node6\" class=\"node\">\n",
       "<title>5</title>\n",
       "<path fill=\"#39e581\" stroke=\"black\" d=\"M242,-179.5C242,-179.5 151,-179.5 151,-179.5 145,-179.5 139,-173.5 139,-167.5 139,-167.5 139,-123.5 139,-123.5 139,-117.5 145,-111.5 151,-111.5 151,-111.5 242,-111.5 242,-111.5 248,-111.5 254,-117.5 254,-123.5 254,-123.5 254,-167.5 254,-167.5 254,-173.5 248,-179.5 242,-179.5\"/>\n",
       "<text text-anchor=\"start\" x=\"167.5\" y=\"-164.3\" font-family=\"Helvetica,sans-Serif\" font-size=\"14.00\">gini = 0.0</text>\n",
       "<text text-anchor=\"start\" x=\"157\" y=\"-149.3\" font-family=\"Helvetica,sans-Serif\" font-size=\"14.00\">samples = 1</text>\n",
       "<text text-anchor=\"start\" x=\"148\" y=\"-134.3\" font-family=\"Helvetica,sans-Serif\" font-size=\"14.00\">value = [0, 1, 0]</text>\n",
       "<text text-anchor=\"start\" x=\"147\" y=\"-119.3\" font-family=\"Helvetica,sans-Serif\" font-size=\"14.00\">class = class_1</text>\n",
       "</g>\n",
       "<!-- 3&#45;&gt;5 -->\n",
       "<g id=\"edge5\" class=\"edge\">\n",
       "<title>3&#45;&gt;5</title>\n",
       "<path fill=\"none\" stroke=\"black\" d=\"M193.89,-222.91C194.25,-212.2 194.65,-200.62 195.02,-189.78\"/>\n",
       "<polygon fill=\"black\" stroke=\"black\" points=\"198.52,-189.78 195.37,-179.67 191.53,-189.54 198.52,-189.78\"/>\n",
       "</g>\n",
       "<!-- 7 -->\n",
       "<g id=\"node8\" class=\"node\">\n",
       "<title>7</title>\n",
       "<path fill=\"#39e581\" stroke=\"black\" d=\"M382,-179.5C382,-179.5 291,-179.5 291,-179.5 285,-179.5 279,-173.5 279,-167.5 279,-167.5 279,-123.5 279,-123.5 279,-117.5 285,-111.5 291,-111.5 291,-111.5 382,-111.5 382,-111.5 388,-111.5 394,-117.5 394,-123.5 394,-123.5 394,-167.5 394,-167.5 394,-173.5 388,-179.5 382,-179.5\"/>\n",
       "<text text-anchor=\"start\" x=\"307.5\" y=\"-164.3\" font-family=\"Helvetica,sans-Serif\" font-size=\"14.00\">gini = 0.0</text>\n",
       "<text text-anchor=\"start\" x=\"297\" y=\"-149.3\" font-family=\"Helvetica,sans-Serif\" font-size=\"14.00\">samples = 5</text>\n",
       "<text text-anchor=\"start\" x=\"288\" y=\"-134.3\" font-family=\"Helvetica,sans-Serif\" font-size=\"14.00\">value = [0, 5, 0]</text>\n",
       "<text text-anchor=\"start\" x=\"287\" y=\"-119.3\" font-family=\"Helvetica,sans-Serif\" font-size=\"14.00\">class = class_1</text>\n",
       "</g>\n",
       "<!-- 6&#45;&gt;7 -->\n",
       "<g id=\"edge7\" class=\"edge\">\n",
       "<title>6&#45;&gt;7</title>\n",
       "<path fill=\"none\" stroke=\"black\" d=\"M339.11,-222.91C338.75,-212.2 338.35,-200.62 337.98,-189.78\"/>\n",
       "<polygon fill=\"black\" stroke=\"black\" points=\"341.47,-189.54 337.63,-179.67 334.48,-189.78 341.47,-189.54\"/>\n",
       "</g>\n",
       "<!-- 8 -->\n",
       "<g id=\"node9\" class=\"node\">\n",
       "<title>8</title>\n",
       "<path fill=\"#8139e5\" stroke=\"black\" d=\"M515,-179.5C515,-179.5 424,-179.5 424,-179.5 418,-179.5 412,-173.5 412,-167.5 412,-167.5 412,-123.5 412,-123.5 412,-117.5 418,-111.5 424,-111.5 424,-111.5 515,-111.5 515,-111.5 521,-111.5 527,-117.5 527,-123.5 527,-123.5 527,-167.5 527,-167.5 527,-173.5 521,-179.5 515,-179.5\"/>\n",
       "<text text-anchor=\"start\" x=\"440.5\" y=\"-164.3\" font-family=\"Helvetica,sans-Serif\" font-size=\"14.00\">gini = 0.0</text>\n",
       "<text text-anchor=\"start\" x=\"430\" y=\"-149.3\" font-family=\"Helvetica,sans-Serif\" font-size=\"14.00\">samples = 1</text>\n",
       "<text text-anchor=\"start\" x=\"421\" y=\"-134.3\" font-family=\"Helvetica,sans-Serif\" font-size=\"14.00\">value = [0, 0, 1]</text>\n",
       "<text text-anchor=\"start\" x=\"420\" y=\"-119.3\" font-family=\"Helvetica,sans-Serif\" font-size=\"14.00\">class = class_2</text>\n",
       "</g>\n",
       "<!-- 6&#45;&gt;8 -->\n",
       "<g id=\"edge8\" class=\"edge\">\n",
       "<title>6&#45;&gt;8</title>\n",
       "<path fill=\"none\" stroke=\"black\" d=\"M385.26,-222.91C398.27,-211.1 412.48,-198.22 425.45,-186.45\"/>\n",
       "<polygon fill=\"black\" stroke=\"black\" points=\"427.88,-188.98 432.93,-179.67 423.17,-183.79 427.88,-188.98\"/>\n",
       "</g>\n",
       "<!-- 10 -->\n",
       "<g id=\"node11\" class=\"node\">\n",
       "<title>10</title>\n",
       "<path fill=\"#8139e5\" stroke=\"black\" d=\"M530,-298.5C530,-298.5 439,-298.5 439,-298.5 433,-298.5 427,-292.5 427,-286.5 427,-286.5 427,-242.5 427,-242.5 427,-236.5 433,-230.5 439,-230.5 439,-230.5 530,-230.5 530,-230.5 536,-230.5 542,-236.5 542,-242.5 542,-242.5 542,-286.5 542,-286.5 542,-292.5 536,-298.5 530,-298.5\"/>\n",
       "<text text-anchor=\"start\" x=\"455.5\" y=\"-283.3\" font-family=\"Helvetica,sans-Serif\" font-size=\"14.00\">gini = 0.0</text>\n",
       "<text text-anchor=\"start\" x=\"445\" y=\"-268.3\" font-family=\"Helvetica,sans-Serif\" font-size=\"14.00\">samples = 2</text>\n",
       "<text text-anchor=\"start\" x=\"436\" y=\"-253.3\" font-family=\"Helvetica,sans-Serif\" font-size=\"14.00\">value = [0, 0, 2]</text>\n",
       "<text text-anchor=\"start\" x=\"435\" y=\"-238.3\" font-family=\"Helvetica,sans-Serif\" font-size=\"14.00\">class = class_2</text>\n",
       "</g>\n",
       "<!-- 9&#45;&gt;10 -->\n",
       "<g id=\"edge10\" class=\"edge\">\n",
       "<title>9&#45;&gt;10</title>\n",
       "<path fill=\"none\" stroke=\"black\" d=\"M502.79,-341.91C500.2,-331.09 497.39,-319.38 494.78,-308.44\"/>\n",
       "<polygon fill=\"black\" stroke=\"black\" points=\"498.17,-307.58 492.44,-298.67 491.36,-309.21 498.17,-307.58\"/>\n",
       "</g>\n",
       "<!-- 11 -->\n",
       "<g id=\"node12\" class=\"node\">\n",
       "<title>11</title>\n",
       "<path fill=\"#3fe685\" stroke=\"black\" d=\"M670.5,-306C670.5,-306 572.5,-306 572.5,-306 566.5,-306 560.5,-300 560.5,-294 560.5,-294 560.5,-235 560.5,-235 560.5,-229 566.5,-223 572.5,-223 572.5,-223 670.5,-223 670.5,-223 676.5,-223 682.5,-229 682.5,-235 682.5,-235 682.5,-294 682.5,-294 682.5,-300 676.5,-306 670.5,-306\"/>\n",
       "<text text-anchor=\"start\" x=\"568.5\" y=\"-290.8\" font-family=\"Helvetica,sans-Serif\" font-size=\"14.00\">alcohol ≤ 13.175</text>\n",
       "<text text-anchor=\"start\" x=\"584\" y=\"-275.8\" font-family=\"Helvetica,sans-Serif\" font-size=\"14.00\">gini = 0.061</text>\n",
       "<text text-anchor=\"start\" x=\"578\" y=\"-260.8\" font-family=\"Helvetica,sans-Serif\" font-size=\"14.00\">samples = 63</text>\n",
       "<text text-anchor=\"start\" x=\"569\" y=\"-245.8\" font-family=\"Helvetica,sans-Serif\" font-size=\"14.00\">value = [2, 61, 0]</text>\n",
       "<text text-anchor=\"start\" x=\"572\" y=\"-230.8\" font-family=\"Helvetica,sans-Serif\" font-size=\"14.00\">class = class_1</text>\n",
       "</g>\n",
       "<!-- 9&#45;&gt;11 -->\n",
       "<g id=\"edge11\" class=\"edge\">\n",
       "<title>9&#45;&gt;11</title>\n",
       "<path fill=\"none\" stroke=\"black\" d=\"M550.32,-341.91C558.86,-332.74 568,-322.93 576.79,-313.49\"/>\n",
       "<polygon fill=\"black\" stroke=\"black\" points=\"579.49,-315.72 583.75,-306.02 574.37,-310.95 579.49,-315.72\"/>\n",
       "</g>\n",
       "<!-- 12 -->\n",
       "<g id=\"node13\" class=\"node\">\n",
       "<title>12</title>\n",
       "<path fill=\"#39e581\" stroke=\"black\" d=\"M662,-179.5C662,-179.5 565,-179.5 565,-179.5 559,-179.5 553,-173.5 553,-167.5 553,-167.5 553,-123.5 553,-123.5 553,-117.5 559,-111.5 565,-111.5 565,-111.5 662,-111.5 662,-111.5 668,-111.5 674,-117.5 674,-123.5 674,-123.5 674,-167.5 674,-167.5 674,-173.5 668,-179.5 662,-179.5\"/>\n",
       "<text text-anchor=\"start\" x=\"584.5\" y=\"-164.3\" font-family=\"Helvetica,sans-Serif\" font-size=\"14.00\">gini = 0.0</text>\n",
       "<text text-anchor=\"start\" x=\"570\" y=\"-149.3\" font-family=\"Helvetica,sans-Serif\" font-size=\"14.00\">samples = 58</text>\n",
       "<text text-anchor=\"start\" x=\"561\" y=\"-134.3\" font-family=\"Helvetica,sans-Serif\" font-size=\"14.00\">value = [0, 58, 0]</text>\n",
       "<text text-anchor=\"start\" x=\"564\" y=\"-119.3\" font-family=\"Helvetica,sans-Serif\" font-size=\"14.00\">class = class_1</text>\n",
       "</g>\n",
       "<!-- 11&#45;&gt;12 -->\n",
       "<g id=\"edge12\" class=\"edge\">\n",
       "<title>11&#45;&gt;12</title>\n",
       "<path fill=\"none\" stroke=\"black\" d=\"M618.72,-222.91C617.99,-212.2 617.2,-200.62 616.46,-189.78\"/>\n",
       "<polygon fill=\"black\" stroke=\"black\" points=\"619.94,-189.4 615.77,-179.67 612.96,-189.88 619.94,-189.4\"/>\n",
       "</g>\n",
       "<!-- 13 -->\n",
       "<g id=\"node14\" class=\"node\">\n",
       "<title>13</title>\n",
       "<path fill=\"#bdf6d5\" stroke=\"black\" d=\"M814.5,-187C814.5,-187 704.5,-187 704.5,-187 698.5,-187 692.5,-181 692.5,-175 692.5,-175 692.5,-116 692.5,-116 692.5,-110 698.5,-104 704.5,-104 704.5,-104 814.5,-104 814.5,-104 820.5,-104 826.5,-110 826.5,-116 826.5,-116 826.5,-175 826.5,-175 826.5,-181 820.5,-187 814.5,-187\"/>\n",
       "<text text-anchor=\"start\" x=\"700.5\" y=\"-171.8\" font-family=\"Helvetica,sans-Serif\" font-size=\"14.00\">magnesium ≤ 98.5</text>\n",
       "<text text-anchor=\"start\" x=\"726\" y=\"-156.8\" font-family=\"Helvetica,sans-Serif\" font-size=\"14.00\">gini = 0.48</text>\n",
       "<text text-anchor=\"start\" x=\"720\" y=\"-141.8\" font-family=\"Helvetica,sans-Serif\" font-size=\"14.00\">samples = 5</text>\n",
       "<text text-anchor=\"start\" x=\"711\" y=\"-126.8\" font-family=\"Helvetica,sans-Serif\" font-size=\"14.00\">value = [2, 3, 0]</text>\n",
       "<text text-anchor=\"start\" x=\"710\" y=\"-111.8\" font-family=\"Helvetica,sans-Serif\" font-size=\"14.00\">class = class_1</text>\n",
       "</g>\n",
       "<!-- 11&#45;&gt;13 -->\n",
       "<g id=\"edge13\" class=\"edge\">\n",
       "<title>11&#45;&gt;13</title>\n",
       "<path fill=\"none\" stroke=\"black\" d=\"M669.38,-222.91C680.51,-213.47 692.45,-203.34 703.89,-193.65\"/>\n",
       "<polygon fill=\"black\" stroke=\"black\" points=\"706.34,-196.16 711.71,-187.02 701.82,-190.82 706.34,-196.16\"/>\n",
       "</g>\n",
       "<!-- 14 -->\n",
       "<g id=\"node15\" class=\"node\">\n",
       "<title>14</title>\n",
       "<path fill=\"#39e581\" stroke=\"black\" d=\"M738,-68C738,-68 647,-68 647,-68 641,-68 635,-62 635,-56 635,-56 635,-12 635,-12 635,-6 641,0 647,0 647,0 738,0 738,0 744,0 750,-6 750,-12 750,-12 750,-56 750,-56 750,-62 744,-68 738,-68\"/>\n",
       "<text text-anchor=\"start\" x=\"663.5\" y=\"-52.8\" font-family=\"Helvetica,sans-Serif\" font-size=\"14.00\">gini = 0.0</text>\n",
       "<text text-anchor=\"start\" x=\"653\" y=\"-37.8\" font-family=\"Helvetica,sans-Serif\" font-size=\"14.00\">samples = 3</text>\n",
       "<text text-anchor=\"start\" x=\"644\" y=\"-22.8\" font-family=\"Helvetica,sans-Serif\" font-size=\"14.00\">value = [0, 3, 0]</text>\n",
       "<text text-anchor=\"start\" x=\"643\" y=\"-7.8\" font-family=\"Helvetica,sans-Serif\" font-size=\"14.00\">class = class_1</text>\n",
       "</g>\n",
       "<!-- 13&#45;&gt;14 -->\n",
       "<g id=\"edge14\" class=\"edge\">\n",
       "<title>13&#45;&gt;14</title>\n",
       "<path fill=\"none\" stroke=\"black\" d=\"M734.55,-103.73C729.19,-94.97 723.52,-85.7 718.14,-76.91\"/>\n",
       "<polygon fill=\"black\" stroke=\"black\" points=\"721.08,-75 712.88,-68.3 715.11,-78.66 721.08,-75\"/>\n",
       "</g>\n",
       "<!-- 15 -->\n",
       "<g id=\"node16\" class=\"node\">\n",
       "<title>15</title>\n",
       "<path fill=\"#e58139\" stroke=\"black\" d=\"M871,-68C871,-68 780,-68 780,-68 774,-68 768,-62 768,-56 768,-56 768,-12 768,-12 768,-6 774,0 780,0 780,0 871,0 871,0 877,0 883,-6 883,-12 883,-12 883,-56 883,-56 883,-62 877,-68 871,-68\"/>\n",
       "<text text-anchor=\"start\" x=\"796.5\" y=\"-52.8\" font-family=\"Helvetica,sans-Serif\" font-size=\"14.00\">gini = 0.0</text>\n",
       "<text text-anchor=\"start\" x=\"786\" y=\"-37.8\" font-family=\"Helvetica,sans-Serif\" font-size=\"14.00\">samples = 2</text>\n",
       "<text text-anchor=\"start\" x=\"777\" y=\"-22.8\" font-family=\"Helvetica,sans-Serif\" font-size=\"14.00\">value = [2, 0, 0]</text>\n",
       "<text text-anchor=\"start\" x=\"776\" y=\"-7.8\" font-family=\"Helvetica,sans-Serif\" font-size=\"14.00\">class = class_0</text>\n",
       "</g>\n",
       "<!-- 13&#45;&gt;15 -->\n",
       "<g id=\"edge15\" class=\"edge\">\n",
       "<title>13&#45;&gt;15</title>\n",
       "<path fill=\"none\" stroke=\"black\" d=\"M784.08,-103.73C789.35,-94.97 794.94,-85.7 800.24,-76.91\"/>\n",
       "<polygon fill=\"black\" stroke=\"black\" points=\"803.26,-78.67 805.43,-68.3 797.27,-75.06 803.26,-78.67\"/>\n",
       "</g>\n",
       "<!-- 17 -->\n",
       "<g id=\"node18\" class=\"node\">\n",
       "<title>17</title>\n",
       "<path fill=\"#ab7bee\" stroke=\"black\" d=\"M870.5,-425C870.5,-425 758.5,-425 758.5,-425 752.5,-425 746.5,-419 746.5,-413 746.5,-413 746.5,-354 746.5,-354 746.5,-348 752.5,-342 758.5,-342 758.5,-342 870.5,-342 870.5,-342 876.5,-342 882.5,-348 882.5,-354 882.5,-354 882.5,-413 882.5,-413 882.5,-419 876.5,-425 870.5,-425\"/>\n",
       "<text text-anchor=\"start\" x=\"754.5\" y=\"-409.8\" font-family=\"Helvetica,sans-Serif\" font-size=\"14.00\">malic_acid ≤ 2.085</text>\n",
       "<text text-anchor=\"start\" x=\"777\" y=\"-394.8\" font-family=\"Helvetica,sans-Serif\" font-size=\"14.00\">gini = 0.375</text>\n",
       "<text text-anchor=\"start\" x=\"775\" y=\"-379.8\" font-family=\"Helvetica,sans-Serif\" font-size=\"14.00\">samples = 8</text>\n",
       "<text text-anchor=\"start\" x=\"766\" y=\"-364.8\" font-family=\"Helvetica,sans-Serif\" font-size=\"14.00\">value = [0, 2, 6]</text>\n",
       "<text text-anchor=\"start\" x=\"765\" y=\"-349.8\" font-family=\"Helvetica,sans-Serif\" font-size=\"14.00\">class = class_2</text>\n",
       "</g>\n",
       "<!-- 16&#45;&gt;17 -->\n",
       "<g id=\"edge17\" class=\"edge\">\n",
       "<title>16&#45;&gt;17</title>\n",
       "<path fill=\"none\" stroke=\"black\" d=\"M814.5,-460.91C814.5,-452.65 814.5,-443.86 814.5,-435.3\"/>\n",
       "<polygon fill=\"black\" stroke=\"black\" points=\"818,-435.02 814.5,-425.02 811,-435.02 818,-435.02\"/>\n",
       "</g>\n",
       "<!-- 20 -->\n",
       "<g id=\"node21\" class=\"node\">\n",
       "<title>20</title>\n",
       "<path fill=\"#e68540\" stroke=\"black\" d=\"M1086.5,-425C1086.5,-425 968.5,-425 968.5,-425 962.5,-425 956.5,-419 956.5,-413 956.5,-413 956.5,-354 956.5,-354 956.5,-348 962.5,-342 968.5,-342 968.5,-342 1086.5,-342 1086.5,-342 1092.5,-342 1098.5,-348 1098.5,-354 1098.5,-354 1098.5,-413 1098.5,-413 1098.5,-419 1092.5,-425 1086.5,-425\"/>\n",
       "<text text-anchor=\"start\" x=\"964.5\" y=\"-409.8\" font-family=\"Helvetica,sans-Serif\" font-size=\"14.00\">magnesium ≤ 135.5</text>\n",
       "<text text-anchor=\"start\" x=\"990\" y=\"-394.8\" font-family=\"Helvetica,sans-Serif\" font-size=\"14.00\">gini = 0.065</text>\n",
       "<text text-anchor=\"start\" x=\"984\" y=\"-379.8\" font-family=\"Helvetica,sans-Serif\" font-size=\"14.00\">samples = 59</text>\n",
       "<text text-anchor=\"start\" x=\"975\" y=\"-364.8\" font-family=\"Helvetica,sans-Serif\" font-size=\"14.00\">value = [57, 2, 0]</text>\n",
       "<text text-anchor=\"start\" x=\"978\" y=\"-349.8\" font-family=\"Helvetica,sans-Serif\" font-size=\"14.00\">class = class_0</text>\n",
       "</g>\n",
       "<!-- 16&#45;&gt;20 -->\n",
       "<g id=\"edge20\" class=\"edge\">\n",
       "<title>16&#45;&gt;20</title>\n",
       "<path fill=\"none\" stroke=\"black\" d=\"M880.73,-465.12C901.76,-453.57 925.26,-440.66 947.18,-428.62\"/>\n",
       "<polygon fill=\"black\" stroke=\"black\" points=\"949.06,-431.58 956.14,-423.7 945.69,-425.45 949.06,-431.58\"/>\n",
       "</g>\n",
       "<!-- 18 -->\n",
       "<g id=\"node19\" class=\"node\">\n",
       "<title>18</title>\n",
       "<path fill=\"#39e581\" stroke=\"black\" d=\"M804,-298.5C804,-298.5 713,-298.5 713,-298.5 707,-298.5 701,-292.5 701,-286.5 701,-286.5 701,-242.5 701,-242.5 701,-236.5 707,-230.5 713,-230.5 713,-230.5 804,-230.5 804,-230.5 810,-230.5 816,-236.5 816,-242.5 816,-242.5 816,-286.5 816,-286.5 816,-292.5 810,-298.5 804,-298.5\"/>\n",
       "<text text-anchor=\"start\" x=\"729.5\" y=\"-283.3\" font-family=\"Helvetica,sans-Serif\" font-size=\"14.00\">gini = 0.0</text>\n",
       "<text text-anchor=\"start\" x=\"719\" y=\"-268.3\" font-family=\"Helvetica,sans-Serif\" font-size=\"14.00\">samples = 2</text>\n",
       "<text text-anchor=\"start\" x=\"710\" y=\"-253.3\" font-family=\"Helvetica,sans-Serif\" font-size=\"14.00\">value = [0, 2, 0]</text>\n",
       "<text text-anchor=\"start\" x=\"709\" y=\"-238.3\" font-family=\"Helvetica,sans-Serif\" font-size=\"14.00\">class = class_1</text>\n",
       "</g>\n",
       "<!-- 17&#45;&gt;18 -->\n",
       "<g id=\"edge18\" class=\"edge\">\n",
       "<title>17&#45;&gt;18</title>\n",
       "<path fill=\"none\" stroke=\"black\" d=\"M795.07,-341.91C789.79,-330.87 784.06,-318.9 778.73,-307.77\"/>\n",
       "<polygon fill=\"black\" stroke=\"black\" points=\"781.85,-306.18 774.37,-298.67 775.54,-309.2 781.85,-306.18\"/>\n",
       "</g>\n",
       "<!-- 19 -->\n",
       "<g id=\"node20\" class=\"node\">\n",
       "<title>19</title>\n",
       "<path fill=\"#8139e5\" stroke=\"black\" d=\"M937,-298.5C937,-298.5 846,-298.5 846,-298.5 840,-298.5 834,-292.5 834,-286.5 834,-286.5 834,-242.5 834,-242.5 834,-236.5 840,-230.5 846,-230.5 846,-230.5 937,-230.5 937,-230.5 943,-230.5 949,-236.5 949,-242.5 949,-242.5 949,-286.5 949,-286.5 949,-292.5 943,-298.5 937,-298.5\"/>\n",
       "<text text-anchor=\"start\" x=\"862.5\" y=\"-283.3\" font-family=\"Helvetica,sans-Serif\" font-size=\"14.00\">gini = 0.0</text>\n",
       "<text text-anchor=\"start\" x=\"852\" y=\"-268.3\" font-family=\"Helvetica,sans-Serif\" font-size=\"14.00\">samples = 6</text>\n",
       "<text text-anchor=\"start\" x=\"843\" y=\"-253.3\" font-family=\"Helvetica,sans-Serif\" font-size=\"14.00\">value = [0, 0, 6]</text>\n",
       "<text text-anchor=\"start\" x=\"842\" y=\"-238.3\" font-family=\"Helvetica,sans-Serif\" font-size=\"14.00\">class = class_2</text>\n",
       "</g>\n",
       "<!-- 17&#45;&gt;19 -->\n",
       "<g id=\"edge19\" class=\"edge\">\n",
       "<title>17&#45;&gt;19</title>\n",
       "<path fill=\"none\" stroke=\"black\" d=\"M841.21,-341.91C848.62,-330.65 856.67,-318.42 864.12,-307.11\"/>\n",
       "<polygon fill=\"black\" stroke=\"black\" points=\"867.1,-308.94 869.67,-298.67 861.25,-305.1 867.1,-308.94\"/>\n",
       "</g>\n",
       "<!-- 21 -->\n",
       "<g id=\"node22\" class=\"node\">\n",
       "<title>21</title>\n",
       "<path fill=\"#e58139\" stroke=\"black\" d=\"M1076,-298.5C1076,-298.5 979,-298.5 979,-298.5 973,-298.5 967,-292.5 967,-286.5 967,-286.5 967,-242.5 967,-242.5 967,-236.5 973,-230.5 979,-230.5 979,-230.5 1076,-230.5 1076,-230.5 1082,-230.5 1088,-236.5 1088,-242.5 1088,-242.5 1088,-286.5 1088,-286.5 1088,-292.5 1082,-298.5 1076,-298.5\"/>\n",
       "<text text-anchor=\"start\" x=\"998.5\" y=\"-283.3\" font-family=\"Helvetica,sans-Serif\" font-size=\"14.00\">gini = 0.0</text>\n",
       "<text text-anchor=\"start\" x=\"984\" y=\"-268.3\" font-family=\"Helvetica,sans-Serif\" font-size=\"14.00\">samples = 57</text>\n",
       "<text text-anchor=\"start\" x=\"975\" y=\"-253.3\" font-family=\"Helvetica,sans-Serif\" font-size=\"14.00\">value = [57, 0, 0]</text>\n",
       "<text text-anchor=\"start\" x=\"978\" y=\"-238.3\" font-family=\"Helvetica,sans-Serif\" font-size=\"14.00\">class = class_0</text>\n",
       "</g>\n",
       "<!-- 20&#45;&gt;21 -->\n",
       "<g id=\"edge21\" class=\"edge\">\n",
       "<title>20&#45;&gt;21</title>\n",
       "<path fill=\"none\" stroke=\"black\" d=\"M1027.5,-341.91C1027.5,-331.2 1027.5,-319.62 1027.5,-308.78\"/>\n",
       "<polygon fill=\"black\" stroke=\"black\" points=\"1031,-308.67 1027.5,-298.67 1024,-308.67 1031,-308.67\"/>\n",
       "</g>\n",
       "<!-- 22 -->\n",
       "<g id=\"node23\" class=\"node\">\n",
       "<title>22</title>\n",
       "<path fill=\"#39e581\" stroke=\"black\" d=\"M1209,-298.5C1209,-298.5 1118,-298.5 1118,-298.5 1112,-298.5 1106,-292.5 1106,-286.5 1106,-286.5 1106,-242.5 1106,-242.5 1106,-236.5 1112,-230.5 1118,-230.5 1118,-230.5 1209,-230.5 1209,-230.5 1215,-230.5 1221,-236.5 1221,-242.5 1221,-242.5 1221,-286.5 1221,-286.5 1221,-292.5 1215,-298.5 1209,-298.5\"/>\n",
       "<text text-anchor=\"start\" x=\"1134.5\" y=\"-283.3\" font-family=\"Helvetica,sans-Serif\" font-size=\"14.00\">gini = 0.0</text>\n",
       "<text text-anchor=\"start\" x=\"1124\" y=\"-268.3\" font-family=\"Helvetica,sans-Serif\" font-size=\"14.00\">samples = 2</text>\n",
       "<text text-anchor=\"start\" x=\"1115\" y=\"-253.3\" font-family=\"Helvetica,sans-Serif\" font-size=\"14.00\">value = [0, 2, 0]</text>\n",
       "<text text-anchor=\"start\" x=\"1114\" y=\"-238.3\" font-family=\"Helvetica,sans-Serif\" font-size=\"14.00\">class = class_1</text>\n",
       "</g>\n",
       "<!-- 20&#45;&gt;22 -->\n",
       "<g id=\"edge22\" class=\"edge\">\n",
       "<title>20&#45;&gt;22</title>\n",
       "<path fill=\"none\" stroke=\"black\" d=\"M1074.68,-341.91C1088.41,-330.1 1103.39,-317.22 1117.06,-305.45\"/>\n",
       "<polygon fill=\"black\" stroke=\"black\" points=\"1119.65,-307.84 1124.95,-298.67 1115.08,-302.54 1119.65,-307.84\"/>\n",
       "</g>\n",
       "</g>\n",
       "</svg>\n"
      ],
      "text/plain": [
       "<graphviz.sources.Source at 0x239108e8940>"
      ]
     },
     "execution_count": 10,
     "metadata": {},
     "output_type": "execute_result"
    }
   ],
   "source": [
    "import graphviz\n",
    "import pydotplus\n",
    "from sklearn.tree import export_graphviz\n",
    "\n",
    "#image_path='C:/Users/lynst/Documents/GitHub/machine-learning-projects/machine-learning/wine_tree.dot'\n",
    "\n",
    "dot_data = tree.export_graphviz(dtc, \n",
    "                        out_file=None,\n",
    "                        feature_names=wine.feature_names,\n",
    "                        class_names=wine.target_names,\n",
    "                        rounded=True,\n",
    "                        special_characters=True,\n",
    "                        filled=True\n",
    "                       )\n",
    "\n",
    "graph = pydotplus.graph_from_dot_data(dot_data)\n",
    "graph.write_png('original_tree.png')\n",
    "graph.set_size('\"5,5!\"')\n",
    "graph.write_png('resized_tree.png')\n",
    "\n",
    "\n",
    "graph = graphviz.Source(dot_data)\n",
    "graph"
   ]
  },
  {
   "cell_type": "markdown",
   "metadata": {},
   "source": [
    "Converting the dot file to a png file requires a stand-alone installation of graphviz, or a pip installation."
   ]
  },
  {
   "cell_type": "code",
   "execution_count": 11,
   "metadata": {},
   "outputs": [],
   "source": [
    "!dot -Tpng wine_tree.dot -o wine_tree.png"
   ]
  },
  {
   "cell_type": "markdown",
   "metadata": {},
   "source": [
    "Next in order to try and predict unseen target data based on the labels already used, I can categorize ranked estimates for the quality of wine using a four stage model. Splitting the data first into training and test sets, fitting the DecisionTreeClassifier to the training set and using it to predict the test set so I can make estimates."
   ]
  },
  {
   "cell_type": "code",
   "execution_count": 12,
   "metadata": {},
   "outputs": [
    {
     "data": {
      "text/plain": [
       "array([0, 2, 0, 0, 1, 0, 0, 2, 1, 1, 2, 2, 0, 0, 2, 1, 0, 0, 2, 0, 0, 0,\n",
       "       0, 1, 1, 1, 0, 1, 1, 2, 0, 0, 1, 0, 0, 0, 2, 1, 1, 2, 1, 0, 1, 1,\n",
       "       1])"
      ]
     },
     "execution_count": 12,
     "metadata": {},
     "output_type": "execute_result"
    }
   ],
   "source": [
    "# Splitting the data into train and test sets\n",
    "X_train, X_test, Y_train, Y_test = train_test_split(df[wine.feature_names], df['quality'], random_state=0)\n",
    "\n",
    "# Initiate a 4 step modeling pattern\n",
    "# Step 1: import the model to use\n",
    "from sklearn.tree import DecisionTreeClassifier\n",
    "\n",
    "# Step 2: Make an instance of the Model\n",
    "dtc = DecisionTreeClassifier(max_depth = 2, random_state = 0)\n",
    "\n",
    "# Step 3: Train the model on the data\n",
    "dtc.fit(X_train, Y_train)\n",
    "\n",
    "# Step 4: Predict labels of unseen (test) data\n",
    "dtc.predict(X_test)"
   ]
  },
  {
   "cell_type": "markdown",
   "metadata": {},
   "source": [
    "The total number of entries in the 'wine' dataset:"
   ]
  },
  {
   "cell_type": "code",
   "execution_count": 14,
   "metadata": {},
   "outputs": [
    {
     "data": {
      "text/plain": [
       "alcohol                         178\n",
       "malic_acid                      178\n",
       "ash                             178\n",
       "alcalinity_of_ash               178\n",
       "magnesium                       178\n",
       "total_phenols                   178\n",
       "flavanoids                      178\n",
       "nonflavanoid_phenols            178\n",
       "proanthocyanins                 178\n",
       "color_intensity                 178\n",
       "hue                             178\n",
       "od280/od315_of_diluted_wines    178\n",
       "proline                         178\n",
       "quality                         178\n",
       "dtype: int64"
      ]
     },
     "execution_count": 14,
     "metadata": {},
     "output_type": "execute_result"
    }
   ],
   "source": [
    "df.count()"
   ]
  },
  {
   "cell_type": "markdown",
   "metadata": {},
   "source": [
    "Finding the size of the training set for the features and targets first. Note there are thirteen features in each and one target column: "
   ]
  },
  {
   "cell_type": "code",
   "execution_count": 15,
   "metadata": {},
   "outputs": [
    {
     "name": "stdout",
     "output_type": "stream",
     "text": [
      "(133, 13)\n",
      "(133,)\n"
     ]
    }
   ],
   "source": [
    "print(X_train.shape)\n",
    "print(Y_train.shape)"
   ]
  },
  {
   "cell_type": "markdown",
   "metadata": {},
   "source": [
    "And the size of the test set for the features and targets:"
   ]
  },
  {
   "cell_type": "code",
   "execution_count": 16,
   "metadata": {},
   "outputs": [
    {
     "name": "stdout",
     "output_type": "stream",
     "text": [
      "(45, 13)\n",
      "(45,)\n"
     ]
    }
   ],
   "source": [
    "print(X_test.shape)\n",
    "print(Y_test.shape)"
   ]
  },
  {
   "cell_type": "markdown",
   "metadata": {},
   "source": [
    "The action of using the predict function provides 45 estimates (25%) for the test set values based on the training data (75%). Let's see if there's any improvement if I were to change the train-test-split test size to 0.2, or 20%."
   ]
  },
  {
   "cell_type": "markdown",
   "metadata": {},
   "source": [
    "#Decision Tree Model Selection\n",
    "The following example will continue with the price prediction theme for Bitcoin crypto-currency with relatively fewer features than the classification example. Next, it's time to apply a Decision Tree Regression model to the entire dataset before seeking further improvement in prediction accuracy and lowering variance."
   ]
  },
  {
   "cell_type": "code",
   "execution_count": null,
   "metadata": {},
   "outputs": [],
   "source": [
    "from sklearn.linear_model import LinearRegression\n",
    "from sklearn.tree import DecisionTreeRegressor\n",
    "from sklearn.metrics import mean_squared_error\n",
    "from sklearn.metrics import r2_score\n",
    "import numpy as np\n",
    "import pandas as pd\n",
    "\n",
    "# select data for modeling\n",
    "bitcoin = pd.read_csv(\"C:/Users/lynst/Documents/GitHub/machine-learning-projects/machine-learning/BTC_CAD.csv\")\n",
    "\n",
    "#load data into dataframe\n",
    "df = pd.DataFrame(bitcoin).dropna(axis=0)\n",
    "# select features and target data\n",
    "X = df[[\"Open\", \"High\", \"Low\", \"Volume\"]]\n",
    "y = df[\"Close\"]"
   ]
  },
  {
   "cell_type": "markdown",
   "metadata": {},
   "source": [
    "## Split the Dataset into Train and Test Subsets"
   ]
  },
  {
   "cell_type": "code",
   "execution_count": null,
   "metadata": {},
   "outputs": [],
   "source": [
    "# split data into train and test\n",
    "from sklearn.model_selection import train_test_split\n",
    "\n",
    "X_train, X_test, y_train, y_test = train_test_split(X, y, test_size = 0.3, random_state = 0)\n",
    "print(X_train.shape)\n",
    "print(y_train.shape)\n",
    "print(X_test.shape)\n",
    "print(y_test.shape)"
   ]
  },
  {
   "cell_type": "code",
   "execution_count": null,
   "metadata": {},
   "outputs": [],
   "source": [
    "# train and fit the decision tree model\n",
    "tree_reg = DecisionTreeRegressor()\n",
    "tree_reg.fit(X_train, y_train)"
   ]
  },
  {
   "cell_type": "code",
   "execution_count": null,
   "metadata": {},
   "outputs": [],
   "source": [
    "# predict\n",
    "y_pred = tree_reg.predict(X_train)"
   ]
  },
  {
   "cell_type": "markdown",
   "metadata": {},
   "source": [
    "Now trying a prediction on the working linear model (first 5 values):"
   ]
  },
  {
   "cell_type": "code",
   "execution_count": null,
   "metadata": {},
   "outputs": [],
   "source": [
    "print(y_pred[:5])"
   ]
  },
  {
   "cell_type": "markdown",
   "metadata": {},
   "source": [
    "Measuring the RMSE and r-squared score for the linear model (based on training set):"
   ]
  },
  {
   "cell_type": "code",
   "execution_count": null,
   "metadata": {},
   "outputs": [],
   "source": [
    "y_pred = tree_reg.predict(X_train)\n",
    "lin_mse = mean_squared_error(y_train, y_pred)\n",
    "lin_rmse = np.sqrt(lin_mse)\n",
    "print(lin_rmse)\n",
    "    \n",
    "r2_train = r2_score(y_train, y_pred)\n",
    "print(r2_train)"
   ]
  },
  {
   "cell_type": "markdown",
   "metadata": {},
   "source": [
    "This definitely appears to be overfitting with perfect scores for both RMSE and r-squared. Let's see if there is a different outcome for the test data."
   ]
  },
  {
   "cell_type": "code",
   "execution_count": null,
   "metadata": {},
   "outputs": [],
   "source": [
    "y_pred = tree_reg.predict(X_test)\n",
    "lin_mse = mean_squared_error(y_test, y_pred)\n",
    "lin_rmse = np.sqrt(lin_mse)\n",
    "print(lin_rmse)\n",
    "    \n",
    "r2_test = r2_score(y_test, y_pred)\n",
    "print(r2_test)"
   ]
  },
  {
   "cell_type": "markdown",
   "metadata": {},
   "source": [
    "This appears unlikely also. In order to establish a more likely outcome I will try dividing the dataframe into several smaller training and validation sets and perform the decision tree analysis on each. This is done using K-Fold Cross Validation.\n",
    "\n",
    "## Cross Validation\n",
    "This method will evaluate the Decsion Tree model by splitting the training set into several smaller training and validation sets for training and evaluation separately. This is achieved by using the K-fold cross validation technique and I have split the data into 10 separate folds, cv=10 (which can be changed)."
   ]
  },
  {
   "cell_type": "code",
   "execution_count": null,
   "metadata": {},
   "outputs": [],
   "source": [
    "from sklearn.model_selection import cross_val_score\n",
    "\n",
    "scores = cross_val_score(tree_reg, X_train, y_train, scoring=\"neg_mean_squared_error\", cv=10)\n",
    "tree_rmse_scores = np.sqrt(-scores)\n",
    "r2_test = r2_score(y_test, y_pred)\n",
    "                         \n",
    "def display_scores(scores):\n",
    "    print(\"Scores:\", scores)\n",
    "    print(\"Mean\", scores.mean())\n",
    "    print(\"Standard Deviation\", scores.std())\n",
    "    print(\"R-Squared:\", r2_test)\n",
    "          \n",
    "display_scores(tree_rmse_scores)"
   ]
  },
  {
   "cell_type": "markdown",
   "metadata": {},
   "source": [
    "Comparing the scores from cross validation to those from the linear regression model:"
   ]
  },
  {
   "cell_type": "code",
   "execution_count": null,
   "metadata": {},
   "outputs": [],
   "source": [
    "# instantiate model\n",
    "lin_reg = LinearRegression()\n",
    "\n",
    "# fit model\n",
    "lin_reg.fit(X_train, y_train)\n",
    "\n",
    "lin_scores = cross_val_score(lin_reg, X_train, y_train, scoring=\"neg_mean_squared_error\", cv=10)\n",
    "lin_rmse_scores = np.sqrt(-lin_scores)\n",
    "display_scores(lin_rmse_scores)"
   ]
  },
  {
   "cell_type": "markdown",
   "metadata": {},
   "source": [
    "# Evaluation\n",
    "The linear regression model appears to reduce the Standard Error but the accuracy for the estimates is the same."
   ]
  },
  {
   "cell_type": "code",
   "execution_count": null,
   "metadata": {},
   "outputs": [],
   "source": [
    "# pickle file to go here"
   ]
  },
  {
   "cell_type": "markdown",
   "metadata": {},
   "source": [
    "# Print Dependencies\n",
    "Dependences are fundamental to record the **computational environment**.   \n",
    "\n",
    "- Use [watermark](https://github.com/rasbt/watermark) to print version of python, ipython, and packages, and characteristics of the computer"
   ]
  },
  {
   "cell_type": "code",
   "execution_count": null,
   "metadata": {},
   "outputs": [],
   "source": [
    "%load_ext watermark\n",
    "\n",
    "# python, ipython, packages, and machine characteristics\n",
    "%watermark -v -m -p wget,pandas,numpy,watermark,tarfile,urllib3,matplotlib,seaborn,sklearn \n",
    "\n",
    "# date\n",
    "print (\" \")\n",
    "%watermark -u -n -t -z "
   ]
  },
  {
   "cell_type": "code",
   "execution_count": null,
   "metadata": {},
   "outputs": [],
   "source": []
  }
 ],
 "metadata": {
  "kernelspec": {
   "display_name": "Python 3 (ipykernel)",
   "language": "python",
   "name": "python3"
  },
  "language_info": {
   "codemirror_mode": {
    "name": "ipython",
    "version": 3
   },
   "file_extension": ".py",
   "mimetype": "text/x-python",
   "name": "python",
   "nbconvert_exporter": "python",
   "pygments_lexer": "ipython3",
   "version": "3.9.4"
  }
 },
 "nbformat": 4,
 "nbformat_minor": 4
}
