{
 "cells": [
  {
   "cell_type": "markdown",
   "metadata": {},
   "source": [
    "# Decision Tree Models\n",
    "The Decision Tree model can be used to discover complex linear relationships between variables for either prediction, binary classification or multi-output classification. In the first example of a decision tree algorithm, I have opted to examine a commonly used dataset which is freely available in Sci-kit Learn. The following example will continue with the 'price prediction' theme with relatively few features.\n",
    "\n",
    "The first step involves importing the relevant packages and the Iris dataset."
   ]
  },
  {
   "cell_type": "code",
   "execution_count": 1,
   "metadata": {},
   "outputs": [],
   "source": [
    "%matplotlib inline"
   ]
  },
  {
   "cell_type": "code",
   "execution_count": 7,
   "metadata": {},
   "outputs": [
    {
     "data": {
      "text/html": [
       "<div>\n",
       "<style scoped>\n",
       "    .dataframe tbody tr th:only-of-type {\n",
       "        vertical-align: middle;\n",
       "    }\n",
       "\n",
       "    .dataframe tbody tr th {\n",
       "        vertical-align: top;\n",
       "    }\n",
       "\n",
       "    .dataframe thead th {\n",
       "        text-align: right;\n",
       "    }\n",
       "</style>\n",
       "<table border=\"1\" class=\"dataframe\">\n",
       "  <thead>\n",
       "    <tr style=\"text-align: right;\">\n",
       "      <th></th>\n",
       "      <th>alcohol</th>\n",
       "      <th>malic_acid</th>\n",
       "      <th>ash</th>\n",
       "      <th>alcalinity_of_ash</th>\n",
       "      <th>magnesium</th>\n",
       "      <th>total_phenols</th>\n",
       "      <th>flavanoids</th>\n",
       "      <th>nonflavanoid_phenols</th>\n",
       "      <th>proanthocyanins</th>\n",
       "      <th>color_intensity</th>\n",
       "      <th>hue</th>\n",
       "      <th>od280/od315_of_diluted_wines</th>\n",
       "      <th>proline</th>\n",
       "      <th>quality</th>\n",
       "    </tr>\n",
       "  </thead>\n",
       "  <tbody>\n",
       "    <tr>\n",
       "      <th>0</th>\n",
       "      <td>14.23</td>\n",
       "      <td>1.71</td>\n",
       "      <td>2.43</td>\n",
       "      <td>15.6</td>\n",
       "      <td>127.0</td>\n",
       "      <td>2.80</td>\n",
       "      <td>3.06</td>\n",
       "      <td>0.28</td>\n",
       "      <td>2.29</td>\n",
       "      <td>5.64</td>\n",
       "      <td>1.04</td>\n",
       "      <td>3.92</td>\n",
       "      <td>1065.0</td>\n",
       "      <td>0</td>\n",
       "    </tr>\n",
       "    <tr>\n",
       "      <th>1</th>\n",
       "      <td>13.20</td>\n",
       "      <td>1.78</td>\n",
       "      <td>2.14</td>\n",
       "      <td>11.2</td>\n",
       "      <td>100.0</td>\n",
       "      <td>2.65</td>\n",
       "      <td>2.76</td>\n",
       "      <td>0.26</td>\n",
       "      <td>1.28</td>\n",
       "      <td>4.38</td>\n",
       "      <td>1.05</td>\n",
       "      <td>3.40</td>\n",
       "      <td>1050.0</td>\n",
       "      <td>0</td>\n",
       "    </tr>\n",
       "    <tr>\n",
       "      <th>2</th>\n",
       "      <td>13.16</td>\n",
       "      <td>2.36</td>\n",
       "      <td>2.67</td>\n",
       "      <td>18.6</td>\n",
       "      <td>101.0</td>\n",
       "      <td>2.80</td>\n",
       "      <td>3.24</td>\n",
       "      <td>0.30</td>\n",
       "      <td>2.81</td>\n",
       "      <td>5.68</td>\n",
       "      <td>1.03</td>\n",
       "      <td>3.17</td>\n",
       "      <td>1185.0</td>\n",
       "      <td>0</td>\n",
       "    </tr>\n",
       "    <tr>\n",
       "      <th>3</th>\n",
       "      <td>14.37</td>\n",
       "      <td>1.95</td>\n",
       "      <td>2.50</td>\n",
       "      <td>16.8</td>\n",
       "      <td>113.0</td>\n",
       "      <td>3.85</td>\n",
       "      <td>3.49</td>\n",
       "      <td>0.24</td>\n",
       "      <td>2.18</td>\n",
       "      <td>7.80</td>\n",
       "      <td>0.86</td>\n",
       "      <td>3.45</td>\n",
       "      <td>1480.0</td>\n",
       "      <td>0</td>\n",
       "    </tr>\n",
       "    <tr>\n",
       "      <th>4</th>\n",
       "      <td>13.24</td>\n",
       "      <td>2.59</td>\n",
       "      <td>2.87</td>\n",
       "      <td>21.0</td>\n",
       "      <td>118.0</td>\n",
       "      <td>2.80</td>\n",
       "      <td>2.69</td>\n",
       "      <td>0.39</td>\n",
       "      <td>1.82</td>\n",
       "      <td>4.32</td>\n",
       "      <td>1.04</td>\n",
       "      <td>2.93</td>\n",
       "      <td>735.0</td>\n",
       "      <td>0</td>\n",
       "    </tr>\n",
       "  </tbody>\n",
       "</table>\n",
       "</div>"
      ],
      "text/plain": [
       "   alcohol  malic_acid   ash  alcalinity_of_ash  magnesium  total_phenols  \\\n",
       "0    14.23        1.71  2.43               15.6      127.0           2.80   \n",
       "1    13.20        1.78  2.14               11.2      100.0           2.65   \n",
       "2    13.16        2.36  2.67               18.6      101.0           2.80   \n",
       "3    14.37        1.95  2.50               16.8      113.0           3.85   \n",
       "4    13.24        2.59  2.87               21.0      118.0           2.80   \n",
       "\n",
       "   flavanoids  nonflavanoid_phenols  proanthocyanins  color_intensity   hue  \\\n",
       "0        3.06                  0.28             2.29             5.64  1.04   \n",
       "1        2.76                  0.26             1.28             4.38  1.05   \n",
       "2        3.24                  0.30             2.81             5.68  1.03   \n",
       "3        3.49                  0.24             2.18             7.80  0.86   \n",
       "4        2.69                  0.39             1.82             4.32  1.04   \n",
       "\n",
       "   od280/od315_of_diluted_wines  proline  quality  \n",
       "0                          3.92   1065.0        0  \n",
       "1                          3.40   1050.0        0  \n",
       "2                          3.17   1185.0        0  \n",
       "3                          3.45   1480.0        0  \n",
       "4                          2.93    735.0        0  "
      ]
     },
     "execution_count": 7,
     "metadata": {},
     "output_type": "execute_result"
    }
   ],
   "source": [
    "import matplotlib.pyplot as plt\n",
    "from sklearn.datasets import load_wine\n",
    "from sklearn.tree import DecisionTreeClassifier\n",
    "from sklearn.model_selection import train_test_split\n",
    "import pandas as pd\n",
    "import numpy as np\n",
    "from sklearn import tree\n",
    "\n",
    "wine = load_wine()\n",
    "df = pd.DataFrame(wine.data, columns=wine.feature_names)\n",
    "df['quality'] = wine.target\n",
    "\n",
    "df.head()"
   ]
  },
  {
   "cell_type": "markdown",
   "metadata": {},
   "source": [
    "Creating this table will help me decide which features to use for the Root Node position for the Decision Tree. Switching out different features in this position can have First I have decided to copy it as a csv file."
   ]
  },
  {
   "cell_type": "code",
   "execution_count": 8,
   "metadata": {},
   "outputs": [],
   "source": [
    "df.to_csv(r'C:/Users/lynst/Documents/GitHub/machine-learning-projects/machine-learning/load_wine.csv')"
   ]
  },
  {
   "cell_type": "code",
   "execution_count": 9,
   "metadata": {},
   "outputs": [],
   "source": [
    "from sklearn import tree\n",
    "from sklearn.datasets import load_wine\n",
    "\n",
    "wine = load_wine()\n",
    "X = wine.data[:, 0:12]\n",
    "y = wine.target\n",
    "\n",
    "dtc = tree.DecisionTreeClassifier(max_depth=None)\n",
    "dtc = dtc.fit(X, y)"
   ]
  },
  {
   "cell_type": "markdown",
   "metadata": {},
   "source": [
    "Using the plot_tree() method within the DecisionTreeClassifier model and setting the 'filled' attribute to 'True' will color the tree nodes explaining the majority class at each decision point in the tree.\n",
    "\n",
    "One important idea to note is that the root node which appears at the very top of each decision tree can be changed in order to arrive at the lowest Gini Impurity calculation. This is done to compare outcomes based on causation associated with different features and the goal is to reduce the Gini Impurity value to that with the lowest impurity, in this case separating the 'Good' and 'Bad' quality wines in the best possible way."
   ]
  },
  {
   "cell_type": "code",
   "execution_count": 10,
   "metadata": {},
   "outputs": [
    {
     "data": {
      "text/plain": [
       "[Text(167.4, 199.32, 'X[9] <= 3.82\\ngini = 0.658\\nsamples = 178\\nvalue = [59, 71, 48]'),\n",
       " Text(111.6, 163.07999999999998, 'X[11] <= 3.73\\ngini = 0.117\\nsamples = 64\\nvalue = [4, 60, 0]'),\n",
       " Text(89.28, 126.83999999999999, 'X[2] <= 3.07\\ngini = 0.062\\nsamples = 62\\nvalue = [2, 60, 0]'),\n",
       " Text(66.96000000000001, 90.6, 'X[3] <= 15.75\\ngini = 0.032\\nsamples = 61\\nvalue = [1, 60, 0]'),\n",
       " Text(44.64, 54.359999999999985, 'X[5] <= 2.19\\ngini = 0.444\\nsamples = 3\\nvalue = [1, 2, 0]'),\n",
       " Text(22.32, 18.119999999999976, 'gini = 0.0\\nsamples = 2\\nvalue = [0, 2, 0]'),\n",
       " Text(66.96000000000001, 18.119999999999976, 'gini = 0.0\\nsamples = 1\\nvalue = [1, 0, 0]'),\n",
       " Text(89.28, 54.359999999999985, 'gini = 0.0\\nsamples = 58\\nvalue = [0, 58, 0]'),\n",
       " Text(111.6, 90.6, 'gini = 0.0\\nsamples = 1\\nvalue = [1, 0, 0]'),\n",
       " Text(133.92000000000002, 126.83999999999999, 'gini = 0.0\\nsamples = 2\\nvalue = [2, 0, 0]'),\n",
       " Text(223.2, 163.07999999999998, 'X[6] <= 1.58\\ngini = 0.581\\nsamples = 114\\nvalue = [55, 11, 48]'),\n",
       " Text(178.56, 126.83999999999999, 'X[10] <= 0.97\\ngini = 0.04\\nsamples = 49\\nvalue = [0, 1, 48]'),\n",
       " Text(156.24, 90.6, 'gini = 0.0\\nsamples = 48\\nvalue = [0, 0, 48]'),\n",
       " Text(200.88, 90.6, 'gini = 0.0\\nsamples = 1\\nvalue = [0, 1, 0]'),\n",
       " Text(267.84000000000003, 126.83999999999999, 'X[4] <= 88.5\\ngini = 0.26\\nsamples = 65\\nvalue = [55, 10, 0]'),\n",
       " Text(245.52, 90.6, 'gini = 0.0\\nsamples = 8\\nvalue = [0, 8, 0]'),\n",
       " Text(290.16, 90.6, 'X[0] <= 12.61\\ngini = 0.068\\nsamples = 57\\nvalue = [55, 2, 0]'),\n",
       " Text(267.84000000000003, 54.359999999999985, 'gini = 0.0\\nsamples = 2\\nvalue = [0, 2, 0]'),\n",
       " Text(312.48, 54.359999999999985, 'gini = 0.0\\nsamples = 55\\nvalue = [55, 0, 0]')]"
      ]
     },
     "execution_count": 10,
     "metadata": {},
     "output_type": "execute_result"
    },
    {
     "data": {
      "image/png": "[encoded data removed]",
      "text/plain": [
       "<Figure size 432x288 with 1 Axes>"
      ]
     },
     "metadata": {
      "needs_background": "light"
     },
     "output_type": "display_data"
    }
   ],
   "source": [
    "tree.plot_tree(dtc, filled=True)"
   ]
  },
  {
   "cell_type": "markdown",
   "metadata": {},
   "source": [
    "The visualization of this tree plot can be tidied up using matplotlib:"
   ]
  },
  {
   "cell_type": "code",
   "execution_count": 11,
   "metadata": {},
   "outputs": [
    {
     "data": {
      "image/png": "[encoded data removed]",
      "text/plain": [
       "<Figure size 432x288 with 1 Axes>"
      ]
     },
     "metadata": {
      "needs_background": "light"
     },
     "output_type": "display_data"
    }
   ],
   "source": [
    "import matplotlib.pyplot as plt\n",
    "from sklearn.tree import plot_tree\n",
    "\n",
    "plt.figure()\n",
    "dtc = tree.DecisionTreeClassifier().fit(wine.data, wine.target)\n",
    "plot_tree(dtc, filled=True)\n",
    "plt.title(\"Decision Tree Trained on Red Wine Quality Features\\n\\n\")\n",
    "plt.show()"
   ]
  },
  {
   "cell_type": "markdown",
   "metadata": {},
   "source": [
    "Repeating the training process but only displaying the 'max_depth' in the classifier to a value of 2 (a depth of 2 levels from the root node):"
   ]
  },
  {
   "cell_type": "code",
   "execution_count": 12,
   "metadata": {},
   "outputs": [
    {
     "data": {
      "text/plain": [
       "[Text(153.45000000000002, 190.26, 'X[9] <= 3.82\\ngini = 0.658\\nsamples = 178\\nvalue = [59, 71, 48]'),\n",
       " Text(83.7, 135.9, 'X[11] <= 3.73\\ngini = 0.117\\nsamples = 64\\nvalue = [4, 60, 0]'),\n",
       " Text(55.800000000000004, 81.53999999999999, 'X[2] <= 3.07\\ngini = 0.062\\nsamples = 62\\nvalue = [2, 60, 0]'),\n",
       " Text(27.900000000000002, 27.180000000000007, '\\n  (...)  \\n'),\n",
       " Text(83.7, 27.180000000000007, '\\n  (...)  \\n'),\n",
       " Text(111.60000000000001, 81.53999999999999, 'gini = 0.0\\nsamples = 2\\nvalue = [2, 0, 0]'),\n",
       " Text(223.20000000000002, 135.9, 'X[6] <= 1.58\\ngini = 0.581\\nsamples = 114\\nvalue = [55, 11, 48]'),\n",
       " Text(167.4, 81.53999999999999, 'X[2] <= 2.06\\ngini = 0.04\\nsamples = 49\\nvalue = [0, 1, 48]'),\n",
       " Text(139.5, 27.180000000000007, '\\n  (...)  \\n'),\n",
       " Text(195.3, 27.180000000000007, '\\n  (...)  \\n'),\n",
       " Text(279.0, 81.53999999999999, 'X[4] <= 88.5\\ngini = 0.26\\nsamples = 65\\nvalue = [55, 10, 0]'),\n",
       " Text(251.10000000000002, 27.180000000000007, '\\n  (...)  \\n'),\n",
       " Text(306.90000000000003, 27.180000000000007, '\\n  (...)  \\n')]"
      ]
     },
     "execution_count": 12,
     "metadata": {},
     "output_type": "execute_result"
    },
    {
     "data": {
      "image/png": "[encoded data removed]",
      "text/plain": [
       "<Figure size 432x288 with 1 Axes>"
      ]
     },
     "metadata": {
      "needs_background": "light"
     },
     "output_type": "display_data"
    }
   ],
   "source": [
    "from sklearn import tree\n",
    "from sklearn.datasets import load_iris\n",
    "\n",
    "wine = load_wine()\n",
    "X = wine.data[:, 0:12]\n",
    "y = wine.target\n",
    "\n",
    "dtc = tree.DecisionTreeClassifier(max_depth=None)\n",
    "dtc = dtc.fit(X, y)\n",
    "tree.plot_tree(dtc, max_depth=2, filled=True)"
   ]
  },
  {
   "cell_type": "markdown",
   "metadata": {},
   "source": [
    "## Using Graphviz\n",
    "This method can be used as an alternative way to display the decision tree and is derived from the SciKit Learn 'tree' model set. It's worth noting I encountered some issues when installing graphviz using Conda (which took considerable time)."
   ]
  },
  {
   "cell_type": "code",
   "execution_count": null,
   "metadata": {},
   "outputs": [],
   "source": [
    "!conda install python-graphviz"
   ]
  },
  {
   "cell_type": "markdown",
   "metadata": {},
   "source": [
    "I also had to create a separate pip installation to get dot file conversion to png format to work."
   ]
  },
  {
   "cell_type": "code",
   "execution_count": null,
   "metadata": {},
   "outputs": [],
   "source": [
    "!pip install graphviz"
   ]
  },
  {
   "cell_type": "markdown",
   "metadata": {},
   "source": [
    "Next, in order to create a graphviz export tree diagram 'export_graphviz' must be imported first and then a filepath must be established for the 'dot' file. Then I can derive a graphviz object from this path with a few defining attributes."
   ]
  },
  {
   "cell_type": "code",
   "execution_count": 13,
   "metadata": {},
   "outputs": [
    {
     "data": {
      "image/svg+xml": [
       "<?xml version=\"1.0\" encoding=\"UTF-8\" standalone=\"no\"?>\n",
       "<!DOCTYPE svg PUBLIC \"-//W3C//DTD SVG 1.1//EN\"\n",
       " \"http://www.w3.org/Graphics/SVG/1.1/DTD/svg11.dtd\">\n",
       "<!-- Generated by graphviz version 2.50.0 (20211204.2007)\n",
       " -->\n",
       "<!-- Title: Tree Pages: 1 -->\n",
       "<svg width=\"1077pt\" height=\"671pt\"\n",
       " viewBox=\"0.00 0.00 1077.00 671.00\" xmlns=\"http://www.w3.org/2000/svg\" xmlns:xlink=\"http://www.w3.org/1999/xlink\">\n",
       "<g id=\"graph0\" class=\"graph\" transform=\"scale(1 1) rotate(0) translate(4 667)\">\n",
       "<title>Tree</title>\n",
       "<polygon fill=\"white\" stroke=\"transparent\" points=\"-4,4 -4,-667 1073,-667 1073,4 -4,4\"/>\n",
       "<!-- 0 -->\n",
       "<g id=\"node1\" class=\"node\">\n",
       "<title>0</title>\n",
       "<path fill=\"#ebfcf2\" stroke=\"black\" d=\"M635,-663C635,-663 508,-663 508,-663 502,-663 496,-657 496,-651 496,-651 496,-592 496,-592 496,-586 502,-580 508,-580 508,-580 635,-580 635,-580 641,-580 647,-586 647,-592 647,-592 647,-651 647,-651 647,-657 641,-663 635,-663\"/>\n",
       "<text text-anchor=\"start\" x=\"504\" y=\"-647.8\" font-family=\"Helvetica,sans-Serif\" font-size=\"14.00\">color_intensity ≤ 3.82</text>\n",
       "<text text-anchor=\"start\" x=\"534\" y=\"-632.8\" font-family=\"Helvetica,sans-Serif\" font-size=\"14.00\">gini = 0.658</text>\n",
       "<text text-anchor=\"start\" x=\"524\" y=\"-617.8\" font-family=\"Helvetica,sans-Serif\" font-size=\"14.00\">samples = 178</text>\n",
       "<text text-anchor=\"start\" x=\"511\" y=\"-602.8\" font-family=\"Helvetica,sans-Serif\" font-size=\"14.00\">value = [59, 71, 48]</text>\n",
       "<text text-anchor=\"start\" x=\"522\" y=\"-587.8\" font-family=\"Helvetica,sans-Serif\" font-size=\"14.00\">class = class_1</text>\n",
       "</g>\n",
       "<!-- 1 -->\n",
       "<g id=\"node2\" class=\"node\">\n",
       "<title>1</title>\n",
       "<path fill=\"#46e789\" stroke=\"black\" d=\"M581.5,-544C581.5,-544 343.5,-544 343.5,-544 337.5,-544 331.5,-538 331.5,-532 331.5,-532 331.5,-473 331.5,-473 331.5,-467 337.5,-461 343.5,-461 343.5,-461 581.5,-461 581.5,-461 587.5,-461 593.5,-467 593.5,-473 593.5,-473 593.5,-532 593.5,-532 593.5,-538 587.5,-544 581.5,-544\"/>\n",
       "<text text-anchor=\"start\" x=\"339.5\" y=\"-528.8\" font-family=\"Helvetica,sans-Serif\" font-size=\"14.00\">od280/od315_of_diluted_wines ≤ 3.73</text>\n",
       "<text text-anchor=\"start\" x=\"425\" y=\"-513.8\" font-family=\"Helvetica,sans-Serif\" font-size=\"14.00\">gini = 0.117</text>\n",
       "<text text-anchor=\"start\" x=\"419\" y=\"-498.8\" font-family=\"Helvetica,sans-Serif\" font-size=\"14.00\">samples = 64</text>\n",
       "<text text-anchor=\"start\" x=\"410\" y=\"-483.8\" font-family=\"Helvetica,sans-Serif\" font-size=\"14.00\">value = [4, 60, 0]</text>\n",
       "<text text-anchor=\"start\" x=\"413\" y=\"-468.8\" font-family=\"Helvetica,sans-Serif\" font-size=\"14.00\">class = class_1</text>\n",
       "</g>\n",
       "<!-- 0&#45;&gt;1 -->\n",
       "<g id=\"edge1\" class=\"edge\">\n",
       "<title>0&#45;&gt;1</title>\n",
       "<path fill=\"none\" stroke=\"black\" d=\"M533.68,-579.91C525.14,-570.74 516,-560.93 507.21,-551.49\"/>\n",
       "<polygon fill=\"black\" stroke=\"black\" points=\"509.63,-548.95 500.25,-544.02 504.51,-553.72 509.63,-548.95\"/>\n",
       "<text text-anchor=\"middle\" x=\"499.37\" y=\"-565.31\" font-family=\"Helvetica,sans-Serif\" font-size=\"14.00\">True</text>\n",
       "</g>\n",
       "<!-- 10 -->\n",
       "<g id=\"node11\" class=\"node\">\n",
       "<title>10</title>\n",
       "<path fill=\"#fcf2ea\" stroke=\"black\" d=\"M737,-544C737,-544 624,-544 624,-544 618,-544 612,-538 612,-532 612,-532 612,-473 612,-473 612,-467 618,-461 624,-461 624,-461 737,-461 737,-461 743,-461 749,-467 749,-473 749,-473 749,-532 749,-532 749,-538 743,-544 737,-544\"/>\n",
       "<text text-anchor=\"start\" x=\"626.5\" y=\"-528.8\" font-family=\"Helvetica,sans-Serif\" font-size=\"14.00\">flavanoids ≤ 1.58</text>\n",
       "<text text-anchor=\"start\" x=\"643\" y=\"-513.8\" font-family=\"Helvetica,sans-Serif\" font-size=\"14.00\">gini = 0.581</text>\n",
       "<text text-anchor=\"start\" x=\"633\" y=\"-498.8\" font-family=\"Helvetica,sans-Serif\" font-size=\"14.00\">samples = 114</text>\n",
       "<text text-anchor=\"start\" x=\"620\" y=\"-483.8\" font-family=\"Helvetica,sans-Serif\" font-size=\"14.00\">value = [55, 11, 48]</text>\n",
       "<text text-anchor=\"start\" x=\"631\" y=\"-468.8\" font-family=\"Helvetica,sans-Serif\" font-size=\"14.00\">class = class_0</text>\n",
       "</g>\n",
       "<!-- 0&#45;&gt;10 -->\n",
       "<g id=\"edge10\" class=\"edge\">\n",
       "<title>0&#45;&gt;10</title>\n",
       "<path fill=\"none\" stroke=\"black\" d=\"M609.32,-579.91C617.86,-570.74 627,-560.93 635.79,-551.49\"/>\n",
       "<polygon fill=\"black\" stroke=\"black\" points=\"638.49,-553.72 642.75,-544.02 633.37,-548.95 638.49,-553.72\"/>\n",
       "<text text-anchor=\"middle\" x=\"643.63\" y=\"-565.31\" font-family=\"Helvetica,sans-Serif\" font-size=\"14.00\">False</text>\n",
       "</g>\n",
       "<!-- 2 -->\n",
       "<g id=\"node3\" class=\"node\">\n",
       "<title>2</title>\n",
       "<path fill=\"#40e685\" stroke=\"black\" d=\"M396,-425C396,-425 299,-425 299,-425 293,-425 287,-419 287,-413 287,-413 287,-354 287,-354 287,-348 293,-342 299,-342 299,-342 396,-342 396,-342 402,-342 408,-348 408,-354 408,-354 408,-413 408,-413 408,-419 402,-425 396,-425\"/>\n",
       "<text text-anchor=\"start\" x=\"314\" y=\"-409.8\" font-family=\"Helvetica,sans-Serif\" font-size=\"14.00\">ash ≤ 3.07</text>\n",
       "<text text-anchor=\"start\" x=\"310\" y=\"-394.8\" font-family=\"Helvetica,sans-Serif\" font-size=\"14.00\">gini = 0.062</text>\n",
       "<text text-anchor=\"start\" x=\"304\" y=\"-379.8\" font-family=\"Helvetica,sans-Serif\" font-size=\"14.00\">samples = 62</text>\n",
       "<text text-anchor=\"start\" x=\"295\" y=\"-364.8\" font-family=\"Helvetica,sans-Serif\" font-size=\"14.00\">value = [2, 60, 0]</text>\n",
       "<text text-anchor=\"start\" x=\"298\" y=\"-349.8\" font-family=\"Helvetica,sans-Serif\" font-size=\"14.00\">class = class_1</text>\n",
       "</g>\n",
       "<!-- 1&#45;&gt;2 -->\n",
       "<g id=\"edge2\" class=\"edge\">\n",
       "<title>1&#45;&gt;2</title>\n",
       "<path fill=\"none\" stroke=\"black\" d=\"M422.6,-460.91C413.5,-451.65 403.75,-441.73 394.39,-432.21\"/>\n",
       "<polygon fill=\"black\" stroke=\"black\" points=\"396.83,-429.7 387.33,-425.02 391.84,-434.61 396.83,-429.7\"/>\n",
       "</g>\n",
       "<!-- 9 -->\n",
       "<g id=\"node10\" class=\"node\">\n",
       "<title>9</title>\n",
       "<path fill=\"#e58139\" stroke=\"black\" d=\"M529,-417.5C529,-417.5 438,-417.5 438,-417.5 432,-417.5 426,-411.5 426,-405.5 426,-405.5 426,-361.5 426,-361.5 426,-355.5 432,-349.5 438,-349.5 438,-349.5 529,-349.5 529,-349.5 535,-349.5 541,-355.5 541,-361.5 541,-361.5 541,-405.5 541,-405.5 541,-411.5 535,-417.5 529,-417.5\"/>\n",
       "<text text-anchor=\"start\" x=\"454.5\" y=\"-402.3\" font-family=\"Helvetica,sans-Serif\" font-size=\"14.00\">gini = 0.0</text>\n",
       "<text text-anchor=\"start\" x=\"444\" y=\"-387.3\" font-family=\"Helvetica,sans-Serif\" font-size=\"14.00\">samples = 2</text>\n",
       "<text text-anchor=\"start\" x=\"435\" y=\"-372.3\" font-family=\"Helvetica,sans-Serif\" font-size=\"14.00\">value = [2, 0, 0]</text>\n",
       "<text text-anchor=\"start\" x=\"434\" y=\"-357.3\" font-family=\"Helvetica,sans-Serif\" font-size=\"14.00\">class = class_0</text>\n",
       "</g>\n",
       "<!-- 1&#45;&gt;9 -->\n",
       "<g id=\"edge9\" class=\"edge\">\n",
       "<title>1&#45;&gt;9</title>\n",
       "<path fill=\"none\" stroke=\"black\" d=\"M469.79,-460.91C471.71,-450.2 473.79,-438.62 475.73,-427.78\"/>\n",
       "<polygon fill=\"black\" stroke=\"black\" points=\"479.23,-428.13 477.55,-417.67 472.34,-426.89 479.23,-428.13\"/>\n",
       "</g>\n",
       "<!-- 3 -->\n",
       "<g id=\"node4\" class=\"node\">\n",
       "<title>3</title>\n",
       "<path fill=\"#3ce583\" stroke=\"black\" d=\"M280,-306C280,-306 131,-306 131,-306 125,-306 119,-300 119,-294 119,-294 119,-235 119,-235 119,-229 125,-223 131,-223 131,-223 280,-223 280,-223 286,-223 292,-229 292,-235 292,-235 292,-294 292,-294 292,-300 286,-306 280,-306\"/>\n",
       "<text text-anchor=\"start\" x=\"127\" y=\"-290.8\" font-family=\"Helvetica,sans-Serif\" font-size=\"14.00\">alcalinity_of_ash ≤ 15.75</text>\n",
       "<text text-anchor=\"start\" x=\"168\" y=\"-275.8\" font-family=\"Helvetica,sans-Serif\" font-size=\"14.00\">gini = 0.032</text>\n",
       "<text text-anchor=\"start\" x=\"162\" y=\"-260.8\" font-family=\"Helvetica,sans-Serif\" font-size=\"14.00\">samples = 61</text>\n",
       "<text text-anchor=\"start\" x=\"153\" y=\"-245.8\" font-family=\"Helvetica,sans-Serif\" font-size=\"14.00\">value = [1, 60, 0]</text>\n",
       "<text text-anchor=\"start\" x=\"156\" y=\"-230.8\" font-family=\"Helvetica,sans-Serif\" font-size=\"14.00\">class = class_1</text>\n",
       "</g>\n",
       "<!-- 2&#45;&gt;3 -->\n",
       "<g id=\"edge3\" class=\"edge\">\n",
       "<title>2&#45;&gt;3</title>\n",
       "<path fill=\"none\" stroke=\"black\" d=\"M298.23,-341.91C286.78,-332.47 274.49,-322.34 262.72,-312.65\"/>\n",
       "<polygon fill=\"black\" stroke=\"black\" points=\"264.62,-309.68 254.68,-306.02 260.17,-315.08 264.62,-309.68\"/>\n",
       "</g>\n",
       "<!-- 8 -->\n",
       "<g id=\"node9\" class=\"node\">\n",
       "<title>8</title>\n",
       "<path fill=\"#e58139\" stroke=\"black\" d=\"M413,-298.5C413,-298.5 322,-298.5 322,-298.5 316,-298.5 310,-292.5 310,-286.5 310,-286.5 310,-242.5 310,-242.5 310,-236.5 316,-230.5 322,-230.5 322,-230.5 413,-230.5 413,-230.5 419,-230.5 425,-236.5 425,-242.5 425,-242.5 425,-286.5 425,-286.5 425,-292.5 419,-298.5 413,-298.5\"/>\n",
       "<text text-anchor=\"start\" x=\"338.5\" y=\"-283.3\" font-family=\"Helvetica,sans-Serif\" font-size=\"14.00\">gini = 0.0</text>\n",
       "<text text-anchor=\"start\" x=\"328\" y=\"-268.3\" font-family=\"Helvetica,sans-Serif\" font-size=\"14.00\">samples = 1</text>\n",
       "<text text-anchor=\"start\" x=\"319\" y=\"-253.3\" font-family=\"Helvetica,sans-Serif\" font-size=\"14.00\">value = [1, 0, 0]</text>\n",
       "<text text-anchor=\"start\" x=\"318\" y=\"-238.3\" font-family=\"Helvetica,sans-Serif\" font-size=\"14.00\">class = class_0</text>\n",
       "</g>\n",
       "<!-- 2&#45;&gt;8 -->\n",
       "<g id=\"edge8\" class=\"edge\">\n",
       "<title>2&#45;&gt;8</title>\n",
       "<path fill=\"none\" stroke=\"black\" d=\"M354.44,-341.91C356.27,-331.2 358.25,-319.62 360.1,-308.78\"/>\n",
       "<polygon fill=\"black\" stroke=\"black\" points=\"363.6,-309.11 361.83,-298.67 356.7,-307.93 363.6,-309.11\"/>\n",
       "</g>\n",
       "<!-- 4 -->\n",
       "<g id=\"node5\" class=\"node\">\n",
       "<title>4</title>\n",
       "<path fill=\"#9cf2c0\" stroke=\"black\" d=\"M198,-187C198,-187 49,-187 49,-187 43,-187 37,-181 37,-175 37,-175 37,-116 37,-116 37,-110 43,-104 49,-104 49,-104 198,-104 198,-104 204,-104 210,-110 210,-116 210,-116 210,-175 210,-175 210,-181 204,-187 198,-187\"/>\n",
       "<text text-anchor=\"start\" x=\"45\" y=\"-171.8\" font-family=\"Helvetica,sans-Serif\" font-size=\"14.00\">alcalinity_of_ash ≤ 15.15</text>\n",
       "<text text-anchor=\"start\" x=\"86\" y=\"-156.8\" font-family=\"Helvetica,sans-Serif\" font-size=\"14.00\">gini = 0.444</text>\n",
       "<text text-anchor=\"start\" x=\"84\" y=\"-141.8\" font-family=\"Helvetica,sans-Serif\" font-size=\"14.00\">samples = 3</text>\n",
       "<text text-anchor=\"start\" x=\"75\" y=\"-126.8\" font-family=\"Helvetica,sans-Serif\" font-size=\"14.00\">value = [1, 2, 0]</text>\n",
       "<text text-anchor=\"start\" x=\"74\" y=\"-111.8\" font-family=\"Helvetica,sans-Serif\" font-size=\"14.00\">class = class_1</text>\n",
       "</g>\n",
       "<!-- 3&#45;&gt;4 -->\n",
       "<g id=\"edge4\" class=\"edge\">\n",
       "<title>3&#45;&gt;4</title>\n",
       "<path fill=\"none\" stroke=\"black\" d=\"M177.05,-222.91C170.82,-214.01 164.16,-204.51 157.72,-195.33\"/>\n",
       "<polygon fill=\"black\" stroke=\"black\" points=\"160.5,-193.2 151.9,-187.02 154.77,-197.22 160.5,-193.2\"/>\n",
       "</g>\n",
       "<!-- 7 -->\n",
       "<g id=\"node8\" class=\"node\">\n",
       "<title>7</title>\n",
       "<path fill=\"#39e581\" stroke=\"black\" d=\"M337,-179.5C337,-179.5 240,-179.5 240,-179.5 234,-179.5 228,-173.5 228,-167.5 228,-167.5 228,-123.5 228,-123.5 228,-117.5 234,-111.5 240,-111.5 240,-111.5 337,-111.5 337,-111.5 343,-111.5 349,-117.5 349,-123.5 349,-123.5 349,-167.5 349,-167.5 349,-173.5 343,-179.5 337,-179.5\"/>\n",
       "<text text-anchor=\"start\" x=\"259.5\" y=\"-164.3\" font-family=\"Helvetica,sans-Serif\" font-size=\"14.00\">gini = 0.0</text>\n",
       "<text text-anchor=\"start\" x=\"245\" y=\"-149.3\" font-family=\"Helvetica,sans-Serif\" font-size=\"14.00\">samples = 58</text>\n",
       "<text text-anchor=\"start\" x=\"236\" y=\"-134.3\" font-family=\"Helvetica,sans-Serif\" font-size=\"14.00\">value = [0, 58, 0]</text>\n",
       "<text text-anchor=\"start\" x=\"239\" y=\"-119.3\" font-family=\"Helvetica,sans-Serif\" font-size=\"14.00\">class = class_1</text>\n",
       "</g>\n",
       "<!-- 3&#45;&gt;7 -->\n",
       "<g id=\"edge7\" class=\"edge\">\n",
       "<title>3&#45;&gt;7</title>\n",
       "<path fill=\"none\" stroke=\"black\" d=\"M234.3,-222.91C242.28,-211.65 250.96,-199.42 258.98,-188.11\"/>\n",
       "<polygon fill=\"black\" stroke=\"black\" points=\"262.04,-189.85 264.97,-179.67 256.33,-185.8 262.04,-189.85\"/>\n",
       "</g>\n",
       "<!-- 5 -->\n",
       "<g id=\"node6\" class=\"node\">\n",
       "<title>5</title>\n",
       "<path fill=\"#39e581\" stroke=\"black\" d=\"M103,-68C103,-68 12,-68 12,-68 6,-68 0,-62 0,-56 0,-56 0,-12 0,-12 0,-6 6,0 12,0 12,0 103,0 103,0 109,0 115,-6 115,-12 115,-12 115,-56 115,-56 115,-62 109,-68 103,-68\"/>\n",
       "<text text-anchor=\"start\" x=\"28.5\" y=\"-52.8\" font-family=\"Helvetica,sans-Serif\" font-size=\"14.00\">gini = 0.0</text>\n",
       "<text text-anchor=\"start\" x=\"18\" y=\"-37.8\" font-family=\"Helvetica,sans-Serif\" font-size=\"14.00\">samples = 2</text>\n",
       "<text text-anchor=\"start\" x=\"9\" y=\"-22.8\" font-family=\"Helvetica,sans-Serif\" font-size=\"14.00\">value = [0, 2, 0]</text>\n",
       "<text text-anchor=\"start\" x=\"8\" y=\"-7.8\" font-family=\"Helvetica,sans-Serif\" font-size=\"14.00\">class = class_1</text>\n",
       "</g>\n",
       "<!-- 4&#45;&gt;5 -->\n",
       "<g id=\"edge5\" class=\"edge\">\n",
       "<title>4&#45;&gt;5</title>\n",
       "<path fill=\"none\" stroke=\"black\" d=\"M98.92,-103.73C93.65,-94.97 88.06,-85.7 82.76,-76.91\"/>\n",
       "<polygon fill=\"black\" stroke=\"black\" points=\"85.73,-75.06 77.57,-68.3 79.74,-78.67 85.73,-75.06\"/>\n",
       "</g>\n",
       "<!-- 6 -->\n",
       "<g id=\"node7\" class=\"node\">\n",
       "<title>6</title>\n",
       "<path fill=\"#e58139\" stroke=\"black\" d=\"M236,-68C236,-68 145,-68 145,-68 139,-68 133,-62 133,-56 133,-56 133,-12 133,-12 133,-6 139,0 145,0 145,0 236,0 236,0 242,0 248,-6 248,-12 248,-12 248,-56 248,-56 248,-62 242,-68 236,-68\"/>\n",
       "<text text-anchor=\"start\" x=\"161.5\" y=\"-52.8\" font-family=\"Helvetica,sans-Serif\" font-size=\"14.00\">gini = 0.0</text>\n",
       "<text text-anchor=\"start\" x=\"151\" y=\"-37.8\" font-family=\"Helvetica,sans-Serif\" font-size=\"14.00\">samples = 1</text>\n",
       "<text text-anchor=\"start\" x=\"142\" y=\"-22.8\" font-family=\"Helvetica,sans-Serif\" font-size=\"14.00\">value = [1, 0, 0]</text>\n",
       "<text text-anchor=\"start\" x=\"141\" y=\"-7.8\" font-family=\"Helvetica,sans-Serif\" font-size=\"14.00\">class = class_0</text>\n",
       "</g>\n",
       "<!-- 4&#45;&gt;6 -->\n",
       "<g id=\"edge6\" class=\"edge\">\n",
       "<title>4&#45;&gt;6</title>\n",
       "<path fill=\"none\" stroke=\"black\" d=\"M148.45,-103.73C153.81,-94.97 159.48,-85.7 164.86,-76.91\"/>\n",
       "<polygon fill=\"black\" stroke=\"black\" points=\"167.89,-78.66 170.12,-68.3 161.92,-75 167.89,-78.66\"/>\n",
       "</g>\n",
       "<!-- 11 -->\n",
       "<g id=\"node12\" class=\"node\">\n",
       "<title>11</title>\n",
       "<path fill=\"#843de6\" stroke=\"black\" d=\"M709,-425C709,-425 612,-425 612,-425 606,-425 600,-419 600,-413 600,-413 600,-354 600,-354 600,-348 606,-342 612,-342 612,-342 709,-342 709,-342 715,-342 721,-348 721,-354 721,-354 721,-413 721,-413 721,-419 715,-425 709,-425\"/>\n",
       "<text text-anchor=\"start\" x=\"627\" y=\"-409.8\" font-family=\"Helvetica,sans-Serif\" font-size=\"14.00\">ash ≤ 2.06</text>\n",
       "<text text-anchor=\"start\" x=\"627\" y=\"-394.8\" font-family=\"Helvetica,sans-Serif\" font-size=\"14.00\">gini = 0.04</text>\n",
       "<text text-anchor=\"start\" x=\"617\" y=\"-379.8\" font-family=\"Helvetica,sans-Serif\" font-size=\"14.00\">samples = 49</text>\n",
       "<text text-anchor=\"start\" x=\"608\" y=\"-364.8\" font-family=\"Helvetica,sans-Serif\" font-size=\"14.00\">value = [0, 1, 48]</text>\n",
       "<text text-anchor=\"start\" x=\"611\" y=\"-349.8\" font-family=\"Helvetica,sans-Serif\" font-size=\"14.00\">class = class_2</text>\n",
       "</g>\n",
       "<!-- 10&#45;&gt;11 -->\n",
       "<g id=\"edge11\" class=\"edge\">\n",
       "<title>10&#45;&gt;11</title>\n",
       "<path fill=\"none\" stroke=\"black\" d=\"M673.56,-460.91C672.13,-452.56 670.61,-443.67 669.14,-435.02\"/>\n",
       "<polygon fill=\"black\" stroke=\"black\" points=\"672.56,-434.29 667.43,-425.02 665.66,-435.47 672.56,-434.29\"/>\n",
       "</g>\n",
       "<!-- 14 -->\n",
       "<g id=\"node15\" class=\"node\">\n",
       "<title>14</title>\n",
       "<path fill=\"#ea985d\" stroke=\"black\" d=\"M861.5,-425C861.5,-425 751.5,-425 751.5,-425 745.5,-425 739.5,-419 739.5,-413 739.5,-413 739.5,-354 739.5,-354 739.5,-348 745.5,-342 751.5,-342 751.5,-342 861.5,-342 861.5,-342 867.5,-342 873.5,-348 873.5,-354 873.5,-354 873.5,-413 873.5,-413 873.5,-419 867.5,-425 861.5,-425\"/>\n",
       "<text text-anchor=\"start\" x=\"747.5\" y=\"-409.8\" font-family=\"Helvetica,sans-Serif\" font-size=\"14.00\">magnesium ≤ 88.5</text>\n",
       "<text text-anchor=\"start\" x=\"773\" y=\"-394.8\" font-family=\"Helvetica,sans-Serif\" font-size=\"14.00\">gini = 0.26</text>\n",
       "<text text-anchor=\"start\" x=\"763\" y=\"-379.8\" font-family=\"Helvetica,sans-Serif\" font-size=\"14.00\">samples = 65</text>\n",
       "<text text-anchor=\"start\" x=\"750\" y=\"-364.8\" font-family=\"Helvetica,sans-Serif\" font-size=\"14.00\">value = [55, 10, 0]</text>\n",
       "<text text-anchor=\"start\" x=\"757\" y=\"-349.8\" font-family=\"Helvetica,sans-Serif\" font-size=\"14.00\">class = class_0</text>\n",
       "</g>\n",
       "<!-- 10&#45;&gt;14 -->\n",
       "<g id=\"edge14\" class=\"edge\">\n",
       "<title>10&#45;&gt;14</title>\n",
       "<path fill=\"none\" stroke=\"black\" d=\"M724.22,-460.91C734.28,-451.56 745.07,-441.54 755.42,-431.93\"/>\n",
       "<polygon fill=\"black\" stroke=\"black\" points=\"757.92,-434.39 762.86,-425.02 753.15,-429.26 757.92,-434.39\"/>\n",
       "</g>\n",
       "<!-- 12 -->\n",
       "<g id=\"node13\" class=\"node\">\n",
       "<title>12</title>\n",
       "<path fill=\"#39e581\" stroke=\"black\" d=\"M573,-298.5C573,-298.5 482,-298.5 482,-298.5 476,-298.5 470,-292.5 470,-286.5 470,-286.5 470,-242.5 470,-242.5 470,-236.5 476,-230.5 482,-230.5 482,-230.5 573,-230.5 573,-230.5 579,-230.5 585,-236.5 585,-242.5 585,-242.5 585,-286.5 585,-286.5 585,-292.5 579,-298.5 573,-298.5\"/>\n",
       "<text text-anchor=\"start\" x=\"498.5\" y=\"-283.3\" font-family=\"Helvetica,sans-Serif\" font-size=\"14.00\">gini = 0.0</text>\n",
       "<text text-anchor=\"start\" x=\"488\" y=\"-268.3\" font-family=\"Helvetica,sans-Serif\" font-size=\"14.00\">samples = 1</text>\n",
       "<text text-anchor=\"start\" x=\"479\" y=\"-253.3\" font-family=\"Helvetica,sans-Serif\" font-size=\"14.00\">value = [0, 1, 0]</text>\n",
       "<text text-anchor=\"start\" x=\"478\" y=\"-238.3\" font-family=\"Helvetica,sans-Serif\" font-size=\"14.00\">class = class_1</text>\n",
       "</g>\n",
       "<!-- 11&#45;&gt;12 -->\n",
       "<g id=\"edge12\" class=\"edge\">\n",
       "<title>11&#45;&gt;12</title>\n",
       "<path fill=\"none\" stroke=\"black\" d=\"M614.36,-341.91C600.93,-330.1 586.29,-317.22 572.91,-305.45\"/>\n",
       "<polygon fill=\"black\" stroke=\"black\" points=\"575.02,-302.64 565.2,-298.67 570.4,-307.9 575.02,-302.64\"/>\n",
       "</g>\n",
       "<!-- 13 -->\n",
       "<g id=\"node14\" class=\"node\">\n",
       "<title>13</title>\n",
       "<path fill=\"#8139e5\" stroke=\"black\" d=\"M712,-298.5C712,-298.5 615,-298.5 615,-298.5 609,-298.5 603,-292.5 603,-286.5 603,-286.5 603,-242.5 603,-242.5 603,-236.5 609,-230.5 615,-230.5 615,-230.5 712,-230.5 712,-230.5 718,-230.5 724,-236.5 724,-242.5 724,-242.5 724,-286.5 724,-286.5 724,-292.5 718,-298.5 712,-298.5\"/>\n",
       "<text text-anchor=\"start\" x=\"634.5\" y=\"-283.3\" font-family=\"Helvetica,sans-Serif\" font-size=\"14.00\">gini = 0.0</text>\n",
       "<text text-anchor=\"start\" x=\"620\" y=\"-268.3\" font-family=\"Helvetica,sans-Serif\" font-size=\"14.00\">samples = 48</text>\n",
       "<text text-anchor=\"start\" x=\"611\" y=\"-253.3\" font-family=\"Helvetica,sans-Serif\" font-size=\"14.00\">value = [0, 0, 48]</text>\n",
       "<text text-anchor=\"start\" x=\"614\" y=\"-238.3\" font-family=\"Helvetica,sans-Serif\" font-size=\"14.00\">class = class_2</text>\n",
       "</g>\n",
       "<!-- 11&#45;&gt;13 -->\n",
       "<g id=\"edge13\" class=\"edge\">\n",
       "<title>11&#45;&gt;13</title>\n",
       "<path fill=\"none\" stroke=\"black\" d=\"M661.54,-341.91C661.82,-331.2 662.11,-319.62 662.39,-308.78\"/>\n",
       "<polygon fill=\"black\" stroke=\"black\" points=\"665.89,-308.75 662.65,-298.67 658.89,-308.57 665.89,-308.75\"/>\n",
       "</g>\n",
       "<!-- 15 -->\n",
       "<g id=\"node16\" class=\"node\">\n",
       "<title>15</title>\n",
       "<path fill=\"#39e581\" stroke=\"black\" d=\"M850,-298.5C850,-298.5 759,-298.5 759,-298.5 753,-298.5 747,-292.5 747,-286.5 747,-286.5 747,-242.5 747,-242.5 747,-236.5 753,-230.5 759,-230.5 759,-230.5 850,-230.5 850,-230.5 856,-230.5 862,-236.5 862,-242.5 862,-242.5 862,-286.5 862,-286.5 862,-292.5 856,-298.5 850,-298.5\"/>\n",
       "<text text-anchor=\"start\" x=\"775.5\" y=\"-283.3\" font-family=\"Helvetica,sans-Serif\" font-size=\"14.00\">gini = 0.0</text>\n",
       "<text text-anchor=\"start\" x=\"765\" y=\"-268.3\" font-family=\"Helvetica,sans-Serif\" font-size=\"14.00\">samples = 8</text>\n",
       "<text text-anchor=\"start\" x=\"756\" y=\"-253.3\" font-family=\"Helvetica,sans-Serif\" font-size=\"14.00\">value = [0, 8, 0]</text>\n",
       "<text text-anchor=\"start\" x=\"755\" y=\"-238.3\" font-family=\"Helvetica,sans-Serif\" font-size=\"14.00\">class = class_1</text>\n",
       "</g>\n",
       "<!-- 14&#45;&gt;15 -->\n",
       "<g id=\"edge15\" class=\"edge\">\n",
       "<title>14&#45;&gt;15</title>\n",
       "<path fill=\"none\" stroke=\"black\" d=\"M805.81,-341.91C805.62,-331.2 805.43,-319.62 805.24,-308.78\"/>\n",
       "<polygon fill=\"black\" stroke=\"black\" points=\"808.74,-308.61 805.07,-298.67 801.74,-308.73 808.74,-308.61\"/>\n",
       "</g>\n",
       "<!-- 16 -->\n",
       "<g id=\"node17\" class=\"node\">\n",
       "<title>16</title>\n",
       "<path fill=\"#e68640\" stroke=\"black\" d=\"M989,-306C989,-306 892,-306 892,-306 886,-306 880,-300 880,-294 880,-294 880,-235 880,-235 880,-229 886,-223 892,-223 892,-223 989,-223 989,-223 995,-223 1001,-229 1001,-235 1001,-235 1001,-294 1001,-294 1001,-300 995,-306 989,-306\"/>\n",
       "<text text-anchor=\"start\" x=\"892\" y=\"-290.8\" font-family=\"Helvetica,sans-Serif\" font-size=\"14.00\">alcohol ≤ 12.61</text>\n",
       "<text text-anchor=\"start\" x=\"903\" y=\"-275.8\" font-family=\"Helvetica,sans-Serif\" font-size=\"14.00\">gini = 0.068</text>\n",
       "<text text-anchor=\"start\" x=\"897\" y=\"-260.8\" font-family=\"Helvetica,sans-Serif\" font-size=\"14.00\">samples = 57</text>\n",
       "<text text-anchor=\"start\" x=\"888\" y=\"-245.8\" font-family=\"Helvetica,sans-Serif\" font-size=\"14.00\">value = [55, 2, 0]</text>\n",
       "<text text-anchor=\"start\" x=\"891\" y=\"-230.8\" font-family=\"Helvetica,sans-Serif\" font-size=\"14.00\">class = class_0</text>\n",
       "</g>\n",
       "<!-- 14&#45;&gt;16 -->\n",
       "<g id=\"edge16\" class=\"edge\">\n",
       "<title>14&#45;&gt;16</title>\n",
       "<path fill=\"none\" stroke=\"black\" d=\"M852.99,-341.91C863.8,-332.47 875.4,-322.34 886.5,-312.65\"/>\n",
       "<polygon fill=\"black\" stroke=\"black\" points=\"888.86,-315.23 894.09,-306.02 884.26,-309.96 888.86,-315.23\"/>\n",
       "</g>\n",
       "<!-- 17 -->\n",
       "<g id=\"node18\" class=\"node\">\n",
       "<title>17</title>\n",
       "<path fill=\"#39e581\" stroke=\"black\" d=\"M918,-179.5C918,-179.5 827,-179.5 827,-179.5 821,-179.5 815,-173.5 815,-167.5 815,-167.5 815,-123.5 815,-123.5 815,-117.5 821,-111.5 827,-111.5 827,-111.5 918,-111.5 918,-111.5 924,-111.5 930,-117.5 930,-123.5 930,-123.5 930,-167.5 930,-167.5 930,-173.5 924,-179.5 918,-179.5\"/>\n",
       "<text text-anchor=\"start\" x=\"843.5\" y=\"-164.3\" font-family=\"Helvetica,sans-Serif\" font-size=\"14.00\">gini = 0.0</text>\n",
       "<text text-anchor=\"start\" x=\"833\" y=\"-149.3\" font-family=\"Helvetica,sans-Serif\" font-size=\"14.00\">samples = 2</text>\n",
       "<text text-anchor=\"start\" x=\"824\" y=\"-134.3\" font-family=\"Helvetica,sans-Serif\" font-size=\"14.00\">value = [0, 2, 0]</text>\n",
       "<text text-anchor=\"start\" x=\"823\" y=\"-119.3\" font-family=\"Helvetica,sans-Serif\" font-size=\"14.00\">class = class_1</text>\n",
       "</g>\n",
       "<!-- 16&#45;&gt;17 -->\n",
       "<g id=\"edge17\" class=\"edge\">\n",
       "<title>16&#45;&gt;17</title>\n",
       "<path fill=\"none\" stroke=\"black\" d=\"M916.91,-222.91C910.43,-211.76 903.4,-199.66 896.87,-188.44\"/>\n",
       "<polygon fill=\"black\" stroke=\"black\" points=\"899.83,-186.55 891.78,-179.67 893.78,-190.07 899.83,-186.55\"/>\n",
       "</g>\n",
       "<!-- 18 -->\n",
       "<g id=\"node19\" class=\"node\">\n",
       "<title>18</title>\n",
       "<path fill=\"#e58139\" stroke=\"black\" d=\"M1057,-179.5C1057,-179.5 960,-179.5 960,-179.5 954,-179.5 948,-173.5 948,-167.5 948,-167.5 948,-123.5 948,-123.5 948,-117.5 954,-111.5 960,-111.5 960,-111.5 1057,-111.5 1057,-111.5 1063,-111.5 1069,-117.5 1069,-123.5 1069,-123.5 1069,-167.5 1069,-167.5 1069,-173.5 1063,-179.5 1057,-179.5\"/>\n",
       "<text text-anchor=\"start\" x=\"979.5\" y=\"-164.3\" font-family=\"Helvetica,sans-Serif\" font-size=\"14.00\">gini = 0.0</text>\n",
       "<text text-anchor=\"start\" x=\"965\" y=\"-149.3\" font-family=\"Helvetica,sans-Serif\" font-size=\"14.00\">samples = 55</text>\n",
       "<text text-anchor=\"start\" x=\"956\" y=\"-134.3\" font-family=\"Helvetica,sans-Serif\" font-size=\"14.00\">value = [55, 0, 0]</text>\n",
       "<text text-anchor=\"start\" x=\"959\" y=\"-119.3\" font-family=\"Helvetica,sans-Serif\" font-size=\"14.00\">class = class_0</text>\n",
       "</g>\n",
       "<!-- 16&#45;&gt;18 -->\n",
       "<g id=\"edge18\" class=\"edge\">\n",
       "<title>16&#45;&gt;18</title>\n",
       "<path fill=\"none\" stroke=\"black\" d=\"M964.09,-222.91C970.57,-211.76 977.6,-199.66 984.13,-188.44\"/>\n",
       "<polygon fill=\"black\" stroke=\"black\" points=\"987.22,-190.07 989.22,-179.67 981.17,-186.55 987.22,-190.07\"/>\n",
       "</g>\n",
       "</g>\n",
       "</svg>\n"
      ],
      "text/plain": [
       "<graphviz.sources.Source at 0x16ad9f48280>"
      ]
     },
     "execution_count": 13,
     "metadata": {},
     "output_type": "execute_result"
    }
   ],
   "source": [
    "import graphviz\n",
    "from sklearn.tree import export_graphviz\n",
    "\n",
    "image_path='C:/Users/lynst/Documents/GitHub/machine-learning-projects/machine-learning/wine_tree.dot'\n",
    "\n",
    "dot_data = tree.export_graphviz(dtc, \n",
    "                        out_file=None,\n",
    "                        feature_names=wine.feature_names[0:12],\n",
    "                        class_names=wine.target_names,\n",
    "                        rounded=True,\n",
    "                        special_characters=True,\n",
    "                        filled=True\n",
    "                       )\n",
    "\n",
    "graph = graphviz.Source(dot_data)\n",
    "graph"
   ]
  },
  {
   "cell_type": "markdown",
   "metadata": {},
   "source": [
    "Converting the dot file to a png file requires a stand-alone installation of graphviz, or a pip installation."
   ]
  },
  {
   "cell_type": "code",
   "execution_count": null,
   "metadata": {},
   "outputs": [],
   "source": [
    "!dot -Tpng wine_tree.dot -o wine_tree.png"
   ]
  },
  {
   "cell_type": "markdown",
   "metadata": {},
   "source": [
    "Next in order to try and predict unseen target data based on the labels already used, I can categorize ranked estimates for the quality of wine using a four stage model. Splitting the data first into training and test sets, fitting the DecisionTreeClassifier to the training set and using it to predict the test set so I can make estimates."
   ]
  },
  {
   "cell_type": "code",
   "execution_count": null,
   "metadata": {},
   "outputs": [],
   "source": [
    "# Splitting the data into train and test sets\n",
    "X_train, X_test, Y_train, Y_test = train_test_split(df[data.feature_names], df['quality'], random_state=0)\n",
    "\n",
    "# Initiate a 4 step modeling pattern\n",
    "# Step 1: import the model to use\n",
    "from sklearn.tree import DecisionTreeClassifier\n",
    "\n",
    "# Step 2: Make an instance of the Model\n",
    "clf = DecisionTreeClassifier(max_depth = 2, random_state = 0)\n",
    "\n",
    "# Step 3: Train the model on the data\n",
    "clf.fit(X_train, Y_train)\n",
    "\n",
    "# Step 4: Predict labels of unseen (test) data\n",
    "clf.predict(X_test)"
   ]
  },
  {
   "cell_type": "code",
   "execution_count": null,
   "metadata": {},
   "outputs": [],
   "source": []
  },
  {
   "cell_type": "code",
   "execution_count": null,
   "metadata": {},
   "outputs": [],
   "source": []
  },
  {
   "cell_type": "code",
   "execution_count": null,
   "metadata": {},
   "outputs": [],
   "source": []
  },
  {
   "cell_type": "code",
   "execution_count": null,
   "metadata": {},
   "outputs": [],
   "source": []
  },
  {
   "cell_type": "markdown",
   "metadata": {},
   "source": [
    "# Decision Tree Model Selection\n",
    "Next, it's time to apply a Decision Tree model to the entire dataset before seeking further improvement."
   ]
  },
  {
   "cell_type": "code",
   "execution_count": null,
   "metadata": {},
   "outputs": [],
   "source": [
    "from sklearn.tree import DecisionTreeRegressor\n",
    "\n",
    "# select data for modeling\n",
    "X = df[[\"Open\", \"High\", \"Low\", \"Volume\"]]\n",
    "y = df[\"Close\"]\n",
    "\n",
    "tree_reg = DecisionTreeRegressor()\n",
    "tree_reg.fit(X, y)"
   ]
  },
  {
   "cell_type": "code",
   "execution_count": null,
   "metadata": {},
   "outputs": [],
   "source": [
    "# split data into train and test\n",
    "X_train, X_test, y_train, y_test = train_test_split(X, y, test_size = 0.3, random_state = 0)"
   ]
  },
  {
   "cell_type": "code",
   "execution_count": null,
   "metadata": {},
   "outputs": [],
   "source": [
    "# predict\n",
    "y_pred = tree_reg.predict(X_train)"
   ]
  },
  {
   "cell_type": "markdown",
   "metadata": {},
   "source": [
    "Now trying a prediction on the working linear model (first 5 values):"
   ]
  },
  {
   "cell_type": "code",
   "execution_count": null,
   "metadata": {},
   "outputs": [],
   "source": [
    "print(y_pred[:5])"
   ]
  },
  {
   "cell_type": "markdown",
   "metadata": {},
   "source": [
    "Measuring the RMSE and r-squared score for the linear model (based on training set):"
   ]
  },
  {
   "cell_type": "code",
   "execution_count": null,
   "metadata": {},
   "outputs": [],
   "source": [
    "y_pred = tree_reg.predict(X_train)\n",
    "lin_mse = mean_squared_error(y_train, y_pred)\n",
    "lin_rmse = np.sqrt(lin_mse)\n",
    "print(lin_rmse)\n",
    "    \n",
    "r2_train = r2_score(y_train, y_pred)\n",
    "print(r2_train)"
   ]
  },
  {
   "cell_type": "markdown",
   "metadata": {},
   "source": [
    "This definitely appears to be overfitting with perfect scores for both RMSE and r-squared. Let's see if there is a different outcome for the test data."
   ]
  },
  {
   "cell_type": "code",
   "execution_count": null,
   "metadata": {},
   "outputs": [],
   "source": [
    "y_pred = tree_reg.predict(X_test)\n",
    "lin_mse = mean_squared_error(y_test, y_pred)\n",
    "lin_rmse = np.sqrt(lin_mse)\n",
    "print(lin_rmse)\n",
    "    \n",
    "r2_test = r2_score(y_test, y_pred)\n",
    "print(r2_test)"
   ]
  },
  {
   "cell_type": "markdown",
   "metadata": {},
   "source": [
    "This appears unlikely also. In order to establish a more likely outcome I will try dividing the dataframe into several smaller training and validation sets and perform the decision tree analysis on each. This is done using K-Fold Cross Validation.\n",
    "\n",
    "## Cross Validation\n",
    "This method will evaluate the Decsion Tree model by splitting the training set into several smaller training and validation sets for training and evaluation separately. This is achieved by using the K-fold cross validation technique and I have split the data into 10 separate folds, cv=10 (which can be changed)."
   ]
  },
  {
   "cell_type": "code",
   "execution_count": null,
   "metadata": {},
   "outputs": [],
   "source": [
    "from sklearn.model_selection import cross_val_score\n",
    "\n",
    "scores = cross_val_score(tree_reg, X_train, y_train, scoring=\"neg_mean_squared_error\", cv=10)\n",
    "tree_rmse_scores = np.sqrt(-scores)\n",
    "r2_test = r2_score(y_test, y_pred)\n",
    "                         \n",
    "def display_scores(scores):\n",
    "    print(\"Scores:\", scores)\n",
    "    print(\"Mean\", scores.mean())\n",
    "    print(\"Standard Deviation\", scores.std())\n",
    "    print(\"R-Squared:\", r2_test)\n",
    "          \n",
    "display_scores(tree_rmse_scores)"
   ]
  },
  {
   "cell_type": "markdown",
   "metadata": {},
   "source": [
    "Comparing the scores from cross validation to those from the linear regression model:"
   ]
  },
  {
   "cell_type": "code",
   "execution_count": null,
   "metadata": {},
   "outputs": [],
   "source": [
    "lin_scores = cross_val_score(lin_reg, X_train, y_train, scoring=\"neg_mean_squared_error\", cv=10)\n",
    "lin_rmse_scores = np.sqrt(-lin_scores)\n",
    "display_scores(lin_rmse_scores)"
   ]
  },
  {
   "cell_type": "markdown",
   "metadata": {},
   "source": [
    "# Random Forest Model Selection\n",
    "Next I will try the Random Forest Regressor model to try and improve on these scores and their accuracy. Using a Random Forest model should provide a more accurate prediction because it's an aggregate of several individual decision tree models."
   ]
  },
  {
   "cell_type": "code",
   "execution_count": null,
   "metadata": {},
   "outputs": [],
   "source": [
    "from sklearn.ensemble import RandomForestRegressor\n",
    "\n",
    "forest_reg = RandomForestRegressor()\n",
    "forest_reg.fit(X, y)"
   ]
  },
  {
   "cell_type": "code",
   "execution_count": null,
   "metadata": {},
   "outputs": [],
   "source": [
    "# split data into train and test\n",
    "X_train, X_test, y_train, y_test = train_test_split(X, y, test_size = 0.3, random_state = 0)"
   ]
  },
  {
   "cell_type": "code",
   "execution_count": null,
   "metadata": {},
   "outputs": [],
   "source": [
    "# predict\n",
    "y_pred = forest_reg.predict(X_train)"
   ]
  },
  {
   "cell_type": "markdown",
   "metadata": {},
   "source": [
    "Now trying a prediction on the working linear model (first 5 values):"
   ]
  },
  {
   "cell_type": "code",
   "execution_count": null,
   "metadata": {},
   "outputs": [],
   "source": [
    "print(y_pred[:5])"
   ]
  },
  {
   "cell_type": "markdown",
   "metadata": {},
   "source": [
    "Measuring the RMSE and r-squared score for the linear model (based on training set):"
   ]
  },
  {
   "cell_type": "code",
   "execution_count": null,
   "metadata": {},
   "outputs": [],
   "source": [
    "y_pred = forest_reg.predict(X_train)\n",
    "lin_mse = mean_squared_error(y_train, y_pred)\n",
    "lin_rmse = np.sqrt(lin_mse)\n",
    "print(lin_rmse)\n",
    "\n",
    "r2_train = r2_score(y_train, y_pred)\n",
    "print(r2_train)"
   ]
  },
  {
   "cell_type": "code",
   "execution_count": null,
   "metadata": {},
   "outputs": [],
   "source": [
    "y_pred = forest_reg.predict(X_test)\n",
    "lin_mse = mean_squared_error(y_test, y_pred)\n",
    "lin_rmse = np.sqrt(lin_mse)\n",
    "print(lin_rmse)\n",
    "\n",
    "r2_test = r2_score(y_test, y_pred)\n",
    "print(r2_test)"
   ]
  },
  {
   "cell_type": "markdown",
   "metadata": {},
   "source": [
    "This generalizes well with the test set data but I aim to use the cross-validation method one more time."
   ]
  },
  {
   "cell_type": "code",
   "execution_count": null,
   "metadata": {},
   "outputs": [],
   "source": [
    "from sklearn.model_selection import cross_val_score\n",
    "\n",
    "scores = cross_val_score(forest_reg, X_train, y_train, scoring=\"neg_mean_squared_error\", cv=10)\n",
    "tree_rmse_scores = np.sqrt(-scores)\n",
    "r2_test = r2_score(y_test, y_pred)\n",
    "\n",
    "def display_scores(scores):\n",
    "    print(\"Scores:\", scores)\n",
    "    print(\"Mean\", scores.mean())\n",
    "    print(\"Standard Deviation\", scores.std())\n",
    "    print(\"R-Squared:\", r2_test)\n",
    "          \n",
    "display_scores(tree_rmse_scores)"
   ]
  },
  {
   "cell_type": "markdown",
   "metadata": {},
   "source": [
    "So the cross validation appears to have reduced the standard deviation considerably using the random forest ensemble method. Once again, I am comparing the scores from cross validation to those from the linear regression model as follows:"
   ]
  },
  {
   "cell_type": "code",
   "execution_count": null,
   "metadata": {},
   "outputs": [],
   "source": [
    "lin_scores = cross_val_score(lin_reg, X_train, y_train, scoring=\"neg_mean_squared_error\", cv=10)\n",
    "lin_rmse_scores = np.sqrt(-lin_scores)\n",
    "display_scores(lin_rmse_scores)"
   ]
  },
  {
   "cell_type": "markdown",
   "metadata": {},
   "source": [
    "So evaluating each of the 10 subsets using K-Folds Cross Validation has produced the most accurate score and lowest margin of error so far.\n",
    "\n",
    "Saving the file as a pickle file will ensure some consistency when comparing scores, parameters and hyperparameters and enable me to start where I left off!\n",
    "\n",
    "I first need import pickle and joblib."
   ]
  },
  {
   "cell_type": "code",
   "execution_count": null,
   "metadata": {},
   "outputs": [],
   "source": [
    "# pickle file to go here"
   ]
  },
  {
   "cell_type": "markdown",
   "metadata": {},
   "source": [
    "# Print Dependencies\n",
    "Dependences are fundamental to record the **computational environment**.   \n",
    "\n",
    "- Use [watermark](https://github.com/rasbt/watermark) to print version of python, ipython, and packages, and characteristics of the computer"
   ]
  },
  {
   "cell_type": "code",
   "execution_count": null,
   "metadata": {},
   "outputs": [],
   "source": [
    "%load_ext watermark\n",
    "\n",
    "# python, ipython, packages, and machine characteristics\n",
    "%watermark -v -m -p wget,pandas,numpy,watermark,tarfile,urllib3,matplotlib,seaborn,sklearn \n",
    "\n",
    "# date\n",
    "print (\" \")\n",
    "%watermark -u -n -t -z "
   ]
  },
  {
   "cell_type": "code",
   "execution_count": null,
   "metadata": {},
   "outputs": [],
   "source": []
  }
 ],
 "metadata": {
  "kernelspec": {
   "display_name": "Python 3",
   "language": "python",
   "name": "python3"
  },
  "language_info": {
   "codemirror_mode": {
    "name": "ipython",
    "version": 3
   },
   "file_extension": ".py",
   "mimetype": "text/x-python",
   "name": "python",
   "nbconvert_exporter": "python",
   "pygments_lexer": "ipython3",
   "version": "3.9.4"
  }
 },
 "nbformat": 4,
 "nbformat_minor": 4
}
