{
 "cells": [
  {
   "cell_type": "markdown",
   "id": "63a1f44a-f3e5-4506-b891-a33576c6e95d",
   "metadata": {},
   "source": [
    "This accompanies the Youtube video entitled: \"The ONLY PySpark Tutorial You Will Ever Need\" by Moran Reznik.\n",
    "\n",
    "Please note that you need to have a running Spark cluster to execute these commands!\n",
    "\n",
    "Create a SparkSession."
   ]
  },
  {
   "cell_type": "code",
   "execution_count": 1,
   "id": "98ba4f08",
   "metadata": {},
   "outputs": [],
   "source": [
    "#!pip install pyspark"
   ]
  },
  {
   "cell_type": "code",
   "execution_count": 2,
   "id": "db6deff7",
   "metadata": {},
   "outputs": [],
   "source": [
    "import pyspark"
   ]
  },
  {
   "cell_type": "code",
   "execution_count": 3,
   "id": "1c2bcb6d-e024-4c6d-ace1-359ae3d41dd3",
   "metadata": {},
   "outputs": [],
   "source": [
    "from pyspark.sql import SparkSession\n",
    "spark = SparkSession.builder.appName('test').getOrCreate()"
   ]
  },
  {
   "cell_type": "code",
   "execution_count": 4,
   "id": "62491745",
   "metadata": {},
   "outputs": [
    {
     "data": {
      "text/html": [
       "\n",
       "            <div>\n",
       "                <p><b>SparkSession - in-memory</b></p>\n",
       "                \n",
       "        <div>\n",
       "            <p><b>SparkContext</b></p>\n",
       "\n",
       "            <p><a href=\"http://host.docker.internal:4040\">Spark UI</a></p>\n",
       "\n",
       "            <dl>\n",
       "              <dt>Version</dt>\n",
       "                <dd><code>v3.3.1</code></dd>\n",
       "              <dt>Master</dt>\n",
       "                <dd><code>local[*]</code></dd>\n",
       "              <dt>AppName</dt>\n",
       "                <dd><code>test</code></dd>\n",
       "            </dl>\n",
       "        </div>\n",
       "        \n",
       "            </div>\n",
       "        "
      ],
      "text/plain": [
       "<pyspark.sql.session.SparkSession at 0x1946081cca0>"
      ]
     },
     "execution_count": 4,
     "metadata": {},
     "output_type": "execute_result"
    }
   ],
   "source": [
    "spark"
   ]
  },
  {
   "cell_type": "markdown",
   "id": "b333b5e2-6e27-48ac-b124-87b01e80cc5c",
   "metadata": {},
   "source": [
    "Create a DataFrame from a CSV file."
   ]
  },
  {
   "cell_type": "code",
   "execution_count": 5,
   "id": "03c44382-d3c6-47cd-8be6-26c046b1e7c9",
   "metadata": {},
   "outputs": [],
   "source": [
    "df = spark.read.option('header','true').csv('heart.csv')"
   ]
  },
  {
   "cell_type": "code",
   "execution_count": 6,
   "id": "b821726b",
   "metadata": {},
   "outputs": [],
   "source": [
    "# tell pyspark the type of the columns - saves time on large dataset. there are other ways to do this, but that's my favorite\n",
    "schema = 'Age INTEGER, Sex STRING, ChestPainType STRING'\n",
    "df = spark.read.csv('C:/Users/lynst/Documents/GitHub/machine-learning-projects/data-engineering/heart.csv', schema=schema, header=True)"
   ]
  },
  {
   "cell_type": "code",
   "execution_count": 7,
   "id": "786e7b36",
   "metadata": {},
   "outputs": [],
   "source": [
    "# let PySpark infer the schema\n",
    "df = spark.read.csv('C:/Users/lynst/Documents/GitHub/machine-learning-projects/data-engineering/heart.csv', inferSchema=True, header=True)"
   ]
  },
  {
   "cell_type": "code",
   "execution_count": 16,
   "id": "fe3c117f",
   "metadata": {},
   "outputs": [],
   "source": [
    "# replace nulls with other value at reading time\n",
    "df = spark.read.csv('C:/Users/lynst/Documents/GitHub/machine-learning-projects/data-engineering/heart.csv', nullValue='NA')"
   ]
  },
  {
   "cell_type": "code",
   "execution_count": 17,
   "id": "6a5350a5",
   "metadata": {},
   "outputs": [
    {
     "ename": "AnalysisException",
     "evalue": "path file:/C:/Users/lynst/Documents/GitHub/machine-learning-projects/data-engineering/heart_save.csv already exists.",
     "output_type": "error",
     "traceback": [
      "\u001b[1;31m---------------------------------------------------------------------------\u001b[0m",
      "\u001b[1;31mAnalysisException\u001b[0m                         Traceback (most recent call last)",
      "\u001b[1;32m~\\AppData\\Local\\Temp\\ipykernel_11320\\920745736.py\u001b[0m in \u001b[0;36m<module>\u001b[1;34m\u001b[0m\n\u001b[0;32m      1\u001b[0m \u001b[1;31m# save data\u001b[0m\u001b[1;33m\u001b[0m\u001b[1;33m\u001b[0m\u001b[0m\n\u001b[1;32m----> 2\u001b[1;33m \u001b[0mdf\u001b[0m\u001b[1;33m.\u001b[0m\u001b[0mwrite\u001b[0m\u001b[1;33m.\u001b[0m\u001b[0mformat\u001b[0m\u001b[1;33m(\u001b[0m\u001b[1;34m\"csv\"\u001b[0m\u001b[1;33m)\u001b[0m\u001b[1;33m.\u001b[0m\u001b[0msave\u001b[0m\u001b[1;33m(\u001b[0m\u001b[1;34m\"heart_save.csv\"\u001b[0m\u001b[1;33m)\u001b[0m\u001b[1;33m\u001b[0m\u001b[1;33m\u001b[0m\u001b[0m\n\u001b[0m",
      "\u001b[1;32m~\\anaconda3\\lib\\site-packages\\pyspark\\sql\\readwriter.py\u001b[0m in \u001b[0;36msave\u001b[1;34m(self, path, format, mode, partitionBy, **options)\u001b[0m\n\u001b[0;32m   1396\u001b[0m             \u001b[0mself\u001b[0m\u001b[1;33m.\u001b[0m\u001b[0m_jwrite\u001b[0m\u001b[1;33m.\u001b[0m\u001b[0msave\u001b[0m\u001b[1;33m(\u001b[0m\u001b[1;33m)\u001b[0m\u001b[1;33m\u001b[0m\u001b[1;33m\u001b[0m\u001b[0m\n\u001b[0;32m   1397\u001b[0m         \u001b[1;32melse\u001b[0m\u001b[1;33m:\u001b[0m\u001b[1;33m\u001b[0m\u001b[1;33m\u001b[0m\u001b[0m\n\u001b[1;32m-> 1398\u001b[1;33m             \u001b[0mself\u001b[0m\u001b[1;33m.\u001b[0m\u001b[0m_jwrite\u001b[0m\u001b[1;33m.\u001b[0m\u001b[0msave\u001b[0m\u001b[1;33m(\u001b[0m\u001b[0mpath\u001b[0m\u001b[1;33m)\u001b[0m\u001b[1;33m\u001b[0m\u001b[1;33m\u001b[0m\u001b[0m\n\u001b[0m\u001b[0;32m   1399\u001b[0m \u001b[1;33m\u001b[0m\u001b[0m\n\u001b[0;32m   1400\u001b[0m     \u001b[1;32mdef\u001b[0m \u001b[0minsertInto\u001b[0m\u001b[1;33m(\u001b[0m\u001b[0mself\u001b[0m\u001b[1;33m,\u001b[0m \u001b[0mtableName\u001b[0m\u001b[1;33m:\u001b[0m \u001b[0mstr\u001b[0m\u001b[1;33m,\u001b[0m \u001b[0moverwrite\u001b[0m\u001b[1;33m:\u001b[0m \u001b[0mOptional\u001b[0m\u001b[1;33m[\u001b[0m\u001b[0mbool\u001b[0m\u001b[1;33m]\u001b[0m \u001b[1;33m=\u001b[0m \u001b[1;32mNone\u001b[0m\u001b[1;33m)\u001b[0m \u001b[1;33m->\u001b[0m \u001b[1;32mNone\u001b[0m\u001b[1;33m:\u001b[0m\u001b[1;33m\u001b[0m\u001b[1;33m\u001b[0m\u001b[0m\n",
      "\u001b[1;32m~\\anaconda3\\lib\\site-packages\\py4j\\java_gateway.py\u001b[0m in \u001b[0;36m__call__\u001b[1;34m(self, *args)\u001b[0m\n\u001b[0;32m   1320\u001b[0m \u001b[1;33m\u001b[0m\u001b[0m\n\u001b[0;32m   1321\u001b[0m         \u001b[0manswer\u001b[0m \u001b[1;33m=\u001b[0m \u001b[0mself\u001b[0m\u001b[1;33m.\u001b[0m\u001b[0mgateway_client\u001b[0m\u001b[1;33m.\u001b[0m\u001b[0msend_command\u001b[0m\u001b[1;33m(\u001b[0m\u001b[0mcommand\u001b[0m\u001b[1;33m)\u001b[0m\u001b[1;33m\u001b[0m\u001b[1;33m\u001b[0m\u001b[0m\n\u001b[1;32m-> 1322\u001b[1;33m         return_value = get_return_value(\n\u001b[0m\u001b[0;32m   1323\u001b[0m             answer, self.gateway_client, self.target_id, self.name)\n\u001b[0;32m   1324\u001b[0m \u001b[1;33m\u001b[0m\u001b[0m\n",
      "\u001b[1;32m~\\anaconda3\\lib\\site-packages\\pyspark\\errors\\exceptions\\captured.py\u001b[0m in \u001b[0;36mdeco\u001b[1;34m(*a, **kw)\u001b[0m\n\u001b[0;32m    173\u001b[0m                 \u001b[1;31m# Hide where the exception came from that shows a non-Pythonic\u001b[0m\u001b[1;33m\u001b[0m\u001b[1;33m\u001b[0m\u001b[0m\n\u001b[0;32m    174\u001b[0m                 \u001b[1;31m# JVM exception message.\u001b[0m\u001b[1;33m\u001b[0m\u001b[1;33m\u001b[0m\u001b[0m\n\u001b[1;32m--> 175\u001b[1;33m                 \u001b[1;32mraise\u001b[0m \u001b[0mconverted\u001b[0m \u001b[1;32mfrom\u001b[0m \u001b[1;32mNone\u001b[0m\u001b[1;33m\u001b[0m\u001b[1;33m\u001b[0m\u001b[0m\n\u001b[0m\u001b[0;32m    176\u001b[0m             \u001b[1;32melse\u001b[0m\u001b[1;33m:\u001b[0m\u001b[1;33m\u001b[0m\u001b[1;33m\u001b[0m\u001b[0m\n\u001b[0;32m    177\u001b[0m                 \u001b[1;32mraise\u001b[0m\u001b[1;33m\u001b[0m\u001b[1;33m\u001b[0m\u001b[0m\n",
      "\u001b[1;31mAnalysisException\u001b[0m: path file:/C:/Users/lynst/Documents/GitHub/machine-learning-projects/data-engineering/heart_save.csv already exists."
     ]
    }
   ],
   "source": [
    "# save data\n",
    "df.write.format(\"csv\").save(\"heart_save.csv\")"
   ]
  },
  {
   "cell_type": "markdown",
   "id": "33c5b400",
   "metadata": {},
   "source": [
    "Saving won't let you write over an existing file. To do that, you need to set the 'mode' to overwrite:"
   ]
  },
  {
   "cell_type": "code",
   "execution_count": 18,
   "id": "0c64e4d0",
   "metadata": {},
   "outputs": [
    {
     "ename": "Py4JJavaError",
     "evalue": "An error occurred while calling o91.save.\n: org.apache.spark.SparkException: Job aborted.\r\n\tat org.apache.spark.sql.errors.QueryExecutionErrors$.jobAbortedError(QueryExecutionErrors.scala:651)\r\n\tat org.apache.spark.sql.execution.datasources.FileFormatWriter$.write(FileFormatWriter.scala:278)\r\n\tat org.apache.spark.sql.execution.datasources.InsertIntoHadoopFsRelationCommand.run(InsertIntoHadoopFsRelationCommand.scala:186)\r\n\tat org.apache.spark.sql.execution.command.DataWritingCommandExec.sideEffectResult$lzycompute(commands.scala:113)\r\n\tat org.apache.spark.sql.execution.command.DataWritingCommandExec.sideEffectResult(commands.scala:111)\r\n\tat org.apache.spark.sql.execution.command.DataWritingCommandExec.executeCollect(commands.scala:125)\r\n\tat org.apache.spark.sql.execution.QueryExecution$$anonfun$eagerlyExecuteCommands$1.$anonfun$applyOrElse$1(QueryExecution.scala:98)\r\n\tat org.apache.spark.sql.execution.SQLExecution$.$anonfun$withNewExecutionId$6(SQLExecution.scala:109)\r\n\tat org.apache.spark.sql.execution.SQLExecution$.withSQLConfPropagated(SQLExecution.scala:169)\r\n\tat org.apache.spark.sql.execution.SQLExecution$.$anonfun$withNewExecutionId$1(SQLExecution.scala:95)\r\n\tat org.apache.spark.sql.SparkSession.withActive(SparkSession.scala:779)\r\n\tat org.apache.spark.sql.execution.SQLExecution$.withNewExecutionId(SQLExecution.scala:64)\r\n\tat org.apache.spark.sql.execution.QueryExecution$$anonfun$eagerlyExecuteCommands$1.applyOrElse(QueryExecution.scala:98)\r\n\tat org.apache.spark.sql.execution.QueryExecution$$anonfun$eagerlyExecuteCommands$1.applyOrElse(QueryExecution.scala:94)\r\n\tat org.apache.spark.sql.catalyst.trees.TreeNode.$anonfun$transformDownWithPruning$1(TreeNode.scala:584)\r\n\tat org.apache.spark.sql.catalyst.trees.CurrentOrigin$.withOrigin(TreeNode.scala:176)\r\n\tat org.apache.spark.sql.catalyst.trees.TreeNode.transformDownWithPruning(TreeNode.scala:584)\r\n\tat org.apache.spark.sql.catalyst.plans.logical.LogicalPlan.org$apache$spark$sql$catalyst$plans$logical$AnalysisHelper$$super$transformDownWithPruning(LogicalPlan.scala:30)\r\n\tat org.apache.spark.sql.catalyst.plans.logical.AnalysisHelper.transformDownWithPruning(AnalysisHelper.scala:267)\r\n\tat org.apache.spark.sql.catalyst.plans.logical.AnalysisHelper.transformDownWithPruning$(AnalysisHelper.scala:263)\r\n\tat org.apache.spark.sql.catalyst.plans.logical.LogicalPlan.transformDownWithPruning(LogicalPlan.scala:30)\r\n\tat org.apache.spark.sql.catalyst.plans.logical.LogicalPlan.transformDownWithPruning(LogicalPlan.scala:30)\r\n\tat org.apache.spark.sql.catalyst.trees.TreeNode.transformDown(TreeNode.scala:560)\r\n\tat org.apache.spark.sql.execution.QueryExecution.eagerlyExecuteCommands(QueryExecution.scala:94)\r\n\tat org.apache.spark.sql.execution.QueryExecution.commandExecuted$lzycompute(QueryExecution.scala:81)\r\n\tat org.apache.spark.sql.execution.QueryExecution.commandExecuted(QueryExecution.scala:79)\r\n\tat org.apache.spark.sql.execution.QueryExecution.assertCommandExecuted(QueryExecution.scala:116)\r\n\tat org.apache.spark.sql.DataFrameWriter.runCommand(DataFrameWriter.scala:860)\r\n\tat org.apache.spark.sql.DataFrameWriter.saveToV1Source(DataFrameWriter.scala:390)\r\n\tat org.apache.spark.sql.DataFrameWriter.saveInternal(DataFrameWriter.scala:363)\r\n\tat org.apache.spark.sql.DataFrameWriter.save(DataFrameWriter.scala:239)\r\n\tat java.base/jdk.internal.reflect.DirectMethodHandleAccessor.invoke(DirectMethodHandleAccessor.java:104)\r\n\tat java.base/java.lang.reflect.Method.invoke(Method.java:577)\r\n\tat py4j.reflection.MethodInvoker.invoke(MethodInvoker.java:244)\r\n\tat py4j.reflection.ReflectionEngine.invoke(ReflectionEngine.java:357)\r\n\tat py4j.Gateway.invoke(Gateway.java:282)\r\n\tat py4j.commands.AbstractCommand.invokeMethod(AbstractCommand.java:132)\r\n\tat py4j.commands.CallCommand.execute(CallCommand.java:79)\r\n\tat py4j.ClientServerConnection.waitForCommands(ClientServerConnection.java:182)\r\n\tat py4j.ClientServerConnection.run(ClientServerConnection.java:106)\r\n\tat java.base/java.lang.Thread.run(Thread.java:833)\r\nCaused by: java.lang.UnsatisfiedLinkError: 'boolean org.apache.hadoop.io.nativeio.NativeIO$Windows.access0(java.lang.String, int)'\r\n\tat org.apache.hadoop.io.nativeio.NativeIO$Windows.access0(Native Method)\r\n\tat org.apache.hadoop.io.nativeio.NativeIO$Windows.access(NativeIO.java:793)\r\n\tat org.apache.hadoop.fs.FileUtil.canRead(FileUtil.java:1218)\r\n\tat org.apache.hadoop.fs.FileUtil.list(FileUtil.java:1423)\r\n\tat org.apache.hadoop.fs.RawLocalFileSystem.listStatus(RawLocalFileSystem.java:601)\r\n\tat org.apache.hadoop.fs.FileSystem.listStatus(FileSystem.java:1972)\r\n\tat org.apache.hadoop.fs.FileSystem.listStatus(FileSystem.java:2014)\r\n\tat org.apache.hadoop.fs.ChecksumFileSystem.listStatus(ChecksumFileSystem.java:761)\r\n\tat org.apache.hadoop.fs.FileSystem.listStatus(FileSystem.java:1972)\r\n\tat org.apache.hadoop.fs.FileSystem.listStatus(FileSystem.java:2014)\r\n\tat org.apache.hadoop.mapreduce.lib.output.FileOutputCommitter.getAllCommittedTaskPaths(FileOutputCommitter.java:334)\r\n\tat org.apache.hadoop.mapreduce.lib.output.FileOutputCommitter.commitJobInternal(FileOutputCommitter.java:404)\r\n\tat org.apache.hadoop.mapreduce.lib.output.FileOutputCommitter.commitJob(FileOutputCommitter.java:377)\r\n\tat org.apache.spark.internal.io.HadoopMapReduceCommitProtocol.commitJob(HadoopMapReduceCommitProtocol.scala:192)\r\n\tat org.apache.spark.sql.execution.datasources.FileFormatWriter$.$anonfun$write$25(FileFormatWriter.scala:267)\r\n\tat scala.runtime.java8.JFunction0$mcV$sp.apply(JFunction0$mcV$sp.java:23)\r\n\tat org.apache.spark.util.Utils$.timeTakenMs(Utils.scala:642)\r\n\tat org.apache.spark.sql.execution.datasources.FileFormatWriter$.write(FileFormatWriter.scala:267)\r\n\t... 39 more\r\n",
     "output_type": "error",
     "traceback": [
      "\u001b[1;31m---------------------------------------------------------------------------\u001b[0m",
      "\u001b[1;31mPy4JJavaError\u001b[0m                             Traceback (most recent call last)",
      "\u001b[1;32m~\\AppData\\Local\\Temp\\ipykernel_11320\\2457055816.py\u001b[0m in \u001b[0;36m<module>\u001b[1;34m\u001b[0m\n\u001b[0;32m      1\u001b[0m \u001b[1;31m# if you want to overwrite the file\u001b[0m\u001b[1;33m\u001b[0m\u001b[1;33m\u001b[0m\u001b[0m\n\u001b[1;32m----> 2\u001b[1;33m \u001b[0mdf\u001b[0m\u001b[1;33m.\u001b[0m\u001b[0mwrite\u001b[0m\u001b[1;33m.\u001b[0m\u001b[0mformat\u001b[0m\u001b[1;33m(\u001b[0m\u001b[1;34m\"csv\"\u001b[0m\u001b[1;33m)\u001b[0m\u001b[1;33m.\u001b[0m\u001b[0mmode\u001b[0m\u001b[1;33m(\u001b[0m\u001b[1;34m\"overwrite\"\u001b[0m\u001b[1;33m)\u001b[0m\u001b[1;33m.\u001b[0m\u001b[0msave\u001b[0m\u001b[1;33m(\u001b[0m\u001b[1;34m\"heart_save.csv\"\u001b[0m\u001b[1;33m)\u001b[0m\u001b[1;33m\u001b[0m\u001b[1;33m\u001b[0m\u001b[0m\n\u001b[0m",
      "\u001b[1;32m~\\anaconda3\\lib\\site-packages\\pyspark\\sql\\readwriter.py\u001b[0m in \u001b[0;36msave\u001b[1;34m(self, path, format, mode, partitionBy, **options)\u001b[0m\n\u001b[0;32m   1396\u001b[0m             \u001b[0mself\u001b[0m\u001b[1;33m.\u001b[0m\u001b[0m_jwrite\u001b[0m\u001b[1;33m.\u001b[0m\u001b[0msave\u001b[0m\u001b[1;33m(\u001b[0m\u001b[1;33m)\u001b[0m\u001b[1;33m\u001b[0m\u001b[1;33m\u001b[0m\u001b[0m\n\u001b[0;32m   1397\u001b[0m         \u001b[1;32melse\u001b[0m\u001b[1;33m:\u001b[0m\u001b[1;33m\u001b[0m\u001b[1;33m\u001b[0m\u001b[0m\n\u001b[1;32m-> 1398\u001b[1;33m             \u001b[0mself\u001b[0m\u001b[1;33m.\u001b[0m\u001b[0m_jwrite\u001b[0m\u001b[1;33m.\u001b[0m\u001b[0msave\u001b[0m\u001b[1;33m(\u001b[0m\u001b[0mpath\u001b[0m\u001b[1;33m)\u001b[0m\u001b[1;33m\u001b[0m\u001b[1;33m\u001b[0m\u001b[0m\n\u001b[0m\u001b[0;32m   1399\u001b[0m \u001b[1;33m\u001b[0m\u001b[0m\n\u001b[0;32m   1400\u001b[0m     \u001b[1;32mdef\u001b[0m \u001b[0minsertInto\u001b[0m\u001b[1;33m(\u001b[0m\u001b[0mself\u001b[0m\u001b[1;33m,\u001b[0m \u001b[0mtableName\u001b[0m\u001b[1;33m:\u001b[0m \u001b[0mstr\u001b[0m\u001b[1;33m,\u001b[0m \u001b[0moverwrite\u001b[0m\u001b[1;33m:\u001b[0m \u001b[0mOptional\u001b[0m\u001b[1;33m[\u001b[0m\u001b[0mbool\u001b[0m\u001b[1;33m]\u001b[0m \u001b[1;33m=\u001b[0m \u001b[1;32mNone\u001b[0m\u001b[1;33m)\u001b[0m \u001b[1;33m->\u001b[0m \u001b[1;32mNone\u001b[0m\u001b[1;33m:\u001b[0m\u001b[1;33m\u001b[0m\u001b[1;33m\u001b[0m\u001b[0m\n",
      "\u001b[1;32m~\\anaconda3\\lib\\site-packages\\py4j\\java_gateway.py\u001b[0m in \u001b[0;36m__call__\u001b[1;34m(self, *args)\u001b[0m\n\u001b[0;32m   1320\u001b[0m \u001b[1;33m\u001b[0m\u001b[0m\n\u001b[0;32m   1321\u001b[0m         \u001b[0manswer\u001b[0m \u001b[1;33m=\u001b[0m \u001b[0mself\u001b[0m\u001b[1;33m.\u001b[0m\u001b[0mgateway_client\u001b[0m\u001b[1;33m.\u001b[0m\u001b[0msend_command\u001b[0m\u001b[1;33m(\u001b[0m\u001b[0mcommand\u001b[0m\u001b[1;33m)\u001b[0m\u001b[1;33m\u001b[0m\u001b[1;33m\u001b[0m\u001b[0m\n\u001b[1;32m-> 1322\u001b[1;33m         return_value = get_return_value(\n\u001b[0m\u001b[0;32m   1323\u001b[0m             answer, self.gateway_client, self.target_id, self.name)\n\u001b[0;32m   1324\u001b[0m \u001b[1;33m\u001b[0m\u001b[0m\n",
      "\u001b[1;32m~\\anaconda3\\lib\\site-packages\\pyspark\\errors\\exceptions\\captured.py\u001b[0m in \u001b[0;36mdeco\u001b[1;34m(*a, **kw)\u001b[0m\n\u001b[0;32m    167\u001b[0m     \u001b[1;32mdef\u001b[0m \u001b[0mdeco\u001b[0m\u001b[1;33m(\u001b[0m\u001b[1;33m*\u001b[0m\u001b[0ma\u001b[0m\u001b[1;33m:\u001b[0m \u001b[0mAny\u001b[0m\u001b[1;33m,\u001b[0m \u001b[1;33m**\u001b[0m\u001b[0mkw\u001b[0m\u001b[1;33m:\u001b[0m \u001b[0mAny\u001b[0m\u001b[1;33m)\u001b[0m \u001b[1;33m->\u001b[0m \u001b[0mAny\u001b[0m\u001b[1;33m:\u001b[0m\u001b[1;33m\u001b[0m\u001b[1;33m\u001b[0m\u001b[0m\n\u001b[0;32m    168\u001b[0m         \u001b[1;32mtry\u001b[0m\u001b[1;33m:\u001b[0m\u001b[1;33m\u001b[0m\u001b[1;33m\u001b[0m\u001b[0m\n\u001b[1;32m--> 169\u001b[1;33m             \u001b[1;32mreturn\u001b[0m \u001b[0mf\u001b[0m\u001b[1;33m(\u001b[0m\u001b[1;33m*\u001b[0m\u001b[0ma\u001b[0m\u001b[1;33m,\u001b[0m \u001b[1;33m**\u001b[0m\u001b[0mkw\u001b[0m\u001b[1;33m)\u001b[0m\u001b[1;33m\u001b[0m\u001b[1;33m\u001b[0m\u001b[0m\n\u001b[0m\u001b[0;32m    170\u001b[0m         \u001b[1;32mexcept\u001b[0m \u001b[0mPy4JJavaError\u001b[0m \u001b[1;32mas\u001b[0m \u001b[0me\u001b[0m\u001b[1;33m:\u001b[0m\u001b[1;33m\u001b[0m\u001b[1;33m\u001b[0m\u001b[0m\n\u001b[0;32m    171\u001b[0m             \u001b[0mconverted\u001b[0m \u001b[1;33m=\u001b[0m \u001b[0mconvert_exception\u001b[0m\u001b[1;33m(\u001b[0m\u001b[0me\u001b[0m\u001b[1;33m.\u001b[0m\u001b[0mjava_exception\u001b[0m\u001b[1;33m)\u001b[0m\u001b[1;33m\u001b[0m\u001b[1;33m\u001b[0m\u001b[0m\n",
      "\u001b[1;32m~\\anaconda3\\lib\\site-packages\\py4j\\protocol.py\u001b[0m in \u001b[0;36mget_return_value\u001b[1;34m(answer, gateway_client, target_id, name)\u001b[0m\n\u001b[0;32m    324\u001b[0m             \u001b[0mvalue\u001b[0m \u001b[1;33m=\u001b[0m \u001b[0mOUTPUT_CONVERTER\u001b[0m\u001b[1;33m[\u001b[0m\u001b[0mtype\u001b[0m\u001b[1;33m]\u001b[0m\u001b[1;33m(\u001b[0m\u001b[0manswer\u001b[0m\u001b[1;33m[\u001b[0m\u001b[1;36m2\u001b[0m\u001b[1;33m:\u001b[0m\u001b[1;33m]\u001b[0m\u001b[1;33m,\u001b[0m \u001b[0mgateway_client\u001b[0m\u001b[1;33m)\u001b[0m\u001b[1;33m\u001b[0m\u001b[1;33m\u001b[0m\u001b[0m\n\u001b[0;32m    325\u001b[0m             \u001b[1;32mif\u001b[0m \u001b[0manswer\u001b[0m\u001b[1;33m[\u001b[0m\u001b[1;36m1\u001b[0m\u001b[1;33m]\u001b[0m \u001b[1;33m==\u001b[0m \u001b[0mREFERENCE_TYPE\u001b[0m\u001b[1;33m:\u001b[0m\u001b[1;33m\u001b[0m\u001b[1;33m\u001b[0m\u001b[0m\n\u001b[1;32m--> 326\u001b[1;33m                 raise Py4JJavaError(\n\u001b[0m\u001b[0;32m    327\u001b[0m                     \u001b[1;34m\"An error occurred while calling {0}{1}{2}.\\n\"\u001b[0m\u001b[1;33m.\u001b[0m\u001b[1;33m\u001b[0m\u001b[1;33m\u001b[0m\u001b[0m\n\u001b[0;32m    328\u001b[0m                     format(target_id, \".\", name), value)\n",
      "\u001b[1;31mPy4JJavaError\u001b[0m: An error occurred while calling o91.save.\n: org.apache.spark.SparkException: Job aborted.\r\n\tat org.apache.spark.sql.errors.QueryExecutionErrors$.jobAbortedError(QueryExecutionErrors.scala:651)\r\n\tat org.apache.spark.sql.execution.datasources.FileFormatWriter$.write(FileFormatWriter.scala:278)\r\n\tat org.apache.spark.sql.execution.datasources.InsertIntoHadoopFsRelationCommand.run(InsertIntoHadoopFsRelationCommand.scala:186)\r\n\tat org.apache.spark.sql.execution.command.DataWritingCommandExec.sideEffectResult$lzycompute(commands.scala:113)\r\n\tat org.apache.spark.sql.execution.command.DataWritingCommandExec.sideEffectResult(commands.scala:111)\r\n\tat org.apache.spark.sql.execution.command.DataWritingCommandExec.executeCollect(commands.scala:125)\r\n\tat org.apache.spark.sql.execution.QueryExecution$$anonfun$eagerlyExecuteCommands$1.$anonfun$applyOrElse$1(QueryExecution.scala:98)\r\n\tat org.apache.spark.sql.execution.SQLExecution$.$anonfun$withNewExecutionId$6(SQLExecution.scala:109)\r\n\tat org.apache.spark.sql.execution.SQLExecution$.withSQLConfPropagated(SQLExecution.scala:169)\r\n\tat org.apache.spark.sql.execution.SQLExecution$.$anonfun$withNewExecutionId$1(SQLExecution.scala:95)\r\n\tat org.apache.spark.sql.SparkSession.withActive(SparkSession.scala:779)\r\n\tat org.apache.spark.sql.execution.SQLExecution$.withNewExecutionId(SQLExecution.scala:64)\r\n\tat org.apache.spark.sql.execution.QueryExecution$$anonfun$eagerlyExecuteCommands$1.applyOrElse(QueryExecution.scala:98)\r\n\tat org.apache.spark.sql.execution.QueryExecution$$anonfun$eagerlyExecuteCommands$1.applyOrElse(QueryExecution.scala:94)\r\n\tat org.apache.spark.sql.catalyst.trees.TreeNode.$anonfun$transformDownWithPruning$1(TreeNode.scala:584)\r\n\tat org.apache.spark.sql.catalyst.trees.CurrentOrigin$.withOrigin(TreeNode.scala:176)\r\n\tat org.apache.spark.sql.catalyst.trees.TreeNode.transformDownWithPruning(TreeNode.scala:584)\r\n\tat org.apache.spark.sql.catalyst.plans.logical.LogicalPlan.org$apache$spark$sql$catalyst$plans$logical$AnalysisHelper$$super$transformDownWithPruning(LogicalPlan.scala:30)\r\n\tat org.apache.spark.sql.catalyst.plans.logical.AnalysisHelper.transformDownWithPruning(AnalysisHelper.scala:267)\r\n\tat org.apache.spark.sql.catalyst.plans.logical.AnalysisHelper.transformDownWithPruning$(AnalysisHelper.scala:263)\r\n\tat org.apache.spark.sql.catalyst.plans.logical.LogicalPlan.transformDownWithPruning(LogicalPlan.scala:30)\r\n\tat org.apache.spark.sql.catalyst.plans.logical.LogicalPlan.transformDownWithPruning(LogicalPlan.scala:30)\r\n\tat org.apache.spark.sql.catalyst.trees.TreeNode.transformDown(TreeNode.scala:560)\r\n\tat org.apache.spark.sql.execution.QueryExecution.eagerlyExecuteCommands(QueryExecution.scala:94)\r\n\tat org.apache.spark.sql.execution.QueryExecution.commandExecuted$lzycompute(QueryExecution.scala:81)\r\n\tat org.apache.spark.sql.execution.QueryExecution.commandExecuted(QueryExecution.scala:79)\r\n\tat org.apache.spark.sql.execution.QueryExecution.assertCommandExecuted(QueryExecution.scala:116)\r\n\tat org.apache.spark.sql.DataFrameWriter.runCommand(DataFrameWriter.scala:860)\r\n\tat org.apache.spark.sql.DataFrameWriter.saveToV1Source(DataFrameWriter.scala:390)\r\n\tat org.apache.spark.sql.DataFrameWriter.saveInternal(DataFrameWriter.scala:363)\r\n\tat org.apache.spark.sql.DataFrameWriter.save(DataFrameWriter.scala:239)\r\n\tat java.base/jdk.internal.reflect.DirectMethodHandleAccessor.invoke(DirectMethodHandleAccessor.java:104)\r\n\tat java.base/java.lang.reflect.Method.invoke(Method.java:577)\r\n\tat py4j.reflection.MethodInvoker.invoke(MethodInvoker.java:244)\r\n\tat py4j.reflection.ReflectionEngine.invoke(ReflectionEngine.java:357)\r\n\tat py4j.Gateway.invoke(Gateway.java:282)\r\n\tat py4j.commands.AbstractCommand.invokeMethod(AbstractCommand.java:132)\r\n\tat py4j.commands.CallCommand.execute(CallCommand.java:79)\r\n\tat py4j.ClientServerConnection.waitForCommands(ClientServerConnection.java:182)\r\n\tat py4j.ClientServerConnection.run(ClientServerConnection.java:106)\r\n\tat java.base/java.lang.Thread.run(Thread.java:833)\r\nCaused by: java.lang.UnsatisfiedLinkError: 'boolean org.apache.hadoop.io.nativeio.NativeIO$Windows.access0(java.lang.String, int)'\r\n\tat org.apache.hadoop.io.nativeio.NativeIO$Windows.access0(Native Method)\r\n\tat org.apache.hadoop.io.nativeio.NativeIO$Windows.access(NativeIO.java:793)\r\n\tat org.apache.hadoop.fs.FileUtil.canRead(FileUtil.java:1218)\r\n\tat org.apache.hadoop.fs.FileUtil.list(FileUtil.java:1423)\r\n\tat org.apache.hadoop.fs.RawLocalFileSystem.listStatus(RawLocalFileSystem.java:601)\r\n\tat org.apache.hadoop.fs.FileSystem.listStatus(FileSystem.java:1972)\r\n\tat org.apache.hadoop.fs.FileSystem.listStatus(FileSystem.java:2014)\r\n\tat org.apache.hadoop.fs.ChecksumFileSystem.listStatus(ChecksumFileSystem.java:761)\r\n\tat org.apache.hadoop.fs.FileSystem.listStatus(FileSystem.java:1972)\r\n\tat org.apache.hadoop.fs.FileSystem.listStatus(FileSystem.java:2014)\r\n\tat org.apache.hadoop.mapreduce.lib.output.FileOutputCommitter.getAllCommittedTaskPaths(FileOutputCommitter.java:334)\r\n\tat org.apache.hadoop.mapreduce.lib.output.FileOutputCommitter.commitJobInternal(FileOutputCommitter.java:404)\r\n\tat org.apache.hadoop.mapreduce.lib.output.FileOutputCommitter.commitJob(FileOutputCommitter.java:377)\r\n\tat org.apache.spark.internal.io.HadoopMapReduceCommitProtocol.commitJob(HadoopMapReduceCommitProtocol.scala:192)\r\n\tat org.apache.spark.sql.execution.datasources.FileFormatWriter$.$anonfun$write$25(FileFormatWriter.scala:267)\r\n\tat scala.runtime.java8.JFunction0$mcV$sp.apply(JFunction0$mcV$sp.java:23)\r\n\tat org.apache.spark.util.Utils$.timeTakenMs(Utils.scala:642)\r\n\tat org.apache.spark.sql.execution.datasources.FileFormatWriter$.write(FileFormatWriter.scala:267)\r\n\t... 39 more\r\n"
     ]
    }
   ],
   "source": [
    "# if you want to overwrite the file\n",
    "df.write.format(\"csv\").mode(\"overwrite\").save(\"heart_save.csv\")"
   ]
  },
  {
   "cell_type": "code",
   "execution_count": 19,
   "id": "a32f7b26",
   "metadata": {},
   "outputs": [
    {
     "name": "stdout",
     "output_type": "stream",
     "text": [
      "+---+---+-------------+---------+-----------+---------+----------+-----+--------------+-------+--------+------------+\n",
      "|Age|Sex|ChestPainType|RestingBP|Cholesterol|FastingBS|RestingECG|MaxHR|ExerciseAngina|Oldpeak|ST_Slope|HeartDisease|\n",
      "+---+---+-------------+---------+-----------+---------+----------+-----+--------------+-------+--------+------------+\n",
      "| 40|  M|          ATA|      140|        289|        0|    Normal|  172|             N|      0|      Up|           0|\n",
      "| 49|  F|          NAP|      160|        180|        0|    Normal|  156|             N|      1|    Flat|           1|\n",
      "| 37|  M|          ATA|      130|        283|        0|        ST|   98|             N|      0|      Up|           0|\n",
      "+---+---+-------------+---------+-----------+---------+----------+-----+--------------+-------+--------+------------+\n",
      "only showing top 3 rows\n",
      "\n"
     ]
    }
   ],
   "source": [
    "# show head of table\n",
    "df.show(3)"
   ]
  },
  {
   "cell_type": "markdown",
   "id": "ef3c01fb-44db-4148-b8ec-f326373c8766",
   "metadata": {},
   "source": [
    "So this doesn't read the first row as the column headers unless it is specified when you read the dataframe with header='true'. In order to do this we must set the header (key) to true (value) and then show() the values."
   ]
  },
  {
   "cell_type": "code",
   "execution_count": 12,
   "id": "fa43964f-592c-4f1d-8a4a-352c66083d76",
   "metadata": {},
   "outputs": [
    {
     "name": "stdout",
     "output_type": "stream",
     "text": [
      "+---+---+-------------+---------+-----------+---------+----------+-----+--------------+-------+--------+------------+\n",
      "|Age|Sex|ChestPainType|RestingBP|Cholesterol|FastingBS|RestingECG|MaxHR|ExerciseAngina|Oldpeak|ST_Slope|HeartDisease|\n",
      "+---+---+-------------+---------+-----------+---------+----------+-----+--------------+-------+--------+------------+\n",
      "| 40|  M|          ATA|      140|        289|        0|    Normal|  172|             N|      0|      Up|           0|\n",
      "| 49|  F|          NAP|      160|        180|        0|    Normal|  156|             N|      1|    Flat|           1|\n",
      "| 37|  M|          ATA|      130|        283|        0|        ST|   98|             N|      0|      Up|           0|\n",
      "+---+---+-------------+---------+-----------+---------+----------+-----+--------------+-------+--------+------------+\n",
      "only showing top 3 rows\n",
      "\n"
     ]
    }
   ],
   "source": [
    "spark.read.option('header','true').csv('heart.csv').show(3)"
   ]
  },
  {
   "cell_type": "markdown",
   "id": "fc93d3b1-540a-47c9-a1dd-372233ff736c",
   "metadata": {},
   "source": [
    "Or, read the csv file into a dataframe and set the header='true', which will need to be done in order to show information in columns."
   ]
  },
  {
   "cell_type": "code",
   "execution_count": 20,
   "id": "a3a149fc-949d-4388-b4a7-e25596f236c2",
   "metadata": {},
   "outputs": [],
   "source": [
    "df = spark.read.csv('C:/Users/lynst/Documents/GitHub/machine-learning-projects/data-engineering/heart.csv', nullValue='NA', header='true')"
   ]
  },
  {
   "cell_type": "code",
   "execution_count": 13,
   "id": "8e881c47",
   "metadata": {},
   "outputs": [
    {
     "data": {
      "text/plain": [
       "919"
      ]
     },
     "execution_count": 13,
     "metadata": {},
     "output_type": "execute_result"
    }
   ],
   "source": [
    "# count number of rows\n",
    "df.count()"
   ]
  },
  {
   "cell_type": "code",
   "execution_count": 21,
   "id": "9064829c",
   "metadata": {},
   "outputs": [
    {
     "name": "stdout",
     "output_type": "stream",
     "text": [
      "+---+\n",
      "|Age|\n",
      "+---+\n",
      "| 40|\n",
      "| 49|\n",
      "| 37|\n",
      "+---+\n",
      "only showing top 3 rows\n",
      "\n",
      "+---+---+\n",
      "|Age|Sex|\n",
      "+---+---+\n",
      "| 40|  M|\n",
      "| 49|  F|\n",
      "| 37|  M|\n",
      "+---+---+\n",
      "only showing top 3 rows\n",
      "\n"
     ]
    }
   ],
   "source": [
    "# show parts of the table\n",
    "df.select('Age').show(3)\n",
    "df.select(['Age', 'Sex']).show(3)"
   ]
  },
  {
   "cell_type": "markdown",
   "id": "c15ad8a4",
   "metadata": {},
   "source": [
    "## Caching\n",
    "every time you run a DAG, it will be re-computed from the beginning. that is, the results are not saved in memory. so, if we want to save a result so it won't have to be recomputed, we can use the cache command. note, that this will occupy space in the working node's memory - so be careful with the sizes of datasets you are caching! by default, the cached DF is stored to RAM, and is unserialized (not converted into a stream of bytes). you can change both of these - store data to hard disk, serialized it, or both!\n",
    "\n",
    "## Collecting\n",
    "even after caching a DataFrame, it still sits in the worker nodes memory. if you want to collect is pieces, assemble them and save them on the master node so you won't have to pull it every time, use the command for collecting. again, be very careful with this, since the collected file will have to fit in the master node memory!"
   ]
  },
  {
   "cell_type": "code",
   "execution_count": 22,
   "id": "c70a38c3",
   "metadata": {},
   "outputs": [
    {
     "data": {
      "text/plain": [
       "[Row(Age='40', Sex='M', ChestPainType='ATA', RestingBP='140', Cholesterol='289', FastingBS='0', RestingECG='Normal', MaxHR='172', ExerciseAngina='N', Oldpeak='0', ST_Slope='Up', HeartDisease='0'),\n",
       " Row(Age='49', Sex='F', ChestPainType='NAP', RestingBP='160', Cholesterol='180', FastingBS='0', RestingECG='Normal', MaxHR='156', ExerciseAngina='N', Oldpeak='1', ST_Slope='Flat', HeartDisease='1'),\n",
       " Row(Age='37', Sex='M', ChestPainType='ATA', RestingBP='130', Cholesterol='283', FastingBS='0', RestingECG='ST', MaxHR='98', ExerciseAngina='N', Oldpeak='0', ST_Slope='Up', HeartDisease='0'),\n",
       " Row(Age='48', Sex='F', ChestPainType='ASY', RestingBP='138', Cholesterol='214', FastingBS='0', RestingECG='Normal', MaxHR='108', ExerciseAngina='Y', Oldpeak='1.5', ST_Slope='Flat', HeartDisease='1'),\n",
       " Row(Age='54', Sex='M', ChestPainType='NAP', RestingBP='150', Cholesterol='195', FastingBS='0', RestingECG='Normal', MaxHR='122', ExerciseAngina='N', Oldpeak='0', ST_Slope='Up', HeartDisease='0'),\n",
       " Row(Age='39', Sex='M', ChestPainType='NAP', RestingBP='120', Cholesterol='339', FastingBS='0', RestingECG='Normal', MaxHR='170', ExerciseAngina='N', Oldpeak='0', ST_Slope='Up', HeartDisease='0'),\n",
       " Row(Age='45', Sex='F', ChestPainType='ATA', RestingBP='130', Cholesterol='237', FastingBS='0', RestingECG='Normal', MaxHR='170', ExerciseAngina='N', Oldpeak='0', ST_Slope='Up', HeartDisease='0'),\n",
       " Row(Age='54', Sex='M', ChestPainType='ATA', RestingBP='110', Cholesterol='208', FastingBS='0', RestingECG='Normal', MaxHR='142', ExerciseAngina='N', Oldpeak='0', ST_Slope='Up', HeartDisease='0'),\n",
       " Row(Age='37', Sex='M', ChestPainType='ASY', RestingBP='140', Cholesterol='207', FastingBS='0', RestingECG='Normal', MaxHR='130', ExerciseAngina='Y', Oldpeak='1.5', ST_Slope='Flat', HeartDisease='1'),\n",
       " Row(Age='48', Sex='F', ChestPainType='ATA', RestingBP='120', Cholesterol='284', FastingBS='0', RestingECG='Normal', MaxHR='120', ExerciseAngina='N', Oldpeak='0', ST_Slope='Up', HeartDisease='0'),\n",
       " Row(Age='37', Sex='F', ChestPainType='NAP', RestingBP='130', Cholesterol='211', FastingBS='0', RestingECG='Normal', MaxHR='142', ExerciseAngina='N', Oldpeak='0', ST_Slope='Up', HeartDisease='0'),\n",
       " Row(Age='58', Sex='M', ChestPainType='ATA', RestingBP='136', Cholesterol='164', FastingBS='0', RestingECG='ST', MaxHR='99', ExerciseAngina='Y', Oldpeak='2', ST_Slope='Flat', HeartDisease='1'),\n",
       " Row(Age='39', Sex='M', ChestPainType='ATA', RestingBP='120', Cholesterol='204', FastingBS='0', RestingECG='Normal', MaxHR='145', ExerciseAngina='N', Oldpeak='0', ST_Slope='Up', HeartDisease='0'),\n",
       " Row(Age='49', Sex='M', ChestPainType='ASY', RestingBP='140', Cholesterol='234', FastingBS='0', RestingECG='Normal', MaxHR='140', ExerciseAngina='Y', Oldpeak='1', ST_Slope='Flat', HeartDisease='1'),\n",
       " Row(Age='42', Sex='F', ChestPainType='NAP', RestingBP='115', Cholesterol='211', FastingBS='0', RestingECG='ST', MaxHR='137', ExerciseAngina='N', Oldpeak='0', ST_Slope='Up', HeartDisease='0'),\n",
       " Row(Age='54', Sex='F', ChestPainType='ATA', RestingBP='120', Cholesterol='273', FastingBS='0', RestingECG='Normal', MaxHR='150', ExerciseAngina='N', Oldpeak='1.5', ST_Slope='Flat', HeartDisease='0'),\n",
       " Row(Age='38', Sex='M', ChestPainType='ASY', RestingBP='110', Cholesterol='196', FastingBS='0', RestingECG='Normal', MaxHR='166', ExerciseAngina='N', Oldpeak='0', ST_Slope='Flat', HeartDisease='1'),\n",
       " Row(Age='43', Sex='F', ChestPainType='ATA', RestingBP='120', Cholesterol='201', FastingBS='0', RestingECG='Normal', MaxHR='165', ExerciseAngina='N', Oldpeak='0', ST_Slope='Up', HeartDisease='0'),\n",
       " Row(Age='60', Sex='M', ChestPainType='ASY', RestingBP='100', Cholesterol='248', FastingBS='0', RestingECG='Normal', MaxHR='125', ExerciseAngina='N', Oldpeak='1', ST_Slope='Flat', HeartDisease='1'),\n",
       " Row(Age='36', Sex='M', ChestPainType='ATA', RestingBP='120', Cholesterol='267', FastingBS='0', RestingECG='Normal', MaxHR='160', ExerciseAngina='N', Oldpeak='3', ST_Slope='Flat', HeartDisease='1'),\n",
       " Row(Age='43', Sex='F', ChestPainType='TA', RestingBP='100', Cholesterol='223', FastingBS='0', RestingECG='Normal', MaxHR='142', ExerciseAngina='N', Oldpeak='0', ST_Slope='Up', HeartDisease='0'),\n",
       " Row(Age='44', Sex='M', ChestPainType='ATA', RestingBP='120', Cholesterol='184', FastingBS='0', RestingECG='Normal', MaxHR='142', ExerciseAngina='N', Oldpeak='1', ST_Slope='Flat', HeartDisease='0'),\n",
       " Row(Age='49', Sex='F', ChestPainType='ATA', RestingBP='124', Cholesterol='201', FastingBS='0', RestingECG='Normal', MaxHR='164', ExerciseAngina='N', Oldpeak='0', ST_Slope='Up', HeartDisease='0'),\n",
       " Row(Age='44', Sex='M', ChestPainType='ATA', RestingBP='150', Cholesterol='288', FastingBS='0', RestingECG='Normal', MaxHR='150', ExerciseAngina='Y', Oldpeak='3', ST_Slope='Flat', HeartDisease='1'),\n",
       " Row(Age='40', Sex='M', ChestPainType='NAP', RestingBP='130', Cholesterol='215', FastingBS='0', RestingECG='Normal', MaxHR='138', ExerciseAngina='N', Oldpeak='0', ST_Slope='Up', HeartDisease='0'),\n",
       " Row(Age='36', Sex='M', ChestPainType='NAP', RestingBP='130', Cholesterol='209', FastingBS='0', RestingECG='Normal', MaxHR='178', ExerciseAngina='N', Oldpeak='0', ST_Slope='Up', HeartDisease='0'),\n",
       " Row(Age='53', Sex='M', ChestPainType='ASY', RestingBP='124', Cholesterol='260', FastingBS='0', RestingECG='ST', MaxHR='112', ExerciseAngina='Y', Oldpeak='3', ST_Slope='Flat', HeartDisease='0'),\n",
       " Row(Age='52', Sex='M', ChestPainType='ATA', RestingBP='120', Cholesterol='284', FastingBS='0', RestingECG='Normal', MaxHR='118', ExerciseAngina='N', Oldpeak='0', ST_Slope='Up', HeartDisease='0'),\n",
       " Row(Age='53', Sex='F', ChestPainType='ATA', RestingBP='113', Cholesterol='468', FastingBS='0', RestingECG='Normal', MaxHR='127', ExerciseAngina='N', Oldpeak='0', ST_Slope='Up', HeartDisease='0'),\n",
       " Row(Age='51', Sex='M', ChestPainType='ATA', RestingBP='125', Cholesterol='188', FastingBS='0', RestingECG='Normal', MaxHR='145', ExerciseAngina='N', Oldpeak='0', ST_Slope='Up', HeartDisease='0'),\n",
       " Row(Age='53', Sex='M', ChestPainType='NAP', RestingBP='145', Cholesterol='518', FastingBS='0', RestingECG='Normal', MaxHR='130', ExerciseAngina='N', Oldpeak='0', ST_Slope='Flat', HeartDisease='1'),\n",
       " Row(Age='56', Sex='M', ChestPainType='NAP', RestingBP='130', Cholesterol='167', FastingBS='0', RestingECG='Normal', MaxHR='114', ExerciseAngina='N', Oldpeak='0', ST_Slope='Up', HeartDisease='0'),\n",
       " Row(Age='54', Sex='M', ChestPainType='ASY', RestingBP='125', Cholesterol='224', FastingBS='0', RestingECG='Normal', MaxHR='122', ExerciseAngina='N', Oldpeak='2', ST_Slope='Flat', HeartDisease='1'),\n",
       " Row(Age='41', Sex='M', ChestPainType='ASY', RestingBP='130', Cholesterol='172', FastingBS='0', RestingECG='ST', MaxHR='130', ExerciseAngina='N', Oldpeak='2', ST_Slope='Flat', HeartDisease='1'),\n",
       " Row(Age='43', Sex='F', ChestPainType='ATA', RestingBP='150', Cholesterol='186', FastingBS='0', RestingECG='Normal', MaxHR='154', ExerciseAngina='N', Oldpeak='0', ST_Slope='Up', HeartDisease='0'),\n",
       " Row(Age='32', Sex='M', ChestPainType='ATA', RestingBP='125', Cholesterol='254', FastingBS='0', RestingECG='Normal', MaxHR='155', ExerciseAngina='N', Oldpeak='0', ST_Slope='Up', HeartDisease='0'),\n",
       " Row(Age='65', Sex='M', ChestPainType='ASY', RestingBP='140', Cholesterol='306', FastingBS='1', RestingECG='Normal', MaxHR='87', ExerciseAngina='Y', Oldpeak='1.5', ST_Slope='Flat', HeartDisease='1'),\n",
       " Row(Age='41', Sex='F', ChestPainType='ATA', RestingBP='110', Cholesterol='250', FastingBS='0', RestingECG='ST', MaxHR='142', ExerciseAngina='N', Oldpeak='0', ST_Slope='Up', HeartDisease='0'),\n",
       " Row(Age='48', Sex='F', ChestPainType='ATA', RestingBP='120', Cholesterol='177', FastingBS='1', RestingECG='ST', MaxHR='148', ExerciseAngina='N', Oldpeak='0', ST_Slope='Up', HeartDisease='0'),\n",
       " Row(Age='48', Sex='F', ChestPainType='ASY', RestingBP='150', Cholesterol='227', FastingBS='0', RestingECG='Normal', MaxHR='130', ExerciseAngina='Y', Oldpeak='1', ST_Slope='Flat', HeartDisease='0'),\n",
       " Row(Age='54', Sex='F', ChestPainType='ATA', RestingBP='150', Cholesterol='230', FastingBS='0', RestingECG='Normal', MaxHR='130', ExerciseAngina='N', Oldpeak='0', ST_Slope='Up', HeartDisease='0'),\n",
       " Row(Age='54', Sex='F', ChestPainType='NAP', RestingBP='130', Cholesterol='294', FastingBS='0', RestingECG='ST', MaxHR='100', ExerciseAngina='Y', Oldpeak='0', ST_Slope='Flat', HeartDisease='1'),\n",
       " Row(Age='35', Sex='M', ChestPainType='ATA', RestingBP='150', Cholesterol='264', FastingBS='0', RestingECG='Normal', MaxHR='168', ExerciseAngina='N', Oldpeak='0', ST_Slope='Up', HeartDisease='0'),\n",
       " Row(Age='52', Sex='M', ChestPainType='NAP', RestingBP='140', Cholesterol='259', FastingBS='0', RestingECG='ST', MaxHR='170', ExerciseAngina='N', Oldpeak='0', ST_Slope='Up', HeartDisease='0'),\n",
       " Row(Age='43', Sex='M', ChestPainType='ASY', RestingBP='120', Cholesterol='175', FastingBS='0', RestingECG='Normal', MaxHR='120', ExerciseAngina='Y', Oldpeak='1', ST_Slope='Flat', HeartDisease='1'),\n",
       " Row(Age='59', Sex='M', ChestPainType='NAP', RestingBP='130', Cholesterol='318', FastingBS='0', RestingECG='Normal', MaxHR='120', ExerciseAngina='Y', Oldpeak='1', ST_Slope='Flat', HeartDisease='0'),\n",
       " Row(Age='37', Sex='M', ChestPainType='ASY', RestingBP='120', Cholesterol='223', FastingBS='0', RestingECG='Normal', MaxHR='168', ExerciseAngina='N', Oldpeak='0', ST_Slope='Up', HeartDisease='0'),\n",
       " Row(Age='50', Sex='M', ChestPainType='ATA', RestingBP='140', Cholesterol='216', FastingBS='0', RestingECG='Normal', MaxHR='170', ExerciseAngina='N', Oldpeak='0', ST_Slope='Up', HeartDisease='0'),\n",
       " Row(Age='36', Sex='M', ChestPainType='NAP', RestingBP='112', Cholesterol='340', FastingBS='0', RestingECG='Normal', MaxHR='184', ExerciseAngina='N', Oldpeak='1', ST_Slope='Flat', HeartDisease='0'),\n",
       " Row(Age='41', Sex='M', ChestPainType='ASY', RestingBP='110', Cholesterol='289', FastingBS='0', RestingECG='Normal', MaxHR='170', ExerciseAngina='N', Oldpeak='0', ST_Slope='Flat', HeartDisease='1'),\n",
       " Row(Age='50', Sex='M', ChestPainType='ASY', RestingBP='130', Cholesterol='233', FastingBS='0', RestingECG='Normal', MaxHR='121', ExerciseAngina='Y', Oldpeak='2', ST_Slope='Flat', HeartDisease='1'),\n",
       " Row(Age='47', Sex='F', ChestPainType='ASY', RestingBP='120', Cholesterol='205', FastingBS='0', RestingECG='Normal', MaxHR='98', ExerciseAngina='Y', Oldpeak='2', ST_Slope='Flat', HeartDisease='1'),\n",
       " Row(Age='45', Sex='M', ChestPainType='ATA', RestingBP='140', Cholesterol='224', FastingBS='1', RestingECG='Normal', MaxHR='122', ExerciseAngina='N', Oldpeak='0', ST_Slope='Up', HeartDisease='0'),\n",
       " Row(Age='41', Sex='F', ChestPainType='ATA', RestingBP='130', Cholesterol='245', FastingBS='0', RestingECG='Normal', MaxHR='150', ExerciseAngina='N', Oldpeak='0', ST_Slope='Up', HeartDisease='0'),\n",
       " Row(Age='52', Sex='F', ChestPainType='ASY', RestingBP='130', Cholesterol='180', FastingBS='0', RestingECG='Normal', MaxHR='140', ExerciseAngina='Y', Oldpeak='1.5', ST_Slope='Flat', HeartDisease='0'),\n",
       " Row(Age='51', Sex='F', ChestPainType='ATA', RestingBP='160', Cholesterol='194', FastingBS='0', RestingECG='Normal', MaxHR='170', ExerciseAngina='N', Oldpeak='0', ST_Slope='Up', HeartDisease='0'),\n",
       " Row(Age='31', Sex='M', ChestPainType='ASY', RestingBP='120', Cholesterol='270', FastingBS='0', RestingECG='Normal', MaxHR='153', ExerciseAngina='Y', Oldpeak='1.5', ST_Slope='Flat', HeartDisease='1'),\n",
       " Row(Age='58', Sex='M', ChestPainType='NAP', RestingBP='130', Cholesterol='213', FastingBS='0', RestingECG='ST', MaxHR='140', ExerciseAngina='N', Oldpeak='0', ST_Slope='Flat', HeartDisease='1'),\n",
       " Row(Age='54', Sex='M', ChestPainType='ASY', RestingBP='150', Cholesterol='365', FastingBS='0', RestingECG='ST', MaxHR='134', ExerciseAngina='N', Oldpeak='1', ST_Slope='Up', HeartDisease='0'),\n",
       " Row(Age='52', Sex='M', ChestPainType='ASY', RestingBP='112', Cholesterol='342', FastingBS='0', RestingECG='ST', MaxHR='96', ExerciseAngina='Y', Oldpeak='1', ST_Slope='Flat', HeartDisease='1'),\n",
       " Row(Age='49', Sex='M', ChestPainType='ATA', RestingBP='100', Cholesterol='253', FastingBS='0', RestingECG='Normal', MaxHR='174', ExerciseAngina='N', Oldpeak='0', ST_Slope='Up', HeartDisease='0'),\n",
       " Row(Age='43', Sex='F', ChestPainType='NAP', RestingBP='150', Cholesterol='254', FastingBS='0', RestingECG='Normal', MaxHR='175', ExerciseAngina='N', Oldpeak='0', ST_Slope='Up', HeartDisease='0'),\n",
       " Row(Age='45', Sex='M', ChestPainType='ASY', RestingBP='140', Cholesterol='224', FastingBS='0', RestingECG='Normal', MaxHR='144', ExerciseAngina='N', Oldpeak='0', ST_Slope='Up', HeartDisease='0'),\n",
       " Row(Age='46', Sex='M', ChestPainType='ASY', RestingBP='120', Cholesterol='277', FastingBS='0', RestingECG='Normal', MaxHR='125', ExerciseAngina='Y', Oldpeak='1', ST_Slope='Flat', HeartDisease='1'),\n",
       " Row(Age='50', Sex='F', ChestPainType='ATA', RestingBP='110', Cholesterol='202', FastingBS='0', RestingECG='Normal', MaxHR='145', ExerciseAngina='N', Oldpeak='0', ST_Slope='Up', HeartDisease='0'),\n",
       " Row(Age='37', Sex='F', ChestPainType='ATA', RestingBP='120', Cholesterol='260', FastingBS='0', RestingECG='Normal', MaxHR='130', ExerciseAngina='N', Oldpeak='0', ST_Slope='Up', HeartDisease='0'),\n",
       " Row(Age='45', Sex='F', ChestPainType='ASY', RestingBP='132', Cholesterol='297', FastingBS='0', RestingECG='Normal', MaxHR='144', ExerciseAngina='N', Oldpeak='0', ST_Slope='Up', HeartDisease='0'),\n",
       " Row(Age='32', Sex='M', ChestPainType='ATA', RestingBP='110', Cholesterol='225', FastingBS='0', RestingECG='Normal', MaxHR='184', ExerciseAngina='N', Oldpeak='0', ST_Slope='Up', HeartDisease='0'),\n",
       " Row(Age='52', Sex='M', ChestPainType='ASY', RestingBP='160', Cholesterol='246', FastingBS='0', RestingECG='ST', MaxHR='82', ExerciseAngina='Y', Oldpeak='4', ST_Slope='Flat', HeartDisease='1'),\n",
       " Row(Age='44', Sex='M', ChestPainType='ASY', RestingBP='150', Cholesterol='412', FastingBS='0', RestingECG='Normal', MaxHR='170', ExerciseAngina='N', Oldpeak='0', ST_Slope='Up', HeartDisease='0'),\n",
       " Row(Age='57', Sex='M', ChestPainType='ATA', RestingBP='140', Cholesterol='265', FastingBS='0', RestingECG='ST', MaxHR='145', ExerciseAngina='Y', Oldpeak='1', ST_Slope='Flat', HeartDisease='1'),\n",
       " Row(Age='44', Sex='M', ChestPainType='ATA', RestingBP='130', Cholesterol='215', FastingBS='0', RestingECG='Normal', MaxHR='135', ExerciseAngina='N', Oldpeak='0', ST_Slope='Up', HeartDisease='0'),\n",
       " Row(Age='52', Sex='M', ChestPainType='ASY', RestingBP='120', Cholesterol='182', FastingBS='0', RestingECG='Normal', MaxHR='150', ExerciseAngina='N', Oldpeak='0', ST_Slope='Flat', HeartDisease='1'),\n",
       " Row(Age='44', Sex='F', ChestPainType='ASY', RestingBP='120', Cholesterol='218', FastingBS='0', RestingECG='ST', MaxHR='115', ExerciseAngina='N', Oldpeak='0', ST_Slope='Up', HeartDisease='0'),\n",
       " Row(Age='55', Sex='M', ChestPainType='ASY', RestingBP='140', Cholesterol='268', FastingBS='0', RestingECG='Normal', MaxHR='128', ExerciseAngina='Y', Oldpeak='1.5', ST_Slope='Flat', HeartDisease='1'),\n",
       " Row(Age='46', Sex='M', ChestPainType='NAP', RestingBP='150', Cholesterol='163', FastingBS='0', RestingECG='Normal', MaxHR='116', ExerciseAngina='N', Oldpeak='0', ST_Slope='Up', HeartDisease='0'),\n",
       " Row(Age='32', Sex='M', ChestPainType='ASY', RestingBP='118', Cholesterol='529', FastingBS='0', RestingECG='Normal', MaxHR='130', ExerciseAngina='N', Oldpeak='0', ST_Slope='Flat', HeartDisease='1'),\n",
       " Row(Age='35', Sex='F', ChestPainType='ASY', RestingBP='140', Cholesterol='167', FastingBS='0', RestingECG='Normal', MaxHR='150', ExerciseAngina='N', Oldpeak='0', ST_Slope='Up', HeartDisease='0'),\n",
       " Row(Age='52', Sex='M', ChestPainType='ATA', RestingBP='140', Cholesterol='100', FastingBS='0', RestingECG='Normal', MaxHR='138', ExerciseAngina='Y', Oldpeak='0', ST_Slope='Up', HeartDisease='0'),\n",
       " Row(Age='49', Sex='M', ChestPainType='ASY', RestingBP='130', Cholesterol='206', FastingBS='0', RestingECG='Normal', MaxHR='170', ExerciseAngina='N', Oldpeak='0', ST_Slope='Flat', HeartDisease='1'),\n",
       " Row(Age='55', Sex='M', ChestPainType='NAP', RestingBP='110', Cholesterol='277', FastingBS='0', RestingECG='Normal', MaxHR='160', ExerciseAngina='N', Oldpeak='0', ST_Slope='Up', HeartDisease='0'),\n",
       " Row(Age='54', Sex='M', ChestPainType='ATA', RestingBP='120', Cholesterol='238', FastingBS='0', RestingECG='Normal', MaxHR='154', ExerciseAngina='N', Oldpeak='0', ST_Slope='Up', HeartDisease='0'),\n",
       " Row(Age='63', Sex='M', ChestPainType='ASY', RestingBP='150', Cholesterol='223', FastingBS='0', RestingECG='Normal', MaxHR='115', ExerciseAngina='N', Oldpeak='0', ST_Slope='Flat', HeartDisease='1'),\n",
       " Row(Age='52', Sex='M', ChestPainType='ATA', RestingBP='160', Cholesterol='196', FastingBS='0', RestingECG='Normal', MaxHR='165', ExerciseAngina='N', Oldpeak='0', ST_Slope='Up', HeartDisease='0'),\n",
       " Row(Age='56', Sex='M', ChestPainType='ASY', RestingBP='150', Cholesterol='213', FastingBS='1', RestingECG='Normal', MaxHR='125', ExerciseAngina='Y', Oldpeak='1', ST_Slope='Flat', HeartDisease='1'),\n",
       " Row(Age='66', Sex='M', ChestPainType='ASY', RestingBP='140', Cholesterol='139', FastingBS='0', RestingECG='Normal', MaxHR='94', ExerciseAngina='Y', Oldpeak='1', ST_Slope='Flat', HeartDisease='1'),\n",
       " Row(Age='65', Sex='M', ChestPainType='ASY', RestingBP='170', Cholesterol='263', FastingBS='1', RestingECG='Normal', MaxHR='112', ExerciseAngina='Y', Oldpeak='2', ST_Slope='Flat', HeartDisease='1'),\n",
       " Row(Age='53', Sex='F', ChestPainType='ATA', RestingBP='140', Cholesterol='216', FastingBS='0', RestingECG='Normal', MaxHR='142', ExerciseAngina='Y', Oldpeak='2', ST_Slope='Flat', HeartDisease='0'),\n",
       " Row(Age='43', Sex='M', ChestPainType='TA', RestingBP='120', Cholesterol='291', FastingBS='0', RestingECG='ST', MaxHR='155', ExerciseAngina='N', Oldpeak='0', ST_Slope='Flat', HeartDisease='1'),\n",
       " Row(Age='55', Sex='M', ChestPainType='ASY', RestingBP='140', Cholesterol='229', FastingBS='0', RestingECG='Normal', MaxHR='110', ExerciseAngina='Y', Oldpeak='0.5', ST_Slope='Flat', HeartDisease='0'),\n",
       " Row(Age='49', Sex='F', ChestPainType='ATA', RestingBP='110', Cholesterol='208', FastingBS='0', RestingECG='Normal', MaxHR='160', ExerciseAngina='N', Oldpeak='0', ST_Slope='Up', HeartDisease='0'),\n",
       " Row(Age='39', Sex='M', ChestPainType='ASY', RestingBP='130', Cholesterol='307', FastingBS='0', RestingECG='Normal', MaxHR='140', ExerciseAngina='N', Oldpeak='0', ST_Slope='Up', HeartDisease='0'),\n",
       " Row(Age='52', Sex='F', ChestPainType='ATA', RestingBP='120', Cholesterol='210', FastingBS='0', RestingECG='Normal', MaxHR='148', ExerciseAngina='N', Oldpeak='0', ST_Slope='Up', HeartDisease='0'),\n",
       " Row(Age='48', Sex='M', ChestPainType='ASY', RestingBP='160', Cholesterol='329', FastingBS='0', RestingECG='Normal', MaxHR='92', ExerciseAngina='Y', Oldpeak='1.5', ST_Slope='Flat', HeartDisease='1'),\n",
       " Row(Age='39', Sex='F', ChestPainType='NAP', RestingBP='110', Cholesterol='182', FastingBS='0', RestingECG='ST', MaxHR='180', ExerciseAngina='N', Oldpeak='0', ST_Slope='Up', HeartDisease='0'),\n",
       " Row(Age='58', Sex='M', ChestPainType='ASY', RestingBP='130', Cholesterol='263', FastingBS='0', RestingECG='Normal', MaxHR='140', ExerciseAngina='Y', Oldpeak='2', ST_Slope='Flat', HeartDisease='1'),\n",
       " Row(Age='43', Sex='M', ChestPainType='ATA', RestingBP='142', Cholesterol='207', FastingBS='0', RestingECG='Normal', MaxHR='138', ExerciseAngina='N', Oldpeak='0', ST_Slope='Up', HeartDisease='0'),\n",
       " Row(Age='39', Sex='M', ChestPainType='NAP', RestingBP='160', Cholesterol='147', FastingBS='1', RestingECG='Normal', MaxHR='160', ExerciseAngina='N', Oldpeak='0', ST_Slope='Up', HeartDisease='0'),\n",
       " Row(Age='56', Sex='M', ChestPainType='ASY', RestingBP='120', Cholesterol='85', FastingBS='0', RestingECG='Normal', MaxHR='140', ExerciseAngina='N', Oldpeak='0', ST_Slope='Up', HeartDisease='0'),\n",
       " Row(Age='41', Sex='M', ChestPainType='ATA', RestingBP='125', Cholesterol='269', FastingBS='0', RestingECG='Normal', MaxHR='144', ExerciseAngina='N', Oldpeak='0', ST_Slope='Up', HeartDisease='0'),\n",
       " Row(Age='65', Sex='M', ChestPainType='ASY', RestingBP='130', Cholesterol='275', FastingBS='0', RestingECG='ST', MaxHR='115', ExerciseAngina='Y', Oldpeak='1', ST_Slope='Flat', HeartDisease='1'),\n",
       " Row(Age='51', Sex='M', ChestPainType='ASY', RestingBP='130', Cholesterol='179', FastingBS='0', RestingECG='Normal', MaxHR='100', ExerciseAngina='N', Oldpeak='0', ST_Slope='Up', HeartDisease='0'),\n",
       " Row(Age='40', Sex='F', ChestPainType='ASY', RestingBP='150', Cholesterol='392', FastingBS='0', RestingECG='Normal', MaxHR='130', ExerciseAngina='N', Oldpeak='2', ST_Slope='Flat', HeartDisease='1'),\n",
       " Row(Age='40', Sex='M', ChestPainType='ASY', RestingBP='120', Cholesterol='466', FastingBS='1', RestingECG='Normal', MaxHR='152', ExerciseAngina='Y', Oldpeak='1', ST_Slope='Flat', HeartDisease='1'),\n",
       " Row(Age='46', Sex='M', ChestPainType='ASY', RestingBP='118', Cholesterol='186', FastingBS='0', RestingECG='Normal', MaxHR='124', ExerciseAngina='N', Oldpeak='0', ST_Slope='Flat', HeartDisease='1'),\n",
       " Row(Age='57', Sex='M', ChestPainType='ATA', RestingBP='140', Cholesterol='260', FastingBS='1', RestingECG='Normal', MaxHR='140', ExerciseAngina='N', Oldpeak='0', ST_Slope='Up', HeartDisease='0'),\n",
       " Row(Age='48', Sex='F', ChestPainType='ASY', RestingBP='120', Cholesterol='254', FastingBS='0', RestingECG='ST', MaxHR='110', ExerciseAngina='N', Oldpeak='0', ST_Slope='Up', HeartDisease='0'),\n",
       " Row(Age='34', Sex='M', ChestPainType='ATA', RestingBP='150', Cholesterol='214', FastingBS='0', RestingECG='ST', MaxHR='168', ExerciseAngina='N', Oldpeak='0', ST_Slope='Up', HeartDisease='0'),\n",
       " Row(Age='50', Sex='M', ChestPainType='ASY', RestingBP='140', Cholesterol='129', FastingBS='0', RestingECG='Normal', MaxHR='135', ExerciseAngina='N', Oldpeak='0', ST_Slope='Up', HeartDisease='0'),\n",
       " Row(Age='39', Sex='M', ChestPainType='ATA', RestingBP='190', Cholesterol='241', FastingBS='0', RestingECG='Normal', MaxHR='106', ExerciseAngina='N', Oldpeak='0', ST_Slope='Up', HeartDisease='0'),\n",
       " Row(Age='59', Sex='F', ChestPainType='ATA', RestingBP='130', Cholesterol='188', FastingBS='0', RestingECG='Normal', MaxHR='124', ExerciseAngina='N', Oldpeak='1', ST_Slope='Flat', HeartDisease='0'),\n",
       " Row(Age='57', Sex='M', ChestPainType='ASY', RestingBP='150', Cholesterol='255', FastingBS='0', RestingECG='Normal', MaxHR='92', ExerciseAngina='Y', Oldpeak='3', ST_Slope='Flat', HeartDisease='1'),\n",
       " Row(Age='47', Sex='M', ChestPainType='ASY', RestingBP='140', Cholesterol='276', FastingBS='1', RestingECG='Normal', MaxHR='125', ExerciseAngina='Y', Oldpeak='0', ST_Slope='Up', HeartDisease='0'),\n",
       " Row(Age='38', Sex='M', ChestPainType='ATA', RestingBP='140', Cholesterol='297', FastingBS='0', RestingECG='Normal', MaxHR='150', ExerciseAngina='N', Oldpeak='0', ST_Slope='Up', HeartDisease='0'),\n",
       " Row(Age='49', Sex='F', ChestPainType='NAP', RestingBP='130', Cholesterol='207', FastingBS='0', RestingECG='ST', MaxHR='135', ExerciseAngina='N', Oldpeak='0', ST_Slope='Up', HeartDisease='0'),\n",
       " Row(Age='33', Sex='F', ChestPainType='ASY', RestingBP='100', Cholesterol='246', FastingBS='0', RestingECG='Normal', MaxHR='150', ExerciseAngina='Y', Oldpeak='1', ST_Slope='Flat', HeartDisease='1'),\n",
       " Row(Age='38', Sex='M', ChestPainType='ASY', RestingBP='120', Cholesterol='282', FastingBS='0', RestingECG='Normal', MaxHR='170', ExerciseAngina='N', Oldpeak='0', ST_Slope='Flat', HeartDisease='1'),\n",
       " Row(Age='59', Sex='F', ChestPainType='ASY', RestingBP='130', Cholesterol='338', FastingBS='1', RestingECG='ST', MaxHR='130', ExerciseAngina='Y', Oldpeak='1.5', ST_Slope='Flat', HeartDisease='1'),\n",
       " Row(Age='35', Sex='F', ChestPainType='TA', RestingBP='120', Cholesterol='160', FastingBS='0', RestingECG='ST', MaxHR='185', ExerciseAngina='N', Oldpeak='0', ST_Slope='Up', HeartDisease='0'),\n",
       " Row(Age='34', Sex='M', ChestPainType='TA', RestingBP='140', Cholesterol='156', FastingBS='0', RestingECG='Normal', MaxHR='180', ExerciseAngina='N', Oldpeak='0', ST_Slope='Flat', HeartDisease='1'),\n",
       " Row(Age='47', Sex='F', ChestPainType='NAP', RestingBP='135', Cholesterol='248', FastingBS='1', RestingECG='Normal', MaxHR='170', ExerciseAngina='N', Oldpeak='0', ST_Slope='Flat', HeartDisease='1'),\n",
       " Row(Age='52', Sex='F', ChestPainType='NAP', RestingBP='125', Cholesterol='272', FastingBS='0', RestingECG='Normal', MaxHR='139', ExerciseAngina='N', Oldpeak='0', ST_Slope='Up', HeartDisease='0'),\n",
       " Row(Age='46', Sex='M', ChestPainType='ASY', RestingBP='110', Cholesterol='240', FastingBS='0', RestingECG='ST', MaxHR='140', ExerciseAngina='N', Oldpeak='0', ST_Slope='Up', HeartDisease='0'),\n",
       " Row(Age='58', Sex='F', ChestPainType='ATA', RestingBP='180', Cholesterol='393', FastingBS='0', RestingECG='Normal', MaxHR='110', ExerciseAngina='Y', Oldpeak='1', ST_Slope='Flat', HeartDisease='1'),\n",
       " Row(Age='58', Sex='M', ChestPainType='ATA', RestingBP='130', Cholesterol='230', FastingBS='0', RestingECG='Normal', MaxHR='150', ExerciseAngina='N', Oldpeak='0', ST_Slope='Up', HeartDisease='0'),\n",
       " Row(Age='54', Sex='M', ChestPainType='ATA', RestingBP='120', Cholesterol='246', FastingBS='0', RestingECG='Normal', MaxHR='110', ExerciseAngina='N', Oldpeak='0', ST_Slope='Up', HeartDisease='0'),\n",
       " Row(Age='34', Sex='F', ChestPainType='ATA', RestingBP='130', Cholesterol='161', FastingBS='0', RestingECG='Normal', MaxHR='190', ExerciseAngina='N', Oldpeak='0', ST_Slope='Up', HeartDisease='0'),\n",
       " Row(Age='48', Sex='F', ChestPainType='ASY', RestingBP='108', Cholesterol='163', FastingBS='0', RestingECG='Normal', MaxHR='175', ExerciseAngina='N', Oldpeak='2', ST_Slope='Up', HeartDisease='0'),\n",
       " Row(Age='54', Sex='F', ChestPainType='ATA', RestingBP='120', Cholesterol='230', FastingBS='1', RestingECG='Normal', MaxHR='140', ExerciseAngina='N', Oldpeak='0', ST_Slope='Up', HeartDisease='0'),\n",
       " Row(Age='42', Sex='M', ChestPainType='NAP', RestingBP='120', Cholesterol='228', FastingBS='0', RestingECG='Normal', MaxHR='152', ExerciseAngina='Y', Oldpeak='1.5', ST_Slope='Flat', HeartDisease='0'),\n",
       " Row(Age='38', Sex='M', ChestPainType='NAP', RestingBP='145', Cholesterol='292', FastingBS='0', RestingECG='Normal', MaxHR='130', ExerciseAngina='N', Oldpeak='0', ST_Slope='Up', HeartDisease='0'),\n",
       " Row(Age='46', Sex='M', ChestPainType='ASY', RestingBP='110', Cholesterol='202', FastingBS='0', RestingECG='Normal', MaxHR='150', ExerciseAngina='Y', Oldpeak='0', ST_Slope='Flat', HeartDisease='1'),\n",
       " Row(Age='56', Sex='M', ChestPainType='ASY', RestingBP='170', Cholesterol='388', FastingBS='0', RestingECG='ST', MaxHR='122', ExerciseAngina='Y', Oldpeak='2', ST_Slope='Flat', HeartDisease='1'),\n",
       " Row(Age='56', Sex='M', ChestPainType='ASY', RestingBP='150', Cholesterol='230', FastingBS='0', RestingECG='ST', MaxHR='124', ExerciseAngina='Y', Oldpeak='1.5', ST_Slope='Flat', HeartDisease='1'),\n",
       " Row(Age='61', Sex='F', ChestPainType='ASY', RestingBP='130', Cholesterol='294', FastingBS='0', RestingECG='ST', MaxHR='120', ExerciseAngina='Y', Oldpeak='1', ST_Slope='Flat', HeartDisease='0'),\n",
       " Row(Age='49', Sex='M', ChestPainType='NAP', RestingBP='115', Cholesterol='265', FastingBS='0', RestingECG='Normal', MaxHR='175', ExerciseAngina='N', Oldpeak='0', ST_Slope='Flat', HeartDisease='1'),\n",
       " Row(Age='43', Sex='F', ChestPainType='ATA', RestingBP='120', Cholesterol='215', FastingBS='0', RestingECG='ST', MaxHR='175', ExerciseAngina='N', Oldpeak='0', ST_Slope='Up', HeartDisease='0'),\n",
       " Row(Age='39', Sex='M', ChestPainType='ATA', RestingBP='120', Cholesterol='241', FastingBS='0', RestingECG='ST', MaxHR='146', ExerciseAngina='N', Oldpeak='2', ST_Slope='Up', HeartDisease='0'),\n",
       " Row(Age='54', Sex='M', ChestPainType='ASY', RestingBP='140', Cholesterol='166', FastingBS='0', RestingECG='Normal', MaxHR='118', ExerciseAngina='Y', Oldpeak='0', ST_Slope='Flat', HeartDisease='1'),\n",
       " Row(Age='43', Sex='M', ChestPainType='ASY', RestingBP='150', Cholesterol='247', FastingBS='0', RestingECG='Normal', MaxHR='130', ExerciseAngina='Y', Oldpeak='2', ST_Slope='Flat', HeartDisease='1'),\n",
       " Row(Age='52', Sex='M', ChestPainType='ASY', RestingBP='160', Cholesterol='331', FastingBS='0', RestingECG='Normal', MaxHR='94', ExerciseAngina='Y', Oldpeak='2.5', ST_Slope='Flat', HeartDisease='1'),\n",
       " Row(Age='50', Sex='M', ChestPainType='ASY', RestingBP='140', Cholesterol='341', FastingBS='0', RestingECG='ST', MaxHR='125', ExerciseAngina='Y', Oldpeak='2.5', ST_Slope='Flat', HeartDisease='1'),\n",
       " Row(Age='47', Sex='M', ChestPainType='ASY', RestingBP='160', Cholesterol='291', FastingBS='0', RestingECG='ST', MaxHR='158', ExerciseAngina='Y', Oldpeak='3', ST_Slope='Flat', HeartDisease='1'),\n",
       " Row(Age='53', Sex='M', ChestPainType='ASY', RestingBP='140', Cholesterol='243', FastingBS='0', RestingECG='Normal', MaxHR='155', ExerciseAngina='N', Oldpeak='0', ST_Slope='Up', HeartDisease='0'),\n",
       " Row(Age='56', Sex='F', ChestPainType='ATA', RestingBP='120', Cholesterol='279', FastingBS='0', RestingECG='Normal', MaxHR='150', ExerciseAngina='N', Oldpeak='1', ST_Slope='Flat', HeartDisease='1'),\n",
       " Row(Age='39', Sex='M', ChestPainType='ASY', RestingBP='110', Cholesterol='273', FastingBS='0', RestingECG='Normal', MaxHR='132', ExerciseAngina='N', Oldpeak='0', ST_Slope='Up', HeartDisease='0'),\n",
       " Row(Age='42', Sex='M', ChestPainType='ATA', RestingBP='120', Cholesterol='198', FastingBS='0', RestingECG='Normal', MaxHR='155', ExerciseAngina='N', Oldpeak='0', ST_Slope='Up', HeartDisease='0'),\n",
       " Row(Age='43', Sex='F', ChestPainType='ATA', RestingBP='120', Cholesterol='249', FastingBS='0', RestingECG='ST', MaxHR='176', ExerciseAngina='N', Oldpeak='0', ST_Slope='Up', HeartDisease='0'),\n",
       " Row(Age='50', Sex='M', ChestPainType='ATA', RestingBP='120', Cholesterol='168', FastingBS='0', RestingECG='Normal', MaxHR='160', ExerciseAngina='N', Oldpeak='0', ST_Slope='Up', HeartDisease='0'),\n",
       " Row(Age='54', Sex='M', ChestPainType='ASY', RestingBP='130', Cholesterol='603', FastingBS='1', RestingECG='Normal', MaxHR='125', ExerciseAngina='Y', Oldpeak='1', ST_Slope='Flat', HeartDisease='1'),\n",
       " Row(Age='39', Sex='M', ChestPainType='ATA', RestingBP='130', Cholesterol='215', FastingBS='0', RestingECG='Normal', MaxHR='120', ExerciseAngina='N', Oldpeak='0', ST_Slope='Up', HeartDisease='0'),\n",
       " Row(Age='48', Sex='M', ChestPainType='ATA', RestingBP='100', Cholesterol='159', FastingBS='0', RestingECG='Normal', MaxHR='100', ExerciseAngina='N', Oldpeak='0', ST_Slope='Up', HeartDisease='0'),\n",
       " Row(Age='40', Sex='M', ChestPainType='ATA', RestingBP='130', Cholesterol='275', FastingBS='0', RestingECG='Normal', MaxHR='150', ExerciseAngina='N', Oldpeak='0', ST_Slope='Up', HeartDisease='0'),\n",
       " Row(Age='55', Sex='M', ChestPainType='ASY', RestingBP='120', Cholesterol='270', FastingBS='0', RestingECG='Normal', MaxHR='140', ExerciseAngina='N', Oldpeak='0', ST_Slope='Up', HeartDisease='0'),\n",
       " Row(Age='41', Sex='M', ChestPainType='ATA', RestingBP='120', Cholesterol='291', FastingBS='0', RestingECG='ST', MaxHR='160', ExerciseAngina='N', Oldpeak='0', ST_Slope='Up', HeartDisease='0'),\n",
       " Row(Age='56', Sex='M', ChestPainType='ASY', RestingBP='155', Cholesterol='342', FastingBS='1', RestingECG='Normal', MaxHR='150', ExerciseAngina='Y', Oldpeak='3', ST_Slope='Flat', HeartDisease='1'),\n",
       " Row(Age='38', Sex='M', ChestPainType='ASY', RestingBP='110', Cholesterol='190', FastingBS='0', RestingECG='Normal', MaxHR='150', ExerciseAngina='Y', Oldpeak='1', ST_Slope='Flat', HeartDisease='1'),\n",
       " Row(Age='49', Sex='M', ChestPainType='ASY', RestingBP='140', Cholesterol='185', FastingBS='0', RestingECG='Normal', MaxHR='130', ExerciseAngina='N', Oldpeak='0', ST_Slope='Up', HeartDisease='0'),\n",
       " Row(Age='44', Sex='M', ChestPainType='ASY', RestingBP='130', Cholesterol='290', FastingBS='0', RestingECG='Normal', MaxHR='100', ExerciseAngina='Y', Oldpeak='2', ST_Slope='Flat', HeartDisease='1'),\n",
       " Row(Age='54', Sex='M', ChestPainType='ATA', RestingBP='160', Cholesterol='195', FastingBS='0', RestingECG='ST', MaxHR='130', ExerciseAngina='N', Oldpeak='1', ST_Slope='Up', HeartDisease='0'),\n",
       " Row(Age='59', Sex='M', ChestPainType='ASY', RestingBP='140', Cholesterol='264', FastingBS='1', RestingECG='LVH', MaxHR='119', ExerciseAngina='Y', Oldpeak='0', ST_Slope='Flat', HeartDisease='1'),\n",
       " Row(Age='49', Sex='M', ChestPainType='ASY', RestingBP='128', Cholesterol='212', FastingBS='0', RestingECG='Normal', MaxHR='96', ExerciseAngina='Y', Oldpeak='0', ST_Slope='Flat', HeartDisease='1'),\n",
       " Row(Age='47', Sex='M', ChestPainType='ATA', RestingBP='160', Cholesterol='263', FastingBS='0', RestingECG='Normal', MaxHR='174', ExerciseAngina='N', Oldpeak='0', ST_Slope='Up', HeartDisease='0'),\n",
       " Row(Age='42', Sex='M', ChestPainType='ATA', RestingBP='120', Cholesterol='196', FastingBS='0', RestingECG='Normal', MaxHR='150', ExerciseAngina='N', Oldpeak='0', ST_Slope='Up', HeartDisease='0'),\n",
       " Row(Age='52', Sex='F', ChestPainType='ATA', RestingBP='140', Cholesterol='225', FastingBS='0', RestingECG='Normal', MaxHR='140', ExerciseAngina='N', Oldpeak='0', ST_Slope='Up', HeartDisease='0'),\n",
       " Row(Age='46', Sex='M', ChestPainType='TA', RestingBP='140', Cholesterol='272', FastingBS='1', RestingECG='Normal', MaxHR='175', ExerciseAngina='N', Oldpeak='2', ST_Slope='Flat', HeartDisease='1'),\n",
       " Row(Age='50', Sex='M', ChestPainType='ASY', RestingBP='140', Cholesterol='231', FastingBS='0', RestingECG='ST', MaxHR='140', ExerciseAngina='Y', Oldpeak='5', ST_Slope='Flat', HeartDisease='1'),\n",
       " Row(Age='48', Sex='M', ChestPainType='ATA', RestingBP='140', Cholesterol='238', FastingBS='0', RestingECG='Normal', MaxHR='118', ExerciseAngina='N', Oldpeak='0', ST_Slope='Up', HeartDisease='0'),\n",
       " Row(Age='58', Sex='M', ChestPainType='ASY', RestingBP='135', Cholesterol='222', FastingBS='0', RestingECG='Normal', MaxHR='100', ExerciseAngina='N', Oldpeak='0', ST_Slope='Up', HeartDisease='0'),\n",
       " Row(Age='58', Sex='M', ChestPainType='NAP', RestingBP='140', Cholesterol='179', FastingBS='0', RestingECG='Normal', MaxHR='160', ExerciseAngina='N', Oldpeak='0', ST_Slope='Up', HeartDisease='0'),\n",
       " Row(Age='29', Sex='M', ChestPainType='ATA', RestingBP='120', Cholesterol='243', FastingBS='0', RestingECG='Normal', MaxHR='160', ExerciseAngina='N', Oldpeak='0', ST_Slope='Up', HeartDisease='0'),\n",
       " Row(Age='40', Sex='M', ChestPainType='NAP', RestingBP='140', Cholesterol='235', FastingBS='0', RestingECG='Normal', MaxHR='188', ExerciseAngina='N', Oldpeak='0', ST_Slope='Up', HeartDisease='0'),\n",
       " Row(Age='53', Sex='M', ChestPainType='ATA', RestingBP='140', Cholesterol='320', FastingBS='0', RestingECG='Normal', MaxHR='162', ExerciseAngina='N', Oldpeak='0', ST_Slope='Up', HeartDisease='0'),\n",
       " Row(Age='49', Sex='M', ChestPainType='NAP', RestingBP='140', Cholesterol='187', FastingBS='0', RestingECG='Normal', MaxHR='172', ExerciseAngina='N', Oldpeak='0', ST_Slope='Up', HeartDisease='0'),\n",
       " Row(Age='52', Sex='M', ChestPainType='ASY', RestingBP='140', Cholesterol='266', FastingBS='0', RestingECG='Normal', MaxHR='134', ExerciseAngina='Y', Oldpeak='2', ST_Slope='Flat', HeartDisease='1'),\n",
       " Row(Age='43', Sex='M', ChestPainType='ASY', RestingBP='140', Cholesterol='288', FastingBS='0', RestingECG='Normal', MaxHR='135', ExerciseAngina='Y', Oldpeak='2', ST_Slope='Flat', HeartDisease='1'),\n",
       " Row(Age='54', Sex='M', ChestPainType='ASY', RestingBP='140', Cholesterol='216', FastingBS='0', RestingECG='Normal', MaxHR='105', ExerciseAngina='N', Oldpeak='1.5', ST_Slope='Flat', HeartDisease='1'),\n",
       " Row(Age='59', Sex='M', ChestPainType='ATA', RestingBP='140', Cholesterol='287', FastingBS='0', RestingECG='Normal', MaxHR='150', ExerciseAngina='N', Oldpeak='0', ST_Slope='Up', HeartDisease='0'),\n",
       " Row(Age='37', Sex='M', ChestPainType='NAP', RestingBP='130', Cholesterol='194', FastingBS='0', RestingECG='Normal', MaxHR='150', ExerciseAngina='N', Oldpeak='0', ST_Slope='Up', HeartDisease='0'),\n",
       " Row(Age='46', Sex='F', ChestPainType='ASY', RestingBP='130', Cholesterol='238', FastingBS='0', RestingECG='Normal', MaxHR='90', ExerciseAngina='N', Oldpeak='0', ST_Slope='Up', HeartDisease='0'),\n",
       " Row(Age='52', Sex='M', ChestPainType='ASY', RestingBP='130', Cholesterol='225', FastingBS='0', RestingECG='Normal', MaxHR='120', ExerciseAngina='Y', Oldpeak='2', ST_Slope='Flat', HeartDisease='1'),\n",
       " Row(Age='51', Sex='M', ChestPainType='ATA', RestingBP='130', Cholesterol='224', FastingBS='0', RestingECG='Normal', MaxHR='150', ExerciseAngina='N', Oldpeak='0', ST_Slope='Up', HeartDisease='0'),\n",
       " Row(Age='52', Sex='M', ChestPainType='ASY', RestingBP='140', Cholesterol='404', FastingBS='0', RestingECG='Normal', MaxHR='124', ExerciseAngina='Y', Oldpeak='2', ST_Slope='Flat', HeartDisease='1'),\n",
       " Row(Age='46', Sex='M', ChestPainType='ASY', RestingBP='110', Cholesterol='238', FastingBS='0', RestingECG='ST', MaxHR='140', ExerciseAngina='Y', Oldpeak='1', ST_Slope='Flat', HeartDisease='0'),\n",
       " Row(Age='54', Sex='F', ChestPainType='ATA', RestingBP='160', Cholesterol='312', FastingBS='0', RestingECG='Normal', MaxHR='130', ExerciseAngina='N', Oldpeak='0', ST_Slope='Up', HeartDisease='0'),\n",
       " Row(Age='58', Sex='M', ChestPainType='NAP', RestingBP='160', Cholesterol='211', FastingBS='1', RestingECG='ST', MaxHR='92', ExerciseAngina='N', Oldpeak='0', ST_Slope='Flat', HeartDisease='1'),\n",
       " Row(Age='58', Sex='M', ChestPainType='ATA', RestingBP='130', Cholesterol='251', FastingBS='0', RestingECG='Normal', MaxHR='110', ExerciseAngina='N', Oldpeak='0', ST_Slope='Up', HeartDisease='0'),\n",
       " Row(Age='41', Sex='M', ChestPainType='ASY', RestingBP='120', Cholesterol='237', FastingBS='1', RestingECG='Normal', MaxHR='138', ExerciseAngina='Y', Oldpeak='1', ST_Slope='Flat', HeartDisease='1'),\n",
       " Row(Age='50', Sex='F', ChestPainType='ASY', RestingBP='120', Cholesterol='328', FastingBS='0', RestingECG='Normal', MaxHR='110', ExerciseAngina='Y', Oldpeak='1', ST_Slope='Flat', HeartDisease='0'),\n",
       " Row(Age='53', Sex='M', ChestPainType='ASY', RestingBP='180', Cholesterol='285', FastingBS='0', RestingECG='ST', MaxHR='120', ExerciseAngina='Y', Oldpeak='1.5', ST_Slope='Flat', HeartDisease='1'),\n",
       " Row(Age='46', Sex='M', ChestPainType='ASY', RestingBP='180', Cholesterol='280', FastingBS='0', RestingECG='ST', MaxHR='120', ExerciseAngina='N', Oldpeak='0', ST_Slope='Up', HeartDisease='0'),\n",
       " Row(Age='50', Sex='M', ChestPainType='ATA', RestingBP='170', Cholesterol='209', FastingBS='0', RestingECG='ST', MaxHR='116', ExerciseAngina='N', Oldpeak='0', ST_Slope='Up', HeartDisease='0'),\n",
       " Row(Age='48', Sex='M', ChestPainType='ATA', RestingBP='130', Cholesterol='245', FastingBS='0', RestingECG='Normal', MaxHR='160', ExerciseAngina='N', Oldpeak='0', ST_Slope='Up', HeartDisease='0'),\n",
       " Row(Age='45', Sex='M', ChestPainType='NAP', RestingBP='135', Cholesterol='192', FastingBS='0', RestingECG='Normal', MaxHR='110', ExerciseAngina='N', Oldpeak='0', ST_Slope='Up', HeartDisease='0'),\n",
       " Row(Age='41', Sex='F', ChestPainType='ATA', RestingBP='125', Cholesterol='184', FastingBS='0', RestingECG='Normal', MaxHR='180', ExerciseAngina='N', Oldpeak='0', ST_Slope='Up', HeartDisease='0'),\n",
       " Row(Age='62', Sex='F', ChestPainType='TA', RestingBP='160', Cholesterol='193', FastingBS='0', RestingECG='Normal', MaxHR='116', ExerciseAngina='N', Oldpeak='0', ST_Slope='Up', HeartDisease='0'),\n",
       " Row(Age='49', Sex='M', ChestPainType='ASY', RestingBP='120', Cholesterol='297', FastingBS='0', RestingECG='Normal', MaxHR='132', ExerciseAngina='N', Oldpeak='1', ST_Slope='Flat', HeartDisease='0'),\n",
       " Row(Age='42', Sex='M', ChestPainType='ATA', RestingBP='150', Cholesterol='268', FastingBS='0', RestingECG='Normal', MaxHR='136', ExerciseAngina='N', Oldpeak='0', ST_Slope='Up', HeartDisease='0'),\n",
       " Row(Age='53', Sex='M', ChestPainType='ASY', RestingBP='120', Cholesterol='246', FastingBS='0', RestingECG='Normal', MaxHR='116', ExerciseAngina='Y', Oldpeak='0', ST_Slope='Flat', HeartDisease='1'),\n",
       " Row(Age='57', Sex='F', ChestPainType='TA', RestingBP='130', Cholesterol='308', FastingBS='0', RestingECG='Normal', MaxHR='98', ExerciseAngina='N', Oldpeak='1', ST_Slope='Flat', HeartDisease='0'),\n",
       " Row(Age='47', Sex='M', ChestPainType='TA', RestingBP='110', Cholesterol='249', FastingBS='0', RestingECG='Normal', MaxHR='150', ExerciseAngina='N', Oldpeak='0', ST_Slope='Up', HeartDisease='0'),\n",
       " Row(Age='46', Sex='M', ChestPainType='NAP', RestingBP='120', Cholesterol='230', FastingBS='0', RestingECG='Normal', MaxHR='150', ExerciseAngina='N', Oldpeak='0', ST_Slope='Up', HeartDisease='0'),\n",
       " Row(Age='42', Sex='M', ChestPainType='NAP', RestingBP='160', Cholesterol='147', FastingBS='0', RestingECG='Normal', MaxHR='146', ExerciseAngina='N', Oldpeak='0', ST_Slope='Up', HeartDisease='0'),\n",
       " Row(Age='31', Sex='F', ChestPainType='ATA', RestingBP='100', Cholesterol='219', FastingBS='0', RestingECG='ST', MaxHR='150', ExerciseAngina='N', Oldpeak='0', ST_Slope='Up', HeartDisease='0'),\n",
       " Row(Age='56', Sex='M', ChestPainType='ATA', RestingBP='130', Cholesterol='184', FastingBS='0', RestingECG='Normal', MaxHR='100', ExerciseAngina='N', Oldpeak='0', ST_Slope='Up', HeartDisease='0'),\n",
       " Row(Age='50', Sex='M', ChestPainType='ASY', RestingBP='150', Cholesterol='215', FastingBS='0', RestingECG='Normal', MaxHR='140', ExerciseAngina='Y', Oldpeak='0', ST_Slope='Up', HeartDisease='0'),\n",
       " Row(Age='35', Sex='M', ChestPainType='ATA', RestingBP='120', Cholesterol='308', FastingBS='0', RestingECG='LVH', MaxHR='180', ExerciseAngina='N', Oldpeak='0', ST_Slope='Up', HeartDisease='0'),\n",
       " Row(Age='35', Sex='M', ChestPainType='ATA', RestingBP='110', Cholesterol='257', FastingBS='0', RestingECG='Normal', MaxHR='140', ExerciseAngina='N', Oldpeak='0', ST_Slope='Flat', HeartDisease='1'),\n",
       " Row(Age='28', Sex='M', ChestPainType='ATA', RestingBP='130', Cholesterol='132', FastingBS='0', RestingECG='LVH', MaxHR='185', ExerciseAngina='N', Oldpeak='0', ST_Slope='Up', HeartDisease='0'),\n",
       " Row(Age='54', Sex='M', ChestPainType='ASY', RestingBP='125', Cholesterol='216', FastingBS='0', RestingECG='Normal', MaxHR='140', ExerciseAngina='N', Oldpeak='0', ST_Slope='Flat', HeartDisease='1'),\n",
       " Row(Age='48', Sex='M', ChestPainType='ASY', RestingBP='106', Cholesterol='263', FastingBS='1', RestingECG='Normal', MaxHR='110', ExerciseAngina='N', Oldpeak='0', ST_Slope='Flat', HeartDisease='1'),\n",
       " Row(Age='50', Sex='F', ChestPainType='NAP', RestingBP='140', Cholesterol='288', FastingBS='0', RestingECG='Normal', MaxHR='140', ExerciseAngina='Y', Oldpeak='0', ST_Slope='Flat', HeartDisease='1'),\n",
       " Row(Age='56', Sex='M', ChestPainType='NAP', RestingBP='130', Cholesterol='276', FastingBS='0', RestingECG='Normal', MaxHR='128', ExerciseAngina='Y', Oldpeak='1', ST_Slope='Up', HeartDisease='0'),\n",
       " Row(Age='56', Sex='F', ChestPainType='NAP', RestingBP='130', Cholesterol='219', FastingBS='0', RestingECG='ST', MaxHR='164', ExerciseAngina='N', Oldpeak='0', ST_Slope='Up', HeartDisease='0'),\n",
       " Row(Age='47', Sex='M', ChestPainType='ASY', RestingBP='150', Cholesterol='226', FastingBS='0', RestingECG='Normal', MaxHR='98', ExerciseAngina='Y', Oldpeak='1.5', ST_Slope='Flat', HeartDisease='1'),\n",
       " Row(Age='30', Sex='F', ChestPainType='TA', RestingBP='170', Cholesterol='237', FastingBS='0', RestingECG='ST', MaxHR='170', ExerciseAngina='N', Oldpeak='0', ST_Slope='Up', HeartDisease='0'),\n",
       " Row(Age='39', Sex='M', ChestPainType='ASY', RestingBP='110', Cholesterol='280', FastingBS='0', RestingECG='Normal', MaxHR='150', ExerciseAngina='N', Oldpeak='0', ST_Slope='Flat', HeartDisease='1'),\n",
       " Row(Age='54', Sex='M', ChestPainType='NAP', RestingBP='120', Cholesterol='217', FastingBS='0', RestingECG='Normal', MaxHR='137', ExerciseAngina='N', Oldpeak='0', ST_Slope='Up', HeartDisease='0'),\n",
       " Row(Age='55', Sex='M', ChestPainType='ATA', RestingBP='140', Cholesterol='196', FastingBS='0', RestingECG='Normal', MaxHR='150', ExerciseAngina='N', Oldpeak='0', ST_Slope='Up', HeartDisease='0'),\n",
       " Row(Age='29', Sex='M', ChestPainType='ATA', RestingBP='140', Cholesterol='263', FastingBS='0', RestingECG='Normal', MaxHR='170', ExerciseAngina='N', Oldpeak='0', ST_Slope='Up', HeartDisease='0'),\n",
       " Row(Age='46', Sex='M', ChestPainType='ASY', RestingBP='130', Cholesterol='222', FastingBS='0', RestingECG='Normal', MaxHR='112', ExerciseAngina='N', Oldpeak='0', ST_Slope='Flat', HeartDisease='1'),\n",
       " Row(Age='51', Sex='F', ChestPainType='ASY', RestingBP='160', Cholesterol='303', FastingBS='0', RestingECG='Normal', MaxHR='150', ExerciseAngina='Y', Oldpeak='1', ST_Slope='Flat', HeartDisease='1'),\n",
       " Row(Age='48', Sex='F', ChestPainType='NAP', RestingBP='120', Cholesterol='195', FastingBS='0', RestingECG='Normal', MaxHR='125', ExerciseAngina='N', Oldpeak='0', ST_Slope='Up', HeartDisease='0'),\n",
       " Row(Age='33', Sex='M', ChestPainType='NAP', RestingBP='120', Cholesterol='298', FastingBS='0', RestingECG='Normal', MaxHR='185', ExerciseAngina='N', Oldpeak='0', ST_Slope='Up', HeartDisease='0'),\n",
       " Row(Age='55', Sex='M', ChestPainType='ATA', RestingBP='120', Cholesterol='256', FastingBS='1', RestingECG='Normal', MaxHR='137', ExerciseAngina='N', Oldpeak='0', ST_Slope='Up', HeartDisease='0'),\n",
       " Row(Age='50', Sex='M', ChestPainType='ASY', RestingBP='145', Cholesterol='264', FastingBS='0', RestingECG='Normal', MaxHR='150', ExerciseAngina='N', Oldpeak='0', ST_Slope='Flat', HeartDisease='1'),\n",
       " Row(Age='53', Sex='M', ChestPainType='NAP', RestingBP='120', Cholesterol='195', FastingBS='0', RestingECG='Normal', MaxHR='140', ExerciseAngina='N', Oldpeak='0', ST_Slope='Up', HeartDisease='0'),\n",
       " Row(Age='38', Sex='M', ChestPainType='ASY', RestingBP='92', Cholesterol='117', FastingBS='0', RestingECG='Normal', MaxHR='134', ExerciseAngina='Y', Oldpeak='2.5', ST_Slope='Flat', HeartDisease='1'),\n",
       " Row(Age='41', Sex='M', ChestPainType='ATA', RestingBP='120', Cholesterol='295', FastingBS='0', RestingECG='Normal', MaxHR='170', ExerciseAngina='N', Oldpeak='0', ST_Slope='Up', HeartDisease='0'),\n",
       " Row(Age='37', Sex='F', ChestPainType='ASY', RestingBP='130', Cholesterol='173', FastingBS='0', RestingECG='ST', MaxHR='184', ExerciseAngina='N', Oldpeak='0', ST_Slope='Up', HeartDisease='0'),\n",
       " Row(Age='37', Sex='M', ChestPainType='ASY', RestingBP='130', Cholesterol='315', FastingBS='0', RestingECG='Normal', MaxHR='158', ExerciseAngina='N', Oldpeak='0', ST_Slope='Up', HeartDisease='0'),\n",
       " Row(Age='40', Sex='M', ChestPainType='NAP', RestingBP='130', Cholesterol='281', FastingBS='0', RestingECG='Normal', MaxHR='167', ExerciseAngina='N', Oldpeak='0', ST_Slope='Up', HeartDisease='0'),\n",
       " Row(Age='38', Sex='F', ChestPainType='ATA', RestingBP='120', Cholesterol='275', FastingBS='0', RestingECG='Normal', MaxHR='129', ExerciseAngina='N', Oldpeak='0', ST_Slope='Up', HeartDisease='0'),\n",
       " Row(Age='41', Sex='M', ChestPainType='ASY', RestingBP='112', Cholesterol='250', FastingBS='0', RestingECG='Normal', MaxHR='142', ExerciseAngina='N', Oldpeak='0', ST_Slope='Up', HeartDisease='0'),\n",
       " Row(Age='54', Sex='F', ChestPainType='ATA', RestingBP='140', Cholesterol='309', FastingBS='0', RestingECG='ST', MaxHR='140', ExerciseAngina='N', Oldpeak='0', ST_Slope='Up', HeartDisease='0'),\n",
       " Row(Age='39', Sex='M', ChestPainType='ATA', RestingBP='120', Cholesterol='200', FastingBS='0', RestingECG='Normal', MaxHR='160', ExerciseAngina='Y', Oldpeak='1', ST_Slope='Flat', HeartDisease='0'),\n",
       " Row(Age='41', Sex='M', ChestPainType='ASY', RestingBP='120', Cholesterol='336', FastingBS='0', RestingECG='Normal', MaxHR='118', ExerciseAngina='Y', Oldpeak='3', ST_Slope='Flat', HeartDisease='1'),\n",
       " Row(Age='55', Sex='M', ChestPainType='TA', RestingBP='140', Cholesterol='295', FastingBS='0', RestingECG='Normal', MaxHR='136', ExerciseAngina='N', Oldpeak='0', ST_Slope='Flat', HeartDisease='1'),\n",
       " Row(Age='48', Sex='M', ChestPainType='ASY', RestingBP='160', Cholesterol='355', FastingBS='0', RestingECG='Normal', MaxHR='99', ExerciseAngina='Y', Oldpeak='2', ST_Slope='Flat', HeartDisease='1'),\n",
       " Row(Age='48', Sex='M', ChestPainType='ASY', RestingBP='160', Cholesterol='193', FastingBS='0', RestingECG='Normal', MaxHR='102', ExerciseAngina='Y', Oldpeak='3', ST_Slope='Flat', HeartDisease='1'),\n",
       " Row(Age='55', Sex='M', ChestPainType='ATA', RestingBP='145', Cholesterol='326', FastingBS='0', RestingECG='Normal', MaxHR='155', ExerciseAngina='N', Oldpeak='0', ST_Slope='Up', HeartDisease='0'),\n",
       " Row(Age='54', Sex='M', ChestPainType='ASY', RestingBP='200', Cholesterol='198', FastingBS='0', RestingECG='Normal', MaxHR='142', ExerciseAngina='Y', Oldpeak='2', ST_Slope='Flat', HeartDisease='1'),\n",
       " Row(Age='55', Sex='M', ChestPainType='ATA', RestingBP='160', Cholesterol='292', FastingBS='1', RestingECG='Normal', MaxHR='143', ExerciseAngina='Y', Oldpeak='2', ST_Slope='Flat', HeartDisease='1'),\n",
       " Row(Age='43', Sex='F', ChestPainType='ATA', RestingBP='120', Cholesterol='266', FastingBS='0', RestingECG='Normal', MaxHR='118', ExerciseAngina='N', Oldpeak='0', ST_Slope='Up', HeartDisease='0'),\n",
       " Row(Age='48', Sex='M', ChestPainType='ASY', RestingBP='160', Cholesterol='268', FastingBS='0', RestingECG='Normal', MaxHR='103', ExerciseAngina='Y', Oldpeak='1', ST_Slope='Flat', HeartDisease='1'),\n",
       " Row(Age='54', Sex='M', ChestPainType='TA', RestingBP='120', Cholesterol='171', FastingBS='0', RestingECG='Normal', MaxHR='137', ExerciseAngina='N', Oldpeak='2', ST_Slope='Up', HeartDisease='0'),\n",
       " Row(Age='54', Sex='M', ChestPainType='NAP', RestingBP='120', Cholesterol='237', FastingBS='0', RestingECG='Normal', MaxHR='150', ExerciseAngina='Y', Oldpeak='1.5', ST_Slope='Flat', HeartDisease='1'),\n",
       " Row(Age='48', Sex='M', ChestPainType='ASY', RestingBP='122', Cholesterol='275', FastingBS='1', RestingECG='ST', MaxHR='150', ExerciseAngina='Y', Oldpeak='2', ST_Slope='Down', HeartDisease='1'),\n",
       " Row(Age='45', Sex='M', ChestPainType='ASY', RestingBP='130', Cholesterol='219', FastingBS='0', RestingECG='ST', MaxHR='130', ExerciseAngina='Y', Oldpeak='1', ST_Slope='Flat', HeartDisease='1'),\n",
       " Row(Age='49', Sex='M', ChestPainType='ASY', RestingBP='130', Cholesterol='341', FastingBS='0', RestingECG='Normal', MaxHR='120', ExerciseAngina='Y', Oldpeak='1', ST_Slope='Flat', HeartDisease='1'),\n",
       " Row(Age='44', Sex='M', ChestPainType='ASY', RestingBP='135', Cholesterol='491', FastingBS='0', RestingECG='Normal', MaxHR='135', ExerciseAngina='N', Oldpeak='0', ST_Slope='Flat', HeartDisease='1'),\n",
       " Row(Age='48', Sex='M', ChestPainType='ASY', RestingBP='120', Cholesterol='260', FastingBS='0', RestingECG='Normal', MaxHR='115', ExerciseAngina='N', Oldpeak='2', ST_Slope='Flat', HeartDisease='1'),\n",
       " Row(Age='61', Sex='M', ChestPainType='ASY', RestingBP='125', Cholesterol='292', FastingBS='0', RestingECG='ST', MaxHR='115', ExerciseAngina='Y', Oldpeak='0', ST_Slope='Up', HeartDisease='0'),\n",
       " Row(Age='62', Sex='M', ChestPainType='ATA', RestingBP='140', Cholesterol='271', FastingBS='0', RestingECG='Normal', MaxHR='152', ExerciseAngina='N', Oldpeak='1', ST_Slope='Up', HeartDisease='0'),\n",
       " Row(Age='55', Sex='M', ChestPainType='ASY', RestingBP='145', Cholesterol='248', FastingBS='0', RestingECG='Normal', MaxHR='96', ExerciseAngina='Y', Oldpeak='2', ST_Slope='Flat', HeartDisease='1'),\n",
       " Row(Age='53', Sex='F', ChestPainType='NAP', RestingBP='120', Cholesterol='274', FastingBS='0', RestingECG='Normal', MaxHR='130', ExerciseAngina='N', Oldpeak='0', ST_Slope='Up', HeartDisease='0'),\n",
       " Row(Age='55', Sex='F', ChestPainType='ATA', RestingBP='130', Cholesterol='394', FastingBS='0', RestingECG='LVH', MaxHR='150', ExerciseAngina='N', Oldpeak='0', ST_Slope='Up', HeartDisease='0'),\n",
       " Row(Age='36', Sex='M', ChestPainType='NAP', RestingBP='150', Cholesterol='160', FastingBS='0', RestingECG='Normal', MaxHR='172', ExerciseAngina='N', Oldpeak='0', ST_Slope='Up', HeartDisease='0'),\n",
       " Row(Age='51', Sex='F', ChestPainType='NAP', RestingBP='150', Cholesterol='200', FastingBS='0', RestingECG='Normal', MaxHR='120', ExerciseAngina='N', Oldpeak='0.5', ST_Slope='Up', HeartDisease='0'),\n",
       " Row(Age='55', Sex='F', ChestPainType='ATA', RestingBP='122', Cholesterol='320', FastingBS='0', RestingECG='Normal', MaxHR='155', ExerciseAngina='N', Oldpeak='0', ST_Slope='Up', HeartDisease='0'),\n",
       " Row(Age='46', Sex='M', ChestPainType='ATA', RestingBP='140', Cholesterol='275', FastingBS='0', RestingECG='Normal', MaxHR='165', ExerciseAngina='Y', Oldpeak='0', ST_Slope='Up', HeartDisease='0'),\n",
       " Row(Age='54', Sex='F', ChestPainType='ATA', RestingBP='120', Cholesterol='221', FastingBS='0', RestingECG='Normal', MaxHR='138', ExerciseAngina='N', Oldpeak='1', ST_Slope='Up', HeartDisease='0'),\n",
       " Row(Age='46', Sex='M', ChestPainType='ASY', RestingBP='120', Cholesterol='231', FastingBS='0', RestingECG='Normal', MaxHR='115', ExerciseAngina='Y', Oldpeak='0', ST_Slope='Flat', HeartDisease='1'),\n",
       " Row(Age='59', Sex='M', ChestPainType='ASY', RestingBP='130', Cholesterol='126', FastingBS='0', RestingECG='Normal', MaxHR='125', ExerciseAngina='N', Oldpeak='0', ST_Slope='Flat', HeartDisease='1'),\n",
       " Row(Age='47', Sex='M', ChestPainType='NAP', RestingBP='140', Cholesterol='193', FastingBS='0', RestingECG='Normal', MaxHR='145', ExerciseAngina='Y', Oldpeak='1', ST_Slope='Flat', HeartDisease='1'),\n",
       " Row(Age='54', Sex='M', ChestPainType='ATA', RestingBP='160', Cholesterol='305', FastingBS='0', RestingECG='Normal', MaxHR='175', ExerciseAngina='N', Oldpeak='0', ST_Slope='Up', HeartDisease='0'),\n",
       " Row(Age='52', Sex='M', ChestPainType='ASY', RestingBP='130', Cholesterol='298', FastingBS='0', RestingECG='Normal', MaxHR='110', ExerciseAngina='Y', Oldpeak='1', ST_Slope='Flat', HeartDisease='1'),\n",
       " Row(Age='34', Sex='M', ChestPainType='ATA', RestingBP='98', Cholesterol='220', FastingBS='0', RestingECG='Normal', MaxHR='150', ExerciseAngina='N', Oldpeak='0', ST_Slope='Up', HeartDisease='0'),\n",
       " Row(Age='54', Sex='M', ChestPainType='ASY', RestingBP='130', Cholesterol='242', FastingBS='0', RestingECG='Normal', MaxHR='91', ExerciseAngina='Y', Oldpeak='1', ST_Slope='Flat', HeartDisease='1'),\n",
       " Row(Age='47', Sex='F', ChestPainType='NAP', RestingBP='130', Cholesterol='235', FastingBS='0', RestingECG='Normal', MaxHR='145', ExerciseAngina='N', Oldpeak='2', ST_Slope='Flat', HeartDisease='0'),\n",
       " Row(Age='45', Sex='M', ChestPainType='ASY', RestingBP='120', Cholesterol='225', FastingBS='0', RestingECG='Normal', MaxHR='140', ExerciseAngina='N', Oldpeak='0', ST_Slope='Up', HeartDisease='0'),\n",
       " Row(Age='32', Sex='F', ChestPainType='ATA', RestingBP='105', Cholesterol='198', FastingBS='0', RestingECG='Normal', MaxHR='165', ExerciseAngina='N', Oldpeak='0', ST_Slope='Up', HeartDisease='0'),\n",
       " Row(Age='55', Sex='M', ChestPainType='ASY', RestingBP='140', Cholesterol='201', FastingBS='0', RestingECG='Normal', MaxHR='130', ExerciseAngina='Y', Oldpeak='3', ST_Slope='Flat', HeartDisease='1'),\n",
       " Row(Age='55', Sex='M', ChestPainType='NAP', RestingBP='120', Cholesterol='220', FastingBS='0', RestingECG='LVH', MaxHR='134', ExerciseAngina='N', Oldpeak='0', ST_Slope='Up', HeartDisease='0'),\n",
       " Row(Age='45', Sex='F', ChestPainType='ATA', RestingBP='180', Cholesterol='295', FastingBS='0', RestingECG='Normal', MaxHR='180', ExerciseAngina='N', Oldpeak='0', ST_Slope='Up', HeartDisease='0'),\n",
       " Row(Age='59', Sex='M', ChestPainType='NAP', RestingBP='180', Cholesterol='213', FastingBS='0', RestingECG='Normal', MaxHR='100', ExerciseAngina='N', Oldpeak='0', ST_Slope='Up', HeartDisease='0'),\n",
       " Row(Age='51', Sex='M', ChestPainType='NAP', RestingBP='135', Cholesterol='160', FastingBS='0', RestingECG='Normal', MaxHR='150', ExerciseAngina='N', Oldpeak='2', ST_Slope='Flat', HeartDisease='1'),\n",
       " Row(Age='52', Sex='M', ChestPainType='ASY', RestingBP='170', Cholesterol='223', FastingBS='0', RestingECG='Normal', MaxHR='126', ExerciseAngina='Y', Oldpeak='1.5', ST_Slope='Flat', HeartDisease='1'),\n",
       " Row(Age='57', Sex='F', ChestPainType='ASY', RestingBP='180', Cholesterol='347', FastingBS='0', RestingECG='ST', MaxHR='126', ExerciseAngina='Y', Oldpeak='0.8', ST_Slope='Flat', HeartDisease='0'),\n",
       " Row(Age='54', Sex='F', ChestPainType='ATA', RestingBP='130', Cholesterol='253', FastingBS='0', RestingECG='ST', MaxHR='155', ExerciseAngina='N', Oldpeak='0', ST_Slope='Up', HeartDisease='0'),\n",
       " Row(Age='60', Sex='M', ChestPainType='NAP', RestingBP='120', Cholesterol='246', FastingBS='0', RestingECG='LVH', MaxHR='135', ExerciseAngina='N', Oldpeak='0', ST_Slope='Up', HeartDisease='0'),\n",
       " Row(Age='49', Sex='M', ChestPainType='ASY', RestingBP='150', Cholesterol='222', FastingBS='0', RestingECG='Normal', MaxHR='122', ExerciseAngina='N', Oldpeak='2', ST_Slope='Flat', HeartDisease='1'),\n",
       " Row(Age='51', Sex='F', ChestPainType='NAP', RestingBP='130', Cholesterol='220', FastingBS='0', RestingECG='Normal', MaxHR='160', ExerciseAngina='Y', Oldpeak='2', ST_Slope='Up', HeartDisease='0'),\n",
       " Row(Age='55', Sex='F', ChestPainType='ATA', RestingBP='110', Cholesterol='344', FastingBS='0', RestingECG='ST', MaxHR='160', ExerciseAngina='N', Oldpeak='0', ST_Slope='Up', HeartDisease='0'),\n",
       " Row(Age='42', Sex='M', ChestPainType='ASY', RestingBP='140', Cholesterol='358', FastingBS='0', RestingECG='Normal', MaxHR='170', ExerciseAngina='N', Oldpeak='0', ST_Slope='Up', HeartDisease='0'),\n",
       " Row(Age='51', Sex='F', ChestPainType='NAP', RestingBP='110', Cholesterol='190', FastingBS='0', RestingECG='Normal', MaxHR='120', ExerciseAngina='N', Oldpeak='0', ST_Slope='Up', HeartDisease='0'),\n",
       " Row(Age='59', Sex='M', ChestPainType='ASY', RestingBP='140', Cholesterol='169', FastingBS='0', RestingECG='Normal', MaxHR='140', ExerciseAngina='N', Oldpeak='0', ST_Slope='Up', HeartDisease='0'),\n",
       " Row(Age='53', Sex='M', ChestPainType='ATA', RestingBP='120', Cholesterol='181', FastingBS='0', RestingECG='Normal', MaxHR='132', ExerciseAngina='N', Oldpeak='0', ST_Slope='Up', HeartDisease='0'),\n",
       " Row(Age='48', Sex='F', ChestPainType='ATA', RestingBP='133', Cholesterol='308', FastingBS='0', RestingECG='ST', MaxHR='156', ExerciseAngina='N', Oldpeak='2', ST_Slope='Up', HeartDisease='0'),\n",
       " Row(Age='36', Sex='M', ChestPainType='ATA', RestingBP='120', Cholesterol='166', FastingBS='0', RestingECG='Normal', MaxHR='180', ExerciseAngina='N', Oldpeak='0', ST_Slope='Up', HeartDisease='0'),\n",
       " Row(Age='48', Sex='M', ChestPainType='NAP', RestingBP='110', Cholesterol='211', FastingBS='0', RestingECG='Normal', MaxHR='138', ExerciseAngina='N', Oldpeak='0', ST_Slope='Up', HeartDisease='0'),\n",
       " Row(Age='47', Sex='F', ChestPainType='ATA', RestingBP='140', Cholesterol='257', FastingBS='0', RestingECG='Normal', MaxHR='135', ExerciseAngina='N', Oldpeak='1', ST_Slope='Up', HeartDisease='0'),\n",
       " Row(Age='53', Sex='M', ChestPainType='ASY', RestingBP='130', Cholesterol='182', FastingBS='0', RestingECG='Normal', MaxHR='148', ExerciseAngina='N', Oldpeak='0', ST_Slope='Up', HeartDisease='0'),\n",
       " Row(Age='65', Sex='M', ChestPainType='ASY', RestingBP='115', Cholesterol='0', FastingBS='0', RestingECG='Normal', MaxHR='93', ExerciseAngina='Y', Oldpeak='0', ST_Slope='Flat', HeartDisease='1'),\n",
       " Row(Age='32', Sex='M', ChestPainType='TA', RestingBP='95', Cholesterol='0', FastingBS='1', RestingECG='Normal', MaxHR='127', ExerciseAngina='N', Oldpeak='0.7', ST_Slope='Up', HeartDisease='1'),\n",
       " Row(Age='61', Sex='M', ChestPainType='ASY', RestingBP='105', Cholesterol='0', FastingBS='1', RestingECG='Normal', MaxHR='110', ExerciseAngina='Y', Oldpeak='1.5', ST_Slope='Up', HeartDisease='1'),\n",
       " Row(Age='50', Sex='M', ChestPainType='ASY', RestingBP='145', Cholesterol='0', FastingBS='1', RestingECG='Normal', MaxHR='139', ExerciseAngina='Y', Oldpeak='0.7', ST_Slope='Flat', HeartDisease='1'),\n",
       " Row(Age='57', Sex='M', ChestPainType='ASY', RestingBP='110', Cholesterol='0', FastingBS='1', RestingECG='ST', MaxHR='131', ExerciseAngina='Y', Oldpeak='1.4', ST_Slope='Up', HeartDisease='1'),\n",
       " Row(Age='51', Sex='M', ChestPainType='ASY', RestingBP='110', Cholesterol='0', FastingBS='1', RestingECG='Normal', MaxHR='92', ExerciseAngina='N', Oldpeak='0', ST_Slope='Flat', HeartDisease='1'),\n",
       " Row(Age='47', Sex='M', ChestPainType='ASY', RestingBP='110', Cholesterol='0', FastingBS='1', RestingECG='ST', MaxHR='149', ExerciseAngina='N', Oldpeak='2.1', ST_Slope='Up', HeartDisease='1'),\n",
       " Row(Age='60', Sex='M', ChestPainType='ASY', RestingBP='160', Cholesterol='0', FastingBS='1', RestingECG='Normal', MaxHR='149', ExerciseAngina='N', Oldpeak='0.4', ST_Slope='Flat', HeartDisease='1'),\n",
       " Row(Age='55', Sex='M', ChestPainType='ATA', RestingBP='140', Cholesterol='0', FastingBS='0', RestingECG='ST', MaxHR='150', ExerciseAngina='N', Oldpeak='0.2', ST_Slope='Up', HeartDisease='0'),\n",
       " Row(Age='53', Sex='M', ChestPainType='ASY', RestingBP='125', Cholesterol='0', FastingBS='1', RestingECG='Normal', MaxHR='120', ExerciseAngina='N', Oldpeak='1.5', ST_Slope='Up', HeartDisease='1'),\n",
       " Row(Age='62', Sex='F', ChestPainType='ASY', RestingBP='120', Cholesterol='0', FastingBS='1', RestingECG='ST', MaxHR='123', ExerciseAngina='Y', Oldpeak='1.7', ST_Slope='Down', HeartDisease='1'),\n",
       " Row(Age='51', Sex='M', ChestPainType='ASY', RestingBP='95', Cholesterol='0', FastingBS='1', RestingECG='Normal', MaxHR='126', ExerciseAngina='N', Oldpeak='2.2', ST_Slope='Flat', HeartDisease='1'),\n",
       " Row(Age='51', Sex='F', ChestPainType='ASY', RestingBP='120', Cholesterol='0', FastingBS='1', RestingECG='Normal', MaxHR='127', ExerciseAngina='Y', Oldpeak='1.5', ST_Slope='Up', HeartDisease='1'),\n",
       " Row(Age='55', Sex='M', ChestPainType='ASY', RestingBP='115', Cholesterol='0', FastingBS='1', RestingECG='Normal', MaxHR='155', ExerciseAngina='N', Oldpeak='0.1', ST_Slope='Flat', HeartDisease='1'),\n",
       " Row(Age='53', Sex='M', ChestPainType='ATA', RestingBP='130', Cholesterol='0', FastingBS='0', RestingECG='ST', MaxHR='120', ExerciseAngina='N', Oldpeak='0.7', ST_Slope='Down', HeartDisease='0'),\n",
       " Row(Age='58', Sex='M', ChestPainType='ASY', RestingBP='115', Cholesterol='0', FastingBS='1', RestingECG='Normal', MaxHR='138', ExerciseAngina='N', Oldpeak='0.5', ST_Slope='Up', HeartDisease='1'),\n",
       " Row(Age='57', Sex='M', ChestPainType='ASY', RestingBP='95', Cholesterol='0', FastingBS='1', RestingECG='Normal', MaxHR='182', ExerciseAngina='N', Oldpeak='0.7', ST_Slope='Down', HeartDisease='1'),\n",
       " Row(Age='65', Sex='M', ChestPainType='ASY', RestingBP='155', Cholesterol='0', FastingBS='0', RestingECG='Normal', MaxHR='154', ExerciseAngina='N', Oldpeak='1', ST_Slope='Up', HeartDisease='0'),\n",
       " Row(Age='60', Sex='M', ChestPainType='ASY', RestingBP='125', Cholesterol='0', FastingBS='1', RestingECG='Normal', MaxHR='110', ExerciseAngina='N', Oldpeak='0.1', ST_Slope='Up', HeartDisease='1'),\n",
       " Row(Age='41', Sex='M', ChestPainType='ASY', RestingBP='125', Cholesterol='0', FastingBS='1', RestingECG='Normal', MaxHR='176', ExerciseAngina='N', Oldpeak='1.6', ST_Slope='Up', HeartDisease='1'),\n",
       " Row(Age='34', Sex='M', ChestPainType='ASY', RestingBP='115', Cholesterol='0', FastingBS='1', RestingECG='Normal', MaxHR='154', ExerciseAngina='N', Oldpeak='0.2', ST_Slope='Up', HeartDisease='1'),\n",
       " Row(Age='53', Sex='M', ChestPainType='ASY', RestingBP='80', Cholesterol='0', FastingBS='0', RestingECG='Normal', MaxHR='141', ExerciseAngina='Y', Oldpeak='2', ST_Slope='Down', HeartDisease='0'),\n",
       " Row(Age='74', Sex='M', ChestPainType='ATA', RestingBP='145', Cholesterol='0', FastingBS='1', RestingECG='ST', MaxHR='123', ExerciseAngina='N', Oldpeak='1.3', ST_Slope='Up', HeartDisease='1'),\n",
       " Row(Age='57', Sex='M', ChestPainType='NAP', RestingBP='105', Cholesterol='0', FastingBS='1', RestingECG='Normal', MaxHR='148', ExerciseAngina='N', Oldpeak='0.3', ST_Slope='Flat', HeartDisease='1'),\n",
       " Row(Age='56', Sex='M', ChestPainType='ASY', RestingBP='140', Cholesterol='0', FastingBS='1', RestingECG='Normal', MaxHR='121', ExerciseAngina='Y', Oldpeak='1.8', ST_Slope='Up', HeartDisease='1'),\n",
       " Row(Age='61', Sex='M', ChestPainType='ASY', RestingBP='130', Cholesterol='0', FastingBS='1', RestingECG='Normal', MaxHR='77', ExerciseAngina='N', Oldpeak='2.5', ST_Slope='Flat', HeartDisease='1'),\n",
       " Row(Age='68', Sex='M', ChestPainType='ASY', RestingBP='145', Cholesterol='0', FastingBS='1', RestingECG='Normal', MaxHR='136', ExerciseAngina='N', Oldpeak='1.8', ST_Slope='Up', HeartDisease='1'),\n",
       " Row(Age='59', Sex='M', ChestPainType='NAP', RestingBP='125', Cholesterol='0', FastingBS='1', RestingECG='Normal', MaxHR='175', ExerciseAngina='N', Oldpeak='2.6', ST_Slope='Flat', HeartDisease='1'),\n",
       " Row(Age='63', Sex='M', ChestPainType='ASY', RestingBP='100', Cholesterol='0', FastingBS='1', RestingECG='Normal', MaxHR='109', ExerciseAngina='N', Oldpeak='-0.9', ST_Slope='Flat', HeartDisease='1'),\n",
       " Row(Age='38', Sex='F', ChestPainType='ASY', RestingBP='105', Cholesterol='0', FastingBS='1', RestingECG='Normal', MaxHR='166', ExerciseAngina='N', Oldpeak='2.8', ST_Slope='Up', HeartDisease='1'),\n",
       " Row(Age='62', Sex='M', ChestPainType='ASY', RestingBP='115', Cholesterol='0', FastingBS='1', RestingECG='Normal', MaxHR='128', ExerciseAngina='Y', Oldpeak='2.5', ST_Slope='Down', HeartDisease='1'),\n",
       " Row(Age='46', Sex='M', ChestPainType='ASY', RestingBP='100', Cholesterol='0', FastingBS='1', RestingECG='ST', MaxHR='133', ExerciseAngina='N', Oldpeak='-2.6', ST_Slope='Flat', HeartDisease='1'),\n",
       " Row(Age='42', Sex='M', ChestPainType='ASY', RestingBP='105', Cholesterol='0', FastingBS='1', RestingECG='Normal', MaxHR='128', ExerciseAngina='Y', Oldpeak='-1.5', ST_Slope='Down', HeartDisease='1'),\n",
       " Row(Age='45', Sex='M', ChestPainType='NAP', RestingBP='110', Cholesterol='0', FastingBS='0', RestingECG='Normal', MaxHR='138', ExerciseAngina='N', Oldpeak='-0.1', ST_Slope='Up', HeartDisease='0'),\n",
       " Row(Age='59', Sex='M', ChestPainType='ASY', RestingBP='125', Cholesterol='0', FastingBS='1', RestingECG='Normal', MaxHR='119', ExerciseAngina='Y', Oldpeak='0.9', ST_Slope='Up', HeartDisease='1'),\n",
       " Row(Age='52', Sex='M', ChestPainType='ASY', RestingBP='95', Cholesterol='0', FastingBS='1', RestingECG='Normal', MaxHR='82', ExerciseAngina='Y', Oldpeak='0.8', ST_Slope='Flat', HeartDisease='1'),\n",
       " Row(Age='60', Sex='M', ChestPainType='ASY', RestingBP='130', Cholesterol='0', FastingBS='1', RestingECG='ST', MaxHR='130', ExerciseAngina='Y', Oldpeak='1.1', ST_Slope='Down', HeartDisease='1'),\n",
       " Row(Age='60', Sex='M', ChestPainType='NAP', RestingBP='115', Cholesterol='0', FastingBS='1', RestingECG='Normal', MaxHR='143', ExerciseAngina='N', Oldpeak='2.4', ST_Slope='Up', HeartDisease='1'),\n",
       " Row(Age='56', Sex='M', ChestPainType='ASY', RestingBP='115', Cholesterol='0', FastingBS='1', RestingECG='ST', MaxHR='82', ExerciseAngina='N', Oldpeak='-1', ST_Slope='Up', HeartDisease='1'),\n",
       " Row(Age='38', Sex='M', ChestPainType='NAP', RestingBP='100', Cholesterol='0', FastingBS='0', RestingECG='Normal', MaxHR='179', ExerciseAngina='N', Oldpeak='-1.1', ST_Slope='Up', HeartDisease='0'),\n",
       " Row(Age='40', Sex='M', ChestPainType='ASY', RestingBP='95', Cholesterol='0', FastingBS='1', RestingECG='ST', MaxHR='144', ExerciseAngina='N', Oldpeak='0', ST_Slope='Up', HeartDisease='1'),\n",
       " Row(Age='51', Sex='M', ChestPainType='ASY', RestingBP='130', Cholesterol='0', FastingBS='1', RestingECG='Normal', MaxHR='170', ExerciseAngina='N', Oldpeak='-0.7', ST_Slope='Up', HeartDisease='1'),\n",
       " Row(Age='62', Sex='M', ChestPainType='TA', RestingBP='120', Cholesterol='0', FastingBS='1', RestingECG='LVH', MaxHR='134', ExerciseAngina='N', Oldpeak='-0.8', ST_Slope='Flat', HeartDisease='1'),\n",
       " Row(Age='72', Sex='M', ChestPainType='NAP', RestingBP='160', Cholesterol='0', FastingBS='0', RestingECG='LVH', MaxHR='114', ExerciseAngina='N', Oldpeak='1.6', ST_Slope='Flat', HeartDisease='0'),\n",
       " Row(Age='63', Sex='M', ChestPainType='ASY', RestingBP='150', Cholesterol='0', FastingBS='1', RestingECG='ST', MaxHR='154', ExerciseAngina='N', Oldpeak='3.7', ST_Slope='Up', HeartDisease='1'),\n",
       " Row(Age='63', Sex='M', ChestPainType='ASY', RestingBP='140', Cholesterol='0', FastingBS='1', RestingECG='LVH', MaxHR='149', ExerciseAngina='N', Oldpeak='2', ST_Slope='Up', HeartDisease='1'),\n",
       " Row(Age='64', Sex='F', ChestPainType='ASY', RestingBP='95', Cholesterol='0', FastingBS='1', RestingECG='Normal', MaxHR='145', ExerciseAngina='N', Oldpeak='1.1', ST_Slope='Down', HeartDisease='1'),\n",
       " Row(Age='43', Sex='M', ChestPainType='ASY', RestingBP='100', Cholesterol='0', FastingBS='1', RestingECG='Normal', MaxHR='122', ExerciseAngina='N', Oldpeak='1.5', ST_Slope='Down', HeartDisease='1'),\n",
       " Row(Age='64', Sex='M', ChestPainType='ASY', RestingBP='110', Cholesterol='0', FastingBS='1', RestingECG='Normal', MaxHR='114', ExerciseAngina='Y', Oldpeak='1.3', ST_Slope='Down', HeartDisease='1'),\n",
       " Row(Age='61', Sex='M', ChestPainType='ASY', RestingBP='110', Cholesterol='0', FastingBS='1', RestingECG='Normal', MaxHR='113', ExerciseAngina='N', Oldpeak='1.4', ST_Slope='Flat', HeartDisease='1'),\n",
       " Row(Age='52', Sex='M', ChestPainType='ASY', RestingBP='130', Cholesterol='0', FastingBS='1', RestingECG='Normal', MaxHR='120', ExerciseAngina='N', Oldpeak='0', ST_Slope='Flat', HeartDisease='1'),\n",
       " Row(Age='51', Sex='M', ChestPainType='ASY', RestingBP='120', Cholesterol='0', FastingBS='1', RestingECG='Normal', MaxHR='104', ExerciseAngina='N', Oldpeak='0', ST_Slope='Flat', HeartDisease='1'),\n",
       " Row(Age='69', Sex='M', ChestPainType='ASY', RestingBP='135', Cholesterol='0', FastingBS='0', RestingECG='Normal', MaxHR='130', ExerciseAngina='N', Oldpeak='0', ST_Slope='Flat', HeartDisease='1'),\n",
       " Row(Age='59', Sex='M', ChestPainType='ASY', RestingBP='120', Cholesterol='0', FastingBS='0', RestingECG='Normal', MaxHR='115', ExerciseAngina='N', Oldpeak='0', ST_Slope='Flat', HeartDisease='1'),\n",
       " Row(Age='48', Sex='M', ChestPainType='ASY', RestingBP='115', Cholesterol='0', FastingBS='1', RestingECG='Normal', MaxHR='128', ExerciseAngina='N', Oldpeak='0', ST_Slope='Flat', HeartDisease='1'),\n",
       " Row(Age='69', Sex='M', ChestPainType='ASY', RestingBP='137', Cholesterol='0', FastingBS='0', RestingECG='ST', MaxHR='104', ExerciseAngina='Y', Oldpeak='1.6', ST_Slope='Flat', HeartDisease='1'),\n",
       " Row(Age='36', Sex='M', ChestPainType='ASY', RestingBP='110', Cholesterol='0', FastingBS='1', RestingECG='Normal', MaxHR='125', ExerciseAngina='Y', Oldpeak='1', ST_Slope='Flat', HeartDisease='1'),\n",
       " Row(Age='53', Sex='M', ChestPainType='ASY', RestingBP='120', Cholesterol='0', FastingBS='1', RestingECG='Normal', MaxHR='120', ExerciseAngina='N', Oldpeak='0', ST_Slope='Flat', HeartDisease='1'),\n",
       " Row(Age='43', Sex='M', ChestPainType='ASY', RestingBP='140', Cholesterol='0', FastingBS='0', RestingECG='ST', MaxHR='140', ExerciseAngina='Y', Oldpeak='0.5', ST_Slope='Up', HeartDisease='1'),\n",
       " Row(Age='56', Sex='M', ChestPainType='ASY', RestingBP='120', Cholesterol='0', FastingBS='0', RestingECG='ST', MaxHR='100', ExerciseAngina='Y', Oldpeak='-1', ST_Slope='Down', HeartDisease='1'),\n",
       " Row(Age='58', Sex='M', ChestPainType='ASY', RestingBP='130', Cholesterol='0', FastingBS='0', RestingECG='ST', MaxHR='100', ExerciseAngina='Y', Oldpeak='1', ST_Slope='Flat', HeartDisease='1'),\n",
       " Row(Age='55', Sex='M', ChestPainType='ASY', RestingBP='120', Cholesterol='0', FastingBS='0', RestingECG='ST', MaxHR='92', ExerciseAngina='N', Oldpeak='0.3', ST_Slope='Up', HeartDisease='1'),\n",
       " Row(Age='67', Sex='M', ChestPainType='TA', RestingBP='145', Cholesterol='0', FastingBS='0', RestingECG='LVH', MaxHR='125', ExerciseAngina='N', Oldpeak='0', ST_Slope='Flat', HeartDisease='1'),\n",
       " Row(Age='46', Sex='M', ChestPainType='ASY', RestingBP='115', Cholesterol='0', FastingBS='0', RestingECG='Normal', MaxHR='113', ExerciseAngina='Y', Oldpeak='1.5', ST_Slope='Flat', HeartDisease='1'),\n",
       " Row(Age='53', Sex='M', ChestPainType='ATA', RestingBP='120', Cholesterol='0', FastingBS='0', RestingECG='Normal', MaxHR='95', ExerciseAngina='N', Oldpeak='0', ST_Slope='Flat', HeartDisease='1'),\n",
       " Row(Age='38', Sex='M', ChestPainType='NAP', RestingBP='115', Cholesterol='0', FastingBS='0', RestingECG='Normal', MaxHR='128', ExerciseAngina='Y', Oldpeak='0', ST_Slope='Flat', HeartDisease='1'),\n",
       " Row(Age='53', Sex='M', ChestPainType='NAP', RestingBP='105', Cholesterol='0', FastingBS='0', RestingECG='Normal', MaxHR='115', ExerciseAngina='N', Oldpeak='0', ST_Slope='Flat', HeartDisease='1'),\n",
       " Row(Age='62', Sex='M', ChestPainType='NAP', RestingBP='160', Cholesterol='0', FastingBS='0', RestingECG='Normal', MaxHR='72', ExerciseAngina='Y', Oldpeak='0', ST_Slope='Flat', HeartDisease='1'),\n",
       " Row(Age='47', Sex='M', ChestPainType='ASY', RestingBP='160', Cholesterol='0', FastingBS='0', RestingECG='Normal', MaxHR='124', ExerciseAngina='Y', Oldpeak='0', ST_Slope='Flat', HeartDisease='1'),\n",
       " Row(Age='56', Sex='M', ChestPainType='NAP', RestingBP='155', Cholesterol='0', FastingBS='0', RestingECG='ST', MaxHR='99', ExerciseAngina='N', Oldpeak='0', ST_Slope='Flat', HeartDisease='1'),\n",
       " Row(Age='56', Sex='M', ChestPainType='ASY', RestingBP='120', Cholesterol='0', FastingBS='0', RestingECG='ST', MaxHR='148', ExerciseAngina='N', Oldpeak='0', ST_Slope='Flat', HeartDisease='1'),\n",
       " Row(Age='56', Sex='M', ChestPainType='NAP', RestingBP='120', Cholesterol='0', FastingBS='0', RestingECG='Normal', MaxHR='97', ExerciseAngina='N', Oldpeak='0', ST_Slope='Flat', HeartDisease='0'),\n",
       " Row(Age='64', Sex='F', ChestPainType='ASY', RestingBP='200', Cholesterol='0', FastingBS='0', RestingECG='Normal', MaxHR='140', ExerciseAngina='Y', Oldpeak='1', ST_Slope='Flat', HeartDisease='1'),\n",
       " Row(Age='61', Sex='M', ChestPainType='ASY', RestingBP='150', Cholesterol='0', FastingBS='0', RestingECG='Normal', MaxHR='117', ExerciseAngina='Y', Oldpeak='2', ST_Slope='Flat', HeartDisease='1'),\n",
       " Row(Age='68', Sex='M', ChestPainType='ASY', RestingBP='135', Cholesterol='0', FastingBS='0', RestingECG='ST', MaxHR='120', ExerciseAngina='Y', Oldpeak='0', ST_Slope='Up', HeartDisease='1'),\n",
       " Row(Age='57', Sex='M', ChestPainType='ASY', RestingBP='140', Cholesterol='0', FastingBS='0', RestingECG='Normal', MaxHR='120', ExerciseAngina='Y', Oldpeak='2', ST_Slope='Flat', HeartDisease='1'),\n",
       " Row(Age='63', Sex='M', ChestPainType='ASY', RestingBP='150', Cholesterol='0', FastingBS='0', RestingECG='Normal', MaxHR='86', ExerciseAngina='Y', Oldpeak='2', ST_Slope='Flat', HeartDisease='1'),\n",
       " Row(Age='60', Sex='M', ChestPainType='ASY', RestingBP='135', Cholesterol='0', FastingBS='0', RestingECG='Normal', MaxHR='63', ExerciseAngina='Y', Oldpeak='0.5', ST_Slope='Up', HeartDisease='1'),\n",
       " Row(Age='66', Sex='M', ChestPainType='ASY', RestingBP='150', Cholesterol='0', FastingBS='0', RestingECG='Normal', MaxHR='108', ExerciseAngina='Y', Oldpeak='2', ST_Slope='Flat', HeartDisease='1'),\n",
       " Row(Age='63', Sex='M', ChestPainType='ASY', RestingBP='185', Cholesterol='0', FastingBS='0', RestingECG='Normal', MaxHR='98', ExerciseAngina='Y', Oldpeak='0', ST_Slope='Up', HeartDisease='1'),\n",
       " Row(Age='59', Sex='M', ChestPainType='ASY', RestingBP='135', Cholesterol='0', FastingBS='0', RestingECG='Normal', MaxHR='115', ExerciseAngina='Y', Oldpeak='1', ST_Slope='Flat', HeartDisease='1'),\n",
       " Row(Age='61', Sex='M', ChestPainType='ASY', RestingBP='125', Cholesterol='0', FastingBS='0', RestingECG='Normal', MaxHR='105', ExerciseAngina='Y', Oldpeak='0', ST_Slope='Down', HeartDisease='1'),\n",
       " Row(Age='73', Sex='F', ChestPainType='NAP', RestingBP='160', Cholesterol='0', FastingBS='0', RestingECG='ST', MaxHR='121', ExerciseAngina='N', Oldpeak='0', ST_Slope='Up', HeartDisease='1'),\n",
       " Row(Age='47', Sex='M', ChestPainType='NAP', RestingBP='155', Cholesterol='0', FastingBS='0', RestingECG='Normal', MaxHR='118', ExerciseAngina='Y', Oldpeak='1', ST_Slope='Flat', HeartDisease='1'),\n",
       " Row(Age='65', Sex='M', ChestPainType='ASY', RestingBP='160', Cholesterol='0', FastingBS='1', RestingECG='ST', MaxHR='122', ExerciseAngina='N', Oldpeak='1.2', ST_Slope='Flat', HeartDisease='1'),\n",
       " Row(Age='70', Sex='M', ChestPainType='ASY', RestingBP='140', Cholesterol='0', FastingBS='1', RestingECG='Normal', MaxHR='157', ExerciseAngina='Y', Oldpeak='2', ST_Slope='Flat', HeartDisease='1'),\n",
       " Row(Age='50', Sex='M', ChestPainType='ASY', RestingBP='120', Cholesterol='0', FastingBS='0', RestingECG='ST', MaxHR='156', ExerciseAngina='Y', Oldpeak='0', ST_Slope='Up', HeartDisease='1'),\n",
       " Row(Age='60', Sex='M', ChestPainType='ASY', RestingBP='160', Cholesterol='0', FastingBS='0', RestingECG='ST', MaxHR='99', ExerciseAngina='Y', Oldpeak='0.5', ST_Slope='Flat', HeartDisease='1'),\n",
       " Row(Age='50', Sex='M', ChestPainType='ASY', RestingBP='115', Cholesterol='0', FastingBS='0', RestingECG='Normal', MaxHR='120', ExerciseAngina='Y', Oldpeak='0.5', ST_Slope='Flat', HeartDisease='1'),\n",
       " Row(Age='43', Sex='M', ChestPainType='ASY', RestingBP='115', Cholesterol='0', FastingBS='0', RestingECG='Normal', MaxHR='145', ExerciseAngina='Y', Oldpeak='2', ST_Slope='Flat', HeartDisease='1'),\n",
       " Row(Age='38', Sex='F', ChestPainType='ASY', RestingBP='110', Cholesterol='0', FastingBS='0', RestingECG='Normal', MaxHR='156', ExerciseAngina='N', Oldpeak='0', ST_Slope='Flat', HeartDisease='1'),\n",
       " Row(Age='54', Sex='M', ChestPainType='ASY', RestingBP='120', Cholesterol='0', FastingBS='0', RestingECG='Normal', MaxHR='155', ExerciseAngina='N', Oldpeak='0', ST_Slope='Flat', HeartDisease='1'),\n",
       " Row(Age='61', Sex='M', ChestPainType='ASY', RestingBP='150', Cholesterol='0', FastingBS='0', RestingECG='Normal', MaxHR='105', ExerciseAngina='Y', Oldpeak='0', ST_Slope='Flat', HeartDisease='1'),\n",
       " Row(Age='42', Sex='M', ChestPainType='ASY', RestingBP='145', Cholesterol='0', FastingBS='0', RestingECG='Normal', MaxHR='99', ExerciseAngina='Y', Oldpeak='0', ST_Slope='Flat', HeartDisease='1'),\n",
       " Row(Age='53', Sex='M', ChestPainType='ASY', RestingBP='130', Cholesterol='0', FastingBS='0', RestingECG='LVH', MaxHR='135', ExerciseAngina='Y', Oldpeak='1', ST_Slope='Flat', HeartDisease='1'),\n",
       " Row(Age='55', Sex='M', ChestPainType='ASY', RestingBP='140', Cholesterol='0', FastingBS='0', RestingECG='Normal', MaxHR='83', ExerciseAngina='N', Oldpeak='0', ST_Slope='Flat', HeartDisease='1'),\n",
       " Row(Age='61', Sex='M', ChestPainType='ASY', RestingBP='160', Cholesterol='0', FastingBS='1', RestingECG='ST', MaxHR='145', ExerciseAngina='N', Oldpeak='1', ST_Slope='Flat', HeartDisease='1'),\n",
       " Row(Age='51', Sex='M', ChestPainType='ASY', RestingBP='140', Cholesterol='0', FastingBS='0', RestingECG='Normal', MaxHR='60', ExerciseAngina='N', Oldpeak='0', ST_Slope='Flat', HeartDisease='1'),\n",
       " Row(Age='70', Sex='M', ChestPainType='ASY', RestingBP='115', Cholesterol='0', FastingBS='0', RestingECG='ST', MaxHR='92', ExerciseAngina='Y', Oldpeak='0', ST_Slope='Flat', HeartDisease='1'),\n",
       " Row(Age='61', Sex='M', ChestPainType='ASY', RestingBP='130', Cholesterol='0', FastingBS='0', RestingECG='LVH', MaxHR='115', ExerciseAngina='N', Oldpeak='0', ST_Slope='Flat', HeartDisease='1'),\n",
       " Row(Age='38', Sex='M', ChestPainType='ASY', RestingBP='150', Cholesterol='0', FastingBS='1', RestingECG='Normal', MaxHR='120', ExerciseAngina='Y', Oldpeak='0.7', ST_Slope='Flat', HeartDisease='1'),\n",
       " Row(Age='57', Sex='M', ChestPainType='ASY', RestingBP='160', Cholesterol='0', FastingBS='1', RestingECG='Normal', MaxHR='98', ExerciseAngina='Y', Oldpeak='2', ST_Slope='Flat', HeartDisease='1'),\n",
       " Row(Age='38', Sex='M', ChestPainType='ASY', RestingBP='135', Cholesterol='0', FastingBS='1', RestingECG='Normal', MaxHR='150', ExerciseAngina='N', Oldpeak='0', ST_Slope='Flat', HeartDisease='1'),\n",
       " Row(Age='62', Sex='F', ChestPainType='TA', RestingBP='140', Cholesterol='0', FastingBS='1', RestingECG='Normal', MaxHR='143', ExerciseAngina='N', Oldpeak='0', ST_Slope='Flat', HeartDisease='1'),\n",
       " Row(Age='58', Sex='M', ChestPainType='ASY', RestingBP='170', Cholesterol='0', FastingBS='1', RestingECG='ST', MaxHR='105', ExerciseAngina='Y', Oldpeak='0', ST_Slope='Flat', HeartDisease='1'),\n",
       " Row(Age='52', Sex='M', ChestPainType='ASY', RestingBP='165', Cholesterol='0', FastingBS='1', RestingECG='Normal', MaxHR='122', ExerciseAngina='Y', Oldpeak='1', ST_Slope='Up', HeartDisease='1'),\n",
       " Row(Age='61', Sex='M', ChestPainType='NAP', RestingBP='200', Cholesterol='0', FastingBS='1', RestingECG='ST', MaxHR='70', ExerciseAngina='N', Oldpeak='0', ST_Slope='Flat', HeartDisease='1'),\n",
       " Row(Age='50', Sex='F', ChestPainType='ASY', RestingBP='160', Cholesterol='0', FastingBS='1', RestingECG='Normal', MaxHR='110', ExerciseAngina='N', Oldpeak='0', ST_Slope='Flat', HeartDisease='1'),\n",
       " Row(Age='51', Sex='M', ChestPainType='ASY', RestingBP='130', Cholesterol='0', FastingBS='1', RestingECG='ST', MaxHR='163', ExerciseAngina='N', Oldpeak='0', ST_Slope='Flat', HeartDisease='1'),\n",
       " Row(Age='65', Sex='M', ChestPainType='ASY', RestingBP='145', Cholesterol='0', FastingBS='1', RestingECG='ST', MaxHR='67', ExerciseAngina='N', Oldpeak='0.7', ST_Slope='Flat', HeartDisease='1'),\n",
       " Row(Age='52', Sex='M', ChestPainType='ASY', RestingBP='135', Cholesterol='0', FastingBS='1', RestingECG='Normal', MaxHR='128', ExerciseAngina='Y', Oldpeak='2', ST_Slope='Flat', HeartDisease='1'),\n",
       " Row(Age='47', Sex='M', ChestPainType='NAP', RestingBP='110', Cholesterol='0', FastingBS='1', RestingECG='Normal', MaxHR='120', ExerciseAngina='Y', Oldpeak='0', ST_Slope='Flat', HeartDisease='1'),\n",
       " Row(Age='35', Sex='M', ChestPainType='ASY', RestingBP='120', Cholesterol='0', FastingBS='1', RestingECG='Normal', MaxHR='130', ExerciseAngina='Y', Oldpeak='1.2', ST_Slope='Flat', HeartDisease='1'),\n",
       " Row(Age='57', Sex='M', ChestPainType='ASY', RestingBP='140', Cholesterol='0', FastingBS='1', RestingECG='Normal', MaxHR='100', ExerciseAngina='Y', Oldpeak='0', ST_Slope='Flat', HeartDisease='1'),\n",
       " Row(Age='62', Sex='M', ChestPainType='ASY', RestingBP='115', Cholesterol='0', FastingBS='1', RestingECG='Normal', MaxHR='72', ExerciseAngina='Y', Oldpeak='-0.5', ST_Slope='Flat', HeartDisease='1'),\n",
       " Row(Age='59', Sex='M', ChestPainType='ASY', RestingBP='110', Cholesterol='0', FastingBS='1', RestingECG='Normal', MaxHR='94', ExerciseAngina='N', Oldpeak='0', ST_Slope='Flat', HeartDisease='1'),\n",
       " Row(Age='53', Sex='M', ChestPainType='NAP', RestingBP='160', Cholesterol='0', FastingBS='1', RestingECG='LVH', MaxHR='122', ExerciseAngina='Y', Oldpeak='0', ST_Slope='Flat', HeartDisease='1'),\n",
       " Row(Age='62', Sex='M', ChestPainType='ASY', RestingBP='150', Cholesterol='0', FastingBS='1', RestingECG='ST', MaxHR='78', ExerciseAngina='N', Oldpeak='2', ST_Slope='Flat', HeartDisease='1'),\n",
       " Row(Age='54', Sex='M', ChestPainType='ASY', RestingBP='180', Cholesterol='0', FastingBS='1', RestingECG='Normal', MaxHR='150', ExerciseAngina='N', Oldpeak='1.5', ST_Slope='Flat', HeartDisease='1'),\n",
       " Row(Age='56', Sex='M', ChestPainType='ASY', RestingBP='125', Cholesterol='0', FastingBS='1', RestingECG='Normal', MaxHR='103', ExerciseAngina='Y', Oldpeak='1', ST_Slope='Flat', HeartDisease='1'),\n",
       " Row(Age='56', Sex='M', ChestPainType='NAP', RestingBP='125', Cholesterol='0', FastingBS='1', RestingECG='Normal', MaxHR='98', ExerciseAngina='N', Oldpeak='-2', ST_Slope='Flat', HeartDisease='1'),\n",
       " Row(Age='54', Sex='M', ChestPainType='ASY', RestingBP='130', Cholesterol='0', FastingBS='1', RestingECG='Normal', MaxHR='110', ExerciseAngina='Y', Oldpeak='3', ST_Slope='Flat', HeartDisease='1'),\n",
       " Row(Age='66', Sex='F', ChestPainType='ASY', RestingBP='155', Cholesterol='0', FastingBS='1', RestingECG='Normal', MaxHR='90', ExerciseAngina='N', Oldpeak='0', ST_Slope='Flat', HeartDisease='1'),\n",
       " Row(Age='63', Sex='M', ChestPainType='ASY', RestingBP='140', Cholesterol='260', FastingBS='0', RestingECG='ST', MaxHR='112', ExerciseAngina='Y', Oldpeak='3', ST_Slope='Flat', HeartDisease='1'),\n",
       " Row(Age='44', Sex='M', ChestPainType='ASY', RestingBP='130', Cholesterol='209', FastingBS='0', RestingECG='ST', MaxHR='127', ExerciseAngina='N', Oldpeak='0', ST_Slope='Up', HeartDisease='0'),\n",
       " Row(Age='60', Sex='M', ChestPainType='ASY', RestingBP='132', Cholesterol='218', FastingBS='0', RestingECG='ST', MaxHR='140', ExerciseAngina='Y', Oldpeak='1.5', ST_Slope='Down', HeartDisease='1'),\n",
       " Row(Age='55', Sex='M', ChestPainType='ASY', RestingBP='142', Cholesterol='228', FastingBS='0', RestingECG='ST', MaxHR='149', ExerciseAngina='Y', Oldpeak='2.5', ST_Slope='Up', HeartDisease='1'),\n",
       " Row(Age='66', Sex='M', ChestPainType='NAP', RestingBP='110', Cholesterol='213', FastingBS='1', RestingECG='LVH', MaxHR='99', ExerciseAngina='Y', Oldpeak='1.3', ST_Slope='Flat', HeartDisease='0'),\n",
       " Row(Age='66', Sex='M', ChestPainType='NAP', RestingBP='120', Cholesterol='0', FastingBS='0', RestingECG='ST', MaxHR='120', ExerciseAngina='N', Oldpeak='-0.5', ST_Slope='Up', HeartDisease='0'),\n",
       " Row(Age='65', Sex='M', ChestPainType='ASY', RestingBP='150', Cholesterol='236', FastingBS='1', RestingECG='ST', MaxHR='105', ExerciseAngina='Y', Oldpeak='0', ST_Slope='Flat', HeartDisease='1'),\n",
       " Row(Age='60', Sex='M', ChestPainType='NAP', RestingBP='180', Cholesterol='0', FastingBS='0', RestingECG='ST', MaxHR='140', ExerciseAngina='Y', Oldpeak='1.5', ST_Slope='Flat', HeartDisease='0'),\n",
       " Row(Age='60', Sex='M', ChestPainType='NAP', RestingBP='120', Cholesterol='0', FastingBS='1', RestingECG='Normal', MaxHR='141', ExerciseAngina='Y', Oldpeak='2', ST_Slope='Up', HeartDisease='1'),\n",
       " Row(Age='60', Sex='M', ChestPainType='ATA', RestingBP='160', Cholesterol='267', FastingBS='1', RestingECG='ST', MaxHR='157', ExerciseAngina='N', Oldpeak='0.5', ST_Slope='Flat', HeartDisease='1'),\n",
       " Row(Age='56', Sex='M', ChestPainType='ATA', RestingBP='126', Cholesterol='166', FastingBS='0', RestingECG='ST', MaxHR='140', ExerciseAngina='N', Oldpeak='0', ST_Slope='Up', HeartDisease='0'),\n",
       " Row(Age='59', Sex='M', ChestPainType='ASY', RestingBP='140', Cholesterol='0', FastingBS='0', RestingECG='ST', MaxHR='117', ExerciseAngina='Y', Oldpeak='1', ST_Slope='Flat', HeartDisease='1'),\n",
       " Row(Age='62', Sex='M', ChestPainType='ASY', RestingBP='110', Cholesterol='0', FastingBS='0', RestingECG='Normal', MaxHR='120', ExerciseAngina='Y', Oldpeak='0.5', ST_Slope='Flat', HeartDisease='1'),\n",
       " Row(Age='63', Sex='M', ChestPainType='NAP', RestingBP='133', Cholesterol='0', FastingBS='0', RestingECG='LVH', MaxHR='120', ExerciseAngina='Y', Oldpeak='1', ST_Slope='Flat', HeartDisease='1'),\n",
       " Row(Age='57', Sex='M', ChestPainType='ASY', RestingBP='128', Cholesterol='0', FastingBS='1', RestingECG='ST', MaxHR='148', ExerciseAngina='Y', Oldpeak='1', ST_Slope='Flat', HeartDisease='1'),\n",
       " Row(Age='62', Sex='M', ChestPainType='ASY', RestingBP='120', Cholesterol='220', FastingBS='0', RestingECG='ST', MaxHR='86', ExerciseAngina='N', Oldpeak='0', ST_Slope='Up', HeartDisease='0'),\n",
       " Row(Age='63', Sex='M', ChestPainType='ASY', RestingBP='170', Cholesterol='177', FastingBS='0', RestingECG='Normal', MaxHR='84', ExerciseAngina='Y', Oldpeak='2.5', ST_Slope='Down', HeartDisease='1'),\n",
       " Row(Age='46', Sex='M', ChestPainType='ASY', RestingBP='110', Cholesterol='236', FastingBS='0', RestingECG='Normal', MaxHR='125', ExerciseAngina='Y', Oldpeak='2', ST_Slope='Flat', HeartDisease='1'),\n",
       " Row(Age='63', Sex='M', ChestPainType='ASY', RestingBP='126', Cholesterol='0', FastingBS='0', RestingECG='ST', MaxHR='120', ExerciseAngina='N', Oldpeak='1.5', ST_Slope='Down', HeartDisease='0'),\n",
       " Row(Age='60', Sex='M', ChestPainType='ASY', RestingBP='152', Cholesterol='0', FastingBS='0', RestingECG='ST', MaxHR='118', ExerciseAngina='Y', Oldpeak='0', ST_Slope='Up', HeartDisease='0'),\n",
       " Row(Age='58', Sex='M', ChestPainType='ASY', RestingBP='116', Cholesterol='0', FastingBS='0', RestingECG='Normal', MaxHR='124', ExerciseAngina='N', Oldpeak='1', ST_Slope='Up', HeartDisease='1'),\n",
       " Row(Age='64', Sex='M', ChestPainType='ASY', RestingBP='120', Cholesterol='0', FastingBS='1', RestingECG='ST', MaxHR='106', ExerciseAngina='N', Oldpeak='2', ST_Slope='Flat', HeartDisease='1'),\n",
       " Row(Age='63', Sex='M', ChestPainType='NAP', RestingBP='130', Cholesterol='0', FastingBS='0', RestingECG='ST', MaxHR='111', ExerciseAngina='Y', Oldpeak='0', ST_Slope='Flat', HeartDisease='1'),\n",
       " Row(Age='74', Sex='M', ChestPainType='NAP', RestingBP='138', Cholesterol='0', FastingBS='0', RestingECG='Normal', MaxHR='116', ExerciseAngina='N', Oldpeak='0.2', ST_Slope='Up', HeartDisease='0'),\n",
       " Row(Age='52', Sex='M', ChestPainType='NAP', RestingBP='128', Cholesterol='0', FastingBS='0', RestingECG='ST', MaxHR='180', ExerciseAngina='N', Oldpeak='3', ST_Slope='Up', HeartDisease='1'),\n",
       " Row(Age='69', Sex='M', ChestPainType='ASY', RestingBP='130', Cholesterol='0', FastingBS='1', RestingECG='ST', MaxHR='129', ExerciseAngina='N', Oldpeak='1', ST_Slope='Flat', HeartDisease='1'),\n",
       " Row(Age='51', Sex='M', ChestPainType='ASY', RestingBP='128', Cholesterol='0', FastingBS='1', RestingECG='ST', MaxHR='125', ExerciseAngina='Y', Oldpeak='1.2', ST_Slope='Flat', HeartDisease='1'),\n",
       " Row(Age='60', Sex='M', ChestPainType='ASY', RestingBP='130', Cholesterol='186', FastingBS='1', RestingECG='ST', MaxHR='140', ExerciseAngina='Y', Oldpeak='0.5', ST_Slope='Flat', HeartDisease='1'),\n",
       " Row(Age='56', Sex='M', ChestPainType='ASY', RestingBP='120', Cholesterol='100', FastingBS='0', RestingECG='Normal', MaxHR='120', ExerciseAngina='Y', Oldpeak='1.5', ST_Slope='Flat', HeartDisease='1'),\n",
       " Row(Age='55', Sex='M', ChestPainType='NAP', RestingBP='136', Cholesterol='228', FastingBS='0', RestingECG='ST', MaxHR='124', ExerciseAngina='Y', Oldpeak='1.6', ST_Slope='Flat', HeartDisease='1'),\n",
       " Row(Age='54', Sex='M', ChestPainType='ASY', RestingBP='130', Cholesterol='0', FastingBS='0', RestingECG='ST', MaxHR='117', ExerciseAngina='Y', Oldpeak='1.4', ST_Slope='Flat', HeartDisease='1'),\n",
       " Row(Age='77', Sex='M', ChestPainType='ASY', RestingBP='124', Cholesterol='171', FastingBS='0', RestingECG='ST', MaxHR='110', ExerciseAngina='Y', Oldpeak='2', ST_Slope='Up', HeartDisease='1'),\n",
       " Row(Age='63', Sex='M', ChestPainType='ASY', RestingBP='160', Cholesterol='230', FastingBS='1', RestingECG='Normal', MaxHR='105', ExerciseAngina='Y', Oldpeak='1', ST_Slope='Flat', HeartDisease='1'),\n",
       " Row(Age='55', Sex='M', ChestPainType='NAP', RestingBP='0', Cholesterol='0', FastingBS='0', RestingECG='Normal', MaxHR='155', ExerciseAngina='N', Oldpeak='1.5', ST_Slope='Flat', HeartDisease='1'),\n",
       " Row(Age='52', Sex='M', ChestPainType='NAP', RestingBP='122', Cholesterol='0', FastingBS='0', RestingECG='Normal', MaxHR='110', ExerciseAngina='Y', Oldpeak='2', ST_Slope='Down', HeartDisease='1'),\n",
       " Row(Age='64', Sex='M', ChestPainType='ASY', RestingBP='144', Cholesterol='0', FastingBS='0', RestingECG='ST', MaxHR='122', ExerciseAngina='Y', Oldpeak='1', ST_Slope='Flat', HeartDisease='1'),\n",
       " Row(Age='60', Sex='M', ChestPainType='ASY', RestingBP='140', Cholesterol='281', FastingBS='0', RestingECG='ST', MaxHR='118', ExerciseAngina='Y', Oldpeak='1.5', ST_Slope='Flat', HeartDisease='1'),\n",
       " Row(Age='60', Sex='M', ChestPainType='ASY', RestingBP='120', Cholesterol='0', FastingBS='0', RestingECG='Normal', MaxHR='133', ExerciseAngina='Y', Oldpeak='2', ST_Slope='Up', HeartDisease='0'),\n",
       " Row(Age='58', Sex='M', ChestPainType='ASY', RestingBP='136', Cholesterol='203', FastingBS='1', RestingECG='Normal', MaxHR='123', ExerciseAngina='Y', Oldpeak='1.2', ST_Slope='Flat', HeartDisease='1'),\n",
       " Row(Age='59', Sex='M', ChestPainType='ASY', RestingBP='154', Cholesterol='0', FastingBS='0', RestingECG='ST', MaxHR='131', ExerciseAngina='Y', Oldpeak='1.5', ST_Slope='Up', HeartDisease='0'),\n",
       " Row(Age='61', Sex='M', ChestPainType='NAP', RestingBP='120', Cholesterol='0', FastingBS='0', RestingECG='Normal', MaxHR='80', ExerciseAngina='Y', Oldpeak='0', ST_Slope='Flat', HeartDisease='1'),\n",
       " Row(Age='40', Sex='M', ChestPainType='ASY', RestingBP='125', Cholesterol='0', FastingBS='1', RestingECG='Normal', MaxHR='165', ExerciseAngina='N', Oldpeak='0', ST_Slope='Flat', HeartDisease='1'),\n",
       " Row(Age='61', Sex='M', ChestPainType='ASY', RestingBP='134', Cholesterol='0', FastingBS='1', RestingECG='ST', MaxHR='86', ExerciseAngina='N', Oldpeak='1.5', ST_Slope='Flat', HeartDisease='1'),\n",
       " Row(Age='41', Sex='M', ChestPainType='ASY', RestingBP='104', Cholesterol='0', FastingBS='0', RestingECG='ST', MaxHR='111', ExerciseAngina='N', Oldpeak='0', ST_Slope='Up', HeartDisease='0'),\n",
       " Row(Age='57', Sex='M', ChestPainType='ASY', RestingBP='139', Cholesterol='277', FastingBS='1', RestingECG='ST', MaxHR='118', ExerciseAngina='Y', Oldpeak='1.9', ST_Slope='Flat', HeartDisease='1'),\n",
       " Row(Age='63', Sex='M', ChestPainType='ASY', RestingBP='136', Cholesterol='0', FastingBS='0', RestingECG='Normal', MaxHR='84', ExerciseAngina='Y', Oldpeak='0', ST_Slope='Flat', HeartDisease='1'),\n",
       " Row(Age='59', Sex='M', ChestPainType='ASY', RestingBP='122', Cholesterol='233', FastingBS='0', RestingECG='Normal', MaxHR='117', ExerciseAngina='Y', Oldpeak='1.3', ST_Slope='Down', HeartDisease='1'),\n",
       " Row(Age='51', Sex='M', ChestPainType='ASY', RestingBP='128', Cholesterol='0', FastingBS='0', RestingECG='Normal', MaxHR='107', ExerciseAngina='N', Oldpeak='0', ST_Slope='Up', HeartDisease='0'),\n",
       " Row(Age='59', Sex='M', ChestPainType='NAP', RestingBP='131', Cholesterol='0', FastingBS='0', RestingECG='Normal', MaxHR='128', ExerciseAngina='Y', Oldpeak='2', ST_Slope='Down', HeartDisease='1'),\n",
       " Row(Age='42', Sex='M', ChestPainType='NAP', RestingBP='134', Cholesterol='240', FastingBS='0', RestingECG='Normal', MaxHR='160', ExerciseAngina='N', Oldpeak='0', ST_Slope='Up', HeartDisease='0'),\n",
       " Row(Age='55', Sex='M', ChestPainType='NAP', RestingBP='120', Cholesterol='0', FastingBS='0', RestingECG='ST', MaxHR='125', ExerciseAngina='Y', Oldpeak='2.5', ST_Slope='Flat', HeartDisease='1'),\n",
       " Row(Age='63', Sex='F', ChestPainType='ATA', RestingBP='132', Cholesterol='0', FastingBS='0', RestingECG='Normal', MaxHR='130', ExerciseAngina='N', Oldpeak='0.1', ST_Slope='Up', HeartDisease='0'),\n",
       " Row(Age='62', Sex='M', ChestPainType='ASY', RestingBP='152', Cholesterol='153', FastingBS='0', RestingECG='ST', MaxHR='97', ExerciseAngina='Y', Oldpeak='1.6', ST_Slope='Up', HeartDisease='1'),\n",
       " Row(Age='56', Sex='M', ChestPainType='ATA', RestingBP='124', Cholesterol='224', FastingBS='1', RestingECG='Normal', MaxHR='161', ExerciseAngina='N', Oldpeak='2', ST_Slope='Flat', HeartDisease='0'),\n",
       " Row(Age='53', Sex='M', ChestPainType='ASY', RestingBP='126', Cholesterol='0', FastingBS='0', RestingECG='Normal', MaxHR='106', ExerciseAngina='N', Oldpeak='0', ST_Slope='Flat', HeartDisease='1'),\n",
       " Row(Age='68', Sex='M', ChestPainType='ASY', RestingBP='138', Cholesterol='0', FastingBS='0', RestingECG='Normal', MaxHR='130', ExerciseAngina='Y', Oldpeak='3', ST_Slope='Flat', HeartDisease='1'),\n",
       " Row(Age='53', Sex='M', ChestPainType='ASY', RestingBP='154', Cholesterol='0', FastingBS='1', RestingECG='ST', MaxHR='140', ExerciseAngina='Y', Oldpeak='1.5', ST_Slope='Flat', HeartDisease='1'),\n",
       " Row(Age='60', Sex='M', ChestPainType='NAP', RestingBP='141', Cholesterol='316', FastingBS='1', RestingECG='ST', MaxHR='122', ExerciseAngina='Y', Oldpeak='1.7', ST_Slope='Flat', HeartDisease='1'),\n",
       " Row(Age='62', Sex='M', ChestPainType='ATA', RestingBP='131', Cholesterol='0', FastingBS='0', RestingECG='Normal', MaxHR='130', ExerciseAngina='N', Oldpeak='0.1', ST_Slope='Up', HeartDisease='0'),\n",
       " Row(Age='59', Sex='M', ChestPainType='ASY', RestingBP='178', Cholesterol='0', FastingBS='1', RestingECG='LVH', MaxHR='120', ExerciseAngina='Y', Oldpeak='0', ST_Slope='Flat', HeartDisease='1'),\n",
       " Row(Age='51', Sex='M', ChestPainType='ASY', RestingBP='132', Cholesterol='218', FastingBS='1', RestingECG='LVH', MaxHR='139', ExerciseAngina='N', Oldpeak='0.1', ST_Slope='Up', HeartDisease='0'),\n",
       " Row(Age='61', Sex='M', ChestPainType='ASY', RestingBP='110', Cholesterol='0', FastingBS='1', RestingECG='Normal', MaxHR='108', ExerciseAngina='Y', Oldpeak='2', ST_Slope='Down', HeartDisease='1'),\n",
       " Row(Age='57', Sex='M', ChestPainType='ASY', RestingBP='130', Cholesterol='311', FastingBS='1', RestingECG='ST', MaxHR='148', ExerciseAngina='Y', Oldpeak='2', ST_Slope='Flat', HeartDisease='1'),\n",
       " Row(Age='56', Sex='M', ChestPainType='NAP', RestingBP='170', Cholesterol='0', FastingBS='0', RestingECG='LVH', MaxHR='123', ExerciseAngina='Y', Oldpeak='2.5', ST_Slope='Flat', HeartDisease='1'),\n",
       " Row(Age='58', Sex='M', ChestPainType='ATA', RestingBP='126', Cholesterol='0', FastingBS='1', RestingECG='Normal', MaxHR='110', ExerciseAngina='Y', Oldpeak='2', ST_Slope='Flat', HeartDisease='1'),\n",
       " Row(Age='69', Sex='M', ChestPainType='NAP', RestingBP='140', Cholesterol='0', FastingBS='1', RestingECG='ST', MaxHR='118', ExerciseAngina='N', Oldpeak='2.5', ST_Slope='Down', HeartDisease='1'),\n",
       " Row(Age='67', Sex='M', ChestPainType='TA', RestingBP='142', Cholesterol='270', FastingBS='1', RestingECG='Normal', MaxHR='125', ExerciseAngina='N', Oldpeak='2.5', ST_Slope='Up', HeartDisease='1'),\n",
       " Row(Age='58', Sex='M', ChestPainType='ASY', RestingBP='120', Cholesterol='0', FastingBS='0', RestingECG='LVH', MaxHR='106', ExerciseAngina='Y', Oldpeak='1.5', ST_Slope='Down', HeartDisease='1'),\n",
       " Row(Age='65', Sex='M', ChestPainType='ASY', RestingBP='134', Cholesterol='0', FastingBS='0', RestingECG='Normal', MaxHR='112', ExerciseAngina='Y', Oldpeak='1.1', ST_Slope='Flat', HeartDisease='1'),\n",
       " Row(Age='63', Sex='M', ChestPainType='ATA', RestingBP='139', Cholesterol='217', FastingBS='1', RestingECG='ST', MaxHR='128', ExerciseAngina='Y', Oldpeak='1.2', ST_Slope='Flat', HeartDisease='1'),\n",
       " Row(Age='55', Sex='M', ChestPainType='ATA', RestingBP='110', Cholesterol='214', FastingBS='1', RestingECG='ST', MaxHR='180', ExerciseAngina='N', Oldpeak='0.4', ST_Slope='Up', HeartDisease='0'),\n",
       " Row(Age='57', Sex='M', ChestPainType='ASY', RestingBP='140', Cholesterol='214', FastingBS='0', RestingECG='ST', MaxHR='144', ExerciseAngina='Y', Oldpeak='2', ST_Slope='Flat', HeartDisease='1'),\n",
       " Row(Age='65', Sex='M', ChestPainType='TA', RestingBP='140', Cholesterol='252', FastingBS='0', RestingECG='Normal', MaxHR='135', ExerciseAngina='N', Oldpeak='0.3', ST_Slope='Up', HeartDisease='0'),\n",
       " Row(Age='54', Sex='M', ChestPainType='ASY', RestingBP='136', Cholesterol='220', FastingBS='0', RestingECG='Normal', MaxHR='140', ExerciseAngina='Y', Oldpeak='3', ST_Slope='Flat', HeartDisease='1'),\n",
       " Row(Age='72', Sex='M', ChestPainType='NAP', RestingBP='120', Cholesterol='214', FastingBS='0', RestingECG='Normal', MaxHR='102', ExerciseAngina='Y', Oldpeak='1', ST_Slope='Flat', HeartDisease='1'),\n",
       " Row(Age='75', Sex='M', ChestPainType='ASY', RestingBP='170', Cholesterol='203', FastingBS='1', RestingECG='ST', MaxHR='108', ExerciseAngina='N', Oldpeak='0', ST_Slope='Flat', HeartDisease='1'),\n",
       " Row(Age='49', Sex='M', ChestPainType='TA', RestingBP='130', Cholesterol='0', FastingBS='0', RestingECG='ST', MaxHR='145', ExerciseAngina='N', Oldpeak='3', ST_Slope='Flat', HeartDisease='1'),\n",
       " Row(Age='51', Sex='M', ChestPainType='NAP', RestingBP='137', Cholesterol='339', FastingBS='0', RestingECG='Normal', MaxHR='127', ExerciseAngina='Y', Oldpeak='1.7', ST_Slope='Flat', HeartDisease='1'),\n",
       " Row(Age='60', Sex='M', ChestPainType='ASY', RestingBP='142', Cholesterol='216', FastingBS='0', RestingECG='Normal', MaxHR='110', ExerciseAngina='Y', Oldpeak='2.5', ST_Slope='Flat', HeartDisease='1'),\n",
       " Row(Age='64', Sex='F', ChestPainType='ASY', RestingBP='142', Cholesterol='276', FastingBS='0', RestingECG='Normal', MaxHR='140', ExerciseAngina='Y', Oldpeak='1', ST_Slope='Flat', HeartDisease='1'),\n",
       " Row(Age='58', Sex='M', ChestPainType='ASY', RestingBP='132', Cholesterol='458', FastingBS='1', RestingECG='Normal', MaxHR='69', ExerciseAngina='N', Oldpeak='1', ST_Slope='Down', HeartDisease='0'),\n",
       " Row(Age='61', Sex='M', ChestPainType='ASY', RestingBP='146', Cholesterol='241', FastingBS='0', RestingECG='Normal', MaxHR='148', ExerciseAngina='Y', Oldpeak='3', ST_Slope='Down', HeartDisease='1'),\n",
       " Row(Age='67', Sex='M', ChestPainType='ASY', RestingBP='160', Cholesterol='384', FastingBS='1', RestingECG='ST', MaxHR='130', ExerciseAngina='Y', Oldpeak='0', ST_Slope='Flat', HeartDisease='1'),\n",
       " Row(Age='62', Sex='M', ChestPainType='ASY', RestingBP='135', Cholesterol='297', FastingBS='0', RestingECG='Normal', MaxHR='130', ExerciseAngina='Y', Oldpeak='1', ST_Slope='Flat', HeartDisease='1'),\n",
       " Row(Age='65', Sex='M', ChestPainType='ASY', RestingBP='136', Cholesterol='248', FastingBS='0', RestingECG='Normal', MaxHR='140', ExerciseAngina='Y', Oldpeak='4', ST_Slope='Down', HeartDisease='1'),\n",
       " Row(Age='63', Sex='M', ChestPainType='ASY', RestingBP='130', Cholesterol='308', FastingBS='0', RestingECG='Normal', MaxHR='138', ExerciseAngina='Y', Oldpeak='2', ST_Slope='Flat', HeartDisease='1'),\n",
       " Row(Age='69', Sex='M', ChestPainType='ASY', RestingBP='140', Cholesterol='208', FastingBS='0', RestingECG='ST', MaxHR='140', ExerciseAngina='Y', Oldpeak='2', ST_Slope='Flat', HeartDisease='1'),\n",
       " Row(Age='51', Sex='M', ChestPainType='ASY', RestingBP='132', Cholesterol='227', FastingBS='1', RestingECG='ST', MaxHR='138', ExerciseAngina='N', Oldpeak='0.2', ST_Slope='Up', HeartDisease='0'),\n",
       " Row(Age='62', Sex='M', ChestPainType='ASY', RestingBP='158', Cholesterol='210', FastingBS='1', RestingECG='Normal', MaxHR='112', ExerciseAngina='Y', Oldpeak='3', ST_Slope='Down', HeartDisease='1'),\n",
       " Row(Age='55', Sex='M', ChestPainType='NAP', RestingBP='136', Cholesterol='245', FastingBS='1', RestingECG='ST', MaxHR='131', ExerciseAngina='Y', Oldpeak='1.2', ST_Slope='Flat', HeartDisease='1'),\n",
       " Row(Age='75', Sex='M', ChestPainType='ASY', RestingBP='136', Cholesterol='225', FastingBS='0', RestingECG='Normal', MaxHR='112', ExerciseAngina='Y', Oldpeak='3', ST_Slope='Flat', HeartDisease='1'),\n",
       " Row(Age='40', Sex='M', ChestPainType='NAP', RestingBP='106', Cholesterol='240', FastingBS='0', RestingECG='Normal', MaxHR='80', ExerciseAngina='Y', Oldpeak='0', ST_Slope='Up', HeartDisease='0'),\n",
       " Row(Age='67', Sex='M', ChestPainType='ASY', RestingBP='120', Cholesterol='0', FastingBS='1', RestingECG='Normal', MaxHR='150', ExerciseAngina='N', Oldpeak='1.5', ST_Slope='Down', HeartDisease='1'),\n",
       " Row(Age='58', Sex='M', ChestPainType='ASY', RestingBP='110', Cholesterol='198', FastingBS='0', RestingECG='Normal', MaxHR='110', ExerciseAngina='N', Oldpeak='0', ST_Slope='Flat', HeartDisease='1'),\n",
       " Row(Age='60', Sex='M', ChestPainType='ASY', RestingBP='136', Cholesterol='195', FastingBS='0', RestingECG='Normal', MaxHR='126', ExerciseAngina='N', Oldpeak='0.3', ST_Slope='Up', HeartDisease='0'),\n",
       " Row(Age='63', Sex='M', ChestPainType='ASY', RestingBP='160', Cholesterol='267', FastingBS='1', RestingECG='ST', MaxHR='88', ExerciseAngina='Y', Oldpeak='2', ST_Slope='Flat', HeartDisease='1'),\n",
       " Row(Age='35', Sex='M', ChestPainType='NAP', RestingBP='123', Cholesterol='161', FastingBS='0', RestingECG='ST', MaxHR='153', ExerciseAngina='N', Oldpeak='-0.1', ST_Slope='Up', HeartDisease='0'),\n",
       " Row(Age='62', Sex='M', ChestPainType='TA', RestingBP='112', Cholesterol='258', FastingBS='0', RestingECG='ST', MaxHR='150', ExerciseAngina='Y', Oldpeak='1.3', ST_Slope='Flat', HeartDisease='1'),\n",
       " Row(Age='43', Sex='M', ChestPainType='ASY', RestingBP='122', Cholesterol='0', FastingBS='0', RestingECG='Normal', MaxHR='120', ExerciseAngina='N', Oldpeak='0.5', ST_Slope='Up', HeartDisease='1'),\n",
       " Row(Age='63', Sex='M', ChestPainType='NAP', RestingBP='130', Cholesterol='0', FastingBS='1', RestingECG='ST', MaxHR='160', ExerciseAngina='N', Oldpeak='3', ST_Slope='Flat', HeartDisease='0'),\n",
       " Row(Age='68', Sex='M', ChestPainType='NAP', RestingBP='150', Cholesterol='195', FastingBS='1', RestingECG='Normal', MaxHR='132', ExerciseAngina='N', Oldpeak='0', ST_Slope='Flat', HeartDisease='1'),\n",
       " Row(Age='65', Sex='M', ChestPainType='ASY', RestingBP='150', Cholesterol='235', FastingBS='0', RestingECG='Normal', MaxHR='120', ExerciseAngina='Y', Oldpeak='1.5', ST_Slope='Flat', HeartDisease='1'),\n",
       " Row(Age='48', Sex='M', ChestPainType='NAP', RestingBP='102', Cholesterol='0', FastingBS='1', RestingECG='ST', MaxHR='110', ExerciseAngina='Y', Oldpeak='1', ST_Slope='Down', HeartDisease='1'),\n",
       " Row(Age='63', Sex='M', ChestPainType='ASY', RestingBP='96', Cholesterol='305', FastingBS='0', RestingECG='ST', MaxHR='121', ExerciseAngina='Y', Oldpeak='1', ST_Slope='Up', HeartDisease='1'),\n",
       " Row(Age='64', Sex='M', ChestPainType='ASY', RestingBP='130', Cholesterol='223', FastingBS='0', RestingECG='ST', MaxHR='128', ExerciseAngina='N', Oldpeak='0.5', ST_Slope='Flat', HeartDisease='0'),\n",
       " Row(Age='61', Sex='M', ChestPainType='ASY', RestingBP='120', Cholesterol='282', FastingBS='0', RestingECG='ST', MaxHR='135', ExerciseAngina='Y', Oldpeak='4', ST_Slope='Down', HeartDisease='1'),\n",
       " Row(Age='50', Sex='M', ChestPainType='ASY', RestingBP='144', Cholesterol='349', FastingBS='0', RestingECG='LVH', MaxHR='120', ExerciseAngina='Y', Oldpeak='1', ST_Slope='Up', HeartDisease='1'),\n",
       " Row(Age='59', Sex='M', ChestPainType='ASY', RestingBP='124', Cholesterol='160', FastingBS='0', RestingECG='Normal', MaxHR='117', ExerciseAngina='Y', Oldpeak='1', ST_Slope='Flat', HeartDisease='1'),\n",
       " Row(Age='55', Sex='M', ChestPainType='ASY', RestingBP='150', Cholesterol='160', FastingBS='0', RestingECG='ST', MaxHR='150', ExerciseAngina='N', Oldpeak='0', ST_Slope='Up', HeartDisease='0'),\n",
       " Row(Age='45', Sex='M', ChestPainType='NAP', RestingBP='130', Cholesterol='236', FastingBS='0', RestingECG='Normal', MaxHR='144', ExerciseAngina='N', Oldpeak='0.1', ST_Slope='Up', HeartDisease='0'),\n",
       " Row(Age='65', Sex='M', ChestPainType='ASY', RestingBP='144', Cholesterol='312', FastingBS='0', RestingECG='LVH', MaxHR='113', ExerciseAngina='Y', Oldpeak='1.7', ST_Slope='Flat', HeartDisease='1'),\n",
       " Row(Age='61', Sex='M', ChestPainType='ATA', RestingBP='139', Cholesterol='283', FastingBS='0', RestingECG='Normal', MaxHR='135', ExerciseAngina='N', Oldpeak='0.3', ST_Slope='Up', HeartDisease='0'),\n",
       " Row(Age='49', Sex='M', ChestPainType='NAP', RestingBP='131', Cholesterol='142', FastingBS='0', RestingECG='Normal', MaxHR='127', ExerciseAngina='Y', Oldpeak='1.5', ST_Slope='Flat', HeartDisease='1'),\n",
       " Row(Age='72', Sex='M', ChestPainType='ASY', RestingBP='143', Cholesterol='211', FastingBS='0', RestingECG='Normal', MaxHR='109', ExerciseAngina='Y', Oldpeak='1.4', ST_Slope='Flat', HeartDisease='1'),\n",
       " Row(Age='50', Sex='M', ChestPainType='ASY', RestingBP='133', Cholesterol='218', FastingBS='0', RestingECG='Normal', MaxHR='128', ExerciseAngina='Y', Oldpeak='1.1', ST_Slope='Flat', HeartDisease='1'),\n",
       " Row(Age='64', Sex='M', ChestPainType='ASY', RestingBP='143', Cholesterol='306', FastingBS='1', RestingECG='ST', MaxHR='115', ExerciseAngina='Y', Oldpeak='1.8', ST_Slope='Flat', HeartDisease='1'),\n",
       " Row(Age='55', Sex='M', ChestPainType='ASY', RestingBP='116', Cholesterol='186', FastingBS='1', RestingECG='ST', MaxHR='102', ExerciseAngina='N', Oldpeak='0', ST_Slope='Flat', HeartDisease='1'),\n",
       " Row(Age='63', Sex='M', ChestPainType='ASY', RestingBP='110', Cholesterol='252', FastingBS='0', RestingECG='ST', MaxHR='140', ExerciseAngina='Y', Oldpeak='2', ST_Slope='Flat', HeartDisease='1'),\n",
       " Row(Age='59', Sex='M', ChestPainType='ASY', RestingBP='125', Cholesterol='222', FastingBS='0', RestingECG='Normal', MaxHR='135', ExerciseAngina='Y', Oldpeak='2.5', ST_Slope='Down', HeartDisease='1'),\n",
       " Row(Age='56', Sex='M', ChestPainType='ASY', RestingBP='130', Cholesterol='0', FastingBS='0', RestingECG='LVH', MaxHR='122', ExerciseAngina='Y', Oldpeak='1', ST_Slope='Flat', HeartDisease='1'),\n",
       " Row(Age='62', Sex='M', ChestPainType='NAP', RestingBP='133', Cholesterol='0', FastingBS='1', RestingECG='ST', MaxHR='119', ExerciseAngina='Y', Oldpeak='1.2', ST_Slope='Flat', HeartDisease='1'),\n",
       " Row(Age='74', Sex='M', ChestPainType='ASY', RestingBP='150', Cholesterol='258', FastingBS='1', RestingECG='ST', MaxHR='130', ExerciseAngina='Y', Oldpeak='4', ST_Slope='Down', HeartDisease='1'),\n",
       " Row(Age='54', Sex='M', ChestPainType='ASY', RestingBP='130', Cholesterol='202', FastingBS='1', RestingECG='Normal', MaxHR='112', ExerciseAngina='Y', Oldpeak='2', ST_Slope='Flat', HeartDisease='1'),\n",
       " Row(Age='57', Sex='M', ChestPainType='ASY', RestingBP='110', Cholesterol='197', FastingBS='0', RestingECG='LVH', MaxHR='100', ExerciseAngina='N', Oldpeak='0', ST_Slope='Up', HeartDisease='0'),\n",
       " Row(Age='62', Sex='M', ChestPainType='NAP', RestingBP='138', Cholesterol='204', FastingBS='0', RestingECG='ST', MaxHR='122', ExerciseAngina='Y', Oldpeak='1.2', ST_Slope='Flat', HeartDisease='1'),\n",
       " Row(Age='76', Sex='M', ChestPainType='NAP', RestingBP='104', Cholesterol='113', FastingBS='0', RestingECG='LVH', MaxHR='120', ExerciseAngina='N', Oldpeak='3.5', ST_Slope='Down', HeartDisease='1'),\n",
       " Row(Age='54', Sex='F', ChestPainType='ASY', RestingBP='138', Cholesterol='274', FastingBS='0', RestingECG='Normal', MaxHR='105', ExerciseAngina='Y', Oldpeak='1.5', ST_Slope='Flat', HeartDisease='1'),\n",
       " Row(Age='70', Sex='M', ChestPainType='ASY', RestingBP='170', Cholesterol='192', FastingBS='0', RestingECG='ST', MaxHR='129', ExerciseAngina='Y', Oldpeak='3', ST_Slope='Down', HeartDisease='1'),\n",
       " Row(Age='61', Sex='F', ChestPainType='ATA', RestingBP='140', Cholesterol='298', FastingBS='1', RestingECG='Normal', MaxHR='120', ExerciseAngina='Y', Oldpeak='0', ST_Slope='Up', HeartDisease='0'),\n",
       " Row(Age='48', Sex='M', ChestPainType='ASY', RestingBP='132', Cholesterol='272', FastingBS='0', RestingECG='ST', MaxHR='139', ExerciseAngina='N', Oldpeak='0.2', ST_Slope='Up', HeartDisease='0'),\n",
       " Row(Age='48', Sex='M', ChestPainType='NAP', RestingBP='132', Cholesterol='220', FastingBS='1', RestingECG='ST', MaxHR='162', ExerciseAngina='N', Oldpeak='0', ST_Slope='Flat', HeartDisease='1'),\n",
       " Row(Age='61', Sex='M', ChestPainType='TA', RestingBP='142', Cholesterol='200', FastingBS='1', RestingECG='ST', MaxHR='100', ExerciseAngina='N', Oldpeak='1.5', ST_Slope='Down', HeartDisease='1'),\n",
       " Row(Age='66', Sex='M', ChestPainType='ASY', RestingBP='112', Cholesterol='261', FastingBS='0', RestingECG='Normal', MaxHR='140', ExerciseAngina='N', Oldpeak='1.5', ST_Slope='Up', HeartDisease='1'),\n",
       " Row(Age='68', Sex='M', ChestPainType='TA', RestingBP='139', Cholesterol='181', FastingBS='1', RestingECG='ST', MaxHR='135', ExerciseAngina='N', Oldpeak='0.2', ST_Slope='Up', HeartDisease='0'),\n",
       " Row(Age='55', Sex='M', ChestPainType='ASY', RestingBP='172', Cholesterol='260', FastingBS='0', RestingECG='Normal', MaxHR='73', ExerciseAngina='N', Oldpeak='2', ST_Slope='Flat', HeartDisease='1'),\n",
       " Row(Age='62', Sex='M', ChestPainType='NAP', RestingBP='120', Cholesterol='220', FastingBS='0', RestingECG='LVH', MaxHR='86', ExerciseAngina='N', Oldpeak='0', ST_Slope='Up', HeartDisease='0'),\n",
       " Row(Age='71', Sex='M', ChestPainType='NAP', RestingBP='144', Cholesterol='221', FastingBS='0', RestingECG='Normal', MaxHR='108', ExerciseAngina='Y', Oldpeak='1.8', ST_Slope='Flat', HeartDisease='1'),\n",
       " Row(Age='74', Sex='M', ChestPainType='TA', RestingBP='145', Cholesterol='216', FastingBS='1', RestingECG='Normal', MaxHR='116', ExerciseAngina='Y', Oldpeak='1.8', ST_Slope='Flat', HeartDisease='1'),\n",
       " Row(Age='53', Sex='M', ChestPainType='NAP', RestingBP='155', Cholesterol='175', FastingBS='1', RestingECG='ST', MaxHR='160', ExerciseAngina='N', Oldpeak='0.3', ST_Slope='Up', HeartDisease='0'),\n",
       " Row(Age='58', Sex='M', ChestPainType='NAP', RestingBP='150', Cholesterol='219', FastingBS='0', RestingECG='ST', MaxHR='118', ExerciseAngina='Y', Oldpeak='0', ST_Slope='Flat', HeartDisease='1'),\n",
       " Row(Age='75', Sex='M', ChestPainType='ASY', RestingBP='160', Cholesterol='310', FastingBS='1', RestingECG='Normal', MaxHR='112', ExerciseAngina='Y', Oldpeak='2', ST_Slope='Down', HeartDisease='0'),\n",
       " Row(Age='56', Sex='M', ChestPainType='NAP', RestingBP='137', Cholesterol='208', FastingBS='1', RestingECG='ST', MaxHR='122', ExerciseAngina='Y', Oldpeak='1.8', ST_Slope='Flat', HeartDisease='1'),\n",
       " Row(Age='58', Sex='M', ChestPainType='NAP', RestingBP='137', Cholesterol='232', FastingBS='0', RestingECG='ST', MaxHR='124', ExerciseAngina='Y', Oldpeak='1.4', ST_Slope='Flat', HeartDisease='1'),\n",
       " Row(Age='64', Sex='M', ChestPainType='ASY', RestingBP='134', Cholesterol='273', FastingBS='0', RestingECG='Normal', MaxHR='102', ExerciseAngina='Y', Oldpeak='4', ST_Slope='Down', HeartDisease='1'),\n",
       " Row(Age='54', Sex='M', ChestPainType='NAP', RestingBP='133', Cholesterol='203', FastingBS='0', RestingECG='ST', MaxHR='137', ExerciseAngina='N', Oldpeak='0.2', ST_Slope='Up', HeartDisease='0'),\n",
       " Row(Age='54', Sex='M', ChestPainType='ATA', RestingBP='132', Cholesterol='182', FastingBS='0', RestingECG='ST', MaxHR='141', ExerciseAngina='N', Oldpeak='0.1', ST_Slope='Up', HeartDisease='0'),\n",
       " Row(Age='59', Sex='M', ChestPainType='ASY', RestingBP='140', Cholesterol='274', FastingBS='0', RestingECG='Normal', MaxHR='154', ExerciseAngina='Y', Oldpeak='2', ST_Slope='Flat', HeartDisease='0'),\n",
       " Row(Age='55', Sex='M', ChestPainType='ASY', RestingBP='135', Cholesterol='204', FastingBS='1', RestingECG='ST', MaxHR='126', ExerciseAngina='Y', Oldpeak='1.1', ST_Slope='Flat', HeartDisease='1'),\n",
       " Row(Age='57', Sex='M', ChestPainType='ASY', RestingBP='144', Cholesterol='270', FastingBS='1', RestingECG='ST', MaxHR='160', ExerciseAngina='Y', Oldpeak='2', ST_Slope='Flat', HeartDisease='1'),\n",
       " Row(Age='61', Sex='M', ChestPainType='ASY', RestingBP='141', Cholesterol='292', FastingBS='0', RestingECG='ST', MaxHR='115', ExerciseAngina='Y', Oldpeak='1.7', ST_Slope='Flat', HeartDisease='1'),\n",
       " Row(Age='41', Sex='M', ChestPainType='ASY', RestingBP='150', Cholesterol='171', FastingBS='0', RestingECG='Normal', MaxHR='128', ExerciseAngina='Y', Oldpeak='1.5', ST_Slope='Flat', HeartDisease='0'),\n",
       " Row(Age='71', Sex='M', ChestPainType='ASY', RestingBP='130', Cholesterol='221', FastingBS='0', RestingECG='ST', MaxHR='115', ExerciseAngina='Y', Oldpeak='0', ST_Slope='Flat', HeartDisease='1'),\n",
       " Row(Age='38', Sex='M', ChestPainType='ASY', RestingBP='110', Cholesterol='289', FastingBS='0', RestingECG='Normal', MaxHR='105', ExerciseAngina='Y', Oldpeak='1.5', ST_Slope='Down', HeartDisease='1'),\n",
       " Row(Age='55', Sex='M', ChestPainType='ASY', RestingBP='158', Cholesterol='217', FastingBS='0', RestingECG='Normal', MaxHR='110', ExerciseAngina='Y', Oldpeak='2.5', ST_Slope='Flat', HeartDisease='1'),\n",
       " Row(Age='56', Sex='M', ChestPainType='ASY', RestingBP='128', Cholesterol='223', FastingBS='0', RestingECG='ST', MaxHR='119', ExerciseAngina='Y', Oldpeak='2', ST_Slope='Down', HeartDisease='1'),\n",
       " Row(Age='69', Sex='M', ChestPainType='ASY', RestingBP='140', Cholesterol='110', FastingBS='1', RestingECG='Normal', MaxHR='109', ExerciseAngina='Y', Oldpeak='1.5', ST_Slope='Flat', HeartDisease='1'),\n",
       " Row(Age='64', Sex='M', ChestPainType='ASY', RestingBP='150', Cholesterol='193', FastingBS='0', RestingECG='ST', MaxHR='135', ExerciseAngina='Y', Oldpeak='0.5', ST_Slope='Flat', HeartDisease='1'),\n",
       " Row(Age='72', Sex='M', ChestPainType='ASY', RestingBP='160', Cholesterol='123', FastingBS='1', RestingECG='LVH', MaxHR='130', ExerciseAngina='N', Oldpeak='1.5', ST_Slope='Flat', HeartDisease='1'),\n",
       " Row(Age='69', Sex='M', ChestPainType='ASY', RestingBP='142', Cholesterol='210', FastingBS='1', RestingECG='ST', MaxHR='112', ExerciseAngina='Y', Oldpeak='1.5', ST_Slope='Flat', HeartDisease='1'),\n",
       " Row(Age='56', Sex='M', ChestPainType='ASY', RestingBP='137', Cholesterol='282', FastingBS='1', RestingECG='Normal', MaxHR='126', ExerciseAngina='Y', Oldpeak='1.2', ST_Slope='Flat', HeartDisease='1'),\n",
       " Row(Age='62', Sex='M', ChestPainType='ASY', RestingBP='139', Cholesterol='170', FastingBS='0', RestingECG='ST', MaxHR='120', ExerciseAngina='Y', Oldpeak='3', ST_Slope='Flat', HeartDisease='1'),\n",
       " Row(Age='67', Sex='M', ChestPainType='ASY', RestingBP='146', Cholesterol='369', FastingBS='0', RestingECG='Normal', MaxHR='110', ExerciseAngina='Y', Oldpeak='1.9', ST_Slope='Flat', HeartDisease='1'),\n",
       " Row(Age='57', Sex='M', ChestPainType='ASY', RestingBP='156', Cholesterol='173', FastingBS='0', RestingECG='LVH', MaxHR='119', ExerciseAngina='Y', Oldpeak='3', ST_Slope='Down', HeartDisease='1'),\n",
       " Row(Age='69', Sex='M', ChestPainType='ASY', RestingBP='145', Cholesterol='289', FastingBS='1', RestingECG='ST', MaxHR='110', ExerciseAngina='Y', Oldpeak='1.8', ST_Slope='Flat', HeartDisease='1'),\n",
       " Row(Age='51', Sex='M', ChestPainType='ASY', RestingBP='131', Cholesterol='152', FastingBS='1', RestingECG='LVH', MaxHR='130', ExerciseAngina='Y', Oldpeak='1', ST_Slope='Flat', HeartDisease='1'),\n",
       " Row(Age='48', Sex='M', ChestPainType='ASY', RestingBP='140', Cholesterol='208', FastingBS='0', RestingECG='Normal', MaxHR='159', ExerciseAngina='Y', Oldpeak='1.5', ST_Slope='Up', HeartDisease='1'),\n",
       " Row(Age='69', Sex='M', ChestPainType='ASY', RestingBP='122', Cholesterol='216', FastingBS='1', RestingECG='LVH', MaxHR='84', ExerciseAngina='Y', Oldpeak='0', ST_Slope='Flat', HeartDisease='1'),\n",
       " Row(Age='69', Sex='M', ChestPainType='NAP', RestingBP='142', Cholesterol='271', FastingBS='0', RestingECG='LVH', MaxHR='126', ExerciseAngina='N', Oldpeak='0.3', ST_Slope='Up', HeartDisease='0'),\n",
       " Row(Age='64', Sex='M', ChestPainType='ASY', RestingBP='141', Cholesterol='244', FastingBS='1', RestingECG='ST', MaxHR='116', ExerciseAngina='Y', Oldpeak='1.5', ST_Slope='Flat', HeartDisease='1'),\n",
       " Row(Age='57', Sex='M', ChestPainType='ATA', RestingBP='180', Cholesterol='285', FastingBS='1', RestingECG='ST', MaxHR='120', ExerciseAngina='N', Oldpeak='0.8', ST_Slope='Flat', HeartDisease='1'),\n",
       " Row(Age='53', Sex='M', ChestPainType='ASY', RestingBP='124', Cholesterol='243', FastingBS='0', RestingECG='Normal', MaxHR='122', ExerciseAngina='Y', Oldpeak='2', ST_Slope='Flat', HeartDisease='1'),\n",
       " Row(Age='37', Sex='M', ChestPainType='NAP', RestingBP='118', Cholesterol='240', FastingBS='0', RestingECG='LVH', MaxHR='165', ExerciseAngina='N', Oldpeak='1', ST_Slope='Flat', HeartDisease='0'),\n",
       " Row(Age='67', Sex='M', ChestPainType='ASY', RestingBP='140', Cholesterol='219', FastingBS='0', RestingECG='ST', MaxHR='122', ExerciseAngina='Y', Oldpeak='2', ST_Slope='Flat', HeartDisease='1'),\n",
       " Row(Age='74', Sex='M', ChestPainType='NAP', RestingBP='140', Cholesterol='237', FastingBS='1', RestingECG='Normal', MaxHR='94', ExerciseAngina='N', Oldpeak='0', ST_Slope='Flat', HeartDisease='1'),\n",
       " Row(Age='63', Sex='M', ChestPainType='ATA', RestingBP='136', Cholesterol='165', FastingBS='0', RestingECG='ST', MaxHR='133', ExerciseAngina='N', Oldpeak='0.2', ST_Slope='Up', HeartDisease='0'),\n",
       " Row(Age='58', Sex='M', ChestPainType='ASY', RestingBP='100', Cholesterol='213', FastingBS='0', RestingECG='ST', MaxHR='110', ExerciseAngina='N', Oldpeak='0', ST_Slope='Up', HeartDisease='0'),\n",
       " Row(Age='61', Sex='M', ChestPainType='ASY', RestingBP='190', Cholesterol='287', FastingBS='1', RestingECG='LVH', MaxHR='150', ExerciseAngina='Y', Oldpeak='2', ST_Slope='Down', HeartDisease='1'),\n",
       " Row(Age='64', Sex='M', ChestPainType='ASY', RestingBP='130', Cholesterol='258', FastingBS='1', RestingECG='LVH', MaxHR='130', ExerciseAngina='N', Oldpeak='0', ST_Slope='Flat', HeartDisease='1'),\n",
       " Row(Age='58', Sex='M', ChestPainType='ASY', RestingBP='160', Cholesterol='256', FastingBS='1', RestingECG='LVH', MaxHR='113', ExerciseAngina='Y', Oldpeak='1', ST_Slope='Up', HeartDisease='1'),\n",
       " Row(Age='60', Sex='M', ChestPainType='ASY', RestingBP='130', Cholesterol='186', FastingBS='1', RestingECG='LVH', MaxHR='140', ExerciseAngina='Y', Oldpeak='0.5', ST_Slope='Flat', HeartDisease='1'),\n",
       " Row(Age='57', Sex='M', ChestPainType='ASY', RestingBP='122', Cholesterol='264', FastingBS='0', RestingECG='LVH', MaxHR='100', ExerciseAngina='N', Oldpeak='0', ST_Slope='Flat', HeartDisease='1'),\n",
       " Row(Age='55', Sex='M', ChestPainType='NAP', RestingBP='133', Cholesterol='185', FastingBS='0', RestingECG='ST', MaxHR='136', ExerciseAngina='N', Oldpeak='0.2', ST_Slope='Up', HeartDisease='0'),\n",
       " Row(Age='55', Sex='M', ChestPainType='ASY', RestingBP='120', Cholesterol='226', FastingBS='0', RestingECG='LVH', MaxHR='127', ExerciseAngina='Y', Oldpeak='1.7', ST_Slope='Down', HeartDisease='1'),\n",
       " Row(Age='56', Sex='M', ChestPainType='ASY', RestingBP='130', Cholesterol='203', FastingBS='1', RestingECG='Normal', MaxHR='98', ExerciseAngina='N', Oldpeak='1.5', ST_Slope='Flat', HeartDisease='1'),\n",
       " Row(Age='57', Sex='M', ChestPainType='ASY', RestingBP='130', Cholesterol='207', FastingBS='0', RestingECG='ST', MaxHR='96', ExerciseAngina='Y', Oldpeak='1', ST_Slope='Flat', HeartDisease='0'),\n",
       " Row(Age='61', Sex='M', ChestPainType='NAP', RestingBP='140', Cholesterol='284', FastingBS='0', RestingECG='Normal', MaxHR='123', ExerciseAngina='Y', Oldpeak='1.3', ST_Slope='Flat', HeartDisease='1'),\n",
       " Row(Age='61', Sex='M', ChestPainType='NAP', RestingBP='120', Cholesterol='337', FastingBS='0', RestingECG='Normal', MaxHR='98', ExerciseAngina='Y', Oldpeak='0', ST_Slope='Flat', HeartDisease='1'),\n",
       " Row(Age='74', Sex='M', ChestPainType='ASY', RestingBP='155', Cholesterol='310', FastingBS='0', RestingECG='Normal', MaxHR='112', ExerciseAngina='Y', Oldpeak='1.5', ST_Slope='Down', HeartDisease='1'),\n",
       " Row(Age='68', Sex='M', ChestPainType='NAP', RestingBP='134', Cholesterol='254', FastingBS='1', RestingECG='Normal', MaxHR='151', ExerciseAngina='Y', Oldpeak='0', ST_Slope='Up', HeartDisease='0'),\n",
       " Row(Age='51', Sex='F', ChestPainType='ASY', RestingBP='114', Cholesterol='258', FastingBS='1', RestingECG='LVH', MaxHR='96', ExerciseAngina='N', Oldpeak='1', ST_Slope='Up', HeartDisease='0'),\n",
       " Row(Age='62', Sex='M', ChestPainType='ASY', RestingBP='160', Cholesterol='254', FastingBS='1', RestingECG='ST', MaxHR='108', ExerciseAngina='Y', Oldpeak='3', ST_Slope='Flat', HeartDisease='1'),\n",
       " Row(Age='53', Sex='M', ChestPainType='ASY', RestingBP='144', Cholesterol='300', FastingBS='1', RestingECG='ST', MaxHR='128', ExerciseAngina='Y', Oldpeak='1.5', ST_Slope='Flat', HeartDisease='1'),\n",
       " Row(Age='62', Sex='M', ChestPainType='ASY', RestingBP='158', Cholesterol='170', FastingBS='0', RestingECG='ST', MaxHR='138', ExerciseAngina='Y', Oldpeak='0', ST_Slope='Flat', HeartDisease='1'),\n",
       " Row(Age='46', Sex='M', ChestPainType='ASY', RestingBP='134', Cholesterol='310', FastingBS='0', RestingECG='Normal', MaxHR='126', ExerciseAngina='N', Oldpeak='0', ST_Slope='Flat', HeartDisease='1'),\n",
       " Row(Age='54', Sex='F', ChestPainType='ASY', RestingBP='127', Cholesterol='333', FastingBS='1', RestingECG='ST', MaxHR='154', ExerciseAngina='N', Oldpeak='0', ST_Slope='Flat', HeartDisease='1'),\n",
       " Row(Age='62', Sex='M', ChestPainType='TA', RestingBP='135', Cholesterol='139', FastingBS='0', RestingECG='ST', MaxHR='137', ExerciseAngina='N', Oldpeak='0.2', ST_Slope='Up', HeartDisease='0'),\n",
       " Row(Age='55', Sex='M', ChestPainType='ASY', RestingBP='122', Cholesterol='223', FastingBS='1', RestingECG='ST', MaxHR='100', ExerciseAngina='N', Oldpeak='0', ST_Slope='Flat', HeartDisease='1'),\n",
       " Row(Age='58', Sex='M', ChestPainType='ASY', RestingBP='140', Cholesterol='385', FastingBS='1', RestingECG='LVH', MaxHR='135', ExerciseAngina='N', Oldpeak='0.3', ST_Slope='Up', HeartDisease='0'),\n",
       " Row(Age='62', Sex='M', ChestPainType='ATA', RestingBP='120', Cholesterol='254', FastingBS='0', RestingECG='LVH', MaxHR='93', ExerciseAngina='Y', Oldpeak='0', ST_Slope='Flat', HeartDisease='1'),\n",
       " Row(Age='70', Sex='M', ChestPainType='ASY', RestingBP='130', Cholesterol='322', FastingBS='0', RestingECG='LVH', MaxHR='109', ExerciseAngina='N', Oldpeak='2.4', ST_Slope='Flat', HeartDisease='1'),\n",
       " Row(Age='67', Sex='F', ChestPainType='NAP', RestingBP='115', Cholesterol='564', FastingBS='0', RestingECG='LVH', MaxHR='160', ExerciseAngina='N', Oldpeak='1.6', ST_Slope='Flat', HeartDisease='0'),\n",
       " Row(Age='57', Sex='M', ChestPainType='ATA', RestingBP='124', Cholesterol='261', FastingBS='0', RestingECG='Normal', MaxHR='141', ExerciseAngina='N', Oldpeak='0.3', ST_Slope='Up', HeartDisease='1'),\n",
       " Row(Age='64', Sex='M', ChestPainType='ASY', RestingBP='128', Cholesterol='263', FastingBS='0', RestingECG='Normal', MaxHR='105', ExerciseAngina='Y', Oldpeak='0.2', ST_Slope='Flat', HeartDisease='0'),\n",
       " Row(Age='74', Sex='F', ChestPainType='ATA', RestingBP='120', Cholesterol='269', FastingBS='0', RestingECG='LVH', MaxHR='121', ExerciseAngina='Y', Oldpeak='0.2', ST_Slope='Up', HeartDisease='0'),\n",
       " Row(Age='65', Sex='M', ChestPainType='ASY', RestingBP='120', Cholesterol='177', FastingBS='0', RestingECG='Normal', MaxHR='140', ExerciseAngina='N', Oldpeak='0.4', ST_Slope='Up', HeartDisease='0'),\n",
       " Row(Age='56', Sex='M', ChestPainType='NAP', RestingBP='130', Cholesterol='256', FastingBS='1', RestingECG='LVH', MaxHR='142', ExerciseAngina='Y', Oldpeak='0.6', ST_Slope='Flat', HeartDisease='1'),\n",
       " Row(Age='59', Sex='M', ChestPainType='ASY', RestingBP='110', Cholesterol='239', FastingBS='0', RestingECG='LVH', MaxHR='142', ExerciseAngina='Y', Oldpeak='1.2', ST_Slope='Flat', HeartDisease='1'),\n",
       " Row(Age='60', Sex='M', ChestPainType='ASY', RestingBP='140', Cholesterol='293', FastingBS='0', RestingECG='LVH', MaxHR='170', ExerciseAngina='N', Oldpeak='1.2', ST_Slope='Flat', HeartDisease='1'),\n",
       " Row(Age='63', Sex='F', ChestPainType='ASY', RestingBP='150', Cholesterol='407', FastingBS='0', RestingECG='LVH', MaxHR='154', ExerciseAngina='N', Oldpeak='4', ST_Slope='Flat', HeartDisease='1'),\n",
       " Row(Age='59', Sex='M', ChestPainType='ASY', RestingBP='135', Cholesterol='234', FastingBS='0', RestingECG='Normal', MaxHR='161', ExerciseAngina='N', Oldpeak='0.5', ST_Slope='Flat', HeartDisease='0'),\n",
       " Row(Age='53', Sex='M', ChestPainType='ASY', RestingBP='142', Cholesterol='226', FastingBS='0', RestingECG='LVH', MaxHR='111', ExerciseAngina='Y', Oldpeak='0', ST_Slope='Up', HeartDisease='0'),\n",
       " Row(Age='44', Sex='M', ChestPainType='NAP', RestingBP='140', Cholesterol='235', FastingBS='0', RestingECG='LVH', MaxHR='180', ExerciseAngina='N', Oldpeak='0', ST_Slope='Up', HeartDisease='0'),\n",
       " Row(Age='61', Sex='M', ChestPainType='TA', RestingBP='134', Cholesterol='234', FastingBS='0', RestingECG='Normal', MaxHR='145', ExerciseAngina='N', Oldpeak='2.6', ST_Slope='Flat', HeartDisease='1'),\n",
       " Row(Age='57', Sex='F', ChestPainType='ASY', RestingBP='128', Cholesterol='303', FastingBS='0', RestingECG='LVH', MaxHR='159', ExerciseAngina='N', Oldpeak='0', ST_Slope='Up', HeartDisease='0'),\n",
       " Row(Age='71', Sex='F', ChestPainType='ASY', RestingBP='112', Cholesterol='149', FastingBS='0', RestingECG='Normal', MaxHR='125', ExerciseAngina='N', Oldpeak='1.6', ST_Slope='Flat', HeartDisease='0'),\n",
       " Row(Age='46', Sex='M', ChestPainType='ASY', RestingBP='140', Cholesterol='311', FastingBS='0', RestingECG='Normal', MaxHR='120', ExerciseAngina='Y', Oldpeak='1.8', ST_Slope='Flat', HeartDisease='1'),\n",
       " Row(Age='53', Sex='M', ChestPainType='ASY', RestingBP='140', Cholesterol='203', FastingBS='1', RestingECG='LVH', MaxHR='155', ExerciseAngina='Y', Oldpeak='3.1', ST_Slope='Down', HeartDisease='1'),\n",
       " Row(Age='64', Sex='M', ChestPainType='TA', RestingBP='110', Cholesterol='211', FastingBS='0', RestingECG='LVH', MaxHR='144', ExerciseAngina='Y', Oldpeak='1.8', ST_Slope='Flat', HeartDisease='0'),\n",
       " Row(Age='40', Sex='M', ChestPainType='TA', RestingBP='140', Cholesterol='199', FastingBS='0', RestingECG='Normal', MaxHR='178', ExerciseAngina='Y', Oldpeak='1.4', ST_Slope='Up', HeartDisease='0'),\n",
       " Row(Age='67', Sex='M', ChestPainType='ASY', RestingBP='120', Cholesterol='229', FastingBS='0', RestingECG='LVH', MaxHR='129', ExerciseAngina='Y', Oldpeak='2.6', ST_Slope='Flat', HeartDisease='1'),\n",
       " Row(Age='48', Sex='M', ChestPainType='ATA', RestingBP='130', Cholesterol='245', FastingBS='0', RestingECG='LVH', MaxHR='180', ExerciseAngina='N', Oldpeak='0.2', ST_Slope='Flat', HeartDisease='0'),\n",
       " Row(Age='43', Sex='M', ChestPainType='ASY', RestingBP='115', Cholesterol='303', FastingBS='0', RestingECG='Normal', MaxHR='181', ExerciseAngina='N', Oldpeak='1.2', ST_Slope='Flat', HeartDisease='0'),\n",
       " Row(Age='47', Sex='M', ChestPainType='ASY', RestingBP='112', Cholesterol='204', FastingBS='0', RestingECG='Normal', MaxHR='143', ExerciseAngina='N', Oldpeak='0.1', ST_Slope='Up', HeartDisease='0'),\n",
       " Row(Age='54', Sex='F', ChestPainType='ATA', RestingBP='132', Cholesterol='288', FastingBS='1', RestingECG='LVH', MaxHR='159', ExerciseAngina='Y', Oldpeak='0', ST_Slope='Up', HeartDisease='0'),\n",
       " Row(Age='48', Sex='F', ChestPainType='NAP', RestingBP='130', Cholesterol='275', FastingBS='0', RestingECG='Normal', MaxHR='139', ExerciseAngina='N', Oldpeak='0.2', ST_Slope='Up', HeartDisease='0'),\n",
       " Row(Age='46', Sex='F', ChestPainType='ASY', RestingBP='138', Cholesterol='243', FastingBS='0', RestingECG='LVH', MaxHR='152', ExerciseAngina='Y', Oldpeak='0', ST_Slope='Flat', HeartDisease='0'),\n",
       " Row(Age='51', Sex='F', ChestPainType='NAP', RestingBP='120', Cholesterol='295', FastingBS='0', RestingECG='LVH', MaxHR='157', ExerciseAngina='N', Oldpeak='0.6', ST_Slope='Up', HeartDisease='0'),\n",
       " Row(Age='58', Sex='M', ChestPainType='NAP', RestingBP='112', Cholesterol='230', FastingBS='0', RestingECG='LVH', MaxHR='165', ExerciseAngina='N', Oldpeak='2.5', ST_Slope='Flat', HeartDisease='1'),\n",
       " Row(Age='71', Sex='F', ChestPainType='NAP', RestingBP='110', Cholesterol='265', FastingBS='1', RestingECG='LVH', MaxHR='130', ExerciseAngina='N', Oldpeak='0', ST_Slope='Up', HeartDisease='0'),\n",
       " Row(Age='57', Sex='M', ChestPainType='NAP', RestingBP='128', Cholesterol='229', FastingBS='0', RestingECG='LVH', MaxHR='150', ExerciseAngina='N', Oldpeak='0.4', ST_Slope='Flat', HeartDisease='1'),\n",
       " Row(Age='66', Sex='M', ChestPainType='ASY', RestingBP='160', Cholesterol='228', FastingBS='0', RestingECG='LVH', MaxHR='138', ExerciseAngina='N', Oldpeak='2.3', ST_Slope='Up', HeartDisease='0'),\n",
       " Row(Age='37', Sex='F', ChestPainType='NAP', RestingBP='120', Cholesterol='215', FastingBS='0', RestingECG='Normal', MaxHR='170', ExerciseAngina='N', Oldpeak='0', ST_Slope='Up', HeartDisease='0'),\n",
       " Row(Age='59', Sex='M', ChestPainType='ASY', RestingBP='170', Cholesterol='326', FastingBS='0', RestingECG='LVH', MaxHR='140', ExerciseAngina='Y', Oldpeak='3.4', ST_Slope='Down', HeartDisease='1'),\n",
       " Row(Age='50', Sex='M', ChestPainType='ASY', RestingBP='144', Cholesterol='200', FastingBS='0', RestingECG='LVH', MaxHR='126', ExerciseAngina='Y', Oldpeak='0.9', ST_Slope='Flat', HeartDisease='1'),\n",
       " Row(Age='48', Sex='M', ChestPainType='ASY', RestingBP='130', Cholesterol='256', FastingBS='1', RestingECG='LVH', MaxHR='150', ExerciseAngina='Y', Oldpeak='0', ST_Slope='Up', HeartDisease='1'),\n",
       " Row(Age='61', Sex='M', ChestPainType='ASY', RestingBP='140', Cholesterol='207', FastingBS='0', RestingECG='LVH', MaxHR='138', ExerciseAngina='Y', Oldpeak='1.9', ST_Slope='Up', HeartDisease='1'),\n",
       " Row(Age='59', Sex='M', ChestPainType='TA', RestingBP='160', Cholesterol='273', FastingBS='0', RestingECG='LVH', MaxHR='125', ExerciseAngina='N', Oldpeak='0', ST_Slope='Up', HeartDisease='1'),\n",
       " Row(Age='42', Sex='M', ChestPainType='NAP', RestingBP='130', Cholesterol='180', FastingBS='0', RestingECG='Normal', MaxHR='150', ExerciseAngina='N', Oldpeak='0', ST_Slope='Up', HeartDisease='0'),\n",
       " Row(Age='48', Sex='M', ChestPainType='ASY', RestingBP='122', Cholesterol='222', FastingBS='0', RestingECG='LVH', MaxHR='186', ExerciseAngina='N', Oldpeak='0', ST_Slope='Up', HeartDisease='0'),\n",
       " Row(Age='40', Sex='M', ChestPainType='ASY', RestingBP='152', Cholesterol='223', FastingBS='0', RestingECG='Normal', MaxHR='181', ExerciseAngina='N', Oldpeak='0', ST_Slope='Up', HeartDisease='1'),\n",
       " Row(Age='62', Sex='F', ChestPainType='ASY', RestingBP='124', Cholesterol='209', FastingBS='0', RestingECG='Normal', MaxHR='163', ExerciseAngina='N', Oldpeak='0', ST_Slope='Up', HeartDisease='0'),\n",
       " Row(Age='44', Sex='M', ChestPainType='NAP', RestingBP='130', Cholesterol='233', FastingBS='0', RestingECG='Normal', MaxHR='179', ExerciseAngina='Y', Oldpeak='0.4', ST_Slope='Up', HeartDisease='0'),\n",
       " Row(Age='46', Sex='M', ChestPainType='ATA', RestingBP='101', Cholesterol='197', FastingBS='1', RestingECG='Normal', MaxHR='156', ExerciseAngina='N', Oldpeak='0', ST_Slope='Up', HeartDisease='0'),\n",
       " Row(Age='59', Sex='M', ChestPainType='NAP', RestingBP='126', Cholesterol='218', FastingBS='1', RestingECG='Normal', MaxHR='134', ExerciseAngina='N', Oldpeak='2.2', ST_Slope='Flat', HeartDisease='1'),\n",
       " Row(Age='58', Sex='M', ChestPainType='NAP', RestingBP='140', Cholesterol='211', FastingBS='1', RestingECG='LVH', MaxHR='165', ExerciseAngina='N', Oldpeak='0', ST_Slope='Up', HeartDisease='0'),\n",
       " Row(Age='49', Sex='M', ChestPainType='NAP', RestingBP='118', Cholesterol='149', FastingBS='0', RestingECG='LVH', MaxHR='126', ExerciseAngina='N', Oldpeak='0.8', ST_Slope='Up', HeartDisease='1'),\n",
       " Row(Age='44', Sex='M', ChestPainType='ASY', RestingBP='110', Cholesterol='197', FastingBS='0', RestingECG='LVH', MaxHR='177', ExerciseAngina='N', Oldpeak='0', ST_Slope='Up', HeartDisease='1'),\n",
       " Row(Age='66', Sex='M', ChestPainType='ATA', RestingBP='160', Cholesterol='246', FastingBS='0', RestingECG='Normal', MaxHR='120', ExerciseAngina='Y', Oldpeak='0', ST_Slope='Flat', HeartDisease='1'),\n",
       " Row(Age='65', Sex='F', ChestPainType='ASY', RestingBP='150', Cholesterol='225', FastingBS='0', RestingECG='LVH', MaxHR='114', ExerciseAngina='N', Oldpeak='1', ST_Slope='Flat', HeartDisease='1'),\n",
       " Row(Age='42', Sex='M', ChestPainType='ASY', RestingBP='136', Cholesterol='315', FastingBS='0', RestingECG='Normal', MaxHR='125', ExerciseAngina='Y', Oldpeak='1.8', ST_Slope='Flat', HeartDisease='1'),\n",
       " Row(Age='52', Sex='M', ChestPainType='ATA', RestingBP='128', Cholesterol='205', FastingBS='1', RestingECG='Normal', MaxHR='184', ExerciseAngina='N', Oldpeak='0', ST_Slope='Up', HeartDisease='0'),\n",
       " Row(Age='65', Sex='F', ChestPainType='NAP', RestingBP='140', Cholesterol='417', FastingBS='1', RestingECG='LVH', MaxHR='157', ExerciseAngina='N', Oldpeak='0.8', ST_Slope='Up', HeartDisease='0'),\n",
       " Row(Age='63', Sex='F', ChestPainType='ATA', RestingBP='140', Cholesterol='195', FastingBS='0', RestingECG='Normal', MaxHR='179', ExerciseAngina='N', Oldpeak='0', ST_Slope='Up', HeartDisease='0'),\n",
       " Row(Age='45', Sex='F', ChestPainType='ATA', RestingBP='130', Cholesterol='234', FastingBS='0', RestingECG='LVH', MaxHR='175', ExerciseAngina='N', Oldpeak='0.6', ST_Slope='Flat', HeartDisease='0'),\n",
       " Row(Age='41', Sex='F', ChestPainType='ATA', RestingBP='105', Cholesterol='198', FastingBS='0', RestingECG='Normal', MaxHR='168', ExerciseAngina='N', Oldpeak='0', ST_Slope='Up', HeartDisease='0'),\n",
       " Row(Age='61', Sex='M', ChestPainType='ASY', RestingBP='138', Cholesterol='166', FastingBS='0', RestingECG='LVH', MaxHR='125', ExerciseAngina='Y', Oldpeak='3.6', ST_Slope='Flat', HeartDisease='1'),\n",
       " Row(Age='60', Sex='F', ChestPainType='NAP', RestingBP='120', Cholesterol='178', FastingBS='1', RestingECG='Normal', MaxHR='96', ExerciseAngina='N', Oldpeak='0', ST_Slope='Up', HeartDisease='0'),\n",
       " Row(Age='59', Sex='F', ChestPainType='ASY', RestingBP='174', Cholesterol='249', FastingBS='0', RestingECG='Normal', MaxHR='143', ExerciseAngina='Y', Oldpeak='0', ST_Slope='Flat', HeartDisease='1'),\n",
       " Row(Age='62', Sex='M', ChestPainType='ATA', RestingBP='120', Cholesterol='281', FastingBS='0', RestingECG='LVH', MaxHR='103', ExerciseAngina='N', Oldpeak='1.4', ST_Slope='Flat', HeartDisease='1'),\n",
       " Row(Age='57', Sex='M', ChestPainType='NAP', RestingBP='150', Cholesterol='126', FastingBS='1', RestingECG='Normal', MaxHR='173', ExerciseAngina='N', Oldpeak='0.2', ST_Slope='Up', HeartDisease='0'),\n",
       " Row(Age='51', Sex='F', ChestPainType='ASY', RestingBP='130', Cholesterol='305', FastingBS='0', RestingECG='Normal', MaxHR='142', ExerciseAngina='Y', Oldpeak='1.2', ST_Slope='Flat', HeartDisease='1'),\n",
       " Row(Age='44', Sex='M', ChestPainType='NAP', RestingBP='120', Cholesterol='226', FastingBS='0', RestingECG='Normal', MaxHR='169', ExerciseAngina='N', Oldpeak='0', ST_Slope='Up', HeartDisease='0'),\n",
       " Row(Age='60', Sex='F', ChestPainType='TA', RestingBP='150', Cholesterol='240', FastingBS='0', RestingECG='Normal', MaxHR='171', ExerciseAngina='N', Oldpeak='0.9', ST_Slope='Up', HeartDisease='0'),\n",
       " Row(Age='63', Sex='M', ChestPainType='TA', RestingBP='145', Cholesterol='233', FastingBS='1', RestingECG='LVH', MaxHR='150', ExerciseAngina='N', Oldpeak='2.3', ST_Slope='Down', HeartDisease='0'),\n",
       " Row(Age='57', Sex='M', ChestPainType='ASY', RestingBP='150', Cholesterol='276', FastingBS='0', RestingECG='LVH', MaxHR='112', ExerciseAngina='Y', Oldpeak='0.6', ST_Slope='Flat', HeartDisease='1'),\n",
       " Row(Age='51', Sex='M', ChestPainType='ASY', RestingBP='140', Cholesterol='261', FastingBS='0', RestingECG='LVH', MaxHR='186', ExerciseAngina='Y', Oldpeak='0', ST_Slope='Up', HeartDisease='0'),\n",
       " Row(Age='58', Sex='F', ChestPainType='ATA', RestingBP='136', Cholesterol='319', FastingBS='1', RestingECG='LVH', MaxHR='152', ExerciseAngina='N', Oldpeak='0', ST_Slope='Up', HeartDisease='1'),\n",
       " Row(Age='44', Sex='F', ChestPainType='NAP', RestingBP='118', Cholesterol='242', FastingBS='0', RestingECG='Normal', MaxHR='149', ExerciseAngina='N', Oldpeak='0.3', ST_Slope='Flat', HeartDisease='0'),\n",
       " Row(Age='47', Sex='M', ChestPainType='NAP', RestingBP='108', Cholesterol='243', FastingBS='0', RestingECG='Normal', MaxHR='152', ExerciseAngina='N', Oldpeak='0', ST_Slope='Up', HeartDisease='1'),\n",
       " Row(Age='61', Sex='M', ChestPainType='ASY', RestingBP='120', Cholesterol='260', FastingBS='0', RestingECG='Normal', MaxHR='140', ExerciseAngina='Y', Oldpeak='3.6', ST_Slope='Flat', HeartDisease='1'),\n",
       " Row(Age='57', Sex='F', ChestPainType='ASY', RestingBP='120', Cholesterol='354', FastingBS='0', RestingECG='Normal', MaxHR='163', ExerciseAngina='Y', Oldpeak='0.6', ST_Slope='Up', HeartDisease='0'),\n",
       " Row(Age='70', Sex='M', ChestPainType='ATA', RestingBP='156', Cholesterol='245', FastingBS='0', RestingECG='LVH', MaxHR='143', ExerciseAngina='N', Oldpeak='0', ST_Slope='Up', HeartDisease='0'),\n",
       " Row(Age='76', Sex='F', ChestPainType='NAP', RestingBP='140', Cholesterol='197', FastingBS='0', RestingECG='ST', MaxHR='116', ExerciseAngina='N', Oldpeak='1.1', ST_Slope='Flat', HeartDisease='0'),\n",
       " Row(Age='67', Sex='F', ChestPainType='ASY', RestingBP='106', Cholesterol='223', FastingBS='0', RestingECG='Normal', MaxHR='142', ExerciseAngina='N', Oldpeak='0.3', ST_Slope='Up', HeartDisease='0'),\n",
       " Row(Age='45', Sex='M', ChestPainType='ASY', RestingBP='142', Cholesterol='309', FastingBS='0', RestingECG='LVH', MaxHR='147', ExerciseAngina='Y', Oldpeak='0', ST_Slope='Flat', HeartDisease='1'),\n",
       " Row(Age='45', Sex='M', ChestPainType='ASY', RestingBP='104', Cholesterol='208', FastingBS='0', RestingECG='LVH', MaxHR='148', ExerciseAngina='Y', Oldpeak='3', ST_Slope='Flat', HeartDisease='0'),\n",
       " Row(Age='39', Sex='F', ChestPainType='NAP', RestingBP='94', Cholesterol='199', FastingBS='0', RestingECG='Normal', MaxHR='179', ExerciseAngina='N', Oldpeak='0', ST_Slope='Up', HeartDisease='0'),\n",
       " Row(Age='42', Sex='F', ChestPainType='NAP', RestingBP='120', Cholesterol='209', FastingBS='0', RestingECG='Normal', MaxHR='173', ExerciseAngina='N', Oldpeak='0', ST_Slope='Flat', HeartDisease='0'),\n",
       " Row(Age='56', Sex='M', ChestPainType='ATA', RestingBP='120', Cholesterol='236', FastingBS='0', RestingECG='Normal', MaxHR='178', ExerciseAngina='N', Oldpeak='0.8', ST_Slope='Up', HeartDisease='0'),\n",
       " Row(Age='58', Sex='M', ChestPainType='ASY', RestingBP='146', Cholesterol='218', FastingBS='0', RestingECG='Normal', MaxHR='105', ExerciseAngina='N', Oldpeak='2', ST_Slope='Flat', HeartDisease='1'),\n",
       " Row(Age='35', Sex='M', ChestPainType='ASY', RestingBP='120', Cholesterol='198', FastingBS='0', RestingECG='Normal', MaxHR='130', ExerciseAngina='Y', Oldpeak='1.6', ST_Slope='Flat', HeartDisease='1'),\n",
       " Row(Age='58', Sex='M', ChestPainType='ASY', RestingBP='150', Cholesterol='270', FastingBS='0', RestingECG='LVH', MaxHR='111', ExerciseAngina='Y', Oldpeak='0.8', ST_Slope='Up', HeartDisease='1'),\n",
       " Row(Age='41', Sex='M', ChestPainType='NAP', RestingBP='130', Cholesterol='214', FastingBS='0', RestingECG='LVH', MaxHR='168', ExerciseAngina='N', Oldpeak='2', ST_Slope='Flat', HeartDisease='0'),\n",
       " Row(Age='57', Sex='M', ChestPainType='ASY', RestingBP='110', Cholesterol='201', FastingBS='0', RestingECG='Normal', MaxHR='126', ExerciseAngina='Y', Oldpeak='1.5', ST_Slope='Flat', HeartDisease='0'),\n",
       " Row(Age='42', Sex='M', ChestPainType='TA', RestingBP='148', Cholesterol='244', FastingBS='0', RestingECG='LVH', MaxHR='178', ExerciseAngina='N', Oldpeak='0.8', ST_Slope='Up', HeartDisease='0'),\n",
       " Row(Age='62', Sex='M', ChestPainType='ATA', RestingBP='128', Cholesterol='208', FastingBS='1', RestingECG='LVH', MaxHR='140', ExerciseAngina='N', Oldpeak='0', ST_Slope='Up', HeartDisease='0'),\n",
       " Row(Age='59', Sex='M', ChestPainType='TA', RestingBP='178', Cholesterol='270', FastingBS='0', RestingECG='LVH', MaxHR='145', ExerciseAngina='N', Oldpeak='4.2', ST_Slope='Down', HeartDisease='0'),\n",
       " Row(Age='41', Sex='F', ChestPainType='ATA', RestingBP='126', Cholesterol='306', FastingBS='0', RestingECG='Normal', MaxHR='163', ExerciseAngina='N', Oldpeak='0', ST_Slope='Up', HeartDisease='0'),\n",
       " Row(Age='50', Sex='M', ChestPainType='ASY', RestingBP='150', Cholesterol='243', FastingBS='0', RestingECG='LVH', MaxHR='128', ExerciseAngina='N', Oldpeak='2.6', ST_Slope='Flat', HeartDisease='1'),\n",
       " Row(Age='59', Sex='M', ChestPainType='ATA', RestingBP='140', Cholesterol='221', FastingBS='0', RestingECG='Normal', MaxHR='164', ExerciseAngina='Y', Oldpeak='0', ST_Slope='Up', HeartDisease='0'),\n",
       " Row(Age='61', Sex='F', ChestPainType='ASY', RestingBP='130', Cholesterol='330', FastingBS='0', RestingECG='LVH', MaxHR='169', ExerciseAngina='N', Oldpeak='0', ST_Slope='Up', HeartDisease='1'),\n",
       " Row(Age='54', Sex='M', ChestPainType='ASY', RestingBP='124', Cholesterol='266', FastingBS='0', RestingECG='LVH', MaxHR='109', ExerciseAngina='Y', Oldpeak='2.2', ST_Slope='Flat', HeartDisease='1'),\n",
       " Row(Age='54', Sex='M', ChestPainType='ASY', RestingBP='110', Cholesterol='206', FastingBS='0', RestingECG='LVH', MaxHR='108', ExerciseAngina='Y', Oldpeak='0', ST_Slope='Flat', HeartDisease='1'),\n",
       " Row(Age='52', Sex='M', ChestPainType='ASY', RestingBP='125', Cholesterol='212', FastingBS='0', RestingECG='Normal', MaxHR='168', ExerciseAngina='N', Oldpeak='1', ST_Slope='Up', HeartDisease='1'),\n",
       " Row(Age='47', Sex='M', ChestPainType='ASY', RestingBP='110', Cholesterol='275', FastingBS='0', RestingECG='LVH', MaxHR='118', ExerciseAngina='Y', Oldpeak='1', ST_Slope='Flat', HeartDisease='1'),\n",
       " Row(Age='66', Sex='M', ChestPainType='ASY', RestingBP='120', Cholesterol='302', FastingBS='0', RestingECG='LVH', MaxHR='151', ExerciseAngina='N', Oldpeak='0.4', ST_Slope='Flat', HeartDisease='0'),\n",
       " Row(Age='58', Sex='M', ChestPainType='ASY', RestingBP='100', Cholesterol='234', FastingBS='0', RestingECG='Normal', MaxHR='156', ExerciseAngina='N', Oldpeak='0.1', ST_Slope='Up', HeartDisease='1'),\n",
       " Row(Age='64', Sex='F', ChestPainType='NAP', RestingBP='140', Cholesterol='313', FastingBS='0', RestingECG='Normal', MaxHR='133', ExerciseAngina='N', Oldpeak='0.2', ST_Slope='Up', HeartDisease='0'),\n",
       " Row(Age='50', Sex='F', ChestPainType='ATA', RestingBP='120', Cholesterol='244', FastingBS='0', RestingECG='Normal', MaxHR='162', ExerciseAngina='N', Oldpeak='1.1', ST_Slope='Up', HeartDisease='0'),\n",
       " Row(Age='44', Sex='F', ChestPainType='NAP', RestingBP='108', Cholesterol='141', FastingBS='0', RestingECG='Normal', MaxHR='175', ExerciseAngina='N', Oldpeak='0.6', ST_Slope='Flat', HeartDisease='0'),\n",
       " Row(Age='67', Sex='M', ChestPainType='ASY', RestingBP='120', Cholesterol='237', FastingBS='0', RestingECG='Normal', MaxHR='71', ExerciseAngina='N', Oldpeak='1', ST_Slope='Flat', HeartDisease='1'),\n",
       " Row(Age='49', Sex='F', ChestPainType='ASY', RestingBP='130', Cholesterol='269', FastingBS='0', RestingECG='Normal', MaxHR='163', ExerciseAngina='N', Oldpeak='0', ST_Slope='Up', HeartDisease='0'),\n",
       " Row(Age='57', Sex='M', ChestPainType='ASY', RestingBP='165', Cholesterol='289', FastingBS='1', RestingECG='LVH', MaxHR='124', ExerciseAngina='N', Oldpeak='1', ST_Slope='Flat', HeartDisease='1'),\n",
       " Row(Age='63', Sex='M', ChestPainType='ASY', RestingBP='130', Cholesterol='254', FastingBS='0', RestingECG='LVH', MaxHR='147', ExerciseAngina='N', Oldpeak='1.4', ST_Slope='Flat', HeartDisease='1'),\n",
       " Row(Age='48', Sex='M', ChestPainType='ASY', RestingBP='124', Cholesterol='274', FastingBS='0', RestingECG='LVH', MaxHR='166', ExerciseAngina='N', Oldpeak='0.5', ST_Slope='Flat', HeartDisease='1'),\n",
       " Row(Age='51', Sex='M', ChestPainType='NAP', RestingBP='100', Cholesterol='222', FastingBS='0', RestingECG='Normal', MaxHR='143', ExerciseAngina='Y', Oldpeak='1.2', ST_Slope='Flat', HeartDisease='0'),\n",
       " Row(Age='60', Sex='F', ChestPainType='ASY', RestingBP='150', Cholesterol='258', FastingBS='0', RestingECG='LVH', MaxHR='157', ExerciseAngina='N', Oldpeak='2.6', ST_Slope='Flat', HeartDisease='1'),\n",
       " Row(Age='59', Sex='M', ChestPainType='ASY', RestingBP='140', Cholesterol='177', FastingBS='0', RestingECG='Normal', MaxHR='162', ExerciseAngina='Y', Oldpeak='0', ST_Slope='Up', HeartDisease='1'),\n",
       " Row(Age='45', Sex='F', ChestPainType='ATA', RestingBP='112', Cholesterol='160', FastingBS='0', RestingECG='Normal', MaxHR='138', ExerciseAngina='N', Oldpeak='0', ST_Slope='Flat', HeartDisease='0'),\n",
       " Row(Age='55', Sex='F', ChestPainType='ASY', RestingBP='180', Cholesterol='327', FastingBS='0', RestingECG='ST', MaxHR='117', ExerciseAngina='Y', Oldpeak='3.4', ST_Slope='Flat', HeartDisease='1'),\n",
       " Row(Age='41', Sex='M', ChestPainType='ATA', RestingBP='110', Cholesterol='235', FastingBS='0', RestingECG='Normal', MaxHR='153', ExerciseAngina='N', Oldpeak='0', ST_Slope='Up', HeartDisease='0'),\n",
       " Row(Age='60', Sex='F', ChestPainType='ASY', RestingBP='158', Cholesterol='305', FastingBS='0', RestingECG='LVH', MaxHR='161', ExerciseAngina='N', Oldpeak='0', ST_Slope='Up', HeartDisease='1'),\n",
       " Row(Age='54', Sex='F', ChestPainType='NAP', RestingBP='135', Cholesterol='304', FastingBS='1', RestingECG='Normal', MaxHR='170', ExerciseAngina='N', Oldpeak='0', ST_Slope='Up', HeartDisease='0'),\n",
       " Row(Age='42', Sex='M', ChestPainType='ATA', RestingBP='120', Cholesterol='295', FastingBS='0', RestingECG='Normal', MaxHR='162', ExerciseAngina='N', Oldpeak='0', ST_Slope='Up', HeartDisease='0'),\n",
       " Row(Age='49', Sex='F', ChestPainType='ATA', RestingBP='134', Cholesterol='271', FastingBS='0', RestingECG='Normal', MaxHR='162', ExerciseAngina='N', Oldpeak='0', ST_Slope='Flat', HeartDisease='0'),\n",
       " Row(Age='46', Sex='M', ChestPainType='ASY', RestingBP='120', Cholesterol='249', FastingBS='0', RestingECG='LVH', MaxHR='144', ExerciseAngina='N', Oldpeak='0.8', ST_Slope='Up', HeartDisease='1'),\n",
       " Row(Age='56', Sex='F', ChestPainType='ASY', RestingBP='200', Cholesterol='288', FastingBS='1', RestingECG='LVH', MaxHR='133', ExerciseAngina='Y', Oldpeak='4', ST_Slope='Down', HeartDisease='1'),\n",
       " Row(Age='66', Sex='F', ChestPainType='TA', RestingBP='150', Cholesterol='226', FastingBS='0', RestingECG='Normal', MaxHR='114', ExerciseAngina='N', Oldpeak='2.6', ST_Slope='Down', HeartDisease='0'),\n",
       " Row(Age='56', Sex='M', ChestPainType='ASY', RestingBP='130', Cholesterol='283', FastingBS='1', RestingECG='LVH', MaxHR='103', ExerciseAngina='Y', Oldpeak='1.6', ST_Slope='Down', HeartDisease='1'),\n",
       " Row(Age='49', Sex='M', ChestPainType='NAP', RestingBP='120', Cholesterol='188', FastingBS='0', RestingECG='Normal', MaxHR='139', ExerciseAngina='N', Oldpeak='2', ST_Slope='Flat', HeartDisease='1'),\n",
       " Row(Age='54', Sex='M', ChestPainType='ASY', RestingBP='122', Cholesterol='286', FastingBS='0', RestingECG='LVH', MaxHR='116', ExerciseAngina='Y', Oldpeak='3.2', ST_Slope='Flat', HeartDisease='1'),\n",
       " Row(Age='57', Sex='M', ChestPainType='ASY', RestingBP='152', Cholesterol='274', FastingBS='0', RestingECG='Normal', MaxHR='88', ExerciseAngina='Y', Oldpeak='1.2', ST_Slope='Flat', HeartDisease='1'),\n",
       " Row(Age='65', Sex='F', ChestPainType='NAP', RestingBP='160', Cholesterol='360', FastingBS='0', RestingECG='LVH', MaxHR='151', ExerciseAngina='N', Oldpeak='0.8', ST_Slope='Up', HeartDisease='0'),\n",
       " Row(Age='54', Sex='M', ChestPainType='NAP', RestingBP='125', Cholesterol='273', FastingBS='0', RestingECG='LVH', MaxHR='152', ExerciseAngina='N', Oldpeak='0.5', ST_Slope='Down', HeartDisease='0'),\n",
       " Row(Age='54', Sex='F', ChestPainType='NAP', RestingBP='160', Cholesterol='201', FastingBS='0', RestingECG='Normal', MaxHR='163', ExerciseAngina='N', Oldpeak='0', ST_Slope='Up', HeartDisease='0'),\n",
       " Row(Age='62', Sex='M', ChestPainType='ASY', RestingBP='120', Cholesterol='267', FastingBS='0', RestingECG='Normal', MaxHR='99', ExerciseAngina='Y', Oldpeak='1.8', ST_Slope='Flat', HeartDisease='1'),\n",
       " Row(Age='52', Sex='F', ChestPainType='NAP', RestingBP='136', Cholesterol='196', FastingBS='0', RestingECG='LVH', MaxHR='169', ExerciseAngina='N', Oldpeak='0.1', ST_Slope='Flat', HeartDisease='0'),\n",
       " Row(Age='52', Sex='M', ChestPainType='ATA', RestingBP='134', Cholesterol='201', FastingBS='0', RestingECG='Normal', MaxHR='158', ExerciseAngina='N', Oldpeak='0.8', ST_Slope='Up', HeartDisease='0'),\n",
       " Row(Age='60', Sex='M', ChestPainType='ASY', RestingBP='117', Cholesterol='230', FastingBS='1', RestingECG='Normal', MaxHR='160', ExerciseAngina='Y', Oldpeak='1.4', ST_Slope='Up', HeartDisease='1'),\n",
       " Row(Age='63', Sex='F', ChestPainType='ASY', RestingBP='108', Cholesterol='269', FastingBS='0', RestingECG='Normal', MaxHR='169', ExerciseAngina='Y', Oldpeak='1.8', ST_Slope='Flat', HeartDisease='1'),\n",
       " Row(Age='66', Sex='M', ChestPainType='ASY', RestingBP='112', Cholesterol='212', FastingBS='0', RestingECG='LVH', MaxHR='132', ExerciseAngina='Y', Oldpeak='0.1', ST_Slope='Up', HeartDisease='1'),\n",
       " Row(Age='42', Sex='M', ChestPainType='ASY', RestingBP='140', Cholesterol='226', FastingBS='0', RestingECG='Normal', MaxHR='178', ExerciseAngina='N', Oldpeak='0', ST_Slope='Up', HeartDisease='0'),\n",
       " Row(Age='64', Sex='M', ChestPainType='ASY', RestingBP='120', Cholesterol='246', FastingBS='0', RestingECG='LVH', MaxHR='96', ExerciseAngina='Y', Oldpeak='2.2', ST_Slope='Down', HeartDisease='1'),\n",
       " Row(Age='54', Sex='M', ChestPainType='NAP', RestingBP='150', Cholesterol='232', FastingBS='0', RestingECG='LVH', MaxHR='165', ExerciseAngina='N', Oldpeak='1.6', ST_Slope='Up', HeartDisease='0'),\n",
       " Row(Age='46', Sex='F', ChestPainType='NAP', RestingBP='142', Cholesterol='177', FastingBS='0', RestingECG='LVH', MaxHR='160', ExerciseAngina='Y', Oldpeak='1.4', ST_Slope='Down', HeartDisease='0'),\n",
       " Row(Age='67', Sex='F', ChestPainType='NAP', RestingBP='152', Cholesterol='277', FastingBS='0', RestingECG='Normal', MaxHR='172', ExerciseAngina='N', Oldpeak='0', ST_Slope='Up', HeartDisease='0'),\n",
       " Row(Age='56', Sex='M', ChestPainType='ASY', RestingBP='125', Cholesterol='249', FastingBS='1', RestingECG='LVH', MaxHR='144', ExerciseAngina='Y', Oldpeak='1.2', ST_Slope='Flat', HeartDisease='1'),\n",
       " Row(Age='34', Sex='F', ChestPainType='ATA', RestingBP='118', Cholesterol='210', FastingBS='0', RestingECG='Normal', MaxHR='192', ExerciseAngina='N', Oldpeak='0.7', ST_Slope='Up', HeartDisease='0'),\n",
       " Row(Age='57', Sex='M', ChestPainType='ASY', RestingBP='132', Cholesterol='207', FastingBS='0', RestingECG='Normal', MaxHR='168', ExerciseAngina='Y', Oldpeak='0', ST_Slope='Up', HeartDisease='0'),\n",
       " Row(Age='64', Sex='M', ChestPainType='ASY', RestingBP='145', Cholesterol='212', FastingBS='0', RestingECG='LVH', MaxHR='132', ExerciseAngina='N', Oldpeak='2', ST_Slope='Flat', HeartDisease='1'),\n",
       " Row(Age='59', Sex='M', ChestPainType='ASY', RestingBP='138', Cholesterol='271', FastingBS='0', RestingECG='LVH', MaxHR='182', ExerciseAngina='N', Oldpeak='0', ST_Slope='Up', HeartDisease='0'),\n",
       " Row(Age='50', Sex='M', ChestPainType='NAP', RestingBP='140', Cholesterol='233', FastingBS='0', RestingECG='Normal', MaxHR='163', ExerciseAngina='N', Oldpeak='0.6', ST_Slope='Flat', HeartDisease='1'),\n",
       " Row(Age='51', Sex='M', ChestPainType='TA', RestingBP='125', Cholesterol='213', FastingBS='0', RestingECG='LVH', MaxHR='125', ExerciseAngina='Y', Oldpeak='1.4', ST_Slope='Up', HeartDisease='0'),\n",
       " Row(Age='54', Sex='M', ChestPainType='ATA', RestingBP='192', Cholesterol='283', FastingBS='0', RestingECG='LVH', MaxHR='195', ExerciseAngina='N', Oldpeak='0', ST_Slope='Up', HeartDisease='1'),\n",
       " Row(Age='53', Sex='M', ChestPainType='ASY', RestingBP='123', Cholesterol='282', FastingBS='0', RestingECG='Normal', MaxHR='95', ExerciseAngina='Y', Oldpeak='2', ST_Slope='Flat', HeartDisease='1'),\n",
       " Row(Age='52', Sex='M', ChestPainType='ASY', RestingBP='112', Cholesterol='230', FastingBS='0', RestingECG='Normal', MaxHR='160', ExerciseAngina='N', Oldpeak='0', ST_Slope='Up', HeartDisease='1'),\n",
       " Row(Age='40', Sex='M', ChestPainType='ASY', RestingBP='110', Cholesterol='167', FastingBS='0', RestingECG='LVH', MaxHR='114', ExerciseAngina='Y', Oldpeak='2', ST_Slope='Flat', HeartDisease='1'),\n",
       " Row(Age='58', Sex='M', ChestPainType='NAP', RestingBP='132', Cholesterol='224', FastingBS='0', RestingECG='LVH', MaxHR='173', ExerciseAngina='N', Oldpeak='3.2', ST_Slope='Up', HeartDisease='1'),\n",
       " Row(Age='41', Sex='F', ChestPainType='NAP', RestingBP='112', Cholesterol='268', FastingBS='0', RestingECG='LVH', MaxHR='172', ExerciseAngina='Y', Oldpeak='0', ST_Slope='Up', HeartDisease='0'),\n",
       " Row(Age='41', Sex='M', ChestPainType='NAP', RestingBP='112', Cholesterol='250', FastingBS='0', RestingECG='Normal', MaxHR='179', ExerciseAngina='N', Oldpeak='0', ST_Slope='Up', HeartDisease='0'),\n",
       " Row(Age='50', Sex='F', ChestPainType='NAP', RestingBP='120', Cholesterol='219', FastingBS='0', RestingECG='Normal', MaxHR='158', ExerciseAngina='N', Oldpeak='1.6', ST_Slope='Flat', HeartDisease='0'),\n",
       " Row(Age='54', Sex='F', ChestPainType='NAP', RestingBP='108', Cholesterol='267', FastingBS='0', RestingECG='LVH', MaxHR='167', ExerciseAngina='N', Oldpeak='0', ST_Slope='Up', HeartDisease='0'),\n",
       " Row(Age='64', Sex='F', ChestPainType='ASY', RestingBP='130', Cholesterol='303', FastingBS='0', RestingECG='Normal', MaxHR='122', ExerciseAngina='N', Oldpeak='2', ST_Slope='Flat', HeartDisease='0'),\n",
       " Row(Age='51', Sex='F', ChestPainType='NAP', RestingBP='130', Cholesterol='256', FastingBS='0', RestingECG='LVH', MaxHR='149', ExerciseAngina='N', Oldpeak='0.5', ST_Slope='Up', HeartDisease='0'),\n",
       " Row(Age='46', Sex='F', ChestPainType='ATA', RestingBP='105', Cholesterol='204', FastingBS='0', RestingECG='Normal', MaxHR='172', ExerciseAngina='N', Oldpeak='0', ST_Slope='Up', HeartDisease='0'),\n",
       " Row(Age='55', Sex='M', ChestPainType='ASY', RestingBP='140', Cholesterol='217', FastingBS='0', RestingECG='Normal', MaxHR='111', ExerciseAngina='Y', Oldpeak='5.6', ST_Slope='Down', HeartDisease='1'),\n",
       " Row(Age='45', Sex='M', ChestPainType='ATA', RestingBP='128', Cholesterol='308', FastingBS='0', RestingECG='LVH', MaxHR='170', ExerciseAngina='N', Oldpeak='0', ST_Slope='Up', HeartDisease='0'),\n",
       " Row(Age='56', Sex='M', ChestPainType='TA', RestingBP='120', Cholesterol='193', FastingBS='0', RestingECG='LVH', MaxHR='162', ExerciseAngina='N', Oldpeak='1.9', ST_Slope='Flat', HeartDisease='0'),\n",
       " Row(Age='66', Sex='F', ChestPainType='ASY', RestingBP='178', Cholesterol='228', FastingBS='1', RestingECG='Normal', MaxHR='165', ExerciseAngina='Y', Oldpeak='1', ST_Slope='Flat', HeartDisease='1'),\n",
       " Row(Age='38', Sex='M', ChestPainType='TA', RestingBP='120', Cholesterol='231', FastingBS='0', RestingECG='Normal', MaxHR='182', ExerciseAngina='Y', Oldpeak='3.8', ST_Slope='Flat', HeartDisease='1'),\n",
       " Row(Age='62', Sex='F', ChestPainType='ASY', RestingBP='150', Cholesterol='244', FastingBS='0', RestingECG='Normal', MaxHR='154', ExerciseAngina='Y', Oldpeak='1.4', ST_Slope='Flat', HeartDisease='1'),\n",
       " Row(Age='55', Sex='M', ChestPainType='ATA', RestingBP='130', Cholesterol='262', FastingBS='0', RestingECG='Normal', MaxHR='155', ExerciseAngina='N', Oldpeak='0', ST_Slope='Up', HeartDisease='0'),\n",
       " Row(Age='58', Sex='M', ChestPainType='ASY', RestingBP='128', Cholesterol='259', FastingBS='0', RestingECG='LVH', MaxHR='130', ExerciseAngina='Y', Oldpeak='3', ST_Slope='Flat', HeartDisease='1'),\n",
       " Row(Age='43', Sex='M', ChestPainType='ASY', RestingBP='110', Cholesterol='211', FastingBS='0', RestingECG='Normal', MaxHR='161', ExerciseAngina='N', Oldpeak='0', ST_Slope='Up', HeartDisease='0'),\n",
       " Row(Age='64', Sex='F', ChestPainType='ASY', RestingBP='180', Cholesterol='325', FastingBS='0', RestingECG='Normal', MaxHR='154', ExerciseAngina='Y', Oldpeak='0', ST_Slope='Up', HeartDisease='0'),\n",
       " Row(Age='50', Sex='F', ChestPainType='ASY', RestingBP='110', Cholesterol='254', FastingBS='0', RestingECG='LVH', MaxHR='159', ExerciseAngina='N', Oldpeak='0', ST_Slope='Up', HeartDisease='0'),\n",
       " Row(Age='53', Sex='M', ChestPainType='NAP', RestingBP='130', Cholesterol='197', FastingBS='1', RestingECG='LVH', MaxHR='152', ExerciseAngina='N', Oldpeak='1.2', ST_Slope='Down', HeartDisease='0'),\n",
       " Row(Age='45', Sex='F', ChestPainType='ASY', RestingBP='138', Cholesterol='236', FastingBS='0', RestingECG='LVH', MaxHR='152', ExerciseAngina='Y', Oldpeak='0.2', ST_Slope='Flat', HeartDisease='0'),\n",
       " Row(Age='65', Sex='M', ChestPainType='TA', RestingBP='138', Cholesterol='282', FastingBS='1', RestingECG='LVH', MaxHR='174', ExerciseAngina='N', Oldpeak='1.4', ST_Slope='Flat', HeartDisease='1'),\n",
       " Row(Age='69', Sex='M', ChestPainType='TA', RestingBP='160', Cholesterol='234', FastingBS='1', RestingECG='LVH', MaxHR='131', ExerciseAngina='N', Oldpeak='0.1', ST_Slope='Flat', HeartDisease='0'),\n",
       " Row(Age='69', Sex='M', ChestPainType='NAP', RestingBP='140', Cholesterol='254', FastingBS='0', RestingECG='LVH', MaxHR='146', ExerciseAngina='N', Oldpeak='2', ST_Slope='Flat', HeartDisease='1'),\n",
       " Row(Age='67', Sex='M', ChestPainType='ASY', RestingBP='100', Cholesterol='299', FastingBS='0', RestingECG='LVH', MaxHR='125', ExerciseAngina='Y', Oldpeak='0.9', ST_Slope='Flat', HeartDisease='1'),\n",
       " Row(Age='68', Sex='F', ChestPainType='NAP', RestingBP='120', Cholesterol='211', FastingBS='0', RestingECG='LVH', MaxHR='115', ExerciseAngina='N', Oldpeak='1.5', ST_Slope='Flat', HeartDisease='0'),\n",
       " Row(Age='34', Sex='M', ChestPainType='TA', RestingBP='118', Cholesterol='182', FastingBS='0', RestingECG='LVH', MaxHR='174', ExerciseAngina='N', Oldpeak='0', ST_Slope='Up', HeartDisease='0'),\n",
       " Row(Age='62', Sex='F', ChestPainType='ASY', RestingBP='138', Cholesterol='294', FastingBS='1', RestingECG='Normal', MaxHR='106', ExerciseAngina='N', Oldpeak='1.9', ST_Slope='Flat', HeartDisease='1'),\n",
       " Row(Age='51', Sex='M', ChestPainType='ASY', RestingBP='140', Cholesterol='298', FastingBS='0', RestingECG='Normal', MaxHR='122', ExerciseAngina='Y', Oldpeak='4.2', ST_Slope='Flat', HeartDisease='1'),\n",
       " Row(Age='46', Sex='M', ChestPainType='NAP', RestingBP='150', Cholesterol='231', FastingBS='0', RestingECG='Normal', MaxHR='147', ExerciseAngina='N', Oldpeak='3.6', ST_Slope='Flat', HeartDisease='1'),\n",
       " Row(Age='67', Sex='M', ChestPainType='ASY', RestingBP='125', Cholesterol='254', FastingBS='1', RestingECG='Normal', MaxHR='163', ExerciseAngina='N', Oldpeak='0.2', ST_Slope='Flat', HeartDisease='1'),\n",
       " Row(Age='50', Sex='M', ChestPainType='NAP', RestingBP='129', Cholesterol='196', FastingBS='0', RestingECG='Normal', MaxHR='163', ExerciseAngina='N', Oldpeak='0', ST_Slope='Up', HeartDisease='0'),\n",
       " Row(Age='42', Sex='M', ChestPainType='NAP', RestingBP='120', Cholesterol='240', FastingBS='1', RestingECG='Normal', MaxHR='194', ExerciseAngina='N', Oldpeak='0.8', ST_Slope='Down', HeartDisease='0'),\n",
       " Row(Age='56', Sex='F', ChestPainType='ASY', RestingBP='134', Cholesterol='409', FastingBS='0', RestingECG='LVH', MaxHR='150', ExerciseAngina='Y', Oldpeak='1.9', ST_Slope='Flat', HeartDisease='1'),\n",
       " Row(Age='41', Sex='M', ChestPainType='ASY', RestingBP='110', Cholesterol='172', FastingBS='0', RestingECG='LVH', MaxHR='158', ExerciseAngina='N', Oldpeak='0', ST_Slope='Up', HeartDisease='1'),\n",
       " Row(Age='42', Sex='F', ChestPainType='ASY', RestingBP='102', Cholesterol='265', FastingBS='0', RestingECG='LVH', MaxHR='122', ExerciseAngina='N', Oldpeak='0.6', ST_Slope='Flat', HeartDisease='0'),\n",
       " Row(Age='53', Sex='M', ChestPainType='NAP', RestingBP='130', Cholesterol='246', FastingBS='1', RestingECG='LVH', MaxHR='173', ExerciseAngina='N', Oldpeak='0', ST_Slope='Up', HeartDisease='0'),\n",
       " Row(Age='43', Sex='M', ChestPainType='NAP', RestingBP='130', Cholesterol='315', FastingBS='0', RestingECG='Normal', MaxHR='162', ExerciseAngina='N', Oldpeak='1.9', ST_Slope='Up', HeartDisease='0'),\n",
       " Row(Age='56', Sex='M', ChestPainType='ASY', RestingBP='132', Cholesterol='184', FastingBS='0', RestingECG='LVH', MaxHR='105', ExerciseAngina='Y', Oldpeak='2.1', ST_Slope='Flat', HeartDisease='1'),\n",
       " Row(Age='52', Sex='M', ChestPainType='ASY', RestingBP='108', Cholesterol='233', FastingBS='1', RestingECG='Normal', MaxHR='147', ExerciseAngina='N', Oldpeak='0.1', ST_Slope='Up', HeartDisease='0'),\n",
       " Row(Age='62', Sex='F', ChestPainType='ASY', RestingBP='140', Cholesterol='394', FastingBS='0', RestingECG='LVH', MaxHR='157', ExerciseAngina='N', Oldpeak='1.2', ST_Slope='Flat', HeartDisease='0'),\n",
       " Row(Age='70', Sex='M', ChestPainType='NAP', RestingBP='160', Cholesterol='269', FastingBS='0', RestingECG='Normal', MaxHR='112', ExerciseAngina='Y', Oldpeak='2.9', ST_Slope='Flat', HeartDisease='1'),\n",
       " Row(Age='54', Sex='M', ChestPainType='ASY', RestingBP='140', Cholesterol='239', FastingBS='0', RestingECG='Normal', MaxHR='160', ExerciseAngina='N', Oldpeak='1.2', ST_Slope='Up', HeartDisease='0'),\n",
       " Row(Age='70', Sex='M', ChestPainType='ASY', RestingBP='145', Cholesterol='174', FastingBS='0', RestingECG='Normal', MaxHR='125', ExerciseAngina='Y', Oldpeak='2.6', ST_Slope='Down', HeartDisease='1'),\n",
       " Row(Age='54', Sex='M', ChestPainType='ATA', RestingBP='108', Cholesterol='309', FastingBS='0', RestingECG='Normal', MaxHR='156', ExerciseAngina='N', Oldpeak='0', ST_Slope='Up', HeartDisease='0'),\n",
       " Row(Age='35', Sex='M', ChestPainType='ASY', RestingBP='126', Cholesterol='282', FastingBS='0', RestingECG='LVH', MaxHR='156', ExerciseAngina='Y', Oldpeak='0', ST_Slope='Up', HeartDisease='1'),\n",
       " Row(Age='48', Sex='M', ChestPainType='NAP', RestingBP='124', Cholesterol='255', FastingBS='1', RestingECG='Normal', MaxHR='175', ExerciseAngina='N', Oldpeak='0', ST_Slope='Up', HeartDisease='0'),\n",
       " Row(Age='55', Sex='F', ChestPainType='ATA', RestingBP='135', Cholesterol='250', FastingBS='0', RestingECG='LVH', MaxHR='161', ExerciseAngina='N', Oldpeak='1.4', ST_Slope='Flat', HeartDisease='0'),\n",
       " Row(Age='58', Sex='F', ChestPainType='ASY', RestingBP='100', Cholesterol='248', FastingBS='0', RestingECG='LVH', MaxHR='122', ExerciseAngina='N', Oldpeak='1', ST_Slope='Flat', HeartDisease='0'),\n",
       " Row(Age='54', Sex='F', ChestPainType='NAP', RestingBP='110', Cholesterol='214', FastingBS='0', RestingECG='Normal', MaxHR='158', ExerciseAngina='N', Oldpeak='1.6', ST_Slope='Flat', HeartDisease='0'),\n",
       " Row(Age='69', Sex='F', ChestPainType='TA', RestingBP='140', Cholesterol='239', FastingBS='0', RestingECG='Normal', MaxHR='151', ExerciseAngina='N', Oldpeak='1.8', ST_Slope='Up', HeartDisease='0'),\n",
       " Row(Age='77', Sex='M', ChestPainType='ASY', RestingBP='125', Cholesterol='304', FastingBS='0', RestingECG='LVH', MaxHR='162', ExerciseAngina='Y', Oldpeak='0', ST_Slope='Up', HeartDisease='1'),\n",
       " Row(Age='68', Sex='M', ChestPainType='NAP', RestingBP='118', Cholesterol='277', FastingBS='0', RestingECG='Normal', MaxHR='151', ExerciseAngina='N', Oldpeak='1', ST_Slope='Up', HeartDisease='0'),\n",
       " Row(Age='58', Sex='M', ChestPainType='ASY', RestingBP='125', Cholesterol='300', FastingBS='0', RestingECG='LVH', MaxHR='171', ExerciseAngina='N', Oldpeak='0', ST_Slope='Up', HeartDisease='1'),\n",
       " Row(Age='60', Sex='M', ChestPainType='ASY', RestingBP='125', Cholesterol='258', FastingBS='0', RestingECG='LVH', MaxHR='141', ExerciseAngina='Y', Oldpeak='2.8', ST_Slope='Flat', HeartDisease='1'),\n",
       " Row(Age='51', Sex='M', ChestPainType='ASY', RestingBP='140', Cholesterol='299', FastingBS='0', RestingECG='Normal', MaxHR='173', ExerciseAngina='Y', Oldpeak='1.6', ST_Slope='Up', HeartDisease='1'),\n",
       " Row(Age='55', Sex='M', ChestPainType='ASY', RestingBP='160', Cholesterol='289', FastingBS='0', RestingECG='LVH', MaxHR='145', ExerciseAngina='Y', Oldpeak='0.8', ST_Slope='Flat', HeartDisease='1'),\n",
       " Row(Age='52', Sex='M', ChestPainType='TA', RestingBP='152', Cholesterol='298', FastingBS='1', RestingECG='Normal', MaxHR='178', ExerciseAngina='N', Oldpeak='1.2', ST_Slope='Flat', HeartDisease='0'),\n",
       " Row(Age='60', Sex='F', ChestPainType='NAP', RestingBP='102', Cholesterol='318', FastingBS='0', RestingECG='Normal', MaxHR='160', ExerciseAngina='N', Oldpeak='0', ST_Slope='Up', HeartDisease='0'),\n",
       " Row(Age='58', Sex='M', ChestPainType='NAP', RestingBP='105', Cholesterol='240', FastingBS='0', RestingECG='LVH', MaxHR='154', ExerciseAngina='Y', Oldpeak='0.6', ST_Slope='Flat', HeartDisease='0'),\n",
       " Row(Age='64', Sex='M', ChestPainType='NAP', RestingBP='125', Cholesterol='309', FastingBS='0', RestingECG='Normal', MaxHR='131', ExerciseAngina='Y', Oldpeak='1.8', ST_Slope='Flat', HeartDisease='1'),\n",
       " Row(Age='37', Sex='M', ChestPainType='NAP', RestingBP='130', Cholesterol='250', FastingBS='0', RestingECG='Normal', MaxHR='187', ExerciseAngina='N', Oldpeak='3.5', ST_Slope='Down', HeartDisease='0'),\n",
       " Row(Age='59', Sex='M', ChestPainType='TA', RestingBP='170', Cholesterol='288', FastingBS='0', RestingECG='LVH', MaxHR='159', ExerciseAngina='N', Oldpeak='0.2', ST_Slope='Flat', HeartDisease='1'),\n",
       " Row(Age='51', Sex='M', ChestPainType='NAP', RestingBP='125', Cholesterol='245', FastingBS='1', RestingECG='LVH', MaxHR='166', ExerciseAngina='N', Oldpeak='2.4', ST_Slope='Flat', HeartDisease='0'),\n",
       " Row(Age='43', Sex='F', ChestPainType='NAP', RestingBP='122', Cholesterol='213', FastingBS='0', RestingECG='Normal', MaxHR='165', ExerciseAngina='N', Oldpeak='0.2', ST_Slope='Flat', HeartDisease='0'),\n",
       " Row(Age='58', Sex='M', ChestPainType='ASY', RestingBP='128', Cholesterol='216', FastingBS='0', RestingECG='LVH', MaxHR='131', ExerciseAngina='Y', Oldpeak='2.2', ST_Slope='Flat', HeartDisease='1'),\n",
       " Row(Age='29', Sex='M', ChestPainType='ATA', RestingBP='130', Cholesterol='204', FastingBS='0', RestingECG='LVH', MaxHR='202', ExerciseAngina='N', Oldpeak='0', ST_Slope='Up', HeartDisease='0'),\n",
       " Row(Age='41', Sex='F', ChestPainType='ATA', RestingBP='130', Cholesterol='204', FastingBS='0', RestingECG='LVH', MaxHR='172', ExerciseAngina='N', Oldpeak='1.4', ST_Slope='Up', HeartDisease='0'),\n",
       " Row(Age='63', Sex='F', ChestPainType='NAP', RestingBP='135', Cholesterol='252', FastingBS='0', RestingECG='LVH', MaxHR='172', ExerciseAngina='N', Oldpeak='0', ST_Slope='Up', HeartDisease='0'),\n",
       " Row(Age='51', Sex='M', ChestPainType='NAP', RestingBP='94', Cholesterol='227', FastingBS='0', RestingECG='Normal', MaxHR='154', ExerciseAngina='Y', Oldpeak='0', ST_Slope='Up', HeartDisease='0'),\n",
       " Row(Age='54', Sex='M', ChestPainType='NAP', RestingBP='120', Cholesterol='258', FastingBS='0', RestingECG='LVH', MaxHR='147', ExerciseAngina='N', Oldpeak='0.4', ST_Slope='Flat', HeartDisease='0'),\n",
       " Row(Age='44', Sex='M', ChestPainType='ATA', RestingBP='120', Cholesterol='220', FastingBS='0', RestingECG='Normal', MaxHR='170', ExerciseAngina='N', Oldpeak='0', ST_Slope='Up', HeartDisease='0'),\n",
       " Row(Age='54', Sex='M', ChestPainType='ASY', RestingBP='110', Cholesterol='239', FastingBS='0', RestingECG='Normal', MaxHR='126', ExerciseAngina='Y', Oldpeak='2.8', ST_Slope='Flat', HeartDisease='1'),\n",
       " Row(Age='65', Sex='M', ChestPainType='ASY', RestingBP='135', Cholesterol='254', FastingBS='0', RestingECG='LVH', MaxHR='127', ExerciseAngina='N', Oldpeak='2.8', ST_Slope='Flat', HeartDisease='1'),\n",
       " Row(Age='57', Sex='M', ChestPainType='NAP', RestingBP='150', Cholesterol='168', FastingBS='0', RestingECG='Normal', MaxHR='174', ExerciseAngina='N', Oldpeak='1.6', ST_Slope='Up', HeartDisease='0'),\n",
       " Row(Age='63', Sex='M', ChestPainType='ASY', RestingBP='130', Cholesterol='330', FastingBS='1', RestingECG='LVH', MaxHR='132', ExerciseAngina='Y', Oldpeak='1.8', ST_Slope='Up', HeartDisease='1'),\n",
       " Row(Age='35', Sex='F', ChestPainType='ASY', RestingBP='138', Cholesterol='183', FastingBS='0', RestingECG='Normal', MaxHR='182', ExerciseAngina='N', Oldpeak='1.4', ST_Slope='Up', HeartDisease='0'),\n",
       " Row(Age='41', Sex='M', ChestPainType='ATA', RestingBP='135', Cholesterol='203', FastingBS='0', RestingECG='Normal', MaxHR='132', ExerciseAngina='N', Oldpeak='0', ST_Slope='Flat', HeartDisease='0'),\n",
       " Row(Age='62', Sex='F', ChestPainType='NAP', RestingBP='130', Cholesterol='263', FastingBS='0', RestingECG='Normal', MaxHR='97', ExerciseAngina='N', Oldpeak='1.2', ST_Slope='Flat', HeartDisease='1'),\n",
       " Row(Age='43', Sex='F', ChestPainType='ASY', RestingBP='132', Cholesterol='341', FastingBS='1', RestingECG='LVH', MaxHR='136', ExerciseAngina='Y', Oldpeak='3', ST_Slope='Flat', HeartDisease='1'),\n",
       " Row(Age='58', Sex='F', ChestPainType='TA', RestingBP='150', Cholesterol='283', FastingBS='1', RestingECG='LVH', MaxHR='162', ExerciseAngina='N', Oldpeak='1', ST_Slope='Up', HeartDisease='0'),\n",
       " Row(Age='52', Sex='M', ChestPainType='TA', RestingBP='118', Cholesterol='186', FastingBS='0', RestingECG='LVH', MaxHR='190', ExerciseAngina='N', Oldpeak='0', ST_Slope='Flat', HeartDisease='0'),\n",
       " Row(Age='61', Sex='F', ChestPainType='ASY', RestingBP='145', Cholesterol='307', FastingBS='0', RestingECG='LVH', MaxHR='146', ExerciseAngina='Y', Oldpeak='1', ST_Slope='Flat', HeartDisease='1'),\n",
       " Row(Age='39', Sex='M', ChestPainType='ASY', RestingBP='118', Cholesterol='219', FastingBS='0', RestingECG='Normal', MaxHR='140', ExerciseAngina='N', Oldpeak='1.2', ST_Slope='Flat', HeartDisease='1'),\n",
       " Row(Age='45', Sex='M', ChestPainType='ASY', RestingBP='115', Cholesterol='260', FastingBS='0', RestingECG='LVH', MaxHR='185', ExerciseAngina='N', Oldpeak='0', ST_Slope='Up', HeartDisease='0'),\n",
       " Row(Age='52', Sex='M', ChestPainType='ASY', RestingBP='128', Cholesterol='255', FastingBS='0', RestingECG='Normal', MaxHR='161', ExerciseAngina='Y', Oldpeak='0', ST_Slope='Up', HeartDisease='1'),\n",
       " Row(Age='62', Sex='M', ChestPainType='NAP', RestingBP='130', Cholesterol='231', FastingBS='0', RestingECG='Normal', MaxHR='146', ExerciseAngina='N', Oldpeak='1.8', ST_Slope='Flat', HeartDisease='0'),\n",
       " Row(Age='62', Sex='F', ChestPainType='ASY', RestingBP='160', Cholesterol='164', FastingBS='0', RestingECG='LVH', MaxHR='145', ExerciseAngina='N', Oldpeak='6.2', ST_Slope='Down', HeartDisease='1'),\n",
       " Row(Age='53', Sex='F', ChestPainType='ASY', RestingBP='138', Cholesterol='234', FastingBS='0', RestingECG='LVH', MaxHR='160', ExerciseAngina='N', Oldpeak='0', ST_Slope='Up', HeartDisease='0'),\n",
       " Row(Age='43', Sex='M', ChestPainType='ASY', RestingBP='120', Cholesterol='177', FastingBS='0', RestingECG='LVH', MaxHR='120', ExerciseAngina='Y', Oldpeak='2.5', ST_Slope='Flat', HeartDisease='1'),\n",
       " Row(Age='47', Sex='M', ChestPainType='NAP', RestingBP='138', Cholesterol='257', FastingBS='0', RestingECG='LVH', MaxHR='156', ExerciseAngina='N', Oldpeak='0', ST_Slope='Up', HeartDisease='0'),\n",
       " Row(Age='52', Sex='M', ChestPainType='ATA', RestingBP='120', Cholesterol='325', FastingBS='0', RestingECG='Normal', MaxHR='172', ExerciseAngina='N', Oldpeak='0.2', ST_Slope='Up', HeartDisease='0'),\n",
       " Row(Age='68', Sex='M', ChestPainType='NAP', RestingBP='180', Cholesterol='274', FastingBS='1', RestingECG='LVH', MaxHR='150', ExerciseAngina='Y', Oldpeak='1.6', ST_Slope='Flat', HeartDisease='1'),\n",
       " Row(Age='39', Sex='M', ChestPainType='NAP', RestingBP='140', Cholesterol='321', FastingBS='0', RestingECG='LVH', MaxHR='182', ExerciseAngina='N', Oldpeak='0', ST_Slope='Up', HeartDisease='0'),\n",
       " Row(Age='53', Sex='F', ChestPainType='ASY', RestingBP='130', Cholesterol='264', FastingBS='0', RestingECG='LVH', MaxHR='143', ExerciseAngina='N', Oldpeak='0.4', ST_Slope='Flat', HeartDisease='0'),\n",
       " Row(Age='62', Sex='F', ChestPainType='ASY', RestingBP='140', Cholesterol='268', FastingBS='0', RestingECG='LVH', MaxHR='160', ExerciseAngina='N', Oldpeak='3.6', ST_Slope='Down', HeartDisease='1'),\n",
       " Row(Age='51', Sex='F', ChestPainType='NAP', RestingBP='140', Cholesterol='308', FastingBS='0', RestingECG='LVH', MaxHR='142', ExerciseAngina='N', Oldpeak='1.5', ST_Slope='Up', HeartDisease='0'),\n",
       " Row(Age='60', Sex='M', ChestPainType='ASY', RestingBP='130', Cholesterol='253', FastingBS='0', RestingECG='Normal', MaxHR='144', ExerciseAngina='Y', Oldpeak='1.4', ST_Slope='Up', HeartDisease='1'),\n",
       " Row(Age='65', Sex='M', ChestPainType='ASY', RestingBP='110', Cholesterol='248', FastingBS='0', RestingECG='LVH', MaxHR='158', ExerciseAngina='N', Oldpeak='0.6', ST_Slope='Up', HeartDisease='1'),\n",
       " Row(Age='65', Sex='F', ChestPainType='NAP', RestingBP='155', Cholesterol='269', FastingBS='0', RestingECG='Normal', MaxHR='148', ExerciseAngina='N', Oldpeak='0.8', ST_Slope='Up', HeartDisease='0'),\n",
       " Row(Age='60', Sex='M', ChestPainType='NAP', RestingBP='140', Cholesterol='185', FastingBS='0', RestingECG='LVH', MaxHR='155', ExerciseAngina='N', Oldpeak='3', ST_Slope='Flat', HeartDisease='1'),\n",
       " Row(Age='60', Sex='M', ChestPainType='ASY', RestingBP='145', Cholesterol='282', FastingBS='0', RestingECG='LVH', MaxHR='142', ExerciseAngina='Y', Oldpeak='2.8', ST_Slope='Flat', HeartDisease='1'),\n",
       " Row(Age='54', Sex='M', ChestPainType='ASY', RestingBP='120', Cholesterol='188', FastingBS='0', RestingECG='Normal', MaxHR='113', ExerciseAngina='N', Oldpeak='1.4', ST_Slope='Flat', HeartDisease='1'),\n",
       " Row(Age='44', Sex='M', ChestPainType='ATA', RestingBP='130', Cholesterol='219', FastingBS='0', RestingECG='LVH', MaxHR='188', ExerciseAngina='N', Oldpeak='0', ST_Slope='Up', HeartDisease='0'),\n",
       " Row(Age='44', Sex='M', ChestPainType='ASY', RestingBP='112', Cholesterol='290', FastingBS='0', RestingECG='LVH', MaxHR='153', ExerciseAngina='N', Oldpeak='0', ST_Slope='Up', HeartDisease='1'),\n",
       " Row(Age='51', Sex='M', ChestPainType='NAP', RestingBP='110', Cholesterol='175', FastingBS='0', RestingECG='Normal', MaxHR='123', ExerciseAngina='N', Oldpeak='0.6', ST_Slope='Up', HeartDisease='0'),\n",
       " Row(Age='59', Sex='M', ChestPainType='NAP', RestingBP='150', Cholesterol='212', FastingBS='1', RestingECG='Normal', MaxHR='157', ExerciseAngina='N', Oldpeak='1.6', ST_Slope='Up', HeartDisease='0'),\n",
       " Row(Age='71', Sex='F', ChestPainType='ATA', RestingBP='160', Cholesterol='302', FastingBS='0', RestingECG='Normal', MaxHR='162', ExerciseAngina='N', Oldpeak='0.4', ST_Slope='Up', HeartDisease='0'),\n",
       " Row(Age='61', Sex='M', ChestPainType='NAP', RestingBP='150', Cholesterol='243', FastingBS='1', RestingECG='Normal', MaxHR='137', ExerciseAngina='Y', Oldpeak='1', ST_Slope='Flat', HeartDisease='0'),\n",
       " Row(Age='55', Sex='M', ChestPainType='ASY', RestingBP='132', Cholesterol='353', FastingBS='0', RestingECG='Normal', MaxHR='132', ExerciseAngina='Y', Oldpeak='1.2', ST_Slope='Flat', HeartDisease='1'),\n",
       " Row(Age='64', Sex='M', ChestPainType='NAP', RestingBP='140', Cholesterol='335', FastingBS='0', RestingECG='Normal', MaxHR='158', ExerciseAngina='N', Oldpeak='0', ST_Slope='Up', HeartDisease='1'),\n",
       " Row(Age='43', Sex='M', ChestPainType='ASY', RestingBP='150', Cholesterol='247', FastingBS='0', RestingECG='Normal', MaxHR='171', ExerciseAngina='N', Oldpeak='1.5', ST_Slope='Up', HeartDisease='0'),\n",
       " Row(Age='58', Sex='F', ChestPainType='NAP', RestingBP='120', Cholesterol='340', FastingBS='0', RestingECG='Normal', MaxHR='172', ExerciseAngina='N', Oldpeak='0', ST_Slope='Up', HeartDisease='0'),\n",
       " Row(Age='60', Sex='M', ChestPainType='ASY', RestingBP='130', Cholesterol='206', FastingBS='0', RestingECG='LVH', MaxHR='132', ExerciseAngina='Y', Oldpeak='2.4', ST_Slope='Flat', HeartDisease='1'),\n",
       " Row(Age='58', Sex='M', ChestPainType='ATA', RestingBP='120', Cholesterol='284', FastingBS='0', RestingECG='LVH', MaxHR='160', ExerciseAngina='N', Oldpeak='1.8', ST_Slope='Flat', HeartDisease='1'),\n",
       " Row(Age='49', Sex='M', ChestPainType='ATA', RestingBP='130', Cholesterol='266', FastingBS='0', RestingECG='Normal', MaxHR='171', ExerciseAngina='N', Oldpeak='0.6', ST_Slope='Up', HeartDisease='0'),\n",
       " Row(Age='48', Sex='M', ChestPainType='ATA', RestingBP='110', Cholesterol='229', FastingBS='0', RestingECG='Normal', MaxHR='168', ExerciseAngina='N', Oldpeak='1', ST_Slope='Down', HeartDisease='1'),\n",
       " Row(Age='52', Sex='M', ChestPainType='NAP', RestingBP='172', Cholesterol='199', FastingBS='1', RestingECG='Normal', MaxHR='162', ExerciseAngina='N', Oldpeak='0.5', ST_Slope='Up', HeartDisease='0'),\n",
       " Row(Age='44', Sex='M', ChestPainType='ATA', RestingBP='120', Cholesterol='263', FastingBS='0', RestingECG='Normal', MaxHR='173', ExerciseAngina='N', Oldpeak='0', ST_Slope='Up', HeartDisease='0'),\n",
       " Row(Age='56', Sex='F', ChestPainType='ATA', RestingBP='140', Cholesterol='294', FastingBS='0', RestingECG='LVH', MaxHR='153', ExerciseAngina='N', Oldpeak='1.3', ST_Slope='Flat', HeartDisease='0'),\n",
       " Row(Age='57', Sex='M', ChestPainType='ASY', RestingBP='140', Cholesterol='192', FastingBS='0', RestingECG='Normal', MaxHR='148', ExerciseAngina='N', Oldpeak='0.4', ST_Slope='Flat', HeartDisease='0'),\n",
       " Row(Age='67', Sex='M', ChestPainType='ASY', RestingBP='160', Cholesterol='286', FastingBS='0', RestingECG='LVH', MaxHR='108', ExerciseAngina='Y', Oldpeak='1.5', ST_Slope='Flat', HeartDisease='1'),\n",
       " Row(Age='53', Sex='F', ChestPainType='NAP', RestingBP='128', Cholesterol='216', FastingBS='0', RestingECG='LVH', MaxHR='115', ExerciseAngina='N', Oldpeak='0', ST_Slope='Up', HeartDisease='0'),\n",
       " Row(Age='52', Sex='M', ChestPainType='NAP', RestingBP='138', Cholesterol='223', FastingBS='0', RestingECG='Normal', MaxHR='169', ExerciseAngina='N', Oldpeak='0', ST_Slope='Up', HeartDisease='0'),\n",
       " Row(Age='43', Sex='M', ChestPainType='ASY', RestingBP='132', Cholesterol='247', FastingBS='1', RestingECG='LVH', MaxHR='143', ExerciseAngina='Y', Oldpeak='0.1', ST_Slope='Flat', HeartDisease='1'),\n",
       " Row(Age='52', Sex='M', ChestPainType='ASY', RestingBP='128', Cholesterol='204', FastingBS='1', RestingECG='Normal', MaxHR='156', ExerciseAngina='Y', Oldpeak='1', ST_Slope='Flat', HeartDisease='1'),\n",
       " Row(Age='59', Sex='M', ChestPainType='TA', RestingBP='134', Cholesterol='204', FastingBS='0', RestingECG='Normal', MaxHR='162', ExerciseAngina='N', Oldpeak='0.8', ST_Slope='Up', HeartDisease='1'),\n",
       " Row(Age='64', Sex='M', ChestPainType='TA', RestingBP='170', Cholesterol='227', FastingBS='0', RestingECG='LVH', MaxHR='155', ExerciseAngina='N', Oldpeak='0.6', ST_Slope='Flat', HeartDisease='0'),\n",
       " Row(Age='66', Sex='F', ChestPainType='NAP', RestingBP='146', Cholesterol='278', FastingBS='0', RestingECG='LVH', MaxHR='152', ExerciseAngina='N', Oldpeak='0', ST_Slope='Flat', HeartDisease='0'),\n",
       " Row(Age='39', Sex='F', ChestPainType='NAP', RestingBP='138', Cholesterol='220', FastingBS='0', RestingECG='Normal', MaxHR='152', ExerciseAngina='N', Oldpeak='0', ST_Slope='Flat', HeartDisease='0'),\n",
       " Row(Age='57', Sex='M', ChestPainType='ATA', RestingBP='154', Cholesterol='232', FastingBS='0', RestingECG='LVH', MaxHR='164', ExerciseAngina='N', Oldpeak='0', ST_Slope='Up', HeartDisease='1'),\n",
       " Row(Age='58', Sex='F', ChestPainType='ASY', RestingBP='130', Cholesterol='197', FastingBS='0', RestingECG='Normal', MaxHR='131', ExerciseAngina='N', Oldpeak='0.6', ST_Slope='Flat', HeartDisease='0'),\n",
       " Row(Age='57', Sex='M', ChestPainType='ASY', RestingBP='110', Cholesterol='335', FastingBS='0', RestingECG='Normal', MaxHR='143', ExerciseAngina='Y', Oldpeak='3', ST_Slope='Flat', HeartDisease='1'),\n",
       " Row(Age='47', Sex='M', ChestPainType='NAP', RestingBP='130', Cholesterol='253', FastingBS='0', RestingECG='Normal', MaxHR='179', ExerciseAngina='N', Oldpeak='0', ST_Slope='Up', HeartDisease='0'),\n",
       " Row(Age='55', Sex='F', ChestPainType='ASY', RestingBP='128', Cholesterol='205', FastingBS='0', RestingECG='ST', MaxHR='130', ExerciseAngina='Y', Oldpeak='2', ST_Slope='Flat', HeartDisease='1'),\n",
       " Row(Age='35', Sex='M', ChestPainType='ATA', RestingBP='122', Cholesterol='192', FastingBS='0', RestingECG='Normal', MaxHR='174', ExerciseAngina='N', Oldpeak='0', ST_Slope='Up', HeartDisease='0'),\n",
       " Row(Age='61', Sex='M', ChestPainType='ASY', RestingBP='148', Cholesterol='203', FastingBS='0', RestingECG='Normal', MaxHR='161', ExerciseAngina='N', Oldpeak='0', ST_Slope='Up', HeartDisease='1'),\n",
       " Row(Age='58', Sex='M', ChestPainType='ASY', RestingBP='114', Cholesterol='318', FastingBS='0', RestingECG='ST', MaxHR='140', ExerciseAngina='N', Oldpeak='4.4', ST_Slope='Down', HeartDisease='1'),\n",
       " Row(Age='58', Sex='F', ChestPainType='ASY', RestingBP='170', Cholesterol='225', FastingBS='1', RestingECG='LVH', MaxHR='146', ExerciseAngina='Y', Oldpeak='2.8', ST_Slope='Flat', HeartDisease='1'),\n",
       " Row(Age='58', Sex='M', ChestPainType='ATA', RestingBP='125', Cholesterol='220', FastingBS='0', RestingECG='Normal', MaxHR='144', ExerciseAngina='N', Oldpeak='0.4', ST_Slope='Flat', HeartDisease='0'),\n",
       " Row(Age='56', Sex='M', ChestPainType='ATA', RestingBP='130', Cholesterol='221', FastingBS='0', RestingECG='LVH', MaxHR='163', ExerciseAngina='N', Oldpeak='0', ST_Slope='Up', HeartDisease='0'),\n",
       " Row(Age='56', Sex='M', ChestPainType='ATA', RestingBP='120', Cholesterol='240', FastingBS='0', RestingECG='Normal', MaxHR='169', ExerciseAngina='N', Oldpeak='0', ST_Slope='Down', HeartDisease='0'),\n",
       " Row(Age='67', Sex='M', ChestPainType='NAP', RestingBP='152', Cholesterol='212', FastingBS='0', RestingECG='LVH', MaxHR='150', ExerciseAngina='N', Oldpeak='0.8', ST_Slope='Flat', HeartDisease='1'),\n",
       " Row(Age='55', Sex='F', ChestPainType='ATA', RestingBP='132', Cholesterol='342', FastingBS='0', RestingECG='Normal', MaxHR='166', ExerciseAngina='N', Oldpeak='1.2', ST_Slope='Up', HeartDisease='0'),\n",
       " Row(Age='44', Sex='M', ChestPainType='ASY', RestingBP='120', Cholesterol='169', FastingBS='0', RestingECG='Normal', MaxHR='144', ExerciseAngina='Y', Oldpeak='2.8', ST_Slope='Down', HeartDisease='1'),\n",
       " Row(Age='63', Sex='M', ChestPainType='ASY', RestingBP='140', Cholesterol='187', FastingBS='0', RestingECG='LVH', MaxHR='144', ExerciseAngina='Y', Oldpeak='4', ST_Slope='Up', HeartDisease='1'),\n",
       " Row(Age='63', Sex='F', ChestPainType='ASY', RestingBP='124', Cholesterol='197', FastingBS='0', RestingECG='Normal', MaxHR='136', ExerciseAngina='Y', Oldpeak='0', ST_Slope='Flat', HeartDisease='1'),\n",
       " Row(Age='41', Sex='M', ChestPainType='ATA', RestingBP='120', Cholesterol='157', FastingBS='0', RestingECG='Normal', MaxHR='182', ExerciseAngina='N', Oldpeak='0', ST_Slope='Up', HeartDisease='0'),\n",
       " Row(Age='59', Sex='M', ChestPainType='ASY', RestingBP='164', Cholesterol='176', FastingBS='1', RestingECG='LVH', MaxHR='90', ExerciseAngina='N', Oldpeak='1', ST_Slope='Flat', HeartDisease='1'),\n",
       " Row(Age='57', Sex='F', ChestPainType='ASY', RestingBP='140', Cholesterol='241', FastingBS='0', RestingECG='Normal', MaxHR='123', ExerciseAngina='Y', Oldpeak='0.2', ST_Slope='Flat', HeartDisease='1'),\n",
       " Row(Age='45', Sex='M', ChestPainType='TA', RestingBP='110', Cholesterol='264', FastingBS='0', RestingECG='Normal', MaxHR='132', ExerciseAngina='N', Oldpeak='1.2', ST_Slope='Flat', HeartDisease='1'),\n",
       " Row(Age='68', Sex='M', ChestPainType='ASY', RestingBP='144', Cholesterol='193', FastingBS='1', RestingECG='Normal', MaxHR='141', ExerciseAngina='N', Oldpeak='3.4', ST_Slope='Flat', HeartDisease='1'),\n",
       " Row(Age='57', Sex='M', ChestPainType='ASY', RestingBP='130', Cholesterol='131', FastingBS='0', RestingECG='Normal', MaxHR='115', ExerciseAngina='Y', Oldpeak='1.2', ST_Slope='Flat', HeartDisease='1'),\n",
       " Row(Age='57', Sex='F', ChestPainType='ATA', RestingBP='130', Cholesterol='236', FastingBS='0', RestingECG='LVH', MaxHR='174', ExerciseAngina='N', Oldpeak='0', ST_Slope='Flat', HeartDisease='1'),\n",
       " Row(Age='38', Sex='M', ChestPainType='NAP', RestingBP='138', Cholesterol='175', FastingBS='0', RestingECG='Normal', MaxHR='173', ExerciseAngina='N', Oldpeak='0', ST_Slope='Up', HeartDisease='0')]"
      ]
     },
     "execution_count": 22,
     "metadata": {},
     "output_type": "execute_result"
    }
   ],
   "source": [
    "df.cache()\n",
    "df.collect()"
   ]
  },
  {
   "cell_type": "code",
   "execution_count": 23,
   "id": "3a7ebf8f",
   "metadata": {},
   "outputs": [
    {
     "ename": "Py4JError",
     "evalue": "An error occurred while calling o122.legacyInferArrayTypeFromFirstElement. Trace:\npy4j.Py4JException: Method legacyInferArrayTypeFromFirstElement([]) does not exist\r\n\tat py4j.reflection.ReflectionEngine.getMethod(ReflectionEngine.java:318)\r\n\tat py4j.reflection.ReflectionEngine.getMethod(ReflectionEngine.java:326)\r\n\tat py4j.Gateway.invoke(Gateway.java:274)\r\n\tat py4j.commands.AbstractCommand.invokeMethod(AbstractCommand.java:132)\r\n\tat py4j.commands.CallCommand.execute(CallCommand.java:79)\r\n\tat py4j.ClientServerConnection.waitForCommands(ClientServerConnection.java:182)\r\n\tat py4j.ClientServerConnection.run(ClientServerConnection.java:106)\r\n\tat java.base/java.lang.Thread.run(Thread.java:833)\r\n\n",
     "output_type": "error",
     "traceback": [
      "\u001b[1;31m---------------------------------------------------------------------------\u001b[0m",
      "\u001b[1;31mPy4JError\u001b[0m                                 Traceback (most recent call last)",
      "\u001b[1;32m~\\AppData\\Local\\Temp\\ipykernel_11320\\1355107606.py\u001b[0m in \u001b[0;36m<module>\u001b[1;34m\u001b[0m\n\u001b[0;32m      2\u001b[0m \u001b[0mpd_df\u001b[0m \u001b[1;33m=\u001b[0m \u001b[0mdf\u001b[0m\u001b[1;33m.\u001b[0m\u001b[0mtoPandas\u001b[0m\u001b[1;33m(\u001b[0m\u001b[1;33m)\u001b[0m\u001b[1;33m\u001b[0m\u001b[1;33m\u001b[0m\u001b[0m\n\u001b[0;32m      3\u001b[0m \u001b[1;31m# convert it back\u001b[0m\u001b[1;33m\u001b[0m\u001b[1;33m\u001b[0m\u001b[0m\n\u001b[1;32m----> 4\u001b[1;33m \u001b[0mspark_df\u001b[0m \u001b[1;33m=\u001b[0m \u001b[0mspark\u001b[0m\u001b[1;33m.\u001b[0m\u001b[0mcreateDataFrame\u001b[0m\u001b[1;33m(\u001b[0m\u001b[0mpd_df\u001b[0m\u001b[1;33m)\u001b[0m\u001b[1;33m\u001b[0m\u001b[1;33m\u001b[0m\u001b[0m\n\u001b[0m",
      "\u001b[1;32m~\\anaconda3\\lib\\site-packages\\pyspark\\sql\\session.py\u001b[0m in \u001b[0;36mcreateDataFrame\u001b[1;34m(self, data, schema, samplingRatio, verifySchema)\u001b[0m\n\u001b[0;32m   1271\u001b[0m         \u001b[1;32mif\u001b[0m \u001b[0mhas_pandas\u001b[0m \u001b[1;32mand\u001b[0m \u001b[0misinstance\u001b[0m\u001b[1;33m(\u001b[0m\u001b[0mdata\u001b[0m\u001b[1;33m,\u001b[0m \u001b[0mpd\u001b[0m\u001b[1;33m.\u001b[0m\u001b[0mDataFrame\u001b[0m\u001b[1;33m)\u001b[0m\u001b[1;33m:\u001b[0m\u001b[1;33m\u001b[0m\u001b[1;33m\u001b[0m\u001b[0m\n\u001b[0;32m   1272\u001b[0m             \u001b[1;31m# Create a DataFrame from pandas DataFrame.\u001b[0m\u001b[1;33m\u001b[0m\u001b[1;33m\u001b[0m\u001b[0m\n\u001b[1;32m-> 1273\u001b[1;33m             return super(SparkSession, self).createDataFrame(  # type: ignore[call-overload]\n\u001b[0m\u001b[0;32m   1274\u001b[0m                 \u001b[0mdata\u001b[0m\u001b[1;33m,\u001b[0m \u001b[0mschema\u001b[0m\u001b[1;33m,\u001b[0m \u001b[0msamplingRatio\u001b[0m\u001b[1;33m,\u001b[0m \u001b[0mverifySchema\u001b[0m\u001b[1;33m\u001b[0m\u001b[1;33m\u001b[0m\u001b[0m\n\u001b[0;32m   1275\u001b[0m             )\n",
      "\u001b[1;32m~\\anaconda3\\lib\\site-packages\\pyspark\\sql\\pandas\\conversion.py\u001b[0m in \u001b[0;36mcreateDataFrame\u001b[1;34m(self, data, schema, samplingRatio, verifySchema)\u001b[0m\n\u001b[0;32m    438\u001b[0m                     \u001b[1;32mraise\u001b[0m\u001b[1;33m\u001b[0m\u001b[1;33m\u001b[0m\u001b[0m\n\u001b[0;32m    439\u001b[0m         \u001b[0mconverted_data\u001b[0m \u001b[1;33m=\u001b[0m \u001b[0mself\u001b[0m\u001b[1;33m.\u001b[0m\u001b[0m_convert_from_pandas\u001b[0m\u001b[1;33m(\u001b[0m\u001b[0mdata\u001b[0m\u001b[1;33m,\u001b[0m \u001b[0mschema\u001b[0m\u001b[1;33m,\u001b[0m \u001b[0mtimezone\u001b[0m\u001b[1;33m)\u001b[0m\u001b[1;33m\u001b[0m\u001b[1;33m\u001b[0m\u001b[0m\n\u001b[1;32m--> 440\u001b[1;33m         \u001b[1;32mreturn\u001b[0m \u001b[0mself\u001b[0m\u001b[1;33m.\u001b[0m\u001b[0m_create_dataframe\u001b[0m\u001b[1;33m(\u001b[0m\u001b[0mconverted_data\u001b[0m\u001b[1;33m,\u001b[0m \u001b[0mschema\u001b[0m\u001b[1;33m,\u001b[0m \u001b[0msamplingRatio\u001b[0m\u001b[1;33m,\u001b[0m \u001b[0mverifySchema\u001b[0m\u001b[1;33m)\u001b[0m\u001b[1;33m\u001b[0m\u001b[1;33m\u001b[0m\u001b[0m\n\u001b[0m\u001b[0;32m    441\u001b[0m \u001b[1;33m\u001b[0m\u001b[0m\n\u001b[0;32m    442\u001b[0m     def _convert_from_pandas(\n",
      "\u001b[1;32m~\\anaconda3\\lib\\site-packages\\pyspark\\sql\\session.py\u001b[0m in \u001b[0;36m_create_dataframe\u001b[1;34m(self, data, schema, samplingRatio, verifySchema)\u001b[0m\n\u001b[0;32m   1316\u001b[0m             \u001b[0mrdd\u001b[0m\u001b[1;33m,\u001b[0m \u001b[0mstruct\u001b[0m \u001b[1;33m=\u001b[0m \u001b[0mself\u001b[0m\u001b[1;33m.\u001b[0m\u001b[0m_createFromRDD\u001b[0m\u001b[1;33m(\u001b[0m\u001b[0mdata\u001b[0m\u001b[1;33m.\u001b[0m\u001b[0mmap\u001b[0m\u001b[1;33m(\u001b[0m\u001b[0mprepare\u001b[0m\u001b[1;33m)\u001b[0m\u001b[1;33m,\u001b[0m \u001b[0mschema\u001b[0m\u001b[1;33m,\u001b[0m \u001b[0msamplingRatio\u001b[0m\u001b[1;33m)\u001b[0m\u001b[1;33m\u001b[0m\u001b[1;33m\u001b[0m\u001b[0m\n\u001b[0;32m   1317\u001b[0m         \u001b[1;32melse\u001b[0m\u001b[1;33m:\u001b[0m\u001b[1;33m\u001b[0m\u001b[1;33m\u001b[0m\u001b[0m\n\u001b[1;32m-> 1318\u001b[1;33m             \u001b[0mrdd\u001b[0m\u001b[1;33m,\u001b[0m \u001b[0mstruct\u001b[0m \u001b[1;33m=\u001b[0m \u001b[0mself\u001b[0m\u001b[1;33m.\u001b[0m\u001b[0m_createFromLocal\u001b[0m\u001b[1;33m(\u001b[0m\u001b[0mmap\u001b[0m\u001b[1;33m(\u001b[0m\u001b[0mprepare\u001b[0m\u001b[1;33m,\u001b[0m \u001b[0mdata\u001b[0m\u001b[1;33m)\u001b[0m\u001b[1;33m,\u001b[0m \u001b[0mschema\u001b[0m\u001b[1;33m)\u001b[0m\u001b[1;33m\u001b[0m\u001b[1;33m\u001b[0m\u001b[0m\n\u001b[0m\u001b[0;32m   1319\u001b[0m         \u001b[1;32massert\u001b[0m \u001b[0mself\u001b[0m\u001b[1;33m.\u001b[0m\u001b[0m_jvm\u001b[0m \u001b[1;32mis\u001b[0m \u001b[1;32mnot\u001b[0m \u001b[1;32mNone\u001b[0m\u001b[1;33m\u001b[0m\u001b[1;33m\u001b[0m\u001b[0m\n\u001b[0;32m   1320\u001b[0m         \u001b[0mjrdd\u001b[0m \u001b[1;33m=\u001b[0m \u001b[0mself\u001b[0m\u001b[1;33m.\u001b[0m\u001b[0m_jvm\u001b[0m\u001b[1;33m.\u001b[0m\u001b[0mSerDeUtil\u001b[0m\u001b[1;33m.\u001b[0m\u001b[0mtoJavaArray\u001b[0m\u001b[1;33m(\u001b[0m\u001b[0mrdd\u001b[0m\u001b[1;33m.\u001b[0m\u001b[0m_to_java_object_rdd\u001b[0m\u001b[1;33m(\u001b[0m\u001b[1;33m)\u001b[0m\u001b[1;33m)\u001b[0m\u001b[1;33m\u001b[0m\u001b[1;33m\u001b[0m\u001b[0m\n",
      "\u001b[1;32m~\\anaconda3\\lib\\site-packages\\pyspark\\sql\\session.py\u001b[0m in \u001b[0;36m_createFromLocal\u001b[1;34m(self, data, schema)\u001b[0m\n\u001b[0;32m    960\u001b[0m \u001b[1;33m\u001b[0m\u001b[0m\n\u001b[0;32m    961\u001b[0m         \u001b[1;32mif\u001b[0m \u001b[0mschema\u001b[0m \u001b[1;32mis\u001b[0m \u001b[1;32mNone\u001b[0m \u001b[1;32mor\u001b[0m \u001b[0misinstance\u001b[0m\u001b[1;33m(\u001b[0m\u001b[0mschema\u001b[0m\u001b[1;33m,\u001b[0m \u001b[1;33m(\u001b[0m\u001b[0mlist\u001b[0m\u001b[1;33m,\u001b[0m \u001b[0mtuple\u001b[0m\u001b[1;33m)\u001b[0m\u001b[1;33m)\u001b[0m\u001b[1;33m:\u001b[0m\u001b[1;33m\u001b[0m\u001b[1;33m\u001b[0m\u001b[0m\n\u001b[1;32m--> 962\u001b[1;33m             \u001b[0mstruct\u001b[0m \u001b[1;33m=\u001b[0m \u001b[0mself\u001b[0m\u001b[1;33m.\u001b[0m\u001b[0m_inferSchemaFromList\u001b[0m\u001b[1;33m(\u001b[0m\u001b[0mdata\u001b[0m\u001b[1;33m,\u001b[0m \u001b[0mnames\u001b[0m\u001b[1;33m=\u001b[0m\u001b[0mschema\u001b[0m\u001b[1;33m)\u001b[0m\u001b[1;33m\u001b[0m\u001b[1;33m\u001b[0m\u001b[0m\n\u001b[0m\u001b[0;32m    963\u001b[0m             \u001b[0mconverter\u001b[0m \u001b[1;33m=\u001b[0m \u001b[0m_create_converter\u001b[0m\u001b[1;33m(\u001b[0m\u001b[0mstruct\u001b[0m\u001b[1;33m)\u001b[0m\u001b[1;33m\u001b[0m\u001b[1;33m\u001b[0m\u001b[0m\n\u001b[0;32m    964\u001b[0m             \u001b[0mtupled_data\u001b[0m\u001b[1;33m:\u001b[0m \u001b[0mIterable\u001b[0m\u001b[1;33m[\u001b[0m\u001b[0mTuple\u001b[0m\u001b[1;33m]\u001b[0m \u001b[1;33m=\u001b[0m \u001b[0mmap\u001b[0m\u001b[1;33m(\u001b[0m\u001b[0mconverter\u001b[0m\u001b[1;33m,\u001b[0m \u001b[0mdata\u001b[0m\u001b[1;33m)\u001b[0m\u001b[1;33m\u001b[0m\u001b[1;33m\u001b[0m\u001b[0m\n",
      "\u001b[1;32m~\\anaconda3\\lib\\site-packages\\pyspark\\sql\\session.py\u001b[0m in \u001b[0;36m_inferSchemaFromList\u001b[1;34m(self, data, names)\u001b[0m\n\u001b[0;32m    832\u001b[0m             \u001b[1;32mraise\u001b[0m \u001b[0mValueError\u001b[0m\u001b[1;33m(\u001b[0m\u001b[1;34m\"can not infer schema from empty dataset\"\u001b[0m\u001b[1;33m)\u001b[0m\u001b[1;33m\u001b[0m\u001b[1;33m\u001b[0m\u001b[0m\n\u001b[0;32m    833\u001b[0m         \u001b[0minfer_dict_as_struct\u001b[0m \u001b[1;33m=\u001b[0m \u001b[0mself\u001b[0m\u001b[1;33m.\u001b[0m\u001b[0m_jconf\u001b[0m\u001b[1;33m.\u001b[0m\u001b[0minferDictAsStruct\u001b[0m\u001b[1;33m(\u001b[0m\u001b[1;33m)\u001b[0m\u001b[1;33m\u001b[0m\u001b[1;33m\u001b[0m\u001b[0m\n\u001b[1;32m--> 834\u001b[1;33m         \u001b[0minfer_array_from_first_element\u001b[0m \u001b[1;33m=\u001b[0m \u001b[0mself\u001b[0m\u001b[1;33m.\u001b[0m\u001b[0m_jconf\u001b[0m\u001b[1;33m.\u001b[0m\u001b[0mlegacyInferArrayTypeFromFirstElement\u001b[0m\u001b[1;33m(\u001b[0m\u001b[1;33m)\u001b[0m\u001b[1;33m\u001b[0m\u001b[1;33m\u001b[0m\u001b[0m\n\u001b[0m\u001b[0;32m    835\u001b[0m         \u001b[0mprefer_timestamp_ntz\u001b[0m \u001b[1;33m=\u001b[0m \u001b[0mis_timestamp_ntz_preferred\u001b[0m\u001b[1;33m(\u001b[0m\u001b[1;33m)\u001b[0m\u001b[1;33m\u001b[0m\u001b[1;33m\u001b[0m\u001b[0m\n\u001b[0;32m    836\u001b[0m         schema = reduce(\n",
      "\u001b[1;32m~\\anaconda3\\lib\\site-packages\\py4j\\java_gateway.py\u001b[0m in \u001b[0;36m__call__\u001b[1;34m(self, *args)\u001b[0m\n\u001b[0;32m   1320\u001b[0m \u001b[1;33m\u001b[0m\u001b[0m\n\u001b[0;32m   1321\u001b[0m         \u001b[0manswer\u001b[0m \u001b[1;33m=\u001b[0m \u001b[0mself\u001b[0m\u001b[1;33m.\u001b[0m\u001b[0mgateway_client\u001b[0m\u001b[1;33m.\u001b[0m\u001b[0msend_command\u001b[0m\u001b[1;33m(\u001b[0m\u001b[0mcommand\u001b[0m\u001b[1;33m)\u001b[0m\u001b[1;33m\u001b[0m\u001b[1;33m\u001b[0m\u001b[0m\n\u001b[1;32m-> 1322\u001b[1;33m         return_value = get_return_value(\n\u001b[0m\u001b[0;32m   1323\u001b[0m             answer, self.gateway_client, self.target_id, self.name)\n\u001b[0;32m   1324\u001b[0m \u001b[1;33m\u001b[0m\u001b[0m\n",
      "\u001b[1;32m~\\anaconda3\\lib\\site-packages\\pyspark\\errors\\exceptions\\captured.py\u001b[0m in \u001b[0;36mdeco\u001b[1;34m(*a, **kw)\u001b[0m\n\u001b[0;32m    167\u001b[0m     \u001b[1;32mdef\u001b[0m \u001b[0mdeco\u001b[0m\u001b[1;33m(\u001b[0m\u001b[1;33m*\u001b[0m\u001b[0ma\u001b[0m\u001b[1;33m:\u001b[0m \u001b[0mAny\u001b[0m\u001b[1;33m,\u001b[0m \u001b[1;33m**\u001b[0m\u001b[0mkw\u001b[0m\u001b[1;33m:\u001b[0m \u001b[0mAny\u001b[0m\u001b[1;33m)\u001b[0m \u001b[1;33m->\u001b[0m \u001b[0mAny\u001b[0m\u001b[1;33m:\u001b[0m\u001b[1;33m\u001b[0m\u001b[1;33m\u001b[0m\u001b[0m\n\u001b[0;32m    168\u001b[0m         \u001b[1;32mtry\u001b[0m\u001b[1;33m:\u001b[0m\u001b[1;33m\u001b[0m\u001b[1;33m\u001b[0m\u001b[0m\n\u001b[1;32m--> 169\u001b[1;33m             \u001b[1;32mreturn\u001b[0m \u001b[0mf\u001b[0m\u001b[1;33m(\u001b[0m\u001b[1;33m*\u001b[0m\u001b[0ma\u001b[0m\u001b[1;33m,\u001b[0m \u001b[1;33m**\u001b[0m\u001b[0mkw\u001b[0m\u001b[1;33m)\u001b[0m\u001b[1;33m\u001b[0m\u001b[1;33m\u001b[0m\u001b[0m\n\u001b[0m\u001b[0;32m    170\u001b[0m         \u001b[1;32mexcept\u001b[0m \u001b[0mPy4JJavaError\u001b[0m \u001b[1;32mas\u001b[0m \u001b[0me\u001b[0m\u001b[1;33m:\u001b[0m\u001b[1;33m\u001b[0m\u001b[1;33m\u001b[0m\u001b[0m\n\u001b[0;32m    171\u001b[0m             \u001b[0mconverted\u001b[0m \u001b[1;33m=\u001b[0m \u001b[0mconvert_exception\u001b[0m\u001b[1;33m(\u001b[0m\u001b[0me\u001b[0m\u001b[1;33m.\u001b[0m\u001b[0mjava_exception\u001b[0m\u001b[1;33m)\u001b[0m\u001b[1;33m\u001b[0m\u001b[1;33m\u001b[0m\u001b[0m\n",
      "\u001b[1;32m~\\anaconda3\\lib\\site-packages\\py4j\\protocol.py\u001b[0m in \u001b[0;36mget_return_value\u001b[1;34m(answer, gateway_client, target_id, name)\u001b[0m\n\u001b[0;32m    328\u001b[0m                     format(target_id, \".\", name), value)\n\u001b[0;32m    329\u001b[0m             \u001b[1;32melse\u001b[0m\u001b[1;33m:\u001b[0m\u001b[1;33m\u001b[0m\u001b[1;33m\u001b[0m\u001b[0m\n\u001b[1;32m--> 330\u001b[1;33m                 raise Py4JError(\n\u001b[0m\u001b[0;32m    331\u001b[0m                     \u001b[1;34m\"An error occurred while calling {0}{1}{2}. Trace:\\n{3}\\n\"\u001b[0m\u001b[1;33m.\u001b[0m\u001b[1;33m\u001b[0m\u001b[1;33m\u001b[0m\u001b[0m\n\u001b[0;32m    332\u001b[0m                     format(target_id, \".\", name, value))\n",
      "\u001b[1;31mPy4JError\u001b[0m: An error occurred while calling o122.legacyInferArrayTypeFromFirstElement. Trace:\npy4j.Py4JException: Method legacyInferArrayTypeFromFirstElement([]) does not exist\r\n\tat py4j.reflection.ReflectionEngine.getMethod(ReflectionEngine.java:318)\r\n\tat py4j.reflection.ReflectionEngine.getMethod(ReflectionEngine.java:326)\r\n\tat py4j.Gateway.invoke(Gateway.java:274)\r\n\tat py4j.commands.AbstractCommand.invokeMethod(AbstractCommand.java:132)\r\n\tat py4j.commands.CallCommand.execute(CallCommand.java:79)\r\n\tat py4j.ClientServerConnection.waitForCommands(ClientServerConnection.java:182)\r\n\tat py4j.ClientServerConnection.run(ClientServerConnection.java:106)\r\n\tat java.base/java.lang.Thread.run(Thread.java:833)\r\n\n"
     ]
    }
   ],
   "source": [
    "# convert PySpark DataFrame to Pandas DataFrame\n",
    "pd_df = df.toPandas()\n",
    "# convert it back\n",
    "spark_df = spark.createDataFrame(pd_df)"
   ]
  },
  {
   "cell_type": "code",
   "execution_count": 24,
   "id": "402eabee",
   "metadata": {},
   "outputs": [
    {
     "data": {
      "text/plain": [
       "[Row(Age='40', Sex='M', ChestPainType='ATA', RestingBP='140', Cholesterol='289', FastingBS='0', RestingECG='Normal', MaxHR='172', ExerciseAngina='N', Oldpeak='0', ST_Slope='Up', HeartDisease='0'),\n",
       " Row(Age='49', Sex='F', ChestPainType='NAP', RestingBP='160', Cholesterol='180', FastingBS='0', RestingECG='Normal', MaxHR='156', ExerciseAngina='N', Oldpeak='1', ST_Slope='Flat', HeartDisease='1'),\n",
       " Row(Age='37', Sex='M', ChestPainType='ATA', RestingBP='130', Cholesterol='283', FastingBS='0', RestingECG='ST', MaxHR='98', ExerciseAngina='N', Oldpeak='0', ST_Slope='Up', HeartDisease='0')]"
      ]
     },
     "execution_count": 24,
     "metadata": {},
     "output_type": "execute_result"
    }
   ],
   "source": [
    "# show first three rows as three row objects, which is how spark represents single rows from a table.\n",
    "# we will learn more about it later\n",
    "df.head(3)"
   ]
  },
  {
   "cell_type": "markdown",
   "id": "75f9484e-17c9-4808-9c22-bc5eeb99753b",
   "metadata": {},
   "source": [
    "Print the DataFrame's schema."
   ]
  },
  {
   "cell_type": "code",
   "execution_count": 25,
   "id": "4329dfeb-cba8-43bf-94f7-9426518adf17",
   "metadata": {},
   "outputs": [
    {
     "name": "stdout",
     "output_type": "stream",
     "text": [
      "root\n",
      " |-- Age: string (nullable = true)\n",
      " |-- Sex: string (nullable = true)\n",
      " |-- ChestPainType: string (nullable = true)\n",
      " |-- RestingBP: string (nullable = true)\n",
      " |-- Cholesterol: string (nullable = true)\n",
      " |-- FastingBS: string (nullable = true)\n",
      " |-- RestingECG: string (nullable = true)\n",
      " |-- MaxHR: string (nullable = true)\n",
      " |-- ExerciseAngina: string (nullable = true)\n",
      " |-- Oldpeak: string (nullable = true)\n",
      " |-- ST_Slope: string (nullable = true)\n",
      " |-- HeartDisease: string (nullable = true)\n",
      "\n"
     ]
    }
   ],
   "source": [
    "# type as columns\n",
    "df.printSchema()"
   ]
  },
  {
   "cell_type": "code",
   "execution_count": 26,
   "id": "f1bcec28",
   "metadata": {},
   "outputs": [
    {
     "data": {
      "text/plain": [
       "[('Age', 'string'),\n",
       " ('Sex', 'string'),\n",
       " ('ChestPainType', 'string'),\n",
       " ('RestingBP', 'string'),\n",
       " ('Cholesterol', 'string'),\n",
       " ('FastingBS', 'string'),\n",
       " ('RestingECG', 'string'),\n",
       " ('MaxHR', 'string'),\n",
       " ('ExerciseAngina', 'string'),\n",
       " ('Oldpeak', 'string'),\n",
       " ('ST_Slope', 'string'),\n",
       " ('HeartDisease', 'string')]"
      ]
     },
     "execution_count": 26,
     "metadata": {},
     "output_type": "execute_result"
    }
   ],
   "source": [
    "# column dtypes as list of tuples\n",
    "df.dtypes"
   ]
  },
  {
   "cell_type": "code",
   "execution_count": 27,
   "id": "cdb3e60a",
   "metadata": {},
   "outputs": [],
   "source": [
    "# cast a column from one type to other\n",
    "from pyspark.sql.types import FloatType\n",
    "\n",
    "df = df.withColumn(\"Age\", df.Age.cast(FloatType()))\n",
    "df = df.withColumn(\"RestingBP\", df.Age.cast(FloatType()))"
   ]
  },
  {
   "cell_type": "code",
   "execution_count": 28,
   "id": "749e6891",
   "metadata": {},
   "outputs": [
    {
     "name": "stdout",
     "output_type": "stream",
     "text": [
      "+-------+------------------+------------------+\n",
      "|summary|               Age|         RestingBP|\n",
      "+-------+------------------+------------------+\n",
      "|  count|               918|               918|\n",
      "|   mean|53.510893246187365|53.510893246187365|\n",
      "| stddev|  9.43261650673202|  9.43261650673202|\n",
      "|    min|              28.0|              28.0|\n",
      "|    max|              77.0|              77.0|\n",
      "+-------+------------------+------------------+\n",
      "\n"
     ]
    }
   ],
   "source": [
    "# compute summery statistics\n",
    "df.select(['Age', 'RestingBP']).describe().show()"
   ]
  },
  {
   "cell_type": "code",
   "execution_count": 29,
   "id": "ff0ead48",
   "metadata": {},
   "outputs": [],
   "source": [
    "# add a new column or replace existing one\n",
    "AgeFixed = df['Age'] + 1  # select alwayes returns a DataFrame object, and we need a column object\n",
    "df = df.withColumn('AgeFixed', AgeFixed)"
   ]
  },
  {
   "cell_type": "code",
   "execution_count": 30,
   "id": "a746bda1",
   "metadata": {},
   "outputs": [
    {
     "name": "stdout",
     "output_type": "stream",
     "text": [
      "+-------+------------------+------------------+\n",
      "|summary|          AgeFixed|               Age|\n",
      "+-------+------------------+------------------+\n",
      "|  count|               918|               918|\n",
      "|   mean|54.510893246187365|53.510893246187365|\n",
      "| stddev|  9.43261650673202|  9.43261650673202|\n",
      "|    min|              29.0|              28.0|\n",
      "|    max|              78.0|              77.0|\n",
      "+-------+------------------+------------------+\n",
      "\n"
     ]
    }
   ],
   "source": [
    "df.select(['AgeFixed', 'Age']).describe().show()"
   ]
  },
  {
   "cell_type": "code",
   "execution_count": 31,
   "id": "a6869701",
   "metadata": {},
   "outputs": [
    {
     "name": "stdout",
     "output_type": "stream",
     "text": [
      "+----+---+-------------+---------+-----------+---------+----------+-----+--------------+-------+--------+------------+\n",
      "| Age|Sex|ChestPainType|RestingBP|Cholesterol|FastingBS|RestingECG|MaxHR|ExerciseAngina|Oldpeak|ST_Slope|HeartDisease|\n",
      "+----+---+-------------+---------+-----------+---------+----------+-----+--------------+-------+--------+------------+\n",
      "|40.0|  M|          ATA|     40.0|        289|        0|    Normal|  172|             N|      0|      Up|           0|\n",
      "+----+---+-------------+---------+-----------+---------+----------+-----+--------------+-------+--------+------------+\n",
      "only showing top 1 row\n",
      "\n"
     ]
    }
   ],
   "source": [
    "# remove columns\n",
    "df.drop('AgeFixed').show(1)  # add df = to get the new DataFrame into a variable"
   ]
  },
  {
   "cell_type": "code",
   "execution_count": 32,
   "id": "c1a4e7f7",
   "metadata": {},
   "outputs": [
    {
     "name": "stdout",
     "output_type": "stream",
     "text": [
      "+----+\n",
      "| age|\n",
      "+----+\n",
      "|40.0|\n",
      "+----+\n",
      "only showing top 1 row\n",
      "\n"
     ]
    }
   ],
   "source": [
    "# rename a column\n",
    "df.withColumnRenamed('Age', 'age').select('age').show(1)\n",
    "# to rename more than a single column, i would suggest a loop.\n",
    "name_pairs = [('Age', 'age'), ('Sex', 'sex')]\n",
    "for old_name, new_name in name_pairs:\n",
    "    df = df.withColumnRenamed(old_name, new_name)"
   ]
  },
  {
   "cell_type": "code",
   "execution_count": 33,
   "id": "fda09676",
   "metadata": {},
   "outputs": [
    {
     "name": "stdout",
     "output_type": "stream",
     "text": [
      "+----+---+\n",
      "| age|sex|\n",
      "+----+---+\n",
      "|40.0|  M|\n",
      "+----+---+\n",
      "only showing top 1 row\n",
      "\n"
     ]
    }
   ],
   "source": [
    "df.select(['age','sex']).show(1)"
   ]
  },
  {
   "cell_type": "code",
   "execution_count": 34,
   "id": "bb5164af",
   "metadata": {},
   "outputs": [],
   "source": [
    "# drop all rows that contain any NA\n",
    "df = df.na.drop()\n",
    "df.count()\n",
    "# drop all rows where all values are NA\n",
    "df = df.na.drop(how='all')\n",
    "# drop all rows where more at least 2 values are NOT NA\n",
    "df = df.na.drop(thresh=2)\n",
    "# drop all rows where any value at specific columns are NAs.\n",
    "df = df.na.drop(how='any', subset=['age', 'sex'])  # 'any' is the defult"
   ]
  },
  {
   "cell_type": "code",
   "execution_count": 35,
   "id": "016d4554",
   "metadata": {},
   "outputs": [],
   "source": [
    "# fill missing values in a specific column with a '?'\n",
    "df = df.na.fill(value='?', subset=['sex'])\n",
    "# replace NAs with mean of column\n",
    "from pyspark.ml.feature import Imputer  # In statistics, imputation is the process of\n",
    "# replacing missing data with substituted values\n",
    "imptr = Imputer(inputCols=['age', 'RestingBP'],\n",
    "                outputCols=['age', 'RestingBP']).setStrategy('mean')  # can also be 'median' and so on\n",
    "\n",
    "df = imptr.fit(df).transform(df)"
   ]
  },
  {
   "cell_type": "code",
   "execution_count": 36,
   "id": "addb3a26",
   "metadata": {},
   "outputs": [
    {
     "data": {
      "text/plain": [
       "DataFrame[age: float, sex: string, ChestPainType: string, RestingBP: float, Cholesterol: string, FastingBS: string, RestingECG: string, MaxHR: string, ExerciseAngina: string, Oldpeak: string, ST_Slope: string, HeartDisease: string, AgeFixed: float]"
      ]
     },
     "execution_count": 36,
     "metadata": {},
     "output_type": "execute_result"
    }
   ],
   "source": [
    "# filter to adults only and calculate mean\n",
    "df.filter('age > 18')\n",
    "df.where('age > 18')  # 'where' is an alias to 'filter'\n",
    "df.where(df['age'] > 18)  # third option\n",
    "# add another condition ('&' means and, '|' means or)\n",
    "df.where((df['age'] > 18) | (df['ChestPainType'] == 'ATA'))\n",
    "# take every record where the 'ChestPainType' is NOT 'ATA'\n",
    "df.filter(~(df['ChestPainType'] == 'ATA'))"
   ]
  },
  {
   "cell_type": "code",
   "execution_count": 37,
   "id": "eecf9c64",
   "metadata": {},
   "outputs": [
    {
     "name": "stdout",
     "output_type": "stream",
     "text": [
      "+----+---+-------------+---------+-----------+---------+----------+-----+--------------+-------+--------+------------+--------+\n",
      "| age|sex|ChestPainType|RestingBP|Cholesterol|FastingBS|RestingECG|MaxHR|ExerciseAngina|Oldpeak|ST_Slope|HeartDisease|AgeFixed|\n",
      "+----+---+-------------+---------+-----------+---------+----------+-----+--------------+-------+--------+------------+--------+\n",
      "|40.0|  M|          ATA|     40.0|        289|        0|    Normal|  172|             N|      0|      Up|           0|    41.0|\n",
      "|49.0|  F|          NAP|     49.0|        180|        0|    Normal|  156|             N|      1|    Flat|           1|    50.0|\n",
      "|37.0|  M|          ATA|     37.0|        283|        0|        ST|   98|             N|      0|      Up|           0|    38.0|\n",
      "|48.0|  F|          ASY|     48.0|        214|        0|    Normal|  108|             Y|    1.5|    Flat|           1|    49.0|\n",
      "|54.0|  M|          NAP|     54.0|        195|        0|    Normal|  122|             N|      0|      Up|           0|    55.0|\n",
      "|39.0|  M|          NAP|     39.0|        339|        0|    Normal|  170|             N|      0|      Up|           0|    40.0|\n",
      "|45.0|  F|          ATA|     45.0|        237|        0|    Normal|  170|             N|      0|      Up|           0|    46.0|\n",
      "|54.0|  M|          ATA|     54.0|        208|        0|    Normal|  142|             N|      0|      Up|           0|    55.0|\n",
      "|37.0|  M|          ASY|     37.0|        207|        0|    Normal|  130|             Y|    1.5|    Flat|           1|    38.0|\n",
      "|48.0|  F|          ATA|     48.0|        284|        0|    Normal|  120|             N|      0|      Up|           0|    49.0|\n",
      "|37.0|  F|          NAP|     37.0|        211|        0|    Normal|  142|             N|      0|      Up|           0|    38.0|\n",
      "|58.0|  M|          ATA|     58.0|        164|        0|        ST|   99|             Y|      2|    Flat|           1|    59.0|\n",
      "|39.0|  M|          ATA|     39.0|        204|        0|    Normal|  145|             N|      0|      Up|           0|    40.0|\n",
      "|49.0|  M|          ASY|     49.0|        234|        0|    Normal|  140|             Y|      1|    Flat|           1|    50.0|\n",
      "|42.0|  F|          NAP|     42.0|        211|        0|        ST|  137|             N|      0|      Up|           0|    43.0|\n",
      "|54.0|  F|          ATA|     54.0|        273|        0|    Normal|  150|             N|    1.5|    Flat|           0|    55.0|\n",
      "|38.0|  M|          ASY|     38.0|        196|        0|    Normal|  166|             N|      0|    Flat|           1|    39.0|\n",
      "|43.0|  F|          ATA|     43.0|        201|        0|    Normal|  165|             N|      0|      Up|           0|    44.0|\n",
      "|60.0|  M|          ASY|     60.0|        248|        0|    Normal|  125|             N|      1|    Flat|           1|    61.0|\n",
      "|36.0|  M|          ATA|     36.0|        267|        0|    Normal|  160|             N|      3|    Flat|           1|    37.0|\n",
      "+----+---+-------------+---------+-----------+---------+----------+-----+--------------+-------+--------+------------+--------+\n",
      "only showing top 20 rows\n",
      "\n"
     ]
    }
   ],
   "source": [
    "df.filter('age > 18').show()"
   ]
  },
  {
   "cell_type": "code",
   "execution_count": 38,
   "id": "22e645d8",
   "metadata": {},
   "outputs": [
    {
     "name": "stdout",
     "output_type": "stream",
     "text": [
      "+-------+\n",
      "|new_col|\n",
      "+-------+\n",
      "|   48.2|\n",
      "|   59.0|\n",
      "|   44.6|\n",
      "+-------+\n",
      "only showing top 3 rows\n",
      "\n"
     ]
    }
   ],
   "source": [
    "# evaluate a string expression into command\n",
    "from pyspark.sql.functions import expr\n",
    "\n",
    "exp = 'age + 0.2 * AgeFixed'\n",
    "df.withColumn('new_col', expr(exp)).select('new_col').show(3)"
   ]
  },
  {
   "cell_type": "code",
   "execution_count": 41,
   "id": "81a4ea32",
   "metadata": {},
   "outputs": [
    {
     "ename": "AnalysisException",
     "evalue": "Column '`avg(HeartDisease)`' does not exist. Did you mean one of the following? [avg(RestingBP), avg(AgeFixed), avg(age), age];\n'Project [age#3827, 'avg(HeartDisease)]\n+- Aggregate [age#3827], [age#3827, avg(age#3827) AS avg(age)#4471, avg(RestingBP#3828) AS avg(RestingBP)#4472, avg(AgeFixed#1689) AS avg(AgeFixed)#4473]\n   +- Project [cast(CASE WHEN isnull(cast(age#2815 as double)) THEN 53.510893246187365 WHEN (cast(age#2815 as double) = NaN) THEN 53.510893246187365 ELSE cast(age#2815 as double) END as float) AS age#3827, sex#3477, ChestPainType#517, cast(CASE WHEN isnull(cast(RestingBP#1125 as double)) THEN 53.510893246187365 WHEN (cast(RestingBP#1125 as double) = NaN) THEN 53.510893246187365 ELSE cast(RestingBP#1125 as double) END as float) AS RestingBP#3828, Cholesterol#519, FastingBS#520, RestingECG#521, MaxHR#522, ExerciseAngina#523, Oldpeak#524, ST_Slope#525, HeartDisease#526, AgeFixed#1689]\n      +- Project [age#2815, coalesce(sex#2829, cast(? as string)) AS sex#3477, ChestPainType#517, RestingBP#1125, Cholesterol#519, FastingBS#520, RestingECG#521, MaxHR#522, ExerciseAngina#523, Oldpeak#524, ST_Slope#525, HeartDisease#526, AgeFixed#1689]\n         +- Filter atleastnnonnulls(2, age#2815, sex#2829)\n            +- Filter atleastnnonnulls(2, age#2815, sex#2829, ChestPainType#517, RestingBP#1125, Cholesterol#519, FastingBS#520, RestingECG#521, MaxHR#522, ExerciseAngina#523, Oldpeak#524, ST_Slope#525, HeartDisease#526, AgeFixed#1689)\n               +- Filter atleastnnonnulls(1, age#2815, sex#2829, ChestPainType#517, RestingBP#1125, Cholesterol#519, FastingBS#520, RestingECG#521, MaxHR#522, ExerciseAngina#523, Oldpeak#524, ST_Slope#525, HeartDisease#526, AgeFixed#1689)\n                  +- Filter atleastnnonnulls(13, age#2815, sex#2829, ChestPainType#517, RestingBP#1125, Cholesterol#519, FastingBS#520, RestingECG#521, MaxHR#522, ExerciseAngina#523, Oldpeak#524, ST_Slope#525, HeartDisease#526, AgeFixed#1689)\n                     +- Project [age#2815, Sex#516 AS sex#2829, ChestPainType#517, RestingBP#1125, Cholesterol#519, FastingBS#520, RestingECG#521, MaxHR#522, ExerciseAngina#523, Oldpeak#524, ST_Slope#525, HeartDisease#526, AgeFixed#1689]\n                        +- Project [Age#1112 AS age#2815, Sex#516, ChestPainType#517, RestingBP#1125, Cholesterol#519, FastingBS#520, RestingECG#521, MaxHR#522, ExerciseAngina#523, Oldpeak#524, ST_Slope#525, HeartDisease#526, AgeFixed#1689]\n                           +- Project [Age#1112, Sex#516, ChestPainType#517, RestingBP#1125, Cholesterol#519, FastingBS#520, RestingECG#521, MaxHR#522, ExerciseAngina#523, Oldpeak#524, ST_Slope#525, HeartDisease#526, (Age#1112 + cast(1 as float)) AS AgeFixed#1689]\n                              +- Project [Age#1112, Sex#516, ChestPainType#517, cast(Age#1112 as float) AS RestingBP#1125, Cholesterol#519, FastingBS#520, RestingECG#521, MaxHR#522, ExerciseAngina#523, Oldpeak#524, ST_Slope#525, HeartDisease#526]\n                                 +- Project [cast(Age#515 as float) AS Age#1112, Sex#516, ChestPainType#517, RestingBP#518, Cholesterol#519, FastingBS#520, RestingECG#521, MaxHR#522, ExerciseAngina#523, Oldpeak#524, ST_Slope#525, HeartDisease#526]\n                                    +- Relation [Age#515,Sex#516,ChestPainType#517,RestingBP#518,Cholesterol#519,FastingBS#520,RestingECG#521,MaxHR#522,ExerciseAngina#523,Oldpeak#524,ST_Slope#525,HeartDisease#526] csv\n",
     "output_type": "error",
     "traceback": [
      "\u001b[1;31m---------------------------------------------------------------------------\u001b[0m",
      "\u001b[1;31mAnalysisException\u001b[0m                         Traceback (most recent call last)",
      "\u001b[1;32m~\\AppData\\Local\\Temp\\ipykernel_11320\\2908419520.py\u001b[0m in \u001b[0;36m<module>\u001b[1;34m\u001b[0m\n\u001b[0;32m      1\u001b[0m \u001b[1;31m# group by age\u001b[0m\u001b[1;33m\u001b[0m\u001b[1;33m\u001b[0m\u001b[0m\n\u001b[1;32m----> 2\u001b[1;33m \u001b[0mdisease_by_age\u001b[0m \u001b[1;33m=\u001b[0m \u001b[0mdf\u001b[0m\u001b[1;33m.\u001b[0m\u001b[0mgroupby\u001b[0m\u001b[1;33m(\u001b[0m\u001b[1;34m'age'\u001b[0m\u001b[1;33m)\u001b[0m\u001b[1;33m.\u001b[0m\u001b[0mmean\u001b[0m\u001b[1;33m(\u001b[0m\u001b[1;33m)\u001b[0m\u001b[1;33m.\u001b[0m\u001b[0mselect\u001b[0m\u001b[1;33m(\u001b[0m\u001b[1;33m[\u001b[0m\u001b[1;34m'age'\u001b[0m\u001b[1;33m,\u001b[0m \u001b[1;34m'avg(HeartDisease)'\u001b[0m\u001b[1;33m]\u001b[0m\u001b[1;33m)\u001b[0m\u001b[1;33m\u001b[0m\u001b[1;33m\u001b[0m\u001b[0m\n\u001b[0m\u001b[0;32m      3\u001b[0m \u001b[1;31m# sort values in desnding order\u001b[0m\u001b[1;33m\u001b[0m\u001b[1;33m\u001b[0m\u001b[0m\n\u001b[0;32m      4\u001b[0m \u001b[1;32mfrom\u001b[0m \u001b[0mpyspark\u001b[0m\u001b[1;33m.\u001b[0m\u001b[0msql\u001b[0m\u001b[1;33m.\u001b[0m\u001b[0mfunctions\u001b[0m \u001b[1;32mimport\u001b[0m \u001b[0mdesc\u001b[0m\u001b[1;33m\u001b[0m\u001b[1;33m\u001b[0m\u001b[0m\n\u001b[0;32m      5\u001b[0m \u001b[1;33m\u001b[0m\u001b[0m\n",
      "\u001b[1;32m~\\anaconda3\\lib\\site-packages\\pyspark\\sql\\dataframe.py\u001b[0m in \u001b[0;36mselect\u001b[1;34m(self, *cols)\u001b[0m\n\u001b[0;32m   3034\u001b[0m         \u001b[1;33m+\u001b[0m\u001b[1;33m-\u001b[0m\u001b[1;33m-\u001b[0m\u001b[1;33m-\u001b[0m\u001b[1;33m-\u001b[0m\u001b[1;33m-\u001b[0m\u001b[1;33m+\u001b[0m\u001b[1;33m-\u001b[0m\u001b[1;33m-\u001b[0m\u001b[1;33m-\u001b[0m\u001b[1;33m+\u001b[0m\u001b[1;33m\u001b[0m\u001b[1;33m\u001b[0m\u001b[0m\n\u001b[0;32m   3035\u001b[0m         \"\"\"\n\u001b[1;32m-> 3036\u001b[1;33m         \u001b[0mjdf\u001b[0m \u001b[1;33m=\u001b[0m \u001b[0mself\u001b[0m\u001b[1;33m.\u001b[0m\u001b[0m_jdf\u001b[0m\u001b[1;33m.\u001b[0m\u001b[0mselect\u001b[0m\u001b[1;33m(\u001b[0m\u001b[0mself\u001b[0m\u001b[1;33m.\u001b[0m\u001b[0m_jcols\u001b[0m\u001b[1;33m(\u001b[0m\u001b[1;33m*\u001b[0m\u001b[0mcols\u001b[0m\u001b[1;33m)\u001b[0m\u001b[1;33m)\u001b[0m\u001b[1;33m\u001b[0m\u001b[1;33m\u001b[0m\u001b[0m\n\u001b[0m\u001b[0;32m   3037\u001b[0m         \u001b[1;32mreturn\u001b[0m \u001b[0mDataFrame\u001b[0m\u001b[1;33m(\u001b[0m\u001b[0mjdf\u001b[0m\u001b[1;33m,\u001b[0m \u001b[0mself\u001b[0m\u001b[1;33m.\u001b[0m\u001b[0msparkSession\u001b[0m\u001b[1;33m)\u001b[0m\u001b[1;33m\u001b[0m\u001b[1;33m\u001b[0m\u001b[0m\n\u001b[0;32m   3038\u001b[0m \u001b[1;33m\u001b[0m\u001b[0m\n",
      "\u001b[1;32m~\\anaconda3\\lib\\site-packages\\py4j\\java_gateway.py\u001b[0m in \u001b[0;36m__call__\u001b[1;34m(self, *args)\u001b[0m\n\u001b[0;32m   1320\u001b[0m         \u001b[0manswer\u001b[0m \u001b[1;33m=\u001b[0m \u001b[0mself\u001b[0m\u001b[1;33m.\u001b[0m\u001b[0mgateway_client\u001b[0m\u001b[1;33m.\u001b[0m\u001b[0msend_command\u001b[0m\u001b[1;33m(\u001b[0m\u001b[0mcommand\u001b[0m\u001b[1;33m)\u001b[0m\u001b[1;33m\u001b[0m\u001b[1;33m\u001b[0m\u001b[0m\n\u001b[0;32m   1321\u001b[0m         return_value = get_return_value(\n\u001b[1;32m-> 1322\u001b[1;33m             answer, self.gateway_client, self.target_id, self.name)\n\u001b[0m\u001b[0;32m   1323\u001b[0m \u001b[1;33m\u001b[0m\u001b[0m\n\u001b[0;32m   1324\u001b[0m         \u001b[1;32mfor\u001b[0m \u001b[0mtemp_arg\u001b[0m \u001b[1;32min\u001b[0m \u001b[0mtemp_args\u001b[0m\u001b[1;33m:\u001b[0m\u001b[1;33m\u001b[0m\u001b[1;33m\u001b[0m\u001b[0m\n",
      "\u001b[1;32m~\\anaconda3\\lib\\site-packages\\pyspark\\errors\\exceptions\\captured.py\u001b[0m in \u001b[0;36mdeco\u001b[1;34m(*a, **kw)\u001b[0m\n\u001b[0;32m    173\u001b[0m                 \u001b[1;31m# Hide where the exception came from that shows a non-Pythonic\u001b[0m\u001b[1;33m\u001b[0m\u001b[1;33m\u001b[0m\u001b[0m\n\u001b[0;32m    174\u001b[0m                 \u001b[1;31m# JVM exception message.\u001b[0m\u001b[1;33m\u001b[0m\u001b[1;33m\u001b[0m\u001b[0m\n\u001b[1;32m--> 175\u001b[1;33m                 \u001b[1;32mraise\u001b[0m \u001b[0mconverted\u001b[0m \u001b[1;32mfrom\u001b[0m \u001b[1;32mNone\u001b[0m\u001b[1;33m\u001b[0m\u001b[1;33m\u001b[0m\u001b[0m\n\u001b[0m\u001b[0;32m    176\u001b[0m             \u001b[1;32melse\u001b[0m\u001b[1;33m:\u001b[0m\u001b[1;33m\u001b[0m\u001b[1;33m\u001b[0m\u001b[0m\n\u001b[0;32m    177\u001b[0m                 \u001b[1;32mraise\u001b[0m\u001b[1;33m\u001b[0m\u001b[1;33m\u001b[0m\u001b[0m\n",
      "\u001b[1;31mAnalysisException\u001b[0m: Column '`avg(HeartDisease)`' does not exist. Did you mean one of the following? [avg(RestingBP), avg(AgeFixed), avg(age), age];\n'Project [age#3827, 'avg(HeartDisease)]\n+- Aggregate [age#3827], [age#3827, avg(age#3827) AS avg(age)#4471, avg(RestingBP#3828) AS avg(RestingBP)#4472, avg(AgeFixed#1689) AS avg(AgeFixed)#4473]\n   +- Project [cast(CASE WHEN isnull(cast(age#2815 as double)) THEN 53.510893246187365 WHEN (cast(age#2815 as double) = NaN) THEN 53.510893246187365 ELSE cast(age#2815 as double) END as float) AS age#3827, sex#3477, ChestPainType#517, cast(CASE WHEN isnull(cast(RestingBP#1125 as double)) THEN 53.510893246187365 WHEN (cast(RestingBP#1125 as double) = NaN) THEN 53.510893246187365 ELSE cast(RestingBP#1125 as double) END as float) AS RestingBP#3828, Cholesterol#519, FastingBS#520, RestingECG#521, MaxHR#522, ExerciseAngina#523, Oldpeak#524, ST_Slope#525, HeartDisease#526, AgeFixed#1689]\n      +- Project [age#2815, coalesce(sex#2829, cast(? as string)) AS sex#3477, ChestPainType#517, RestingBP#1125, Cholesterol#519, FastingBS#520, RestingECG#521, MaxHR#522, ExerciseAngina#523, Oldpeak#524, ST_Slope#525, HeartDisease#526, AgeFixed#1689]\n         +- Filter atleastnnonnulls(2, age#2815, sex#2829)\n            +- Filter atleastnnonnulls(2, age#2815, sex#2829, ChestPainType#517, RestingBP#1125, Cholesterol#519, FastingBS#520, RestingECG#521, MaxHR#522, ExerciseAngina#523, Oldpeak#524, ST_Slope#525, HeartDisease#526, AgeFixed#1689)\n               +- Filter atleastnnonnulls(1, age#2815, sex#2829, ChestPainType#517, RestingBP#1125, Cholesterol#519, FastingBS#520, RestingECG#521, MaxHR#522, ExerciseAngina#523, Oldpeak#524, ST_Slope#525, HeartDisease#526, AgeFixed#1689)\n                  +- Filter atleastnnonnulls(13, age#2815, sex#2829, ChestPainType#517, RestingBP#1125, Cholesterol#519, FastingBS#520, RestingECG#521, MaxHR#522, ExerciseAngina#523, Oldpeak#524, ST_Slope#525, HeartDisease#526, AgeFixed#1689)\n                     +- Project [age#2815, Sex#516 AS sex#2829, ChestPainType#517, RestingBP#1125, Cholesterol#519, FastingBS#520, RestingECG#521, MaxHR#522, ExerciseAngina#523, Oldpeak#524, ST_Slope#525, HeartDisease#526, AgeFixed#1689]\n                        +- Project [Age#1112 AS age#2815, Sex#516, ChestPainType#517, RestingBP#1125, Cholesterol#519, FastingBS#520, RestingECG#521, MaxHR#522, ExerciseAngina#523, Oldpeak#524, ST_Slope#525, HeartDisease#526, AgeFixed#1689]\n                           +- Project [Age#1112, Sex#516, ChestPainType#517, RestingBP#1125, Cholesterol#519, FastingBS#520, RestingECG#521, MaxHR#522, ExerciseAngina#523, Oldpeak#524, ST_Slope#525, HeartDisease#526, (Age#1112 + cast(1 as float)) AS AgeFixed#1689]\n                              +- Project [Age#1112, Sex#516, ChestPainType#517, cast(Age#1112 as float) AS RestingBP#1125, Cholesterol#519, FastingBS#520, RestingECG#521, MaxHR#522, ExerciseAngina#523, Oldpeak#524, ST_Slope#525, HeartDisease#526]\n                                 +- Project [cast(Age#515 as float) AS Age#1112, Sex#516, ChestPainType#517, RestingBP#518, Cholesterol#519, FastingBS#520, RestingECG#521, MaxHR#522, ExerciseAngina#523, Oldpeak#524, ST_Slope#525, HeartDisease#526]\n                                    +- Relation [Age#515,Sex#516,ChestPainType#517,RestingBP#518,Cholesterol#519,FastingBS#520,RestingECG#521,MaxHR#522,ExerciseAngina#523,Oldpeak#524,ST_Slope#525,HeartDisease#526] csv\n"
     ]
    }
   ],
   "source": [
    "# group by age\n",
    "disease_by_age = df.groupby('age').mean().select(['age', 'avg(HeartDisease)'])\n",
    "# sort values in desnding order\n",
    "from pyspark.sql.functions import desc\n",
    "\n",
    "disease_by_age.orderBy(desc(\"age\")).show(5)"
   ]
  },
  {
   "cell_type": "code",
   "execution_count": 42,
   "id": "d836d3c8",
   "metadata": {},
   "outputs": [
    {
     "ename": "AnalysisException",
     "evalue": "Column '`avg(HeartDisease)`' does not exist. Did you mean one of the following? [avg(RestingBP), avg(AgeFixed), avg(age), age];\n'Project [age#3827, 'avg(HeartDisease)]\n+- Aggregate [age#3827], [age#3827, avg(age#3827) AS avg(age)#4494, avg(RestingBP#3828) AS avg(RestingBP)#4495, avg(AgeFixed#1689) AS avg(AgeFixed)#4496]\n   +- Project [cast(CASE WHEN isnull(cast(age#2815 as double)) THEN 53.510893246187365 WHEN (cast(age#2815 as double) = NaN) THEN 53.510893246187365 ELSE cast(age#2815 as double) END as float) AS age#3827, sex#3477, ChestPainType#517, cast(CASE WHEN isnull(cast(RestingBP#1125 as double)) THEN 53.510893246187365 WHEN (cast(RestingBP#1125 as double) = NaN) THEN 53.510893246187365 ELSE cast(RestingBP#1125 as double) END as float) AS RestingBP#3828, Cholesterol#519, FastingBS#520, RestingECG#521, MaxHR#522, ExerciseAngina#523, Oldpeak#524, ST_Slope#525, HeartDisease#526, AgeFixed#1689]\n      +- Project [age#2815, coalesce(sex#2829, cast(? as string)) AS sex#3477, ChestPainType#517, RestingBP#1125, Cholesterol#519, FastingBS#520, RestingECG#521, MaxHR#522, ExerciseAngina#523, Oldpeak#524, ST_Slope#525, HeartDisease#526, AgeFixed#1689]\n         +- Filter atleastnnonnulls(2, age#2815, sex#2829)\n            +- Filter atleastnnonnulls(2, age#2815, sex#2829, ChestPainType#517, RestingBP#1125, Cholesterol#519, FastingBS#520, RestingECG#521, MaxHR#522, ExerciseAngina#523, Oldpeak#524, ST_Slope#525, HeartDisease#526, AgeFixed#1689)\n               +- Filter atleastnnonnulls(1, age#2815, sex#2829, ChestPainType#517, RestingBP#1125, Cholesterol#519, FastingBS#520, RestingECG#521, MaxHR#522, ExerciseAngina#523, Oldpeak#524, ST_Slope#525, HeartDisease#526, AgeFixed#1689)\n                  +- Filter atleastnnonnulls(13, age#2815, sex#2829, ChestPainType#517, RestingBP#1125, Cholesterol#519, FastingBS#520, RestingECG#521, MaxHR#522, ExerciseAngina#523, Oldpeak#524, ST_Slope#525, HeartDisease#526, AgeFixed#1689)\n                     +- Project [age#2815, Sex#516 AS sex#2829, ChestPainType#517, RestingBP#1125, Cholesterol#519, FastingBS#520, RestingECG#521, MaxHR#522, ExerciseAngina#523, Oldpeak#524, ST_Slope#525, HeartDisease#526, AgeFixed#1689]\n                        +- Project [Age#1112 AS age#2815, Sex#516, ChestPainType#517, RestingBP#1125, Cholesterol#519, FastingBS#520, RestingECG#521, MaxHR#522, ExerciseAngina#523, Oldpeak#524, ST_Slope#525, HeartDisease#526, AgeFixed#1689]\n                           +- Project [Age#1112, Sex#516, ChestPainType#517, RestingBP#1125, Cholesterol#519, FastingBS#520, RestingECG#521, MaxHR#522, ExerciseAngina#523, Oldpeak#524, ST_Slope#525, HeartDisease#526, (Age#1112 + cast(1 as float)) AS AgeFixed#1689]\n                              +- Project [Age#1112, Sex#516, ChestPainType#517, cast(Age#1112 as float) AS RestingBP#1125, Cholesterol#519, FastingBS#520, RestingECG#521, MaxHR#522, ExerciseAngina#523, Oldpeak#524, ST_Slope#525, HeartDisease#526]\n                                 +- Project [cast(Age#515 as float) AS Age#1112, Sex#516, ChestPainType#517, RestingBP#518, Cholesterol#519, FastingBS#520, RestingECG#521, MaxHR#522, ExerciseAngina#523, Oldpeak#524, ST_Slope#525, HeartDisease#526]\n                                    +- Relation [Age#515,Sex#516,ChestPainType#517,RestingBP#518,Cholesterol#519,FastingBS#520,RestingECG#521,MaxHR#522,ExerciseAngina#523,Oldpeak#524,ST_Slope#525,HeartDisease#526] csv\n",
     "output_type": "error",
     "traceback": [
      "\u001b[1;31m---------------------------------------------------------------------------\u001b[0m",
      "\u001b[1;31mAnalysisException\u001b[0m                         Traceback (most recent call last)",
      "\u001b[1;32m~\\AppData\\Local\\Temp\\ipykernel_11320\\2208784539.py\u001b[0m in \u001b[0;36m<module>\u001b[1;34m\u001b[0m\n\u001b[0;32m      1\u001b[0m \u001b[1;32mfrom\u001b[0m \u001b[0mpyspark\u001b[0m\u001b[1;33m.\u001b[0m\u001b[0msql\u001b[0m\u001b[1;33m.\u001b[0m\u001b[0mfunctions\u001b[0m \u001b[1;32mimport\u001b[0m \u001b[0masc\u001b[0m\u001b[1;33m\u001b[0m\u001b[1;33m\u001b[0m\u001b[0m\n\u001b[0;32m      2\u001b[0m \u001b[1;33m\u001b[0m\u001b[0m\n\u001b[1;32m----> 3\u001b[1;33m \u001b[0mdisease_by_age\u001b[0m \u001b[1;33m=\u001b[0m \u001b[0mdf\u001b[0m\u001b[1;33m.\u001b[0m\u001b[0mgroupby\u001b[0m\u001b[1;33m(\u001b[0m\u001b[1;34m'age'\u001b[0m\u001b[1;33m)\u001b[0m\u001b[1;33m.\u001b[0m\u001b[0mmean\u001b[0m\u001b[1;33m(\u001b[0m\u001b[1;33m)\u001b[0m\u001b[1;33m.\u001b[0m\u001b[0mselect\u001b[0m\u001b[1;33m(\u001b[0m\u001b[1;33m[\u001b[0m\u001b[1;34m'age'\u001b[0m\u001b[1;33m,\u001b[0m \u001b[1;34m'avg(HeartDisease)'\u001b[0m\u001b[1;33m]\u001b[0m\u001b[1;33m)\u001b[0m\u001b[1;33m\u001b[0m\u001b[1;33m\u001b[0m\u001b[0m\n\u001b[0m\u001b[0;32m      4\u001b[0m \u001b[0mdisease_by_age\u001b[0m\u001b[1;33m.\u001b[0m\u001b[0morderBy\u001b[0m\u001b[1;33m(\u001b[0m\u001b[0mdesc\u001b[0m\u001b[1;33m(\u001b[0m\u001b[1;34m\"age\"\u001b[0m\u001b[1;33m)\u001b[0m\u001b[1;33m)\u001b[0m\u001b[1;33m.\u001b[0m\u001b[0mshow\u001b[0m\u001b[1;33m(\u001b[0m\u001b[1;36m3\u001b[0m\u001b[1;33m)\u001b[0m\u001b[1;33m\u001b[0m\u001b[1;33m\u001b[0m\u001b[0m\n",
      "\u001b[1;32m~\\anaconda3\\lib\\site-packages\\pyspark\\sql\\dataframe.py\u001b[0m in \u001b[0;36mselect\u001b[1;34m(self, *cols)\u001b[0m\n\u001b[0;32m   3034\u001b[0m         \u001b[1;33m+\u001b[0m\u001b[1;33m-\u001b[0m\u001b[1;33m-\u001b[0m\u001b[1;33m-\u001b[0m\u001b[1;33m-\u001b[0m\u001b[1;33m-\u001b[0m\u001b[1;33m+\u001b[0m\u001b[1;33m-\u001b[0m\u001b[1;33m-\u001b[0m\u001b[1;33m-\u001b[0m\u001b[1;33m+\u001b[0m\u001b[1;33m\u001b[0m\u001b[1;33m\u001b[0m\u001b[0m\n\u001b[0;32m   3035\u001b[0m         \"\"\"\n\u001b[1;32m-> 3036\u001b[1;33m         \u001b[0mjdf\u001b[0m \u001b[1;33m=\u001b[0m \u001b[0mself\u001b[0m\u001b[1;33m.\u001b[0m\u001b[0m_jdf\u001b[0m\u001b[1;33m.\u001b[0m\u001b[0mselect\u001b[0m\u001b[1;33m(\u001b[0m\u001b[0mself\u001b[0m\u001b[1;33m.\u001b[0m\u001b[0m_jcols\u001b[0m\u001b[1;33m(\u001b[0m\u001b[1;33m*\u001b[0m\u001b[0mcols\u001b[0m\u001b[1;33m)\u001b[0m\u001b[1;33m)\u001b[0m\u001b[1;33m\u001b[0m\u001b[1;33m\u001b[0m\u001b[0m\n\u001b[0m\u001b[0;32m   3037\u001b[0m         \u001b[1;32mreturn\u001b[0m \u001b[0mDataFrame\u001b[0m\u001b[1;33m(\u001b[0m\u001b[0mjdf\u001b[0m\u001b[1;33m,\u001b[0m \u001b[0mself\u001b[0m\u001b[1;33m.\u001b[0m\u001b[0msparkSession\u001b[0m\u001b[1;33m)\u001b[0m\u001b[1;33m\u001b[0m\u001b[1;33m\u001b[0m\u001b[0m\n\u001b[0;32m   3038\u001b[0m \u001b[1;33m\u001b[0m\u001b[0m\n",
      "\u001b[1;32m~\\anaconda3\\lib\\site-packages\\py4j\\java_gateway.py\u001b[0m in \u001b[0;36m__call__\u001b[1;34m(self, *args)\u001b[0m\n\u001b[0;32m   1320\u001b[0m         \u001b[0manswer\u001b[0m \u001b[1;33m=\u001b[0m \u001b[0mself\u001b[0m\u001b[1;33m.\u001b[0m\u001b[0mgateway_client\u001b[0m\u001b[1;33m.\u001b[0m\u001b[0msend_command\u001b[0m\u001b[1;33m(\u001b[0m\u001b[0mcommand\u001b[0m\u001b[1;33m)\u001b[0m\u001b[1;33m\u001b[0m\u001b[1;33m\u001b[0m\u001b[0m\n\u001b[0;32m   1321\u001b[0m         return_value = get_return_value(\n\u001b[1;32m-> 1322\u001b[1;33m             answer, self.gateway_client, self.target_id, self.name)\n\u001b[0m\u001b[0;32m   1323\u001b[0m \u001b[1;33m\u001b[0m\u001b[0m\n\u001b[0;32m   1324\u001b[0m         \u001b[1;32mfor\u001b[0m \u001b[0mtemp_arg\u001b[0m \u001b[1;32min\u001b[0m \u001b[0mtemp_args\u001b[0m\u001b[1;33m:\u001b[0m\u001b[1;33m\u001b[0m\u001b[1;33m\u001b[0m\u001b[0m\n",
      "\u001b[1;32m~\\anaconda3\\lib\\site-packages\\pyspark\\errors\\exceptions\\captured.py\u001b[0m in \u001b[0;36mdeco\u001b[1;34m(*a, **kw)\u001b[0m\n\u001b[0;32m    173\u001b[0m                 \u001b[1;31m# Hide where the exception came from that shows a non-Pythonic\u001b[0m\u001b[1;33m\u001b[0m\u001b[1;33m\u001b[0m\u001b[0m\n\u001b[0;32m    174\u001b[0m                 \u001b[1;31m# JVM exception message.\u001b[0m\u001b[1;33m\u001b[0m\u001b[1;33m\u001b[0m\u001b[0m\n\u001b[1;32m--> 175\u001b[1;33m                 \u001b[1;32mraise\u001b[0m \u001b[0mconverted\u001b[0m \u001b[1;32mfrom\u001b[0m \u001b[1;32mNone\u001b[0m\u001b[1;33m\u001b[0m\u001b[1;33m\u001b[0m\u001b[0m\n\u001b[0m\u001b[0;32m    176\u001b[0m             \u001b[1;32melse\u001b[0m\u001b[1;33m:\u001b[0m\u001b[1;33m\u001b[0m\u001b[1;33m\u001b[0m\u001b[0m\n\u001b[0;32m    177\u001b[0m                 \u001b[1;32mraise\u001b[0m\u001b[1;33m\u001b[0m\u001b[1;33m\u001b[0m\u001b[0m\n",
      "\u001b[1;31mAnalysisException\u001b[0m: Column '`avg(HeartDisease)`' does not exist. Did you mean one of the following? [avg(RestingBP), avg(AgeFixed), avg(age), age];\n'Project [age#3827, 'avg(HeartDisease)]\n+- Aggregate [age#3827], [age#3827, avg(age#3827) AS avg(age)#4494, avg(RestingBP#3828) AS avg(RestingBP)#4495, avg(AgeFixed#1689) AS avg(AgeFixed)#4496]\n   +- Project [cast(CASE WHEN isnull(cast(age#2815 as double)) THEN 53.510893246187365 WHEN (cast(age#2815 as double) = NaN) THEN 53.510893246187365 ELSE cast(age#2815 as double) END as float) AS age#3827, sex#3477, ChestPainType#517, cast(CASE WHEN isnull(cast(RestingBP#1125 as double)) THEN 53.510893246187365 WHEN (cast(RestingBP#1125 as double) = NaN) THEN 53.510893246187365 ELSE cast(RestingBP#1125 as double) END as float) AS RestingBP#3828, Cholesterol#519, FastingBS#520, RestingECG#521, MaxHR#522, ExerciseAngina#523, Oldpeak#524, ST_Slope#525, HeartDisease#526, AgeFixed#1689]\n      +- Project [age#2815, coalesce(sex#2829, cast(? as string)) AS sex#3477, ChestPainType#517, RestingBP#1125, Cholesterol#519, FastingBS#520, RestingECG#521, MaxHR#522, ExerciseAngina#523, Oldpeak#524, ST_Slope#525, HeartDisease#526, AgeFixed#1689]\n         +- Filter atleastnnonnulls(2, age#2815, sex#2829)\n            +- Filter atleastnnonnulls(2, age#2815, sex#2829, ChestPainType#517, RestingBP#1125, Cholesterol#519, FastingBS#520, RestingECG#521, MaxHR#522, ExerciseAngina#523, Oldpeak#524, ST_Slope#525, HeartDisease#526, AgeFixed#1689)\n               +- Filter atleastnnonnulls(1, age#2815, sex#2829, ChestPainType#517, RestingBP#1125, Cholesterol#519, FastingBS#520, RestingECG#521, MaxHR#522, ExerciseAngina#523, Oldpeak#524, ST_Slope#525, HeartDisease#526, AgeFixed#1689)\n                  +- Filter atleastnnonnulls(13, age#2815, sex#2829, ChestPainType#517, RestingBP#1125, Cholesterol#519, FastingBS#520, RestingECG#521, MaxHR#522, ExerciseAngina#523, Oldpeak#524, ST_Slope#525, HeartDisease#526, AgeFixed#1689)\n                     +- Project [age#2815, Sex#516 AS sex#2829, ChestPainType#517, RestingBP#1125, Cholesterol#519, FastingBS#520, RestingECG#521, MaxHR#522, ExerciseAngina#523, Oldpeak#524, ST_Slope#525, HeartDisease#526, AgeFixed#1689]\n                        +- Project [Age#1112 AS age#2815, Sex#516, ChestPainType#517, RestingBP#1125, Cholesterol#519, FastingBS#520, RestingECG#521, MaxHR#522, ExerciseAngina#523, Oldpeak#524, ST_Slope#525, HeartDisease#526, AgeFixed#1689]\n                           +- Project [Age#1112, Sex#516, ChestPainType#517, RestingBP#1125, Cholesterol#519, FastingBS#520, RestingECG#521, MaxHR#522, ExerciseAngina#523, Oldpeak#524, ST_Slope#525, HeartDisease#526, (Age#1112 + cast(1 as float)) AS AgeFixed#1689]\n                              +- Project [Age#1112, Sex#516, ChestPainType#517, cast(Age#1112 as float) AS RestingBP#1125, Cholesterol#519, FastingBS#520, RestingECG#521, MaxHR#522, ExerciseAngina#523, Oldpeak#524, ST_Slope#525, HeartDisease#526]\n                                 +- Project [cast(Age#515 as float) AS Age#1112, Sex#516, ChestPainType#517, RestingBP#518, Cholesterol#519, FastingBS#520, RestingECG#521, MaxHR#522, ExerciseAngina#523, Oldpeak#524, ST_Slope#525, HeartDisease#526]\n                                    +- Relation [Age#515,Sex#516,ChestPainType#517,RestingBP#518,Cholesterol#519,FastingBS#520,RestingECG#521,MaxHR#522,ExerciseAngina#523,Oldpeak#524,ST_Slope#525,HeartDisease#526] csv\n"
     ]
    }
   ],
   "source": [
    "from pyspark.sql.functions import asc\n",
    "\n",
    "disease_by_age = df.groupby('age').mean().select(['age', 'avg(HeartDisease)'])\n",
    "disease_by_age.orderBy(desc(\"age\")).show(3)"
   ]
  },
  {
   "cell_type": "code",
   "execution_count": 43,
   "id": "7a687f7c",
   "metadata": {},
   "outputs": [
    {
     "name": "stdout",
     "output_type": "stream",
     "text": [
      "+--------+--------+--------+\n",
      "|min(age)|max(age)|avg(sex)|\n",
      "+--------+--------+--------+\n",
      "|    28.0|    77.0|    null|\n",
      "+--------+--------+--------+\n",
      "\n"
     ]
    }
   ],
   "source": [
    "# aggregate to get several statistics for several columns\n",
    "# the available aggregate functions are avg, max, min, sum, count\n",
    "from pyspark.sql import functions as F\n",
    "\n",
    "df.agg(F.min(df['age']), F.max(df['age']), F.avg(df['sex'])).show()"
   ]
  },
  {
   "cell_type": "code",
   "execution_count": 44,
   "id": "e07c1dda",
   "metadata": {},
   "outputs": [
    {
     "name": "stdout",
     "output_type": "stream",
     "text": [
      "+------------+--------+--------+\n",
      "|HeartDisease|min(age)|avg(sex)|\n",
      "+------------+--------+--------+\n",
      "|           0|    28.0|    null|\n",
      "|           1|    31.0|    null|\n",
      "+------------+--------+--------+\n",
      "\n"
     ]
    }
   ],
   "source": [
    "df.groupby('HeartDisease').agg(F.min(df['age']), F.avg(df['sex'])).show()"
   ]
  },
  {
   "cell_type": "code",
   "execution_count": 45,
   "id": "e605bfab",
   "metadata": {},
   "outputs": [
    {
     "ename": "Py4JError",
     "evalue": "An error occurred while calling o24.sql. Trace:\npy4j.Py4JException: Method sql([class java.lang.String, class java.util.HashMap]) does not exist\r\n\tat py4j.reflection.ReflectionEngine.getMethod(ReflectionEngine.java:318)\r\n\tat py4j.reflection.ReflectionEngine.getMethod(ReflectionEngine.java:326)\r\n\tat py4j.Gateway.invoke(Gateway.java:274)\r\n\tat py4j.commands.AbstractCommand.invokeMethod(AbstractCommand.java:132)\r\n\tat py4j.commands.CallCommand.execute(CallCommand.java:79)\r\n\tat py4j.ClientServerConnection.waitForCommands(ClientServerConnection.java:182)\r\n\tat py4j.ClientServerConnection.run(ClientServerConnection.java:106)\r\n\tat java.base/java.lang.Thread.run(Thread.java:833)\r\n\n",
     "output_type": "error",
     "traceback": [
      "\u001b[1;31m---------------------------------------------------------------------------\u001b[0m",
      "\u001b[1;31mPy4JError\u001b[0m                                 Traceback (most recent call last)",
      "\u001b[1;32m~\\AppData\\Local\\Temp\\ipykernel_11320\\764448441.py\u001b[0m in \u001b[0;36m<module>\u001b[1;34m\u001b[0m\n\u001b[0;32m      2\u001b[0m df.createOrReplaceTempView(\n\u001b[0;32m      3\u001b[0m     \"df\")  # tell PySpark how the table will be called in the SQL query\n\u001b[1;32m----> 4\u001b[1;33m \u001b[0mspark\u001b[0m\u001b[1;33m.\u001b[0m\u001b[0msql\u001b[0m\u001b[1;33m(\u001b[0m\u001b[1;34m\"\"\"SELECT sex from df\"\"\"\u001b[0m\u001b[1;33m)\u001b[0m\u001b[1;33m.\u001b[0m\u001b[0mshow\u001b[0m\u001b[1;33m(\u001b[0m\u001b[1;36m2\u001b[0m\u001b[1;33m)\u001b[0m\u001b[1;33m\u001b[0m\u001b[1;33m\u001b[0m\u001b[0m\n\u001b[0m\u001b[0;32m      5\u001b[0m \u001b[1;33m\u001b[0m\u001b[0m\n\u001b[0;32m      6\u001b[0m \u001b[1;31m# we also choose columns using SQL sytnx, with a command that combins '.select()' and '.sql()'\u001b[0m\u001b[1;33m\u001b[0m\u001b[1;33m\u001b[0m\u001b[0m\n",
      "\u001b[1;32m~\\anaconda3\\lib\\site-packages\\pyspark\\sql\\session.py\u001b[0m in \u001b[0;36msql\u001b[1;34m(self, sqlQuery, args, **kwargs)\u001b[0m\n\u001b[0;32m   1438\u001b[0m         \u001b[1;32mtry\u001b[0m\u001b[1;33m:\u001b[0m\u001b[1;33m\u001b[0m\u001b[1;33m\u001b[0m\u001b[0m\n\u001b[0;32m   1439\u001b[0m             \u001b[0mlitArgs\u001b[0m \u001b[1;33m=\u001b[0m \u001b[1;33m{\u001b[0m\u001b[0mk\u001b[0m\u001b[1;33m:\u001b[0m \u001b[0m_to_java_column\u001b[0m\u001b[1;33m(\u001b[0m\u001b[0mlit\u001b[0m\u001b[1;33m(\u001b[0m\u001b[0mv\u001b[0m\u001b[1;33m)\u001b[0m\u001b[1;33m)\u001b[0m \u001b[1;32mfor\u001b[0m \u001b[0mk\u001b[0m\u001b[1;33m,\u001b[0m \u001b[0mv\u001b[0m \u001b[1;32min\u001b[0m \u001b[1;33m(\u001b[0m\u001b[0margs\u001b[0m \u001b[1;32mor\u001b[0m \u001b[1;33m{\u001b[0m\u001b[1;33m}\u001b[0m\u001b[1;33m)\u001b[0m\u001b[1;33m.\u001b[0m\u001b[0mitems\u001b[0m\u001b[1;33m(\u001b[0m\u001b[1;33m)\u001b[0m\u001b[1;33m}\u001b[0m\u001b[1;33m\u001b[0m\u001b[1;33m\u001b[0m\u001b[0m\n\u001b[1;32m-> 1440\u001b[1;33m             \u001b[1;32mreturn\u001b[0m \u001b[0mDataFrame\u001b[0m\u001b[1;33m(\u001b[0m\u001b[0mself\u001b[0m\u001b[1;33m.\u001b[0m\u001b[0m_jsparkSession\u001b[0m\u001b[1;33m.\u001b[0m\u001b[0msql\u001b[0m\u001b[1;33m(\u001b[0m\u001b[0msqlQuery\u001b[0m\u001b[1;33m,\u001b[0m \u001b[0mlitArgs\u001b[0m\u001b[1;33m)\u001b[0m\u001b[1;33m,\u001b[0m \u001b[0mself\u001b[0m\u001b[1;33m)\u001b[0m\u001b[1;33m\u001b[0m\u001b[1;33m\u001b[0m\u001b[0m\n\u001b[0m\u001b[0;32m   1441\u001b[0m         \u001b[1;32mfinally\u001b[0m\u001b[1;33m:\u001b[0m\u001b[1;33m\u001b[0m\u001b[1;33m\u001b[0m\u001b[0m\n\u001b[0;32m   1442\u001b[0m             \u001b[1;32mif\u001b[0m \u001b[0mlen\u001b[0m\u001b[1;33m(\u001b[0m\u001b[0mkwargs\u001b[0m\u001b[1;33m)\u001b[0m \u001b[1;33m>\u001b[0m \u001b[1;36m0\u001b[0m\u001b[1;33m:\u001b[0m\u001b[1;33m\u001b[0m\u001b[1;33m\u001b[0m\u001b[0m\n",
      "\u001b[1;32m~\\anaconda3\\lib\\site-packages\\py4j\\java_gateway.py\u001b[0m in \u001b[0;36m__call__\u001b[1;34m(self, *args)\u001b[0m\n\u001b[0;32m   1320\u001b[0m         \u001b[0manswer\u001b[0m \u001b[1;33m=\u001b[0m \u001b[0mself\u001b[0m\u001b[1;33m.\u001b[0m\u001b[0mgateway_client\u001b[0m\u001b[1;33m.\u001b[0m\u001b[0msend_command\u001b[0m\u001b[1;33m(\u001b[0m\u001b[0mcommand\u001b[0m\u001b[1;33m)\u001b[0m\u001b[1;33m\u001b[0m\u001b[1;33m\u001b[0m\u001b[0m\n\u001b[0;32m   1321\u001b[0m         return_value = get_return_value(\n\u001b[1;32m-> 1322\u001b[1;33m             answer, self.gateway_client, self.target_id, self.name)\n\u001b[0m\u001b[0;32m   1323\u001b[0m \u001b[1;33m\u001b[0m\u001b[0m\n\u001b[0;32m   1324\u001b[0m         \u001b[1;32mfor\u001b[0m \u001b[0mtemp_arg\u001b[0m \u001b[1;32min\u001b[0m \u001b[0mtemp_args\u001b[0m\u001b[1;33m:\u001b[0m\u001b[1;33m\u001b[0m\u001b[1;33m\u001b[0m\u001b[0m\n",
      "\u001b[1;32m~\\anaconda3\\lib\\site-packages\\pyspark\\errors\\exceptions\\captured.py\u001b[0m in \u001b[0;36mdeco\u001b[1;34m(*a, **kw)\u001b[0m\n\u001b[0;32m    167\u001b[0m     \u001b[1;32mdef\u001b[0m \u001b[0mdeco\u001b[0m\u001b[1;33m(\u001b[0m\u001b[1;33m*\u001b[0m\u001b[0ma\u001b[0m\u001b[1;33m:\u001b[0m \u001b[0mAny\u001b[0m\u001b[1;33m,\u001b[0m \u001b[1;33m**\u001b[0m\u001b[0mkw\u001b[0m\u001b[1;33m:\u001b[0m \u001b[0mAny\u001b[0m\u001b[1;33m)\u001b[0m \u001b[1;33m->\u001b[0m \u001b[0mAny\u001b[0m\u001b[1;33m:\u001b[0m\u001b[1;33m\u001b[0m\u001b[1;33m\u001b[0m\u001b[0m\n\u001b[0;32m    168\u001b[0m         \u001b[1;32mtry\u001b[0m\u001b[1;33m:\u001b[0m\u001b[1;33m\u001b[0m\u001b[1;33m\u001b[0m\u001b[0m\n\u001b[1;32m--> 169\u001b[1;33m             \u001b[1;32mreturn\u001b[0m \u001b[0mf\u001b[0m\u001b[1;33m(\u001b[0m\u001b[1;33m*\u001b[0m\u001b[0ma\u001b[0m\u001b[1;33m,\u001b[0m \u001b[1;33m**\u001b[0m\u001b[0mkw\u001b[0m\u001b[1;33m)\u001b[0m\u001b[1;33m\u001b[0m\u001b[1;33m\u001b[0m\u001b[0m\n\u001b[0m\u001b[0;32m    170\u001b[0m         \u001b[1;32mexcept\u001b[0m \u001b[0mPy4JJavaError\u001b[0m \u001b[1;32mas\u001b[0m \u001b[0me\u001b[0m\u001b[1;33m:\u001b[0m\u001b[1;33m\u001b[0m\u001b[1;33m\u001b[0m\u001b[0m\n\u001b[0;32m    171\u001b[0m             \u001b[0mconverted\u001b[0m \u001b[1;33m=\u001b[0m \u001b[0mconvert_exception\u001b[0m\u001b[1;33m(\u001b[0m\u001b[0me\u001b[0m\u001b[1;33m.\u001b[0m\u001b[0mjava_exception\u001b[0m\u001b[1;33m)\u001b[0m\u001b[1;33m\u001b[0m\u001b[1;33m\u001b[0m\u001b[0m\n",
      "\u001b[1;32m~\\anaconda3\\lib\\site-packages\\py4j\\protocol.py\u001b[0m in \u001b[0;36mget_return_value\u001b[1;34m(answer, gateway_client, target_id, name)\u001b[0m\n\u001b[0;32m    328\u001b[0m                     format(target_id, \".\", name), value)\n\u001b[0;32m    329\u001b[0m             \u001b[1;32melse\u001b[0m\u001b[1;33m:\u001b[0m\u001b[1;33m\u001b[0m\u001b[1;33m\u001b[0m\u001b[0m\n\u001b[1;32m--> 330\u001b[1;33m                 raise Py4JError(\n\u001b[0m\u001b[0;32m    331\u001b[0m                     \u001b[1;34m\"An error occurred while calling {0}{1}{2}. Trace:\\n{3}\\n\"\u001b[0m\u001b[1;33m.\u001b[0m\u001b[1;33m\u001b[0m\u001b[1;33m\u001b[0m\u001b[0m\n\u001b[0;32m    332\u001b[0m                     format(target_id, \".\", name, value))\n",
      "\u001b[1;31mPy4JError\u001b[0m: An error occurred while calling o24.sql. Trace:\npy4j.Py4JException: Method sql([class java.lang.String, class java.util.HashMap]) does not exist\r\n\tat py4j.reflection.ReflectionEngine.getMethod(ReflectionEngine.java:318)\r\n\tat py4j.reflection.ReflectionEngine.getMethod(ReflectionEngine.java:326)\r\n\tat py4j.Gateway.invoke(Gateway.java:274)\r\n\tat py4j.commands.AbstractCommand.invokeMethod(AbstractCommand.java:132)\r\n\tat py4j.commands.CallCommand.execute(CallCommand.java:79)\r\n\tat py4j.ClientServerConnection.waitForCommands(ClientServerConnection.java:182)\r\n\tat py4j.ClientServerConnection.run(ClientServerConnection.java:106)\r\n\tat java.base/java.lang.Thread.run(Thread.java:833)\r\n\n"
     ]
    }
   ],
   "source": [
    "# run an SQL query on the data\n",
    "df.createOrReplaceTempView(\n",
    "    \"df\")  # tell PySpark how the table will be called in the SQL query\n",
    "spark.sql(\"\"\"SELECT sex from df\"\"\").show(2)\n",
    "\n",
    "# we also choose columns using SQL sytnx, with a command that combins '.select()' and '.sql()'\n",
    "df.selectExpr(\"age >= 40 as older\", \"age\").show(2)"
   ]
  },
  {
   "cell_type": "code",
   "execution_count": 46,
   "id": "bf8d265f",
   "metadata": {},
   "outputs": [
    {
     "ename": "SyntaxError",
     "evalue": "invalid character '›' (U+203A) (1117872887.py, line 1)",
     "output_type": "error",
     "traceback": [
      "\u001b[1;36m  File \u001b[1;32m\"C:\\Users\\lynst\\AppData\\Local\\Temp\\ipykernel_11320\\1117872887.py\"\u001b[1;36m, line \u001b[1;32m1\u001b[0m\n\u001b[1;33m    df.groupby('age').pivot('sex', (\"M\", \"F\")).count().show(3)›››\u001b[0m\n\u001b[1;37m                                                              ^\u001b[0m\n\u001b[1;31mSyntaxError\u001b[0m\u001b[1;31m:\u001b[0m invalid character '›' (U+203A)\n"
     ]
    }
   ],
   "source": [
    "df.groupby('age').pivot('sex', (\"M\", \"F\")).count().show(3)››› "
   ]
  },
  {
   "cell_type": "code",
   "execution_count": 47,
   "id": "e9ddc163",
   "metadata": {},
   "outputs": [
    {
     "name": "stdout",
     "output_type": "stream",
     "text": [
      "+---+----+-----+\n",
      "|sex|true|false|\n",
      "+---+----+-----+\n",
      "|  F| 174|   19|\n",
      "|  M| 664|   61|\n",
      "+---+----+-----+\n",
      "\n"
     ]
    }
   ],
   "source": [
    "# pivot - expensive operation\n",
    "df.selectExpr(\"age >= 40 as older\", \"age\",'sex').groupBy(\"sex\")\\\n",
    "                    .pivot(\"older\", (\"true\", \"false\")).count().show()"
   ]
  },
  {
   "cell_type": "code",
   "execution_count": 48,
   "id": "8dff9592",
   "metadata": {},
   "outputs": [
    {
     "name": "stdout",
     "output_type": "stream",
     "text": [
      "+----+-----+-----------+\n",
      "| age|MaxHR|Cholesterol|\n",
      "+----+-----+-----------+\n",
      "|40.0|  172|        289|\n",
      "|49.0|  156|        180|\n",
      "|37.0|   98|        283|\n",
      "|48.0|  108|        214|\n",
      "+----+-----+-----------+\n",
      "only showing top 4 rows\n",
      "\n"
     ]
    }
   ],
   "source": [
    "df.select(['age', 'MaxHR', 'Cholesterol']).show(4)"
   ]
  },
  {
   "cell_type": "code",
   "execution_count": 49,
   "id": "50674821",
   "metadata": {},
   "outputs": [
    {
     "ename": "IllegalArgumentException",
     "evalue": "Age does not exist. Available: age, sex, ChestPainType, RestingBP, Cholesterol, FastingBS, RestingECG, MaxHR, ExerciseAngina, Oldpeak, ST_Slope, HeartDisease, AgeFixed",
     "output_type": "error",
     "traceback": [
      "\u001b[1;31m---------------------------------------------------------------------------\u001b[0m",
      "\u001b[1;31mIllegalArgumentException\u001b[0m                  Traceback (most recent call last)",
      "\u001b[1;32m~\\AppData\\Local\\Temp\\ipykernel_11320\\3885985416.py\u001b[0m in \u001b[0;36m<module>\u001b[1;34m\u001b[0m\n\u001b[0;32m      7\u001b[0m \u001b[1;33m\u001b[0m\u001b[0m\n\u001b[0;32m      8\u001b[0m \u001b[0mv_asmblr\u001b[0m \u001b[1;33m=\u001b[0m \u001b[0mVectorAssembler\u001b[0m\u001b[1;33m(\u001b[0m\u001b[0minputCols\u001b[0m\u001b[1;33m=\u001b[0m\u001b[0mX_column_names\u001b[0m\u001b[1;33m,\u001b[0m \u001b[0moutputCol\u001b[0m\u001b[1;33m=\u001b[0m\u001b[1;34m'Fvec'\u001b[0m\u001b[1;33m)\u001b[0m\u001b[1;33m\u001b[0m\u001b[1;33m\u001b[0m\u001b[0m\n\u001b[1;32m----> 9\u001b[1;33m \u001b[0mdf\u001b[0m \u001b[1;33m=\u001b[0m \u001b[0mv_asmblr\u001b[0m\u001b[1;33m.\u001b[0m\u001b[0mtransform\u001b[0m\u001b[1;33m(\u001b[0m\u001b[0mdf\u001b[0m\u001b[1;33m)\u001b[0m\u001b[1;33m\u001b[0m\u001b[1;33m\u001b[0m\u001b[0m\n\u001b[0m\u001b[0;32m     10\u001b[0m \u001b[0mX\u001b[0m \u001b[1;33m=\u001b[0m \u001b[0mdf\u001b[0m\u001b[1;33m.\u001b[0m\u001b[0mselect\u001b[0m\u001b[1;33m(\u001b[0m\u001b[1;33m[\u001b[0m\u001b[1;34m'Age'\u001b[0m\u001b[1;33m,\u001b[0m \u001b[1;34m'Cholesterol'\u001b[0m\u001b[1;33m,\u001b[0m \u001b[1;34m'Fvec'\u001b[0m\u001b[1;33m,\u001b[0m \u001b[1;34m'MaxHR'\u001b[0m\u001b[1;33m]\u001b[0m\u001b[1;33m)\u001b[0m\u001b[1;33m\u001b[0m\u001b[1;33m\u001b[0m\u001b[0m\n\u001b[0;32m     11\u001b[0m \u001b[0mX\u001b[0m\u001b[1;33m.\u001b[0m\u001b[0mshow\u001b[0m\u001b[1;33m(\u001b[0m\u001b[1;36m3\u001b[0m\u001b[1;33m)\u001b[0m\u001b[1;33m\u001b[0m\u001b[1;33m\u001b[0m\u001b[0m\n",
      "\u001b[1;32m~\\anaconda3\\lib\\site-packages\\pyspark\\ml\\base.py\u001b[0m in \u001b[0;36mtransform\u001b[1;34m(self, dataset, params)\u001b[0m\n\u001b[0;32m    260\u001b[0m                 \u001b[1;32mreturn\u001b[0m \u001b[0mself\u001b[0m\u001b[1;33m.\u001b[0m\u001b[0mcopy\u001b[0m\u001b[1;33m(\u001b[0m\u001b[0mparams\u001b[0m\u001b[1;33m)\u001b[0m\u001b[1;33m.\u001b[0m\u001b[0m_transform\u001b[0m\u001b[1;33m(\u001b[0m\u001b[0mdataset\u001b[0m\u001b[1;33m)\u001b[0m\u001b[1;33m\u001b[0m\u001b[1;33m\u001b[0m\u001b[0m\n\u001b[0;32m    261\u001b[0m             \u001b[1;32melse\u001b[0m\u001b[1;33m:\u001b[0m\u001b[1;33m\u001b[0m\u001b[1;33m\u001b[0m\u001b[0m\n\u001b[1;32m--> 262\u001b[1;33m                 \u001b[1;32mreturn\u001b[0m \u001b[0mself\u001b[0m\u001b[1;33m.\u001b[0m\u001b[0m_transform\u001b[0m\u001b[1;33m(\u001b[0m\u001b[0mdataset\u001b[0m\u001b[1;33m)\u001b[0m\u001b[1;33m\u001b[0m\u001b[1;33m\u001b[0m\u001b[0m\n\u001b[0m\u001b[0;32m    263\u001b[0m         \u001b[1;32melse\u001b[0m\u001b[1;33m:\u001b[0m\u001b[1;33m\u001b[0m\u001b[1;33m\u001b[0m\u001b[0m\n\u001b[0;32m    264\u001b[0m             \u001b[1;32mraise\u001b[0m \u001b[0mTypeError\u001b[0m\u001b[1;33m(\u001b[0m\u001b[1;34m\"Params must be a param map but got %s.\"\u001b[0m \u001b[1;33m%\u001b[0m \u001b[0mtype\u001b[0m\u001b[1;33m(\u001b[0m\u001b[0mparams\u001b[0m\u001b[1;33m)\u001b[0m\u001b[1;33m)\u001b[0m\u001b[1;33m\u001b[0m\u001b[1;33m\u001b[0m\u001b[0m\n",
      "\u001b[1;32m~\\anaconda3\\lib\\site-packages\\pyspark\\ml\\wrapper.py\u001b[0m in \u001b[0;36m_transform\u001b[1;34m(self, dataset)\u001b[0m\n\u001b[0;32m    396\u001b[0m \u001b[1;33m\u001b[0m\u001b[0m\n\u001b[0;32m    397\u001b[0m         \u001b[0mself\u001b[0m\u001b[1;33m.\u001b[0m\u001b[0m_transfer_params_to_java\u001b[0m\u001b[1;33m(\u001b[0m\u001b[1;33m)\u001b[0m\u001b[1;33m\u001b[0m\u001b[1;33m\u001b[0m\u001b[0m\n\u001b[1;32m--> 398\u001b[1;33m         \u001b[1;32mreturn\u001b[0m \u001b[0mDataFrame\u001b[0m\u001b[1;33m(\u001b[0m\u001b[0mself\u001b[0m\u001b[1;33m.\u001b[0m\u001b[0m_java_obj\u001b[0m\u001b[1;33m.\u001b[0m\u001b[0mtransform\u001b[0m\u001b[1;33m(\u001b[0m\u001b[0mdataset\u001b[0m\u001b[1;33m.\u001b[0m\u001b[0m_jdf\u001b[0m\u001b[1;33m)\u001b[0m\u001b[1;33m,\u001b[0m \u001b[0mdataset\u001b[0m\u001b[1;33m.\u001b[0m\u001b[0msparkSession\u001b[0m\u001b[1;33m)\u001b[0m\u001b[1;33m\u001b[0m\u001b[1;33m\u001b[0m\u001b[0m\n\u001b[0m\u001b[0;32m    399\u001b[0m \u001b[1;33m\u001b[0m\u001b[0m\n\u001b[0;32m    400\u001b[0m \u001b[1;33m\u001b[0m\u001b[0m\n",
      "\u001b[1;32m~\\anaconda3\\lib\\site-packages\\py4j\\java_gateway.py\u001b[0m in \u001b[0;36m__call__\u001b[1;34m(self, *args)\u001b[0m\n\u001b[0;32m   1320\u001b[0m         \u001b[0manswer\u001b[0m \u001b[1;33m=\u001b[0m \u001b[0mself\u001b[0m\u001b[1;33m.\u001b[0m\u001b[0mgateway_client\u001b[0m\u001b[1;33m.\u001b[0m\u001b[0msend_command\u001b[0m\u001b[1;33m(\u001b[0m\u001b[0mcommand\u001b[0m\u001b[1;33m)\u001b[0m\u001b[1;33m\u001b[0m\u001b[1;33m\u001b[0m\u001b[0m\n\u001b[0;32m   1321\u001b[0m         return_value = get_return_value(\n\u001b[1;32m-> 1322\u001b[1;33m             answer, self.gateway_client, self.target_id, self.name)\n\u001b[0m\u001b[0;32m   1323\u001b[0m \u001b[1;33m\u001b[0m\u001b[0m\n\u001b[0;32m   1324\u001b[0m         \u001b[1;32mfor\u001b[0m \u001b[0mtemp_arg\u001b[0m \u001b[1;32min\u001b[0m \u001b[0mtemp_args\u001b[0m\u001b[1;33m:\u001b[0m\u001b[1;33m\u001b[0m\u001b[1;33m\u001b[0m\u001b[0m\n",
      "\u001b[1;32m~\\anaconda3\\lib\\site-packages\\pyspark\\errors\\exceptions\\captured.py\u001b[0m in \u001b[0;36mdeco\u001b[1;34m(*a, **kw)\u001b[0m\n\u001b[0;32m    173\u001b[0m                 \u001b[1;31m# Hide where the exception came from that shows a non-Pythonic\u001b[0m\u001b[1;33m\u001b[0m\u001b[1;33m\u001b[0m\u001b[0m\n\u001b[0;32m    174\u001b[0m                 \u001b[1;31m# JVM exception message.\u001b[0m\u001b[1;33m\u001b[0m\u001b[1;33m\u001b[0m\u001b[0m\n\u001b[1;32m--> 175\u001b[1;33m                 \u001b[1;32mraise\u001b[0m \u001b[0mconverted\u001b[0m \u001b[1;32mfrom\u001b[0m \u001b[1;32mNone\u001b[0m\u001b[1;33m\u001b[0m\u001b[1;33m\u001b[0m\u001b[0m\n\u001b[0m\u001b[0;32m    176\u001b[0m             \u001b[1;32melse\u001b[0m\u001b[1;33m:\u001b[0m\u001b[1;33m\u001b[0m\u001b[1;33m\u001b[0m\u001b[0m\n\u001b[0;32m    177\u001b[0m                 \u001b[1;32mraise\u001b[0m\u001b[1;33m\u001b[0m\u001b[1;33m\u001b[0m\u001b[0m\n",
      "\u001b[1;31mIllegalArgumentException\u001b[0m: Age does not exist. Available: age, sex, ChestPainType, RestingBP, Cholesterol, FastingBS, RestingECG, MaxHR, ExerciseAngina, Oldpeak, ST_Slope, HeartDisease, AgeFixed"
     ]
    }
   ],
   "source": [
    "# devide dataset to training features and target\n",
    "X_column_names = ['Age', 'Cholesterol']\n",
    "target_colum_name = ['MaxHR']\n",
    "\n",
    "# convert feature columns into a columns where the vlues are feature vectors\n",
    "from pyspark.ml.feature import VectorAssembler\n",
    "\n",
    "v_asmblr = VectorAssembler(inputCols=X_column_names, outputCol='Fvec')\n",
    "df = v_asmblr.transform(df)\n",
    "X = df.select(['Age', 'Cholesterol', 'Fvec', 'MaxHR'])\n",
    "X.show(3)"
   ]
  },
  {
   "cell_type": "code",
   "execution_count": 50,
   "id": "3f06f169",
   "metadata": {},
   "outputs": [
    {
     "ename": "NameError",
     "evalue": "name 'X' is not defined",
     "output_type": "error",
     "traceback": [
      "\u001b[1;31m---------------------------------------------------------------------------\u001b[0m",
      "\u001b[1;31mNameError\u001b[0m                                 Traceback (most recent call last)",
      "\u001b[1;32m~\\AppData\\Local\\Temp\\ipykernel_11320\\454841636.py\u001b[0m in \u001b[0;36m<module>\u001b[1;34m\u001b[0m\n\u001b[0;32m      1\u001b[0m \u001b[1;31m# devide dataset into training and testing sets\u001b[0m\u001b[1;33m\u001b[0m\u001b[1;33m\u001b[0m\u001b[0m\n\u001b[1;32m----> 2\u001b[1;33m \u001b[0mtrainset\u001b[0m\u001b[1;33m,\u001b[0m \u001b[0mtestset\u001b[0m \u001b[1;33m=\u001b[0m \u001b[0mX\u001b[0m\u001b[1;33m.\u001b[0m\u001b[0mrandomSplit\u001b[0m\u001b[1;33m(\u001b[0m\u001b[1;33m[\u001b[0m\u001b[1;36m0.8\u001b[0m\u001b[1;33m,\u001b[0m \u001b[1;36m0.2\u001b[0m\u001b[1;33m]\u001b[0m\u001b[1;33m)\u001b[0m\u001b[1;33m\u001b[0m\u001b[1;33m\u001b[0m\u001b[0m\n\u001b[0m",
      "\u001b[1;31mNameError\u001b[0m: name 'X' is not defined"
     ]
    }
   ],
   "source": [
    "# devide dataset into training and testing sets\n",
    "trainset, testset = X.randomSplit([0.8, 0.2])"
   ]
  },
  {
   "cell_type": "code",
   "execution_count": 51,
   "id": "2b7cf4ef",
   "metadata": {},
   "outputs": [
    {
     "ename": "NameError",
     "evalue": "name 'trainset' is not defined",
     "output_type": "error",
     "traceback": [
      "\u001b[1;31m---------------------------------------------------------------------------\u001b[0m",
      "\u001b[1;31mNameError\u001b[0m                                 Traceback (most recent call last)",
      "\u001b[1;32m~\\AppData\\Local\\Temp\\ipykernel_11320\\147468075.py\u001b[0m in \u001b[0;36m<module>\u001b[1;34m\u001b[0m\n\u001b[0;32m      3\u001b[0m \u001b[1;33m\u001b[0m\u001b[0m\n\u001b[0;32m      4\u001b[0m \u001b[0mmodel\u001b[0m \u001b[1;33m=\u001b[0m \u001b[0mLinearRegression\u001b[0m\u001b[1;33m(\u001b[0m\u001b[0mfeaturesCol\u001b[0m\u001b[1;33m=\u001b[0m\u001b[1;34m'Fvec'\u001b[0m\u001b[1;33m,\u001b[0m \u001b[0mlabelCol\u001b[0m\u001b[1;33m=\u001b[0m\u001b[1;34m'MaxHR'\u001b[0m\u001b[1;33m)\u001b[0m\u001b[1;33m\u001b[0m\u001b[1;33m\u001b[0m\u001b[0m\n\u001b[1;32m----> 5\u001b[1;33m \u001b[0mmodel\u001b[0m \u001b[1;33m=\u001b[0m \u001b[0mmodel\u001b[0m\u001b[1;33m.\u001b[0m\u001b[0mfit\u001b[0m\u001b[1;33m(\u001b[0m\u001b[0mtrainset\u001b[0m\u001b[1;33m)\u001b[0m\u001b[1;33m\u001b[0m\u001b[1;33m\u001b[0m\u001b[0m\n\u001b[0m\u001b[0;32m      6\u001b[0m \u001b[0mprint\u001b[0m\u001b[1;33m(\u001b[0m\u001b[0mmodel\u001b[0m\u001b[1;33m.\u001b[0m\u001b[0mcoefficients\u001b[0m\u001b[1;33m)\u001b[0m\u001b[1;33m\u001b[0m\u001b[1;33m\u001b[0m\u001b[0m\n\u001b[0;32m      7\u001b[0m \u001b[0mprint\u001b[0m\u001b[1;33m(\u001b[0m\u001b[0mmodel\u001b[0m\u001b[1;33m.\u001b[0m\u001b[0mintercept\u001b[0m\u001b[1;33m)\u001b[0m\u001b[1;33m\u001b[0m\u001b[1;33m\u001b[0m\u001b[0m\n",
      "\u001b[1;31mNameError\u001b[0m: name 'trainset' is not defined"
     ]
    }
   ],
   "source": [
    "# predict 'RestingBP' using linear regression\n",
    "from pyspark.ml.regression import LinearRegression\n",
    "\n",
    "model = LinearRegression(featuresCol='Fvec', labelCol='MaxHR')\n",
    "model = model.fit(trainset)\n",
    "print(model.coefficients)\n",
    "print(model.intercept)"
   ]
  },
  {
   "cell_type": "code",
   "execution_count": 52,
   "id": "9a7a5e8e",
   "metadata": {},
   "outputs": [
    {
     "ename": "AttributeError",
     "evalue": "'LinearRegression' object has no attribute 'evaluate'",
     "output_type": "error",
     "traceback": [
      "\u001b[1;31m---------------------------------------------------------------------------\u001b[0m",
      "\u001b[1;31mAttributeError\u001b[0m                            Traceback (most recent call last)",
      "\u001b[1;32m~\\AppData\\Local\\Temp\\ipykernel_11320\\351379797.py\u001b[0m in \u001b[0;36m<module>\u001b[1;34m\u001b[0m\n\u001b[0;32m      1\u001b[0m \u001b[1;31m# evaluate model\u001b[0m\u001b[1;33m\u001b[0m\u001b[1;33m\u001b[0m\u001b[0m\n\u001b[1;32m----> 2\u001b[1;33m \u001b[0mmodel\u001b[0m\u001b[1;33m.\u001b[0m\u001b[0mevaluate\u001b[0m\u001b[1;33m(\u001b[0m\u001b[0mtestset\u001b[0m\u001b[1;33m)\u001b[0m\u001b[1;33m.\u001b[0m\u001b[0mpredictions\u001b[0m\u001b[1;33m.\u001b[0m\u001b[0mshow\u001b[0m\u001b[1;33m(\u001b[0m\u001b[1;36m3\u001b[0m\u001b[1;33m)\u001b[0m\u001b[1;33m\u001b[0m\u001b[1;33m\u001b[0m\u001b[0m\n\u001b[0m",
      "\u001b[1;31mAttributeError\u001b[0m: 'LinearRegression' object has no attribute 'evaluate'"
     ]
    }
   ],
   "source": [
    "# evaluate model\n",
    "model.evaluate(testset).predictions.show(3)"
   ]
  },
  {
   "cell_type": "code",
   "execution_count": 53,
   "id": "1fa542af",
   "metadata": {},
   "outputs": [
    {
     "name": "stdout",
     "output_type": "stream",
     "text": [
      "+------------------+\n",
      "|ChestPainTypeInxed|\n",
      "+------------------+\n",
      "|               2.0|\n",
      "|               1.0|\n",
      "|               2.0|\n",
      "+------------------+\n",
      "only showing top 3 rows\n",
      "\n"
     ]
    }
   ],
   "source": [
    "# handel categorical features with ordinal indexing\n",
    "from pyspark.ml.feature import StringIndexer\n",
    "\n",
    "indxr = StringIndexer(inputCol='ChestPainType', outputCol='ChestPainTypeInxed')\n",
    "indxr.fit(df).transform(df).select('ChestPainTypeInxed').show(3)"
   ]
  },
  {
   "cell_type": "markdown",
   "id": "c5fa17c3-790d-408a-abe8-50763dc48b6f",
   "metadata": {},
   "source": [
    "Stop the SparkSession."
   ]
  },
  {
   "cell_type": "code",
   "execution_count": 54,
   "id": "44cfbb42-d905-4f0b-b518-b7f4d685281e",
   "metadata": {},
   "outputs": [],
   "source": [
    "spark.stop()"
   ]
  },
  {
   "cell_type": "code",
   "execution_count": null,
   "id": "b04dab01-fc97-433f-b70c-3e0723aa09b2",
   "metadata": {},
   "outputs": [],
   "source": []
  }
 ],
 "metadata": {
  "kernelspec": {
   "display_name": "Python 3 (ipykernel)",
   "language": "python",
   "name": "python3"
  },
  "language_info": {
   "codemirror_mode": {
    "name": "ipython",
    "version": 3
   },
   "file_extension": ".py",
   "mimetype": "text/x-python",
   "name": "python",
   "nbconvert_exporter": "python",
   "pygments_lexer": "ipython3",
   "version": "3.10.11"
  }
 },
 "nbformat": 4,
 "nbformat_minor": 5
}
