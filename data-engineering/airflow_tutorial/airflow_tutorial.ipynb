{
 "cells": [
  {
   "cell_type": "code",
   "execution_count": 1,
   "metadata": {},
   "outputs": [
    {
     "name": "stderr",
     "output_type": "stream",
     "text": [
      "WARNING:root:OSError while attempting to symlink the latest log directory\n"
     ]
    }
   ],
   "source": [
    "from datetime import datetime\n",
    "from airflow import DAG\n",
    "from airflow.decorators import task\n",
    "from airflow.operators.bash import BashOperator\n",
    "\n",
    "# A DAG represents a workflow, a collection of tasks\n",
    "with DAG(dag_id=\"demo\", start_date=datetime(2023, 6, 18), schedule=\"0 0 * * *\") as dag:\n",
    "\n",
    "    # Tasks are represented as operators\n",
    "    hello = BashOperator(task_id=\"hello\", bash_command=\"echo hello\")\n",
    "\n",
    "    @task()\n",
    "    def airflow():\n",
    "        print(\"airflow\")\n",
    "\n",
    "    # Set dependencies between tasks\n",
    "    airflow()"
   ]
  },
  {
   "cell_type": "markdown",
   "metadata": {},
   "source": [
    "## Entries for PowerShell"
   ]
  },
  {
   "cell_type": "code",
   "execution_count": null,
   "metadata": {},
   "outputs": [],
   "source": [
    "!export AIRFLOW_HOME=~/airflow"
   ]
  },
  {
   "cell_type": "markdown",
   "metadata": {},
   "source": [
    "Install Airflow by creating a constraints file, which is determined based on the URL we pass:"
   ]
  },
  {
   "cell_type": "code",
   "execution_count": null,
   "metadata": {},
   "outputs": [],
   "source": [
    "!AIRFLOW_VERSION=2.6.2\n",
    "\n",
    "# Extract the version of Python you have installed. If you're currently using Python 3.11 you may want to set this manually as noted above, Python 3.11 is not yet supported.\n",
    "!PYTHON_VERSION=\"$(python --version | cut -d \" \" -f 2 | cut -d \".\" -f 1-2)\"\n",
    "\n",
    "CONSTRAINT_URL=\"https://raw.githubusercontent.com/apache/airflow/constraints-${AIRFLOW_VERSION}/constraints-${PYTHON_VERSION}.txt\"\n",
    "# For example this would install 2.6.2 with python 3.11: https://raw.githubusercontent.com/apache/airflow/constraints-2.6.2/constraints-3.7.txt\n",
    "\n",
    "!pip install \"apache-airflow==${AIRFLOW_VERSION}\" --constraint \"${CONSTRAINT_URL}\""
   ]
  }
 ],
 "metadata": {
  "kernelspec": {
   "display_name": "Python 3 (ipykernel)",
   "language": "python",
   "name": "python3"
  },
  "language_info": {
   "codemirror_mode": {
    "name": "ipython",
    "version": 3
   },
   "file_extension": ".py",
   "mimetype": "text/x-python",
   "name": "python",
   "nbconvert_exporter": "python",
   "pygments_lexer": "ipython3",
   "version": "3.10.9"
  }
 },
 "nbformat": 4,
 "nbformat_minor": 2
}
