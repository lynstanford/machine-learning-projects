{
 "cells": [
  {
   "cell_type": "markdown",
   "id": "84378a2f-d554-400b-8cd7-2eee7ec6bb60",
   "metadata": {},
   "source": []
  },
  {
   "cell_type": "code",
   "execution_count": null,
   "id": "205812c8-fe3f-4998-9236-265d4d373ce5",
   "metadata": {},
   "outputs": [],
   "source": [
    "# !pip install yahoofinance"
   ]
  },
  {
   "cell_type": "code",
   "execution_count": null,
   "id": "e791b09b-64a1-4fc2-bec8-bd1d44c73b20",
   "metadata": {
    "tags": []
   },
   "outputs": [],
   "source": [
    "import yahoofinance as yf\n",
    "import pandas as pd\n",
    "import matplotlib.pyplot as plt\n",
    "%matplotlib inline"
   ]
  },
  {
   "cell_type": "markdown",
   "id": "6728c3bc",
   "metadata": {},
   "source": [
    "Retrieving historical prices from Yahoo."
   ]
  },
  {
   "cell_type": "code",
   "execution_count": null,
   "id": "3e713eea-fd2d-4d34-a115-69ca49dcdc24",
   "metadata": {
    "tags": []
   },
   "outputs": [],
   "source": [
    "from yahoofinance import HistoricalPrices\n",
    "request = HistoricalPrices('AAPL', start_date='2023-07-01', end_date='2023-07-19')"
   ]
  },
  {
   "cell_type": "code",
   "execution_count": null,
   "id": "4705ac4e-eb0b-4e56-9375-981686a849ba",
   "metadata": {},
   "outputs": [],
   "source": [
    "request.to_dfs()"
   ]
  },
  {
   "cell_type": "markdown",
   "id": "5685bf02-7fc5-489e-a818-85a96d8e71b0",
   "metadata": {},
   "source": [
    "Generates a dictionary containing a pandas.DataFrame. Importing the BalanceSheet library can be executed."
   ]
  },
  {
   "cell_type": "code",
   "execution_count": null,
   "id": "41fb8fa0-7504-447f-bcb4-7266d5da2840",
   "metadata": {},
   "outputs": [],
   "source": [
    "request.to_csv()"
   ]
  },
  {
   "cell_type": "markdown",
   "id": "473098e1-4ab3-4b9c-804c-1ed90336c0b5",
   "metadata": {},
   "source": [
    "Generates a csv file."
   ]
  },
  {
   "cell_type": "markdown",
   "id": "985c67d4",
   "metadata": {},
   "source": [
    "Retrieving Balance Sheets from Yahoo."
   ]
  },
  {
   "cell_type": "code",
   "execution_count": null,
   "id": "c4cb9a0a",
   "metadata": {},
   "outputs": [],
   "source": [
    "from yahoofinance import BalanceSheet\n",
    "req = BalanceSheet('AAPL')"
   ]
  },
  {
   "cell_type": "code",
   "execution_count": null,
   "id": "7fad990f-296a-417b-94a1-73a9bb76beb7",
   "metadata": {},
   "outputs": [],
   "source": [
    "req.to_dfs()"
   ]
  },
  {
   "cell_type": "code",
   "execution_count": null,
   "id": "34b79ffd-3cbb-41b8-b057-d79e54720c6d",
   "metadata": {},
   "outputs": [],
   "source": [
    "req.to_csv()"
   ]
  },
  {
   "cell_type": "markdown",
   "id": "a5af6771",
   "metadata": {},
   "source": [
    "Retrieving Quarterly Balance Sheets from Yahoo."
   ]
  },
  {
   "cell_type": "code",
   "execution_count": null,
   "id": "50e964e9",
   "metadata": {},
   "outputs": [],
   "source": [
    "from yahoofinance import BalanceSheetQuarterly\n",
    "req = BalanceSheetQuarterly('AAPL')"
   ]
  },
  {
   "cell_type": "code",
   "execution_count": null,
   "id": "c1348356",
   "metadata": {},
   "outputs": [],
   "source": [
    "req.to_dfs()"
   ]
  },
  {
   "cell_type": "code",
   "execution_count": null,
   "id": "2613a81d",
   "metadata": {},
   "outputs": [],
   "source": [
    "req.to_csv()"
   ]
  },
  {
   "cell_type": "markdown",
   "id": "82016398",
   "metadata": {},
   "source": [
    "Retrieving Annual Cash Flow from Yahoo."
   ]
  },
  {
   "cell_type": "code",
   "execution_count": null,
   "id": "68857c40",
   "metadata": {},
   "outputs": [],
   "source": [
    "from yahoofinance import CashFlow\n",
    "req = CashFlow('AAPL')"
   ]
  },
  {
   "cell_type": "code",
   "execution_count": null,
   "id": "99f0e3f8",
   "metadata": {},
   "outputs": [],
   "source": [
    "req.to_dfs()"
   ]
  },
  {
   "cell_type": "code",
   "execution_count": null,
   "id": "c94faa08",
   "metadata": {},
   "outputs": [],
   "source": [
    "req.to_csv()"
   ]
  },
  {
   "cell_type": "markdown",
   "id": "3f5b5861",
   "metadata": {},
   "source": [
    "Retrieving Quarterly Cash Flow from Yahoo."
   ]
  },
  {
   "cell_type": "code",
   "execution_count": null,
   "id": "2400e244",
   "metadata": {},
   "outputs": [],
   "source": [
    "from yahoofinance import CashFlowQuarterly\n",
    "req = CashFlowQuarterly('AAPL')"
   ]
  },
  {
   "cell_type": "code",
   "execution_count": null,
   "id": "0b39968e",
   "metadata": {},
   "outputs": [],
   "source": [
    "req.to_dfs()"
   ]
  },
  {
   "cell_type": "code",
   "execution_count": null,
   "id": "056c57a9",
   "metadata": {},
   "outputs": [],
   "source": [
    "req.to_csv()"
   ]
  },
  {
   "cell_type": "markdown",
   "id": "b3205843",
   "metadata": {},
   "source": [
    "Retrieving an Income Statement from Yahoo."
   ]
  },
  {
   "cell_type": "code",
   "execution_count": null,
   "id": "d027dc11",
   "metadata": {},
   "outputs": [],
   "source": [
    "from yahoofinance import IncomeStatement\n",
    "req = IncomeStatement('AAPL')"
   ]
  },
  {
   "cell_type": "code",
   "execution_count": null,
   "id": "df53301f",
   "metadata": {},
   "outputs": [],
   "source": [
    "req.to_dfs()"
   ]
  },
  {
   "cell_type": "code",
   "execution_count": null,
   "id": "471f2774",
   "metadata": {},
   "outputs": [],
   "source": [
    "req.to_csv()"
   ]
  },
  {
   "cell_type": "markdown",
   "id": "989d7b78",
   "metadata": {},
   "source": [
    "Retrieving a Quarterly Income Statement from Yahoo."
   ]
  },
  {
   "cell_type": "code",
   "execution_count": null,
   "id": "d7e4e802",
   "metadata": {},
   "outputs": [],
   "source": [
    "from yahoofinance import IncomeStatementQuarterly\n",
    "req = IncomeStatementQuarterly('AAPL')"
   ]
  },
  {
   "cell_type": "code",
   "execution_count": null,
   "id": "aafe4ba4",
   "metadata": {},
   "outputs": [],
   "source": [
    "req.to_dfs()"
   ]
  },
  {
   "cell_type": "code",
   "execution_count": null,
   "id": "20feb0cd",
   "metadata": {},
   "outputs": [],
   "source": [
    "req.to_csv()"
   ]
  },
  {
   "cell_type": "markdown",
   "id": "f1d0ac56",
   "metadata": {},
   "source": [
    "Retrieving an Asset Profile from Yahoo."
   ]
  },
  {
   "cell_type": "code",
   "execution_count": null,
   "id": "005ac6ea",
   "metadata": {},
   "outputs": [],
   "source": [
    "from yahoofinance import AssetProfile\n",
    "req = AssetProfile('AAPL')"
   ]
  },
  {
   "cell_type": "code",
   "execution_count": null,
   "id": "e9be2576",
   "metadata": {},
   "outputs": [],
   "source": [
    "req.to_dfs()"
   ]
  },
  {
   "cell_type": "code",
   "execution_count": null,
   "id": "954f262c",
   "metadata": {},
   "outputs": [],
   "source": [
    "req.to_csv()"
   ]
  },
  {
   "cell_type": "code",
   "execution_count": null,
   "id": "9e872014",
   "metadata": {},
   "outputs": [],
   "source": [
    "import yahoofinance as yf\n",
    "import pandas as pd\n",
    "import matplotlib.pyplot as plt\n",
    "%matplotlib inline"
   ]
  },
  {
   "cell_type": "code",
   "execution_count": null,
   "id": "24a20252",
   "metadata": {},
   "outputs": [],
   "source": [
    "historical = yf.HistoricalPrices('AAPL', '2010-01-01', '2018-11-20')\n",
    "dfs = historical.to_dfs()\n",
    "df = dfs['Historical Prices']"
   ]
  },
  {
   "cell_type": "code",
   "execution_count": null,
   "id": "0af8b9af",
   "metadata": {},
   "outputs": [],
   "source": [
    "df.index = pd.to_datetime(df.index)"
   ]
  },
  {
   "cell_type": "code",
   "execution_count": null,
   "id": "e631a3f4",
   "metadata": {},
   "outputs": [],
   "source": [
    "fig1 = plt.figure(figsize=(15,10))\n",
    "plt.xlabel('Date')\n",
    "plt.ylabel('Price ($)')\n",
    "plt.title('AAPL Share Price')\n",
    "plt.plot(df[['Close']])\n",
    "plt.grid(c='grey')\n",
    "plt.xticks(rotation=45)"
   ]
  },
  {
   "cell_type": "code",
   "execution_count": null,
   "id": "112e9f2a",
   "metadata": {},
   "outputs": [],
   "source": []
  },
  {
   "cell_type": "code",
   "execution_count": null,
   "id": "4a2227df",
   "metadata": {},
   "outputs": [],
   "source": []
  },
  {
   "cell_type": "code",
   "execution_count": null,
   "id": "64349f70",
   "metadata": {},
   "outputs": [],
   "source": []
  },
  {
   "cell_type": "code",
   "execution_count": null,
   "id": "6fa2b40a",
   "metadata": {},
   "outputs": [],
   "source": []
  },
  {
   "cell_type": "code",
   "execution_count": null,
   "id": "20b12bdd",
   "metadata": {},
   "outputs": [],
   "source": []
  },
  {
   "cell_type": "code",
   "execution_count": null,
   "id": "a6d634e7",
   "metadata": {},
   "outputs": [],
   "source": []
  },
  {
   "cell_type": "code",
   "execution_count": null,
   "id": "9b45c9bd-cab6-4d37-8186-8b83d33a3862",
   "metadata": {
    "tags": []
   },
   "outputs": [],
   "source": [
    "profile = yf.AssetProfile('AAPL', start_date='2023-07-01', end_date='2023-07-19')\n",
    "profile.to_csv('AAPL-profile.csv')"
   ]
  },
  {
   "cell_type": "markdown",
   "id": "1c394003",
   "metadata": {},
   "source": [
    "Adding in a Locality, e.g. Canada."
   ]
  },
  {
   "cell_type": "code",
   "execution_count": null,
   "id": "fdf1bc53-bec9-48c6-9fa9-33d867f04e19",
   "metadata": {
    "tags": []
   },
   "outputs": [],
   "source": [
    "profile = yf.AssetProfile('AAPL', locale=Locale.CA, start_date='2023-07-01', end_date='2023-07-19')\n",
    "profile.to_csv('AAPL-profile.csv')"
   ]
  },
  {
   "cell_type": "code",
   "execution_count": null,
   "id": "44e7b3ea-2927-4ae0-902a-f958b95b1ca5",
   "metadata": {},
   "outputs": [],
   "source": [
    "from finance_scrapers import YahooFinance\n",
    "\n",
    "# the tickers of the stocks you want to scrape\n",
    "tickers = ['schb', 'googl', 'nflx']\n",
    "\n",
    "# run the scraper\n",
    "scraper = YahooFinance(tickers)\n",
    "all_stock_info = scraper.scrape()"
   ]
  },
  {
   "cell_type": "code",
   "execution_count": null,
   "id": "0d3bb4a5-6094-4a9e-8e41-217cddd36b7a",
   "metadata": {},
   "outputs": [],
   "source": [
    "from finance_scrapers import YahooFinance\n",
    "\n",
    "# the tickers of the stocks you want to scrape\n",
    "tickers = ['schb', 'googl', 'nflx']\n",
    "\n",
    "scraper = YahooFinance(tickers)\n",
    "\n",
    "# download data\n",
    "scraper.download_data(\"json\", \"sample.json\", overwrite=False) # or,\n",
    "scraper.download_data(\"markdown\", \"sample.md\") # or,\n",
    "scraper.download_data(\"csv\", \"sample.csv\") # or,\n",
    "scraper.download_data(\"excel\", \"sample.xlsx\")"
   ]
  },
  {
   "cell_type": "code",
   "execution_count": null,
   "id": "906157b2-c9cb-4f4b-a4ec-4724fd3eb015",
   "metadata": {},
   "outputs": [],
   "source": []
  }
 ],
 "metadata": {
  "kernelspec": {
   "display_name": "Python 3 (ipykernel)",
   "language": "python",
   "name": "python3"
  },
  "language_info": {
   "codemirror_mode": {
    "name": "ipython",
    "version": 3
   },
   "file_extension": ".py",
   "mimetype": "text/x-python",
   "name": "python",
   "nbconvert_exporter": "python",
   "pygments_lexer": "ipython3",
   "version": "3.10.9"
  }
 },
 "nbformat": 4,
 "nbformat_minor": 5
}
