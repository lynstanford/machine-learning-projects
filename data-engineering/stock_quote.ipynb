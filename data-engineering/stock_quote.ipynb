{
 "cells": [
  {
   "cell_type": "markdown",
   "id": "84378a2f-d554-400b-8cd7-2eee7ec6bb60",
   "metadata": {},
   "source": []
  },
  {
   "cell_type": "code",
   "execution_count": null,
   "id": "205812c8-fe3f-4998-9236-265d4d373ce5",
   "metadata": {},
   "outputs": [],
   "source": [
    "# !pip install yahoofinance"
   ]
  },
  {
   "cell_type": "code",
   "execution_count": 2,
   "id": "e791b09b-64a1-4fc2-bec8-bd1d44c73b20",
   "metadata": {
    "tags": []
   },
   "outputs": [],
   "source": [
    "import yahoofinance as yf\n",
    "import pandas as pd\n",
    "import matplotlib.pyplot as plt\n",
    "%matplotlib inline"
   ]
  },
  {
   "cell_type": "code",
   "execution_count": 4,
   "id": "9b45c9bd-cab6-4d37-8186-8b83d33a3862",
   "metadata": {
    "tags": []
   },
   "outputs": [
    {
     "ename": "AttributeError",
     "evalue": "'NoneType' object has no attribute 'text'",
     "output_type": "error",
     "traceback": [
      "\u001b[1;31m---------------------------------------------------------------------------\u001b[0m",
      "\u001b[1;31mAttributeError\u001b[0m                            Traceback (most recent call last)",
      "Cell \u001b[1;32mIn[4], line 1\u001b[0m\n\u001b[1;32m----> 1\u001b[0m profile \u001b[38;5;241m=\u001b[39m \u001b[43myf\u001b[49m\u001b[38;5;241;43m.\u001b[39;49m\u001b[43mAssetProfile\u001b[49m\u001b[43m(\u001b[49m\u001b[38;5;124;43m'\u001b[39;49m\u001b[38;5;124;43mAAPL\u001b[39;49m\u001b[38;5;124;43m'\u001b[39;49m\u001b[43m)\u001b[49m\n\u001b[0;32m      2\u001b[0m profile\u001b[38;5;241m.\u001b[39mto_csv(\u001b[38;5;124m'\u001b[39m\u001b[38;5;124mAAPL-profile.csv\u001b[39m\u001b[38;5;124m'\u001b[39m)\n",
      "File \u001b[1;32m~\\anaconda3\\lib\\site-packages\\yahoofinance\\assetprofile.py:58\u001b[0m, in \u001b[0;36mAssetProfile.__init__\u001b[1;34m(self, stock, locale)\u001b[0m\n\u001b[0;32m     55\u001b[0m \u001b[38;5;28msuper\u001b[39m()\u001b[38;5;241m.\u001b[39m\u001b[38;5;21m__init__\u001b[39m(locale)\n\u001b[0;32m     57\u001b[0m url \u001b[38;5;241m=\u001b[39m \u001b[38;5;28mself\u001b[39m\u001b[38;5;241m.\u001b[39m_base_url \u001b[38;5;241m+\u001b[39m \u001b[38;5;124m'\u001b[39m\u001b[38;5;124m/\u001b[39m\u001b[38;5;132;01m{}\u001b[39;00m\u001b[38;5;124m/profile\u001b[39m\u001b[38;5;124m'\u001b[39m\u001b[38;5;241m.\u001b[39mformat(stock)\n\u001b[1;32m---> 58\u001b[0m fin_data \u001b[38;5;241m=\u001b[39m \u001b[38;5;28;43mself\u001b[39;49m\u001b[38;5;241;43m.\u001b[39;49m\u001b[43m_fetch_quote_summary\u001b[49m\u001b[43m(\u001b[49m\u001b[43murl\u001b[49m\u001b[43m)\u001b[49m\n\u001b[0;32m     60\u001b[0m \u001b[38;5;28mself\u001b[39m\u001b[38;5;241m.\u001b[39mprofile \u001b[38;5;241m=\u001b[39m fin_data[\u001b[38;5;124m'\u001b[39m\u001b[38;5;124massetProfile\u001b[39m\u001b[38;5;124m'\u001b[39m]\n",
      "File \u001b[1;32m~\\anaconda3\\lib\\site-packages\\yahoofinance\\interfaces.py:53\u001b[0m, in \u001b[0;36mIYahooData._fetch_quote_summary\u001b[1;34m(url)\u001b[0m\n\u001b[0;32m     50\u001b[0m html \u001b[38;5;241m=\u001b[39m requests\u001b[38;5;241m.\u001b[39mget(url)\u001b[38;5;241m.\u001b[39mtext\n\u001b[0;32m     51\u001b[0m soup \u001b[38;5;241m=\u001b[39m BeautifulSoup(html,\u001b[38;5;124m'\u001b[39m\u001b[38;5;124mhtml.parser\u001b[39m\u001b[38;5;124m'\u001b[39m)\n\u001b[1;32m---> 53\u001b[0m soup_script \u001b[38;5;241m=\u001b[39m \u001b[43msoup\u001b[49m\u001b[38;5;241;43m.\u001b[39;49m\u001b[43mfind\u001b[49m\u001b[43m(\u001b[49m\u001b[38;5;124;43m\"\u001b[39;49m\u001b[38;5;124;43mscript\u001b[39;49m\u001b[38;5;124;43m\"\u001b[39;49m\u001b[43m,\u001b[49m\u001b[43mtext\u001b[49m\u001b[38;5;241;43m=\u001b[39;49m\u001b[43mre\u001b[49m\u001b[38;5;241;43m.\u001b[39;49m\u001b[43mcompile\u001b[49m\u001b[43m(\u001b[49m\u001b[38;5;124;43m\"\u001b[39;49m\u001b[38;5;124;43mroot.App.main\u001b[39;49m\u001b[38;5;124;43m\"\u001b[39;49m\u001b[43m)\u001b[49m\u001b[43m)\u001b[49m\u001b[38;5;241;43m.\u001b[39;49m\u001b[43mtext\u001b[49m\n\u001b[0;32m     54\u001b[0m json_script \u001b[38;5;241m=\u001b[39m json\u001b[38;5;241m.\u001b[39mloads(re\u001b[38;5;241m.\u001b[39msearch(\u001b[38;5;124mr\u001b[39m\u001b[38;5;124m\"\u001b[39m\u001b[38;5;124mroot.App.main\u001b[39m\u001b[38;5;124m\\\u001b[39m\u001b[38;5;124ms+=\u001b[39m\u001b[38;5;124m\\\u001b[39m\u001b[38;5;124ms+(\u001b[39m\u001b[38;5;124m\\\u001b[39m\u001b[38;5;124m{\u001b[39m\u001b[38;5;124m.*\u001b[39m\u001b[38;5;124m\\\u001b[39m\u001b[38;5;124m})\u001b[39m\u001b[38;5;124m\"\u001b[39m,soup_script)[\u001b[38;5;241m1\u001b[39m])\n\u001b[0;32m     55\u001b[0m \u001b[38;5;66;03m# return json_script\u001b[39;00m\n",
      "\u001b[1;31mAttributeError\u001b[0m: 'NoneType' object has no attribute 'text'"
     ]
    }
   ],
   "source": [
    "profile = yf.AssetProfile('AAPL')\n",
    "profile.to_csv('AAPL-profile.csv')"
   ]
  },
  {
   "cell_type": "code",
   "execution_count": 6,
   "id": "fdf1bc53-bec9-48c6-9fa9-33d867f04e19",
   "metadata": {
    "tags": []
   },
   "outputs": [
    {
     "ename": "NameError",
     "evalue": "name 'Locale' is not defined",
     "output_type": "error",
     "traceback": [
      "\u001b[1;31m---------------------------------------------------------------------------\u001b[0m",
      "\u001b[1;31mNameError\u001b[0m                                 Traceback (most recent call last)",
      "Cell \u001b[1;32mIn[6], line 1\u001b[0m\n\u001b[1;32m----> 1\u001b[0m profile \u001b[38;5;241m=\u001b[39m yf\u001b[38;5;241m.\u001b[39mAssetProfile(\u001b[38;5;124m'\u001b[39m\u001b[38;5;124mAAPL\u001b[39m\u001b[38;5;124m'\u001b[39m, locale\u001b[38;5;241m=\u001b[39m\u001b[43mLocale\u001b[49m\u001b[38;5;241m.\u001b[39mCA)\n\u001b[0;32m      2\u001b[0m profile\u001b[38;5;241m.\u001b[39mto_csv(\u001b[38;5;124m'\u001b[39m\u001b[38;5;124mAAPL-profile.csv\u001b[39m\u001b[38;5;124m'\u001b[39m)\n",
      "\u001b[1;31mNameError\u001b[0m: name 'Locale' is not defined"
     ]
    }
   ],
   "source": [
    "profile = yf.AssetProfile('AAPL', locale=Locale.CA)\n",
    "profile.to_csv('AAPL-profile.csv')"
   ]
  },
  {
   "cell_type": "code",
   "execution_count": 3,
   "id": "3e713eea-fd2d-4d34-a115-69ca49dcdc24",
   "metadata": {
    "tags": []
   },
   "outputs": [
    {
     "ename": "TypeError",
     "evalue": "HistoricalPrices.__init__() missing 2 required positional arguments: 'start_date' and 'end_date'",
     "output_type": "error",
     "traceback": [
      "\u001b[1;31m---------------------------------------------------------------------------\u001b[0m",
      "\u001b[1;31mTypeError\u001b[0m                                 Traceback (most recent call last)",
      "Cell \u001b[1;32mIn[3], line 2\u001b[0m\n\u001b[0;32m      1\u001b[0m \u001b[38;5;28;01mfrom\u001b[39;00m \u001b[38;5;21;01myahoofinance\u001b[39;00m \u001b[38;5;28;01mimport\u001b[39;00m HistoricalPrices\n\u001b[1;32m----> 2\u001b[0m request \u001b[38;5;241m=\u001b[39m \u001b[43mHistoricalPrices\u001b[49m\u001b[43m(\u001b[49m\u001b[38;5;124;43m'\u001b[39;49m\u001b[38;5;124;43mAAPL\u001b[39;49m\u001b[38;5;124;43m'\u001b[39;49m\u001b[43m)\u001b[49m\n",
      "\u001b[1;31mTypeError\u001b[0m: HistoricalPrices.__init__() missing 2 required positional arguments: 'start_date' and 'end_date'"
     ]
    }
   ],
   "source": [
    "from yahoofinance import HistoricalPrices\n",
    "request = HistoricalPrices('AAPL', start_date='2023-07-01', end_date='2023-07-19')"
   ]
  },
  {
   "cell_type": "code",
   "execution_count": null,
   "id": "41fb8fa0-7504-447f-bcb4-7266d5da2840",
   "metadata": {},
   "outputs": [],
   "source": [
    "request.to_csv()"
   ]
  },
  {
   "cell_type": "markdown",
   "id": "473098e1-4ab3-4b9c-804c-1ed90336c0b5",
   "metadata": {},
   "source": [
    "Generates a csv file."
   ]
  },
  {
   "cell_type": "code",
   "execution_count": null,
   "id": "4705ac4e-eb0b-4e56-9375-981686a849ba",
   "metadata": {},
   "outputs": [],
   "source": [
    "request.to_dfs()"
   ]
  },
  {
   "cell_type": "markdown",
   "id": "5685bf02-7fc5-489e-a818-85a96d8e71b0",
   "metadata": {},
   "source": [
    "Generates a dictionary containing a pandas.DataFrame. Importing the BalanceSheet library can be executed."
   ]
  },
  {
   "cell_type": "code",
   "execution_count": null,
   "id": "0e7234e7-17d8-461c-be4f-327c97cad75d",
   "metadata": {},
   "outputs": [],
   "source": [
    "from yahoofinance import BalanceSheet\n",
    "req = BalanceSheet('AAPL')"
   ]
  },
  {
   "cell_type": "code",
   "execution_count": null,
   "id": "7fad990f-296a-417b-94a1-73a9bb76beb7",
   "metadata": {},
   "outputs": [],
   "source": [
    "req.to_dfs()"
   ]
  },
  {
   "cell_type": "code",
   "execution_count": null,
   "id": "34b79ffd-3cbb-41b8-b057-d79e54720c6d",
   "metadata": {},
   "outputs": [],
   "source": [
    "req.to_csv()"
   ]
  },
  {
   "cell_type": "code",
   "execution_count": null,
   "id": "ba5ec85e-09d9-4f0b-9a97-76b1260209b2",
   "metadata": {},
   "outputs": [],
   "source": []
  },
  {
   "cell_type": "code",
   "execution_count": null,
   "id": "44e7b3ea-2927-4ae0-902a-f958b95b1ca5",
   "metadata": {},
   "outputs": [],
   "source": []
  },
  {
   "cell_type": "code",
   "execution_count": null,
   "id": "0d3bb4a5-6094-4a9e-8e41-217cddd36b7a",
   "metadata": {},
   "outputs": [],
   "source": []
  },
  {
   "cell_type": "code",
   "execution_count": null,
   "id": "906157b2-c9cb-4f4b-a4ec-4724fd3eb015",
   "metadata": {},
   "outputs": [],
   "source": []
  }
 ],
 "metadata": {
  "kernelspec": {
   "display_name": "Python 3 (ipykernel)",
   "language": "python",
   "name": "python3"
  },
  "language_info": {
   "codemirror_mode": {
    "name": "ipython",
    "version": 3
   },
   "file_extension": ".py",
   "mimetype": "text/x-python",
   "name": "python",
   "nbconvert_exporter": "python",
   "pygments_lexer": "ipython3",
   "version": "3.10.9"
  }
 },
 "nbformat": 4,
 "nbformat_minor": 5
}
