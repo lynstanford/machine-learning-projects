{
 "cells": [
  {
   "cell_type": "markdown",
   "id": "84378a2f-d554-400b-8cd7-2eee7ec6bb60",
   "metadata": {},
   "source": [
    "## Yahoo Finance\n",
    "Pip install from PyPi: yahoofinance 0.0.2"
   ]
  },
  {
   "cell_type": "code",
   "execution_count": 1,
   "id": "205812c8-fe3f-4998-9236-265d4d373ce5",
   "metadata": {},
   "outputs": [],
   "source": [
    "# !pip install yahoofinance"
   ]
  },
  {
   "cell_type": "code",
   "execution_count": 2,
   "id": "e791b09b-64a1-4fc2-bec8-bd1d44c73b20",
   "metadata": {
    "tags": []
   },
   "outputs": [],
   "source": [
    "import yahoofinance as yf\n",
    "import pandas as pd\n",
    "import matplotlib.pyplot as plt\n",
    "%matplotlib inline"
   ]
  },
  {
   "cell_type": "markdown",
   "id": "6728c3bc",
   "metadata": {},
   "source": [
    "Retrieving historical prices from Yahoo."
   ]
  },
  {
   "cell_type": "code",
   "execution_count": 3,
   "id": "3e713eea-fd2d-4d34-a115-69ca49dcdc24",
   "metadata": {
    "tags": []
   },
   "outputs": [
    {
     "ename": "ValueError",
     "evalue": "Cookie not found",
     "output_type": "error",
     "traceback": [
      "\u001b[1;31m---------------------------------------------------------------------------\u001b[0m",
      "\u001b[1;31mKeyError\u001b[0m                                  Traceback (most recent call last)",
      "File \u001b[1;32m~\\anaconda3\\lib\\site-packages\\yahoofinance\\historicaldata.py:72\u001b[0m, in \u001b[0;36mHistoricalPrices._find_cookie_crumb_pair\u001b[1;34m(self, locale)\u001b[0m\n\u001b[0;32m     71\u001b[0m \u001b[38;5;28;01mtry\u001b[39;00m:\n\u001b[1;32m---> 72\u001b[0m     cookie \u001b[38;5;241m=\u001b[39m \u001b[43mres\u001b[49m\u001b[38;5;241;43m.\u001b[39;49m\u001b[43mcookies\u001b[49m\u001b[43m[\u001b[49m\u001b[38;5;124;43m'\u001b[39;49m\u001b[38;5;124;43mB\u001b[39;49m\u001b[38;5;124;43m'\u001b[39;49m\u001b[43m]\u001b[49m\n\u001b[0;32m     73\u001b[0m \u001b[38;5;28;01mexcept\u001b[39;00m \u001b[38;5;167;01mKeyError\u001b[39;00m:\n",
      "File \u001b[1;32m~\\anaconda3\\lib\\site-packages\\requests\\cookies.py:334\u001b[0m, in \u001b[0;36mRequestsCookieJar.__getitem__\u001b[1;34m(self, name)\u001b[0m\n\u001b[0;32m    328\u001b[0m \u001b[38;5;250m\u001b[39m\u001b[38;5;124;03m\"\"\"Dict-like __getitem__() for compatibility with client code. Throws\u001b[39;00m\n\u001b[0;32m    329\u001b[0m \u001b[38;5;124;03mexception if there are more than one cookie with name. In that case,\u001b[39;00m\n\u001b[0;32m    330\u001b[0m \u001b[38;5;124;03muse the more explicit get() method instead.\u001b[39;00m\n\u001b[0;32m    331\u001b[0m \n\u001b[0;32m    332\u001b[0m \u001b[38;5;124;03m.. warning:: operation is O(n), not O(1).\u001b[39;00m\n\u001b[0;32m    333\u001b[0m \u001b[38;5;124;03m\"\"\"\u001b[39;00m\n\u001b[1;32m--> 334\u001b[0m \u001b[38;5;28;01mreturn\u001b[39;00m \u001b[38;5;28;43mself\u001b[39;49m\u001b[38;5;241;43m.\u001b[39;49m\u001b[43m_find_no_duplicates\u001b[49m\u001b[43m(\u001b[49m\u001b[43mname\u001b[49m\u001b[43m)\u001b[49m\n",
      "File \u001b[1;32m~\\anaconda3\\lib\\site-packages\\requests\\cookies.py:413\u001b[0m, in \u001b[0;36mRequestsCookieJar._find_no_duplicates\u001b[1;34m(self, name, domain, path)\u001b[0m\n\u001b[0;32m    412\u001b[0m     \u001b[38;5;28;01mreturn\u001b[39;00m toReturn\n\u001b[1;32m--> 413\u001b[0m \u001b[38;5;28;01mraise\u001b[39;00m \u001b[38;5;167;01mKeyError\u001b[39;00m(\u001b[38;5;124mf\u001b[39m\u001b[38;5;124m\"\u001b[39m\u001b[38;5;124mname=\u001b[39m\u001b[38;5;132;01m{\u001b[39;00mname\u001b[38;5;132;01m!r}\u001b[39;00m\u001b[38;5;124m, domain=\u001b[39m\u001b[38;5;132;01m{\u001b[39;00mdomain\u001b[38;5;132;01m!r}\u001b[39;00m\u001b[38;5;124m, path=\u001b[39m\u001b[38;5;132;01m{\u001b[39;00mpath\u001b[38;5;132;01m!r}\u001b[39;00m\u001b[38;5;124m\"\u001b[39m)\n",
      "\u001b[1;31mKeyError\u001b[0m: \"name='B', domain=None, path=None\"",
      "\nDuring handling of the above exception, another exception occurred:\n",
      "\u001b[1;31mValueError\u001b[0m                                Traceback (most recent call last)",
      "Cell \u001b[1;32mIn[3], line 2\u001b[0m\n\u001b[0;32m      1\u001b[0m \u001b[38;5;28;01mfrom\u001b[39;00m \u001b[38;5;21;01myahoofinance\u001b[39;00m \u001b[38;5;28;01mimport\u001b[39;00m HistoricalPrices\n\u001b[1;32m----> 2\u001b[0m request \u001b[38;5;241m=\u001b[39m \u001b[43mHistoricalPrices\u001b[49m\u001b[43m(\u001b[49m\u001b[38;5;124;43m'\u001b[39;49m\u001b[38;5;124;43mAAPL\u001b[39;49m\u001b[38;5;124;43m'\u001b[39;49m\u001b[43m,\u001b[49m\u001b[43m \u001b[49m\u001b[43mstart_date\u001b[49m\u001b[38;5;241;43m=\u001b[39;49m\u001b[38;5;124;43m'\u001b[39;49m\u001b[38;5;124;43m2023-07-01\u001b[39;49m\u001b[38;5;124;43m'\u001b[39;49m\u001b[43m,\u001b[49m\u001b[43m \u001b[49m\u001b[43mend_date\u001b[49m\u001b[38;5;241;43m=\u001b[39;49m\u001b[38;5;124;43m'\u001b[39;49m\u001b[38;5;124;43m2023-07-19\u001b[39;49m\u001b[38;5;124;43m'\u001b[39;49m\u001b[43m,\u001b[49m\u001b[43m \u001b[49m\u001b[43mfrequency\u001b[49m\u001b[38;5;241;43m=\u001b[39;49m\u001b[38;5;124;43m'\u001b[39;49m\u001b[38;5;124;43m1d\u001b[39;49m\u001b[38;5;124;43m'\u001b[39;49m\u001b[43m)\u001b[49m\n",
      "File \u001b[1;32m~\\anaconda3\\lib\\site-packages\\yahoofinance\\historicaldata.py:52\u001b[0m, in \u001b[0;36mHistoricalPrices.__init__\u001b[1;34m(self, instrument, start_date, end_date, date_format_string, event, frequency, locale)\u001b[0m\n\u001b[0;32m     49\u001b[0m start_period \u001b[38;5;241m=\u001b[39m \u001b[38;5;28mint\u001b[39m((start_date \u001b[38;5;241m-\u001b[39m \u001b[38;5;28mself\u001b[39m\u001b[38;5;241m.\u001b[39m_min_date)\u001b[38;5;241m.\u001b[39mtotal_seconds())\n\u001b[0;32m     50\u001b[0m end_period \u001b[38;5;241m=\u001b[39m \u001b[38;5;28mint\u001b[39m((end_date \u001b[38;5;241m-\u001b[39m \u001b[38;5;28mself\u001b[39m\u001b[38;5;241m.\u001b[39m_min_date)\u001b[38;5;241m.\u001b[39mtotal_seconds())\n\u001b[1;32m---> 52\u001b[0m cookie, crumb \u001b[38;5;241m=\u001b[39m \u001b[38;5;28;43mself\u001b[39;49m\u001b[38;5;241;43m.\u001b[39;49m\u001b[43m_find_cookie_crumb_pair\u001b[49m\u001b[43m(\u001b[49m\u001b[43mlocale\u001b[49m\u001b[43m)\u001b[49m\n\u001b[0;32m     54\u001b[0m url \u001b[38;5;241m=\u001b[39m \u001b[38;5;124m'\u001b[39m\u001b[38;5;124mhttps://query1.finance.yahoo.com/v7/finance/download/\u001b[39m\u001b[38;5;132;01m{i}\u001b[39;00m\u001b[38;5;124m'\u001b[39m\n\u001b[0;32m     55\u001b[0m r\u001b[38;5;241m=\u001b[39m requests\u001b[38;5;241m.\u001b[39mget(url\u001b[38;5;241m.\u001b[39mformat(i\u001b[38;5;241m=\u001b[39minstrument),\n\u001b[0;32m     56\u001b[0m     cookies\u001b[38;5;241m=\u001b[39m{\u001b[38;5;124m'\u001b[39m\u001b[38;5;124mB\u001b[39m\u001b[38;5;124m'\u001b[39m: cookie},\n\u001b[0;32m     57\u001b[0m     params\u001b[38;5;241m=\u001b[39m{\n\u001b[1;32m   (...)\u001b[0m\n\u001b[0;32m     63\u001b[0m     }\n\u001b[0;32m     64\u001b[0m )\n",
      "File \u001b[1;32m~\\anaconda3\\lib\\site-packages\\yahoofinance\\historicaldata.py:74\u001b[0m, in \u001b[0;36mHistoricalPrices._find_cookie_crumb_pair\u001b[1;34m(self, locale)\u001b[0m\n\u001b[0;32m     72\u001b[0m     cookie \u001b[38;5;241m=\u001b[39m res\u001b[38;5;241m.\u001b[39mcookies[\u001b[38;5;124m'\u001b[39m\u001b[38;5;124mB\u001b[39m\u001b[38;5;124m'\u001b[39m]\n\u001b[0;32m     73\u001b[0m \u001b[38;5;28;01mexcept\u001b[39;00m \u001b[38;5;167;01mKeyError\u001b[39;00m:\n\u001b[1;32m---> 74\u001b[0m     \u001b[38;5;28;01mraise\u001b[39;00m \u001b[38;5;167;01mValueError\u001b[39;00m(\u001b[38;5;124m\"\u001b[39m\u001b[38;5;124mCookie not found\u001b[39m\u001b[38;5;124m\"\u001b[39m)\n\u001b[0;32m     76\u001b[0m \u001b[38;5;66;03m# TODO: Consider bs4 to make processing faster?\u001b[39;00m\n\u001b[0;32m     77\u001b[0m pattern \u001b[38;5;241m=\u001b[39m \u001b[38;5;124mr\u001b[39m\u001b[38;5;124m'\u001b[39m\u001b[38;5;124m\"\u001b[39m\u001b[38;5;124mCrumbStore\u001b[39m\u001b[38;5;124m\"\u001b[39m\u001b[38;5;124m:\u001b[39m\u001b[38;5;124m{\u001b[39m\u001b[38;5;124m\"\u001b[39m\u001b[38;5;124mcrumb\u001b[39m\u001b[38;5;124m\"\u001b[39m\u001b[38;5;124m:\u001b[39m\u001b[38;5;124m\"\u001b[39m\u001b[38;5;124m(.+?)\u001b[39m\u001b[38;5;124m\"\u001b[39m\u001b[38;5;124m}\u001b[39m\u001b[38;5;124m'\u001b[39m\n",
      "\u001b[1;31mValueError\u001b[0m: Cookie not found"
     ]
    }
   ],
   "source": [
    "from yahoofinance import HistoricalPrices\n",
    "request = HistoricalPrices('AAPL', start_date='2023-07-01', end_date='2023-07-19', frequency='1d')"
   ]
  },
  {
   "cell_type": "code",
   "execution_count": null,
   "id": "4705ac4e-eb0b-4e56-9375-981686a849ba",
   "metadata": {},
   "outputs": [],
   "source": [
    "request.to_dfs()"
   ]
  },
  {
   "cell_type": "markdown",
   "id": "5685bf02-7fc5-489e-a818-85a96d8e71b0",
   "metadata": {},
   "source": [
    "Generates a dictionary containing a pandas.DataFrame. Importing the BalanceSheet library can be executed."
   ]
  },
  {
   "cell_type": "code",
   "execution_count": null,
   "id": "41fb8fa0-7504-447f-bcb4-7266d5da2840",
   "metadata": {},
   "outputs": [],
   "source": [
    "request.to_csv()"
   ]
  },
  {
   "cell_type": "markdown",
   "id": "473098e1-4ab3-4b9c-804c-1ed90336c0b5",
   "metadata": {},
   "source": [
    "Generates a csv file."
   ]
  },
  {
   "cell_type": "markdown",
   "id": "985c67d4",
   "metadata": {},
   "source": [
    "Retrieving Balance Sheets from Yahoo."
   ]
  },
  {
   "cell_type": "code",
   "execution_count": null,
   "id": "c4cb9a0a",
   "metadata": {},
   "outputs": [],
   "source": [
    "from yahoofinance import BalanceSheet\n",
    "req = BalanceSheet('AAPL')"
   ]
  },
  {
   "cell_type": "code",
   "execution_count": null,
   "id": "7fad990f-296a-417b-94a1-73a9bb76beb7",
   "metadata": {},
   "outputs": [],
   "source": [
    "req.to_dfs()"
   ]
  },
  {
   "cell_type": "code",
   "execution_count": null,
   "id": "34b79ffd-3cbb-41b8-b057-d79e54720c6d",
   "metadata": {},
   "outputs": [],
   "source": [
    "req.to_csv()"
   ]
  },
  {
   "cell_type": "markdown",
   "id": "a5af6771",
   "metadata": {},
   "source": [
    "Retrieving Quarterly Balance Sheets from Yahoo."
   ]
  },
  {
   "cell_type": "code",
   "execution_count": null,
   "id": "50e964e9",
   "metadata": {},
   "outputs": [],
   "source": [
    "from yahoofinance import BalanceSheetQuarterly\n",
    "req = BalanceSheetQuarterly('AAPL')"
   ]
  },
  {
   "cell_type": "code",
   "execution_count": null,
   "id": "c1348356",
   "metadata": {},
   "outputs": [],
   "source": [
    "req.to_dfs()"
   ]
  },
  {
   "cell_type": "code",
   "execution_count": null,
   "id": "2613a81d",
   "metadata": {},
   "outputs": [],
   "source": [
    "req.to_csv()"
   ]
  },
  {
   "cell_type": "markdown",
   "id": "82016398",
   "metadata": {},
   "source": [
    "Retrieving Annual Cash Flow from Yahoo."
   ]
  },
  {
   "cell_type": "code",
   "execution_count": null,
   "id": "68857c40",
   "metadata": {},
   "outputs": [],
   "source": [
    "from yahoofinance import CashFlow\n",
    "req = CashFlow('AAPL')"
   ]
  },
  {
   "cell_type": "code",
   "execution_count": null,
   "id": "99f0e3f8",
   "metadata": {},
   "outputs": [],
   "source": [
    "req.to_dfs()"
   ]
  },
  {
   "cell_type": "code",
   "execution_count": null,
   "id": "c94faa08",
   "metadata": {},
   "outputs": [],
   "source": [
    "req.to_csv()"
   ]
  },
  {
   "cell_type": "markdown",
   "id": "3f5b5861",
   "metadata": {},
   "source": [
    "Retrieving Quarterly Cash Flow from Yahoo."
   ]
  },
  {
   "cell_type": "code",
   "execution_count": null,
   "id": "2400e244",
   "metadata": {},
   "outputs": [],
   "source": [
    "from yahoofinance import CashFlowQuarterly\n",
    "req = CashFlowQuarterly('AAPL')"
   ]
  },
  {
   "cell_type": "code",
   "execution_count": null,
   "id": "0b39968e",
   "metadata": {},
   "outputs": [],
   "source": [
    "req.to_dfs()"
   ]
  },
  {
   "cell_type": "code",
   "execution_count": null,
   "id": "056c57a9",
   "metadata": {},
   "outputs": [],
   "source": [
    "req.to_csv()"
   ]
  },
  {
   "cell_type": "markdown",
   "id": "b3205843",
   "metadata": {},
   "source": [
    "Retrieving an Income Statement from Yahoo."
   ]
  },
  {
   "cell_type": "code",
   "execution_count": null,
   "id": "d027dc11",
   "metadata": {},
   "outputs": [],
   "source": [
    "from yahoofinance import IncomeStatement\n",
    "req = IncomeStatement('AAPL')"
   ]
  },
  {
   "cell_type": "code",
   "execution_count": null,
   "id": "df53301f",
   "metadata": {},
   "outputs": [],
   "source": [
    "req.to_dfs()"
   ]
  },
  {
   "cell_type": "code",
   "execution_count": null,
   "id": "471f2774",
   "metadata": {},
   "outputs": [],
   "source": [
    "req.to_csv()"
   ]
  },
  {
   "cell_type": "markdown",
   "id": "989d7b78",
   "metadata": {},
   "source": [
    "Retrieving a Quarterly Income Statement from Yahoo."
   ]
  },
  {
   "cell_type": "code",
   "execution_count": null,
   "id": "d7e4e802",
   "metadata": {},
   "outputs": [],
   "source": [
    "from yahoofinance import IncomeStatementQuarterly\n",
    "req = IncomeStatementQuarterly('AAPL')"
   ]
  },
  {
   "cell_type": "code",
   "execution_count": null,
   "id": "aafe4ba4",
   "metadata": {},
   "outputs": [],
   "source": [
    "req.to_dfs()"
   ]
  },
  {
   "cell_type": "code",
   "execution_count": null,
   "id": "20feb0cd",
   "metadata": {},
   "outputs": [],
   "source": [
    "req.to_csv()"
   ]
  },
  {
   "cell_type": "markdown",
   "id": "f1d0ac56",
   "metadata": {},
   "source": [
    "Retrieving an Asset Profile from Yahoo."
   ]
  },
  {
   "cell_type": "code",
   "execution_count": null,
   "id": "005ac6ea",
   "metadata": {},
   "outputs": [],
   "source": [
    "from yahoofinance import AssetProfile\n",
    "req = AssetProfile('AAPL')"
   ]
  },
  {
   "cell_type": "code",
   "execution_count": null,
   "id": "e9be2576",
   "metadata": {},
   "outputs": [],
   "source": [
    "req.to_dfs()"
   ]
  },
  {
   "cell_type": "code",
   "execution_count": null,
   "id": "954f262c",
   "metadata": {},
   "outputs": [],
   "source": [
    "req.to_csv()"
   ]
  },
  {
   "cell_type": "markdown",
   "id": "3bfbb5ee",
   "metadata": {},
   "source": [
    "Or something like this:"
   ]
  },
  {
   "cell_type": "code",
   "execution_count": null,
   "id": "9b45c9bd-cab6-4d37-8186-8b83d33a3862",
   "metadata": {
    "tags": []
   },
   "outputs": [],
   "source": [
    "profile = yf.AssetProfile('AAPL')\n",
    "profile.to_csv('AAPL-profile.csv')"
   ]
  },
  {
   "cell_type": "markdown",
   "id": "1c394003",
   "metadata": {},
   "source": [
    "Adding in a Locality, e.g. Canada."
   ]
  },
  {
   "cell_type": "code",
   "execution_count": null,
   "id": "fdf1bc53-bec9-48c6-9fa9-33d867f04e19",
   "metadata": {
    "tags": []
   },
   "outputs": [],
   "source": [
    "profile = yf.AssetProfile('AAPL', locale=Locale.CA)\n",
    "profile.to_csv('AAPL-profile.csv')"
   ]
  },
  {
   "cell_type": "code",
   "execution_count": null,
   "id": "9e872014",
   "metadata": {},
   "outputs": [],
   "source": [
    "import yahoofinance as yf\n",
    "import pandas as pd\n",
    "import matplotlib.pyplot as plt\n",
    "%matplotlib inline"
   ]
  },
  {
   "cell_type": "code",
   "execution_count": null,
   "id": "24a20252",
   "metadata": {},
   "outputs": [],
   "source": [
    "historical = yf.HistoricalPrices('AAPL', '2010-01-01', '2018-11-20')\n",
    "dfs = historical.to_dfs()\n",
    "df = dfs['Historical Prices']"
   ]
  },
  {
   "cell_type": "code",
   "execution_count": null,
   "id": "0af8b9af",
   "metadata": {},
   "outputs": [],
   "source": [
    "df.index = pd.to_datetime(df.index)"
   ]
  },
  {
   "cell_type": "code",
   "execution_count": null,
   "id": "e631a3f4",
   "metadata": {},
   "outputs": [],
   "source": [
    "fig1 = plt.figure(figsize=(15,10))\n",
    "plt.xlabel('Date')\n",
    "plt.ylabel('Price ($)')\n",
    "plt.title('AAPL Share Price')\n",
    "plt.plot(df[['Close']])\n",
    "plt.grid(c='grey')\n",
    "plt.xticks(rotation=45)"
   ]
  },
  {
   "cell_type": "markdown",
   "id": "76032a37",
   "metadata": {},
   "source": [
    "## Yahoo Finance API\n",
    "Pip install from PyPi: yfapi 1.6.2"
   ]
  },
  {
   "cell_type": "code",
   "execution_count": null,
   "id": "112e9f2a",
   "metadata": {},
   "outputs": [],
   "source": [
    "# !pip install yfapi"
   ]
  },
  {
   "cell_type": "code",
   "execution_count": null,
   "id": "4a2227df",
   "metadata": {},
   "outputs": [],
   "source": [
    "from yfapi import YahooFinance\n",
    "\n",
    "google_data = YahooFinance('GOOG', '1d', '1d')\n",
    "google_info = google_data.info()"
   ]
  },
  {
   "cell_type": "code",
   "execution_count": null,
   "id": "64349f70",
   "metadata": {},
   "outputs": [],
   "source": [
    "google_trading_period = google_data.trading_period(\"regular\")"
   ]
  },
  {
   "cell_type": "code",
   "execution_count": null,
   "id": "6fa2b40a",
   "metadata": {},
   "outputs": [],
   "source": [
    "google_values = google_data.all_values()"
   ]
  },
  {
   "cell_type": "code",
   "execution_count": null,
   "id": "20b12bdd",
   "metadata": {},
   "outputs": [],
   "source": [
    "google_close = google_data.close()"
   ]
  },
  {
   "cell_type": "code",
   "execution_count": null,
   "id": "c95ff31e",
   "metadata": {},
   "outputs": [],
   "source": [
    "google_open = google_data.open()"
   ]
  },
  {
   "cell_type": "code",
   "execution_count": null,
   "id": "4874653d",
   "metadata": {},
   "outputs": [],
   "source": [
    "google_high = google_data.high()"
   ]
  },
  {
   "cell_type": "code",
   "execution_count": null,
   "id": "b0700542",
   "metadata": {},
   "outputs": [],
   "source": [
    "google_low = google_data.low()"
   ]
  },
  {
   "cell_type": "code",
   "execution_count": null,
   "id": "0a2d9cd7",
   "metadata": {},
   "outputs": [],
   "source": [
    "google_volume = google_data.volume()"
   ]
  },
  {
   "cell_type": "code",
   "execution_count": null,
   "id": "a03145cc",
   "metadata": {},
   "outputs": [],
   "source": [
    "google_data = google_data.all_values()\n",
    "google_data.to_csv(\"google_database.csv\", sep=\",\")"
   ]
  },
  {
   "cell_type": "code",
   "execution_count": null,
   "id": "4ca68de8",
   "metadata": {},
   "outputs": [],
   "source": [
    "google_data = google_data.all_values()\n",
    "google_data.to_excel(\"google_database.xlsx\")"
   ]
  },
  {
   "cell_type": "markdown",
   "id": "50d64ca4",
   "metadata": {},
   "source": [
    "## Finance Scrapers\n",
    "Pip install from PyPi: finance-scrapers 0.1.5 "
   ]
  },
  {
   "cell_type": "code",
   "execution_count": null,
   "id": "25d853d6",
   "metadata": {},
   "outputs": [],
   "source": [
    "# !pip install finance-scrapers"
   ]
  },
  {
   "cell_type": "code",
   "execution_count": null,
   "id": "44e7b3ea-2927-4ae0-902a-f958b95b1ca5",
   "metadata": {},
   "outputs": [],
   "source": [
    "from finance_scrapers import YahooFinance\n",
    "\n",
    "# the tickers of the stocks you want to scrape\n",
    "tickers = ['schb', 'googl', 'nflx']\n",
    "\n",
    "# run the scraper\n",
    "scraper = YahooFinance(tickers)\n",
    "all_stock_info = scraper.scrape()"
   ]
  },
  {
   "cell_type": "code",
   "execution_count": null,
   "id": "0d3bb4a5-6094-4a9e-8e41-217cddd36b7a",
   "metadata": {},
   "outputs": [],
   "source": [
    "from finance_scrapers import YahooFinance\n",
    "\n",
    "# the tickers of the stocks you want to scrape\n",
    "tickers = ['schb', 'googl', 'nflx']\n",
    "\n",
    "scraper = YahooFinance(tickers)\n",
    "\n",
    "# download data\n",
    "scraper.download_data(\"json\", \"sample.json\", overwrite=False) # or,\n",
    "scraper.download_data(\"markdown\", \"sample.md\") # or,\n",
    "scraper.download_data(\"csv\", \"sample.csv\") # or,\n",
    "scraper.download_data(\"excel\", \"sample.xlsx\")"
   ]
  },
  {
   "cell_type": "markdown",
   "id": "a61822a6",
   "metadata": {},
   "source": [
    "## Stock Analysis\n",
    "Pip install using PyPi: stockAnalysis 1.4.1"
   ]
  },
  {
   "cell_type": "code",
   "execution_count": null,
   "id": "d40effe7",
   "metadata": {},
   "outputs": [],
   "source": [
    "# !pip install stockAnalysis"
   ]
  },
  {
   "cell_type": "code",
   "execution_count": null,
   "id": "ac8eb8ae",
   "metadata": {},
   "outputs": [],
   "source": [
    "# Create an instance of yahoo finance class and pass the parameters as string\n",
    "yf = YahooFinance('AAPL', '6mo', '1d')"
   ]
  },
  {
   "cell_type": "code",
   "execution_count": null,
   "id": "8ea56282",
   "metadata": {},
   "outputs": [],
   "source": [
    "# Gets all the prices within given time frame\n",
    "get_quotes = yf.CompanyQuotes()"
   ]
  },
  {
   "cell_type": "code",
   "execution_count": null,
   "id": "cd117a61",
   "metadata": {},
   "outputs": [],
   "source": [
    "# Populates the output data as a json file\n",
    "write_data = yf.writeOutput()"
   ]
  },
  {
   "cell_type": "code",
   "execution_count": null,
   "id": "68aad405",
   "metadata": {},
   "outputs": [],
   "source": [
    "'''Reads from the output file. Takes only two parameter Path and Data Series Parameter string should be \n",
    "[High, Low, Open , Close] '''\n",
    "r_data = yf.readOutput('output.json', 'close')"
   ]
  },
  {
   "cell_type": "code",
   "execution_count": null,
   "id": "b59c2d91",
   "metadata": {},
   "outputs": [],
   "source": [
    "# SMA and EMA methods takes two parameters first param is Data and second is the time frame\n",
    "get_sma = yf.sma(r_data, 14)\n",
    "get_ema = yf.ema(r_data, 14)"
   ]
  },
  {
   "cell_type": "code",
   "execution_count": null,
   "id": "a1b98f61",
   "metadata": {},
   "outputs": [],
   "source": [
    "# RSI method takes two parameters first param is Data and second is the time frame\n",
    "get_rsi = yf.RSI(r_data, 14)"
   ]
  },
  {
   "cell_type": "code",
   "execution_count": null,
   "id": "a4e23247",
   "metadata": {},
   "outputs": [],
   "source": [
    "# MACD method takes three parameters first param is Data, second is the slows  and third one is the fast\n",
    "get_macd = yf.macd(r_data, 25, 14)"
   ]
  },
  {
   "cell_type": "code",
   "execution_count": null,
   "id": "b69b587f",
   "metadata": {},
   "outputs": [],
   "source": []
  }
 ],
 "metadata": {
  "kernelspec": {
   "display_name": "Python 3 (ipykernel)",
   "language": "python",
   "name": "python3"
  },
  "language_info": {
   "codemirror_mode": {
    "name": "ipython",
    "version": 3
   },
   "file_extension": ".py",
   "mimetype": "text/x-python",
   "name": "python",
   "nbconvert_exporter": "python",
   "pygments_lexer": "ipython3",
   "version": "3.10.9"
  }
 },
 "nbformat": 4,
 "nbformat_minor": 5
}
