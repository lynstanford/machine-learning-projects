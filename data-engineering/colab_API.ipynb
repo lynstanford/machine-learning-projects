{
 "cells": [
  {
   "cell_type": "code",
   "execution_count": null,
   "id": "1cb6999b",
   "metadata": {},
   "outputs": [],
   "source": [
    "# Google OAuth 2.0 and OAuth consent screen\n",
    "\n",
    "# authetication to google api services\n",
    "# create oauth client secret file\n",
    "\n",
    "# https://console.cloud.google.com/ to sign up and get authentication info\n",
    "\n",
    "# pip install pydrive\n",
    "\n",
    "from pydrive.auth import GoogleAuth\n",
    "from pydrive.drive import GoogleDrive\n",
    "\n",
    "gauth = GoogleAuth()\n",
    "drive = GoogleDrive(gauth)\n",
    "\n",
    "folder = ''\n",
    "\n",
    "file1 = drive.CreateFile({'parents' : [{'id' : folder}], 'title' : 'hello2.txt'})\n",
    "file1.SetContentString('Hello world!, this is my second file')\n",
    "file1.Upload()"
   ]
  },
  {
   "cell_type": "code",
   "execution_count": null,
   "id": "1ad120d8",
   "metadata": {},
   "outputs": [],
   "source": []
  }
 ],
 "metadata": {
  "kernelspec": {
   "display_name": "Python 3 (ipykernel)",
   "language": "python",
   "name": "python3"
  },
  "language_info": {
   "codemirror_mode": {
    "name": "ipython",
    "version": 3
   },
   "file_extension": ".py",
   "mimetype": "text/x-python",
   "name": "python",
   "nbconvert_exporter": "python",
   "pygments_lexer": "ipython3",
   "version": "3.9.13"
  }
 },
 "nbformat": 4,
 "nbformat_minor": 5
}
