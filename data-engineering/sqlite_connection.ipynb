{
 "cells": [
  {
   "cell_type": "code",
   "execution_count": 1,
   "id": "7ce36302",
   "metadata": {},
   "outputs": [],
   "source": [
    "import sqlite3\n",
    "\n",
    "# connect to a database\n",
    "conn = sqlite3.connect('customers.db')"
   ]
  },
  {
   "cell_type": "markdown",
   "id": "62b3df15",
   "metadata": {},
   "source": [
    "SQLite also allows you to create a database in memory. The software program won't save the database which disappears once you've finished with it.\n",
    "\n",
    "conn = sqlite3.connect(':memory:')          # an example of an in-memory connection"
   ]
  },
  {
   "cell_type": "markdown",
   "id": "7cabdfa8",
   "metadata": {},
   "source": [
    "## Create a Cursor\n",
    "This tells the database what you want to do. Whenever you do anything you're going to get the cursor to do it!"
   ]
  },
  {
   "cell_type": "code",
   "execution_count": null,
   "id": "54336680",
   "metadata": {},
   "outputs": [],
   "source": [
    "# create a cursor\n",
    "c = conn.cursor()"
   ]
  },
  {
   "cell_type": "markdown",
   "id": "18bcca18",
   "metadata": {},
   "source": [
    "## Create a Table"
   ]
  },
  {
   "cell_type": "code",
   "execution_count": null,
   "id": "65624e4d",
   "metadata": {},
   "outputs": [],
   "source": [
    "c.execute(\"\"\" CREATE TABLE customers (\n",
    "        first_name DATATYPE,\n",
    "        last_name DATATYPE,\n",
    "        email DATATYPE)\n",
    "\"\"\")"
   ]
  },
  {
   "cell_type": "markdown",
   "id": "2fde3617",
   "metadata": {},
   "source": [
    "Another valid way to write this code is as follows (using a single line):\n",
    "\n",
    "c.execute(\"CREATE TABLE customers (first_name DATATYPE, last_name DATATYPE, email DATATYPE)\")"
   ]
  },
  {
   "cell_type": "code",
   "execution_count": null,
   "id": "b6135e03",
   "metadata": {},
   "outputs": [],
   "source": [
    "## Data Types in SQLite\n",
    "# NULL\n",
    "# INTEGER\n",
    "# REAL\n",
    "# TEXT\n",
    "# BLOB"
   ]
  },
  {
   "cell_type": "markdown",
   "id": "6bfd43a1",
   "metadata": {},
   "source": [
    "Changing the 'DATATYPE' to 'text' as follows:"
   ]
  },
  {
   "cell_type": "code",
   "execution_count": null,
   "id": "0511f58a",
   "metadata": {},
   "outputs": [],
   "source": [
    "c.execute(\"\"\" CREATE TABLE customers (\n",
    "        first_name TEXT,\n",
    "        last_name TEXT,\n",
    "        email TEXT)\n",
    "\"\"\")"
   ]
  },
  {
   "cell_type": "markdown",
   "id": "754a1370",
   "metadata": {},
   "source": [
    "## Insert One Record at a Time"
   ]
  },
  {
   "cell_type": "code",
   "execution_count": null,
   "id": "51fecfbb",
   "metadata": {},
   "outputs": [],
   "source": [
    "# Insert one record into the table\n",
    "\n",
    "c.execute(\"INSERT INTO customers VALUES ('John', 'Elder', 'john@codemy.com')\")\n",
    "print(\"Command executed successfully...\")"
   ]
  },
  {
   "cell_type": "code",
   "execution_count": null,
   "id": "e44e4a1b",
   "metadata": {},
   "outputs": [],
   "source": [
    "# commit our connection command\n",
    "conn.commit()"
   ]
  },
  {
   "cell_type": "code",
   "execution_count": null,
   "id": "f74a6e05",
   "metadata": {},
   "outputs": [],
   "source": [
    "# close our connection\n",
    "conn.close()"
   ]
  },
  {
   "cell_type": "markdown",
   "id": "f5c88acb",
   "metadata": {},
   "source": [
    "Open bash and navigate to the location of this file using 'cd' command. Then, save and run the python file 'sqlite_connection.py' in bash.\n",
    "\n",
    "You should see the 'Command executed successfully...' output."
   ]
  },
  {
   "cell_type": "code",
   "execution_count": null,
   "id": "5bd8f47a",
   "metadata": {},
   "outputs": [],
   "source": [
    "# add another entry to our database:\n",
    "c.execute(\"INSERT INTO customers VALUES ('Tim', 'Smith', 'tim@codemy.com')\")\n",
    "# commit our connection command\n",
    "conn.commit()\n",
    "# close our connection\n",
    "conn.close()"
   ]
  },
  {
   "cell_type": "markdown",
   "id": "b1117e06",
   "metadata": {},
   "source": [
    "Save this file and run it in the bash!"
   ]
  },
  {
   "cell_type": "code",
   "execution_count": null,
   "id": "37284f03",
   "metadata": {},
   "outputs": [],
   "source": [
    "# add another entry to our database:\n",
    "c.execute(\"INSERT INTO customers VALUES ('Mary', 'Brown', 'mary@codemy.com')\")\n",
    "# commit our connection command\n",
    "conn.commit()\n",
    "# close our connection\n",
    "conn.close()"
   ]
  },
  {
   "cell_type": "markdown",
   "id": "901f110d",
   "metadata": {},
   "source": [
    "Save this file and run it in the bash!\n",
    "\n",
    "## Insert Many Records Into the Table"
   ]
  },
  {
   "cell_type": "code",
   "execution_count": null,
   "id": "77c18e90",
   "metadata": {},
   "outputs": [],
   "source": [
    "# insert many records into the table\n",
    "many_customers = [\n",
    "                    ('Wes','Brown','wes@brown.com'),\n",
    "                    ('Steph','Kuewa','steph@kuewa.com'),\n",
    "                    ('Dan','Pas','dan@pas.com')\n",
    "                ]"
   ]
  },
  {
   "cell_type": "code",
   "execution_count": null,
   "id": "91474f27",
   "metadata": {},
   "outputs": [],
   "source": [
    "# add many entries to our database using placeholders\n",
    "c.executemany(\"INSERT INTO customers VALUES (?,?,?)\", many_customers)\n",
    "# commit our connection command\n",
    "conn.commit()\n",
    "# close our connection\n",
    "conn.close()"
   ]
  },
  {
   "cell_type": "markdown",
   "id": "c612061f",
   "metadata": {},
   "source": [
    "## Query and Fetchall"
   ]
  },
  {
   "cell_type": "code",
   "execution_count": null,
   "id": "4eef64bc",
   "metadata": {},
   "outputs": [],
   "source": [
    "import sqlite3\n",
    "\n",
    "# connect to a database\n",
    "conn = sqlite3.connect('customers.db')\n",
    "\n",
    "# create a cursor\n",
    "c = conn.cursor()\n",
    "\n",
    "# query the database\n",
    "c.execute(\"SELECT * FROM customers\")\n",
    "# print(c.fetchone())\n",
    "# print(c.fetchmany(3))\n",
    "\n",
    "print(c.fetchall())\n",
    "\n",
    "# print(\"Command executed successfully...\")\n",
    "\n",
    "# commit our command\n",
    "conn.commit()\n",
    "\n",
    "# close our connection\n",
    "conn.close()"
   ]
  },
  {
   "cell_type": "markdown",
   "id": "a7aa30f1",
   "metadata": {},
   "source": [
    "Save and run in bash or command prompt again!"
   ]
  },
  {
   "cell_type": "code",
   "execution_count": null,
   "id": "88874ad0",
   "metadata": {},
   "outputs": [],
   "source": [
    "import sqlite3\n",
    "\n",
    "# connect to a database\n",
    "conn = sqlite3.connect('customers.db')\n",
    "\n",
    "# create a cursor\n",
    "c = conn.cursor()\n",
    "\n",
    "# query the database\n",
    "c.execute(\"SELECT * FROM customers\")\n",
    "print(c.fetchone())\n",
    "# print(c.fetchmany(3))\n",
    "\n",
    "# print(c.fetchall())\n",
    "\n",
    "# print(\"Command executed successfully...\")\n",
    "\n",
    "# commit our command\n",
    "conn.commit()\n",
    "\n",
    "# close our connection\n",
    "conn.close()"
   ]
  },
  {
   "cell_type": "code",
   "execution_count": null,
   "id": "354a9959",
   "metadata": {},
   "outputs": [],
   "source": []
  },
  {
   "cell_type": "code",
   "execution_count": null,
   "id": "9dfadd9c",
   "metadata": {},
   "outputs": [],
   "source": []
  },
  {
   "cell_type": "code",
   "execution_count": null,
   "id": "65864f66",
   "metadata": {},
   "outputs": [],
   "source": []
  },
  {
   "cell_type": "code",
   "execution_count": null,
   "id": "0d470794",
   "metadata": {},
   "outputs": [],
   "source": []
  },
  {
   "cell_type": "code",
   "execution_count": null,
   "id": "1cbb587c",
   "metadata": {},
   "outputs": [],
   "source": []
  },
  {
   "cell_type": "code",
   "execution_count": null,
   "id": "842777ee",
   "metadata": {},
   "outputs": [],
   "source": [
    "engine = create_engine('sqlite:///:memory:')"
   ]
  }
 ],
 "metadata": {
  "kernelspec": {
   "display_name": "Python 3 (ipykernel)",
   "language": "python",
   "name": "python3"
  },
  "language_info": {
   "codemirror_mode": {
    "name": "ipython",
    "version": 3
   },
   "file_extension": ".py",
   "mimetype": "text/x-python",
   "name": "python",
   "nbconvert_exporter": "python",
   "pygments_lexer": "ipython3",
   "version": "3.9.13"
  }
 },
 "nbformat": 4,
 "nbformat_minor": 5
}
