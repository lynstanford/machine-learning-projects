{
 "cells": [
  {
   "cell_type": "code",
   "execution_count": 1,
   "id": "7ce36302",
   "metadata": {},
   "outputs": [],
   "source": [
    "import sqlite3\n",
    "\n",
    "conn = sqlite3.connect('customers.db')"
   ]
  },
  {
   "cell_type": "markdown",
   "id": "62b3df15",
   "metadata": {},
   "source": [
    "SQLite also allows you to create a database in memory. The software program won't save the database which disappears once you've finished with it.\n",
    "\n",
    "conn = sqlite3.connect(':memory:')          # an example of an in-memory connection"
   ]
  },
  {
   "cell_type": "markdown",
   "id": "7cabdfa8",
   "metadata": {},
   "source": [
    "## Create a Cursor\n",
    "This tells the database what you want to do. Whenever you do anything you're going to get the cursor to do it!"
   ]
  },
  {
   "cell_type": "code",
   "execution_count": null,
   "id": "54336680",
   "metadata": {},
   "outputs": [],
   "source": [
    "# create a cursor\n",
    "c = conn.cursor()"
   ]
  },
  {
   "cell_type": "markdown",
   "id": "18bcca18",
   "metadata": {},
   "source": [
    "## Create a Table"
   ]
  },
  {
   "cell_type": "code",
   "execution_count": null,
   "id": "65624e4d",
   "metadata": {},
   "outputs": [],
   "source": [
    "c.execute(\"\"\" CREATE TABLE customers (\n",
    "        first_name DATATYPE,\n",
    "        last_name DATATYPE,\n",
    "        email DATATYPE)\n",
    "\"\"\")"
   ]
  },
  {
   "cell_type": "markdown",
   "id": "2fde3617",
   "metadata": {},
   "source": [
    "Another valid way to write this code is as follows (using a single line):\n",
    "\n",
    "c.execute(\"CREATE TABLE customers (first_name DATATYPE, last_name DATATYPE, email DATATYPE)\")"
   ]
  },
  {
   "cell_type": "markdown",
   "id": "369e7728",
   "metadata": {},
   "source": [
    "## Data Types in SQLite\n",
    "NULL\n",
    "INTEGER\n",
    "REAL\n",
    "TEXT\n",
    "BLOB"
   ]
  },
  {
   "cell_type": "code",
   "execution_count": null,
   "id": "e2970013",
   "metadata": {},
   "outputs": [],
   "source": []
  },
  {
   "cell_type": "code",
   "execution_count": null,
   "id": "0511f58a",
   "metadata": {},
   "outputs": [],
   "source": []
  },
  {
   "cell_type": "code",
   "execution_count": null,
   "id": "37534827",
   "metadata": {},
   "outputs": [],
   "source": []
  },
  {
   "cell_type": "code",
   "execution_count": null,
   "id": "842777ee",
   "metadata": {},
   "outputs": [],
   "source": [
    "engine = create_engine('sqlite:///:memory:')"
   ]
  }
 ],
 "metadata": {
  "kernelspec": {
   "display_name": "Python 3 (ipykernel)",
   "language": "python",
   "name": "python3"
  },
  "language_info": {
   "codemirror_mode": {
    "name": "ipython",
    "version": 3
   },
   "file_extension": ".py",
   "mimetype": "text/x-python",
   "name": "python",
   "nbconvert_exporter": "python",
   "pygments_lexer": "ipython3",
   "version": "3.9.13"
  }
 },
 "nbformat": 4,
 "nbformat_minor": 5
}
