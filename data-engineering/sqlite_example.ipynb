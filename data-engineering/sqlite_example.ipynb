{
 "cells": [
  {
   "cell_type": "code",
   "execution_count": 1,
   "metadata": {},
   "outputs": [],
   "source": [
    "# import the modules\n",
    "import sqlalchemy\n",
    "import sqlite3\n",
    "from sqlalchemy import create_engine\n",
    "import pandas as pd"
   ]
  },
  {
   "cell_type": "code",
   "execution_count": null,
   "metadata": {},
   "outputs": [],
   "source": [
    "connection = sqlite3.connect(\"gta.db\")"
   ]
  },
  {
   "cell_type": "code",
   "execution_count": null,
   "metadata": {},
   "outputs": [],
   "source": [
    "# or connect to a database in RAM\n",
    "# connection = sqlite3.connect(\":memory:\")"
   ]
  },
  {
   "attachments": {},
   "cell_type": "markdown",
   "metadata": {},
   "source": [
    "If you're using an IDE, click the play button or run the code. If using a terminal then navigate to the root folder from the current working directory."
   ]
  },
  {
   "attachments": {},
   "cell_type": "markdown",
   "metadata": {},
   "source": [
    "~/main_env/sqlite$ ../../"
   ]
  },
  {
   "attachments": {},
   "cell_type": "markdown",
   "metadata": {},
   "source": [
    "From the root you must navigate to the project folder first."
   ]
  },
  {
   "attachments": {},
   "cell_type": "markdown",
   "metadata": {},
   "source": [
    "~$ cd main_env/sqlite"
   ]
  },
  {
   "attachments": {},
   "cell_type": "markdown",
   "metadata": {},
   "source": [
    "Now you should be in the project folder!"
   ]
  },
  {
   "attachments": {},
   "cell_type": "markdown",
   "metadata": {},
   "source": [
    "~/main_env/sqlite$"
   ]
  },
  {
   "attachments": {},
   "cell_type": "markdown",
   "metadata": {},
   "source": [
    "From here you want to run your python project file, in this case we've called it 'main.py'."
   ]
  },
  {
   "attachments": {},
   "cell_type": "markdown",
   "metadata": {},
   "source": [
    "~/main_env/sqlite$ python3 main.py"
   ]
  },
  {
   "attachments": {},
   "cell_type": "markdown",
   "metadata": {},
   "source": [
    "Then look at your file directory on the left hand side. You should see the new 'test.db' file appear. This file may need to be populated with data unless it already has been.\n",
    "In order to create SQL commands you first need to create a cursor() object."
   ]
  },
  {
   "cell_type": "code",
   "execution_count": null,
   "metadata": {},
   "outputs": [],
   "source": [
    "cursor = connection.cursor()"
   ]
  },
  {
   "attachments": {},
   "cell_type": "markdown",
   "metadata": {},
   "source": [
    "This object is now in charge of all connections with our database, so whenever we execute something with a command, we're executing it using the cursor() object.\n",
    "Suppose I want to create a new table in the database."
   ]
  },
  {
   "cell_type": "code",
   "execution_count": null,
   "metadata": {},
   "outputs": [],
   "source": [
    "cursor.execute(\"create table gta (release_year integer, release_name text, city text)\")"
   ]
  },
  {
   "cell_type": "code",
   "execution_count": null,
   "metadata": {},
   "outputs": [],
   "source": [
    "release_list = [\n",
    "    (1997, \"Grand Theft Auto\", \"State of New Guernsey\"),\n",
    "    (1999, \"Grand Theft Auto 2\", \"Anywhere, USA\"),\n",
    "    (2001, \"Grand Theft Auto III\", \"Liberty City\"),\n",
    "    (2002, \"Grand Theft Auto: Vice City\", \"Vice City\"),\n",
    "    (2004, \"Grand Theft Auto: San Andreas\", \"State of San Andreas\"),\n",
    "    (2008, \"Grand Theft Auto IV\", \"Liberty City\"),\n",
    "    (2013, \"Grand Theft Auto V\", \"Los Santos\")   \n",
    "]"
   ]
  },
  {
   "attachments": {},
   "cell_type": "markdown",
   "metadata": {},
   "source": [
    "Insert placeholders for the values for the 'release_year', 'release_name', and 'city' using '?' in the form of a Tuple for these items. Specify the name of the list we're using 'release_list' as the 2nd argument.\n",
    "Because gta.db was created earlier, delete it first from the file explorer directory on the left hand side before running the code again."
   ]
  },
  {
   "cell_type": "code",
   "execution_count": null,
   "metadata": {},
   "outputs": [],
   "source": [
    "cursor.executemany(\"insert into gta values (?,?,?)\", release_list)"
   ]
  },
  {
   "attachments": {},
   "cell_type": "markdown",
   "metadata": {},
   "source": [
    "Run the code and click on the test.db file to see if there is data inside it this time. (It may appear to be a collection of strange characters)! Because this data isn't in human readable form, it needs to be translated."
   ]
  },
  {
   "cell_type": "code",
   "execution_count": null,
   "metadata": {},
   "outputs": [],
   "source": [
    "# print database rows\n",
    "for row in cursor.execute(\"select * from gta\"):\n",
    "    print(row)"
   ]
  },
  {
   "attachments": {},
   "cell_type": "markdown",
   "metadata": {},
   "source": [
    "Delete the test.db file once again!\n",
    "Re-run the code."
   ]
  },
  {
   "cell_type": "code",
   "execution_count": null,
   "metadata": {},
   "outputs": [],
   "source": [
    "# separate the next code cell output from the previous\n",
    "print(\"*****************************\")"
   ]
  },
  {
   "attachments": {},
   "cell_type": "markdown",
   "metadata": {},
   "source": [
    "Next, instead of selecting all the values from the table, suppose we only want to return those values from Liberty City."
   ]
  },
  {
   "cell_type": "code",
   "execution_count": null,
   "metadata": {},
   "outputs": [],
   "source": [
    "# print specific rows\n",
    "cursor.execute(\"select * from gta where city=:c\", {\"c\": \"Liberty City\"})\n",
    "gta_search = cursor.fetchall()\n",
    "print(gta_search)"
   ]
  },
  {
   "attachments": {},
   "cell_type": "markdown",
   "metadata": {},
   "source": [
    "Re-run the code."
   ]
  },
  {
   "cell_type": "code",
   "execution_count": null,
   "metadata": {},
   "outputs": [],
   "source": [
    "# create a new table to hold information for different cities\n",
    "cursor.execute(\"create table cities (gta_city text, real_city text)\")\n",
    "cursor.execute(\"insert into cities values (?,?\", (\"Liberty City\", \"New York\"))\n",
    "cursor.execute(\"select * from cities where gta_city=:c\", {\"c\": \"Liberty City\"})\n",
    "cities_search = cursor.fetchall()\n",
    "print(cities_search)"
   ]
  },
  {
   "attachments": {},
   "cell_type": "markdown",
   "metadata": {},
   "source": [
    "Next, let's try combining our tables.\n",
    "Suppose you want to replace each value containing 'Liberty City' with 'New York'."
   ]
  },
  {
   "cell_type": "code",
   "execution_count": null,
   "metadata": {},
   "outputs": [],
   "source": [
    "# separate the next code cell output from the previous\n",
    "print(\"*****************************\")"
   ]
  },
  {
   "cell_type": "code",
   "execution_count": null,
   "metadata": {},
   "outputs": [],
   "source": [
    "for i in gta_search:\n",
    "    [\"New York\" if value==\"Liberty City\" else value for value in i]"
   ]
  },
  {
   "attachments": {},
   "cell_type": "markdown",
   "metadata": {},
   "source": [
    "That's not all. Let's replace 'New York' and 'Liberty City' with the actual values we have fetched from the database using indexing.\n",
    "Checking the output from above we can see Liberty City is stored in row [0], column [0], or the first index in the list.\n",
    "New York is stored in row [0], column [1], or the second index in the list."
   ]
  },
  {
   "cell_type": "code",
   "execution_count": null,
   "metadata": {},
   "outputs": [],
   "source": [
    "for i in gta_search:\n",
    "    adjusted = [cities_search[0][1] if value==cities_search[0][0] else value for value in i]\n",
    "    print(adjusted)"
   ]
  },
  {
   "cell_type": "code",
   "execution_count": null,
   "metadata": {},
   "outputs": [],
   "source": [
    "connection.close()"
   ]
  },
  {
   "attachments": {},
   "cell_type": "markdown",
   "metadata": {},
   "source": [
    "Congratulations! We have replaced every instance of Liberty City with New York."
   ]
  }
 ],
 "metadata": {
  "kernelspec": {
   "display_name": "base",
   "language": "python",
   "name": "python3"
  },
  "language_info": {
   "codemirror_mode": {
    "name": "ipython",
    "version": 3
   },
   "file_extension": ".py",
   "mimetype": "text/x-python",
   "name": "python",
   "nbconvert_exporter": "python",
   "pygments_lexer": "ipython3",
   "version": "3.9.13 (main, Aug 25 2022, 23:51:50) [MSC v.1916 64 bit (AMD64)]"
  },
  "orig_nbformat": 4,
  "vscode": {
   "interpreter": {
    "hash": "4c26972402dce5166fbc873f625c08651cf8cab8ad67af055bc25543d79ffa73"
   }
  }
 },
 "nbformat": 4,
 "nbformat_minor": 2
}
