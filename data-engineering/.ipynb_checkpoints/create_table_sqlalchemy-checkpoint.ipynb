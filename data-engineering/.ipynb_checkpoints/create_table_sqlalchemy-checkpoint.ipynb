{
 "cells": [
  {
   "cell_type": "code",
   "execution_count": null,
   "id": "83488c64-3268-4263-b07c-793e4b3c5d54",
   "metadata": {},
   "outputs": [],
   "source": [
    "import sqlalchemy as db"
   ]
  },
  {
   "cell_type": "code",
   "execution_count": null,
   "id": "09af222f-2fdc-4950-a483-40f34820388b",
   "metadata": {},
   "outputs": [],
   "source": [
    "# Defining the Engine\n",
    "engine = db.create_engine('sqlite:///users.db', echo=True)"
   ]
  },
  {
   "cell_type": "code",
   "execution_count": null,
   "id": "a133e61c-7ed9-4a59-8e9e-af9bd56f2642",
   "metadata": {},
   "outputs": [],
   "source": [
    "# Create the Metadata Object\n",
    "metadata_obj = db.MetaData()\n",
    "  \n",
    "# Define the profile table"
   ]
  },
  {
   "cell_type": "code",
   "execution_count": null,
   "id": "938afaee-5948-4c78-91b4-13b2ebfcfdac",
   "metadata": {},
   "outputs": [],
   "source": [
    "# database name\n",
    "profile = db.Table(\n",
    "    'profile',                                        \n",
    "    metadata_obj,                                    \n",
    "    db.Column('email', db.String, primary_key=True),  \n",
    "    db.Column('name', db.String),                    \n",
    "    db.Column('contact', db.Integer),                \n",
    ")"
   ]
  },
  {
   "cell_type": "code",
   "execution_count": null,
   "id": "003c5854-6128-43e1-9bd7-b00666f15fbc",
   "metadata": {},
   "outputs": [],
   "source": [
    "# Create the profile table\n",
    "metadata_obj.create_all(engine)"
   ]
  }
 ],
 "metadata": {
  "kernelspec": {
   "display_name": "Python 3 (ipykernel)",
   "language": "python",
   "name": "python3"
  },
  "language_info": {
   "codemirror_mode": {
    "name": "ipython",
    "version": 3
   },
   "file_extension": ".py",
   "mimetype": "text/x-python",
   "name": "python",
   "nbconvert_exporter": "python",
   "pygments_lexer": "ipython3",
   "version": "3.10.9"
  }
 },
 "nbformat": 4,
 "nbformat_minor": 5
}
