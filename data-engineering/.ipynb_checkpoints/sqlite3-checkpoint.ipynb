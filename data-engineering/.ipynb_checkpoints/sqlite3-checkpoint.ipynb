{
 "cells": [
  {
   "cell_type": "code",
   "execution_count": 1,
   "id": "13f86b95-f703-467e-8b31-0b5ccedbf7c1",
   "metadata": {},
   "outputs": [],
   "source": [
    "# to work with sqlite we need to import sqlite3 from standard library\n",
    "import sqlite3\n",
    "\n",
    "# If we don't have a db this will create one. If we do, this will just connect to the db.\n",
    "db = sqlite3.connect('books.db')\n",
    "\n",
    "cur = db.cursor()\n",
    "\n",
    "cur.execute('''CREATE TABLE IF NOT EXISTS books(\n",
    "    id integer PRIMARY KEY,\n",
    "    title text NOT NULL,\n",
    "    author text NOT NULL,\n",
    "    price real);''')\n",
    "\n",
    "# go to https://sqlitebrowser.org/\n",
    "# https://docs.python.org/3/library/sqlite3.html\n",
    "\n",
    "db.commit()\n",
    "db.close()"
   ]
  },
  {
   "cell_type": "code",
   "execution_count": 2,
   "id": "0f86b717-d111-4ec7-8391-130231beeaab",
   "metadata": {},
   "outputs": [],
   "source": [
    "# to work with sqlite we need to import sqlite3 from standard library\n",
    "import sqlite3\n",
    "\n",
    "# If we don't have a db this will create one. If we do, this will just connect to the db.\n",
    "db = sqlite3.connect('books.db')\n",
    "\n",
    "cur = db.cursor()\n",
    "\n",
    "cur.execute('''INSERT INTO books(id, title, author, price)\n",
    "    VALUES('1','Untold Stories','Alan Bennett','17.49');''')\n",
    "\n",
    "db.commit()\n",
    "db.close()"
   ]
  },
  {
   "cell_type": "code",
   "execution_count": 6,
   "id": "827780e7-69d6-489f-adf5-f4a1d1e4e1fc",
   "metadata": {},
   "outputs": [
    {
     "ename": "OperationalError",
     "evalue": "no such table: books",
     "output_type": "error",
     "traceback": [
      "\u001b[1;31m---------------------------------------------------------------------------\u001b[0m",
      "\u001b[1;31mOperationalError\u001b[0m                          Traceback (most recent call last)",
      "\u001b[1;32m~\\AppData\\Local\\Temp\\ipykernel_2068\\2595737081.py\u001b[0m in \u001b[0;36m<module>\u001b[1;34m\u001b[0m\n\u001b[0;32m     14\u001b[0m             ]\n\u001b[0;32m     15\u001b[0m \u001b[1;33m\u001b[0m\u001b[0m\n\u001b[1;32m---> 16\u001b[1;33m cur.executemany('''INSERT INTO books(id, title, author, price)\n\u001b[0m\u001b[0;32m     17\u001b[0m     VALUES(?,?,?,?)''', book_list)\n\u001b[0;32m     18\u001b[0m \u001b[1;33m\u001b[0m\u001b[0m\n",
      "\u001b[1;31mOperationalError\u001b[0m: no such table: books"
     ]
    }
   ],
   "source": [
    "# to work with sqlite we need to import sqlite3 from standard library\n",
    "import sqlite3\n",
    "\n",
    "# If we don't have a db this will create one. If we do, this will just connect to the db.\n",
    "db = sqlite3.connect('books.db')\n",
    "\n",
    "cur = db.cursor()\n",
    "\n",
    "# placing more than one entry into our database\n",
    "book_list = [('2', 'Lucky Jim', 'Kingsley Amis', '4.99'),\n",
    "             ('3', 'Animal Farm', 'George Orwell', '7.49'),\n",
    "             ('4', 'Why I Am So Clever', 'Friedrich Nietzsch', '10.99'),\n",
    "             ('5', 'Life 3.0: Being Human in the Age of Artificial Intelligence', 'Max Tegmark', '20.00')\n",
    "            ]\n",
    "\n",
    "cur.executemany('''INSERT INTO books(id, title, author, price)\n",
    "    VALUES(?,?,?,?)''', book_list)\n",
    "\n",
    "db.commit()\n",
    "db.close()"
   ]
  },
  {
   "cell_type": "code",
   "execution_count": null,
   "id": "fff547f6-3d1f-49d7-8655-a7b23162c56c",
   "metadata": {},
   "outputs": [],
   "source": []
  }
 ],
 "metadata": {
  "kernelspec": {
   "display_name": "Python 3 (ipykernel)",
   "language": "python",
   "name": "python3"
  },
  "language_info": {
   "codemirror_mode": {
    "name": "ipython",
    "version": 3
   },
   "file_extension": ".py",
   "mimetype": "text/x-python",
   "name": "python",
   "nbconvert_exporter": "python",
   "pygments_lexer": "ipython3",
   "version": "3.9.13"
  }
 },
 "nbformat": 4,
 "nbformat_minor": 5
}
