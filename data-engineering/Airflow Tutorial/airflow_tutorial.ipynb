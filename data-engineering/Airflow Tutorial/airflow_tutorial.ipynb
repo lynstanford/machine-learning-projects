{
 "cells": [
  {
   "cell_type": "code",
   "execution_count": 4,
   "metadata": {},
   "outputs": [],
   "source": [
    "from datetime import datetime\n",
    "\n",
    "from airflow import DAG\n",
    "from airflow.decorators import task\n",
    "from airflow.operators.bash import BashOperator\n",
    "\n",
    "# A DAG represents a workflow, a collection of tasks\n",
    "with DAG(dag_id=\"demo\", start_date=datetime(2023, 6, 18), schedule=\"0 0 * * *\") as dag:\n",
    "\n",
    "    # Tasks are represented as operators\n",
    "    hello = BashOperator(task_id=\"hello\", bash_command=\"echo hello\")\n",
    "\n",
    "    @task()\n",
    "    def airflow():\n",
    "        print(\"airflow\")\n",
    "\n",
    "    # Set dependencies between tasks\n",
    "    airflow()"
   ]
  },
  {
   "cell_type": "code",
   "execution_count": null,
   "metadata": {},
   "outputs": [],
   "source": []
  },
  {
   "cell_type": "code",
   "execution_count": null,
   "metadata": {},
   "outputs": [],
   "source": []
  }
 ],
 "metadata": {
  "kernelspec": {
   "display_name": "Python 3 (ipykernel)",
   "language": "python",
   "name": "python3"
  },
  "language_info": {
   "codemirror_mode": {
    "name": "ipython",
    "version": 3
   },
   "file_extension": ".py",
   "mimetype": "text/x-python",
   "name": "python",
   "nbconvert_exporter": "python",
   "pygments_lexer": "ipython3",
   "version": "3.10.9"
  }
 },
 "nbformat": 4,
 "nbformat_minor": 2
}
