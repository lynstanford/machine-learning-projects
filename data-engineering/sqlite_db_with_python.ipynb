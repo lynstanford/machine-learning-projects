{
 "cells": [
  {
   "cell_type": "code",
   "execution_count": null,
   "id": "7ce36302",
   "metadata": {},
   "outputs": [],
   "source": [
    "import sqlite3\n",
    "\n",
    "# connect to a database\n",
    "conn = sqlite3.connect('customers.db')"
   ]
  },
  {
   "cell_type": "markdown",
   "id": "62b3df15",
   "metadata": {},
   "source": [
    "SQLite also allows you to create a database in memory. The software program won't save the database which disappears once you've finished with it.\n",
    "\n",
    "conn = sqlite3.connect(':memory:')          # an example of an in-memory connection"
   ]
  },
  {
   "cell_type": "markdown",
   "id": "7cabdfa8",
   "metadata": {},
   "source": [
    "## Create a Cursor\n",
    "This tells the database what you want to do. Whenever you do anything you're going to get the cursor to do it!"
   ]
  },
  {
   "cell_type": "code",
   "execution_count": null,
   "id": "54336680",
   "metadata": {},
   "outputs": [],
   "source": [
    "# create a cursor\n",
    "c = conn.cursor()"
   ]
  },
  {
   "cell_type": "markdown",
   "id": "18bcca18",
   "metadata": {},
   "source": [
    "## Create a Table"
   ]
  },
  {
   "cell_type": "code",
   "execution_count": null,
   "id": "65624e4d",
   "metadata": {},
   "outputs": [],
   "source": [
    "c.execute(\"\"\" CREATE TABLE IF NOT EXISTS customers (\n",
    "        first_name DATATYPE,\n",
    "        last_name DATATYPE,\n",
    "        email DATATYPE)\n",
    "\"\"\")"
   ]
  },
  {
   "cell_type": "code",
   "execution_count": null,
   "id": "2d2141b3",
   "metadata": {},
   "outputs": [],
   "source": [
    "conn.commit()\n",
    "conn.close()"
   ]
  },
  {
   "cell_type": "markdown",
   "id": "2fde3617",
   "metadata": {},
   "source": [
    "Another valid way to write this code is as follows (using a single line):\n",
    "\n",
    "c.execute(\"CREATE TABLE customers (first_name DATATYPE, last_name DATATYPE, email DATATYPE)\")"
   ]
  },
  {
   "cell_type": "code",
   "execution_count": null,
   "id": "b8a464ba",
   "metadata": {},
   "outputs": [],
   "source": [
    "# putting this all together\n",
    "import sqlite3\n",
    "\n",
    "# If we don't have a db this will create one. If we do, this will just connect to the db.\n",
    "conn = sqlite3.connect('customers.db')\n",
    "# create a cursor\n",
    "c = conn.cursor()\n",
    "c.execute(\"\"\" CREATE TABLE IF NOT EXISTS customers (\n",
    "        first_name DATATYPE,\n",
    "        last_name DATATYPE,\n",
    "        email DATATYPE)\n",
    "\"\"\")\n",
    "conn.commit()\n",
    "conn.close()"
   ]
  },
  {
   "cell_type": "code",
   "execution_count": null,
   "id": "fac60150",
   "metadata": {},
   "outputs": [],
   "source": [
    "## Data Types in SQLite\n",
    "# NULL\n",
    "# INTEGER\n",
    "# REAL\n",
    "# TEXT\n",
    "# BLOB"
   ]
  },
  {
   "cell_type": "markdown",
   "id": "11189f60",
   "metadata": {},
   "source": [
    "Changing the 'DATATYPE' to 'text' as follows:"
   ]
  },
  {
   "cell_type": "code",
   "execution_count": null,
   "id": "0511f58a",
   "metadata": {},
   "outputs": [],
   "source": [
    "# putting this all together\n",
    "import sqlite3\n",
    "\n",
    "# If we don't have a db this will create one. If we do, this will just connect to the db.\n",
    "conn = sqlite3.connect('customers.db')\n",
    "# create a cursor\n",
    "c = conn.cursor()\n",
    "c.execute(\"\"\" CREATE TABLE customers (\n",
    "        first_name TEXT,\n",
    "        last_name TEXT,\n",
    "        email TEXT)\n",
    "\"\"\")\n",
    "conn.commit()\n",
    "conn.close()"
   ]
  },
  {
   "cell_type": "markdown",
   "id": "ad6757cf",
   "metadata": {},
   "source": [
    "## Insert One Record at a Time"
   ]
  },
  {
   "cell_type": "code",
   "execution_count": null,
   "id": "4c82e245",
   "metadata": {},
   "outputs": [],
   "source": [
    "# putting this all together\n",
    "import sqlite3\n",
    "\n",
    "# If we don't have a db this will create one. If we do, this will just connect to the db.\n",
    "conn = sqlite3.connect('customers.db')\n",
    "# create a cursor\n",
    "c = conn.cursor()\n",
    "\n",
    "# Insert one record into the table\n",
    "c.execute(\"\"\" CREATE TABLE IF NOT EXISTS customers (\n",
    "        first_name TEXT,\n",
    "        last_name TEXT,\n",
    "        email TEXT)\n",
    "\"\"\")\n",
    "\n",
    "c.execute(\"INSERT INTO customers VALUES ('John', 'Elder', 'john@codemy.com')\")\n",
    "print(\"Command executed successfully...\")\n",
    "\n",
    "# commit our connection command\n",
    "conn.commit()\n",
    "# close our connection\n",
    "conn.close()"
   ]
  },
  {
   "cell_type": "markdown",
   "id": "266480e4",
   "metadata": {},
   "source": [
    "Open bash and navigate to the location of this file using 'cd' command. Then, save and run the python file 'sqlite_connection.py' in bash."
   ]
  },
  {
   "cell_type": "code",
   "execution_count": null,
   "id": "bb8e53b8",
   "metadata": {},
   "outputs": [],
   "source": [
    "!curl python slqite_connection.py"
   ]
  },
  {
   "cell_type": "markdown",
   "id": "848f5974",
   "metadata": {},
   "source": [
    "You should see the 'Command executed successfully...' output."
   ]
  },
  {
   "cell_type": "code",
   "execution_count": null,
   "id": "e88bc742",
   "metadata": {},
   "outputs": [],
   "source": [
    "import sqlite3\n",
    "\n",
    "# connect to a database\n",
    "conn = sqlite3.connect('customers.db')\n",
    "\n",
    "# create a cursor\n",
    "c = conn.cursor()\n",
    "\n",
    "# add another entry to our database:\n",
    "c.execute(\"INSERT INTO customers VALUES ('Tim', 'Smith', 'tim@codemy.com')\")\n",
    "\n",
    "# commit our connection command\n",
    "conn.commit()\n",
    "\n",
    "# close our connection\n",
    "conn.close()"
   ]
  },
  {
   "cell_type": "markdown",
   "id": "0b12b5b1",
   "metadata": {},
   "source": [
    "Save this file and run it in the bash again!"
   ]
  },
  {
   "cell_type": "code",
   "execution_count": null,
   "id": "e995a17b",
   "metadata": {},
   "outputs": [],
   "source": [
    "!curl python slqite_connection.py"
   ]
  },
  {
   "cell_type": "code",
   "execution_count": null,
   "id": "fd14429a",
   "metadata": {},
   "outputs": [],
   "source": [
    "import sqlite3\n",
    "\n",
    "# connect to a database\n",
    "conn = sqlite3.connect('customers.db')\n",
    "\n",
    "# create a cursor\n",
    "c = conn.cursor()\n",
    "\n",
    "# add another entry to our database:\n",
    "c.execute(\"INSERT INTO customers VALUES ('Mary', 'Brown', 'mary@codemy.com')\")\n",
    "\n",
    "# commit our connection command\n",
    "conn.commit()\n",
    "\n",
    "# close our connection\n",
    "conn.close()"
   ]
  },
  {
   "cell_type": "markdown",
   "id": "07c9be61",
   "metadata": {},
   "source": [
    "Save this file and run it in the bash!\n",
    "\n",
    "## Insert Many Records Into the Table"
   ]
  },
  {
   "cell_type": "code",
   "execution_count": null,
   "id": "b5ddc9c2",
   "metadata": {},
   "outputs": [],
   "source": [
    "# insert many records into the table\n",
    "many_customers = [\n",
    "                    ('Wes','Brown','wes@brown.com'),\n",
    "                    ('Steph','Kuewa','steph@kuewa.com'),\n",
    "                    ('Dan','Pas','dan@pas.com')\n",
    "                ]"
   ]
  },
  {
   "cell_type": "code",
   "execution_count": null,
   "id": "58de32f5",
   "metadata": {},
   "outputs": [],
   "source": [
    "import sqlite3\n",
    "\n",
    "# connect to a database\n",
    "conn = sqlite3.connect('customers.db')\n",
    "\n",
    "# create a cursor\n",
    "c = conn.cursor()\n",
    "\n",
    "# add many entries to our database using placeholders\n",
    "c.executemany(\"INSERT INTO customers VALUES (?,?,?)\", many_customers)\n",
    "\n",
    "# commit our connection command\n",
    "conn.commit()\n",
    "\n",
    "# close our connection\n",
    "conn.close()"
   ]
  },
  {
   "cell_type": "markdown",
   "id": "85c22969",
   "metadata": {},
   "source": [
    "## Query and Fetchall"
   ]
  },
  {
   "cell_type": "code",
   "execution_count": null,
   "id": "ca5a8c57",
   "metadata": {},
   "outputs": [],
   "source": [
    "import sqlite3\n",
    "\n",
    "# connect to a database\n",
    "conn = sqlite3.connect('customers.db')\n",
    "\n",
    "# create a cursor\n",
    "c = conn.cursor()\n",
    "\n",
    "# query the database\n",
    "c.execute(\"SELECT * FROM customers\")\n",
    "# print(c.fetchone())\n",
    "# print(c.fetchmany(3))\n",
    "print(c.fetchall())\n",
    "\n",
    "# print(\"Command executed successfully...\")\n",
    "\n",
    "# commit our command\n",
    "conn.commit()\n",
    "\n",
    "# close our connection\n",
    "conn.close()"
   ]
  },
  {
   "cell_type": "markdown",
   "id": "f33fb367",
   "metadata": {},
   "source": [
    "Save and run in bash or command prompt again! Try fetching just a single record this time."
   ]
  },
  {
   "cell_type": "code",
   "execution_count": null,
   "id": "c24dd057",
   "metadata": {},
   "outputs": [],
   "source": [
    "import sqlite3\n",
    "\n",
    "# connect to a database\n",
    "conn = sqlite3.connect('customers.db')\n",
    "\n",
    "# create a cursor\n",
    "c = conn.cursor()\n",
    "\n",
    "# query the database\n",
    "c.execute(\"SELECT * FROM customers\")\n",
    "print(c.fetchone())\n",
    "# print(c.fetchmany(3))\n",
    "# print(c.fetchall())\n",
    "\n",
    "# print(\"Command executed successfully...\")\n",
    "\n",
    "# commit our command\n",
    "conn.commit()\n",
    "\n",
    "# close our connection\n",
    "conn.close()"
   ]
  },
  {
   "cell_type": "markdown",
   "id": "e99518fd",
   "metadata": {},
   "source": [
    "Save and Run!\n",
    "\n",
    "Because fetchone() returns a Tuple, different elements can be accessed via slicing (for example let's look at the first element)."
   ]
  },
  {
   "cell_type": "code",
   "execution_count": null,
   "id": "c318b8f9",
   "metadata": {},
   "outputs": [],
   "source": [
    "import sqlite3\n",
    "\n",
    "# connect to a database\n",
    "conn = sqlite3.connect('customers.db')\n",
    "\n",
    "# create a cursor\n",
    "c = conn.cursor()\n",
    "\n",
    "# query the database\n",
    "c.execute(\"SELECT * FROM customers\")\n",
    "print(c.fetchone()[0])\n",
    "# print(c.fetchmany(3))\n",
    "# print(c.fetchall())\n",
    "\n",
    "# print(\"Command executed successfully...\")\n",
    "\n",
    "# commit our command\n",
    "conn.commit()\n",
    "\n",
    "# close our connection\n",
    "conn.close()"
   ]
  },
  {
   "cell_type": "markdown",
   "id": "95da4b33",
   "metadata": {},
   "source": [
    "Save and Run!"
   ]
  },
  {
   "cell_type": "code",
   "execution_count": null,
   "id": "29e85d88",
   "metadata": {},
   "outputs": [],
   "source": [
    "import sqlite3\n",
    "\n",
    "# connect to a database\n",
    "conn = sqlite3.connect('customers.db')\n",
    "\n",
    "# create a cursor\n",
    "c = conn.cursor()\n",
    "\n",
    "# query the database\n",
    "c.execute(\"SELECT * FROM customers\")\n",
    "# print(c.fetchone()[0])\n",
    "# print(c.fetchmany(3))\n",
    "\n",
    "items = c.fetchall()\n",
    "print(items)\n",
    "\n",
    "# print(\"Command executed successfully...\")\n",
    "\n",
    "# commit our command\n",
    "conn.commit()\n",
    "\n",
    "# close our connection\n",
    "conn.close()"
   ]
  },
  {
   "cell_type": "markdown",
   "id": "c66ba6b5",
   "metadata": {},
   "source": [
    "Save and Run!\n",
    "\n",
    "Alternatively, you could create a loop:"
   ]
  },
  {
   "cell_type": "code",
   "execution_count": null,
   "id": "e68e7850",
   "metadata": {},
   "outputs": [],
   "source": [
    "import sqlite3\n",
    "\n",
    "# connect to a database\n",
    "conn = sqlite3.connect('customers.db')\n",
    "\n",
    "# create a cursor\n",
    "c = conn.cursor()\n",
    "\n",
    "# query the database\n",
    "c.execute(\"SELECT * FROM customers\")\n",
    "# print(c.fetchone()[0])\n",
    "# print(c.fetchmany(3))\n",
    "\n",
    "items = c.fetchall()\n",
    "\n",
    "for item in items:\n",
    "    print(item)\n",
    "\n",
    "# print(\"Command executed successfully...\")\n",
    "\n",
    "# commit our command\n",
    "conn.commit()\n",
    "\n",
    "# close our connection\n",
    "conn.close()"
   ]
  },
  {
   "cell_type": "markdown",
   "id": "01ebdaf7",
   "metadata": {},
   "source": [
    "Save and Run!\n",
    "\n",
    "This should output a Tuple, but the data is slowly becoming more readable now. Suppose we just wanted to print out element zero inside the Tuple."
   ]
  },
  {
   "cell_type": "code",
   "execution_count": null,
   "id": "0a94bd95",
   "metadata": {},
   "outputs": [],
   "source": [
    "import sqlite3\n",
    "\n",
    "# connect to a database\n",
    "conn = sqlite3.connect('customers.db')\n",
    "\n",
    "# create a cursor\n",
    "c = conn.cursor()\n",
    "\n",
    "# query the database\n",
    "c.execute(\"SELECT * FROM customers\")\n",
    "# print(c.fetchone()[0])\n",
    "# print(c.fetchmany(3))\n",
    "\n",
    "items = c.fetchall()\n",
    "\n",
    "for item in items:\n",
    "    print(item[0])\n",
    "\n",
    "# print(\"Command executed successfully...\")\n",
    "\n",
    "# commit our command\n",
    "conn.commit()\n",
    "\n",
    "# close our connection\n",
    "conn.close()"
   ]
  },
  {
   "cell_type": "markdown",
   "id": "6fabe6bf",
   "metadata": {},
   "source": [
    "Save and Run!\n",
    "\n",
    "What about if we want to concatenate other columns?"
   ]
  },
  {
   "cell_type": "code",
   "execution_count": null,
   "id": "c5c399c7",
   "metadata": {},
   "outputs": [],
   "source": [
    "import sqlite3\n",
    "\n",
    "# connect to a database\n",
    "conn = sqlite3.connect('customers.db')\n",
    "\n",
    "# create a cursor\n",
    "c = conn.cursor()\n",
    "\n",
    "# query the database\n",
    "c.execute(\"SELECT * FROM customers\")\n",
    "# print(c.fetchone()[0])\n",
    "# print(c.fetchmany(3))\n",
    "\n",
    "items = c.fetchall()\n",
    "\n",
    "for item in items:\n",
    "    print(item[0] + \" \" + item[1] + \" \" + item[2])\n",
    "\n",
    "# print(\"Command executed successfully...\")\n",
    "\n",
    "# commit our command\n",
    "conn.commit()\n",
    "\n",
    "# close our connection\n",
    "conn.close()"
   ]
  },
  {
   "cell_type": "markdown",
   "id": "96579473",
   "metadata": {},
   "source": [
    "Save and Run!\n",
    "\n",
    "You could add a Pipe Delimiter for example."
   ]
  },
  {
   "cell_type": "code",
   "execution_count": null,
   "id": "c69a531c",
   "metadata": {},
   "outputs": [],
   "source": [
    "import sqlite3\n",
    "\n",
    "# connect to a database\n",
    "conn = sqlite3.connect('customers.db')\n",
    "\n",
    "# create a cursor\n",
    "c = conn.cursor()\n",
    "\n",
    "# query the database\n",
    "c.execute(\"SELECT * FROM customers\")\n",
    "# print(c.fetchone()[0])\n",
    "# print(c.fetchmany(3))\n",
    "\n",
    "items = c.fetchall()\n",
    "\n",
    "for item in items:\n",
    "    print(item[0] + \" \" + item[1] + \" | \" + item[2])\n",
    "\n",
    "# print(\"Command executed successfully...\")\n",
    "\n",
    "# commit our command\n",
    "conn.commit()\n",
    "\n",
    "# close our connection\n",
    "conn.close()"
   ]
  },
  {
   "cell_type": "markdown",
   "id": "24b77733",
   "metadata": {},
   "source": [
    "Save and Run!\n",
    "\n",
    "What about Tab Delimiting?"
   ]
  },
  {
   "cell_type": "code",
   "execution_count": null,
   "id": "5145847e",
   "metadata": {},
   "outputs": [],
   "source": [
    "import sqlite3\n",
    "\n",
    "# connect to a database\n",
    "conn = sqlite3.connect('customers.db')\n",
    "\n",
    "# create a cursor\n",
    "c = conn.cursor()\n",
    "\n",
    "# query the database\n",
    "c.execute(\"SELECT * FROM customers\")\n",
    "# print(c.fetchone()[0])\n",
    "# print(c.fetchmany(3))\n",
    "\n",
    "items = c.fetchall()\n",
    "\n",
    "for item in items:\n",
    "    print(item[0] + \" \" + item[1] + \"\\t\" + item[2])\n",
    "\n",
    "# print(\"Command executed successfully...\")\n",
    "\n",
    "# commit our command\n",
    "conn.commit()\n",
    "\n",
    "# close our connection\n",
    "conn.close()"
   ]
  },
  {
   "cell_type": "markdown",
   "id": "5a41b123",
   "metadata": {},
   "source": [
    "Save and Run!\n",
    "\n",
    "Modifying this slightly to give:"
   ]
  },
  {
   "cell_type": "code",
   "execution_count": null,
   "id": "7252328b",
   "metadata": {},
   "outputs": [],
   "source": [
    "import sqlite3\n",
    "\n",
    "# connect to a database\n",
    "conn = sqlite3.connect('customers.db')\n",
    "\n",
    "# create a cursor\n",
    "c = conn.cursor()\n",
    "\n",
    "# query the database\n",
    "c.execute(\"SELECT * FROM customers\")\n",
    "# print(c.fetchone()[0])\n",
    "# print(c.fetchmany(3))\n",
    "\n",
    "items = c.fetchall()\n",
    "\n",
    "print(\"NAME \" + \"\\t\\tEMAIL\")\n",
    "print(\"--------\" + \"\\t\\t--------\")\n",
    "for item in items:\n",
    "    print(item[0] + \" \" + item[1] + \"\\t\\t\" + item[2])\n",
    "\n",
    "# print(\"Command executed successfully...\")\n",
    "\n",
    "# commit our command\n",
    "conn.commit()\n",
    "\n",
    "# close our connection\n",
    "conn.close()"
   ]
  },
  {
   "cell_type": "code",
   "execution_count": null,
   "id": "266f2bfb",
   "metadata": {},
   "outputs": [],
   "source": [
    "import sqlite3\n",
    "\n",
    "# connect to a database\n",
    "conn = sqlite3.connect('customers.db')\n",
    "\n",
    "# create a cursor\n",
    "c = conn.cursor()\n",
    "\n",
    "# query the database\n",
    "c.execute(\"SELECT * FROM customers\")\n",
    "# print(c.fetchone()[0])\n",
    "print(c.fetchmany(3))\n",
    "\n",
    "# print(\"Command executed successfully...\")\n",
    "\n",
    "# commit our command\n",
    "conn.commit()\n",
    "\n",
    "# close our connection\n",
    "conn.close()"
   ]
  },
  {
   "cell_type": "markdown",
   "id": "b79ccab0",
   "metadata": {},
   "source": [
    "Save and Run!\n",
    "\n",
    "This obviously needs some formatting.\n",
    "\n",
    "## Primary Key ID\n",
    "This is a unique id number allocated to each record in your database. For example, we've grabbed all records from the customers.db and placed them into a variable called 'items'."
   ]
  },
  {
   "cell_type": "code",
   "execution_count": null,
   "id": "72ad763c",
   "metadata": {},
   "outputs": [],
   "source": [
    "import sqlite3\n",
    "\n",
    "# connect to a database\n",
    "conn = sqlite3.connect('customers.db')\n",
    "\n",
    "# create a cursor\n",
    "c = conn.cursor()\n",
    "\n",
    "# query the database\n",
    "c.execute(\"SELECT * FROM customers\")\n",
    "# print(c.fetchone()[0])\n",
    "# print(c.fetchmany(3))\n",
    "\n",
    "items = c.fetchall()\n",
    "print(items)\n",
    "\n",
    "# print(\"Command executed successfully...\")\n",
    "\n",
    "# commit our command\n",
    "conn.commit()\n",
    "\n",
    "# close our connection\n",
    "conn.close()"
   ]
  },
  {
   "cell_type": "markdown",
   "id": "9d1c94d1",
   "metadata": {},
   "source": [
    "Using the 'for' loop to print the records in 'items' will make the output a little more aesthetic. In bash run: \n",
    "$ python customers.db\n"
   ]
  },
  {
   "cell_type": "code",
   "execution_count": null,
   "id": "7f8dec66",
   "metadata": {},
   "outputs": [],
   "source": [
    "import sqlite3\n",
    "\n",
    "# connect to a database\n",
    "conn = sqlite3.connect('customers.db')\n",
    "\n",
    "# create a cursor\n",
    "c = conn.cursor()\n",
    "\n",
    "# query the database\n",
    "c.execute(\"SELECT * FROM customers\")\n",
    "# print(c.fetchone()[0])\n",
    "# print(c.fetchmany(3))\n",
    "\n",
    "items = c.fetchall()\n",
    "for item in items:\n",
    "    print(item)\n",
    "\n",
    "# print(\"Command executed successfully...\")\n",
    "\n",
    "# commit our command\n",
    "conn.commit()\n",
    "\n",
    "# close our connection\n",
    "conn.close()"
   ]
  },
  {
   "cell_type": "markdown",
   "id": "0eafbe67",
   "metadata": {},
   "source": [
    "SQLite3 creates another column in the background containing the unique primary key id's. They are called a row id and is written in a SQL query as 'rowid'. Now it will print out the id as well."
   ]
  },
  {
   "cell_type": "code",
   "execution_count": null,
   "id": "b9328759",
   "metadata": {},
   "outputs": [],
   "source": [
    "import sqlite3\n",
    "\n",
    "# connect to a database\n",
    "conn = sqlite3.connect('customers.db')\n",
    "\n",
    "# create a cursor\n",
    "c = conn.cursor()\n",
    "\n",
    "# query the database\n",
    "c.execute(\"SELECT rowid, * FROM customers\")\n",
    "# print(c.fetchone()[0])\n",
    "# print(c.fetchmany(3))\n",
    "\n",
    "items = c.fetchall()\n",
    "for item in items:\n",
    "    print(item)\n",
    "\n",
    "# print(\"Command executed successfully...\")\n",
    "\n",
    "# commit our command\n",
    "conn.commit()\n",
    "\n",
    "# close our connection\n",
    "conn.close()"
   ]
  },
  {
   "cell_type": "markdown",
   "id": "320f0afe",
   "metadata": {},
   "source": [
    "SQLite3 will auto-increment the rowid or primary key so we don't need to worry about this when setting up our database. We don't have to do any of this for sqlite because it does so automatically, unless you specifically tell it not to auto-increment.\n",
    "\n",
    "## WHERE Clause\n",
    "Up until now we've been using a * wildcard and pulling all values from a table. The 'where' clause will enable us to refine the data we query by introducing conditions. For example you may only want people with a certain last name."
   ]
  },
  {
   "cell_type": "code",
   "execution_count": null,
   "id": "8c76dbfb",
   "metadata": {},
   "outputs": [],
   "source": [
    "import sqlite3\n",
    "\n",
    "# connect to a database\n",
    "conn = sqlite3.connect('customers.db')\n",
    "\n",
    "# create a cursor\n",
    "c = conn.cursor()\n",
    "\n",
    "# query the database\n",
    "c.execute(\"SELECT * FROM customers WHERE last_name = 'Elder'\")\n",
    "# print(c.fetchone()[0])\n",
    "# print(c.fetchmany(3))\n",
    "\n",
    "items = c.fetchall()\n",
    "for item in items:\n",
    "    print(item)\n",
    "\n",
    "# print(\"Command executed successfully...\")\n",
    "\n",
    "# commit our command\n",
    "conn.commit()\n",
    "\n",
    "# close our connection\n",
    "conn.close()"
   ]
  },
  {
   "cell_type": "markdown",
   "id": "dfb4c4a2",
   "metadata": {},
   "source": [
    "So here I have specified the results query should output the last_name: 'Elder'.\n",
    "\n",
    "Using our other comparison operators for conditional statements we have the following example:"
   ]
  },
  {
   "cell_type": "code",
   "execution_count": null,
   "id": "ededba48",
   "metadata": {},
   "outputs": [],
   "source": [
    "import sqlite3\n",
    "\n",
    "# connect to a database\n",
    "conn = sqlite3.connect('customers.db')\n",
    "\n",
    "# create a cursor\n",
    "c = conn.cursor()\n",
    "\n",
    "# query the database\n",
    "c.execute(\"SELECT * FROM customers WHERE age >= 21\")\n",
    "# print(c.fetchone()[0])\n",
    "# print(c.fetchmany(3))\n",
    "\n",
    "items = c.fetchall()\n",
    "for item in items:\n",
    "    print(item)\n",
    "\n",
    "# print(\"Command executed successfully...\")\n",
    "\n",
    "# commit our command\n",
    "conn.commit()\n",
    "\n",
    "# close our connection\n",
    "conn.close()"
   ]
  },
  {
   "cell_type": "markdown",
   "id": "fce1a7e1",
   "metadata": {},
   "source": [
    "Using the LIKE command"
   ]
  },
  {
   "cell_type": "code",
   "execution_count": null,
   "id": "bbf84966",
   "metadata": {},
   "outputs": [],
   "source": [
    "import sqlite3\n",
    "\n",
    "# connect to a database\n",
    "conn = sqlite3.connect('customers.db')\n",
    "\n",
    "# create a cursor\n",
    "c = conn.cursor()\n",
    "\n",
    "# query the database\n",
    "c.execute(\"SELECT * FROM customers WHERE last_name LIKE 'Br%'\")\n",
    "# print(c.fetchone()[0])\n",
    "# print(c.fetchmany(3))\n",
    "\n",
    "items = c.fetchall()\n",
    "for item in items:\n",
    "    print(item)\n",
    "\n",
    "# print(\"Command executed successfully...\")\n",
    "\n",
    "# commit our command\n",
    "conn.commit()\n",
    "\n",
    "# close our connection\n",
    "conn.close()"
   ]
  },
  {
   "cell_type": "markdown",
   "id": "ba77ad47",
   "metadata": {},
   "source": [
    "So the '%' sign acts like a wildcard and searches for last names beginning with, or containing the letters 'Br', in this case the two entries of Mary Brown and Wes Brown. What if we wanted to find all entries containing 'codemy.com' in the email address?"
   ]
  },
  {
   "cell_type": "code",
   "execution_count": null,
   "id": "4882541f",
   "metadata": {},
   "outputs": [],
   "source": [
    "import sqlite3\n",
    "\n",
    "# connect to a database\n",
    "conn = sqlite3.connect('customers.db')\n",
    "\n",
    "# create a cursor\n",
    "c = conn.cursor()\n",
    "\n",
    "# query the database\n",
    "c.execute(\"SELECT * FROM customers WHERE email LIKE '%codemy.com'\")\n",
    "# print(c.fetchone()[0])\n",
    "# print(c.fetchmany(3))\n",
    "\n",
    "items = c.fetchall()\n",
    "for item in items:\n",
    "    print(item)\n",
    "\n",
    "# print(\"Command executed successfully...\")\n",
    "\n",
    "# commit our command\n",
    "conn.commit()\n",
    "\n",
    "# close our connection\n",
    "conn.close()"
   ]
  },
  {
   "cell_type": "markdown",
   "id": "ceab4b9b",
   "metadata": {},
   "source": [
    "## Update Records\n"
   ]
  },
  {
   "cell_type": "code",
   "execution_count": null,
   "id": "c0d0371d",
   "metadata": {},
   "outputs": [],
   "source": [
    "import sqlite3\n",
    "\n",
    "# connect to a database\n",
    "conn = sqlite3.connect('customers.db')\n",
    "\n",
    "# create a cursor\n",
    "c = conn.cursor()\n",
    "\n",
    "# query the database\n",
    "c.execute(\"\"\" UPDATE customers SET first_name = 'Bob' \n",
    "WHERE last_name = 'Elder' \"\"\")\n",
    "# print(c.fetchone()[0])\n",
    "# print(c.fetchmany(3))\n",
    "\n",
    "items = c.fetchall()\n",
    "for item in items:\n",
    "    print(item)\n",
    "\n",
    "# print(\"Command executed successfully...\")\n",
    "\n",
    "# commit our command\n",
    "conn.commit()\n",
    "\n",
    "# close our connection\n",
    "conn.close()\n"
   ]
  },
  {
   "cell_type": "markdown",
   "id": "a8fc3bd5",
   "metadata": {},
   "source": [
    "You don't really want to change a record based on last name only as it will change all those records with the same last name. Try changing just the row Id instead."
   ]
  },
  {
   "cell_type": "code",
   "execution_count": null,
   "id": "c4178595",
   "metadata": {},
   "outputs": [],
   "source": [
    "import sqlite3\n",
    "\n",
    "# connect to a database\n",
    "conn = sqlite3.connect('customers.db')\n",
    "\n",
    "# create a cursor\n",
    "c = conn.cursor()\n",
    "\n",
    "# query the database\n",
    "c.execute(\"\"\" UPDATE customers SET first_name = 'John' \n",
    "WHERE rowid = 1 \"\"\")\n",
    "# print(c.fetchone()[0])\n",
    "# print(c.fetchmany(3))\n",
    "\n",
    "items = c.fetchall()\n",
    "for item in items:\n",
    "    print(item)\n",
    "\n",
    "# print(\"Command executed successfully...\")\n",
    "\n",
    "# commit our command\n",
    "conn.commit()\n",
    "\n",
    "# close our connection\n",
    "conn.close()\n"
   ]
  },
  {
   "cell_type": "markdown",
   "id": "6bebd034",
   "metadata": {},
   "source": [
    "Suppose we wanted to change the entry which says 'Mary Brown' but input the first_name as 'Marty' by mistake and use last_name = 'Brown'. The output will produce all entries with 'Brown' in the last name column and replace the first name with 'Marty'. Weird!"
   ]
  },
  {
   "cell_type": "code",
   "execution_count": null,
   "id": "39b49c45",
   "metadata": {},
   "outputs": [],
   "source": [
    "import sqlite3\n",
    "\n",
    "# connect to a database\n",
    "conn = sqlite3.connect('customers.db')\n",
    "\n",
    "# create a cursor\n",
    "c = conn.cursor()\n",
    "\n",
    "# query the database\n",
    "c.execute(\"\"\" UPDATE customers SET first_name = 'Marty' \n",
    "WHERE last_name = 'Brown' \"\"\")\n",
    "# print(c.fetchone()[0])\n",
    "# print(c.fetchmany(3))\n",
    "\n",
    "items = c.fetchall()\n",
    "for item in items:\n",
    "    print(item)\n",
    "\n",
    "# print(\"Command executed successfully...\")\n",
    "\n",
    "# commit our command\n",
    "conn.commit()\n",
    "\n",
    "# close our connection\n",
    "conn.close()\n"
   ]
  },
  {
   "cell_type": "markdown",
   "id": "a3c0b282",
   "metadata": {},
   "source": [
    "## Delete Records"
   ]
  },
  {
   "cell_type": "code",
   "execution_count": null,
   "id": "cad9d5b0",
   "metadata": {},
   "outputs": [],
   "source": [
    "import sqlite3\n",
    "\n",
    "# Connect to Database\n",
    "conn = sqlite3.connect('customers.db')\n",
    "\n",
    "# Create a Cursor\n",
    "c = conn.cursor()\n",
    "\n",
    "# Delete Records\n",
    "c.execute(\"DELETE from customers WHERE rowid = 6\")\n",
    "\n",
    "# Commit our Command\n",
    "conn.commit()\n",
    "\n",
    "# Query the Database\n",
    "c.execute(\"SELECT rowid, * FROM customers\")\n",
    "\n",
    "items = c.fetchall()\n",
    "for item in items:\n",
    "    print(item)\n",
    "\n",
    "# print(\"Command executed successfully...\")\n",
    "\n",
    "# Commit our Command\n",
    "conn.commit()\n",
    "\n",
    "# close our connection\n",
    "conn.close()\n"
   ]
  },
  {
   "cell_type": "markdown",
   "id": "8c613261",
   "metadata": {},
   "source": [
    "## Order By\n",
    "Currently we're returning records in order (by default), but what if we decide to order them by any other column or field, we can do so. If we ORDER BY rowid there won't be any change because each record will be returned in ascending order."
   ]
  },
  {
   "cell_type": "code",
   "execution_count": null,
   "id": "5961272d",
   "metadata": {},
   "outputs": [],
   "source": [
    "import sqlite3\n",
    "\n",
    "# Connect to Database\n",
    "conn = sqlite3.connect('customers.db')\n",
    "\n",
    "# Create a Cursor\n",
    "c = conn.cursor()\n",
    "\n",
    "# Query the Database - ORDER BY\n",
    "c.execute(\"SELECT rowid, * FROM customers ORDER BY rowid\")\n",
    "\n",
    "items = c.fetchall()\n",
    "for item in items:\n",
    "    print(item)\n",
    "\n",
    "# print(\"Command executed successfully...\")\n",
    "\n",
    "# Commit our Command\n",
    "conn.commit()\n",
    "\n",
    "# close our connection\n",
    "conn.close()\n"
   ]
  },
  {
   "cell_type": "markdown",
   "id": "9805225e",
   "metadata": {},
   "source": [
    "## ASC and DESC\n",
    "You could return records using the ASC or DESC commands. By default they're returned in ascending order by id (so you don't have to be explicit by writing ASC), but what if you wanted them returned in descending order?"
   ]
  },
  {
   "cell_type": "code",
   "execution_count": null,
   "id": "2ba249c3",
   "metadata": {},
   "outputs": [],
   "source": [
    "import sqlite3\n",
    "\n",
    "# Connect to Database\n",
    "conn = sqlite3.connect('customers.db')\n",
    "\n",
    "# Create a Cursor\n",
    "c = conn.cursor()\n",
    "\n",
    "# Query the Database - ORDER BY\n",
    "c.execute(\"SELECT rowid, * FROM customers ORDER BY rowid DESC\")\n",
    "\n",
    "items = c.fetchall()\n",
    "for item in items:\n",
    "    print(item)\n",
    "\n",
    "# print(\"Command executed successfully...\")\n",
    "\n",
    "# Commit our Command\n",
    "conn.commit()\n",
    "\n",
    "# close our connection\n",
    "conn.close()\n"
   ]
  },
  {
   "cell_type": "markdown",
   "id": "53e2988d",
   "metadata": {},
   "source": [
    "You could ORDER BY last_name which would return records alphabetically."
   ]
  },
  {
   "cell_type": "code",
   "execution_count": null,
   "id": "edc21c0b",
   "metadata": {},
   "outputs": [],
   "source": [
    "import sqlite3\n",
    "\n",
    "# Connect to Database\n",
    "conn = sqlite3.connect('customers.db')\n",
    "\n",
    "# Create a Cursor\n",
    "c = conn.cursor()\n",
    "\n",
    "# Query the Database - ORDER BY\n",
    "c.execute(\"SELECT rowid, * FROM customers ORDER BY last_name\")\n",
    "\n",
    "items = c.fetchall()\n",
    "for item in items:\n",
    "    print(item)\n",
    "\n",
    "# print(\"Command executed successfully...\")\n",
    "\n",
    "# Commit our Command\n",
    "conn.commit()\n",
    "\n",
    "# close our connection\n",
    "conn.close()\n"
   ]
  },
  {
   "cell_type": "markdown",
   "id": "8d5eca1a",
   "metadata": {},
   "source": [
    "Or last name in descending order. This will be the opposite order to the above output."
   ]
  },
  {
   "cell_type": "code",
   "execution_count": null,
   "id": "f1ee98de",
   "metadata": {},
   "outputs": [],
   "source": [
    "import sqlite3\n",
    "\n",
    "# Connect to Database\n",
    "conn = sqlite3.connect('customers.db')\n",
    "\n",
    "# Create a Cursor\n",
    "c = conn.cursor()\n",
    "\n",
    "# Query the Database - ORDER BY\n",
    "c.execute(\"SELECT rowid, * FROM customers ORDER BY last_name DESC\")\n",
    "\n",
    "items = c.fetchall()\n",
    "for item in items:\n",
    "    print(item)\n",
    "\n",
    "# print(\"Command executed successfully...\")\n",
    "\n",
    "# Commit our Command\n",
    "conn.commit()\n",
    "\n",
    "# close our connection\n",
    "conn.close()\n"
   ]
  },
  {
   "cell_type": "markdown",
   "id": "d8187715",
   "metadata": {},
   "source": [
    "## AND / OR Operations\n",
    "So these commands are part of conditional statements and operations (Conjunctive Operators) and rely on two conditions being met individually or together. They are called Boolean Operators. \n",
    "\n",
    "They allow us to extend the functionality of the WHERE clause, for example WHERE a certain condition is met we would like to include a more accurate definition or subset of data using the AND / OR commands. We could say we are adding more conditions to our work! The AND operator allows the existence of multiple conditions in a SQL statements WHERE clause."
   ]
  },
  {
   "cell_type": "code",
   "execution_count": null,
   "id": "a7b3756f",
   "metadata": {},
   "outputs": [],
   "source": [
    "import sqlite3\n",
    "\n",
    "# Connect to Database\n",
    "conn = sqlite3.connect('customers.db')\n",
    "\n",
    "# Create a Cursor\n",
    "c = conn.cursor()\n",
    "\n",
    "# Query the Database - ORDER BY\n",
    "c.execute(\"SELECT rowid, * FROM customers WHERE last_name LIKE 'Br%'\")\n",
    "\n",
    "items = c.fetchall()\n",
    "for item in items:\n",
    "    print(item)\n",
    "\n",
    "# print(\"Command executed successfully...\")\n",
    "\n",
    "# Commit our Command\n",
    "conn.commit()\n",
    "\n",
    "# close our connection\n",
    "conn.close()\n"
   ]
  },
  {
   "cell_type": "markdown",
   "id": "f9cd0142",
   "metadata": {},
   "source": [
    "So this will return the Mary Brown and Wes Brown entries but suppose we only want it to return Mary Brown. Setting the LIKE along with the AND conditions mean that both have to be True in order to return these records."
   ]
  },
  {
   "cell_type": "code",
   "execution_count": null,
   "id": "726f5e28",
   "metadata": {},
   "outputs": [],
   "source": [
    "import sqlite3\n",
    "\n",
    "# Connect to Database\n",
    "conn = sqlite3.connect('customers.db')\n",
    "\n",
    "# Create a Cursor\n",
    "c = conn.cursor()\n",
    "\n",
    "# Query the Database - ORDER BY\n",
    "c.execute(\"SELECT rowid, * FROM customers WHERE last_name LIKE 'Br%' AND rowid = 3\")\n",
    "\n",
    "items = c.fetchall()\n",
    "for item in items:\n",
    "    print(item)\n",
    "\n",
    "# print(\"Command executed successfully...\")\n",
    "\n",
    "# Commit our Command\n",
    "conn.commit()\n",
    "\n",
    "# close our connection\n",
    "conn.close()\n"
   ]
  },
  {
   "cell_type": "markdown",
   "id": "ffdaca16",
   "metadata": {},
   "source": [
    "What if we use OR instead?"
   ]
  },
  {
   "cell_type": "code",
   "execution_count": null,
   "id": "495366ae",
   "metadata": {},
   "outputs": [],
   "source": [
    "import sqlite3\n",
    "\n",
    "# Connect to Database\n",
    "conn = sqlite3.connect('customers.db')\n",
    "\n",
    "# Create a Cursor\n",
    "c = conn.cursor()\n",
    "\n",
    "# Query the Database - ORDER BY\n",
    "c.execute(\"SELECT rowid, * FROM customers WHERE last_name LIKE 'Br%' OR rowid = 3\")\n",
    "\n",
    "items = c.fetchall()\n",
    "for item in items:\n",
    "    print(item)\n",
    "\n",
    "# print(\"Command executed successfully...\")\n",
    "\n",
    "# Commit our Command\n",
    "conn.commit()\n",
    "\n",
    "# close our connection\n",
    "conn.close()\n"
   ]
  },
  {
   "cell_type": "markdown",
   "id": "26a735be",
   "metadata": {},
   "source": [
    "This time it will return two results. AND means both conditions must be satisfied whereas OR means either or condition must be satisfied. The OR operator seems to cast a wider net than the AND operator."
   ]
  },
  {
   "cell_type": "code",
   "execution_count": null,
   "id": "e569b162",
   "metadata": {},
   "outputs": [],
   "source": [
    "import sqlite3\n",
    "\n",
    "# Connect to Database\n",
    "conn = sqlite3.connect('customers.db')\n",
    "\n",
    "# Create a Cursor\n",
    "c = conn.cursor()\n",
    "\n",
    "# Query the Database - ORDER BY\n",
    "c.execute(\"SELECT rowid, * FROM customers WHERE last_name LIKE 'Br%' OR rowid = 3\")\n",
    "\n",
    "items = c.fetchall()\n",
    "for item in items:\n",
    "    print(item)\n",
    "\n",
    "# print(\"Command executed successfully...\")\n",
    "\n",
    "# Commit our Command\n",
    "conn.commit()\n",
    "\n",
    "# close our connection\n",
    "conn.close()\n"
   ]
  },
  {
   "cell_type": "markdown",
   "id": "fe660467",
   "metadata": {},
   "source": [
    "## LIMIT Results\n",
    "Limiting the results enables you to return only a certain number of records or lines of data."
   ]
  },
  {
   "cell_type": "code",
   "execution_count": null,
   "id": "115caa76",
   "metadata": {},
   "outputs": [],
   "source": [
    "import sqlite3\n",
    "\n",
    "# Connect to Database\n",
    "conn = sqlite3.connect('customers.db')\n",
    "\n",
    "# Create a Cursor\n",
    "c = conn.cursor()\n",
    "\n",
    "# Query the Database - ORDER BY\n",
    "c.execute(\"SELECT rowid, * FROM customers LIMIT 2\")\n",
    "\n",
    "items = c.fetchall()\n",
    "for item in items:\n",
    "    print(item)\n",
    "\n",
    "# print(\"Command executed successfully...\")\n",
    "\n",
    "# Commit our Command\n",
    "conn.commit()\n",
    "\n",
    "# close our connection\n",
    "conn.close()"
   ]
  },
  {
   "cell_type": "markdown",
   "id": "eefa53e9",
   "metadata": {},
   "source": [
    "So the results are limited to only 2 records in the output. How about organizing them by descending values according to rowid? This should provide row id's 5 and 4 as the only entries we're returning."
   ]
  },
  {
   "cell_type": "code",
   "execution_count": null,
   "id": "9dc52888",
   "metadata": {},
   "outputs": [],
   "source": [
    "import sqlite3\n",
    "\n",
    "# Connect to Database\n",
    "conn = sqlite3.connect('customers.db')\n",
    "\n",
    "# Create a Cursor\n",
    "c = conn.cursor()\n",
    "\n",
    "# Query the Database - ORDER BY\n",
    "c.execute(\"SELECT rowid, * FROM customers ORDER BY rowid DESC LIMIT 2\")\n",
    "\n",
    "items = c.fetchall()\n",
    "for item in items:\n",
    "    print(item)\n",
    "\n",
    "# print(\"Command executed successfully...\")\n",
    "\n",
    "# Commit our Command\n",
    "conn.commit()\n",
    "\n",
    "# close our connection\n",
    "conn.close()"
   ]
  },
  {
   "cell_type": "markdown",
   "id": "0650884f",
   "metadata": {},
   "source": [
    "And try limiting the results by 3 records this time."
   ]
  },
  {
   "cell_type": "code",
   "execution_count": null,
   "id": "02a4175c",
   "metadata": {},
   "outputs": [],
   "source": [
    "import sqlite3\n",
    "\n",
    "# Connect to Database\n",
    "conn = sqlite3.connect('customers.db')\n",
    "\n",
    "# Create a Cursor\n",
    "c = conn.cursor()\n",
    "\n",
    "# Query the Database - ORDER BY\n",
    "c.execute(\"SELECT rowid, * FROM customers LIMIT 3\")\n",
    "\n",
    "items = c.fetchall()\n",
    "for item in items:\n",
    "    print(item)\n",
    "\n",
    "# print(\"Command executed successfully...\")\n",
    "\n",
    "# Commit our Command\n",
    "conn.commit()\n",
    "\n",
    "# close our connection\n",
    "conn.close()"
   ]
  },
  {
   "cell_type": "markdown",
   "id": "820334c8",
   "metadata": {},
   "source": [
    "## DROP TABLE\n",
    "Deleting an entire table means removing it from the database. In the example below we're trying to run a query immediately after dropping the table, but we should get an error message telling us the table does not exist instead.\n",
    "\n",
    "Remember, the table will need to be re-built or created again if you want to use it."
   ]
  },
  {
   "cell_type": "code",
   "execution_count": null,
   "id": "a8f6a95c",
   "metadata": {},
   "outputs": [],
   "source": [
    "import sqlite3\n",
    "\n",
    "# Connect to Database\n",
    "conn = sqlite3.connect('customers.db')\n",
    "\n",
    "# Create a Cursor\n",
    "c = conn.cursor()\n",
    "\n",
    "# Drop Table\n",
    "c.execute(\"DROP TABLE customers\")\n",
    "conn.commit()\n",
    "\n",
    "# Query the Database - ORDER BY\n",
    "c.execute(\"SELECT rowid, * FROM customers LIMIT 3\")\n",
    "\n",
    "items = c.fetchall()\n",
    "for item in items:\n",
    "    print(item)\n",
    "\n",
    "# print(\"Command executed successfully...\")\n",
    "\n",
    "# Commit our Command\n",
    "conn.commit()\n",
    "\n",
    "# close our connection\n",
    "conn.close()"
   ]
  },
  {
   "cell_type": "markdown",
   "id": "23dccb71",
   "metadata": {},
   "source": [
    "## Database App - Show All Function\n",
    "Designed to split all the commands we've used up until now into different files. Create new files called 'database.py' and 'our_app.py'. The 'database.py' fie will contain the code below. We want to take all of these little functions and be able to call them from another file ('our_app.py'). We'll abstract all the database stuff away and make everything a lot cleaner."
   ]
  },
  {
   "cell_type": "code",
   "execution_count": null,
   "id": "085021a9",
   "metadata": {},
   "outputs": [],
   "source": [
    "# In the database.py file import libraries\n",
    "import sqlite3\n",
    "\n",
    "# Query the DB and return all records\n",
    "def show_all():\n",
    "    # Connect to a Database\n",
    "    conn = sqlite3.connect('customer.db')\n",
    "    # Create a Cursor\n",
    "    c = conn.cursor()\n",
    "    \n",
    "    # Query the Database\n",
    "    c.execute(\"SELECT rowid, * FROM customers\")\n",
    "    items = c.fetchall()\n",
    "    \n",
    "    for item in items:\n",
    "        print(item)\n",
    "        \n",
    "    # print(\"Command executed successfully...\")\n",
    "    # Commit our Command\n",
    "    conn.commit()\n",
    "    # Close our Connection\n",
    "    conn.close()\n"
   ]
  },
  {
   "cell_type": "markdown",
   "id": "211cbecb",
   "metadata": {},
   "source": [
    "In 'our_app.py' file, we can Call this function now. Reference the file name 'database.py' followed by the 'show_all()' function as follows:"
   ]
  },
  {
   "cell_type": "code",
   "execution_count": null,
   "id": "91927c27",
   "metadata": {},
   "outputs": [],
   "source": [
    "import database\n",
    "\n",
    "database.show_all()"
   ]
  },
  {
   "cell_type": "markdown",
   "id": "0a7e9bab",
   "metadata": {},
   "source": [
    "Go to the terminal and run> python our_app.py - to see if it works!"
   ]
  },
  {
   "cell_type": "markdown",
   "id": "cf060c5f",
   "metadata": {},
   "source": [
    "## Our App - Add a Record Function\n",
    "So we've created a function to show everything, or all records. Let's now create a function to ADD a record to our database in the 'database.py' file."
   ]
  },
  {
   "cell_type": "code",
   "execution_count": null,
   "id": "446e6f93",
   "metadata": {},
   "outputs": [],
   "source": [
    "# Add a New Record to the Table\n",
    "def add_one(first,last,email):\n",
    "    conn = sqlite3.connect('customer.db')\n",
    "    c = conn.cursor()\n",
    "    c.execute(\"INSERT INTO customers VALUES (?,?,?)\", (first, last, email))\n",
    "    # Commit our Command\n",
    "    conn.commit()\n",
    "    # Close our Connection\n",
    "    conn.close()"
   ]
  },
  {
   "cell_type": "markdown",
   "id": "dca79a83",
   "metadata": {},
   "source": [
    "The database.py file should have all the following code now:"
   ]
  },
  {
   "cell_type": "code",
   "execution_count": null,
   "id": "361faa3e",
   "metadata": {},
   "outputs": [],
   "source": [
    "# In the database.py file import libraries\n",
    "import sqlite3\n",
    "\n",
    "# Query the DB and return all records\n",
    "def show_all():\n",
    "    # Connect to a Database\n",
    "    conn = sqlite3.connect('customer.db')\n",
    "    # Create a Cursor\n",
    "    c = conn.cursor()\n",
    "    \n",
    "    # Query the Database\n",
    "    c.execute(\"SELECT rowid, * FROM customers\")\n",
    "    items = c.fetchall()\n",
    "    \n",
    "    for item in items:\n",
    "        print(item)\n",
    "        \n",
    "    # print(\"Command executed successfully...\")\n",
    "    # Commit our Command\n",
    "    conn.commit()\n",
    "    # Close our Connection\n",
    "    conn.close()\n",
    "    \n",
    "# Add a New Record to the Table\n",
    "def add_one(first,last,email):\n",
    "    conn = sqlite3.connect('customer.db')\n",
    "    c = conn.cursor()\n",
    "    c.execute(\"INSERT INTO customers VALUES (?,?,?)\", (first, last, email))\n",
    "    # Commit our Command\n",
    "    conn.commit()\n",
    "    # Close our Connection\n",
    "    conn.close()"
   ]
  },
  {
   "cell_type": "code",
   "execution_count": null,
   "id": "8213f3fd",
   "metadata": {},
   "outputs": [],
   "source": [
    "import database\n",
    "\n",
    "# add a record to the database\n",
    "database.add_one(\"Laura\",\"Smith\",\"laura@smith.com\")\n",
    "\n",
    "# show all the records\n",
    "database.show_all()"
   ]
  },
  {
   "cell_type": "markdown",
   "id": "d4fe88d2",
   "metadata": {},
   "source": []
  },
  {
   "cell_type": "code",
   "execution_count": null,
   "id": "24fadc6e",
   "metadata": {},
   "outputs": [],
   "source": []
  },
  {
   "cell_type": "code",
   "execution_count": null,
   "id": "5b0e7ba8",
   "metadata": {},
   "outputs": [],
   "source": []
  },
  {
   "cell_type": "code",
   "execution_count": null,
   "id": "b65538f0",
   "metadata": {},
   "outputs": [],
   "source": []
  },
  {
   "cell_type": "code",
   "execution_count": null,
   "id": "842777ee",
   "metadata": {},
   "outputs": [],
   "source": [
    "# engine = create_engine('sqlite:///:memory:')"
   ]
  }
 ],
 "metadata": {
  "kernelspec": {
   "display_name": "Python 3 (ipykernel)",
   "language": "python",
   "name": "python3"
  },
  "language_info": {
   "codemirror_mode": {
    "name": "ipython",
    "version": 3
   },
   "file_extension": ".py",
   "mimetype": "text/x-python",
   "name": "python",
   "nbconvert_exporter": "python",
   "pygments_lexer": "ipython3",
   "version": "3.9.13"
  },
  "vscode": {
   "interpreter": {
    "hash": "4c26972402dce5166fbc873f625c08651cf8cab8ad67af055bc25543d79ffa73"
   }
  }
 },
 "nbformat": 4,
 "nbformat_minor": 5
}
