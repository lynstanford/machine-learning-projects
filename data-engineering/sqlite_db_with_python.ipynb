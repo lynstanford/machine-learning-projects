{
 "cells": [
  {
   "cell_type": "code",
   "execution_count": null,
   "id": "7ce36302",
   "metadata": {},
   "outputs": [],
   "source": [
    "import sqlite3\n",
    "\n",
    "# connect to a database\n",
    "conn = sqlite3.connect('customers.db')"
   ]
  },
  {
   "cell_type": "markdown",
   "id": "62b3df15",
   "metadata": {},
   "source": [
    "SQLite also allows you to create a database in memory. The software program won't save the database which disappears once you've finished with it.\n",
    "\n",
    "conn = sqlite3.connect(':memory:')          # an example of an in-memory connection"
   ]
  },
  {
   "cell_type": "markdown",
   "id": "7cabdfa8",
   "metadata": {},
   "source": [
    "## Create a Cursor\n",
    "This tells the database what you want to do. Whenever you do anything you're going to get the cursor to do it!"
   ]
  },
  {
   "cell_type": "code",
   "execution_count": null,
   "id": "54336680",
   "metadata": {},
   "outputs": [],
   "source": [
    "# create a cursor\n",
    "c = conn.cursor()"
   ]
  },
  {
   "cell_type": "markdown",
   "id": "18bcca18",
   "metadata": {},
   "source": [
    "## Create a Table"
   ]
  },
  {
   "cell_type": "code",
   "execution_count": null,
   "id": "65624e4d",
   "metadata": {},
   "outputs": [],
   "source": [
    "c.execute(\"\"\" CREATE TABLE IF NOT EXISTS customers (\n",
    "        first_name DATATYPE,\n",
    "        last_name DATATYPE,\n",
    "        email DATATYPE)\n",
    "\"\"\")"
   ]
  },
  {
   "cell_type": "code",
   "execution_count": null,
   "id": "2d2141b3",
   "metadata": {},
   "outputs": [],
   "source": [
    "conn.commit()\n",
    "conn.close()"
   ]
  },
  {
   "cell_type": "markdown",
   "id": "2fde3617",
   "metadata": {},
   "source": [
    "Another valid way to write this code is as follows (using a single line):\n",
    "\n",
    "c.execute(\"CREATE TABLE customers (first_name DATATYPE, last_name DATATYPE, email DATATYPE)\")"
   ]
  },
  {
   "cell_type": "code",
   "execution_count": null,
   "id": "b8a464ba",
   "metadata": {},
   "outputs": [],
   "source": [
    "# putting this all together\n",
    "import sqlite3\n",
    "\n",
    "# If we don't have a db this will create one. If we do, this will just connect to the db.\n",
    "conn = sqlite3.connect('customers.db')\n",
    "# create a cursor\n",
    "c = conn.cursor()\n",
    "c.execute(\"\"\" CREATE TABLE IF NOT EXISTS customers (\n",
    "        first_name DATATYPE,\n",
    "        last_name DATATYPE,\n",
    "        email DATATYPE)\n",
    "\"\"\")\n",
    "conn.commit()\n",
    "conn.close()"
   ]
  },
  {
   "cell_type": "code",
   "execution_count": null,
   "id": "fac60150",
   "metadata": {},
   "outputs": [],
   "source": [
    "## Data Types in SQLite\n",
    "# NULL\n",
    "# INTEGER\n",
    "# REAL\n",
    "# TEXT\n",
    "# BLOB"
   ]
  },
  {
   "cell_type": "markdown",
   "id": "11189f60",
   "metadata": {},
   "source": [
    "Changing the 'DATATYPE' to 'text' as follows:"
   ]
  },
  {
   "cell_type": "code",
   "execution_count": null,
   "id": "0511f58a",
   "metadata": {},
   "outputs": [],
   "source": [
    "# putting this all together\n",
    "import sqlite3\n",
    "\n",
    "# If we don't have a db this will create one. If we do, this will just connect to the db.\n",
    "conn = sqlite3.connect('customers.db')\n",
    "# create a cursor\n",
    "c = conn.cursor()\n",
    "c.execute(\"\"\" CREATE TABLE customers (\n",
    "        first_name TEXT,\n",
    "        last_name TEXT,\n",
    "        email TEXT)\n",
    "\"\"\")\n",
    "conn.commit()\n",
    "conn.close()"
   ]
  },
  {
   "cell_type": "markdown",
   "id": "ad6757cf",
   "metadata": {},
   "source": [
    "## Insert One Record at a Time"
   ]
  },
  {
   "cell_type": "code",
   "execution_count": null,
   "id": "4c82e245",
   "metadata": {},
   "outputs": [],
   "source": [
    "# putting this all together\n",
    "import sqlite3\n",
    "\n",
    "# If we don't have a db this will create one. If we do, this will just connect to the db.\n",
    "conn = sqlite3.connect('customers.db')\n",
    "# create a cursor\n",
    "c = conn.cursor()\n",
    "\n",
    "# Insert one record into the table\n",
    "c.execute(\"\"\" CREATE TABLE IF NOT EXISTS customers (\n",
    "        first_name TEXT,\n",
    "        last_name TEXT,\n",
    "        email TEXT)\n",
    "\"\"\")\n",
    "\n",
    "c.execute(\"INSERT INTO customers VALUES ('John', 'Elder', 'john@codemy.com')\")\n",
    "print(\"Command executed successfully...\")\n",
    "\n",
    "# commit our connection command\n",
    "conn.commit()\n",
    "# close our connection\n",
    "conn.close()"
   ]
  },
  {
   "cell_type": "markdown",
   "id": "266480e4",
   "metadata": {},
   "source": [
    "Open bash and navigate to the location of this file using 'cd' command. Then, save and run the python file 'sqlite_connection.py' in bash."
   ]
  },
  {
   "cell_type": "code",
   "execution_count": null,
   "id": "bb8e53b8",
   "metadata": {},
   "outputs": [],
   "source": [
    "!curl python slqite_connection.py"
   ]
  },
  {
   "cell_type": "markdown",
   "id": "848f5974",
   "metadata": {},
   "source": [
    "You should see the 'Command executed successfully...' output."
   ]
  },
  {
   "cell_type": "code",
   "execution_count": null,
   "id": "e88bc742",
   "metadata": {},
   "outputs": [],
   "source": [
    "import sqlite3\n",
    "\n",
    "# connect to a database\n",
    "conn = sqlite3.connect('customers.db')\n",
    "\n",
    "# create a cursor\n",
    "c = conn.cursor()\n",
    "\n",
    "# add another entry to our database:\n",
    "c.execute(\"INSERT INTO customers VALUES ('Tim', 'Smith', 'tim@codemy.com')\")\n",
    "\n",
    "# commit our connection command\n",
    "conn.commit()\n",
    "\n",
    "# close our connection\n",
    "conn.close()"
   ]
  },
  {
   "cell_type": "markdown",
   "id": "0b12b5b1",
   "metadata": {},
   "source": [
    "Save this file and run it in the bash again!"
   ]
  },
  {
   "cell_type": "code",
   "execution_count": null,
   "id": "e995a17b",
   "metadata": {},
   "outputs": [],
   "source": [
    "!curl python slqite_connection.py"
   ]
  },
  {
   "cell_type": "code",
   "execution_count": null,
   "id": "fd14429a",
   "metadata": {},
   "outputs": [],
   "source": [
    "import sqlite3\n",
    "\n",
    "# connect to a database\n",
    "conn = sqlite3.connect('customers.db')\n",
    "\n",
    "# create a cursor\n",
    "c = conn.cursor()\n",
    "\n",
    "# add another entry to our database:\n",
    "c.execute(\"INSERT INTO customers VALUES ('Mary', 'Brown', 'mary@codemy.com')\")\n",
    "\n",
    "# commit our connection command\n",
    "conn.commit()\n",
    "\n",
    "# close our connection\n",
    "conn.close()"
   ]
  },
  {
   "cell_type": "markdown",
   "id": "07c9be61",
   "metadata": {},
   "source": [
    "Save this file and run it in the bash!\n",
    "\n",
    "## Insert Many Records Into the Table"
   ]
  },
  {
   "cell_type": "code",
   "execution_count": null,
   "id": "b5ddc9c2",
   "metadata": {},
   "outputs": [],
   "source": [
    "# insert many records into the table\n",
    "many_customers = [\n",
    "                    ('Wes','Brown','wes@brown.com'),\n",
    "                    ('Steph','Kuewa','steph@kuewa.com'),\n",
    "                    ('Dan','Pas','dan@pas.com')\n",
    "                ]"
   ]
  },
  {
   "cell_type": "code",
   "execution_count": null,
   "id": "58de32f5",
   "metadata": {},
   "outputs": [],
   "source": [
    "import sqlite3\n",
    "\n",
    "# connect to a database\n",
    "conn = sqlite3.connect('customers.db')\n",
    "\n",
    "# create a cursor\n",
    "c = conn.cursor()\n",
    "\n",
    "# add many entries to our database using placeholders\n",
    "c.executemany(\"INSERT INTO customers VALUES (?,?,?)\", many_customers)\n",
    "\n",
    "# commit our connection command\n",
    "conn.commit()\n",
    "\n",
    "# close our connection\n",
    "conn.close()"
   ]
  },
  {
   "cell_type": "markdown",
   "id": "85c22969",
   "metadata": {},
   "source": [
    "## Query and Fetchall"
   ]
  },
  {
   "cell_type": "code",
   "execution_count": null,
   "id": "ca5a8c57",
   "metadata": {},
   "outputs": [],
   "source": [
    "import sqlite3\n",
    "\n",
    "# connect to a database\n",
    "conn = sqlite3.connect('customers.db')\n",
    "\n",
    "# create a cursor\n",
    "c = conn.cursor()\n",
    "\n",
    "# query the database\n",
    "c.execute(\"SELECT * FROM customers\")\n",
    "# print(c.fetchone())\n",
    "# print(c.fetchmany(3))\n",
    "print(c.fetchall())\n",
    "\n",
    "# print(\"Command executed successfully...\")\n",
    "\n",
    "# commit our command\n",
    "conn.commit()\n",
    "\n",
    "# close our connection\n",
    "conn.close()"
   ]
  },
  {
   "cell_type": "markdown",
   "id": "f33fb367",
   "metadata": {},
   "source": [
    "Save and run in bash or command prompt again! Try fetching just a single record this time."
   ]
  },
  {
   "cell_type": "code",
   "execution_count": null,
   "id": "c24dd057",
   "metadata": {},
   "outputs": [],
   "source": [
    "import sqlite3\n",
    "\n",
    "# connect to a database\n",
    "conn = sqlite3.connect('customers.db')\n",
    "\n",
    "# create a cursor\n",
    "c = conn.cursor()\n",
    "\n",
    "# query the database\n",
    "c.execute(\"SELECT * FROM customers\")\n",
    "print(c.fetchone())\n",
    "# print(c.fetchmany(3))\n",
    "# print(c.fetchall())\n",
    "\n",
    "# print(\"Command executed successfully...\")\n",
    "\n",
    "# commit our command\n",
    "conn.commit()\n",
    "\n",
    "# close our connection\n",
    "conn.close()"
   ]
  },
  {
   "cell_type": "markdown",
   "id": "e99518fd",
   "metadata": {},
   "source": [
    "Save and Run!\n",
    "\n",
    "Because fetchone() returns a Tuple, different elements can be accessed via slicing (for example let's look at the first element)."
   ]
  },
  {
   "cell_type": "code",
   "execution_count": null,
   "id": "c318b8f9",
   "metadata": {},
   "outputs": [],
   "source": [
    "import sqlite3\n",
    "\n",
    "# connect to a database\n",
    "conn = sqlite3.connect('customers.db')\n",
    "\n",
    "# create a cursor\n",
    "c = conn.cursor()\n",
    "\n",
    "# query the database\n",
    "c.execute(\"SELECT * FROM customers\")\n",
    "print(c.fetchone()[0])\n",
    "# print(c.fetchmany(3))\n",
    "# print(c.fetchall())\n",
    "\n",
    "# print(\"Command executed successfully...\")\n",
    "\n",
    "# commit our command\n",
    "conn.commit()\n",
    "\n",
    "# close our connection\n",
    "conn.close()"
   ]
  },
  {
   "cell_type": "markdown",
   "id": "95da4b33",
   "metadata": {},
   "source": [
    "Save and Run!"
   ]
  },
  {
   "cell_type": "code",
   "execution_count": null,
   "id": "29e85d88",
   "metadata": {},
   "outputs": [],
   "source": [
    "import sqlite3\n",
    "\n",
    "# connect to a database\n",
    "conn = sqlite3.connect('customers.db')\n",
    "\n",
    "# create a cursor\n",
    "c = conn.cursor()\n",
    "\n",
    "# query the database\n",
    "c.execute(\"SELECT * FROM customers\")\n",
    "# print(c.fetchone()[0])\n",
    "# print(c.fetchmany(3))\n",
    "\n",
    "items = c.fetchall()\n",
    "print(items)\n",
    "\n",
    "# print(\"Command executed successfully...\")\n",
    "\n",
    "# commit our command\n",
    "conn.commit()\n",
    "\n",
    "# close our connection\n",
    "conn.close()"
   ]
  },
  {
   "cell_type": "markdown",
   "id": "c66ba6b5",
   "metadata": {},
   "source": [
    "Save and Run!\n",
    "\n",
    "Alternatively, you could create a loop:"
   ]
  },
  {
   "cell_type": "code",
   "execution_count": null,
   "id": "e68e7850",
   "metadata": {},
   "outputs": [],
   "source": [
    "import sqlite3\n",
    "\n",
    "# connect to a database\n",
    "conn = sqlite3.connect('customers.db')\n",
    "\n",
    "# create a cursor\n",
    "c = conn.cursor()\n",
    "\n",
    "# query the database\n",
    "c.execute(\"SELECT * FROM customers\")\n",
    "# print(c.fetchone()[0])\n",
    "# print(c.fetchmany(3))\n",
    "\n",
    "items = c.fetchall()\n",
    "\n",
    "for item in items:\n",
    "    print(item)\n",
    "\n",
    "# print(\"Command executed successfully...\")\n",
    "\n",
    "# commit our command\n",
    "conn.commit()\n",
    "\n",
    "# close our connection\n",
    "conn.close()"
   ]
  },
  {
   "cell_type": "markdown",
   "id": "01ebdaf7",
   "metadata": {},
   "source": [
    "Save and Run!\n",
    "\n",
    "This should output a Tuple, but the data is slowly becoming more readable now. Suppose we just wanted to print out element zero inside the Tuple."
   ]
  },
  {
   "cell_type": "code",
   "execution_count": null,
   "id": "0a94bd95",
   "metadata": {},
   "outputs": [],
   "source": [
    "import sqlite3\n",
    "\n",
    "# connect to a database\n",
    "conn = sqlite3.connect('customers.db')\n",
    "\n",
    "# create a cursor\n",
    "c = conn.cursor()\n",
    "\n",
    "# query the database\n",
    "c.execute(\"SELECT * FROM customers\")\n",
    "# print(c.fetchone()[0])\n",
    "# print(c.fetchmany(3))\n",
    "\n",
    "items = c.fetchall()\n",
    "\n",
    "for item in items:\n",
    "    print(item[0])\n",
    "\n",
    "# print(\"Command executed successfully...\")\n",
    "\n",
    "# commit our command\n",
    "conn.commit()\n",
    "\n",
    "# close our connection\n",
    "conn.close()"
   ]
  },
  {
   "cell_type": "markdown",
   "id": "6fabe6bf",
   "metadata": {},
   "source": [
    "Save and Run!\n",
    "\n",
    "What about if we want to concatenate other columns?"
   ]
  },
  {
   "cell_type": "code",
   "execution_count": null,
   "id": "c5c399c7",
   "metadata": {},
   "outputs": [],
   "source": [
    "import sqlite3\n",
    "\n",
    "# connect to a database\n",
    "conn = sqlite3.connect('customers.db')\n",
    "\n",
    "# create a cursor\n",
    "c = conn.cursor()\n",
    "\n",
    "# query the database\n",
    "c.execute(\"SELECT * FROM customers\")\n",
    "# print(c.fetchone()[0])\n",
    "# print(c.fetchmany(3))\n",
    "\n",
    "items = c.fetchall()\n",
    "\n",
    "for item in items:\n",
    "    print(item[0] + \" \" + item[1] + \" \" + item[2])\n",
    "\n",
    "# print(\"Command executed successfully...\")\n",
    "\n",
    "# commit our command\n",
    "conn.commit()\n",
    "\n",
    "# close our connection\n",
    "conn.close()"
   ]
  },
  {
   "cell_type": "markdown",
   "id": "96579473",
   "metadata": {},
   "source": [
    "Save and Run!\n",
    "\n",
    "You could add a Pipe Delimiter for example."
   ]
  },
  {
   "cell_type": "code",
   "execution_count": null,
   "id": "c69a531c",
   "metadata": {},
   "outputs": [],
   "source": [
    "import sqlite3\n",
    "\n",
    "# connect to a database\n",
    "conn = sqlite3.connect('customers.db')\n",
    "\n",
    "# create a cursor\n",
    "c = conn.cursor()\n",
    "\n",
    "# query the database\n",
    "c.execute(\"SELECT * FROM customers\")\n",
    "# print(c.fetchone()[0])\n",
    "# print(c.fetchmany(3))\n",
    "\n",
    "items = c.fetchall()\n",
    "\n",
    "for item in items:\n",
    "    print(item[0] + \" \" + item[1] + \" | \" + item[2])\n",
    "\n",
    "# print(\"Command executed successfully...\")\n",
    "\n",
    "# commit our command\n",
    "conn.commit()\n",
    "\n",
    "# close our connection\n",
    "conn.close()"
   ]
  },
  {
   "cell_type": "markdown",
   "id": "24b77733",
   "metadata": {},
   "source": [
    "Save and Run!\n",
    "\n",
    "What about Tab Delimiting?"
   ]
  },
  {
   "cell_type": "code",
   "execution_count": null,
   "id": "5145847e",
   "metadata": {},
   "outputs": [],
   "source": [
    "import sqlite3\n",
    "\n",
    "# connect to a database\n",
    "conn = sqlite3.connect('customers.db')\n",
    "\n",
    "# create a cursor\n",
    "c = conn.cursor()\n",
    "\n",
    "# query the database\n",
    "c.execute(\"SELECT * FROM customers\")\n",
    "# print(c.fetchone()[0])\n",
    "# print(c.fetchmany(3))\n",
    "\n",
    "items = c.fetchall()\n",
    "\n",
    "for item in items:\n",
    "    print(item[0] + \" \" + item[1] + \"\\t\" + item[2])\n",
    "\n",
    "# print(\"Command executed successfully...\")\n",
    "\n",
    "# commit our command\n",
    "conn.commit()\n",
    "\n",
    "# close our connection\n",
    "conn.close()"
   ]
  },
  {
   "cell_type": "markdown",
   "id": "5a41b123",
   "metadata": {},
   "source": [
    "Save and Run!\n",
    "\n",
    "Modifying this slightly to give:"
   ]
  },
  {
   "cell_type": "code",
   "execution_count": null,
   "id": "7252328b",
   "metadata": {},
   "outputs": [],
   "source": [
    "import sqlite3\n",
    "\n",
    "# connect to a database\n",
    "conn = sqlite3.connect('customers.db')\n",
    "\n",
    "# create a cursor\n",
    "c = conn.cursor()\n",
    "\n",
    "# query the database\n",
    "c.execute(\"SELECT * FROM customers\")\n",
    "# print(c.fetchone()[0])\n",
    "# print(c.fetchmany(3))\n",
    "\n",
    "items = c.fetchall()\n",
    "\n",
    "print(\"NAME \" + \"\\t\\tEMAIL\")\n",
    "print(\"--------\" + \"\\t\\t--------\")\n",
    "for item in items:\n",
    "    print(item[0] + \" \" + item[1] + \"\\t\\t\" + item[2])\n",
    "\n",
    "# print(\"Command executed successfully...\")\n",
    "\n",
    "# commit our command\n",
    "conn.commit()\n",
    "\n",
    "# close our connection\n",
    "conn.close()"
   ]
  },
  {
   "cell_type": "code",
   "execution_count": null,
   "id": "266f2bfb",
   "metadata": {},
   "outputs": [],
   "source": [
    "import sqlite3\n",
    "\n",
    "# connect to a database\n",
    "conn = sqlite3.connect('customers.db')\n",
    "\n",
    "# create a cursor\n",
    "c = conn.cursor()\n",
    "\n",
    "# query the database\n",
    "c.execute(\"SELECT * FROM customers\")\n",
    "# print(c.fetchone()[0])\n",
    "print(c.fetchmany(3))\n",
    "\n",
    "# print(\"Command executed successfully...\")\n",
    "\n",
    "# commit our command\n",
    "conn.commit()\n",
    "\n",
    "# close our connection\n",
    "conn.close()"
   ]
  },
  {
   "cell_type": "markdown",
   "id": "b79ccab0",
   "metadata": {},
   "source": [
    "Save and Run!\n",
    "\n",
    "This obviously needs some formatting.\n",
    "\n",
    "## Primary Key ID\n",
    "This is a unique id number allocated to each record in your database. For example, we've grabbed all records from the customers.db and placed them into a variable called 'items'."
   ]
  },
  {
   "cell_type": "code",
   "execution_count": null,
   "id": "72ad763c",
   "metadata": {},
   "outputs": [],
   "source": [
    "import sqlite3\n",
    "\n",
    "# connect to a database\n",
    "conn = sqlite3.connect('customers.db')\n",
    "\n",
    "# create a cursor\n",
    "c = conn.cursor()\n",
    "\n",
    "# query the database\n",
    "c.execute(\"SELECT * FROM customers\")\n",
    "# print(c.fetchone()[0])\n",
    "# print(c.fetchmany(3))\n",
    "\n",
    "items = c.fetchall()\n",
    "print(items)\n",
    "\n",
    "# print(\"Command executed successfully...\")\n",
    "\n",
    "# commit our command\n",
    "conn.commit()\n",
    "\n",
    "# close our connection\n",
    "conn.close()"
   ]
  },
  {
   "cell_type": "markdown",
   "id": "9d1c94d1",
   "metadata": {},
   "source": [
    "Using the 'for' loop to print the records in 'items' will make the output a little more aesthetic. In bash run: \n",
    "$ python customers.db\n"
   ]
  },
  {
   "cell_type": "code",
   "execution_count": null,
   "id": "7f8dec66",
   "metadata": {},
   "outputs": [],
   "source": [
    "import sqlite3\n",
    "\n",
    "# connect to a database\n",
    "conn = sqlite3.connect('customers.db')\n",
    "\n",
    "# create a cursor\n",
    "c = conn.cursor()\n",
    "\n",
    "# query the database\n",
    "c.execute(\"SELECT * FROM customers\")\n",
    "# print(c.fetchone()[0])\n",
    "# print(c.fetchmany(3))\n",
    "\n",
    "items = c.fetchall()\n",
    "for item in items:\n",
    "    print(item)\n",
    "\n",
    "# print(\"Command executed successfully...\")\n",
    "\n",
    "# commit our command\n",
    "conn.commit()\n",
    "\n",
    "# close our connection\n",
    "conn.close()"
   ]
  },
  {
   "cell_type": "markdown",
   "id": "0eafbe67",
   "metadata": {},
   "source": [
    "SQLite3 creates another column in the background containing the unique primary key id's. They are called a row id and is written in a SQL query as 'rowid'. Now it will print out the id as well."
   ]
  },
  {
   "cell_type": "code",
   "execution_count": null,
   "id": "b9328759",
   "metadata": {},
   "outputs": [],
   "source": [
    "import sqlite3\n",
    "\n",
    "# connect to a database\n",
    "conn = sqlite3.connect('customers.db')\n",
    "\n",
    "# create a cursor\n",
    "c = conn.cursor()\n",
    "\n",
    "# query the database\n",
    "c.execute(\"SELECT rowid, * FROM customers\")\n",
    "# print(c.fetchone()[0])\n",
    "# print(c.fetchmany(3))\n",
    "\n",
    "items = c.fetchall()\n",
    "for item in items:\n",
    "    print(item)\n",
    "\n",
    "# print(\"Command executed successfully...\")\n",
    "\n",
    "# commit our command\n",
    "conn.commit()\n",
    "\n",
    "# close our connection\n",
    "conn.close()"
   ]
  },
  {
   "cell_type": "markdown",
   "id": "320f0afe",
   "metadata": {},
   "source": [
    "SQLite3 will auto-increment the rowid or primary key so we don't need to worry about this when setting up our database. We don't have to do any of this for sqlite because it does so automatically, unless you specifically tell it not to auto-increment.\n",
    "\n",
    "## WHERE Clause\n",
    "Up until now we've been using a * wildcard and pulling all values from a table. The 'where' clause will enable us to refine the data we query by introducing conditions. For example you may only want people with a certain last name."
   ]
  },
  {
   "cell_type": "code",
   "execution_count": null,
   "id": "8c76dbfb",
   "metadata": {},
   "outputs": [],
   "source": [
    "import sqlite3\n",
    "\n",
    "# connect to a database\n",
    "conn = sqlite3.connect('customers.db')\n",
    "\n",
    "# create a cursor\n",
    "c = conn.cursor()\n",
    "\n",
    "# query the database\n",
    "c.execute(\"SELECT * FROM customers WHERE last_name = 'Elder'\")\n",
    "# print(c.fetchone()[0])\n",
    "# print(c.fetchmany(3))\n",
    "\n",
    "items = c.fetchall()\n",
    "for item in items:\n",
    "    print(item)\n",
    "\n",
    "# print(\"Command executed successfully...\")\n",
    "\n",
    "# commit our command\n",
    "conn.commit()\n",
    "\n",
    "# close our connection\n",
    "conn.close()"
   ]
  },
  {
   "cell_type": "markdown",
   "id": "dfb4c4a2",
   "metadata": {},
   "source": [
    "So here I have specified the results query should output the last_name: 'Elder'.\n",
    "\n",
    "Using our other comparison operators for conditional statements we have the following example:"
   ]
  },
  {
   "cell_type": "code",
   "execution_count": null,
   "id": "ededba48",
   "metadata": {},
   "outputs": [],
   "source": [
    "import sqlite3\n",
    "\n",
    "# connect to a database\n",
    "conn = sqlite3.connect('customers.db')\n",
    "\n",
    "# create a cursor\n",
    "c = conn.cursor()\n",
    "\n",
    "# query the database\n",
    "c.execute(\"SELECT * FROM customers WHERE age >= 21\")\n",
    "# print(c.fetchone()[0])\n",
    "# print(c.fetchmany(3))\n",
    "\n",
    "items = c.fetchall()\n",
    "for item in items:\n",
    "    print(item)\n",
    "\n",
    "# print(\"Command executed successfully...\")\n",
    "\n",
    "# commit our command\n",
    "conn.commit()\n",
    "\n",
    "# close our connection\n",
    "conn.close()"
   ]
  },
  {
   "cell_type": "markdown",
   "id": "fce1a7e1",
   "metadata": {},
   "source": [
    "Using the LIKE command"
   ]
  },
  {
   "cell_type": "code",
   "execution_count": null,
   "id": "bbf84966",
   "metadata": {},
   "outputs": [],
   "source": [
    "import sqlite3\n",
    "\n",
    "# connect to a database\n",
    "conn = sqlite3.connect('customers.db')\n",
    "\n",
    "# create a cursor\n",
    "c = conn.cursor()\n",
    "\n",
    "# query the database\n",
    "c.execute(\"SELECT * FROM customers WHERE last_name LIKE 'Br%'\")\n",
    "# print(c.fetchone()[0])\n",
    "# print(c.fetchmany(3))\n",
    "\n",
    "items = c.fetchall()\n",
    "for item in items:\n",
    "    print(item)\n",
    "\n",
    "# print(\"Command executed successfully...\")\n",
    "\n",
    "# commit our command\n",
    "conn.commit()\n",
    "\n",
    "# close our connection\n",
    "conn.close()"
   ]
  },
  {
   "cell_type": "markdown",
   "id": "0676e24e",
   "metadata": {},
   "source": [
    "So the '%' sign acts like a wildcard and searches for "
   ]
  },
  {
   "cell_type": "code",
   "execution_count": null,
   "id": "4882541f",
   "metadata": {},
   "outputs": [],
   "source": []
  },
  {
   "cell_type": "code",
   "execution_count": null,
   "id": "2e20101c",
   "metadata": {},
   "outputs": [],
   "source": []
  },
  {
   "cell_type": "code",
   "execution_count": null,
   "id": "c0d0371d",
   "metadata": {},
   "outputs": [],
   "source": []
  },
  {
   "cell_type": "code",
   "execution_count": null,
   "id": "a8fc3bd5",
   "metadata": {},
   "outputs": [],
   "source": []
  },
  {
   "cell_type": "code",
   "execution_count": null,
   "id": "c4178595",
   "metadata": {},
   "outputs": [],
   "source": []
  },
  {
   "cell_type": "code",
   "execution_count": null,
   "id": "842777ee",
   "metadata": {},
   "outputs": [],
   "source": [
    "# engine = create_engine('sqlite:///:memory:')"
   ]
  }
 ],
 "metadata": {
  "kernelspec": {
   "display_name": "Python 3 (ipykernel)",
   "language": "python",
   "name": "python3"
  },
  "language_info": {
   "codemirror_mode": {
    "name": "ipython",
    "version": 3
   },
   "file_extension": ".py",
   "mimetype": "text/x-python",
   "name": "python",
   "nbconvert_exporter": "python",
   "pygments_lexer": "ipython3",
   "version": "3.9.13"
  },
  "vscode": {
   "interpreter": {
    "hash": "4c26972402dce5166fbc873f625c08651cf8cab8ad67af055bc25543d79ffa73"
   }
  }
 },
 "nbformat": 4,
 "nbformat_minor": 5
}
