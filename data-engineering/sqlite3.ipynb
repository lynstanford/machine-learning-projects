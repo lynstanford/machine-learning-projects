{
 "cells": [
  {
   "cell_type": "markdown",
   "id": "4ebb8dd3-60fb-4602-a658-4946ab34f3fd",
   "metadata": {},
   "source": [
    "# Executing SQL Commands Using Python\n",
    "\n",
    "The purpose of this tutorial is to demonstrate how to connect to SQLite and run queries using the sqlite3 module in Python. The results can be accessed using either pandas (to manipulate a dataframe) or by opening the desktop version of SQLite and viewing the database created. "
   ]
  },
  {
   "cell_type": "code",
   "execution_count": null,
   "id": "13f86b95-f703-467e-8b31-0b5ccedbf7c1",
   "metadata": {},
   "outputs": [],
   "source": [
    "# to work with sqlite we need to import sqlite3 from standard library\n",
    "import sqlite3\n",
    "\n",
    "# If we don't have a db this will create one. If we do, this will just connect to the db.\n",
    "db = sqlite3.connect('books.db')\n",
    "\n",
    "cur = db.cursor()\n",
    "\n",
    "cur.execute('''CREATE TABLE IF NOT EXISTS books(\n",
    "    id integer PRIMARY KEY,\n",
    "    title text NOT NULL,\n",
    "    author text NOT NULL,\n",
    "    price real);''')\n",
    "\n",
    "# go to https://sqlitebrowser.org/\n",
    "# https://docs.python.org/3/library/sqlite3.html\n",
    "\n",
    "db.commit()\n",
    "db.close()"
   ]
  },
  {
   "cell_type": "markdown",
   "id": "f8bd39e4-1dab-46c9-b0d5-090c533095b0",
   "metadata": {},
   "source": [
    "An important point to note here is that a database table has to be created first in sqlite3 before Python can be used to convert it to a pandas dataframe."
   ]
  },
  {
   "cell_type": "code",
   "execution_count": null,
   "id": "0f86b717-d111-4ec7-8391-130231beeaab",
   "metadata": {},
   "outputs": [],
   "source": [
    "# to work with sqlite we need to import sqlite3 from standard library\n",
    "import sqlite3\n",
    "\n",
    "# If we don't have a db this will create one. If we do, this will just connect to the db.\n",
    "db = sqlite3.connect('books.db')\n",
    "\n",
    "cur = db.cursor()\n",
    "\n",
    "cur.execute('''INSERT INTO books(id, title, author, price)\n",
    "    VALUES('1','Untold Stories','Alan Bennett','17.49');''')\n",
    "\n",
    "db.commit()\n",
    "db.close()"
   ]
  },
  {
   "cell_type": "code",
   "execution_count": null,
   "id": "827780e7-69d6-489f-adf5-f4a1d1e4e1fc",
   "metadata": {},
   "outputs": [],
   "source": [
    "# to work with sqlite we need to import sqlite3 from standard library\n",
    "import sqlite3\n",
    "\n",
    "# If we don't have a db this will create one. If we do, this will just connect to the db.\n",
    "db = sqlite3.connect('books.db')\n",
    "\n",
    "cur = db.cursor()\n",
    "\n",
    "# placing more than one entry into our database\n",
    "book_list = [('2', 'Lucky Jim', 'Kingsley Amis', '4.99'),\n",
    "             ('3', 'Animal Farm', 'George Orwell', '7.49'),\n",
    "             ('4', 'Why I Am So Clever', 'Friedrich Nietzsch', '10.99'),\n",
    "             ('5', 'Life 3.0: Being Human in the Age of Artificial Intelligence', 'Max Tegmark', '20.00')\n",
    "            ]\n",
    "\n",
    "cur.executemany('''INSERT INTO books(id, title, author, price)\n",
    "    VALUES(?,?,?,?)''', book_list)\n",
    "\n",
    "db.commit()\n",
    "db.close()"
   ]
  },
  {
   "cell_type": "markdown",
   "id": "a45e7e5e-8c73-4b43-b1d2-aa9d59781935",
   "metadata": {},
   "source": [
    "You may need to delete the 'books.db' and start running all these cells from the beginning to get to this point. If you open SQLite and go to 'File -> Open Database', selecting 'books.db' then you should be able to see a table. If not, hit Refresh and you should see it.\n",
    "\n",
    "It's safe practice to delete the 'book.db' after each cell is run!"
   ]
  },
  {
   "cell_type": "code",
   "execution_count": null,
   "id": "eac7c095-25ae-42b6-8f98-cf8f1e95d127",
   "metadata": {},
   "outputs": [],
   "source": [
    "# to work with sqlite we need to import sqlite3 from standard library\n",
    "import sqlite3\n",
    "\n",
    "# If we don't have a db this will create one. If we do, this will just connect to the db.\n",
    "db = sqlite3.connect('books.db')\n",
    "\n",
    "cur = db.cursor()\n",
    "\n",
    "# placing more than one entry into our database\n",
    "book_list = [('2', 'Lucky Jim', 'Kingsley Amis', '4.99'),\n",
    "             ('3', 'Animal Farm', 'George Orwell', '7.49'),\n",
    "             ('4', 'Why I Am So Clever', 'Friedrich Nietzsch', '10.99'),\n",
    "             ('5', 'Life 3.0: Being Human in the Age of Artificial Intelligence', 'Max Tegmark', '20.00')\n",
    "            ]\n",
    "\n",
    "cur.execute('SELECT * FROM books')\n",
    "print(cur.fetchall())\n",
    "\n",
    "db.commit()\n",
    "db.close()"
   ]
  },
  {
   "cell_type": "markdown",
   "id": "1e224bd7-6604-4047-b170-93c042ed48f1",
   "metadata": {},
   "source": [
    "To return a list of the books in alphabetical order (select everything from books and order them in a particular way by title):"
   ]
  },
  {
   "cell_type": "code",
   "execution_count": null,
   "id": "dac991fa-8814-42e2-a6a6-48cc845431be",
   "metadata": {},
   "outputs": [],
   "source": [
    "# to work with sqlite we need to import sqlite3 from standard library\n",
    "import sqlite3\n",
    "\n",
    "# If we don't have a db this will create one. If we do, this will just connect to the db.\n",
    "db = sqlite3.connect('books.db')\n",
    "\n",
    "cur = db.cursor()\n",
    "\n",
    "# placing more than one entry into our database\n",
    "book_list = [('2', 'Lucky Jim', 'Kingsley Amis', '4.99'),\n",
    "             ('3', 'Animal Farm', 'George Orwell', '7.49'),\n",
    "             ('4', 'Why I Am So Clever', 'Friedrich Nietzsch', '10.99'),\n",
    "             ('5', 'Life 3.0: Being Human in the Age of Artificial Intelligence', 'Max Tegmark', '20.00')\n",
    "            ]\n",
    "\n",
    "cur.execute('SELECT * FROM books ORDER BY title')\n",
    "print(cur.fetchall())\n",
    "\n",
    "db.commit()\n",
    "db.close()"
   ]
  },
  {
   "cell_type": "markdown",
   "id": "4fe76504-8597-41c3-992c-45a498caba6d",
   "metadata": {},
   "source": [
    "This prints out a list.\n",
    "\n",
    "To return only a subset of those books which have a Price greater than 10.00"
   ]
  },
  {
   "cell_type": "code",
   "execution_count": null,
   "id": "30e8c51a-b0a7-49ba-b7a5-15b756eca9b1",
   "metadata": {},
   "outputs": [],
   "source": [
    "# to work with sqlite we need to import sqlite3 from standard library\n",
    "import sqlite3\n",
    "\n",
    "# If we don't have a db this will create one. If we do, this will just connect to the db.\n",
    "db = sqlite3.connect('books.db')\n",
    "\n",
    "cur = db.cursor()\n",
    "\n",
    "cur.execute('SELECT * FROM books WHERE price > 10')\n",
    "\n",
    "print('**********')\n",
    "for x in cur.fetchall():\n",
    "    print(x)\n",
    "    \n",
    "db.commit()\n",
    "db.close()"
   ]
  },
  {
   "cell_type": "markdown",
   "id": "5e332dbc-7efe-4199-92d1-90af29031252",
   "metadata": {},
   "source": [
    "This prints a list but the 'for' loop prints out a new entry on each line.\n",
    "\n",
    "Select and return only one particular Column, but without iterating over it."
   ]
  },
  {
   "cell_type": "code",
   "execution_count": null,
   "id": "5f22609a-94e1-4370-bf67-79b2b1ce1047",
   "metadata": {},
   "outputs": [],
   "source": [
    "# to work with sqlite we need to import sqlite3 from standard library\n",
    "import sqlite3\n",
    "\n",
    "# If we don't have a db this will create one. If we do, this will just connect to the db.\n",
    "db = sqlite3.connect('books.db')\n",
    "\n",
    "cur = db.cursor()\n",
    "\n",
    "cur.execute('SELECT author FROM books')\n",
    "print(cur.fetchall())\n",
    "\n",
    "db.commit()\n",
    "db.close()"
   ]
  },
  {
   "cell_type": "markdown",
   "id": "498a886b",
   "metadata": {},
   "source": [
    "Combining the two queries we get:"
   ]
  },
  {
   "cell_type": "code",
   "execution_count": null,
   "id": "fb1f07db",
   "metadata": {},
   "outputs": [],
   "source": [
    "# to work with sqlite we need to import sqlite3 from standard library\n",
    "import sqlite3\n",
    "\n",
    "# If we don't have a db this will create one. If we do, this will just connect to the db.\n",
    "db = sqlite3.connect('books.db')\n",
    "\n",
    "cur = db.cursor()\n",
    "\n",
    "cur.execute('SELECT * FROM books WHERE price > 10')\n",
    "\n",
    "print('**********')\n",
    "for x in cur.fetchall():\n",
    "    print(x)\n",
    "\n",
    "cur.execute('SELECT author FROM books')\n",
    "print(cur.fetchall())\n",
    "\n",
    "db.close()"
   ]
  },
  {
   "cell_type": "markdown",
   "id": "b111b7be",
   "metadata": {},
   "source": [
    "## Using SQLite3 and Pandas Together\n",
    "1. Import both libraries\n",
    "2. Connect to our db\n",
    "3. Read the contents of our db into a DataFrame\n",
    "4. The 'read_sql_query()' method reads the data in using a SQL Query, not a URL like 'read_csv' or 'read_json'"
   ]
  },
  {
   "cell_type": "code",
   "execution_count": null,
   "id": "c50c10fb",
   "metadata": {},
   "outputs": [],
   "source": [
    "# import the libraries\n",
    "import sqlite3\n",
    "import pandas as pd\n",
    "\n",
    "# create a connection\n",
    "db = sqlite3.connect('books.db')\n",
    "\n",
    "# read data from SQL to pandas dataframe\n",
    "data = pd.read_sql_query('SELECT * FROM books;', db)\n",
    "\n",
    "# show top 5 rows\n",
    "print(data.head())"
   ]
  },
  {
   "cell_type": "markdown",
   "id": "bff65d76",
   "metadata": {},
   "source": [
    "5. To look at our entire dataframe"
   ]
  },
  {
   "cell_type": "code",
   "execution_count": null,
   "id": "1190dacf",
   "metadata": {},
   "outputs": [],
   "source": [
    "# import the libraries\n",
    "import sqlite3\n",
    "import pandas as pd\n",
    "\n",
    "# create a connection\n",
    "db = sqlite3.connect('books.db')\n",
    "\n",
    "# read data from SQL to pandas dataframe\n",
    "data = pd.read_sql_query('SELECT * FROM books;', db)\n",
    "\n",
    "# show top 5 rows\n",
    "print(data)"
   ]
  },
  {
   "cell_type": "markdown",
   "id": "bd0f4126",
   "metadata": {},
   "source": [
    "6. Add a new row"
   ]
  },
  {
   "cell_type": "code",
   "execution_count": null,
   "id": "68d128dd",
   "metadata": {},
   "outputs": [],
   "source": [
    "import sqlite3\n",
    "import pandas as pd\n",
    "\n",
    "# create a connection\n",
    "db = sqlite3.connect('books.db')\n",
    "\n",
    "# read data from SQL to pandas dataframe\n",
    "data = pd.read_sql_query('SELECT * FROM books;', db)\n",
    "\n",
    "new_row = {'id':'12','author':'P.G. Wodehouse','title':'Luck of the Bodkins','price':6.49}\n",
    "\n",
    "data=data.append(new_row, ignore_index=True)\n",
    "\n",
    "print(data)\n",
    "\n",
    "data.to_sql('books', db, if_exists='replace', index=False)"
   ]
  },
  {
   "cell_type": "markdown",
   "id": "c2a1f478",
   "metadata": {},
   "source": [
    "7. Open up SQLite, click the 'open a database' tab -> open 'books.db' and click on the 'browse data' tab to see the results of your tabular structured data."
   ]
  }
 ],
 "metadata": {
  "kernelspec": {
   "display_name": "Python 3 (ipykernel)",
   "language": "python",
   "name": "python3"
  },
  "language_info": {
   "codemirror_mode": {
    "name": "ipython",
    "version": 3
   },
   "file_extension": ".py",
   "mimetype": "text/x-python",
   "name": "python",
   "nbconvert_exporter": "python",
   "pygments_lexer": "ipython3",
   "version": "3.9.13"
  },
  "vscode": {
   "interpreter": {
    "hash": "4c26972402dce5166fbc873f625c08651cf8cab8ad67af055bc25543d79ffa73"
   }
  }
 },
 "nbformat": 4,
 "nbformat_minor": 5
}
