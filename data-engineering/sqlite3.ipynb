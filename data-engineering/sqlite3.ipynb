{
 "cells": [
  {
   "cell_type": "code",
   "execution_count": null,
   "id": "13f86b95-f703-467e-8b31-0b5ccedbf7c1",
   "metadata": {},
   "outputs": [],
   "source": [
    "# to work with sqlite we need to import sqlite3 from standard library\n",
    "import sqlite3\n",
    "\n",
    "# If we don't have a db this will create one. If we do, this will just connect to the db.\n",
    "db = sqlite3.connect('books.db')\n",
    "\n",
    "cur = db.cursor()\n",
    "\n",
    "cur.execute('''CREATE TABLE IF NOT EXISTS books(\n",
    "    id integer PRIMARY KEY,\n",
    "    title text NOT NULL,\n",
    "    author text NOT NULL,\n",
    "    price real);''')\n",
    "\n",
    "# go to https://sqlitebrowser.org/\n",
    "# https://docs.python.org/3/library/sqlite3.html\n",
    "\n",
    "db.commit()\n",
    "db.close()\n",
    "\n",
    "cur.execute('''INSERT INTO books(id, title, author, price)\n",
    "    VALUES('1','Untold Stories','Alan Bennett','17.49'),''')\n",
    "\n",
    "db.commit()\n"
   ]
  }
 ],
 "metadata": {
  "kernelspec": {
   "display_name": "Python 3 (ipykernel)",
   "language": "python",
   "name": "python3"
  },
  "language_info": {
   "codemirror_mode": {
    "name": "ipython",
    "version": 3
   },
   "file_extension": ".py",
   "mimetype": "text/x-python",
   "name": "python",
   "nbconvert_exporter": "python",
   "pygments_lexer": "ipython3",
   "version": "3.9.13"
  }
 },
 "nbformat": 4,
 "nbformat_minor": 5
}
