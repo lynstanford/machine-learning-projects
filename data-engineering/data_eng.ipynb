{
 "cells": [
  {
   "cell_type": "markdown",
   "id": "6341af6e",
   "metadata": {},
   "source": [
    "# Data Engineering Process\n",
    "## 1. Bring new data into the company\n",
    " - Structured, semi-structured or unstructured?\n",
    " - Private (on premise), public or hybrid cloud architecture?\n",
    " - AWS, Azure, Databricks, Hadoop or GCP service?\n",
    " - Flat file, database, tabular format?\n",
    " - Web API, repositories, cloud services?\n",
    " - Codecs, single or multiple files, or objects?\n",
    " - Is software, libraries, packages, modules or dependencies up to date?\n",
    "\n",
    "## 2. Write a Data Feed or Data Pipeline Script\n",
    " - Streamline the process using ETL principle\n",
    " - Manual or automated?\n",
    " - Removing null values and duplicates\n",
    " - Regular Filesystem or Object Storage using on or off-site distributed filesystem such as Hadoop?\n",
    " - Script to add computation to existing tables or create partitions to existing tables\n",
    " - Language specification e.g. Python, PySpark, JSON, C++, Java, YAML, Scala\n",
    " - EC2 (Elastic Cloud Connect), EMR (Elastic Map Reduce), AWS S3 (Simple Storage System), HDFS (Hadoop Distributed File System), Cloudera, Hive, Pig, SQLite\n",
    "\n",
    "## 3. Making Tables easier to query with Views\n",
    " - Abstracting the data away for the data analyst, scientist or end-user\n",
    " - Reshaping the data and pre-processing it\n",
    "\n",
    "## 4. Monitoring Data Jobs or Automated Processes\n",
    " - Scheduling tasks is an important part of this process\n",
    " - Cluster management consoles, GUI's or Task Schedulers such as Airflow will help\n",
    " - As more and more data is added it needs to be monitored\n",
    " - Batch processing or Streaming data feeds\n",
    " - A data vendor might change the number of columns in their table which might cause your validation to fail\n",
    " - They might change the names of the columns and your script might have been checking for the original names\n",
    " - Any changes by the vendor will affect your validation step\n",
    "\n",
    "## 5. Helping Others\n",
    " - Helping others means setting time aside\n",
    " - May need to grant permissions, download drivers, explain console connections or pipeline process\n",
    " - Skillsets constantly changing as tech becomes obsolete quickly and industry training is imperative to keep up"
   ]
  },
  {
   "cell_type": "code",
   "execution_count": null,
   "id": "30dd2218",
   "metadata": {},
   "outputs": [],
   "source": []
  }
 ],
 "metadata": {
  "kernelspec": {
   "display_name": "Python 3 (ipykernel)",
   "language": "python",
   "name": "python3"
  },
  "language_info": {
   "codemirror_mode": {
    "name": "ipython",
    "version": 3
   },
   "file_extension": ".py",
   "mimetype": "text/x-python",
   "name": "python",
   "nbconvert_exporter": "python",
   "pygments_lexer": "ipython3",
   "version": "3.9.13"
  }
 },
 "nbformat": 4,
 "nbformat_minor": 5
}
