{
 "cells": [
  {
   "cell_type": "markdown",
   "id": "6341af6e",
   "metadata": {},
   "source": [
    "# Data Engineering Process\n",
    "1. Bring new data into the company\n",
    "2. Write a Data Feed or Data Pipeline Script\n",
    "3. "
   ]
  }
 ],
 "metadata": {
  "kernelspec": {
   "display_name": "Python 3 (ipykernel)",
   "language": "python",
   "name": "python3"
  },
  "language_info": {
   "codemirror_mode": {
    "name": "ipython",
    "version": 3
   },
   "file_extension": ".py",
   "mimetype": "text/x-python",
   "name": "python",
   "nbconvert_exporter": "python",
   "pygments_lexer": "ipython3",
   "version": "3.9.13"
  }
 },
 "nbformat": 4,
 "nbformat_minor": 5
}
