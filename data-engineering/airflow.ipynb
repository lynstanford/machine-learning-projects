{
 "cells": [
  {
   "cell_type": "code",
   "execution_count": null,
   "id": "ef2c700b",
   "metadata": {},
   "outputs": [],
   "source": []
  },
  {
   "cell_type": "code",
   "execution_count": null,
   "id": "ec0d1157",
   "metadata": {},
   "outputs": [],
   "source": [
    "# Airflow needs a home. `~/airflow` is the default, but you can put it\n",
    "# somewhere else if you prefer (optional)\n",
    "export AIRFLOW_HOME=~/airflow\n",
    "\n",
    "# Install Airflow using the constraints file\n",
    "AIRFLOW_VERSION=2.5.0\n",
    "PYTHON_VERSION=\"$(python --version | cut -d \" \" -f 2 | cut -d \".\" -f 1-2)\"\n",
    "# For example: 3.7\n",
    "CONSTRAINT_URL=\"https://raw.githubusercontent.com/apache/airflow/constraints-${AIRFLOW_VERSION}/constraints-${PYTHON_VERSION}.txt\"\n",
    "# For example: https://raw.githubusercontent.com/apache/airflow/constraints-2.5.0/constraints-3.7.txt\n",
    "pip install \"apache-airflow==${AIRFLOW_VERSION}\" --constraint \"${CONSTRAINT_URL}\"\n",
    "\n",
    "# The Standalone command will initialise the database, make a user,\n",
    "# and start all components for you.\n",
    "airflow standalone\n",
    "\n",
    "# Visit localhost:8080 in the browser and use the admin account details\n",
    "# shown on the terminal to login.\n",
    "# Enable the example_bash_operator dag in the home page"
   ]
  }
 ],
 "metadata": {
  "kernelspec": {
   "display_name": "Python 3 (ipykernel)",
   "language": "python",
   "name": "python3"
  },
  "language_info": {
   "codemirror_mode": {
    "name": "ipython",
    "version": 3
   },
   "file_extension": ".py",
   "mimetype": "text/x-python",
   "name": "python",
   "nbconvert_exporter": "python",
   "pygments_lexer": "ipython3",
   "version": "3.9.13"
  }
 },
 "nbformat": 4,
 "nbformat_minor": 5
}
