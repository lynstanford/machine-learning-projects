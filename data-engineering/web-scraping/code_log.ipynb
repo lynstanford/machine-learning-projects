{
 "cells": [
  {
   "cell_type": "markdown",
   "id": "45653539",
   "metadata": {},
   "source": [
    "## Task 1: Logging function\n",
    "Write the function to log the progress of the code, log_progress(). The function accepts the message to be logged and enters it to a text file code_log.txt.\n",
    "\n",
    "The format to be used for logging must have the syntax:\n",
    "\n",
    "1\n",
    "<time_stamp> : <message>\n",
    "Copied!\n",
    "Each log entry must happen in the next line in the text file.\n",
    "\n",
    "You must associate the correct log entries with each of the executed function calls. Use the following table to note the logging message at the end of each function call that follows.\n",
    "\n",
    "Task\tLog message on completion\n",
    "Declaring known values\tPreliminaries complete. Initiating ETL process\n",
    "Call extract() function\tData extraction complete. Initiating Transformation process\n",
    "Call transform() function\tData transformation complete. Initiating Loading process\n",
    "Call load_to_csv()\tData saved to CSV file\n",
    "Initiate SQLite3 connection\tSQL Connection initiated\n",
    "Call load_to_db()\tData loaded to Database as a table, Executing queries\n",
    "Call run_query()\tProcess Complete\n",
    "Close SQLite3 connection\tServer Connection closed\n",
    "At this stage, you should now make the first log entry from the table above.\n",
    "\n",
    "Peer graded assignment prompt:\n",
    "Take a screenshot of the code, as created for the log_progress() function and save it to your local machine as Task_1_log_function.png"
   ]
  }
 ],
 "metadata": {
  "kernelspec": {
   "display_name": "Python 3 (ipykernel)",
   "language": "python",
   "name": "python3"
  },
  "language_info": {
   "codemirror_mode": {
    "name": "ipython",
    "version": 3
   },
   "file_extension": ".py",
   "mimetype": "text/x-python",
   "name": "python",
   "nbconvert_exporter": "python",
   "pygments_lexer": "ipython3",
   "version": "3.11.5"
  }
 },
 "nbformat": 4,
 "nbformat_minor": 5
}
