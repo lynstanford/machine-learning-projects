{
 "cells": [
  {
   "cell_type": "markdown",
   "id": "fdb5d132-2900-4d92-b6dd-7f121fb6a44c",
   "metadata": {},
   "source": [
    "## Running SQL in Jupyter Notebooks\n",
    "\n",
    "May want to do a quick analysis from a database without having to set up a Pandas DataFrame. This is especially useful when you have to join one or more tables."
   ]
  },
  {
   "cell_type": "code",
   "execution_count": 1,
   "id": "314dbd9a-1649-4472-ada2-f2dfa04c1555",
   "metadata": {},
   "outputs": [],
   "source": [
    "# import libraries\n",
    "import pandas as pd\n",
    "import sqlite3"
   ]
  },
  {
   "cell_type": "code",
   "execution_count": 2,
   "id": "0b548355-349b-4295-bccd-ec9756f3a47e",
   "metadata": {},
   "outputs": [
    {
     "name": "stdout",
     "output_type": "stream",
     "text": [
      "Requirement already satisfied: ipython-sql in c:\\users\\lynst\\anaconda3\\lib\\site-packages (0.3.9)\n",
      "Requirement already satisfied: six in c:\\users\\lynst\\anaconda3\\lib\\site-packages (from ipython-sql) (1.16.0)\n",
      "Requirement already satisfied: prettytable in c:\\users\\lynst\\anaconda3\\lib\\site-packages (from ipython-sql) (3.5.0)\n",
      "Requirement already satisfied: ipython>=1.0 in c:\\users\\lynst\\anaconda3\\lib\\site-packages (from ipython-sql) (8.10.0)\n",
      "Requirement already satisfied: sqlparse in c:\\users\\lynst\\anaconda3\\lib\\site-packages (from ipython-sql) (0.4.4)\n",
      "Requirement already satisfied: sqlalchemy>=0.6.7 in c:\\users\\lynst\\anaconda3\\lib\\site-packages (from ipython-sql) (1.4.39)\n",
      "Requirement already satisfied: ipython-genutils>=0.1.0 in c:\\users\\lynst\\anaconda3\\lib\\site-packages (from ipython-sql) (0.2.0)\n",
      "Requirement already satisfied: backcall in c:\\users\\lynst\\anaconda3\\lib\\site-packages (from ipython>=1.0->ipython-sql) (0.2.0)\n",
      "Requirement already satisfied: matplotlib-inline in c:\\users\\lynst\\anaconda3\\lib\\site-packages (from ipython>=1.0->ipython-sql) (0.1.6)\n",
      "Requirement already satisfied: pygments>=2.4.0 in c:\\users\\lynst\\anaconda3\\lib\\site-packages (from ipython>=1.0->ipython-sql) (2.15.1)\n",
      "Requirement already satisfied: traitlets>=5 in c:\\users\\lynst\\anaconda3\\lib\\site-packages (from ipython>=1.0->ipython-sql) (5.7.1)\n",
      "Requirement already satisfied: stack-data in c:\\users\\lynst\\anaconda3\\lib\\site-packages (from ipython>=1.0->ipython-sql) (0.2.0)\n",
      "Requirement already satisfied: jedi>=0.16 in c:\\users\\lynst\\anaconda3\\lib\\site-packages (from ipython>=1.0->ipython-sql) (0.18.1)\n",
      "Requirement already satisfied: decorator in c:\\users\\lynst\\anaconda3\\lib\\site-packages (from ipython>=1.0->ipython-sql) (5.1.1)\n",
      "Requirement already satisfied: prompt-toolkit<3.1.0,>=3.0.30 in c:\\users\\lynst\\anaconda3\\lib\\site-packages (from ipython>=1.0->ipython-sql) (3.0.36)\n",
      "Requirement already satisfied: colorama in c:\\users\\lynst\\anaconda3\\lib\\site-packages (from ipython>=1.0->ipython-sql) (0.4.6)\n",
      "Requirement already satisfied: pickleshare in c:\\users\\lynst\\anaconda3\\lib\\site-packages (from ipython>=1.0->ipython-sql) (0.7.5)\n",
      "Requirement already satisfied: greenlet!=0.4.17 in c:\\users\\lynst\\anaconda3\\lib\\site-packages (from sqlalchemy>=0.6.7->ipython-sql) (2.0.1)\n",
      "Requirement already satisfied: wcwidth in c:\\users\\lynst\\anaconda3\\lib\\site-packages (from prettytable->ipython-sql) (0.2.5)\n",
      "Requirement already satisfied: parso<0.9.0,>=0.8.0 in c:\\users\\lynst\\anaconda3\\lib\\site-packages (from jedi>=0.16->ipython>=1.0->ipython-sql) (0.8.3)\n",
      "Requirement already satisfied: asttokens in c:\\users\\lynst\\anaconda3\\lib\\site-packages (from stack-data->ipython>=1.0->ipython-sql) (2.0.5)\n",
      "Requirement already satisfied: executing in c:\\users\\lynst\\anaconda3\\lib\\site-packages (from stack-data->ipython>=1.0->ipython-sql) (0.8.3)\n",
      "Requirement already satisfied: pure-eval in c:\\users\\lynst\\anaconda3\\lib\\site-packages (from stack-data->ipython>=1.0->ipython-sql) (0.2.2)\n"
     ]
    }
   ],
   "source": [
    "# install the ipython-sql library\n",
    "!pip install ipython-sql"
   ]
  },
  {
   "cell_type": "code",
   "execution_count": 3,
   "id": "8f398b6a-d00d-417b-a4fe-434db26a8cb2",
   "metadata": {},
   "outputs": [
    {
     "data": {
      "text/html": [
       "<div>\n",
       "<style scoped>\n",
       "    .dataframe tbody tr th:only-of-type {\n",
       "        vertical-align: middle;\n",
       "    }\n",
       "\n",
       "    .dataframe tbody tr th {\n",
       "        vertical-align: top;\n",
       "    }\n",
       "\n",
       "    .dataframe thead th {\n",
       "        text-align: right;\n",
       "    }\n",
       "</style>\n",
       "<table border=\"1\" class=\"dataframe\">\n",
       "  <thead>\n",
       "    <tr style=\"text-align: right;\">\n",
       "      <th></th>\n",
       "      <th>name</th>\n",
       "      <th>age</th>\n",
       "      <th>city</th>\n",
       "    </tr>\n",
       "  </thead>\n",
       "  <tbody>\n",
       "    <tr>\n",
       "      <th>0</th>\n",
       "      <td>Juan</td>\n",
       "      <td>23</td>\n",
       "      <td>Miami</td>\n",
       "    </tr>\n",
       "    <tr>\n",
       "      <th>1</th>\n",
       "      <td>Victoria</td>\n",
       "      <td>34</td>\n",
       "      <td>Buenos Aires</td>\n",
       "    </tr>\n",
       "    <tr>\n",
       "      <th>2</th>\n",
       "      <td>Mary</td>\n",
       "      <td>43</td>\n",
       "      <td>Santiago</td>\n",
       "    </tr>\n",
       "  </tbody>\n",
       "</table>\n",
       "</div>"
      ],
      "text/plain": [
       "       name  age          city\n",
       "0      Juan   23         Miami\n",
       "1  Victoria   34  Buenos Aires\n",
       "2      Mary   43      Santiago"
      ]
     },
     "execution_count": 3,
     "metadata": {},
     "output_type": "execute_result"
    }
   ],
   "source": [
    "# create a dataframe to import data for the tutorial\n",
    "df= pd.DataFrame({'name': ['Juan','Victoria','Mary'], \n",
    "                  'age': [23,34,43], \n",
    "                  'city': ['Miami','Buenos Aires','Santiago']})\n",
    "\n",
    "df"
   ]
  },
  {
   "cell_type": "markdown",
   "id": "89d7295f-bbc2-4a4d-8951-2b8adb457182",
   "metadata": {},
   "source": [
    "The connection command will create a database. You can always use an existing database which you have stored but in this case we are creating a new one."
   ]
  },
  {
   "cell_type": "code",
   "execution_count": 4,
   "id": "6ece39e1-2544-44c3-9124-e5a66e809c42",
   "metadata": {},
   "outputs": [],
   "source": [
    "# use sqlite3 to create a connection\n",
    "cnn = sqlite3.connect('jupyter_sql_tutorial.db')"
   ]
  },
  {
   "cell_type": "markdown",
   "id": "c350fe38-eef5-4897-b361-8ffdeda5ab55",
   "metadata": {},
   "source": [
    "We are only using two arguments for this function; the first one 'people' is the name of the table that we'll be creating. The second argument is the cnn, or connection variable created in the previous cell. \n",
    "\n",
    "Now we will run jupyter inline magic to load the SQL module. A single % sign represents inline magic, or line magic. %% represents cell magic. "
   ]
  },
  {
   "cell_type": "code",
   "execution_count": 5,
   "id": "00cf9067-0b8e-42a4-b7ab-fcc624db4230",
   "metadata": {},
   "outputs": [],
   "source": [
    "df.to_sql('people', cnn)\n",
    "%load_ext sql"
   ]
  },
  {
   "cell_type": "markdown",
   "id": "a30f957b-96af-4d36-aa52-89caf6c1b0bb",
   "metadata": {},
   "source": [
    "Next we want to point the jupyter sql library to the database we want to use."
   ]
  },
  {
   "cell_type": "code",
   "execution_count": 6,
   "id": "b7deb75f-3c0c-4e2a-86e2-d61718c3f0ca",
   "metadata": {},
   "outputs": [
    {
     "data": {
      "text/plain": [
       "'Connected: @jupyter_sql_tutorial.db'"
      ]
     },
     "execution_count": 6,
     "metadata": {},
     "output_type": "execute_result"
    }
   ],
   "source": [
    "%sql sqlite:///jupyter_sql_tutorial.db"
   ]
  },
  {
   "cell_type": "markdown",
   "id": "b51caf9e-a5ce-4578-b0a0-15edb0a25ddf",
   "metadata": {},
   "source": [
    "Now we are pretty much ready to run our queries."
   ]
  },
  {
   "cell_type": "code",
   "execution_count": 7,
   "id": "bf6ba758-9b56-4dc7-a7d5-241dcee4ddcf",
   "metadata": {},
   "outputs": [
    {
     "name": "stdout",
     "output_type": "stream",
     "text": [
      " * sqlite:///jupyter_sql_tutorial.db\n",
      "Done.\n"
     ]
    },
    {
     "data": {
      "text/html": [
       "<table>\n",
       "    <thead>\n",
       "        <tr>\n",
       "            <th>index</th>\n",
       "            <th>name</th>\n",
       "            <th>age</th>\n",
       "            <th>city</th>\n",
       "        </tr>\n",
       "    </thead>\n",
       "    <tbody>\n",
       "        <tr>\n",
       "            <td>0</td>\n",
       "            <td>Juan</td>\n",
       "            <td>23</td>\n",
       "            <td>Miami</td>\n",
       "        </tr>\n",
       "        <tr>\n",
       "            <td>1</td>\n",
       "            <td>Victoria</td>\n",
       "            <td>34</td>\n",
       "            <td>Buenos Aires</td>\n",
       "        </tr>\n",
       "        <tr>\n",
       "            <td>2</td>\n",
       "            <td>Mary</td>\n",
       "            <td>43</td>\n",
       "            <td>Santiago</td>\n",
       "        </tr>\n",
       "    </tbody>\n",
       "</table>"
      ],
      "text/plain": [
       "[(0, 'Juan', 23, 'Miami'),\n",
       " (1, 'Victoria', 34, 'Buenos Aires'),\n",
       " (2, 'Mary', 43, 'Santiago')]"
      ]
     },
     "execution_count": 7,
     "metadata": {},
     "output_type": "execute_result"
    }
   ],
   "source": [
    "%%sql\n",
    "SELECT *\n",
    "FROM people"
   ]
  },
  {
   "cell_type": "code",
   "execution_count": 8,
   "id": "12d84686-31c7-4060-80d7-7e83ce75bfa0",
   "metadata": {},
   "outputs": [
    {
     "name": "stdout",
     "output_type": "stream",
     "text": [
      " * sqlite:///jupyter_sql_tutorial.db\n",
      "Done.\n"
     ]
    },
    {
     "data": {
      "text/html": [
       "<table>\n",
       "    <thead>\n",
       "        <tr>\n",
       "            <th>count(*)</th>\n",
       "        </tr>\n",
       "    </thead>\n",
       "    <tbody>\n",
       "        <tr>\n",
       "            <td>3</td>\n",
       "        </tr>\n",
       "    </tbody>\n",
       "</table>"
      ],
      "text/plain": [
       "[(3,)]"
      ]
     },
     "execution_count": 8,
     "metadata": {},
     "output_type": "execute_result"
    }
   ],
   "source": [
    "%%sql\n",
    "SELECT count(*)\n",
    "FROM people"
   ]
  },
  {
   "cell_type": "code",
   "execution_count": 9,
   "id": "d082fdde-0323-43b3-82a1-1842891cc11e",
   "metadata": {},
   "outputs": [
    {
     "name": "stdout",
     "output_type": "stream",
     "text": [
      " * sqlite:///jupyter_sql_tutorial.db\n",
      "Done.\n"
     ]
    },
    {
     "data": {
      "text/html": [
       "<table>\n",
       "    <thead>\n",
       "        <tr>\n",
       "            <th>age_sum</th>\n",
       "        </tr>\n",
       "    </thead>\n",
       "    <tbody>\n",
       "        <tr>\n",
       "            <td>100</td>\n",
       "        </tr>\n",
       "    </tbody>\n",
       "</table>"
      ],
      "text/plain": [
       "[(100,)]"
      ]
     },
     "execution_count": 9,
     "metadata": {},
     "output_type": "execute_result"
    }
   ],
   "source": [
    "%%sql\n",
    "SELECT sum(age) as 'age_sum'\n",
    "FROM people"
   ]
  },
  {
   "cell_type": "code",
   "execution_count": null,
   "id": "18a91bcf",
   "metadata": {},
   "outputs": [],
   "source": []
  }
 ],
 "metadata": {
  "kernelspec": {
   "display_name": "Python 3 (ipykernel)",
   "language": "python",
   "name": "python3"
  },
  "language_info": {
   "codemirror_mode": {
    "name": "ipython",
    "version": 3
   },
   "file_extension": ".py",
   "mimetype": "text/x-python",
   "name": "python",
   "nbconvert_exporter": "python",
   "pygments_lexer": "ipython3",
   "version": "3.10.9"
  }
 },
 "nbformat": 4,
 "nbformat_minor": 5
}
