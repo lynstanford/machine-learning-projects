{
 "cells": [
  {
   "cell_type": "markdown",
   "metadata": {},
   "source": [
    "The purpose of this notebook is to demonstrate how to import csv files into a MySQL database table. I can either create a new database table from the csv file or simply import it into a new or existing schema in MySQL. The correct SQL in order to create a table from the 'Bike Sales.csv' file is:"
   ]
  },
  {
   "cell_type": "code",
   "execution_count": null,
   "metadata": {},
   "outputs": [],
   "source": [
    "CREATE TABLE bike_sales\n",
    "(\n",
    "'date' DATE,\n",
    "Day INT,\n",
    "Month TEXT,\n",
    "Year INT,\n",
    "Customer_Age INT,\n",
    "Age_Group TEXT,\n",
    "Customer_Gender TEXT,\n",
    "Country TEXT,\n",
    "State TEXT,\n",
    "Product_Category TEXT,\n",
    "Sub_Category TEXT,\n",
    "Product TEXT,Order_Quantity` int, `Unit_Cost` int, `Unit_Price` int, `Profit` int, `Cost` int, `Revenue` int)\tOK\t0.000 sec\n",
    "\n",
    "23:37:45\tPREPARE stmt FROM 'INSERT INTO `bike_sales`.`bike sales` (`Date`,`Day`,`Month`,`Year`,`Customer_Age`,`Age_Group`,`Customer_Gender`,`Country`,`State`,`Product_Category`,`Sub_Category`,`Product`,`Order_Quantity`,`Unit_Cost`,`Unit_Price`,`Profit`,`Cost`,`Revenue`) VALUES(?,?,?,?,?,?,?,?,?,?,?,?,?,?,?,?,?,?)'\tOK\t0.000 sec\n",
    ")"
   ]
  },
  {
   "cell_type": "code",
   "execution_count": null,
   "metadata": {},
   "outputs": [],
   "source": [
    "import json"
   ]
  }
 ],
 "metadata": {
  "kernelspec": {
   "display_name": "Python 3 (ipykernel)",
   "language": "python",
   "name": "python3"
  },
  "language_info": {
   "codemirror_mode": {
    "name": "ipython",
    "version": 3
   },
   "file_extension": ".py",
   "mimetype": "text/x-python",
   "name": "python",
   "nbconvert_exporter": "python",
   "pygments_lexer": "ipython3",
   "version": "3.10.11"
  }
 },
 "nbformat": 4,
 "nbformat_minor": 2
}
