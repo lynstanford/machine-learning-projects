{
 "cells": [
  {
   "attachments": {},
   "cell_type": "markdown",
   "metadata": {},
   "source": [
    "## 1 Methodolgy\n",
    "The purpose of this notebook is to demonstrate how to import csv files into a MySQL database table. I can either create a new database table from the csv file or simply import it into a new or existing schema in MySQL. The correct SQL in order to create a table from the 'Bike Sales.csv' file is:"
   ]
  },
  {
   "cell_type": "code",
   "execution_count": null,
   "metadata": {},
   "outputs": [],
   "source": [
    "CREATE TABLE bike_sales\n",
    "(\n",
    "Date DATE,\n",
    "Day INT,\n",
    "Month TEXT,\n",
    "Year INT,\n",
    "Customer_Age INT,\n",
    "Age_Group TEXT,\n",
    "Customer_Gender TEXT,\n",
    "Country TEXT,\n",
    "State TEXT,\n",
    "Product_Category TEXT,\n",
    "Sub_Category TEXT,\n",
    "Product TEXT,\n",
    "Order_Quantity INT,\n",
    "Unit_Cost INT,\n",
    "Unit_Price INT,\n",
    "Profit INT,\n",
    "Cost INT,\n",
    "Revenue INT)\n",
    ");\n"
   ]
  },
  {
   "cell_type": "markdown",
   "metadata": {},
   "source": [
    "Then the data from the csv file needs to be inserted into the table that's just been created."
   ]
  },
  {
   "cell_type": "code",
   "execution_count": null,
   "metadata": {},
   "outputs": [],
   "source": [
    "INSERT INTO bike_sales.`bike sales`\n",
    "(\n",
    "`Date`,\n",
    "`Day`,\n",
    "`Month`,\n",
    "`Year`,\n",
    "`Customer_Age`,\n",
    "`Age_Group`,\n",
    "`Customer_Gender`,\n",
    "`Country`,\n",
    "`State`,\n",
    "`Product_Category`,\n",
    "`Sub_Category`,\n",
    "`Product`,\n",
    "`Order_Quantity`,\n",
    "`Unit_Cost`,\n",
    "`Unit_Price`,\n",
    "`Profit`,\n",
    "`Cost`,\n",
    "`Revenue`\n",
    ") VALUES (?,?,?,?,?,?,?,?,?,?,?,?,?,?,?,?,?,?)"
   ]
  },
  {
   "cell_type": "code",
   "execution_count": null,
   "metadata": {},
   "outputs": [],
   "source": [
    "CREATE TABLE sales_summary\n",
    "(\n",
    "AccountManager VARCHAR(255),\n",
    "Qtr1 DOUBLE,\n",
    "Qtr2 DOUBLE,\n",
    "Qtr3 DOUBLE,\n",
    "Qtr4 DOUBLE,\n",
    ");"
   ]
  },
  {
   "cell_type": "code",
   "execution_count": null,
   "metadata": {},
   "outputs": [],
   "source": [
    "SELECT * FROM sales_summary;"
   ]
  },
  {
   "attachments": {},
   "cell_type": "markdown",
   "metadata": {},
   "source": [
    "For small datasets or csv files values can be inserted as follows:"
   ]
  },
  {
   "cell_type": "code",
   "execution_count": null,
   "metadata": {},
   "outputs": [],
   "source": [
    "INSERT INTO sales_summary Values\n",
    "('Aanya Zhang','5187.90','7627.17','28867.26','742.53'),\n",
    "('Charlie Bui','24271.31','130.78','116.61','355.15'),\n",
    "('Connor Betts','854.08','20123.65','3050.18','4373.98'),\n",
    "('Leighton Forrest','815.58','1129.69','327.02','16169.12'),\n",
    "('Mihael Khan','425.78','981.27','596.70','470.74'),\n",
    "('Natasha Song','5080.74','6259.31','4265.86','4956.43'),\n",
    "('Nicholas Fernandes','21787.86','1533.62','2191.42','2384.04'),\n",
    "('Phoebe Gour','5117.84','12156.60','351.06','15653.93'),\n",
    "('Preston Senome','1326.07','1415.98','2314.11','2817.60'),\n",
    "('Radhya Staples','0.00','3.32','10373.59','206.16'),\n",
    "('Samantha Chairs','2233.62','2005.70','1542.68','4921.92'),\n",
    "('Stevie Bacata','0.00','91.10','0.00','0.00'),\n",
    "('Tina Carlton','17247.36','2512.24','7003.82','2952.73'),\n",
    "('Yvette Biti','2252.16','1476.92','3293.39','7731.78')"
   ]
  },
  {
   "attachments": {},
   "cell_type": "markdown",
   "metadata": {},
   "source": [
    "For larger datasets with hundreds or thousands of rows it becomes more efficient to use Python.\n",
    "\n",
    "## 2 Data Preparation and Export\n",
    "\n",
    "### Import the Pandas Library"
   ]
  },
  {
   "cell_type": "code",
   "execution_count": null,
   "metadata": {},
   "outputs": [],
   "source": [
    "import pandas as pd"
   ]
  },
  {
   "attachments": {},
   "cell_type": "markdown",
   "metadata": {},
   "source": [
    "### Read the CSV File\n",
    "Load the CSV file using the (read_csv) method and save it as a dataframe (df)."
   ]
  },
  {
   "cell_type": "code",
   "execution_count": null,
   "metadata": {},
   "outputs": [],
   "source": [
    "df = pd.read_csv('Bike Sales.csv')\n",
    "df.head()"
   ]
  },
  {
   "attachments": {},
   "cell_type": "markdown",
   "metadata": {},
   "source": [
    "### Data Cleaning\n",
    "Drop all unecessary columns that aren't required."
   ]
  },
  {
   "cell_type": "code",
   "execution_count": null,
   "metadata": {},
   "outputs": [],
   "source": [
    "cols = ['Day','Month','Year','Age_Group']\n",
    "\n",
    "df.drop(cols, inplace=True, axis = 1)\n",
    "df.head()"
   ]
  },
  {
   "attachments": {},
   "cell_type": "markdown",
   "metadata": {},
   "source": [
    "Check for missing values."
   ]
  },
  {
   "cell_type": "code",
   "execution_count": null,
   "metadata": {},
   "outputs": [],
   "source": [
    "df.isnull().sum()"
   ]
  },
  {
   "attachments": {},
   "cell_type": "markdown",
   "metadata": {},
   "source": [
    "Handle data types."
   ]
  },
  {
   "cell_type": "code",
   "execution_count": null,
   "metadata": {},
   "outputs": [],
   "source": [
    "df.dtypes"
   ]
  },
  {
   "attachments": {},
   "cell_type": "markdown",
   "metadata": {},
   "source": [
    "We need to fix the datatype for the Date column by converting it from 'Object' to 'Date'."
   ]
  },
  {
   "cell_type": "code",
   "execution_count": null,
   "metadata": {},
   "outputs": [],
   "source": [
    "df['Date'] = pd.to_datetime(df['Date'])"
   ]
  },
  {
   "attachments": {},
   "cell_type": "markdown",
   "metadata": {},
   "source": [
    "We also need to convert the last 5 columns of data into type 'Float' instead of 'Integer'."
   ]
  },
  {
   "cell_type": "code",
   "execution_count": null,
   "metadata": {},
   "outputs": [],
   "source": [
    "df = df.astype({'unit_cost':'float','Unit_Price':'float','Profit':'float','Cost':'float','Revenue':'float'})"
   ]
  },
  {
   "cell_type": "code",
   "execution_count": null,
   "metadata": {},
   "outputs": [],
   "source": [
    "import json"
   ]
  }
 ],
 "metadata": {
  "kernelspec": {
   "display_name": "Python 3 (ipykernel)",
   "language": "python",
   "name": "python3"
  },
  "language_info": {
   "codemirror_mode": {
    "name": "ipython",
    "version": 3
   },
   "file_extension": ".py",
   "mimetype": "text/x-python",
   "name": "python",
   "nbconvert_exporter": "python",
   "pygments_lexer": "ipython3",
   "version": "3.10.11"
  }
 },
 "nbformat": 4,
 "nbformat_minor": 2
}
