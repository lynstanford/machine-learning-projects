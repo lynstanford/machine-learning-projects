{
 "cells": [
  {
   "cell_type": "markdown",
   "id": "7b42b329",
   "metadata": {},
   "source": [
    "# K-Nearest-Neighbors\n",
    "I have decided to use a KNN model which is a useful algorithm for clustering data points and grouping similar observations together. Each group, or cluster of elements may have a decision boundary to separate them. \n",
    "\n",
    "The following procedures will be used to guide the modeling process.\n",
    "\n",
    "1. First I will select a dataset\n",
    "2. Model Preprocessing\n",
    "3. Metrics & different scoring methods\n",
    "4. Meta Estimators\n",
    "5. Human-Learn"
   ]
  },
  {
   "cell_type": "markdown",
   "id": "f5ba03f5",
   "metadata": {},
   "source": [
    "## 1. Import the Necessary Libraries\n",
    "Extracting the load_boston dataset from scikit-learn I will use the information about the housing data and assign the values to the X (predictor) variable. The target, or y variable will be assigned to house price values."
   ]
  },
  {
   "cell_type": "code",
   "execution_count": 1,
   "id": "4f51aa57",
   "metadata": {},
   "outputs": [],
   "source": [
    "import sklearn\n",
    "import pandas as pd\n",
    "import numpy as np\n",
    "from sklearn.datasets import fetch_california_housing"
   ]
  },
  {
   "cell_type": "code",
   "execution_count": 2,
   "id": "3caa44f7",
   "metadata": {},
   "outputs": [],
   "source": [
    "cali_housing = fetch_california_housing(as_frame=True)"
   ]
  },
  {
   "cell_type": "code",
   "execution_count": 13,
   "id": "db425486",
   "metadata": {},
   "outputs": [
    {
     "data": {
      "text/plain": [
       "sklearn.utils.Bunch"
      ]
     },
     "execution_count": 13,
     "metadata": {},
     "output_type": "execute_result"
    }
   ],
   "source": [
    "type(fetch_california_housing())"
   ]
  },
  {
   "cell_type": "code",
   "execution_count": 14,
   "id": "2a36344e",
   "metadata": {},
   "outputs": [
    {
     "data": {
      "text/plain": [
       "['DESCR', 'data', 'feature_names', 'frame', 'target', 'target_names']"
      ]
     },
     "execution_count": 14,
     "metadata": {},
     "output_type": "execute_result"
    }
   ],
   "source": [
    "dir(fetch_california_housing())"
   ]
  },
  {
   "cell_type": "markdown",
   "id": "244caa1f",
   "metadata": {},
   "source": [
    "Looking at the description for this dataset."
   ]
  },
  {
   "cell_type": "code",
   "execution_count": 5,
   "id": "9be76dd7",
   "metadata": {},
   "outputs": [
    {
     "name": "stdout",
     "output_type": "stream",
     "text": [
      ".. _california_housing_dataset:\n",
      "\n",
      "California Housing dataset\n",
      "--------------------------\n",
      "\n",
      "**Data Set Characteristics:**\n",
      "\n",
      "    :Number of Instances: 20640\n",
      "\n",
      "    :Number of Attributes: 8 numeric, predictive attributes and the target\n",
      "\n",
      "    :Attribute Information:\n",
      "        - MedInc        median income in block group\n",
      "        - HouseAge      median house age in block group\n",
      "        - AveRooms      average number of rooms per household\n",
      "        - AveBedrms     average number of bedrooms per household\n",
      "        - Population    block group population\n",
      "        - AveOccup      average number of household members\n",
      "        - Latitude      block group latitude\n",
      "        - Longitude     block group longitude\n",
      "\n",
      "    :Missing Attribute Values: None\n",
      "\n",
      "This dataset was obtained from the StatLib repository.\n",
      "https://www.dcc.fc.up.pt/~ltorgo/Regression/cal_housing.html\n",
      "\n",
      "The target variable is the median house value for California districts,\n",
      "expressed in hundreds of thousands of dollars ($100,000).\n",
      "\n",
      "This dataset was derived from the 1990 U.S. census, using one row per census\n",
      "block group. A block group is the smallest geographical unit for which the U.S.\n",
      "Census Bureau publishes sample data (a block group typically has a population\n",
      "of 600 to 3,000 people).\n",
      "\n",
      "An household is a group of people residing within a home. Since the average\n",
      "number of rooms and bedrooms in this dataset are provided per household, these\n",
      "columns may take surpinsingly large values for block groups with few households\n",
      "and many empty houses, such as vacation resorts.\n",
      "\n",
      "It can be downloaded/loaded using the\n",
      ":func:`sklearn.datasets.fetch_california_housing` function.\n",
      "\n",
      ".. topic:: References\n",
      "\n",
      "    - Pace, R. Kelley and Ronald Barry, Sparse Spatial Autoregressions,\n",
      "      Statistics and Probability Letters, 33 (1997) 291-297\n",
      "\n"
     ]
    }
   ],
   "source": [
    "print(cali_housing.DESCR)"
   ]
  },
  {
   "cell_type": "code",
   "execution_count": 6,
   "id": "4cd16ce5",
   "metadata": {},
   "outputs": [],
   "source": [
    "X, y = cali_housing.data, cali_housing.target\n",
    "feature_names = cali_housing.feature_names"
   ]
  },
  {
   "cell_type": "code",
   "execution_count": 7,
   "id": "ddc11c4f",
   "metadata": {},
   "outputs": [
    {
     "name": "stdout",
     "output_type": "stream",
     "text": [
      "['MedInc', 'HouseAge', 'AveRooms', 'AveBedrms', 'Population', 'AveOccup', 'Latitude', 'Longitude']\n"
     ]
    }
   ],
   "source": [
    "print(feature_names)"
   ]
  },
  {
   "cell_type": "code",
   "execution_count": 8,
   "id": "47bc59a0",
   "metadata": {},
   "outputs": [
    {
     "data": {
      "text/plain": [
       "(20640, 8)"
      ]
     },
     "execution_count": 8,
     "metadata": {},
     "output_type": "execute_result"
    }
   ],
   "source": [
    "X.shape"
   ]
  },
  {
   "cell_type": "code",
   "execution_count": 9,
   "id": "a9e9a789",
   "metadata": {},
   "outputs": [
    {
     "data": {
      "text/plain": [
       "(20640,)"
      ]
     },
     "execution_count": 9,
     "metadata": {},
     "output_type": "execute_result"
    }
   ],
   "source": [
    "y.shape"
   ]
  },
  {
   "cell_type": "markdown",
   "id": "f5b7a955",
   "metadata": {},
   "source": [
    "Returns an array for X which has properties and feature inputs of houses and also an array for y values based on house prices. Next, in order to view the dataset derived from sklearn first it's necessary to convert it using the dataframe constructor."
   ]
  },
  {
   "cell_type": "code",
   "execution_count": 10,
   "id": "45877f4d",
   "metadata": {},
   "outputs": [],
   "source": [
    "cali_housing = pd.DataFrame(cali_housing)"
   ]
  },
  {
   "cell_type": "code",
   "execution_count": 11,
   "id": "f94e4a06",
   "metadata": {},
   "outputs": [
    {
     "data": {
      "text/html": [
       "<div>\n",
       "<style scoped>\n",
       "    .dataframe tbody tr th:only-of-type {\n",
       "        vertical-align: middle;\n",
       "    }\n",
       "\n",
       "    .dataframe tbody tr th {\n",
       "        vertical-align: top;\n",
       "    }\n",
       "\n",
       "    .dataframe thead th {\n",
       "        text-align: right;\n",
       "    }\n",
       "</style>\n",
       "<table border=\"1\" class=\"dataframe\">\n",
       "  <thead>\n",
       "    <tr style=\"text-align: right;\">\n",
       "      <th></th>\n",
       "    </tr>\n",
       "  </thead>\n",
       "  <tbody>\n",
       "  </tbody>\n",
       "</table>\n",
       "</div>"
      ],
      "text/plain": [
       "Empty DataFrame\n",
       "Columns: []\n",
       "Index: []"
      ]
     },
     "execution_count": 11,
     "metadata": {},
     "output_type": "execute_result"
    }
   ],
   "source": [
    "cali_housing.head()"
   ]
  },
  {
   "cell_type": "markdown",
   "id": "449ca7f2",
   "metadata": {},
   "source": [
    "Preserve the dataframe as a CSV file."
   ]
  },
  {
   "cell_type": "code",
   "execution_count": null,
   "id": "52addfe7",
   "metadata": {},
   "outputs": [],
   "source": [
    "cali_housing.to_csv(cali_housing, path_or_buf=\"C:/Users/lynst/Documents/GitHub/machine-learning-projects/supervised-learning/knn/cali_housing.csv\")"
   ]
  },
  {
   "cell_type": "code",
   "execution_count": null,
   "id": "b8c9445d",
   "metadata": {},
   "outputs": [],
   "source": []
  },
  {
   "cell_type": "markdown",
   "id": "0d53cbc8",
   "metadata": {},
   "source": [
    "### Model Selection\n",
    "So first an object needs to be created such as a Series, DataFrame or Dictionary. Next a model needs to be selected and trained on the existing labeled data. The model will be fit to the data so it can start to learn from it, not just memorize it. \n",
    "\n",
    "This particular example doesn't make use of splitting the data into training, validation or test sets just yet although this will become an integral part of the modeling process to see if it will generalize well to new, unseen data."
   ]
  },
  {
   "cell_type": "code",
   "execution_count": null,
   "id": "e6adac14",
   "metadata": {},
   "outputs": [],
   "source": [
    "# Import model library\n",
    "from sklearn.neighbors import KNeighborsRegressor\n",
    "\n",
    "# Model Creation:\n",
    "my_model = kNeighborsRegressor()"
   ]
  },
  {
   "cell_type": "code",
   "execution_count": null,
   "id": "1dfbd882",
   "metadata": {},
   "outputs": [],
   "source": [
    "# Learning phase - or fitting the model to data\n",
    "my_model.fit(X, y)"
   ]
  },
  {
   "cell_type": "code",
   "execution_count": null,
   "id": "f06faaf3",
   "metadata": {},
   "outputs": [],
   "source": [
    "# Then we can make a prediction\n",
    "predictions = my_model.predict(X)"
   ]
  }
 ],
 "metadata": {
  "kernelspec": {
   "display_name": "Python 3 (ipykernel)",
   "language": "python",
   "name": "python3"
  },
  "language_info": {
   "codemirror_mode": {
    "name": "ipython",
    "version": 3
   },
   "file_extension": ".py",
   "mimetype": "text/x-python",
   "name": "python",
   "nbconvert_exporter": "python",
   "pygments_lexer": "ipython3",
   "version": "3.9.13"
  }
 },
 "nbformat": 4,
 "nbformat_minor": 5
}
