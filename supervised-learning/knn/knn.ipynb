{
 "cells": [
  {
   "cell_type": "markdown",
   "id": "7b42b329",
   "metadata": {},
   "source": [
    "# K-Nearest-Neighbors\n",
    "I have decided to use a KNN model which is a useful algorithm for clustering data points and grouping similar observations together. Each group, or cluster of elements may have a decision boundary to separate them. \n",
    "\n",
    "The following procedures will be used to guide the modeling process.\n",
    "\n",
    "1. First I will select a dataset\n",
    "2. Model Preprocessing\n",
    "3. Metrics & different scoring methods\n",
    "4. Meta Estimators\n",
    "5. Human-Learn"
   ]
  },
  {
   "cell_type": "markdown",
   "id": "f5ba03f5",
   "metadata": {},
   "source": [
    "## 1. Import the Necessary Libraries\n",
    "Extracting the load_boston dataset from scikit-learn I will use the information about the housing data and assign the values to the X (predictor) variable. The target, or y variable will be assigned to house price values."
   ]
  },
  {
   "cell_type": "code",
   "execution_count": 1,
   "id": "4f51aa57",
   "metadata": {},
   "outputs": [],
   "source": [
    "import sklearn\n",
    "import pandas as pd\n",
    "import numpy as np\n",
    "from sklearn.datasets import fetch_california_housing"
   ]
  },
  {
   "cell_type": "code",
   "execution_count": null,
   "id": "3caa44f7",
   "metadata": {},
   "outputs": [],
   "source": [
    "cali_housing = fetch_california_housing()"
   ]
  },
  {
   "cell_type": "code",
   "execution_count": null,
   "id": "4cd16ce5",
   "metadata": {},
   "outputs": [],
   "source": [
    "X, y = cali_housing.data, cali_housing.target\n",
    "feature_names = cali_housing.feature_names"
   ]
  },
  {
   "cell_type": "code",
   "execution_count": null,
   "id": "47bc59a0",
   "metadata": {},
   "outputs": [],
   "source": [
    "X.shape"
   ]
  },
  {
   "cell_type": "code",
   "execution_count": null,
   "id": "a9e9a789",
   "metadata": {},
   "outputs": [],
   "source": [
    "y.shape"
   ]
  },
  {
   "cell_type": "markdown",
   "id": "f5b7a955",
   "metadata": {},
   "source": [
    "Returns an array for X which has properties and feature inputs of houses and also an array for y values based on house prices."
   ]
  },
  {
   "cell_type": "code",
   "execution_count": null,
   "id": "52addfe7",
   "metadata": {},
   "outputs": [],
   "source": [
    "cali_housing.to_csv()"
   ]
  },
  {
   "cell_type": "code",
   "execution_count": null,
   "id": "b8c9445d",
   "metadata": {},
   "outputs": [],
   "source": []
  },
  {
   "cell_type": "markdown",
   "id": "0d53cbc8",
   "metadata": {},
   "source": [
    "### Model Selection\n",
    "So first an object needs to be created such as a Series, DataFrame or Dictionary. Next a model needs to be selected and trained on the existing labeled data. The model will be fit to the data so it can start to learn from it, not just memorize it. \n",
    "\n",
    "This particular example doesn't make use of splitting the data into training, validation or test sets just yet although this will become an integral part of the modeling process to see if it will generalize well to new, unseen data."
   ]
  },
  {
   "cell_type": "code",
   "execution_count": null,
   "id": "e6adac14",
   "metadata": {},
   "outputs": [],
   "source": [
    "# Import model library\n",
    "from sklearn.neighbors import KNeighborsRegressor\n",
    "\n",
    "# Model Creation:\n",
    "my_model = kNeighborsRegressor()"
   ]
  },
  {
   "cell_type": "code",
   "execution_count": null,
   "id": "1dfbd882",
   "metadata": {},
   "outputs": [],
   "source": [
    "# Learning phase - or fitting the model to data\n",
    "my_model.fit(X, y)"
   ]
  },
  {
   "cell_type": "code",
   "execution_count": null,
   "id": "f06faaf3",
   "metadata": {},
   "outputs": [],
   "source": [
    "# Then we can make a prediction\n",
    "predictions = my_model.predict(X)"
   ]
  }
 ],
 "metadata": {
  "kernelspec": {
   "display_name": "Python 3 (ipykernel)",
   "language": "python",
   "name": "python3"
  },
  "language_info": {
   "codemirror_mode": {
    "name": "ipython",
    "version": 3
   },
   "file_extension": ".py",
   "mimetype": "text/x-python",
   "name": "python",
   "nbconvert_exporter": "python",
   "pygments_lexer": "ipython3",
   "version": "3.9.13"
  }
 },
 "nbformat": 4,
 "nbformat_minor": 5
}
