{
 "cells": [
  {
   "cell_type": "code",
   "execution_count": null,
   "id": "ce53cbc6-ebf1-4553-8042-9e71d907f135",
   "metadata": {},
   "outputs": [],
   "source": [
    "import numpy as np\n",
    "import pandas as pd\n",
    "import matplotlib.pyplot as plt\n",
    "import xgboost\n",
    "\n",
    "# Also to cross-validate scores and evaluate model's accuracy\n"
   ]
  },
  {
   "cell_type": "code",
   "execution_count": null,
   "id": "2d6426a8-55ef-4817-89fd-be1fc5e0e2e9",
   "metadata": {},
   "outputs": [],
   "source": []
  }
 ],
 "metadata": {
  "kernelspec": {
   "display_name": "",
   "name": ""
  },
  "language_info": {
   "name": ""
  }
 },
 "nbformat": 4,
 "nbformat_minor": 5
}
