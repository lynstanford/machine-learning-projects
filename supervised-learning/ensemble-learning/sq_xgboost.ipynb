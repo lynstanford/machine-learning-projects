{
 "cells": [
  {
   "cell_type": "code",
   "execution_count": null,
   "id": "fcd1fa45",
   "metadata": {},
   "outputs": [],
   "source": [
    "import pandas as pd     # load and manipulate data for One-Hot Encoding\n",
    "import numpy as np     # calculate the mean and standard deviation\n",
    "import xgboost as xgb     # XGBoost stuff\n",
    "from sklearn.model_selection import train_test_split     # split data into training and test sets\n",
    "from sklearn.metrics import balanced_accuracy_score, roc_auc_score, make_scorer\n",
    "from sklearn.model_selection import GridSearchCV     # cross validation\n",
    "from sklearn.metrics import confusion_matrix     # creates a confusion matrix\n",
    "from sklearn.metrics import plot_confusion_matrix     # draws a confusion matrix"
   ]
  },
  {
   "cell_type": "code",
   "execution_count": null,
   "id": "039cc17a",
   "metadata": {},
   "outputs": [],
   "source": [
    "df = pd.read_csv(\"C:/Users/lynst/Documents/Datasets/Kaggle/Jack Chang/telco_churn.csv\")"
   ]
  },
  {
   "cell_type": "code",
   "execution_count": null,
   "id": "3b547902",
   "metadata": {},
   "outputs": [],
   "source": [
    "df.head()"
   ]
  },
  {
   "cell_type": "code",
   "execution_count": null,
   "id": "b827bfd2",
   "metadata": {},
   "outputs": [],
   "source": [
    "# set axis=0 to remove rows, axis=1 to remove cols\n",
    "df.drop(['Churn Label','Churn Score','CLTV','Churn Reason'], axis=1, inplace=True)\n",
    "df.head()"
   ]
  },
  {
   "cell_type": "markdown",
   "id": "9d89ca62",
   "metadata": {},
   "source": [
    "Some of the other columns only contain a single value and will not be useful for classification. For example:"
   ]
  },
  {
   "cell_type": "code",
   "execution_count": null,
   "id": "27cdccde",
   "metadata": {},
   "outputs": [],
   "source": [
    "df['Count'].unique()"
   ]
  },
  {
   "cell_type": "code",
   "execution_count": null,
   "id": "6554e6ce",
   "metadata": {},
   "outputs": [],
   "source": [
    "df['Country'].unique()"
   ]
  },
  {
   "cell_type": "code",
   "execution_count": null,
   "id": "a6074740",
   "metadata": {},
   "outputs": [],
   "source": [
    "df['State'].unique()"
   ]
  },
  {
   "cell_type": "markdown",
   "id": "96152c23",
   "metadata": {},
   "source": [
    "So we can omit those variables. In contrast, City contains a bunch of different city names, so we will leave it in."
   ]
  },
  {
   "cell_type": "code",
   "execution_count": null,
   "id": "2b5a8022",
   "metadata": {},
   "outputs": [],
   "source": [
    "df['City'].unique()"
   ]
  },
  {
   "cell_type": "markdown",
   "id": "91d0c9c5",
   "metadata": {},
   "source": [
    "We will also remove 'CustomerID' because it is different for every customer and useless for classification. Lastly we will drop 'Lat Long' because there are separate columns for Latitude and Longitude."
   ]
  },
  {
   "cell_type": "code",
   "execution_count": null,
   "id": "53288ab2",
   "metadata": {},
   "outputs": [],
   "source": [
    "df.drop(['CustomerID','Count','Country','State','Lat Long'], axis=1, inplace=True)\n",
    "df.head()"
   ]
  },
  {
   "cell_type": "code",
   "execution_count": null,
   "id": "ccceacc5",
   "metadata": {},
   "outputs": [],
   "source": [
    "df['City'].replace(' ', '_', regex=True, inplace=True)\n",
    "df.head()"
   ]
  },
  {
   "cell_type": "markdown",
   "id": "4af2d645",
   "metadata": {},
   "source": [
    "### Note\n",
    "Although it's okay to have whitespace in the city names in 'City' for XGBoost and classification, we can't have any whitespace if we want to draw a tree. So let's take care of that now by replacing the white space in the city names with an underscore character _. \n",
    "\n",
    "### Also Note\n",
    "We can easily remove whitespaces from all values, not just city names, but we will wait to do that until after we have identified missing values."
   ]
  },
  {
   "cell_type": "code",
   "execution_count": null,
   "id": "439bcb84",
   "metadata": {},
   "outputs": [],
   "source": [
    "df['City'].unique()[0:10]"
   ]
  },
  {
   "cell_type": "markdown",
   "id": "e1c45586",
   "metadata": {},
   "source": [
    "We also need to eliminate the whitespace in the column names, so we will replace it with underscores."
   ]
  },
  {
   "cell_type": "code",
   "execution_count": null,
   "id": "977908ad",
   "metadata": {},
   "outputs": [],
   "source": [
    "df.columns = df.columns.str.replace(' ', '_')\n",
    "df.head()"
   ]
  },
  {
   "cell_type": "markdown",
   "id": "8c9cb013",
   "metadata": {},
   "source": [
    "Hooray! We've removed all of the data that will not help us create an effective XGBoost model and reformatted the city and column names so that we can draw a tree."
   ]
  },
  {
   "cell_type": "code",
   "execution_count": null,
   "id": "6d666881",
   "metadata": {},
   "outputs": [],
   "source": []
  },
  {
   "cell_type": "code",
   "execution_count": null,
   "id": "27cf8587",
   "metadata": {},
   "outputs": [],
   "source": []
  },
  {
   "cell_type": "code",
   "execution_count": null,
   "id": "5e066517",
   "metadata": {},
   "outputs": [],
   "source": []
  },
  {
   "cell_type": "code",
   "execution_count": null,
   "id": "240118cb",
   "metadata": {},
   "outputs": [],
   "source": []
  },
  {
   "cell_type": "code",
   "execution_count": null,
   "id": "3f2feca5",
   "metadata": {},
   "outputs": [],
   "source": []
  },
  {
   "cell_type": "code",
   "execution_count": null,
   "id": "805e1f50",
   "metadata": {},
   "outputs": [],
   "source": []
  },
  {
   "cell_type": "code",
   "execution_count": null,
   "id": "63227afb",
   "metadata": {},
   "outputs": [],
   "source": []
  },
  {
   "cell_type": "code",
   "execution_count": null,
   "id": "b2aa70af",
   "metadata": {},
   "outputs": [],
   "source": []
  },
  {
   "cell_type": "code",
   "execution_count": null,
   "id": "55e4278b",
   "metadata": {},
   "outputs": [],
   "source": []
  },
  {
   "cell_type": "code",
   "execution_count": null,
   "id": "8591c46d",
   "metadata": {},
   "outputs": [],
   "source": []
  },
  {
   "cell_type": "code",
   "execution_count": null,
   "id": "0be43cdb",
   "metadata": {},
   "outputs": [],
   "source": []
  },
  {
   "cell_type": "code",
   "execution_count": null,
   "id": "3d0b4ae0",
   "metadata": {},
   "outputs": [],
   "source": []
  },
  {
   "cell_type": "code",
   "execution_count": null,
   "id": "a3d85a6a",
   "metadata": {},
   "outputs": [],
   "source": []
  },
  {
   "cell_type": "code",
   "execution_count": null,
   "id": "76abcad8",
   "metadata": {},
   "outputs": [],
   "source": []
  }
 ],
 "metadata": {
  "kernelspec": {
   "display_name": "Python 3 (ipykernel)",
   "language": "python",
   "name": "python3"
  },
  "language_info": {
   "codemirror_mode": {
    "name": "ipython",
    "version": 3
   },
   "file_extension": ".py",
   "mimetype": "text/x-python",
   "name": "python",
   "nbconvert_exporter": "python",
   "pygments_lexer": "ipython3",
   "version": "3.10.9"
  }
 },
 "nbformat": 4,
 "nbformat_minor": 5
}
