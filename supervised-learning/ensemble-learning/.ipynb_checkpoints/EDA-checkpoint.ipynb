{
 "cells": [
  {
   "cell_type": "markdown",
   "id": "4b0e9757-911c-420f-ad21-e13d6ef0fceb",
   "metadata": {},
   "source": [
    "## EDA\n",
    "Now let's see the datatypes again since most columns have been converted:"
   ]
  },
  {
   "cell_type": "code",
   "execution_count": null,
   "id": "0bf92527-44de-4f0e-8e4b-0724c41e0ad0",
   "metadata": {},
   "outputs": [],
   "source": [
    "telco_churn.info()"
   ]
  },
  {
   "cell_type": "markdown",
   "id": "57292cbd-b4e5-4f39-97bd-77cea74bc067",
   "metadata": {},
   "source": [
    "Summarizing the measures of central tendancy again with the larger numeric dataset:"
   ]
  },
  {
   "cell_type": "code",
   "execution_count": null,
   "id": "a5976dc8-c2ec-41ef-82e4-9403756b8dea",
   "metadata": {},
   "outputs": [],
   "source": [
    "telco_churn.describe()"
   ]
  },
  {
   "cell_type": "markdown",
   "id": "e982b3ed-6103-4451-83ba-01f8e544ef62",
   "metadata": {},
   "source": [
    "### Feature Correlation\n",
    "I want to ascertain if there's any correlation between any of the attributes from the very beginning."
   ]
  },
  {
   "cell_type": "code",
   "execution_count": null,
   "id": "97dcce66-e805-4490-abd6-58194c3c8dac",
   "metadata": {},
   "outputs": [],
   "source": [
    "telco_churn.corr()"
   ]
  },
  {
   "cell_type": "markdown",
   "id": "1d85083b-2929-417c-a586-1bc8ced9c313",
   "metadata": {},
   "source": [
    "## Visualizing the Data\n",
    "\n",
    "A visual summary of the dispersion of data about its mean using matplotlib."
   ]
  },
  {
   "cell_type": "code",
   "execution_count": null,
   "id": "e3f6b693-fe5d-4565-9cc5-019fe7c309d3",
   "metadata": {},
   "outputs": [],
   "source": [
    "telco_churn.hist(bins=20, figsize=(20,10))"
   ]
  },
  {
   "cell_type": "markdown",
   "id": "9b2d33b9-83d3-4e69-b310-bd4cfaf253ab",
   "metadata": {},
   "source": [
    "This provides a histogram splitting the data into separate buckets, or intervals, then counting the frequency distribution within them. It also provides a nice display of the dispersion of data, but now I want to see how it's distributed around the average values and the degree to which it's distributed around the average (fat, thin, or bell-shaped).\n",
    "\n",
    "Something that stands out immediately are those graphs which have Boolean data which I have converted to binary outcomes because they have only two obvious output values."
   ]
  }
 ],
 "metadata": {
  "kernelspec": {
   "display_name": "Python 3 (ipykernel)",
   "language": "python",
   "name": "python3"
  },
  "language_info": {
   "codemirror_mode": {
    "name": "ipython",
    "version": 3
   },
   "file_extension": ".py",
   "mimetype": "text/x-python",
   "name": "python",
   "nbconvert_exporter": "python",
   "pygments_lexer": "ipython3",
   "version": "3.10.9"
  }
 },
 "nbformat": 4,
 "nbformat_minor": 5
}
