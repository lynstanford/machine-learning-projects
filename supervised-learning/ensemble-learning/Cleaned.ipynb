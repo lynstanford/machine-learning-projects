{
 "cells": [
  {
   "cell_type": "markdown",
   "id": "b9b223b9-4002-4b84-9c57-2be86bbbfa5d",
   "metadata": {},
   "source": [
    "## Import the Raw Data\n",
    "\n",
    "Having explored the initial source file provided by Jack Chang in Kaggle entitled 'telco_churn.csv', it's time to start cleaning or pre-processing the dataset. This is probably one of the more time consuming elements creating a pipeline but is an essential phaze before performing EDA."
   ]
  },
  {
   "cell_type": "code",
   "execution_count": 1,
   "id": "8971c105-f7f6-4936-8927-55944f2cde2d",
   "metadata": {},
   "outputs": [],
   "source": [
    "# Import all necessary libraries and modules\n",
    "import numpy as np\n",
    "import pandas as pd"
   ]
  },
  {
   "cell_type": "markdown",
   "id": "f7896ea3-9e32-4de7-b91f-76066758ec3e",
   "metadata": {},
   "source": [
    "Read the CSV source file into a dataframe and assign it to a variable called telco_churn."
   ]
  },
  {
   "cell_type": "code",
   "execution_count": 2,
   "id": "585b22c0-466b-4b87-84c0-9bfc1c2685f1",
   "metadata": {},
   "outputs": [
    {
     "data": {
      "text/html": [
       "<div>\n",
       "<style scoped>\n",
       "    .dataframe tbody tr th:only-of-type {\n",
       "        vertical-align: middle;\n",
       "    }\n",
       "\n",
       "    .dataframe tbody tr th {\n",
       "        vertical-align: top;\n",
       "    }\n",
       "\n",
       "    .dataframe thead th {\n",
       "        text-align: right;\n",
       "    }\n",
       "</style>\n",
       "<table border=\"1\" class=\"dataframe\">\n",
       "  <thead>\n",
       "    <tr style=\"text-align: right;\">\n",
       "      <th></th>\n",
       "      <th>CustomerID</th>\n",
       "      <th>Count</th>\n",
       "      <th>Country</th>\n",
       "      <th>State</th>\n",
       "      <th>City</th>\n",
       "      <th>Zip Code</th>\n",
       "      <th>Lat Long</th>\n",
       "      <th>Latitude</th>\n",
       "      <th>Longitude</th>\n",
       "      <th>Gender</th>\n",
       "      <th>...</th>\n",
       "      <th>Contract</th>\n",
       "      <th>Paperless Billing</th>\n",
       "      <th>Payment Method</th>\n",
       "      <th>Monthly Charges</th>\n",
       "      <th>Total Charges</th>\n",
       "      <th>Churn Label</th>\n",
       "      <th>Churn Value</th>\n",
       "      <th>Churn Score</th>\n",
       "      <th>CLTV</th>\n",
       "      <th>Churn Reason</th>\n",
       "    </tr>\n",
       "  </thead>\n",
       "  <tbody>\n",
       "    <tr>\n",
       "      <th>0</th>\n",
       "      <td>3668-QPYBK</td>\n",
       "      <td>1</td>\n",
       "      <td>United States</td>\n",
       "      <td>California</td>\n",
       "      <td>Los Angeles</td>\n",
       "      <td>90003</td>\n",
       "      <td>33.964131, -118.272783</td>\n",
       "      <td>33.964131</td>\n",
       "      <td>-118.272783</td>\n",
       "      <td>Male</td>\n",
       "      <td>...</td>\n",
       "      <td>Month-to-month</td>\n",
       "      <td>Yes</td>\n",
       "      <td>Mailed check</td>\n",
       "      <td>53.85</td>\n",
       "      <td>108.15</td>\n",
       "      <td>Yes</td>\n",
       "      <td>1</td>\n",
       "      <td>86</td>\n",
       "      <td>3239</td>\n",
       "      <td>Competitor made better offer</td>\n",
       "    </tr>\n",
       "    <tr>\n",
       "      <th>1</th>\n",
       "      <td>9237-HQITU</td>\n",
       "      <td>1</td>\n",
       "      <td>United States</td>\n",
       "      <td>California</td>\n",
       "      <td>Los Angeles</td>\n",
       "      <td>90005</td>\n",
       "      <td>34.059281, -118.30742</td>\n",
       "      <td>34.059281</td>\n",
       "      <td>-118.307420</td>\n",
       "      <td>Female</td>\n",
       "      <td>...</td>\n",
       "      <td>Month-to-month</td>\n",
       "      <td>Yes</td>\n",
       "      <td>Electronic check</td>\n",
       "      <td>70.70</td>\n",
       "      <td>151.65</td>\n",
       "      <td>Yes</td>\n",
       "      <td>1</td>\n",
       "      <td>67</td>\n",
       "      <td>2701</td>\n",
       "      <td>Moved</td>\n",
       "    </tr>\n",
       "    <tr>\n",
       "      <th>2</th>\n",
       "      <td>9305-CDSKC</td>\n",
       "      <td>1</td>\n",
       "      <td>United States</td>\n",
       "      <td>California</td>\n",
       "      <td>Los Angeles</td>\n",
       "      <td>90006</td>\n",
       "      <td>34.048013, -118.293953</td>\n",
       "      <td>34.048013</td>\n",
       "      <td>-118.293953</td>\n",
       "      <td>Female</td>\n",
       "      <td>...</td>\n",
       "      <td>Month-to-month</td>\n",
       "      <td>Yes</td>\n",
       "      <td>Electronic check</td>\n",
       "      <td>99.65</td>\n",
       "      <td>820.5</td>\n",
       "      <td>Yes</td>\n",
       "      <td>1</td>\n",
       "      <td>86</td>\n",
       "      <td>5372</td>\n",
       "      <td>Moved</td>\n",
       "    </tr>\n",
       "    <tr>\n",
       "      <th>3</th>\n",
       "      <td>7892-POOKP</td>\n",
       "      <td>1</td>\n",
       "      <td>United States</td>\n",
       "      <td>California</td>\n",
       "      <td>Los Angeles</td>\n",
       "      <td>90010</td>\n",
       "      <td>34.062125, -118.315709</td>\n",
       "      <td>34.062125</td>\n",
       "      <td>-118.315709</td>\n",
       "      <td>Female</td>\n",
       "      <td>...</td>\n",
       "      <td>Month-to-month</td>\n",
       "      <td>Yes</td>\n",
       "      <td>Electronic check</td>\n",
       "      <td>104.80</td>\n",
       "      <td>3046.05</td>\n",
       "      <td>Yes</td>\n",
       "      <td>1</td>\n",
       "      <td>84</td>\n",
       "      <td>5003</td>\n",
       "      <td>Moved</td>\n",
       "    </tr>\n",
       "    <tr>\n",
       "      <th>4</th>\n",
       "      <td>0280-XJGEX</td>\n",
       "      <td>1</td>\n",
       "      <td>United States</td>\n",
       "      <td>California</td>\n",
       "      <td>Los Angeles</td>\n",
       "      <td>90015</td>\n",
       "      <td>34.039224, -118.266293</td>\n",
       "      <td>34.039224</td>\n",
       "      <td>-118.266293</td>\n",
       "      <td>Male</td>\n",
       "      <td>...</td>\n",
       "      <td>Month-to-month</td>\n",
       "      <td>Yes</td>\n",
       "      <td>Bank transfer (automatic)</td>\n",
       "      <td>103.70</td>\n",
       "      <td>5036.3</td>\n",
       "      <td>Yes</td>\n",
       "      <td>1</td>\n",
       "      <td>89</td>\n",
       "      <td>5340</td>\n",
       "      <td>Competitor had better devices</td>\n",
       "    </tr>\n",
       "  </tbody>\n",
       "</table>\n",
       "<p>5 rows × 33 columns</p>\n",
       "</div>"
      ],
      "text/plain": [
       "   CustomerID  Count        Country       State         City  Zip Code  \\\n",
       "0  3668-QPYBK      1  United States  California  Los Angeles     90003   \n",
       "1  9237-HQITU      1  United States  California  Los Angeles     90005   \n",
       "2  9305-CDSKC      1  United States  California  Los Angeles     90006   \n",
       "3  7892-POOKP      1  United States  California  Los Angeles     90010   \n",
       "4  0280-XJGEX      1  United States  California  Los Angeles     90015   \n",
       "\n",
       "                 Lat Long   Latitude   Longitude  Gender  ...        Contract  \\\n",
       "0  33.964131, -118.272783  33.964131 -118.272783    Male  ...  Month-to-month   \n",
       "1   34.059281, -118.30742  34.059281 -118.307420  Female  ...  Month-to-month   \n",
       "2  34.048013, -118.293953  34.048013 -118.293953  Female  ...  Month-to-month   \n",
       "3  34.062125, -118.315709  34.062125 -118.315709  Female  ...  Month-to-month   \n",
       "4  34.039224, -118.266293  34.039224 -118.266293    Male  ...  Month-to-month   \n",
       "\n",
       "  Paperless Billing             Payment Method  Monthly Charges Total Charges  \\\n",
       "0               Yes               Mailed check            53.85        108.15   \n",
       "1               Yes           Electronic check            70.70        151.65   \n",
       "2               Yes           Electronic check            99.65         820.5   \n",
       "3               Yes           Electronic check           104.80       3046.05   \n",
       "4               Yes  Bank transfer (automatic)           103.70        5036.3   \n",
       "\n",
       "  Churn Label Churn Value Churn Score  CLTV                   Churn Reason  \n",
       "0         Yes           1          86  3239   Competitor made better offer  \n",
       "1         Yes           1          67  2701                          Moved  \n",
       "2         Yes           1          86  5372                          Moved  \n",
       "3         Yes           1          84  5003                          Moved  \n",
       "4         Yes           1          89  5340  Competitor had better devices  \n",
       "\n",
       "[5 rows x 33 columns]"
      ]
     },
     "execution_count": 2,
     "metadata": {},
     "output_type": "execute_result"
    }
   ],
   "source": [
    "telco_churn = pd.read_csv(\"C:/Users/lynst/Documents/Datasets/Kaggle/Jack Chang/telco_churn.csv\")\n",
    "telco_churn.head()"
   ]
  },
  {
   "cell_type": "markdown",
   "id": "7be54507-6dba-422c-ac8d-de38a84d18bf",
   "metadata": {},
   "source": [
    "## Data Pre-processing and Cleaning\n",
    "\n",
    "### Dimensionality Reduction\n",
    "\n",
    "First I need to remove the columns I don't want using the drop( ) method."
   ]
  },
  {
   "cell_type": "code",
   "execution_count": 3,
   "id": "5fa7543e-e25e-4f2f-95ca-d10c7d6af6e9",
   "metadata": {},
   "outputs": [
    {
     "data": {
      "text/html": [
       "<div>\n",
       "<style scoped>\n",
       "    .dataframe tbody tr th:only-of-type {\n",
       "        vertical-align: middle;\n",
       "    }\n",
       "\n",
       "    .dataframe tbody tr th {\n",
       "        vertical-align: top;\n",
       "    }\n",
       "\n",
       "    .dataframe thead th {\n",
       "        text-align: right;\n",
       "    }\n",
       "</style>\n",
       "<table border=\"1\" class=\"dataframe\">\n",
       "  <thead>\n",
       "    <tr style=\"text-align: right;\">\n",
       "      <th></th>\n",
       "      <th>City</th>\n",
       "      <th>Lat Long</th>\n",
       "      <th>Gender</th>\n",
       "      <th>Senior Citizen</th>\n",
       "      <th>Partner</th>\n",
       "      <th>Dependents</th>\n",
       "      <th>Tenure Months</th>\n",
       "      <th>Phone Service</th>\n",
       "      <th>Multiple Lines</th>\n",
       "      <th>Internet Service</th>\n",
       "      <th>...</th>\n",
       "      <th>Streaming Movies</th>\n",
       "      <th>Contract</th>\n",
       "      <th>Paperless Billing</th>\n",
       "      <th>Payment Method</th>\n",
       "      <th>Monthly Charges</th>\n",
       "      <th>Total Charges</th>\n",
       "      <th>Churn Value</th>\n",
       "      <th>Churn Score</th>\n",
       "      <th>CLTV</th>\n",
       "      <th>Churn Reason</th>\n",
       "    </tr>\n",
       "  </thead>\n",
       "  <tbody>\n",
       "    <tr>\n",
       "      <th>0</th>\n",
       "      <td>Los Angeles</td>\n",
       "      <td>33.964131, -118.272783</td>\n",
       "      <td>Male</td>\n",
       "      <td>No</td>\n",
       "      <td>No</td>\n",
       "      <td>No</td>\n",
       "      <td>2</td>\n",
       "      <td>Yes</td>\n",
       "      <td>No</td>\n",
       "      <td>DSL</td>\n",
       "      <td>...</td>\n",
       "      <td>No</td>\n",
       "      <td>Month-to-month</td>\n",
       "      <td>Yes</td>\n",
       "      <td>Mailed check</td>\n",
       "      <td>53.85</td>\n",
       "      <td>108.15</td>\n",
       "      <td>1</td>\n",
       "      <td>86</td>\n",
       "      <td>3239</td>\n",
       "      <td>Competitor made better offer</td>\n",
       "    </tr>\n",
       "    <tr>\n",
       "      <th>1</th>\n",
       "      <td>Los Angeles</td>\n",
       "      <td>34.059281, -118.30742</td>\n",
       "      <td>Female</td>\n",
       "      <td>No</td>\n",
       "      <td>No</td>\n",
       "      <td>Yes</td>\n",
       "      <td>2</td>\n",
       "      <td>Yes</td>\n",
       "      <td>No</td>\n",
       "      <td>Fiber optic</td>\n",
       "      <td>...</td>\n",
       "      <td>No</td>\n",
       "      <td>Month-to-month</td>\n",
       "      <td>Yes</td>\n",
       "      <td>Electronic check</td>\n",
       "      <td>70.70</td>\n",
       "      <td>151.65</td>\n",
       "      <td>1</td>\n",
       "      <td>67</td>\n",
       "      <td>2701</td>\n",
       "      <td>Moved</td>\n",
       "    </tr>\n",
       "    <tr>\n",
       "      <th>2</th>\n",
       "      <td>Los Angeles</td>\n",
       "      <td>34.048013, -118.293953</td>\n",
       "      <td>Female</td>\n",
       "      <td>No</td>\n",
       "      <td>No</td>\n",
       "      <td>Yes</td>\n",
       "      <td>8</td>\n",
       "      <td>Yes</td>\n",
       "      <td>Yes</td>\n",
       "      <td>Fiber optic</td>\n",
       "      <td>...</td>\n",
       "      <td>Yes</td>\n",
       "      <td>Month-to-month</td>\n",
       "      <td>Yes</td>\n",
       "      <td>Electronic check</td>\n",
       "      <td>99.65</td>\n",
       "      <td>820.5</td>\n",
       "      <td>1</td>\n",
       "      <td>86</td>\n",
       "      <td>5372</td>\n",
       "      <td>Moved</td>\n",
       "    </tr>\n",
       "    <tr>\n",
       "      <th>3</th>\n",
       "      <td>Los Angeles</td>\n",
       "      <td>34.062125, -118.315709</td>\n",
       "      <td>Female</td>\n",
       "      <td>No</td>\n",
       "      <td>Yes</td>\n",
       "      <td>Yes</td>\n",
       "      <td>28</td>\n",
       "      <td>Yes</td>\n",
       "      <td>Yes</td>\n",
       "      <td>Fiber optic</td>\n",
       "      <td>...</td>\n",
       "      <td>Yes</td>\n",
       "      <td>Month-to-month</td>\n",
       "      <td>Yes</td>\n",
       "      <td>Electronic check</td>\n",
       "      <td>104.80</td>\n",
       "      <td>3046.05</td>\n",
       "      <td>1</td>\n",
       "      <td>84</td>\n",
       "      <td>5003</td>\n",
       "      <td>Moved</td>\n",
       "    </tr>\n",
       "    <tr>\n",
       "      <th>4</th>\n",
       "      <td>Los Angeles</td>\n",
       "      <td>34.039224, -118.266293</td>\n",
       "      <td>Male</td>\n",
       "      <td>No</td>\n",
       "      <td>No</td>\n",
       "      <td>Yes</td>\n",
       "      <td>49</td>\n",
       "      <td>Yes</td>\n",
       "      <td>Yes</td>\n",
       "      <td>Fiber optic</td>\n",
       "      <td>...</td>\n",
       "      <td>Yes</td>\n",
       "      <td>Month-to-month</td>\n",
       "      <td>Yes</td>\n",
       "      <td>Bank transfer (automatic)</td>\n",
       "      <td>103.70</td>\n",
       "      <td>5036.3</td>\n",
       "      <td>1</td>\n",
       "      <td>89</td>\n",
       "      <td>5340</td>\n",
       "      <td>Competitor had better devices</td>\n",
       "    </tr>\n",
       "  </tbody>\n",
       "</table>\n",
       "<p>5 rows × 25 columns</p>\n",
       "</div>"
      ],
      "text/plain": [
       "          City                Lat Long  Gender Senior Citizen Partner  \\\n",
       "0  Los Angeles  33.964131, -118.272783    Male             No      No   \n",
       "1  Los Angeles   34.059281, -118.30742  Female             No      No   \n",
       "2  Los Angeles  34.048013, -118.293953  Female             No      No   \n",
       "3  Los Angeles  34.062125, -118.315709  Female             No     Yes   \n",
       "4  Los Angeles  34.039224, -118.266293    Male             No      No   \n",
       "\n",
       "  Dependents  Tenure Months Phone Service Multiple Lines Internet Service  \\\n",
       "0         No              2           Yes             No              DSL   \n",
       "1        Yes              2           Yes             No      Fiber optic   \n",
       "2        Yes              8           Yes            Yes      Fiber optic   \n",
       "3        Yes             28           Yes            Yes      Fiber optic   \n",
       "4        Yes             49           Yes            Yes      Fiber optic   \n",
       "\n",
       "   ... Streaming Movies        Contract Paperless Billing  \\\n",
       "0  ...               No  Month-to-month               Yes   \n",
       "1  ...               No  Month-to-month               Yes   \n",
       "2  ...              Yes  Month-to-month               Yes   \n",
       "3  ...              Yes  Month-to-month               Yes   \n",
       "4  ...              Yes  Month-to-month               Yes   \n",
       "\n",
       "              Payment Method Monthly Charges Total Charges Churn Value  \\\n",
       "0               Mailed check           53.85        108.15           1   \n",
       "1           Electronic check           70.70        151.65           1   \n",
       "2           Electronic check           99.65         820.5           1   \n",
       "3           Electronic check          104.80       3046.05           1   \n",
       "4  Bank transfer (automatic)          103.70        5036.3           1   \n",
       "\n",
       "  Churn Score  CLTV                   Churn Reason  \n",
       "0          86  3239   Competitor made better offer  \n",
       "1          67  2701                          Moved  \n",
       "2          86  5372                          Moved  \n",
       "3          84  5003                          Moved  \n",
       "4          89  5340  Competitor had better devices  \n",
       "\n",
       "[5 rows x 25 columns]"
      ]
     },
     "execution_count": 3,
     "metadata": {},
     "output_type": "execute_result"
    }
   ],
   "source": [
    "telco_churn.drop(['CustomerID','Count','Country','State','Zip Code','Latitude','Longitude','Churn Label'], axis=1, inplace=True)\n",
    "telco_churn.head()"
   ]
  },
  {
   "cell_type": "code",
   "execution_count": 4,
   "id": "01d7eafb-262b-422a-9670-7097f2080c26",
   "metadata": {},
   "outputs": [
    {
     "data": {
      "text/plain": [
       "(7043, 25)"
      ]
     },
     "execution_count": 4,
     "metadata": {},
     "output_type": "execute_result"
    }
   ],
   "source": [
    "telco_churn.shape"
   ]
  },
  {
   "cell_type": "markdown",
   "id": "95faf35a-14ef-4e80-a660-52815069f14c",
   "metadata": {},
   "source": [
    "So there are a total of 7043 row entries or instances and 26 columns or features.\n",
    "\n",
    "To list the names of the columns and their data type:"
   ]
  },
  {
   "cell_type": "code",
   "execution_count": 5,
   "id": "f7b0b8bd-6733-4770-99c4-3eb9d2e32f34",
   "metadata": {},
   "outputs": [
    {
     "name": "stdout",
     "output_type": "stream",
     "text": [
      "<class 'pandas.core.frame.DataFrame'>\n",
      "RangeIndex: 7043 entries, 0 to 7042\n",
      "Data columns (total 25 columns):\n",
      " #   Column             Non-Null Count  Dtype  \n",
      "---  ------             --------------  -----  \n",
      " 0   City               7043 non-null   object \n",
      " 1   Lat Long           7043 non-null   object \n",
      " 2   Gender             7043 non-null   object \n",
      " 3   Senior Citizen     7043 non-null   object \n",
      " 4   Partner            7043 non-null   object \n",
      " 5   Dependents         7043 non-null   object \n",
      " 6   Tenure Months      7043 non-null   int64  \n",
      " 7   Phone Service      7043 non-null   object \n",
      " 8   Multiple Lines     7043 non-null   object \n",
      " 9   Internet Service   7043 non-null   object \n",
      " 10  Online Security    7043 non-null   object \n",
      " 11  Online Backup      7043 non-null   object \n",
      " 12  Device Protection  7043 non-null   object \n",
      " 13  Tech Support       7043 non-null   object \n",
      " 14  Streaming TV       7043 non-null   object \n",
      " 15  Streaming Movies   7043 non-null   object \n",
      " 16  Contract           7043 non-null   object \n",
      " 17  Paperless Billing  7043 non-null   object \n",
      " 18  Payment Method     7043 non-null   object \n",
      " 19  Monthly Charges    7043 non-null   float64\n",
      " 20  Total Charges      7043 non-null   object \n",
      " 21  Churn Value        7043 non-null   int64  \n",
      " 22  Churn Score        7043 non-null   int64  \n",
      " 23  CLTV               7043 non-null   int64  \n",
      " 24  Churn Reason       1869 non-null   object \n",
      "dtypes: float64(1), int64(4), object(20)\n",
      "memory usage: 1.3+ MB\n"
     ]
    }
   ],
   "source": [
    "telco_churn.info()"
   ]
  },
  {
   "cell_type": "markdown",
   "id": "882f285e-1a71-4302-b7c7-34a282bbf6ef",
   "metadata": {},
   "source": [
    "To remove any white space in the column names using the replace method:"
   ]
  },
  {
   "cell_type": "code",
   "execution_count": 6,
   "id": "d150d371-0c81-4ebc-bc06-23813e079717",
   "metadata": {},
   "outputs": [
    {
     "data": {
      "text/plain": [
       "Index(['City', 'Lat_Long', 'Gender', 'Senior_Citizen', 'Partner', 'Dependents',\n",
       "       'Tenure_Months', 'Phone_Service', 'Multiple_Lines', 'Internet_Service',\n",
       "       'Online_Security', 'Online_Backup', 'Device_Protection', 'Tech_Support',\n",
       "       'Streaming_TV', 'Streaming_Movies', 'Contract', 'Paperless_Billing',\n",
       "       'Payment_Method', 'Monthly_Charges', 'Total_Charges', 'Churn_Value',\n",
       "       'Churn_Score', 'CLTV', 'Churn_Reason'],\n",
       "      dtype='object')"
      ]
     },
     "execution_count": 6,
     "metadata": {},
     "output_type": "execute_result"
    }
   ],
   "source": [
    "telco_churn.columns = telco_churn.columns.str.replace(' ','_')\n",
    "telco_churn.columns"
   ]
  },
  {
   "cell_type": "markdown",
   "id": "28e309ba-ecef-4b03-8f16-0fc1c54fa98b",
   "metadata": {},
   "source": [
    "Although the purpose of having unique identifiers to label each entry or customer id becomes useful when manipulating data in SQL, it will not provide any insight or potential relationships if included in a machine learning model so it was more prudent to drop the 'CustomerID' column. (In structured relational databases a unique identifier column of values becomes useful for establishing relationships in a Schema table object)."
   ]
  },
  {
   "cell_type": "markdown",
   "id": "3e2dcd28-ef8b-4be0-9c09-45b1379d56fe",
   "metadata": {},
   "source": [
    "Now check the first 5 rows of the 'City' column using the 'head( )' method having replaced whitespaces with underscore characters."
   ]
  },
  {
   "cell_type": "code",
   "execution_count": 7,
   "id": "646cbe94-9d42-475c-8aa5-a4c054ae0285",
   "metadata": {},
   "outputs": [
    {
     "data": {
      "text/plain": [
       "0    Los_Angeles\n",
       "1    Los_Angeles\n",
       "2    Los_Angeles\n",
       "3    Los_Angeles\n",
       "4    Los_Angeles\n",
       "Name: City, dtype: object"
      ]
     },
     "execution_count": 7,
     "metadata": {},
     "output_type": "execute_result"
    }
   ],
   "source": [
    "telco_churn['City'].replace(' ', '_', regex=True, inplace=True)\n",
    "telco_churn['City'].head()"
   ]
  },
  {
   "cell_type": "markdown",
   "id": "d892532c-993b-412a-af76-bf1019a004f7",
   "metadata": {},
   "source": [
    "### Converting Data Types\n",
    "\n",
    "Next I would like to convert any columns with string object datatypes into numeric values. Binary values will be converted by using the map( ) method for dictionary values and string values will be changed using label and one-hot encoding.\n",
    "\n",
    "Gender needs converting to '1' for Male and '0' for Female for simplicity. "
   ]
  },
  {
   "cell_type": "code",
   "execution_count": 8,
   "id": "dc399252-3702-4883-bc02-8225a499956c",
   "metadata": {},
   "outputs": [],
   "source": [
    "gender_dict = {'Male': 1, 'Female': 0}"
   ]
  },
  {
   "cell_type": "markdown",
   "id": "5da7e62f-08d6-4a1c-bc89-45aea4aeb24d",
   "metadata": {},
   "source": [
    "Now map the gender dictionary to the 'Gender' column:"
   ]
  },
  {
   "cell_type": "code",
   "execution_count": 9,
   "id": "d9bb6feb-a6c9-4269-a1a6-7c365d172998",
   "metadata": {},
   "outputs": [
    {
     "data": {
      "text/plain": [
       "0    1\n",
       "1    0\n",
       "2    0\n",
       "3    0\n",
       "4    1\n",
       "Name: Gender, dtype: int64"
      ]
     },
     "execution_count": 9,
     "metadata": {},
     "output_type": "execute_result"
    }
   ],
   "source": [
    "telco_churn['Gender'] = telco_churn['Gender'].map(gender_dict)\n",
    "telco_churn['Gender'].head()"
   ]
  },
  {
   "cell_type": "markdown",
   "id": "e5630b36-0b64-45c7-8181-a04e71a39411",
   "metadata": {},
   "source": [
    "'Senior Citizen' values can be converted to '1' for yes and '0' for no."
   ]
  },
  {
   "cell_type": "code",
   "execution_count": 10,
   "id": "8e8845d0-36fd-4da1-98e3-514e0d4222b3",
   "metadata": {},
   "outputs": [],
   "source": [
    "senior_dict = {'Yes': 1, 'No': 0}\n",
    "telco_churn['Senior_Citizen'] = telco_churn['Senior_Citizen'].map(senior_dict)"
   ]
  },
  {
   "cell_type": "markdown",
   "id": "137a5107-8c9a-4f24-8a1f-c7b754be5167",
   "metadata": {},
   "source": [
    "Same for 'Partner':"
   ]
  },
  {
   "cell_type": "code",
   "execution_count": 11,
   "id": "c3ceb4cd-4c4b-45c2-8bd6-eb3e5f2f4820",
   "metadata": {},
   "outputs": [],
   "source": [
    "partner_dict = {'Yes': 1, 'No': 0}\n",
    "telco_churn['Partner'] = telco_churn['Partner'].map(partner_dict)"
   ]
  },
  {
   "cell_type": "markdown",
   "id": "e32c4995-094f-4f43-9edc-23e4949077b4",
   "metadata": {},
   "source": [
    "And 'Dependents':"
   ]
  },
  {
   "cell_type": "code",
   "execution_count": 12,
   "id": "5f62f68f-e713-4b4b-8eca-33bc467b0beb",
   "metadata": {},
   "outputs": [],
   "source": [
    "dependents_dict = {'Yes': 1, 'No': 0}\n",
    "telco_churn['Dependents'] = telco_churn['Dependents'].map(dependents_dict)"
   ]
  },
  {
   "cell_type": "markdown",
   "id": "9b339a65-a696-49e3-9538-eae3e3685c6e",
   "metadata": {},
   "source": [
    "'Tenure Months' are already numeric integers so this is fine. 'Phone Service' can be converted:"
   ]
  },
  {
   "cell_type": "code",
   "execution_count": 13,
   "id": "b89ba578-2a04-4044-b99e-2726ab391e93",
   "metadata": {},
   "outputs": [],
   "source": [
    "phone_dict = {'Yes': 1, 'No': 0}\n",
    "telco_churn['Phone_Service'] = telco_churn['Phone_Service'].map(phone_dict)"
   ]
  },
  {
   "cell_type": "markdown",
   "id": "0c1b35fd-bbe5-47af-8f0e-b3d35d63b8c2",
   "metadata": {},
   "source": [
    "And 'Multiple Lines':"
   ]
  },
  {
   "cell_type": "code",
   "execution_count": 14,
   "id": "0acca1c5-e99c-4d03-a81d-f2fb354b6ad1",
   "metadata": {},
   "outputs": [],
   "source": [
    "multi_dict = {'Yes': 1, 'No': 0}\n",
    "telco_churn['Multiple_Lines'] = telco_churn['Multiple_Lines'].map(multi_dict)"
   ]
  },
  {
   "cell_type": "markdown",
   "id": "96c71713-a302-42ef-a535-e1eb2b9a35ed",
   "metadata": {},
   "source": [
    "### One-Hot Encoding"
   ]
  },
  {
   "cell_type": "markdown",
   "id": "2a5f0532-7299-4828-92ce-a05e073b271c",
   "metadata": {},
   "source": [
    "Counting the number of unique values in the 'City' column as first."
   ]
  },
  {
   "cell_type": "code",
   "execution_count": 15,
   "id": "69be3f17",
   "metadata": {},
   "outputs": [],
   "source": [
    "from numpy import array\n",
    "from numpy import argmax\n",
    "from sklearn.preprocessing import OneHotEncoder\n",
    "from sklearn.preprocessing import LabelEncoder"
   ]
  },
  {
   "cell_type": "code",
   "execution_count": 16,
   "id": "c20d8fc7",
   "metadata": {},
   "outputs": [
    {
     "data": {
      "text/plain": [
       "1129"
      ]
     },
     "execution_count": 16,
     "metadata": {},
     "output_type": "execute_result"
    }
   ],
   "source": [
    "telco_churn['City'].nunique()"
   ]
  },
  {
   "cell_type": "markdown",
   "id": "1827351b",
   "metadata": {},
   "source": [
    "Later on a Decision Tree will be created using GraphViz but in order to draw a tree properly it is not preferable to have any whitespace in the column values for 'City', so these should be replaced with an underscore character. Looking at the first five values for 'City' using slicing."
   ]
  },
  {
   "cell_type": "code",
   "execution_count": 17,
   "id": "119a72dd",
   "metadata": {},
   "outputs": [
    {
     "data": {
      "text/plain": [
       "array(['Los_Angeles', 'Beverly_Hills', 'Huntington_Park', 'Lynwood',\n",
       "       'Marina_Del_Rey'], dtype=object)"
      ]
     },
     "execution_count": 17,
     "metadata": {},
     "output_type": "execute_result"
    }
   ],
   "source": [
    "telco_churn['City'].unique()[0:5]"
   ]
  },
  {
   "cell_type": "markdown",
   "id": "13b0c33d",
   "metadata": {},
   "source": [
    "Looking at the data value counts for categorical features:"
   ]
  },
  {
   "cell_type": "code",
   "execution_count": 18,
   "id": "fe736831-fcc1-49b5-82b3-45388e9c6324",
   "metadata": {},
   "outputs": [
    {
     "name": "stdout",
     "output_type": "stream",
     "text": [
      "City\n",
      "Los_Angeles       305\n",
      "San_Diego         150\n",
      "San_Jose          112\n",
      "Sacramento        108\n",
      "San_Francisco     104\n",
      "                 ... \n",
      "Healdsburg          4\n",
      "Jenner              4\n",
      "Philo               4\n",
      "Point_Arena         4\n",
      "Olympic_Valley      4\n",
      "Name: City, Length: 1129, dtype: int64\n",
      "\n",
      "Lat_Long\n",
      "33.964131, -118.272783    5\n",
      "34.152875, -118.486056    5\n",
      "32.912664, -116.635387    5\n",
      "32.64164, -116.985026     5\n",
      "32.607964, -117.059459    5\n",
      "                         ..\n",
      "37.4695, -120.672724      4\n",
      "38.055562, -120.456298    4\n",
      "38.244806, -120.417301    4\n",
      "38.264262, -120.515133    4\n",
      "39.191797, -120.212401    4\n",
      "Name: Lat_Long, Length: 1652, dtype: int64\n",
      "\n",
      "Gender\n",
      "1    3555\n",
      "0    3488\n",
      "Name: Gender, dtype: int64\n",
      "\n",
      "Senior_Citizen\n",
      "0    5901\n",
      "1    1142\n",
      "Name: Senior_Citizen, dtype: int64\n",
      "\n",
      "Partner\n",
      "0    3641\n",
      "1    3402\n",
      "Name: Partner, dtype: int64\n",
      "\n",
      "Dependents\n",
      "0    5416\n",
      "1    1627\n",
      "Name: Dependents, dtype: int64\n",
      "\n",
      "Tenure_Months\n",
      "1     613\n",
      "72    362\n",
      "2     238\n",
      "3     200\n",
      "4     176\n",
      "     ... \n",
      "28     57\n",
      "39     56\n",
      "44     51\n",
      "36     50\n",
      "0      11\n",
      "Name: Tenure_Months, Length: 73, dtype: int64\n",
      "\n",
      "Phone_Service\n",
      "1    6361\n",
      "0     682\n",
      "Name: Phone_Service, dtype: int64\n",
      "\n",
      "Multiple_Lines\n",
      "0.0    3390\n",
      "1.0    2971\n",
      "Name: Multiple_Lines, dtype: int64\n",
      "\n",
      "Internet_Service\n",
      "Fiber optic    3096\n",
      "DSL            2421\n",
      "No             1526\n",
      "Name: Internet_Service, dtype: int64\n",
      "\n",
      "Online_Security\n",
      "No                     3498\n",
      "Yes                    2019\n",
      "No internet service    1526\n",
      "Name: Online_Security, dtype: int64\n",
      "\n",
      "Online_Backup\n",
      "No                     3088\n",
      "Yes                    2429\n",
      "No internet service    1526\n",
      "Name: Online_Backup, dtype: int64\n",
      "\n",
      "Device_Protection\n",
      "No                     3095\n",
      "Yes                    2422\n",
      "No internet service    1526\n",
      "Name: Device_Protection, dtype: int64\n",
      "\n",
      "Tech_Support\n",
      "No                     3473\n",
      "Yes                    2044\n",
      "No internet service    1526\n",
      "Name: Tech_Support, dtype: int64\n",
      "\n",
      "Streaming_TV\n",
      "No                     2810\n",
      "Yes                    2707\n",
      "No internet service    1526\n",
      "Name: Streaming_TV, dtype: int64\n",
      "\n",
      "Streaming_Movies\n",
      "No                     2785\n",
      "Yes                    2732\n",
      "No internet service    1526\n",
      "Name: Streaming_Movies, dtype: int64\n",
      "\n",
      "Contract\n",
      "Month-to-month    3875\n",
      "Two year          1695\n",
      "One year          1473\n",
      "Name: Contract, dtype: int64\n",
      "\n",
      "Paperless_Billing\n",
      "Yes    4171\n",
      "No     2872\n",
      "Name: Paperless_Billing, dtype: int64\n",
      "\n",
      "Payment_Method\n",
      "Electronic check             2365\n",
      "Mailed check                 1612\n",
      "Bank transfer (automatic)    1544\n",
      "Credit card (automatic)      1522\n",
      "Name: Payment_Method, dtype: int64\n",
      "\n",
      "Monthly_Charges\n",
      "20.05     61\n",
      "19.85     45\n",
      "19.95     44\n",
      "19.90     44\n",
      "19.65     43\n",
      "          ..\n",
      "112.55     1\n",
      "117.15     1\n",
      "29.40      1\n",
      "67.40      1\n",
      "78.70      1\n",
      "Name: Monthly_Charges, Length: 1585, dtype: int64\n",
      "\n",
      "Total_Charges\n",
      "20.2      11\n",
      "          11\n",
      "19.75      9\n",
      "19.65      8\n",
      "20.05      8\n",
      "          ..\n",
      "444.75     1\n",
      "5459.2     1\n",
      "295.95     1\n",
      "394.1      1\n",
      "6844.5     1\n",
      "Name: Total_Charges, Length: 6531, dtype: int64\n",
      "\n",
      "Churn_Value\n",
      "0    5174\n",
      "1    1869\n",
      "Name: Churn_Value, dtype: int64\n",
      "\n",
      "Churn_Score\n",
      "80    151\n",
      "71    148\n",
      "77    145\n",
      "67    143\n",
      "76    141\n",
      "     ... \n",
      "88     33\n",
      "9       3\n",
      "8       2\n",
      "7       2\n",
      "5       1\n",
      "Name: Churn_Score, Length: 85, dtype: int64\n",
      "\n",
      "CLTV\n",
      "5546    8\n",
      "4741    7\n",
      "5527    7\n",
      "5092    7\n",
      "4745    7\n",
      "       ..\n",
      "2364    1\n",
      "3003    1\n",
      "5280    1\n",
      "3269    1\n",
      "5553    1\n",
      "Name: CLTV, Length: 3438, dtype: int64\n",
      "\n",
      "Churn_Reason\n",
      "Attitude of support person                   192\n",
      "Competitor offered higher download speeds    189\n",
      "Competitor offered more data                 162\n",
      "Don't know                                   154\n",
      "Competitor made better offer                 140\n",
      "Attitude of service provider                 135\n",
      "Competitor had better devices                130\n",
      "Network reliability                          103\n",
      "Product dissatisfaction                      102\n",
      "Price too high                                98\n",
      "Service dissatisfaction                       89\n",
      "Lack of self-service on Website               88\n",
      "Extra data charges                            57\n",
      "Moved                                         53\n",
      "Limited range of services                     44\n",
      "Long distance charges                         44\n",
      "Lack of affordable download/upload speed      44\n",
      "Poor expertise of phone support               20\n",
      "Poor expertise of online support              19\n",
      "Deceased                                       6\n",
      "Name: Churn_Reason, dtype: int64\n",
      "\n"
     ]
    }
   ],
   "source": [
    "for column in telco_churn.columns.values.tolist():\n",
    "    print(column)\n",
    "    print (telco_churn[column].value_counts())\n",
    "    print(\"\")"
   ]
  },
  {
   "cell_type": "markdown",
   "id": "1125510e",
   "metadata": {},
   "source": [
    "#### City Encoding\n",
    "\n",
    "'City' has categorical values so categorical or 'one-hot' encoding will be used here to assign different numeric values for each option (in this case there are 1129 different outcomes for city)."
   ]
  },
  {
   "cell_type": "code",
   "execution_count": 19,
   "id": "f5220764",
   "metadata": {},
   "outputs": [
    {
     "name": "stdout",
     "output_type": "stream",
     "text": [
      "['Los_Angeles' 'Los_Angeles' 'Los_Angeles' ... 'Amboy' 'Angelus_Oaks'\n",
      " 'Apple_Valley']\n"
     ]
    }
   ],
   "source": [
    "data_city = telco_churn['City']\n",
    "values_city = array(data_city)\n",
    "print(values_city)"
   ]
  },
  {
   "cell_type": "code",
   "execution_count": 20,
   "id": "e635832b",
   "metadata": {},
   "outputs": [
    {
     "name": "stdout",
     "output_type": "stream",
     "text": [
      "[562 562 562 ...  22  26  32]\n"
     ]
    }
   ],
   "source": [
    "# integer encode\n",
    "label_encoder = LabelEncoder()\n",
    "integer_encoded_city = label_encoder.fit_transform(values_city)\n",
    "print(integer_encoded_city)"
   ]
  },
  {
   "cell_type": "code",
   "execution_count": 21,
   "id": "6f94ead5",
   "metadata": {},
   "outputs": [
    {
     "name": "stdout",
     "output_type": "stream",
     "text": [
      "[[0. 0. 0. ... 0. 0. 0.]\n",
      " [0. 0. 0. ... 0. 0. 0.]\n",
      " [0. 0. 0. ... 0. 0. 0.]\n",
      " ...\n",
      " [0. 0. 0. ... 0. 0. 0.]\n",
      " [0. 0. 0. ... 0. 0. 0.]\n",
      " [0. 0. 0. ... 0. 0. 0.]]\n"
     ]
    },
    {
     "name": "stderr",
     "output_type": "stream",
     "text": [
      "C:\\Users\\lynst\\anaconda3\\lib\\site-packages\\sklearn\\preprocessing\\_encoders.py:972: FutureWarning: `sparse` was renamed to `sparse_output` in version 1.2 and will be removed in 1.4. `sparse_output` is ignored unless you leave `sparse` to its default value.\n",
      "  warnings.warn(\n"
     ]
    }
   ],
   "source": [
    "# encode the values from internet service to numbers\n",
    "onehot_encoder = OneHotEncoder(sparse=False)\n",
    "integer_encoded_city = integer_encoded_city.reshape(len(integer_encoded_city), 1)\n",
    "onehot_encoded_city = onehot_encoder.fit_transform(integer_encoded_city)\n",
    "print(onehot_encoded_city)"
   ]
  },
  {
   "cell_type": "code",
   "execution_count": 22,
   "id": "dd8754d2",
   "metadata": {},
   "outputs": [
    {
     "name": "stdout",
     "output_type": "stream",
     "text": [
      "['Los_Angeles']\n"
     ]
    }
   ],
   "source": [
    "# invert first example\n",
    "inverted = label_encoder.inverse_transform([argmax(onehot_encoded_city[0, :])])\n",
    "print(inverted)"
   ]
  },
  {
   "cell_type": "code",
   "execution_count": 23,
   "id": "2b4eadc3-c734-4350-afcc-6af18e4b0c8e",
   "metadata": {},
   "outputs": [
    {
     "name": "stdout",
     "output_type": "stream",
     "text": [
      "['DSL' 'Fiber optic' 'Fiber optic' ... 'Fiber optic' 'DSL' 'Fiber optic']\n"
     ]
    }
   ],
   "source": [
    "data_internet = telco_churn['Internet_Service']\n",
    "values_internet = array(data_internet)\n",
    "print(values_internet)"
   ]
  },
  {
   "cell_type": "code",
   "execution_count": 24,
   "id": "66f64abf-8ec5-4c6d-903c-67bd360df19f",
   "metadata": {},
   "outputs": [
    {
     "name": "stdout",
     "output_type": "stream",
     "text": [
      "[0 1 1 ... 1 0 1]\n"
     ]
    }
   ],
   "source": [
    "# integer encode\n",
    "label_encoder = LabelEncoder()\n",
    "integer_encoded_internet = label_encoder.fit_transform(values_internet)\n",
    "print(integer_encoded_internet)"
   ]
  },
  {
   "cell_type": "code",
   "execution_count": 25,
   "id": "c3cb3627-9936-4f6c-8215-43c88dd4b446",
   "metadata": {},
   "outputs": [
    {
     "name": "stdout",
     "output_type": "stream",
     "text": [
      "[[1. 0. 0.]\n",
      " [0. 1. 0.]\n",
      " [0. 1. 0.]\n",
      " ...\n",
      " [0. 1. 0.]\n",
      " [1. 0. 0.]\n",
      " [0. 1. 0.]]\n"
     ]
    },
    {
     "name": "stderr",
     "output_type": "stream",
     "text": [
      "C:\\Users\\lynst\\anaconda3\\lib\\site-packages\\sklearn\\preprocessing\\_encoders.py:972: FutureWarning: `sparse` was renamed to `sparse_output` in version 1.2 and will be removed in 1.4. `sparse_output` is ignored unless you leave `sparse` to its default value.\n",
      "  warnings.warn(\n"
     ]
    }
   ],
   "source": [
    "# encode the values from internet service to numbers\n",
    "onehot_encoder = OneHotEncoder(sparse=False)\n",
    "integer_encoded_internet = integer_encoded_internet.reshape(len(integer_encoded_internet), 1)\n",
    "onehot_encoded_internet_service = onehot_encoder.fit_transform(integer_encoded_internet)\n",
    "print(onehot_encoded_internet_service)"
   ]
  },
  {
   "cell_type": "markdown",
   "id": "b8f6f10b-7e34-43e1-940a-1b4e038521be",
   "metadata": {},
   "source": [
    "Test the first value."
   ]
  },
  {
   "cell_type": "code",
   "execution_count": 26,
   "id": "76a01cda-cde7-4c0f-a9d3-81c5467a0704",
   "metadata": {},
   "outputs": [
    {
     "name": "stdout",
     "output_type": "stream",
     "text": [
      "['DSL']\n"
     ]
    }
   ],
   "source": [
    "# invert first example\n",
    "inverted = label_encoder.inverse_transform([argmax(onehot_encoded_internet_service[0, :])])\n",
    "print(inverted)"
   ]
  },
  {
   "cell_type": "markdown",
   "id": "6dae90c3-a529-4e77-8de0-9b4606ac9e0d",
   "metadata": {},
   "source": [
    "#### Contract Encoding"
   ]
  },
  {
   "cell_type": "code",
   "execution_count": 27,
   "id": "1133bb58-dcb2-4327-a558-ede0b5320db2",
   "metadata": {},
   "outputs": [
    {
     "name": "stdout",
     "output_type": "stream",
     "text": [
      "['Month-to-month' 'Month-to-month' 'Month-to-month' ... 'One year'\n",
      " 'Month-to-month' 'Two year']\n"
     ]
    }
   ],
   "source": [
    "data_contract = telco_churn['Contract']\n",
    "values_contract = array(data_contract)\n",
    "print(values_contract)"
   ]
  },
  {
   "cell_type": "code",
   "execution_count": 28,
   "id": "8ba33e57-e643-40ab-9cc2-d3a0d7a39a29",
   "metadata": {},
   "outputs": [
    {
     "name": "stdout",
     "output_type": "stream",
     "text": [
      "[0 0 0 ... 1 0 2]\n"
     ]
    }
   ],
   "source": [
    "# integer encode\n",
    "label_encoder = LabelEncoder()\n",
    "integer_encoded_contract = label_encoder.fit_transform(values_contract)\n",
    "print(integer_encoded_contract)"
   ]
  },
  {
   "cell_type": "code",
   "execution_count": 29,
   "id": "983fcb5a-9fe6-415c-b10c-b7fbded9d060",
   "metadata": {},
   "outputs": [
    {
     "name": "stdout",
     "output_type": "stream",
     "text": [
      "[[1. 0. 0.]\n",
      " [1. 0. 0.]\n",
      " [1. 0. 0.]\n",
      " ...\n",
      " [0. 1. 0.]\n",
      " [1. 0. 0.]\n",
      " [0. 0. 1.]]\n"
     ]
    },
    {
     "name": "stderr",
     "output_type": "stream",
     "text": [
      "C:\\Users\\lynst\\anaconda3\\lib\\site-packages\\sklearn\\preprocessing\\_encoders.py:972: FutureWarning: `sparse` was renamed to `sparse_output` in version 1.2 and will be removed in 1.4. `sparse_output` is ignored unless you leave `sparse` to its default value.\n",
      "  warnings.warn(\n"
     ]
    }
   ],
   "source": [
    "# encode the values from internet service to numbers\n",
    "onehot_encoder = OneHotEncoder(sparse=False)\n",
    "integer_encoded_contract = integer_encoded_contract.reshape(len(integer_encoded_contract), 1)\n",
    "onehot_encoded_contract = onehot_encoder.fit_transform(integer_encoded_contract)\n",
    "print(onehot_encoded_contract)"
   ]
  },
  {
   "cell_type": "markdown",
   "id": "f94f9c5d-e291-4c56-ac6c-de701b2557de",
   "metadata": {},
   "source": [
    "Test the first value again."
   ]
  },
  {
   "cell_type": "code",
   "execution_count": 30,
   "id": "11a01032-bea2-464d-9c5d-aa62340f649b",
   "metadata": {},
   "outputs": [
    {
     "name": "stdout",
     "output_type": "stream",
     "text": [
      "['Month-to-month']\n"
     ]
    }
   ],
   "source": [
    "# invert first example\n",
    "inverted = label_encoder.inverse_transform([argmax(onehot_encoded_internet_service[0, :])])\n",
    "print(inverted)"
   ]
  },
  {
   "cell_type": "markdown",
   "id": "a2191b15",
   "metadata": {},
   "source": [
    "#### Payment Method Encoding"
   ]
  },
  {
   "cell_type": "code",
   "execution_count": 31,
   "id": "018e2719",
   "metadata": {},
   "outputs": [
    {
     "name": "stdout",
     "output_type": "stream",
     "text": [
      "['Mailed check' 'Electronic check' 'Electronic check' ...\n",
      " 'Credit card (automatic)' 'Electronic check' 'Bank transfer (automatic)']\n"
     ]
    }
   ],
   "source": [
    "data_payment = telco_churn['Payment_Method']\n",
    "values_payment = array(data_payment)\n",
    "print(values_payment)"
   ]
  },
  {
   "cell_type": "code",
   "execution_count": 32,
   "id": "fe3049e6",
   "metadata": {},
   "outputs": [
    {
     "name": "stdout",
     "output_type": "stream",
     "text": [
      "[3 2 2 ... 1 2 0]\n"
     ]
    }
   ],
   "source": [
    "# integer encode\n",
    "label_encoder = LabelEncoder()\n",
    "integer_encoded_payment = label_encoder.fit_transform(values_payment)\n",
    "print(integer_encoded_payment)"
   ]
  },
  {
   "cell_type": "code",
   "execution_count": 33,
   "id": "9f7d8092",
   "metadata": {},
   "outputs": [
    {
     "name": "stdout",
     "output_type": "stream",
     "text": [
      "[[0. 0. 0. 1.]\n",
      " [0. 0. 1. 0.]\n",
      " [0. 0. 1. 0.]\n",
      " ...\n",
      " [0. 1. 0. 0.]\n",
      " [0. 0. 1. 0.]\n",
      " [1. 0. 0. 0.]]\n"
     ]
    },
    {
     "name": "stderr",
     "output_type": "stream",
     "text": [
      "C:\\Users\\lynst\\anaconda3\\lib\\site-packages\\sklearn\\preprocessing\\_encoders.py:972: FutureWarning: `sparse` was renamed to `sparse_output` in version 1.2 and will be removed in 1.4. `sparse_output` is ignored unless you leave `sparse` to its default value.\n",
      "  warnings.warn(\n"
     ]
    }
   ],
   "source": [
    "# binary encode\n",
    "onehot_encoder = OneHotEncoder(sparse=False)\n",
    "integer_encoded_payment = integer_encoded_payment.reshape(len(integer_encoded_payment), 1)\n",
    "onehot_encoded_payment = onehot_encoder.fit_transform(integer_encoded_payment)\n",
    "print(onehot_encoded_payment)"
   ]
  },
  {
   "cell_type": "code",
   "execution_count": 34,
   "id": "003b5f72",
   "metadata": {},
   "outputs": [
    {
     "name": "stdout",
     "output_type": "stream",
     "text": [
      "['Mailed check']\n"
     ]
    }
   ],
   "source": [
    "# invert first example\n",
    "inverted = label_encoder.inverse_transform([argmax(onehot_encoded_payment[0, :])])\n",
    "print(inverted)"
   ]
  },
  {
   "cell_type": "markdown",
   "id": "68627607",
   "metadata": {},
   "source": [
    "#### Churn Reason Encoding"
   ]
  },
  {
   "cell_type": "code",
   "execution_count": 35,
   "id": "19542c6c",
   "metadata": {},
   "outputs": [
    {
     "name": "stdout",
     "output_type": "stream",
     "text": [
      "['Competitor made better offer' 'Moved' 'Moved' ... nan nan nan]\n"
     ]
    }
   ],
   "source": [
    "data_reason = telco_churn['Churn_Reason']\n",
    "values_reason = array(data_reason)\n",
    "print(values_reason)"
   ]
  },
  {
   "cell_type": "code",
   "execution_count": 36,
   "id": "7faa4f06",
   "metadata": {},
   "outputs": [
    {
     "name": "stdout",
     "output_type": "stream",
     "text": [
      "[ 3 13 13 ... 20 20 20]\n"
     ]
    }
   ],
   "source": [
    "# integer encode\n",
    "label_encoder = LabelEncoder()\n",
    "integer_encoded_reason = label_encoder.fit_transform(values_reason)\n",
    "print(integer_encoded_reason)"
   ]
  },
  {
   "cell_type": "code",
   "execution_count": 37,
   "id": "2ba67779",
   "metadata": {},
   "outputs": [
    {
     "name": "stdout",
     "output_type": "stream",
     "text": [
      "[[0. 0. 0. ... 0. 0. 0.]\n",
      " [0. 0. 0. ... 0. 0. 0.]\n",
      " [0. 0. 0. ... 0. 0. 0.]\n",
      " ...\n",
      " [0. 0. 0. ... 0. 0. 1.]\n",
      " [0. 0. 0. ... 0. 0. 1.]\n",
      " [0. 0. 0. ... 0. 0. 1.]]\n"
     ]
    },
    {
     "name": "stderr",
     "output_type": "stream",
     "text": [
      "C:\\Users\\lynst\\anaconda3\\lib\\site-packages\\sklearn\\preprocessing\\_encoders.py:972: FutureWarning: `sparse` was renamed to `sparse_output` in version 1.2 and will be removed in 1.4. `sparse_output` is ignored unless you leave `sparse` to its default value.\n",
      "  warnings.warn(\n"
     ]
    }
   ],
   "source": [
    "# binary encode\n",
    "onehot_encoder = OneHotEncoder(sparse=False)\n",
    "integer_encoded_reason = integer_encoded_reason.reshape(len(integer_encoded_reason), 1)\n",
    "onehot_encoded_reason = onehot_encoder.fit_transform(integer_encoded_reason)\n",
    "print(onehot_encoded_reason)"
   ]
  },
  {
   "cell_type": "code",
   "execution_count": 38,
   "id": "354cdbde",
   "metadata": {},
   "outputs": [
    {
     "name": "stdout",
     "output_type": "stream",
     "text": [
      "['Competitor made better offer']\n"
     ]
    }
   ],
   "source": [
    "# invert first example\n",
    "inverted = label_encoder.inverse_transform([argmax(onehot_encoded_reason[0, :])])\n",
    "print(inverted)"
   ]
  },
  {
   "cell_type": "markdown",
   "id": "f4edbf6e",
   "metadata": {},
   "source": [
    "### Binary Encoding"
   ]
  },
  {
   "cell_type": "code",
   "execution_count": 39,
   "id": "77ae463e-b175-455d-90e1-c946f6d87230",
   "metadata": {},
   "outputs": [],
   "source": [
    "security_dict = {'Yes': 1, 'No': 0}\n",
    "telco_churn['Online_Security'] = telco_churn['Online_Security'].map(security_dict)"
   ]
  },
  {
   "cell_type": "code",
   "execution_count": 40,
   "id": "46fe47bd-1d69-4b74-91c8-b1d5487ecaff",
   "metadata": {},
   "outputs": [],
   "source": [
    "backup_dict = {'Yes':1, 'No':0}\n",
    "telco_churn['Online_Backup'] = telco_churn['Online_Backup'].map(backup_dict)"
   ]
  },
  {
   "cell_type": "code",
   "execution_count": 41,
   "id": "8409fcf5-6266-43dc-84ea-fc3a3dae9afe",
   "metadata": {},
   "outputs": [],
   "source": [
    "device_protection_dict = {'Yes': 1, 'No': 0}\n",
    "telco_churn['Device_Protection'] = telco_churn['Device_Protection'].map(device_protection_dict)"
   ]
  },
  {
   "cell_type": "code",
   "execution_count": 42,
   "id": "03aeb13a-f5cd-4493-8c4c-04c3579fd11a",
   "metadata": {},
   "outputs": [],
   "source": [
    "tech_support_dict = {'Yes': 1, 'No': 0}\n",
    "telco_churn['Tech_Support'] = telco_churn['Tech_Support'].map(tech_support_dict)"
   ]
  },
  {
   "cell_type": "code",
   "execution_count": 43,
   "id": "3e36f617-b636-47f2-b1e9-9a93a5eb3f06",
   "metadata": {},
   "outputs": [],
   "source": [
    "stream_tv_dict = {'Yes': 1, 'No': 0}\n",
    "telco_churn['Streaming_TV'] = telco_churn['Streaming_TV'].map(stream_tv_dict)"
   ]
  },
  {
   "cell_type": "code",
   "execution_count": 44,
   "id": "1d9ef39c-7d50-4d3b-9010-2181a95ca3f9",
   "metadata": {},
   "outputs": [],
   "source": [
    "stream_movies_dict = {'Yes': 1, 'No': 0}\n",
    "telco_churn['Streaming_Movies'] = telco_churn['Streaming_Movies'].map(stream_movies_dict)"
   ]
  },
  {
   "cell_type": "code",
   "execution_count": 45,
   "id": "2817912e-d4f8-48b1-be21-1e4ee8915f1b",
   "metadata": {},
   "outputs": [
    {
     "name": "stdout",
     "output_type": "stream",
     "text": [
      "['Month-to-month' 'Month-to-month' 'Month-to-month' ... 'One year'\n",
      " 'Month-to-month' 'Two year']\n"
     ]
    }
   ],
   "source": [
    "data = telco_churn['Contract']\n",
    "values = array(data)\n",
    "print(values)"
   ]
  },
  {
   "cell_type": "code",
   "execution_count": 46,
   "id": "ed9a6068-6989-4625-b97e-25369ddc1fa9",
   "metadata": {},
   "outputs": [],
   "source": [
    "paperless_bill_dict = {'Yes': 1, 'No': 0}\n",
    "telco_churn['Paperless_Billing'] = telco_churn['Paperless_Billing'].map(paperless_bill_dict)"
   ]
  },
  {
   "cell_type": "markdown",
   "id": "9baa2140-87f7-48b3-8d9e-c2d64e5a973b",
   "metadata": {},
   "source": [
    "'Payment_Method' also has categorical features which can be converted using one-hot encoding."
   ]
  },
  {
   "cell_type": "markdown",
   "id": "39883ebf-8ac2-48de-bde1-addc9dea4932",
   "metadata": {},
   "source": [
    "'Monthly_Charges' are already of float64 datatype, but 'Total_Charges' aren't so they need to be converted from string object to float64."
   ]
  },
  {
   "cell_type": "code",
   "execution_count": 47,
   "id": "8adf571e-15d1-498a-b910-003cc822f925",
   "metadata": {},
   "outputs": [
    {
     "data": {
      "text/plain": [
       "0     108.15\n",
       "1     151.65\n",
       "2     820.50\n",
       "3    3046.05\n",
       "4    5036.30\n",
       "Name: Total_Charges, dtype: float64"
      ]
     },
     "execution_count": 47,
     "metadata": {},
     "output_type": "execute_result"
    }
   ],
   "source": [
    "telco_churn['Total_Charges'] = pd.to_numeric(telco_churn['Total_Charges'], errors='coerce')\n",
    "telco_churn['Total_Charges'].head()"
   ]
  },
  {
   "cell_type": "markdown",
   "id": "12003d76-9eb6-428f-a07c-5607cdaf83af",
   "metadata": {},
   "source": [
    "The 'Churn_Value' will be designated as the target vector for the purpose of my model and it currently has a simple integer datatype labeled as '1' for churn and '0' for no churn. I can already use these labels.\n",
    "\n",
    "'Churn_Score' remains as an integer. It should be highly correlated with 'Churn_Value' so I will check for this next.\n",
    "\n",
    "Finally, 'CLTV' which is the Customer Lifetime Value is an indicator of the customers importance during this period. This value should be compared to 'Churn_Value' or 'Churn_Score' for any association.\n",
    "\n",
    "In addition to converting all the binary decision outcomes for certain columns above, it may be more prudent to create a for loop to iterate through these columns in a subset to speed up the algorithm."
   ]
  },
  {
   "cell_type": "code",
   "execution_count": 48,
   "id": "e5edb2ff-9b58-4f28-9ad4-e63ed980a0b2",
   "metadata": {
    "tags": []
   },
   "outputs": [],
   "source": [
    "# only include all columns with binary outcomes to be converted to integer values\n",
    "# telco_subset = telco_churn['Gender','Senior_Citizen','Partner','Dependents', 'Phone_Service','Multiple_Lines','Online_Security','Online_Backup','Device_Protection','Tech_Support','Streaming_TV','Streaming_Movies','Paperless_Billing']\n",
    "# i=0\n",
    "# define a new function to iterate through the data values and change them\n",
    "# for i in telco_subset:\n",
    "    # dict = {'Yes': 1, 'No': 0}\n",
    "    # telco_subset = telco_subset.map(dict)\n",
    "    # i+=1"
   ]
  },
  {
   "cell_type": "markdown",
   "id": "ece802f5-d982-4de7-af73-762cfc88e066",
   "metadata": {},
   "source": [
    "### Identify Missing Values\n",
    "Looking for missing values and removing them is the next phase, although it may be better to replace them with 0, or impute average values. First I want to calculate the number of entries."
   ]
  },
  {
   "cell_type": "code",
   "execution_count": 49,
   "id": "dd5e46c5-0786-4bb7-bae1-93e8b9fde993",
   "metadata": {
    "tags": []
   },
   "outputs": [
    {
     "data": {
      "text/plain": [
       "RangeIndex(start=0, stop=7043, step=1)"
      ]
     },
     "execution_count": 49,
     "metadata": {},
     "output_type": "execute_result"
    }
   ],
   "source": [
    "telco_churn.index"
   ]
  },
  {
   "cell_type": "markdown",
   "id": "1486f1df-b228-40dd-904d-e3ad51b54fd6",
   "metadata": {},
   "source": [
    "There are a total of 7043 rows in the dataset. Having removed the 'CustomerID' column I want to view all the columns in the dataframe once more."
   ]
  },
  {
   "cell_type": "code",
   "execution_count": 50,
   "id": "61ad30f4-5bfe-4969-a8a4-ed239c08b2fc",
   "metadata": {
    "tags": []
   },
   "outputs": [
    {
     "data": {
      "text/plain": [
       "Index(['City', 'Lat_Long', 'Gender', 'Senior_Citizen', 'Partner', 'Dependents',\n",
       "       'Tenure_Months', 'Phone_Service', 'Multiple_Lines', 'Internet_Service',\n",
       "       'Online_Security', 'Online_Backup', 'Device_Protection', 'Tech_Support',\n",
       "       'Streaming_TV', 'Streaming_Movies', 'Contract', 'Paperless_Billing',\n",
       "       'Payment_Method', 'Monthly_Charges', 'Total_Charges', 'Churn_Value',\n",
       "       'Churn_Score', 'CLTV', 'Churn_Reason'],\n",
       "      dtype='object')"
      ]
     },
     "execution_count": 50,
     "metadata": {},
     "output_type": "execute_result"
    }
   ],
   "source": [
    "telco_churn.columns"
   ]
  },
  {
   "cell_type": "code",
   "execution_count": 51,
   "id": "429d6d07-06a8-4ac5-9650-1897b23bb857",
   "metadata": {
    "tags": []
   },
   "outputs": [
    {
     "name": "stdout",
     "output_type": "stream",
     "text": [
      "City                    0\n",
      "Lat_Long                0\n",
      "Gender                  0\n",
      "Senior_Citizen          0\n",
      "Partner                 0\n",
      "Dependents              0\n",
      "Tenure_Months           0\n",
      "Phone_Service           0\n",
      "Multiple_Lines        682\n",
      "Internet_Service        0\n",
      "Online_Security      1526\n",
      "Online_Backup        1526\n",
      "Device_Protection    1526\n",
      "Tech_Support         1526\n",
      "Streaming_TV         1526\n",
      "Streaming_Movies     1526\n",
      "Contract                0\n",
      "Paperless_Billing       0\n",
      "Payment_Method          0\n",
      "Monthly_Charges         0\n",
      "Total_Charges          11\n",
      "Churn_Value             0\n",
      "Churn_Score             0\n",
      "CLTV                    0\n",
      "Churn_Reason         5174\n",
      "dtype: int64\n"
     ]
    }
   ],
   "source": [
    "telco_missing = pd.isnull(telco_churn).sum()\n",
    "print(telco_missing)"
   ]
  },
  {
   "cell_type": "markdown",
   "id": "b3e7aaa3-091b-44c4-9873-961d51cf13cb",
   "metadata": {},
   "source": [
    "Within the dataframe I need to count the location of the rows where the 'Total_Charges' column which have no entry is identical to 'True'. This counts the number of blank spaces in the particular column."
   ]
  },
  {
   "cell_type": "code",
   "execution_count": 52,
   "id": "64f67ce8-c424-4038-9b22-a97839121034",
   "metadata": {
    "tags": []
   },
   "outputs": [
    {
     "data": {
      "text/plain": [
       "0"
      ]
     },
     "execution_count": 52,
     "metadata": {},
     "output_type": "execute_result"
    }
   ],
   "source": [
    "len(telco_churn.loc[telco_churn['Total_Charges'] == ' '])"
   ]
  },
  {
   "cell_type": "markdown",
   "id": "e76124d4-373e-4c44-8ac2-5e80df764d6c",
   "metadata": {},
   "source": [
    "So this means that none of the entries have any blank spaces. Try printing these entries out."
   ]
  },
  {
   "cell_type": "code",
   "execution_count": 53,
   "id": "6c88332b-b903-43c3-b38f-10dd5525990e",
   "metadata": {
    "tags": []
   },
   "outputs": [
    {
     "data": {
      "text/html": [
       "<div>\n",
       "<style scoped>\n",
       "    .dataframe tbody tr th:only-of-type {\n",
       "        vertical-align: middle;\n",
       "    }\n",
       "\n",
       "    .dataframe tbody tr th {\n",
       "        vertical-align: top;\n",
       "    }\n",
       "\n",
       "    .dataframe thead th {\n",
       "        text-align: right;\n",
       "    }\n",
       "</style>\n",
       "<table border=\"1\" class=\"dataframe\">\n",
       "  <thead>\n",
       "    <tr style=\"text-align: right;\">\n",
       "      <th></th>\n",
       "      <th>City</th>\n",
       "      <th>Lat_Long</th>\n",
       "      <th>Gender</th>\n",
       "      <th>Senior_Citizen</th>\n",
       "      <th>Partner</th>\n",
       "      <th>Dependents</th>\n",
       "      <th>Tenure_Months</th>\n",
       "      <th>Phone_Service</th>\n",
       "      <th>Multiple_Lines</th>\n",
       "      <th>Internet_Service</th>\n",
       "      <th>...</th>\n",
       "      <th>Streaming_Movies</th>\n",
       "      <th>Contract</th>\n",
       "      <th>Paperless_Billing</th>\n",
       "      <th>Payment_Method</th>\n",
       "      <th>Monthly_Charges</th>\n",
       "      <th>Total_Charges</th>\n",
       "      <th>Churn_Value</th>\n",
       "      <th>Churn_Score</th>\n",
       "      <th>CLTV</th>\n",
       "      <th>Churn_Reason</th>\n",
       "    </tr>\n",
       "  </thead>\n",
       "  <tbody>\n",
       "  </tbody>\n",
       "</table>\n",
       "<p>0 rows × 25 columns</p>\n",
       "</div>"
      ],
      "text/plain": [
       "Empty DataFrame\n",
       "Columns: [City, Lat_Long, Gender, Senior_Citizen, Partner, Dependents, Tenure_Months, Phone_Service, Multiple_Lines, Internet_Service, Online_Security, Online_Backup, Device_Protection, Tech_Support, Streaming_TV, Streaming_Movies, Contract, Paperless_Billing, Payment_Method, Monthly_Charges, Total_Charges, Churn_Value, Churn_Score, CLTV, Churn_Reason]\n",
       "Index: []\n",
       "\n",
       "[0 rows x 25 columns]"
      ]
     },
     "execution_count": 53,
     "metadata": {},
     "output_type": "execute_result"
    }
   ],
   "source": [
    "# print these rows\n",
    "telco_churn.loc[telco_churn['Total_Charges'] == ' ']"
   ]
  },
  {
   "cell_type": "markdown",
   "id": "f5540901-a3e0-4604-b4b6-687caecd54b1",
   "metadata": {},
   "source": [
    "Perhaps they contain another value such as NaN, or 0 already. \n",
    "\n",
    "Using the isnull( ) method I may be able to find the sum of these entries and print them out."
   ]
  },
  {
   "cell_type": "code",
   "execution_count": 54,
   "id": "a2db728c-d1e4-44da-8f3d-b6242669b4e7",
   "metadata": {},
   "outputs": [
    {
     "data": {
      "text/plain": [
       "11"
      ]
     },
     "execution_count": 54,
     "metadata": {},
     "output_type": "execute_result"
    }
   ],
   "source": [
    "telco_churn['Total_Charges'].isnull().sum()"
   ]
  },
  {
   "cell_type": "code",
   "execution_count": 55,
   "id": "114de391-ebda-4035-90d1-3c4446022e63",
   "metadata": {
    "tags": []
   },
   "outputs": [
    {
     "data": {
      "text/html": [
       "<div>\n",
       "<style scoped>\n",
       "    .dataframe tbody tr th:only-of-type {\n",
       "        vertical-align: middle;\n",
       "    }\n",
       "\n",
       "    .dataframe tbody tr th {\n",
       "        vertical-align: top;\n",
       "    }\n",
       "\n",
       "    .dataframe thead th {\n",
       "        text-align: right;\n",
       "    }\n",
       "</style>\n",
       "<table border=\"1\" class=\"dataframe\">\n",
       "  <thead>\n",
       "    <tr style=\"text-align: right;\">\n",
       "      <th></th>\n",
       "      <th>City</th>\n",
       "      <th>Lat_Long</th>\n",
       "      <th>Gender</th>\n",
       "      <th>Senior_Citizen</th>\n",
       "      <th>Partner</th>\n",
       "      <th>Dependents</th>\n",
       "      <th>Tenure_Months</th>\n",
       "      <th>Phone_Service</th>\n",
       "      <th>Multiple_Lines</th>\n",
       "      <th>Internet_Service</th>\n",
       "      <th>...</th>\n",
       "      <th>Streaming_Movies</th>\n",
       "      <th>Contract</th>\n",
       "      <th>Paperless_Billing</th>\n",
       "      <th>Payment_Method</th>\n",
       "      <th>Monthly_Charges</th>\n",
       "      <th>Total_Charges</th>\n",
       "      <th>Churn_Value</th>\n",
       "      <th>Churn_Score</th>\n",
       "      <th>CLTV</th>\n",
       "      <th>Churn_Reason</th>\n",
       "    </tr>\n",
       "  </thead>\n",
       "  <tbody>\n",
       "    <tr>\n",
       "      <th>2234</th>\n",
       "      <td>San_Bernardino</td>\n",
       "      <td>34.084909, -117.258107</td>\n",
       "      <td>0</td>\n",
       "      <td>0</td>\n",
       "      <td>1</td>\n",
       "      <td>0</td>\n",
       "      <td>0</td>\n",
       "      <td>0</td>\n",
       "      <td>NaN</td>\n",
       "      <td>DSL</td>\n",
       "      <td>...</td>\n",
       "      <td>0.0</td>\n",
       "      <td>Two year</td>\n",
       "      <td>1</td>\n",
       "      <td>Bank transfer (automatic)</td>\n",
       "      <td>52.55</td>\n",
       "      <td>NaN</td>\n",
       "      <td>0</td>\n",
       "      <td>36</td>\n",
       "      <td>2578</td>\n",
       "      <td>NaN</td>\n",
       "    </tr>\n",
       "    <tr>\n",
       "      <th>2438</th>\n",
       "      <td>Independence</td>\n",
       "      <td>36.869584, -118.189241</td>\n",
       "      <td>1</td>\n",
       "      <td>0</td>\n",
       "      <td>0</td>\n",
       "      <td>0</td>\n",
       "      <td>0</td>\n",
       "      <td>1</td>\n",
       "      <td>0.0</td>\n",
       "      <td>No</td>\n",
       "      <td>...</td>\n",
       "      <td>NaN</td>\n",
       "      <td>Two year</td>\n",
       "      <td>0</td>\n",
       "      <td>Mailed check</td>\n",
       "      <td>20.25</td>\n",
       "      <td>NaN</td>\n",
       "      <td>0</td>\n",
       "      <td>68</td>\n",
       "      <td>5504</td>\n",
       "      <td>NaN</td>\n",
       "    </tr>\n",
       "    <tr>\n",
       "      <th>2568</th>\n",
       "      <td>San_Mateo</td>\n",
       "      <td>37.590421, -122.306467</td>\n",
       "      <td>0</td>\n",
       "      <td>0</td>\n",
       "      <td>1</td>\n",
       "      <td>0</td>\n",
       "      <td>0</td>\n",
       "      <td>1</td>\n",
       "      <td>0.0</td>\n",
       "      <td>DSL</td>\n",
       "      <td>...</td>\n",
       "      <td>1.0</td>\n",
       "      <td>Two year</td>\n",
       "      <td>0</td>\n",
       "      <td>Mailed check</td>\n",
       "      <td>80.85</td>\n",
       "      <td>NaN</td>\n",
       "      <td>0</td>\n",
       "      <td>45</td>\n",
       "      <td>2048</td>\n",
       "      <td>NaN</td>\n",
       "    </tr>\n",
       "    <tr>\n",
       "      <th>2667</th>\n",
       "      <td>Cupertino</td>\n",
       "      <td>37.306612, -122.080621</td>\n",
       "      <td>1</td>\n",
       "      <td>0</td>\n",
       "      <td>1</td>\n",
       "      <td>1</td>\n",
       "      <td>0</td>\n",
       "      <td>1</td>\n",
       "      <td>1.0</td>\n",
       "      <td>No</td>\n",
       "      <td>...</td>\n",
       "      <td>NaN</td>\n",
       "      <td>Two year</td>\n",
       "      <td>0</td>\n",
       "      <td>Mailed check</td>\n",
       "      <td>25.75</td>\n",
       "      <td>NaN</td>\n",
       "      <td>0</td>\n",
       "      <td>48</td>\n",
       "      <td>4950</td>\n",
       "      <td>NaN</td>\n",
       "    </tr>\n",
       "    <tr>\n",
       "      <th>2856</th>\n",
       "      <td>Redcrest</td>\n",
       "      <td>40.363446, -123.835041</td>\n",
       "      <td>0</td>\n",
       "      <td>0</td>\n",
       "      <td>1</td>\n",
       "      <td>0</td>\n",
       "      <td>0</td>\n",
       "      <td>0</td>\n",
       "      <td>NaN</td>\n",
       "      <td>DSL</td>\n",
       "      <td>...</td>\n",
       "      <td>0.0</td>\n",
       "      <td>Two year</td>\n",
       "      <td>0</td>\n",
       "      <td>Credit card (automatic)</td>\n",
       "      <td>56.05</td>\n",
       "      <td>NaN</td>\n",
       "      <td>0</td>\n",
       "      <td>30</td>\n",
       "      <td>4740</td>\n",
       "      <td>NaN</td>\n",
       "    </tr>\n",
       "    <tr>\n",
       "      <th>4331</th>\n",
       "      <td>Los_Angeles</td>\n",
       "      <td>34.089953, -118.294824</td>\n",
       "      <td>1</td>\n",
       "      <td>0</td>\n",
       "      <td>1</td>\n",
       "      <td>1</td>\n",
       "      <td>0</td>\n",
       "      <td>1</td>\n",
       "      <td>0.0</td>\n",
       "      <td>No</td>\n",
       "      <td>...</td>\n",
       "      <td>NaN</td>\n",
       "      <td>Two year</td>\n",
       "      <td>0</td>\n",
       "      <td>Mailed check</td>\n",
       "      <td>19.85</td>\n",
       "      <td>NaN</td>\n",
       "      <td>0</td>\n",
       "      <td>53</td>\n",
       "      <td>2019</td>\n",
       "      <td>NaN</td>\n",
       "    </tr>\n",
       "    <tr>\n",
       "      <th>4687</th>\n",
       "      <td>Sun_City</td>\n",
       "      <td>33.739412, -117.173334</td>\n",
       "      <td>1</td>\n",
       "      <td>0</td>\n",
       "      <td>1</td>\n",
       "      <td>1</td>\n",
       "      <td>0</td>\n",
       "      <td>1</td>\n",
       "      <td>1.0</td>\n",
       "      <td>No</td>\n",
       "      <td>...</td>\n",
       "      <td>NaN</td>\n",
       "      <td>Two year</td>\n",
       "      <td>0</td>\n",
       "      <td>Mailed check</td>\n",
       "      <td>25.35</td>\n",
       "      <td>NaN</td>\n",
       "      <td>0</td>\n",
       "      <td>49</td>\n",
       "      <td>2299</td>\n",
       "      <td>NaN</td>\n",
       "    </tr>\n",
       "    <tr>\n",
       "      <th>5104</th>\n",
       "      <td>Ben_Lomond</td>\n",
       "      <td>37.078873, -122.090386</td>\n",
       "      <td>0</td>\n",
       "      <td>0</td>\n",
       "      <td>1</td>\n",
       "      <td>1</td>\n",
       "      <td>0</td>\n",
       "      <td>1</td>\n",
       "      <td>0.0</td>\n",
       "      <td>No</td>\n",
       "      <td>...</td>\n",
       "      <td>NaN</td>\n",
       "      <td>Two year</td>\n",
       "      <td>0</td>\n",
       "      <td>Mailed check</td>\n",
       "      <td>20.00</td>\n",
       "      <td>NaN</td>\n",
       "      <td>0</td>\n",
       "      <td>27</td>\n",
       "      <td>3763</td>\n",
       "      <td>NaN</td>\n",
       "    </tr>\n",
       "    <tr>\n",
       "      <th>5719</th>\n",
       "      <td>La_Verne</td>\n",
       "      <td>34.144703, -117.770299</td>\n",
       "      <td>1</td>\n",
       "      <td>0</td>\n",
       "      <td>1</td>\n",
       "      <td>1</td>\n",
       "      <td>0</td>\n",
       "      <td>1</td>\n",
       "      <td>0.0</td>\n",
       "      <td>No</td>\n",
       "      <td>...</td>\n",
       "      <td>NaN</td>\n",
       "      <td>One year</td>\n",
       "      <td>1</td>\n",
       "      <td>Mailed check</td>\n",
       "      <td>19.70</td>\n",
       "      <td>NaN</td>\n",
       "      <td>0</td>\n",
       "      <td>69</td>\n",
       "      <td>4890</td>\n",
       "      <td>NaN</td>\n",
       "    </tr>\n",
       "    <tr>\n",
       "      <th>6772</th>\n",
       "      <td>Bell</td>\n",
       "      <td>33.970343, -118.171368</td>\n",
       "      <td>0</td>\n",
       "      <td>0</td>\n",
       "      <td>1</td>\n",
       "      <td>1</td>\n",
       "      <td>0</td>\n",
       "      <td>1</td>\n",
       "      <td>1.0</td>\n",
       "      <td>DSL</td>\n",
       "      <td>...</td>\n",
       "      <td>0.0</td>\n",
       "      <td>Two year</td>\n",
       "      <td>0</td>\n",
       "      <td>Mailed check</td>\n",
       "      <td>73.35</td>\n",
       "      <td>NaN</td>\n",
       "      <td>0</td>\n",
       "      <td>44</td>\n",
       "      <td>2342</td>\n",
       "      <td>NaN</td>\n",
       "    </tr>\n",
       "    <tr>\n",
       "      <th>6840</th>\n",
       "      <td>Wilmington</td>\n",
       "      <td>33.782068, -118.262263</td>\n",
       "      <td>1</td>\n",
       "      <td>0</td>\n",
       "      <td>0</td>\n",
       "      <td>1</td>\n",
       "      <td>0</td>\n",
       "      <td>1</td>\n",
       "      <td>1.0</td>\n",
       "      <td>DSL</td>\n",
       "      <td>...</td>\n",
       "      <td>0.0</td>\n",
       "      <td>Two year</td>\n",
       "      <td>1</td>\n",
       "      <td>Bank transfer (automatic)</td>\n",
       "      <td>61.90</td>\n",
       "      <td>NaN</td>\n",
       "      <td>0</td>\n",
       "      <td>65</td>\n",
       "      <td>5188</td>\n",
       "      <td>NaN</td>\n",
       "    </tr>\n",
       "  </tbody>\n",
       "</table>\n",
       "<p>11 rows × 25 columns</p>\n",
       "</div>"
      ],
      "text/plain": [
       "                City                Lat_Long  Gender  Senior_Citizen  Partner  \\\n",
       "2234  San_Bernardino  34.084909, -117.258107       0               0        1   \n",
       "2438    Independence  36.869584, -118.189241       1               0        0   \n",
       "2568       San_Mateo  37.590421, -122.306467       0               0        1   \n",
       "2667       Cupertino  37.306612, -122.080621       1               0        1   \n",
       "2856        Redcrest  40.363446, -123.835041       0               0        1   \n",
       "4331     Los_Angeles  34.089953, -118.294824       1               0        1   \n",
       "4687        Sun_City  33.739412, -117.173334       1               0        1   \n",
       "5104      Ben_Lomond  37.078873, -122.090386       0               0        1   \n",
       "5719        La_Verne  34.144703, -117.770299       1               0        1   \n",
       "6772            Bell  33.970343, -118.171368       0               0        1   \n",
       "6840      Wilmington  33.782068, -118.262263       1               0        0   \n",
       "\n",
       "      Dependents  Tenure_Months  Phone_Service  Multiple_Lines  \\\n",
       "2234           0              0              0             NaN   \n",
       "2438           0              0              1             0.0   \n",
       "2568           0              0              1             0.0   \n",
       "2667           1              0              1             1.0   \n",
       "2856           0              0              0             NaN   \n",
       "4331           1              0              1             0.0   \n",
       "4687           1              0              1             1.0   \n",
       "5104           1              0              1             0.0   \n",
       "5719           1              0              1             0.0   \n",
       "6772           1              0              1             1.0   \n",
       "6840           1              0              1             1.0   \n",
       "\n",
       "     Internet_Service  ...  Streaming_Movies  Contract  Paperless_Billing  \\\n",
       "2234              DSL  ...               0.0  Two year                  1   \n",
       "2438               No  ...               NaN  Two year                  0   \n",
       "2568              DSL  ...               1.0  Two year                  0   \n",
       "2667               No  ...               NaN  Two year                  0   \n",
       "2856              DSL  ...               0.0  Two year                  0   \n",
       "4331               No  ...               NaN  Two year                  0   \n",
       "4687               No  ...               NaN  Two year                  0   \n",
       "5104               No  ...               NaN  Two year                  0   \n",
       "5719               No  ...               NaN  One year                  1   \n",
       "6772              DSL  ...               0.0  Two year                  0   \n",
       "6840              DSL  ...               0.0  Two year                  1   \n",
       "\n",
       "                 Payment_Method  Monthly_Charges  Total_Charges Churn_Value  \\\n",
       "2234  Bank transfer (automatic)            52.55            NaN           0   \n",
       "2438               Mailed check            20.25            NaN           0   \n",
       "2568               Mailed check            80.85            NaN           0   \n",
       "2667               Mailed check            25.75            NaN           0   \n",
       "2856    Credit card (automatic)            56.05            NaN           0   \n",
       "4331               Mailed check            19.85            NaN           0   \n",
       "4687               Mailed check            25.35            NaN           0   \n",
       "5104               Mailed check            20.00            NaN           0   \n",
       "5719               Mailed check            19.70            NaN           0   \n",
       "6772               Mailed check            73.35            NaN           0   \n",
       "6840  Bank transfer (automatic)            61.90            NaN           0   \n",
       "\n",
       "      Churn_Score  CLTV  Churn_Reason  \n",
       "2234           36  2578           NaN  \n",
       "2438           68  5504           NaN  \n",
       "2568           45  2048           NaN  \n",
       "2667           48  4950           NaN  \n",
       "2856           30  4740           NaN  \n",
       "4331           53  2019           NaN  \n",
       "4687           49  2299           NaN  \n",
       "5104           27  3763           NaN  \n",
       "5719           69  4890           NaN  \n",
       "6772           44  2342           NaN  \n",
       "6840           65  5188           NaN  \n",
       "\n",
       "[11 rows x 25 columns]"
      ]
     },
     "execution_count": 55,
     "metadata": {},
     "output_type": "execute_result"
    }
   ],
   "source": [
    "telco_churn[telco_churn['Total_Charges'].isnull()]"
   ]
  },
  {
   "cell_type": "markdown",
   "id": "7c844faf-a931-44bb-9b7d-2462fad055a4",
   "metadata": {},
   "source": [
    "I can see all eleven Null values and decide whether to remove these rows from the dataframe completely, or impute some kind of average value or a 0. In this case they've been assigned values of 'NaN', or 'Not a Number'.\n",
    "\n",
    "I've decided to set these missing values to 0 for now. I can always remove the values later and try running the model again to see if there is any difference to the scoring metric."
   ]
  },
  {
   "cell_type": "code",
   "execution_count": 56,
   "id": "fbe4d789-a8b4-46c5-a4b1-58ff41e06c30",
   "metadata": {},
   "outputs": [],
   "source": [
    "telco_churn.loc[(telco_churn['Total_Charges'] == 'NaN'), 'Total_Charges'] = 0"
   ]
  },
  {
   "cell_type": "markdown",
   "id": "2a09d26d-b0d4-4f42-a354-e0de9b214030",
   "metadata": {},
   "source": [
    "Let me see if this has worked and the 'Total_Charges' column with NaN values have been converted to 0."
   ]
  },
  {
   "cell_type": "code",
   "execution_count": 57,
   "id": "5f22d6d2-45a8-4b2d-8572-db20c459e180",
   "metadata": {},
   "outputs": [
    {
     "data": {
      "text/html": [
       "<div>\n",
       "<style scoped>\n",
       "    .dataframe tbody tr th:only-of-type {\n",
       "        vertical-align: middle;\n",
       "    }\n",
       "\n",
       "    .dataframe tbody tr th {\n",
       "        vertical-align: top;\n",
       "    }\n",
       "\n",
       "    .dataframe thead th {\n",
       "        text-align: right;\n",
       "    }\n",
       "</style>\n",
       "<table border=\"1\" class=\"dataframe\">\n",
       "  <thead>\n",
       "    <tr style=\"text-align: right;\">\n",
       "      <th></th>\n",
       "      <th>City</th>\n",
       "      <th>Lat_Long</th>\n",
       "      <th>Gender</th>\n",
       "      <th>Senior_Citizen</th>\n",
       "      <th>Partner</th>\n",
       "      <th>Dependents</th>\n",
       "      <th>Tenure_Months</th>\n",
       "      <th>Phone_Service</th>\n",
       "      <th>Multiple_Lines</th>\n",
       "      <th>Internet_Service</th>\n",
       "      <th>...</th>\n",
       "      <th>Streaming_Movies</th>\n",
       "      <th>Contract</th>\n",
       "      <th>Paperless_Billing</th>\n",
       "      <th>Payment_Method</th>\n",
       "      <th>Monthly_Charges</th>\n",
       "      <th>Total_Charges</th>\n",
       "      <th>Churn_Value</th>\n",
       "      <th>Churn_Score</th>\n",
       "      <th>CLTV</th>\n",
       "      <th>Churn_Reason</th>\n",
       "    </tr>\n",
       "  </thead>\n",
       "  <tbody>\n",
       "    <tr>\n",
       "      <th>2234</th>\n",
       "      <td>San_Bernardino</td>\n",
       "      <td>34.084909, -117.258107</td>\n",
       "      <td>0</td>\n",
       "      <td>0</td>\n",
       "      <td>1</td>\n",
       "      <td>0</td>\n",
       "      <td>0</td>\n",
       "      <td>0</td>\n",
       "      <td>NaN</td>\n",
       "      <td>DSL</td>\n",
       "      <td>...</td>\n",
       "      <td>0.0</td>\n",
       "      <td>Two year</td>\n",
       "      <td>1</td>\n",
       "      <td>Bank transfer (automatic)</td>\n",
       "      <td>52.55</td>\n",
       "      <td>NaN</td>\n",
       "      <td>0</td>\n",
       "      <td>36</td>\n",
       "      <td>2578</td>\n",
       "      <td>NaN</td>\n",
       "    </tr>\n",
       "    <tr>\n",
       "      <th>2438</th>\n",
       "      <td>Independence</td>\n",
       "      <td>36.869584, -118.189241</td>\n",
       "      <td>1</td>\n",
       "      <td>0</td>\n",
       "      <td>0</td>\n",
       "      <td>0</td>\n",
       "      <td>0</td>\n",
       "      <td>1</td>\n",
       "      <td>0.0</td>\n",
       "      <td>No</td>\n",
       "      <td>...</td>\n",
       "      <td>NaN</td>\n",
       "      <td>Two year</td>\n",
       "      <td>0</td>\n",
       "      <td>Mailed check</td>\n",
       "      <td>20.25</td>\n",
       "      <td>NaN</td>\n",
       "      <td>0</td>\n",
       "      <td>68</td>\n",
       "      <td>5504</td>\n",
       "      <td>NaN</td>\n",
       "    </tr>\n",
       "    <tr>\n",
       "      <th>2568</th>\n",
       "      <td>San_Mateo</td>\n",
       "      <td>37.590421, -122.306467</td>\n",
       "      <td>0</td>\n",
       "      <td>0</td>\n",
       "      <td>1</td>\n",
       "      <td>0</td>\n",
       "      <td>0</td>\n",
       "      <td>1</td>\n",
       "      <td>0.0</td>\n",
       "      <td>DSL</td>\n",
       "      <td>...</td>\n",
       "      <td>1.0</td>\n",
       "      <td>Two year</td>\n",
       "      <td>0</td>\n",
       "      <td>Mailed check</td>\n",
       "      <td>80.85</td>\n",
       "      <td>NaN</td>\n",
       "      <td>0</td>\n",
       "      <td>45</td>\n",
       "      <td>2048</td>\n",
       "      <td>NaN</td>\n",
       "    </tr>\n",
       "    <tr>\n",
       "      <th>2667</th>\n",
       "      <td>Cupertino</td>\n",
       "      <td>37.306612, -122.080621</td>\n",
       "      <td>1</td>\n",
       "      <td>0</td>\n",
       "      <td>1</td>\n",
       "      <td>1</td>\n",
       "      <td>0</td>\n",
       "      <td>1</td>\n",
       "      <td>1.0</td>\n",
       "      <td>No</td>\n",
       "      <td>...</td>\n",
       "      <td>NaN</td>\n",
       "      <td>Two year</td>\n",
       "      <td>0</td>\n",
       "      <td>Mailed check</td>\n",
       "      <td>25.75</td>\n",
       "      <td>NaN</td>\n",
       "      <td>0</td>\n",
       "      <td>48</td>\n",
       "      <td>4950</td>\n",
       "      <td>NaN</td>\n",
       "    </tr>\n",
       "    <tr>\n",
       "      <th>2856</th>\n",
       "      <td>Redcrest</td>\n",
       "      <td>40.363446, -123.835041</td>\n",
       "      <td>0</td>\n",
       "      <td>0</td>\n",
       "      <td>1</td>\n",
       "      <td>0</td>\n",
       "      <td>0</td>\n",
       "      <td>0</td>\n",
       "      <td>NaN</td>\n",
       "      <td>DSL</td>\n",
       "      <td>...</td>\n",
       "      <td>0.0</td>\n",
       "      <td>Two year</td>\n",
       "      <td>0</td>\n",
       "      <td>Credit card (automatic)</td>\n",
       "      <td>56.05</td>\n",
       "      <td>NaN</td>\n",
       "      <td>0</td>\n",
       "      <td>30</td>\n",
       "      <td>4740</td>\n",
       "      <td>NaN</td>\n",
       "    </tr>\n",
       "    <tr>\n",
       "      <th>4331</th>\n",
       "      <td>Los_Angeles</td>\n",
       "      <td>34.089953, -118.294824</td>\n",
       "      <td>1</td>\n",
       "      <td>0</td>\n",
       "      <td>1</td>\n",
       "      <td>1</td>\n",
       "      <td>0</td>\n",
       "      <td>1</td>\n",
       "      <td>0.0</td>\n",
       "      <td>No</td>\n",
       "      <td>...</td>\n",
       "      <td>NaN</td>\n",
       "      <td>Two year</td>\n",
       "      <td>0</td>\n",
       "      <td>Mailed check</td>\n",
       "      <td>19.85</td>\n",
       "      <td>NaN</td>\n",
       "      <td>0</td>\n",
       "      <td>53</td>\n",
       "      <td>2019</td>\n",
       "      <td>NaN</td>\n",
       "    </tr>\n",
       "    <tr>\n",
       "      <th>4687</th>\n",
       "      <td>Sun_City</td>\n",
       "      <td>33.739412, -117.173334</td>\n",
       "      <td>1</td>\n",
       "      <td>0</td>\n",
       "      <td>1</td>\n",
       "      <td>1</td>\n",
       "      <td>0</td>\n",
       "      <td>1</td>\n",
       "      <td>1.0</td>\n",
       "      <td>No</td>\n",
       "      <td>...</td>\n",
       "      <td>NaN</td>\n",
       "      <td>Two year</td>\n",
       "      <td>0</td>\n",
       "      <td>Mailed check</td>\n",
       "      <td>25.35</td>\n",
       "      <td>NaN</td>\n",
       "      <td>0</td>\n",
       "      <td>49</td>\n",
       "      <td>2299</td>\n",
       "      <td>NaN</td>\n",
       "    </tr>\n",
       "    <tr>\n",
       "      <th>5104</th>\n",
       "      <td>Ben_Lomond</td>\n",
       "      <td>37.078873, -122.090386</td>\n",
       "      <td>0</td>\n",
       "      <td>0</td>\n",
       "      <td>1</td>\n",
       "      <td>1</td>\n",
       "      <td>0</td>\n",
       "      <td>1</td>\n",
       "      <td>0.0</td>\n",
       "      <td>No</td>\n",
       "      <td>...</td>\n",
       "      <td>NaN</td>\n",
       "      <td>Two year</td>\n",
       "      <td>0</td>\n",
       "      <td>Mailed check</td>\n",
       "      <td>20.00</td>\n",
       "      <td>NaN</td>\n",
       "      <td>0</td>\n",
       "      <td>27</td>\n",
       "      <td>3763</td>\n",
       "      <td>NaN</td>\n",
       "    </tr>\n",
       "    <tr>\n",
       "      <th>5719</th>\n",
       "      <td>La_Verne</td>\n",
       "      <td>34.144703, -117.770299</td>\n",
       "      <td>1</td>\n",
       "      <td>0</td>\n",
       "      <td>1</td>\n",
       "      <td>1</td>\n",
       "      <td>0</td>\n",
       "      <td>1</td>\n",
       "      <td>0.0</td>\n",
       "      <td>No</td>\n",
       "      <td>...</td>\n",
       "      <td>NaN</td>\n",
       "      <td>One year</td>\n",
       "      <td>1</td>\n",
       "      <td>Mailed check</td>\n",
       "      <td>19.70</td>\n",
       "      <td>NaN</td>\n",
       "      <td>0</td>\n",
       "      <td>69</td>\n",
       "      <td>4890</td>\n",
       "      <td>NaN</td>\n",
       "    </tr>\n",
       "    <tr>\n",
       "      <th>6772</th>\n",
       "      <td>Bell</td>\n",
       "      <td>33.970343, -118.171368</td>\n",
       "      <td>0</td>\n",
       "      <td>0</td>\n",
       "      <td>1</td>\n",
       "      <td>1</td>\n",
       "      <td>0</td>\n",
       "      <td>1</td>\n",
       "      <td>1.0</td>\n",
       "      <td>DSL</td>\n",
       "      <td>...</td>\n",
       "      <td>0.0</td>\n",
       "      <td>Two year</td>\n",
       "      <td>0</td>\n",
       "      <td>Mailed check</td>\n",
       "      <td>73.35</td>\n",
       "      <td>NaN</td>\n",
       "      <td>0</td>\n",
       "      <td>44</td>\n",
       "      <td>2342</td>\n",
       "      <td>NaN</td>\n",
       "    </tr>\n",
       "    <tr>\n",
       "      <th>6840</th>\n",
       "      <td>Wilmington</td>\n",
       "      <td>33.782068, -118.262263</td>\n",
       "      <td>1</td>\n",
       "      <td>0</td>\n",
       "      <td>0</td>\n",
       "      <td>1</td>\n",
       "      <td>0</td>\n",
       "      <td>1</td>\n",
       "      <td>1.0</td>\n",
       "      <td>DSL</td>\n",
       "      <td>...</td>\n",
       "      <td>0.0</td>\n",
       "      <td>Two year</td>\n",
       "      <td>1</td>\n",
       "      <td>Bank transfer (automatic)</td>\n",
       "      <td>61.90</td>\n",
       "      <td>NaN</td>\n",
       "      <td>0</td>\n",
       "      <td>65</td>\n",
       "      <td>5188</td>\n",
       "      <td>NaN</td>\n",
       "    </tr>\n",
       "  </tbody>\n",
       "</table>\n",
       "<p>11 rows × 25 columns</p>\n",
       "</div>"
      ],
      "text/plain": [
       "                City                Lat_Long  Gender  Senior_Citizen  Partner  \\\n",
       "2234  San_Bernardino  34.084909, -117.258107       0               0        1   \n",
       "2438    Independence  36.869584, -118.189241       1               0        0   \n",
       "2568       San_Mateo  37.590421, -122.306467       0               0        1   \n",
       "2667       Cupertino  37.306612, -122.080621       1               0        1   \n",
       "2856        Redcrest  40.363446, -123.835041       0               0        1   \n",
       "4331     Los_Angeles  34.089953, -118.294824       1               0        1   \n",
       "4687        Sun_City  33.739412, -117.173334       1               0        1   \n",
       "5104      Ben_Lomond  37.078873, -122.090386       0               0        1   \n",
       "5719        La_Verne  34.144703, -117.770299       1               0        1   \n",
       "6772            Bell  33.970343, -118.171368       0               0        1   \n",
       "6840      Wilmington  33.782068, -118.262263       1               0        0   \n",
       "\n",
       "      Dependents  Tenure_Months  Phone_Service  Multiple_Lines  \\\n",
       "2234           0              0              0             NaN   \n",
       "2438           0              0              1             0.0   \n",
       "2568           0              0              1             0.0   \n",
       "2667           1              0              1             1.0   \n",
       "2856           0              0              0             NaN   \n",
       "4331           1              0              1             0.0   \n",
       "4687           1              0              1             1.0   \n",
       "5104           1              0              1             0.0   \n",
       "5719           1              0              1             0.0   \n",
       "6772           1              0              1             1.0   \n",
       "6840           1              0              1             1.0   \n",
       "\n",
       "     Internet_Service  ...  Streaming_Movies  Contract  Paperless_Billing  \\\n",
       "2234              DSL  ...               0.0  Two year                  1   \n",
       "2438               No  ...               NaN  Two year                  0   \n",
       "2568              DSL  ...               1.0  Two year                  0   \n",
       "2667               No  ...               NaN  Two year                  0   \n",
       "2856              DSL  ...               0.0  Two year                  0   \n",
       "4331               No  ...               NaN  Two year                  0   \n",
       "4687               No  ...               NaN  Two year                  0   \n",
       "5104               No  ...               NaN  Two year                  0   \n",
       "5719               No  ...               NaN  One year                  1   \n",
       "6772              DSL  ...               0.0  Two year                  0   \n",
       "6840              DSL  ...               0.0  Two year                  1   \n",
       "\n",
       "                 Payment_Method  Monthly_Charges  Total_Charges Churn_Value  \\\n",
       "2234  Bank transfer (automatic)            52.55            NaN           0   \n",
       "2438               Mailed check            20.25            NaN           0   \n",
       "2568               Mailed check            80.85            NaN           0   \n",
       "2667               Mailed check            25.75            NaN           0   \n",
       "2856    Credit card (automatic)            56.05            NaN           0   \n",
       "4331               Mailed check            19.85            NaN           0   \n",
       "4687               Mailed check            25.35            NaN           0   \n",
       "5104               Mailed check            20.00            NaN           0   \n",
       "5719               Mailed check            19.70            NaN           0   \n",
       "6772               Mailed check            73.35            NaN           0   \n",
       "6840  Bank transfer (automatic)            61.90            NaN           0   \n",
       "\n",
       "      Churn_Score  CLTV  Churn_Reason  \n",
       "2234           36  2578           NaN  \n",
       "2438           68  5504           NaN  \n",
       "2568           45  2048           NaN  \n",
       "2667           48  4950           NaN  \n",
       "2856           30  4740           NaN  \n",
       "4331           53  2019           NaN  \n",
       "4687           49  2299           NaN  \n",
       "5104           27  3763           NaN  \n",
       "5719           69  4890           NaN  \n",
       "6772           44  2342           NaN  \n",
       "6840           65  5188           NaN  \n",
       "\n",
       "[11 rows x 25 columns]"
      ]
     },
     "execution_count": 57,
     "metadata": {},
     "output_type": "execute_result"
    }
   ],
   "source": [
    "telco_churn[telco_churn['Total_Charges'].isnull()]"
   ]
  },
  {
   "cell_type": "code",
   "execution_count": 58,
   "id": "07e2648d-984a-4e38-86d9-b5ac14bcee3e",
   "metadata": {},
   "outputs": [
    {
     "data": {
      "text/plain": [
       "array([ 108.15,  151.65,  820.5 , ..., 7362.9 ,  346.45, 6844.5 ])"
      ]
     },
     "execution_count": 58,
     "metadata": {},
     "output_type": "execute_result"
    }
   ],
   "source": [
    "telco_churn['Total_Charges'].unique()"
   ]
  },
  {
   "cell_type": "code",
   "execution_count": null,
   "id": "0f57823a",
   "metadata": {},
   "outputs": [],
   "source": [
    "telco_churn['Total_Charges'] = pd.to_numeric(telco_churn['Total_Charges'])"
   ]
  },
  {
   "cell_type": "code",
   "execution_count": null,
   "id": "b46a6047",
   "metadata": {},
   "outputs": [],
   "source": [
    "telco_churn['Multiple_Lines'].isnull().sum()"
   ]
  },
  {
   "cell_type": "code",
   "execution_count": null,
   "id": "6daa227e",
   "metadata": {},
   "outputs": [],
   "source": [
    "telco_churn[telco_churn['Multiple_Lines'].isnull()]"
   ]
  },
  {
   "cell_type": "code",
   "execution_count": null,
   "id": "da0ed2f7",
   "metadata": {},
   "outputs": [],
   "source": [
    "telco_churn['Online_Security'].isnull().sum()"
   ]
  },
  {
   "cell_type": "code",
   "execution_count": null,
   "id": "43a95f95",
   "metadata": {},
   "outputs": [],
   "source": [
    "telco_churn[telco_churn['Online_Security'].isnull()]"
   ]
  },
  {
   "cell_type": "code",
   "execution_count": null,
   "id": "9e267856",
   "metadata": {},
   "outputs": [],
   "source": [
    "telco_churn['Online_Backup'].isnull().sum()"
   ]
  },
  {
   "cell_type": "code",
   "execution_count": null,
   "id": "5633a5e0",
   "metadata": {},
   "outputs": [],
   "source": [
    "telco_churn[telco_churn['Online_Backup'].isnull()]"
   ]
  },
  {
   "cell_type": "code",
   "execution_count": null,
   "id": "ecce6c8a",
   "metadata": {},
   "outputs": [],
   "source": [
    "telco_churn['Device_Protection'].isnull().sum()"
   ]
  },
  {
   "cell_type": "code",
   "execution_count": null,
   "id": "4beb8297",
   "metadata": {},
   "outputs": [],
   "source": [
    "telco_churn[telco_churn['Device_Protection'].isnull()]"
   ]
  },
  {
   "cell_type": "code",
   "execution_count": null,
   "id": "50f94c2d",
   "metadata": {},
   "outputs": [],
   "source": [
    "telco_churn['Tech_Support'].isnull().sum()"
   ]
  },
  {
   "cell_type": "code",
   "execution_count": null,
   "id": "7e57cea0",
   "metadata": {},
   "outputs": [],
   "source": [
    "telco_churn[telco_churn['Tech_Support'].isnull()]"
   ]
  },
  {
   "cell_type": "code",
   "execution_count": null,
   "id": "0d81c25a",
   "metadata": {},
   "outputs": [],
   "source": [
    "telco_churn['Streaming_TV'].isnull().sum()"
   ]
  },
  {
   "cell_type": "code",
   "execution_count": null,
   "id": "0a05c609",
   "metadata": {},
   "outputs": [],
   "source": [
    "telco_churn[telco_churn['Streaming_TV'].isnull()]"
   ]
  },
  {
   "cell_type": "code",
   "execution_count": null,
   "id": "bc56cf31",
   "metadata": {},
   "outputs": [],
   "source": [
    "telco_churn['Streaming_Movies'].isnull().sum()"
   ]
  },
  {
   "cell_type": "code",
   "execution_count": null,
   "id": "b3cc954a",
   "metadata": {},
   "outputs": [],
   "source": [
    "telco_churn[telco_churn['Streaming_Movies'].isnull()]"
   ]
  },
  {
   "cell_type": "code",
   "execution_count": null,
   "id": "478c99fe",
   "metadata": {},
   "outputs": [],
   "source": []
  },
  {
   "cell_type": "code",
   "execution_count": null,
   "id": "2c55baa0",
   "metadata": {},
   "outputs": [],
   "source": []
  },
  {
   "cell_type": "code",
   "execution_count": null,
   "id": "5d983570",
   "metadata": {},
   "outputs": [],
   "source": []
  },
  {
   "cell_type": "markdown",
   "id": "8ce5ad74",
   "metadata": {},
   "source": [
    "Based on the missing values listed above for the following columns: Multiple_Lines, Online_Security, Online_Backup, Device_Protection, Tech_Support, Streaming_TV, Streaming_Movies, Total_Charges, Churn_Reason, these entries will be dropped from the DataFrame."
   ]
  },
  {
   "cell_type": "code",
   "execution_count": null,
   "id": "d9673c1f",
   "metadata": {},
   "outputs": [],
   "source": [
    "telco_churn['Multiple_Lines'] = telco_churn['Multiple_Lines'].dropna()"
   ]
  },
  {
   "cell_type": "code",
   "execution_count": null,
   "id": "c24a2ae2",
   "metadata": {},
   "outputs": [],
   "source": [
    "telco_churn['Online_Security'] = telco_churn['Online_Security'].dropna()"
   ]
  },
  {
   "cell_type": "code",
   "execution_count": null,
   "id": "e05afd05",
   "metadata": {},
   "outputs": [],
   "source": [
    "telco_churn['Online_Backup'] = telco_churn['Online_Backup'].dropna()"
   ]
  },
  {
   "cell_type": "code",
   "execution_count": null,
   "id": "ace27238",
   "metadata": {},
   "outputs": [],
   "source": [
    "telco_churn['Device_Protection'] = telco_churn['Device_Protection'].dropna()"
   ]
  },
  {
   "cell_type": "code",
   "execution_count": null,
   "id": "b13618f0",
   "metadata": {},
   "outputs": [],
   "source": [
    "telco_churn['Tech_Support'] = telco_churn['Tech_Support'].dropna()"
   ]
  },
  {
   "cell_type": "code",
   "execution_count": null,
   "id": "691d2a6a",
   "metadata": {},
   "outputs": [],
   "source": [
    "telco_churn['Streaming_TV'] = telco_churn['Streaming_TV'].dropna()"
   ]
  },
  {
   "cell_type": "code",
   "execution_count": null,
   "id": "7ca23637",
   "metadata": {},
   "outputs": [],
   "source": [
    "telco_churn['Streaming_Movies'] = telco_churn['Streaming_Movies'].dropna()"
   ]
  },
  {
   "cell_type": "code",
   "execution_count": null,
   "id": "290c280b",
   "metadata": {},
   "outputs": [],
   "source": [
    "telco_churn['Total_Charges'] = telco_churn['Total_Charges'].dropna()"
   ]
  },
  {
   "cell_type": "code",
   "execution_count": null,
   "id": "c2ceead6",
   "metadata": {},
   "outputs": [],
   "source": [
    "telco_churn['Churn_Reason'] = telco_churn['Churn_Reason'].dropna()"
   ]
  },
  {
   "cell_type": "code",
   "execution_count": null,
   "id": "89c33421",
   "metadata": {},
   "outputs": [],
   "source": []
  },
  {
   "cell_type": "code",
   "execution_count": null,
   "id": "4d001318",
   "metadata": {},
   "outputs": [],
   "source": []
  },
  {
   "cell_type": "code",
   "execution_count": null,
   "id": "0892d1a9",
   "metadata": {},
   "outputs": [],
   "source": []
  },
  {
   "cell_type": "markdown",
   "id": "de4e35d1-208a-4933-985a-8b1182f9748d",
   "metadata": {},
   "source": [
    "### Export the Data\n",
    "\n",
    "Print the cleaned dataset which has undergone the first part of the Transformation phase in the ETL pipeline."
   ]
  },
  {
   "cell_type": "code",
   "execution_count": 59,
   "id": "2709c7b6-d4f2-4fca-bb29-4392e6af393d",
   "metadata": {},
   "outputs": [
    {
     "name": "stdout",
     "output_type": "stream",
     "text": [
      "              City                Lat_Long  Gender  Senior_Citizen  Partner  \\\n",
      "0      Los_Angeles  33.964131, -118.272783       1               0        0   \n",
      "1      Los_Angeles   34.059281, -118.30742       0               0        0   \n",
      "2      Los_Angeles  34.048013, -118.293953       0               0        0   \n",
      "3      Los_Angeles  34.062125, -118.315709       0               0        1   \n",
      "4      Los_Angeles  34.039224, -118.266293       1               0        0   \n",
      "...            ...                     ...     ...             ...      ...   \n",
      "7038       Landers  34.341737, -116.539416       0               0        0   \n",
      "7039      Adelanto  34.667815, -117.536183       1               0        1   \n",
      "7040         Amboy  34.559882, -115.637164       0               0        1   \n",
      "7041  Angelus_Oaks     34.1678, -116.86433       0               0        1   \n",
      "7042  Apple_Valley  34.424926, -117.184503       1               0        0   \n",
      "\n",
      "      Dependents  Tenure_Months  Phone_Service  Multiple_Lines  \\\n",
      "0              0              2              1             0.0   \n",
      "1              1              2              1             0.0   \n",
      "2              1              8              1             1.0   \n",
      "3              1             28              1             1.0   \n",
      "4              1             49              1             1.0   \n",
      "...          ...            ...            ...             ...   \n",
      "7038           0             72              1             0.0   \n",
      "7039           1             24              1             1.0   \n",
      "7040           1             72              1             1.0   \n",
      "7041           1             11              0             NaN   \n",
      "7042           0             66              1             0.0   \n",
      "\n",
      "     Internet_Service  ...  Streaming_Movies        Contract  \\\n",
      "0                 DSL  ...               0.0  Month-to-month   \n",
      "1         Fiber optic  ...               0.0  Month-to-month   \n",
      "2         Fiber optic  ...               1.0  Month-to-month   \n",
      "3         Fiber optic  ...               1.0  Month-to-month   \n",
      "4         Fiber optic  ...               1.0  Month-to-month   \n",
      "...               ...  ...               ...             ...   \n",
      "7038               No  ...               NaN        Two year   \n",
      "7039              DSL  ...               1.0        One year   \n",
      "7040      Fiber optic  ...               1.0        One year   \n",
      "7041              DSL  ...               0.0  Month-to-month   \n",
      "7042      Fiber optic  ...               1.0        Two year   \n",
      "\n",
      "      Paperless_Billing             Payment_Method  Monthly_Charges  \\\n",
      "0                     1               Mailed check            53.85   \n",
      "1                     1           Electronic check            70.70   \n",
      "2                     1           Electronic check            99.65   \n",
      "3                     1           Electronic check           104.80   \n",
      "4                     1  Bank transfer (automatic)           103.70   \n",
      "...                 ...                        ...              ...   \n",
      "7038                  1  Bank transfer (automatic)            21.15   \n",
      "7039                  1               Mailed check            84.80   \n",
      "7040                  1    Credit card (automatic)           103.20   \n",
      "7041                  1           Electronic check            29.60   \n",
      "7042                  1  Bank transfer (automatic)           105.65   \n",
      "\n",
      "      Total_Charges Churn_Value  Churn_Score  CLTV  \\\n",
      "0            108.15           1           86  3239   \n",
      "1            151.65           1           67  2701   \n",
      "2            820.50           1           86  5372   \n",
      "3           3046.05           1           84  5003   \n",
      "4           5036.30           1           89  5340   \n",
      "...             ...         ...          ...   ...   \n",
      "7038        1419.40           0           45  5306   \n",
      "7039        1990.50           0           59  2140   \n",
      "7040        7362.90           0           71  5560   \n",
      "7041         346.45           0           59  2793   \n",
      "7042        6844.50           0           38  5097   \n",
      "\n",
      "                       Churn_Reason  \n",
      "0      Competitor made better offer  \n",
      "1                             Moved  \n",
      "2                             Moved  \n",
      "3                             Moved  \n",
      "4     Competitor had better devices  \n",
      "...                             ...  \n",
      "7038                            NaN  \n",
      "7039                            NaN  \n",
      "7040                            NaN  \n",
      "7041                            NaN  \n",
      "7042                            NaN  \n",
      "\n",
      "[7043 rows x 25 columns]\n"
     ]
    }
   ],
   "source": [
    "print(telco_churn)"
   ]
  },
  {
   "cell_type": "markdown",
   "id": "01395a89-3e5c-491e-b725-9e0016d32323",
   "metadata": {},
   "source": [
    "The next phase of transformation should include some form of Normalization or Scaling so all values within the dataframe fall within a certain range of values. This can really help with the modeling phase by reducing any bias from really large values.\n",
    "\n",
    "### Normalization or Re-Scaling"
   ]
  },
  {
   "cell_type": "code",
   "execution_count": 60,
   "id": "9520732d-f916-47e3-aa83-1782115199cf",
   "metadata": {},
   "outputs": [],
   "source": [
    "from sklearn import preprocessing"
   ]
  },
  {
   "cell_type": "code",
   "execution_count": 61,
   "id": "6a69b093-de51-4b59-832b-9a40aaf81954",
   "metadata": {},
   "outputs": [
    {
     "data": {
      "text/html": [
       "<div>\n",
       "<style scoped>\n",
       "    .dataframe tbody tr th:only-of-type {\n",
       "        vertical-align: middle;\n",
       "    }\n",
       "\n",
       "    .dataframe tbody tr th {\n",
       "        vertical-align: top;\n",
       "    }\n",
       "\n",
       "    .dataframe thead th {\n",
       "        text-align: right;\n",
       "    }\n",
       "</style>\n",
       "<table border=\"1\" class=\"dataframe\">\n",
       "  <thead>\n",
       "    <tr style=\"text-align: right;\">\n",
       "      <th></th>\n",
       "      <th>City</th>\n",
       "      <th>Lat_Long</th>\n",
       "      <th>Gender</th>\n",
       "      <th>Senior_Citizen</th>\n",
       "      <th>Partner</th>\n",
       "      <th>Dependents</th>\n",
       "      <th>Tenure_Months</th>\n",
       "      <th>Phone_Service</th>\n",
       "      <th>Multiple_Lines</th>\n",
       "      <th>Internet_Service</th>\n",
       "      <th>...</th>\n",
       "      <th>Streaming_Movies</th>\n",
       "      <th>Contract</th>\n",
       "      <th>Paperless_Billing</th>\n",
       "      <th>Payment_Method</th>\n",
       "      <th>Monthly_Charges</th>\n",
       "      <th>Total_Charges</th>\n",
       "      <th>Churn_Value</th>\n",
       "      <th>Churn_Score</th>\n",
       "      <th>CLTV</th>\n",
       "      <th>Churn_Reason</th>\n",
       "    </tr>\n",
       "  </thead>\n",
       "  <tbody>\n",
       "    <tr>\n",
       "      <th>0</th>\n",
       "      <td>Los_Angeles</td>\n",
       "      <td>33.964131, -118.272783</td>\n",
       "      <td>1</td>\n",
       "      <td>0</td>\n",
       "      <td>0</td>\n",
       "      <td>0</td>\n",
       "      <td>2</td>\n",
       "      <td>1</td>\n",
       "      <td>0.0</td>\n",
       "      <td>DSL</td>\n",
       "      <td>...</td>\n",
       "      <td>0.0</td>\n",
       "      <td>Month-to-month</td>\n",
       "      <td>1</td>\n",
       "      <td>Mailed check</td>\n",
       "      <td>53.85</td>\n",
       "      <td>108.15</td>\n",
       "      <td>1</td>\n",
       "      <td>86</td>\n",
       "      <td>3239</td>\n",
       "      <td>Competitor made better offer</td>\n",
       "    </tr>\n",
       "    <tr>\n",
       "      <th>1</th>\n",
       "      <td>Los_Angeles</td>\n",
       "      <td>34.059281, -118.30742</td>\n",
       "      <td>0</td>\n",
       "      <td>0</td>\n",
       "      <td>0</td>\n",
       "      <td>1</td>\n",
       "      <td>2</td>\n",
       "      <td>1</td>\n",
       "      <td>0.0</td>\n",
       "      <td>Fiber optic</td>\n",
       "      <td>...</td>\n",
       "      <td>0.0</td>\n",
       "      <td>Month-to-month</td>\n",
       "      <td>1</td>\n",
       "      <td>Electronic check</td>\n",
       "      <td>70.70</td>\n",
       "      <td>151.65</td>\n",
       "      <td>1</td>\n",
       "      <td>67</td>\n",
       "      <td>2701</td>\n",
       "      <td>Moved</td>\n",
       "    </tr>\n",
       "    <tr>\n",
       "      <th>2</th>\n",
       "      <td>Los_Angeles</td>\n",
       "      <td>34.048013, -118.293953</td>\n",
       "      <td>0</td>\n",
       "      <td>0</td>\n",
       "      <td>0</td>\n",
       "      <td>1</td>\n",
       "      <td>8</td>\n",
       "      <td>1</td>\n",
       "      <td>1.0</td>\n",
       "      <td>Fiber optic</td>\n",
       "      <td>...</td>\n",
       "      <td>1.0</td>\n",
       "      <td>Month-to-month</td>\n",
       "      <td>1</td>\n",
       "      <td>Electronic check</td>\n",
       "      <td>99.65</td>\n",
       "      <td>820.50</td>\n",
       "      <td>1</td>\n",
       "      <td>86</td>\n",
       "      <td>5372</td>\n",
       "      <td>Moved</td>\n",
       "    </tr>\n",
       "    <tr>\n",
       "      <th>3</th>\n",
       "      <td>Los_Angeles</td>\n",
       "      <td>34.062125, -118.315709</td>\n",
       "      <td>0</td>\n",
       "      <td>0</td>\n",
       "      <td>1</td>\n",
       "      <td>1</td>\n",
       "      <td>28</td>\n",
       "      <td>1</td>\n",
       "      <td>1.0</td>\n",
       "      <td>Fiber optic</td>\n",
       "      <td>...</td>\n",
       "      <td>1.0</td>\n",
       "      <td>Month-to-month</td>\n",
       "      <td>1</td>\n",
       "      <td>Electronic check</td>\n",
       "      <td>104.80</td>\n",
       "      <td>3046.05</td>\n",
       "      <td>1</td>\n",
       "      <td>84</td>\n",
       "      <td>5003</td>\n",
       "      <td>Moved</td>\n",
       "    </tr>\n",
       "    <tr>\n",
       "      <th>4</th>\n",
       "      <td>Los_Angeles</td>\n",
       "      <td>34.039224, -118.266293</td>\n",
       "      <td>1</td>\n",
       "      <td>0</td>\n",
       "      <td>0</td>\n",
       "      <td>1</td>\n",
       "      <td>49</td>\n",
       "      <td>1</td>\n",
       "      <td>1.0</td>\n",
       "      <td>Fiber optic</td>\n",
       "      <td>...</td>\n",
       "      <td>1.0</td>\n",
       "      <td>Month-to-month</td>\n",
       "      <td>1</td>\n",
       "      <td>Bank transfer (automatic)</td>\n",
       "      <td>103.70</td>\n",
       "      <td>5036.30</td>\n",
       "      <td>1</td>\n",
       "      <td>89</td>\n",
       "      <td>5340</td>\n",
       "      <td>Competitor had better devices</td>\n",
       "    </tr>\n",
       "  </tbody>\n",
       "</table>\n",
       "<p>5 rows × 25 columns</p>\n",
       "</div>"
      ],
      "text/plain": [
       "          City                Lat_Long  Gender  Senior_Citizen  Partner  \\\n",
       "0  Los_Angeles  33.964131, -118.272783       1               0        0   \n",
       "1  Los_Angeles   34.059281, -118.30742       0               0        0   \n",
       "2  Los_Angeles  34.048013, -118.293953       0               0        0   \n",
       "3  Los_Angeles  34.062125, -118.315709       0               0        1   \n",
       "4  Los_Angeles  34.039224, -118.266293       1               0        0   \n",
       "\n",
       "   Dependents  Tenure_Months  Phone_Service  Multiple_Lines Internet_Service  \\\n",
       "0           0              2              1             0.0              DSL   \n",
       "1           1              2              1             0.0      Fiber optic   \n",
       "2           1              8              1             1.0      Fiber optic   \n",
       "3           1             28              1             1.0      Fiber optic   \n",
       "4           1             49              1             1.0      Fiber optic   \n",
       "\n",
       "   ...  Streaming_Movies        Contract  Paperless_Billing  \\\n",
       "0  ...               0.0  Month-to-month                  1   \n",
       "1  ...               0.0  Month-to-month                  1   \n",
       "2  ...               1.0  Month-to-month                  1   \n",
       "3  ...               1.0  Month-to-month                  1   \n",
       "4  ...               1.0  Month-to-month                  1   \n",
       "\n",
       "              Payment_Method  Monthly_Charges  Total_Charges Churn_Value  \\\n",
       "0               Mailed check            53.85         108.15           1   \n",
       "1           Electronic check            70.70         151.65           1   \n",
       "2           Electronic check            99.65         820.50           1   \n",
       "3           Electronic check           104.80        3046.05           1   \n",
       "4  Bank transfer (automatic)           103.70        5036.30           1   \n",
       "\n",
       "   Churn_Score  CLTV                   Churn_Reason  \n",
       "0           86  3239   Competitor made better offer  \n",
       "1           67  2701                          Moved  \n",
       "2           86  5372                          Moved  \n",
       "3           84  5003                          Moved  \n",
       "4           89  5340  Competitor had better devices  \n",
       "\n",
       "[5 rows x 25 columns]"
      ]
     },
     "execution_count": 61,
     "metadata": {},
     "output_type": "execute_result"
    }
   ],
   "source": [
    "telco_churn.head()"
   ]
  },
  {
   "cell_type": "code",
   "execution_count": 62,
   "id": "de37cb60-a4f8-489c-af2a-4d1f4ed3e7e1",
   "metadata": {},
   "outputs": [
    {
     "ename": "ValueError",
     "evalue": "could not convert string to float: 'Los_Angeles'",
     "output_type": "error",
     "traceback": [
      "\u001b[1;31m---------------------------------------------------------------------------\u001b[0m",
      "\u001b[1;31mValueError\u001b[0m                                Traceback (most recent call last)",
      "Cell \u001b[1;32mIn[62], line 2\u001b[0m\n\u001b[0;32m      1\u001b[0m \u001b[38;5;66;03m# convert entries to float type\u001b[39;00m\n\u001b[1;32m----> 2\u001b[0m X \u001b[38;5;241m=\u001b[39m \u001b[43mtelco_churn\u001b[49m\u001b[38;5;241;43m.\u001b[39;49m\u001b[43mvalues\u001b[49m\u001b[38;5;241;43m.\u001b[39;49m\u001b[43mastype\u001b[49m\u001b[43m(\u001b[49m\u001b[38;5;28;43mfloat\u001b[39;49m\u001b[43m)\u001b[49m\n\u001b[0;32m      4\u001b[0m \u001b[38;5;66;03m# define min max scaler\u001b[39;00m\n\u001b[0;32m      5\u001b[0m min_max_scaler \u001b[38;5;241m=\u001b[39m preprocessing\u001b[38;5;241m.\u001b[39mMinMaxScaler()\n",
      "\u001b[1;31mValueError\u001b[0m: could not convert string to float: 'Los_Angeles'"
     ]
    }
   ],
   "source": [
    "# convert entries to float type\n",
    "X = telco_churn.values.astype(float)\n",
    "\n",
    "# define min max scaler\n",
    "min_max_scaler = preprocessing.MinMaxScaler()\n",
    "\n",
    "# transform data\n",
    "X_scaled = min_max_scaler.fit_transform(X)\n",
    "\n",
    "telco_churn_scaled = pd.DataFrame(X_scaled, columns=telco_churn.columns)\n",
    "print(telco_churn_scaled)"
   ]
  },
  {
   "cell_type": "markdown",
   "id": "49dcff34-ef66-4202-b034-2b367ec12a78",
   "metadata": {},
   "source": [
    "Finally, convert the dataframe to a CSV file now it has been pre-processed."
   ]
  },
  {
   "cell_type": "code",
   "execution_count": null,
   "id": "264d50fe-e237-4cd5-9645-ff5f1d37b4f9",
   "metadata": {
    "tags": []
   },
   "outputs": [],
   "source": [
    "telco_churn_cleaned = telco_churn_scaled\n",
    "telco_churn_cleaned.to_csv()"
   ]
  },
  {
   "cell_type": "code",
   "execution_count": null,
   "id": "70f12c89-e819-486c-9d15-e7e02c6113df",
   "metadata": {},
   "outputs": [],
   "source": []
  }
 ],
 "metadata": {
  "kernelspec": {
   "display_name": "Python 3 (ipykernel)",
   "language": "python",
   "name": "python3"
  },
  "language_info": {
   "codemirror_mode": {
    "name": "ipython",
    "version": 3
   },
   "file_extension": ".py",
   "mimetype": "text/x-python",
   "name": "python",
   "nbconvert_exporter": "python",
   "pygments_lexer": "ipython3",
   "version": "3.10.9"
  }
 },
 "nbformat": 4,
 "nbformat_minor": 5
}
