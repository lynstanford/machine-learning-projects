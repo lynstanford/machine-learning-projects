{
 "cells": [
  {
   "cell_type": "markdown",
   "metadata": {},
   "source": [
    "A real-time financial data API delivered in JSON or Pandas formats. First the package needs to be installed:"
   ]
  },
  {
   "cell_type": "code",
   "execution_count": 1,
   "metadata": {},
   "outputs": [
    {
     "name": "stdout",
     "output_type": "stream",
     "text": [
      "Collecting alpha_vantage\n",
      "  Downloading alpha_vantage-2.3.1-py3-none-any.whl (31 kB)\n",
      "Collecting aiohttp\n",
      "  Downloading aiohttp-3.7.4.post0-cp38-cp38-win_amd64.whl (635 kB)\n",
      "Requirement already satisfied: requests in c:\\users\\lynst\\anaconda3\\lib\\site-packages (from alpha_vantage) (2.25.1)\n",
      "Collecting yarl<2.0,>=1.0\n",
      "  Downloading yarl-1.6.3-cp38-cp38-win_amd64.whl (125 kB)\n",
      "Requirement already satisfied: attrs>=17.3.0 in c:\\users\\lynst\\appdata\\roaming\\python\\python38\\site-packages (from aiohttp->alpha_vantage) (19.3.0)\n",
      "Requirement already satisfied: typing-extensions>=3.6.5 in c:\\users\\lynst\\anaconda3\\lib\\site-packages (from aiohttp->alpha_vantage) (3.7.4.3)\n",
      "Collecting multidict<7.0,>=4.5\n",
      "  Downloading multidict-5.1.0-cp38-cp38-win_amd64.whl (48 kB)\n",
      "Requirement already satisfied: chardet<5.0,>=2.0 in c:\\users\\lynst\\anaconda3\\lib\\site-packages (from aiohttp->alpha_vantage) (4.0.0)\n",
      "Collecting async-timeout<4.0,>=3.0\n",
      "  Downloading async_timeout-3.0.1-py3-none-any.whl (8.2 kB)\n",
      "Requirement already satisfied: idna>=2.0 in c:\\users\\lynst\\anaconda3\\lib\\site-packages (from yarl<2.0,>=1.0->aiohttp->alpha_vantage) (2.10)\n",
      "Requirement already satisfied: certifi>=2017.4.17 in c:\\users\\lynst\\anaconda3\\lib\\site-packages (from requests->alpha_vantage) (2020.12.5)\n",
      "Requirement already satisfied: urllib3<1.27,>=1.21.1 in c:\\users\\lynst\\anaconda3\\lib\\site-packages (from requests->alpha_vantage) (1.26.4)\n",
      "Installing collected packages: multidict, yarl, async-timeout, aiohttp, alpha-vantage\n",
      "Successfully installed aiohttp-3.7.4.post0 alpha-vantage-2.3.1 async-timeout-3.0.1 multidict-5.1.0 yarl-1.6.3\n"
     ]
    }
   ],
   "source": [
    "!pip install alpha_vantage"
   ]
  },
  {
   "cell_type": "markdown",
   "metadata": {},
   "source": [
    "Or install with pandas support, simply install pandas too:"
   ]
  },
  {
   "cell_type": "code",
   "execution_count": null,
   "metadata": {},
   "outputs": [],
   "source": [
    "# pip install alpha_vantage pandas"
   ]
  },
  {
   "cell_type": "markdown",
   "metadata": {},
   "source": [
    "If you want to install from source, then use:"
   ]
  },
  {
   "cell_type": "code",
   "execution_count": null,
   "metadata": {},
   "outputs": [],
   "source": [
    "# git clone https://github.com/RomelTorres/alpha_vantage.git\n",
    "# pip install -e alpha_vantage"
   ]
  },
  {
   "cell_type": "markdown",
   "metadata": {},
   "source": [
    "# Usage\n",
    "To get data from the API, simply import the library and call the object with your API key. Next, get ready for some awesome, free, realtime finance data. Your API key may also be stored in the environment variable ALPHAVANTAGE_API_KEY."
   ]
  },
  {
   "cell_type": "code",
   "execution_count": null,
   "metadata": {},
   "outputs": [],
   "source": [
    "from alpha_vantage.timeseries import TimeSeries\n",
    "ts = TimeSeries(key='YOUR_API_KEY')\n",
    "# Get json object with the intraday data and another with  the call's metadata\n",
    "data, meta_data = ts.get_intraday('GOOGL')"
   ]
  },
  {
   "cell_type": "markdown",
   "metadata": {},
   "source": [
    "You may also get a key from rapidAPI. Use your rapidAPI key for the key variable, and set rapidapi=True"
   ]
  },
  {
   "cell_type": "code",
   "execution_count": null,
   "metadata": {},
   "outputs": [],
   "source": [
    "ts = TimeSeries(key='YOUR_API_KEY',rapidapi=True)"
   ]
  },
  {
   "cell_type": "markdown",
   "metadata": {},
   "source": [
    "Internally there is a retries counter, that can be used to minimize connection errors (in case that the API is not able to respond in time), the default is set to 5 but can be increased or decreased whenever needed."
   ]
  },
  {
   "cell_type": "code",
   "execution_count": null,
   "metadata": {},
   "outputs": [],
   "source": [
    "ts = TimeSeries(key='YOUR_API_KEY',retries='YOUR_RETRIES')"
   ]
  },
  {
   "cell_type": "markdown",
   "metadata": {},
   "source": [
    "The library supports giving its results as json dictionaries (default), pandas dataframe (if installed) or csv, simply pass the parameter output_format='pandas' to change the format of the output for all the API calls in the given class. Please note that some API calls do not support the csv format (namely ForeignExchange, SectorPerformances and TechIndicators) because the API endpoint does not support the format on their calls either."
   ]
  },
  {
   "cell_type": "code",
   "execution_count": null,
   "metadata": {},
   "outputs": [],
   "source": [
    "ts = TimeSeries(key='YOUR_API_KEY',output_format='pandas')"
   ]
  },
  {
   "cell_type": "markdown",
   "metadata": {},
   "source": [
    "The pandas data frame given by the call, can have either a date string indexing or an integer indexing (by default the indexing is 'date'), depending on your needs, you can use both."
   ]
  },
  {
   "cell_type": "code",
   "execution_count": null,
   "metadata": {},
   "outputs": [],
   "source": [
    "# For the default date string index behavior\n",
    "ts = TimeSeries(key='YOUR_API_KEY',output_format='pandas', indexing_type='date')\n",
    "# For the default integer index behavior\n",
    "ts = TimeSeries(key='YOUR_API_KEY',output_format='pandas', indexing_type='integer')"
   ]
  },
  {
   "cell_type": "markdown",
   "metadata": {},
   "source": [
    "# Data frame structure\n",
    "The data frame structure is given by the call on alpha vantage rest API. The column names of the data frames are the ones given by their data structure. For example, the following call:"
   ]
  },
  {
   "cell_type": "code",
   "execution_count": null,
   "metadata": {},
   "outputs": [],
   "source": [
    "from alpha_vantage.timeseries import TimeSeries\n",
    "from pprint import pprint\n",
    "ts = TimeSeries(key='YOUR_API_KEY', output_format='pandas')\n",
    "data, meta_data = ts.get_intraday(symbol='MSFT',interval='1min', outputsize='full')\n",
    "pprint(data.head(2))"
   ]
  },
  {
   "cell_type": "markdown",
   "metadata": {},
   "source": [
    "The headers from the data are specified from Alpha Vantage (in previous versions, the numbers in the headers were removed, but long term is better to have the data exactly as Alpha Vantage produces it.)\n",
    "\n",
    "# Plotting\n",
    "## Time Series\n",
    "Using pandas support we can plot the intra-minute value for 'MSFT' stock quite easily:"
   ]
  },
  {
   "cell_type": "code",
   "execution_count": null,
   "metadata": {},
   "outputs": [],
   "source": [
    "from alpha_vantage.timeseries import TimeSeries\n",
    "import matplotlib.pyplot as plt\n",
    "\n",
    "ts = TimeSeries(key='YOUR_API_KEY', output_format='pandas')\n",
    "data, meta_data = ts.get_intraday(symbol='MSFT',interval='1min', outputsize='full')\n",
    "data['4. close'].plot()\n",
    "plt.title('Intraday Times Series for the MSFT stock (1 min)')\n",
    "plt.show()"
   ]
  },
  {
   "cell_type": "markdown",
   "metadata": {},
   "source": [
    "## Technical Indicators\n",
    "The same way we can get pandas to plot technical indicators like Bollinger Bands®"
   ]
  },
  {
   "cell_type": "code",
   "execution_count": null,
   "metadata": {},
   "outputs": [],
   "source": [
    "from alpha_vantage.techindicators import TechIndicators\n",
    "import matplotlib.pyplot as plt\n",
    "\n",
    "ti = TechIndicators(key='YOUR_API_KEY', output_format='pandas')\n",
    "data, meta_data = ti.get_bbands(symbol='MSFT', interval='60min', time_period=60)\n",
    "data.plot()\n",
    "plt.title('BBbands indicator for  MSFT stock (60 min)')\n",
    "plt.show()"
   ]
  },
  {
   "cell_type": "markdown",
   "metadata": {},
   "source": [
    "## Sector Performance\n",
    "We can also plot sector performance just as easy:"
   ]
  },
  {
   "cell_type": "code",
   "execution_count": null,
   "metadata": {},
   "outputs": [],
   "source": [
    "from alpha_vantage.sectorperformance import SectorPerformances\n",
    "import matplotlib.pyplot as plt\n",
    "\n",
    "sp = SectorPerformances(key='YOUR_API_KEY', output_format='pandas')\n",
    "data, meta_data = sp.get_sector()\n",
    "data['Rank A: Real-Time Performance'].plot(kind='bar')\n",
    "plt.title('Real Time Performance (%) per Sector')\n",
    "plt.tight_layout()\n",
    "plt.grid()\n",
    "plt.show()"
   ]
  },
  {
   "cell_type": "markdown",
   "metadata": {},
   "source": [
    "## Crypto Currencies\n",
    "We can also plot crypto currencies prices like BTC:"
   ]
  },
  {
   "cell_type": "code",
   "execution_count": null,
   "metadata": {},
   "outputs": [],
   "source": [
    "from alpha_vantage.cryptocurrencies import CryptoCurrencies\n",
    "import matplotlib.pyplot as plt\n",
    "\n",
    "cc = CryptoCurrencies(key='YOUR_API_KEY', output_format='pandas')\n",
    "data, meta_data = cc.get_digital_currency_daily(symbol='BTC', market='CNY')\n",
    "data['4b. close (USD)'].plot()\n",
    "plt.tight_layout()\n",
    "plt.title('Daily close value for bitcoin (BTC)')\n",
    "plt.grid()\n",
    "plt.show()"
   ]
  },
  {
   "cell_type": "markdown",
   "metadata": {},
   "source": [
    "## Foreign Exchange (FX)\n",
    "The foreign exchange endpoint has no metadata, thus only available as json format and pandas (using the 'csv' format will raise an Error)."
   ]
  },
  {
   "cell_type": "code",
   "execution_count": null,
   "metadata": {},
   "outputs": [],
   "source": [
    "from alpha_vantage.foreignexchange import ForeignExchange\n",
    "from pprint import pprint\n",
    "cc = ForeignExchange(key='YOUR_API_KEY')\n",
    "# There is no metadata in this call\n",
    "data, _ = cc.get_currency_exchange_rate(from_currency='BTC',to_currency='USD')\n",
    "pprint(data)"
   ]
  },
  {
   "cell_type": "markdown",
   "metadata": {},
   "source": [
    "## Asyncio support\n",
    "From version 2.2.0 on, asyncio support will now be available. This is only for python versions 3.5+. If you do not have 3.5+, the code will break.\n",
    "\n",
    "The syntax is simple, just mark your methods with the async keyword, and use the await keyword.\n",
    "\n",
    "Here is an example of a for loop for getting multiple symbols asyncronously. This greatly improving the performance of a program with multiple API calls."
   ]
  },
  {
   "cell_type": "code",
   "execution_count": null,
   "metadata": {},
   "outputs": [],
   "source": [
    "import asyncio\n",
    "from alpha_vantage.async_support.timeseries import TimeSeries\n",
    "\n",
    "symbols = ['AAPL', 'GOOG', 'TSLA', 'MSFT']\n",
    "\n",
    "\n",
    "async def get_data(symbol):\n",
    "    ts = TimeSeries(key='YOUR_KEY_HERE')\n",
    "    data, _ = await ts.get_quote_endpoint(symbol)\n",
    "    await ts.close()\n",
    "    return data\n",
    "\n",
    "loop = asyncio.get_event_loop()\n",
    "tasks = [get_data(symbol) for symbol in symbols]\n",
    "group1 = asyncio.gather(*tasks)\n",
    "results = loop.run_until_complete(group1)\n",
    "loop.close()\n",
    "print(results)"
   ]
  },
  {
   "cell_type": "markdown",
   "metadata": {},
   "source": [
    "We have written a much more in depth article to explain asyncio for those who have never used it but want to learn about asyncio, concurrency, and multi-threading. Check it out here: Which Should You Use: Asynchronous Programming or Multi-Threading?"
   ]
  },
  {
   "cell_type": "code",
   "execution_count": null,
   "metadata": {},
   "outputs": [],
   "source": []
  }
 ],
 "metadata": {
  "kernelspec": {
   "display_name": "Python 3",
   "language": "python",
   "name": "python3"
  },
  "language_info": {
   "codemirror_mode": {
    "name": "ipython",
    "version": 3
   },
   "file_extension": ".py",
   "mimetype": "text/x-python",
   "name": "python",
   "nbconvert_exporter": "python",
   "pygments_lexer": "ipython3",
   "version": "3.8.5"
  }
 },
 "nbformat": 4,
 "nbformat_minor": 4
}
